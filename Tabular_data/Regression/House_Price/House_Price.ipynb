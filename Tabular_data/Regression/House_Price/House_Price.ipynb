{
  "cells": [
    {
      "cell_type": "markdown",
      "source": [
        "# Before begins\n",
        "\n",
        "This notebook is written in google colab.\n",
        "\n",
        "To see some interactive plots, please enter the colab link Below.\n",
        "\n",
        "<a href=\"https://colab.research.google.com/drive/1n9XYmcvefp6rSD-rH7uZqfw3eVQ_cnxh?usp=sharing\" target=\"_parent\"><img src=\"https://colab.research.google.com/assets/colab-badge.svg\" alt=\"Open in Colab\"/></a>"
      ],
      "metadata": {
        "id": "L4cVRysV4PGQ"
      }
    },
    {
      "cell_type": "markdown",
      "source": [
        "# Overview\n",
        "\n",
        "\n",
        "## Competition Description\n",
        "\n",
        "<img src=\"https://storage.googleapis.com/kaggle-competitions/kaggle/5407/logos/thumb76_76.png\" width=50 align='left' alt=\"Open in Colab\" /></a>\n",
        "&nbsp; \n",
        "<font size=\"5\">[House Prices - Advanced Regression Techniques](https://www.kaggle.com/c/house-prices-advanced-regression-techniques)</font>\n",
        "\n",
        "<br>\n",
        "\n",
        "- Problem type: Regression\n",
        "  - Predicting the sale prices of residential homes in Ames, Iowa based on the aspects of the houses.\n",
        "- evaluation metric: Root Mean Squared Log Error (RMSLE)\n",
        "\n",
        "<br>\n",
        "\n",
        "## Notebook Description\n",
        "\n",
        "This notebook provides the '**proper workflow**' for kaggle submission.\n",
        "\n",
        "The workflow is divided into three main steps.\n",
        "1. Data preprocessing\n",
        "2. Model selection (hyper parameter tuning, model combination, model comparison)\n",
        "3. Training final model & Prediction on Test-set\n",
        "\n",
        "At each stage, detailed descriptions of the work and an appropriate procedure will be provided.\n",
        "\n",
        "Through this notebook, readers can learn the 'proper workflow' to be done for kaggle submission, \n",
        "and using this as a basic structure, someone will be able to apply this to other competitions easily with some adjustments\n",
        "\n",
        "**Warnings**:\n",
        "- The purpose of this notebook\n",
        "  - This notebook focuses on the 'procedure' rather than the 'result'. \n",
        "  - Thus this notebook does not guide you on how to achieve the top score. Since I personally think that any result can only have a meaning through an appropriate procedure.\n",
        "  - But since this is a competition, it cannot be avoided that the score is important. Following this notebook, you will get the top 15% (score: 0.12519) result in this competition\n",
        "\n",
        "- The readers this notebook is intended for\n",
        "  - Who are aware of the basic usage of data processing tools (e.g., numpy, pandas)\n",
        "  - Who are aware of the basic concepts of machine learning models \n"
      ],
      "metadata": {
        "id": "oMZThQ-Gxprz"
      }
    },
    {
      "cell_type": "markdown",
      "source": [
        "# 0. Configuration\n",
        "\n",
        "Set the configurations for this notebook"
      ],
      "metadata": {
        "id": "acEjn6Dy4Ypi"
      }
    },
    {
      "cell_type": "code",
      "source": [
        "config = {'data_name' : 'House_Price', \n",
        "          'random_state' : 2022\n",
        "}"
      ],
      "metadata": {
        "id": "HtDzBEzC4ZtT"
      },
      "execution_count": null,
      "outputs": []
    },
    {
      "cell_type": "markdown",
      "metadata": {
        "id": "gH2oJD3ezQD6"
      },
      "source": [
        "# 1. Data preprocessing\n",
        "\n",
        "The data preprocessing works are divided into 9 steps here.\n",
        "\n",
        "Some of these steps are mandatory and some are optional.\n",
        "\n",
        "Optional steps are marked separately.\n",
        "\n",
        "It is important to go through each step in order.\n",
        "Be careful not to reverse the order."
      ]
    },
    {
      "cell_type": "markdown",
      "source": [
        "## 1.1. Load Dataset\n",
        "\n",
        "Load train-set and test-set on working environment\n",
        "\n",
        "Please download the data from [(Kaggle) House Price](https://www.kaggle.com/c/house-prices-advanced-regression-techniques/data) and upload on your google drive in the path 'content/drive/MyDrive/Work/Kaggle/House_Price/Data'\n",
        "\n"
      ],
      "metadata": {
        "id": "8ZznimcOi1kR"
      }
    },
    {
      "cell_type": "markdown",
      "source": [
        "### > Mount Google Drive"
      ],
      "metadata": {
        "id": "TsffULqAsaRS"
      }
    },
    {
      "cell_type": "code",
      "execution_count": null,
      "metadata": {
        "colab": {
          "base_uri": "https://localhost:8080/"
        },
        "id": "6XtPKOJN3WPq",
        "outputId": "1ac80686-2f5e-4a41-ba15-637cb3307daf"
      },
      "outputs": [
        {
          "output_type": "stream",
          "name": "stdout",
          "text": [
            "Mounted at /content/drive\n"
          ]
        }
      ],
      "source": [
        "from google.colab import drive\n",
        "drive.mount('/content/drive')"
      ]
    },
    {
      "cell_type": "code",
      "execution_count": null,
      "metadata": {
        "id": "OmHiIN8l4HrR"
      },
      "outputs": [],
      "source": [
        "import numpy as np\n",
        "import pandas as pd\n",
        "\n",
        "train = pd.read_csv('/content/drive/MyDrive/Work/Kaggle/{}/Data/train.csv'.format(config['data_name']))\n",
        "test = pd.read_csv('/content/drive/MyDrive/Work/Kaggle/{}/Data/test.csv'.format(config['data_name']))"
      ]
    },
    {
      "cell_type": "markdown",
      "source": [
        "### > Concatenate the 'train' and 'test' data for preprocessing\n",
        "\n",
        "Data preprocessing work should be applied equally for train-set and test-set.\n",
        "\n",
        "In order to work at once, exclude the output variable 'SalePrice' from 'train' and combine 'train' with 'test'."
      ],
      "metadata": {
        "id": "flESEXl1i5tO"
      }
    },
    {
      "cell_type": "code",
      "source": [
        "all_features = pd.concat((train.drop(['Id','SalePrice'], axis=1), test.drop(['Id'], axis=1)), axis=0)\n",
        "\n",
        "y_train = train['SalePrice']"
      ],
      "metadata": {
        "id": "RhCV1ZVk4fZz"
      },
      "execution_count": null,
      "outputs": []
    },
    {
      "cell_type": "markdown",
      "metadata": {
        "id": "Fia79Yb4YfnR"
      },
      "source": [
        "## 1-2. Missing Value Treatment\n",
        "\n",
        "Missing (NA) values in Data must be treated properly before model training.\n",
        "\n",
        "There are three main treatment methods:\n",
        "1. Remove the variables which have NA values\n",
        "2. Remove the rows (observations) which have NA values\n",
        "3. Impute the NA values with other values\n",
        "\n",
        "Which of the above methods is chosen depends on the analyst's discretion.\n",
        "It is important to choose the appropriate method for the situation."
      ]
    },
    {
      "cell_type": "code",
      "execution_count": null,
      "metadata": {
        "id": "SqnXaKxJ9Rxw",
        "colab": {
          "base_uri": "https://localhost:8080/",
          "height": 1000
        },
        "outputId": "554191e5-b03b-48e3-cfaa-6e5076cdb3a3"
      },
      "outputs": [
        {
          "output_type": "execute_result",
          "data": {
            "text/plain": [
              "<matplotlib.axes._subplots.AxesSubplot at 0x7f88a7563510>"
            ]
          },
          "metadata": {},
          "execution_count": 58
        },
        {
          "output_type": "display_data",
          "data": {
            "image/png": "[encoded data removed]",
            "text/plain": [
              "<Figure size 1800x1944 with 3 Axes>"
            ]
          },
          "metadata": {
            "needs_background": "light"
          }
        }
      ],
      "source": [
        "import missingno as msno\n",
        "msno.bar(all_features)"
      ]
    },
    {
      "cell_type": "markdown",
      "metadata": {
        "id": "VVzypD6TWRDw"
      },
      "source": [
        "### > Categorical variables\n",
        "- Method:\n",
        "  - Replace 'NA' with 'None'\n",
        "  - Replace 'NA' with 'Mode values'\n",
        "  - Drop variables\n"
      ]
    },
    {
      "cell_type": "markdown",
      "source": [
        "#### >> Replace 'NA' with 'None'\n",
        "\n",
        "According to the data description, 'NA' values ​​in some variables indicate that the value is not missing, but has the meaning of 'None'.\n",
        "\n",
        "For example, 'NA' in 'GarageType' represents that the garage does not exist in the house."
      ],
      "metadata": {
        "id": "irZ090wxDikm"
      }
    },
    {
      "cell_type": "code",
      "execution_count": null,
      "metadata": {
        "id": "JPIPabbdrMy9"
      },
      "outputs": [],
      "source": [
        "# NA <- None\n",
        "NA_None_list = ['FireplaceQu', 'GarageType', 'GarageFinish', 'GarageQual', 'GarageCond', 'BsmtQual', \n",
        "           'BsmtCond', 'BsmtExposure', 'BsmtFinType1', 'BsmtFinType2', 'MasVnrType']\n",
        "df = all_features.loc[:,NA_None_list]\n",
        "\n",
        "all_features.loc[:,NA_None_list] = df.fillna('None')   "
      ]
    },
    {
      "cell_type": "markdown",
      "source": [
        "#### >> Replace 'NA' with mode() value"
      ],
      "metadata": {
        "id": "XdmQqbaGdx0i"
      }
    },
    {
      "cell_type": "code",
      "execution_count": null,
      "metadata": {
        "id": "urrRY559q569"
      },
      "outputs": [],
      "source": [
        "# NA <- Mode value\n",
        "NA_Mode_list = ['MSZoning', 'Functional', 'Electrical', 'KitchenQual', 'SaleType', \n",
        "                'Exterior1st', 'Exterior2nd', 'Utilities']\n",
        "df = all_features.loc[:, NA_Mode_list]\n",
        "\n",
        "all_features.loc[:, NA_Mode_list] = df.fillna(df.mode().iloc[0])"
      ]
    },
    {
      "cell_type": "markdown",
      "source": [
        "#### >> Drop variables\n",
        "\n",
        "Remove variables with a ratio of NA values ​​greater than 50%"
      ],
      "metadata": {
        "id": "MWTSwuMzd_yb"
      }
    },
    {
      "cell_type": "code",
      "execution_count": null,
      "metadata": {
        "id": "Ju1_RH7302FD"
      },
      "outputs": [],
      "source": [
        "# NA <- Drop\n",
        "NA_drop_list = all_features.columns[(all_features.isnull().sum()/all_features.shape[0])>0.5]\n",
        "all_features.drop(NA_drop_list, axis=1, inplace=True)"
      ]
    },
    {
      "cell_type": "markdown",
      "metadata": {
        "id": "oqyeVOJeWZ7y"
      },
      "source": [
        "### > Numeric variables\n",
        "- Method:\n",
        "  - Replace NA by 'median value' of the variable grouped by another (relevant) categorical variable\n",
        "  - Replace NA by 'prediction value' of the linear model with relevant input variable \n",
        "  - Replace NA by values of the other (closely related) variable\n",
        "  - Replace NA by '0' \n",
        "  "
      ]
    },
    {
      "cell_type": "markdown",
      "source": [
        "#### >> Replace NA by 'median value' of the variable grouped by another (relevant) categorical variable\n",
        "\n",
        "The figures below show that the distribution of y-axis variable is different depending on the x-axis variable values.\n",
        "\n",
        "(ANOVA test is used to determine whether the differences between groups are significant.)"
      ],
      "metadata": {
        "id": "0gfpKqcYH-MC"
      }
    },
    {
      "cell_type": "code",
      "execution_count": null,
      "metadata": {
        "colab": {
          "base_uri": "https://localhost:8080/",
          "height": 470
        },
        "id": "ULkKmBjV6xVW",
        "outputId": "4f595bd8-9c33-417f-a1d8-50529b25399d"
      },
      "outputs": [
        {
          "output_type": "display_data",
          "data": {
            "text/html": [
              "<html>\n",
              "<head><meta charset=\"utf-8\" /></head>\n",
              "<body>\n",
              "    <div>            <script src=\"https://cdnjs.cloudflare.com/ajax/libs/mathjax/2.7.5/MathJax.js?config=TeX-AMS-MML_SVG\"></script><script type=\"text/javascript\">if (window.MathJax) {MathJax.Hub.Config({SVG: {font: \"STIX-Web\"}});}</script>                <script type=\"text/javascript\">window.PlotlyConfig = {MathJaxConfig: 'local'};</script>\n",
              "        <script src=\"https://cdn.plot.ly/plotly-2.8.3.min.js\"></script>                <div id=\"ba643839-f05d-4d48-a23b-8f741392b526\" class=\"plotly-graph-div\" style=\"height:400px; width:800px;\"></div>            <script type=\"text/javascript\">                                    window.PLOTLYENV=window.PLOTLYENV || {};                                    if (document.getElementById(\"ba643839-f05d-4d48-a23b-8f741392b526\")) {                    Plotly.newPlot(                        \"ba643839-f05d-4d48-a23b-8f741392b526\",                        [{\"alignmentgroup\":\"True\",\"hovertemplate\":\"Neighborhood=%{x}<br>LotFrontage=%{y}<extra></extra>\",\"legendgroup\":\"CollgCr\",\"marker\":{\"color\":\"#636efa\"},\"name\":\"CollgCr\",\"notched\":false,\"offsetgroup\":\"CollgCr\",\"orientation\":\"v\",\"showlegend\":true,\"x\":[\"CollgCr\",\"CollgCr\",\"CollgCr\",\"CollgCr\",\"CollgCr\",\"CollgCr\",\"CollgCr\",\"CollgCr\",\"CollgCr\",\"CollgCr\",\"CollgCr\",\"CollgCr\",\"CollgCr\",\"CollgCr\",\"CollgCr\",\"CollgCr\",\"CollgCr\",\"CollgCr\",\"CollgCr\",\"CollgCr\",\"CollgCr\",\"CollgCr\",\"CollgCr\",\"CollgCr\",\"CollgCr\",\"CollgCr\",\"CollgCr\",\"CollgCr\",\"CollgCr\",\"CollgCr\",\"CollgCr\",\"CollgCr\",\"CollgCr\",\"CollgCr\",\"CollgCr\",\"CollgCr\",\"CollgCr\",\"CollgCr\",\"CollgCr\",\"CollgCr\",\"CollgCr\",\"CollgCr\",\"CollgCr\",\"CollgCr\",\"CollgCr\",\"CollgCr\",\"CollgCr\",\"CollgCr\",\"CollgCr\",\"CollgCr\",\"CollgCr\",\"CollgCr\",\"CollgCr\",\"CollgCr\",\"CollgCr\",\"CollgCr\",\"CollgCr\",\"CollgCr\",\"CollgCr\",\"CollgCr\",\"CollgCr\",\"CollgCr\",\"CollgCr\",\"CollgCr\",\"CollgCr\",\"CollgCr\",\"CollgCr\",\"CollgCr\",\"CollgCr\",\"CollgCr\",\"CollgCr\",\"CollgCr\",\"CollgCr\",\"CollgCr\",\"CollgCr\",\"CollgCr\",\"CollgCr\",\"CollgCr\",\"CollgCr\",\"CollgCr\",\"CollgCr\",\"CollgCr\",\"CollgCr\",\"CollgCr\",\"CollgCr\",\"CollgCr\",\"CollgCr\",\"CollgCr\",\"CollgCr\",\"CollgCr\",\"CollgCr\",\"CollgCr\",\"CollgCr\",\"CollgCr\",\"CollgCr\",\"CollgCr\",\"CollgCr\",\"CollgCr\",\"CollgCr\",\"CollgCr\",\"CollgCr\",\"CollgCr\",\"CollgCr\",\"CollgCr\",\"CollgCr\",\"CollgCr\",\"CollgCr\",\"CollgCr\",\"CollgCr\",\"CollgCr\",\"CollgCr\",\"CollgCr\",\"CollgCr\",\"CollgCr\",\"CollgCr\",\"CollgCr\",\"CollgCr\",\"CollgCr\",\"CollgCr\",\"CollgCr\",\"CollgCr\",\"CollgCr\",\"CollgCr\",\"CollgCr\",\"CollgCr\",\"CollgCr\",\"CollgCr\",\"CollgCr\",\"CollgCr\",\"CollgCr\",\"CollgCr\",\"CollgCr\",\"CollgCr\",\"CollgCr\",\"CollgCr\",\"CollgCr\",\"CollgCr\",\"CollgCr\",\"CollgCr\",\"CollgCr\",\"CollgCr\",\"CollgCr\",\"CollgCr\",\"CollgCr\",\"CollgCr\",\"CollgCr\",\"CollgCr\",\"CollgCr\",\"CollgCr\",\"CollgCr\",\"CollgCr\",\"CollgCr\",\"CollgCr\",\"CollgCr\",\"CollgCr\",\"CollgCr\",\"CollgCr\",\"CollgCr\",\"CollgCr\",\"CollgCr\",\"CollgCr\",\"CollgCr\",\"CollgCr\",\"CollgCr\",\"CollgCr\",\"CollgCr\",\"CollgCr\",\"CollgCr\",\"CollgCr\",\"CollgCr\",\"CollgCr\",\"CollgCr\",\"CollgCr\",\"CollgCr\",\"CollgCr\",\"CollgCr\",\"CollgCr\",\"CollgCr\",\"CollgCr\",\"CollgCr\",\"CollgCr\",\"CollgCr\",\"CollgCr\",\"CollgCr\",\"CollgCr\",\"CollgCr\",\"CollgCr\",\"CollgCr\",\"CollgCr\",\"CollgCr\",\"CollgCr\",\"CollgCr\",\"CollgCr\",\"CollgCr\",\"CollgCr\",\"CollgCr\",\"CollgCr\",\"CollgCr\",\"CollgCr\",\"CollgCr\",\"CollgCr\",\"CollgCr\",\"CollgCr\",\"CollgCr\",\"CollgCr\",\"CollgCr\",\"CollgCr\",\"CollgCr\",\"CollgCr\",\"CollgCr\",\"CollgCr\",\"CollgCr\",\"CollgCr\",\"CollgCr\",\"CollgCr\",\"CollgCr\",\"CollgCr\",\"CollgCr\",\"CollgCr\",\"CollgCr\",\"CollgCr\",\"CollgCr\",\"CollgCr\",\"CollgCr\",\"CollgCr\",\"CollgCr\",\"CollgCr\",\"CollgCr\",\"CollgCr\",\"CollgCr\",\"CollgCr\",\"CollgCr\",\"CollgCr\",\"CollgCr\",\"CollgCr\",\"CollgCr\",\"CollgCr\",\"CollgCr\",\"CollgCr\",\"CollgCr\",\"CollgCr\",\"CollgCr\",\"CollgCr\",\"CollgCr\",\"CollgCr\",\"CollgCr\",\"CollgCr\",\"CollgCr\",\"CollgCr\",\"CollgCr\",\"CollgCr\",\"CollgCr\",\"CollgCr\",\"CollgCr\",\"CollgCr\",\"CollgCr\",\"CollgCr\",\"CollgCr\",\"CollgCr\",\"CollgCr\",\"CollgCr\",\"CollgCr\",\"CollgCr\",\"CollgCr\",\"CollgCr\",\"CollgCr\",\"CollgCr\"],\"x0\":\" \",\"xaxis\":\"x\",\"y\":[65.0,68.0,91.0,75.0,85.0,112.0,null,89.0,60.0,null,72.0,60.0,69.0,78.0,94.0,77.0,65.0,73.0,65.0,78.0,78.0,120.0,68.0,60.0,null,43.0,null,65.0,73.0,75.0,65.0,72.0,68.0,80.0,69.0,120.0,66.0,118.0,70.0,80.0,70.0,105.0,65.0,57.0,79.0,93.0,60.0,65.0,64.0,43.0,70.0,60.0,75.0,79.0,null,57.0,null,64.0,null,88.0,88.0,82.0,null,null,70.0,64.0,90.0,null,70.0,69.0,null,64.0,75.0,65.0,79.0,68.0,70.0,86.0,67.0,63.0,null,48.0,72.0,44.0,75.0,36.0,36.0,null,70.0,null,null,null,63.0,73.0,65.0,60.0,65.0,122.0,null,68.0,64.0,65.0,73.0,64.0,70.0,null,null,57.0,103.0,90.0,74.0,37.0,65.0,70.0,78.0,84.0,77.0,64.0,68.0,70.0,80.0,75.0,70.0,41.0,65.0,75.0,67.0,61.0,60.0,68.0,61.0,null,55.0,95.0,120.0,null,85.0,null,68.0,null,48.0,75.0,70.0,64.0,70.0,79.0,37.0,null,63.0,80.0,64.0,82.0,null,38.0,68.0,80.0,75.0,null,84.0,65.0,71.0,77.0,64.0,95.0,78.0,79.0,65.0,65.0,70.0,65.0,75.0,null,76.0,90.0,null,70.0,null,90.0,null,70.0,85.0,85.0,65.0,65.0,91.0,91.0,65.0,null,null,68.0,75.0,null,null,40.0,null,null,null,41.0,96.0,null,83.0,75.0,85.0,74.0,71.0,93.0,66.0,75.0,73.0,64.0,78.0,null,57.0,60.0,70.0,47.0,43.0,68.0,null,97.0,59.0,72.0,45.0,39.0,75.0,60.0,60.0,null,70.0,65.0,73.0,null,null,73.0,70.0,65.0,64.0,64.0,64.0,133.0,64.0,90.0,78.0,91.0,78.0,78.0,95.0,65.0,null,68.0,72.0,50.0,42.0,60.0,null,45.0,null,70.0,67.0,null,90.0,90.0,37.0,70.0,74.0,70.0,65.0],\"y0\":\" \",\"yaxis\":\"y\",\"type\":\"box\"},{\"alignmentgroup\":\"True\",\"hovertemplate\":\"Neighborhood=%{x}<br>LotFrontage=%{y}<extra></extra>\",\"legendgroup\":\"Veenker\",\"marker\":{\"color\":\"#EF553B\"},\"name\":\"Veenker\",\"notched\":false,\"offsetgroup\":\"Veenker\",\"orientation\":\"v\",\"showlegend\":true,\"x\":[\"Veenker\",\"Veenker\",\"Veenker\",\"Veenker\",\"Veenker\",\"Veenker\",\"Veenker\",\"Veenker\",\"Veenker\",\"Veenker\",\"Veenker\",\"Veenker\",\"Veenker\",\"Veenker\",\"Veenker\",\"Veenker\",\"Veenker\",\"Veenker\",\"Veenker\",\"Veenker\",\"Veenker\",\"Veenker\",\"Veenker\",\"Veenker\"],\"x0\":\" \",\"xaxis\":\"x\",\"y\":[80.0,68.0,null,32.0,38.0,null,30.0,80.0,90.0,null,null,null,null,110.0,80.0,95.0,22.0,null,103.0,null,50.0,80.0,94.0,100.0],\"y0\":\" \",\"yaxis\":\"y\",\"type\":\"box\"},{\"alignmentgroup\":\"True\",\"hovertemplate\":\"Neighborhood=%{x}<br>LotFrontage=%{y}<extra></extra>\",\"legendgroup\":\"Crawfor\",\"marker\":{\"color\":\"#00cc96\"},\"name\":\"Crawfor\",\"notched\":false,\"offsetgroup\":\"Crawfor\",\"orientation\":\"v\",\"showlegend\":true,\"x\":[\"Crawfor\",\"Crawfor\",\"Crawfor\",\"Crawfor\",\"Crawfor\",\"Crawfor\",\"Crawfor\",\"Crawfor\",\"Crawfor\",\"Crawfor\",\"Crawfor\",\"Crawfor\",\"Crawfor\",\"Crawfor\",\"Crawfor\",\"Crawfor\",\"Crawfor\",\"Crawfor\",\"Crawfor\",\"Crawfor\",\"Crawfor\",\"Crawfor\",\"Crawfor\",\"Crawfor\",\"Crawfor\",\"Crawfor\",\"Crawfor\",\"Crawfor\",\"Crawfor\",\"Crawfor\",\"Crawfor\",\"Crawfor\",\"Crawfor\",\"Crawfor\",\"Crawfor\",\"Crawfor\",\"Crawfor\",\"Crawfor\",\"Crawfor\",\"Crawfor\",\"Crawfor\",\"Crawfor\",\"Crawfor\",\"Crawfor\",\"Crawfor\",\"Crawfor\",\"Crawfor\",\"Crawfor\",\"Crawfor\",\"Crawfor\",\"Crawfor\",\"Crawfor\",\"Crawfor\",\"Crawfor\",\"Crawfor\",\"Crawfor\",\"Crawfor\",\"Crawfor\",\"Crawfor\",\"Crawfor\",\"Crawfor\",\"Crawfor\",\"Crawfor\",\"Crawfor\",\"Crawfor\",\"Crawfor\",\"Crawfor\",\"Crawfor\",\"Crawfor\",\"Crawfor\",\"Crawfor\",\"Crawfor\",\"Crawfor\",\"Crawfor\",\"Crawfor\",\"Crawfor\",\"Crawfor\",\"Crawfor\",\"Crawfor\",\"Crawfor\",\"Crawfor\",\"Crawfor\",\"Crawfor\",\"Crawfor\",\"Crawfor\",\"Crawfor\",\"Crawfor\",\"Crawfor\",\"Crawfor\",\"Crawfor\",\"Crawfor\",\"Crawfor\",\"Crawfor\",\"Crawfor\",\"Crawfor\",\"Crawfor\",\"Crawfor\",\"Crawfor\",\"Crawfor\",\"Crawfor\",\"Crawfor\",\"Crawfor\",\"Crawfor\"],\"x0\":\" \",\"xaxis\":\"x\",\"y\":[60.0,80.0,null,61.0,54.0,70.0,null,44.0,80.0,90.0,63.0,86.0,40.0,74.0,100.0,55.0,53.0,null,80.0,78.0,60.0,80.0,110.0,null,53.0,55.0,86.0,82.0,82.0,130.0,55.0,50.0,null,75.0,75.0,90.0,null,80.0,54.0,64.0,96.0,null,null,53.0,null,100.0,57.0,44.0,null,79.0,66.0,78.0,78.0,85.0,44.0,64.0,53.0,60.0,80.0,null,70.0,90.0,78.0,100.0,null,null,44.0,66.0,63.0,54.0,null,null,null,79.0,100.0,70.0,56.0,44.0,44.0,54.0,51.0,63.0,53.0,53.0,60.0,126.0,110.0,79.0,null,null,null,null,70.0,59.0,54.0,66.0,80.0,81.0,70.0,70.0,78.0,41.0,44.0],\"y0\":\" \",\"yaxis\":\"y\",\"type\":\"box\"},{\"alignmentgroup\":\"True\",\"hovertemplate\":\"Neighborhood=%{x}<br>LotFrontage=%{y}<extra></extra>\",\"legendgroup\":\"NoRidge\",\"marker\":{\"color\":\"#ab63fa\"},\"name\":\"NoRidge\",\"notched\":false,\"offsetgroup\":\"NoRidge\",\"orientation\":\"v\",\"showlegend\":true,\"x\":[\"NoRidge\",\"NoRidge\",\"NoRidge\",\"NoRidge\",\"NoRidge\",\"NoRidge\",\"NoRidge\",\"NoRidge\",\"NoRidge\",\"NoRidge\",\"NoRidge\",\"NoRidge\",\"NoRidge\",\"NoRidge\",\"NoRidge\",\"NoRidge\",\"NoRidge\",\"NoRidge\",\"NoRidge\",\"NoRidge\",\"NoRidge\",\"NoRidge\",\"NoRidge\",\"NoRidge\",\"NoRidge\",\"NoRidge\",\"NoRidge\",\"NoRidge\",\"NoRidge\",\"NoRidge\",\"NoRidge\",\"NoRidge\",\"NoRidge\",\"NoRidge\",\"NoRidge\",\"NoRidge\",\"NoRidge\",\"NoRidge\",\"NoRidge\",\"NoRidge\",\"NoRidge\",\"NoRidge\",\"NoRidge\",\"NoRidge\",\"NoRidge\",\"NoRidge\",\"NoRidge\",\"NoRidge\",\"NoRidge\",\"NoRidge\",\"NoRidge\",\"NoRidge\",\"NoRidge\",\"NoRidge\",\"NoRidge\",\"NoRidge\",\"NoRidge\",\"NoRidge\",\"NoRidge\",\"NoRidge\",\"NoRidge\",\"NoRidge\",\"NoRidge\",\"NoRidge\",\"NoRidge\",\"NoRidge\",\"NoRidge\",\"NoRidge\",\"NoRidge\",\"NoRidge\",\"NoRidge\"],\"x0\":\" \",\"xaxis\":\"x\",\"y\":[84.0,121.0,82.0,174.0,92.0,90.0,78.0,93.0,80.0,null,79.0,95.0,null,null,91.0,52.0,58.0,104.0,96.0,59.0,65.0,82.0,92.0,98.0,82.0,null,null,98.0,118.0,85.0,160.0,89.0,91.0,92.0,null,108.0,107.0,56.0,null,null,81.0,60.0,85.0,88.0,106.0,null,79.0,null,null,84.0,null,136.0,97.0,null,91.0,null,105.0,100.0,89.0,74.0,83.0,88.0,82.0,84.0,83.0,null,83.0,114.0,null,null,105.0],\"y0\":\" \",\"yaxis\":\"y\",\"type\":\"box\"},{\"alignmentgroup\":\"True\",\"hovertemplate\":\"Neighborhood=%{x}<br>LotFrontage=%{y}<extra></extra>\",\"legendgroup\":\"Mitchel\",\"marker\":{\"color\":\"#FFA15A\"},\"name\":\"Mitchel\",\"notched\":false,\"offsetgroup\":\"Mitchel\",\"orientation\":\"v\",\"showlegend\":true,\"x\":[\"Mitchel\",\"Mitchel\",\"Mitchel\",\"Mitchel\",\"Mitchel\",\"Mitchel\",\"Mitchel\",\"Mitchel\",\"Mitchel\",\"Mitchel\",\"Mitchel\",\"Mitchel\",\"Mitchel\",\"Mitchel\",\"Mitchel\",\"Mitchel\",\"Mitchel\",\"Mitchel\",\"Mitchel\",\"Mitchel\",\"Mitchel\",\"Mitchel\",\"Mitchel\",\"Mitchel\",\"Mitchel\",\"Mitchel\",\"Mitchel\",\"Mitchel\",\"Mitchel\",\"Mitchel\",\"Mitchel\",\"Mitchel\",\"Mitchel\",\"Mitchel\",\"Mitchel\",\"Mitchel\",\"Mitchel\",\"Mitchel\",\"Mitchel\",\"Mitchel\",\"Mitchel\",\"Mitchel\",\"Mitchel\",\"Mitchel\",\"Mitchel\",\"Mitchel\",\"Mitchel\",\"Mitchel\",\"Mitchel\",\"Mitchel\",\"Mitchel\",\"Mitchel\",\"Mitchel\",\"Mitchel\",\"Mitchel\",\"Mitchel\",\"Mitchel\",\"Mitchel\",\"Mitchel\",\"Mitchel\",\"Mitchel\",\"Mitchel\",\"Mitchel\",\"Mitchel\",\"Mitchel\",\"Mitchel\",\"Mitchel\",\"Mitchel\",\"Mitchel\",\"Mitchel\",\"Mitchel\",\"Mitchel\",\"Mitchel\",\"Mitchel\",\"Mitchel\",\"Mitchel\",\"Mitchel\",\"Mitchel\",\"Mitchel\",\"Mitchel\",\"Mitchel\",\"Mitchel\",\"Mitchel\",\"Mitchel\",\"Mitchel\",\"Mitchel\",\"Mitchel\",\"Mitchel\",\"Mitchel\",\"Mitchel\",\"Mitchel\",\"Mitchel\",\"Mitchel\",\"Mitchel\",\"Mitchel\",\"Mitchel\",\"Mitchel\",\"Mitchel\",\"Mitchel\",\"Mitchel\",\"Mitchel\",\"Mitchel\",\"Mitchel\",\"Mitchel\",\"Mitchel\",\"Mitchel\",\"Mitchel\",\"Mitchel\",\"Mitchel\",\"Mitchel\",\"Mitchel\",\"Mitchel\",\"Mitchel\",\"Mitchel\"],\"x0\":\" \",\"xaxis\":\"x\",\"y\":[85.0,48.0,69.0,32.0,82.0,null,75.0,76.0,129.0,37.0,null,71.0,78.0,100.0,63.0,32.0,71.0,54.0,77.0,60.0,70.0,75.0,32.0,78.0,null,null,null,94.0,null,55.0,100.0,null,75.0,43.0,100.0,63.0,null,76.0,37.0,null,null,null,62.0,94.0,60.0,null,80.0,null,90.0,85.0,74.0,null,85.0,93.0,null,50.0,76.0,70.0,63.0,68.0,76.0,74.0,75.0,75.0,72.0,82.0,75.0,83.0,50.0,62.0,70.0,62.0,70.0,null,null,76.0,74.0,97.0,77.0,32.0,150.0,null,59.0,60.0,74.0,null,80.0,44.0,null,null,82.0,200.0,62.0,72.0,null,61.0,68.0,50.0,124.0,null,65.0,62.0,69.0,65.0,70.0,140.0,125.0,78.0,58.0,null,80.0,160.0,62.0,74.0],\"y0\":\" \",\"yaxis\":\"y\",\"type\":\"box\"},{\"alignmentgroup\":\"True\",\"hovertemplate\":\"Neighborhood=%{x}<br>LotFrontage=%{y}<extra></extra>\",\"legendgroup\":\"Somerst\",\"marker\":{\"color\":\"#19d3f3\"},\"name\":\"Somerst\",\"notched\":false,\"offsetgroup\":\"Somerst\",\"orientation\":\"v\",\"showlegend\":true,\"x\":[\"Somerst\",\"Somerst\",\"Somerst\",\"Somerst\",\"Somerst\",\"Somerst\",\"Somerst\",\"Somerst\",\"Somerst\",\"Somerst\",\"Somerst\",\"Somerst\",\"Somerst\",\"Somerst\",\"Somerst\",\"Somerst\",\"Somerst\",\"Somerst\",\"Somerst\",\"Somerst\",\"Somerst\",\"Somerst\",\"Somerst\",\"Somerst\",\"Somerst\",\"Somerst\",\"Somerst\",\"Somerst\",\"Somerst\",\"Somerst\",\"Somerst\",\"Somerst\",\"Somerst\",\"Somerst\",\"Somerst\",\"Somerst\",\"Somerst\",\"Somerst\",\"Somerst\",\"Somerst\",\"Somerst\",\"Somerst\",\"Somerst\",\"Somerst\",\"Somerst\",\"Somerst\",\"Somerst\",\"Somerst\",\"Somerst\",\"Somerst\",\"Somerst\",\"Somerst\",\"Somerst\",\"Somerst\",\"Somerst\",\"Somerst\",\"Somerst\",\"Somerst\",\"Somerst\",\"Somerst\",\"Somerst\",\"Somerst\",\"Somerst\",\"Somerst\",\"Somerst\",\"Somerst\",\"Somerst\",\"Somerst\",\"Somerst\",\"Somerst\",\"Somerst\",\"Somerst\",\"Somerst\",\"Somerst\",\"Somerst\",\"Somerst\",\"Somerst\",\"Somerst\",\"Somerst\",\"Somerst\",\"Somerst\",\"Somerst\",\"Somerst\",\"Somerst\",\"Somerst\",\"Somerst\",\"Somerst\",\"Somerst\",\"Somerst\",\"Somerst\",\"Somerst\",\"Somerst\",\"Somerst\",\"Somerst\",\"Somerst\",\"Somerst\",\"Somerst\",\"Somerst\",\"Somerst\",\"Somerst\",\"Somerst\",\"Somerst\",\"Somerst\",\"Somerst\",\"Somerst\",\"Somerst\",\"Somerst\",\"Somerst\",\"Somerst\",\"Somerst\",\"Somerst\",\"Somerst\",\"Somerst\",\"Somerst\",\"Somerst\",\"Somerst\",\"Somerst\",\"Somerst\",\"Somerst\",\"Somerst\",\"Somerst\",\"Somerst\",\"Somerst\",\"Somerst\",\"Somerst\",\"Somerst\",\"Somerst\",\"Somerst\",\"Somerst\",\"Somerst\",\"Somerst\",\"Somerst\",\"Somerst\",\"Somerst\",\"Somerst\",\"Somerst\",\"Somerst\",\"Somerst\",\"Somerst\",\"Somerst\",\"Somerst\",\"Somerst\",\"Somerst\",\"Somerst\",\"Somerst\",\"Somerst\",\"Somerst\",\"Somerst\",\"Somerst\",\"Somerst\",\"Somerst\",\"Somerst\",\"Somerst\",\"Somerst\",\"Somerst\",\"Somerst\",\"Somerst\",\"Somerst\",\"Somerst\",\"Somerst\",\"Somerst\",\"Somerst\",\"Somerst\",\"Somerst\",\"Somerst\",\"Somerst\",\"Somerst\",\"Somerst\",\"Somerst\",\"Somerst\",\"Somerst\",\"Somerst\",\"Somerst\",\"Somerst\",\"Somerst\",\"Somerst\",\"Somerst\",\"Somerst\",\"Somerst\",\"Somerst\",\"Somerst\",\"Somerst\"],\"x0\":\" \",\"xaxis\":\"x\",\"y\":[75.0,84.0,24.0,78.0,40.0,75.0,34.0,100.0,null,79.0,72.0,75.0,64.0,84.0,60.0,74.0,35.0,66.0,75.0,102.0,60.0,65.0,85.0,null,75.0,75.0,75.0,75.0,62.0,75.0,34.0,30.0,null,null,85.0,65.0,49.0,84.0,null,59.0,34.0,24.0,72.0,75.0,76.0,91.0,81.0,24.0,30.0,72.0,75.0,50.0,116.0,30.0,84.0,75.0,24.0,95.0,null,35.0,65.0,75.0,85.0,37.0,24.0,92.0,35.0,24.0,85.0,72.0,86.0,83.0,65.0,35.0,73.0,47.0,75.0,85.0,null,30.0,null,85.0,49.0,85.0,78.0,62.0,73.0,92.0,84.0,25.0,39.0,30.0,24.0,24.0,null,null,57.0,68.0,80.0,70.0,null,null,86.0,78.0,85.0,76.0,85.0,90.0,72.0,112.0,75.0,84.0,65.0,85.0,68.0,65.0,32.0,null,null,34.0,35.0,74.0,73.0,80.0,87.0,72.0,85.0,62.0,37.0,30.0,30.0,24.0,null,null,42.0,35.0,24.0,79.0,24.0,24.0,36.0,null,75.0,91.0,76.0,98.0,85.0,74.0,70.0,70.0,75.0,72.0,75.0,72.0,81.0,112.0,84.0,100.0,85.0,45.0,80.0,32.0,40.0,30.0,24.0,24.0,73.0,null,106.0,75.0,75.0,49.0,85.0,72.0,100.0,65.0,34.0,24.0,null,null,114.0,60.0],\"y0\":\" \",\"yaxis\":\"y\",\"type\":\"box\"},{\"alignmentgroup\":\"True\",\"hovertemplate\":\"Neighborhood=%{x}<br>LotFrontage=%{y}<extra></extra>\",\"legendgroup\":\"NWAmes\",\"marker\":{\"color\":\"#FF6692\"},\"name\":\"NWAmes\",\"notched\":false,\"offsetgroup\":\"NWAmes\",\"orientation\":\"v\",\"showlegend\":true,\"x\":[\"NWAmes\",\"NWAmes\",\"NWAmes\",\"NWAmes\",\"NWAmes\",\"NWAmes\",\"NWAmes\",\"NWAmes\",\"NWAmes\",\"NWAmes\",\"NWAmes\",\"NWAmes\",\"NWAmes\",\"NWAmes\",\"NWAmes\",\"NWAmes\",\"NWAmes\",\"NWAmes\",\"NWAmes\",\"NWAmes\",\"NWAmes\",\"NWAmes\",\"NWAmes\",\"NWAmes\",\"NWAmes\",\"NWAmes\",\"NWAmes\",\"NWAmes\",\"NWAmes\",\"NWAmes\",\"NWAmes\",\"NWAmes\",\"NWAmes\",\"NWAmes\",\"NWAmes\",\"NWAmes\",\"NWAmes\",\"NWAmes\",\"NWAmes\",\"NWAmes\",\"NWAmes\",\"NWAmes\",\"NWAmes\",\"NWAmes\",\"NWAmes\",\"NWAmes\",\"NWAmes\",\"NWAmes\",\"NWAmes\",\"NWAmes\",\"NWAmes\",\"NWAmes\",\"NWAmes\",\"NWAmes\",\"NWAmes\",\"NWAmes\",\"NWAmes\",\"NWAmes\",\"NWAmes\",\"NWAmes\",\"NWAmes\",\"NWAmes\",\"NWAmes\",\"NWAmes\",\"NWAmes\",\"NWAmes\",\"NWAmes\",\"NWAmes\",\"NWAmes\",\"NWAmes\",\"NWAmes\",\"NWAmes\",\"NWAmes\",\"NWAmes\",\"NWAmes\",\"NWAmes\",\"NWAmes\",\"NWAmes\",\"NWAmes\",\"NWAmes\",\"NWAmes\",\"NWAmes\",\"NWAmes\",\"NWAmes\",\"NWAmes\",\"NWAmes\",\"NWAmes\",\"NWAmes\",\"NWAmes\",\"NWAmes\",\"NWAmes\",\"NWAmes\",\"NWAmes\",\"NWAmes\",\"NWAmes\",\"NWAmes\",\"NWAmes\",\"NWAmes\",\"NWAmes\",\"NWAmes\",\"NWAmes\",\"NWAmes\",\"NWAmes\",\"NWAmes\",\"NWAmes\",\"NWAmes\",\"NWAmes\",\"NWAmes\",\"NWAmes\",\"NWAmes\",\"NWAmes\",\"NWAmes\",\"NWAmes\",\"NWAmes\",\"NWAmes\",\"NWAmes\",\"NWAmes\",\"NWAmes\",\"NWAmes\",\"NWAmes\",\"NWAmes\",\"NWAmes\",\"NWAmes\",\"NWAmes\",\"NWAmes\",\"NWAmes\",\"NWAmes\",\"NWAmes\",\"NWAmes\",\"NWAmes\",\"NWAmes\"],\"x0\":\" \",\"xaxis\":\"x\",\"y\":[null,null,105.0,48.0,80.0,null,85.0,80.0,78.0,null,90.0,94.0,null,91.0,null,null,80.0,92.0,70.0,null,78.0,null,null,90.0,80.0,85.0,80.0,null,80.0,78.0,80.0,null,80.0,null,78.0,80.0,null,79.0,null,null,78.0,null,null,null,null,70.0,null,80.0,104.0,78.0,80.0,82.0,80.0,null,76.0,78.0,85.0,78.0,null,null,null,null,78.0,80.0,87.0,null,102.0,80.0,46.0,90.0,null,80.0,85.0,null,80.0,null,80.0,null,80.0,null,80.0,null,78.0,85.0,null,80.0,80.0,75.0,null,80.0,null,63.0,null,56.0,85.0,90.0,80.0,75.0,null,80.0,null,null,85.0,null,75.0,null,null,78.0,93.0,61.0,79.0,80.0,128.0,64.0,80.0,78.0,80.0,null,130.0,108.0,80.0,78.0,88.0,80.0,null,81.0,null,81.0,80.0,79.0,78.0],\"y0\":\" \",\"yaxis\":\"y\",\"type\":\"box\"},{\"alignmentgroup\":\"True\",\"hovertemplate\":\"Neighborhood=%{x}<br>LotFrontage=%{y}<extra></extra>\",\"legendgroup\":\"OldTown\",\"marker\":{\"color\":\"#B6E880\"},\"name\":\"OldTown\",\"notched\":false,\"offsetgroup\":\"OldTown\",\"orientation\":\"v\",\"showlegend\":true,\"x\":[\"OldTown\",\"OldTown\",\"OldTown\",\"OldTown\",\"OldTown\",\"OldTown\",\"OldTown\",\"OldTown\",\"OldTown\",\"OldTown\",\"OldTown\",\"OldTown\",\"OldTown\",\"OldTown\",\"OldTown\",\"OldTown\",\"OldTown\",\"OldTown\",\"OldTown\",\"OldTown\",\"OldTown\",\"OldTown\",\"OldTown\",\"OldTown\",\"OldTown\",\"OldTown\",\"OldTown\",\"OldTown\",\"OldTown\",\"OldTown\",\"OldTown\",\"OldTown\",\"OldTown\",\"OldTown\",\"OldTown\",\"OldTown\",\"OldTown\",\"OldTown\",\"OldTown\",\"OldTown\",\"OldTown\",\"OldTown\",\"OldTown\",\"OldTown\",\"OldTown\",\"OldTown\",\"OldTown\",\"OldTown\",\"OldTown\",\"OldTown\",\"OldTown\",\"OldTown\",\"OldTown\",\"OldTown\",\"OldTown\",\"OldTown\",\"OldTown\",\"OldTown\",\"OldTown\",\"OldTown\",\"OldTown\",\"OldTown\",\"OldTown\",\"OldTown\",\"OldTown\",\"OldTown\",\"OldTown\",\"OldTown\",\"OldTown\",\"OldTown\",\"OldTown\",\"OldTown\",\"OldTown\",\"OldTown\",\"OldTown\",\"OldTown\",\"OldTown\",\"OldTown\",\"OldTown\",\"OldTown\",\"OldTown\",\"OldTown\",\"OldTown\",\"OldTown\",\"OldTown\",\"OldTown\",\"OldTown\",\"OldTown\",\"OldTown\",\"OldTown\",\"OldTown\",\"OldTown\",\"OldTown\",\"OldTown\",\"OldTown\",\"OldTown\",\"OldTown\",\"OldTown\",\"OldTown\",\"OldTown\",\"OldTown\",\"OldTown\",\"OldTown\",\"OldTown\",\"OldTown\",\"OldTown\",\"OldTown\",\"OldTown\",\"OldTown\",\"OldTown\",\"OldTown\",\"OldTown\",\"OldTown\",\"OldTown\",\"OldTown\",\"OldTown\",\"OldTown\",\"OldTown\",\"OldTown\",\"OldTown\",\"OldTown\",\"OldTown\",\"OldTown\",\"OldTown\",\"OldTown\",\"OldTown\",\"OldTown\",\"OldTown\",\"OldTown\",\"OldTown\",\"OldTown\",\"OldTown\",\"OldTown\",\"OldTown\",\"OldTown\",\"OldTown\",\"OldTown\",\"OldTown\",\"OldTown\",\"OldTown\",\"OldTown\",\"OldTown\",\"OldTown\",\"OldTown\",\"OldTown\",\"OldTown\",\"OldTown\",\"OldTown\",\"OldTown\",\"OldTown\",\"OldTown\",\"OldTown\",\"OldTown\",\"OldTown\",\"OldTown\",\"OldTown\",\"OldTown\",\"OldTown\",\"OldTown\",\"OldTown\",\"OldTown\",\"OldTown\",\"OldTown\",\"OldTown\",\"OldTown\",\"OldTown\",\"OldTown\",\"OldTown\",\"OldTown\",\"OldTown\",\"OldTown\",\"OldTown\",\"OldTown\",\"OldTown\",\"OldTown\",\"OldTown\",\"OldTown\",\"OldTown\",\"OldTown\",\"OldTown\",\"OldTown\",\"OldTown\",\"OldTown\",\"OldTown\",\"OldTown\",\"OldTown\",\"OldTown\",\"OldTown\",\"OldTown\",\"OldTown\",\"OldTown\",\"OldTown\",\"OldTown\",\"OldTown\",\"OldTown\",\"OldTown\",\"OldTown\",\"OldTown\",\"OldTown\",\"OldTown\",\"OldTown\",\"OldTown\",\"OldTown\",\"OldTown\",\"OldTown\",\"OldTown\",\"OldTown\",\"OldTown\",\"OldTown\",\"OldTown\",\"OldTown\",\"OldTown\",\"OldTown\",\"OldTown\",\"OldTown\",\"OldTown\",\"OldTown\",\"OldTown\",\"OldTown\",\"OldTown\",\"OldTown\",\"OldTown\",\"OldTown\",\"OldTown\",\"OldTown\",\"OldTown\",\"OldTown\",\"OldTown\",\"OldTown\",\"OldTown\",\"OldTown\",\"OldTown\",\"OldTown\",\"OldTown\",\"OldTown\",\"OldTown\",\"OldTown\",\"OldTown\",\"OldTown\"],\"x0\":\" \",\"xaxis\":\"x\",\"y\":[51.0,33.0,50.0,47.0,60.0,60.0,60.0,60.0,50.0,55.0,84.0,55.0,40.0,null,60.0,63.0,90.0,60.0,92.0,50.0,50.0,57.0,40.0,63.0,69.0,70.0,50.0,30.0,87.0,65.0,60.0,49.0,60.0,60.0,56.0,60.0,60.0,40.0,50.0,70.0,34.0,null,50.0,50.0,60.0,50.0,60.0,60.0,60.0,49.0,50.0,81.0,75.0,60.0,50.0,64.0,50.0,60.0,52.0,60.0,76.0,60.0,60.0,60.0,65.0,55.0,35.0,60.0,50.0,90.0,60.0,90.0,60.0,100.0,52.0,98.0,50.0,59.0,121.0,60.0,60.0,52.0,85.0,50.0,60.0,90.0,60.0,90.0,null,50.0,null,60.0,107.0,60.0,65.0,60.0,60.0,60.0,100.0,60.0,153.0,50.0,50.0,90.0,60.0,60.0,60.0,60.0,60.0,60.0,60.0,60.0,90.0,60.0,56.0,69.0,50.0,69.0,null,68.0,60.0,50.0,100.0,60.0,51.0,57.0,60.0,52.0,53.0,60.0,80.0,60.0,60.0,60.0,90.0,60.0,60.0,68.0,57.0,90.0,90.0,57.0,63.0,56.0,50.0,62.0,50.0,60.0,60.0,70.0,60.0,null,60.0,60.0,57.0,68.0,50.0,null,41.0,60.0,45.0,60.0,60.0,56.0,57.0,80.0,60.0,60.0,63.0,63.0,81.0,60.0,60.0,60.0,44.0,75.0,62.0,103.0,69.0,53.0,69.0,60.0,60.0,60.0,60.0,65.0,52.0,51.0,57.0,63.0,null,60.0,60.0,60.0,60.0,50.0,56.0,56.0,60.0,120.0,50.0,57.0,null,53.0,35.0,56.0,60.0,75.0,52.0,76.0,47.0,null,40.0,40.0,94.0,60.0,60.0,60.0,60.0,62.0,60.0,60.0,60.0,58.0,66.0,56.0,56.0,50.0,60.0,42.0,50.0,50.0,52.0,56.0,48.0,70.0,33.0,65.0,90.0],\"y0\":\" \",\"yaxis\":\"y\",\"type\":\"box\"},{\"alignmentgroup\":\"True\",\"hovertemplate\":\"Neighborhood=%{x}<br>LotFrontage=%{y}<extra></extra>\",\"legendgroup\":\"BrkSide\",\"marker\":{\"color\":\"#FF97FF\"},\"name\":\"BrkSide\",\"notched\":false,\"offsetgroup\":\"BrkSide\",\"orientation\":\"v\",\"showlegend\":true,\"x\":[\"BrkSide\",\"BrkSide\",\"BrkSide\",\"BrkSide\",\"BrkSide\",\"BrkSide\",\"BrkSide\",\"BrkSide\",\"BrkSide\",\"BrkSide\",\"BrkSide\",\"BrkSide\",\"BrkSide\",\"BrkSide\",\"BrkSide\",\"BrkSide\",\"BrkSide\",\"BrkSide\",\"BrkSide\",\"BrkSide\",\"BrkSide\",\"BrkSide\",\"BrkSide\",\"BrkSide\",\"BrkSide\",\"BrkSide\",\"BrkSide\",\"BrkSide\",\"BrkSide\",\"BrkSide\",\"BrkSide\",\"BrkSide\",\"BrkSide\",\"BrkSide\",\"BrkSide\",\"BrkSide\",\"BrkSide\",\"BrkSide\",\"BrkSide\",\"BrkSide\",\"BrkSide\",\"BrkSide\",\"BrkSide\",\"BrkSide\",\"BrkSide\",\"BrkSide\",\"BrkSide\",\"BrkSide\",\"BrkSide\",\"BrkSide\",\"BrkSide\",\"BrkSide\",\"BrkSide\",\"BrkSide\",\"BrkSide\",\"BrkSide\",\"BrkSide\",\"BrkSide\",\"BrkSide\",\"BrkSide\",\"BrkSide\",\"BrkSide\",\"BrkSide\",\"BrkSide\",\"BrkSide\",\"BrkSide\",\"BrkSide\",\"BrkSide\",\"BrkSide\",\"BrkSide\",\"BrkSide\",\"BrkSide\",\"BrkSide\",\"BrkSide\",\"BrkSide\",\"BrkSide\",\"BrkSide\",\"BrkSide\",\"BrkSide\",\"BrkSide\",\"BrkSide\",\"BrkSide\",\"BrkSide\",\"BrkSide\",\"BrkSide\",\"BrkSide\",\"BrkSide\",\"BrkSide\",\"BrkSide\",\"BrkSide\",\"BrkSide\",\"BrkSide\",\"BrkSide\",\"BrkSide\",\"BrkSide\",\"BrkSide\",\"BrkSide\",\"BrkSide\",\"BrkSide\",\"BrkSide\",\"BrkSide\",\"BrkSide\",\"BrkSide\",\"BrkSide\",\"BrkSide\",\"BrkSide\",\"BrkSide\",\"BrkSide\"],\"x0\":\" \",\"xaxis\":\"x\",\"y\":[50.0,51.0,60.0,52.0,50.0,51.0,null,92.0,55.0,55.0,60.0,null,65.0,null,null,50.0,52.0,null,60.0,50.0,60.0,50.0,70.0,58.0,51.0,55.0,50.0,51.0,51.0,50.0,56.0,60.0,60.0,144.0,50.0,51.0,52.0,50.0,60.0,51.0,51.0,50.0,60.0,98.0,52.0,50.0,52.0,52.0,60.0,50.0,null,50.0,50.0,60.0,51.0,50.0,64.0,null,53.0,null,50.0,50.0,50.0,53.0,50.0,52.0,52.0,null,50.0,60.0,51.0,51.0,50.0,50.0,55.0,null,null,50.0,59.0,50.0,50.0,50.0,50.0,50.0,60.0,99.0,52.0,null,52.0,60.0,50.0,51.0,50.0,55.0,55.0,50.0,50.0,51.0,null,52.0,52.0,51.0,60.0,60.0,69.0,51.0,51.0,50.0],\"y0\":\" \",\"yaxis\":\"y\",\"type\":\"box\"},{\"alignmentgroup\":\"True\",\"hovertemplate\":\"Neighborhood=%{x}<br>LotFrontage=%{y}<extra></extra>\",\"legendgroup\":\"Sawyer\",\"marker\":{\"color\":\"#FECB52\"},\"name\":\"Sawyer\",\"notched\":false,\"offsetgroup\":\"Sawyer\",\"orientation\":\"v\",\"showlegend\":true,\"x\":[\"Sawyer\",\"Sawyer\",\"Sawyer\",\"Sawyer\",\"Sawyer\",\"Sawyer\",\"Sawyer\",\"Sawyer\",\"Sawyer\",\"Sawyer\",\"Sawyer\",\"Sawyer\",\"Sawyer\",\"Sawyer\",\"Sawyer\",\"Sawyer\",\"Sawyer\",\"Sawyer\",\"Sawyer\",\"Sawyer\",\"Sawyer\",\"Sawyer\",\"Sawyer\",\"Sawyer\",\"Sawyer\",\"Sawyer\",\"Sawyer\",\"Sawyer\",\"Sawyer\",\"Sawyer\",\"Sawyer\",\"Sawyer\",\"Sawyer\",\"Sawyer\",\"Sawyer\",\"Sawyer\",\"Sawyer\",\"Sawyer\",\"Sawyer\",\"Sawyer\",\"Sawyer\",\"Sawyer\",\"Sawyer\",\"Sawyer\",\"Sawyer\",\"Sawyer\",\"Sawyer\",\"Sawyer\",\"Sawyer\",\"Sawyer\",\"Sawyer\",\"Sawyer\",\"Sawyer\",\"Sawyer\",\"Sawyer\",\"Sawyer\",\"Sawyer\",\"Sawyer\",\"Sawyer\",\"Sawyer\",\"Sawyer\",\"Sawyer\",\"Sawyer\",\"Sawyer\",\"Sawyer\",\"Sawyer\",\"Sawyer\",\"Sawyer\",\"Sawyer\",\"Sawyer\",\"Sawyer\",\"Sawyer\",\"Sawyer\",\"Sawyer\",\"Sawyer\",\"Sawyer\",\"Sawyer\",\"Sawyer\",\"Sawyer\",\"Sawyer\",\"Sawyer\",\"Sawyer\",\"Sawyer\",\"Sawyer\",\"Sawyer\",\"Sawyer\",\"Sawyer\",\"Sawyer\",\"Sawyer\",\"Sawyer\",\"Sawyer\",\"Sawyer\",\"Sawyer\",\"Sawyer\",\"Sawyer\",\"Sawyer\",\"Sawyer\",\"Sawyer\",\"Sawyer\",\"Sawyer\",\"Sawyer\",\"Sawyer\",\"Sawyer\",\"Sawyer\",\"Sawyer\",\"Sawyer\",\"Sawyer\",\"Sawyer\",\"Sawyer\",\"Sawyer\",\"Sawyer\",\"Sawyer\",\"Sawyer\",\"Sawyer\",\"Sawyer\",\"Sawyer\",\"Sawyer\",\"Sawyer\",\"Sawyer\",\"Sawyer\",\"Sawyer\",\"Sawyer\",\"Sawyer\",\"Sawyer\",\"Sawyer\",\"Sawyer\",\"Sawyer\",\"Sawyer\",\"Sawyer\",\"Sawyer\",\"Sawyer\",\"Sawyer\",\"Sawyer\",\"Sawyer\",\"Sawyer\",\"Sawyer\",\"Sawyer\",\"Sawyer\",\"Sawyer\",\"Sawyer\",\"Sawyer\",\"Sawyer\",\"Sawyer\",\"Sawyer\",\"Sawyer\",\"Sawyer\",\"Sawyer\",\"Sawyer\",\"Sawyer\",\"Sawyer\",\"Sawyer\"],\"x0\":\" \",\"xaxis\":\"x\",\"y\":[70.0,null,72.0,null,null,66.0,72.0,null,78.0,70.0,null,40.0,70.0,88.0,null,60.0,null,74.0,60.0,80.0,null,65.0,null,null,96.0,74.0,61.0,71.0,null,null,65.0,null,null,80.0,null,65.0,70.0,null,null,100.0,71.0,60.0,null,102.0,null,75.0,85.0,88.0,70.0,70.0,null,65.0,null,70.0,80.0,115.0,88.0,75.0,57.0,85.0,54.0,null,109.0,60.0,80.0,75.0,null,99.0,68.0,55.0,null,null,null,70.0,39.0,72.0,65.0,65.0,null,86.0,94.0,63.0,null,null,null,null,65.0,50.0,75.0,null,88.0,88.0,null,70.0,75.0,65.0,60.0,70.0,82.0,null,80.0,68.0,null,null,null,60.0,94.0,88.0,63.0,null,64.0,84.0,44.0,43.0,107.0,75.0,75.0,62.0,65.0,null,70.0,86.0,null,null,81.0,99.0,70.0,91.0,85.0,null,70.0,68.0,null,null,65.0,null,null,null,null,82.0,120.0,100.0,null,80.0,75.0,null,null,null,75.0,null,72.0],\"y0\":\" \",\"yaxis\":\"y\",\"type\":\"box\"},{\"alignmentgroup\":\"True\",\"hovertemplate\":\"Neighborhood=%{x}<br>LotFrontage=%{y}<extra></extra>\",\"legendgroup\":\"NridgHt\",\"marker\":{\"color\":\"#636efa\"},\"name\":\"NridgHt\",\"notched\":false,\"offsetgroup\":\"NridgHt\",\"orientation\":\"v\",\"showlegend\":true,\"x\":[\"NridgHt\",\"NridgHt\",\"NridgHt\",\"NridgHt\",\"NridgHt\",\"NridgHt\",\"NridgHt\",\"NridgHt\",\"NridgHt\",\"NridgHt\",\"NridgHt\",\"NridgHt\",\"NridgHt\",\"NridgHt\",\"NridgHt\",\"NridgHt\",\"NridgHt\",\"NridgHt\",\"NridgHt\",\"NridgHt\",\"NridgHt\",\"NridgHt\",\"NridgHt\",\"NridgHt\",\"NridgHt\",\"NridgHt\",\"NridgHt\",\"NridgHt\",\"NridgHt\",\"NridgHt\",\"NridgHt\",\"NridgHt\",\"NridgHt\",\"NridgHt\",\"NridgHt\",\"NridgHt\",\"NridgHt\",\"NridgHt\",\"NridgHt\",\"NridgHt\",\"NridgHt\",\"NridgHt\",\"NridgHt\",\"NridgHt\",\"NridgHt\",\"NridgHt\",\"NridgHt\",\"NridgHt\",\"NridgHt\",\"NridgHt\",\"NridgHt\",\"NridgHt\",\"NridgHt\",\"NridgHt\",\"NridgHt\",\"NridgHt\",\"NridgHt\",\"NridgHt\",\"NridgHt\",\"NridgHt\",\"NridgHt\",\"NridgHt\",\"NridgHt\",\"NridgHt\",\"NridgHt\",\"NridgHt\",\"NridgHt\",\"NridgHt\",\"NridgHt\",\"NridgHt\",\"NridgHt\",\"NridgHt\",\"NridgHt\",\"NridgHt\",\"NridgHt\",\"NridgHt\",\"NridgHt\",\"NridgHt\",\"NridgHt\",\"NridgHt\",\"NridgHt\",\"NridgHt\",\"NridgHt\",\"NridgHt\",\"NridgHt\",\"NridgHt\",\"NridgHt\",\"NridgHt\",\"NridgHt\",\"NridgHt\",\"NridgHt\",\"NridgHt\",\"NridgHt\",\"NridgHt\",\"NridgHt\",\"NridgHt\",\"NridgHt\",\"NridgHt\",\"NridgHt\",\"NridgHt\",\"NridgHt\",\"NridgHt\",\"NridgHt\",\"NridgHt\",\"NridgHt\",\"NridgHt\",\"NridgHt\",\"NridgHt\",\"NridgHt\",\"NridgHt\",\"NridgHt\",\"NridgHt\",\"NridgHt\",\"NridgHt\",\"NridgHt\",\"NridgHt\",\"NridgHt\",\"NridgHt\",\"NridgHt\",\"NridgHt\",\"NridgHt\",\"NridgHt\",\"NridgHt\",\"NridgHt\",\"NridgHt\",\"NridgHt\",\"NridgHt\",\"NridgHt\",\"NridgHt\",\"NridgHt\",\"NridgHt\",\"NridgHt\",\"NridgHt\",\"NridgHt\",\"NridgHt\",\"NridgHt\",\"NridgHt\",\"NridgHt\",\"NridgHt\",\"NridgHt\",\"NridgHt\",\"NridgHt\",\"NridgHt\",\"NridgHt\",\"NridgHt\",\"NridgHt\",\"NridgHt\",\"NridgHt\",\"NridgHt\",\"NridgHt\",\"NridgHt\",\"NridgHt\",\"NridgHt\",\"NridgHt\",\"NridgHt\",\"NridgHt\",\"NridgHt\",\"NridgHt\",\"NridgHt\",\"NridgHt\",\"NridgHt\",\"NridgHt\",\"NridgHt\",\"NridgHt\",\"NridgHt\",\"NridgHt\"],\"x0\":\" \",\"xaxis\":\"x\",\"y\":[85.0,101.0,110.0,98.0,60.0,108.0,61.0,44.0,76.0,107.0,110.0,95.0,86.0,76.0,103.0,93.0,107.0,34.0,90.0,111.0,99.0,85.0,59.0,63.0,36.0,56.0,68.0,96.0,109.0,105.0,98.0,110.0,105.0,98.0,72.0,40.0,94.0,67.0,87.0,85.0,70.0,98.0,97.0,74.0,90.0,34.0,62.0,61.0,48.0,80.0,110.0,104.0,107.0,44.0,114.0,74.0,100.0,93.0,36.0,83.0,96.0,34.0,43.0,96.0,107.0,93.0,34.0,79.0,65.0,36.0,107.0,null,86.0,108.0,48.0,129.0,96.0,102.0,94.0,90.0,79.0,110.0,105.0,41.0,110.0,95.0,95.0,105.0,95.0,129.0,59.0,87.0,77.0,102.0,90.0,110.0,96.0,70.0,47.0,34.0,80.0,100.0,117.0,44.0,48.0,129.0,48.0,98.0,105.0,104.0,108.0,96.0,102.0,74.0,85.0,106.0,92.0,130.0,112.0,58.0,135.0,89.0,48.0,48.0,36.0,55.0,96.0,91.0,110.0,107.0,110.0,105.0,107.0,118.0,59.0,134.0,82.0,94.0,99.0,110.0,null,70.0,71.0,92.0,34.0,34.0,41.0,34.0,48.0,48.0,48.0,72.0,110.0,108.0,120.0,120.0,82.0,103.0,82.0,82.0,121.0,131.0,null,48.0,61.0,48.0],\"y0\":\" \",\"yaxis\":\"y\",\"type\":\"box\"},{\"alignmentgroup\":\"True\",\"hovertemplate\":\"Neighborhood=%{x}<br>LotFrontage=%{y}<extra></extra>\",\"legendgroup\":\"NAmes\",\"marker\":{\"color\":\"#EF553B\"},\"name\":\"NAmes\",\"notched\":false,\"offsetgroup\":\"NAmes\",\"orientation\":\"v\",\"showlegend\":true,\"x\":[\"NAmes\",\"NAmes\",\"NAmes\",\"NAmes\",\"NAmes\",\"NAmes\",\"NAmes\",\"NAmes\",\"NAmes\",\"NAmes\",\"NAmes\",\"NAmes\",\"NAmes\",\"NAmes\",\"NAmes\",\"NAmes\",\"NAmes\",\"NAmes\",\"NAmes\",\"NAmes\",\"NAmes\",\"NAmes\",\"NAmes\",\"NAmes\",\"NAmes\",\"NAmes\",\"NAmes\",\"NAmes\",\"NAmes\",\"NAmes\",\"NAmes\",\"NAmes\",\"NAmes\",\"NAmes\",\"NAmes\",\"NAmes\",\"NAmes\",\"NAmes\",\"NAmes\",\"NAmes\",\"NAmes\",\"NAmes\",\"NAmes\",\"NAmes\",\"NAmes\",\"NAmes\",\"NAmes\",\"NAmes\",\"NAmes\",\"NAmes\",\"NAmes\",\"NAmes\",\"NAmes\",\"NAmes\",\"NAmes\",\"NAmes\",\"NAmes\",\"NAmes\",\"NAmes\",\"NAmes\",\"NAmes\",\"NAmes\",\"NAmes\",\"NAmes\",\"NAmes\",\"NAmes\",\"NAmes\",\"NAmes\",\"NAmes\",\"NAmes\",\"NAmes\",\"NAmes\",\"NAmes\",\"NAmes\",\"NAmes\",\"NAmes\",\"NAmes\",\"NAmes\",\"NAmes\",\"NAmes\",\"NAmes\",\"NAmes\",\"NAmes\",\"NAmes\",\"NAmes\",\"NAmes\",\"NAmes\",\"NAmes\",\"NAmes\",\"NAmes\",\"NAmes\",\"NAmes\",\"NAmes\",\"NAmes\",\"NAmes\",\"NAmes\",\"NAmes\",\"NAmes\",\"NAmes\",\"NAmes\",\"NAmes\",\"NAmes\",\"NAmes\",\"NAmes\",\"NAmes\",\"NAmes\",\"NAmes\",\"NAmes\",\"NAmes\",\"NAmes\",\"NAmes\",\"NAmes\",\"NAmes\",\"NAmes\",\"NAmes\",\"NAmes\",\"NAmes\",\"NAmes\",\"NAmes\",\"NAmes\",\"NAmes\",\"NAmes\",\"NAmes\",\"NAmes\",\"NAmes\",\"NAmes\",\"NAmes\",\"NAmes\",\"NAmes\",\"NAmes\",\"NAmes\",\"NAmes\",\"NAmes\",\"NAmes\",\"NAmes\",\"NAmes\",\"NAmes\",\"NAmes\",\"NAmes\",\"NAmes\",\"NAmes\",\"NAmes\",\"NAmes\",\"NAmes\",\"NAmes\",\"NAmes\",\"NAmes\",\"NAmes\",\"NAmes\",\"NAmes\",\"NAmes\",\"NAmes\",\"NAmes\",\"NAmes\",\"NAmes\",\"NAmes\",\"NAmes\",\"NAmes\",\"NAmes\",\"NAmes\",\"NAmes\",\"NAmes\",\"NAmes\",\"NAmes\",\"NAmes\",\"NAmes\",\"NAmes\",\"NAmes\",\"NAmes\",\"NAmes\",\"NAmes\",\"NAmes\",\"NAmes\",\"NAmes\",\"NAmes\",\"NAmes\",\"NAmes\",\"NAmes\",\"NAmes\",\"NAmes\",\"NAmes\",\"NAmes\",\"NAmes\",\"NAmes\",\"NAmes\",\"NAmes\",\"NAmes\",\"NAmes\",\"NAmes\",\"NAmes\",\"NAmes\",\"NAmes\",\"NAmes\",\"NAmes\",\"NAmes\",\"NAmes\",\"NAmes\",\"NAmes\",\"NAmes\",\"NAmes\",\"NAmes\",\"NAmes\",\"NAmes\",\"NAmes\",\"NAmes\",\"NAmes\",\"NAmes\",\"NAmes\",\"NAmes\",\"NAmes\",\"NAmes\",\"NAmes\",\"NAmes\",\"NAmes\",\"NAmes\",\"NAmes\",\"NAmes\",\"NAmes\",\"NAmes\",\"NAmes\",\"NAmes\",\"NAmes\",\"NAmes\",\"NAmes\",\"NAmes\",\"NAmes\",\"NAmes\",\"NAmes\",\"NAmes\",\"NAmes\",\"NAmes\",\"NAmes\",\"NAmes\",\"NAmes\",\"NAmes\",\"NAmes\",\"NAmes\",\"NAmes\",\"NAmes\",\"NAmes\",\"NAmes\",\"NAmes\",\"NAmes\",\"NAmes\",\"NAmes\",\"NAmes\",\"NAmes\",\"NAmes\",\"NAmes\",\"NAmes\",\"NAmes\",\"NAmes\",\"NAmes\",\"NAmes\",\"NAmes\",\"NAmes\",\"NAmes\",\"NAmes\",\"NAmes\",\"NAmes\",\"NAmes\",\"NAmes\",\"NAmes\",\"NAmes\",\"NAmes\",\"NAmes\",\"NAmes\",\"NAmes\",\"NAmes\",\"NAmes\",\"NAmes\",\"NAmes\",\"NAmes\",\"NAmes\",\"NAmes\",\"NAmes\",\"NAmes\",\"NAmes\",\"NAmes\",\"NAmes\",\"NAmes\",\"NAmes\",\"NAmes\",\"NAmes\",\"NAmes\",\"NAmes\",\"NAmes\",\"NAmes\",\"NAmes\",\"NAmes\",\"NAmes\",\"NAmes\",\"NAmes\",\"NAmes\",\"NAmes\",\"NAmes\",\"NAmes\",\"NAmes\",\"NAmes\",\"NAmes\",\"NAmes\",\"NAmes\",\"NAmes\",\"NAmes\",\"NAmes\",\"NAmes\",\"NAmes\",\"NAmes\",\"NAmes\",\"NAmes\",\"NAmes\",\"NAmes\",\"NAmes\",\"NAmes\",\"NAmes\",\"NAmes\",\"NAmes\",\"NAmes\",\"NAmes\",\"NAmes\",\"NAmes\",\"NAmes\",\"NAmes\",\"NAmes\",\"NAmes\",\"NAmes\",\"NAmes\",\"NAmes\",\"NAmes\",\"NAmes\",\"NAmes\",\"NAmes\",\"NAmes\",\"NAmes\",\"NAmes\",\"NAmes\",\"NAmes\",\"NAmes\",\"NAmes\",\"NAmes\",\"NAmes\",\"NAmes\",\"NAmes\",\"NAmes\",\"NAmes\",\"NAmes\",\"NAmes\",\"NAmes\",\"NAmes\",\"NAmes\",\"NAmes\",\"NAmes\",\"NAmes\",\"NAmes\",\"NAmes\",\"NAmes\",\"NAmes\",\"NAmes\",\"NAmes\",\"NAmes\",\"NAmes\",\"NAmes\",\"NAmes\",\"NAmes\",\"NAmes\",\"NAmes\",\"NAmes\",\"NAmes\",\"NAmes\",\"NAmes\",\"NAmes\",\"NAmes\",\"NAmes\",\"NAmes\",\"NAmes\",\"NAmes\",\"NAmes\",\"NAmes\",\"NAmes\",\"NAmes\",\"NAmes\",\"NAmes\",\"NAmes\",\"NAmes\",\"NAmes\",\"NAmes\",\"NAmes\",\"NAmes\",\"NAmes\",\"NAmes\",\"NAmes\",\"NAmes\",\"NAmes\",\"NAmes\",\"NAmes\",\"NAmes\",\"NAmes\",\"NAmes\",\"NAmes\",\"NAmes\",\"NAmes\",\"NAmes\",\"NAmes\",\"NAmes\",\"NAmes\",\"NAmes\",\"NAmes\",\"NAmes\",\"NAmes\",\"NAmes\",\"NAmes\",\"NAmes\",\"NAmes\",\"NAmes\",\"NAmes\",\"NAmes\",\"NAmes\",\"NAmes\",\"NAmes\",\"NAmes\",\"NAmes\",\"NAmes\",\"NAmes\",\"NAmes\",\"NAmes\",\"NAmes\",\"NAmes\",\"NAmes\",\"NAmes\",\"NAmes\",\"NAmes\",\"NAmes\",\"NAmes\",\"NAmes\",\"NAmes\",\"NAmes\",\"NAmes\",\"NAmes\",\"NAmes\",\"NAmes\",\"NAmes\",\"NAmes\",\"NAmes\"],\"x0\":\" \",\"xaxis\":\"x\",\"y\":[null,null,70.0,60.0,47.0,70.0,74.0,68.0,84.0,70.0,60.0,100.0,null,95.0,85.0,null,100.0,80.0,60.0,85.0,77.0,75.0,69.0,69.0,88.0,75.0,null,70.0,71.0,60.0,141.0,80.0,null,174.0,null,75.0,72.0,70.0,73.0,75.0,85.0,70.0,120.0,80.0,77.0,null,80.0,50.0,96.0,80.0,null,70.0,66.0,null,null,null,null,101.0,78.0,null,79.0,null,69.0,65.0,72.0,77.0,137.0,85.0,79.0,80.0,79.0,79.0,70.0,70.0,80.0,75.0,70.0,90.0,70.0,60.0,null,34.0,69.0,null,74.0,60.0,70.0,80.0,null,85.0,80.0,59.0,87.0,null,80.0,70.0,82.0,80.0,75.0,null,60.0,70.0,72.0,78.0,120.0,null,80.0,70.0,60.0,85.0,60.0,61.0,70.0,70.0,57.0,75.0,75.0,85.0,75.0,null,80.0,100.0,75.0,82.0,80.0,null,70.0,null,60.0,74.0,60.0,65.0,70.0,95.0,128.0,60.0,71.0,null,64.0,80.0,80.0,87.0,70.0,313.0,70.0,60.0,null,75.0,60.0,null,80.0,null,null,60.0,73.0,79.0,100.0,null,80.0,60.0,72.0,null,80.0,60.0,71.0,74.0,61.0,70.0,79.0,73.0,66.0,70.0,60.0,80.0,60.0,57.0,null,85.0,76.0,71.0,70.0,69.0,66.0,78.0,89.0,65.0,72.0,70.0,70.0,70.0,null,60.0,93.0,65.0,80.0,34.0,78.0,95.0,null,70.0,80.0,75.0,85.0,70.0,70.0,91.0,70.0,null,null,null,80.0,null,65.0,68.0,60.0,80.0,60.0,71.0,null,80.0,60.0,80.0,60.0,60.0,68.0,80.0,81.0,70.0,26.0,80.0,90.0,88.0,null,98.0,68.0,120.0,75.0,70.0,70.0,null,87.0,80.0,60.0,60.0,119.0,70.0,65.0,60.0,81.0,80.0,74.0,85.0,null,null,60.0,60.0,null,62.0,80.0,60.0,65.0,null,null,85.0,115.0,null,85.0,68.0,90.0,92.0,80.0,73.0,null,66.0,70.0,70.0,80.0,76.0,53.0,67.0,80.0,60.0,75.0,78.0,60.0,81.0,83.0,77.0,62.0,90.0,80.0,60.0,71.0,60.0,80.0,60.0,60.0,76.0,75.0,80.0,60.0,68.0,63.0,73.0,65.0,72.0,74.0,90.0,null,80.0,80.0,63.0,90.0,74.0,82.0,90.0,75.0,60.0,102.0,null,95.0,71.0,76.0,78.0,76.0,null,60.0,80.0,80.0,60.0,64.0,60.0,113.0,60.0,60.0,69.0,85.0,63.0,66.0,null,33.0,26.0,65.0,70.0,null,74.0,null,76.0,70.0,80.0,80.0,80.0,null,null,85.0,80.0,63.0,null,100.0,73.0,65.0,60.0,70.0,80.0,72.0,70.0,75.0,60.0,70.0,60.0,68.0,71.0,55.0,70.0,75.0,null,113.0,93.0,75.0,66.0,60.0,null,70.0,70.0,80.0,70.0,60.0,66.0,null,85.0,null,null,90.0,60.0,26.0,65.0,80.0,72.0,78.0,70.0,null,80.0,80.0,null,85.0,80.0,60.0,68.0,80.0,89.0,80.0,79.0,82.0,null,null,109.0,70.0,null,125.0,72.0,70.0,66.0,75.0,55.0,65.0,80.0,85.0,118.0,70.0,50.0,60.0,83.0,77.0,80.0,86.0,null,60.0,60.0,75.0,70.0,74.0,70.0,70.0],\"y0\":\" \",\"yaxis\":\"y\",\"type\":\"box\"},{\"alignmentgroup\":\"True\",\"hovertemplate\":\"Neighborhood=%{x}<br>LotFrontage=%{y}<extra></extra>\",\"legendgroup\":\"SawyerW\",\"marker\":{\"color\":\"#00cc96\"},\"name\":\"SawyerW\",\"notched\":false,\"offsetgroup\":\"SawyerW\",\"orientation\":\"v\",\"showlegend\":true,\"x\":[\"SawyerW\",\"SawyerW\",\"SawyerW\",\"SawyerW\",\"SawyerW\",\"SawyerW\",\"SawyerW\",\"SawyerW\",\"SawyerW\",\"SawyerW\",\"SawyerW\",\"SawyerW\",\"SawyerW\",\"SawyerW\",\"SawyerW\",\"SawyerW\",\"SawyerW\",\"SawyerW\",\"SawyerW\",\"SawyerW\",\"SawyerW\",\"SawyerW\",\"SawyerW\",\"SawyerW\",\"SawyerW\",\"SawyerW\",\"SawyerW\",\"SawyerW\",\"SawyerW\",\"SawyerW\",\"SawyerW\",\"SawyerW\",\"SawyerW\",\"SawyerW\",\"SawyerW\",\"SawyerW\",\"SawyerW\",\"SawyerW\",\"SawyerW\",\"SawyerW\",\"SawyerW\",\"SawyerW\",\"SawyerW\",\"SawyerW\",\"SawyerW\",\"SawyerW\",\"SawyerW\",\"SawyerW\",\"SawyerW\",\"SawyerW\",\"SawyerW\",\"SawyerW\",\"SawyerW\",\"SawyerW\",\"SawyerW\",\"SawyerW\",\"SawyerW\",\"SawyerW\",\"SawyerW\",\"SawyerW\",\"SawyerW\",\"SawyerW\",\"SawyerW\",\"SawyerW\",\"SawyerW\",\"SawyerW\",\"SawyerW\",\"SawyerW\",\"SawyerW\",\"SawyerW\",\"SawyerW\",\"SawyerW\",\"SawyerW\",\"SawyerW\",\"SawyerW\",\"SawyerW\",\"SawyerW\",\"SawyerW\",\"SawyerW\",\"SawyerW\",\"SawyerW\",\"SawyerW\",\"SawyerW\",\"SawyerW\",\"SawyerW\",\"SawyerW\",\"SawyerW\",\"SawyerW\",\"SawyerW\",\"SawyerW\",\"SawyerW\",\"SawyerW\",\"SawyerW\",\"SawyerW\",\"SawyerW\",\"SawyerW\",\"SawyerW\",\"SawyerW\",\"SawyerW\",\"SawyerW\",\"SawyerW\",\"SawyerW\",\"SawyerW\",\"SawyerW\",\"SawyerW\",\"SawyerW\",\"SawyerW\",\"SawyerW\",\"SawyerW\",\"SawyerW\",\"SawyerW\",\"SawyerW\",\"SawyerW\",\"SawyerW\",\"SawyerW\",\"SawyerW\",\"SawyerW\",\"SawyerW\",\"SawyerW\",\"SawyerW\",\"SawyerW\",\"SawyerW\",\"SawyerW\",\"SawyerW\",\"SawyerW\"],\"x0\":\" \",\"xaxis\":\"x\",\"y\":[66.0,null,63.0,77.0,64.0,90.0,55.0,63.0,64.0,null,null,75.0,null,65.0,82.0,50.0,116.0,86.0,60.0,50.0,60.0,59.0,null,76.0,80.0,79.0,80.0,65.0,50.0,65.0,60.0,65.0,76.0,70.0,65.0,75.0,81.0,80.0,64.0,64.0,103.0,70.0,50.0,67.0,60.0,55.0,86.0,73.0,114.0,80.0,null,90.0,null,70.0,63.0,null,66.0,null,88.0,70.0,70.0,83.0,87.0,82.0,80.0,63.0,63.0,96.0,76.0,63.0,63.0,60.0,61.0,43.0,70.0,50.0,70.0,null,75.0,74.0,66.0,85.0,120.0,64.0,64.0,64.0,64.0,null,null,null,68.0,67.0,63.0,81.0,65.0,50.0,43.0,65.0,75.0,null,80.0,null,85.0,null,63.0,63.0,60.0,65.0,null,50.0,104.0,75.0,null,74.0,91.0,63.0,65.0,74.0,70.0,70.0,50.0,50.0,null,88.0,73.0],\"y0\":\" \",\"yaxis\":\"y\",\"type\":\"box\"},{\"alignmentgroup\":\"True\",\"hovertemplate\":\"Neighborhood=%{x}<br>LotFrontage=%{y}<extra></extra>\",\"legendgroup\":\"IDOTRR\",\"marker\":{\"color\":\"#ab63fa\"},\"name\":\"IDOTRR\",\"notched\":false,\"offsetgroup\":\"IDOTRR\",\"orientation\":\"v\",\"showlegend\":true,\"x\":[\"IDOTRR\",\"IDOTRR\",\"IDOTRR\",\"IDOTRR\",\"IDOTRR\",\"IDOTRR\",\"IDOTRR\",\"IDOTRR\",\"IDOTRR\",\"IDOTRR\",\"IDOTRR\",\"IDOTRR\",\"IDOTRR\",\"IDOTRR\",\"IDOTRR\",\"IDOTRR\",\"IDOTRR\",\"IDOTRR\",\"IDOTRR\",\"IDOTRR\",\"IDOTRR\",\"IDOTRR\",\"IDOTRR\",\"IDOTRR\",\"IDOTRR\",\"IDOTRR\",\"IDOTRR\",\"IDOTRR\",\"IDOTRR\",\"IDOTRR\",\"IDOTRR\",\"IDOTRR\",\"IDOTRR\",\"IDOTRR\",\"IDOTRR\",\"IDOTRR\",\"IDOTRR\",\"IDOTRR\",\"IDOTRR\",\"IDOTRR\",\"IDOTRR\",\"IDOTRR\",\"IDOTRR\",\"IDOTRR\",\"IDOTRR\",\"IDOTRR\",\"IDOTRR\",\"IDOTRR\",\"IDOTRR\",\"IDOTRR\",\"IDOTRR\",\"IDOTRR\",\"IDOTRR\",\"IDOTRR\",\"IDOTRR\",\"IDOTRR\",\"IDOTRR\",\"IDOTRR\",\"IDOTRR\",\"IDOTRR\",\"IDOTRR\",\"IDOTRR\",\"IDOTRR\",\"IDOTRR\",\"IDOTRR\",\"IDOTRR\",\"IDOTRR\",\"IDOTRR\",\"IDOTRR\",\"IDOTRR\",\"IDOTRR\",\"IDOTRR\",\"IDOTRR\",\"IDOTRR\",\"IDOTRR\",\"IDOTRR\",\"IDOTRR\",\"IDOTRR\",\"IDOTRR\",\"IDOTRR\",\"IDOTRR\",\"IDOTRR\",\"IDOTRR\",\"IDOTRR\",\"IDOTRR\",\"IDOTRR\",\"IDOTRR\",\"IDOTRR\",\"IDOTRR\",\"IDOTRR\",\"IDOTRR\",\"IDOTRR\",\"IDOTRR\"],\"x0\":\" \",\"xaxis\":\"x\",\"y\":[57.0,50.0,110.0,60.0,105.0,null,85.0,50.0,60.0,71.0,75.0,null,50.0,60.0,59.0,60.0,50.0,60.0,60.0,50.0,60.0,70.0,66.0,52.0,40.0,66.0,50.0,50.0,60.0,120.0,60.0,59.0,null,60.0,40.0,60.0,40.0,58.0,50.0,66.0,72.0,57.0,60.0,86.0,60.0,50.0,60.0,109.0,null,60.0,60.0,null,60.0,62.0,60.0,60.0,50.0,60.0,58.0,75.0,60.0,75.0,80.0,60.0,52.0,60.0,null,120.0,60.0,60.0,52.0,60.0,50.0,50.0,50.0,46.0,64.0,75.0,65.0,60.0,63.0,60.0,60.0,50.0,60.0,50.0,50.0,61.0,50.0,75.0,69.0,50.0,60.0],\"y0\":\" \",\"yaxis\":\"y\",\"type\":\"box\"},{\"alignmentgroup\":\"True\",\"hovertemplate\":\"Neighborhood=%{x}<br>LotFrontage=%{y}<extra></extra>\",\"legendgroup\":\"MeadowV\",\"marker\":{\"color\":\"#FFA15A\"},\"name\":\"MeadowV\",\"notched\":false,\"offsetgroup\":\"MeadowV\",\"orientation\":\"v\",\"showlegend\":true,\"x\":[\"MeadowV\",\"MeadowV\",\"MeadowV\",\"MeadowV\",\"MeadowV\",\"MeadowV\",\"MeadowV\",\"MeadowV\",\"MeadowV\",\"MeadowV\",\"MeadowV\",\"MeadowV\",\"MeadowV\",\"MeadowV\",\"MeadowV\",\"MeadowV\",\"MeadowV\",\"MeadowV\",\"MeadowV\",\"MeadowV\",\"MeadowV\",\"MeadowV\",\"MeadowV\",\"MeadowV\",\"MeadowV\",\"MeadowV\",\"MeadowV\",\"MeadowV\",\"MeadowV\",\"MeadowV\",\"MeadowV\",\"MeadowV\",\"MeadowV\",\"MeadowV\",\"MeadowV\",\"MeadowV\",\"MeadowV\"],\"x0\":\" \",\"xaxis\":\"x\",\"y\":[44.0,21.0,36.0,44.0,21.0,21.0,null,21.0,21.0,21.0,21.0,21.0,21.0,42.0,null,41.0,21.0,31.0,21.0,21.0,21.0,null,41.0,21.0,21.0,21.0,21.0,null,21.0,21.0,41.0,21.0,21.0,21.0,21.0,21.0,21.0],\"y0\":\" \",\"yaxis\":\"y\",\"type\":\"box\"},{\"alignmentgroup\":\"True\",\"hovertemplate\":\"Neighborhood=%{x}<br>LotFrontage=%{y}<extra></extra>\",\"legendgroup\":\"Edwards\",\"marker\":{\"color\":\"#19d3f3\"},\"name\":\"Edwards\",\"notched\":false,\"offsetgroup\":\"Edwards\",\"orientation\":\"v\",\"showlegend\":true,\"x\":[\"Edwards\",\"Edwards\",\"Edwards\",\"Edwards\",\"Edwards\",\"Edwards\",\"Edwards\",\"Edwards\",\"Edwards\",\"Edwards\",\"Edwards\",\"Edwards\",\"Edwards\",\"Edwards\",\"Edwards\",\"Edwards\",\"Edwards\",\"Edwards\",\"Edwards\",\"Edwards\",\"Edwards\",\"Edwards\",\"Edwards\",\"Edwards\",\"Edwards\",\"Edwards\",\"Edwards\",\"Edwards\",\"Edwards\",\"Edwards\",\"Edwards\",\"Edwards\",\"Edwards\",\"Edwards\",\"Edwards\",\"Edwards\",\"Edwards\",\"Edwards\",\"Edwards\",\"Edwards\",\"Edwards\",\"Edwards\",\"Edwards\",\"Edwards\",\"Edwards\",\"Edwards\",\"Edwards\",\"Edwards\",\"Edwards\",\"Edwards\",\"Edwards\",\"Edwards\",\"Edwards\",\"Edwards\",\"Edwards\",\"Edwards\",\"Edwards\",\"Edwards\",\"Edwards\",\"Edwards\",\"Edwards\",\"Edwards\",\"Edwards\",\"Edwards\",\"Edwards\",\"Edwards\",\"Edwards\",\"Edwards\",\"Edwards\",\"Edwards\",\"Edwards\",\"Edwards\",\"Edwards\",\"Edwards\",\"Edwards\",\"Edwards\",\"Edwards\",\"Edwards\",\"Edwards\",\"Edwards\",\"Edwards\",\"Edwards\",\"Edwards\",\"Edwards\",\"Edwards\",\"Edwards\",\"Edwards\",\"Edwards\",\"Edwards\",\"Edwards\",\"Edwards\",\"Edwards\",\"Edwards\",\"Edwards\",\"Edwards\",\"Edwards\",\"Edwards\",\"Edwards\",\"Edwards\",\"Edwards\",\"Edwards\",\"Edwards\",\"Edwards\",\"Edwards\",\"Edwards\",\"Edwards\",\"Edwards\",\"Edwards\",\"Edwards\",\"Edwards\",\"Edwards\",\"Edwards\",\"Edwards\",\"Edwards\",\"Edwards\",\"Edwards\",\"Edwards\",\"Edwards\",\"Edwards\",\"Edwards\",\"Edwards\",\"Edwards\",\"Edwards\",\"Edwards\",\"Edwards\",\"Edwards\",\"Edwards\",\"Edwards\",\"Edwards\",\"Edwards\",\"Edwards\",\"Edwards\",\"Edwards\",\"Edwards\",\"Edwards\",\"Edwards\",\"Edwards\",\"Edwards\",\"Edwards\",\"Edwards\",\"Edwards\",\"Edwards\",\"Edwards\",\"Edwards\",\"Edwards\",\"Edwards\",\"Edwards\",\"Edwards\",\"Edwards\",\"Edwards\",\"Edwards\",\"Edwards\",\"Edwards\",\"Edwards\",\"Edwards\",\"Edwards\",\"Edwards\",\"Edwards\",\"Edwards\",\"Edwards\",\"Edwards\",\"Edwards\",\"Edwards\",\"Edwards\",\"Edwards\",\"Edwards\",\"Edwards\",\"Edwards\",\"Edwards\",\"Edwards\",\"Edwards\",\"Edwards\",\"Edwards\",\"Edwards\",\"Edwards\",\"Edwards\",\"Edwards\",\"Edwards\",\"Edwards\",\"Edwards\",\"Edwards\",\"Edwards\",\"Edwards\",\"Edwards\",\"Edwards\",\"Edwards\",\"Edwards\",\"Edwards\",\"Edwards\",\"Edwards\",\"Edwards\",\"Edwards\",\"Edwards\",\"Edwards\"],\"x0\":\" \",\"xaxis\":\"x\",\"y\":[65.0,73.0,85.0,75.0,74.0,24.0,60.0,62.0,84.0,60.0,24.0,80.0,67.0,83.0,52.0,null,60.0,null,60.0,64.0,null,58.0,72.0,50.0,68.0,68.0,60.0,67.0,92.0,73.0,35.0,70.0,130.0,58.0,70.0,67.0,63.0,66.0,81.0,78.0,45.0,67.0,85.0,60.0,75.0,90.0,54.0,57.0,60.0,86.0,60.0,50.0,67.0,94.0,45.0,70.0,60.0,59.0,null,67.0,42.0,35.0,68.0,68.0,74.0,75.0,60.0,null,null,60.0,68.0,50.0,75.0,24.0,null,50.0,60.0,134.0,120.0,77.0,60.0,50.0,60.0,56.0,124.0,60.0,35.0,313.0,32.0,60.0,75.0,70.0,67.0,60.0,45.0,60.0,null,70.0,35.0,75.0,124.0,65.0,50.0,75.0,44.0,null,67.0,68.0,60.0,89.0,65.0,64.0,60.0,null,60.0,null,68.0,50.0,62.0,42.0,80.0,35.0,64.0,70.0,65.0,70.0,45.0,50.0,85.0,68.0,50.0,50.0,75.0,64.0,65.0,null,72.0,123.0,65.0,74.0,56.0,60.0,57.0,68.0,62.0,67.0,null,null,84.0,70.0,null,39.0,58.0,60.0,50.0,75.0,67.0,74.0,80.0,65.0,null,60.0,128.0,35.0,64.0,74.0,52.0,62.0,60.0,60.0,55.0,75.0,62.0,114.0,60.0,78.0,80.0,70.0,75.0,67.0,38.0,73.0,62.0,75.0,90.0,35.0,24.0,56.0,72.0,62.0,60.0,45.0,60.0,76.0],\"y0\":\" \",\"yaxis\":\"y\",\"type\":\"box\"},{\"alignmentgroup\":\"True\",\"hovertemplate\":\"Neighborhood=%{x}<br>LotFrontage=%{y}<extra></extra>\",\"legendgroup\":\"Timber\",\"marker\":{\"color\":\"#FF6692\"},\"name\":\"Timber\",\"notched\":false,\"offsetgroup\":\"Timber\",\"orientation\":\"v\",\"showlegend\":true,\"x\":[\"Timber\",\"Timber\",\"Timber\",\"Timber\",\"Timber\",\"Timber\",\"Timber\",\"Timber\",\"Timber\",\"Timber\",\"Timber\",\"Timber\",\"Timber\",\"Timber\",\"Timber\",\"Timber\",\"Timber\",\"Timber\",\"Timber\",\"Timber\",\"Timber\",\"Timber\",\"Timber\",\"Timber\",\"Timber\",\"Timber\",\"Timber\",\"Timber\",\"Timber\",\"Timber\",\"Timber\",\"Timber\",\"Timber\",\"Timber\",\"Timber\",\"Timber\",\"Timber\",\"Timber\",\"Timber\",\"Timber\",\"Timber\",\"Timber\",\"Timber\",\"Timber\",\"Timber\",\"Timber\",\"Timber\",\"Timber\",\"Timber\",\"Timber\",\"Timber\",\"Timber\",\"Timber\",\"Timber\",\"Timber\",\"Timber\",\"Timber\",\"Timber\",\"Timber\",\"Timber\",\"Timber\",\"Timber\",\"Timber\",\"Timber\",\"Timber\",\"Timber\",\"Timber\",\"Timber\",\"Timber\",\"Timber\",\"Timber\",\"Timber\"],\"x0\":\" \",\"xaxis\":\"x\",\"y\":[115.0,null,92.0,null,47.0,150.0,null,85.0,130.0,null,85.0,85.0,83.0,88.0,85.0,42.0,54.0,85.0,73.0,67.0,44.0,73.0,null,85.0,80.0,null,71.0,89.0,null,50.0,64.0,89.0,50.0,93.0,89.0,73.0,88.0,null,88.0,73.0,73.0,113.0,79.0,null,125.0,75.0,85.0,42.0,74.0,107.0,73.0,81.0,75.0,93.0,82.0,null,79.0,85.0,46.0,149.0,67.0,68.0,42.0,null,80.0,null,null,85.0,null,null,95.0,88.0],\"y0\":\" \",\"yaxis\":\"y\",\"type\":\"box\"},{\"alignmentgroup\":\"True\",\"hovertemplate\":\"Neighborhood=%{x}<br>LotFrontage=%{y}<extra></extra>\",\"legendgroup\":\"Gilbert\",\"marker\":{\"color\":\"#B6E880\"},\"name\":\"Gilbert\",\"notched\":false,\"offsetgroup\":\"Gilbert\",\"orientation\":\"v\",\"showlegend\":true,\"x\":[\"Gilbert\",\"Gilbert\",\"Gilbert\",\"Gilbert\",\"Gilbert\",\"Gilbert\",\"Gilbert\",\"Gilbert\",\"Gilbert\",\"Gilbert\",\"Gilbert\",\"Gilbert\",\"Gilbert\",\"Gilbert\",\"Gilbert\",\"Gilbert\",\"Gilbert\",\"Gilbert\",\"Gilbert\",\"Gilbert\",\"Gilbert\",\"Gilbert\",\"Gilbert\",\"Gilbert\",\"Gilbert\",\"Gilbert\",\"Gilbert\",\"Gilbert\",\"Gilbert\",\"Gilbert\",\"Gilbert\",\"Gilbert\",\"Gilbert\",\"Gilbert\",\"Gilbert\",\"Gilbert\",\"Gilbert\",\"Gilbert\",\"Gilbert\",\"Gilbert\",\"Gilbert\",\"Gilbert\",\"Gilbert\",\"Gilbert\",\"Gilbert\",\"Gilbert\",\"Gilbert\",\"Gilbert\",\"Gilbert\",\"Gilbert\",\"Gilbert\",\"Gilbert\",\"Gilbert\",\"Gilbert\",\"Gilbert\",\"Gilbert\",\"Gilbert\",\"Gilbert\",\"Gilbert\",\"Gilbert\",\"Gilbert\",\"Gilbert\",\"Gilbert\",\"Gilbert\",\"Gilbert\",\"Gilbert\",\"Gilbert\",\"Gilbert\",\"Gilbert\",\"Gilbert\",\"Gilbert\",\"Gilbert\",\"Gilbert\",\"Gilbert\",\"Gilbert\",\"Gilbert\",\"Gilbert\",\"Gilbert\",\"Gilbert\",\"Gilbert\",\"Gilbert\",\"Gilbert\",\"Gilbert\",\"Gilbert\",\"Gilbert\",\"Gilbert\",\"Gilbert\",\"Gilbert\",\"Gilbert\",\"Gilbert\",\"Gilbert\",\"Gilbert\",\"Gilbert\",\"Gilbert\",\"Gilbert\",\"Gilbert\",\"Gilbert\",\"Gilbert\",\"Gilbert\",\"Gilbert\",\"Gilbert\",\"Gilbert\",\"Gilbert\",\"Gilbert\",\"Gilbert\",\"Gilbert\",\"Gilbert\",\"Gilbert\",\"Gilbert\",\"Gilbert\",\"Gilbert\",\"Gilbert\",\"Gilbert\",\"Gilbert\",\"Gilbert\",\"Gilbert\",\"Gilbert\",\"Gilbert\",\"Gilbert\",\"Gilbert\",\"Gilbert\",\"Gilbert\",\"Gilbert\",\"Gilbert\",\"Gilbert\",\"Gilbert\",\"Gilbert\",\"Gilbert\",\"Gilbert\",\"Gilbert\",\"Gilbert\",\"Gilbert\",\"Gilbert\",\"Gilbert\",\"Gilbert\",\"Gilbert\",\"Gilbert\",\"Gilbert\",\"Gilbert\",\"Gilbert\",\"Gilbert\",\"Gilbert\",\"Gilbert\",\"Gilbert\",\"Gilbert\",\"Gilbert\",\"Gilbert\",\"Gilbert\",\"Gilbert\",\"Gilbert\",\"Gilbert\",\"Gilbert\",\"Gilbert\",\"Gilbert\",\"Gilbert\",\"Gilbert\",\"Gilbert\",\"Gilbert\",\"Gilbert\",\"Gilbert\",\"Gilbert\",\"Gilbert\",\"Gilbert\",\"Gilbert\",\"Gilbert\"],\"x0\":\" \",\"xaxis\":\"x\",\"y\":[null,74.0,null,122.0,null,null,null,null,134.0,62.0,99.0,null,null,66.0,70.0,140.0,null,71.0,59.0,null,null,60.0,null,100.0,73.0,100.0,null,105.0,74.0,58.0,57.0,76.0,null,106.0,65.0,72.0,null,null,63.0,null,null,65.0,null,null,63.0,50.0,149.0,65.0,null,null,65.0,null,73.0,59.0,null,168.0,null,null,null,null,182.0,59.0,57.0,58.0,60.0,51.0,58.0,152.0,60.0,59.0,null,null,63.0,73.0,42.0,62.0,60.0,93.0,62.0,74.0,78.0,75.0,null,63.0,85.0,100.0,67.0,63.0,88.0,null,60.0,57.0,60.0,null,58.0,85.0,63.0,57.0,59.0,62.0,61.0,null,null,null,61.0,42.0,62.0,null,64.0,72.0,65.0,59.0,null,53.0,73.0,null,null,null,80.0,null,null,71.0,null,41.0,77.0,56.0,null,null,63.0,60.0,null,null,160.0,195.0,59.0,65.0,58.0,62.0,63.0,88.0,72.0,64.0,64.0,65.0,87.0,59.0,null,63.0,null,58.0,59.0,60.0,null,54.0,50.0,42.0,null,65.0,65.0,102.0,96.0,75.0,59.0,null,null],\"y0\":\" \",\"yaxis\":\"y\",\"type\":\"box\"},{\"alignmentgroup\":\"True\",\"hovertemplate\":\"Neighborhood=%{x}<br>LotFrontage=%{y}<extra></extra>\",\"legendgroup\":\"StoneBr\",\"marker\":{\"color\":\"#FF97FF\"},\"name\":\"StoneBr\",\"notched\":false,\"offsetgroup\":\"StoneBr\",\"orientation\":\"v\",\"showlegend\":true,\"x\":[\"StoneBr\",\"StoneBr\",\"StoneBr\",\"StoneBr\",\"StoneBr\",\"StoneBr\",\"StoneBr\",\"StoneBr\",\"StoneBr\",\"StoneBr\",\"StoneBr\",\"StoneBr\",\"StoneBr\",\"StoneBr\",\"StoneBr\",\"StoneBr\",\"StoneBr\",\"StoneBr\",\"StoneBr\",\"StoneBr\",\"StoneBr\",\"StoneBr\",\"StoneBr\",\"StoneBr\",\"StoneBr\",\"StoneBr\",\"StoneBr\",\"StoneBr\",\"StoneBr\",\"StoneBr\",\"StoneBr\",\"StoneBr\",\"StoneBr\",\"StoneBr\",\"StoneBr\",\"StoneBr\",\"StoneBr\",\"StoneBr\",\"StoneBr\",\"StoneBr\",\"StoneBr\",\"StoneBr\",\"StoneBr\",\"StoneBr\",\"StoneBr\",\"StoneBr\",\"StoneBr\",\"StoneBr\",\"StoneBr\",\"StoneBr\",\"StoneBr\"],\"x0\":\" \",\"xaxis\":\"x\",\"y\":[66.0,44.0,63.0,41.0,86.0,88.0,null,41.0,77.0,69.0,80.0,null,60.0,82.0,40.0,null,39.0,41.0,47.0,null,85.0,41.0,null,40.0,124.0,43.0,28.0,61.0,57.0,45.0,39.0,65.0,101.0,53.0,60.0,38.0,35.0,98.0,52.0,61.0,85.0,81.0,68.0,30.0,59.0,60.0,63.0,82.0,92.0,60.0,90.0],\"y0\":\" \",\"yaxis\":\"y\",\"type\":\"box\"},{\"alignmentgroup\":\"True\",\"hovertemplate\":\"Neighborhood=%{x}<br>LotFrontage=%{y}<extra></extra>\",\"legendgroup\":\"ClearCr\",\"marker\":{\"color\":\"#FECB52\"},\"name\":\"ClearCr\",\"notched\":false,\"offsetgroup\":\"ClearCr\",\"orientation\":\"v\",\"showlegend\":true,\"x\":[\"ClearCr\",\"ClearCr\",\"ClearCr\",\"ClearCr\",\"ClearCr\",\"ClearCr\",\"ClearCr\",\"ClearCr\",\"ClearCr\",\"ClearCr\",\"ClearCr\",\"ClearCr\",\"ClearCr\",\"ClearCr\",\"ClearCr\",\"ClearCr\",\"ClearCr\",\"ClearCr\",\"ClearCr\",\"ClearCr\",\"ClearCr\",\"ClearCr\",\"ClearCr\",\"ClearCr\",\"ClearCr\",\"ClearCr\",\"ClearCr\",\"ClearCr\",\"ClearCr\",\"ClearCr\",\"ClearCr\",\"ClearCr\",\"ClearCr\",\"ClearCr\",\"ClearCr\",\"ClearCr\",\"ClearCr\",\"ClearCr\",\"ClearCr\",\"ClearCr\",\"ClearCr\",\"ClearCr\",\"ClearCr\",\"ClearCr\"],\"x0\":\" \",\"xaxis\":\"x\",\"y\":[81.0,null,null,null,97.0,null,73.0,83.0,null,92.0,80.0,null,62.0,null,65.0,null,null,null,79.0,80.0,null,75.0,null,80.0,138.0,null,null,null,100.0,72.0,null,null,null,null,null,82.0,null,null,102.0,155.0,null,87.0,null,80.0],\"y0\":\" \",\"yaxis\":\"y\",\"type\":\"box\"},{\"alignmentgroup\":\"True\",\"hovertemplate\":\"Neighborhood=%{x}<br>LotFrontage=%{y}<extra></extra>\",\"legendgroup\":\"NPkVill\",\"marker\":{\"color\":\"#636efa\"},\"name\":\"NPkVill\",\"notched\":false,\"offsetgroup\":\"NPkVill\",\"orientation\":\"v\",\"showlegend\":true,\"x\":[\"NPkVill\",\"NPkVill\",\"NPkVill\",\"NPkVill\",\"NPkVill\",\"NPkVill\",\"NPkVill\",\"NPkVill\",\"NPkVill\",\"NPkVill\",\"NPkVill\",\"NPkVill\",\"NPkVill\",\"NPkVill\",\"NPkVill\",\"NPkVill\",\"NPkVill\",\"NPkVill\",\"NPkVill\",\"NPkVill\",\"NPkVill\",\"NPkVill\",\"NPkVill\"],\"x0\":\" \",\"xaxis\":\"x\",\"y\":[null,24.0,24.0,53.0,24.0,24.0,24.0,53.0,null,24.0,24.0,24.0,24.0,24.0,24.0,24.0,24.0,24.0,24.0,24.0,53.0,24.0,24.0],\"y0\":\" \",\"yaxis\":\"y\",\"type\":\"box\"},{\"alignmentgroup\":\"True\",\"hovertemplate\":\"Neighborhood=%{x}<br>LotFrontage=%{y}<extra></extra>\",\"legendgroup\":\"Blmngtn\",\"marker\":{\"color\":\"#EF553B\"},\"name\":\"Blmngtn\",\"notched\":false,\"offsetgroup\":\"Blmngtn\",\"orientation\":\"v\",\"showlegend\":true,\"x\":[\"Blmngtn\",\"Blmngtn\",\"Blmngtn\",\"Blmngtn\",\"Blmngtn\",\"Blmngtn\",\"Blmngtn\",\"Blmngtn\",\"Blmngtn\",\"Blmngtn\",\"Blmngtn\",\"Blmngtn\",\"Blmngtn\",\"Blmngtn\",\"Blmngtn\",\"Blmngtn\",\"Blmngtn\",\"Blmngtn\",\"Blmngtn\",\"Blmngtn\",\"Blmngtn\",\"Blmngtn\",\"Blmngtn\",\"Blmngtn\",\"Blmngtn\",\"Blmngtn\",\"Blmngtn\",\"Blmngtn\"],\"x0\":\" \",\"xaxis\":\"x\",\"y\":[43.0,43.0,43.0,53.0,null,null,53.0,53.0,43.0,null,43.0,43.0,43.0,43.0,53.0,53.0,51.0,43.0,43.0,null,null,53.0,null,53.0,43.0,null,null,43.0],\"y0\":\" \",\"yaxis\":\"y\",\"type\":\"box\"},{\"alignmentgroup\":\"True\",\"hovertemplate\":\"Neighborhood=%{x}<br>LotFrontage=%{y}<extra></extra>\",\"legendgroup\":\"BrDale\",\"marker\":{\"color\":\"#00cc96\"},\"name\":\"BrDale\",\"notched\":false,\"offsetgroup\":\"BrDale\",\"orientation\":\"v\",\"showlegend\":true,\"x\":[\"BrDale\",\"BrDale\",\"BrDale\",\"BrDale\",\"BrDale\",\"BrDale\",\"BrDale\",\"BrDale\",\"BrDale\",\"BrDale\",\"BrDale\",\"BrDale\",\"BrDale\",\"BrDale\",\"BrDale\",\"BrDale\",\"BrDale\",\"BrDale\",\"BrDale\",\"BrDale\",\"BrDale\",\"BrDale\",\"BrDale\",\"BrDale\",\"BrDale\",\"BrDale\",\"BrDale\",\"BrDale\",\"BrDale\",\"BrDale\"],\"x0\":\" \",\"xaxis\":\"x\",\"y\":[21.0,21.0,21.0,21.0,21.0,21.0,24.0,21.0,21.0,21.0,21.0,24.0,21.0,21.0,24.0,21.0,21.0,21.0,21.0,21.0,21.0,21.0,21.0,21.0,21.0,24.0,24.0,21.0,21.0,21.0],\"y0\":\" \",\"yaxis\":\"y\",\"type\":\"box\"},{\"alignmentgroup\":\"True\",\"hovertemplate\":\"Neighborhood=%{x}<br>LotFrontage=%{y}<extra></extra>\",\"legendgroup\":\"SWISU\",\"marker\":{\"color\":\"#ab63fa\"},\"name\":\"SWISU\",\"notched\":false,\"offsetgroup\":\"SWISU\",\"orientation\":\"v\",\"showlegend\":true,\"x\":[\"SWISU\",\"SWISU\",\"SWISU\",\"SWISU\",\"SWISU\",\"SWISU\",\"SWISU\",\"SWISU\",\"SWISU\",\"SWISU\",\"SWISU\",\"SWISU\",\"SWISU\",\"SWISU\",\"SWISU\",\"SWISU\",\"SWISU\",\"SWISU\",\"SWISU\",\"SWISU\",\"SWISU\",\"SWISU\",\"SWISU\",\"SWISU\",\"SWISU\",\"SWISU\",\"SWISU\",\"SWISU\",\"SWISU\",\"SWISU\",\"SWISU\",\"SWISU\",\"SWISU\",\"SWISU\",\"SWISU\",\"SWISU\",\"SWISU\",\"SWISU\",\"SWISU\",\"SWISU\",\"SWISU\",\"SWISU\",\"SWISU\",\"SWISU\",\"SWISU\",\"SWISU\",\"SWISU\",\"SWISU\"],\"x0\":\" \",\"xaxis\":\"x\",\"y\":[60.0,55.0,60.0,50.0,51.0,60.0,66.0,52.0,60.0,55.0,60.0,60.0,null,60.0,60.0,null,102.0,60.0,60.0,65.0,55.0,50.0,51.0,52.0,51.0,60.0,65.0,null,60.0,67.0,null,60.0,51.0,70.0,43.0,60.0,64.0,59.0,60.0,60.0,50.0,50.0,60.0,58.0,43.0,69.0,84.0,51.0],\"y0\":\" \",\"yaxis\":\"y\",\"type\":\"box\"},{\"alignmentgroup\":\"True\",\"hovertemplate\":\"Neighborhood=%{x}<br>LotFrontage=%{y}<extra></extra>\",\"legendgroup\":\"Blueste\",\"marker\":{\"color\":\"#FFA15A\"},\"name\":\"Blueste\",\"notched\":false,\"offsetgroup\":\"Blueste\",\"orientation\":\"v\",\"showlegend\":true,\"x\":[\"Blueste\",\"Blueste\",\"Blueste\",\"Blueste\",\"Blueste\",\"Blueste\",\"Blueste\",\"Blueste\",\"Blueste\",\"Blueste\"],\"x0\":\" \",\"xaxis\":\"x\",\"y\":[24.0,24.0,35.0,35.0,24.0,24.0,24.0,24.0,24.0,35.0],\"y0\":\" \",\"yaxis\":\"y\",\"type\":\"box\"}],                        {\"template\":{\"data\":{\"bar\":[{\"error_x\":{\"color\":\"#2a3f5f\"},\"error_y\":{\"color\":\"#2a3f5f\"},\"marker\":{\"line\":{\"color\":\"#E5ECF6\",\"width\":0.5},\"pattern\":{\"fillmode\":\"overlay\",\"size\":10,\"solidity\":0.2}},\"type\":\"bar\"}],\"barpolar\":[{\"marker\":{\"line\":{\"color\":\"#E5ECF6\",\"width\":0.5},\"pattern\":{\"fillmode\":\"overlay\",\"size\":10,\"solidity\":0.2}},\"type\":\"barpolar\"}],\"carpet\":[{\"aaxis\":{\"endlinecolor\":\"#2a3f5f\",\"gridcolor\":\"white\",\"linecolor\":\"white\",\"minorgridcolor\":\"white\",\"startlinecolor\":\"#2a3f5f\"},\"baxis\":{\"endlinecolor\":\"#2a3f5f\",\"gridcolor\":\"white\",\"linecolor\":\"white\",\"minorgridcolor\":\"white\",\"startlinecolor\":\"#2a3f5f\"},\"type\":\"carpet\"}],\"choropleth\":[{\"colorbar\":{\"outlinewidth\":0,\"ticks\":\"\"},\"type\":\"choropleth\"}],\"contour\":[{\"colorbar\":{\"outlinewidth\":0,\"ticks\":\"\"},\"colorscale\":[[0.0,\"#0d0887\"],[0.1111111111111111,\"#46039f\"],[0.2222222222222222,\"#7201a8\"],[0.3333333333333333,\"#9c179e\"],[0.4444444444444444,\"#bd3786\"],[0.5555555555555556,\"#d8576b\"],[0.6666666666666666,\"#ed7953\"],[0.7777777777777778,\"#fb9f3a\"],[0.8888888888888888,\"#fdca26\"],[1.0,\"#f0f921\"]],\"type\":\"contour\"}],\"contourcarpet\":[{\"colorbar\":{\"outlinewidth\":0,\"ticks\":\"\"},\"type\":\"contourcarpet\"}],\"heatmap\":[{\"colorbar\":{\"outlinewidth\":0,\"ticks\":\"\"},\"colorscale\":[[0.0,\"#0d0887\"],[0.1111111111111111,\"#46039f\"],[0.2222222222222222,\"#7201a8\"],[0.3333333333333333,\"#9c179e\"],[0.4444444444444444,\"#bd3786\"],[0.5555555555555556,\"#d8576b\"],[0.6666666666666666,\"#ed7953\"],[0.7777777777777778,\"#fb9f3a\"],[0.8888888888888888,\"#fdca26\"],[1.0,\"#f0f921\"]],\"type\":\"heatmap\"}],\"heatmapgl\":[{\"colorbar\":{\"outlinewidth\":0,\"ticks\":\"\"},\"colorscale\":[[0.0,\"#0d0887\"],[0.1111111111111111,\"#46039f\"],[0.2222222222222222,\"#7201a8\"],[0.3333333333333333,\"#9c179e\"],[0.4444444444444444,\"#bd3786\"],[0.5555555555555556,\"#d8576b\"],[0.6666666666666666,\"#ed7953\"],[0.7777777777777778,\"#fb9f3a\"],[0.8888888888888888,\"#fdca26\"],[1.0,\"#f0f921\"]],\"type\":\"heatmapgl\"}],\"histogram\":[{\"marker\":{\"pattern\":{\"fillmode\":\"overlay\",\"size\":10,\"solidity\":0.2}},\"type\":\"histogram\"}],\"histogram2d\":[{\"colorbar\":{\"outlinewidth\":0,\"ticks\":\"\"},\"colorscale\":[[0.0,\"#0d0887\"],[0.1111111111111111,\"#46039f\"],[0.2222222222222222,\"#7201a8\"],[0.3333333333333333,\"#9c179e\"],[0.4444444444444444,\"#bd3786\"],[0.5555555555555556,\"#d8576b\"],[0.6666666666666666,\"#ed7953\"],[0.7777777777777778,\"#fb9f3a\"],[0.8888888888888888,\"#fdca26\"],[1.0,\"#f0f921\"]],\"type\":\"histogram2d\"}],\"histogram2dcontour\":[{\"colorbar\":{\"outlinewidth\":0,\"ticks\":\"\"},\"colorscale\":[[0.0,\"#0d0887\"],[0.1111111111111111,\"#46039f\"],[0.2222222222222222,\"#7201a8\"],[0.3333333333333333,\"#9c179e\"],[0.4444444444444444,\"#bd3786\"],[0.5555555555555556,\"#d8576b\"],[0.6666666666666666,\"#ed7953\"],[0.7777777777777778,\"#fb9f3a\"],[0.8888888888888888,\"#fdca26\"],[1.0,\"#f0f921\"]],\"type\":\"histogram2dcontour\"}],\"mesh3d\":[{\"colorbar\":{\"outlinewidth\":0,\"ticks\":\"\"},\"type\":\"mesh3d\"}],\"parcoords\":[{\"line\":{\"colorbar\":{\"outlinewidth\":0,\"ticks\":\"\"}},\"type\":\"parcoords\"}],\"pie\":[{\"automargin\":true,\"type\":\"pie\"}],\"scatter\":[{\"marker\":{\"colorbar\":{\"outlinewidth\":0,\"ticks\":\"\"}},\"type\":\"scatter\"}],\"scatter3d\":[{\"line\":{\"colorbar\":{\"outlinewidth\":0,\"ticks\":\"\"}},\"marker\":{\"colorbar\":{\"outlinewidth\":0,\"ticks\":\"\"}},\"type\":\"scatter3d\"}],\"scattercarpet\":[{\"marker\":{\"colorbar\":{\"outlinewidth\":0,\"ticks\":\"\"}},\"type\":\"scattercarpet\"}],\"scattergeo\":[{\"marker\":{\"colorbar\":{\"outlinewidth\":0,\"ticks\":\"\"}},\"type\":\"scattergeo\"}],\"scattergl\":[{\"marker\":{\"colorbar\":{\"outlinewidth\":0,\"ticks\":\"\"}},\"type\":\"scattergl\"}],\"scattermapbox\":[{\"marker\":{\"colorbar\":{\"outlinewidth\":0,\"ticks\":\"\"}},\"type\":\"scattermapbox\"}],\"scatterpolar\":[{\"marker\":{\"colorbar\":{\"outlinewidth\":0,\"ticks\":\"\"}},\"type\":\"scatterpolar\"}],\"scatterpolargl\":[{\"marker\":{\"colorbar\":{\"outlinewidth\":0,\"ticks\":\"\"}},\"type\":\"scatterpolargl\"}],\"scatterternary\":[{\"marker\":{\"colorbar\":{\"outlinewidth\":0,\"ticks\":\"\"}},\"type\":\"scatterternary\"}],\"surface\":[{\"colorbar\":{\"outlinewidth\":0,\"ticks\":\"\"},\"colorscale\":[[0.0,\"#0d0887\"],[0.1111111111111111,\"#46039f\"],[0.2222222222222222,\"#7201a8\"],[0.3333333333333333,\"#9c179e\"],[0.4444444444444444,\"#bd3786\"],[0.5555555555555556,\"#d8576b\"],[0.6666666666666666,\"#ed7953\"],[0.7777777777777778,\"#fb9f3a\"],[0.8888888888888888,\"#fdca26\"],[1.0,\"#f0f921\"]],\"type\":\"surface\"}],\"table\":[{\"cells\":{\"fill\":{\"color\":\"#EBF0F8\"},\"line\":{\"color\":\"white\"}},\"header\":{\"fill\":{\"color\":\"#C8D4E3\"},\"line\":{\"color\":\"white\"}},\"type\":\"table\"}]},\"layout\":{\"annotationdefaults\":{\"arrowcolor\":\"#2a3f5f\",\"arrowhead\":0,\"arrowwidth\":1},\"autotypenumbers\":\"strict\",\"coloraxis\":{\"colorbar\":{\"outlinewidth\":0,\"ticks\":\"\"}},\"colorscale\":{\"diverging\":[[0,\"#8e0152\"],[0.1,\"#c51b7d\"],[0.2,\"#de77ae\"],[0.3,\"#f1b6da\"],[0.4,\"#fde0ef\"],[0.5,\"#f7f7f7\"],[0.6,\"#e6f5d0\"],[0.7,\"#b8e186\"],[0.8,\"#7fbc41\"],[0.9,\"#4d9221\"],[1,\"#276419\"]],\"sequential\":[[0.0,\"#0d0887\"],[0.1111111111111111,\"#46039f\"],[0.2222222222222222,\"#7201a8\"],[0.3333333333333333,\"#9c179e\"],[0.4444444444444444,\"#bd3786\"],[0.5555555555555556,\"#d8576b\"],[0.6666666666666666,\"#ed7953\"],[0.7777777777777778,\"#fb9f3a\"],[0.8888888888888888,\"#fdca26\"],[1.0,\"#f0f921\"]],\"sequentialminus\":[[0.0,\"#0d0887\"],[0.1111111111111111,\"#46039f\"],[0.2222222222222222,\"#7201a8\"],[0.3333333333333333,\"#9c179e\"],[0.4444444444444444,\"#bd3786\"],[0.5555555555555556,\"#d8576b\"],[0.6666666666666666,\"#ed7953\"],[0.7777777777777778,\"#fb9f3a\"],[0.8888888888888888,\"#fdca26\"],[1.0,\"#f0f921\"]]},\"colorway\":[\"#636efa\",\"#EF553B\",\"#00cc96\",\"#ab63fa\",\"#FFA15A\",\"#19d3f3\",\"#FF6692\",\"#B6E880\",\"#FF97FF\",\"#FECB52\"],\"font\":{\"color\":\"#2a3f5f\"},\"geo\":{\"bgcolor\":\"white\",\"lakecolor\":\"white\",\"landcolor\":\"#E5ECF6\",\"showlakes\":true,\"showland\":true,\"subunitcolor\":\"white\"},\"hoverlabel\":{\"align\":\"left\"},\"hovermode\":\"closest\",\"mapbox\":{\"style\":\"light\"},\"paper_bgcolor\":\"white\",\"plot_bgcolor\":\"#E5ECF6\",\"polar\":{\"angularaxis\":{\"gridcolor\":\"white\",\"linecolor\":\"white\",\"ticks\":\"\"},\"bgcolor\":\"#E5ECF6\",\"radialaxis\":{\"gridcolor\":\"white\",\"linecolor\":\"white\",\"ticks\":\"\"}},\"scene\":{\"xaxis\":{\"backgroundcolor\":\"#E5ECF6\",\"gridcolor\":\"white\",\"gridwidth\":2,\"linecolor\":\"white\",\"showbackground\":true,\"ticks\":\"\",\"zerolinecolor\":\"white\"},\"yaxis\":{\"backgroundcolor\":\"#E5ECF6\",\"gridcolor\":\"white\",\"gridwidth\":2,\"linecolor\":\"white\",\"showbackground\":true,\"ticks\":\"\",\"zerolinecolor\":\"white\"},\"zaxis\":{\"backgroundcolor\":\"#E5ECF6\",\"gridcolor\":\"white\",\"gridwidth\":2,\"linecolor\":\"white\",\"showbackground\":true,\"ticks\":\"\",\"zerolinecolor\":\"white\"}},\"shapedefaults\":{\"line\":{\"color\":\"#2a3f5f\"}},\"ternary\":{\"aaxis\":{\"gridcolor\":\"white\",\"linecolor\":\"white\",\"ticks\":\"\"},\"baxis\":{\"gridcolor\":\"white\",\"linecolor\":\"white\",\"ticks\":\"\"},\"bgcolor\":\"#E5ECF6\",\"caxis\":{\"gridcolor\":\"white\",\"linecolor\":\"white\",\"ticks\":\"\"}},\"title\":{\"x\":0.05},\"xaxis\":{\"automargin\":true,\"gridcolor\":\"white\",\"linecolor\":\"white\",\"ticks\":\"\",\"title\":{\"standoff\":15},\"zerolinecolor\":\"white\",\"zerolinewidth\":2},\"yaxis\":{\"automargin\":true,\"gridcolor\":\"white\",\"linecolor\":\"white\",\"ticks\":\"\",\"title\":{\"standoff\":15},\"zerolinecolor\":\"white\",\"zerolinewidth\":2}}},\"xaxis\":{\"anchor\":\"y\",\"domain\":[0.0,1.0],\"title\":{\"text\":\"Neighborhood\"},\"categoryorder\":\"array\",\"categoryarray\":[\"CollgCr\",\"Veenker\",\"Crawfor\",\"NoRidge\",\"Mitchel\",\"Somerst\",\"NWAmes\",\"OldTown\",\"BrkSide\",\"Sawyer\",\"NridgHt\",\"NAmes\",\"SawyerW\",\"IDOTRR\",\"MeadowV\",\"Edwards\",\"Timber\",\"Gilbert\",\"StoneBr\",\"ClearCr\",\"NPkVill\",\"Blmngtn\",\"BrDale\",\"SWISU\",\"Blueste\"]},\"yaxis\":{\"anchor\":\"x\",\"domain\":[0.0,1.0],\"title\":{\"text\":\"LotFrontage\"}},\"legend\":{\"title\":{\"text\":\"Neighborhood\"},\"tracegroupgap\":0},\"margin\":{\"t\":60},\"boxmode\":\"overlay\",\"height\":400,\"width\":800},                        {\"responsive\": true}                    ).then(function(){\n",
              "                            \n",
              "var gd = document.getElementById('ba643839-f05d-4d48-a23b-8f741392b526');\n",
              "var x = new MutationObserver(function (mutations, observer) {{\n",
              "        var display = window.getComputedStyle(gd).display;\n",
              "        if (!display || display === 'none') {{\n",
              "            console.log([gd, 'removed!']);\n",
              "            Plotly.purge(gd);\n",
              "            observer.disconnect();\n",
              "        }}\n",
              "}});\n",
              "\n",
              "// Listen for the removal of the full notebook cells\n",
              "var notebookContainer = gd.closest('#notebook-container');\n",
              "if (notebookContainer) {{\n",
              "    x.observe(notebookContainer, {childList: true});\n",
              "}}\n",
              "\n",
              "// Listen for the clearing of the current output cell\n",
              "var outputEl = gd.closest('.output');\n",
              "if (outputEl) {{\n",
              "    x.observe(outputEl, {childList: true});\n",
              "}}\n",
              "\n",
              "                        })                };                            </script>        </div>\n",
              "</body>\n",
              "</html>"
            ]
          },
          "metadata": {}
        },
        {
          "output_type": "stream",
          "name": "stdout",
          "text": [
            "                     sum_sq      df          F         PR(>F)\n",
            "Neighborhood  354702.462753    24.0  36.662697  1.468147e-143\n",
            "Residual      970700.025533  2408.0        NaN            NaN\n"
          ]
        }
      ],
      "source": [
        "import plotly.express as px\n",
        "fig = px.box(all_features, x='Neighborhood', y='LotFrontage', color='Neighborhood', width=800, height=400)\n",
        "fig.show()\n",
        "\n",
        "import statsmodels.api as sm\n",
        "from statsmodels.formula.api import ols\n",
        "model = ols('LotFrontage ~ Neighborhood', data=all_features).fit()\n",
        "anova_table = sm.stats.anova_lm(model, typ=2)\n",
        "print(anova_table)"
      ]
    },
    {
      "cell_type": "code",
      "execution_count": null,
      "metadata": {
        "colab": {
          "base_uri": "https://localhost:8080/",
          "height": 470
        },
        "id": "nTzbLgp27ORj",
        "outputId": "efc151c2-bd31-4b3c-b543-3e38f0f3692f"
      },
      "outputs": [
        {
          "output_type": "display_data",
          "data": {
            "text/html": [
              "<html>\n",
              "<head><meta charset=\"utf-8\" /></head>\n",
              "<body>\n",
              "    <div>            <script src=\"https://cdnjs.cloudflare.com/ajax/libs/mathjax/2.7.5/MathJax.js?config=TeX-AMS-MML_SVG\"></script><script type=\"text/javascript\">if (window.MathJax) {MathJax.Hub.Config({SVG: {font: \"STIX-Web\"}});}</script>                <script type=\"text/javascript\">window.PlotlyConfig = {MathJaxConfig: 'local'};</script>\n",
              "        <script src=\"https://cdn.plot.ly/plotly-2.8.3.min.js\"></script>                <div id=\"41189a61-371a-44de-8334-a50e1faf8273\" class=\"plotly-graph-div\" style=\"height:400px; width:800px;\"></div>            <script type=\"text/javascript\">                                    window.PLOTLYENV=window.PLOTLYENV || {};                                    if (document.getElementById(\"41189a61-371a-44de-8334-a50e1faf8273\")) {                    Plotly.newPlot(                        \"41189a61-371a-44de-8334-a50e1faf8273\",                        [{\"alignmentgroup\":\"True\",\"hovertemplate\":\"MasVnrType=%{x}<br>MasVnrArea=%{y}<extra></extra>\",\"legendgroup\":\"BrkFace\",\"marker\":{\"color\":\"#636efa\"},\"name\":\"BrkFace\",\"notched\":false,\"offsetgroup\":\"BrkFace\",\"orientation\":\"v\",\"showlegend\":true,\"x\":[\"BrkFace\",\"BrkFace\",\"BrkFace\",\"BrkFace\",\"BrkFace\",\"BrkFace\",\"BrkFace\",\"BrkFace\",\"BrkFace\",\"BrkFace\",\"BrkFace\",\"BrkFace\",\"BrkFace\",\"BrkFace\",\"BrkFace\",\"BrkFace\",\"BrkFace\",\"BrkFace\",\"BrkFace\",\"BrkFace\",\"BrkFace\",\"BrkFace\",\"BrkFace\",\"BrkFace\",\"BrkFace\",\"BrkFace\",\"BrkFace\",\"BrkFace\",\"BrkFace\",\"BrkFace\",\"BrkFace\",\"BrkFace\",\"BrkFace\",\"BrkFace\",\"BrkFace\",\"BrkFace\",\"BrkFace\",\"BrkFace\",\"BrkFace\",\"BrkFace\",\"BrkFace\",\"BrkFace\",\"BrkFace\",\"BrkFace\",\"BrkFace\",\"BrkFace\",\"BrkFace\",\"BrkFace\",\"BrkFace\",\"BrkFace\",\"BrkFace\",\"BrkFace\",\"BrkFace\",\"BrkFace\",\"BrkFace\",\"BrkFace\",\"BrkFace\",\"BrkFace\",\"BrkFace\",\"BrkFace\",\"BrkFace\",\"BrkFace\",\"BrkFace\",\"BrkFace\",\"BrkFace\",\"BrkFace\",\"BrkFace\",\"BrkFace\",\"BrkFace\",\"BrkFace\",\"BrkFace\",\"BrkFace\",\"BrkFace\",\"BrkFace\",\"BrkFace\",\"BrkFace\",\"BrkFace\",\"BrkFace\",\"BrkFace\",\"BrkFace\",\"BrkFace\",\"BrkFace\",\"BrkFace\",\"BrkFace\",\"BrkFace\",\"BrkFace\",\"BrkFace\",\"BrkFace\",\"BrkFace\",\"BrkFace\",\"BrkFace\",\"BrkFace\",\"BrkFace\",\"BrkFace\",\"BrkFace\",\"BrkFace\",\"BrkFace\",\"BrkFace\",\"BrkFace\",\"BrkFace\",\"BrkFace\",\"BrkFace\",\"BrkFace\",\"BrkFace\",\"BrkFace\",\"BrkFace\",\"BrkFace\",\"BrkFace\",\"BrkFace\",\"BrkFace\",\"BrkFace\",\"BrkFace\",\"BrkFace\",\"BrkFace\",\"BrkFace\",\"BrkFace\",\"BrkFace\",\"BrkFace\",\"BrkFace\",\"BrkFace\",\"BrkFace\",\"BrkFace\",\"BrkFace\",\"BrkFace\",\"BrkFace\",\"BrkFace\",\"BrkFace\",\"BrkFace\",\"BrkFace\",\"BrkFace\",\"BrkFace\",\"BrkFace\",\"BrkFace\",\"BrkFace\",\"BrkFace\",\"BrkFace\",\"BrkFace\",\"BrkFace\",\"BrkFace\",\"BrkFace\",\"BrkFace\",\"BrkFace\",\"BrkFace\",\"BrkFace\",\"BrkFace\",\"BrkFace\",\"BrkFace\",\"BrkFace\",\"BrkFace\",\"BrkFace\",\"BrkFace\",\"BrkFace\",\"BrkFace\",\"BrkFace\",\"BrkFace\",\"BrkFace\",\"BrkFace\",\"BrkFace\",\"BrkFace\",\"BrkFace\",\"BrkFace\",\"BrkFace\",\"BrkFace\",\"BrkFace\",\"BrkFace\",\"BrkFace\",\"BrkFace\",\"BrkFace\",\"BrkFace\",\"BrkFace\",\"BrkFace\",\"BrkFace\",\"BrkFace\",\"BrkFace\",\"BrkFace\",\"BrkFace\",\"BrkFace\",\"BrkFace\",\"BrkFace\",\"BrkFace\",\"BrkFace\",\"BrkFace\",\"BrkFace\",\"BrkFace\",\"BrkFace\",\"BrkFace\",\"BrkFace\",\"BrkFace\",\"BrkFace\",\"BrkFace\",\"BrkFace\",\"BrkFace\",\"BrkFace\",\"BrkFace\",\"BrkFace\",\"BrkFace\",\"BrkFace\",\"BrkFace\",\"BrkFace\",\"BrkFace\",\"BrkFace\",\"BrkFace\",\"BrkFace\",\"BrkFace\",\"BrkFace\",\"BrkFace\",\"BrkFace\",\"BrkFace\",\"BrkFace\",\"BrkFace\",\"BrkFace\",\"BrkFace\",\"BrkFace\",\"BrkFace\",\"BrkFace\",\"BrkFace\",\"BrkFace\",\"BrkFace\",\"BrkFace\",\"BrkFace\",\"BrkFace\",\"BrkFace\",\"BrkFace\",\"BrkFace\",\"BrkFace\",\"BrkFace\",\"BrkFace\",\"BrkFace\",\"BrkFace\",\"BrkFace\",\"BrkFace\",\"BrkFace\",\"BrkFace\",\"BrkFace\",\"BrkFace\",\"BrkFace\",\"BrkFace\",\"BrkFace\",\"BrkFace\",\"BrkFace\",\"BrkFace\",\"BrkFace\",\"BrkFace\",\"BrkFace\",\"BrkFace\",\"BrkFace\",\"BrkFace\",\"BrkFace\",\"BrkFace\",\"BrkFace\",\"BrkFace\",\"BrkFace\",\"BrkFace\",\"BrkFace\",\"BrkFace\",\"BrkFace\",\"BrkFace\",\"BrkFace\",\"BrkFace\",\"BrkFace\",\"BrkFace\",\"BrkFace\",\"BrkFace\",\"BrkFace\",\"BrkFace\",\"BrkFace\",\"BrkFace\",\"BrkFace\",\"BrkFace\",\"BrkFace\",\"BrkFace\",\"BrkFace\",\"BrkFace\",\"BrkFace\",\"BrkFace\",\"BrkFace\",\"BrkFace\",\"BrkFace\",\"BrkFace\",\"BrkFace\",\"BrkFace\",\"BrkFace\",\"BrkFace\",\"BrkFace\",\"BrkFace\",\"BrkFace\",\"BrkFace\",\"BrkFace\",\"BrkFace\",\"BrkFace\",\"BrkFace\",\"BrkFace\",\"BrkFace\",\"BrkFace\",\"BrkFace\",\"BrkFace\",\"BrkFace\",\"BrkFace\",\"BrkFace\",\"BrkFace\",\"BrkFace\",\"BrkFace\",\"BrkFace\",\"BrkFace\",\"BrkFace\",\"BrkFace\",\"BrkFace\",\"BrkFace\",\"BrkFace\",\"BrkFace\",\"BrkFace\",\"BrkFace\",\"BrkFace\",\"BrkFace\",\"BrkFace\",\"BrkFace\",\"BrkFace\",\"BrkFace\",\"BrkFace\",\"BrkFace\",\"BrkFace\",\"BrkFace\",\"BrkFace\",\"BrkFace\",\"BrkFace\",\"BrkFace\",\"BrkFace\",\"BrkFace\",\"BrkFace\",\"BrkFace\",\"BrkFace\",\"BrkFace\",\"BrkFace\",\"BrkFace\",\"BrkFace\",\"BrkFace\",\"BrkFace\",\"BrkFace\",\"BrkFace\",\"BrkFace\",\"BrkFace\",\"BrkFace\",\"BrkFace\",\"BrkFace\",\"BrkFace\",\"BrkFace\",\"BrkFace\",\"BrkFace\",\"BrkFace\",\"BrkFace\",\"BrkFace\",\"BrkFace\",\"BrkFace\",\"BrkFace\",\"BrkFace\",\"BrkFace\",\"BrkFace\",\"BrkFace\",\"BrkFace\",\"BrkFace\",\"BrkFace\",\"BrkFace\",\"BrkFace\",\"BrkFace\",\"BrkFace\",\"BrkFace\",\"BrkFace\",\"BrkFace\",\"BrkFace\",\"BrkFace\",\"BrkFace\",\"BrkFace\",\"BrkFace\",\"BrkFace\",\"BrkFace\",\"BrkFace\",\"BrkFace\",\"BrkFace\",\"BrkFace\",\"BrkFace\",\"BrkFace\",\"BrkFace\",\"BrkFace\",\"BrkFace\",\"BrkFace\",\"BrkFace\",\"BrkFace\",\"BrkFace\",\"BrkFace\",\"BrkFace\",\"BrkFace\",\"BrkFace\",\"BrkFace\",\"BrkFace\",\"BrkFace\",\"BrkFace\",\"BrkFace\",\"BrkFace\",\"BrkFace\",\"BrkFace\",\"BrkFace\",\"BrkFace\",\"BrkFace\",\"BrkFace\",\"BrkFace\",\"BrkFace\",\"BrkFace\",\"BrkFace\",\"BrkFace\",\"BrkFace\",\"BrkFace\",\"BrkFace\",\"BrkFace\",\"BrkFace\",\"BrkFace\",\"BrkFace\",\"BrkFace\",\"BrkFace\",\"BrkFace\",\"BrkFace\",\"BrkFace\",\"BrkFace\",\"BrkFace\",\"BrkFace\",\"BrkFace\",\"BrkFace\",\"BrkFace\",\"BrkFace\",\"BrkFace\",\"BrkFace\",\"BrkFace\",\"BrkFace\",\"BrkFace\",\"BrkFace\",\"BrkFace\",\"BrkFace\",\"BrkFace\",\"BrkFace\",\"BrkFace\",\"BrkFace\",\"BrkFace\",\"BrkFace\",\"BrkFace\",\"BrkFace\",\"BrkFace\",\"BrkFace\",\"BrkFace\",\"BrkFace\",\"BrkFace\",\"BrkFace\",\"BrkFace\",\"BrkFace\",\"BrkFace\",\"BrkFace\",\"BrkFace\",\"BrkFace\",\"BrkFace\",\"BrkFace\",\"BrkFace\",\"BrkFace\",\"BrkFace\",\"BrkFace\",\"BrkFace\",\"BrkFace\",\"BrkFace\",\"BrkFace\",\"BrkFace\",\"BrkFace\",\"BrkFace\",\"BrkFace\",\"BrkFace\",\"BrkFace\",\"BrkFace\",\"BrkFace\",\"BrkFace\",\"BrkFace\",\"BrkFace\",\"BrkFace\",\"BrkFace\",\"BrkFace\",\"BrkFace\",\"BrkFace\",\"BrkFace\",\"BrkFace\",\"BrkFace\",\"BrkFace\",\"BrkFace\",\"BrkFace\",\"BrkFace\",\"BrkFace\",\"BrkFace\",\"BrkFace\",\"BrkFace\",\"BrkFace\",\"BrkFace\",\"BrkFace\",\"BrkFace\",\"BrkFace\",\"BrkFace\",\"BrkFace\",\"BrkFace\",\"BrkFace\",\"BrkFace\",\"BrkFace\",\"BrkFace\",\"BrkFace\",\"BrkFace\",\"BrkFace\",\"BrkFace\",\"BrkFace\",\"BrkFace\",\"BrkFace\",\"BrkFace\",\"BrkFace\",\"BrkFace\",\"BrkFace\",\"BrkFace\",\"BrkFace\",\"BrkFace\",\"BrkFace\",\"BrkFace\",\"BrkFace\",\"BrkFace\",\"BrkFace\",\"BrkFace\",\"BrkFace\",\"BrkFace\",\"BrkFace\",\"BrkFace\",\"BrkFace\",\"BrkFace\",\"BrkFace\",\"BrkFace\",\"BrkFace\",\"BrkFace\",\"BrkFace\",\"BrkFace\",\"BrkFace\",\"BrkFace\",\"BrkFace\",\"BrkFace\",\"BrkFace\",\"BrkFace\",\"BrkFace\",\"BrkFace\",\"BrkFace\",\"BrkFace\",\"BrkFace\",\"BrkFace\",\"BrkFace\",\"BrkFace\",\"BrkFace\",\"BrkFace\",\"BrkFace\",\"BrkFace\",\"BrkFace\",\"BrkFace\",\"BrkFace\",\"BrkFace\",\"BrkFace\",\"BrkFace\",\"BrkFace\",\"BrkFace\",\"BrkFace\",\"BrkFace\",\"BrkFace\",\"BrkFace\",\"BrkFace\",\"BrkFace\",\"BrkFace\",\"BrkFace\",\"BrkFace\",\"BrkFace\",\"BrkFace\",\"BrkFace\",\"BrkFace\",\"BrkFace\",\"BrkFace\",\"BrkFace\",\"BrkFace\",\"BrkFace\",\"BrkFace\",\"BrkFace\",\"BrkFace\",\"BrkFace\",\"BrkFace\",\"BrkFace\",\"BrkFace\",\"BrkFace\",\"BrkFace\",\"BrkFace\",\"BrkFace\",\"BrkFace\",\"BrkFace\",\"BrkFace\",\"BrkFace\",\"BrkFace\",\"BrkFace\",\"BrkFace\",\"BrkFace\",\"BrkFace\",\"BrkFace\",\"BrkFace\",\"BrkFace\",\"BrkFace\",\"BrkFace\",\"BrkFace\",\"BrkFace\",\"BrkFace\",\"BrkFace\",\"BrkFace\",\"BrkFace\",\"BrkFace\",\"BrkFace\",\"BrkFace\",\"BrkFace\",\"BrkFace\",\"BrkFace\",\"BrkFace\",\"BrkFace\",\"BrkFace\",\"BrkFace\",\"BrkFace\",\"BrkFace\",\"BrkFace\",\"BrkFace\",\"BrkFace\",\"BrkFace\",\"BrkFace\",\"BrkFace\",\"BrkFace\",\"BrkFace\",\"BrkFace\",\"BrkFace\",\"BrkFace\",\"BrkFace\",\"BrkFace\",\"BrkFace\",\"BrkFace\",\"BrkFace\",\"BrkFace\",\"BrkFace\",\"BrkFace\",\"BrkFace\",\"BrkFace\",\"BrkFace\",\"BrkFace\",\"BrkFace\",\"BrkFace\",\"BrkFace\",\"BrkFace\",\"BrkFace\",\"BrkFace\",\"BrkFace\",\"BrkFace\",\"BrkFace\",\"BrkFace\",\"BrkFace\",\"BrkFace\",\"BrkFace\",\"BrkFace\",\"BrkFace\",\"BrkFace\",\"BrkFace\",\"BrkFace\",\"BrkFace\",\"BrkFace\",\"BrkFace\",\"BrkFace\",\"BrkFace\",\"BrkFace\",\"BrkFace\",\"BrkFace\",\"BrkFace\",\"BrkFace\",\"BrkFace\",\"BrkFace\",\"BrkFace\",\"BrkFace\",\"BrkFace\",\"BrkFace\",\"BrkFace\",\"BrkFace\",\"BrkFace\",\"BrkFace\",\"BrkFace\",\"BrkFace\",\"BrkFace\",\"BrkFace\",\"BrkFace\",\"BrkFace\",\"BrkFace\",\"BrkFace\",\"BrkFace\",\"BrkFace\",\"BrkFace\",\"BrkFace\",\"BrkFace\",\"BrkFace\",\"BrkFace\",\"BrkFace\",\"BrkFace\",\"BrkFace\",\"BrkFace\",\"BrkFace\",\"BrkFace\",\"BrkFace\",\"BrkFace\",\"BrkFace\",\"BrkFace\",\"BrkFace\",\"BrkFace\",\"BrkFace\",\"BrkFace\",\"BrkFace\",\"BrkFace\",\"BrkFace\",\"BrkFace\",\"BrkFace\",\"BrkFace\",\"BrkFace\",\"BrkFace\",\"BrkFace\",\"BrkFace\",\"BrkFace\",\"BrkFace\",\"BrkFace\",\"BrkFace\",\"BrkFace\",\"BrkFace\",\"BrkFace\",\"BrkFace\",\"BrkFace\",\"BrkFace\",\"BrkFace\",\"BrkFace\",\"BrkFace\",\"BrkFace\",\"BrkFace\",\"BrkFace\",\"BrkFace\",\"BrkFace\",\"BrkFace\",\"BrkFace\",\"BrkFace\",\"BrkFace\",\"BrkFace\",\"BrkFace\",\"BrkFace\",\"BrkFace\",\"BrkFace\",\"BrkFace\",\"BrkFace\",\"BrkFace\",\"BrkFace\",\"BrkFace\",\"BrkFace\",\"BrkFace\",\"BrkFace\",\"BrkFace\",\"BrkFace\",\"BrkFace\",\"BrkFace\",\"BrkFace\",\"BrkFace\",\"BrkFace\",\"BrkFace\",\"BrkFace\",\"BrkFace\",\"BrkFace\",\"BrkFace\",\"BrkFace\",\"BrkFace\",\"BrkFace\",\"BrkFace\",\"BrkFace\",\"BrkFace\",\"BrkFace\",\"BrkFace\",\"BrkFace\",\"BrkFace\",\"BrkFace\",\"BrkFace\",\"BrkFace\",\"BrkFace\",\"BrkFace\",\"BrkFace\",\"BrkFace\",\"BrkFace\",\"BrkFace\",\"BrkFace\",\"BrkFace\",\"BrkFace\",\"BrkFace\",\"BrkFace\",\"BrkFace\",\"BrkFace\",\"BrkFace\",\"BrkFace\",\"BrkFace\",\"BrkFace\",\"BrkFace\",\"BrkFace\",\"BrkFace\",\"BrkFace\",\"BrkFace\",\"BrkFace\",\"BrkFace\",\"BrkFace\",\"BrkFace\",\"BrkFace\",\"BrkFace\",\"BrkFace\",\"BrkFace\",\"BrkFace\",\"BrkFace\",\"BrkFace\",\"BrkFace\",\"BrkFace\",\"BrkFace\",\"BrkFace\",\"BrkFace\",\"BrkFace\",\"BrkFace\",\"BrkFace\",\"BrkFace\",\"BrkFace\",\"BrkFace\",\"BrkFace\",\"BrkFace\",\"BrkFace\",\"BrkFace\",\"BrkFace\",\"BrkFace\",\"BrkFace\",\"BrkFace\",\"BrkFace\",\"BrkFace\",\"BrkFace\",\"BrkFace\",\"BrkFace\",\"BrkFace\",\"BrkFace\",\"BrkFace\",\"BrkFace\",\"BrkFace\",\"BrkFace\",\"BrkFace\",\"BrkFace\",\"BrkFace\",\"BrkFace\",\"BrkFace\",\"BrkFace\",\"BrkFace\",\"BrkFace\",\"BrkFace\",\"BrkFace\",\"BrkFace\",\"BrkFace\",\"BrkFace\",\"BrkFace\",\"BrkFace\",\"BrkFace\",\"BrkFace\",\"BrkFace\",\"BrkFace\",\"BrkFace\",\"BrkFace\",\"BrkFace\",\"BrkFace\",\"BrkFace\",\"BrkFace\",\"BrkFace\",\"BrkFace\",\"BrkFace\",\"BrkFace\",\"BrkFace\",\"BrkFace\",\"BrkFace\"],\"x0\":\" \",\"xaxis\":\"x\",\"y\":[196.0,162.0,350.0,212.0,180.0,380.0,281.0,246.0,650.0,101.0,412.0,272.0,456.0,1031.0,573.0,344.0,287.0,167.0,1115.0,40.0,104.0,576.0,443.0,22.0,284.0,68.0,183.0,48.0,28.0,336.0,600.0,768.0,480.0,184.0,1129.0,116.0,135.0,266.0,85.0,309.0,40.0,136.0,288.0,196.0,70.0,320.0,183.0,336.0,180.0,120.0,252.0,84.0,456.0,664.0,226.0,653.0,268.0,456.0,98.0,138.0,262.0,205.0,128.0,153.0,64.0,266.0,312.0,16.0,922.0,142.0,290.0,127.0,16.0,220.0,506.0,297.0,604.0,98.0,254.0,102.0,101.0,108.0,302.0,172.0,399.0,46.0,210.0,174.0,348.0,315.0,299.0,340.0,31.0,34.0,1600.0,365.0,56.0,150.0,246.0,112.0,278.0,256.0,225.0,388.0,172.0,300.0,175.0,84.0,296.0,113.0,176.0,340.0,616.0,30.0,870.0,362.0,106.0,120.0,530.0,500.0,510.0,120.0,247.0,305.0,200.0,16.0,16.0,255.0,125.0,288.0,650.0,350.0,203.0,200.0,473.0,74.0,145.0,108.0,232.0,376.0,270.0,72.0,42.0,320.0,136.0,18.0,120.0,80.0,304.0,215.0,772.0,378.0,562.0,116.0,168.0,89.0,285.0,360.0,125.0,132.0,305.0,333.0,921.0,594.0,219.0,188.0,479.0,584.0,72.0,182.0,178.0,292.0,18.0,180.0,245.0,168.0,108.0,207.0,82.0,97.0,335.0,85.0,306.0,104.0,208.0,170.0,238.0,72.0,459.0,280.0,99.0,176.0,204.0,233.0,108.0,156.0,452.0,153.0,513.0,261.0,164.0,192.0,259.0,209.0,472.0,263.0,351.0,660.0,381.0,54.0,233.0,528.0,216.0,40.0,258.0,106.0,57.0,30.0,0.0,147.0,1170.0,293.0,72.0,630.0,168.0,466.0,109.0,176.0,160.0,289.0,174.0,651.0,169.0,260.0,95.0,442.0,202.0,108.0,289.0,338.0,178.0,894.0,360.0,513.0,673.0,42.0,603.0,375.0,320.0,240.0,320.0,90.0,38.0,104.0,157.0,11.0,130.0,148.0,252.0,1047.0,99.0,169.0,243.0,442.0,148.0,80.0,816.0,387.0,223.0,180.0,136.0,158.0,183.0,137.0,360.0,170.0,40.0,115.0,189.0,220.0,76.0,246.0,116.0,90.0,117.0,60.0,60.0,122.0,90.0,92.0,415.0,27.0,75.0,361.0,80.0,105.0,157.0,340.0,342.0,285.0,210.0,108.0,298.0,541.0,128.0,236.0,144.0,232.0,250.0,423.0,424.0,44.0,151.0,105.0,975.0,16.0,298.0,423.0,340.0,571.0,53.0,164.0,16.0,220.0,206.0,196.0,76.0,145.0,14.0,324.0,281.0,396.0,252.0,99.0,75.0,210.0,160.0,480.0,200.0,360.0,120.0,140.0,169.0,144.0,100.0,425.0,212.0,166.0,206.0,45.0,304.0,362.0,660.0,196.0,170.0,130.0,180.0,44.0,85.0,132.0,270.0,72.0,1378.0,337.0,226.0,95.0,456.0,425.0,51.0,171.0,234.0,120.0,236.0,320.0,44.0,63.0,300.0,766.0,120.0,180.0,32.0,252.0,81.0,74.0,335.0,554.0,218.0,632.0,180.0,114.0,84.0,359.0,110.0,54.0,451.0,86.0,268.0,168.0,148.0,82.0,391.0,228.0,88.0,80.0,336.0,165.0,178.0,132.0,428.0,360.0,564.0,149.0,368.0,318.0,579.0,143.0,65.0,216.0,66.0,158.0,170.0,171.0,705.0,80.0,408.0,184.0,244.0,45.0,245.0,123.0,130.0,731.0,312.0,420.0,170.0,448.0,310.0,318.0,237.0,96.0,147.0,106.0,189.0,438.0,80.0,108.0,20.0,504.0,492.0,615.0,240.0,1095.0,232.0,14.0,114.0,226.0,122.0,504.0,180.0,120.0,216.0,1159.0,120.0,172.0,268.0,144.0,265.0,216.0,506.0,150.0,91.0,218.0,771.0,90.0,72.0,47.0,288.0,177.0,85.0,320.0,170.0,203.0,371.0,430.0,44.0,440.0,188.0,32.0,45.0,157.0,256.0,101.0,229.0,144.0,161.0,196.0,178.0,504.0,425.0,165.0,238.0,418.0,724.0,470.0,308.0,500.0,270.0,16.0,200.0,210.0,150.0,634.0,286.0,372.0,294.0,288.0,264.0,140.0,132.0,141.0,60.0,115.0,196.0,513.0,218.0,450.0,200.0,256.0,128.0,200.0,283.0,252.0,509.0,160.0,70.0,217.0,90.0,3.0,210.0,164.0,128.0,657.0,80.0,140.0,295.0,82.0,420.0,124.0,444.0,172.0,23.0,54.0,366.0,149.0,100.0,216.0,23.0,23.0,23.0,140.0,120.0,68.0,180.0,76.0,40.0,198.0,260.0,164.0,209.0,180.0,80.0,74.0,259.0,88.0,242.0,406.0,310.0,182.0,176.0,178.0,119.0,194.0,296.0,178.0,44.0,102.0,174.0,383.0,194.0,621.0,280.0,168.0,120.0,402.0,72.0,359.0,422.0,356.0,480.0,270.0,468.0,368.0,504.0,1110.0,221.0,492.0,714.0,176.0,196.0,143.0,24.0,20.0,196.0,647.0,1290.0,295.0,495.0,466.0,320.0,128.0,292.0,95.0,126.0,38.0,120.0,145.0,144.0,304.0,568.0,260.0,179.0,260.0,216.0,513.0,466.0,456.0,1050.0,203.0,88.0,410.0,143.0,187.0,84.0,360.0,125.0,276.0,164.0,39.0,340.0,190.0,251.0,302.0,150.0,128.0,120.0,180.0,176.0,227.0,134.0,240.0,192.0,205.0,222.0,84.0,174.0,88.0,162.0,668.0,340.0,128.0,228.0,206.0,674.0,200.0,197.0,98.0,302.0,32.0,52.0,710.0,165.0,945.0,250.0,306.0,549.0,98.0,253.0,176.0,32.0,567.0,265.0,52.0,456.0,190.0,400.0,365.0,970.0,502.0,280.0,210.0,210.0,394.0,176.0,0.0,72.0,16.0,16.0,515.0,422.0,275.0,309.0,526.0,164.0,248.0,754.0,148.0,143.0,298.0,353.0,126.0,170.0,272.0,44.0,342.0,216.0,600.0,41.0,525.0,196.0,112.0,194.0,203.0,56.0,202.0,98.0,306.0,212.0,136.0,176.0,87.0,291.0,289.0,364.0,53.0,86.0,234.0,30.0,50.0,442.0,89.0,323.0,356.0,340.0,136.0,149.0,204.0,132.0,360.0,290.0,144.0,113.0,51.0,214.0,519.0,256.0,254.0,158.0,162.0,423.0,652.0,166.0,352.0,1224.0,86.0,886.0,203.0,94.0,242.0,134.0,189.0,144.0,244.0,434.0,216.0,248.0,112.0,600.0,662.0,184.0,550.0,230.0,420.0,130.0,68.0,248.0,176.0,514.0,200.0,380.0,504.0,504.0,232.0,568.0,525.0,385.0,142.0,430.0,674.0,112.0,278.0,518.0,572.0,236.0,14.0,40.0,18.0,14.0,242.0,322.0,877.0,397.0,738.0,501.0,420.0,60.0,118.0,172.0,96.0,51.0,90.0,145.0,692.0,513.0,144.0,264.0,300.0,203.0,140.0,112.0,88.0,332.0,632.0,272.0,176.0,522.0,379.0,104.0,145.0,305.0,450.0,200.0,99.0,123.0,153.0,232.0,232.0,198.0,140.0,532.0,68.0,62.0,123.0,199.0,148.0,261.0,227.0,170.0,355.0,190.0,82.0,60.0,270.0,405.0,327.0,257.0,382.0,200.0,194.0,94.0],\"y0\":\" \",\"yaxis\":\"y\",\"type\":\"box\"},{\"alignmentgroup\":\"True\",\"hovertemplate\":\"MasVnrType=%{x}<br>MasVnrArea=%{y}<extra></extra>\",\"legendgroup\":\"None\",\"marker\":{\"color\":\"#EF553B\"},\"name\":\"None\",\"notched\":false,\"offsetgroup\":\"None\",\"orientation\":\"v\",\"showlegend\":true,\"x\":[\"None\",\"None\",\"None\",\"None\",\"None\",\"None\",\"None\",\"None\",\"None\",\"None\",\"None\",\"None\",\"None\",\"None\",\"None\",\"None\",\"None\",\"None\",\"None\",\"None\",\"None\",\"None\",\"None\",\"None\",\"None\",\"None\",\"None\",\"None\",\"None\",\"None\",\"None\",\"None\",\"None\",\"None\",\"None\",\"None\",\"None\",\"None\",\"None\",\"None\",\"None\",\"None\",\"None\",\"None\",\"None\",\"None\",\"None\",\"None\",\"None\",\"None\",\"None\",\"None\",\"None\",\"None\",\"None\",\"None\",\"None\",\"None\",\"None\",\"None\",\"None\",\"None\",\"None\",\"None\",\"None\",\"None\",\"None\",\"None\",\"None\",\"None\",\"None\",\"None\",\"None\",\"None\",\"None\",\"None\",\"None\",\"None\",\"None\",\"None\",\"None\",\"None\",\"None\",\"None\",\"None\",\"None\",\"None\",\"None\",\"None\",\"None\",\"None\",\"None\",\"None\",\"None\",\"None\",\"None\",\"None\",\"None\",\"None\",\"None\",\"None\",\"None\",\"None\",\"None\",\"None\",\"None\",\"None\",\"None\",\"None\",\"None\",\"None\",\"None\",\"None\",\"None\",\"None\",\"None\",\"None\",\"None\",\"None\",\"None\",\"None\",\"None\",\"None\",\"None\",\"None\",\"None\",\"None\",\"None\",\"None\",\"None\",\"None\",\"None\",\"None\",\"None\",\"None\",\"None\",\"None\",\"None\",\"None\",\"None\",\"None\",\"None\",\"None\",\"None\",\"None\",\"None\",\"None\",\"None\",\"None\",\"None\",\"None\",\"None\",\"None\",\"None\",\"None\",\"None\",\"None\",\"None\",\"None\",\"None\",\"None\",\"None\",\"None\",\"None\",\"None\",\"None\",\"None\",\"None\",\"None\",\"None\",\"None\",\"None\",\"None\",\"None\",\"None\",\"None\",\"None\",\"None\",\"None\",\"None\",\"None\",\"None\",\"None\",\"None\",\"None\",\"None\",\"None\",\"None\",\"None\",\"None\",\"None\",\"None\",\"None\",\"None\",\"None\",\"None\",\"None\",\"None\",\"None\",\"None\",\"None\",\"None\",\"None\",\"None\",\"None\",\"None\",\"None\",\"None\",\"None\",\"None\",\"None\",\"None\",\"None\",\"None\",\"None\",\"None\",\"None\",\"None\",\"None\",\"None\",\"None\",\"None\",\"None\",\"None\",\"None\",\"None\",\"None\",\"None\",\"None\",\"None\",\"None\",\"None\",\"None\",\"None\",\"None\",\"None\",\"None\",\"None\",\"None\",\"None\",\"None\",\"None\",\"None\",\"None\",\"None\",\"None\",\"None\",\"None\",\"None\",\"None\",\"None\",\"None\",\"None\",\"None\",\"None\",\"None\",\"None\",\"None\",\"None\",\"None\",\"None\",\"None\",\"None\",\"None\",\"None\",\"None\",\"None\",\"None\",\"None\",\"None\",\"None\",\"None\",\"None\",\"None\",\"None\",\"None\",\"None\",\"None\",\"None\",\"None\",\"None\",\"None\",\"None\",\"None\",\"None\",\"None\",\"None\",\"None\",\"None\",\"None\",\"None\",\"None\",\"None\",\"None\",\"None\",\"None\",\"None\",\"None\",\"None\",\"None\",\"None\",\"None\",\"None\",\"None\",\"None\",\"None\",\"None\",\"None\",\"None\",\"None\",\"None\",\"None\",\"None\",\"None\",\"None\",\"None\",\"None\",\"None\",\"None\",\"None\",\"None\",\"None\",\"None\",\"None\",\"None\",\"None\",\"None\",\"None\",\"None\",\"None\",\"None\",\"None\",\"None\",\"None\",\"None\",\"None\",\"None\",\"None\",\"None\",\"None\",\"None\",\"None\",\"None\",\"None\",\"None\",\"None\",\"None\",\"None\",\"None\",\"None\",\"None\",\"None\",\"None\",\"None\",\"None\",\"None\",\"None\",\"None\",\"None\",\"None\",\"None\",\"None\",\"None\",\"None\",\"None\",\"None\",\"None\",\"None\",\"None\",\"None\",\"None\",\"None\",\"None\",\"None\",\"None\",\"None\",\"None\",\"None\",\"None\",\"None\",\"None\",\"None\",\"None\",\"None\",\"None\",\"None\",\"None\",\"None\",\"None\",\"None\",\"None\",\"None\",\"None\",\"None\",\"None\",\"None\",\"None\",\"None\",\"None\",\"None\",\"None\",\"None\",\"None\",\"None\",\"None\",\"None\",\"None\",\"None\",\"None\",\"None\",\"None\",\"None\",\"None\",\"None\",\"None\",\"None\",\"None\",\"None\",\"None\",\"None\",\"None\",\"None\",\"None\",\"None\",\"None\",\"None\",\"None\",\"None\",\"None\",\"None\",\"None\",\"None\",\"None\",\"None\",\"None\",\"None\",\"None\",\"None\",\"None\",\"None\",\"None\",\"None\",\"None\",\"None\",\"None\",\"None\",\"None\",\"None\",\"None\",\"None\",\"None\",\"None\",\"None\",\"None\",\"None\",\"None\",\"None\",\"None\",\"None\",\"None\",\"None\",\"None\",\"None\",\"None\",\"None\",\"None\",\"None\",\"None\",\"None\",\"None\",\"None\",\"None\",\"None\",\"None\",\"None\",\"None\",\"None\",\"None\",\"None\",\"None\",\"None\",\"None\",\"None\",\"None\",\"None\",\"None\",\"None\",\"None\",\"None\",\"None\",\"None\",\"None\",\"None\",\"None\",\"None\",\"None\",\"None\",\"None\",\"None\",\"None\",\"None\",\"None\",\"None\",\"None\",\"None\",\"None\",\"None\",\"None\",\"None\",\"None\",\"None\",\"None\",\"None\",\"None\",\"None\",\"None\",\"None\",\"None\",\"None\",\"None\",\"None\",\"None\",\"None\",\"None\",\"None\",\"None\",\"None\",\"None\",\"None\",\"None\",\"None\",\"None\",\"None\",\"None\",\"None\",\"None\",\"None\",\"None\",\"None\",\"None\",\"None\",\"None\",\"None\",\"None\",\"None\",\"None\",\"None\",\"None\",\"None\",\"None\",\"None\",\"None\",\"None\",\"None\",\"None\",\"None\",\"None\",\"None\",\"None\",\"None\",\"None\",\"None\",\"None\",\"None\",\"None\",\"None\",\"None\",\"None\",\"None\",\"None\",\"None\",\"None\",\"None\",\"None\",\"None\",\"None\",\"None\",\"None\",\"None\",\"None\",\"None\",\"None\",\"None\",\"None\",\"None\",\"None\",\"None\",\"None\",\"None\",\"None\",\"None\",\"None\",\"None\",\"None\",\"None\",\"None\",\"None\",\"None\",\"None\",\"None\",\"None\",\"None\",\"None\",\"None\",\"None\",\"None\",\"None\",\"None\",\"None\",\"None\",\"None\",\"None\",\"None\",\"None\",\"None\",\"None\",\"None\",\"None\",\"None\",\"None\",\"None\",\"None\",\"None\",\"None\",\"None\",\"None\",\"None\",\"None\",\"None\",\"None\",\"None\",\"None\",\"None\",\"None\",\"None\",\"None\",\"None\",\"None\",\"None\",\"None\",\"None\",\"None\",\"None\",\"None\",\"None\",\"None\",\"None\",\"None\",\"None\",\"None\",\"None\",\"None\",\"None\",\"None\",\"None\",\"None\",\"None\",\"None\",\"None\",\"None\",\"None\",\"None\",\"None\",\"None\",\"None\",\"None\",\"None\",\"None\",\"None\",\"None\",\"None\",\"None\",\"None\",\"None\",\"None\",\"None\",\"None\",\"None\",\"None\",\"None\",\"None\",\"None\",\"None\",\"None\",\"None\",\"None\",\"None\",\"None\",\"None\",\"None\",\"None\",\"None\",\"None\",\"None\",\"None\",\"None\",\"None\",\"None\",\"None\",\"None\",\"None\",\"None\",\"None\",\"None\",\"None\",\"None\",\"None\",\"None\",\"None\",\"None\",\"None\",\"None\",\"None\",\"None\",\"None\",\"None\",\"None\",\"None\",\"None\",\"None\",\"None\",\"None\",\"None\",\"None\",\"None\",\"None\",\"None\",\"None\",\"None\",\"None\",\"None\",\"None\",\"None\",\"None\",\"None\",\"None\",\"None\",\"None\",\"None\",\"None\",\"None\",\"None\",\"None\",\"None\",\"None\",\"None\",\"None\",\"None\",\"None\",\"None\",\"None\",\"None\",\"None\",\"None\",\"None\",\"None\",\"None\",\"None\",\"None\",\"None\",\"None\",\"None\",\"None\",\"None\",\"None\",\"None\",\"None\",\"None\",\"None\",\"None\",\"None\",\"None\",\"None\",\"None\",\"None\",\"None\",\"None\",\"None\",\"None\",\"None\",\"None\",\"None\",\"None\",\"None\",\"None\",\"None\",\"None\",\"None\",\"None\",\"None\",\"None\",\"None\",\"None\",\"None\",\"None\",\"None\",\"None\",\"None\",\"None\",\"None\",\"None\",\"None\",\"None\",\"None\",\"None\",\"None\",\"None\",\"None\",\"None\",\"None\",\"None\",\"None\",\"None\",\"None\",\"None\",\"None\",\"None\",\"None\",\"None\",\"None\",\"None\",\"None\",\"None\",\"None\",\"None\",\"None\",\"None\",\"None\",\"None\",\"None\",\"None\",\"None\",\"None\",\"None\",\"None\",\"None\",\"None\",\"None\",\"None\",\"None\",\"None\",\"None\",\"None\",\"None\",\"None\",\"None\",\"None\",\"None\",\"None\",\"None\",\"None\",\"None\",\"None\",\"None\",\"None\",\"None\",\"None\",\"None\",\"None\",\"None\",\"None\",\"None\",\"None\",\"None\",\"None\",\"None\",\"None\",\"None\",\"None\",\"None\",\"None\",\"None\",\"None\",\"None\",\"None\",\"None\",\"None\",\"None\",\"None\",\"None\",\"None\",\"None\",\"None\",\"None\",\"None\",\"None\",\"None\",\"None\",\"None\",\"None\",\"None\",\"None\",\"None\",\"None\",\"None\",\"None\",\"None\",\"None\",\"None\",\"None\",\"None\",\"None\",\"None\",\"None\",\"None\",\"None\",\"None\",\"None\",\"None\",\"None\",\"None\",\"None\",\"None\",\"None\",\"None\",\"None\",\"None\",\"None\",\"None\",\"None\",\"None\",\"None\",\"None\",\"None\",\"None\",\"None\",\"None\",\"None\",\"None\",\"None\",\"None\",\"None\",\"None\",\"None\",\"None\",\"None\",\"None\",\"None\",\"None\",\"None\",\"None\",\"None\",\"None\",\"None\",\"None\",\"None\",\"None\",\"None\",\"None\",\"None\",\"None\",\"None\",\"None\",\"None\",\"None\",\"None\",\"None\",\"None\",\"None\",\"None\",\"None\",\"None\",\"None\",\"None\",\"None\",\"None\",\"None\",\"None\",\"None\",\"None\",\"None\",\"None\",\"None\",\"None\",\"None\",\"None\",\"None\",\"None\",\"None\",\"None\",\"None\",\"None\",\"None\",\"None\",\"None\",\"None\",\"None\",\"None\",\"None\",\"None\",\"None\",\"None\",\"None\",\"None\",\"None\",\"None\",\"None\",\"None\",\"None\",\"None\",\"None\",\"None\",\"None\",\"None\",\"None\",\"None\",\"None\",\"None\",\"None\",\"None\",\"None\",\"None\",\"None\",\"None\",\"None\",\"None\",\"None\",\"None\",\"None\",\"None\",\"None\",\"None\",\"None\",\"None\",\"None\",\"None\",\"None\",\"None\",\"None\",\"None\",\"None\",\"None\",\"None\",\"None\",\"None\",\"None\",\"None\",\"None\",\"None\",\"None\",\"None\",\"None\",\"None\",\"None\",\"None\",\"None\",\"None\",\"None\",\"None\",\"None\",\"None\",\"None\",\"None\",\"None\",\"None\",\"None\",\"None\",\"None\",\"None\",\"None\",\"None\",\"None\",\"None\",\"None\",\"None\",\"None\",\"None\",\"None\",\"None\",\"None\",\"None\",\"None\",\"None\",\"None\",\"None\",\"None\",\"None\",\"None\",\"None\",\"None\",\"None\",\"None\",\"None\",\"None\",\"None\",\"None\",\"None\",\"None\",\"None\",\"None\",\"None\",\"None\",\"None\",\"None\",\"None\",\"None\",\"None\",\"None\",\"None\",\"None\",\"None\",\"None\",\"None\",\"None\",\"None\",\"None\",\"None\",\"None\",\"None\",\"None\",\"None\",\"None\",\"None\",\"None\",\"None\",\"None\",\"None\",\"None\",\"None\",\"None\",\"None\",\"None\",\"None\",\"None\",\"None\",\"None\",\"None\",\"None\",\"None\",\"None\",\"None\",\"None\",\"None\",\"None\",\"None\",\"None\",\"None\",\"None\",\"None\",\"None\",\"None\",\"None\",\"None\",\"None\",\"None\",\"None\",\"None\",\"None\",\"None\",\"None\",\"None\",\"None\",\"None\",\"None\",\"None\",\"None\",\"None\",\"None\",\"None\",\"None\",\"None\",\"None\",\"None\",\"None\",\"None\",\"None\",\"None\",\"None\",\"None\",\"None\",\"None\",\"None\",\"None\",\"None\",\"None\",\"None\",\"None\",\"None\",\"None\",\"None\",\"None\",\"None\",\"None\",\"None\",\"None\",\"None\",\"None\",\"None\",\"None\",\"None\",\"None\",\"None\",\"None\",\"None\",\"None\",\"None\",\"None\",\"None\",\"None\",\"None\",\"None\",\"None\",\"None\",\"None\",\"None\",\"None\",\"None\",\"None\",\"None\",\"None\",\"None\",\"None\",\"None\",\"None\",\"None\",\"None\",\"None\",\"None\",\"None\",\"None\",\"None\",\"None\",\"None\",\"None\",\"None\",\"None\",\"None\",\"None\",\"None\",\"None\",\"None\",\"None\",\"None\",\"None\",\"None\",\"None\",\"None\",\"None\",\"None\",\"None\",\"None\",\"None\",\"None\",\"None\",\"None\",\"None\",\"None\",\"None\",\"None\",\"None\",\"None\",\"None\",\"None\",\"None\",\"None\",\"None\",\"None\",\"None\",\"None\",\"None\",\"None\",\"None\",\"None\",\"None\",\"None\",\"None\",\"None\",\"None\",\"None\",\"None\",\"None\",\"None\",\"None\",\"None\",\"None\",\"None\",\"None\",\"None\",\"None\",\"None\",\"None\",\"None\",\"None\",\"None\",\"None\",\"None\",\"None\",\"None\",\"None\",\"None\",\"None\",\"None\",\"None\",\"None\",\"None\",\"None\",\"None\",\"None\",\"None\",\"None\",\"None\",\"None\",\"None\",\"None\",\"None\",\"None\",\"None\",\"None\",\"None\",\"None\",\"None\",\"None\",\"None\",\"None\",\"None\",\"None\",\"None\",\"None\",\"None\",\"None\",\"None\",\"None\",\"None\",\"None\",\"None\",\"None\",\"None\",\"None\",\"None\",\"None\",\"None\",\"None\",\"None\",\"None\",\"None\",\"None\",\"None\",\"None\",\"None\",\"None\",\"None\",\"None\",\"None\",\"None\",\"None\",\"None\",\"None\",\"None\",\"None\",\"None\",\"None\",\"None\",\"None\",\"None\",\"None\",\"None\",\"None\",\"None\",\"None\",\"None\",\"None\",\"None\",\"None\",\"None\",\"None\",\"None\",\"None\",\"None\",\"None\",\"None\",\"None\",\"None\",\"None\",\"None\",\"None\",\"None\",\"None\",\"None\",\"None\",\"None\",\"None\",\"None\",\"None\",\"None\",\"None\",\"None\",\"None\",\"None\",\"None\",\"None\",\"None\",\"None\",\"None\",\"None\",\"None\",\"None\",\"None\",\"None\",\"None\",\"None\",\"None\",\"None\",\"None\",\"None\",\"None\",\"None\",\"None\",\"None\",\"None\",\"None\",\"None\",\"None\",\"None\",\"None\",\"None\",\"None\",\"None\",\"None\",\"None\",\"None\",\"None\",\"None\",\"None\",\"None\",\"None\",\"None\",\"None\",\"None\",\"None\",\"None\",\"None\",\"None\",\"None\",\"None\",\"None\",\"None\",\"None\",\"None\",\"None\",\"None\",\"None\",\"None\",\"None\",\"None\",\"None\",\"None\",\"None\",\"None\",\"None\",\"None\",\"None\",\"None\",\"None\",\"None\",\"None\",\"None\",\"None\",\"None\",\"None\",\"None\",\"None\",\"None\",\"None\",\"None\",\"None\",\"None\",\"None\",\"None\",\"None\",\"None\",\"None\",\"None\",\"None\",\"None\",\"None\",\"None\",\"None\",\"None\",\"None\",\"None\",\"None\",\"None\",\"None\",\"None\",\"None\",\"None\",\"None\",\"None\",\"None\",\"None\",\"None\",\"None\",\"None\",\"None\",\"None\",\"None\",\"None\",\"None\",\"None\",\"None\",\"None\",\"None\",\"None\",\"None\",\"None\",\"None\",\"None\",\"None\",\"None\",\"None\",\"None\",\"None\",\"None\",\"None\",\"None\",\"None\",\"None\",\"None\",\"None\",\"None\",\"None\",\"None\",\"None\",\"None\",\"None\",\"None\",\"None\",\"None\",\"None\",\"None\",\"None\",\"None\",\"None\",\"None\",\"None\",\"None\",\"None\",\"None\",\"None\",\"None\",\"None\",\"None\",\"None\",\"None\",\"None\",\"None\",\"None\",\"None\",\"None\",\"None\",\"None\",\"None\",\"None\",\"None\",\"None\",\"None\",\"None\",\"None\",\"None\",\"None\",\"None\",\"None\",\"None\",\"None\",\"None\",\"None\",\"None\",\"None\",\"None\",\"None\",\"None\",\"None\",\"None\",\"None\",\"None\",\"None\",\"None\",\"None\",\"None\",\"None\",\"None\",\"None\",\"None\",\"None\",\"None\",\"None\",\"None\",\"None\",\"None\",\"None\",\"None\",\"None\",\"None\",\"None\",\"None\",\"None\",\"None\",\"None\",\"None\",\"None\",\"None\",\"None\",\"None\",\"None\",\"None\",\"None\",\"None\",\"None\",\"None\",\"None\",\"None\",\"None\",\"None\",\"None\",\"None\",\"None\",\"None\",\"None\",\"None\",\"None\",\"None\",\"None\",\"None\",\"None\",\"None\",\"None\",\"None\",\"None\",\"None\",\"None\",\"None\",\"None\",\"None\",\"None\",\"None\",\"None\",\"None\",\"None\",\"None\",\"None\",\"None\",\"None\",\"None\",\"None\",\"None\",\"None\",\"None\",\"None\",\"None\",\"None\",\"None\",\"None\",\"None\",\"None\",\"None\",\"None\",\"None\",\"None\",\"None\",\"None\",\"None\",\"None\",\"None\",\"None\",\"None\",\"None\",\"None\",\"None\",\"None\",\"None\",\"None\",\"None\",\"None\",\"None\",\"None\",\"None\",\"None\",\"None\",\"None\",\"None\",\"None\",\"None\",\"None\",\"None\",\"None\",\"None\",\"None\",\"None\",\"None\",\"None\",\"None\",\"None\",\"None\",\"None\",\"None\",\"None\",\"None\",\"None\",\"None\",\"None\",\"None\",\"None\",\"None\",\"None\",\"None\",\"None\",\"None\",\"None\",\"None\",\"None\",\"None\",\"None\",\"None\",\"None\",\"None\",\"None\",\"None\",\"None\",\"None\",\"None\",\"None\",\"None\",\"None\",\"None\",\"None\",\"None\",\"None\",\"None\",\"None\",\"None\",\"None\",\"None\",\"None\",\"None\",\"None\",\"None\",\"None\",\"None\",\"None\",\"None\",\"None\",\"None\",\"None\",\"None\",\"None\",\"None\",\"None\",\"None\",\"None\",\"None\",\"None\",\"None\",\"None\",\"None\",\"None\",\"None\",\"None\",\"None\",\"None\",\"None\",\"None\",\"None\",\"None\",\"None\",\"None\",\"None\"],\"x0\":\" \",\"xaxis\":\"x\",\"y\":[0.0,0.0,0.0,0.0,0.0,0.0,0.0,0.0,0.0,0.0,0.0,0.0,0.0,0.0,0.0,0.0,0.0,0.0,0.0,0.0,0.0,0.0,0.0,0.0,0.0,0.0,0.0,0.0,0.0,0.0,0.0,0.0,0.0,0.0,0.0,0.0,0.0,0.0,0.0,0.0,0.0,0.0,0.0,0.0,0.0,0.0,0.0,0.0,0.0,0.0,0.0,0.0,0.0,0.0,0.0,0.0,0.0,0.0,0.0,0.0,0.0,0.0,0.0,0.0,0.0,0.0,0.0,0.0,0.0,0.0,0.0,0.0,0.0,0.0,0.0,0.0,0.0,0.0,0.0,0.0,0.0,0.0,0.0,0.0,0.0,0.0,0.0,0.0,0.0,0.0,0.0,0.0,0.0,0.0,0.0,0.0,0.0,0.0,0.0,0.0,0.0,0.0,0.0,0.0,0.0,0.0,0.0,0.0,0.0,0.0,0.0,0.0,0.0,0.0,0.0,0.0,0.0,0.0,0.0,0.0,0.0,0.0,0.0,0.0,0.0,0.0,0.0,0.0,0.0,0.0,0.0,0.0,0.0,0.0,null,0.0,0.0,0.0,0.0,0.0,0.0,0.0,0.0,0.0,0.0,0.0,0.0,0.0,0.0,0.0,0.0,0.0,0.0,0.0,0.0,0.0,0.0,0.0,0.0,0.0,0.0,0.0,0.0,0.0,0.0,0.0,0.0,0.0,0.0,0.0,0.0,0.0,0.0,0.0,0.0,0.0,0.0,0.0,0.0,0.0,0.0,0.0,0.0,0.0,0.0,0.0,0.0,0.0,0.0,0.0,0.0,0.0,0.0,0.0,0.0,0.0,0.0,0.0,0.0,0.0,0.0,0.0,0.0,0.0,0.0,0.0,0.0,0.0,0.0,0.0,0.0,0.0,0.0,0.0,0.0,0.0,0.0,0.0,0.0,0.0,0.0,0.0,0.0,0.0,0.0,0.0,0.0,0.0,0.0,0.0,0.0,0.0,0.0,0.0,0.0,0.0,0.0,0.0,0.0,0.0,0.0,0.0,0.0,0.0,0.0,0.0,0.0,0.0,0.0,0.0,0.0,0.0,0.0,0.0,0.0,0.0,0.0,0.0,0.0,0.0,0.0,0.0,0.0,0.0,0.0,0.0,0.0,0.0,0.0,0.0,0.0,0.0,0.0,0.0,0.0,0.0,0.0,0.0,0.0,0.0,0.0,0.0,0.0,0.0,0.0,0.0,0.0,0.0,0.0,0.0,0.0,0.0,0.0,0.0,0.0,0.0,0.0,0.0,0.0,0.0,0.0,0.0,0.0,0.0,0.0,0.0,0.0,0.0,0.0,null,0.0,0.0,0.0,0.0,0.0,0.0,0.0,0.0,0.0,0.0,0.0,0.0,0.0,0.0,0.0,0.0,0.0,0.0,0.0,0.0,0.0,0.0,0.0,0.0,0.0,0.0,0.0,0.0,0.0,0.0,0.0,0.0,0.0,0.0,0.0,0.0,0.0,0.0,0.0,0.0,0.0,0.0,0.0,0.0,0.0,0.0,0.0,0.0,0.0,0.0,0.0,0.0,0.0,0.0,0.0,288.0,0.0,0.0,0.0,0.0,0.0,0.0,0.0,0.0,0.0,0.0,0.0,0.0,0.0,0.0,null,0.0,0.0,0.0,0.0,0.0,0.0,0.0,0.0,0.0,0.0,0.0,0.0,0.0,0.0,0.0,0.0,0.0,0.0,0.0,0.0,0.0,0.0,0.0,0.0,0.0,0.0,0.0,0.0,0.0,0.0,0.0,0.0,0.0,0.0,0.0,0.0,0.0,0.0,0.0,0.0,0.0,0.0,0.0,0.0,0.0,0.0,0.0,0.0,0.0,0.0,0.0,0.0,0.0,0.0,0.0,0.0,0.0,0.0,0.0,0.0,0.0,0.0,0.0,0.0,0.0,0.0,0.0,0.0,0.0,0.0,0.0,0.0,1.0,0.0,0.0,0.0,0.0,0.0,0.0,0.0,0.0,0.0,0.0,0.0,0.0,0.0,0.0,0.0,0.0,0.0,0.0,0.0,0.0,0.0,0.0,0.0,0.0,0.0,0.0,0.0,0.0,0.0,0.0,0.0,0.0,0.0,0.0,0.0,0.0,0.0,0.0,0.0,0.0,0.0,0.0,0.0,0.0,0.0,0.0,0.0,0.0,0.0,0.0,0.0,0.0,0.0,0.0,0.0,0.0,0.0,0.0,0.0,0.0,0.0,0.0,0.0,0.0,0.0,0.0,0.0,0.0,0.0,0.0,0.0,0.0,0.0,0.0,0.0,0.0,0.0,0.0,0.0,0.0,0.0,0.0,0.0,0.0,0.0,0.0,0.0,0.0,0.0,0.0,0.0,0.0,0.0,0.0,0.0,null,0.0,0.0,0.0,0.0,0.0,0.0,0.0,0.0,0.0,0.0,0.0,0.0,0.0,0.0,0.0,0.0,0.0,0.0,0.0,0.0,0.0,0.0,0.0,null,0.0,0.0,0.0,null,0.0,0.0,0.0,0.0,0.0,0.0,0.0,0.0,0.0,0.0,0.0,0.0,0.0,0.0,0.0,0.0,0.0,0.0,0.0,0.0,0.0,0.0,0.0,0.0,0.0,0.0,0.0,0.0,0.0,0.0,0.0,0.0,0.0,0.0,0.0,0.0,0.0,0.0,0.0,0.0,0.0,0.0,0.0,0.0,0.0,0.0,0.0,0.0,0.0,0.0,0.0,0.0,0.0,0.0,0.0,0.0,0.0,0.0,0.0,0.0,0.0,0.0,0.0,0.0,0.0,0.0,0.0,0.0,0.0,0.0,0.0,0.0,0.0,0.0,0.0,0.0,0.0,0.0,0.0,0.0,0.0,0.0,0.0,0.0,0.0,0.0,0.0,0.0,0.0,0.0,0.0,0.0,0.0,0.0,0.0,0.0,0.0,0.0,0.0,0.0,0.0,0.0,0.0,0.0,0.0,0.0,0.0,0.0,0.0,0.0,0.0,0.0,0.0,0.0,0.0,0.0,0.0,0.0,0.0,0.0,0.0,0.0,0.0,0.0,0.0,0.0,0.0,0.0,0.0,0.0,0.0,0.0,0.0,0.0,0.0,0.0,0.0,0.0,0.0,0.0,0.0,0.0,0.0,0.0,0.0,0.0,0.0,0.0,0.0,0.0,0.0,0.0,0.0,0.0,0.0,0.0,0.0,1.0,0.0,0.0,0.0,0.0,0.0,null,0.0,0.0,0.0,0.0,0.0,0.0,0.0,0.0,0.0,0.0,0.0,0.0,0.0,0.0,0.0,0.0,0.0,0.0,0.0,0.0,0.0,null,0.0,0.0,0.0,0.0,0.0,0.0,0.0,0.0,0.0,0.0,344.0,0.0,0.0,0.0,0.0,0.0,0.0,0.0,0.0,0.0,0.0,0.0,0.0,0.0,0.0,0.0,0.0,0.0,0.0,0.0,312.0,0.0,0.0,0.0,0.0,0.0,0.0,0.0,0.0,0.0,0.0,0.0,0.0,0.0,0.0,0.0,0.0,0.0,0.0,0.0,0.0,0.0,0.0,0.0,0.0,0.0,0.0,0.0,0.0,0.0,0.0,0.0,0.0,0.0,0.0,0.0,0.0,0.0,0.0,0.0,0.0,0.0,0.0,0.0,0.0,0.0,0.0,0.0,0.0,0.0,0.0,0.0,0.0,0.0,0.0,0.0,0.0,0.0,0.0,0.0,0.0,0.0,0.0,0.0,0.0,0.0,0.0,0.0,0.0,0.0,0.0,0.0,0.0,0.0,0.0,0.0,0.0,0.0,0.0,0.0,0.0,0.0,0.0,0.0,0.0,0.0,0.0,0.0,0.0,0.0,0.0,0.0,0.0,0.0,0.0,0.0,0.0,0.0,0.0,0.0,0.0,0.0,0.0,0.0,0.0,0.0,0.0,0.0,0.0,0.0,0.0,0.0,0.0,0.0,0.0,0.0,0.0,0.0,0.0,0.0,0.0,0.0,0.0,0.0,0.0,0.0,0.0,0.0,0.0,0.0,0.0,0.0,0.0,0.0,0.0,0.0,0.0,0.0,0.0,0.0,0.0,0.0,0.0,0.0,0.0,0.0,0.0,0.0,0.0,0.0,0.0,0.0,0.0,0.0,0.0,0.0,0.0,0.0,0.0,0.0,0.0,0.0,0.0,0.0,0.0,0.0,0.0,0.0,0.0,0.0,0.0,0.0,0.0,0.0,0.0,0.0,0.0,0.0,0.0,0.0,0.0,0.0,0.0,0.0,0.0,0.0,0.0,0.0,0.0,0.0,0.0,0.0,0.0,0.0,0.0,0.0,0.0,0.0,0.0,0.0,0.0,0.0,0.0,0.0,0.0,0.0,0.0,0.0,0.0,0.0,0.0,0.0,0.0,285.0,0.0,0.0,0.0,0.0,0.0,0.0,null,0.0,0.0,0.0,0.0,null,0.0,0.0,0.0,0.0,0.0,0.0,0.0,0.0,0.0,0.0,0.0,0.0,0.0,0.0,0.0,0.0,0.0,0.0,0.0,0.0,0.0,0.0,0.0,0.0,0.0,0.0,0.0,0.0,0.0,0.0,0.0,0.0,0.0,0.0,0.0,0.0,0.0,0.0,0.0,0.0,0.0,0.0,0.0,0.0,0.0,0.0,0.0,0.0,0.0,0.0,0.0,0.0,0.0,0.0,0.0,0.0,0.0,0.0,0.0,0.0,0.0,0.0,0.0,0.0,0.0,0.0,0.0,0.0,0.0,0.0,0.0,0.0,0.0,0.0,0.0,0.0,0.0,0.0,0.0,0.0,0.0,0.0,0.0,0.0,0.0,0.0,0.0,0.0,0.0,0.0,0.0,0.0,0.0,0.0,0.0,0.0,0.0,0.0,0.0,0.0,0.0,0.0,0.0,0.0,0.0,0.0,0.0,0.0,0.0,0.0,0.0,null,0.0,0.0,0.0,0.0,0.0,0.0,0.0,0.0,0.0,0.0,0.0,0.0,0.0,0.0,0.0,0.0,0.0,0.0,0.0,0.0,0.0,0.0,0.0,0.0,0.0,0.0,0.0,0.0,0.0,0.0,0.0,0.0,0.0,0.0,0.0,0.0,0.0,0.0,0.0,0.0,0.0,0.0,0.0,0.0,0.0,0.0,0.0,null,0.0,0.0,0.0,null,0.0,0.0,0.0,0.0,0.0,0.0,0.0,0.0,0.0,0.0,0.0,0.0,0.0,0.0,0.0,0.0,0.0,null,0.0,0.0,0.0,0.0,0.0,0.0,0.0,0.0,0.0,0.0,0.0,0.0,0.0,0.0,0.0,0.0,0.0,0.0,0.0,0.0,0.0,0.0,0.0,0.0,0.0,0.0,0.0,0.0,0.0,0.0,0.0,0.0,0.0,0.0,0.0,0.0,0.0,0.0,0.0,0.0,0.0,0.0,0.0,0.0,0.0,0.0,0.0,0.0,0.0,0.0,0.0,0.0,0.0,0.0,0.0,0.0,0.0,0.0,0.0,0.0,0.0,0.0,0.0,0.0,0.0,0.0,0.0,0.0,0.0,0.0,0.0,0.0,0.0,0.0,0.0,0.0,0.0,0.0,0.0,0.0,0.0,0.0,0.0,0.0,0.0,0.0,0.0,0.0,0.0,0.0,0.0,0.0,0.0,0.0,0.0,0.0,0.0,0.0,0.0,0.0,0.0,0.0,0.0,0.0,0.0,0.0,0.0,0.0,0.0,0.0,0.0,0.0,0.0,0.0,0.0,0.0,0.0,0.0,0.0,0.0,0.0,0.0,0.0,0.0,0.0,0.0,0.0,0.0,0.0,0.0,0.0,0.0,0.0,0.0,0.0,0.0,0.0,0.0,0.0,0.0,0.0,0.0,0.0,0.0,0.0,0.0,0.0,0.0,0.0,0.0,0.0,0.0,0.0,0.0,0.0,0.0,0.0,0.0,0.0,0.0,0.0,0.0,0.0,0.0,0.0,0.0,0.0,0.0,0.0,0.0,0.0,0.0,null,0.0,0.0,0.0,0.0,0.0,0.0,0.0,null,0.0,0.0,0.0,0.0,0.0,null,0.0,0.0,0.0,0.0,0.0,0.0,null,0.0,0.0,0.0,0.0,0.0,0.0,0.0,0.0,0.0,0.0,null,0.0,0.0,0.0,0.0,0.0,0.0,0.0,0.0,0.0,0.0,0.0,0.0,0.0,0.0,0.0,0.0,0.0,0.0,0.0,0.0,0.0,0.0,0.0,0.0,0.0,0.0,0.0,0.0,0.0,0.0,0.0,0.0,0.0,0.0,0.0,0.0,0.0,0.0,0.0,0.0,0.0,0.0,0.0,0.0,0.0,0.0,0.0,0.0,0.0,0.0,0.0,0.0,0.0,0.0,0.0,0.0,0.0,1.0,0.0,0.0,0.0,0.0,0.0,0.0,0.0,0.0,0.0,0.0,0.0,0.0,0.0,0.0,0.0,0.0,0.0,0.0,0.0,0.0,0.0,0.0,0.0,0.0,0.0,0.0,0.0,0.0,0.0,0.0,0.0,0.0,0.0,0.0,0.0,0.0,0.0,0.0,0.0,0.0,0.0,0.0,0.0,0.0,0.0,0.0,0.0,0.0,0.0,0.0,0.0,0.0,0.0,0.0,0.0,0.0,0.0,0.0,0.0,0.0,0.0,0.0,0.0,0.0,0.0,0.0,0.0,0.0,0.0,0.0,0.0,0.0,0.0,0.0,0.0,0.0,0.0,0.0,0.0,0.0,0.0,0.0,0.0,0.0,0.0,0.0,0.0,0.0,0.0,0.0,0.0,0.0,0.0,0.0,0.0,0.0,0.0,0.0,0.0,0.0,0.0,null,0.0,0.0,0.0,0.0,0.0,0.0,0.0,0.0,0.0,198.0,0.0,0.0,0.0,0.0,0.0,0.0,0.0,0.0,0.0,0.0,0.0,0.0,0.0,0.0,0.0,null,0.0,0.0,0.0,0.0,0.0,0.0,0.0,0.0,null,0.0,0.0,0.0,0.0,0.0,0.0,0.0,0.0,0.0,0.0,0.0,0.0,0.0,0.0,0.0,0.0,0.0,0.0,0.0,0.0,0.0,0.0,0.0,0.0,0.0,0.0,0.0,0.0,0.0,0.0,0.0,0.0,0.0,0.0,0.0,0.0,0.0,0.0,0.0,0.0,0.0,0.0,0.0,0.0,0.0,0.0,0.0,0.0,0.0,0.0,0.0,0.0,0.0,0.0,0.0,0.0,0.0,0.0,0.0,0.0,0.0,0.0,0.0,0.0,0.0,0.0,0.0,0.0,0.0,0.0,0.0,0.0,0.0,0.0,0.0,0.0,0.0,0.0,0.0,0.0,0.0,0.0,0.0,0.0,0.0,0.0,0.0,0.0,0.0,0.0,0.0,0.0,0.0,0.0,0.0,0.0,0.0,0.0,0.0,0.0,0.0,0.0,0.0,0.0,0.0,0.0,0.0,0.0,0.0,0.0,0.0,0.0,0.0,0.0,0.0,0.0,0.0,0.0,0.0,0.0,0.0,null,0.0,0.0,0.0,0.0,0.0,0.0,0.0,0.0,0.0,0.0,0.0,0.0,0.0,0.0,0.0,0.0,0.0,0.0,0.0,0.0,0.0,0.0,0.0,0.0,0.0,0.0,0.0,0.0,0.0,0.0,0.0,0.0,0.0,0.0,0.0,0.0,0.0,0.0,0.0,0.0,0.0,0.0],\"y0\":\" \",\"yaxis\":\"y\",\"type\":\"box\"},{\"alignmentgroup\":\"True\",\"hovertemplate\":\"MasVnrType=%{x}<br>MasVnrArea=%{y}<extra></extra>\",\"legendgroup\":\"Stone\",\"marker\":{\"color\":\"#00cc96\"},\"name\":\"Stone\",\"notched\":false,\"offsetgroup\":\"Stone\",\"orientation\":\"v\",\"showlegend\":true,\"x\":[\"Stone\",\"Stone\",\"Stone\",\"Stone\",\"Stone\",\"Stone\",\"Stone\",\"Stone\",\"Stone\",\"Stone\",\"Stone\",\"Stone\",\"Stone\",\"Stone\",\"Stone\",\"Stone\",\"Stone\",\"Stone\",\"Stone\",\"Stone\",\"Stone\",\"Stone\",\"Stone\",\"Stone\",\"Stone\",\"Stone\",\"Stone\",\"Stone\",\"Stone\",\"Stone\",\"Stone\",\"Stone\",\"Stone\",\"Stone\",\"Stone\",\"Stone\",\"Stone\",\"Stone\",\"Stone\",\"Stone\",\"Stone\",\"Stone\",\"Stone\",\"Stone\",\"Stone\",\"Stone\",\"Stone\",\"Stone\",\"Stone\",\"Stone\",\"Stone\",\"Stone\",\"Stone\",\"Stone\",\"Stone\",\"Stone\",\"Stone\",\"Stone\",\"Stone\",\"Stone\",\"Stone\",\"Stone\",\"Stone\",\"Stone\",\"Stone\",\"Stone\",\"Stone\",\"Stone\",\"Stone\",\"Stone\",\"Stone\",\"Stone\",\"Stone\",\"Stone\",\"Stone\",\"Stone\",\"Stone\",\"Stone\",\"Stone\",\"Stone\",\"Stone\",\"Stone\",\"Stone\",\"Stone\",\"Stone\",\"Stone\",\"Stone\",\"Stone\",\"Stone\",\"Stone\",\"Stone\",\"Stone\",\"Stone\",\"Stone\",\"Stone\",\"Stone\",\"Stone\",\"Stone\",\"Stone\",\"Stone\",\"Stone\",\"Stone\",\"Stone\",\"Stone\",\"Stone\",\"Stone\",\"Stone\",\"Stone\",\"Stone\",\"Stone\",\"Stone\",\"Stone\",\"Stone\",\"Stone\",\"Stone\",\"Stone\",\"Stone\",\"Stone\",\"Stone\",\"Stone\",\"Stone\",\"Stone\",\"Stone\",\"Stone\",\"Stone\",\"Stone\",\"Stone\",\"Stone\",\"Stone\",\"Stone\",\"Stone\",\"Stone\",\"Stone\",\"Stone\",\"Stone\",\"Stone\",\"Stone\",\"Stone\",\"Stone\",\"Stone\",\"Stone\",\"Stone\",\"Stone\",\"Stone\",\"Stone\",\"Stone\",\"Stone\",\"Stone\",\"Stone\",\"Stone\",\"Stone\",\"Stone\",\"Stone\",\"Stone\",\"Stone\",\"Stone\",\"Stone\",\"Stone\",\"Stone\",\"Stone\",\"Stone\",\"Stone\",\"Stone\",\"Stone\",\"Stone\",\"Stone\",\"Stone\",\"Stone\",\"Stone\",\"Stone\",\"Stone\",\"Stone\",\"Stone\",\"Stone\",\"Stone\",\"Stone\",\"Stone\",\"Stone\",\"Stone\",\"Stone\",\"Stone\",\"Stone\",\"Stone\",\"Stone\",\"Stone\",\"Stone\",\"Stone\",\"Stone\",\"Stone\",\"Stone\",\"Stone\",\"Stone\",\"Stone\",\"Stone\",\"Stone\",\"Stone\",\"Stone\",\"Stone\",\"Stone\",\"Stone\",\"Stone\",\"Stone\",\"Stone\",\"Stone\",\"Stone\",\"Stone\",\"Stone\",\"Stone\",\"Stone\",\"Stone\",\"Stone\",\"Stone\",\"Stone\",\"Stone\",\"Stone\",\"Stone\",\"Stone\",\"Stone\",\"Stone\",\"Stone\",\"Stone\",\"Stone\",\"Stone\",\"Stone\",\"Stone\",\"Stone\",\"Stone\",\"Stone\",\"Stone\",\"Stone\",\"Stone\",\"Stone\",\"Stone\",\"Stone\",\"Stone\",\"Stone\",\"Stone\",\"Stone\",\"Stone\",\"Stone\",\"Stone\",\"Stone\",\"Stone\",\"Stone\",\"Stone\",\"Stone\",\"Stone\",\"Stone\",\"Stone\"],\"x0\":\" \",\"xaxis\":\"x\",\"y\":[186.0,240.0,286.0,306.0,640.0,200.0,132.0,178.0,468.0,76.0,220.0,50.0,436.0,300.0,112.0,132.0,748.0,275.0,50.0,205.0,260.0,36.0,481.0,180.0,270.0,68.0,166.0,72.0,238.0,246.0,370.0,146.0,200.0,106.0,350.0,272.0,100.0,100.0,432.0,126.0,200.0,110.0,224.0,248.0,336.0,94.0,762.0,268.0,250.0,420.0,226.0,108.0,162.0,216.0,464.0,215.0,256.0,351.0,340.0,82.0,284.0,140.0,860.0,424.0,256.0,128.0,274.0,216.0,760.0,110.0,208.0,76.0,302.0,106.0,210.0,450.0,230.0,24.0,108.0,84.0,338.0,295.0,70.0,135.0,208.0,145.0,240.0,154.0,50.0,42.0,328.0,340.0,288.0,166.0,186.0,268.0,72.0,186.0,149.0,143.0,420.0,72.0,74.0,106.0,0.0,163.0,92.0,182.0,567.0,788.0,796.0,117.0,300.0,94.0,270.0,410.0,100.0,16.0,160.0,84.0,174.0,366.0,243.0,294.0,426.0,160.0,194.0,119.0,162.0,256.0,178.0,340.0,432.0,300.0,96.0,80.0,186.0,60.0,726.0,450.0,472.0,302.0,20.0,284.0,122.0,186.0,383.0,240.0,135.0,176.0,730.0,163.0,240.0,260.0,206.0,198.0,120.0,238.0,121.0,280.0,252.0,144.0,480.0,143.0,188.0,242.0,364.0,352.0,76.0,132.0,420.0,174.0,246.0,290.0,130.0,302.0,554.0,108.0,126.0,680.0,144.0,106.0,176.0,156.0,310.0,210.0,216.0,52.0,275.0,156.0,554.0,402.0,50.0,212.0,115.0,40.0,186.0,174.0,258.0,60.0,146.0,67.0,130.0,378.0,302.0,456.0,120.0,510.0,246.0,182.0,182.0,256.0,108.0,235.0,44.0,22.0,16.0,30.0,36.0,260.0,279.0,300.0,306.0,306.0,20.0,198.0,1224.0,76.0,473.0,50.0,28.0,302.0,902.0,734.0,252.0,215.0,206.0,192.0,150.0,144.0,264.0,41.0,65.0,96.0,164.0,50.0,473.0,186.0,198.0],\"y0\":\" \",\"yaxis\":\"y\",\"type\":\"box\"},{\"alignmentgroup\":\"True\",\"hovertemplate\":\"MasVnrType=%{x}<br>MasVnrArea=%{y}<extra></extra>\",\"legendgroup\":\"BrkCmn\",\"marker\":{\"color\":\"#ab63fa\"},\"name\":\"BrkCmn\",\"notched\":false,\"offsetgroup\":\"BrkCmn\",\"orientation\":\"v\",\"showlegend\":true,\"x\":[\"BrkCmn\",\"BrkCmn\",\"BrkCmn\",\"BrkCmn\",\"BrkCmn\",\"BrkCmn\",\"BrkCmn\",\"BrkCmn\",\"BrkCmn\",\"BrkCmn\",\"BrkCmn\",\"BrkCmn\",\"BrkCmn\",\"BrkCmn\",\"BrkCmn\",\"BrkCmn\",\"BrkCmn\",\"BrkCmn\",\"BrkCmn\",\"BrkCmn\",\"BrkCmn\",\"BrkCmn\",\"BrkCmn\",\"BrkCmn\",\"BrkCmn\"],\"x0\":\" \",\"xaxis\":\"x\",\"y\":[66.0,203.0,491.0,472.0,183.0,161.0,435.0,70.0,192.0,113.0,41.0,328.0,67.0,272.0,621.0,250.0,40.0,216.0,58.0,138.0,54.0,69.0,128.0,161.0,58.0],\"y0\":\" \",\"yaxis\":\"y\",\"type\":\"box\"}],                        {\"template\":{\"data\":{\"bar\":[{\"error_x\":{\"color\":\"#2a3f5f\"},\"error_y\":{\"color\":\"#2a3f5f\"},\"marker\":{\"line\":{\"color\":\"#E5ECF6\",\"width\":0.5},\"pattern\":{\"fillmode\":\"overlay\",\"size\":10,\"solidity\":0.2}},\"type\":\"bar\"}],\"barpolar\":[{\"marker\":{\"line\":{\"color\":\"#E5ECF6\",\"width\":0.5},\"pattern\":{\"fillmode\":\"overlay\",\"size\":10,\"solidity\":0.2}},\"type\":\"barpolar\"}],\"carpet\":[{\"aaxis\":{\"endlinecolor\":\"#2a3f5f\",\"gridcolor\":\"white\",\"linecolor\":\"white\",\"minorgridcolor\":\"white\",\"startlinecolor\":\"#2a3f5f\"},\"baxis\":{\"endlinecolor\":\"#2a3f5f\",\"gridcolor\":\"white\",\"linecolor\":\"white\",\"minorgridcolor\":\"white\",\"startlinecolor\":\"#2a3f5f\"},\"type\":\"carpet\"}],\"choropleth\":[{\"colorbar\":{\"outlinewidth\":0,\"ticks\":\"\"},\"type\":\"choropleth\"}],\"contour\":[{\"colorbar\":{\"outlinewidth\":0,\"ticks\":\"\"},\"colorscale\":[[0.0,\"#0d0887\"],[0.1111111111111111,\"#46039f\"],[0.2222222222222222,\"#7201a8\"],[0.3333333333333333,\"#9c179e\"],[0.4444444444444444,\"#bd3786\"],[0.5555555555555556,\"#d8576b\"],[0.6666666666666666,\"#ed7953\"],[0.7777777777777778,\"#fb9f3a\"],[0.8888888888888888,\"#fdca26\"],[1.0,\"#f0f921\"]],\"type\":\"contour\"}],\"contourcarpet\":[{\"colorbar\":{\"outlinewidth\":0,\"ticks\":\"\"},\"type\":\"contourcarpet\"}],\"heatmap\":[{\"colorbar\":{\"outlinewidth\":0,\"ticks\":\"\"},\"colorscale\":[[0.0,\"#0d0887\"],[0.1111111111111111,\"#46039f\"],[0.2222222222222222,\"#7201a8\"],[0.3333333333333333,\"#9c179e\"],[0.4444444444444444,\"#bd3786\"],[0.5555555555555556,\"#d8576b\"],[0.6666666666666666,\"#ed7953\"],[0.7777777777777778,\"#fb9f3a\"],[0.8888888888888888,\"#fdca26\"],[1.0,\"#f0f921\"]],\"type\":\"heatmap\"}],\"heatmapgl\":[{\"colorbar\":{\"outlinewidth\":0,\"ticks\":\"\"},\"colorscale\":[[0.0,\"#0d0887\"],[0.1111111111111111,\"#46039f\"],[0.2222222222222222,\"#7201a8\"],[0.3333333333333333,\"#9c179e\"],[0.4444444444444444,\"#bd3786\"],[0.5555555555555556,\"#d8576b\"],[0.6666666666666666,\"#ed7953\"],[0.7777777777777778,\"#fb9f3a\"],[0.8888888888888888,\"#fdca26\"],[1.0,\"#f0f921\"]],\"type\":\"heatmapgl\"}],\"histogram\":[{\"marker\":{\"pattern\":{\"fillmode\":\"overlay\",\"size\":10,\"solidity\":0.2}},\"type\":\"histogram\"}],\"histogram2d\":[{\"colorbar\":{\"outlinewidth\":0,\"ticks\":\"\"},\"colorscale\":[[0.0,\"#0d0887\"],[0.1111111111111111,\"#46039f\"],[0.2222222222222222,\"#7201a8\"],[0.3333333333333333,\"#9c179e\"],[0.4444444444444444,\"#bd3786\"],[0.5555555555555556,\"#d8576b\"],[0.6666666666666666,\"#ed7953\"],[0.7777777777777778,\"#fb9f3a\"],[0.8888888888888888,\"#fdca26\"],[1.0,\"#f0f921\"]],\"type\":\"histogram2d\"}],\"histogram2dcontour\":[{\"colorbar\":{\"outlinewidth\":0,\"ticks\":\"\"},\"colorscale\":[[0.0,\"#0d0887\"],[0.1111111111111111,\"#46039f\"],[0.2222222222222222,\"#7201a8\"],[0.3333333333333333,\"#9c179e\"],[0.4444444444444444,\"#bd3786\"],[0.5555555555555556,\"#d8576b\"],[0.6666666666666666,\"#ed7953\"],[0.7777777777777778,\"#fb9f3a\"],[0.8888888888888888,\"#fdca26\"],[1.0,\"#f0f921\"]],\"type\":\"histogram2dcontour\"}],\"mesh3d\":[{\"colorbar\":{\"outlinewidth\":0,\"ticks\":\"\"},\"type\":\"mesh3d\"}],\"parcoords\":[{\"line\":{\"colorbar\":{\"outlinewidth\":0,\"ticks\":\"\"}},\"type\":\"parcoords\"}],\"pie\":[{\"automargin\":true,\"type\":\"pie\"}],\"scatter\":[{\"marker\":{\"colorbar\":{\"outlinewidth\":0,\"ticks\":\"\"}},\"type\":\"scatter\"}],\"scatter3d\":[{\"line\":{\"colorbar\":{\"outlinewidth\":0,\"ticks\":\"\"}},\"marker\":{\"colorbar\":{\"outlinewidth\":0,\"ticks\":\"\"}},\"type\":\"scatter3d\"}],\"scattercarpet\":[{\"marker\":{\"colorbar\":{\"outlinewidth\":0,\"ticks\":\"\"}},\"type\":\"scattercarpet\"}],\"scattergeo\":[{\"marker\":{\"colorbar\":{\"outlinewidth\":0,\"ticks\":\"\"}},\"type\":\"scattergeo\"}],\"scattergl\":[{\"marker\":{\"colorbar\":{\"outlinewidth\":0,\"ticks\":\"\"}},\"type\":\"scattergl\"}],\"scattermapbox\":[{\"marker\":{\"colorbar\":{\"outlinewidth\":0,\"ticks\":\"\"}},\"type\":\"scattermapbox\"}],\"scatterpolar\":[{\"marker\":{\"colorbar\":{\"outlinewidth\":0,\"ticks\":\"\"}},\"type\":\"scatterpolar\"}],\"scatterpolargl\":[{\"marker\":{\"colorbar\":{\"outlinewidth\":0,\"ticks\":\"\"}},\"type\":\"scatterpolargl\"}],\"scatterternary\":[{\"marker\":{\"colorbar\":{\"outlinewidth\":0,\"ticks\":\"\"}},\"type\":\"scatterternary\"}],\"surface\":[{\"colorbar\":{\"outlinewidth\":0,\"ticks\":\"\"},\"colorscale\":[[0.0,\"#0d0887\"],[0.1111111111111111,\"#46039f\"],[0.2222222222222222,\"#7201a8\"],[0.3333333333333333,\"#9c179e\"],[0.4444444444444444,\"#bd3786\"],[0.5555555555555556,\"#d8576b\"],[0.6666666666666666,\"#ed7953\"],[0.7777777777777778,\"#fb9f3a\"],[0.8888888888888888,\"#fdca26\"],[1.0,\"#f0f921\"]],\"type\":\"surface\"}],\"table\":[{\"cells\":{\"fill\":{\"color\":\"#EBF0F8\"},\"line\":{\"color\":\"white\"}},\"header\":{\"fill\":{\"color\":\"#C8D4E3\"},\"line\":{\"color\":\"white\"}},\"type\":\"table\"}]},\"layout\":{\"annotationdefaults\":{\"arrowcolor\":\"#2a3f5f\",\"arrowhead\":0,\"arrowwidth\":1},\"autotypenumbers\":\"strict\",\"coloraxis\":{\"colorbar\":{\"outlinewidth\":0,\"ticks\":\"\"}},\"colorscale\":{\"diverging\":[[0,\"#8e0152\"],[0.1,\"#c51b7d\"],[0.2,\"#de77ae\"],[0.3,\"#f1b6da\"],[0.4,\"#fde0ef\"],[0.5,\"#f7f7f7\"],[0.6,\"#e6f5d0\"],[0.7,\"#b8e186\"],[0.8,\"#7fbc41\"],[0.9,\"#4d9221\"],[1,\"#276419\"]],\"sequential\":[[0.0,\"#0d0887\"],[0.1111111111111111,\"#46039f\"],[0.2222222222222222,\"#7201a8\"],[0.3333333333333333,\"#9c179e\"],[0.4444444444444444,\"#bd3786\"],[0.5555555555555556,\"#d8576b\"],[0.6666666666666666,\"#ed7953\"],[0.7777777777777778,\"#fb9f3a\"],[0.8888888888888888,\"#fdca26\"],[1.0,\"#f0f921\"]],\"sequentialminus\":[[0.0,\"#0d0887\"],[0.1111111111111111,\"#46039f\"],[0.2222222222222222,\"#7201a8\"],[0.3333333333333333,\"#9c179e\"],[0.4444444444444444,\"#bd3786\"],[0.5555555555555556,\"#d8576b\"],[0.6666666666666666,\"#ed7953\"],[0.7777777777777778,\"#fb9f3a\"],[0.8888888888888888,\"#fdca26\"],[1.0,\"#f0f921\"]]},\"colorway\":[\"#636efa\",\"#EF553B\",\"#00cc96\",\"#ab63fa\",\"#FFA15A\",\"#19d3f3\",\"#FF6692\",\"#B6E880\",\"#FF97FF\",\"#FECB52\"],\"font\":{\"color\":\"#2a3f5f\"},\"geo\":{\"bgcolor\":\"white\",\"lakecolor\":\"white\",\"landcolor\":\"#E5ECF6\",\"showlakes\":true,\"showland\":true,\"subunitcolor\":\"white\"},\"hoverlabel\":{\"align\":\"left\"},\"hovermode\":\"closest\",\"mapbox\":{\"style\":\"light\"},\"paper_bgcolor\":\"white\",\"plot_bgcolor\":\"#E5ECF6\",\"polar\":{\"angularaxis\":{\"gridcolor\":\"white\",\"linecolor\":\"white\",\"ticks\":\"\"},\"bgcolor\":\"#E5ECF6\",\"radialaxis\":{\"gridcolor\":\"white\",\"linecolor\":\"white\",\"ticks\":\"\"}},\"scene\":{\"xaxis\":{\"backgroundcolor\":\"#E5ECF6\",\"gridcolor\":\"white\",\"gridwidth\":2,\"linecolor\":\"white\",\"showbackground\":true,\"ticks\":\"\",\"zerolinecolor\":\"white\"},\"yaxis\":{\"backgroundcolor\":\"#E5ECF6\",\"gridcolor\":\"white\",\"gridwidth\":2,\"linecolor\":\"white\",\"showbackground\":true,\"ticks\":\"\",\"zerolinecolor\":\"white\"},\"zaxis\":{\"backgroundcolor\":\"#E5ECF6\",\"gridcolor\":\"white\",\"gridwidth\":2,\"linecolor\":\"white\",\"showbackground\":true,\"ticks\":\"\",\"zerolinecolor\":\"white\"}},\"shapedefaults\":{\"line\":{\"color\":\"#2a3f5f\"}},\"ternary\":{\"aaxis\":{\"gridcolor\":\"white\",\"linecolor\":\"white\",\"ticks\":\"\"},\"baxis\":{\"gridcolor\":\"white\",\"linecolor\":\"white\",\"ticks\":\"\"},\"bgcolor\":\"#E5ECF6\",\"caxis\":{\"gridcolor\":\"white\",\"linecolor\":\"white\",\"ticks\":\"\"}},\"title\":{\"x\":0.05},\"xaxis\":{\"automargin\":true,\"gridcolor\":\"white\",\"linecolor\":\"white\",\"ticks\":\"\",\"title\":{\"standoff\":15},\"zerolinecolor\":\"white\",\"zerolinewidth\":2},\"yaxis\":{\"automargin\":true,\"gridcolor\":\"white\",\"linecolor\":\"white\",\"ticks\":\"\",\"title\":{\"standoff\":15},\"zerolinecolor\":\"white\",\"zerolinewidth\":2}}},\"xaxis\":{\"anchor\":\"y\",\"domain\":[0.0,1.0],\"title\":{\"text\":\"MasVnrType\"},\"categoryorder\":\"array\",\"categoryarray\":[\"BrkFace\",\"None\",\"Stone\",\"BrkCmn\"]},\"yaxis\":{\"anchor\":\"x\",\"domain\":[0.0,1.0],\"title\":{\"text\":\"MasVnrArea\"}},\"legend\":{\"title\":{\"text\":\"MasVnrType\"},\"tracegroupgap\":0},\"margin\":{\"t\":60},\"boxmode\":\"overlay\",\"height\":400,\"width\":800},                        {\"responsive\": true}                    ).then(function(){\n",
              "                            \n",
              "var gd = document.getElementById('41189a61-371a-44de-8334-a50e1faf8273');\n",
              "var x = new MutationObserver(function (mutations, observer) {{\n",
              "        var display = window.getComputedStyle(gd).display;\n",
              "        if (!display || display === 'none') {{\n",
              "            console.log([gd, 'removed!']);\n",
              "            Plotly.purge(gd);\n",
              "            observer.disconnect();\n",
              "        }}\n",
              "}});\n",
              "\n",
              "// Listen for the removal of the full notebook cells\n",
              "var notebookContainer = gd.closest('#notebook-container');\n",
              "if (notebookContainer) {{\n",
              "    x.observe(notebookContainer, {childList: true});\n",
              "}}\n",
              "\n",
              "// Listen for the clearing of the current output cell\n",
              "var outputEl = gd.closest('.output');\n",
              "if (outputEl) {{\n",
              "    x.observe(outputEl, {childList: true});\n",
              "}}\n",
              "\n",
              "                        })                };                            </script>        </div>\n",
              "</body>\n",
              "</html>"
            ]
          },
          "metadata": {}
        },
        {
          "output_type": "stream",
          "name": "stdout",
          "text": [
            "                  sum_sq      df           F  PR(>F)\n",
            "MasVnrType  4.518340e+07     3.0  908.909447     0.0\n",
            "Residual    4.792204e+07  2892.0         NaN     NaN\n"
          ]
        }
      ],
      "source": [
        "fig = px.box(all_features, x='MasVnrType', y='MasVnrArea', color='MasVnrType', width=800, height=400)\n",
        "fig.show()\n",
        "\n",
        "import statsmodels.api as sm\n",
        "from statsmodels.formula.api import ols\n",
        "model = ols('MasVnrArea ~ MasVnrType', data=all_features).fit()\n",
        "anova_table = sm.stats.anova_lm(model, typ=2)\n",
        "print(anova_table)"
      ]
    },
    {
      "cell_type": "code",
      "execution_count": null,
      "metadata": {
        "colab": {
          "base_uri": "https://localhost:8080/",
          "height": 470
        },
        "id": "r0j-zukJ7X4c",
        "outputId": "f29db7ba-31c3-4286-8ce8-d47ec91e4403"
      },
      "outputs": [
        {
          "output_type": "display_data",
          "data": {
            "text/html": [
              "<html>\n",
              "<head><meta charset=\"utf-8\" /></head>\n",
              "<body>\n",
              "    <div>            <script src=\"https://cdnjs.cloudflare.com/ajax/libs/mathjax/2.7.5/MathJax.js?config=TeX-AMS-MML_SVG\"></script><script type=\"text/javascript\">if (window.MathJax) {MathJax.Hub.Config({SVG: {font: \"STIX-Web\"}});}</script>                <script type=\"text/javascript\">window.PlotlyConfig = {MathJaxConfig: 'local'};</script>\n",
              "        <script src=\"https://cdn.plot.ly/plotly-2.8.3.min.js\"></script>                <div id=\"c27db363-f24c-49d2-99e7-00d44fd60608\" class=\"plotly-graph-div\" style=\"height:400px; width:800px;\"></div>            <script type=\"text/javascript\">                                    window.PLOTLYENV=window.PLOTLYENV || {};                                    if (document.getElementById(\"c27db363-f24c-49d2-99e7-00d44fd60608\")) {                    Plotly.newPlot(                        \"c27db363-f24c-49d2-99e7-00d44fd60608\",                        [{\"alignmentgroup\":\"True\",\"hovertemplate\":\"GarageType=%{x}<br>GarageArea=%{y}<extra></extra>\",\"legendgroup\":\"Attchd\",\"marker\":{\"color\":\"#636efa\"},\"name\":\"Attchd\",\"notched\":false,\"offsetgroup\":\"Attchd\",\"orientation\":\"v\",\"showlegend\":true,\"x\":[\"Attchd\",\"Attchd\",\"Attchd\",\"Attchd\",\"Attchd\",\"Attchd\",\"Attchd\",\"Attchd\",\"Attchd\",\"Attchd\",\"Attchd\",\"Attchd\",\"Attchd\",\"Attchd\",\"Attchd\",\"Attchd\",\"Attchd\",\"Attchd\",\"Attchd\",\"Attchd\",\"Attchd\",\"Attchd\",\"Attchd\",\"Attchd\",\"Attchd\",\"Attchd\",\"Attchd\",\"Attchd\",\"Attchd\",\"Attchd\",\"Attchd\",\"Attchd\",\"Attchd\",\"Attchd\",\"Attchd\",\"Attchd\",\"Attchd\",\"Attchd\",\"Attchd\",\"Attchd\",\"Attchd\",\"Attchd\",\"Attchd\",\"Attchd\",\"Attchd\",\"Attchd\",\"Attchd\",\"Attchd\",\"Attchd\",\"Attchd\",\"Attchd\",\"Attchd\",\"Attchd\",\"Attchd\",\"Attchd\",\"Attchd\",\"Attchd\",\"Attchd\",\"Attchd\",\"Attchd\",\"Attchd\",\"Attchd\",\"Attchd\",\"Attchd\",\"Attchd\",\"Attchd\",\"Attchd\",\"Attchd\",\"Attchd\",\"Attchd\",\"Attchd\",\"Attchd\",\"Attchd\",\"Attchd\",\"Attchd\",\"Attchd\",\"Attchd\",\"Attchd\",\"Attchd\",\"Attchd\",\"Attchd\",\"Attchd\",\"Attchd\",\"Attchd\",\"Attchd\",\"Attchd\",\"Attchd\",\"Attchd\",\"Attchd\",\"Attchd\",\"Attchd\",\"Attchd\",\"Attchd\",\"Attchd\",\"Attchd\",\"Attchd\",\"Attchd\",\"Attchd\",\"Attchd\",\"Attchd\",\"Attchd\",\"Attchd\",\"Attchd\",\"Attchd\",\"Attchd\",\"Attchd\",\"Attchd\",\"Attchd\",\"Attchd\",\"Attchd\",\"Attchd\",\"Attchd\",\"Attchd\",\"Attchd\",\"Attchd\",\"Attchd\",\"Attchd\",\"Attchd\",\"Attchd\",\"Attchd\",\"Attchd\",\"Attchd\",\"Attchd\",\"Attchd\",\"Attchd\",\"Attchd\",\"Attchd\",\"Attchd\",\"Attchd\",\"Attchd\",\"Attchd\",\"Attchd\",\"Attchd\",\"Attchd\",\"Attchd\",\"Attchd\",\"Attchd\",\"Attchd\",\"Attchd\",\"Attchd\",\"Attchd\",\"Attchd\",\"Attchd\",\"Attchd\",\"Attchd\",\"Attchd\",\"Attchd\",\"Attchd\",\"Attchd\",\"Attchd\",\"Attchd\",\"Attchd\",\"Attchd\",\"Attchd\",\"Attchd\",\"Attchd\",\"Attchd\",\"Attchd\",\"Attchd\",\"Attchd\",\"Attchd\",\"Attchd\",\"Attchd\",\"Attchd\",\"Attchd\",\"Attchd\",\"Attchd\",\"Attchd\",\"Attchd\",\"Attchd\",\"Attchd\",\"Attchd\",\"Attchd\",\"Attchd\",\"Attchd\",\"Attchd\",\"Attchd\",\"Attchd\",\"Attchd\",\"Attchd\",\"Attchd\",\"Attchd\",\"Attchd\",\"Attchd\",\"Attchd\",\"Attchd\",\"Attchd\",\"Attchd\",\"Attchd\",\"Attchd\",\"Attchd\",\"Attchd\",\"Attchd\",\"Attchd\",\"Attchd\",\"Attchd\",\"Attchd\",\"Attchd\",\"Attchd\",\"Attchd\",\"Attchd\",\"Attchd\",\"Attchd\",\"Attchd\",\"Attchd\",\"Attchd\",\"Attchd\",\"Attchd\",\"Attchd\",\"Attchd\",\"Attchd\",\"Attchd\",\"Attchd\",\"Attchd\",\"Attchd\",\"Attchd\",\"Attchd\",\"Attchd\",\"Attchd\",\"Attchd\",\"Attchd\",\"Attchd\",\"Attchd\",\"Attchd\",\"Attchd\",\"Attchd\",\"Attchd\",\"Attchd\",\"Attchd\",\"Attchd\",\"Attchd\",\"Attchd\",\"Attchd\",\"Attchd\",\"Attchd\",\"Attchd\",\"Attchd\",\"Attchd\",\"Attchd\",\"Attchd\",\"Attchd\",\"Attchd\",\"Attchd\",\"Attchd\",\"Attchd\",\"Attchd\",\"Attchd\",\"Attchd\",\"Attchd\",\"Attchd\",\"Attchd\",\"Attchd\",\"Attchd\",\"Attchd\",\"Attchd\",\"Attchd\",\"Attchd\",\"Attchd\",\"Attchd\",\"Attchd\",\"Attchd\",\"Attchd\",\"Attchd\",\"Attchd\",\"Attchd\",\"Attchd\",\"Attchd\",\"Attchd\",\"Attchd\",\"Attchd\",\"Attchd\",\"Attchd\",\"Attchd\",\"Attchd\",\"Attchd\",\"Attchd\",\"Attchd\",\"Attchd\",\"Attchd\",\"Attchd\",\"Attchd\",\"Attchd\",\"Attchd\",\"Attchd\",\"Attchd\",\"Attchd\",\"Attchd\",\"Attchd\",\"Attchd\",\"Attchd\",\"Attchd\",\"Attchd\",\"Attchd\",\"Attchd\",\"Attchd\",\"Attchd\",\"Attchd\",\"Attchd\",\"Attchd\",\"Attchd\",\"Attchd\",\"Attchd\",\"Attchd\",\"Attchd\",\"Attchd\",\"Attchd\",\"Attchd\",\"Attchd\",\"Attchd\",\"Attchd\",\"Attchd\",\"Attchd\",\"Attchd\",\"Attchd\",\"Attchd\",\"Attchd\",\"Attchd\",\"Attchd\",\"Attchd\",\"Attchd\",\"Attchd\",\"Attchd\",\"Attchd\",\"Attchd\",\"Attchd\",\"Attchd\",\"Attchd\",\"Attchd\",\"Attchd\",\"Attchd\",\"Attchd\",\"Attchd\",\"Attchd\",\"Attchd\",\"Attchd\",\"Attchd\",\"Attchd\",\"Attchd\",\"Attchd\",\"Attchd\",\"Attchd\",\"Attchd\",\"Attchd\",\"Attchd\",\"Attchd\",\"Attchd\",\"Attchd\",\"Attchd\",\"Attchd\",\"Attchd\",\"Attchd\",\"Attchd\",\"Attchd\",\"Attchd\",\"Attchd\",\"Attchd\",\"Attchd\",\"Attchd\",\"Attchd\",\"Attchd\",\"Attchd\",\"Attchd\",\"Attchd\",\"Attchd\",\"Attchd\",\"Attchd\",\"Attchd\",\"Attchd\",\"Attchd\",\"Attchd\",\"Attchd\",\"Attchd\",\"Attchd\",\"Attchd\",\"Attchd\",\"Attchd\",\"Attchd\",\"Attchd\",\"Attchd\",\"Attchd\",\"Attchd\",\"Attchd\",\"Attchd\",\"Attchd\",\"Attchd\",\"Attchd\",\"Attchd\",\"Attchd\",\"Attchd\",\"Attchd\",\"Attchd\",\"Attchd\",\"Attchd\",\"Attchd\",\"Attchd\",\"Attchd\",\"Attchd\",\"Attchd\",\"Attchd\",\"Attchd\",\"Attchd\",\"Attchd\",\"Attchd\",\"Attchd\",\"Attchd\",\"Attchd\",\"Attchd\",\"Attchd\",\"Attchd\",\"Attchd\",\"Attchd\",\"Attchd\",\"Attchd\",\"Attchd\",\"Attchd\",\"Attchd\",\"Attchd\",\"Attchd\",\"Attchd\",\"Attchd\",\"Attchd\",\"Attchd\",\"Attchd\",\"Attchd\",\"Attchd\",\"Attchd\",\"Attchd\",\"Attchd\",\"Attchd\",\"Attchd\",\"Attchd\",\"Attchd\",\"Attchd\",\"Attchd\",\"Attchd\",\"Attchd\",\"Attchd\",\"Attchd\",\"Attchd\",\"Attchd\",\"Attchd\",\"Attchd\",\"Attchd\",\"Attchd\",\"Attchd\",\"Attchd\",\"Attchd\",\"Attchd\",\"Attchd\",\"Attchd\",\"Attchd\",\"Attchd\",\"Attchd\",\"Attchd\",\"Attchd\",\"Attchd\",\"Attchd\",\"Attchd\",\"Attchd\",\"Attchd\",\"Attchd\",\"Attchd\",\"Attchd\",\"Attchd\",\"Attchd\",\"Attchd\",\"Attchd\",\"Attchd\",\"Attchd\",\"Attchd\",\"Attchd\",\"Attchd\",\"Attchd\",\"Attchd\",\"Attchd\",\"Attchd\",\"Attchd\",\"Attchd\",\"Attchd\",\"Attchd\",\"Attchd\",\"Attchd\",\"Attchd\",\"Attchd\",\"Attchd\",\"Attchd\",\"Attchd\",\"Attchd\",\"Attchd\",\"Attchd\",\"Attchd\",\"Attchd\",\"Attchd\",\"Attchd\",\"Attchd\",\"Attchd\",\"Attchd\",\"Attchd\",\"Attchd\",\"Attchd\",\"Attchd\",\"Attchd\",\"Attchd\",\"Attchd\",\"Attchd\",\"Attchd\",\"Attchd\",\"Attchd\",\"Attchd\",\"Attchd\",\"Attchd\",\"Attchd\",\"Attchd\",\"Attchd\",\"Attchd\",\"Attchd\",\"Attchd\",\"Attchd\",\"Attchd\",\"Attchd\",\"Attchd\",\"Attchd\",\"Attchd\",\"Attchd\",\"Attchd\",\"Attchd\",\"Attchd\",\"Attchd\",\"Attchd\",\"Attchd\",\"Attchd\",\"Attchd\",\"Attchd\",\"Attchd\",\"Attchd\",\"Attchd\",\"Attchd\",\"Attchd\",\"Attchd\",\"Attchd\",\"Attchd\",\"Attchd\",\"Attchd\",\"Attchd\",\"Attchd\",\"Attchd\",\"Attchd\",\"Attchd\",\"Attchd\",\"Attchd\",\"Attchd\",\"Attchd\",\"Attchd\",\"Attchd\",\"Attchd\",\"Attchd\",\"Attchd\",\"Attchd\",\"Attchd\",\"Attchd\",\"Attchd\",\"Attchd\",\"Attchd\",\"Attchd\",\"Attchd\",\"Attchd\",\"Attchd\",\"Attchd\",\"Attchd\",\"Attchd\",\"Attchd\",\"Attchd\",\"Attchd\",\"Attchd\",\"Attchd\",\"Attchd\",\"Attchd\",\"Attchd\",\"Attchd\",\"Attchd\",\"Attchd\",\"Attchd\",\"Attchd\",\"Attchd\",\"Attchd\",\"Attchd\",\"Attchd\",\"Attchd\",\"Attchd\",\"Attchd\",\"Attchd\",\"Attchd\",\"Attchd\",\"Attchd\",\"Attchd\",\"Attchd\",\"Attchd\",\"Attchd\",\"Attchd\",\"Attchd\",\"Attchd\",\"Attchd\",\"Attchd\",\"Attchd\",\"Attchd\",\"Attchd\",\"Attchd\",\"Attchd\",\"Attchd\",\"Attchd\",\"Attchd\",\"Attchd\",\"Attchd\",\"Attchd\",\"Attchd\",\"Attchd\",\"Attchd\",\"Attchd\",\"Attchd\",\"Attchd\",\"Attchd\",\"Attchd\",\"Attchd\",\"Attchd\",\"Attchd\",\"Attchd\",\"Attchd\",\"Attchd\",\"Attchd\",\"Attchd\",\"Attchd\",\"Attchd\",\"Attchd\",\"Attchd\",\"Attchd\",\"Attchd\",\"Attchd\",\"Attchd\",\"Attchd\",\"Attchd\",\"Attchd\",\"Attchd\",\"Attchd\",\"Attchd\",\"Attchd\",\"Attchd\",\"Attchd\",\"Attchd\",\"Attchd\",\"Attchd\",\"Attchd\",\"Attchd\",\"Attchd\",\"Attchd\",\"Attchd\",\"Attchd\",\"Attchd\",\"Attchd\",\"Attchd\",\"Attchd\",\"Attchd\",\"Attchd\",\"Attchd\",\"Attchd\",\"Attchd\",\"Attchd\",\"Attchd\",\"Attchd\",\"Attchd\",\"Attchd\",\"Attchd\",\"Attchd\",\"Attchd\",\"Attchd\",\"Attchd\",\"Attchd\",\"Attchd\",\"Attchd\",\"Attchd\",\"Attchd\",\"Attchd\",\"Attchd\",\"Attchd\",\"Attchd\",\"Attchd\",\"Attchd\",\"Attchd\",\"Attchd\",\"Attchd\",\"Attchd\",\"Attchd\",\"Attchd\",\"Attchd\",\"Attchd\",\"Attchd\",\"Attchd\",\"Attchd\",\"Attchd\",\"Attchd\",\"Attchd\",\"Attchd\",\"Attchd\",\"Attchd\",\"Attchd\",\"Attchd\",\"Attchd\",\"Attchd\",\"Attchd\",\"Attchd\",\"Attchd\",\"Attchd\",\"Attchd\",\"Attchd\",\"Attchd\",\"Attchd\",\"Attchd\",\"Attchd\",\"Attchd\",\"Attchd\",\"Attchd\",\"Attchd\",\"Attchd\",\"Attchd\",\"Attchd\",\"Attchd\",\"Attchd\",\"Attchd\",\"Attchd\",\"Attchd\",\"Attchd\",\"Attchd\",\"Attchd\",\"Attchd\",\"Attchd\",\"Attchd\",\"Attchd\",\"Attchd\",\"Attchd\",\"Attchd\",\"Attchd\",\"Attchd\",\"Attchd\",\"Attchd\",\"Attchd\",\"Attchd\",\"Attchd\",\"Attchd\",\"Attchd\",\"Attchd\",\"Attchd\",\"Attchd\",\"Attchd\",\"Attchd\",\"Attchd\",\"Attchd\",\"Attchd\",\"Attchd\",\"Attchd\",\"Attchd\",\"Attchd\",\"Attchd\",\"Attchd\",\"Attchd\",\"Attchd\",\"Attchd\",\"Attchd\",\"Attchd\",\"Attchd\",\"Attchd\",\"Attchd\",\"Attchd\",\"Attchd\",\"Attchd\",\"Attchd\",\"Attchd\",\"Attchd\",\"Attchd\",\"Attchd\",\"Attchd\",\"Attchd\",\"Attchd\",\"Attchd\",\"Attchd\",\"Attchd\",\"Attchd\",\"Attchd\",\"Attchd\",\"Attchd\",\"Attchd\",\"Attchd\",\"Attchd\",\"Attchd\",\"Attchd\",\"Attchd\",\"Attchd\",\"Attchd\",\"Attchd\",\"Attchd\",\"Attchd\",\"Attchd\",\"Attchd\",\"Attchd\",\"Attchd\",\"Attchd\",\"Attchd\",\"Attchd\",\"Attchd\",\"Attchd\",\"Attchd\",\"Attchd\",\"Attchd\",\"Attchd\",\"Attchd\",\"Attchd\",\"Attchd\",\"Attchd\",\"Attchd\",\"Attchd\",\"Attchd\",\"Attchd\",\"Attchd\",\"Attchd\",\"Attchd\",\"Attchd\",\"Attchd\",\"Attchd\",\"Attchd\",\"Attchd\",\"Attchd\",\"Attchd\",\"Attchd\",\"Attchd\",\"Attchd\",\"Attchd\",\"Attchd\",\"Attchd\",\"Attchd\",\"Attchd\",\"Attchd\",\"Attchd\",\"Attchd\",\"Attchd\",\"Attchd\",\"Attchd\",\"Attchd\",\"Attchd\",\"Attchd\",\"Attchd\",\"Attchd\",\"Attchd\",\"Attchd\",\"Attchd\",\"Attchd\",\"Attchd\",\"Attchd\",\"Attchd\",\"Attchd\",\"Attchd\",\"Attchd\",\"Attchd\",\"Attchd\",\"Attchd\",\"Attchd\",\"Attchd\",\"Attchd\",\"Attchd\",\"Attchd\",\"Attchd\",\"Attchd\",\"Attchd\",\"Attchd\",\"Attchd\",\"Attchd\",\"Attchd\",\"Attchd\",\"Attchd\",\"Attchd\",\"Attchd\",\"Attchd\",\"Attchd\",\"Attchd\",\"Attchd\",\"Attchd\",\"Attchd\",\"Attchd\",\"Attchd\",\"Attchd\",\"Attchd\",\"Attchd\",\"Attchd\",\"Attchd\",\"Attchd\",\"Attchd\",\"Attchd\",\"Attchd\",\"Attchd\",\"Attchd\",\"Attchd\",\"Attchd\",\"Attchd\",\"Attchd\",\"Attchd\",\"Attchd\",\"Attchd\",\"Attchd\",\"Attchd\",\"Attchd\",\"Attchd\",\"Attchd\",\"Attchd\",\"Attchd\",\"Attchd\",\"Attchd\",\"Attchd\",\"Attchd\",\"Attchd\",\"Attchd\",\"Attchd\",\"Attchd\",\"Attchd\",\"Attchd\",\"Attchd\",\"Attchd\",\"Attchd\",\"Attchd\",\"Attchd\",\"Attchd\",\"Attchd\",\"Attchd\",\"Attchd\",\"Attchd\",\"Attchd\",\"Attchd\",\"Attchd\",\"Attchd\",\"Attchd\",\"Attchd\",\"Attchd\",\"Attchd\",\"Attchd\",\"Attchd\",\"Attchd\",\"Attchd\",\"Attchd\",\"Attchd\",\"Attchd\",\"Attchd\",\"Attchd\",\"Attchd\",\"Attchd\",\"Attchd\",\"Attchd\",\"Attchd\",\"Attchd\",\"Attchd\",\"Attchd\",\"Attchd\",\"Attchd\",\"Attchd\",\"Attchd\",\"Attchd\",\"Attchd\",\"Attchd\",\"Attchd\",\"Attchd\",\"Attchd\",\"Attchd\",\"Attchd\",\"Attchd\",\"Attchd\",\"Attchd\",\"Attchd\",\"Attchd\",\"Attchd\",\"Attchd\",\"Attchd\",\"Attchd\",\"Attchd\",\"Attchd\",\"Attchd\",\"Attchd\",\"Attchd\",\"Attchd\",\"Attchd\",\"Attchd\",\"Attchd\",\"Attchd\",\"Attchd\",\"Attchd\",\"Attchd\",\"Attchd\",\"Attchd\",\"Attchd\",\"Attchd\",\"Attchd\",\"Attchd\",\"Attchd\",\"Attchd\",\"Attchd\",\"Attchd\",\"Attchd\",\"Attchd\",\"Attchd\",\"Attchd\",\"Attchd\",\"Attchd\",\"Attchd\",\"Attchd\",\"Attchd\",\"Attchd\",\"Attchd\",\"Attchd\",\"Attchd\",\"Attchd\",\"Attchd\",\"Attchd\",\"Attchd\",\"Attchd\",\"Attchd\",\"Attchd\",\"Attchd\",\"Attchd\",\"Attchd\",\"Attchd\",\"Attchd\",\"Attchd\",\"Attchd\",\"Attchd\",\"Attchd\",\"Attchd\",\"Attchd\",\"Attchd\",\"Attchd\",\"Attchd\",\"Attchd\",\"Attchd\",\"Attchd\",\"Attchd\",\"Attchd\",\"Attchd\",\"Attchd\",\"Attchd\",\"Attchd\",\"Attchd\",\"Attchd\",\"Attchd\",\"Attchd\",\"Attchd\",\"Attchd\",\"Attchd\",\"Attchd\",\"Attchd\",\"Attchd\",\"Attchd\",\"Attchd\",\"Attchd\",\"Attchd\",\"Attchd\",\"Attchd\",\"Attchd\",\"Attchd\",\"Attchd\",\"Attchd\",\"Attchd\",\"Attchd\",\"Attchd\",\"Attchd\",\"Attchd\",\"Attchd\",\"Attchd\",\"Attchd\",\"Attchd\",\"Attchd\",\"Attchd\",\"Attchd\",\"Attchd\",\"Attchd\",\"Attchd\",\"Attchd\",\"Attchd\",\"Attchd\",\"Attchd\",\"Attchd\",\"Attchd\",\"Attchd\",\"Attchd\",\"Attchd\",\"Attchd\",\"Attchd\",\"Attchd\",\"Attchd\",\"Attchd\",\"Attchd\",\"Attchd\",\"Attchd\",\"Attchd\",\"Attchd\",\"Attchd\",\"Attchd\",\"Attchd\",\"Attchd\",\"Attchd\",\"Attchd\",\"Attchd\",\"Attchd\",\"Attchd\",\"Attchd\",\"Attchd\",\"Attchd\",\"Attchd\",\"Attchd\",\"Attchd\",\"Attchd\",\"Attchd\",\"Attchd\",\"Attchd\",\"Attchd\",\"Attchd\",\"Attchd\",\"Attchd\",\"Attchd\",\"Attchd\",\"Attchd\",\"Attchd\",\"Attchd\",\"Attchd\",\"Attchd\",\"Attchd\",\"Attchd\",\"Attchd\",\"Attchd\",\"Attchd\",\"Attchd\",\"Attchd\",\"Attchd\",\"Attchd\",\"Attchd\",\"Attchd\",\"Attchd\",\"Attchd\",\"Attchd\",\"Attchd\",\"Attchd\",\"Attchd\",\"Attchd\",\"Attchd\",\"Attchd\",\"Attchd\",\"Attchd\",\"Attchd\",\"Attchd\",\"Attchd\",\"Attchd\",\"Attchd\",\"Attchd\",\"Attchd\",\"Attchd\",\"Attchd\",\"Attchd\",\"Attchd\",\"Attchd\",\"Attchd\",\"Attchd\",\"Attchd\",\"Attchd\",\"Attchd\",\"Attchd\",\"Attchd\",\"Attchd\",\"Attchd\",\"Attchd\",\"Attchd\",\"Attchd\",\"Attchd\",\"Attchd\",\"Attchd\",\"Attchd\",\"Attchd\",\"Attchd\",\"Attchd\",\"Attchd\",\"Attchd\",\"Attchd\",\"Attchd\",\"Attchd\",\"Attchd\",\"Attchd\",\"Attchd\",\"Attchd\",\"Attchd\",\"Attchd\",\"Attchd\",\"Attchd\",\"Attchd\",\"Attchd\",\"Attchd\",\"Attchd\",\"Attchd\",\"Attchd\",\"Attchd\",\"Attchd\",\"Attchd\",\"Attchd\",\"Attchd\",\"Attchd\",\"Attchd\",\"Attchd\",\"Attchd\",\"Attchd\",\"Attchd\",\"Attchd\",\"Attchd\",\"Attchd\",\"Attchd\",\"Attchd\",\"Attchd\",\"Attchd\",\"Attchd\",\"Attchd\",\"Attchd\",\"Attchd\",\"Attchd\",\"Attchd\",\"Attchd\",\"Attchd\",\"Attchd\",\"Attchd\",\"Attchd\",\"Attchd\",\"Attchd\",\"Attchd\",\"Attchd\",\"Attchd\",\"Attchd\",\"Attchd\",\"Attchd\",\"Attchd\",\"Attchd\",\"Attchd\",\"Attchd\",\"Attchd\",\"Attchd\",\"Attchd\",\"Attchd\",\"Attchd\",\"Attchd\",\"Attchd\",\"Attchd\",\"Attchd\",\"Attchd\",\"Attchd\",\"Attchd\",\"Attchd\",\"Attchd\",\"Attchd\",\"Attchd\",\"Attchd\",\"Attchd\",\"Attchd\",\"Attchd\",\"Attchd\",\"Attchd\",\"Attchd\",\"Attchd\",\"Attchd\",\"Attchd\",\"Attchd\",\"Attchd\",\"Attchd\",\"Attchd\",\"Attchd\",\"Attchd\",\"Attchd\",\"Attchd\",\"Attchd\",\"Attchd\",\"Attchd\",\"Attchd\",\"Attchd\",\"Attchd\",\"Attchd\",\"Attchd\",\"Attchd\",\"Attchd\",\"Attchd\",\"Attchd\",\"Attchd\",\"Attchd\",\"Attchd\",\"Attchd\",\"Attchd\",\"Attchd\",\"Attchd\",\"Attchd\",\"Attchd\",\"Attchd\",\"Attchd\",\"Attchd\",\"Attchd\",\"Attchd\",\"Attchd\",\"Attchd\",\"Attchd\",\"Attchd\",\"Attchd\",\"Attchd\",\"Attchd\",\"Attchd\",\"Attchd\",\"Attchd\",\"Attchd\",\"Attchd\",\"Attchd\",\"Attchd\",\"Attchd\",\"Attchd\",\"Attchd\",\"Attchd\",\"Attchd\",\"Attchd\",\"Attchd\",\"Attchd\",\"Attchd\",\"Attchd\",\"Attchd\",\"Attchd\",\"Attchd\",\"Attchd\",\"Attchd\",\"Attchd\",\"Attchd\",\"Attchd\",\"Attchd\",\"Attchd\",\"Attchd\",\"Attchd\",\"Attchd\",\"Attchd\",\"Attchd\",\"Attchd\",\"Attchd\",\"Attchd\",\"Attchd\",\"Attchd\",\"Attchd\",\"Attchd\",\"Attchd\",\"Attchd\",\"Attchd\",\"Attchd\",\"Attchd\",\"Attchd\",\"Attchd\",\"Attchd\",\"Attchd\",\"Attchd\",\"Attchd\",\"Attchd\",\"Attchd\",\"Attchd\",\"Attchd\",\"Attchd\",\"Attchd\",\"Attchd\",\"Attchd\",\"Attchd\",\"Attchd\",\"Attchd\",\"Attchd\",\"Attchd\",\"Attchd\",\"Attchd\",\"Attchd\",\"Attchd\",\"Attchd\",\"Attchd\",\"Attchd\",\"Attchd\",\"Attchd\",\"Attchd\",\"Attchd\",\"Attchd\",\"Attchd\",\"Attchd\",\"Attchd\",\"Attchd\",\"Attchd\",\"Attchd\",\"Attchd\",\"Attchd\",\"Attchd\",\"Attchd\",\"Attchd\",\"Attchd\",\"Attchd\",\"Attchd\",\"Attchd\",\"Attchd\",\"Attchd\",\"Attchd\",\"Attchd\",\"Attchd\",\"Attchd\",\"Attchd\",\"Attchd\",\"Attchd\",\"Attchd\",\"Attchd\",\"Attchd\",\"Attchd\",\"Attchd\",\"Attchd\",\"Attchd\",\"Attchd\",\"Attchd\",\"Attchd\",\"Attchd\",\"Attchd\",\"Attchd\",\"Attchd\",\"Attchd\",\"Attchd\",\"Attchd\",\"Attchd\",\"Attchd\",\"Attchd\",\"Attchd\",\"Attchd\",\"Attchd\",\"Attchd\",\"Attchd\",\"Attchd\",\"Attchd\",\"Attchd\",\"Attchd\",\"Attchd\",\"Attchd\",\"Attchd\",\"Attchd\",\"Attchd\",\"Attchd\",\"Attchd\",\"Attchd\",\"Attchd\",\"Attchd\",\"Attchd\",\"Attchd\",\"Attchd\",\"Attchd\",\"Attchd\",\"Attchd\",\"Attchd\",\"Attchd\",\"Attchd\",\"Attchd\",\"Attchd\",\"Attchd\",\"Attchd\",\"Attchd\",\"Attchd\",\"Attchd\",\"Attchd\",\"Attchd\",\"Attchd\",\"Attchd\",\"Attchd\",\"Attchd\",\"Attchd\",\"Attchd\",\"Attchd\",\"Attchd\",\"Attchd\",\"Attchd\",\"Attchd\",\"Attchd\",\"Attchd\",\"Attchd\",\"Attchd\",\"Attchd\",\"Attchd\",\"Attchd\",\"Attchd\",\"Attchd\",\"Attchd\",\"Attchd\",\"Attchd\",\"Attchd\",\"Attchd\",\"Attchd\",\"Attchd\",\"Attchd\",\"Attchd\",\"Attchd\",\"Attchd\",\"Attchd\",\"Attchd\",\"Attchd\",\"Attchd\",\"Attchd\",\"Attchd\",\"Attchd\",\"Attchd\",\"Attchd\",\"Attchd\",\"Attchd\",\"Attchd\",\"Attchd\",\"Attchd\",\"Attchd\",\"Attchd\",\"Attchd\",\"Attchd\",\"Attchd\",\"Attchd\",\"Attchd\",\"Attchd\",\"Attchd\",\"Attchd\",\"Attchd\",\"Attchd\",\"Attchd\",\"Attchd\",\"Attchd\",\"Attchd\",\"Attchd\",\"Attchd\",\"Attchd\",\"Attchd\",\"Attchd\",\"Attchd\",\"Attchd\",\"Attchd\",\"Attchd\",\"Attchd\",\"Attchd\",\"Attchd\",\"Attchd\",\"Attchd\",\"Attchd\",\"Attchd\",\"Attchd\",\"Attchd\",\"Attchd\",\"Attchd\",\"Attchd\",\"Attchd\",\"Attchd\",\"Attchd\",\"Attchd\",\"Attchd\",\"Attchd\",\"Attchd\",\"Attchd\",\"Attchd\",\"Attchd\",\"Attchd\",\"Attchd\",\"Attchd\",\"Attchd\",\"Attchd\",\"Attchd\",\"Attchd\",\"Attchd\",\"Attchd\",\"Attchd\",\"Attchd\",\"Attchd\",\"Attchd\",\"Attchd\",\"Attchd\",\"Attchd\",\"Attchd\",\"Attchd\",\"Attchd\",\"Attchd\",\"Attchd\",\"Attchd\",\"Attchd\",\"Attchd\",\"Attchd\",\"Attchd\",\"Attchd\",\"Attchd\",\"Attchd\",\"Attchd\",\"Attchd\",\"Attchd\",\"Attchd\",\"Attchd\",\"Attchd\",\"Attchd\",\"Attchd\",\"Attchd\",\"Attchd\",\"Attchd\",\"Attchd\",\"Attchd\",\"Attchd\",\"Attchd\",\"Attchd\",\"Attchd\",\"Attchd\",\"Attchd\",\"Attchd\",\"Attchd\",\"Attchd\",\"Attchd\",\"Attchd\",\"Attchd\",\"Attchd\",\"Attchd\",\"Attchd\",\"Attchd\",\"Attchd\",\"Attchd\",\"Attchd\",\"Attchd\",\"Attchd\",\"Attchd\",\"Attchd\",\"Attchd\",\"Attchd\",\"Attchd\",\"Attchd\",\"Attchd\",\"Attchd\",\"Attchd\",\"Attchd\",\"Attchd\",\"Attchd\",\"Attchd\",\"Attchd\",\"Attchd\",\"Attchd\",\"Attchd\",\"Attchd\",\"Attchd\",\"Attchd\",\"Attchd\",\"Attchd\",\"Attchd\",\"Attchd\",\"Attchd\",\"Attchd\",\"Attchd\",\"Attchd\",\"Attchd\",\"Attchd\",\"Attchd\",\"Attchd\",\"Attchd\",\"Attchd\",\"Attchd\",\"Attchd\",\"Attchd\",\"Attchd\",\"Attchd\",\"Attchd\",\"Attchd\",\"Attchd\",\"Attchd\",\"Attchd\",\"Attchd\",\"Attchd\",\"Attchd\",\"Attchd\",\"Attchd\",\"Attchd\",\"Attchd\",\"Attchd\",\"Attchd\",\"Attchd\",\"Attchd\",\"Attchd\",\"Attchd\",\"Attchd\",\"Attchd\",\"Attchd\",\"Attchd\",\"Attchd\",\"Attchd\",\"Attchd\",\"Attchd\",\"Attchd\",\"Attchd\",\"Attchd\",\"Attchd\",\"Attchd\",\"Attchd\",\"Attchd\",\"Attchd\",\"Attchd\",\"Attchd\",\"Attchd\",\"Attchd\",\"Attchd\",\"Attchd\",\"Attchd\",\"Attchd\",\"Attchd\",\"Attchd\",\"Attchd\",\"Attchd\",\"Attchd\",\"Attchd\",\"Attchd\",\"Attchd\",\"Attchd\",\"Attchd\",\"Attchd\",\"Attchd\",\"Attchd\",\"Attchd\",\"Attchd\",\"Attchd\",\"Attchd\",\"Attchd\",\"Attchd\",\"Attchd\",\"Attchd\",\"Attchd\",\"Attchd\",\"Attchd\"],\"x0\":\" \",\"xaxis\":\"x\",\"y\":[548.0,460.0,608.0,836.0,480.0,636.0,484.0,205.0,840.0,352.0,480.0,294.0,280.0,534.0,572.0,270.0,890.0,772.0,319.0,271.0,484.0,447.0,556.0,672.0,498.0,440.0,308.0,504.0,300.0,576.0,670.0,826.0,386.0,388.0,894.0,576.0,480.0,565.0,484.0,645.0,576.0,558.0,220.0,667.0,516.0,427.0,490.0,509.0,405.0,758.0,462.0,480.0,684.0,472.0,432.0,480.0,476.0,410.0,740.0,648.0,546.0,325.0,288.0,430.0,594.0,390.0,540.0,288.0,530.0,435.0,440.0,453.0,487.0,471.0,440.0,530.0,318.0,660.0,470.0,660.0,577.0,440.0,866.0,495.0,564.0,678.0,576.0,516.0,532.0,303.0,789.0,440.0,511.0,528.0,504.0,504.0,616.0,576.0,521.0,451.0,1166.0,252.0,576.0,497.0,682.0,484.0,666.0,440.0,786.0,856.0,440.0,398.0,420.0,500.0,349.0,312.0,454.0,504.0,460.0,644.0,576.0,299.0,447.0,484.0,431.0,438.0,675.0,434.0,968.0,721.0,430.0,312.0,810.0,288.0,308.0,494.0,457.0,818.0,750.0,352.0,288.0,463.0,604.0,451.0,500.0,389.0,538.0,520.0,309.0,294.0,673.0,660.0,564.0,884.0,492.0,576.0,413.0,504.0,1053.0,439.0,671.0,338.0,264.0,573.0,732.0,505.0,575.0,572.0,626.0,898.0,529.0,440.0,685.0,281.0,539.0,418.0,282.0,539.0,300.0,375.0,843.0,552.0,870.0,888.0,746.0,708.0,420.0,513.0,432.0,484.0,1025.0,656.0,588.0,840.0,576.0,220.0,473.0,292.0,308.0,880.0,484.0,472.0,529.0,676.0,532.0,440.0,297.0,431.0,564.0,336.0,301.0,498.0,706.0,617.0,445.0,240.0,521.0,400.0,528.0,592.0,470.0,566.0,514.0,244.0,460.0,264.0,270.0,610.0,834.0,463.0,572.0,639.0,501.0,430.0,577.0,294.0,596.0,264.0,438.0,500.0,400.0,490.0,308.0,947.0,836.0,350.0,572.0,484.0,678.0,396.0,440.0,304.0,784.0,529.0,520.0,696.0,297.0,569.0,628.0,576.0,470.0,550.0,672.0,648.0,493.0,480.0,578.0,431.0,576.0,422.0,676.0,528.0,529.0,398.0,526.0,312.0,866.0,506.0,528.0,534.0,908.0,499.0,508.0,826.0,772.0,874.0,164.0,402.0,264.0,515.0,487.0,520.0,286.0,240.0,429.0,273.0,546.0,288.0,297.0,603.0,484.0,440.0,471.0,676.0,270.0,474.0,484.0,900.0,583.0,889.0,546.0,336.0,834.0,453.0,252.0,858.0,484.0,600.0,403.0,527.0,336.0,670.0,765.0,583.0,367.0,426.0,786.0,440.0,288.0,908.0,299.0,406.0,420.0,418.0,590.0,532.0,288.0,650.0,564.0,352.0,572.0,1390.0,880.0,452.0,520.0,420.0,758.0,648.0,621.0,452.0,506.0,530.0,486.0,230.0,261.0,736.0,564.0,480.0,393.0,774.0,749.0,624.0,484.0,440.0,286.0,504.0,520.0,627.0,544.0,260.0,648.0,588.0,650.0,538.0,462.0,478.0,495.0,442.0,562.0,512.0,839.0,312.0,270.0,330.0,550.0,711.0,576.0,1134.0,504.0,575.0,540.0,546.0,416.0,384.0,440.0,834.0,264.0,431.0,702.0,486.0,577.0,578.0,567.0,460.0,420.0,832.0,628.0,551.0,530.0,765.0,528.0,606.0,739.0,550.0,400.0,408.0,472.0,475.0,478.0,439.0,983.0,300.0,564.0,420.0,768.0,540.0,632.0,608.0,438.0,541.0,264.0,300.0,800.0,572.0,539.0,480.0,462.0,527.0,400.0,576.0,878.0,578.0,440.0,752.0,614.0,856.0,481.0,592.0,496.0,423.0,484.0,275.0,895.0,412.0,865.0,440.0,504.0,402.0,484.0,605.0,602.0,457.0,444.0,397.0,539.0,455.0,474.0,409.0,476.0,528.0,240.0,603.0,410.0,286.0,554.0,384.0,528.0,484.0,484.0,420.0,301.0,598.0,275.0,857.0,440.0,484.0,595.0,776.0,1220.0,527.0,538.0,458.0,613.0,472.0,456.0,436.0,352.0,490.0,425.0,338.0,512.0,420.0,400.0,645.0,454.0,343.0,479.0,619.0,504.0,480.0,672.0,529.0,870.0,544.0,672.0,574.0,523.0,414.0,288.0,648.0,738.0,336.0,450.0,400.0,288.0,506.0,588.0,300.0,621.0,505.0,440.0,264.0,354.0,400.0,483.0,820.0,288.0,393.0,690.0,288.0,280.0,865.0,180.0,484.0,390.0,286.0,284.0,833.0,601.0,471.0,397.0,533.0,612.0,540.0,486.0,522.0,610.0,788.0,570.0,505.0,555.0,689.0,868.0,349.0,574.0,576.0,796.0,808.0,474.0,676.0,530.0,492.0,462.0,531.0,619.0,702.0,393.0,260.0,264.0,264.0,480.0,569.0,588.0,676.0,388.0,779.0,539.0,255.0,606.0,551.0,614.0,870.0,424.0,440.0,564.0,786.0,368.0,615.0,632.0,824.0,457.0,328.0,484.0,286.0,550.0,312.0,528.0,478.0,565.0,402.0,440.0,451.0,632.0,437.0,665.0,461.0,800.0,240.0,796.0,900.0,912.0,286.0,484.0,484.0,624.0,514.0,542.0,452.0,336.0,436.0,440.0,540.0,586.0,478.0,484.0,836.0,582.0,480.0,533.0,380.0,442.0,576.0,286.0,441.0,440.0,826.0,240.0,566.0,299.0,420.0,299.0,528.0,308.0,527.0,461.0,409.0,564.0,286.0,1043.0,550.0,308.0,440.0,461.0,478.0,254.0,712.0,719.0,463.0,862.0,431.0,483.0,240.0,928.0,450.0,286.0,782.0,392.0,660.0,630.0,466.0,460.0,288.0,714.0,484.0,403.0,234.0,306.0,528.0,470.0,492.0,528.0,502.0,626.0,830.0,540.0,440.0,450.0,588.0,644.0,776.0,472.0,807.0,358.0,433.0,541.0,264.0,693.0,482.0,813.0,392.0,757.0,493.0,442.0,402.0,299.0,400.0,573.0,459.0,280.0,546.0,451.0,495.0,701.0,544.0,500.0,462.0,234.0,364.0,300.0,539.0,552.0,288.0,322.0,315.0,388.0,264.0,1052.0,540.0,531.0,472.0,543.0,954.0,528.0,850.0,615.0,888.0,276.0,522.0,478.0,288.0,518.0,691.0,400.0,460.0,338.0,304.0,511.0,746.0,315.0,586.0,462.0,288.0,497.0,480.0,577.0,544.0,484.0,528.0,390.0,499.0,484.0,432.0,528.0,288.0,525.0,1418.0,305.0,490.0,213.0,844.0,834.0,840.0,474.0,528.0,496.0,567.0,508.0,750.0,576.0,860.0,466.0,748.0,248.0,442.0,564.0,895.0,264.0,462.0,825.0,440.0,630.0,288.0,647.0,440.0,508.0,712.0,514.0,490.0,666.0,839.0,487.0,264.0,500.0,770.0,430.0,368.0,663.0,588.0,336.0,420.0,502.0,804.0,936.0,722.0,550.0,576.0,564.0,758.0,541.0,288.0,648.0,240.0,398.0,662.0,754.0,482.0,542.0,622.0,271.0,620.0,660.0,1069.0,540.0,776.0,440.0,420.0,432.0,525.0,288.0,240.0,467.0,440.0,451.0,484.0,462.0,774.0,923.0,550.0,420.0,812.0,626.0,312.0,556.0,840.0,400.0,460.0,500.0,252.0,240.0,276.0,730.0,312.0,482.0,470.0,506.0,440.0,420.0,393.0,506.0,525.0,511.0,440.0,308.0,751.0,868.0,730.0,678.0,958.0,756.0,484.0,430.0,437.0,962.0,880.0,676.0,528.0,484.0,461.0,762.0,713.0,506.0,588.0,496.0,852.0,592.0,596.0,535.0,660.0,678.0,441.0,490.0,504.0,517.0,480.0,470.0,315.0,576.0,620.0,308.0,312.0,440.0,263.0,305.0,264.0,440.0,365.0,591.0,480.0,690.0,522.0,480.0,467.0,366.0,572.0,528.0,615.0,580.0,513.0,308.0,850.0,621.0,420.0,336.0,312.0,598.0,531.0,525.0,741.0,473.0,660.0,520.0,528.0,624.0,686.0,253.0,286.0,495.0,616.0,275.0,482.0,616.0,502.0,528.0,470.0,564.0,495.0,528.0,440.0,409.0,430.0,567.0,529.0,484.0,479.0,581.0,588.0,565.0,478.0,528.0,506.0,477.0,336.0,440.0,440.0,440.0,345.0,656.0,864.0,896.0,762.0,834.0,932.0,927.0,700.0,850.0,583.0,886.0,871.0,484.0,624.0,484.0,949.0,685.0,649.0,539.0,701.0,478.0,390.0,392.0,397.0,434.0,400.0,393.0,394.0,815.0,647.0,623.0,972.0,726.0,844.0,492.0,795.0,529.0,625.0,984.0,692.0,782.0,517.0,711.0,588.0,628.0,845.0,788.0,559.0,528.0,542.0,495.0,465.0,612.0,440.0,288.0,300.0,252.0,864.0,524.0,561.0,641.0,642.0,540.0,527.0,784.0,515.0,502.0,336.0,520.0,312.0,440.0,498.0,495.0,768.0,610.0,549.0,330.0,550.0,530.0,542.0,286.0,441.0,297.0,304.0,350.0,294.0,297.0,230.0,616.0,410.0,246.0,366.0,907.0,364.0,480.0,294.0,288.0,483.0,564.0,264.0,280.0,320.0,316.0,379.0,668.0,384.0,480.0,336.0,498.0,340.0,266.0,462.0,576.0,473.0,576.0,400.0,400.0,1138.0,846.0,904.0,524.0,662.0,810.0,844.0,440.0,525.0,440.0,539.0,492.0,577.0,608.0,343.0,444.0,1231.0,550.0,608.0,521.0,523.0,511.0,810.0,195.0,313.0,307.0,390.0,463.0,295.0,462.0,462.0,551.0,482.0,351.0,541.0,780.0,885.0,578.0,486.0,920.0,384.0,504.0,429.0,898.0,470.0,472.0,386.0,404.0,528.0,506.0,460.0,416.0,462.0,670.0,495.0,557.0,738.0,528.0,598.0,550.0,551.0,461.0,489.0,1314.0,473.0,787.0,288.0,460.0,440.0,905.0,650.0,706.0,789.0,732.0,746.0,870.0,484.0,944.0,550.0,550.0,644.0,668.0,428.0,393.0,484.0,431.0,403.0,516.0,938.0,576.0,751.0,783.0,642.0,880.0,480.0,588.0,660.0,462.0,542.0,478.0,483.0,525.0,474.0,483.0,627.0,506.0,384.0,276.0,484.0,473.0,636.0,495.0,495.0,545.0,588.0,484.0,546.0,846.0,477.0,864.0,550.0,469.0,516.0,512.0,578.0,470.0,464.0,267.0,451.0,264.0,450.0,264.0,312.0,480.0,292.0,480.0,441.0,384.0,240.0,540.0,301.0,372.0,495.0,311.0,299.0,240.0,350.0,264.0,330.0,252.0,164.0,484.0,294.0,270.0,506.0,300.0,621.0,478.0,249.0,322.0,534.0,453.0,472.0,864.0,1348.0,874.0,811.0,438.0,558.0,600.0,532.0,626.0,528.0,440.0,570.0,715.0,560.0,420.0,721.0,470.0,814.0,610.0,264.0,542.0,440.0,624.0,286.0,312.0,599.0,344.0,506.0,484.0,288.0,356.0,487.0,525.0,482.0,786.0,816.0,484.0,432.0,512.0,788.0,612.0,666.0,438.0,578.0,467.0,435.0,520.0,892.0,784.0,392.0,499.0,336.0,257.0,264.0,264.0,484.0,525.0,451.0,420.0,482.0,420.0,392.0,480.0,480.0,484.0,1110.0,556.0,724.0,724.0,480.0,484.0,663.0,481.0,495.0,478.0,944.0,585.0,488.0,368.0,511.0,522.0,319.0,730.0,856.0,938.0,1040.0,878.0,932.0,1174.0,843.0,818.0,774.0,878.0,554.0,631.0,631.0,460.0,627.0,564.0,550.0,478.0,572.0,400.0,440.0,388.0,440.0,400.0,462.0,630.0,388.0,437.0,534.0,442.0,460.0,925.0,806.0,758.0,517.0,933.0,605.0,852.0,484.0,1092.0,480.0,484.0,672.0,574.0,598.0,575.0,590.0,561.0,880.0,594.0,658.0,566.0,492.0,283.0,564.0,431.0,542.0,540.0,484.0,476.0,466.0,528.0,1105.0,478.0,546.0,676.0,412.0,570.0,480.0,528.0,515.0,472.0,473.0,484.0,311.0,308.0,440.0,440.0,440.0,539.0,286.0,510.0,512.0,288.0,525.0,315.0,336.0,464.0,308.0,310.0,336.0,293.0,390.0,280.0,371.0,240.0,288.0,357.0,286.0,338.0,324.0,351.0,300.0,288.0,576.0,331.0,384.0,217.0,456.0,658.0,498.0,264.0,264.0,323.0,638.0,224.0,494.0,303.0,552.0,336.0,527.0,332.0,399.0,264.0,253.0,515.0,499.0,870.0,894.0,870.0,796.0,674.0,524.0,578.0,619.0,529.0,497.0,242.0,597.0,534.0,517.0,486.0,440.0,308.0,440.0,583.0,610.0,542.0,484.0,560.0,608.0,482.0,552.0,578.0,437.0,484.0,400.0,384.0,622.0,579.0,1154.0,400.0,580.0,552.0,628.0,509.0,625.0,691.0,495.0,650.0,576.0,506.0,360.0,528.0,512.0,461.0,433.0,502.0,528.0,471.0,692.0,571.0,932.0,460.0,253.0,286.0,678.0,528.0,672.0,531.0,444.0,502.0,264.0,288.0,452.0,313.0,963.0,550.0,506.0,400.0,423.0,527.0,773.0,618.0,402.0,461.0,736.0,517.0,722.0,582.0,482.0,596.0,485.0,462.0,543.0,440.0,440.0,300.0,319.0,460.0,831.0,880.0,874.0,1085.0,521.0,575.0,925.0,816.0,556.0,899.0,575.0,390.0,440.0,427.0,440.0,437.0,398.0,388.0,440.0,433.0,431.0,617.0,885.0,774.0,725.0,959.0,803.0,704.0,928.0,510.0,584.0,792.0,615.0,612.0,462.0,449.0,688.0,462.0,542.0,484.0,472.0,528.0,310.0,294.0,308.0,288.0,550.0,888.0,588.0,496.0,564.0,501.0,477.0,504.0,530.0,504.0,326.0,264.0,568.0,299.0,430.0,480.0,286.0,240.0,441.0,240.0,280.0,234.0,240.0,441.0,430.0,331.0,488.0,353.0,286.0,280.0,400.0,319.0,300.0,270.0,896.0,1008.0,280.0,294.0,264.0,418.0,484.0,441.0,288.0,336.0,394.0,528.0,336.0,286.0,512.0,580.0,586.0,521.0,575.0,504.0,528.0,569.0,288.0,305.0,506.0,920.0,632.0,495.0,754.0,638.0,576.0,610.0,522.0,462.0,473.0,591.0,515.0,586.0,317.0,591.0,530.0,418.0,646.0,467.0,555.0,610.0,420.0,545.0,578.0,572.0,502.0,528.0,360.0,265.0,288.0,440.0,410.0,365.0,342.0,495.0,525.0,576.0,490.0,528.0,518.0,470.0,714.0,682.0,270.0,784.0,288.0,253.0,336.0,650.0],\"y0\":\" \",\"yaxis\":\"y\",\"type\":\"box\"},{\"alignmentgroup\":\"True\",\"hovertemplate\":\"GarageType=%{x}<br>GarageArea=%{y}<extra></extra>\",\"legendgroup\":\"Detchd\",\"marker\":{\"color\":\"#EF553B\"},\"name\":\"Detchd\",\"notched\":false,\"offsetgroup\":\"Detchd\",\"orientation\":\"v\",\"showlegend\":true,\"x\":[\"Detchd\",\"Detchd\",\"Detchd\",\"Detchd\",\"Detchd\",\"Detchd\",\"Detchd\",\"Detchd\",\"Detchd\",\"Detchd\",\"Detchd\",\"Detchd\",\"Detchd\",\"Detchd\",\"Detchd\",\"Detchd\",\"Detchd\",\"Detchd\",\"Detchd\",\"Detchd\",\"Detchd\",\"Detchd\",\"Detchd\",\"Detchd\",\"Detchd\",\"Detchd\",\"Detchd\",\"Detchd\",\"Detchd\",\"Detchd\",\"Detchd\",\"Detchd\",\"Detchd\",\"Detchd\",\"Detchd\",\"Detchd\",\"Detchd\",\"Detchd\",\"Detchd\",\"Detchd\",\"Detchd\",\"Detchd\",\"Detchd\",\"Detchd\",\"Detchd\",\"Detchd\",\"Detchd\",\"Detchd\",\"Detchd\",\"Detchd\",\"Detchd\",\"Detchd\",\"Detchd\",\"Detchd\",\"Detchd\",\"Detchd\",\"Detchd\",\"Detchd\",\"Detchd\",\"Detchd\",\"Detchd\",\"Detchd\",\"Detchd\",\"Detchd\",\"Detchd\",\"Detchd\",\"Detchd\",\"Detchd\",\"Detchd\",\"Detchd\",\"Detchd\",\"Detchd\",\"Detchd\",\"Detchd\",\"Detchd\",\"Detchd\",\"Detchd\",\"Detchd\",\"Detchd\",\"Detchd\",\"Detchd\",\"Detchd\",\"Detchd\",\"Detchd\",\"Detchd\",\"Detchd\",\"Detchd\",\"Detchd\",\"Detchd\",\"Detchd\",\"Detchd\",\"Detchd\",\"Detchd\",\"Detchd\",\"Detchd\",\"Detchd\",\"Detchd\",\"Detchd\",\"Detchd\",\"Detchd\",\"Detchd\",\"Detchd\",\"Detchd\",\"Detchd\",\"Detchd\",\"Detchd\",\"Detchd\",\"Detchd\",\"Detchd\",\"Detchd\",\"Detchd\",\"Detchd\",\"Detchd\",\"Detchd\",\"Detchd\",\"Detchd\",\"Detchd\",\"Detchd\",\"Detchd\",\"Detchd\",\"Detchd\",\"Detchd\",\"Detchd\",\"Detchd\",\"Detchd\",\"Detchd\",\"Detchd\",\"Detchd\",\"Detchd\",\"Detchd\",\"Detchd\",\"Detchd\",\"Detchd\",\"Detchd\",\"Detchd\",\"Detchd\",\"Detchd\",\"Detchd\",\"Detchd\",\"Detchd\",\"Detchd\",\"Detchd\",\"Detchd\",\"Detchd\",\"Detchd\",\"Detchd\",\"Detchd\",\"Detchd\",\"Detchd\",\"Detchd\",\"Detchd\",\"Detchd\",\"Detchd\",\"Detchd\",\"Detchd\",\"Detchd\",\"Detchd\",\"Detchd\",\"Detchd\",\"Detchd\",\"Detchd\",\"Detchd\",\"Detchd\",\"Detchd\",\"Detchd\",\"Detchd\",\"Detchd\",\"Detchd\",\"Detchd\",\"Detchd\",\"Detchd\",\"Detchd\",\"Detchd\",\"Detchd\",\"Detchd\",\"Detchd\",\"Detchd\",\"Detchd\",\"Detchd\",\"Detchd\",\"Detchd\",\"Detchd\",\"Detchd\",\"Detchd\",\"Detchd\",\"Detchd\",\"Detchd\",\"Detchd\",\"Detchd\",\"Detchd\",\"Detchd\",\"Detchd\",\"Detchd\",\"Detchd\",\"Detchd\",\"Detchd\",\"Detchd\",\"Detchd\",\"Detchd\",\"Detchd\",\"Detchd\",\"Detchd\",\"Detchd\",\"Detchd\",\"Detchd\",\"Detchd\",\"Detchd\",\"Detchd\",\"Detchd\",\"Detchd\",\"Detchd\",\"Detchd\",\"Detchd\",\"Detchd\",\"Detchd\",\"Detchd\",\"Detchd\",\"Detchd\",\"Detchd\",\"Detchd\",\"Detchd\",\"Detchd\",\"Detchd\",\"Detchd\",\"Detchd\",\"Detchd\",\"Detchd\",\"Detchd\",\"Detchd\",\"Detchd\",\"Detchd\",\"Detchd\",\"Detchd\",\"Detchd\",\"Detchd\",\"Detchd\",\"Detchd\",\"Detchd\",\"Detchd\",\"Detchd\",\"Detchd\",\"Detchd\",\"Detchd\",\"Detchd\",\"Detchd\",\"Detchd\",\"Detchd\",\"Detchd\",\"Detchd\",\"Detchd\",\"Detchd\",\"Detchd\",\"Detchd\",\"Detchd\",\"Detchd\",\"Detchd\",\"Detchd\",\"Detchd\",\"Detchd\",\"Detchd\",\"Detchd\",\"Detchd\",\"Detchd\",\"Detchd\",\"Detchd\",\"Detchd\",\"Detchd\",\"Detchd\",\"Detchd\",\"Detchd\",\"Detchd\",\"Detchd\",\"Detchd\",\"Detchd\",\"Detchd\",\"Detchd\",\"Detchd\",\"Detchd\",\"Detchd\",\"Detchd\",\"Detchd\",\"Detchd\",\"Detchd\",\"Detchd\",\"Detchd\",\"Detchd\",\"Detchd\",\"Detchd\",\"Detchd\",\"Detchd\",\"Detchd\",\"Detchd\",\"Detchd\",\"Detchd\",\"Detchd\",\"Detchd\",\"Detchd\",\"Detchd\",\"Detchd\",\"Detchd\",\"Detchd\",\"Detchd\",\"Detchd\",\"Detchd\",\"Detchd\",\"Detchd\",\"Detchd\",\"Detchd\",\"Detchd\",\"Detchd\",\"Detchd\",\"Detchd\",\"Detchd\",\"Detchd\",\"Detchd\",\"Detchd\",\"Detchd\",\"Detchd\",\"Detchd\",\"Detchd\",\"Detchd\",\"Detchd\",\"Detchd\",\"Detchd\",\"Detchd\",\"Detchd\",\"Detchd\",\"Detchd\",\"Detchd\",\"Detchd\",\"Detchd\",\"Detchd\",\"Detchd\",\"Detchd\",\"Detchd\",\"Detchd\",\"Detchd\",\"Detchd\",\"Detchd\",\"Detchd\",\"Detchd\",\"Detchd\",\"Detchd\",\"Detchd\",\"Detchd\",\"Detchd\",\"Detchd\",\"Detchd\",\"Detchd\",\"Detchd\",\"Detchd\",\"Detchd\",\"Detchd\",\"Detchd\",\"Detchd\",\"Detchd\",\"Detchd\",\"Detchd\",\"Detchd\",\"Detchd\",\"Detchd\",\"Detchd\",\"Detchd\",\"Detchd\",\"Detchd\",\"Detchd\",\"Detchd\",\"Detchd\",\"Detchd\",\"Detchd\",\"Detchd\",\"Detchd\",\"Detchd\",\"Detchd\",\"Detchd\",\"Detchd\",\"Detchd\",\"Detchd\",\"Detchd\",\"Detchd\",\"Detchd\",\"Detchd\",\"Detchd\",\"Detchd\",\"Detchd\",\"Detchd\",\"Detchd\",\"Detchd\",\"Detchd\",\"Detchd\",\"Detchd\",\"Detchd\",\"Detchd\",\"Detchd\",\"Detchd\",\"Detchd\",\"Detchd\",\"Detchd\",\"Detchd\",\"Detchd\",\"Detchd\",\"Detchd\",\"Detchd\",\"Detchd\",\"Detchd\",\"Detchd\",\"Detchd\",\"Detchd\",\"Detchd\",\"Detchd\",\"Detchd\",\"Detchd\",\"Detchd\",\"Detchd\",\"Detchd\",\"Detchd\",\"Detchd\",\"Detchd\",\"Detchd\",\"Detchd\",\"Detchd\",\"Detchd\",\"Detchd\",\"Detchd\",\"Detchd\",\"Detchd\",\"Detchd\",\"Detchd\",\"Detchd\",\"Detchd\",\"Detchd\",\"Detchd\",\"Detchd\",\"Detchd\",\"Detchd\",\"Detchd\",\"Detchd\",\"Detchd\",\"Detchd\",\"Detchd\",\"Detchd\",\"Detchd\",\"Detchd\",\"Detchd\",\"Detchd\",\"Detchd\",\"Detchd\",\"Detchd\",\"Detchd\",\"Detchd\",\"Detchd\",\"Detchd\",\"Detchd\",\"Detchd\",\"Detchd\",\"Detchd\",\"Detchd\",\"Detchd\",\"Detchd\",\"Detchd\",\"Detchd\",\"Detchd\",\"Detchd\",\"Detchd\",\"Detchd\",\"Detchd\",\"Detchd\",\"Detchd\",\"Detchd\",\"Detchd\",\"Detchd\",\"Detchd\",\"Detchd\",\"Detchd\",\"Detchd\",\"Detchd\",\"Detchd\",\"Detchd\",\"Detchd\",\"Detchd\",\"Detchd\",\"Detchd\",\"Detchd\",\"Detchd\",\"Detchd\",\"Detchd\",\"Detchd\",\"Detchd\",\"Detchd\",\"Detchd\",\"Detchd\",\"Detchd\",\"Detchd\",\"Detchd\",\"Detchd\",\"Detchd\",\"Detchd\",\"Detchd\",\"Detchd\",\"Detchd\",\"Detchd\",\"Detchd\",\"Detchd\",\"Detchd\",\"Detchd\",\"Detchd\",\"Detchd\",\"Detchd\",\"Detchd\",\"Detchd\",\"Detchd\",\"Detchd\",\"Detchd\",\"Detchd\",\"Detchd\",\"Detchd\",\"Detchd\",\"Detchd\",\"Detchd\",\"Detchd\",\"Detchd\",\"Detchd\",\"Detchd\",\"Detchd\",\"Detchd\",\"Detchd\",\"Detchd\",\"Detchd\",\"Detchd\",\"Detchd\",\"Detchd\",\"Detchd\",\"Detchd\",\"Detchd\",\"Detchd\",\"Detchd\",\"Detchd\",\"Detchd\",\"Detchd\",\"Detchd\",\"Detchd\",\"Detchd\",\"Detchd\",\"Detchd\",\"Detchd\",\"Detchd\",\"Detchd\",\"Detchd\",\"Detchd\",\"Detchd\",\"Detchd\",\"Detchd\",\"Detchd\",\"Detchd\",\"Detchd\",\"Detchd\",\"Detchd\",\"Detchd\",\"Detchd\",\"Detchd\",\"Detchd\",\"Detchd\",\"Detchd\",\"Detchd\",\"Detchd\",\"Detchd\",\"Detchd\",\"Detchd\",\"Detchd\",\"Detchd\",\"Detchd\",\"Detchd\",\"Detchd\",\"Detchd\",\"Detchd\",\"Detchd\",\"Detchd\",\"Detchd\",\"Detchd\",\"Detchd\",\"Detchd\",\"Detchd\",\"Detchd\",\"Detchd\",\"Detchd\",\"Detchd\",\"Detchd\",\"Detchd\",\"Detchd\",\"Detchd\",\"Detchd\",\"Detchd\",\"Detchd\",\"Detchd\",\"Detchd\",\"Detchd\",\"Detchd\",\"Detchd\",\"Detchd\",\"Detchd\",\"Detchd\",\"Detchd\",\"Detchd\",\"Detchd\",\"Detchd\",\"Detchd\",\"Detchd\",\"Detchd\",\"Detchd\",\"Detchd\",\"Detchd\",\"Detchd\",\"Detchd\",\"Detchd\",\"Detchd\",\"Detchd\",\"Detchd\",\"Detchd\",\"Detchd\",\"Detchd\",\"Detchd\",\"Detchd\",\"Detchd\",\"Detchd\",\"Detchd\",\"Detchd\",\"Detchd\",\"Detchd\",\"Detchd\",\"Detchd\",\"Detchd\",\"Detchd\",\"Detchd\",\"Detchd\",\"Detchd\",\"Detchd\",\"Detchd\",\"Detchd\",\"Detchd\",\"Detchd\",\"Detchd\",\"Detchd\",\"Detchd\",\"Detchd\",\"Detchd\",\"Detchd\",\"Detchd\",\"Detchd\",\"Detchd\",\"Detchd\",\"Detchd\",\"Detchd\",\"Detchd\",\"Detchd\",\"Detchd\",\"Detchd\",\"Detchd\",\"Detchd\",\"Detchd\",\"Detchd\",\"Detchd\",\"Detchd\",\"Detchd\",\"Detchd\",\"Detchd\",\"Detchd\",\"Detchd\",\"Detchd\",\"Detchd\",\"Detchd\",\"Detchd\",\"Detchd\",\"Detchd\",\"Detchd\",\"Detchd\",\"Detchd\",\"Detchd\",\"Detchd\",\"Detchd\",\"Detchd\",\"Detchd\",\"Detchd\",\"Detchd\",\"Detchd\",\"Detchd\",\"Detchd\",\"Detchd\",\"Detchd\",\"Detchd\",\"Detchd\",\"Detchd\",\"Detchd\",\"Detchd\",\"Detchd\",\"Detchd\",\"Detchd\",\"Detchd\",\"Detchd\",\"Detchd\",\"Detchd\",\"Detchd\",\"Detchd\",\"Detchd\",\"Detchd\",\"Detchd\",\"Detchd\",\"Detchd\",\"Detchd\",\"Detchd\",\"Detchd\",\"Detchd\",\"Detchd\",\"Detchd\",\"Detchd\",\"Detchd\",\"Detchd\",\"Detchd\",\"Detchd\",\"Detchd\",\"Detchd\",\"Detchd\",\"Detchd\",\"Detchd\",\"Detchd\",\"Detchd\",\"Detchd\",\"Detchd\",\"Detchd\",\"Detchd\",\"Detchd\",\"Detchd\",\"Detchd\",\"Detchd\",\"Detchd\",\"Detchd\",\"Detchd\",\"Detchd\",\"Detchd\",\"Detchd\",\"Detchd\",\"Detchd\",\"Detchd\",\"Detchd\",\"Detchd\",\"Detchd\",\"Detchd\",\"Detchd\",\"Detchd\",\"Detchd\",\"Detchd\",\"Detchd\",\"Detchd\",\"Detchd\",\"Detchd\",\"Detchd\",\"Detchd\",\"Detchd\",\"Detchd\",\"Detchd\",\"Detchd\",\"Detchd\",\"Detchd\",\"Detchd\",\"Detchd\",\"Detchd\",\"Detchd\",\"Detchd\",\"Detchd\",\"Detchd\",\"Detchd\",\"Detchd\",\"Detchd\",\"Detchd\",\"Detchd\",\"Detchd\",\"Detchd\",\"Detchd\",\"Detchd\",\"Detchd\"],\"x0\":\" \",\"xaxis\":\"x\",\"y\":[642.0,468.0,384.0,352.0,576.0,576.0,576.0,240.0,250.0,246.0,308.0,528.0,572.0,352.0,576.0,288.0,480.0,360.0,379.0,283.0,240.0,440.0,461.0,528.0,420.0,432.0,506.0,240.0,273.0,250.0,180.0,440.0,264.0,624.0,720.0,504.0,380.0,180.0,240.0,312.0,625.0,216.0,660.0,480.0,440.0,216.0,484.0,840.0,180.0,528.0,440.0,380.0,352.0,795.0,473.0,240.0,210.0,576.0,280.0,280.0,336.0,264.0,220.0,440.0,308.0,484.0,504.0,240.0,924.0,672.0,400.0,528.0,280.0,384.0,588.0,576.0,539.0,240.0,410.0,546.0,360.0,441.0,189.0,352.0,400.0,312.0,200.0,484.0,240.0,264.0,468.0,576.0,680.0,576.0,308.0,360.0,352.0,384.0,240.0,600.0,338.0,240.0,240.0,360.0,864.0,240.0,240.0,352.0,264.0,440.0,440.0,180.0,352.0,528.0,360.0,198.0,308.0,270.0,560.0,513.0,228.0,352.0,576.0,360.0,240.0,624.0,672.0,264.0,308.0,240.0,264.0,461.0,400.0,360.0,624.0,200.0,282.0,420.0,502.0,392.0,576.0,440.0,624.0,720.0,520.0,280.0,528.0,396.0,216.0,600.0,576.0,336.0,216.0,540.0,880.0,240.0,275.0,528.0,308.0,816.0,280.0,216.0,544.0,480.0,576.0,528.0,484.0,440.0,240.0,576.0,576.0,420.0,296.0,216.0,264.0,480.0,588.0,576.0,252.0,300.0,240.0,572.0,281.0,480.0,326.0,576.0,205.0,308.0,336.0,672.0,384.0,576.0,704.0,463.0,548.0,660.0,888.0,539.0,320.0,400.0,360.0,288.0,864.0,240.0,440.0,440.0,440.0,300.0,440.0,576.0,396.0,672.0,630.0,416.0,281.0,240.0,440.0,360.0,280.0,576.0,240.0,480.0,480.0,812.0,264.0,240.0,400.0,686.0,720.0,360.0,240.0,260.0,576.0,216.0,902.0,308.0,200.0,576.0,440.0,576.0,327.0,528.0,684.0,756.0,480.0,252.0,450.0,528.0,308.0,429.0,528.0,456.0,720.0,300.0,396.0,576.0,484.0,440.0,256.0,532.0,490.0,400.0,480.0,240.0,305.0,210.0,528.0,216.0,528.0,180.0,280.0,240.0,160.0,461.0,264.0,290.0,672.0,308.0,432.0,1248.0,560.0,440.0,576.0,280.0,380.0,400.0,462.0,576.0,884.0,240.0,246.0,280.0,440.0,308.0,326.0,308.0,672.0,672.0,576.0,205.0,180.0,495.0,840.0,280.0,225.0,288.0,324.0,432.0,924.0,625.0,360.0,210.0,186.0,720.0,492.0,250.0,225.0,216.0,384.0,506.0,384.0,528.0,576.0,180.0,484.0,400.0,396.0,560.0,520.0,506.0,308.0,552.0,400.0,528.0,484.0,336.0,280.0,264.0,572.0,380.0,480.0,280.0,287.0,520.0,576.0,288.0,297.0,506.0,480.0,576.0,342.0,308.0,968.0,624.0,440.0,480.0,338.0,583.0,160.0,660.0,264.0,200.0,576.0,280.0,240.0,216.0,440.0,792.0,672.0,572.0,180.0,216.0,936.0,396.0,528.0,420.0,370.0,560.0,336.0,484.0,528.0,216.0,528.0,672.0,192.0,240.0,384.0,264.0,320.0,429.0,480.0,480.0,480.0,440.0,400.0,318.0,676.0,280.0,484.0,551.0,240.0,240.0,315.0,780.0,288.0,624.0,624.0,363.0,315.0,200.0,240.0,576.0,240.0,312.0,624.0,480.0,288.0,572.0,180.0,180.0,231.0,450.0,416.0,280.0,440.0,209.0,504.0,484.0,484.0,240.0,319.0,480.0,352.0,260.0,399.0,484.0,200.0,625.0,330.0,352.0,576.0,576.0,576.0,264.0,288.0,440.0,440.0,576.0,484.0,576.0,576.0,400.0,732.0,440.0,506.0,396.0,308.0,576.0,520.0,495.0,240.0,720.0,281.0,264.0,528.0,624.0,576.0,320.0,480.0,308.0,900.0,240.0,384.0,576.0,162.0,324.0,472.0,400.0,308.0,288.0,308.0,287.0,720.0,357.0,207.0,640.0,336.0,264.0,250.0,1184.0,576.0,216.0,384.0,308.0,252.0,226.0,240.0,252.0,720.0,672.0,320.0,256.0,180.0,440.0,215.0,440.0,400.0,452.0,576.0,200.0,280.0,672.0,336.0,698.0,440.0,484.0,480.0,576.0,264.0,352.0,264.0,420.0,308.0,490.0,480.0,540.0,440.0,462.0,480.0,480.0,484.0,576.0,576.0,636.0,400.0,484.0,390.0,288.0,308.0,1488.0,576.0,576.0,280.0,480.0,308.0,400.0,256.0,308.0,440.0,225.0,828.0,200.0,869.0,297.0,420.0,288.0,308.0,400.0,342.0,308.0,308.0,288.0,240.0,240.0,200.0,240.0,370.0,672.0,240.0,160.0,280.0,336.0,400.0,576.0,672.0,360.0,228.0,440.0,308.0,400.0,400.0,320.0,384.0,576.0,240.0,440.0,280.0,528.0,576.0,480.0,205.0,480.0,369.0,400.0,180.0,240.0,225.0,786.0,462.0,195.0,240.0,360.0,185.0,195.0,216.0,288.0,576.0,264.0,264.0,360.0,728.0,576.0,308.0,686.0,440.0,440.0,625.0,552.0,396.0,784.0,312.0,308.0,792.0,308.0,336.0,484.0,410.0,252.0,352.0,420.0,580.0,294.0,576.0,576.0,184.0,180.0,379.0,576.0,252.0,342.0,816.0,374.0,480.0,468.0,336.0,308.0,308.0,224.0,240.0,528.0,280.0,230.0,379.0,408.0,576.0,576.0,240.0,216.0,299.0,720.0,436.0,264.0,240.0,308.0,572.0,440.0,528.0,576.0,528.0,315.0,576.0,649.0,308.0,256.0,280.0,747.0,384.0,370.0,576.0,748.0,576.0,728.0,520.0,576.0,528.0,392.0,216.0,355.0,528.0,352.0,240.0,216.0,228.0,225.0,264.0,231.0,528.0,462.0,720.0,null,100.0,256.0,720.0,216.0,576.0,440.0,264.0,264.0,264.0,624.0,576.0,484.0,480.0,440.0,273.0,506.0,684.0,649.0,371.0,660.0,528.0,648.0,597.0,400.0,528.0,624.0,240.0,162.0,400.0,576.0,200.0,576.0,280.0,216.0,528.0,216.0,576.0,450.0,200.0,378.0,250.0,432.0,624.0,240.0,258.0,180.0,210.0,576.0,370.0,390.0,308.0,288.0,576.0,260.0,180.0,246.0,616.0,322.0,576.0,836.0,672.0,297.0,380.0,528.0,216.0,275.0,240.0,312.0,216.0,288.0,240.0,240.0,318.0,451.0,215.0,506.0,272.0,384.0,576.0],\"y0\":\" \",\"yaxis\":\"y\",\"type\":\"box\"},{\"alignmentgroup\":\"True\",\"hovertemplate\":\"GarageType=%{x}<br>GarageArea=%{y}<extra></extra>\",\"legendgroup\":\"BuiltIn\",\"marker\":{\"color\":\"#00cc96\"},\"name\":\"BuiltIn\",\"notched\":false,\"offsetgroup\":\"BuiltIn\",\"orientation\":\"v\",\"showlegend\":true,\"x\":[\"BuiltIn\",\"BuiltIn\",\"BuiltIn\",\"BuiltIn\",\"BuiltIn\",\"BuiltIn\",\"BuiltIn\",\"BuiltIn\",\"BuiltIn\",\"BuiltIn\",\"BuiltIn\",\"BuiltIn\",\"BuiltIn\",\"BuiltIn\",\"BuiltIn\",\"BuiltIn\",\"BuiltIn\",\"BuiltIn\",\"BuiltIn\",\"BuiltIn\",\"BuiltIn\",\"BuiltIn\",\"BuiltIn\",\"BuiltIn\",\"BuiltIn\",\"BuiltIn\",\"BuiltIn\",\"BuiltIn\",\"BuiltIn\",\"BuiltIn\",\"BuiltIn\",\"BuiltIn\",\"BuiltIn\",\"BuiltIn\",\"BuiltIn\",\"BuiltIn\",\"BuiltIn\",\"BuiltIn\",\"BuiltIn\",\"BuiltIn\",\"BuiltIn\",\"BuiltIn\",\"BuiltIn\",\"BuiltIn\",\"BuiltIn\",\"BuiltIn\",\"BuiltIn\",\"BuiltIn\",\"BuiltIn\",\"BuiltIn\",\"BuiltIn\",\"BuiltIn\",\"BuiltIn\",\"BuiltIn\",\"BuiltIn\",\"BuiltIn\",\"BuiltIn\",\"BuiltIn\",\"BuiltIn\",\"BuiltIn\",\"BuiltIn\",\"BuiltIn\",\"BuiltIn\",\"BuiltIn\",\"BuiltIn\",\"BuiltIn\",\"BuiltIn\",\"BuiltIn\",\"BuiltIn\",\"BuiltIn\",\"BuiltIn\",\"BuiltIn\",\"BuiltIn\",\"BuiltIn\",\"BuiltIn\",\"BuiltIn\",\"BuiltIn\",\"BuiltIn\",\"BuiltIn\",\"BuiltIn\",\"BuiltIn\",\"BuiltIn\",\"BuiltIn\",\"BuiltIn\",\"BuiltIn\",\"BuiltIn\",\"BuiltIn\",\"BuiltIn\",\"BuiltIn\",\"BuiltIn\",\"BuiltIn\",\"BuiltIn\",\"BuiltIn\",\"BuiltIn\",\"BuiltIn\",\"BuiltIn\",\"BuiltIn\",\"BuiltIn\",\"BuiltIn\",\"BuiltIn\",\"BuiltIn\",\"BuiltIn\",\"BuiltIn\",\"BuiltIn\",\"BuiltIn\",\"BuiltIn\",\"BuiltIn\",\"BuiltIn\",\"BuiltIn\",\"BuiltIn\",\"BuiltIn\",\"BuiltIn\",\"BuiltIn\",\"BuiltIn\",\"BuiltIn\",\"BuiltIn\",\"BuiltIn\",\"BuiltIn\",\"BuiltIn\",\"BuiltIn\",\"BuiltIn\",\"BuiltIn\",\"BuiltIn\",\"BuiltIn\",\"BuiltIn\",\"BuiltIn\",\"BuiltIn\",\"BuiltIn\",\"BuiltIn\",\"BuiltIn\",\"BuiltIn\",\"BuiltIn\",\"BuiltIn\",\"BuiltIn\",\"BuiltIn\",\"BuiltIn\",\"BuiltIn\",\"BuiltIn\",\"BuiltIn\",\"BuiltIn\",\"BuiltIn\",\"BuiltIn\",\"BuiltIn\",\"BuiltIn\",\"BuiltIn\",\"BuiltIn\",\"BuiltIn\",\"BuiltIn\",\"BuiltIn\",\"BuiltIn\",\"BuiltIn\",\"BuiltIn\",\"BuiltIn\",\"BuiltIn\",\"BuiltIn\",\"BuiltIn\",\"BuiltIn\",\"BuiltIn\",\"BuiltIn\",\"BuiltIn\",\"BuiltIn\",\"BuiltIn\",\"BuiltIn\",\"BuiltIn\",\"BuiltIn\",\"BuiltIn\",\"BuiltIn\",\"BuiltIn\",\"BuiltIn\",\"BuiltIn\",\"BuiltIn\",\"BuiltIn\",\"BuiltIn\",\"BuiltIn\",\"BuiltIn\",\"BuiltIn\",\"BuiltIn\",\"BuiltIn\",\"BuiltIn\",\"BuiltIn\",\"BuiltIn\",\"BuiltIn\",\"BuiltIn\",\"BuiltIn\",\"BuiltIn\",\"BuiltIn\"],\"x0\":\" \",\"xaxis\":\"x\",\"y\":[736.0,853.0,691.0,641.0,852.0,297.0,400.0,400.0,420.0,400.0,792.0,390.0,434.0,680.0,726.0,390.0,440.0,429.0,868.0,683.0,872.0,564.0,474.0,288.0,672.0,434.0,846.0,560.0,420.0,373.0,552.0,694.0,336.0,884.0,648.0,615.0,871.0,656.0,612.0,400.0,288.0,842.0,736.0,531.0,256.0,666.0,831.0,554.0,841.0,618.0,820.0,1020.0,433.0,550.0,389.0,656.0,642.0,390.0,510.0,474.0,905.0,716.0,467.0,539.0,422.0,527.0,300.0,434.0,1052.0,660.0,668.0,600.0,474.0,434.0,477.0,397.0,502.0,1014.0,753.0,779.0,492.0,621.0,432.0,377.0,400.0,642.0,208.0,372.0,400.0,433.0,473.0,400.0,632.0,390.0,396.0,441.0,754.0,640.0,730.0,400.0,436.0,644.0,400.0,400.0,658.0,410.0,810.0,478.0,704.0,368.0,216.0,820.0,820.0,820.0,570.0,440.0,501.0,642.0,440.0,420.0,683.0,850.0,1150.0,1003.0,656.0,756.0,795.0,474.0,400.0,434.0,400.0,450.0,687.0,851.0,355.0,614.0,484.0,725.0,596.0,504.0,400.0,297.0,297.0,390.0,398.0,729.0,670.0,814.0,786.0,916.0,876.0,454.0,350.0,400.0,400.0,434.0,435.0,600.0,859.0,744.0,1200.0,276.0,489.0,486.0,452.0,297.0,443.0,670.0,758.0,675.0,660.0,541.0,670.0,672.0,784.0,746.0,632.0,768.0,760.0,434.0,215.0,848.0,529.0,616.0,502.0,336.0],\"y0\":\" \",\"yaxis\":\"y\",\"type\":\"box\"},{\"alignmentgroup\":\"True\",\"hovertemplate\":\"GarageType=%{x}<br>GarageArea=%{y}<extra></extra>\",\"legendgroup\":\"CarPort\",\"marker\":{\"color\":\"#ab63fa\"},\"name\":\"CarPort\",\"notched\":false,\"offsetgroup\":\"CarPort\",\"orientation\":\"v\",\"showlegend\":true,\"x\":[\"CarPort\",\"CarPort\",\"CarPort\",\"CarPort\",\"CarPort\",\"CarPort\",\"CarPort\",\"CarPort\",\"CarPort\",\"CarPort\",\"CarPort\",\"CarPort\",\"CarPort\",\"CarPort\",\"CarPort\"],\"x0\":\" \",\"xaxis\":\"x\",\"y\":[516.0,516.0,294.0,288.0,570.0,596.0,400.0,420.0,462.0,220.0,401.0,400.0,530.0,286.0,286.0],\"y0\":\" \",\"yaxis\":\"y\",\"type\":\"box\"},{\"alignmentgroup\":\"True\",\"hovertemplate\":\"GarageType=%{x}<br>GarageArea=%{y}<extra></extra>\",\"legendgroup\":\"None\",\"marker\":{\"color\":\"#FFA15A\"},\"name\":\"None\",\"notched\":false,\"offsetgroup\":\"None\",\"orientation\":\"v\",\"showlegend\":true,\"x\":[\"None\",\"None\",\"None\",\"None\",\"None\",\"None\",\"None\",\"None\",\"None\",\"None\",\"None\",\"None\",\"None\",\"None\",\"None\",\"None\",\"None\",\"None\",\"None\",\"None\",\"None\",\"None\",\"None\",\"None\",\"None\",\"None\",\"None\",\"None\",\"None\",\"None\",\"None\",\"None\",\"None\",\"None\",\"None\",\"None\",\"None\",\"None\",\"None\",\"None\",\"None\",\"None\",\"None\",\"None\",\"None\",\"None\",\"None\",\"None\",\"None\",\"None\",\"None\",\"None\",\"None\",\"None\",\"None\",\"None\",\"None\",\"None\",\"None\",\"None\",\"None\",\"None\",\"None\",\"None\",\"None\",\"None\",\"None\",\"None\",\"None\",\"None\",\"None\",\"None\",\"None\",\"None\",\"None\",\"None\",\"None\",\"None\",\"None\",\"None\",\"None\",\"None\",\"None\",\"None\",\"None\",\"None\",\"None\",\"None\",\"None\",\"None\",\"None\",\"None\",\"None\",\"None\",\"None\",\"None\",\"None\",\"None\",\"None\",\"None\",\"None\",\"None\",\"None\",\"None\",\"None\",\"None\",\"None\",\"None\",\"None\",\"None\",\"None\",\"None\",\"None\",\"None\",\"None\",\"None\",\"None\",\"None\",\"None\",\"None\",\"None\",\"None\",\"None\",\"None\",\"None\",\"None\",\"None\",\"None\",\"None\",\"None\",\"None\",\"None\",\"None\",\"None\",\"None\",\"None\",\"None\",\"None\",\"None\",\"None\",\"None\",\"None\",\"None\",\"None\",\"None\",\"None\",\"None\",\"None\",\"None\",\"None\",\"None\",\"None\",\"None\",\"None\",\"None\",\"None\",\"None\"],\"x0\":\" \",\"xaxis\":\"x\",\"y\":[0.0,0.0,0.0,0.0,0.0,0.0,0.0,0.0,0.0,0.0,0.0,0.0,0.0,0.0,0.0,0.0,0.0,0.0,0.0,0.0,0.0,0.0,0.0,0.0,0.0,0.0,0.0,0.0,0.0,0.0,0.0,0.0,0.0,0.0,0.0,0.0,0.0,0.0,0.0,0.0,0.0,0.0,0.0,0.0,0.0,0.0,0.0,0.0,0.0,0.0,0.0,0.0,0.0,0.0,0.0,0.0,0.0,0.0,0.0,0.0,0.0,0.0,0.0,0.0,0.0,0.0,0.0,0.0,0.0,0.0,0.0,0.0,0.0,0.0,0.0,0.0,0.0,0.0,0.0,0.0,0.0,0.0,0.0,0.0,0.0,0.0,0.0,0.0,0.0,0.0,0.0,0.0,0.0,0.0,0.0,0.0,0.0,0.0,0.0,0.0,0.0,0.0,0.0,0.0,0.0,0.0,0.0,0.0,0.0,0.0,0.0,0.0,0.0,0.0,0.0,0.0,0.0,0.0,0.0,0.0,0.0,0.0,0.0,0.0,0.0,0.0,0.0,0.0,0.0,0.0,0.0,0.0,0.0,0.0,0.0,0.0,0.0,0.0,0.0,0.0,0.0,0.0,0.0,0.0,0.0,0.0,0.0,0.0,0.0,0.0,0.0,0.0,0.0,0.0,0.0,0.0,0.0],\"y0\":\" \",\"yaxis\":\"y\",\"type\":\"box\"},{\"alignmentgroup\":\"True\",\"hovertemplate\":\"GarageType=%{x}<br>GarageArea=%{y}<extra></extra>\",\"legendgroup\":\"Basment\",\"marker\":{\"color\":\"#19d3f3\"},\"name\":\"Basment\",\"notched\":false,\"offsetgroup\":\"Basment\",\"orientation\":\"v\",\"showlegend\":true,\"x\":[\"Basment\",\"Basment\",\"Basment\",\"Basment\",\"Basment\",\"Basment\",\"Basment\",\"Basment\",\"Basment\",\"Basment\",\"Basment\",\"Basment\",\"Basment\",\"Basment\",\"Basment\",\"Basment\",\"Basment\",\"Basment\",\"Basment\",\"Basment\",\"Basment\",\"Basment\",\"Basment\",\"Basment\",\"Basment\",\"Basment\",\"Basment\",\"Basment\",\"Basment\",\"Basment\",\"Basment\",\"Basment\",\"Basment\",\"Basment\",\"Basment\",\"Basment\"],\"x0\":\" \",\"xaxis\":\"x\",\"y\":[366.0,450.0,296.0,525.0,380.0,364.0,504.0,611.0,525.0,672.0,240.0,364.0,288.0,540.0,492.0,404.0,312.0,525.0,525.0,240.0,480.0,384.0,504.0,525.0,250.0,576.0,231.0,504.0,626.0,312.0,270.0,432.0,525.0,300.0,450.0,525.0],\"y0\":\" \",\"yaxis\":\"y\",\"type\":\"box\"},{\"alignmentgroup\":\"True\",\"hovertemplate\":\"GarageType=%{x}<br>GarageArea=%{y}<extra></extra>\",\"legendgroup\":\"2Types\",\"marker\":{\"color\":\"#FF6692\"},\"name\":\"2Types\",\"notched\":false,\"offsetgroup\":\"2Types\",\"orientation\":\"v\",\"showlegend\":true,\"x\":[\"2Types\",\"2Types\",\"2Types\",\"2Types\",\"2Types\",\"2Types\",\"2Types\",\"2Types\",\"2Types\",\"2Types\",\"2Types\",\"2Types\",\"2Types\",\"2Types\",\"2Types\",\"2Types\",\"2Types\",\"2Types\",\"2Types\",\"2Types\",\"2Types\",\"2Types\",\"2Types\"],\"x0\":\" \",\"xaxis\":\"x\",\"y\":[750.0,766.0,779.0,871.0,995.0,1356.0,1017.0,776.0,544.0,393.0,627.0,912.0,850.0,828.0,692.0,460.0,1041.0,791.0,795.0,609.0,579.0,616.0,928.0],\"y0\":\" \",\"yaxis\":\"y\",\"type\":\"box\"}],                        {\"template\":{\"data\":{\"bar\":[{\"error_x\":{\"color\":\"#2a3f5f\"},\"error_y\":{\"color\":\"#2a3f5f\"},\"marker\":{\"line\":{\"color\":\"#E5ECF6\",\"width\":0.5},\"pattern\":{\"fillmode\":\"overlay\",\"size\":10,\"solidity\":0.2}},\"type\":\"bar\"}],\"barpolar\":[{\"marker\":{\"line\":{\"color\":\"#E5ECF6\",\"width\":0.5},\"pattern\":{\"fillmode\":\"overlay\",\"size\":10,\"solidity\":0.2}},\"type\":\"barpolar\"}],\"carpet\":[{\"aaxis\":{\"endlinecolor\":\"#2a3f5f\",\"gridcolor\":\"white\",\"linecolor\":\"white\",\"minorgridcolor\":\"white\",\"startlinecolor\":\"#2a3f5f\"},\"baxis\":{\"endlinecolor\":\"#2a3f5f\",\"gridcolor\":\"white\",\"linecolor\":\"white\",\"minorgridcolor\":\"white\",\"startlinecolor\":\"#2a3f5f\"},\"type\":\"carpet\"}],\"choropleth\":[{\"colorbar\":{\"outlinewidth\":0,\"ticks\":\"\"},\"type\":\"choropleth\"}],\"contour\":[{\"colorbar\":{\"outlinewidth\":0,\"ticks\":\"\"},\"colorscale\":[[0.0,\"#0d0887\"],[0.1111111111111111,\"#46039f\"],[0.2222222222222222,\"#7201a8\"],[0.3333333333333333,\"#9c179e\"],[0.4444444444444444,\"#bd3786\"],[0.5555555555555556,\"#d8576b\"],[0.6666666666666666,\"#ed7953\"],[0.7777777777777778,\"#fb9f3a\"],[0.8888888888888888,\"#fdca26\"],[1.0,\"#f0f921\"]],\"type\":\"contour\"}],\"contourcarpet\":[{\"colorbar\":{\"outlinewidth\":0,\"ticks\":\"\"},\"type\":\"contourcarpet\"}],\"heatmap\":[{\"colorbar\":{\"outlinewidth\":0,\"ticks\":\"\"},\"colorscale\":[[0.0,\"#0d0887\"],[0.1111111111111111,\"#46039f\"],[0.2222222222222222,\"#7201a8\"],[0.3333333333333333,\"#9c179e\"],[0.4444444444444444,\"#bd3786\"],[0.5555555555555556,\"#d8576b\"],[0.6666666666666666,\"#ed7953\"],[0.7777777777777778,\"#fb9f3a\"],[0.8888888888888888,\"#fdca26\"],[1.0,\"#f0f921\"]],\"type\":\"heatmap\"}],\"heatmapgl\":[{\"colorbar\":{\"outlinewidth\":0,\"ticks\":\"\"},\"colorscale\":[[0.0,\"#0d0887\"],[0.1111111111111111,\"#46039f\"],[0.2222222222222222,\"#7201a8\"],[0.3333333333333333,\"#9c179e\"],[0.4444444444444444,\"#bd3786\"],[0.5555555555555556,\"#d8576b\"],[0.6666666666666666,\"#ed7953\"],[0.7777777777777778,\"#fb9f3a\"],[0.8888888888888888,\"#fdca26\"],[1.0,\"#f0f921\"]],\"type\":\"heatmapgl\"}],\"histogram\":[{\"marker\":{\"pattern\":{\"fillmode\":\"overlay\",\"size\":10,\"solidity\":0.2}},\"type\":\"histogram\"}],\"histogram2d\":[{\"colorbar\":{\"outlinewidth\":0,\"ticks\":\"\"},\"colorscale\":[[0.0,\"#0d0887\"],[0.1111111111111111,\"#46039f\"],[0.2222222222222222,\"#7201a8\"],[0.3333333333333333,\"#9c179e\"],[0.4444444444444444,\"#bd3786\"],[0.5555555555555556,\"#d8576b\"],[0.6666666666666666,\"#ed7953\"],[0.7777777777777778,\"#fb9f3a\"],[0.8888888888888888,\"#fdca26\"],[1.0,\"#f0f921\"]],\"type\":\"histogram2d\"}],\"histogram2dcontour\":[{\"colorbar\":{\"outlinewidth\":0,\"ticks\":\"\"},\"colorscale\":[[0.0,\"#0d0887\"],[0.1111111111111111,\"#46039f\"],[0.2222222222222222,\"#7201a8\"],[0.3333333333333333,\"#9c179e\"],[0.4444444444444444,\"#bd3786\"],[0.5555555555555556,\"#d8576b\"],[0.6666666666666666,\"#ed7953\"],[0.7777777777777778,\"#fb9f3a\"],[0.8888888888888888,\"#fdca26\"],[1.0,\"#f0f921\"]],\"type\":\"histogram2dcontour\"}],\"mesh3d\":[{\"colorbar\":{\"outlinewidth\":0,\"ticks\":\"\"},\"type\":\"mesh3d\"}],\"parcoords\":[{\"line\":{\"colorbar\":{\"outlinewidth\":0,\"ticks\":\"\"}},\"type\":\"parcoords\"}],\"pie\":[{\"automargin\":true,\"type\":\"pie\"}],\"scatter\":[{\"marker\":{\"colorbar\":{\"outlinewidth\":0,\"ticks\":\"\"}},\"type\":\"scatter\"}],\"scatter3d\":[{\"line\":{\"colorbar\":{\"outlinewidth\":0,\"ticks\":\"\"}},\"marker\":{\"colorbar\":{\"outlinewidth\":0,\"ticks\":\"\"}},\"type\":\"scatter3d\"}],\"scattercarpet\":[{\"marker\":{\"colorbar\":{\"outlinewidth\":0,\"ticks\":\"\"}},\"type\":\"scattercarpet\"}],\"scattergeo\":[{\"marker\":{\"colorbar\":{\"outlinewidth\":0,\"ticks\":\"\"}},\"type\":\"scattergeo\"}],\"scattergl\":[{\"marker\":{\"colorbar\":{\"outlinewidth\":0,\"ticks\":\"\"}},\"type\":\"scattergl\"}],\"scattermapbox\":[{\"marker\":{\"colorbar\":{\"outlinewidth\":0,\"ticks\":\"\"}},\"type\":\"scattermapbox\"}],\"scatterpolar\":[{\"marker\":{\"colorbar\":{\"outlinewidth\":0,\"ticks\":\"\"}},\"type\":\"scatterpolar\"}],\"scatterpolargl\":[{\"marker\":{\"colorbar\":{\"outlinewidth\":0,\"ticks\":\"\"}},\"type\":\"scatterpolargl\"}],\"scatterternary\":[{\"marker\":{\"colorbar\":{\"outlinewidth\":0,\"ticks\":\"\"}},\"type\":\"scatterternary\"}],\"surface\":[{\"colorbar\":{\"outlinewidth\":0,\"ticks\":\"\"},\"colorscale\":[[0.0,\"#0d0887\"],[0.1111111111111111,\"#46039f\"],[0.2222222222222222,\"#7201a8\"],[0.3333333333333333,\"#9c179e\"],[0.4444444444444444,\"#bd3786\"],[0.5555555555555556,\"#d8576b\"],[0.6666666666666666,\"#ed7953\"],[0.7777777777777778,\"#fb9f3a\"],[0.8888888888888888,\"#fdca26\"],[1.0,\"#f0f921\"]],\"type\":\"surface\"}],\"table\":[{\"cells\":{\"fill\":{\"color\":\"#EBF0F8\"},\"line\":{\"color\":\"white\"}},\"header\":{\"fill\":{\"color\":\"#C8D4E3\"},\"line\":{\"color\":\"white\"}},\"type\":\"table\"}]},\"layout\":{\"annotationdefaults\":{\"arrowcolor\":\"#2a3f5f\",\"arrowhead\":0,\"arrowwidth\":1},\"autotypenumbers\":\"strict\",\"coloraxis\":{\"colorbar\":{\"outlinewidth\":0,\"ticks\":\"\"}},\"colorscale\":{\"diverging\":[[0,\"#8e0152\"],[0.1,\"#c51b7d\"],[0.2,\"#de77ae\"],[0.3,\"#f1b6da\"],[0.4,\"#fde0ef\"],[0.5,\"#f7f7f7\"],[0.6,\"#e6f5d0\"],[0.7,\"#b8e186\"],[0.8,\"#7fbc41\"],[0.9,\"#4d9221\"],[1,\"#276419\"]],\"sequential\":[[0.0,\"#0d0887\"],[0.1111111111111111,\"#46039f\"],[0.2222222222222222,\"#7201a8\"],[0.3333333333333333,\"#9c179e\"],[0.4444444444444444,\"#bd3786\"],[0.5555555555555556,\"#d8576b\"],[0.6666666666666666,\"#ed7953\"],[0.7777777777777778,\"#fb9f3a\"],[0.8888888888888888,\"#fdca26\"],[1.0,\"#f0f921\"]],\"sequentialminus\":[[0.0,\"#0d0887\"],[0.1111111111111111,\"#46039f\"],[0.2222222222222222,\"#7201a8\"],[0.3333333333333333,\"#9c179e\"],[0.4444444444444444,\"#bd3786\"],[0.5555555555555556,\"#d8576b\"],[0.6666666666666666,\"#ed7953\"],[0.7777777777777778,\"#fb9f3a\"],[0.8888888888888888,\"#fdca26\"],[1.0,\"#f0f921\"]]},\"colorway\":[\"#636efa\",\"#EF553B\",\"#00cc96\",\"#ab63fa\",\"#FFA15A\",\"#19d3f3\",\"#FF6692\",\"#B6E880\",\"#FF97FF\",\"#FECB52\"],\"font\":{\"color\":\"#2a3f5f\"},\"geo\":{\"bgcolor\":\"white\",\"lakecolor\":\"white\",\"landcolor\":\"#E5ECF6\",\"showlakes\":true,\"showland\":true,\"subunitcolor\":\"white\"},\"hoverlabel\":{\"align\":\"left\"},\"hovermode\":\"closest\",\"mapbox\":{\"style\":\"light\"},\"paper_bgcolor\":\"white\",\"plot_bgcolor\":\"#E5ECF6\",\"polar\":{\"angularaxis\":{\"gridcolor\":\"white\",\"linecolor\":\"white\",\"ticks\":\"\"},\"bgcolor\":\"#E5ECF6\",\"radialaxis\":{\"gridcolor\":\"white\",\"linecolor\":\"white\",\"ticks\":\"\"}},\"scene\":{\"xaxis\":{\"backgroundcolor\":\"#E5ECF6\",\"gridcolor\":\"white\",\"gridwidth\":2,\"linecolor\":\"white\",\"showbackground\":true,\"ticks\":\"\",\"zerolinecolor\":\"white\"},\"yaxis\":{\"backgroundcolor\":\"#E5ECF6\",\"gridcolor\":\"white\",\"gridwidth\":2,\"linecolor\":\"white\",\"showbackground\":true,\"ticks\":\"\",\"zerolinecolor\":\"white\"},\"zaxis\":{\"backgroundcolor\":\"#E5ECF6\",\"gridcolor\":\"white\",\"gridwidth\":2,\"linecolor\":\"white\",\"showbackground\":true,\"ticks\":\"\",\"zerolinecolor\":\"white\"}},\"shapedefaults\":{\"line\":{\"color\":\"#2a3f5f\"}},\"ternary\":{\"aaxis\":{\"gridcolor\":\"white\",\"linecolor\":\"white\",\"ticks\":\"\"},\"baxis\":{\"gridcolor\":\"white\",\"linecolor\":\"white\",\"ticks\":\"\"},\"bgcolor\":\"#E5ECF6\",\"caxis\":{\"gridcolor\":\"white\",\"linecolor\":\"white\",\"ticks\":\"\"}},\"title\":{\"x\":0.05},\"xaxis\":{\"automargin\":true,\"gridcolor\":\"white\",\"linecolor\":\"white\",\"ticks\":\"\",\"title\":{\"standoff\":15},\"zerolinecolor\":\"white\",\"zerolinewidth\":2},\"yaxis\":{\"automargin\":true,\"gridcolor\":\"white\",\"linecolor\":\"white\",\"ticks\":\"\",\"title\":{\"standoff\":15},\"zerolinecolor\":\"white\",\"zerolinewidth\":2}}},\"xaxis\":{\"anchor\":\"y\",\"domain\":[0.0,1.0],\"title\":{\"text\":\"GarageType\"},\"categoryorder\":\"array\",\"categoryarray\":[\"Attchd\",\"Detchd\",\"BuiltIn\",\"CarPort\",\"None\",\"Basment\",\"2Types\"]},\"yaxis\":{\"anchor\":\"x\",\"domain\":[0.0,1.0],\"title\":{\"text\":\"GarageArea\"}},\"legend\":{\"title\":{\"text\":\"GarageType\"},\"tracegroupgap\":0},\"margin\":{\"t\":60},\"boxmode\":\"overlay\",\"height\":400,\"width\":800},                        {\"responsive\": true}                    ).then(function(){\n",
              "                            \n",
              "var gd = document.getElementById('c27db363-f24c-49d2-99e7-00d44fd60608');\n",
              "var x = new MutationObserver(function (mutations, observer) {{\n",
              "        var display = window.getComputedStyle(gd).display;\n",
              "        if (!display || display === 'none') {{\n",
              "            console.log([gd, 'removed!']);\n",
              "            Plotly.purge(gd);\n",
              "            observer.disconnect();\n",
              "        }}\n",
              "}});\n",
              "\n",
              "// Listen for the removal of the full notebook cells\n",
              "var notebookContainer = gd.closest('#notebook-container');\n",
              "if (notebookContainer) {{\n",
              "    x.observe(notebookContainer, {childList: true});\n",
              "}}\n",
              "\n",
              "// Listen for the clearing of the current output cell\n",
              "var outputEl = gd.closest('.output');\n",
              "if (outputEl) {{\n",
              "    x.observe(outputEl, {childList: true});\n",
              "}}\n",
              "\n",
              "                        })                };                            </script>        </div>\n",
              "</body>\n",
              "</html>"
            ]
          },
          "metadata": {}
        },
        {
          "output_type": "stream",
          "name": "stdout",
          "text": [
            "                  sum_sq      df          F         PR(>F)\n",
            "GarageType  4.656781e+07     6.0  254.52425  3.250706e-262\n",
            "Residual    8.876619e+07  2911.0        NaN            NaN\n"
          ]
        }
      ],
      "source": [
        "fig = px.box(all_features, x='GarageType', y='GarageArea', color='GarageType', width=800, height=400)\n",
        "fig.show()\n",
        "\n",
        "import statsmodels.api as sm\n",
        "from statsmodels.formula.api import ols\n",
        "model = ols('GarageArea ~ GarageType', data=all_features).fit()\n",
        "anova_table = sm.stats.anova_lm(model, typ=2)\n",
        "print(anova_table)"
      ]
    },
    {
      "cell_type": "code",
      "execution_count": null,
      "metadata": {
        "id": "dCtfcjGA4dsd"
      },
      "outputs": [],
      "source": [
        "# NA <- Median by group of another categorical variable\n",
        "all_features['LotFrontage'] = all_features['LotFrontage'].fillna(all_features.groupby('Neighborhood')['LotFrontage'].transform('median'))\n",
        "all_features['MasVnrArea'] = all_features['MasVnrArea'].fillna(all_features.groupby('MasVnrType')['MasVnrArea'].transform('median'))\n",
        "all_features['GarageArea'] = all_features['GarageArea'].fillna(all_features.groupby('GarageType')['GarageArea'].transform('median'))"
      ]
    },
    {
      "cell_type": "markdown",
      "source": [
        "#### >> Replace NA by 'prediction value' of the predictive model with relevant input variable \n",
        "\n",
        "Below figure shows that 'GarageArea' and 'GarageCars' are linearly related. \n",
        "\n",
        "According to this observation, replace 'NA' values in 'GarageCars' by prediction values of the predictive model trained with input variable 'GarageArea' and output variable 'GarageCars'"
      ],
      "metadata": {
        "id": "jCowWlerIRD3"
      }
    },
    {
      "cell_type": "code",
      "source": [
        "px.scatter(all_features, x='GarageArea', y='GarageCars', width=400, height=400)"
      ],
      "metadata": {
        "colab": {
          "base_uri": "https://localhost:8080/",
          "height": 417
        },
        "id": "N_dqbkZQl_Ps",
        "outputId": "f9ed6fea-65c4-42c3-8453-3fc716dc88bb"
      },
      "execution_count": null,
      "outputs": [
        {
          "output_type": "display_data",
          "data": {
            "text/html": [
              "<html>\n",
              "<head><meta charset=\"utf-8\" /></head>\n",
              "<body>\n",
              "    <div>            <script src=\"https://cdnjs.cloudflare.com/ajax/libs/mathjax/2.7.5/MathJax.js?config=TeX-AMS-MML_SVG\"></script><script type=\"text/javascript\">if (window.MathJax) {MathJax.Hub.Config({SVG: {font: \"STIX-Web\"}});}</script>                <script type=\"text/javascript\">window.PlotlyConfig = {MathJaxConfig: 'local'};</script>\n",
              "        <script src=\"https://cdn.plot.ly/plotly-2.8.3.min.js\"></script>                <div id=\"f0e24bab-148b-45d4-a902-6930122ef33e\" class=\"plotly-graph-div\" style=\"height:400px; width:400px;\"></div>            <script type=\"text/javascript\">                                    window.PLOTLYENV=window.PLOTLYENV || {};                                    if (document.getElementById(\"f0e24bab-148b-45d4-a902-6930122ef33e\")) {                    Plotly.newPlot(                        \"f0e24bab-148b-45d4-a902-6930122ef33e\",                        [{\"hovertemplate\":\"GarageArea=%{x}<br>GarageCars=%{y}<extra></extra>\",\"legendgroup\":\"\",\"marker\":{\"color\":\"#636efa\",\"symbol\":\"circle\"},\"mode\":\"markers\",\"name\":\"\",\"showlegend\":false,\"x\":[548.0,460.0,608.0,642.0,836.0,480.0,636.0,484.0,468.0,205.0,384.0,736.0,352.0,840.0,352.0,576.0,480.0,516.0,576.0,294.0,853.0,280.0,534.0,572.0,270.0,890.0,576.0,772.0,319.0,240.0,250.0,271.0,484.0,447.0,556.0,691.0,672.0,498.0,246.0,0.0,440.0,308.0,504.0,308.0,300.0,576.0,670.0,826.0,0.0,386.0,388.0,528.0,516.0,894.0,572.0,576.0,480.0,565.0,641.0,352.0,576.0,288.0,484.0,480.0,645.0,852.0,576.0,558.0,220.0,667.0,516.0,360.0,427.0,490.0,379.0,297.0,283.0,240.0,0.0,440.0,509.0,405.0,758.0,461.0,400.0,462.0,400.0,528.0,0.0,0.0,420.0,480.0,432.0,506.0,684.0,420.0,472.0,432.0,366.0,0.0,480.0,476.0,410.0,740.0,240.0,648.0,273.0,250.0,0.0,546.0,325.0,400.0,792.0,450.0,180.0,440.0,288.0,430.0,594.0,390.0,540.0,264.0,288.0,530.0,435.0,0.0,440.0,0.0,453.0,750.0,487.0,390.0,624.0,471.0,440.0,530.0,318.0,766.0,660.0,470.0,0.0,660.0,720.0,577.0,504.0,380.0,180.0,434.0,0.0,240.0,440.0,866.0,495.0,564.0,312.0,0.0,625.0,680.0,678.0,576.0,516.0,726.0,532.0,0.0,216.0,0.0,303.0,789.0,440.0,511.0,660.0,528.0,504.0,504.0,616.0,576.0,521.0,451.0,1166.0,480.0,440.0,216.0,252.0,484.0,576.0,840.0,497.0,180.0,528.0,682.0,440.0,484.0,666.0,380.0,352.0,440.0,786.0,795.0,0.0,856.0,440.0,473.0,398.0,420.0,240.0,500.0,349.0,312.0,454.0,504.0,0.0,460.0,644.0,576.0,299.0,447.0,484.0,210.0,431.0,438.0,675.0,390.0,434.0,576.0,968.0,280.0,721.0,280.0,336.0,430.0,312.0,810.0,288.0,308.0,440.0,264.0,494.0,457.0,818.0,220.0,750.0,0.0,352.0,288.0,463.0,604.0,440.0,451.0,500.0,389.0,0.0,538.0,520.0,309.0,294.0,429.0,673.0,660.0,564.0,308.0,884.0,868.0,492.0,484.0,504.0,576.0,413.0,240.0,924.0,504.0,1053.0,439.0,671.0,338.0,264.0,672.0,573.0,400.0,732.0,505.0,575.0,572.0,626.0,898.0,529.0,528.0,440.0,0.0,280.0,384.0,685.0,0.0,281.0,539.0,418.0,588.0,282.0,576.0,539.0,300.0,375.0,683.0,843.0,552.0,870.0,888.0,746.0,0.0,539.0,708.0,420.0,240.0,410.0,513.0,546.0,432.0,484.0,1025.0,656.0,588.0,840.0,872.0,576.0,220.0,564.0,360.0,473.0,292.0,441.0,189.0,352.0,308.0,880.0,484.0,472.0,529.0,676.0,532.0,440.0,297.0,431.0,294.0,400.0,564.0,336.0,312.0,301.0,498.0,474.0,706.0,617.0,445.0,200.0,484.0,240.0,521.0,400.0,528.0,288.0,592.0,470.0,240.0,672.0,264.0,566.0,468.0,514.0,296.0,244.0,576.0,460.0,680.0,264.0,270.0,434.0,0.0,576.0,610.0,834.0,463.0,308.0,572.0,639.0,360.0,501.0,430.0,0.0,352.0,577.0,846.0,384.0,560.0,294.0,0.0,240.0,596.0,600.0,264.0,338.0,438.0,500.0,400.0,240.0,420.0,373.0,490.0,240.0,308.0,947.0,836.0,350.0,572.0,484.0,360.0,678.0,396.0,440.0,864.0,240.0,304.0,784.0,529.0,520.0,696.0,297.0,240.0,569.0,352.0,628.0,576.0,264.0,0.0,440.0,470.0,0.0,550.0,440.0,180.0,352.0,528.0,672.0,0.0,360.0,648.0,493.0,480.0,578.0,431.0,198.0,308.0,270.0,576.0,422.0,676.0,560.0,528.0,513.0,529.0,228.0,352.0,552.0,576.0,360.0,240.0,0.0,398.0,526.0,312.0,866.0,506.0,528.0,534.0,525.0,908.0,499.0,624.0,508.0,694.0,826.0,672.0,772.0,874.0,164.0,402.0,264.0,264.0,515.0,487.0,520.0,286.0,336.0,240.0,429.0,308.0,273.0,0.0,546.0,240.0,288.0,297.0,264.0,603.0,461.0,484.0,440.0,400.0,471.0,676.0,360.0,270.0,288.0,474.0,624.0,484.0,200.0,900.0,583.0,889.0,546.0,282.0,0.0,336.0,420.0,884.0,834.0,453.0,252.0,858.0,0.0,484.0,600.0,502.0,392.0,0.0,403.0,0.0,527.0,576.0,336.0,670.0,765.0,648.0,583.0,367.0,426.0,786.0,440.0,624.0,720.0,615.0,440.0,288.0,908.0,520.0,871.0,280.0,299.0,570.0,406.0,420.0,528.0,418.0,0.0,396.0,590.0,216.0,656.0,532.0,612.0,600.0,576.0,288.0,650.0,400.0,288.0,336.0,216.0,564.0,540.0,352.0,572.0,1390.0,0.0,880.0,240.0,880.0,275.0,528.0,452.0,308.0,520.0,842.0,816.0,420.0,280.0,758.0,216.0,648.0,621.0,452.0,736.0,544.0,506.0,480.0,530.0,486.0,576.0,230.0,380.0,261.0,736.0,564.0,531.0,0.0,0.0,480.0,393.0,528.0,774.0,749.0,0.0,624.0,484.0,440.0,484.0,440.0,286.0,364.0,504.0,520.0,240.0,627.0,544.0,260.0,576.0,0.0,0.0,256.0,0.0,648.0,588.0,650.0,538.0,462.0,478.0,576.0,420.0,495.0,442.0,0.0,562.0,296.0,512.0,216.0,839.0,264.0,312.0,270.0,330.0,480.0,550.0,711.0,576.0,588.0,1134.0,504.0,596.0,575.0,576.0,252.0,540.0,300.0,546.0,416.0,384.0,440.0,779.0,240.0,834.0,572.0,264.0,281.0,431.0,702.0,486.0,577.0,578.0,480.0,567.0,460.0,420.0,832.0,628.0,326.0,576.0,551.0,205.0,308.0,336.0,530.0,765.0,528.0,666.0,672.0,606.0,0.0,739.0,550.0,400.0,408.0,0.0,384.0,472.0,576.0,475.0,478.0,704.0,439.0,983.0,300.0,564.0,420.0,463.0,548.0,768.0,660.0,540.0,632.0,888.0,539.0,608.0,438.0,541.0,264.0,300.0,320.0,400.0,800.0,0.0,572.0,360.0,288.0,539.0,480.0,462.0,831.0,554.0,864.0,527.0,240.0,0.0,400.0,576.0,878.0,440.0,440.0,578.0,440.0,440.0,752.0,300.0,440.0,614.0,856.0,481.0,592.0,496.0,423.0,484.0,841.0,576.0,396.0,672.0,275.0,895.0,412.0,865.0,440.0,630.0,504.0,402.0,484.0,605.0,602.0,0.0,457.0,416.0,618.0,281.0,444.0,397.0,539.0,455.0,474.0,409.0,476.0,528.0,240.0,820.0,240.0,603.0,440.0,410.0,1020.0,286.0,554.0,384.0,528.0,484.0,360.0,484.0,420.0,504.0,301.0,280.0,598.0,275.0,857.0,440.0,484.0,595.0,576.0,433.0,240.0,776.0,1220.0,0.0,527.0,538.0,480.0,458.0,480.0,613.0,472.0,456.0,436.0,812.0,264.0,352.0,240.0,400.0,686.0,490.0,0.0,720.0,611.0,425.0,338.0,360.0,512.0,420.0,400.0,240.0,645.0,454.0,260.0,576.0,343.0,479.0,619.0,216.0,504.0,480.0,672.0,529.0,902.0,870.0,544.0,672.0,574.0,308.0,523.0,414.0,288.0,200.0,550.0,648.0,738.0,576.0,336.0,450.0,400.0,389.0,440.0,288.0,506.0,588.0,300.0,621.0,505.0,576.0,440.0,264.0,354.0,400.0,483.0,327.0,528.0,820.0,288.0,684.0,756.0,393.0,690.0,288.0,280.0,865.0,180.0,484.0,390.0,480.0,252.0,450.0,871.0,528.0,286.0,308.0,284.0,833.0,601.0,471.0,0.0,397.0,533.0,612.0,540.0,656.0,486.0,522.0,642.0,610.0,429.0,788.0,570.0,505.0,528.0,555.0,689.0,868.0,349.0,574.0,390.0,0.0,576.0,525.0,456.0,796.0,808.0,474.0,676.0,720.0,300.0,396.0,530.0,0.0,492.0,462.0,576.0,531.0,484.0,0.0,619.0,440.0,702.0,510.0,393.0,256.0,260.0,0.0,264.0,0.0,474.0,264.0,480.0,532.0,490.0,0.0,569.0,400.0,480.0,588.0,676.0,388.0,779.0,539.0,240.0,255.0,606.0,551.0,614.0,870.0,424.0,440.0,564.0,786.0,305.0,368.0,615.0,210.0,632.0,528.0,216.0,824.0,528.0,457.0,328.0,484.0,286.0,550.0,0.0,312.0,0.0,180.0,280.0,240.0,528.0,478.0,565.0,402.0,440.0,451.0,632.0,160.0,437.0,665.0,461.0,461.0,800.0,240.0,264.0,0.0,672.0,796.0,900.0,240.0,290.0,912.0,905.0,0.0,286.0,484.0,484.0,624.0,514.0,542.0,452.0,716.0,672.0,336.0,308.0,436.0,440.0,540.0,364.0,586.0,478.0,484.0,467.0,836.0,432.0,582.0,1248.0,560.0,440.0,480.0,533.0,380.0,442.0,576.0,576.0,286.0,441.0,280.0,440.0,826.0,240.0,566.0,299.0,420.0,299.0,528.0,308.0,527.0,461.0,409.0,564.0,286.0,1043.0,380.0,550.0,400.0,462.0,576.0,884.0,308.0,440.0,0.0,461.0,240.0,478.0,246.0,280.0,254.0,539.0,440.0,712.0,719.0,422.0,463.0,862.0,431.0,483.0,308.0,240.0,326.0,928.0,527.0,450.0,300.0,286.0,308.0,782.0,288.0,0.0,392.0,672.0,660.0,630.0,434.0,672.0,576.0,0.0,205.0,466.0,460.0,180.0,288.0,0.0,714.0,495.0,840.0,484.0,1052.0,0.0,280.0,225.0,403.0,234.0,288.0,324.0,306.0,528.0,470.0,432.0,492.0,528.0,502.0,626.0,830.0,540.0,440.0,924.0,450.0,400.0,588.0,644.0,776.0,472.0,540.0,807.0,358.0,433.0,625.0,0.0,360.0,541.0,264.0,210.0,186.0,0.0,693.0,482.0,813.0,720.0,995.0,392.0,420.0,757.0,493.0,442.0,1356.0,492.0,250.0,402.0,299.0,400.0,660.0,225.0,573.0,459.0,280.0,546.0,216.0,451.0,495.0,701.0,384.0,544.0,506.0,500.0,462.0,492.0,234.0,364.0,300.0,384.0,539.0,552.0,0.0,0.0,288.0,322.0,315.0,528.0,388.0,264.0,668.0,576.0,1052.0,404.0,600.0,540.0,462.0,531.0,0.0,180.0,474.0,434.0,484.0,472.0,543.0,954.0,528.0,850.0,400.0,477.0,615.0,888.0,396.0,276.0,522.0,478.0,288.0,518.0,397.0,560.0,691.0,0.0,400.0,460.0,502.0,338.0,304.0,520.0,511.0,506.0,308.0,746.0,1014.0,315.0,586.0,462.0,288.0,312.0,552.0,400.0,497.0,480.0,577.0,528.0,544.0,484.0,484.0,0.0,336.0,280.0,528.0,390.0,499.0,753.0,484.0,264.0,432.0,528.0,572.0,288.0,525.0,525.0,1418.0,305.0,490.0,213.0,844.0,834.0,380.0,840.0,474.0,480.0,528.0,496.0,567.0,508.0,750.0,779.0,280.0,576.0,860.0,466.0,748.0,248.0,442.0,287.0,564.0,0.0,895.0,0.0,0.0,264.0,520.0,462.0,825.0,576.0,288.0,297.0,440.0,630.0,506.0,0.0,492.0,288.0,480.0,576.0,647.0,342.0,440.0,308.0,508.0,712.0,514.0,0.0,968.0,490.0,624.0,666.0,839.0,487.0,264.0,500.0,440.0,770.0,621.0,430.0,368.0,432.0,480.0,663.0,588.0,336.0,420.0,502.0,338.0,377.0,583.0,804.0,936.0,722.0,160.0,660.0,264.0,400.0,200.0,550.0,576.0,576.0,280.0,240.0,564.0,216.0,758.0,440.0,541.0,792.0,288.0,672.0,648.0,642.0,572.0,180.0,240.0,216.0,208.0,398.0,662.0,754.0,936.0,482.0,396.0,0.0,528.0,542.0,622.0,271.0,420.0,620.0,370.0,660.0,560.0,1069.0,336.0,540.0,776.0,440.0,420.0,432.0,484.0,528.0,525.0,288.0,240.0,467.0,372.0,440.0,216.0,451.0,484.0,462.0,528.0,774.0,923.0,550.0,672.0,420.0,812.0,192.0,626.0,240.0,312.0,556.0,384.0,0.0,0.0,840.0,525.0,0.0,400.0,460.0,500.0,252.0,240.0,276.0,730.0,312.0,482.0,470.0,506.0,440.0,420.0,393.0,506.0,525.0,511.0,264.0,320.0,440.0,308.0,751.0,868.0,730.0,678.0,958.0,756.0,484.0,430.0,437.0,400.0,433.0,962.0,880.0,676.0,528.0,484.0,429.0,461.0,762.0,713.0,506.0,588.0,480.0,480.0,480.0,440.0,496.0,852.0,592.0,596.0,535.0,660.0,678.0,441.0,490.0,504.0,517.0,480.0,0.0,400.0,470.0,315.0,576.0,620.0,308.0,312.0,440.0,263.0,318.0,305.0,264.0,676.0,280.0,484.0,440.0,240.0,0.0,551.0,240.0,240.0,315.0,780.0,288.0,624.0,0.0,624.0,363.0,315.0,200.0,240.0,576.0,240.0,312.0,624.0,480.0,288.0,572.0,0.0,180.0,365.0,180.0,0.0,231.0,0.0,450.0,0.0,416.0,280.0,591.0,480.0,690.0,440.0,522.0,480.0,467.0,209.0,366.0,572.0,504.0,528.0,1017.0,615.0,484.0,580.0,513.0,308.0,484.0,850.0,621.0,420.0,240.0,319.0,336.0,480.0,352.0,0.0,260.0,399.0,0.0,0.0,312.0,484.0,473.0,598.0,531.0,200.0,625.0,330.0,525.0,741.0,473.0,776.0,660.0,520.0,400.0,528.0,624.0,686.0,253.0,0.0,0.0,286.0,352.0,495.0,616.0,576.0,275.0,482.0,616.0,502.0,528.0,470.0,632.0,390.0,564.0,495.0,528.0,396.0,440.0,409.0,430.0,567.0,529.0,484.0,441.0,479.0,581.0,588.0,565.0,478.0,528.0,506.0,477.0,336.0,576.0,576.0,264.0,288.0,440.0,440.0,440.0,440.0,440.0,345.0,656.0,754.0,864.0,896.0,762.0,834.0,932.0,640.0,927.0,700.0,850.0,583.0,886.0,730.0,871.0,484.0,624.0,484.0,949.0,685.0,649.0,539.0,701.0,478.0,390.0,392.0,397.0,400.0,436.0,434.0,400.0,393.0,644.0,400.0,394.0,400.0,658.0,410.0,810.0,815.0,647.0,623.0,972.0,726.0,844.0,492.0,795.0,529.0,625.0,984.0,692.0,782.0,517.0,711.0,588.0,628.0,576.0,484.0,0.0,478.0,845.0,576.0,0.0,576.0,788.0,559.0,528.0,542.0,495.0,465.0,612.0,400.0,732.0,440.0,288.0,300.0,252.0,864.0,524.0,704.0,561.0,641.0,440.0,506.0,642.0,540.0,527.0,784.0,515.0,502.0,336.0,520.0,312.0,440.0,498.0,495.0,396.0,308.0,768.0,576.0,610.0,520.0,549.0,368.0,330.0,550.0,530.0,542.0,286.0,441.0,297.0,304.0,350.0,294.0,495.0,297.0,480.0,240.0,230.0,616.0,410.0,246.0,366.0,720.0,281.0,264.0,528.0,624.0,0.0,576.0,320.0,907.0,364.0,480.0,480.0,308.0,384.0,900.0,294.0,240.0,288.0,384.0,576.0,483.0,564.0,264.0,162.0,324.0,472.0,0.0,400.0,0.0,0.0,308.0,288.0,308.0,287.0,720.0,357.0,280.0,0.0,207.0,640.0,0.0,216.0,336.0,320.0,264.0,250.0,1184.0,576.0,216.0,0.0,316.0,379.0,0.0,384.0,0.0,308.0,220.0,0.0,252.0,226.0,668.0,504.0,384.0,480.0,336.0,0.0,498.0,340.0,240.0,252.0,266.0,462.0,576.0,473.0,576.0,720.0,400.0,672.0,400.0,820.0,820.0,820.0,1138.0,846.0,904.0,524.0,662.0,810.0,844.0,440.0,525.0,440.0,539.0,492.0,577.0,608.0,343.0,444.0,1231.0,570.0,550.0,608.0,521.0,523.0,511.0,810.0,440.0,544.0,525.0,320.0,195.0,0.0,313.0,256.0,250.0,180.0,440.0,215.0,440.0,307.0,400.0,390.0,463.0,295.0,576.0,452.0,462.0,462.0,501.0,551.0,576.0,200.0,482.0,280.0,642.0,351.0,541.0,672.0,780.0,885.0,440.0,578.0,486.0,920.0,384.0,504.0,336.0,429.0,698.0,440.0,898.0,470.0,420.0,472.0,386.0,404.0,528.0,506.0,460.0,416.0,462.0,683.0,670.0,495.0,557.0,738.0,528.0,598.0,550.0,551.0,461.0,489.0,484.0,1314.0,473.0,787.0,480.0,288.0,576.0,264.0,352.0,264.0,460.0,440.0,905.0,650.0,706.0,850.0,1150.0,1003.0,656.0,756.0,789.0,732.0,746.0,795.0,870.0,484.0,944.0,550.0,550.0,474.0,644.0,668.0,428.0,393.0,400.0,434.0,484.0,431.0,403.0,400.0,450.0,516.0,687.0,938.0,576.0,751.0,783.0,642.0,851.0,880.0,480.0,588.0,660.0,462.0,542.0,478.0,0.0,483.0,525.0,474.0,483.0,627.0,506.0,384.0,420.0,308.0,276.0,484.0,490.0,473.0,636.0,495.0,480.0,540.0,440.0,495.0,545.0,588.0,484.0,462.0,546.0,480.0,480.0,846.0,477.0,864.0,550.0,469.0,516.0,512.0,578.0,484.0,470.0,576.0,576.0,464.0,267.0,451.0,264.0,231.0,450.0,264.0,312.0,480.0,292.0,480.0,441.0,384.0,240.0,636.0,400.0,540.0,301.0,484.0,390.0,288.0,308.0,1488.0,372.0,495.0,401.0,576.0,311.0,299.0,576.0,280.0,240.0,0.0,480.0,350.0,264.0,308.0,400.0,330.0,256.0,308.0,0.0,440.0,225.0,0.0,828.0,200.0,0.0,869.0,297.0,0.0,420.0,288.0,308.0,393.0,0.0,400.0,342.0,308.0,308.0,288.0,252.0,240.0,240.0,200.0,240.0,370.0,672.0,240.0,160.0,355.0,280.0,336.0,164.0,400.0,576.0,672.0,360.0,228.0,440.0,308.0,400.0,400.0,320.0,384.0,576.0,0.0,240.0,440.0,484.0,294.0,504.0,270.0,506.0,400.0,300.0,621.0,626.0,627.0,912.0,478.0,249.0,0.0,322.0,0.0,280.0,614.0,534.0,453.0,472.0,484.0,864.0,1348.0,874.0,811.0,438.0,528.0,558.0,600.0,532.0,626.0,528.0,576.0,440.0,570.0,725.0,715.0,596.0,560.0,420.0,721.0,470.0,814.0,610.0,264.0,504.0,480.0,542.0,440.0,624.0,0.0,0.0,0.0,0.0,0.0,286.0,312.0,205.0,312.0,480.0,369.0,400.0,180.0,599.0,240.0,225.0,344.0,786.0,506.0,484.0,462.0,195.0,240.0,0.0,288.0,360.0,356.0,487.0,185.0,195.0,216.0,525.0,482.0,786.0,816.0,484.0,432.0,512.0,788.0,612.0,400.0,666.0,438.0,578.0,467.0,435.0,520.0,892.0,784.0,0.0,392.0,850.0,499.0,336.0,297.0,297.0,257.0,0.0,264.0,264.0,484.0,288.0,525.0,390.0,398.0,451.0,420.0,482.0,420.0,392.0,480.0,480.0,484.0,729.0,1110.0,828.0,556.0,724.0,724.0,480.0,484.0,663.0,481.0,495.0,478.0,944.0,585.0,488.0,576.0,368.0,270.0,511.0,522.0,264.0,264.0,319.0,360.0,730.0,856.0,938.0,1040.0,670.0,878.0,932.0,814.0,1174.0,728.0,786.0,843.0,916.0,818.0,774.0,878.0,554.0,876.0,631.0,631.0,460.0,627.0,564.0,550.0,478.0,572.0,400.0,454.0,440.0,350.0,388.0,440.0,400.0,462.0,630.0,388.0,437.0,400.0,534.0,400.0,434.0,435.0,442.0,460.0,925.0,806.0,758.0,600.0,517.0,933.0,605.0,852.0,484.0,1092.0,480.0,484.0,672.0,574.0,859.0,598.0,575.0,590.0,561.0,880.0,594.0,658.0,744.0,0.0,0.0,576.0,566.0,492.0,283.0,308.0,686.0,564.0,431.0,542.0,540.0,484.0,476.0,466.0,528.0,440.0,440.0,625.0,552.0,1105.0,478.0,546.0,676.0,412.0,570.0,480.0,528.0,515.0,472.0,473.0,484.0,311.0,308.0,530.0,396.0,440.0,784.0,312.0,440.0,440.0,539.0,286.0,510.0,512.0,0.0,0.0,308.0,288.0,792.0,432.0,525.0,315.0,308.0,692.0,336.0,464.0,308.0,310.0,336.0,336.0,484.0,410.0,293.0,252.0,352.0,390.0,280.0,420.0,0.0,371.0,1200.0,580.0,0.0,276.0,240.0,288.0,357.0,286.0,338.0,324.0,351.0,300.0,294.0,288.0,576.0,576.0,184.0,180.0,379.0,576.0,252.0,342.0,816.0,374.0,480.0,468.0,336.0,576.0,331.0,384.0,308.0,308.0,224.0,217.0,240.0,528.0,280.0,230.0,379.0,408.0,576.0,576.0,456.0,240.0,216.0,658.0,299.0,720.0,436.0,264.0,498.0,240.0,308.0,572.0,440.0,528.0,264.0,576.0,264.0,528.0,315.0,323.0,638.0,224.0,494.0,303.0,460.0,552.0,576.0,649.0,336.0,527.0,332.0,399.0,308.0,264.0,256.0,253.0,280.0,515.0,499.0,870.0,894.0,870.0,796.0,674.0,524.0,578.0,619.0,529.0,747.0,497.0,384.0,242.0,597.0,534.0,517.0,486.0,440.0,370.0,576.0,748.0,308.0,440.0,576.0,728.0,583.0,610.0,542.0,484.0,560.0,608.0,482.0,552.0,578.0,437.0,484.0,400.0,384.0,520.0,576.0,622.0,528.0,579.0,489.0,1154.0,525.0,392.0,0.0,0.0,216.0,355.0,528.0,0.0,352.0,240.0,216.0,228.0,225.0,264.0,400.0,231.0,528.0,580.0,552.0,462.0,628.0,509.0,625.0,691.0,720.0,0.0,399.5,100.0,256.0,0.0,720.0,216.0,495.0,486.0,650.0,576.0,506.0,360.0,528.0,512.0,461.0,433.0,502.0,528.0,471.0,692.0,571.0,452.0,932.0,1041.0,460.0,253.0,297.0,0.0,286.0,678.0,528.0,672.0,531.0,0.0,444.0,502.0,264.0,288.0,452.0,313.0,963.0,550.0,506.0,400.0,423.0,443.0,527.0,773.0,618.0,402.0,461.0,670.0,758.0,675.0,736.0,660.0,517.0,722.0,582.0,482.0,596.0,541.0,485.0,462.0,576.0,543.0,440.0,440.0,264.0,264.0,264.0,440.0,300.0,319.0,460.0,831.0,880.0,874.0,1085.0,670.0,521.0,575.0,672.0,784.0,925.0,816.0,746.0,556.0,899.0,575.0,390.0,440.0,427.0,632.0,440.0,437.0,398.0,388.0,440.0,433.0,431.0,617.0,885.0,768.0,774.0,725.0,959.0,803.0,704.0,760.0,928.0,510.0,584.0,792.0,615.0,0.0,612.0,0.0,462.0,449.0,688.0,462.0,542.0,484.0,472.0,624.0,528.0,576.0,310.0,294.0,484.0,308.0,0.0,288.0,550.0,888.0,588.0,480.0,440.0,496.0,434.0,564.0,501.0,477.0,504.0,530.0,504.0,326.0,264.0,568.0,299.0,430.0,480.0,286.0,240.0,273.0,441.0,240.0,280.0,234.0,240.0,506.0,441.0,430.0,331.0,488.0,300.0,353.0,286.0,280.0,400.0,684.0,319.0,300.0,270.0,791.0,896.0,1008.0,649.0,371.0,660.0,280.0,528.0,648.0,294.0,264.0,418.0,484.0,441.0,597.0,400.0,0.0,288.0,528.0,336.0,0.0,624.0,240.0,162.0,400.0,576.0,200.0,576.0,280.0,216.0,528.0,216.0,576.0,450.0,200.0,378.0,250.0,432.0,0.0,624.0,0.0,240.0,258.0,180.0,210.0,576.0,370.0,390.0,0.0,308.0,288.0,576.0,394.0,260.0,180.0,246.0,528.0,336.0,286.0,512.0,616.0,580.0,586.0,322.0,521.0,575.0,576.0,450.0,504.0,215.0,795.0,836.0,528.0,569.0,288.0,305.0,506.0,920.0,848.0,632.0,495.0,754.0,638.0,576.0,610.0,522.0,462.0,473.0,591.0,515.0,586.0,317.0,672.0,297.0,591.0,530.0,418.0,529.0,646.0,467.0,555.0,610.0,420.0,545.0,578.0,572.0,502.0,528.0,0.0,360.0,616.0,0.0,502.0,525.0,380.0,265.0,528.0,288.0,609.0,0.0,216.0,275.0,240.0,440.0,312.0,216.0,288.0,240.0,240.0,318.0,410.0,451.0,579.0,365.0,342.0,215.0,506.0,0.0,272.0,384.0,0.0,0.0,0.0,495.0,525.0,576.0,616.0,490.0,528.0,518.0,470.0,714.0,682.0,270.0,784.0,336.0,288.0,928.0,0.0,253.0,336.0,286.0,0.0,0.0,286.0,576.0,0.0,650.0],\"xaxis\":\"x\",\"y\":[2.0,2.0,2.0,3.0,3.0,2.0,2.0,2.0,2.0,1.0,1.0,3.0,1.0,3.0,1.0,2.0,2.0,2.0,2.0,1.0,3.0,1.0,2.0,2.0,1.0,3.0,2.0,3.0,1.0,1.0,1.0,1.0,2.0,2.0,2.0,3.0,2.0,2.0,1.0,0.0,2.0,1.0,2.0,1.0,1.0,2.0,2.0,3.0,0.0,1.0,2.0,2.0,2.0,3.0,2.0,2.0,2.0,2.0,3.0,1.0,2.0,1.0,2.0,2.0,2.0,3.0,2.0,2.0,1.0,2.0,2.0,2.0,2.0,2.0,1.0,1.0,1.0,1.0,0.0,2.0,1.0,2.0,3.0,2.0,2.0,2.0,2.0,2.0,0.0,0.0,2.0,2.0,2.0,2.0,2.0,2.0,2.0,1.0,1.0,0.0,2.0,2.0,2.0,3.0,1.0,2.0,1.0,1.0,0.0,2.0,1.0,2.0,3.0,2.0,1.0,2.0,1.0,2.0,3.0,2.0,2.0,1.0,1.0,2.0,2.0,0.0,2.0,0.0,2.0,2.0,2.0,2.0,2.0,2.0,2.0,2.0,1.0,3.0,3.0,2.0,0.0,2.0,2.0,2.0,2.0,2.0,1.0,2.0,0.0,1.0,2.0,3.0,2.0,2.0,1.0,0.0,2.0,3.0,2.0,2.0,2.0,3.0,2.0,0.0,1.0,0.0,1.0,3.0,2.0,2.0,2.0,2.0,2.0,2.0,2.0,2.0,2.0,2.0,3.0,2.0,2.0,1.0,1.0,2.0,2.0,3.0,2.0,1.0,2.0,2.0,2.0,2.0,2.0,2.0,1.0,2.0,3.0,2.0,0.0,3.0,2.0,2.0,1.0,2.0,1.0,2.0,1.0,1.0,2.0,2.0,0.0,2.0,2.0,2.0,1.0,1.0,2.0,1.0,2.0,2.0,2.0,2.0,2.0,2.0,3.0,1.0,3.0,1.0,1.0,2.0,1.0,3.0,1.0,1.0,2.0,1.0,2.0,2.0,3.0,1.0,2.0,0.0,1.0,1.0,2.0,2.0,1.0,2.0,2.0,2.0,0.0,2.0,2.0,1.0,1.0,2.0,2.0,2.0,2.0,1.0,2.0,3.0,2.0,2.0,2.0,2.0,2.0,1.0,1.0,1.0,3.0,2.0,3.0,1.0,1.0,2.0,2.0,2.0,3.0,2.0,2.0,2.0,2.0,3.0,2.0,2.0,2.0,0.0,1.0,1.0,2.0,0.0,1.0,2.0,2.0,2.0,1.0,2.0,2.0,1.0,1.0,2.0,3.0,2.0,3.0,3.0,3.0,0.0,2.0,3.0,2.0,1.0,2.0,2.0,2.0,2.0,2.0,3.0,3.0,2.0,3.0,3.0,2.0,1.0,2.0,2.0,2.0,1.0,2.0,1.0,1.0,1.0,3.0,2.0,2.0,2.0,3.0,2.0,2.0,1.0,2.0,1.0,2.0,2.0,1.0,1.0,1.0,2.0,2.0,3.0,2.0,2.0,1.0,2.0,1.0,2.0,2.0,2.0,1.0,2.0,2.0,1.0,2.0,1.0,2.0,1.0,2.0,1.0,1.0,2.0,2.0,2.0,1.0,1.0,2.0,0.0,2.0,2.0,3.0,2.0,1.0,2.0,2.0,2.0,2.0,2.0,0.0,1.0,2.0,3.0,1.0,2.0,1.0,0.0,1.0,1.0,2.0,1.0,1.0,2.0,2.0,2.0,1.0,2.0,2.0,2.0,1.0,1.0,3.0,3.0,1.0,2.0,2.0,2.0,3.0,2.0,2.0,3.0,1.0,1.0,4.0,2.0,2.0,3.0,1.0,1.0,2.0,1.0,2.0,2.0,1.0,0.0,2.0,2.0,0.0,2.0,2.0,1.0,1.0,2.0,3.0,0.0,2.0,3.0,2.0,2.0,2.0,2.0,1.0,1.0,1.0,2.0,2.0,2.0,2.0,2.0,3.0,2.0,1.0,1.0,2.0,2.0,1.0,1.0,0.0,2.0,2.0,1.0,3.0,2.0,2.0,2.0,2.0,3.0,2.0,2.0,2.0,3.0,3.0,2.0,3.0,3.0,1.0,2.0,1.0,1.0,2.0,2.0,2.0,1.0,1.0,1.0,2.0,1.0,1.0,0.0,2.0,1.0,1.0,1.0,1.0,2.0,2.0,2.0,2.0,2.0,2.0,2.0,2.0,1.0,1.0,2.0,2.0,2.0,1.0,3.0,2.0,3.0,2.0,1.0,0.0,1.0,2.0,3.0,3.0,2.0,1.0,3.0,0.0,2.0,2.0,2.0,1.0,0.0,2.0,0.0,2.0,2.0,1.0,2.0,3.0,3.0,2.0,1.0,2.0,3.0,2.0,2.0,2.0,2.0,2.0,1.0,3.0,2.0,3.0,1.0,1.0,1.0,2.0,2.0,2.0,2.0,0.0,2.0,2.0,1.0,3.0,2.0,2.0,2.0,2.0,1.0,2.0,2.0,1.0,1.0,1.0,2.0,2.0,1.0,2.0,3.0,0.0,2.0,1.0,3.0,1.0,2.0,1.0,1.0,2.0,3.0,2.0,2.0,1.0,3.0,1.0,3.0,2.0,2.0,2.0,1.0,2.0,2.0,2.0,2.0,2.0,1.0,2.0,1.0,3.0,2.0,2.0,0.0,0.0,2.0,2.0,2.0,3.0,3.0,0.0,2.0,2.0,2.0,2.0,2.0,1.0,1.0,2.0,2.0,1.0,2.0,2.0,1.0,2.0,0.0,0.0,1.0,0.0,3.0,2.0,2.0,2.0,2.0,3.0,2.0,2.0,2.0,2.0,0.0,2.0,1.0,2.0,1.0,3.0,1.0,1.0,1.0,1.0,2.0,2.0,3.0,2.0,2.0,3.0,2.0,2.0,2.0,2.0,1.0,2.0,1.0,2.0,2.0,1.0,2.0,3.0,1.0,3.0,2.0,1.0,1.0,2.0,3.0,2.0,2.0,2.0,2.0,2.0,2.0,2.0,3.0,2.0,1.0,2.0,2.0,1.0,1.0,1.0,2.0,3.0,2.0,3.0,2.0,2.0,0.0,2.0,2.0,2.0,1.0,0.0,1.0,2.0,2.0,2.0,2.0,2.0,2.0,3.0,1.0,2.0,2.0,2.0,1.0,3.0,2.0,2.0,2.0,3.0,2.0,2.0,2.0,2.0,1.0,1.0,2.0,2.0,3.0,0.0,2.0,2.0,1.0,2.0,2.0,2.0,2.0,2.0,4.0,2.0,1.0,0.0,2.0,2.0,3.0,2.0,2.0,2.0,2.0,2.0,3.0,1.0,2.0,2.0,3.0,2.0,2.0,2.0,1.0,2.0,3.0,2.0,2.0,2.0,1.0,3.0,2.0,3.0,2.0,2.0,2.0,2.0,2.0,2.0,2.0,0.0,2.0,1.0,2.0,1.0,2.0,2.0,2.0,2.0,2.0,2.0,2.0,2.0,1.0,3.0,1.0,2.0,2.0,2.0,3.0,1.0,2.0,1.0,2.0,2.0,2.0,2.0,2.0,2.0,1.0,1.0,2.0,1.0,3.0,2.0,2.0,2.0,2.0,2.0,1.0,2.0,3.0,0.0,2.0,2.0,2.0,2.0,2.0,2.0,2.0,2.0,2.0,2.0,1.0,1.0,1.0,1.0,2.0,2.0,0.0,3.0,2.0,2.0,1.0,2.0,2.0,2.0,2.0,1.0,2.0,2.0,1.0,2.0,2.0,2.0,2.0,1.0,2.0,2.0,1.0,2.0,2.0,3.0,2.0,2.0,2.0,1.0,2.0,2.0,1.0,1.0,2.0,2.0,3.0,2.0,1.0,2.0,2.0,2.0,1.0,1.0,2.0,2.0,1.0,2.0,2.0,2.0,2.0,1.0,1.0,2.0,2.0,1.0,2.0,3.0,1.0,1.0,1.0,2.0,3.0,1.0,1.0,3.0,1.0,2.0,2.0,2.0,1.0,1.0,3.0,2.0,1.0,1.0,1.0,3.0,2.0,2.0,0.0,2.0,2.0,2.0,2.0,3.0,2.0,2.0,2.0,3.0,1.0,3.0,2.0,2.0,2.0,2.0,2.0,3.0,1.0,2.0,2.0,0.0,2.0,2.0,2.0,1.0,3.0,2.0,2.0,2.0,1.0,1.0,2.0,0.0,2.0,2.0,2.0,2.0,2.0,0.0,2.0,2.0,2.0,2.0,2.0,1.0,1.0,0.0,1.0,0.0,2.0,1.0,2.0,2.0,2.0,0.0,2.0,2.0,2.0,2.0,3.0,2.0,2.0,2.0,1.0,1.0,3.0,2.0,2.0,3.0,2.0,2.0,2.0,3.0,1.0,1.0,2.0,1.0,2.0,2.0,1.0,3.0,2.0,2.0,1.0,2.0,1.0,2.0,0.0,1.0,0.0,1.0,1.0,1.0,2.0,2.0,2.0,2.0,2.0,2.0,2.0,1.0,2.0,2.0,2.0,2.0,3.0,1.0,1.0,0.0,2.0,3.0,3.0,1.0,1.0,3.0,2.0,0.0,1.0,2.0,2.0,2.0,2.0,2.0,2.0,3.0,2.0,2.0,1.0,2.0,2.0,2.0,1.0,2.0,2.0,2.0,2.0,3.0,2.0,2.0,3.0,2.0,2.0,2.0,2.0,2.0,2.0,2.0,2.0,1.0,2.0,1.0,2.0,3.0,1.0,2.0,1.0,2.0,1.0,2.0,1.0,2.0,1.0,2.0,2.0,1.0,3.0,2.0,2.0,2.0,2.0,2.0,2.0,1.0,2.0,0.0,2.0,1.0,2.0,1.0,1.0,1.0,2.0,2.0,2.0,2.0,2.0,2.0,3.0,2.0,2.0,1.0,1.0,1.0,3.0,2.0,2.0,1.0,1.0,1.0,3.0,1.0,0.0,2.0,2.0,3.0,3.0,2.0,2.0,2.0,0.0,1.0,2.0,2.0,1.0,1.0,0.0,2.0,2.0,2.0,2.0,3.0,0.0,1.0,1.0,2.0,1.0,1.0,2.0,1.0,2.0,2.0,1.0,2.0,2.0,2.0,2.0,3.0,2.0,2.0,2.0,2.0,2.0,2.0,2.0,3.0,2.0,2.0,3.0,1.0,2.0,2.0,0.0,2.0,2.0,1.0,1.0,1.0,0.0,2.0,2.0,3.0,2.0,3.0,1.0,2.0,3.0,2.0,2.0,4.0,2.0,1.0,2.0,1.0,2.0,3.0,1.0,2.0,2.0,1.0,2.0,1.0,2.0,2.0,3.0,1.0,2.0,2.0,2.0,2.0,2.0,1.0,1.0,1.0,1.0,2.0,2.0,0.0,0.0,1.0,1.0,1.0,2.0,2.0,1.0,3.0,2.0,3.0,1.0,2.0,2.0,2.0,2.0,0.0,1.0,2.0,2.0,2.0,2.0,2.0,3.0,2.0,3.0,2.0,2.0,2.0,3.0,2.0,1.0,2.0,2.0,1.0,2.0,2.0,1.0,2.0,0.0,2.0,2.0,2.0,1.0,1.0,2.0,2.0,2.0,1.0,3.0,3.0,1.0,2.0,2.0,1.0,1.0,2.0,2.0,2.0,2.0,2.0,2.0,2.0,2.0,2.0,0.0,1.0,1.0,2.0,2.0,2.0,3.0,2.0,1.0,1.0,2.0,2.0,1.0,2.0,2.0,2.0,1.0,2.0,1.0,3.0,3.0,2.0,2.0,2.0,2.0,2.0,2.0,2.0,2.0,2.0,3.0,1.0,2.0,3.0,2.0,3.0,1.0,2.0,1.0,2.0,0.0,3.0,0.0,0.0,1.0,2.0,2.0,3.0,2.0,1.0,1.0,2.0,2.0,2.0,0.0,2.0,1.0,4.0,2.0,2.0,2.0,2.0,1.0,2.0,3.0,2.0,0.0,4.0,2.0,2.0,3.0,3.0,2.0,1.0,2.0,2.0,3.0,2.0,2.0,1.0,2.0,2.0,2.0,2.0,1.0,2.0,2.0,1.0,1.0,2.0,3.0,3.0,3.0,1.0,2.0,1.0,2.0,1.0,2.0,2.0,2.0,1.0,1.0,2.0,1.0,3.0,2.0,2.0,3.0,1.0,2.0,3.0,3.0,2.0,1.0,1.0,1.0,1.0,2.0,2.0,3.0,3.0,2.0,2.0,0.0,2.0,2.0,2.0,1.0,2.0,2.0,2.0,3.0,2.0,3.0,1.0,2.0,2.0,2.0,2.0,2.0,1.0,2.0,2.0,1.0,1.0,2.0,2.0,2.0,1.0,2.0,2.0,2.0,2.0,3.0,2.0,2.0,2.0,2.0,3.0,1.0,2.0,1.0,1.0,2.0,1.0,0.0,0.0,3.0,2.0,0.0,2.0,2.0,2.0,1.0,1.0,1.0,1.0,1.0,2.0,2.0,2.0,2.0,2.0,2.0,2.0,2.0,2.0,1.0,1.0,2.0,1.0,3.0,3.0,3.0,3.0,3.0,3.0,2.0,2.0,2.0,2.0,2.0,3.0,3.0,2.0,2.0,2.0,1.0,2.0,3.0,3.0,2.0,2.0,2.0,2.0,2.0,2.0,2.0,3.0,2.0,2.0,2.0,2.0,2.0,2.0,2.0,2.0,2.0,2.0,0.0,2.0,2.0,1.0,2.0,2.0,1.0,1.0,2.0,1.0,1.0,1.0,1.0,2.0,1.0,2.0,2.0,1.0,0.0,2.0,1.0,1.0,1.0,2.0,1.0,2.0,0.0,2.0,1.0,1.0,1.0,1.0,2.0,1.0,1.0,2.0,2.0,1.0,2.0,0.0,1.0,1.0,1.0,0.0,1.0,0.0,2.0,0.0,1.0,1.0,2.0,2.0,2.0,2.0,2.0,1.0,1.0,1.0,1.0,2.0,2.0,2.0,4.0,2.0,2.0,2.0,2.0,1.0,2.0,3.0,2.0,2.0,1.0,1.0,1.0,2.0,1.0,0.0,1.0,2.0,0.0,0.0,1.0,2.0,2.0,2.0,2.0,1.0,1.0,1.0,2.0,3.0,2.0,2.0,3.0,2.0,2.0,2.0,2.0,2.0,1.0,0.0,0.0,1.0,1.0,2.0,2.0,2.0,1.0,2.0,2.0,1.0,2.0,2.0,3.0,2.0,2.0,2.0,2.0,2.0,2.0,2.0,2.0,2.0,2.0,2.0,2.0,2.0,2.0,2.0,2.0,2.0,2.0,2.0,2.0,1.0,2.0,2.0,1.0,1.0,2.0,2.0,2.0,2.0,2.0,1.0,2.0,3.0,3.0,3.0,3.0,3.0,3.0,3.0,3.0,3.0,3.0,2.0,3.0,3.0,3.0,2.0,2.0,2.0,3.0,3.0,2.0,2.0,3.0,2.0,2.0,2.0,2.0,2.0,2.0,2.0,2.0,2.0,3.0,2.0,2.0,2.0,3.0,2.0,3.0,3.0,2.0,2.0,3.0,3.0,3.0,2.0,3.0,2.0,2.0,3.0,2.0,3.0,2.0,3.0,2.0,2.0,2.0,2.0,0.0,2.0,3.0,2.0,0.0,2.0,3.0,2.0,2.0,2.0,2.0,2.0,2.0,2.0,2.0,1.0,1.0,1.0,1.0,3.0,2.0,3.0,2.0,2.0,2.0,2.0,2.0,2.0,2.0,2.0,2.0,2.0,1.0,2.0,1.0,2.0,2.0,2.0,2.0,1.0,3.0,2.0,2.0,2.0,2.0,2.0,1.0,2.0,2.0,2.0,1.0,2.0,1.0,1.0,1.0,1.0,2.0,1.0,2.0,1.0,1.0,1.0,2.0,1.0,1.0,2.0,1.0,1.0,2.0,2.0,0.0,2.0,1.0,3.0,1.0,2.0,2.0,1.0,1.0,2.0,1.0,1.0,1.0,1.0,2.0,2.0,2.0,1.0,1.0,2.0,2.0,0.0,2.0,0.0,0.0,1.0,2.0,1.0,1.0,2.0,1.0,1.0,0.0,1.0,3.0,0.0,1.0,1.0,1.0,1.0,1.0,5.0,2.0,1.0,0.0,1.0,1.0,0.0,1.0,0.0,1.0,1.0,0.0,1.0,1.0,1.0,2.0,1.0,2.0,1.0,0.0,2.0,1.0,1.0,1.0,1.0,2.0,2.0,2.0,2.0,2.0,2.0,2.0,2.0,4.0,4.0,4.0,3.0,3.0,3.0,2.0,2.0,3.0,3.0,2.0,2.0,1.0,2.0,2.0,2.0,2.0,1.0,2.0,3.0,2.0,2.0,2.0,2.0,2.0,2.0,3.0,2.0,1.0,2.0,1.0,1.0,0.0,1.0,1.0,1.0,1.0,2.0,1.0,2.0,1.0,2.0,1.0,2.0,1.0,2.0,2.0,2.0,2.0,2.0,2.0,2.0,1.0,2.0,1.0,3.0,1.0,2.0,2.0,3.0,3.0,2.0,2.0,2.0,3.0,1.0,2.0,1.0,1.0,2.0,2.0,2.0,2.0,2.0,2.0,2.0,2.0,2.0,2.0,2.0,2.0,2.0,3.0,3.0,2.0,2.0,2.0,2.0,2.0,2.0,2.0,2.0,2.0,2.0,4.0,2.0,3.0,2.0,1.0,2.0,1.0,1.0,1.0,2.0,2.0,3.0,3.0,3.0,3.0,4.0,3.0,3.0,3.0,3.0,3.0,3.0,3.0,3.0,2.0,3.0,2.0,2.0,2.0,3.0,3.0,2.0,2.0,2.0,2.0,2.0,2.0,2.0,2.0,2.0,2.0,3.0,3.0,2.0,3.0,3.0,3.0,3.0,3.0,2.0,2.0,3.0,2.0,2.0,2.0,0.0,2.0,2.0,2.0,2.0,2.0,2.0,1.0,1.0,1.0,1.0,2.0,2.0,2.0,2.0,2.0,2.0,2.0,2.0,2.0,2.0,2.0,2.0,2.0,2.0,2.0,2.0,2.0,2.0,3.0,2.0,2.0,2.0,2.0,2.0,2.0,2.0,2.0,2.0,2.0,1.0,2.0,1.0,1.0,2.0,1.0,1.0,2.0,1.0,1.0,2.0,1.0,1.0,2.0,2.0,2.0,1.0,2.0,1.0,1.0,1.0,4.0,2.0,2.0,1.0,2.0,1.0,1.0,2.0,1.0,1.0,0.0,2.0,1.0,1.0,1.0,2.0,1.0,1.0,1.0,0.0,2.0,1.0,0.0,2.0,1.0,0.0,3.0,1.0,0.0,2.0,1.0,1.0,2.0,0.0,2.0,2.0,1.0,1.0,1.0,1.0,1.0,1.0,1.0,1.0,2.0,1.0,1.0,1.0,1.0,1.0,1.0,1.0,2.0,2.0,2.0,1.0,1.0,2.0,1.0,2.0,2.0,2.0,1.0,2.0,0.0,1.0,2.0,2.0,1.0,2.0,1.0,2.0,2.0,1.0,2.0,2.0,3.0,3.0,2.0,1.0,0.0,1.0,0.0,1.0,2.0,2.0,2.0,2.0,2.0,3.0,3.0,3.0,3.0,2.0,2.0,2.0,2.0,2.0,2.0,2.0,2.0,2.0,2.0,3.0,3.0,2.0,2.0,2.0,3.0,2.0,3.0,2.0,1.0,2.0,2.0,2.0,2.0,2.0,0.0,0.0,0.0,0.0,0.0,1.0,1.0,1.0,1.0,2.0,1.0,2.0,1.0,2.0,1.0,1.0,1.0,2.0,2.0,2.0,2.0,1.0,1.0,0.0,1.0,1.0,1.0,2.0,1.0,1.0,1.0,2.0,2.0,3.0,3.0,2.0,2.0,2.0,3.0,2.0,2.0,3.0,2.0,2.0,2.0,2.0,2.0,3.0,4.0,0.0,2.0,3.0,2.0,1.0,1.0,1.0,1.0,0.0,1.0,1.0,2.0,1.0,2.0,2.0,2.0,2.0,2.0,2.0,2.0,2.0,2.0,2.0,2.0,3.0,3.0,3.0,2.0,2.0,3.0,2.0,2.0,2.0,2.0,2.0,2.0,2.0,2.0,2.0,2.0,1.0,1.0,2.0,2.0,1.0,1.0,1.0,1.0,3.0,3.0,3.0,3.0,3.0,3.0,3.0,3.0,3.0,2.0,3.0,3.0,3.0,3.0,3.0,3.0,2.0,3.0,2.0,2.0,2.0,2.0,2.0,2.0,2.0,2.0,2.0,2.0,2.0,3.0,2.0,2.0,2.0,2.0,3.0,2.0,2.0,2.0,2.0,2.0,2.0,2.0,2.0,2.0,3.0,3.0,3.0,3.0,2.0,3.0,2.0,3.0,2.0,3.0,2.0,2.0,2.0,3.0,3.0,2.0,2.0,2.0,2.0,3.0,2.0,3.0,3.0,0.0,0.0,2.0,2.0,2.0,1.0,1.0,2.0,2.0,2.0,2.0,2.0,2.0,2.0,2.0,2.0,2.0,2.0,2.0,2.0,2.0,2.0,2.0,2.0,2.0,2.0,2.0,2.0,2.0,2.0,2.0,2.0,1.0,1.0,3.0,2.0,2.0,2.0,1.0,2.0,2.0,2.0,1.0,2.0,2.0,0.0,0.0,1.0,1.0,3.0,2.0,2.0,1.0,1.0,2.0,1.0,2.0,1.0,1.0,1.0,1.0,2.0,2.0,1.0,1.0,1.0,1.0,1.0,1.0,0.0,1.0,3.0,2.0,0.0,1.0,1.0,1.0,1.0,1.0,1.0,1.0,1.0,1.0,1.0,1.0,2.0,2.0,1.0,1.0,2.0,2.0,1.0,2.0,2.0,1.0,2.0,2.0,1.0,2.0,1.0,1.0,1.0,1.0,1.0,1.0,1.0,2.0,1.0,1.0,2.0,1.0,2.0,2.0,2.0,1.0,1.0,2.0,1.0,2.0,2.0,1.0,2.0,1.0,1.0,2.0,2.0,2.0,1.0,2.0,1.0,2.0,1.0,1.0,2.0,1.0,2.0,1.0,2.0,2.0,2.0,2.0,1.0,2.0,1.0,1.0,1.0,1.0,1.0,1.0,1.0,2.0,2.0,3.0,3.0,3.0,3.0,2.0,2.0,2.0,2.0,2.0,2.0,2.0,1.0,1.0,2.0,2.0,2.0,2.0,2.0,2.0,2.0,2.0,1.0,2.0,2.0,2.0,2.0,2.0,2.0,2.0,2.0,2.0,2.0,2.0,2.0,2.0,2.0,2.0,1.0,2.0,2.0,2.0,2.0,2.0,2.0,3.0,2.0,1.0,0.0,0.0,1.0,1.0,2.0,0.0,1.0,1.0,1.0,1.0,1.0,2.0,2.0,1.0,2.0,2.0,2.0,2.0,2.0,2.0,2.0,2.0,2.0,0.0,null,1.0,1.0,0.0,2.0,1.0,2.0,2.0,3.0,2.0,2.0,1.0,2.0,2.0,2.0,2.0,2.0,2.0,2.0,3.0,2.0,2.0,3.0,4.0,2.0,1.0,1.0,0.0,1.0,2.0,2.0,2.0,2.0,0.0,1.0,2.0,1.0,1.0,2.0,1.0,3.0,2.0,2.0,2.0,2.0,2.0,2.0,3.0,2.0,2.0,2.0,3.0,3.0,3.0,3.0,3.0,2.0,3.0,2.0,2.0,2.0,2.0,2.0,2.0,2.0,2.0,2.0,2.0,1.0,1.0,1.0,2.0,1.0,1.0,2.0,3.0,3.0,3.0,3.0,3.0,2.0,2.0,3.0,3.0,3.0,3.0,3.0,2.0,3.0,2.0,2.0,2.0,2.0,3.0,2.0,2.0,2.0,2.0,2.0,2.0,2.0,3.0,3.0,3.0,3.0,3.0,3.0,3.0,3.0,2.0,3.0,2.0,2.0,3.0,2.0,0.0,2.0,0.0,2.0,2.0,2.0,2.0,2.0,2.0,2.0,2.0,2.0,2.0,1.0,1.0,2.0,1.0,0.0,1.0,2.0,3.0,2.0,2.0,2.0,2.0,1.0,2.0,2.0,2.0,2.0,2.0,2.0,1.0,1.0,1.0,1.0,2.0,2.0,1.0,1.0,1.0,2.0,1.0,1.0,1.0,1.0,2.0,2.0,2.0,1.0,2.0,1.0,1.0,1.0,1.0,2.0,2.0,1.0,1.0,1.0,3.0,2.0,3.0,2.0,1.0,2.0,1.0,2.0,2.0,1.0,1.0,2.0,2.0,2.0,1.0,2.0,0.0,1.0,2.0,1.0,0.0,2.0,1.0,1.0,2.0,2.0,1.0,2.0,1.0,1.0,1.0,1.0,2.0,2.0,1.0,1.0,1.0,2.0,0.0,2.0,0.0,1.0,1.0,1.0,1.0,2.0,2.0,1.0,0.0,1.0,1.0,2.0,2.0,1.0,1.0,1.0,2.0,1.0,1.0,2.0,2.0,2.0,2.0,1.0,2.0,2.0,2.0,1.0,2.0,1.0,3.0,2.0,2.0,2.0,1.0,1.0,2.0,4.0,3.0,2.0,2.0,3.0,2.0,2.0,2.0,2.0,2.0,2.0,2.0,2.0,2.0,1.0,3.0,1.0,2.0,2.0,2.0,2.0,3.0,2.0,3.0,2.0,2.0,2.0,2.0,2.0,2.0,2.0,0.0,1.0,2.0,0.0,2.0,2.0,2.0,1.0,2.0,1.0,2.0,0.0,1.0,1.0,1.0,1.0,1.0,1.0,1.0,1.0,1.0,1.0,1.0,2.0,3.0,2.0,1.0,1.0,2.0,0.0,1.0,1.0,0.0,0.0,0.0,2.0,2.0,2.0,2.0,2.0,2.0,2.0,2.0,3.0,3.0,1.0,4.0,1.0,1.0,3.0,0.0,1.0,1.0,1.0,0.0,0.0,1.0,2.0,0.0,3.0],\"yaxis\":\"y\",\"type\":\"scattergl\"}],                        {\"template\":{\"data\":{\"bar\":[{\"error_x\":{\"color\":\"#2a3f5f\"},\"error_y\":{\"color\":\"#2a3f5f\"},\"marker\":{\"line\":{\"color\":\"#E5ECF6\",\"width\":0.5},\"pattern\":{\"fillmode\":\"overlay\",\"size\":10,\"solidity\":0.2}},\"type\":\"bar\"}],\"barpolar\":[{\"marker\":{\"line\":{\"color\":\"#E5ECF6\",\"width\":0.5},\"pattern\":{\"fillmode\":\"overlay\",\"size\":10,\"solidity\":0.2}},\"type\":\"barpolar\"}],\"carpet\":[{\"aaxis\":{\"endlinecolor\":\"#2a3f5f\",\"gridcolor\":\"white\",\"linecolor\":\"white\",\"minorgridcolor\":\"white\",\"startlinecolor\":\"#2a3f5f\"},\"baxis\":{\"endlinecolor\":\"#2a3f5f\",\"gridcolor\":\"white\",\"linecolor\":\"white\",\"minorgridcolor\":\"white\",\"startlinecolor\":\"#2a3f5f\"},\"type\":\"carpet\"}],\"choropleth\":[{\"colorbar\":{\"outlinewidth\":0,\"ticks\":\"\"},\"type\":\"choropleth\"}],\"contour\":[{\"colorbar\":{\"outlinewidth\":0,\"ticks\":\"\"},\"colorscale\":[[0.0,\"#0d0887\"],[0.1111111111111111,\"#46039f\"],[0.2222222222222222,\"#7201a8\"],[0.3333333333333333,\"#9c179e\"],[0.4444444444444444,\"#bd3786\"],[0.5555555555555556,\"#d8576b\"],[0.6666666666666666,\"#ed7953\"],[0.7777777777777778,\"#fb9f3a\"],[0.8888888888888888,\"#fdca26\"],[1.0,\"#f0f921\"]],\"type\":\"contour\"}],\"contourcarpet\":[{\"colorbar\":{\"outlinewidth\":0,\"ticks\":\"\"},\"type\":\"contourcarpet\"}],\"heatmap\":[{\"colorbar\":{\"outlinewidth\":0,\"ticks\":\"\"},\"colorscale\":[[0.0,\"#0d0887\"],[0.1111111111111111,\"#46039f\"],[0.2222222222222222,\"#7201a8\"],[0.3333333333333333,\"#9c179e\"],[0.4444444444444444,\"#bd3786\"],[0.5555555555555556,\"#d8576b\"],[0.6666666666666666,\"#ed7953\"],[0.7777777777777778,\"#fb9f3a\"],[0.8888888888888888,\"#fdca26\"],[1.0,\"#f0f921\"]],\"type\":\"heatmap\"}],\"heatmapgl\":[{\"colorbar\":{\"outlinewidth\":0,\"ticks\":\"\"},\"colorscale\":[[0.0,\"#0d0887\"],[0.1111111111111111,\"#46039f\"],[0.2222222222222222,\"#7201a8\"],[0.3333333333333333,\"#9c179e\"],[0.4444444444444444,\"#bd3786\"],[0.5555555555555556,\"#d8576b\"],[0.6666666666666666,\"#ed7953\"],[0.7777777777777778,\"#fb9f3a\"],[0.8888888888888888,\"#fdca26\"],[1.0,\"#f0f921\"]],\"type\":\"heatmapgl\"}],\"histogram\":[{\"marker\":{\"pattern\":{\"fillmode\":\"overlay\",\"size\":10,\"solidity\":0.2}},\"type\":\"histogram\"}],\"histogram2d\":[{\"colorbar\":{\"outlinewidth\":0,\"ticks\":\"\"},\"colorscale\":[[0.0,\"#0d0887\"],[0.1111111111111111,\"#46039f\"],[0.2222222222222222,\"#7201a8\"],[0.3333333333333333,\"#9c179e\"],[0.4444444444444444,\"#bd3786\"],[0.5555555555555556,\"#d8576b\"],[0.6666666666666666,\"#ed7953\"],[0.7777777777777778,\"#fb9f3a\"],[0.8888888888888888,\"#fdca26\"],[1.0,\"#f0f921\"]],\"type\":\"histogram2d\"}],\"histogram2dcontour\":[{\"colorbar\":{\"outlinewidth\":0,\"ticks\":\"\"},\"colorscale\":[[0.0,\"#0d0887\"],[0.1111111111111111,\"#46039f\"],[0.2222222222222222,\"#7201a8\"],[0.3333333333333333,\"#9c179e\"],[0.4444444444444444,\"#bd3786\"],[0.5555555555555556,\"#d8576b\"],[0.6666666666666666,\"#ed7953\"],[0.7777777777777778,\"#fb9f3a\"],[0.8888888888888888,\"#fdca26\"],[1.0,\"#f0f921\"]],\"type\":\"histogram2dcontour\"}],\"mesh3d\":[{\"colorbar\":{\"outlinewidth\":0,\"ticks\":\"\"},\"type\":\"mesh3d\"}],\"parcoords\":[{\"line\":{\"colorbar\":{\"outlinewidth\":0,\"ticks\":\"\"}},\"type\":\"parcoords\"}],\"pie\":[{\"automargin\":true,\"type\":\"pie\"}],\"scatter\":[{\"marker\":{\"colorbar\":{\"outlinewidth\":0,\"ticks\":\"\"}},\"type\":\"scatter\"}],\"scatter3d\":[{\"line\":{\"colorbar\":{\"outlinewidth\":0,\"ticks\":\"\"}},\"marker\":{\"colorbar\":{\"outlinewidth\":0,\"ticks\":\"\"}},\"type\":\"scatter3d\"}],\"scattercarpet\":[{\"marker\":{\"colorbar\":{\"outlinewidth\":0,\"ticks\":\"\"}},\"type\":\"scattercarpet\"}],\"scattergeo\":[{\"marker\":{\"colorbar\":{\"outlinewidth\":0,\"ticks\":\"\"}},\"type\":\"scattergeo\"}],\"scattergl\":[{\"marker\":{\"colorbar\":{\"outlinewidth\":0,\"ticks\":\"\"}},\"type\":\"scattergl\"}],\"scattermapbox\":[{\"marker\":{\"colorbar\":{\"outlinewidth\":0,\"ticks\":\"\"}},\"type\":\"scattermapbox\"}],\"scatterpolar\":[{\"marker\":{\"colorbar\":{\"outlinewidth\":0,\"ticks\":\"\"}},\"type\":\"scatterpolar\"}],\"scatterpolargl\":[{\"marker\":{\"colorbar\":{\"outlinewidth\":0,\"ticks\":\"\"}},\"type\":\"scatterpolargl\"}],\"scatterternary\":[{\"marker\":{\"colorbar\":{\"outlinewidth\":0,\"ticks\":\"\"}},\"type\":\"scatterternary\"}],\"surface\":[{\"colorbar\":{\"outlinewidth\":0,\"ticks\":\"\"},\"colorscale\":[[0.0,\"#0d0887\"],[0.1111111111111111,\"#46039f\"],[0.2222222222222222,\"#7201a8\"],[0.3333333333333333,\"#9c179e\"],[0.4444444444444444,\"#bd3786\"],[0.5555555555555556,\"#d8576b\"],[0.6666666666666666,\"#ed7953\"],[0.7777777777777778,\"#fb9f3a\"],[0.8888888888888888,\"#fdca26\"],[1.0,\"#f0f921\"]],\"type\":\"surface\"}],\"table\":[{\"cells\":{\"fill\":{\"color\":\"#EBF0F8\"},\"line\":{\"color\":\"white\"}},\"header\":{\"fill\":{\"color\":\"#C8D4E3\"},\"line\":{\"color\":\"white\"}},\"type\":\"table\"}]},\"layout\":{\"annotationdefaults\":{\"arrowcolor\":\"#2a3f5f\",\"arrowhead\":0,\"arrowwidth\":1},\"autotypenumbers\":\"strict\",\"coloraxis\":{\"colorbar\":{\"outlinewidth\":0,\"ticks\":\"\"}},\"colorscale\":{\"diverging\":[[0,\"#8e0152\"],[0.1,\"#c51b7d\"],[0.2,\"#de77ae\"],[0.3,\"#f1b6da\"],[0.4,\"#fde0ef\"],[0.5,\"#f7f7f7\"],[0.6,\"#e6f5d0\"],[0.7,\"#b8e186\"],[0.8,\"#7fbc41\"],[0.9,\"#4d9221\"],[1,\"#276419\"]],\"sequential\":[[0.0,\"#0d0887\"],[0.1111111111111111,\"#46039f\"],[0.2222222222222222,\"#7201a8\"],[0.3333333333333333,\"#9c179e\"],[0.4444444444444444,\"#bd3786\"],[0.5555555555555556,\"#d8576b\"],[0.6666666666666666,\"#ed7953\"],[0.7777777777777778,\"#fb9f3a\"],[0.8888888888888888,\"#fdca26\"],[1.0,\"#f0f921\"]],\"sequentialminus\":[[0.0,\"#0d0887\"],[0.1111111111111111,\"#46039f\"],[0.2222222222222222,\"#7201a8\"],[0.3333333333333333,\"#9c179e\"],[0.4444444444444444,\"#bd3786\"],[0.5555555555555556,\"#d8576b\"],[0.6666666666666666,\"#ed7953\"],[0.7777777777777778,\"#fb9f3a\"],[0.8888888888888888,\"#fdca26\"],[1.0,\"#f0f921\"]]},\"colorway\":[\"#636efa\",\"#EF553B\",\"#00cc96\",\"#ab63fa\",\"#FFA15A\",\"#19d3f3\",\"#FF6692\",\"#B6E880\",\"#FF97FF\",\"#FECB52\"],\"font\":{\"color\":\"#2a3f5f\"},\"geo\":{\"bgcolor\":\"white\",\"lakecolor\":\"white\",\"landcolor\":\"#E5ECF6\",\"showlakes\":true,\"showland\":true,\"subunitcolor\":\"white\"},\"hoverlabel\":{\"align\":\"left\"},\"hovermode\":\"closest\",\"mapbox\":{\"style\":\"light\"},\"paper_bgcolor\":\"white\",\"plot_bgcolor\":\"#E5ECF6\",\"polar\":{\"angularaxis\":{\"gridcolor\":\"white\",\"linecolor\":\"white\",\"ticks\":\"\"},\"bgcolor\":\"#E5ECF6\",\"radialaxis\":{\"gridcolor\":\"white\",\"linecolor\":\"white\",\"ticks\":\"\"}},\"scene\":{\"xaxis\":{\"backgroundcolor\":\"#E5ECF6\",\"gridcolor\":\"white\",\"gridwidth\":2,\"linecolor\":\"white\",\"showbackground\":true,\"ticks\":\"\",\"zerolinecolor\":\"white\"},\"yaxis\":{\"backgroundcolor\":\"#E5ECF6\",\"gridcolor\":\"white\",\"gridwidth\":2,\"linecolor\":\"white\",\"showbackground\":true,\"ticks\":\"\",\"zerolinecolor\":\"white\"},\"zaxis\":{\"backgroundcolor\":\"#E5ECF6\",\"gridcolor\":\"white\",\"gridwidth\":2,\"linecolor\":\"white\",\"showbackground\":true,\"ticks\":\"\",\"zerolinecolor\":\"white\"}},\"shapedefaults\":{\"line\":{\"color\":\"#2a3f5f\"}},\"ternary\":{\"aaxis\":{\"gridcolor\":\"white\",\"linecolor\":\"white\",\"ticks\":\"\"},\"baxis\":{\"gridcolor\":\"white\",\"linecolor\":\"white\",\"ticks\":\"\"},\"bgcolor\":\"#E5ECF6\",\"caxis\":{\"gridcolor\":\"white\",\"linecolor\":\"white\",\"ticks\":\"\"}},\"title\":{\"x\":0.05},\"xaxis\":{\"automargin\":true,\"gridcolor\":\"white\",\"linecolor\":\"white\",\"ticks\":\"\",\"title\":{\"standoff\":15},\"zerolinecolor\":\"white\",\"zerolinewidth\":2},\"yaxis\":{\"automargin\":true,\"gridcolor\":\"white\",\"linecolor\":\"white\",\"ticks\":\"\",\"title\":{\"standoff\":15},\"zerolinecolor\":\"white\",\"zerolinewidth\":2}}},\"xaxis\":{\"anchor\":\"y\",\"domain\":[0.0,1.0],\"title\":{\"text\":\"GarageArea\"}},\"yaxis\":{\"anchor\":\"x\",\"domain\":[0.0,1.0],\"title\":{\"text\":\"GarageCars\"}},\"legend\":{\"tracegroupgap\":0},\"margin\":{\"t\":60},\"height\":400,\"width\":400},                        {\"responsive\": true}                    ).then(function(){\n",
              "                            \n",
              "var gd = document.getElementById('f0e24bab-148b-45d4-a902-6930122ef33e');\n",
              "var x = new MutationObserver(function (mutations, observer) {{\n",
              "        var display = window.getComputedStyle(gd).display;\n",
              "        if (!display || display === 'none') {{\n",
              "            console.log([gd, 'removed!']);\n",
              "            Plotly.purge(gd);\n",
              "            observer.disconnect();\n",
              "        }}\n",
              "}});\n",
              "\n",
              "// Listen for the removal of the full notebook cells\n",
              "var notebookContainer = gd.closest('#notebook-container');\n",
              "if (notebookContainer) {{\n",
              "    x.observe(notebookContainer, {childList: true});\n",
              "}}\n",
              "\n",
              "// Listen for the clearing of the current output cell\n",
              "var outputEl = gd.closest('.output');\n",
              "if (outputEl) {{\n",
              "    x.observe(outputEl, {childList: true});\n",
              "}}\n",
              "\n",
              "                        })                };                            </script>        </div>\n",
              "</body>\n",
              "</html>"
            ]
          },
          "metadata": {}
        }
      ]
    },
    {
      "cell_type": "markdown",
      "source": [
        "Procedure: \n",
        "  - Train the model (GarageCars ~ GarageArea) without 'NA' observations in 'GarageCars'\n",
        "  - Predict on NA observations in GarageCars with the model\n",
        "  - Replace NA by predicted values"
      ],
      "metadata": {
        "id": "zKWpL-KIg46K"
      }
    },
    {
      "cell_type": "code",
      "source": [
        "# NA <- Prediction value by predictive model with relevant variable\n",
        "\n",
        "from sklearn.linear_model import LogisticRegression\n",
        "# Train\n",
        "X = all_features.loc[~all_features['GarageCars'].isnull(), 'GarageArea'].values.reshape(-1,1)\n",
        "y = all_features.loc[~all_features['GarageCars'].isnull(), 'GarageCars'].values\n",
        "reg = LogisticRegression(penalty='none', max_iter=1000)\n",
        "reg.fit(X, y)\n",
        "# Prediction\n",
        "pred = reg.predict(all_features.loc[all_features['GarageCars'].isnull(), 'GarageArea'].values.reshape(-1,1))\n",
        "# Replace NA by prediction value\n",
        "all_features.loc[all_features['GarageCars'].isnull(), 'GarageCars'] = pred.astype('int64')"
      ],
      "metadata": {
        "id": "T-6u2zBbkgPu"
      },
      "execution_count": null,
      "outputs": []
    },
    {
      "cell_type": "markdown",
      "source": [
        "#### >> Replace NA by values of the another (closely related) variable\n",
        "\n",
        "When 'GarageYrBlt' is 'NaN', we can infer that garage does not exist in that house. \n",
        "\n",
        "Furthermore, below table shows that every house with 'GarageYrBlt' = NaN has 'GarageType' = None"
      ],
      "metadata": {
        "id": "Z34sqQwWJe9p"
      }
    },
    {
      "cell_type": "code",
      "execution_count": null,
      "metadata": {
        "id": "CcRf8Fqj2VFZ",
        "colab": {
          "base_uri": "https://localhost:8080/",
          "height": 206
        },
        "outputId": "c9f13583-45fd-4255-d21a-679e2b2a28b4"
      },
      "outputs": [
        {
          "output_type": "execute_result",
          "data": {
            "text/html": [
              "\n",
              "  <div id=\"df-ae57589c-e72f-4e34-b9c1-cc61a0e6f1d5\">\n",
              "    <div class=\"colab-df-container\">\n",
              "      <div>\n",
              "<style scoped>\n",
              "    .dataframe tbody tr th:only-of-type {\n",
              "        vertical-align: middle;\n",
              "    }\n",
              "\n",
              "    .dataframe tbody tr th {\n",
              "        vertical-align: top;\n",
              "    }\n",
              "\n",
              "    .dataframe thead th {\n",
              "        text-align: right;\n",
              "    }\n",
              "</style>\n",
              "<table border=\"1\" class=\"dataframe\">\n",
              "  <thead>\n",
              "    <tr style=\"text-align: right;\">\n",
              "      <th></th>\n",
              "      <th>GarageType</th>\n",
              "      <th>GarageYrBlt</th>\n",
              "      <th>GarageFinish</th>\n",
              "      <th>GarageCars</th>\n",
              "      <th>GarageArea</th>\n",
              "      <th>GarageQual</th>\n",
              "      <th>GarageCond</th>\n",
              "    </tr>\n",
              "  </thead>\n",
              "  <tbody>\n",
              "    <tr>\n",
              "      <th>39</th>\n",
              "      <td>None</td>\n",
              "      <td>NaN</td>\n",
              "      <td>None</td>\n",
              "      <td>0.0</td>\n",
              "      <td>0.0</td>\n",
              "      <td>None</td>\n",
              "      <td>None</td>\n",
              "    </tr>\n",
              "    <tr>\n",
              "      <th>48</th>\n",
              "      <td>None</td>\n",
              "      <td>NaN</td>\n",
              "      <td>None</td>\n",
              "      <td>0.0</td>\n",
              "      <td>0.0</td>\n",
              "      <td>None</td>\n",
              "      <td>None</td>\n",
              "    </tr>\n",
              "    <tr>\n",
              "      <th>78</th>\n",
              "      <td>None</td>\n",
              "      <td>NaN</td>\n",
              "      <td>None</td>\n",
              "      <td>0.0</td>\n",
              "      <td>0.0</td>\n",
              "      <td>None</td>\n",
              "      <td>None</td>\n",
              "    </tr>\n",
              "    <tr>\n",
              "      <th>88</th>\n",
              "      <td>None</td>\n",
              "      <td>NaN</td>\n",
              "      <td>None</td>\n",
              "      <td>0.0</td>\n",
              "      <td>0.0</td>\n",
              "      <td>None</td>\n",
              "      <td>None</td>\n",
              "    </tr>\n",
              "    <tr>\n",
              "      <th>89</th>\n",
              "      <td>None</td>\n",
              "      <td>NaN</td>\n",
              "      <td>None</td>\n",
              "      <td>0.0</td>\n",
              "      <td>0.0</td>\n",
              "      <td>None</td>\n",
              "      <td>None</td>\n",
              "    </tr>\n",
              "  </tbody>\n",
              "</table>\n",
              "</div>\n",
              "      <button class=\"colab-df-convert\" onclick=\"convertToInteractive('df-ae57589c-e72f-4e34-b9c1-cc61a0e6f1d5')\"\n",
              "              title=\"Convert this dataframe to an interactive table.\"\n",
              "              style=\"display:none;\">\n",
              "        \n",
              "  <svg xmlns=\"http://www.w3.org/2000/svg\" height=\"24px\"viewBox=\"0 0 24 24\"\n",
              "       width=\"24px\">\n",
              "    <path d=\"M0 0h24v24H0V0z\" fill=\"none\"/>\n",
              "    <path d=\"M18.56 5.44l.94 2.06.94-2.06 2.06-.94-2.06-.94-.94-2.06-.94 2.06-2.06.94zm-11 1L8.5 8.5l.94-2.06 2.06-.94-2.06-.94L8.5 2.5l-.94 2.06-2.06.94zm10 10l.94 2.06.94-2.06 2.06-.94-2.06-.94-.94-2.06-.94 2.06-2.06.94z\"/><path d=\"M17.41 7.96l-1.37-1.37c-.4-.4-.92-.59-1.43-.59-.52 0-1.04.2-1.43.59L10.3 9.45l-7.72 7.72c-.78.78-.78 2.05 0 2.83L4 21.41c.39.39.9.59 1.41.59.51 0 1.02-.2 1.41-.59l7.78-7.78 2.81-2.81c.8-.78.8-2.07 0-2.86zM5.41 20L4 18.59l7.72-7.72 1.47 1.35L5.41 20z\"/>\n",
              "  </svg>\n",
              "      </button>\n",
              "      \n",
              "  <style>\n",
              "    .colab-df-container {\n",
              "      display:flex;\n",
              "      flex-wrap:wrap;\n",
              "      gap: 12px;\n",
              "    }\n",
              "\n",
              "    .colab-df-convert {\n",
              "      background-color: #E8F0FE;\n",
              "      border: none;\n",
              "      border-radius: 50%;\n",
              "      cursor: pointer;\n",
              "      display: none;\n",
              "      fill: #1967D2;\n",
              "      height: 32px;\n",
              "      padding: 0 0 0 0;\n",
              "      width: 32px;\n",
              "    }\n",
              "\n",
              "    .colab-df-convert:hover {\n",
              "      background-color: #E2EBFA;\n",
              "      box-shadow: 0px 1px 2px rgba(60, 64, 67, 0.3), 0px 1px 3px 1px rgba(60, 64, 67, 0.15);\n",
              "      fill: #174EA6;\n",
              "    }\n",
              "\n",
              "    [theme=dark] .colab-df-convert {\n",
              "      background-color: #3B4455;\n",
              "      fill: #D2E3FC;\n",
              "    }\n",
              "\n",
              "    [theme=dark] .colab-df-convert:hover {\n",
              "      background-color: #434B5C;\n",
              "      box-shadow: 0px 1px 3px 1px rgba(0, 0, 0, 0.15);\n",
              "      filter: drop-shadow(0px 1px 2px rgba(0, 0, 0, 0.3));\n",
              "      fill: #FFFFFF;\n",
              "    }\n",
              "  </style>\n",
              "\n",
              "      <script>\n",
              "        const buttonEl =\n",
              "          document.querySelector('#df-ae57589c-e72f-4e34-b9c1-cc61a0e6f1d5 button.colab-df-convert');\n",
              "        buttonEl.style.display =\n",
              "          google.colab.kernel.accessAllowed ? 'block' : 'none';\n",
              "\n",
              "        async function convertToInteractive(key) {\n",
              "          const element = document.querySelector('#df-ae57589c-e72f-4e34-b9c1-cc61a0e6f1d5');\n",
              "          const dataTable =\n",
              "            await google.colab.kernel.invokeFunction('convertToInteractive',\n",
              "                                                     [key], {});\n",
              "          if (!dataTable) return;\n",
              "\n",
              "          const docLinkHtml = 'Like what you see? Visit the ' +\n",
              "            '<a target=\"_blank\" href=https://colab.research.google.com/notebooks/data_table.ipynb>data table notebook</a>'\n",
              "            + ' to learn more about interactive tables.';\n",
              "          element.innerHTML = '';\n",
              "          dataTable['output_type'] = 'display_data';\n",
              "          await google.colab.output.renderOutput(dataTable, element);\n",
              "          const docLink = document.createElement('div');\n",
              "          docLink.innerHTML = docLinkHtml;\n",
              "          element.appendChild(docLink);\n",
              "        }\n",
              "      </script>\n",
              "    </div>\n",
              "  </div>\n",
              "  "
            ],
            "text/plain": [
              "   GarageType  GarageYrBlt GarageFinish  ...  GarageArea  GarageQual GarageCond\n",
              "39       None          NaN         None  ...         0.0        None       None\n",
              "48       None          NaN         None  ...         0.0        None       None\n",
              "78       None          NaN         None  ...         0.0        None       None\n",
              "88       None          NaN         None  ...         0.0        None       None\n",
              "89       None          NaN         None  ...         0.0        None       None\n",
              "\n",
              "[5 rows x 7 columns]"
            ]
          },
          "metadata": {},
          "execution_count": 68
        }
      ],
      "source": [
        "all_features.loc[all_features['GarageYrBlt'].isnull(),all_features.columns.str.startswith('Garage')].head()"
      ]
    },
    {
      "cell_type": "markdown",
      "source": [
        "But we can not replace NaN values in 'GarageYrBlt' to 0!\n",
        "\n",
        "Since it represents the information of 'year'.\n",
        "When 'GarageYrBlt'=0, it means that this garage was constructed in 'year 0' which is non-sense.\n",
        "\n",
        "Thus I suggest the alternative way which focuses on the relationship between 'GarageYrBlt' and 'YearBuilt'.\n",
        "Below plot shows there exists a linear relationship between them.\n",
        "\n",
        "So we will replace the NA value in 'GarageYrBlt' to the value of 'YearBuilt' for each observation"
      ],
      "metadata": {
        "id": "YHNu2xw7KOb8"
      }
    },
    {
      "cell_type": "code",
      "source": [
        "px.scatter(all_features, x='GarageYrBlt', y='YearBuilt', width=600, height=400)"
      ],
      "metadata": {
        "colab": {
          "base_uri": "https://localhost:8080/",
          "height": 417
        },
        "id": "nb9U1owLn83M",
        "outputId": "2ff91b6a-6b55-49c9-9351-d31ec4215646"
      },
      "execution_count": null,
      "outputs": [
        {
          "output_type": "display_data",
          "data": {
            "text/html": [
              "<html>\n",
              "<head><meta charset=\"utf-8\" /></head>\n",
              "<body>\n",
              "    <div>            <script src=\"https://cdnjs.cloudflare.com/ajax/libs/mathjax/2.7.5/MathJax.js?config=TeX-AMS-MML_SVG\"></script><script type=\"text/javascript\">if (window.MathJax) {MathJax.Hub.Config({SVG: {font: \"STIX-Web\"}});}</script>                <script type=\"text/javascript\">window.PlotlyConfig = {MathJaxConfig: 'local'};</script>\n",
              "        <script src=\"https://cdn.plot.ly/plotly-2.8.3.min.js\"></script>                <div id=\"5db43ba5-3d97-4877-b289-8774f93f65de\" class=\"plotly-graph-div\" style=\"height:400px; width:600px;\"></div>            <script type=\"text/javascript\">                                    window.PLOTLYENV=window.PLOTLYENV || {};                                    if (document.getElementById(\"5db43ba5-3d97-4877-b289-8774f93f65de\")) {                    Plotly.newPlot(                        \"5db43ba5-3d97-4877-b289-8774f93f65de\",                        [{\"hovertemplate\":\"GarageYrBlt=%{x}<br>YearBuilt=%{y}<extra></extra>\",\"legendgroup\":\"\",\"marker\":{\"color\":\"#636efa\",\"symbol\":\"circle\"},\"mode\":\"markers\",\"name\":\"\",\"showlegend\":false,\"x\":[2003.0,1976.0,2001.0,1998.0,2000.0,1993.0,2004.0,1973.0,1931.0,1939.0,1965.0,2005.0,1962.0,2006.0,1960.0,1991.0,1970.0,1967.0,2004.0,1958.0,2005.0,1930.0,2002.0,1976.0,1968.0,2007.0,2005.0,2008.0,1957.0,1920.0,1920.0,1966.0,2007.0,1959.0,2005.0,2004.0,1995.0,1954.0,1953.0,null,1965.0,1959.0,1983.0,1977.0,1959.0,2005.0,2003.0,2006.0,null,1966.0,1997.0,1985.0,1963.0,1981.0,1962.0,1964.0,1999.0,2004.0,2006.0,1973.0,2006.0,1935.0,2006.0,1990.0,1998.0,2004.0,1970.0,2003.0,1945.0,1953.0,1973.0,1987.0,1998.0,1989.0,1915.0,1973.0,1956.0,1948.0,null,1966.0,1968.0,1998.0,2007.0,1974.0,1995.0,1991.0,2005.0,2009.0,null,null,1950.0,1961.0,1921.0,1900.0,1997.0,1993.0,1999.0,1965.0,1920.0,null,1977.0,1985.0,1979.0,2009.0,1951.0,2003.0,1954.0,1948.0,null,1977.0,1954.0,2000.0,2007.0,1953.0,1945.0,1999.0,1962.0,2007.0,1990.0,2005.0,1969.0,1979.0,1958.0,1993.0,1979.0,null,1977.0,null,1966.0,1998.0,1966.0,2000.0,1974.0,2001.0,1968.0,1970.0,1967.0,1989.0,1999.0,1997.0,null,2005.0,2000.0,1999.0,1963.0,2004.0,1931.0,2001.0,null,1936.0,1975.0,2007.0,1971.0,1960.0,1923.0,null,1950.0,2009.0,2004.0,2006.0,1984.0,2003.0,2005.0,null,1926.0,null,1955.0,2007.0,2004.0,1981.0,1991.0,1960.0,1987.0,1961.0,1986.0,1950.0,1988.0,1958.0,2009.0,1935.0,2000.0,1920.0,1957.0,2003.0,1986.0,1993.0,1990.0,1916.0,1979.0,2001.0,1932.0,1972.0,1999.0,2004.0,1989.0,1976.0,2007.0,1918.0,null,2004.0,2003.0,1980.0,1924.0,2004.0,1948.0,1990.0,1962.0,1960.0,1988.0,1964.0,null,2009.0,2009.0,1996.0,1977.0,1957.0,2004.0,1940.0,1939.0,2005.0,2006.0,2002.0,1975.0,1989.0,2003.0,1991.0,1995.0,1987.0,1974.0,2005.0,1959.0,1995.0,1972.0,1976.0,2002.0,1971.0,2004.0,1993.0,2007.0,1949.0,2008.0,null,1940.0,1980.0,1994.0,1988.0,1910.0,1954.0,2003.0,1958.0,null,2006.0,2004.0,1964.0,1957.0,1999.0,2003.0,2006.0,2001.0,1956.0,1991.0,2007.0,1978.0,1974.0,1965.0,1981.0,1997.0,1939.0,1966.0,1987.0,2006.0,1954.0,1999.0,1958.0,1982.0,1978.0,2003.0,1951.0,2007.0,1977.0,1989.0,2006.0,2008.0,2008.0,1992.0,2006.0,1962.0,null,1970.0,2003.0,2006.0,null,1949.0,1977.0,1953.0,1984.0,1950.0,1997.0,1968.0,1950.0,1953.0,1998.0,2001.0,1975.0,2003.0,2004.0,1990.0,null,1961.0,2003.0,1993.0,1948.0,1939.0,1965.0,1925.0,2004.0,1983.0,2006.0,1993.0,1980.0,2006.0,2004.0,1987.0,1955.0,1961.0,1941.0,1993.0,1960.0,1930.0,1920.0,2002.0,1958.0,2003.0,2004.0,1998.0,1965.0,2005.0,2002.0,1984.0,1958.0,2002.0,1950.0,1949.0,2005.0,1976.0,1939.0,1960.0,1960.0,2003.0,2006.0,2007.0,1986.0,1941.0,2005.0,1940.0,1995.0,1992.0,1976.0,1958.0,1998.0,1978.0,1940.0,2003.0,1972.0,1976.0,1964.0,1963.0,1962.0,1954.0,1997.0,2000.0,1991.0,1984.0,1953.0,2003.0,null,1998.0,2004.0,2010.0,2000.0,1924.0,2006.0,2006.0,1950.0,1992.0,2004.0,null,1977.0,1999.0,2008.0,1978.0,2001.0,1959.0,null,1940.0,1956.0,1985.0,1962.0,1920.0,2007.0,1996.0,2005.0,1940.0,1998.0,1995.0,1993.0,1936.0,1960.0,2006.0,2008.0,1958.0,1955.0,2009.0,1927.0,1993.0,2007.0,1978.0,1918.0,1940.0,1968.0,1997.0,1977.0,1954.0,1998.0,1956.0,1947.0,1989.0,1964.0,2007.0,1988.0,1971.0,null,1971.0,1997.0,null,1996.0,1990.0,1926.0,1990.0,2005.0,2008.0,null,1930.0,2007.0,1994.0,1956.0,1966.0,1998.0,1937.0,1981.0,1932.0,1975.0,1996.0,2008.0,1976.0,1973.0,1916.0,1954.0,1925.0,1950.0,2009.0,1971.0,1965.0,1939.0,null,2004.0,1970.0,1942.0,2006.0,1993.0,1985.0,1977.0,2005.0,2006.0,2000.0,1996.0,1997.0,2006.0,2007.0,1995.0,2004.0,2003.0,1915.0,1998.0,1963.0,1950.0,1965.0,1971.0,1970.0,1970.0,1976.0,1941.0,2006.0,1964.0,1938.0,null,1992.0,1925.0,1967.0,1958.0,1973.0,2005.0,1965.0,1959.0,1974.0,1952.0,1993.0,2009.0,1928.0,1959.0,1951.0,2005.0,1964.0,1983.0,1926.0,2009.0,1972.0,1996.0,1998.0,1926.0,null,1957.0,1950.0,2007.0,1996.0,2005.0,1956.0,2008.0,null,1975.0,1988.0,1920.0,1967.0,null,2004.0,null,1998.0,1980.0,1968.0,2001.0,2006.0,2000.0,1998.0,1998.0,2006.0,1988.0,1950.0,1987.0,1963.0,2003.0,1977.0,1957.0,2006.0,2002.0,2003.0,1922.0,1957.0,1994.0,1996.0,2003.0,1957.0,1975.0,null,1955.0,1992.0,1920.0,2005.0,2004.0,1983.0,1979.0,1987.0,1959.0,2009.0,2000.0,1971.0,1947.0,1928.0,1966.0,2007.0,1954.0,1960.0,2009.0,null,1988.0,1935.0,2005.0,1961.0,1996.0,1968.0,1988.0,2004.0,2008.0,1985.0,2003.0,1981.0,2005.0,1930.0,2006.0,1977.0,1980.0,2003.0,1979.0,1992.0,2004.0,2002.0,1965.0,2000.0,1948.0,1934.0,1961.0,2000.0,1978.0,2001.0,null,null,1963.0,2002.0,1962.0,2007.0,2003.0,null,1974.0,1986.0,2000.0,1972.0,1962.0,1960.0,1955.0,1969.0,1964.0,1937.0,2006.0,1977.0,1954.0,1980.0,null,null,1954.0,null,2006.0,2003.0,2001.0,1972.0,1969.0,2009.0,1979.0,1950.0,1953.0,1966.0,null,2007.0,1940.0,1996.0,1906.0,1995.0,1971.0,1959.0,1931.0,1948.0,1968.0,1976.0,1994.0,1968.0,1974.0,2005.0,2000.0,1965.0,1994.0,1999.0,1922.0,2005.0,1930.0,1977.0,1957.0,1965.0,1978.0,1920.0,1924.0,2008.0,1963.0,1980.0,1968.0,1996.0,2002.0,1998.0,1984.0,2007.0,2004.0,2007.0,2005.0,2004.0,1994.0,1989.0,1968.0,1995.0,1987.0,1921.0,1952.0,1973.0,2004.0,2002.0,1969.0,2006.0,1999.0,2004.0,null,1971.0,2006.0,2007.0,1966.0,null,1964.0,1988.0,1970.0,1976.0,1974.0,1996.0,1973.0,1993.0,1969.0,1985.0,2004.0,1994.0,1958.0,2007.0,1989.0,1988.0,2007.0,1968.0,1962.0,1995.0,2003.0,1998.0,1961.0,1968.0,1914.0,1949.0,2005.0,null,2004.0,1910.0,1962.0,2000.0,1997.0,1993.0,1994.0,2000.0,1950.0,1996.0,1945.0,null,2003.0,1997.0,2005.0,1969.0,1999.0,2007.0,1978.0,1999.0,1995.0,2008.0,1965.0,2009.0,1999.0,1995.0,2008.0,1988.0,1989.0,2004.0,2003.0,1983.0,1951.0,1976.0,1958.0,2006.0,1998.0,2005.0,1974.0,1977.0,1977.0,1995.0,1992.0,2001.0,1978.0,null,1967.0,1961.0,2004.0,1954.0,1966.0,2005.0,1976.0,1997.0,2007.0,1994.0,1980.0,1977.0,1953.0,2009.0,1939.0,1997.0,1957.0,2005.0,2009.0,1954.0,2008.0,1967.0,1923.0,1966.0,1910.0,1974.0,2004.0,1952.0,1958.0,1955.0,1998.0,1954.0,2002.0,1971.0,2010.0,2003.0,1974.0,2003.0,1940.0,2006.0,2007.0,null,2001.0,1967.0,2005.0,1957.0,2005.0,2003.0,1964.0,1961.0,1996.0,1948.0,1973.0,1999.0,1946.0,1934.0,1983.0,1966.0,null,1949.0,1975.0,1993.0,1972.0,1908.0,1976.0,2003.0,2003.0,1941.0,1964.0,1955.0,1962.0,1981.0,1994.0,1976.0,1968.0,1925.0,1965.0,1986.0,1959.0,2008.0,1973.0,2007.0,1961.0,1979.0,1993.0,1962.0,1998.0,1953.0,1949.0,1941.0,2007.0,1963.0,2004.0,1987.0,1978.0,2005.0,1990.0,1993.0,1997.0,1967.0,1999.0,2005.0,1955.0,1970.0,1953.0,2003.0,1978.0,1963.0,1954.0,1979.0,1963.0,1936.0,1979.0,2009.0,1961.0,1979.0,1968.0,2003.0,2006.0,1967.0,1954.0,2006.0,1936.0,1983.0,2005.0,1960.0,1978.0,1925.0,1949.0,2009.0,1970.0,1958.0,1956.0,1991.0,1990.0,1994.0,null,2005.0,1993.0,1980.0,1977.0,2003.0,1968.0,2001.0,1997.0,2007.0,1965.0,2006.0,2004.0,1960.0,1953.0,2003.0,2005.0,2006.0,1940.0,1976.0,1999.0,null,1967.0,1958.0,1963.0,1959.0,2002.0,2002.0,1972.0,1980.0,1979.0,1974.0,1969.0,null,1946.0,1980.0,1977.0,2003.0,1999.0,null,1977.0,1976.0,2007.0,2002.0,2005.0,1940.0,1955.0,null,1958.0,null,2003.0,1979.0,2007.0,1997.0,2000.0,null,2007.0,1999.0,1963.0,1961.0,1998.0,2007.0,2002.0,1977.0,1950.0,1950.0,2010.0,1976.0,2006.0,1997.0,1925.0,1964.0,2005.0,2008.0,1946.0,1961.0,1970.0,1922.0,2006.0,1956.0,1920.0,2006.0,1976.0,2005.0,1977.0,1970.0,1970.0,2004.0,null,1948.0,null,1923.0,1956.0,1948.0,2001.0,1996.0,1984.0,1991.0,2005.0,2005.0,2006.0,1957.0,2005.0,1976.0,1980.0,1960.0,2008.0,1941.0,1972.0,null,1970.0,1993.0,2002.0,1938.0,1957.0,2008.0,2001.0,null,1970.0,1957.0,1966.0,2005.0,1990.0,1981.0,1955.0,2005.0,1996.0,1960.0,1946.0,2007.0,2007.0,1964.0,1957.0,2002.0,1976.0,2005.0,1994.0,2008.0,1977.0,2001.0,1994.0,1945.0,1976.0,1966.0,1996.0,1993.0,1964.0,1973.0,1985.0,1956.0,1968.0,1954.0,1977.0,2006.0,1940.0,1950.0,1969.0,2004.0,1996.0,1971.0,1963.0,2002.0,1964.0,1995.0,1992.0,1973.0,2005.0,2004.0,2005.0,1987.0,1999.0,1925.0,1977.0,1956.0,2006.0,null,1987.0,1936.0,1978.0,1930.0,1981.0,1960.0,1954.0,1970.0,1994.0,1990.0,2006.0,2000.0,2004.0,1995.0,1976.0,1957.0,1953.0,1955.0,2007.0,2002.0,1967.0,1958.0,1959.0,1920.0,2005.0,1956.0,null,1992.0,1977.0,2007.0,2004.0,2004.0,1980.0,1981.0,null,1930.0,1995.0,1997.0,1926.0,1950.0,null,1977.0,1972.0,1988.0,1976.0,2006.0,null,1941.0,1928.0,1985.0,1941.0,1982.0,1930.0,1950.0,1959.0,1956.0,2002.0,1965.0,1976.0,1965.0,2008.0,2008.0,1974.0,1978.0,1993.0,1968.0,1969.0,1978.0,2009.0,2008.0,2000.0,1935.0,1995.0,1977.0,1958.0,2006.0,null,1932.0,1992.0,1984.0,1926.0,1921.0,null,1990.0,2008.0,1996.0,1970.0,1963.0,1965.0,1920.0,1994.0,2002.0,1999.0,1975.0,1999.0,1925.0,1999.0,1969.0,2005.0,2006.0,1916.0,2001.0,1974.0,1972.0,1998.0,1960.0,2000.0,1975.0,1990.0,1966.0,2003.0,1980.0,2006.0,1992.0,1988.0,1941.0,1965.0,1962.0,1966.0,1978.0,2009.0,null,null,1964.0,1968.0,1949.0,1951.0,2004.0,1958.0,2007.0,1992.0,2008.0,1960.0,1977.0,1962.0,1962.0,1959.0,null,1914.0,2003.0,2004.0,2005.0,2006.0,2003.0,2007.0,1974.0,2006.0,1931.0,1984.0,2005.0,1976.0,1950.0,1950.0,1968.0,2003.0,1968.0,1974.0,2003.0,1978.0,1994.0,null,2005.0,1969.0,1999.0,1956.0,1957.0,1940.0,1998.0,1999.0,1960.0,2009.0,1982.0,1958.0,1979.0,1968.0,1965.0,1959.0,1985.0,1948.0,1972.0,1967.0,2002.0,1980.0,2002.0,1990.0,1977.0,null,1969.0,1939.0,1963.0,1964.0,2000.0,2006.0,1964.0,1972.0,1985.0,1976.0,1957.0,1968.0,1963.0,2005.0,2008.0,1959.0,1999.0,1942.0,1994.0,2005.0,2004.0,2006.0,2005.0,2000.0,1948.0,1991.0,1959.0,2005.0,1990.0,1999.0,1956.0,1969.0,2008.0,2006.0,2001.0,1954.0,1957.0,1955.0,1992.0,null,2007.0,null,null,1982.0,1920.0,1998.0,2006.0,1976.0,1958.0,1951.0,1970.0,1977.0,1973.0,null,2002.0,1972.0,1974.0,2004.0,2002.0,1929.0,2006.0,1997.0,1968.0,2006.0,1998.0,null,1969.0,1962.0,1999.0,1996.0,2000.0,1968.0,1966.0,1971.0,2000.0,2004.0,1998.0,2005.0,1920.0,2007.0,2005.0,2000.0,1999.0,1977.0,2003.0,2003.0,1967.0,1955.0,1998.0,2001.0,2005.0,2007.0,1925.0,1977.0,1973.0,2007.0,1938.0,1970.0,1989.0,2007.0,1939.0,1922.0,1978.0,1916.0,2006.0,2003.0,2000.0,1967.0,1967.0,2003.0,2006.0,2005.0,1966.0,1933.0,1950.0,1925.0,1929.0,2004.0,2006.0,2007.0,1998.0,2004.0,1988.0,null,1966.0,1986.0,2001.0,1950.0,1956.0,2005.0,1922.0,2007.0,1971.0,1998.0,1962.0,1969.0,1968.0,1977.0,2003.0,1966.0,1970.0,1960.0,1994.0,1962.0,1940.0,1981.0,2005.0,1976.0,1928.0,2000.0,1977.0,1962.0,1974.0,2008.0,1957.0,1979.0,1993.0,2004.0,2008.0,1916.0,2004.0,1990.0,1962.0,1995.0,1950.0,null,null,2008.0,2005.0,null,2004.0,1999.0,1978.0,1941.0,1950.0,1965.0,1961.0,1958.0,1997.0,1998.0,1992.0,1993.0,1992.0,1998.0,1990.0,1970.0,1999.0,1971.0,1997.0,1975.0,1975.0,2009.0,2009.0,2005.0,2005.0,2003.0,2002.0,2006.0,2005.0,2006.0,2004.0,2004.0,1998.0,2005.0,2009.0,2005.0,2004.0,1920.0,1974.0,1993.0,1992.0,2004.0,2004.0,2004.0,2004.0,2005.0,2000.0,2003.0,2010.0,2000.0,2002.0,1967.0,1993.0,1978.0,1971.0,1966.0,1966.0,1967.0,1964.0,null,1994.0,1949.0,1966.0,1958.0,2003.0,1959.0,1959.0,1956.0,1956.0,1952.0,1955.0,1958.0,1989.0,1950.0,1960.0,1963.0,1900.0,null,1957.0,1938.0,1948.0,1962.0,1928.0,1930.0,2003.0,null,1970.0,1950.0,1928.0,1926.0,1939.0,1973.0,1942.0,1948.0,1979.0,1930.0,1923.0,1915.0,null,1920.0,1959.0,1917.0,null,1940.0,null,1910.0,null,1966.0,1969.0,1978.0,1968.0,1977.0,1945.0,1978.0,1938.0,1987.0,1947.0,1954.0,2009.0,1964.0,1987.0,2000.0,2009.0,1957.0,1998.0,1997.0,1977.0,1977.0,2003.0,1997.0,2003.0,1945.0,1954.0,1968.0,1956.0,1975.0,null,1979.0,1939.0,null,null,1941.0,1950.0,1994.0,1989.0,1989.0,1951.0,1950.0,1896.0,2004.0,1998.0,1977.0,1976.0,2008.0,2010.0,2007.0,1965.0,2004.0,2001.0,1973.0,null,null,1972.0,1971.0,1984.0,1985.0,1993.0,1969.0,1994.0,1993.0,1956.0,1974.0,1997.0,2003.0,1996.0,2004.0,1998.0,1995.0,1998.0,1998.0,1994.0,1993.0,1977.0,1978.0,1978.0,1980.0,1978.0,2003.0,2000.0,2002.0,1975.0,1974.0,1975.0,1970.0,1971.0,2001.0,1986.0,1973.0,1972.0,1976.0,1975.0,1977.0,1978.0,1978.0,1976.0,1966.0,2007.0,2009.0,2008.0,2007.0,2008.0,2004.0,2007.0,2008.0,2006.0,2008.0,2003.0,2003.0,2003.0,2006.0,2005.0,2005.0,2008.0,2004.0,2003.0,2008.0,2008.0,2002.0,2003.0,2005.0,2005.0,2005.0,2004.0,2004.0,2004.0,2003.0,2003.0,2002.0,2004.0,2000.0,1999.0,1999.0,1999.0,2000.0,1994.0,1995.0,1993.0,2008.0,2008.0,2007.0,2006.0,2005.0,2008.0,2008.0,2008.0,2006.0,2006.0,2009.0,2006.0,2003.0,2003.0,2007.0,2006.0,null,2004.0,2004.0,2005.0,null,2004.0,2008.0,1997.0,1992.0,1990.0,1994.0,1986.0,1981.0,1969.0,1982.0,1961.0,1965.0,1963.0,1962.0,1980.0,1991.0,2004.0,2008.0,2008.0,2000.0,1999.0,1977.0,1981.0,1976.0,1974.0,1967.0,1969.0,1969.0,1977.0,1967.0,1967.0,1974.0,1971.0,1988.0,1960.0,1982.0,1956.0,1961.0,1964.0,1965.0,1961.0,1955.0,1967.0,1961.0,1966.0,1956.0,1960.0,1959.0,1956.0,1955.0,1956.0,1958.0,1954.0,1951.0,1945.0,1952.0,1953.0,1948.0,1950.0,1958.0,1939.0,1940.0,1987.0,1954.0,2008.0,null,1980.0,1959.0,1969.0,1963.0,1967.0,1985.0,1957.0,1958.0,1989.0,1958.0,1952.0,1959.0,1949.0,1994.0,1964.0,1978.0,1963.0,1920.0,1920.0,1959.0,null,1939.0,null,null,1950.0,1920.0,1965.0,1963.0,1974.0,1930.0,1917.0,null,1920.0,1950.0,null,1923.0,1955.0,1924.0,1926.0,1938.0,1982.0,1930.0,1915.0,null,1927.0,1915.0,null,1927.0,null,1915.0,1946.0,null,1960.0,1934.0,1984.0,1978.0,1961.0,1960.0,1956.0,null,1980.0,1956.0,1946.0,1954.0,1984.0,1990.0,1983.0,1993.0,1900.0,1979.0,1979.0,1979.0,1979.0,2000.0,2000.0,2000.0,2009.0,2008.0,2008.0,2007.0,2007.0,2008.0,2005.0,2005.0,1992.0,1995.0,1998.0,1998.0,2002.0,2001.0,1978.0,1979.0,2002.0,2003.0,2002.0,2001.0,1999.0,2002.0,1997.0,2007.0,2007.0,1968.0,2005.0,1959.0,1950.0,null,1956.0,1940.0,1938.0,1926.0,1916.0,1918.0,1961.0,1960.0,1940.0,1954.0,1960.0,1949.0,1954.0,1980.0,1980.0,1980.0,1986.0,1971.0,1998.0,1940.0,2007.0,1975.0,2000.0,1977.0,1977.0,1991.0,2008.0,2008.0,1980.0,1987.0,2003.0,2007.0,1968.0,1969.0,1998.0,1993.0,1998.0,2001.0,1969.0,1997.0,1995.0,1998.0,1996.0,1996.0,1997.0,1992.0,1998.0,1991.0,1989.0,2005.0,2004.0,1952.0,2007.0,1950.0,1988.0,1983.0,1978.0,1979.0,1976.0,1980.0,1969.0,1978.0,1976.0,1996.0,1982.0,1969.0,1977.0,1973.0,1975.0,1972.0,1975.0,1977.0,2007.0,2007.0,2007.0,2006.0,2005.0,2005.0,2007.0,2004.0,2003.0,2003.0,2001.0,2003.0,2008.0,2005.0,2008.0,2007.0,2007.0,2003.0,2003.0,2004.0,2007.0,2004.0,2002.0,2003.0,2008.0,2000.0,2002.0,1999.0,1999.0,1997.0,2000.0,1998.0,1996.0,1995.0,1993.0,2006.0,2007.0,2007.0,2006.0,2008.0,2007.0,2008.0,2003.0,2003.0,null,2007.0,1995.0,1993.0,1994.0,2001.0,1992.0,1963.0,1962.0,1970.0,1963.0,1974.0,1972.0,1990.0,1993.0,2004.0,2005.0,2007.0,1999.0,2000.0,2001.0,2001.0,1999.0,1999.0,2001.0,1999.0,2000.0,1998.0,1995.0,1977.0,1976.0,2002.0,1969.0,1968.0,1967.0,1965.0,1968.0,1978.0,1987.0,1971.0,1956.0,1961.0,1960.0,1937.0,1960.0,1950.0,1953.0,1966.0,1957.0,1959.0,1958.0,1956.0,1952.0,1971.0,1953.0,1957.0,1957.0,1958.0,1948.0,1932.0,1997.0,1968.0,1990.0,1958.0,1960.0,1972.0,1959.0,1962.0,1994.0,1954.0,1954.0,null,1955.0,1954.0,1963.0,2008.0,1948.0,1910.0,1950.0,1915.0,null,1958.0,1920.0,null,1940.0,1930.0,null,1959.0,1949.0,null,1950.0,1935.0,1961.0,1930.0,null,1920.0,1950.0,1959.0,1959.0,1992.0,1945.0,1950.0,1941.0,1926.0,1940.0,1924.0,2004.0,1939.0,1926.0,1920.0,1946.0,1990.0,1925.0,1939.0,1960.0,1970.0,null,1910.0,1930.0,1952.0,1938.0,1950.0,1993.0,1985.0,1997.0,null,1947.0,1996.0,1978.0,1967.0,1978.0,1967.0,1984.0,1920.0,1963.0,1956.0,1960.0,1973.0,1979.0,1979.0,1948.0,null,1956.0,null,1962.0,1995.0,1994.0,1993.0,1996.0,2007.0,2007.0,2008.0,2008.0,1995.0,1966.0,1997.0,1997.0,1997.0,2000.0,2000.0,1978.0,1985.0,1975.0,2001.0,2001.0,2002.0,2003.0,1999.0,2004.0,1998.0,2004.0,2007.0,2007.0,1966.0,1976.0,1991.0,1977.0,1976.0,1959.0,null,null,null,null,null,1953.0,1954.0,1923.0,1921.0,1930.0,2001.0,1994.0,1925.0,1980.0,1937.0,1938.0,1951.0,1935.0,1994.0,1956.0,1980.0,1926.0,1940.0,null,1967.0,1934.0,1958.0,1952.0,1895.0,1910.0,1920.0,2007.0,2004.0,1996.0,1996.0,1976.0,1991.0,1986.0,2007.0,2007.0,2007.0,2008.0,1989.0,1986.0,2003.0,1999.0,2007.0,2005.0,1997.0,null,1997.0,1964.0,1975.0,1976.0,1973.0,1973.0,1968.0,null,1983.0,1982.0,1984.0,1900.0,1971.0,1997.0,1994.0,2000.0,1996.0,1999.0,1992.0,1993.0,1964.0,1988.0,1990.0,2005.0,2005.0,1969.0,2006.0,2006.0,2007.0,1984.0,1981.0,1978.0,1979.0,1984.0,1979.0,1971.0,1976.0,1974.0,1988.0,1970.0,1961.0,2001.0,1997.0,1973.0,1973.0,1978.0,1974.0,2007.0,2006.0,2007.0,2007.0,2006.0,2005.0,2007.0,2005.0,2007.0,2007.0,2007.0,2006.0,2004.0,2003.0,2007.0,2005.0,2005.0,2006.0,2005.0,2005.0,2005.0,2006.0,2005.0,2006.0,2003.0,2007.0,2005.0,2007.0,2006.0,2007.0,2005.0,2007.0,2007.0,2007.0,2003.0,2007.0,2004.0,2004.0,2006.0,2003.0,2003.0,2002.0,2000.0,1999.0,1998.0,1998.0,1998.0,1998.0,1992.0,1996.0,2007.0,2007.0,2006.0,2007.0,2007.0,2005.0,2005.0,2006.0,2006.0,2007.0,2007.0,2007.0,2007.0,2007.0,2007.0,2006.0,2004.0,null,null,2004.0,2006.0,1993.0,1980.0,1979.0,1991.0,1990.0,1974.0,1973.0,2004.0,2006.0,2006.0,2006.0,2007.0,1999.0,2000.0,1999.0,2003.0,1998.0,1994.0,1980.0,1981.0,1968.0,1970.0,1969.0,1968.0,1972.0,1993.0,1993.0,1966.0,1963.0,1967.0,1964.0,1966.0,1961.0,1985.0,1965.0,1966.0,1965.0,1964.0,1964.0,1959.0,1975.0,null,null,1963.0,1955.0,1968.0,1966.0,1961.0,1957.0,1964.0,1994.0,1960.0,1957.0,1957.0,1955.0,1955.0,1962.0,1958.0,1952.0,1953.0,1956.0,2002.0,1955.0,1953.0,1952.0,null,1953.0,2007.0,1978.0,null,1963.0,1961.0,1968.0,1950.0,1959.0,1958.0,1960.0,1965.0,1961.0,1962.0,1962.0,1981.0,1980.0,1922.0,1920.0,1940.0,2000.0,1930.0,1935.0,1992.0,1927.0,1920.0,1979.0,2004.0,1950.0,1956.0,1957.0,1969.0,1950.0,1939.0,1939.0,1939.0,1968.0,1939.0,1930.0,1926.0,1950.0,1977.0,1965.0,1979.0,1920.0,1920.0,1963.0,1950.0,2006.0,1958.0,1910.0,1937.0,1942.0,1963.0,1964.0,1964.0,1970.0,1966.0,1989.0,1968.0,1972.0,1966.0,1956.0,1946.0,1940.0,1954.0,1958.0,1952.0,1984.0,1996.0,1953.0,1946.0,1954.0,1954.0,1958.0,1958.0,1984.0,1951.0,1951.0,1920.0,1984.0,1994.0,2007.0,2006.0,2007.0,2005.0,2005.0,2005.0,2005.0,1988.0,1976.0,1995.0,1997.0,1995.0,1996.0,1999.0,1998.0,2001.0,2000.0,1974.0,1979.0,1977.0,1977.0,1977.0,1975.0,1977.0,1975.0,2000.0,2003.0,2002.0,1994.0,2001.0,1996.0,1999.0,2007.0,2005.0,2006.0,2006.0,2005.0,1967.0,2002.0,1975.0,1960.0,1976.0,1979.0,2005.0,2008.0,2005.0,1959.0,null,null,1920.0,1959.0,1996.0,null,1973.0,1994.0,1930.0,1992.0,1926.0,1927.0,1951.0,1930.0,1966.0,1960.0,1968.0,1980.0,1996.0,1988.0,1971.0,1986.0,1965.0,null,null,1922.0,1950.0,null,1985.0,1930.0,2006.0,1979.0,2002.0,2002.0,1991.0,1975.0,1974.0,1987.0,1958.0,2007.0,2207.0,1985.0,2001.0,2002.0,1996.0,2003.0,2006.0,1953.0,1996.0,1972.0,1970.0,null,1976.0,1977.0,1977.0,1977.0,1977.0,null,1961.0,1976.0,1983.0,1984.0,1954.0,1956.0,1957.0,1957.0,1969.0,1997.0,1995.0,1996.0,2005.0,2006.0,1994.0,1993.0,1987.0,2005.0,2006.0,2006.0,2006.0,2005.0,2005.0,2005.0,1980.0,1978.0,1976.0,2005.0,1975.0,1974.0,1995.0,2002.0,1973.0,1973.0,1973.0,1972.0,1972.0,1975.0,1974.0,1976.0,1976.0,2006.0,2004.0,2006.0,2005.0,2005.0,2005.0,2005.0,2006.0,2005.0,2005.0,2004.0,2004.0,2005.0,2006.0,2006.0,2005.0,2006.0,2006.0,2004.0,2006.0,2006.0,2002.0,2004.0,2005.0,2004.0,2000.0,2006.0,1998.0,2000.0,2000.0,1995.0,1993.0,1994.0,1993.0,2005.0,2006.0,2006.0,2006.0,2006.0,2005.0,null,2005.0,null,2005.0,2005.0,1997.0,1992.0,1990.0,1991.0,1994.0,1977.0,1977.0,1972.0,1965.0,1968.0,1990.0,1965.0,null,1967.0,1974.0,1992.0,2004.0,2005.0,2000.0,2003.0,1997.0,2001.0,1972.0,1967.0,1968.0,1968.0,1968.0,1968.0,1966.0,1967.0,1965.0,1964.0,1964.0,1960.0,1949.0,1947.0,1961.0,1952.0,1951.0,1949.0,1954.0,1967.0,1964.0,1963.0,1957.0,1958.0,1956.0,1956.0,1954.0,1952.0,1951.0,1993.0,1956.0,1955.0,1951.0,1941.0,2001.0,1977.0,1953.0,1936.0,1967.0,1900.0,1974.0,1935.0,1963.0,1962.0,1961.0,1959.0,1962.0,1950.0,1950.0,null,1961.0,1962.0,1962.0,null,1900.0,1948.0,1920.0,1956.0,1985.0,1930.0,1993.0,1995.0,1925.0,1952.0,1930.0,1976.0,1976.0,1921.0,1945.0,1938.0,1910.0,null,2002.0,null,1943.0,1930.0,1930.0,1925.0,1962.0,1924.0,2001.0,null,1930.0,1951.0,1964.0,1950.0,1939.0,1936.0,2004.0,1967.0,1964.0,1966.0,1967.0,1979.0,1977.0,1977.0,1924.0,1967.0,1993.0,1973.0,1980.0,1954.0,1942.0,1928.0,1993.0,1962.0,2002.0,1955.0,1953.0,1989.0,1993.0,2005.0,2005.0,2006.0,2005.0,2005.0,2005.0,2005.0,1968.0,1996.0,1995.0,1998.0,1999.0,1999.0,1977.0,1989.0,1977.0,2002.0,1999.0,2002.0,2002.0,1999.0,1997.0,1998.0,1995.0,2003.0,2003.0,2006.0,2005.0,2005.0,1950.0,null,1969.0,2003.0,null,2003.0,2005.0,2004.0,1948.0,1974.0,1924.0,1956.0,null,1922.0,1910.0,1938.0,1945.0,1926.0,1920.0,1919.0,1939.0,1941.0,1937.0,1940.0,1963.0,1963.0,1930.0,1950.0,1942.0,1950.0,null,1925.0,1957.0,null,null,null,2005.0,2004.0,1979.0,1978.0,2001.0,1975.0,1958.0,2000.0,2005.0,2005.0,1951.0,1997.0,1977.0,1968.0,1970.0,null,1972.0,1969.0,1970.0,null,null,1970.0,1960.0,null,1993.0],\"xaxis\":\"x\",\"y\":[2003,1976,2001,1915,2000,1993,2004,1973,1931,1939,1965,2005,1962,2006,1960,1929,1970,1967,2004,1958,2005,1930,2002,1976,1968,2007,1951,2007,1957,1927,1920,1966,2007,1959,2005,2004,1994,1954,1953,1955,1965,1959,1983,1975,1959,2005,2003,2006,1920,1966,1997,1934,1963,1981,1955,1964,1999,2004,2006,1972,2004,1920,2006,1921,1997,2004,1970,2003,1945,1953,1973,1982,1998,1954,1915,1973,1956,1948,1968,1910,1968,1998,2007,1960,1995,1991,2005,2009,1915,1994,1950,1961,1921,1910,1997,1993,1999,1965,1920,1959,1977,1985,1979,2009,1931,2003,1885,1948,1919,1977,1954,2000,2007,1953,1945,1999,1962,2006,1990,2005,1969,1939,1958,1993,1979,1935,1976,1930,1966,1958,1966,2000,1959,2001,1968,1970,1967,1988,1999,1997,1971,2005,1952,1999,1963,2004,1931,2001,2004,1936,1975,2007,1971,1960,1923,1924,1950,2009,2004,2005,1984,2003,2005,1956,1926,1940,1955,2007,2004,1981,1941,1960,1987,1961,1986,1950,1988,1958,2008,1923,2000,1920,1957,2003,1908,1892,1990,1916,1979,2001,1932,1972,1999,2004,1972,1976,2007,1918,1912,2004,2003,1977,1924,2004,1947,1990,1962,1960,1988,1964,1925,2009,2009,1995,1977,1957,2004,1925,1939,2005,2006,2002,1975,1971,2003,1971,1995,1970,1967,2005,1959,1995,1972,1976,2002,1971,2004,1993,2007,1945,2008,1945,1900,1980,1994,1988,1910,1954,2003,1958,1940,2006,2004,1964,1957,1999,2003,2006,2001,1956,1962,2007,1977,1929,1925,1981,1997,1939,1940,1976,2006,1954,1999,1958,1982,1925,2003,1951,2006,1977,1989,2006,2007,2008,1992,2006,1962,1971,1967,1915,2006,1912,1949,1977,1953,1984,1950,1997,1968,1950,1953,1998,2001,1972,1880,2004,1990,1920,1940,2003,1993,1948,1939,1965,1925,2004,1980,2006,1993,1980,2006,2004,1986,1955,1967,1941,1993,1960,1916,1920,1964,1958,2003,2004,1998,1965,2005,2002,1984,1958,2002,1950,1949,2005,1976,1939,1960,1960,2003,2005,2007,1986,1941,1928,1940,1995,1992,1976,1958,1998,1978,1940,2003,1972,1976,1920,1963,1962,1954,1959,2000,1959,1984,1953,2003,1922,1996,2004,2010,2000,1924,2006,2006,1928,1992,2004,1910,1976,1999,2007,1900,2001,1959,1941,1940,1956,1972,1962,1920,2006,1996,2005,1940,1998,1995,1976,1936,1915,2006,2007,1958,1955,2009,1927,1993,2007,1978,1918,1940,1968,1997,1977,1954,1998,1956,1946,1989,1957,2007,1988,1971,1920,1971,1997,1972,1996,1920,1926,1913,1920,2008,1955,1930,2006,1994,1956,1966,1998,1937,1948,1930,1975,1996,2008,1976,1973,1916,1954,1925,1950,2009,1936,1965,1934,1978,2004,1970,1942,2006,1993,1985,1977,2005,2006,2000,1963,1997,2006,2007,1937,2004,2003,1915,1998,1962,1950,1965,1971,1900,1970,1976,1941,2006,1960,1938,1920,1992,1925,1967,1958,1973,2005,1965,1959,1974,1952,1993,2009,1928,1959,1951,2005,1958,1983,1926,2009,1972,1996,1998,1926,1900,1957,1947,2007,1996,2005,1956,2008,1920,1957,1988,1920,1955,1946,2004,1910,1998,1972,1968,2001,2006,2000,1998,1998,2006,1988,1923,1970,1955,2003,1977,1957,2006,1949,2003,1922,1957,1920,1996,2003,1957,1974,1940,1918,1992,1915,2005,2004,1983,1979,1965,1959,2009,2000,1971,1947,1928,1966,2007,1954,1960,2008,1990,1893,1935,2005,1918,1982,1968,1930,2004,2008,1982,2003,1975,2005,1910,2006,1977,1980,2005,1937,1992,2004,2002,1965,1996,1948,1934,1961,2000,1978,2001,2007,1972,1963,2002,1954,2007,2003,1914,1974,1977,2000,1972,1962,1960,1955,1969,1964,1880,2006,1977,1954,1980,1914,1936,1954,1910,2006,2003,2001,1972,1969,2009,1971,1950,1953,1966,1970,2007,1940,1996,1906,1995,1971,1959,1931,1948,1964,1976,1994,1968,1972,2005,2000,1965,1994,1956,1922,2005,1925,1977,1957,1965,1978,1900,1924,2008,1961,1980,1932,1996,2002,1998,1984,2007,2004,2007,2005,2004,1994,1989,1921,1936,1987,1921,1952,1965,2004,2002,1969,2006,1900,2004,1930,1971,2006,2007,1966,1935,1900,1988,1970,1976,1974,1890,1973,1993,1969,1985,2004,1970,1954,2007,1970,1988,2007,1958,1925,1995,2003,1998,1961,1968,1914,1950,2005,1987,2004,1910,1961,2000,1963,1993,1976,2000,1880,1996,1945,1910,2003,1997,2005,1969,1999,2007,1978,1999,1995,1959,1924,2009,1999,1995,2008,1988,1940,2004,2003,1982,1951,1976,1958,2006,1998,2005,1974,1977,1977,1995,1992,2001,1978,1914,1967,1915,2004,1954,1966,2005,1976,1996,2007,1994,1980,1977,1953,2008,1937,1997,1916,2005,2008,1954,2008,1967,1923,1966,1898,1974,2004,1952,1958,1918,1998,1954,2002,1971,2009,2003,1953,2003,1940,2006,2007,1924,2001,1967,2005,1957,2005,2003,1964,1961,1950,1948,1973,1995,1946,1925,1904,1966,1961,1915,1975,1993,1972,1908,1976,2003,2003,1941,1964,1955,1962,1978,1994,1976,1968,1918,1965,1984,1959,2007,1970,2006,1961,1948,1993,1962,1998,1953,1949,1941,2007,1963,2004,1961,1978,2005,1990,1992,1912,1967,1999,1959,1955,1970,1953,1949,1978,1963,1954,1979,1963,1936,1979,2009,1961,1971,1957,2003,2006,1967,1954,2006,1936,1983,2005,1960,1977,1925,1949,2009,1970,1949,1956,1991,1958,1994,1900,2005,1993,1980,1977,2003,1968,2001,1997,2007,1965,2006,2004,1960,1926,2003,2005,2006,1940,1976,1999,1977,1967,1958,1890,1959,2002,2002,1972,1950,1965,1972,1969,1975,1946,1980,1962,2003,1999,1958,1977,1976,2007,2002,2005,1940,1955,1910,1958,1949,2003,1979,2007,1910,2000,1923,2006,1954,1963,1961,1998,2007,2002,1977,1950,1910,2009,1976,2006,1997,1882,1964,2005,2006,1946,1961,1970,1922,2006,1952,1920,2006,1976,2005,1977,1970,1970,2004,1926,1948,1965,1923,1910,1948,2001,1996,1984,1991,2005,2005,2006,1930,2005,1976,1972,1960,2007,1941,1972,1916,1920,1993,2002,1938,1957,2007,2001,1970,1970,1957,1966,2005,1990,1981,1955,2005,1994,1960,1946,2007,2007,1964,1957,2002,1976,2005,1994,2008,1932,2001,1935,1900,1925,1966,1996,1993,1964,1973,1949,1956,1968,1948,1977,2006,1940,1936,1969,2004,1994,1971,1963,2002,1964,1995,1992,1973,2005,2004,2005,1950,1999,1925,1965,1956,2006,1914,1986,1936,1978,1920,1971,1960,1959,1970,1994,1990,2006,2000,2004,1995,1976,1957,1953,1954,2007,2002,1967,1958,1959,1920,2005,1956,1947,1992,1955,2007,2004,2004,1980,1928,1991,1880,1995,1997,1926,1950,1875,1977,1920,1951,1976,2006,1959,1941,1928,1985,1941,1926,1920,1950,1959,1956,1930,1965,1976,1965,2007,2007,1974,1978,1954,1968,1969,1978,2009,2008,2000,1935,1995,1977,1958,2006,1946,1932,1992,1984,1926,1921,1954,1990,2008,1996,1920,1963,1924,1900,1994,2002,1999,1961,1999,1925,1999,1969,2005,2006,1916,2001,1963,1970,1998,1925,2000,1975,1990,1966,2003,1962,2006,1992,1988,1941,1965,1962,1966,1978,2009,1947,1971,1964,1968,1949,1951,2004,1958,2007,1965,2008,1960,1977,1962,1962,1959,1911,1914,2003,2004,2005,2006,2003,2007,1974,2006,1929,1984,2005,1976,1917,1950,1968,2003,1968,1974,2003,1931,1994,1922,2005,1969,1999,1956,1957,1919,1998,1999,1910,2008,1935,1958,1979,1968,1965,1959,1910,1948,1972,1967,2002,1920,2002,1990,1977,1971,1919,1939,1963,1964,2000,2006,1964,1972,1892,1976,1955,1968,1963,2005,2008,1959,1999,1942,1994,2005,2004,2006,2005,1994,1948,1991,1959,2005,1990,1999,1954,1969,2008,2006,2001,1954,1957,1949,1992,1940,2006,1922,1931,1982,1920,1998,2006,1976,1938,1938,1970,1977,1973,1941,2002,1972,1971,2003,2002,1928,2006,1920,1968,2006,1998,1872,1969,1962,1937,1995,2000,1968,1966,1971,2000,2004,1921,2005,1920,2006,2005,2000,1999,1977,2003,2003,1920,1955,1998,2001,2005,2007,1930,1941,1973,2006,1914,1970,1920,1918,1939,1922,1978,1916,2006,1941,2000,1967,1967,1905,2006,2005,1948,1920,1950,1925,1929,2004,2006,2007,1915,2004,1972,1985,1910,1986,2001,1950,1949,2005,1923,2007,1885,1998,1963,1969,1968,1977,2003,1966,1958,1959,1994,1945,1940,1981,2005,1976,1927,2000,1977,1962,1971,2008,1957,1979,1922,2004,2008,1916,2004,1966,1962,1995,1910,1970,1974,2008,2005,2006,2004,1999,1978,1941,1950,1965,1961,1958,1997,1998,1992,1993,1992,1998,1990,1970,1999,1971,1971,1975,1975,2009,2009,2005,2005,2003,2002,2006,2005,2006,2004,2004,1998,2005,2009,2005,2004,1920,1974,1993,1992,2004,2004,2004,2004,2005,2000,2003,2010,2000,2002,1967,1993,1978,1971,1966,1966,1967,1964,1962,1952,1949,1966,1958,2003,1959,1959,1959,1956,1952,1955,1958,1920,1948,1960,1963,1900,1920,1957,1938,1948,1920,1923,1900,1890,1910,1922,1950,1922,1925,1939,1940,1942,1948,1936,1930,1923,1915,1912,1920,1959,1917,1915,1940,1907,1910,1967,1966,1968,1978,1968,1977,1927,1978,1938,1950,1947,1954,2009,1964,1987,1993,2010,1900,1996,1997,1977,1972,2003,1997,2003,1945,1954,1968,1948,1975,1958,1924,1939,1967,1931,1941,1950,1994,1989,1989,1941,1921,1896,2004,1998,1977,1976,2008,2009,2006,1965,2004,1999,1973,1970,1970,1972,1971,1984,1985,1991,1969,1994,1993,1956,1974,1997,2003,1996,2004,1998,1995,1998,1998,1994,1993,1977,1978,1978,1980,1978,2003,2000,2002,1975,1974,1975,1970,1971,1970,1971,1973,1972,1976,1975,1977,1978,1978,1976,1966,2007,2009,2008,2007,2008,2004,2007,2008,2006,2008,2003,2003,2003,2006,2005,2005,2007,2004,2003,2008,2008,2002,2003,2005,2005,2005,2004,2004,2004,2003,2003,2002,2004,2000,1999,1999,1999,2000,1994,1995,1993,2008,2008,2007,2006,2005,2008,2008,2007,2006,2006,2008,2006,2003,2003,2007,2006,2004,2004,2004,2004,2004,2003,2008,1996,1992,1990,1994,1986,1981,1962,1961,1961,1965,1963,1962,1980,1991,2004,2008,2008,2000,1999,1977,1981,1976,1974,1967,1969,1969,1977,1967,1967,1974,1971,1960,1959,1957,1956,1961,1964,1965,1961,1955,1967,1961,1966,1956,1960,1959,1956,1955,1956,1958,1954,1951,1945,1952,1953,1948,1950,1958,1939,1900,1925,1915,1910,1940,1920,1890,1969,1963,1967,1958,1957,1958,1950,1958,1952,1959,1949,1948,1964,1978,1963,1935,1910,1910,1910,1939,1920,1910,1950,1920,1940,1923,1910,1900,1917,1910,1920,1910,1900,1923,1930,1924,1925,1938,1925,1915,1915,1922,1927,1915,1902,1927,1923,1915,1946,1987,1978,1934,1967,1978,1961,1960,1956,1947,1954,1956,1946,1954,1984,1990,1983,1993,1880,1979,1979,1979,1979,2000,2000,2000,2009,2008,2008,2007,2007,2008,2005,2005,1992,1994,1998,1998,2002,2001,1978,1979,2002,2003,2002,2001,1999,2002,1997,2007,2007,1960,2005,1959,1950,1959,1956,1941,1938,1935,1916,1918,1940,1960,1940,1954,1960,1949,1954,1980,1980,1980,1986,1971,1900,1925,2007,1910,2000,1977,1977,1991,2008,2008,1980,1987,2003,2007,1968,1969,1972,1993,1992,1992,1969,1997,1995,1998,1996,1996,1997,1992,1998,1991,1989,2005,2004,1952,2007,1950,1988,1983,1978,1979,1976,1980,1969,1978,1976,1996,1974,1969,1971,1973,1972,1972,1975,1977,2007,2007,2007,2006,2005,2005,2007,2004,2003,2003,2001,2003,2008,2005,2007,2006,2006,2003,2003,2004,2007,2004,2002,2003,2007,2000,2002,1999,1999,1997,2000,1998,1996,1995,1993,2006,2007,2007,2006,2007,2007,2007,2003,2003,2005,2007,1995,1993,1994,2001,1992,1963,1961,1968,1963,1974,1972,1990,1993,2004,2005,2007,1999,2000,2001,2001,1999,1999,2001,1999,1999,1998,1995,1977,1976,2002,1969,1968,1967,1965,1968,1965,1965,1971,1956,1961,1960,1937,1960,1950,1953,1966,1957,1959,1958,1956,1952,1953,1953,1957,1957,1957,1948,1925,1940,1922,1968,1958,1960,1951,1959,1962,1948,1954,1954,1961,1955,1954,1963,2008,1948,1910,1940,1915,1910,1940,1920,1920,1940,1910,1890,1946,1946,1949,1900,1920,1900,1920,1905,1920,1890,1959,1958,1928,1945,1935,1941,1900,1940,1924,1937,1939,1926,1920,1946,1929,1945,1939,1923,1915,1910,1910,1930,1952,1938,1915,1925,1925,1912,1915,1947,1963,1978,1967,1978,1967,1984,1920,1963,1956,1960,1941,1970,1979,1948,1940,1956,1975,1962,1995,1994,1993,1996,2007,2007,2008,2008,1995,1966,1994,1997,1997,2000,2000,1978,1975,1975,2001,2001,2002,2003,1999,2004,1997,2004,2007,2007,1966,1976,1976,1977,1976,1959,1955,1955,1955,1938,1947,1953,1954,1923,1921,1930,1926,1914,1925,1923,1937,1938,1951,1935,1950,1956,1980,1926,1940,1930,1967,1930,1958,1952,1895,1910,1920,2007,2004,1996,1996,1976,1991,1986,2006,2007,2006,2008,1989,1986,2003,1999,2007,2005,1997,2007,1997,1964,1975,1976,1973,1973,1968,1970,1983,1982,1984,1900,1971,1997,1994,1999,1996,1999,1992,1993,1964,1988,1990,2005,2006,1969,2006,2006,2006,1984,1981,1978,1979,1984,1979,1971,1976,1974,1970,1970,1961,2001,1997,1973,1973,1978,1966,2006,2006,2007,2007,2006,2005,2007,2005,2007,2007,2007,2006,2004,2003,2007,2005,2005,2006,2005,2005,2005,2006,2005,2006,2003,2007,2005,2006,2006,2006,2005,2007,2007,2007,2003,2007,2004,2004,2006,2003,2003,2002,2000,1999,1997,1998,1998,1998,1992,1996,2007,2007,2006,2007,2007,2005,2005,2006,2006,2007,2006,2007,2007,2007,2007,2006,2004,2006,2006,2003,2006,1993,1980,1977,1968,1990,1974,1973,2004,2006,2006,2006,2006,1999,2000,1999,2003,1998,1994,1980,1981,1968,1970,1969,1968,1972,1993,1993,1966,1963,1967,1964,1956,1961,1961,1960,1966,1965,1964,1964,1959,1940,1946,1945,1958,1955,1968,1966,1961,1957,1956,1963,1960,1957,1957,1955,1955,1953,1958,1952,1953,1956,1955,1955,1953,1952,1890,1953,1935,1925,1895,1963,1961,1968,1950,1959,1958,1960,1960,1961,1962,1962,1926,1927,1922,1920,1940,1900,1900,1900,1910,1927,1910,1910,1930,1879,1956,1949,1925,1950,1939,1939,1939,1938,1939,1930,1926,1918,1920,1926,1929,1901,1901,1963,1950,1915,1958,1910,1937,1942,1963,1964,1964,1964,1966,1971,1968,1967,1966,1956,1920,1940,1954,1958,1945,1984,1948,1953,1946,1954,1954,1958,1958,1984,1951,1951,1920,1984,1994,2007,2006,2007,2005,2006,2005,2005,1988,1976,1994,1997,1994,1996,1999,1998,2001,2000,1974,1976,1977,1977,1977,1975,1972,1972,2000,2003,2002,1994,2001,1996,1999,2007,2005,2006,2006,2005,1967,1963,1925,1960,1976,1979,2005,2008,2005,1959,1955,1946,1920,1955,1955,1923,1926,1921,1930,1921,1926,1927,1951,1930,1941,1960,1968,1980,1995,1988,1971,1986,1940,1925,1923,1922,1939,1895,1957,1930,2006,1979,2002,2002,1991,1975,1974,1987,1958,2006,2006,1985,2001,2002,1996,2003,2006,1953,1996,1972,1970,1970,1976,1977,1977,1977,1977,1971,1961,1976,1983,1984,1954,1956,1957,1957,1969,1997,1995,1996,2005,2005,1994,1993,1987,2005,2006,2006,2006,2005,2005,2005,1980,1978,1976,2005,1975,1974,1971,2002,1973,1973,1972,1972,1972,1975,1967,1976,1976,2006,2004,2006,2005,2005,2005,2005,2006,2005,2005,2004,2004,2005,2006,2006,2005,2006,2006,2004,2006,2006,2002,2004,2005,2004,2000,2006,1998,2000,2000,1995,1993,1994,1993,2005,2006,2006,2006,2006,2005,2005,2005,2005,2005,2005,1997,1992,1990,1991,1994,1962,1977,1962,1965,1968,1963,1965,1964,1967,1974,1992,2004,2005,2000,2003,1997,2001,1972,1967,1968,1968,1968,1968,1966,1967,1965,1964,1964,1960,1934,1947,1961,1952,1951,1949,1954,1967,1964,1963,1957,1958,1956,1956,1954,1952,1951,1956,1956,1955,1951,1941,1956,1925,1947,1930,1929,1900,1915,1910,1963,1962,1961,1959,1962,1950,1950,1960,1961,1962,1962,1962,1900,1948,1920,1900,1900,1930,1900,1924,1925,1950,1905,1955,1924,1921,1945,1920,1910,1920,1958,1918,1924,1930,1930,1925,1962,1924,1910,1919,1930,1951,1964,1950,1935,1936,2004,1967,1964,1966,1967,1978,1977,1977,1924,1967,1963,1971,1980,1954,1942,1928,1935,1962,1952,1955,1953,1989,1993,2005,2005,2006,2005,2005,2005,2005,1968,1996,1995,1998,1999,1999,1977,1978,1972,2002,1999,2002,2002,1999,1996,1998,1995,2003,2003,2006,2005,2005,1910,1975,1969,2003,2002,2003,2005,2004,1948,1915,1924,1954,1922,1922,1910,1938,1945,1926,1920,1919,1939,1941,1920,1940,1929,1932,1930,1950,1942,1926,1925,1925,1957,1945,1951,1916,2005,2004,1979,1978,2001,1975,1958,2000,2005,2005,1951,1997,1977,1968,1970,1970,1972,1969,1970,1970,1970,1970,1960,1992,1993],\"yaxis\":\"y\",\"type\":\"scattergl\"}],                        {\"template\":{\"data\":{\"bar\":[{\"error_x\":{\"color\":\"#2a3f5f\"},\"error_y\":{\"color\":\"#2a3f5f\"},\"marker\":{\"line\":{\"color\":\"#E5ECF6\",\"width\":0.5},\"pattern\":{\"fillmode\":\"overlay\",\"size\":10,\"solidity\":0.2}},\"type\":\"bar\"}],\"barpolar\":[{\"marker\":{\"line\":{\"color\":\"#E5ECF6\",\"width\":0.5},\"pattern\":{\"fillmode\":\"overlay\",\"size\":10,\"solidity\":0.2}},\"type\":\"barpolar\"}],\"carpet\":[{\"aaxis\":{\"endlinecolor\":\"#2a3f5f\",\"gridcolor\":\"white\",\"linecolor\":\"white\",\"minorgridcolor\":\"white\",\"startlinecolor\":\"#2a3f5f\"},\"baxis\":{\"endlinecolor\":\"#2a3f5f\",\"gridcolor\":\"white\",\"linecolor\":\"white\",\"minorgridcolor\":\"white\",\"startlinecolor\":\"#2a3f5f\"},\"type\":\"carpet\"}],\"choropleth\":[{\"colorbar\":{\"outlinewidth\":0,\"ticks\":\"\"},\"type\":\"choropleth\"}],\"contour\":[{\"colorbar\":{\"outlinewidth\":0,\"ticks\":\"\"},\"colorscale\":[[0.0,\"#0d0887\"],[0.1111111111111111,\"#46039f\"],[0.2222222222222222,\"#7201a8\"],[0.3333333333333333,\"#9c179e\"],[0.4444444444444444,\"#bd3786\"],[0.5555555555555556,\"#d8576b\"],[0.6666666666666666,\"#ed7953\"],[0.7777777777777778,\"#fb9f3a\"],[0.8888888888888888,\"#fdca26\"],[1.0,\"#f0f921\"]],\"type\":\"contour\"}],\"contourcarpet\":[{\"colorbar\":{\"outlinewidth\":0,\"ticks\":\"\"},\"type\":\"contourcarpet\"}],\"heatmap\":[{\"colorbar\":{\"outlinewidth\":0,\"ticks\":\"\"},\"colorscale\":[[0.0,\"#0d0887\"],[0.1111111111111111,\"#46039f\"],[0.2222222222222222,\"#7201a8\"],[0.3333333333333333,\"#9c179e\"],[0.4444444444444444,\"#bd3786\"],[0.5555555555555556,\"#d8576b\"],[0.6666666666666666,\"#ed7953\"],[0.7777777777777778,\"#fb9f3a\"],[0.8888888888888888,\"#fdca26\"],[1.0,\"#f0f921\"]],\"type\":\"heatmap\"}],\"heatmapgl\":[{\"colorbar\":{\"outlinewidth\":0,\"ticks\":\"\"},\"colorscale\":[[0.0,\"#0d0887\"],[0.1111111111111111,\"#46039f\"],[0.2222222222222222,\"#7201a8\"],[0.3333333333333333,\"#9c179e\"],[0.4444444444444444,\"#bd3786\"],[0.5555555555555556,\"#d8576b\"],[0.6666666666666666,\"#ed7953\"],[0.7777777777777778,\"#fb9f3a\"],[0.8888888888888888,\"#fdca26\"],[1.0,\"#f0f921\"]],\"type\":\"heatmapgl\"}],\"histogram\":[{\"marker\":{\"pattern\":{\"fillmode\":\"overlay\",\"size\":10,\"solidity\":0.2}},\"type\":\"histogram\"}],\"histogram2d\":[{\"colorbar\":{\"outlinewidth\":0,\"ticks\":\"\"},\"colorscale\":[[0.0,\"#0d0887\"],[0.1111111111111111,\"#46039f\"],[0.2222222222222222,\"#7201a8\"],[0.3333333333333333,\"#9c179e\"],[0.4444444444444444,\"#bd3786\"],[0.5555555555555556,\"#d8576b\"],[0.6666666666666666,\"#ed7953\"],[0.7777777777777778,\"#fb9f3a\"],[0.8888888888888888,\"#fdca26\"],[1.0,\"#f0f921\"]],\"type\":\"histogram2d\"}],\"histogram2dcontour\":[{\"colorbar\":{\"outlinewidth\":0,\"ticks\":\"\"},\"colorscale\":[[0.0,\"#0d0887\"],[0.1111111111111111,\"#46039f\"],[0.2222222222222222,\"#7201a8\"],[0.3333333333333333,\"#9c179e\"],[0.4444444444444444,\"#bd3786\"],[0.5555555555555556,\"#d8576b\"],[0.6666666666666666,\"#ed7953\"],[0.7777777777777778,\"#fb9f3a\"],[0.8888888888888888,\"#fdca26\"],[1.0,\"#f0f921\"]],\"type\":\"histogram2dcontour\"}],\"mesh3d\":[{\"colorbar\":{\"outlinewidth\":0,\"ticks\":\"\"},\"type\":\"mesh3d\"}],\"parcoords\":[{\"line\":{\"colorbar\":{\"outlinewidth\":0,\"ticks\":\"\"}},\"type\":\"parcoords\"}],\"pie\":[{\"automargin\":true,\"type\":\"pie\"}],\"scatter\":[{\"marker\":{\"colorbar\":{\"outlinewidth\":0,\"ticks\":\"\"}},\"type\":\"scatter\"}],\"scatter3d\":[{\"line\":{\"colorbar\":{\"outlinewidth\":0,\"ticks\":\"\"}},\"marker\":{\"colorbar\":{\"outlinewidth\":0,\"ticks\":\"\"}},\"type\":\"scatter3d\"}],\"scattercarpet\":[{\"marker\":{\"colorbar\":{\"outlinewidth\":0,\"ticks\":\"\"}},\"type\":\"scattercarpet\"}],\"scattergeo\":[{\"marker\":{\"colorbar\":{\"outlinewidth\":0,\"ticks\":\"\"}},\"type\":\"scattergeo\"}],\"scattergl\":[{\"marker\":{\"colorbar\":{\"outlinewidth\":0,\"ticks\":\"\"}},\"type\":\"scattergl\"}],\"scattermapbox\":[{\"marker\":{\"colorbar\":{\"outlinewidth\":0,\"ticks\":\"\"}},\"type\":\"scattermapbox\"}],\"scatterpolar\":[{\"marker\":{\"colorbar\":{\"outlinewidth\":0,\"ticks\":\"\"}},\"type\":\"scatterpolar\"}],\"scatterpolargl\":[{\"marker\":{\"colorbar\":{\"outlinewidth\":0,\"ticks\":\"\"}},\"type\":\"scatterpolargl\"}],\"scatterternary\":[{\"marker\":{\"colorbar\":{\"outlinewidth\":0,\"ticks\":\"\"}},\"type\":\"scatterternary\"}],\"surface\":[{\"colorbar\":{\"outlinewidth\":0,\"ticks\":\"\"},\"colorscale\":[[0.0,\"#0d0887\"],[0.1111111111111111,\"#46039f\"],[0.2222222222222222,\"#7201a8\"],[0.3333333333333333,\"#9c179e\"],[0.4444444444444444,\"#bd3786\"],[0.5555555555555556,\"#d8576b\"],[0.6666666666666666,\"#ed7953\"],[0.7777777777777778,\"#fb9f3a\"],[0.8888888888888888,\"#fdca26\"],[1.0,\"#f0f921\"]],\"type\":\"surface\"}],\"table\":[{\"cells\":{\"fill\":{\"color\":\"#EBF0F8\"},\"line\":{\"color\":\"white\"}},\"header\":{\"fill\":{\"color\":\"#C8D4E3\"},\"line\":{\"color\":\"white\"}},\"type\":\"table\"}]},\"layout\":{\"annotationdefaults\":{\"arrowcolor\":\"#2a3f5f\",\"arrowhead\":0,\"arrowwidth\":1},\"autotypenumbers\":\"strict\",\"coloraxis\":{\"colorbar\":{\"outlinewidth\":0,\"ticks\":\"\"}},\"colorscale\":{\"diverging\":[[0,\"#8e0152\"],[0.1,\"#c51b7d\"],[0.2,\"#de77ae\"],[0.3,\"#f1b6da\"],[0.4,\"#fde0ef\"],[0.5,\"#f7f7f7\"],[0.6,\"#e6f5d0\"],[0.7,\"#b8e186\"],[0.8,\"#7fbc41\"],[0.9,\"#4d9221\"],[1,\"#276419\"]],\"sequential\":[[0.0,\"#0d0887\"],[0.1111111111111111,\"#46039f\"],[0.2222222222222222,\"#7201a8\"],[0.3333333333333333,\"#9c179e\"],[0.4444444444444444,\"#bd3786\"],[0.5555555555555556,\"#d8576b\"],[0.6666666666666666,\"#ed7953\"],[0.7777777777777778,\"#fb9f3a\"],[0.8888888888888888,\"#fdca26\"],[1.0,\"#f0f921\"]],\"sequentialminus\":[[0.0,\"#0d0887\"],[0.1111111111111111,\"#46039f\"],[0.2222222222222222,\"#7201a8\"],[0.3333333333333333,\"#9c179e\"],[0.4444444444444444,\"#bd3786\"],[0.5555555555555556,\"#d8576b\"],[0.6666666666666666,\"#ed7953\"],[0.7777777777777778,\"#fb9f3a\"],[0.8888888888888888,\"#fdca26\"],[1.0,\"#f0f921\"]]},\"colorway\":[\"#636efa\",\"#EF553B\",\"#00cc96\",\"#ab63fa\",\"#FFA15A\",\"#19d3f3\",\"#FF6692\",\"#B6E880\",\"#FF97FF\",\"#FECB52\"],\"font\":{\"color\":\"#2a3f5f\"},\"geo\":{\"bgcolor\":\"white\",\"lakecolor\":\"white\",\"landcolor\":\"#E5ECF6\",\"showlakes\":true,\"showland\":true,\"subunitcolor\":\"white\"},\"hoverlabel\":{\"align\":\"left\"},\"hovermode\":\"closest\",\"mapbox\":{\"style\":\"light\"},\"paper_bgcolor\":\"white\",\"plot_bgcolor\":\"#E5ECF6\",\"polar\":{\"angularaxis\":{\"gridcolor\":\"white\",\"linecolor\":\"white\",\"ticks\":\"\"},\"bgcolor\":\"#E5ECF6\",\"radialaxis\":{\"gridcolor\":\"white\",\"linecolor\":\"white\",\"ticks\":\"\"}},\"scene\":{\"xaxis\":{\"backgroundcolor\":\"#E5ECF6\",\"gridcolor\":\"white\",\"gridwidth\":2,\"linecolor\":\"white\",\"showbackground\":true,\"ticks\":\"\",\"zerolinecolor\":\"white\"},\"yaxis\":{\"backgroundcolor\":\"#E5ECF6\",\"gridcolor\":\"white\",\"gridwidth\":2,\"linecolor\":\"white\",\"showbackground\":true,\"ticks\":\"\",\"zerolinecolor\":\"white\"},\"zaxis\":{\"backgroundcolor\":\"#E5ECF6\",\"gridcolor\":\"white\",\"gridwidth\":2,\"linecolor\":\"white\",\"showbackground\":true,\"ticks\":\"\",\"zerolinecolor\":\"white\"}},\"shapedefaults\":{\"line\":{\"color\":\"#2a3f5f\"}},\"ternary\":{\"aaxis\":{\"gridcolor\":\"white\",\"linecolor\":\"white\",\"ticks\":\"\"},\"baxis\":{\"gridcolor\":\"white\",\"linecolor\":\"white\",\"ticks\":\"\"},\"bgcolor\":\"#E5ECF6\",\"caxis\":{\"gridcolor\":\"white\",\"linecolor\":\"white\",\"ticks\":\"\"}},\"title\":{\"x\":0.05},\"xaxis\":{\"automargin\":true,\"gridcolor\":\"white\",\"linecolor\":\"white\",\"ticks\":\"\",\"title\":{\"standoff\":15},\"zerolinecolor\":\"white\",\"zerolinewidth\":2},\"yaxis\":{\"automargin\":true,\"gridcolor\":\"white\",\"linecolor\":\"white\",\"ticks\":\"\",\"title\":{\"standoff\":15},\"zerolinecolor\":\"white\",\"zerolinewidth\":2}}},\"xaxis\":{\"anchor\":\"y\",\"domain\":[0.0,1.0],\"title\":{\"text\":\"GarageYrBlt\"}},\"yaxis\":{\"anchor\":\"x\",\"domain\":[0.0,1.0],\"title\":{\"text\":\"YearBuilt\"}},\"legend\":{\"tracegroupgap\":0},\"margin\":{\"t\":60},\"height\":400,\"width\":600},                        {\"responsive\": true}                    ).then(function(){\n",
              "                            \n",
              "var gd = document.getElementById('5db43ba5-3d97-4877-b289-8774f93f65de');\n",
              "var x = new MutationObserver(function (mutations, observer) {{\n",
              "        var display = window.getComputedStyle(gd).display;\n",
              "        if (!display || display === 'none') {{\n",
              "            console.log([gd, 'removed!']);\n",
              "            Plotly.purge(gd);\n",
              "            observer.disconnect();\n",
              "        }}\n",
              "}});\n",
              "\n",
              "// Listen for the removal of the full notebook cells\n",
              "var notebookContainer = gd.closest('#notebook-container');\n",
              "if (notebookContainer) {{\n",
              "    x.observe(notebookContainer, {childList: true});\n",
              "}}\n",
              "\n",
              "// Listen for the clearing of the current output cell\n",
              "var outputEl = gd.closest('.output');\n",
              "if (outputEl) {{\n",
              "    x.observe(outputEl, {childList: true});\n",
              "}}\n",
              "\n",
              "                        })                };                            </script>        </div>\n",
              "</body>\n",
              "</html>"
            ]
          },
          "metadata": {}
        }
      ]
    },
    {
      "cell_type": "markdown",
      "source": [
        "By the way, we can observe that there is an outlier whose 'GarageYrBlt' value is '2207'. \n",
        "\n",
        "We modify this value to '2006' which is the value of 'YearBuilt' of the house."
      ],
      "metadata": {
        "id": "ZP8eT5VlM7G_"
      }
    },
    {
      "cell_type": "code",
      "execution_count": null,
      "metadata": {
        "id": "e0-8gK8UVWGi"
      },
      "outputs": [],
      "source": [
        "# Modify the wrong value (replace wrong value by 'YearBuilt' value of that observation)\n",
        "all_features['GarageYrBlt'].replace(2207, 2006, inplace=True)\n",
        "\n",
        "# NA in GarageYrBlt <- 'YearBuilt' values\n",
        "all_features.loc[:, 'GarageYrBlt'] = all_features.loc[:,'GarageYrBlt'].fillna(all_features['YearBuilt'])"
      ]
    },
    {
      "cell_type": "markdown",
      "source": [
        "#### >> Replace NA by '0' \n",
        "\n",
        "Below table shows that when ['BsmtFinSF1', 'BsmtFinSF2', 'BsmtUnfSF', 'TotalBsmtSF', 'BsmtFullBath', 'BsmtHalfBath'] values are all 'NaN', other 'Bsmt' variables have 'None' or '0' values. "
      ],
      "metadata": {
        "id": "iLKMip0cM8fG"
      }
    },
    {
      "cell_type": "code",
      "source": [
        "NA_list = ['BsmtFinSF1', 'BsmtFinSF2', 'BsmtUnfSF', 'TotalBsmtSF', 'BsmtFullBath', 'BsmtHalfBath']\n",
        "all_features.loc[all_features.loc[:,NA_list].isnull().sum(axis=1).astype('bool'), all_features.columns.str.contains('Bsmt')].head()"
      ],
      "metadata": {
        "colab": {
          "base_uri": "https://localhost:8080/",
          "height": 112
        },
        "id": "UayZUFUnqYPO",
        "outputId": "8f043be2-6be8-41dd-f3a5-ebaeed8084cb"
      },
      "execution_count": null,
      "outputs": [
        {
          "output_type": "execute_result",
          "data": {
            "text/html": [
              "\n",
              "  <div id=\"df-fa537b8f-dfb7-4867-ab60-dbda79384613\">\n",
              "    <div class=\"colab-df-container\">\n",
              "      <div>\n",
              "<style scoped>\n",
              "    .dataframe tbody tr th:only-of-type {\n",
              "        vertical-align: middle;\n",
              "    }\n",
              "\n",
              "    .dataframe tbody tr th {\n",
              "        vertical-align: top;\n",
              "    }\n",
              "\n",
              "    .dataframe thead th {\n",
              "        text-align: right;\n",
              "    }\n",
              "</style>\n",
              "<table border=\"1\" class=\"dataframe\">\n",
              "  <thead>\n",
              "    <tr style=\"text-align: right;\">\n",
              "      <th></th>\n",
              "      <th>BsmtQual</th>\n",
              "      <th>BsmtCond</th>\n",
              "      <th>BsmtExposure</th>\n",
              "      <th>BsmtFinType1</th>\n",
              "      <th>BsmtFinSF1</th>\n",
              "      <th>BsmtFinType2</th>\n",
              "      <th>BsmtFinSF2</th>\n",
              "      <th>BsmtUnfSF</th>\n",
              "      <th>TotalBsmtSF</th>\n",
              "      <th>BsmtFullBath</th>\n",
              "      <th>BsmtHalfBath</th>\n",
              "    </tr>\n",
              "  </thead>\n",
              "  <tbody>\n",
              "    <tr>\n",
              "      <th>660</th>\n",
              "      <td>None</td>\n",
              "      <td>None</td>\n",
              "      <td>None</td>\n",
              "      <td>None</td>\n",
              "      <td>NaN</td>\n",
              "      <td>None</td>\n",
              "      <td>NaN</td>\n",
              "      <td>NaN</td>\n",
              "      <td>NaN</td>\n",
              "      <td>NaN</td>\n",
              "      <td>NaN</td>\n",
              "    </tr>\n",
              "    <tr>\n",
              "      <th>728</th>\n",
              "      <td>None</td>\n",
              "      <td>None</td>\n",
              "      <td>None</td>\n",
              "      <td>None</td>\n",
              "      <td>0.0</td>\n",
              "      <td>None</td>\n",
              "      <td>0.0</td>\n",
              "      <td>0.0</td>\n",
              "      <td>0.0</td>\n",
              "      <td>NaN</td>\n",
              "      <td>NaN</td>\n",
              "    </tr>\n",
              "  </tbody>\n",
              "</table>\n",
              "</div>\n",
              "      <button class=\"colab-df-convert\" onclick=\"convertToInteractive('df-fa537b8f-dfb7-4867-ab60-dbda79384613')\"\n",
              "              title=\"Convert this dataframe to an interactive table.\"\n",
              "              style=\"display:none;\">\n",
              "        \n",
              "  <svg xmlns=\"http://www.w3.org/2000/svg\" height=\"24px\"viewBox=\"0 0 24 24\"\n",
              "       width=\"24px\">\n",
              "    <path d=\"M0 0h24v24H0V0z\" fill=\"none\"/>\n",
              "    <path d=\"M18.56 5.44l.94 2.06.94-2.06 2.06-.94-2.06-.94-.94-2.06-.94 2.06-2.06.94zm-11 1L8.5 8.5l.94-2.06 2.06-.94-2.06-.94L8.5 2.5l-.94 2.06-2.06.94zm10 10l.94 2.06.94-2.06 2.06-.94-2.06-.94-.94-2.06-.94 2.06-2.06.94z\"/><path d=\"M17.41 7.96l-1.37-1.37c-.4-.4-.92-.59-1.43-.59-.52 0-1.04.2-1.43.59L10.3 9.45l-7.72 7.72c-.78.78-.78 2.05 0 2.83L4 21.41c.39.39.9.59 1.41.59.51 0 1.02-.2 1.41-.59l7.78-7.78 2.81-2.81c.8-.78.8-2.07 0-2.86zM5.41 20L4 18.59l7.72-7.72 1.47 1.35L5.41 20z\"/>\n",
              "  </svg>\n",
              "      </button>\n",
              "      \n",
              "  <style>\n",
              "    .colab-df-container {\n",
              "      display:flex;\n",
              "      flex-wrap:wrap;\n",
              "      gap: 12px;\n",
              "    }\n",
              "\n",
              "    .colab-df-convert {\n",
              "      background-color: #E8F0FE;\n",
              "      border: none;\n",
              "      border-radius: 50%;\n",
              "      cursor: pointer;\n",
              "      display: none;\n",
              "      fill: #1967D2;\n",
              "      height: 32px;\n",
              "      padding: 0 0 0 0;\n",
              "      width: 32px;\n",
              "    }\n",
              "\n",
              "    .colab-df-convert:hover {\n",
              "      background-color: #E2EBFA;\n",
              "      box-shadow: 0px 1px 2px rgba(60, 64, 67, 0.3), 0px 1px 3px 1px rgba(60, 64, 67, 0.15);\n",
              "      fill: #174EA6;\n",
              "    }\n",
              "\n",
              "    [theme=dark] .colab-df-convert {\n",
              "      background-color: #3B4455;\n",
              "      fill: #D2E3FC;\n",
              "    }\n",
              "\n",
              "    [theme=dark] .colab-df-convert:hover {\n",
              "      background-color: #434B5C;\n",
              "      box-shadow: 0px 1px 3px 1px rgba(0, 0, 0, 0.15);\n",
              "      filter: drop-shadow(0px 1px 2px rgba(0, 0, 0, 0.3));\n",
              "      fill: #FFFFFF;\n",
              "    }\n",
              "  </style>\n",
              "\n",
              "      <script>\n",
              "        const buttonEl =\n",
              "          document.querySelector('#df-fa537b8f-dfb7-4867-ab60-dbda79384613 button.colab-df-convert');\n",
              "        buttonEl.style.display =\n",
              "          google.colab.kernel.accessAllowed ? 'block' : 'none';\n",
              "\n",
              "        async function convertToInteractive(key) {\n",
              "          const element = document.querySelector('#df-fa537b8f-dfb7-4867-ab60-dbda79384613');\n",
              "          const dataTable =\n",
              "            await google.colab.kernel.invokeFunction('convertToInteractive',\n",
              "                                                     [key], {});\n",
              "          if (!dataTable) return;\n",
              "\n",
              "          const docLinkHtml = 'Like what you see? Visit the ' +\n",
              "            '<a target=\"_blank\" href=https://colab.research.google.com/notebooks/data_table.ipynb>data table notebook</a>'\n",
              "            + ' to learn more about interactive tables.';\n",
              "          element.innerHTML = '';\n",
              "          dataTable['output_type'] = 'display_data';\n",
              "          await google.colab.output.renderOutput(dataTable, element);\n",
              "          const docLink = document.createElement('div');\n",
              "          docLink.innerHTML = docLinkHtml;\n",
              "          element.appendChild(docLink);\n",
              "        }\n",
              "      </script>\n",
              "    </div>\n",
              "  </div>\n",
              "  "
            ],
            "text/plain": [
              "    BsmtQual BsmtCond BsmtExposure  ... TotalBsmtSF  BsmtFullBath BsmtHalfBath\n",
              "660     None     None         None  ...         NaN           NaN          NaN\n",
              "728     None     None         None  ...         0.0           NaN          NaN\n",
              "\n",
              "[2 rows x 11 columns]"
            ]
          },
          "metadata": {},
          "execution_count": 71
        }
      ]
    },
    {
      "cell_type": "markdown",
      "source": [
        "Through this, we can infer that there is no basement at those houses.\n",
        "\n",
        "Thus We replace NaN values to '0' since ['BsmtFinSF1', 'BsmtFinSF2', 'BsmtUnfSF', 'TotalBsmtSF', 'BsmtFullBath', 'BsmtHalfBath'] are integer or float variables"
      ],
      "metadata": {
        "id": "7qRTb05kiHGy"
      }
    },
    {
      "cell_type": "code",
      "execution_count": null,
      "metadata": {
        "id": "MvxVs4UG1g7A"
      },
      "outputs": [],
      "source": [
        "NA_zero_list = ['BsmtFinSF1', 'BsmtFinSF2', 'BsmtUnfSF', 'TotalBsmtSF', \n",
        "                'BsmtFullBath', 'BsmtHalfBath']\n",
        "df = all_features.loc[:, NA_zero_list]\n",
        "all_features.loc[:, NA_zero_list] = df.fillna(0)"
      ]
    },
    {
      "cell_type": "markdown",
      "source": [
        "### > Check missing values again\n",
        "\n",
        "Make sure there is no NA value in the processed data-set"
      ],
      "metadata": {
        "id": "v3KRJxEHNuHd"
      }
    },
    {
      "cell_type": "code",
      "execution_count": null,
      "metadata": {
        "colab": {
          "base_uri": "https://localhost:8080/"
        },
        "id": "BRVmI9DA8pfA",
        "outputId": "e680578b-dccc-4a3f-9cdf-7753125242df"
      },
      "outputs": [
        {
          "output_type": "execute_result",
          "data": {
            "text/plain": [
              "array([0, 0, 0, 0, 0, 0, 0, 0, 0, 0, 0, 0, 0, 0, 0, 0, 0, 0, 0, 0, 0, 0,\n",
              "       0, 0, 0, 0, 0, 0, 0, 0, 0, 0, 0, 0, 0, 0, 0, 0, 0, 0, 0, 0, 0, 0,\n",
              "       0, 0, 0, 0, 0, 0, 0, 0, 0, 0, 0, 0, 0, 0, 0, 0, 0, 0, 0, 0, 0, 0,\n",
              "       0, 0, 0, 0, 0, 0, 0, 0, 0])"
            ]
          },
          "metadata": {},
          "execution_count": 73
        }
      ],
      "source": [
        "all_features.isnull().sum().values"
      ]
    },
    {
      "cell_type": "markdown",
      "metadata": {
        "id": "IivbeIZeoVzE"
      },
      "source": [
        "## 1-3. Adding new features (*optional*)\n",
        "\n",
        "New variables can be created using the given data.\n",
        "These variables are called 'derived variables'.\n",
        "\n",
        "New informations can be added by creating appropriate derived variables.\n",
        "\n",
        "This can have a positive effect on model performance. (Not always)"
      ]
    },
    {
      "cell_type": "markdown",
      "source": [
        "### > Insights from data"
      ],
      "metadata": {
        "id": "GfLJyWQoODHj"
      }
    },
    {
      "cell_type": "markdown",
      "source": [
        "#### >> Had the house remodeled?\n",
        "If 'YearBuilt' $\\neq$ 'YearRemodAdd', Then we can infer that there was a remodeling after the first construction.\n"
      ],
      "metadata": {
        "id": "TQaawMsyOL4g"
      }
    },
    {
      "cell_type": "code",
      "source": [
        "all_features['Remod'] = 'None'\n",
        "all_features.loc[all_features['YearBuilt']!=all_features['YearRemodAdd'],'Remod'] = 'Yes'"
      ],
      "metadata": {
        "id": "HsYEyV5COu5U"
      },
      "execution_count": null,
      "outputs": []
    },
    {
      "cell_type": "markdown",
      "source": [
        "#### >> Was it a new house?\n",
        "If 'YearBuilt' == 'YrSold', Then we can infer that that house was sold as soon as it was built"
      ],
      "metadata": {
        "id": "8rcwO8HaOvVv"
      }
    },
    {
      "cell_type": "code",
      "execution_count": null,
      "metadata": {
        "id": "6uDWrYwEoSbn"
      },
      "outputs": [],
      "source": [
        "all_features['IsNew'] = 'None'\n",
        "all_features.loc[all_features['YearBuilt']==all_features['YrSold'],'IsNew'] = 'Yes'"
      ]
    },
    {
      "cell_type": "markdown",
      "metadata": {
        "id": "RETuULj8Wwjs"
      },
      "source": [
        "## 1-4. Variable transformation"
      ]
    },
    {
      "cell_type": "markdown",
      "metadata": {
        "id": "2HTx2JvAinNi"
      },
      "source": [
        "### > Data type transformation\n",
        "Specify the data type that matches the characteristics of the variable."
      ]
    },
    {
      "cell_type": "markdown",
      "source": [
        "#### >> int to object\n",
        "\n",
        "- MSSubClass\n",
        "  - Given the data_description, 'MSSubClass' indicates the type of dwelling involved in the sale \n",
        "\n",
        "- YrSold\n",
        "  - 'YrSold' values vary from 2006 to 2010. Since the real estate market fluctuates year by year (e.g., 2008 financial cris) it would be better to take the 'YrSold' as a categorical variable not as an integer \n",
        "\n",
        "- MoSold\n",
        "  - Real estate market also fluctuate month by month. Thus also take the 'MoSold' vairable as a categorical variable\n",
        "\n"
      ],
      "metadata": {
        "id": "kshspzQ6cAor"
      }
    },
    {
      "cell_type": "code",
      "execution_count": null,
      "metadata": {
        "id": "lqjL0zKaW1Dk"
      },
      "outputs": [],
      "source": [
        "# int -> object\n",
        "int_to_obj_list = ['MSSubClass', 'YrSold', 'MoSold']\n",
        "all_features[int_to_obj_list] = all_features[int_to_obj_list].astype('object')"
      ]
    },
    {
      "cell_type": "markdown",
      "source": [
        "#### >> object to int\n",
        "\n",
        "According to the data description, some variables indicate the quality of a facility. \n",
        "\n",
        "Since the assesed quality has a superiority and inferiority relationship between values, it is more appropriate to convert it to an integer type."
      ],
      "metadata": {
        "id": "7urrRKNWc18k"
      }
    },
    {
      "cell_type": "code",
      "execution_count": null,
      "metadata": {
        "id": "amasZRu0W8aL"
      },
      "outputs": [],
      "source": [
        "# object -> int\n",
        "obj_to_int_list = ['FireplaceQu', 'BsmtQual', 'BsmtCond', 'GarageQual', 'GarageCond', \n",
        "                    'ExterQual', 'ExterCond', 'HeatingQC', 'KitchenQual', \n",
        "                    'BsmtFinType1', 'BsmtFinType2', 'Functional', 'BsmtExposure', \n",
        "                    'GarageFinish', 'LandSlope', 'PavedDrive']\n",
        "\n",
        "all_features[obj_to_int_list] = all_features[obj_to_int_list].replace(\n",
        "    {'None':0, 'Po':1, 'Fa':2, 'TA':3, 'Gd':4, 'Ex':5,\n",
        "     'Unf':1, 'RFn':2, 'Fin':3,\n",
        "     'No':1, 'Mn':2, 'Av':3,\n",
        "     'LwQ':2, 'Rec':3, 'BLQ':4, 'ALQ':5, 'GLQ':6,\n",
        "     'Sev':1, 'Maj2':2, 'Maj1':3, 'Mod':4, 'Min2':5, 'Min1':6, 'Typ':7,\n",
        "     'Gtl':0, 'Mod':1, 'Sev':2,\n",
        "     'N':0, 'P':1, 'Y':2\n",
        "    }\n",
        ")"
      ]
    },
    {
      "cell_type": "markdown",
      "metadata": {
        "id": "hJayzx_-Nzck"
      },
      "source": [
        "## 1-5. Dummify categorical variables\n",
        "\n",
        "In the case of linear modeling without regularization, the first or last column should be dropped (to prevent linear dependency), but here, for the convenience of using the factorization model, one-hot encoding method is used that does not drop any columns."
      ]
    },
    {
      "cell_type": "code",
      "execution_count": null,
      "metadata": {
        "id": "CsctjSYSQClH"
      },
      "outputs": [],
      "source": [
        "data_set = pd.get_dummies(all_features, drop_first=False)"
      ]
    },
    {
      "cell_type": "markdown",
      "metadata": {
        "id": "Yo_M-blKP1pP"
      },
      "source": [
        "## 1-6. Scaling continuous variables\n",
        "\n",
        "Integer of float type variables are measured in different units (e.g., YearBuilt: by year, BsmfSF1: by square feet).\n",
        "\n",
        "MinMaxScaling maps all variables from 0 to 1 in order to consider only relative information, not absolute magnitudes of the values.\n",
        "\n",
        "Besides, it is known that scaling is often more stable in parameter optimization when training a model."
      ]
    },
    {
      "cell_type": "code",
      "execution_count": null,
      "metadata": {
        "id": "W-F7cdreP1ZV"
      },
      "outputs": [],
      "source": [
        "from sklearn.preprocessing import MinMaxScaler\n",
        "scaler = MinMaxScaler()\n",
        "data_set = scaler.fit_transform(data_set)"
      ]
    },
    {
      "cell_type": "markdown",
      "metadata": {
        "id": "3Bds2C0rQb_c"
      },
      "source": [
        "## 1-7. Split Train & Test set"
      ]
    },
    {
      "cell_type": "code",
      "execution_count": null,
      "metadata": {
        "id": "AZj86aMgaBrp"
      },
      "outputs": [],
      "source": [
        "n_train = train.shape[0]\n",
        "X_train = data_set[:n_train].astype('float32')\n",
        "X_test = data_set[n_train:].astype('float32')\n",
        "y_train = train['SalePrice'].values.astype('float32')"
      ]
    },
    {
      "cell_type": "markdown",
      "metadata": {
        "id": "xXpd4YS_Rooe"
      },
      "source": [
        "## 1-8. Outlier Detection (*optional*)\n",
        "\n",
        "Detect and remove outlier observations that exist in the train-set.\n",
        "\n",
        "- Methodology: [Isolation Forest](https://ieeexplore.ieee.org/abstract/document/4781136/?casa_token=V7U3M1UIykoAAAAA:kww9pojtMeJtXaBcNmw0eVlJaXEGGICi1ogmeHUFMpgJ2h_XCbSd2yBU5mRgd7zEJrXZ01z2)\n",
        "  - How it works\n",
        "    - Isolation Forest applies a decision tree that repeats splits based on the 'random criterion' for the given data unitl only one observation remains in every terminal node (this is defined as 'isolation').\n",
        "    - Based on the number of splits used for isolation, 'normality' is defined. A smaller value means a higher degree of outlierness.\n",
        "    - By applying this decision tree several times, the average of the measured 'normality' values ​​is derived as the final 'normality' value.\n",
        "  - Assumptions\n",
        "    - Outliers require relatively few splits to be isolated.\n",
        "    - For normal data, the number of splits required to be isolated is relatively large.\n",
        "  - Outlier determination\n",
        "    - Determines whether it is an outlier or not based on the measured 'normality' value.\n",
        "      - sklearn's IsolationForest package determines based on '0' \n",
        "      - I, personally, think it is better to set the discriminant criterion by considering the 'distribution' of the 'normality' values.\n",
        "      - The details of the method is given below."
      ]
    },
    {
      "cell_type": "code",
      "execution_count": null,
      "metadata": {
        "id": "CT4-2FOcRnkM"
      },
      "outputs": [],
      "source": [
        "from sklearn.ensemble import IsolationForest\n",
        "clf = IsolationForest(\n",
        "    n_estimators=100,\n",
        "    max_samples='auto',\n",
        "    n_jobs=-1,\n",
        "    random_state=config['random_state'])\n",
        "\n",
        "clf.fit(X_train)\n",
        "normality_df = pd.DataFrame(clf.decision_function(X_train), columns=['normality'])"
      ]
    },
    {
      "cell_type": "markdown",
      "source": [
        "The discriminant value (threshold) is defined by calculating the 1st quartile ($q_1$) and 3rd quartile ($q_3$) on the distribution of the measured normality values.\n",
        "\n",
        "$threshold = q_1 - k*(q_3 - q_1)$\n",
        "\n",
        "- In this case, set $k=1.5$.\n",
        "\n",
        "This discriminant method is adapted from Tukey's boxplot idea.\n",
        "In the distribution of any continuous variable, Tukey designates observations smaller than that value or larger than q_3 + k*(q_3 - q_1) as outliers.\n",
        "\n",
        "Our methodology does not apply the above method to a specific variable, but applies the method to the obtained normality.\n",
        "\n",
        "That is, it is based on the assumption that an outlier will be far left from the other observations in the measured normality distribution."
      ],
      "metadata": {
        "id": "Da78I-eG75Xj"
      }
    },
    {
      "cell_type": "code",
      "execution_count": null,
      "metadata": {
        "colab": {
          "base_uri": "https://localhost:8080/",
          "height": 417
        },
        "id": "fnuzws26Sm_7",
        "outputId": "48af03a9-1c59-4910-9db2-945930c17730"
      },
      "outputs": [
        {
          "output_type": "display_data",
          "data": {
            "text/html": [
              "<html>\n",
              "<head><meta charset=\"utf-8\" /></head>\n",
              "<body>\n",
              "    <div>            <script src=\"https://cdnjs.cloudflare.com/ajax/libs/mathjax/2.7.5/MathJax.js?config=TeX-AMS-MML_SVG\"></script><script type=\"text/javascript\">if (window.MathJax) {MathJax.Hub.Config({SVG: {font: \"STIX-Web\"}});}</script>                <script type=\"text/javascript\">window.PlotlyConfig = {MathJaxConfig: 'local'};</script>\n",
              "        <script src=\"https://cdn.plot.ly/plotly-2.8.3.min.js\"></script>                <div id=\"65afa809-5640-45ce-997c-2c569b040cfd\" class=\"plotly-graph-div\" style=\"height:400px; width:400px;\"></div>            <script type=\"text/javascript\">                                    window.PLOTLYENV=window.PLOTLYENV || {};                                    if (document.getElementById(\"65afa809-5640-45ce-997c-2c569b040cfd\")) {                    Plotly.newPlot(                        \"65afa809-5640-45ce-997c-2c569b040cfd\",                        [{\"alignmentgroup\":\"True\",\"bingroup\":\"x\",\"hovertemplate\":\"normality=%{x}<br>count=%{y}<extra></extra>\",\"legendgroup\":\"\",\"marker\":{\"color\":\"#636efa\",\"pattern\":{\"shape\":\"\"}},\"name\":\"\",\"offsetgroup\":\"\",\"orientation\":\"v\",\"showlegend\":false,\"x\":[0.14127913635920158,0.108337234303236,0.13582366638146437,0.09448780758651015,0.12096550139319207,0.10908391545243135,0.13395302812931448,0.10343200092990618,0.07033151150410355,0.044237018657355465,0.13547135077945982,0.05776751488476273,0.12005082022329328,0.11563862199438368,0.10345030721562987,0.08245791456285123,0.11173080081891756,0.06280348712884293,0.12461918448242454,0.11164721412961465,0.06615695382104109,0.07406887389272915,0.13264089709092752,0.11376348568911804,0.11439586843528565,0.12082656656183843,0.1152923249214422,0.11354954820030028,0.11011126272674321,0.05883749652921183,0.05030913032392309,0.12630005197106148,0.12832619978086707,0.11286047266393462,0.10208895402822427,0.09435336486800888,0.1362388160849291,0.123225112208936,0.11258495106521715,0.016975928019966946,0.11967700472468207,0.11048562541172113,0.1060430637401224,0.11017942903260147,0.11418668968685458,0.08998613423311069,0.08728493203309612,0.12668533866713722,0.0492794754023238,0.13519050469178345,0.13105343272587633,0.10481793584978877,0.009747116710830617,0.06564663117771752,0.0815902039870518,0.13398312204354634,0.09185255828225325,0.13871954502663159,0.024657260791527913,0.11254947061013415,0.10908959604124024,0.07322294936113694,0.09843696126486468,0.045049478379472874,0.13445226402571236,0.10756573456446877,0.10467006697377018,0.1464537774207208,0.0968992602574833,0.09153706534087791,0.10653110485268075,0.12563573954891372,0.12776088461982388,0.1282556222735352,0.06584129526238702,0.07372205955786171,0.10639576142538237,0.10808385857120217,0.06922188744953661,0.11419463097443383,0.1299652863363902,0.08829557848011682,0.117513904076194,0.1238448007613398,0.09455841908681739,0.11137940926807732,0.12696362281564316,0.07295254284828928,-0.008681484325591127,0.1255216406316466,0.08743332961237571,0.12150532151444227,0.10242196237445694,0.028622938576194412,0.13291458304181225,0.11237625881971791,0.13879048482762868,0.09084266935835689,0.04538714121288695,0.10084426229439575,0.13200205742438553,0.13576461490172242,0.0369846735195542,0.12828684506290838,0.06961461459742446,0.11986388395067316,0.0796064057367541,0.10773824905315121,8.087357098052195e-05,0.1048918762876746,0.12745860316505014,0.10087875594374579,0.08295889128961131,0.036111692814138285,0.10081025260703474,0.10783050252756182,0.12137547463751369,0.10077375368219205,0.09740478577000716,0.1285246732206745,0.02316872669382225,0.10625060317907875,0.11706010951360418,0.12010251987363818,0.10967091280758906,0.06075030606079329,0.10246185877572062,0.054308585852554436,0.12405512589896239,0.08151825457218476,0.11661613862228143,0.12640237114062097,0.13357166266870252,0.130174555264084,0.13420288493427918,0.12513650561213152,0.12413214540577777,0.0724226048427129,0.1322046289908086,0.14343893661884888,0.10130151070368715,0.13787845707573865,0.09328054992172252,0.14601651952790917,0.051763760331689,0.08308024582437556,0.07351956845035607,0.11541634984006022,0.10798075979956884,0.07250592888438306,0.12201350649440607,0.07721056989987002,0.12616708211802247,0.0952151236724666,0.0627833808570592,0.03283536180194896,0.08957084958831646,0.08151368363006062,0.12014412241082717,0.08015560048875409,0.12272636153885874,0.08767553029414826,0.09883119521747663,0.10485068611839465,0.0734459469373483,0.0759814302242634,0.06878748516448119,0.08794770496117332,0.13884202409488539,0.08372551909133286,0.09703462535363588,0.07936295304881208,0.12179604043168507,0.10820989809760811,0.11727761651911972,0.1202965754786961,0.10660901947192586,0.11940944463094699,0.06519767632404189,0.1069900999337407,0.11631756508891544,0.10304005066481492,0.08227191268041745,0.10540850121304718,0.1048492593275544,0.02916219835731748,0.10887630633481821,0.11199730612231978,0.03672521152634045,0.10367920308574441,0.08387279011253634,0.11394218815576063,0.13992531320612417,0.08799021605215102,0.1297662259799372,0.10915133513812414,0.0690722338700075,0.04778771098179402,0.07353513084791052,0.10560408616091327,0.12261735558903764,0.1249845868248492,0.09004407011383209,0.09923635349299759,0.1173886407529226,0.126941592843129,0.09929790791187809,0.12280532131523242,0.09461701014126361,0.1330561835166248,0.06317600290249736,0.13650222356518493,0.09702354895800225,0.12539888413095024,0.12610876203796223,0.13163223650764644,0.14480107612831106,0.06926652220499763,0.09888468637058517,0.10105452323121217,0.1014109446415481,0.12044673101404468,0.12755996790614066,0.11766872287767921,0.10261760277824694,0.08153990773120912,0.12861770245046272,0.10346790829833497,0.12023385186330204,0.1164391908513947,0.11159383094330216,0.11720725869762694,0.11494505909280517,0.12384756878468844,0.12692308979331257,0.10636464405958773,0.1324201946882651,0.10974695127431472,0.06896300899781077,0.09892338733624767,0.11153878526126265,0.09921034073012047,0.06371137489918915,0.09945717245314828,0.1296298673069447,0.12584744236944434,0.053148987577883666,0.1307990833776872,0.1459746140626268,0.05872426845095802,0.0932484411214135,0.03555112405003813,0.13458291688998136,0.07984319944197638,0.1333595209493878,0.13146403106265425,0.12922827906613027,0.1318146132200379,0.1411344531415722,0.07807749611037168,0.07527121528823,0.06722922319065783,0.0950584201598289,0.075557030061143,0.039589726085814014,0.1305208351882029,0.13453613855969204,0.06625346191115056,0.10316070448846792,0.10623742389998386,0.100597234638174,0.04192170645792587,0.11268103774605537,0.11030101962596761,0.12483365098225696,0.06665582668329617,0.12338504851810334,0.12421634681425808,0.06527309173016765,0.1205107652043792,0.1162878834360111,0.10244552177203625,0.09663753657423996,0.09911320866419127,0.1204686591575273,0.0969258463183601,0.10954163302529446,0.12352004516473925,0.12232033008123622,0.08869735145747326,0.10546777757703119,0.03965163594283255,0.11557987688596416,0.09099962438917036,0.1162945551881549,0.09244891016819101,0.08524293129137794,0.12233180222947199,0.12759684854029363,0.11693810496746587,0.10743496711935824,0.11988046645375144,0.11830938503787636,0.13664101785365657,0.06781059893044489,0.12145631746435459,0.12482695256073562,0.02988650910099011,0.1254509225703097,0.11517696499597707,0.12954415619896148,0.14157980386204544,0.08866421991374823,0.038810185289259946,0.09680371480351146,0.13876514969373516,0.09927973153004216,0.13035202355192044,0.10209840055537733,0.11724340505717668,0.06508874690443994,0.10489837096512783,0.11033344581125737,0.12033584047941198,0.040198687608989814,0.05639129514194835,0.06683119709878571,0.12606058791377744,0.047318033821963756,0.0713538825833237,0.0900059908923922,0.12993461119085897,0.10554022689881098,0.0926229899759009,0.1429604124037292,0.04796047936801773,0.10454828843362718,0.13926932497147104,0.13053509619224507,0.08997349557322837,0.1295686213546497,0.0882832652438334,0.016781739026208997,0.09474662912137866,0.10305849873819939,0.11017746641514364,0.10314347477235125,0.10885113099998356,0.07456524506379014,0.055808272861133656,0.06496980269137587,0.08176816818340948,0.0761915964861386,0.10679610371857323,0.11867598847682542,0.13781048165497706,0.1493494785994422,0.10004274941437796,0.03679836441350587,0.1120728708108975,0.11899887099543233,0.12530740037675853,0.055138436578996086,0.09378194575203852,0.1318323478892769,0.08307429952494622,0.12791575524434007,0.05502067315771292,0.12746842421669868,0.10669184015605054,0.13800251967103755,0.059576650595067504,0.10703254203072199,0.13551668073367323,0.13647282584490894,0.009376313767090083,0.115027731567039,0.0969964793692959,0.07950377568229422,0.13605864749463575,0.10901531604038989,0.10283836850534078,0.13971830525636886,0.04259158479088315,0.09563704778275889,0.1100025028780558,0.06890751684436625,0.09231750752918855,0.12478573721523734,0.07548002077643595,0.10149791427523525,0.10955670949471069,0.09371534529268394,0.039227467527647275,0.11420655078650976,0.13251262241020328,0.11297235988442339,0.11578038045782729,0.034333142336625544,0.10332985341930695,0.08684373285089358,0.12483977283189018,0.11701302673104241,0.1069328886745406,0.11913575490686756,0.1186272671939067,0.08236200430347274,0.1097462763766715,0.08761215331176442,0.10079262883251644,0.07354203257678849,0.0685497573105805,0.07749604169666913,0.0844339829640473,0.10593105808331083,0.10013113342232743,0.13317861208481963,0.005287330974213522,0.0644369275748346,0.13920580597310916,0.05339047746382969,0.10624287728168946,0.07374831336837939,0.13616434255267257,0.10652213556646617,0.11017483474272421,0.07318659339269162,0.1293009840389719,0.11392307888474335,0.12571120875328373,0.08227358418597364,0.04229592737685117,0.10675238927034725,0.13374373993546074,0.08592193146406535,0.09374365518206051,0.08517695100030531,0.10539740331910447,0.0866681618088252,0.09336094800176914,0.08741679011332681,0.050672587613157294,0.1266283447058103,0.07615180849845549,0.14746278579102112,0.10096851550391212,0.08158527761138429,0.13790977389752795,0.09334419333386057,0.11710996145736563,0.06915257080648074,0.09053896463440769,0.12161832756924185,0.13546713660605314,0.0838896063966324,0.12252104658678592,0.05081904263844239,0.05429721934020992,0.09848521718944886,0.07813582845448874,0.07899003664311888,0.08680661167218096,0.12611832285055546,0.06861956561503058,0.10325891069611554,0.10665435502986714,0.0998542836399679,0.09981809220570942,0.11984139375402131,0.12672374078331228,0.09659155641208206,0.07670353887382492,0.0973248369044834,0.0895107994224798,0.118885697914769,0.12351232294527292,0.13397813865268016,0.08965734746207465,0.12107349865945721,0.043052613760500014,0.09516819419463207,0.09946740276140204,0.07756737200175479,0.08711423400877716,0.1194602295898769,0.14012123364258805,0.1356088254575134,0.1265380211414388,0.04795750046907782,0.0923721224056765,0.1073894735411004,0.09672668569386844,0.0990877396559961,0.11950868678847293,0.0761088657937033,0.02549549439182819,0.08955369065564389,0.11895394826485034,0.13479325486800475,0.1167685807219942,0.11248035225545155,0.13716025061562703,0.09181893558774534,0.11066794878284852,0.10565159417715198,0.05954493274392919,0.12739494732044848,0.09291311019944865,0.0903069456974015,0.12219154408239213,0.0957856081606489,0.0846183590606443,0.13095468766431245,0.11197739640031557,0.08326060826899945,0.06356894519767148,0.0893143065563971,0.12961189020047736,0.12812875560621145,0.09402587452757927,0.00692450398468103,0.09818772032177714,0.09523316768838541,-0.00647505831781936,0.12310845543512128,0.13282935761880255,0.12824219552922989,0.07088968287255254,0.090858370916228,0.07348881656458311,0.10411858379717082,0.06251085314917132,0.1028859062131337,0.010446413702326574,0.1326251463014707,0.0743178307869839,0.12898205721191747,0.10892882972181367,0.11966069329797263,0.11996496353195302,0.1242109492887215,0.13601286560218778,0.11212884033930198,0.0910960029146815,0.10230013061134374,0.11552475415776786,0.07495678544411727,0.1271690853858891,0.08604094504426385,0.1216540339186124,0.07736814475085224,0.09941243470595729,0.12358003462851885,0.09667099519546113,0.11534564293577065,0.08297404641598166,0.1011125665730061,0.08564465676468447,0.11605070037893328,0.10829018303010701,0.09999878154436176,0.13514643613752536,0.10106196478541174,0.10603580568599463,0.1228941137428412,0.05929501346856708,0.1254301861227084,0.1253766687014385,0.06699285606327143,0.08421009069533936,0.09748555256844732,0.1000358736104971,0.08297829408061091,0.10512960515796038,0.07454469353546656,0.10508722960167821,0.11338769895409578,0.09483333009267542,0.10077570038078121,0.06415292794016425,0.1148624251352176,0.07284622318189188,0.08693972897609742,0.041216715983292296,0.11182606637377562,0.09604840008534637,0.09720461880988018,0.12052236128563193,0.04873759335527961,0.06026126604159748,0.14308898618461952,0.06365046716937262,0.13912582011016678,0.11060279222643915,0.13325079100847048,0.10387128876198509,0.08747454561994117,0.06837623926806369,0.11013437975092943,0.09738940355060821,0.12254206431041842,0.07450842019034348,0.1299108282941721,0.11123840984045691,0.13920904586443256,0.1300159619438051,0.11196743696361244,0.10715028664215137,0.08080830816314183,0.10999651537230448,0.11763410145582148,0.10864206511066354,0.12746272660110092,0.0767831249771036,0.07300733512844204,0.08050479213780487,0.14435294796970993,0.09684627108940408,0.0644864188032161,0.12592194233304216,0.06145824979171621,0.141221007502001,0.13309622352202505,0.11920205598190747,0.13453139728379532,0.11101825536458704,0.12474847684621115,0.09855219830044454,0.07913086280021159,0.08332094638812809,0.052569942513499945,0.10389248514084737,0.12098560569174444,0.12163192082280155,0.08563141339549057,-0.014811761149911118,-0.0026218682143279715,0.0632143762402933,0.07234402074572743,0.08441363702225452,0.08146565556075536,0.12930817852854282,0.09465856148351681,0.10827867741304253,0.07230258026666453,0.11448389838575501,0.11372879054167145,0.11975322523217719,0.11686068850135417,0.06959987205833779,0.12381914153009693,0.09635250396930417,0.14615047806178671,0.11038512165546943,0.10561574613515423,0.08048612716276987,0.12771919474720672,0.07771058067500503,0.09892820044527068,0.12250729028678864,0.1135399432025691,0.09279944987262878,0.09674840208486252,0.12170212992073248,0.06913696071864722,0.1242426858352747,0.07868226275653778,0.12658666210328434,0.08578469773276032,0.11329063063358513,0.14101012555290388,0.0682544422819708,0.1336191908106632,0.11141970292647163,0.14583415036573266,0.10177624124518303,0.032786065618172044,0.1032115147226566,0.10315653791530782,0.12162287109839742,0.10902399589267597,0.0635150131542081,0.10460093718198638,0.12810821472687228,0.12571015219319542,0.09343710122365023,0.08655751779632809,0.1155405757804081,0.08389984105458193,0.10103114081757708,0.10623659388930834,0.05411269089615928,0.11020906886502324,0.0757063705859598,0.09061993094239457,0.13721088641543544,0.12023914526684198,0.0991101118797017,0.09594365758300949,0.10441679160179834,0.11799121836524967,0.12442210426900208,0.08616863376321104,0.06072357016476726,0.13833960572340231,-0.014801709898350723,0.07240503503640267,0.10035665591249177,0.10074786355796356,0.11882728433458573,0.08982350977660064,0.05861689455135055,0.09561416168726106,0.07286427482483404,0.09386459423934995,0.13494831318333206,0.07500857110753723,0.1322974429276118,0.10840694354612396,0.13473328871656431,0.08667237034631031,0.10999702550617224,0.1390597657867778,0.12368130475658828,0.09937517761113362,0.12588422368381919,0.10039469773157228,0.1389317130656822,0.07540991053374141,0.08116798027214672,0.10069687620753581,0.10284127956870437,0.14019613656974317,0.12283998836964755,0.11205426011684855,0.05279034280205325,0.04008853887409469,0.12067418206761105,0.07613454074398429,0.1435429012017097,0.061714794023492,0.12179155416251725,0.12682624943734255,0.10410059739758487,0.10254788375825108,0.09468115023579837,0.12904406781708316,0.04167611681366207,0.11752588351188109,0.025907147452611634,0.06688227487509635,0.13519965222577662,0.1429658711942659,0.1270754263927295,0.13998298633109812,0.1107548073170993,0.13888842131696322,0.09680991606721462,0.10255358487595362,0.11918894265374286,0.11619688139597001,0.09633861743225475,0.12230644527331902,0.1259078412110461,0.07119153320111293,0.09812860897461817,0.13463631956449323,0.11520492365706181,0.13344945297608657,0.04089177611923239,0.0822337581338608,0.08692260312162686,0.09490205544122232,0.10230913955416149,0.08461834041275867,0.0972721408739915,0.11859150656962564,0.13550254042993232,0.0406426712905969,0.10613632006899326,0.13615099044314483,0.14411134323789215,0.14907102421648227,0.10566147808392218,0.07543871705707783,0.11835080714538604,0.09507909504635537,0.1111297298329636,0.11277406518096977,0.1028561218193243,0.10975794299635971,0.10581319898280633,0.11922627142848957,0.09867762680680026,0.11772545408954482,0.12735598745804833,0.12805748118849813,0.12262468123063991,0.05073263812266676,0.09977887621465625,0.093508945894894,0.09073777469137251,0.12064377342523003,0.03326613468583062,0.12399288446659318,0.1044593098129526,0.1198182085302581,0.0896192474694451,0.11528304225328467,0.041335171929822,0.11366205247769823,0.10744634428441963,0.01351317988221129,0.1159678671107569,0.09197242739914901,0.12200083943328444,0.1159078114277487,0.09842226895917022,0.11216147897347967,0.0856063576296135,0.1326702072452755,0.06026389789811304,0.095543213070437,0.11403610514045909,0.10410543952540974,0.05112699251523006,0.09340073314159952,0.1320105751116224,0.03448139959776997,0.108019576292114,0.09632474915522854,0.11327312896520281,0.11513458446142139,0.12818734040615604,0.13267389989387585,0.1342504690137885,0.09007897006580318,0.10227172653490929,0.14747447871616942,0.13241702074003325,0.07765719679734018,0.10858244836852454,0.10084477718202639,0.03323194061116902,0.08751169922823909,0.07875822541299171,0.1360853498592583,0.12197241259812591,0.06304753887341624,0.08102276494655364,0.1108915866460446,0.11640102079769166,0.12921227770141858,0.09519442085192587,0.08871069475940468,0.11550991479416611,0.08337271668160179,0.13771823442389852,0.13125162716306793,0.0977093147175388,0.10890265216750972,0.12004844706295398,0.11705953655925183,0.13625718131641207,0.10550700098264043,0.12845731032645102,0.08594281366406326,0.11187081656331971,0.05741582522859845,0.12597996125396194,0.1083949363486359,0.1507907229928615,0.10826041812836157,0.12412096133580253,0.10454661906484863,0.07231953276678016,0.09696073359067586,0.11367971994198894,0.12302511186440596,0.12666540148025096,0.13621006286615162,0.10955240532959809,0.12039210276595974,0.056335189247610884,0.14850167902170236,0.04949977362596791,0.0885593586396467,0.10749023273633196,0.0632526431892469,0.11338847781027289,0.10180281840886246,0.13461799451364947,0.1342143386893745,0.11570264407159392,0.04024781595304422,0.1324487434542736,0.07784220849659274,0.04994254852987029,0.0548174401221615,0.1395915656954132,0.1413049932597551,0.12671967733492467,0.15048297870904825,0.05872777132430118,0.13389321031162404,0.12655351818091404,0.13163000611609793,0.11267461776036614,0.12338759127778309,0.14256445619969305,0.05702166546321452,0.10927164264806538,0.08357315089377132,0.03242950359183111,0.07504657710412505,0.08193962043614816,0.06711791592129557,0.10876093220478855,0.11277726209569311,0.10912564699117194,0.1251073854784534,0.04859689432692971,0.10500437533462159,0.11746554856087188,0.11782276665714103,0.10894054412109416,0.10545680802050472,0.11652954413761446,0.14591453822712674,0.11169428909652196,0.12461497768682817,0.13670495755414863,0.10426299070700817,0.13632113040084476,0.0482109044284188,0.11018984389919545,0.14258077335310404,0.14362174750451628,0.1135483383414097,0.09560124890874738,0.09811803310341871,0.12884261796967522,0.04496885251099819,0.08252538639490126,0.027193912557078703,0.08106144753722838,0.11763666740072054,0.11753508766098214,0.13968963444809945,0.13083629279175985,0.13777014604171262,0.11590044415798167,0.11829067965494389,0.11496303880585906,0.007130088864728434,0.031399986170659366,0.10681669139999417,0.1263689336958509,0.13990970392885577,0.09965772826309321,0.11627149929709635,0.1008972983448711,0.10698303635623058,0.11831558994938934,0.11536289502264646,0.11670920070044533,0.0832254698515188,0.12224273884069786,0.048311581532512304,0.09243032760758146,0.06237404671599023,0.08736217374259075,0.11259352269896344,0.09299968866973934,0.06849919373932184,0.10203042679174734,0.060538861932255994,0.07434485319205819,0.09614907263833733,0.12949339250932795,0.09730366774993399,0.11652496466956991,0.13213606711331366,0.12490148846438731,0.07441567847204844,0.068633193337374,0.09632969226609717,0.07352554339227896,0.1348339333414164,0.10135976959952675,0.13488517461534721,0.07054999026519454,0.10738220245095714,0.12569657303112047,0.09878309304609928,0.09913250116138506,0.11184869328801061,0.1014066098467516,0.05617151632735373,0.13378143012670618,0.03973310585836637,0.04554240288391054,0.12519565849613273,0.07441181835369243,0.11641527698960397,0.11574646818795836,0.109136634270319,0.10006556240122999,0.10715581164837573,0.07872882802796471,0.1222243776262325,0.04773337081952894,0.1040200506592967,0.05533940663461001,0.11002080871114261,0.13604257425761368,0.1446410078675171,0.08226736374731553,0.10350949286856487,0.1102897853207575,0.13927849139405818,0.11685618335341874,0.09987125621328158,0.11677412916320229,0.07707705258417558,0.13371370489837814,0.10674636651371061,0.08185450579774756,0.10466215138362245,0.10760931526604961,0.07726054569815632,0.08353192248679825,0.10434841749398743,0.13785920075924296,0.09235968815232382,0.05398293497686224,0.10504798702272405,0.12486522030050823,0.07016005409918008,0.10080971265049815,0.10769974013398603,0.1247015898095244,0.10939786633288678,0.12077742987045975,0.07914018337809192,0.06757249478071703,0.061577585111295075,0.1338213206316105,0.08448098018706895,0.08276942017693856,0.10221879840585713,0.08751824963457366,0.1078066743012091,0.06424272262072006,0.1329829883842233,0.09610771262671058,0.10555709737795732,0.11488859695826592,0.11210400898255163,0.084236102469816,0.11525144831898665,0.05854432082429778,0.06943349837035817,0.10472855613977061,0.11131556054853631,0.10574875936857858,0.13875452437643532,0.12781990100124002,0.09769267484952271,0.1305415729830564,0.12831427510863574,0.12830963497888864,0.07810111272783865,0.08957655777886075,0.13885493141065391,0.10935031144181717,0.1199654162551076,0.10996073151504021,0.11639187281059221,0.1428584141746823,0.10229097545936588,0.11872517503690799,0.14114156276713363,0.13392716500266794,0.13070613368336648,0.12377058133785701,0.10301732418800202,0.1330882089999869,0.08483149402197893,0.0932689759112113,0.017279654514583576,0.10533547242096664,0.10912218519089434,0.09749881312212355,0.12599604179105223,0.14373422118242896,0.07812882224021012,0.10984893772658921,0.11254784774901544,0.09841161797351067,0.04525799741243702,0.1403892211198659,0.11394862533734196,0.10087417868308535,0.10826372661788763,0.10291334781848938,0.10149456486222813,0.04936468333923294,0.13156323199535186,0.1055236007367451,0.14721635836723634,0.13015946269473327,0.09231542775071389,0.13516769303688203,0.13582855645965553,0.07600170141066281,0.10291302276198927,0.12293914579236626,0.08647172236214351,0.12008224374336468,0.05338422121350728,0.12420067345385577,0.05623775312048357,0.104628023537368,0.11987229133040139,0.12370624185125378,0.1239335036041711,0.08358179590786968,0.12965304746877887,0.08724814182817786,0.0954857257048346,0.10014261003465691,0.056144061814784596,0.14102448796294825,0.13200827280152277,0.08311381745216867,0.09993323977382623,0.06997358469970555,0.1266508229002774,0.0867806321575112,0.11043548050031882,0.09164248573163225,0.07630301315504667,0.11503341594586225,0.036970775578183235,0.09382276051805799,0.12227036542383363,0.0989594258632428,0.11520202855920059,0.10172872202011918,0.09428338259530272,0.11649307749395099,0.09910486970350918,0.08857868103630168,0.11353247177520953,0.11738690576075222,0.10464072511677991,0.10654845920765144,0.10749323168812153,0.13743652274213325,0.1090203059661331,0.07679665954560572,0.1373604632614996,0.051513692348704176,0.09696364888823794,0.0953561521169124,0.12650367549722563,0.13729808912633512,0.09236242312875564,0.07937281609007213,0.11268214826425232,0.11574499147209377,0.11442322689788714,0.048696681525893626,0.11140424044493391,0.1145636375767306,0.1159452715575795,0.09179706539548571,0.11368591322596616,0.06291127323861212,0.11099590410943821,0.019495912283262973,0.08253721885834187,0.10270048693126715,0.08068161290859227,0.12564979554032013,0.03380702049613643,0.13187735974197196,0.1475298197694952,0.1474841873422319,0.06875304019339523,0.09854874597531843,0.10087614759908553,0.09319489431831712,0.11429856616697809,0.14315310676506215,0.09866314803400844,0.06897540429603466,0.15253990885327184,0.13682427882018888,0.12000612341387817,0.13830677425946653,0.09457280591144063,0.13360064180926645,0.14649137242900695,0.10236632697962778,0.1179720799894119,0.14689997898289386,0.13609689881081138,0.0800213618774055,0.11402012426769176,0.06520085052656566,0.10676566286111688,0.08252389089607165,0.12149540923171837,0.13799407279826192,0.05278055118326236,0.08724824905288092,0.04741346129015139,0.06804948896072299,0.12048403280602366,0.13257435286695868,0.09853837614277788,0.05290157148916086,0.13187642879357675,0.09766832853039659,0.09378409023009754,0.12228972732356325,0.03920778679646891,0.10870438144751232,0.06256150940605815,0.09377048161675988,0.06744897276084039,0.08869120139053738,0.019170139199870928,0.083710452987863,0.08672295685135484,0.12781064030258094,0.1189859604944723,0.11091007275665327,0.1477858918875019,0.10209783796796829,0.10600234439156098,0.07672905878409891,0.0814387088847825,0.07166940186987186,0.11632505816348293,0.10639590366756047,0.06746836971478254,0.1367888969151142,0.09320910298458845,0.0928332385758005,0.1389723129415329,0.11473472925728789,0.12821887684481026,0.07441700421406428,0.11517286455867326,0.09148514480339809,0.10757292104661026,0.13790771662643753,0.10585880390240898,0.14178186236067442,0.09012390708184642,0.07487253785144365,0.0969982688426409,0.10694326611714994,0.008883056992243399,0.0909218793963838,0.06855544150047177,0.07956690720534415,0.04438295430614453,0.11122402239398732,0.1071517921239038,0.07270902809503171,0.11103587098151652,0.06097272262575032,0.10654825097024034,0.09369992269735578,0.14293355617997178,0.05596683766112914,0.14614951026647593,0.1081965724597101,0.12620722939491025,0.033517820405488175,0.10789882845452364,0.0914637263827599,0.12179136507894806,0.07191926552016703,0.09967054716626722,0.07322855206284434,0.0878593292671635,0.09119367659876082,0.0733324853701462,0.14233240531953234,0.11763183008914724,0.11958633215920289,0.12511072861382755,0.08271425787518127,-0.04392699406733225,0.11426023997760154,0.12721902788416128,0.06153896898971162,0.12624337046206424,0.13394539528131866,0.09611082041508084,0.08956135049309921,0.0749153703751887,0.14130405888077174,0.11820262956254751,0.13993823731206173,0.10113636437477136,0.11449149403938558,0.10405814583158285,0.09660226889743279,0.11708800627589216,0.14486332175785122,0.12450926166184667,0.07878343031304563,0.10885838090977085,0.09983930271228247,0.12720171674178754,0.06073332760395561,0.1396545993817745,0.08885177687260876,0.1047730136749564,0.044109475913398366,0.06267918568798558,0.12804954170594773,0.044753195724239136,0.14592010454153503,0.1258920187946586,0.11164009525400798,0.12457432574760535,0.11052126425102676,0.11355378345735717,0.13219704391267667,0.07062317119259182,-0.007384384389656495,0.13259100695743237,0.11986737147800303,0.1416676518953724,0.12267961800237492,0.1401155337045787,0.09181599761448916,0.11464808767554752,0.08786139804976689,0.09345743348807056,0.08178579043719264,0.10952208313734785,0.048683154679170615,0.08356854374516359,0.12663096273512903,0.10509347452484685,0.07612136689566062,0.14285182761827847,0.09465050641017109,0.13153907497485234,0.1199711445534496,0.11394021823448258,0.09541365287006442,0.06687933905114579,0.1105258981018476,0.10750983818246779,0.09822497578988937,0.09446927576051983,0.11922498188229913,0.13238349419590206,0.11089826346519926,0.11337141895452957,0.11288751747356723,0.09201670875332318,0.09248418639962325,0.1367720565006192,0.10039385329116052,0.12153660778944353,0.07125710033220367,0.061443579623271516,0.12321866800930531,0.1104888432360383,0.0996340084296869,0.07925597381678479,0.11289824793389058,0.08058383455643447,0.10247422016591673,0.10083011593031149,0.08301595278279306,0.09357900570644384,0.009039692484666462,0.07816711373596535,0.10389368719670344,0.13951295940582265,0.09388597183298125,0.13760918112940812,0.07728350229130732,0.08256512503277441,0.11974333614292204,0.07262277837583503,0.09255524754034122,0.09964908082439339,0.1034996166945219,0.08213142048233407,0.13831767112432525,0.11379372040544372,0.09782746747423121,0.08679682910099795,0.04103779370879007,0.12350877702090701,0.11425507647375588,0.11266906453494757,0.11178254344798871,0.14901309135088853,0.1268979110390973,0.03743298528216943,0.09774190331692062,0.07526920649776792,0.10594303427274504,0.09438820779629037,0.12736728652000218,0.12464982717235634,0.11507203675279304,0.12123456719436981,0.11067640145167701,0.10720073647350209,0.034456946259586896,0.13430626252508848,0.10737904377771651,0.1288635700093987,0.07633824829813046,0.07331264895689904,0.11136148447398514,0.11629868552955575,0.0993999074145756,0.1075901616861335,0.13211903307074863,0.09599559270966013,0.09976710350029083,0.13805836128889765,0.07140959546733783,0.08957000356368283,0.11149070724771493,0.051794595123973886,0.10623659388930834,0.11643692245984022,0.051897687250557545,0.13973852838239337,0.12391746145675836,0.09921089080352363,0.132001289420277,0.10892917304401345,0.07469833032358375,0.08461173075599548,0.10429120642436779,0.09658155793713541,0.10395799582402021,0.12995331031381618,0.1425310614800136,0.12444998619059983,0.09051186220028445,0.09125099935541936,0.13582106347631379],\"xaxis\":\"x\",\"yaxis\":\"y\",\"type\":\"histogram\"}],                        {\"template\":{\"data\":{\"bar\":[{\"error_x\":{\"color\":\"#2a3f5f\"},\"error_y\":{\"color\":\"#2a3f5f\"},\"marker\":{\"line\":{\"color\":\"#E5ECF6\",\"width\":0.5},\"pattern\":{\"fillmode\":\"overlay\",\"size\":10,\"solidity\":0.2}},\"type\":\"bar\"}],\"barpolar\":[{\"marker\":{\"line\":{\"color\":\"#E5ECF6\",\"width\":0.5},\"pattern\":{\"fillmode\":\"overlay\",\"size\":10,\"solidity\":0.2}},\"type\":\"barpolar\"}],\"carpet\":[{\"aaxis\":{\"endlinecolor\":\"#2a3f5f\",\"gridcolor\":\"white\",\"linecolor\":\"white\",\"minorgridcolor\":\"white\",\"startlinecolor\":\"#2a3f5f\"},\"baxis\":{\"endlinecolor\":\"#2a3f5f\",\"gridcolor\":\"white\",\"linecolor\":\"white\",\"minorgridcolor\":\"white\",\"startlinecolor\":\"#2a3f5f\"},\"type\":\"carpet\"}],\"choropleth\":[{\"colorbar\":{\"outlinewidth\":0,\"ticks\":\"\"},\"type\":\"choropleth\"}],\"contour\":[{\"colorbar\":{\"outlinewidth\":0,\"ticks\":\"\"},\"colorscale\":[[0.0,\"#0d0887\"],[0.1111111111111111,\"#46039f\"],[0.2222222222222222,\"#7201a8\"],[0.3333333333333333,\"#9c179e\"],[0.4444444444444444,\"#bd3786\"],[0.5555555555555556,\"#d8576b\"],[0.6666666666666666,\"#ed7953\"],[0.7777777777777778,\"#fb9f3a\"],[0.8888888888888888,\"#fdca26\"],[1.0,\"#f0f921\"]],\"type\":\"contour\"}],\"contourcarpet\":[{\"colorbar\":{\"outlinewidth\":0,\"ticks\":\"\"},\"type\":\"contourcarpet\"}],\"heatmap\":[{\"colorbar\":{\"outlinewidth\":0,\"ticks\":\"\"},\"colorscale\":[[0.0,\"#0d0887\"],[0.1111111111111111,\"#46039f\"],[0.2222222222222222,\"#7201a8\"],[0.3333333333333333,\"#9c179e\"],[0.4444444444444444,\"#bd3786\"],[0.5555555555555556,\"#d8576b\"],[0.6666666666666666,\"#ed7953\"],[0.7777777777777778,\"#fb9f3a\"],[0.8888888888888888,\"#fdca26\"],[1.0,\"#f0f921\"]],\"type\":\"heatmap\"}],\"heatmapgl\":[{\"colorbar\":{\"outlinewidth\":0,\"ticks\":\"\"},\"colorscale\":[[0.0,\"#0d0887\"],[0.1111111111111111,\"#46039f\"],[0.2222222222222222,\"#7201a8\"],[0.3333333333333333,\"#9c179e\"],[0.4444444444444444,\"#bd3786\"],[0.5555555555555556,\"#d8576b\"],[0.6666666666666666,\"#ed7953\"],[0.7777777777777778,\"#fb9f3a\"],[0.8888888888888888,\"#fdca26\"],[1.0,\"#f0f921\"]],\"type\":\"heatmapgl\"}],\"histogram\":[{\"marker\":{\"pattern\":{\"fillmode\":\"overlay\",\"size\":10,\"solidity\":0.2}},\"type\":\"histogram\"}],\"histogram2d\":[{\"colorbar\":{\"outlinewidth\":0,\"ticks\":\"\"},\"colorscale\":[[0.0,\"#0d0887\"],[0.1111111111111111,\"#46039f\"],[0.2222222222222222,\"#7201a8\"],[0.3333333333333333,\"#9c179e\"],[0.4444444444444444,\"#bd3786\"],[0.5555555555555556,\"#d8576b\"],[0.6666666666666666,\"#ed7953\"],[0.7777777777777778,\"#fb9f3a\"],[0.8888888888888888,\"#fdca26\"],[1.0,\"#f0f921\"]],\"type\":\"histogram2d\"}],\"histogram2dcontour\":[{\"colorbar\":{\"outlinewidth\":0,\"ticks\":\"\"},\"colorscale\":[[0.0,\"#0d0887\"],[0.1111111111111111,\"#46039f\"],[0.2222222222222222,\"#7201a8\"],[0.3333333333333333,\"#9c179e\"],[0.4444444444444444,\"#bd3786\"],[0.5555555555555556,\"#d8576b\"],[0.6666666666666666,\"#ed7953\"],[0.7777777777777778,\"#fb9f3a\"],[0.8888888888888888,\"#fdca26\"],[1.0,\"#f0f921\"]],\"type\":\"histogram2dcontour\"}],\"mesh3d\":[{\"colorbar\":{\"outlinewidth\":0,\"ticks\":\"\"},\"type\":\"mesh3d\"}],\"parcoords\":[{\"line\":{\"colorbar\":{\"outlinewidth\":0,\"ticks\":\"\"}},\"type\":\"parcoords\"}],\"pie\":[{\"automargin\":true,\"type\":\"pie\"}],\"scatter\":[{\"marker\":{\"colorbar\":{\"outlinewidth\":0,\"ticks\":\"\"}},\"type\":\"scatter\"}],\"scatter3d\":[{\"line\":{\"colorbar\":{\"outlinewidth\":0,\"ticks\":\"\"}},\"marker\":{\"colorbar\":{\"outlinewidth\":0,\"ticks\":\"\"}},\"type\":\"scatter3d\"}],\"scattercarpet\":[{\"marker\":{\"colorbar\":{\"outlinewidth\":0,\"ticks\":\"\"}},\"type\":\"scattercarpet\"}],\"scattergeo\":[{\"marker\":{\"colorbar\":{\"outlinewidth\":0,\"ticks\":\"\"}},\"type\":\"scattergeo\"}],\"scattergl\":[{\"marker\":{\"colorbar\":{\"outlinewidth\":0,\"ticks\":\"\"}},\"type\":\"scattergl\"}],\"scattermapbox\":[{\"marker\":{\"colorbar\":{\"outlinewidth\":0,\"ticks\":\"\"}},\"type\":\"scattermapbox\"}],\"scatterpolar\":[{\"marker\":{\"colorbar\":{\"outlinewidth\":0,\"ticks\":\"\"}},\"type\":\"scatterpolar\"}],\"scatterpolargl\":[{\"marker\":{\"colorbar\":{\"outlinewidth\":0,\"ticks\":\"\"}},\"type\":\"scatterpolargl\"}],\"scatterternary\":[{\"marker\":{\"colorbar\":{\"outlinewidth\":0,\"ticks\":\"\"}},\"type\":\"scatterternary\"}],\"surface\":[{\"colorbar\":{\"outlinewidth\":0,\"ticks\":\"\"},\"colorscale\":[[0.0,\"#0d0887\"],[0.1111111111111111,\"#46039f\"],[0.2222222222222222,\"#7201a8\"],[0.3333333333333333,\"#9c179e\"],[0.4444444444444444,\"#bd3786\"],[0.5555555555555556,\"#d8576b\"],[0.6666666666666666,\"#ed7953\"],[0.7777777777777778,\"#fb9f3a\"],[0.8888888888888888,\"#fdca26\"],[1.0,\"#f0f921\"]],\"type\":\"surface\"}],\"table\":[{\"cells\":{\"fill\":{\"color\":\"#EBF0F8\"},\"line\":{\"color\":\"white\"}},\"header\":{\"fill\":{\"color\":\"#C8D4E3\"},\"line\":{\"color\":\"white\"}},\"type\":\"table\"}]},\"layout\":{\"annotationdefaults\":{\"arrowcolor\":\"#2a3f5f\",\"arrowhead\":0,\"arrowwidth\":1},\"autotypenumbers\":\"strict\",\"coloraxis\":{\"colorbar\":{\"outlinewidth\":0,\"ticks\":\"\"}},\"colorscale\":{\"diverging\":[[0,\"#8e0152\"],[0.1,\"#c51b7d\"],[0.2,\"#de77ae\"],[0.3,\"#f1b6da\"],[0.4,\"#fde0ef\"],[0.5,\"#f7f7f7\"],[0.6,\"#e6f5d0\"],[0.7,\"#b8e186\"],[0.8,\"#7fbc41\"],[0.9,\"#4d9221\"],[1,\"#276419\"]],\"sequential\":[[0.0,\"#0d0887\"],[0.1111111111111111,\"#46039f\"],[0.2222222222222222,\"#7201a8\"],[0.3333333333333333,\"#9c179e\"],[0.4444444444444444,\"#bd3786\"],[0.5555555555555556,\"#d8576b\"],[0.6666666666666666,\"#ed7953\"],[0.7777777777777778,\"#fb9f3a\"],[0.8888888888888888,\"#fdca26\"],[1.0,\"#f0f921\"]],\"sequentialminus\":[[0.0,\"#0d0887\"],[0.1111111111111111,\"#46039f\"],[0.2222222222222222,\"#7201a8\"],[0.3333333333333333,\"#9c179e\"],[0.4444444444444444,\"#bd3786\"],[0.5555555555555556,\"#d8576b\"],[0.6666666666666666,\"#ed7953\"],[0.7777777777777778,\"#fb9f3a\"],[0.8888888888888888,\"#fdca26\"],[1.0,\"#f0f921\"]]},\"colorway\":[\"#636efa\",\"#EF553B\",\"#00cc96\",\"#ab63fa\",\"#FFA15A\",\"#19d3f3\",\"#FF6692\",\"#B6E880\",\"#FF97FF\",\"#FECB52\"],\"font\":{\"color\":\"#2a3f5f\"},\"geo\":{\"bgcolor\":\"white\",\"lakecolor\":\"white\",\"landcolor\":\"#E5ECF6\",\"showlakes\":true,\"showland\":true,\"subunitcolor\":\"white\"},\"hoverlabel\":{\"align\":\"left\"},\"hovermode\":\"closest\",\"mapbox\":{\"style\":\"light\"},\"paper_bgcolor\":\"white\",\"plot_bgcolor\":\"#E5ECF6\",\"polar\":{\"angularaxis\":{\"gridcolor\":\"white\",\"linecolor\":\"white\",\"ticks\":\"\"},\"bgcolor\":\"#E5ECF6\",\"radialaxis\":{\"gridcolor\":\"white\",\"linecolor\":\"white\",\"ticks\":\"\"}},\"scene\":{\"xaxis\":{\"backgroundcolor\":\"#E5ECF6\",\"gridcolor\":\"white\",\"gridwidth\":2,\"linecolor\":\"white\",\"showbackground\":true,\"ticks\":\"\",\"zerolinecolor\":\"white\"},\"yaxis\":{\"backgroundcolor\":\"#E5ECF6\",\"gridcolor\":\"white\",\"gridwidth\":2,\"linecolor\":\"white\",\"showbackground\":true,\"ticks\":\"\",\"zerolinecolor\":\"white\"},\"zaxis\":{\"backgroundcolor\":\"#E5ECF6\",\"gridcolor\":\"white\",\"gridwidth\":2,\"linecolor\":\"white\",\"showbackground\":true,\"ticks\":\"\",\"zerolinecolor\":\"white\"}},\"shapedefaults\":{\"line\":{\"color\":\"#2a3f5f\"}},\"ternary\":{\"aaxis\":{\"gridcolor\":\"white\",\"linecolor\":\"white\",\"ticks\":\"\"},\"baxis\":{\"gridcolor\":\"white\",\"linecolor\":\"white\",\"ticks\":\"\"},\"bgcolor\":\"#E5ECF6\",\"caxis\":{\"gridcolor\":\"white\",\"linecolor\":\"white\",\"ticks\":\"\"}},\"title\":{\"x\":0.05},\"xaxis\":{\"automargin\":true,\"gridcolor\":\"white\",\"linecolor\":\"white\",\"ticks\":\"\",\"title\":{\"standoff\":15},\"zerolinecolor\":\"white\",\"zerolinewidth\":2},\"yaxis\":{\"automargin\":true,\"gridcolor\":\"white\",\"linecolor\":\"white\",\"ticks\":\"\",\"title\":{\"standoff\":15},\"zerolinecolor\":\"white\",\"zerolinewidth\":2}}},\"xaxis\":{\"anchor\":\"y\",\"domain\":[0.0,1.0],\"title\":{\"text\":\"normality\"}},\"yaxis\":{\"anchor\":\"x\",\"domain\":[0.0,1.0],\"title\":{\"text\":\"count\"}},\"legend\":{\"tracegroupgap\":0},\"margin\":{\"t\":60},\"barmode\":\"relative\",\"height\":400,\"width\":400,\"shapes\":[{\"line\":{\"color\":\"red\",\"dash\":\"dash\",\"width\":3},\"type\":\"line\",\"x0\":0.027688280025841117,\"x1\":0.027688280025841117,\"xref\":\"x\",\"y0\":0,\"y1\":1,\"yref\":\"y domain\"}]},                        {\"responsive\": true}                    ).then(function(){\n",
              "                            \n",
              "var gd = document.getElementById('65afa809-5640-45ce-997c-2c569b040cfd');\n",
              "var x = new MutationObserver(function (mutations, observer) {{\n",
              "        var display = window.getComputedStyle(gd).display;\n",
              "        if (!display || display === 'none') {{\n",
              "            console.log([gd, 'removed!']);\n",
              "            Plotly.purge(gd);\n",
              "            observer.disconnect();\n",
              "        }}\n",
              "}});\n",
              "\n",
              "// Listen for the removal of the full notebook cells\n",
              "var notebookContainer = gd.closest('#notebook-container');\n",
              "if (notebookContainer) {{\n",
              "    x.observe(notebookContainer, {childList: true});\n",
              "}}\n",
              "\n",
              "// Listen for the clearing of the current output cell\n",
              "var outputEl = gd.closest('.output');\n",
              "if (outputEl) {{\n",
              "    x.observe(outputEl, {childList: true});\n",
              "}}\n",
              "\n",
              "                        })                };                            </script>        </div>\n",
              "</body>\n",
              "</html>"
            ]
          },
          "metadata": {}
        }
      ],
      "source": [
        "def outlier_threshold(normality, k=1.5):\n",
        "  q1 = np.quantile(normality, 0.25)\n",
        "  q3 = np.quantile(normality, 0.75)  \n",
        "  threshold = q1 - k*(q3-q1)\n",
        "  return threshold\n",
        "\n",
        "threshold = outlier_threshold(normality_df['normality'].values, k=1.5)\n",
        "\n",
        "fig = px.histogram(normality_df, x='normality', width=400, height=400)\n",
        "fig.add_vline(x=threshold, line_width=3, line_dash=\"dash\", line_color=\"red\")\n",
        "fig.show()"
      ]
    },
    {
      "cell_type": "code",
      "execution_count": null,
      "metadata": {
        "colab": {
          "base_uri": "https://localhost:8080/",
          "height": 417
        },
        "id": "HFc_y-fSUp4Y",
        "outputId": "74ce52fe-2f89-45e9-9d5b-bc2326954e02"
      },
      "outputs": [
        {
          "output_type": "display_data",
          "data": {
            "text/html": [
              "<html>\n",
              "<head><meta charset=\"utf-8\" /></head>\n",
              "<body>\n",
              "    <div>            <script src=\"https://cdnjs.cloudflare.com/ajax/libs/mathjax/2.7.5/MathJax.js?config=TeX-AMS-MML_SVG\"></script><script type=\"text/javascript\">if (window.MathJax) {MathJax.Hub.Config({SVG: {font: \"STIX-Web\"}});}</script>                <script type=\"text/javascript\">window.PlotlyConfig = {MathJaxConfig: 'local'};</script>\n",
              "        <script src=\"https://cdn.plot.ly/plotly-2.8.3.min.js\"></script>                <div id=\"3bd2a3b3-0bc0-4a53-b560-1055f5f55401\" class=\"plotly-graph-div\" style=\"height:400px; width:400px;\"></div>            <script type=\"text/javascript\">                                    window.PLOTLYENV=window.PLOTLYENV || {};                                    if (document.getElementById(\"3bd2a3b3-0bc0-4a53-b560-1055f5f55401\")) {                    Plotly.newPlot(                        \"3bd2a3b3-0bc0-4a53-b560-1055f5f55401\",                        [{\"alignmentgroup\":\"True\",\"hovertemplate\":\"normality=%{x}<extra></extra>\",\"legendgroup\":\"\",\"marker\":{\"color\":\"#636efa\"},\"name\":\"\",\"notched\":false,\"offsetgroup\":\"\",\"orientation\":\"h\",\"showlegend\":false,\"x\":[0.14127913635920158,0.108337234303236,0.13582366638146437,0.09448780758651015,0.12096550139319207,0.10908391545243135,0.13395302812931448,0.10343200092990618,0.07033151150410355,0.044237018657355465,0.13547135077945982,0.05776751488476273,0.12005082022329328,0.11563862199438368,0.10345030721562987,0.08245791456285123,0.11173080081891756,0.06280348712884293,0.12461918448242454,0.11164721412961465,0.06615695382104109,0.07406887389272915,0.13264089709092752,0.11376348568911804,0.11439586843528565,0.12082656656183843,0.1152923249214422,0.11354954820030028,0.11011126272674321,0.05883749652921183,0.05030913032392309,0.12630005197106148,0.12832619978086707,0.11286047266393462,0.10208895402822427,0.09435336486800888,0.1362388160849291,0.123225112208936,0.11258495106521715,0.016975928019966946,0.11967700472468207,0.11048562541172113,0.1060430637401224,0.11017942903260147,0.11418668968685458,0.08998613423311069,0.08728493203309612,0.12668533866713722,0.0492794754023238,0.13519050469178345,0.13105343272587633,0.10481793584978877,0.009747116710830617,0.06564663117771752,0.0815902039870518,0.13398312204354634,0.09185255828225325,0.13871954502663159,0.024657260791527913,0.11254947061013415,0.10908959604124024,0.07322294936113694,0.09843696126486468,0.045049478379472874,0.13445226402571236,0.10756573456446877,0.10467006697377018,0.1464537774207208,0.0968992602574833,0.09153706534087791,0.10653110485268075,0.12563573954891372,0.12776088461982388,0.1282556222735352,0.06584129526238702,0.07372205955786171,0.10639576142538237,0.10808385857120217,0.06922188744953661,0.11419463097443383,0.1299652863363902,0.08829557848011682,0.117513904076194,0.1238448007613398,0.09455841908681739,0.11137940926807732,0.12696362281564316,0.07295254284828928,-0.008681484325591127,0.1255216406316466,0.08743332961237571,0.12150532151444227,0.10242196237445694,0.028622938576194412,0.13291458304181225,0.11237625881971791,0.13879048482762868,0.09084266935835689,0.04538714121288695,0.10084426229439575,0.13200205742438553,0.13576461490172242,0.0369846735195542,0.12828684506290838,0.06961461459742446,0.11986388395067316,0.0796064057367541,0.10773824905315121,8.087357098052195e-05,0.1048918762876746,0.12745860316505014,0.10087875594374579,0.08295889128961131,0.036111692814138285,0.10081025260703474,0.10783050252756182,0.12137547463751369,0.10077375368219205,0.09740478577000716,0.1285246732206745,0.02316872669382225,0.10625060317907875,0.11706010951360418,0.12010251987363818,0.10967091280758906,0.06075030606079329,0.10246185877572062,0.054308585852554436,0.12405512589896239,0.08151825457218476,0.11661613862228143,0.12640237114062097,0.13357166266870252,0.130174555264084,0.13420288493427918,0.12513650561213152,0.12413214540577777,0.0724226048427129,0.1322046289908086,0.14343893661884888,0.10130151070368715,0.13787845707573865,0.09328054992172252,0.14601651952790917,0.051763760331689,0.08308024582437556,0.07351956845035607,0.11541634984006022,0.10798075979956884,0.07250592888438306,0.12201350649440607,0.07721056989987002,0.12616708211802247,0.0952151236724666,0.0627833808570592,0.03283536180194896,0.08957084958831646,0.08151368363006062,0.12014412241082717,0.08015560048875409,0.12272636153885874,0.08767553029414826,0.09883119521747663,0.10485068611839465,0.0734459469373483,0.0759814302242634,0.06878748516448119,0.08794770496117332,0.13884202409488539,0.08372551909133286,0.09703462535363588,0.07936295304881208,0.12179604043168507,0.10820989809760811,0.11727761651911972,0.1202965754786961,0.10660901947192586,0.11940944463094699,0.06519767632404189,0.1069900999337407,0.11631756508891544,0.10304005066481492,0.08227191268041745,0.10540850121304718,0.1048492593275544,0.02916219835731748,0.10887630633481821,0.11199730612231978,0.03672521152634045,0.10367920308574441,0.08387279011253634,0.11394218815576063,0.13992531320612417,0.08799021605215102,0.1297662259799372,0.10915133513812414,0.0690722338700075,0.04778771098179402,0.07353513084791052,0.10560408616091327,0.12261735558903764,0.1249845868248492,0.09004407011383209,0.09923635349299759,0.1173886407529226,0.126941592843129,0.09929790791187809,0.12280532131523242,0.09461701014126361,0.1330561835166248,0.06317600290249736,0.13650222356518493,0.09702354895800225,0.12539888413095024,0.12610876203796223,0.13163223650764644,0.14480107612831106,0.06926652220499763,0.09888468637058517,0.10105452323121217,0.1014109446415481,0.12044673101404468,0.12755996790614066,0.11766872287767921,0.10261760277824694,0.08153990773120912,0.12861770245046272,0.10346790829833497,0.12023385186330204,0.1164391908513947,0.11159383094330216,0.11720725869762694,0.11494505909280517,0.12384756878468844,0.12692308979331257,0.10636464405958773,0.1324201946882651,0.10974695127431472,0.06896300899781077,0.09892338733624767,0.11153878526126265,0.09921034073012047,0.06371137489918915,0.09945717245314828,0.1296298673069447,0.12584744236944434,0.053148987577883666,0.1307990833776872,0.1459746140626268,0.05872426845095802,0.0932484411214135,0.03555112405003813,0.13458291688998136,0.07984319944197638,0.1333595209493878,0.13146403106265425,0.12922827906613027,0.1318146132200379,0.1411344531415722,0.07807749611037168,0.07527121528823,0.06722922319065783,0.0950584201598289,0.075557030061143,0.039589726085814014,0.1305208351882029,0.13453613855969204,0.06625346191115056,0.10316070448846792,0.10623742389998386,0.100597234638174,0.04192170645792587,0.11268103774605537,0.11030101962596761,0.12483365098225696,0.06665582668329617,0.12338504851810334,0.12421634681425808,0.06527309173016765,0.1205107652043792,0.1162878834360111,0.10244552177203625,0.09663753657423996,0.09911320866419127,0.1204686591575273,0.0969258463183601,0.10954163302529446,0.12352004516473925,0.12232033008123622,0.08869735145747326,0.10546777757703119,0.03965163594283255,0.11557987688596416,0.09099962438917036,0.1162945551881549,0.09244891016819101,0.08524293129137794,0.12233180222947199,0.12759684854029363,0.11693810496746587,0.10743496711935824,0.11988046645375144,0.11830938503787636,0.13664101785365657,0.06781059893044489,0.12145631746435459,0.12482695256073562,0.02988650910099011,0.1254509225703097,0.11517696499597707,0.12954415619896148,0.14157980386204544,0.08866421991374823,0.038810185289259946,0.09680371480351146,0.13876514969373516,0.09927973153004216,0.13035202355192044,0.10209840055537733,0.11724340505717668,0.06508874690443994,0.10489837096512783,0.11033344581125737,0.12033584047941198,0.040198687608989814,0.05639129514194835,0.06683119709878571,0.12606058791377744,0.047318033821963756,0.0713538825833237,0.0900059908923922,0.12993461119085897,0.10554022689881098,0.0926229899759009,0.1429604124037292,0.04796047936801773,0.10454828843362718,0.13926932497147104,0.13053509619224507,0.08997349557322837,0.1295686213546497,0.0882832652438334,0.016781739026208997,0.09474662912137866,0.10305849873819939,0.11017746641514364,0.10314347477235125,0.10885113099998356,0.07456524506379014,0.055808272861133656,0.06496980269137587,0.08176816818340948,0.0761915964861386,0.10679610371857323,0.11867598847682542,0.13781048165497706,0.1493494785994422,0.10004274941437796,0.03679836441350587,0.1120728708108975,0.11899887099543233,0.12530740037675853,0.055138436578996086,0.09378194575203852,0.1318323478892769,0.08307429952494622,0.12791575524434007,0.05502067315771292,0.12746842421669868,0.10669184015605054,0.13800251967103755,0.059576650595067504,0.10703254203072199,0.13551668073367323,0.13647282584490894,0.009376313767090083,0.115027731567039,0.0969964793692959,0.07950377568229422,0.13605864749463575,0.10901531604038989,0.10283836850534078,0.13971830525636886,0.04259158479088315,0.09563704778275889,0.1100025028780558,0.06890751684436625,0.09231750752918855,0.12478573721523734,0.07548002077643595,0.10149791427523525,0.10955670949471069,0.09371534529268394,0.039227467527647275,0.11420655078650976,0.13251262241020328,0.11297235988442339,0.11578038045782729,0.034333142336625544,0.10332985341930695,0.08684373285089358,0.12483977283189018,0.11701302673104241,0.1069328886745406,0.11913575490686756,0.1186272671939067,0.08236200430347274,0.1097462763766715,0.08761215331176442,0.10079262883251644,0.07354203257678849,0.0685497573105805,0.07749604169666913,0.0844339829640473,0.10593105808331083,0.10013113342232743,0.13317861208481963,0.005287330974213522,0.0644369275748346,0.13920580597310916,0.05339047746382969,0.10624287728168946,0.07374831336837939,0.13616434255267257,0.10652213556646617,0.11017483474272421,0.07318659339269162,0.1293009840389719,0.11392307888474335,0.12571120875328373,0.08227358418597364,0.04229592737685117,0.10675238927034725,0.13374373993546074,0.08592193146406535,0.09374365518206051,0.08517695100030531,0.10539740331910447,0.0866681618088252,0.09336094800176914,0.08741679011332681,0.050672587613157294,0.1266283447058103,0.07615180849845549,0.14746278579102112,0.10096851550391212,0.08158527761138429,0.13790977389752795,0.09334419333386057,0.11710996145736563,0.06915257080648074,0.09053896463440769,0.12161832756924185,0.13546713660605314,0.0838896063966324,0.12252104658678592,0.05081904263844239,0.05429721934020992,0.09848521718944886,0.07813582845448874,0.07899003664311888,0.08680661167218096,0.12611832285055546,0.06861956561503058,0.10325891069611554,0.10665435502986714,0.0998542836399679,0.09981809220570942,0.11984139375402131,0.12672374078331228,0.09659155641208206,0.07670353887382492,0.0973248369044834,0.0895107994224798,0.118885697914769,0.12351232294527292,0.13397813865268016,0.08965734746207465,0.12107349865945721,0.043052613760500014,0.09516819419463207,0.09946740276140204,0.07756737200175479,0.08711423400877716,0.1194602295898769,0.14012123364258805,0.1356088254575134,0.1265380211414388,0.04795750046907782,0.0923721224056765,0.1073894735411004,0.09672668569386844,0.0990877396559961,0.11950868678847293,0.0761088657937033,0.02549549439182819,0.08955369065564389,0.11895394826485034,0.13479325486800475,0.1167685807219942,0.11248035225545155,0.13716025061562703,0.09181893558774534,0.11066794878284852,0.10565159417715198,0.05954493274392919,0.12739494732044848,0.09291311019944865,0.0903069456974015,0.12219154408239213,0.0957856081606489,0.0846183590606443,0.13095468766431245,0.11197739640031557,0.08326060826899945,0.06356894519767148,0.0893143065563971,0.12961189020047736,0.12812875560621145,0.09402587452757927,0.00692450398468103,0.09818772032177714,0.09523316768838541,-0.00647505831781936,0.12310845543512128,0.13282935761880255,0.12824219552922989,0.07088968287255254,0.090858370916228,0.07348881656458311,0.10411858379717082,0.06251085314917132,0.1028859062131337,0.010446413702326574,0.1326251463014707,0.0743178307869839,0.12898205721191747,0.10892882972181367,0.11966069329797263,0.11996496353195302,0.1242109492887215,0.13601286560218778,0.11212884033930198,0.0910960029146815,0.10230013061134374,0.11552475415776786,0.07495678544411727,0.1271690853858891,0.08604094504426385,0.1216540339186124,0.07736814475085224,0.09941243470595729,0.12358003462851885,0.09667099519546113,0.11534564293577065,0.08297404641598166,0.1011125665730061,0.08564465676468447,0.11605070037893328,0.10829018303010701,0.09999878154436176,0.13514643613752536,0.10106196478541174,0.10603580568599463,0.1228941137428412,0.05929501346856708,0.1254301861227084,0.1253766687014385,0.06699285606327143,0.08421009069533936,0.09748555256844732,0.1000358736104971,0.08297829408061091,0.10512960515796038,0.07454469353546656,0.10508722960167821,0.11338769895409578,0.09483333009267542,0.10077570038078121,0.06415292794016425,0.1148624251352176,0.07284622318189188,0.08693972897609742,0.041216715983292296,0.11182606637377562,0.09604840008534637,0.09720461880988018,0.12052236128563193,0.04873759335527961,0.06026126604159748,0.14308898618461952,0.06365046716937262,0.13912582011016678,0.11060279222643915,0.13325079100847048,0.10387128876198509,0.08747454561994117,0.06837623926806369,0.11013437975092943,0.09738940355060821,0.12254206431041842,0.07450842019034348,0.1299108282941721,0.11123840984045691,0.13920904586443256,0.1300159619438051,0.11196743696361244,0.10715028664215137,0.08080830816314183,0.10999651537230448,0.11763410145582148,0.10864206511066354,0.12746272660110092,0.0767831249771036,0.07300733512844204,0.08050479213780487,0.14435294796970993,0.09684627108940408,0.0644864188032161,0.12592194233304216,0.06145824979171621,0.141221007502001,0.13309622352202505,0.11920205598190747,0.13453139728379532,0.11101825536458704,0.12474847684621115,0.09855219830044454,0.07913086280021159,0.08332094638812809,0.052569942513499945,0.10389248514084737,0.12098560569174444,0.12163192082280155,0.08563141339549057,-0.014811761149911118,-0.0026218682143279715,0.0632143762402933,0.07234402074572743,0.08441363702225452,0.08146565556075536,0.12930817852854282,0.09465856148351681,0.10827867741304253,0.07230258026666453,0.11448389838575501,0.11372879054167145,0.11975322523217719,0.11686068850135417,0.06959987205833779,0.12381914153009693,0.09635250396930417,0.14615047806178671,0.11038512165546943,0.10561574613515423,0.08048612716276987,0.12771919474720672,0.07771058067500503,0.09892820044527068,0.12250729028678864,0.1135399432025691,0.09279944987262878,0.09674840208486252,0.12170212992073248,0.06913696071864722,0.1242426858352747,0.07868226275653778,0.12658666210328434,0.08578469773276032,0.11329063063358513,0.14101012555290388,0.0682544422819708,0.1336191908106632,0.11141970292647163,0.14583415036573266,0.10177624124518303,0.032786065618172044,0.1032115147226566,0.10315653791530782,0.12162287109839742,0.10902399589267597,0.0635150131542081,0.10460093718198638,0.12810821472687228,0.12571015219319542,0.09343710122365023,0.08655751779632809,0.1155405757804081,0.08389984105458193,0.10103114081757708,0.10623659388930834,0.05411269089615928,0.11020906886502324,0.0757063705859598,0.09061993094239457,0.13721088641543544,0.12023914526684198,0.0991101118797017,0.09594365758300949,0.10441679160179834,0.11799121836524967,0.12442210426900208,0.08616863376321104,0.06072357016476726,0.13833960572340231,-0.014801709898350723,0.07240503503640267,0.10035665591249177,0.10074786355796356,0.11882728433458573,0.08982350977660064,0.05861689455135055,0.09561416168726106,0.07286427482483404,0.09386459423934995,0.13494831318333206,0.07500857110753723,0.1322974429276118,0.10840694354612396,0.13473328871656431,0.08667237034631031,0.10999702550617224,0.1390597657867778,0.12368130475658828,0.09937517761113362,0.12588422368381919,0.10039469773157228,0.1389317130656822,0.07540991053374141,0.08116798027214672,0.10069687620753581,0.10284127956870437,0.14019613656974317,0.12283998836964755,0.11205426011684855,0.05279034280205325,0.04008853887409469,0.12067418206761105,0.07613454074398429,0.1435429012017097,0.061714794023492,0.12179155416251725,0.12682624943734255,0.10410059739758487,0.10254788375825108,0.09468115023579837,0.12904406781708316,0.04167611681366207,0.11752588351188109,0.025907147452611634,0.06688227487509635,0.13519965222577662,0.1429658711942659,0.1270754263927295,0.13998298633109812,0.1107548073170993,0.13888842131696322,0.09680991606721462,0.10255358487595362,0.11918894265374286,0.11619688139597001,0.09633861743225475,0.12230644527331902,0.1259078412110461,0.07119153320111293,0.09812860897461817,0.13463631956449323,0.11520492365706181,0.13344945297608657,0.04089177611923239,0.0822337581338608,0.08692260312162686,0.09490205544122232,0.10230913955416149,0.08461834041275867,0.0972721408739915,0.11859150656962564,0.13550254042993232,0.0406426712905969,0.10613632006899326,0.13615099044314483,0.14411134323789215,0.14907102421648227,0.10566147808392218,0.07543871705707783,0.11835080714538604,0.09507909504635537,0.1111297298329636,0.11277406518096977,0.1028561218193243,0.10975794299635971,0.10581319898280633,0.11922627142848957,0.09867762680680026,0.11772545408954482,0.12735598745804833,0.12805748118849813,0.12262468123063991,0.05073263812266676,0.09977887621465625,0.093508945894894,0.09073777469137251,0.12064377342523003,0.03326613468583062,0.12399288446659318,0.1044593098129526,0.1198182085302581,0.0896192474694451,0.11528304225328467,0.041335171929822,0.11366205247769823,0.10744634428441963,0.01351317988221129,0.1159678671107569,0.09197242739914901,0.12200083943328444,0.1159078114277487,0.09842226895917022,0.11216147897347967,0.0856063576296135,0.1326702072452755,0.06026389789811304,0.095543213070437,0.11403610514045909,0.10410543952540974,0.05112699251523006,0.09340073314159952,0.1320105751116224,0.03448139959776997,0.108019576292114,0.09632474915522854,0.11327312896520281,0.11513458446142139,0.12818734040615604,0.13267389989387585,0.1342504690137885,0.09007897006580318,0.10227172653490929,0.14747447871616942,0.13241702074003325,0.07765719679734018,0.10858244836852454,0.10084477718202639,0.03323194061116902,0.08751169922823909,0.07875822541299171,0.1360853498592583,0.12197241259812591,0.06304753887341624,0.08102276494655364,0.1108915866460446,0.11640102079769166,0.12921227770141858,0.09519442085192587,0.08871069475940468,0.11550991479416611,0.08337271668160179,0.13771823442389852,0.13125162716306793,0.0977093147175388,0.10890265216750972,0.12004844706295398,0.11705953655925183,0.13625718131641207,0.10550700098264043,0.12845731032645102,0.08594281366406326,0.11187081656331971,0.05741582522859845,0.12597996125396194,0.1083949363486359,0.1507907229928615,0.10826041812836157,0.12412096133580253,0.10454661906484863,0.07231953276678016,0.09696073359067586,0.11367971994198894,0.12302511186440596,0.12666540148025096,0.13621006286615162,0.10955240532959809,0.12039210276595974,0.056335189247610884,0.14850167902170236,0.04949977362596791,0.0885593586396467,0.10749023273633196,0.0632526431892469,0.11338847781027289,0.10180281840886246,0.13461799451364947,0.1342143386893745,0.11570264407159392,0.04024781595304422,0.1324487434542736,0.07784220849659274,0.04994254852987029,0.0548174401221615,0.1395915656954132,0.1413049932597551,0.12671967733492467,0.15048297870904825,0.05872777132430118,0.13389321031162404,0.12655351818091404,0.13163000611609793,0.11267461776036614,0.12338759127778309,0.14256445619969305,0.05702166546321452,0.10927164264806538,0.08357315089377132,0.03242950359183111,0.07504657710412505,0.08193962043614816,0.06711791592129557,0.10876093220478855,0.11277726209569311,0.10912564699117194,0.1251073854784534,0.04859689432692971,0.10500437533462159,0.11746554856087188,0.11782276665714103,0.10894054412109416,0.10545680802050472,0.11652954413761446,0.14591453822712674,0.11169428909652196,0.12461497768682817,0.13670495755414863,0.10426299070700817,0.13632113040084476,0.0482109044284188,0.11018984389919545,0.14258077335310404,0.14362174750451628,0.1135483383414097,0.09560124890874738,0.09811803310341871,0.12884261796967522,0.04496885251099819,0.08252538639490126,0.027193912557078703,0.08106144753722838,0.11763666740072054,0.11753508766098214,0.13968963444809945,0.13083629279175985,0.13777014604171262,0.11590044415798167,0.11829067965494389,0.11496303880585906,0.007130088864728434,0.031399986170659366,0.10681669139999417,0.1263689336958509,0.13990970392885577,0.09965772826309321,0.11627149929709635,0.1008972983448711,0.10698303635623058,0.11831558994938934,0.11536289502264646,0.11670920070044533,0.0832254698515188,0.12224273884069786,0.048311581532512304,0.09243032760758146,0.06237404671599023,0.08736217374259075,0.11259352269896344,0.09299968866973934,0.06849919373932184,0.10203042679174734,0.060538861932255994,0.07434485319205819,0.09614907263833733,0.12949339250932795,0.09730366774993399,0.11652496466956991,0.13213606711331366,0.12490148846438731,0.07441567847204844,0.068633193337374,0.09632969226609717,0.07352554339227896,0.1348339333414164,0.10135976959952675,0.13488517461534721,0.07054999026519454,0.10738220245095714,0.12569657303112047,0.09878309304609928,0.09913250116138506,0.11184869328801061,0.1014066098467516,0.05617151632735373,0.13378143012670618,0.03973310585836637,0.04554240288391054,0.12519565849613273,0.07441181835369243,0.11641527698960397,0.11574646818795836,0.109136634270319,0.10006556240122999,0.10715581164837573,0.07872882802796471,0.1222243776262325,0.04773337081952894,0.1040200506592967,0.05533940663461001,0.11002080871114261,0.13604257425761368,0.1446410078675171,0.08226736374731553,0.10350949286856487,0.1102897853207575,0.13927849139405818,0.11685618335341874,0.09987125621328158,0.11677412916320229,0.07707705258417558,0.13371370489837814,0.10674636651371061,0.08185450579774756,0.10466215138362245,0.10760931526604961,0.07726054569815632,0.08353192248679825,0.10434841749398743,0.13785920075924296,0.09235968815232382,0.05398293497686224,0.10504798702272405,0.12486522030050823,0.07016005409918008,0.10080971265049815,0.10769974013398603,0.1247015898095244,0.10939786633288678,0.12077742987045975,0.07914018337809192,0.06757249478071703,0.061577585111295075,0.1338213206316105,0.08448098018706895,0.08276942017693856,0.10221879840585713,0.08751824963457366,0.1078066743012091,0.06424272262072006,0.1329829883842233,0.09610771262671058,0.10555709737795732,0.11488859695826592,0.11210400898255163,0.084236102469816,0.11525144831898665,0.05854432082429778,0.06943349837035817,0.10472855613977061,0.11131556054853631,0.10574875936857858,0.13875452437643532,0.12781990100124002,0.09769267484952271,0.1305415729830564,0.12831427510863574,0.12830963497888864,0.07810111272783865,0.08957655777886075,0.13885493141065391,0.10935031144181717,0.1199654162551076,0.10996073151504021,0.11639187281059221,0.1428584141746823,0.10229097545936588,0.11872517503690799,0.14114156276713363,0.13392716500266794,0.13070613368336648,0.12377058133785701,0.10301732418800202,0.1330882089999869,0.08483149402197893,0.0932689759112113,0.017279654514583576,0.10533547242096664,0.10912218519089434,0.09749881312212355,0.12599604179105223,0.14373422118242896,0.07812882224021012,0.10984893772658921,0.11254784774901544,0.09841161797351067,0.04525799741243702,0.1403892211198659,0.11394862533734196,0.10087417868308535,0.10826372661788763,0.10291334781848938,0.10149456486222813,0.04936468333923294,0.13156323199535186,0.1055236007367451,0.14721635836723634,0.13015946269473327,0.09231542775071389,0.13516769303688203,0.13582855645965553,0.07600170141066281,0.10291302276198927,0.12293914579236626,0.08647172236214351,0.12008224374336468,0.05338422121350728,0.12420067345385577,0.05623775312048357,0.104628023537368,0.11987229133040139,0.12370624185125378,0.1239335036041711,0.08358179590786968,0.12965304746877887,0.08724814182817786,0.0954857257048346,0.10014261003465691,0.056144061814784596,0.14102448796294825,0.13200827280152277,0.08311381745216867,0.09993323977382623,0.06997358469970555,0.1266508229002774,0.0867806321575112,0.11043548050031882,0.09164248573163225,0.07630301315504667,0.11503341594586225,0.036970775578183235,0.09382276051805799,0.12227036542383363,0.0989594258632428,0.11520202855920059,0.10172872202011918,0.09428338259530272,0.11649307749395099,0.09910486970350918,0.08857868103630168,0.11353247177520953,0.11738690576075222,0.10464072511677991,0.10654845920765144,0.10749323168812153,0.13743652274213325,0.1090203059661331,0.07679665954560572,0.1373604632614996,0.051513692348704176,0.09696364888823794,0.0953561521169124,0.12650367549722563,0.13729808912633512,0.09236242312875564,0.07937281609007213,0.11268214826425232,0.11574499147209377,0.11442322689788714,0.048696681525893626,0.11140424044493391,0.1145636375767306,0.1159452715575795,0.09179706539548571,0.11368591322596616,0.06291127323861212,0.11099590410943821,0.019495912283262973,0.08253721885834187,0.10270048693126715,0.08068161290859227,0.12564979554032013,0.03380702049613643,0.13187735974197196,0.1475298197694952,0.1474841873422319,0.06875304019339523,0.09854874597531843,0.10087614759908553,0.09319489431831712,0.11429856616697809,0.14315310676506215,0.09866314803400844,0.06897540429603466,0.15253990885327184,0.13682427882018888,0.12000612341387817,0.13830677425946653,0.09457280591144063,0.13360064180926645,0.14649137242900695,0.10236632697962778,0.1179720799894119,0.14689997898289386,0.13609689881081138,0.0800213618774055,0.11402012426769176,0.06520085052656566,0.10676566286111688,0.08252389089607165,0.12149540923171837,0.13799407279826192,0.05278055118326236,0.08724824905288092,0.04741346129015139,0.06804948896072299,0.12048403280602366,0.13257435286695868,0.09853837614277788,0.05290157148916086,0.13187642879357675,0.09766832853039659,0.09378409023009754,0.12228972732356325,0.03920778679646891,0.10870438144751232,0.06256150940605815,0.09377048161675988,0.06744897276084039,0.08869120139053738,0.019170139199870928,0.083710452987863,0.08672295685135484,0.12781064030258094,0.1189859604944723,0.11091007275665327,0.1477858918875019,0.10209783796796829,0.10600234439156098,0.07672905878409891,0.0814387088847825,0.07166940186987186,0.11632505816348293,0.10639590366756047,0.06746836971478254,0.1367888969151142,0.09320910298458845,0.0928332385758005,0.1389723129415329,0.11473472925728789,0.12821887684481026,0.07441700421406428,0.11517286455867326,0.09148514480339809,0.10757292104661026,0.13790771662643753,0.10585880390240898,0.14178186236067442,0.09012390708184642,0.07487253785144365,0.0969982688426409,0.10694326611714994,0.008883056992243399,0.0909218793963838,0.06855544150047177,0.07956690720534415,0.04438295430614453,0.11122402239398732,0.1071517921239038,0.07270902809503171,0.11103587098151652,0.06097272262575032,0.10654825097024034,0.09369992269735578,0.14293355617997178,0.05596683766112914,0.14614951026647593,0.1081965724597101,0.12620722939491025,0.033517820405488175,0.10789882845452364,0.0914637263827599,0.12179136507894806,0.07191926552016703,0.09967054716626722,0.07322855206284434,0.0878593292671635,0.09119367659876082,0.0733324853701462,0.14233240531953234,0.11763183008914724,0.11958633215920289,0.12511072861382755,0.08271425787518127,-0.04392699406733225,0.11426023997760154,0.12721902788416128,0.06153896898971162,0.12624337046206424,0.13394539528131866,0.09611082041508084,0.08956135049309921,0.0749153703751887,0.14130405888077174,0.11820262956254751,0.13993823731206173,0.10113636437477136,0.11449149403938558,0.10405814583158285,0.09660226889743279,0.11708800627589216,0.14486332175785122,0.12450926166184667,0.07878343031304563,0.10885838090977085,0.09983930271228247,0.12720171674178754,0.06073332760395561,0.1396545993817745,0.08885177687260876,0.1047730136749564,0.044109475913398366,0.06267918568798558,0.12804954170594773,0.044753195724239136,0.14592010454153503,0.1258920187946586,0.11164009525400798,0.12457432574760535,0.11052126425102676,0.11355378345735717,0.13219704391267667,0.07062317119259182,-0.007384384389656495,0.13259100695743237,0.11986737147800303,0.1416676518953724,0.12267961800237492,0.1401155337045787,0.09181599761448916,0.11464808767554752,0.08786139804976689,0.09345743348807056,0.08178579043719264,0.10952208313734785,0.048683154679170615,0.08356854374516359,0.12663096273512903,0.10509347452484685,0.07612136689566062,0.14285182761827847,0.09465050641017109,0.13153907497485234,0.1199711445534496,0.11394021823448258,0.09541365287006442,0.06687933905114579,0.1105258981018476,0.10750983818246779,0.09822497578988937,0.09446927576051983,0.11922498188229913,0.13238349419590206,0.11089826346519926,0.11337141895452957,0.11288751747356723,0.09201670875332318,0.09248418639962325,0.1367720565006192,0.10039385329116052,0.12153660778944353,0.07125710033220367,0.061443579623271516,0.12321866800930531,0.1104888432360383,0.0996340084296869,0.07925597381678479,0.11289824793389058,0.08058383455643447,0.10247422016591673,0.10083011593031149,0.08301595278279306,0.09357900570644384,0.009039692484666462,0.07816711373596535,0.10389368719670344,0.13951295940582265,0.09388597183298125,0.13760918112940812,0.07728350229130732,0.08256512503277441,0.11974333614292204,0.07262277837583503,0.09255524754034122,0.09964908082439339,0.1034996166945219,0.08213142048233407,0.13831767112432525,0.11379372040544372,0.09782746747423121,0.08679682910099795,0.04103779370879007,0.12350877702090701,0.11425507647375588,0.11266906453494757,0.11178254344798871,0.14901309135088853,0.1268979110390973,0.03743298528216943,0.09774190331692062,0.07526920649776792,0.10594303427274504,0.09438820779629037,0.12736728652000218,0.12464982717235634,0.11507203675279304,0.12123456719436981,0.11067640145167701,0.10720073647350209,0.034456946259586896,0.13430626252508848,0.10737904377771651,0.1288635700093987,0.07633824829813046,0.07331264895689904,0.11136148447398514,0.11629868552955575,0.0993999074145756,0.1075901616861335,0.13211903307074863,0.09599559270966013,0.09976710350029083,0.13805836128889765,0.07140959546733783,0.08957000356368283,0.11149070724771493,0.051794595123973886,0.10623659388930834,0.11643692245984022,0.051897687250557545,0.13973852838239337,0.12391746145675836,0.09921089080352363,0.132001289420277,0.10892917304401345,0.07469833032358375,0.08461173075599548,0.10429120642436779,0.09658155793713541,0.10395799582402021,0.12995331031381618,0.1425310614800136,0.12444998619059983,0.09051186220028445,0.09125099935541936,0.13582106347631379],\"x0\":\" \",\"xaxis\":\"x\",\"y0\":\" \",\"yaxis\":\"y\",\"type\":\"box\"}],                        {\"template\":{\"data\":{\"bar\":[{\"error_x\":{\"color\":\"#2a3f5f\"},\"error_y\":{\"color\":\"#2a3f5f\"},\"marker\":{\"line\":{\"color\":\"#E5ECF6\",\"width\":0.5},\"pattern\":{\"fillmode\":\"overlay\",\"size\":10,\"solidity\":0.2}},\"type\":\"bar\"}],\"barpolar\":[{\"marker\":{\"line\":{\"color\":\"#E5ECF6\",\"width\":0.5},\"pattern\":{\"fillmode\":\"overlay\",\"size\":10,\"solidity\":0.2}},\"type\":\"barpolar\"}],\"carpet\":[{\"aaxis\":{\"endlinecolor\":\"#2a3f5f\",\"gridcolor\":\"white\",\"linecolor\":\"white\",\"minorgridcolor\":\"white\",\"startlinecolor\":\"#2a3f5f\"},\"baxis\":{\"endlinecolor\":\"#2a3f5f\",\"gridcolor\":\"white\",\"linecolor\":\"white\",\"minorgridcolor\":\"white\",\"startlinecolor\":\"#2a3f5f\"},\"type\":\"carpet\"}],\"choropleth\":[{\"colorbar\":{\"outlinewidth\":0,\"ticks\":\"\"},\"type\":\"choropleth\"}],\"contour\":[{\"colorbar\":{\"outlinewidth\":0,\"ticks\":\"\"},\"colorscale\":[[0.0,\"#0d0887\"],[0.1111111111111111,\"#46039f\"],[0.2222222222222222,\"#7201a8\"],[0.3333333333333333,\"#9c179e\"],[0.4444444444444444,\"#bd3786\"],[0.5555555555555556,\"#d8576b\"],[0.6666666666666666,\"#ed7953\"],[0.7777777777777778,\"#fb9f3a\"],[0.8888888888888888,\"#fdca26\"],[1.0,\"#f0f921\"]],\"type\":\"contour\"}],\"contourcarpet\":[{\"colorbar\":{\"outlinewidth\":0,\"ticks\":\"\"},\"type\":\"contourcarpet\"}],\"heatmap\":[{\"colorbar\":{\"outlinewidth\":0,\"ticks\":\"\"},\"colorscale\":[[0.0,\"#0d0887\"],[0.1111111111111111,\"#46039f\"],[0.2222222222222222,\"#7201a8\"],[0.3333333333333333,\"#9c179e\"],[0.4444444444444444,\"#bd3786\"],[0.5555555555555556,\"#d8576b\"],[0.6666666666666666,\"#ed7953\"],[0.7777777777777778,\"#fb9f3a\"],[0.8888888888888888,\"#fdca26\"],[1.0,\"#f0f921\"]],\"type\":\"heatmap\"}],\"heatmapgl\":[{\"colorbar\":{\"outlinewidth\":0,\"ticks\":\"\"},\"colorscale\":[[0.0,\"#0d0887\"],[0.1111111111111111,\"#46039f\"],[0.2222222222222222,\"#7201a8\"],[0.3333333333333333,\"#9c179e\"],[0.4444444444444444,\"#bd3786\"],[0.5555555555555556,\"#d8576b\"],[0.6666666666666666,\"#ed7953\"],[0.7777777777777778,\"#fb9f3a\"],[0.8888888888888888,\"#fdca26\"],[1.0,\"#f0f921\"]],\"type\":\"heatmapgl\"}],\"histogram\":[{\"marker\":{\"pattern\":{\"fillmode\":\"overlay\",\"size\":10,\"solidity\":0.2}},\"type\":\"histogram\"}],\"histogram2d\":[{\"colorbar\":{\"outlinewidth\":0,\"ticks\":\"\"},\"colorscale\":[[0.0,\"#0d0887\"],[0.1111111111111111,\"#46039f\"],[0.2222222222222222,\"#7201a8\"],[0.3333333333333333,\"#9c179e\"],[0.4444444444444444,\"#bd3786\"],[0.5555555555555556,\"#d8576b\"],[0.6666666666666666,\"#ed7953\"],[0.7777777777777778,\"#fb9f3a\"],[0.8888888888888888,\"#fdca26\"],[1.0,\"#f0f921\"]],\"type\":\"histogram2d\"}],\"histogram2dcontour\":[{\"colorbar\":{\"outlinewidth\":0,\"ticks\":\"\"},\"colorscale\":[[0.0,\"#0d0887\"],[0.1111111111111111,\"#46039f\"],[0.2222222222222222,\"#7201a8\"],[0.3333333333333333,\"#9c179e\"],[0.4444444444444444,\"#bd3786\"],[0.5555555555555556,\"#d8576b\"],[0.6666666666666666,\"#ed7953\"],[0.7777777777777778,\"#fb9f3a\"],[0.8888888888888888,\"#fdca26\"],[1.0,\"#f0f921\"]],\"type\":\"histogram2dcontour\"}],\"mesh3d\":[{\"colorbar\":{\"outlinewidth\":0,\"ticks\":\"\"},\"type\":\"mesh3d\"}],\"parcoords\":[{\"line\":{\"colorbar\":{\"outlinewidth\":0,\"ticks\":\"\"}},\"type\":\"parcoords\"}],\"pie\":[{\"automargin\":true,\"type\":\"pie\"}],\"scatter\":[{\"marker\":{\"colorbar\":{\"outlinewidth\":0,\"ticks\":\"\"}},\"type\":\"scatter\"}],\"scatter3d\":[{\"line\":{\"colorbar\":{\"outlinewidth\":0,\"ticks\":\"\"}},\"marker\":{\"colorbar\":{\"outlinewidth\":0,\"ticks\":\"\"}},\"type\":\"scatter3d\"}],\"scattercarpet\":[{\"marker\":{\"colorbar\":{\"outlinewidth\":0,\"ticks\":\"\"}},\"type\":\"scattercarpet\"}],\"scattergeo\":[{\"marker\":{\"colorbar\":{\"outlinewidth\":0,\"ticks\":\"\"}},\"type\":\"scattergeo\"}],\"scattergl\":[{\"marker\":{\"colorbar\":{\"outlinewidth\":0,\"ticks\":\"\"}},\"type\":\"scattergl\"}],\"scattermapbox\":[{\"marker\":{\"colorbar\":{\"outlinewidth\":0,\"ticks\":\"\"}},\"type\":\"scattermapbox\"}],\"scatterpolar\":[{\"marker\":{\"colorbar\":{\"outlinewidth\":0,\"ticks\":\"\"}},\"type\":\"scatterpolar\"}],\"scatterpolargl\":[{\"marker\":{\"colorbar\":{\"outlinewidth\":0,\"ticks\":\"\"}},\"type\":\"scatterpolargl\"}],\"scatterternary\":[{\"marker\":{\"colorbar\":{\"outlinewidth\":0,\"ticks\":\"\"}},\"type\":\"scatterternary\"}],\"surface\":[{\"colorbar\":{\"outlinewidth\":0,\"ticks\":\"\"},\"colorscale\":[[0.0,\"#0d0887\"],[0.1111111111111111,\"#46039f\"],[0.2222222222222222,\"#7201a8\"],[0.3333333333333333,\"#9c179e\"],[0.4444444444444444,\"#bd3786\"],[0.5555555555555556,\"#d8576b\"],[0.6666666666666666,\"#ed7953\"],[0.7777777777777778,\"#fb9f3a\"],[0.8888888888888888,\"#fdca26\"],[1.0,\"#f0f921\"]],\"type\":\"surface\"}],\"table\":[{\"cells\":{\"fill\":{\"color\":\"#EBF0F8\"},\"line\":{\"color\":\"white\"}},\"header\":{\"fill\":{\"color\":\"#C8D4E3\"},\"line\":{\"color\":\"white\"}},\"type\":\"table\"}]},\"layout\":{\"annotationdefaults\":{\"arrowcolor\":\"#2a3f5f\",\"arrowhead\":0,\"arrowwidth\":1},\"autotypenumbers\":\"strict\",\"coloraxis\":{\"colorbar\":{\"outlinewidth\":0,\"ticks\":\"\"}},\"colorscale\":{\"diverging\":[[0,\"#8e0152\"],[0.1,\"#c51b7d\"],[0.2,\"#de77ae\"],[0.3,\"#f1b6da\"],[0.4,\"#fde0ef\"],[0.5,\"#f7f7f7\"],[0.6,\"#e6f5d0\"],[0.7,\"#b8e186\"],[0.8,\"#7fbc41\"],[0.9,\"#4d9221\"],[1,\"#276419\"]],\"sequential\":[[0.0,\"#0d0887\"],[0.1111111111111111,\"#46039f\"],[0.2222222222222222,\"#7201a8\"],[0.3333333333333333,\"#9c179e\"],[0.4444444444444444,\"#bd3786\"],[0.5555555555555556,\"#d8576b\"],[0.6666666666666666,\"#ed7953\"],[0.7777777777777778,\"#fb9f3a\"],[0.8888888888888888,\"#fdca26\"],[1.0,\"#f0f921\"]],\"sequentialminus\":[[0.0,\"#0d0887\"],[0.1111111111111111,\"#46039f\"],[0.2222222222222222,\"#7201a8\"],[0.3333333333333333,\"#9c179e\"],[0.4444444444444444,\"#bd3786\"],[0.5555555555555556,\"#d8576b\"],[0.6666666666666666,\"#ed7953\"],[0.7777777777777778,\"#fb9f3a\"],[0.8888888888888888,\"#fdca26\"],[1.0,\"#f0f921\"]]},\"colorway\":[\"#636efa\",\"#EF553B\",\"#00cc96\",\"#ab63fa\",\"#FFA15A\",\"#19d3f3\",\"#FF6692\",\"#B6E880\",\"#FF97FF\",\"#FECB52\"],\"font\":{\"color\":\"#2a3f5f\"},\"geo\":{\"bgcolor\":\"white\",\"lakecolor\":\"white\",\"landcolor\":\"#E5ECF6\",\"showlakes\":true,\"showland\":true,\"subunitcolor\":\"white\"},\"hoverlabel\":{\"align\":\"left\"},\"hovermode\":\"closest\",\"mapbox\":{\"style\":\"light\"},\"paper_bgcolor\":\"white\",\"plot_bgcolor\":\"#E5ECF6\",\"polar\":{\"angularaxis\":{\"gridcolor\":\"white\",\"linecolor\":\"white\",\"ticks\":\"\"},\"bgcolor\":\"#E5ECF6\",\"radialaxis\":{\"gridcolor\":\"white\",\"linecolor\":\"white\",\"ticks\":\"\"}},\"scene\":{\"xaxis\":{\"backgroundcolor\":\"#E5ECF6\",\"gridcolor\":\"white\",\"gridwidth\":2,\"linecolor\":\"white\",\"showbackground\":true,\"ticks\":\"\",\"zerolinecolor\":\"white\"},\"yaxis\":{\"backgroundcolor\":\"#E5ECF6\",\"gridcolor\":\"white\",\"gridwidth\":2,\"linecolor\":\"white\",\"showbackground\":true,\"ticks\":\"\",\"zerolinecolor\":\"white\"},\"zaxis\":{\"backgroundcolor\":\"#E5ECF6\",\"gridcolor\":\"white\",\"gridwidth\":2,\"linecolor\":\"white\",\"showbackground\":true,\"ticks\":\"\",\"zerolinecolor\":\"white\"}},\"shapedefaults\":{\"line\":{\"color\":\"#2a3f5f\"}},\"ternary\":{\"aaxis\":{\"gridcolor\":\"white\",\"linecolor\":\"white\",\"ticks\":\"\"},\"baxis\":{\"gridcolor\":\"white\",\"linecolor\":\"white\",\"ticks\":\"\"},\"bgcolor\":\"#E5ECF6\",\"caxis\":{\"gridcolor\":\"white\",\"linecolor\":\"white\",\"ticks\":\"\"}},\"title\":{\"x\":0.05},\"xaxis\":{\"automargin\":true,\"gridcolor\":\"white\",\"linecolor\":\"white\",\"ticks\":\"\",\"title\":{\"standoff\":15},\"zerolinecolor\":\"white\",\"zerolinewidth\":2},\"yaxis\":{\"automargin\":true,\"gridcolor\":\"white\",\"linecolor\":\"white\",\"ticks\":\"\",\"title\":{\"standoff\":15},\"zerolinecolor\":\"white\",\"zerolinewidth\":2}}},\"xaxis\":{\"anchor\":\"y\",\"domain\":[0.0,1.0],\"title\":{\"text\":\"normality\"}},\"yaxis\":{\"anchor\":\"x\",\"domain\":[0.0,1.0]},\"legend\":{\"tracegroupgap\":0},\"margin\":{\"t\":60},\"boxmode\":\"group\",\"height\":400,\"width\":400},                        {\"responsive\": true}                    ).then(function(){\n",
              "                            \n",
              "var gd = document.getElementById('3bd2a3b3-0bc0-4a53-b560-1055f5f55401');\n",
              "var x = new MutationObserver(function (mutations, observer) {{\n",
              "        var display = window.getComputedStyle(gd).display;\n",
              "        if (!display || display === 'none') {{\n",
              "            console.log([gd, 'removed!']);\n",
              "            Plotly.purge(gd);\n",
              "            observer.disconnect();\n",
              "        }}\n",
              "}});\n",
              "\n",
              "// Listen for the removal of the full notebook cells\n",
              "var notebookContainer = gd.closest('#notebook-container');\n",
              "if (notebookContainer) {{\n",
              "    x.observe(notebookContainer, {childList: true});\n",
              "}}\n",
              "\n",
              "// Listen for the clearing of the current output cell\n",
              "var outputEl = gd.closest('.output');\n",
              "if (outputEl) {{\n",
              "    x.observe(outputEl, {childList: true});\n",
              "}}\n",
              "\n",
              "                        })                };                            </script>        </div>\n",
              "</body>\n",
              "</html>"
            ]
          },
          "metadata": {}
        }
      ],
      "source": [
        "import plotly.express as px\n",
        "px.box(normality_df, x='normality', orientation='h', width=400, height=400)"
      ]
    },
    {
      "cell_type": "code",
      "execution_count": null,
      "metadata": {
        "id": "sTVOUiyma73J",
        "colab": {
          "base_uri": "https://localhost:8080/"
        },
        "outputId": "829bd87d-e71a-47f9-9aca-9554fd41a100"
      },
      "outputs": [
        {
          "output_type": "stream",
          "name": "stdout",
          "text": [
            "27 observations are removed from train_set\n"
          ]
        }
      ],
      "source": [
        "X_train = X_train[normality_df['normality'].values>=threshold]\n",
        "y_train = y_train[normality_df['normality'].values>=threshold]\n",
        "\n",
        "print('{} observations are removed from train_set'.format(train.shape[0] - X_train.shape[0]))"
      ]
    },
    {
      "cell_type": "markdown",
      "source": [
        "## 1-9. Output variable transformation (*optional*)\n",
        "\n",
        "Please refer to the below article which shows the benefit of trasnforming the output variable with log function before learning a linear regression model\n",
        "\n",
        "[Effect of transforming the targets in regression model](https://scikit-learn.org/stable/auto_examples/compose/plot_transformed_target.html)"
      ],
      "metadata": {
        "id": "oR8mO9lXlHDA"
      }
    },
    {
      "cell_type": "code",
      "source": [
        "import plotly.express as px\n",
        "px.histogram(y_train, width=400, height=400)"
      ],
      "metadata": {
        "colab": {
          "base_uri": "https://localhost:8080/",
          "height": 417
        },
        "id": "fmrWH-0YlHTi",
        "outputId": "14973e84-961a-44f8-d09f-d44c0536f55b"
      },
      "execution_count": null,
      "outputs": [
        {
          "output_type": "display_data",
          "data": {
            "text/html": [
              "<html>\n",
              "<head><meta charset=\"utf-8\" /></head>\n",
              "<body>\n",
              "    <div>            <script src=\"https://cdnjs.cloudflare.com/ajax/libs/mathjax/2.7.5/MathJax.js?config=TeX-AMS-MML_SVG\"></script><script type=\"text/javascript\">if (window.MathJax) {MathJax.Hub.Config({SVG: {font: \"STIX-Web\"}});}</script>                <script type=\"text/javascript\">window.PlotlyConfig = {MathJaxConfig: 'local'};</script>\n",
              "        <script src=\"https://cdn.plot.ly/plotly-2.8.3.min.js\"></script>                <div id=\"047ecc00-9954-4a94-94ae-6fe0d0e6f7ba\" class=\"plotly-graph-div\" style=\"height:400px; width:400px;\"></div>            <script type=\"text/javascript\">                                    window.PLOTLYENV=window.PLOTLYENV || {};                                    if (document.getElementById(\"047ecc00-9954-4a94-94ae-6fe0d0e6f7ba\")) {                    Plotly.newPlot(                        \"047ecc00-9954-4a94-94ae-6fe0d0e6f7ba\",                        [{\"alignmentgroup\":\"True\",\"bingroup\":\"x\",\"hovertemplate\":\"variable=0<br>value=%{x}<br>count=%{y}<extra></extra>\",\"legendgroup\":\"0\",\"marker\":{\"color\":\"#636efa\",\"pattern\":{\"shape\":\"\"}},\"name\":\"0\",\"offsetgroup\":\"0\",\"orientation\":\"v\",\"showlegend\":true,\"x\":[208500.0,181500.0,223500.0,140000.0,250000.0,143000.0,307000.0,200000.0,129900.0,118000.0,129500.0,345000.0,144000.0,279500.0,157000.0,132000.0,149000.0,90000.0,159000.0,139000.0,325300.0,139400.0,230000.0,129900.0,154000.0,256300.0,134800.0,306000.0,207500.0,68500.0,40000.0,149350.0,179900.0,165500.0,277500.0,309000.0,145000.0,153000.0,109000.0,160000.0,170000.0,144000.0,130250.0,141000.0,319900.0,239686.0,249700.0,113000.0,127000.0,177000.0,114500.0,385000.0,130000.0,180500.0,172500.0,196500.0,124900.0,158000.0,101000.0,202500.0,140000.0,219500.0,317000.0,180000.0,226000.0,80000.0,225000.0,244000.0,129500.0,185000.0,144900.0,107400.0,91000.0,135750.0,127000.0,136500.0,110000.0,193500.0,153500.0,245000.0,126500.0,168500.0,260000.0,174000.0,164500.0,123600.0,109900.0,98600.0,163500.0,133900.0,204750.0,185000.0,214000.0,94750.0,83000.0,128950.0,205000.0,178000.0,118964.0,198900.0,169500.0,250000.0,100000.0,115000.0,190000.0,136900.0,180000.0,383970.0,217000.0,259500.0,176000.0,139000.0,155000.0,320000.0,163990.0,100000.0,136000.0,153900.0,181000.0,84500.0,128000.0,87000.0,155000.0,150000.0,226000.0,244000.0,150750.0,220000.0,180000.0,174000.0,143000.0,171000.0,230000.0,231500.0,115000.0,260000.0,166000.0,204000.0,125000.0,130000.0,105000.0,222500.0,141000.0,115000.0,122000.0,372402.0,190000.0,235000.0,125000.0,79000.0,109500.0,269500.0,254900.0,320000.0,162500.0,412500.0,220000.0,103200.0,152000.0,127500.0,190000.0,325624.0,183500.0,228000.0,128500.0,215000.0,239000.0,163000.0,184000.0,243000.0,211000.0,172500.0,501837.0,100000.0,177000.0,200100.0,120000.0,200000.0,127000.0,475000.0,173000.0,135000.0,153337.0,286000.0,315000.0,184000.0,192000.0,130000.0,127000.0,148500.0,311872.0,235000.0,104000.0,274900.0,140000.0,171500.0,112000.0,149000.0,110000.0,180500.0,143900.0,141000.0,277000.0,145000.0,98000.0,186000.0,252678.0,156000.0,161750.0,134450.0,210000.0,107000.0,311500.0,167240.0,204900.0,200000.0,179900.0,97000.0,386250.0,112000.0,290000.0,106000.0,125000.0,192500.0,148000.0,403000.0,94500.0,128200.0,216500.0,89500.0,185500.0,194500.0,318000.0,113000.0,262500.0,110500.0,79000.0,120000.0,205000.0,241500.0,137000.0,140000.0,180000.0,277000.0,76500.0,235000.0,173000.0,158000.0,145000.0,230000.0,207500.0,220000.0,231500.0,97000.0,176000.0,276000.0,151000.0,130000.0,73000.0,175500.0,185000.0,179500.0,120500.0,148000.0,266000.0,241500.0,290000.0,139000.0,124500.0,205000.0,201000.0,141000.0,415298.0,192000.0,228500.0,185000.0,207500.0,244600.0,179200.0,164700.0,159000.0,88000.0,122000.0,153575.0,233230.0,135900.0,131000.0,235000.0,167000.0,142500.0,152000.0,239000.0,175000.0,158500.0,157000.0,267000.0,205000.0,149900.0,295000.0,305900.0,225000.0,89500.0,82500.0,360000.0,165600.0,132000.0,119900.0,375000.0,178000.0,188500.0,260000.0,270000.0,260000.0,187500.0,342643.0,354000.0,301000.0,126175.0,242000.0,87000.0,324000.0,145250.0,214500.0,78000.0,119000.0,139000.0,284000.0,207000.0,192000.0,228950.0,377426.0,214000.0,202500.0,155000.0,202900.0,82000.0,266000.0,85000.0,140200.0,151500.0,157500.0,154000.0,437154.0,318061.0,190000.0,95000.0,105900.0,140000.0,177500.0,173000.0,134000.0,130000.0,280000.0,156000.0,145000.0,198500.0,118000.0,190000.0,147000.0,159000.0,165000.0,132000.0,162000.0,172400.0,134432.0,125000.0,123000.0,219500.0,148000.0,340000.0,394432.0,179000.0,127000.0,187750.0,213500.0,76000.0,240000.0,192000.0,81000.0,125000.0,191000.0,426000.0,119000.0,215000.0,106500.0,100000.0,109000.0,129000.0,123000.0,169500.0,67000.0,241000.0,245500.0,164990.0,108000.0,258000.0,168000.0,150000.0,115000.0,177000.0,280000.0,339750.0,60000.0,145000.0,222000.0,115000.0,228000.0,181134.0,149500.0,126000.0,142000.0,206300.0,215000.0,113000.0,315000.0,139000.0,135000.0,275000.0,109008.0,195400.0,175000.0,85400.0,79900.0,122500.0,181000.0,81000.0,212000.0,116000.0,119000.0,90350.0,110000.0,555000.0,118000.0,162900.0,172500.0,210000.0,127500.0,190000.0,199900.0,119500.0,120000.0,110000.0,280000.0,204000.0,210000.0,188000.0,175500.0,98000.0,256000.0,161000.0,110000.0,263435.0,155000.0,62383.0,188700.0,124000.0,178740.0,167000.0,146500.0,250000.0,187000.0,212000.0,190000.0,148000.0,440000.0,251000.0,132500.0,208900.0,380000.0,297000.0,89471.0,326000.0,374000.0,155000.0,164000.0,132500.0,147000.0,156000.0,175000.0,160000.0,86000.0,115000.0,133000.0,172785.0,155000.0,91300.0,430000.0,184000.0,130000.0,120000.0,113000.0,226700.0,140000.0,289000.0,147000.0,124500.0,215000.0,208300.0,161000.0,124500.0,164900.0,202665.0,129900.0,134000.0,96500.0,402861.0,158000.0,265000.0,211000.0,234000.0,150000.0,159000.0,315750.0,176000.0,132000.0,446261.0,86000.0,200624.0,175000.0,128000.0,107500.0,178000.0,107500.0,188000.0,111250.0,158000.0,272000.0,315000.0,248000.0,213250.0,133000.0,179665.0,229000.0,210000.0,129500.0,125000.0,263000.0,140000.0,112500.0,255500.0,108000.0,284000.0,113000.0,141000.0,108000.0,175000.0,234000.0,121500.0,170000.0,108000.0,185000.0,268000.0,128000.0,325000.0,214000.0,316600.0,135960.0,142600.0,120000.0,224500.0,170000.0,139000.0,118500.0,145000.0,164500.0,146000.0,131500.0,181900.0,253293.0,118500.0,325000.0,133000.0,369900.0,130000.0,137000.0,143000.0,79500.0,185900.0,451950.0,138000.0,140000.0,110000.0,319000.0,114504.0,194201.0,217500.0,151000.0,275000.0,141000.0,220000.0,151000.0,221000.0,205000.0,152000.0,225000.0,359100.0,118500.0,313000.0,148000.0,261500.0,147000.0,75500.0,137500.0,183200.0,105500.0,314813.0,305000.0,67000.0,240000.0,135000.0,168500.0,165150.0,160000.0,139900.0,153000.0,135000.0,168500.0,124000.0,209500.0,82500.0,139400.0,144000.0,93000.0,85000.0,264561.0,274000.0,226000.0,345000.0,152000.0,370878.0,143250.0,98300.0,155000.0,155000.0,84500.0,205950.0,108000.0,191000.0,135000.0,350000.0,88000.0,145500.0,149000.0,97500.0,167000.0,197900.0,402000.0,110000.0,137500.0,423000.0,230500.0,129000.0,193500.0,168000.0,137500.0,173500.0,103600.0,165000.0,257500.0,140000.0,148500.0,87000.0,109500.0,372500.0,128500.0,143000.0,159434.0,173000.0,285000.0,221000.0,207500.0,227875.0,148800.0,392000.0,194700.0,141000.0,755000.0,335000.0,108480.0,141500.0,176000.0,89000.0,123500.0,138500.0,196000.0,312500.0,140000.0,361919.0,140000.0,213000.0,302000.0,254000.0,179540.0,109900.0,52000.0,102776.0,189000.0,129000.0,130500.0,165000.0,159500.0,157000.0,341000.0,128500.0,275000.0,143000.0,124500.0,135000.0,320000.0,120500.0,222000.0,194500.0,110000.0,103000.0,236500.0,187500.0,222500.0,131400.0,108000.0,163000.0,93500.0,239900.0,179000.0,190000.0,132000.0,142000.0,179000.0,175000.0,180000.0,299800.0,236000.0,265979.0,260400.0,96500.0,162000.0,217000.0,275500.0,156000.0,172500.0,212000.0,158900.0,179400.0,290000.0,127500.0,100000.0,215200.0,337000.0,270000.0,264132.0,196500.0,160000.0,216837.0,538000.0,134900.0,102000.0,107000.0,114500.0,395000.0,162000.0,221500.0,142500.0,144000.0,135000.0,176000.0,175900.0,187100.0,165500.0,128000.0,161500.0,139000.0,233000.0,107900.0,187500.0,160200.0,146800.0,269790.0,225000.0,194500.0,171000.0,143500.0,110000.0,485000.0,175000.0,200000.0,109900.0,189000.0,582933.0,118000.0,227680.0,135500.0,223500.0,159950.0,106000.0,181000.0,144500.0,157900.0,116000.0,224900.0,137000.0,271000.0,155000.0,224000.0,183000.0,93000.0,225000.0,139500.0,232600.0,385000.0,109500.0,189000.0,185000.0,147400.0,166000.0,151000.0,237000.0,167000.0,139950.0,128000.0,153500.0,100000.0,144000.0,130500.0,140000.0,157500.0,174900.0,141000.0,153900.0,171000.0,213000.0,133500.0,240000.0,187000.0,131500.0,215000.0,164000.0,158000.0,170000.0,127000.0,147000.0,174000.0,152000.0,250000.0,189950.0,131500.0,152000.0,132500.0,250580.0,148500.0,248900.0,129000.0,169000.0,236000.0,109500.0,200500.0,116000.0,133000.0,66500.0,303477.0,132250.0,350000.0,148000.0,136500.0,157000.0,187500.0,178000.0,118500.0,100000.0,328900.0,145000.0,135500.0,268000.0,149500.0,122900.0,172500.0,154500.0,165000.0,118858.0,140000.0,106500.0,142953.0,611657.0,135000.0,110000.0,153000.0,180000.0,240000.0,125500.0,128000.0,255000.0,250000.0,131000.0,174000.0,154300.0,143500.0,88000.0,145000.0,173733.0,75000.0,35311.0,135000.0,238000.0,176500.0,201000.0,145900.0,169990.0,193000.0,207500.0,175000.0,285000.0,176000.0,236500.0,222000.0,201000.0,117500.0,320000.0,190000.0,242000.0,79900.0,184900.0,253000.0,239799.0,244400.0,150900.0,214000.0,150000.0,143000.0,124900.0,143000.0,270000.0,192500.0,197500.0,129000.0,119900.0,133900.0,172000.0,145000.0,124000.0,132000.0,185000.0,155000.0,116500.0,272000.0,155000.0,239000.0,214900.0,178900.0,160000.0,135000.0,37900.0,140000.0,135000.0,173000.0,99500.0,182000.0,167500.0,165000.0,85500.0,199900.0,110000.0,139000.0,178400.0,336000.0,159895.0,255900.0,126000.0,125000.0,117000.0,395192.0,195000.0,197000.0,348000.0,168000.0,187000.0,173900.0,337500.0,121600.0,136500.0,185000.0,91000.0,206000.0,82000.0,86000.0,232000.0,136905.0,181000.0,149900.0,163500.0,88000.0,240000.0,102000.0,135000.0,100000.0,165000.0,85000.0,119200.0,227000.0,203000.0,187500.0,160000.0,213490.0,176000.0,194000.0,87000.0,191000.0,287000.0,112500.0,167500.0,293077.0,105000.0,118000.0,160000.0,197000.0,310000.0,230000.0,119750.0,84000.0,315500.0,287000.0,97000.0,80000.0,155000.0,173000.0,196000.0,262280.0,278000.0,139600.0,556581.0,145000.0,115000.0,84900.0,176485.0,200141.0,165000.0,144500.0,255000.0,180000.0,185850.0,248000.0,335000.0,220000.0,213500.0,81000.0,90000.0,110500.0,154000.0,328000.0,178000.0,167900.0,151400.0,135000.0,135000.0,154000.0,91500.0,159500.0,194000.0,219500.0,170000.0,138800.0,155900.0,126000.0,145000.0,133000.0,192000.0,160000.0,187500.0,147000.0,83500.0,252000.0,137500.0,197000.0,160000.0,136500.0,146000.0,129000.0,176432.0,127000.0,170000.0,128000.0,157000.0,60000.0,119500.0,135000.0,159500.0,106000.0,325000.0,179900.0,274725.0,181000.0,280000.0,188000.0,205000.0,129900.0,134500.0,117000.0,318000.0,184100.0,130000.0,140000.0,133700.0,118400.0,212900.0,112000.0,118000.0,163900.0,115000.0,174000.0,259000.0,215000.0,140000.0,135000.0,93500.0,117500.0,239500.0,169000.0,102000.0,119000.0,94000.0,196000.0,144000.0,139000.0,197500.0,424870.0,80000.0,80000.0,149000.0,180000.0,174500.0,116900.0,143000.0,124000.0,149900.0,230000.0,120500.0,201800.0,218000.0,179900.0,230000.0,235128.0,185000.0,146000.0,224000.0,129000.0,108959.0,194000.0,233170.0,245350.0,173000.0,235000.0,625000.0,171000.0,163000.0,171900.0,200500.0,239000.0,285000.0,119500.0,115000.0,154900.0,93000.0,250000.0,745000.0,120000.0,186700.0,104900.0,95000.0,262000.0,195000.0,189000.0,168000.0,174000.0,125000.0,165000.0,158000.0,176000.0,219210.0,144000.0,178000.0,148000.0,116050.0,197900.0,117000.0,213000.0,153500.0,271900.0,107000.0,200000.0,140000.0,290000.0,189000.0,164000.0,113000.0,145000.0,134500.0,125000.0,112000.0,229456.0,80500.0,91500.0,115000.0,134000.0,143000.0,137900.0,184000.0,145000.0,214000.0,147000.0,367294.0,127000.0,190000.0,132500.0,101800.0,142000.0,138887.0,175500.0,195000.0,142500.0,265900.0,224900.0,248328.0,170000.0,465000.0,230000.0,178000.0,186500.0,169900.0,129500.0,119000.0,244000.0,171750.0,130000.0,294000.0,165400.0,127500.0,301500.0,99900.0,190000.0,151000.0,181000.0,128900.0,161500.0,180500.0,181000.0,183900.0,378500.0,381000.0,144000.0,260000.0,185750.0,137000.0,177000.0,139000.0,137000.0,162000.0,197900.0,237000.0,68400.0,227000.0,180000.0,150500.0,139000.0,169000.0,132500.0,143000.0,190000.0,278000.0,281000.0,180500.0,119500.0,107500.0,162900.0,115000.0,138500.0,155000.0,140000.0,154000.0,225000.0,177500.0,290000.0,232000.0,130000.0,325000.0,202500.0,138000.0,147000.0,179200.0,335000.0,203000.0,302000.0,333168.0,119000.0,206900.0,295493.0,208900.0,275000.0,111000.0,156500.0,72500.0,190000.0,82500.0,147000.0,55000.0,79000.0,130500.0,256000.0,176500.0,227000.0,132500.0,100000.0,125500.0,125000.0,167900.0,135000.0,200000.0,128500.0,123000.0,155000.0,228500.0,177000.0,155835.0,108500.0,262500.0,283463.0,215000.0,122000.0,200000.0,171000.0,134900.0,410000.0,235000.0,170000.0,110000.0,149900.0,177500.0,315000.0,189000.0,260000.0,104900.0,156932.0,144152.0,216000.0,193000.0,127000.0,144000.0,232000.0,105000.0,165500.0,274300.0,466500.0,250000.0,239000.0,91000.0,117000.0,83000.0,167500.0,58500.0,237500.0,157000.0,112000.0,105000.0,125500.0,250000.0,377500.0,131000.0,235000.0,124000.0,123000.0,163000.0,246578.0,281213.0,160000.0,137500.0,138000.0,137450.0,120000.0,193000.0,193879.0,282922.0,105000.0,275000.0,133000.0,112000.0,125500.0,215000.0,230000.0,140000.0,90000.0,257000.0,207000.0,175900.0,122500.0,340000.0,124000.0,223000.0,179900.0,127500.0,136500.0,274970.0,144000.0,142000.0,271000.0,140000.0,119000.0,182900.0,192140.0,143750.0,64500.0,186500.0,160000.0,174000.0,120500.0,394617.0,149700.0,197000.0,191000.0,149300.0,310000.0,121000.0,179600.0,129000.0,157900.0,240000.0,112000.0,92000.0,136000.0,287090.0,145000.0,84500.0,185000.0,175000.0,210000.0,266500.0,142125.0,147500.0],\"xaxis\":\"x\",\"yaxis\":\"y\",\"type\":\"histogram\"}],                        {\"template\":{\"data\":{\"bar\":[{\"error_x\":{\"color\":\"#2a3f5f\"},\"error_y\":{\"color\":\"#2a3f5f\"},\"marker\":{\"line\":{\"color\":\"#E5ECF6\",\"width\":0.5},\"pattern\":{\"fillmode\":\"overlay\",\"size\":10,\"solidity\":0.2}},\"type\":\"bar\"}],\"barpolar\":[{\"marker\":{\"line\":{\"color\":\"#E5ECF6\",\"width\":0.5},\"pattern\":{\"fillmode\":\"overlay\",\"size\":10,\"solidity\":0.2}},\"type\":\"barpolar\"}],\"carpet\":[{\"aaxis\":{\"endlinecolor\":\"#2a3f5f\",\"gridcolor\":\"white\",\"linecolor\":\"white\",\"minorgridcolor\":\"white\",\"startlinecolor\":\"#2a3f5f\"},\"baxis\":{\"endlinecolor\":\"#2a3f5f\",\"gridcolor\":\"white\",\"linecolor\":\"white\",\"minorgridcolor\":\"white\",\"startlinecolor\":\"#2a3f5f\"},\"type\":\"carpet\"}],\"choropleth\":[{\"colorbar\":{\"outlinewidth\":0,\"ticks\":\"\"},\"type\":\"choropleth\"}],\"contour\":[{\"colorbar\":{\"outlinewidth\":0,\"ticks\":\"\"},\"colorscale\":[[0.0,\"#0d0887\"],[0.1111111111111111,\"#46039f\"],[0.2222222222222222,\"#7201a8\"],[0.3333333333333333,\"#9c179e\"],[0.4444444444444444,\"#bd3786\"],[0.5555555555555556,\"#d8576b\"],[0.6666666666666666,\"#ed7953\"],[0.7777777777777778,\"#fb9f3a\"],[0.8888888888888888,\"#fdca26\"],[1.0,\"#f0f921\"]],\"type\":\"contour\"}],\"contourcarpet\":[{\"colorbar\":{\"outlinewidth\":0,\"ticks\":\"\"},\"type\":\"contourcarpet\"}],\"heatmap\":[{\"colorbar\":{\"outlinewidth\":0,\"ticks\":\"\"},\"colorscale\":[[0.0,\"#0d0887\"],[0.1111111111111111,\"#46039f\"],[0.2222222222222222,\"#7201a8\"],[0.3333333333333333,\"#9c179e\"],[0.4444444444444444,\"#bd3786\"],[0.5555555555555556,\"#d8576b\"],[0.6666666666666666,\"#ed7953\"],[0.7777777777777778,\"#fb9f3a\"],[0.8888888888888888,\"#fdca26\"],[1.0,\"#f0f921\"]],\"type\":\"heatmap\"}],\"heatmapgl\":[{\"colorbar\":{\"outlinewidth\":0,\"ticks\":\"\"},\"colorscale\":[[0.0,\"#0d0887\"],[0.1111111111111111,\"#46039f\"],[0.2222222222222222,\"#7201a8\"],[0.3333333333333333,\"#9c179e\"],[0.4444444444444444,\"#bd3786\"],[0.5555555555555556,\"#d8576b\"],[0.6666666666666666,\"#ed7953\"],[0.7777777777777778,\"#fb9f3a\"],[0.8888888888888888,\"#fdca26\"],[1.0,\"#f0f921\"]],\"type\":\"heatmapgl\"}],\"histogram\":[{\"marker\":{\"pattern\":{\"fillmode\":\"overlay\",\"size\":10,\"solidity\":0.2}},\"type\":\"histogram\"}],\"histogram2d\":[{\"colorbar\":{\"outlinewidth\":0,\"ticks\":\"\"},\"colorscale\":[[0.0,\"#0d0887\"],[0.1111111111111111,\"#46039f\"],[0.2222222222222222,\"#7201a8\"],[0.3333333333333333,\"#9c179e\"],[0.4444444444444444,\"#bd3786\"],[0.5555555555555556,\"#d8576b\"],[0.6666666666666666,\"#ed7953\"],[0.7777777777777778,\"#fb9f3a\"],[0.8888888888888888,\"#fdca26\"],[1.0,\"#f0f921\"]],\"type\":\"histogram2d\"}],\"histogram2dcontour\":[{\"colorbar\":{\"outlinewidth\":0,\"ticks\":\"\"},\"colorscale\":[[0.0,\"#0d0887\"],[0.1111111111111111,\"#46039f\"],[0.2222222222222222,\"#7201a8\"],[0.3333333333333333,\"#9c179e\"],[0.4444444444444444,\"#bd3786\"],[0.5555555555555556,\"#d8576b\"],[0.6666666666666666,\"#ed7953\"],[0.7777777777777778,\"#fb9f3a\"],[0.8888888888888888,\"#fdca26\"],[1.0,\"#f0f921\"]],\"type\":\"histogram2dcontour\"}],\"mesh3d\":[{\"colorbar\":{\"outlinewidth\":0,\"ticks\":\"\"},\"type\":\"mesh3d\"}],\"parcoords\":[{\"line\":{\"colorbar\":{\"outlinewidth\":0,\"ticks\":\"\"}},\"type\":\"parcoords\"}],\"pie\":[{\"automargin\":true,\"type\":\"pie\"}],\"scatter\":[{\"marker\":{\"colorbar\":{\"outlinewidth\":0,\"ticks\":\"\"}},\"type\":\"scatter\"}],\"scatter3d\":[{\"line\":{\"colorbar\":{\"outlinewidth\":0,\"ticks\":\"\"}},\"marker\":{\"colorbar\":{\"outlinewidth\":0,\"ticks\":\"\"}},\"type\":\"scatter3d\"}],\"scattercarpet\":[{\"marker\":{\"colorbar\":{\"outlinewidth\":0,\"ticks\":\"\"}},\"type\":\"scattercarpet\"}],\"scattergeo\":[{\"marker\":{\"colorbar\":{\"outlinewidth\":0,\"ticks\":\"\"}},\"type\":\"scattergeo\"}],\"scattergl\":[{\"marker\":{\"colorbar\":{\"outlinewidth\":0,\"ticks\":\"\"}},\"type\":\"scattergl\"}],\"scattermapbox\":[{\"marker\":{\"colorbar\":{\"outlinewidth\":0,\"ticks\":\"\"}},\"type\":\"scattermapbox\"}],\"scatterpolar\":[{\"marker\":{\"colorbar\":{\"outlinewidth\":0,\"ticks\":\"\"}},\"type\":\"scatterpolar\"}],\"scatterpolargl\":[{\"marker\":{\"colorbar\":{\"outlinewidth\":0,\"ticks\":\"\"}},\"type\":\"scatterpolargl\"}],\"scatterternary\":[{\"marker\":{\"colorbar\":{\"outlinewidth\":0,\"ticks\":\"\"}},\"type\":\"scatterternary\"}],\"surface\":[{\"colorbar\":{\"outlinewidth\":0,\"ticks\":\"\"},\"colorscale\":[[0.0,\"#0d0887\"],[0.1111111111111111,\"#46039f\"],[0.2222222222222222,\"#7201a8\"],[0.3333333333333333,\"#9c179e\"],[0.4444444444444444,\"#bd3786\"],[0.5555555555555556,\"#d8576b\"],[0.6666666666666666,\"#ed7953\"],[0.7777777777777778,\"#fb9f3a\"],[0.8888888888888888,\"#fdca26\"],[1.0,\"#f0f921\"]],\"type\":\"surface\"}],\"table\":[{\"cells\":{\"fill\":{\"color\":\"#EBF0F8\"},\"line\":{\"color\":\"white\"}},\"header\":{\"fill\":{\"color\":\"#C8D4E3\"},\"line\":{\"color\":\"white\"}},\"type\":\"table\"}]},\"layout\":{\"annotationdefaults\":{\"arrowcolor\":\"#2a3f5f\",\"arrowhead\":0,\"arrowwidth\":1},\"autotypenumbers\":\"strict\",\"coloraxis\":{\"colorbar\":{\"outlinewidth\":0,\"ticks\":\"\"}},\"colorscale\":{\"diverging\":[[0,\"#8e0152\"],[0.1,\"#c51b7d\"],[0.2,\"#de77ae\"],[0.3,\"#f1b6da\"],[0.4,\"#fde0ef\"],[0.5,\"#f7f7f7\"],[0.6,\"#e6f5d0\"],[0.7,\"#b8e186\"],[0.8,\"#7fbc41\"],[0.9,\"#4d9221\"],[1,\"#276419\"]],\"sequential\":[[0.0,\"#0d0887\"],[0.1111111111111111,\"#46039f\"],[0.2222222222222222,\"#7201a8\"],[0.3333333333333333,\"#9c179e\"],[0.4444444444444444,\"#bd3786\"],[0.5555555555555556,\"#d8576b\"],[0.6666666666666666,\"#ed7953\"],[0.7777777777777778,\"#fb9f3a\"],[0.8888888888888888,\"#fdca26\"],[1.0,\"#f0f921\"]],\"sequentialminus\":[[0.0,\"#0d0887\"],[0.1111111111111111,\"#46039f\"],[0.2222222222222222,\"#7201a8\"],[0.3333333333333333,\"#9c179e\"],[0.4444444444444444,\"#bd3786\"],[0.5555555555555556,\"#d8576b\"],[0.6666666666666666,\"#ed7953\"],[0.7777777777777778,\"#fb9f3a\"],[0.8888888888888888,\"#fdca26\"],[1.0,\"#f0f921\"]]},\"colorway\":[\"#636efa\",\"#EF553B\",\"#00cc96\",\"#ab63fa\",\"#FFA15A\",\"#19d3f3\",\"#FF6692\",\"#B6E880\",\"#FF97FF\",\"#FECB52\"],\"font\":{\"color\":\"#2a3f5f\"},\"geo\":{\"bgcolor\":\"white\",\"lakecolor\":\"white\",\"landcolor\":\"#E5ECF6\",\"showlakes\":true,\"showland\":true,\"subunitcolor\":\"white\"},\"hoverlabel\":{\"align\":\"left\"},\"hovermode\":\"closest\",\"mapbox\":{\"style\":\"light\"},\"paper_bgcolor\":\"white\",\"plot_bgcolor\":\"#E5ECF6\",\"polar\":{\"angularaxis\":{\"gridcolor\":\"white\",\"linecolor\":\"white\",\"ticks\":\"\"},\"bgcolor\":\"#E5ECF6\",\"radialaxis\":{\"gridcolor\":\"white\",\"linecolor\":\"white\",\"ticks\":\"\"}},\"scene\":{\"xaxis\":{\"backgroundcolor\":\"#E5ECF6\",\"gridcolor\":\"white\",\"gridwidth\":2,\"linecolor\":\"white\",\"showbackground\":true,\"ticks\":\"\",\"zerolinecolor\":\"white\"},\"yaxis\":{\"backgroundcolor\":\"#E5ECF6\",\"gridcolor\":\"white\",\"gridwidth\":2,\"linecolor\":\"white\",\"showbackground\":true,\"ticks\":\"\",\"zerolinecolor\":\"white\"},\"zaxis\":{\"backgroundcolor\":\"#E5ECF6\",\"gridcolor\":\"white\",\"gridwidth\":2,\"linecolor\":\"white\",\"showbackground\":true,\"ticks\":\"\",\"zerolinecolor\":\"white\"}},\"shapedefaults\":{\"line\":{\"color\":\"#2a3f5f\"}},\"ternary\":{\"aaxis\":{\"gridcolor\":\"white\",\"linecolor\":\"white\",\"ticks\":\"\"},\"baxis\":{\"gridcolor\":\"white\",\"linecolor\":\"white\",\"ticks\":\"\"},\"bgcolor\":\"#E5ECF6\",\"caxis\":{\"gridcolor\":\"white\",\"linecolor\":\"white\",\"ticks\":\"\"}},\"title\":{\"x\":0.05},\"xaxis\":{\"automargin\":true,\"gridcolor\":\"white\",\"linecolor\":\"white\",\"ticks\":\"\",\"title\":{\"standoff\":15},\"zerolinecolor\":\"white\",\"zerolinewidth\":2},\"yaxis\":{\"automargin\":true,\"gridcolor\":\"white\",\"linecolor\":\"white\",\"ticks\":\"\",\"title\":{\"standoff\":15},\"zerolinecolor\":\"white\",\"zerolinewidth\":2}}},\"xaxis\":{\"anchor\":\"y\",\"domain\":[0.0,1.0],\"title\":{\"text\":\"value\"}},\"yaxis\":{\"anchor\":\"x\",\"domain\":[0.0,1.0],\"title\":{\"text\":\"count\"}},\"legend\":{\"title\":{\"text\":\"variable\"},\"tracegroupgap\":0},\"margin\":{\"t\":60},\"barmode\":\"relative\",\"height\":400,\"width\":400},                        {\"responsive\": true}                    ).then(function(){\n",
              "                            \n",
              "var gd = document.getElementById('047ecc00-9954-4a94-94ae-6fe0d0e6f7ba');\n",
              "var x = new MutationObserver(function (mutations, observer) {{\n",
              "        var display = window.getComputedStyle(gd).display;\n",
              "        if (!display || display === 'none') {{\n",
              "            console.log([gd, 'removed!']);\n",
              "            Plotly.purge(gd);\n",
              "            observer.disconnect();\n",
              "        }}\n",
              "}});\n",
              "\n",
              "// Listen for the removal of the full notebook cells\n",
              "var notebookContainer = gd.closest('#notebook-container');\n",
              "if (notebookContainer) {{\n",
              "    x.observe(notebookContainer, {childList: true});\n",
              "}}\n",
              "\n",
              "// Listen for the clearing of the current output cell\n",
              "var outputEl = gd.closest('.output');\n",
              "if (outputEl) {{\n",
              "    x.observe(outputEl, {childList: true});\n",
              "}}\n",
              "\n",
              "                        })                };                            </script>        </div>\n",
              "</body>\n",
              "</html>"
            ]
          },
          "metadata": {}
        }
      ]
    },
    {
      "cell_type": "code",
      "source": [
        "import plotly.express as px\n",
        "px.histogram(np.log1p(y_train), width=400, height=400)"
      ],
      "metadata": {
        "colab": {
          "base_uri": "https://localhost:8080/",
          "height": 417
        },
        "id": "5RB-kpLllJLl",
        "outputId": "7dc9fdf4-8af4-4e54-8b49-7fd256fd9eed"
      },
      "execution_count": null,
      "outputs": [
        {
          "output_type": "display_data",
          "data": {
            "text/html": [
              "<html>\n",
              "<head><meta charset=\"utf-8\" /></head>\n",
              "<body>\n",
              "    <div>            <script src=\"https://cdnjs.cloudflare.com/ajax/libs/mathjax/2.7.5/MathJax.js?config=TeX-AMS-MML_SVG\"></script><script type=\"text/javascript\">if (window.MathJax) {MathJax.Hub.Config({SVG: {font: \"STIX-Web\"}});}</script>                <script type=\"text/javascript\">window.PlotlyConfig = {MathJaxConfig: 'local'};</script>\n",
              "        <script src=\"https://cdn.plot.ly/plotly-2.8.3.min.js\"></script>                <div id=\"8584ba84-a186-470a-a14d-29cbfb26aa87\" class=\"plotly-graph-div\" style=\"height:400px; width:400px;\"></div>            <script type=\"text/javascript\">                                    window.PLOTLYENV=window.PLOTLYENV || {};                                    if (document.getElementById(\"8584ba84-a186-470a-a14d-29cbfb26aa87\")) {                    Plotly.newPlot(                        \"8584ba84-a186-470a-a14d-29cbfb26aa87\",                        [{\"alignmentgroup\":\"True\",\"bingroup\":\"x\",\"hovertemplate\":\"variable=0<br>value=%{x}<br>count=%{y}<extra></extra>\",\"legendgroup\":\"0\",\"marker\":{\"color\":\"#636efa\",\"pattern\":{\"shape\":\"\"}},\"name\":\"0\",\"offsetgroup\":\"0\",\"orientation\":\"v\",\"showlegend\":true,\"x\":[12.247698783874512,12.109016418457031,12.317171096801758,11.849405288696289,12.429220199584961,11.870607376098633,12.63460636138916,12.206077575683594,11.774527549743652,11.678448677062988,11.771444320678711,12.751302719116211,11.877575874328613,12.54076099395752,11.964007377624512,11.79056453704834,11.911707878112793,11.407575607299805,11.976665496826172,11.842236518859863,12.692505836486816,11.845109939575195,12.34583854675293,11.774527549743652,11.944714546203613,12.454108238220215,11.811554908752441,12.631343841552734,12.242891311645508,11.134603500366211,10.596659660339355,11.914054870605469,12.1001615524292,12.016732215881348,12.53357982635498,12.64109992980957,11.884495735168457,11.938199996948242,11.599112510681152,11.982934951782227,12.043560028076172,11.877575874328613,11.77721881866455,11.856522560119629,12.675766944885254,12.387088775634766,12.428019523620605,11.635151863098145,11.75195026397705,12.083910942077637,11.64833927154541,12.861001014709473,11.775297164916992,12.10349178314209,12.058157920837402,12.188423156738281,11.73527717590332,11.970356941223145,11.5228853225708,12.218500137329102,11.849405288696289,12.299112319946289,12.66666030883789,12.100717544555664,12.32829475402832,11.289793968200684,12.323860168457031,12.404927253723145,11.771444320678711,12.128116607666016,11.883806228637695,11.584324836730957,11.418625831604004,11.818577766418457,11.75195026397705,11.824087142944336,11.608244895935059,12.1730375289917,11.941462516784668,12.409017562866211,11.748005867004395,12.034696578979492,12.468441009521484,12.066816329956055,12.010671615600586,11.724813461303711,11.607335090637207,11.498836517333984,12.0045747756958,11.804856300354004,12.229549407958984,12.128116607666016,12.273736000061035,11.459007263183594,11.326607704162598,11.76718807220459,12.230770111083984,12.089544296264648,11.68658447265625,12.200562477111816,12.040614128112793,12.429220199584961,11.512935638427734,11.652695655822754,12.154784202575684,11.82701301574707,12.100717544555664,12.858322143554688,12.287656784057617,12.46651554107666,12.078245162963867,11.842236518859863,11.951187133789062,12.676079750061035,12.007566452026367,11.512935638427734,11.820417404174805,11.94406509399414,12.106257438659668,11.344518661499023,11.759793281555176,11.373675346374512,11.951187133789062,11.918396949768066,12.32829475402832,12.404927253723145,11.923384666442871,12.301387786865234,12.100717544555664,12.066816329956055,11.870607376098633,12.04942512512207,12.34583854675293,12.352339744567871,11.652695655822754,12.468441009521484,12.01974868774414,12.22588062286377,11.736077308654785,11.775297164916992,11.561725616455078,12.312686920166016,11.856522560119629,11.652695655822754,11.711784362792969,12.82773208618164,12.154784202575684,12.367344856262207,11.736077308654785,11.277215957641602,11.603689193725586,12.504327774047852,12.448630332946777,12.676079750061035,11.99843978881836,12.929993629455566,12.301387786865234,11.54443359375,11.931642532348633,11.755879402160645,12.154784202575684,12.693501472473145,12.119975090026855,12.337105751037598,11.763691902160645,12.278397560119629,12.384222984313965,12.001511573791504,12.122696876525879,12.4008207321167,12.259617805480957,12.058157920837402,13.126032829284668,11.512935638427734,12.083910942077637,12.20657730102539,11.695255279541016,12.206077575683594,11.75195026397705,13.071072578430176,12.061052322387695,11.813037872314453,11.940400123596191,12.563750267028809,12.660330772399902,12.122696876525879,12.165255546569824,11.775297164916992,11.75195026397705,11.908347129821777,12.650351524353027,12.367344856262207,11.552155494689941,12.524166107177734,11.849405288696289,12.05234432220459,11.626262664794922,11.911707878112793,11.608244895935059,12.10349178314209,11.876880645751953,11.856522560119629,12.531776428222656,11.884495735168457,11.492733001708984,12.13350772857666,12.439875602722168,11.95761775970459,11.993813514709473,11.808955192565918,12.254867553710938,11.58059310913086,12.649157524108887,12.027191162109375,12.230281829833984,12.206077575683594,12.1001615524292,11.482476234436035,12.864242553710938,11.626262664794922,12.57763957977295,11.57120418548584,11.736077308654785,12.167856216430664,11.904973983764648,12.906694412231445,11.456365585327148,11.761354446411133,12.285350799560547,11.402005195617676,12.130815505981445,12.178192138671875,12.669809341430664,11.635151863098145,12.478010177612305,11.61277961730957,11.277215957641602,11.695255279541016,12.230770111083984,12.394628524780273,11.827743530273438,11.849405288696289,12.100717544555664,12.531776428222656,11.2450590133667,12.367344856262207,12.061052322387695,11.970356941223145,11.884495735168457,12.34583854675293,12.242891311645508,12.301387786865234,12.352339744567871,11.482476234436035,12.078245162963867,12.528160095214844,11.925042152404785,11.775297164916992,11.19822883605957,12.075400352478027,12.128116607666016,12.097935676574707,11.699413299560547,11.904973983764648,12.491255760192871,12.394628524780273,12.57763957977295,11.842236518859863,11.73206901550293,12.230770111083984,12.211065292358398,11.856522560119629,12.93675422668457,12.165255546569824,12.339296340942383,12.128116607666016,12.242891311645508,12.407383918762207,12.09626293182373,12.011886596679688,11.976665496826172,11.385103225708008,11.711784362792969,11.941950798034668,12.359785079956055,11.819682121276855,11.782959938049316,12.367344856262207,12.025754928588867,11.867104530334473,11.931642532348633,12.384222984313965,12.07254695892334,11.973516464233398,11.964007377624512,12.495007514953613,12.230770111083984,11.917730331420898,12.594734191894531,12.631016731262207,12.323860168457031,11.402005195617676,11.320566177368164,12.793862342834473,12.01733684539795,11.79056453704834,11.694421768188477,12.834684371948242,12.089544296264648,12.146858215332031,12.468441009521484,12.506180763244629,12.468441009521484,12.141539573669434,12.744447708129883,12.777054786682129,12.614869117736816,11.74543285369873,12.396697044372559,11.373675346374512,12.688502311706543,11.886219024658203,12.276069641113281,11.264476776123047,11.68688678741455,11.842236518859863,12.556733131408691,12.240478515625,12.165255546569824,12.341262817382812,12.841132164001465,12.273736000061035,12.218500137329102,11.951187133789062,12.220473289489746,11.314486503601074,12.491255760192871,11.350418090820312,11.850831985473633,11.92834758758545,11.96718692779541,11.944714546203613,12.988042831420898,12.670001983642578,12.154784202575684,11.461642265319824,11.570260047912598,11.849405288696289,12.086731910705566,12.061052322387695,11.805602073669434,11.775297164916992,12.542548179626465,11.95761775970459,11.884495735168457,12.198549270629883,11.678448677062988,12.154784202575684,11.898194313049316,11.976665496826172,12.013707160949707,11.79056453704834,11.995357513427734,12.057578086853027,11.808821678161621,11.736077308654785,11.719947814941406,12.299112319946289,11.904973983764648,12.736703872680664,12.885204315185547,12.095146179199219,11.75195026397705,12.142871856689453,12.27139663696289,11.23850154876709,12.388398170471191,12.165255546569824,11.302216529846191,11.736077308654785,12.1600341796875,12.962197303771973,11.68688678741455,12.278397560119629,11.575909614562988,11.512935638427734,11.599112510681152,11.76757526397705,11.719947814941406,12.040614128112793,11.112462997436523,12.392556190490723,12.411056518554688,12.013646125793457,11.589896202087402,12.460719108581543,12.03172492980957,11.918396949768066,11.652695655822754,12.083910942077637,12.542548179626465,12.735968589782715,11.002116203308105,11.884495735168457,12.310437202453613,11.652695655822754,12.337105751037598,12.1069974899292,11.915058135986328,11.74404525756836,11.8635892868042,12.237091064453125,12.278397560119629,11.635151863098145,12.660330772399902,11.842236518859863,11.813037872314453,12.524530410766602,11.599185943603516,12.182808876037598,12.07254695892334,11.35511302947998,11.288543701171875,11.715874671936035,12.106257438659668,11.302216529846191,12.2643461227417,11.661354064941406,11.68688678741455,11.411457061767578,11.608244895935059,13.226725578308105,11.678448677062988,12.000898361206055,12.058157920837402,12.254867553710938,11.755879402160645,12.154784202575684,12.205577850341797,11.691080093383789,11.695255279541016,11.608244895935059,12.542548179626465,12.22588062286377,12.254867553710938,12.14420223236084,12.075400352478027,11.492733001708984,12.452936172485352,11.989166259765625,11.608244895935059,12.481565475463867,11.951187133789062,11.041064262390137,12.147918701171875,11.728044509887695,12.093692779541016,12.025754928588867,11.894787788391113,12.429220199584961,12.138869285583496,12.2643461227417,12.154784202575684,11.904973983764648,12.994532585144043,12.433212280273438,11.79434585571289,12.249615669250488,12.847929000854492,12.60149097442627,11.401680946350098,12.694655418395996,12.832014083862305,11.951187133789062,12.007627487182617,11.79434585571289,11.898194313049316,11.95761775970459,12.07254695892334,11.982934951782227,11.362113952636719,11.652695655822754,11.798111915588379,12.059808731079102,11.951187133789062,11.421916961669922,12.971542358398438,12.122696876525879,11.775297164916992,11.695255279541016,11.635151863098145,12.331387519836426,11.849405288696289,12.574185371398926,11.898194313049316,11.73206901550293,12.278397560119629,12.246739387512207,11.989166259765625,11.73206901550293,12.013100624084473,12.219314575195312,11.774527549743652,11.805602073669434,11.47730827331543,12.906349182128906,11.970356941223145,12.487488746643066,12.259617805480957,12.363080978393555,11.918396949768066,11.976665496826172,12.66270923614502,12.078245162963867,11.79056453704834,13.008661270141602,11.362113952636719,12.209193229675293,12.07254695892334,11.759793281555176,11.58525562286377,12.089544296264648,11.58525562286377,12.14420223236084,11.61954402923584,11.970356941223145,12.513561248779297,12.660330772399902,12.421188354492188,12.270225524902344,11.798111915588379,12.098855018615723,12.34148120880127,12.254867553710938,11.771444320678711,11.736077308654785,12.479912757873535,11.849405288696289,11.630717277526855,12.450981140136719,11.589896202087402,12.556733131408691,11.635151863098145,11.856522560119629,11.589896202087402,12.07254695892334,12.363080978393555,11.707677841186523,12.043560028076172,11.589896202087402,12.128116607666016,12.498745918273926,11.759793281555176,12.691583633422852,12.273736000061035,12.665397644042969,11.820123672485352,11.867805480957031,11.695255279541016,12.321635246276855,12.043560028076172,11.842236518859863,11.682676315307617,11.884495735168457,12.010671615600586,11.891368865966797,11.78676986694336,12.111217498779297,12.442306518554688,11.682676315307617,12.691583633422852,11.798111915588379,12.820990562438965,11.775297164916992,11.827743530273438,11.870607376098633,11.283524513244629,12.132969856262207,13.021328926086426,11.835016250610352,11.849405288696289,11.608244895935059,12.67294979095459,11.6483736038208,12.176653861999512,12.289958953857422,11.925042152404785,12.524530410766602,11.856522560119629,12.301387786865234,11.925042152404785,12.305922508239746,12.230770111083984,11.931642532348633,12.323860168457031,12.791358947753906,11.682676315307617,12.653961181640625,11.904973983764648,12.474193572998047,11.898194313049316,11.231901168823242,11.83138656616211,12.118339538574219,11.566475868225098,12.659737586975098,12.628069877624512,11.112462997436523,12.388398170471191,11.813037872314453,12.034696578979492,12.014615058898926,11.982934951782227,11.848690032958984,11.938199996948242,11.813037872314453,12.034696578979492,11.728044509887695,12.252483367919922,11.320566177368164,11.845109939575195,11.877575874328613,11.4403657913208,11.350418090820312,12.485831260681152,12.52088737487793,12.32829475402832,12.751302719116211,11.931642532348633,12.823631286621094,11.872353553771973,11.495789527893066,11.951187133789062,11.951187133789062,11.344518661499023,12.235393524169922,11.589896202087402,12.1600341796875,11.813037872314453,12.765691757202148,11.385103225708008,11.887938499450684,11.911707878112793,11.487617492675781,12.025754928588867,12.19552230834961,12.904210090637207,11.608244895935059,11.83138656616211,12.955129623413086,12.348010063171387,11.76757526397705,12.1730375289917,12.03172492980957,11.83138656616211,12.063939094543457,11.54830265045166,12.013707160949707,12.458779335021973,11.849405288696289,11.908347129821777,11.373675346374512,11.603689193725586,12.827995300292969,11.763691902160645,11.870607376098633,11.979392051696777,12.061052322387695,12.560248374938965,12.305922508239746,12.242891311645508,12.336556434631348,11.910365104675293,12.879019737243652,12.179220199584961,11.856522560119629,13.53447437286377,12.721888542175293,11.594330787658691,11.860061645507812,12.078245162963867,11.396403312683105,11.724004745483398,11.838632583618164,12.185874938964844,12.652362823486328,11.849405288696289,12.799178123474121,11.849405288696289,12.269052505493164,12.618185997009277,12.445093154907227,12.098158836364746,11.607335090637207,10.859018325805664,11.540316581726074,12.149507522583008,11.76757526397705,11.779135704040527,12.013707160949707,11.979804992675781,11.964007377624512,12.739640235900879,11.763691902160645,12.524530410766602,11.870607376098633,11.73206901550293,11.813037872314453,12.676079750061035,11.699413299560547,12.310437202453613,12.178192138671875,11.608244895935059,11.54249382019043,12.37370777130127,12.141539573669434,12.312686920166016,11.786008834838867,11.589896202087402,12.001511573791504,11.445727348327637,12.387981414794922,12.095146179199219,12.154784202575684,11.79056453704834,11.8635892868042,12.095146179199219,12.07254695892334,12.100717544555664,12.61087417602539,12.371591567993164,12.49117660522461,12.469978332519531,11.47730827331543,11.995357513427734,12.287656784057617,12.526346206665039,11.95761775970459,12.058157920837402,12.2643461227417,11.97603702545166,12.097378730773926,12.57763957977295,11.755879402160645,11.512935638427734,12.279327392578125,12.7278413772583,12.506180763244629,12.484208106994629,12.188423156738281,11.982934951782227,12.286906242370605,13.195615768432617,11.812296867370605,11.532737731933594,11.58059310913086,11.64833927154541,12.886643409729004,11.995357513427734,12.308182716369629,11.867104530334473,11.877575874328613,11.813037872314453,12.078245162963867,12.077676773071289,12.139404296875,12.016732215881348,11.759793281555176,11.992266654968262,11.842236518859863,12.358798027038574,11.588969230651855,12.141539573669434,11.984184265136719,11.896833419799805,12.505402565002441,12.323860168457031,12.178192138671875,12.04942512512207,11.874096870422363,11.608244895935059,13.091906547546387,12.07254695892334,12.206077575683594,11.607335090637207,12.149507522583008,13.275829315185547,11.678448677062988,12.335700988769531,11.816734313964844,12.317171096801758,11.982623100280762,11.57120418548584,12.106257438659668,11.881041526794434,11.96972370147705,11.661354064941406,12.323415756225586,11.827743530273438,12.509878158569336,11.951187133789062,12.319405555725098,12.117246627807617,11.4403657913208,12.323860168457031,11.845827102661133,12.35707950592041,12.861001014709473,11.603689193725586,12.149507522583008,12.128116607666016,11.900912284851074,12.01974868774414,11.925042152404785,12.375819206237793,12.025754928588867,11.849047660827637,11.759793281555176,11.941462516784668,11.512935638427734,11.877575874328613,11.779135704040527,11.849405288696289,11.96718692779541,12.071975708007812,11.856522560119629,11.94406509399414,12.04942512512207,12.269052505493164,11.801864624023438,12.388398170471191,12.138869285583496,11.78676986694336,12.278397560119629,12.007627487182617,11.970356941223145,12.043560028076172,11.75195026397705,11.898194313049316,12.066816329956055,11.931642532348633,12.429220199584961,12.154520988464355,11.78676986694336,11.931642532348633,11.79434585571289,12.431537628173828,11.908347129821777,12.424810409545898,11.76757526397705,12.037659645080566,12.371591567993164,11.603689193725586,12.208574295043945,11.661354064941406,11.798111915588379,11.104971885681152,12.623064041137695,11.79245662689209,12.765691757202148,11.904973983764648,11.824087142944336,11.964007377624512,12.141539573669434,12.089544296264648,11.682676315307617,11.512935638427734,12.703512191772461,11.884495735168457,11.816734313964844,12.498745918273926,11.915058135986328,11.719134330749512,12.058157920837402,11.947956085205078,12.013707160949707,11.68569278717041,11.849405288696289,11.575909614562988,11.870278358459473,13.323928833007812,11.813037872314453,11.608244895935059,11.938199996948242,12.100717544555664,12.388398170471191,11.740069389343262,11.759793281555176,12.44902229309082,12.429220199584961,11.782959938049316,12.066816329956055,11.946660995483398,11.874096870422363,11.385103225708008,11.884495735168457,12.06528091430664,11.22525691986084,10.471978187561035,11.813037872314453,12.380029678344727,12.08108139038086,12.211065292358398,11.8906831741333,12.043500900268555,12.170450210571289,12.242891311645508,12.07254695892334,12.560248374938965,12.078245162963867,12.37370777130127,12.310437202453613,12.211065292358398,11.674201965332031,12.676079750061035,12.154784202575684,12.396697044372559,11.288543701171875,12.127575874328613,12.44114875793457,12.387560844421387,12.40656566619873,11.924379348754883,12.273736000061035,11.918396949768066,11.870607376098633,11.73527717590332,11.870607376098633,12.506180763244629,12.167856216430664,12.193498611450195,11.76757526397705,11.694421768188477,11.804856300354004,12.055255889892578,11.884495735168457,11.728044509887695,11.79056453704834,12.128116607666016,11.951187133789062,11.665655136108398,12.513561248779297,11.951187133789062,12.384222984313965,12.277933120727539,12.094588279724121,11.982934951782227,11.813037872314453,10.542733192443848,11.849405288696289,11.813037872314453,12.061052322387695,11.507923126220703,12.111767768859863,12.0287446975708,12.013707160949707,11.356283187866211,12.205577850341797,11.608244895935059,11.842236518859863,12.091789245605469,12.724869728088379,11.982278823852539,12.452546119689941,11.74404525756836,11.736077308654785,11.669938087463379,12.887129783630371,12.180760383605957,12.190963745117188,12.759960174560547,12.03172492980957,12.138869285583496,12.066241264343262,12.729323387145996,11.708500862121582,11.824087142944336,12.128116607666016,11.418625831604004,12.235636711120605,11.314486503601074,11.362113952636719,12.354496955871582,11.82705020904541,12.106257438659668,11.917730331420898,12.0045747756958,11.385103225708008,12.388398170471191,11.532737731933594,11.813037872314453,11.512935638427734,12.013707160949707,11.350418090820312,11.688566207885742,12.332709312438965,12.220966339111328,12.141539573669434,11.982934951782227,12.271349906921387,12.078245162963867,12.175618171691895,11.373675346374512,12.1600341796875,12.567240715026855,11.630717277526855,12.0287446975708,12.588193893432617,11.561725616455078,11.678448677062988,11.982934951782227,12.190963745117188,12.644330978393555,12.34583854675293,11.693169593811035,11.338583946228027,12.661916732788086,12.567240715026855,11.482476234436035,11.289793968200684,11.951187133789062,12.061052322387695,12.185874938964844,12.477171897888184,12.535380363464355,11.846543312072754,13.229569435119629,11.884495735168457,11.652695655822754,11.349241256713867,12.0809965133667,12.206782341003418,12.013707160949707,11.881041526794434,12.44902229309082,12.100717544555664,12.13270092010498,12.421188354492188,12.721888542175293,12.301387786865234,12.27139663696289,11.302216529846191,11.407575607299805,11.61277961730957,11.944714546203613,12.700772285461426,12.089544296264648,12.031129837036133,11.927687644958496,11.813037872314453,11.813037872314453,11.944714546203613,11.424104690551758,11.979804992675781,12.175618171691895,12.299112319946289,12.043560028076172,11.84079647064209,11.956976890563965,11.74404525756836,11.884495735168457,11.798111915588379,12.165255546569824,11.982934951782227,12.141539573669434,11.898194313049316,11.332613945007324,12.437188148498535,11.83138656616211,12.190963745117188,11.982934951782227,11.824087142944336,11.891368865966797,11.76757526397705,12.080696105957031,11.75195026397705,12.043560028076172,11.759793281555176,11.964007377624512,11.002116203308105,11.691080093383789,11.813037872314453,11.979804992675781,11.57120418548584,12.691583633422852,12.1001615524292,12.523529052734375,12.106257438659668,12.542548179626465,12.14420223236084,12.230770111083984,11.774527549743652,11.809327125549316,11.669938087463379,12.669809341430664,12.123239517211914,11.775297164916992,11.849405288696289,11.803360939025879,11.681832313537598,12.268582344055176,11.626262664794922,11.678448677062988,12.007018089294434,11.652695655822754,12.066816329956055,12.464587211608887,12.278397560119629,11.849405288696289,11.813037872314453,11.445727348327637,11.674201965332031,12.386312484741211,12.037659645080566,11.532737731933594,11.68688678741455,11.45106029510498,12.185874938964844,11.877575874328613,11.842236518859863,12.193498611450195,12.959541320800781,11.289793968200684,11.289793968200684,11.911707878112793,12.100717544555664,12.069685935974121,11.669082641601562,11.870607376098633,11.728044509887695,11.917730331420898,12.34583854675293,11.699413299560547,12.21503734588623,12.292255401611328,12.1001615524292,12.34583854675293,12.367889404296875,12.128116607666016,11.891368865966797,12.319405555725098,11.76757526397705,11.598735809326172,12.175618171691895,12.359527587890625,12.410445213317871,12.061052322387695,12.367344856262207,13.345508575439453,12.04942512512207,12.001511573791504,12.05467414855957,12.208574295043945,12.384222984313965,12.560248374938965,11.691080093383789,11.652695655822754,11.950541496276855,11.4403657913208,12.429220199584961,13.521141052246094,11.695255279541016,12.137263298034668,11.560771942138672,11.461642265319824,12.476103782653809,12.180760383605957,12.149507522583008,12.03172492980957,12.066816329956055,11.736077308654785,12.013707160949707,11.970356941223145,12.078245162963867,12.297789573669434,11.877575874328613,12.089544296264648,11.904973983764648,11.661785125732422,12.19552230834961,11.669938087463379,12.269052505493164,11.941462516784668,12.513193130493164,11.58059310913086,12.206077575683594,11.849405288696289,12.57763957977295,12.149507522583008,12.007627487182617,11.635151863098145,11.884495735168457,11.809327125549316,11.736077308654785,11.626262664794922,12.343470573425293,11.296025276184082,11.424104690551758,11.652695655822754,11.805602073669434,11.870607376098633,11.834291458129883,12.122696876525879,11.884495735168457,12.273736000061035,11.898194313049316,12.813920974731445,11.75195026397705,12.154784202575684,11.79434585571289,11.53077507019043,11.8635892868042,11.841423034667969,12.075400352478027,12.180760383605957,11.867104530334473,12.49087905883789,12.323415756225586,12.422510147094727,12.043560028076172,13.049795150756836,12.34583854675293,12.089544296264648,12.136192321777344,12.04297161102295,11.771444320678711,11.68688678741455,12.404927253723145,12.053800582885742,11.775297164916992,12.591338157653809,12.016128540039062,11.755879402160645,12.616528511047363,11.511935234069824,12.154784202575684,11.925042152404785,12.106257438659668,11.766799926757812,11.992266654968262,12.10349178314209,12.106257438659668,12.122153282165527,12.843974113464355,12.850557327270508,11.877575874328613,12.468441009521484,12.132162094116211,11.827743530273438,12.083910942077637,11.842236518859863,11.827743530273438,11.995357513427734,12.19552230834961,12.375819206237793,11.133142471313477,12.332709312438965,12.100717544555664,11.921725273132324,11.842236518859863,12.037659645080566,11.79434585571289,11.870607376098633,12.154784202575684,12.535380363464355,12.546113967895508,12.10349178314209,11.691080093383789,11.58525562286377,12.000898361206055,11.652695655822754,11.838632583618164,11.951187133789062,11.849405288696289,11.944714546203613,12.323860168457031,12.086731910705566,12.57763957977295,12.354496955871582,11.775297164916992,12.691583633422852,12.218500137329102,11.835016250610352,11.898194313049316,12.09626293182373,12.721888542175293,12.220966339111328,12.618185997009277,12.716404914855957,11.68688678741455,12.239995956420898,12.596404075622559,12.249615669250488,12.524530410766602,11.617294311523438,11.960817337036133,11.19135570526123,12.154784202575684,11.320566177368164,11.898194313049316,10.915106773376465,11.277215957641602,11.779135704040527,12.452936172485352,12.08108139038086,12.332709312438965,11.79434585571289,11.512935638427734,11.740069389343262,11.736077308654785,12.031129837036133,11.813037872314453,12.206077575683594,11.763691902160645,11.719947814941406,11.951187133789062,12.339296340942383,12.083910942077637,11.956559181213379,11.594514846801758,12.478010177612305,12.554840087890625,12.278397560119629,11.711784362792969,12.206077575683594,12.04942512512207,11.812296867370605,12.923914909362793,12.367344856262207,12.043560028076172,11.608244895935059,11.917730331420898,12.086731910705566,12.660330772399902,12.149507522583008,12.468441009521484,11.560771942138672,11.963574409484863,11.878630638122559,12.283038139343262,12.170450210571289,11.75195026397705,11.877575874328613,12.354496955871582,11.561725616455078,12.016732215881348,12.521981239318848,13.05301570892334,12.429220199584961,12.384222984313965,11.418625831604004,11.669938087463379,11.326607704162598,12.0287446975708,10.976799011230469,12.37792682647705,11.964007377624512,11.626262664794922,11.561725616455078,11.740069389343262,12.429220199584961,12.841328620910645,11.782959938049316,12.367344856262207,11.728044509887695,11.719947814941406,12.001511573791504,12.415437698364258,12.546871185302734,11.982934951782227,11.83138656616211,11.835016250610352,11.831023216247559,11.695255279541016,12.170450210571289,12.174994468688965,12.552929878234863,11.561725616455078,12.524530410766602,11.798111915588379,11.626262664794922,11.740069389343262,12.278397560119629,12.34583854675293,11.849405288696289,11.407575607299805,12.45683479309082,12.240478515625,12.077676773071289,11.715874671936035,12.736703872680664,11.728044509887695,12.314931869506836,12.1001615524292,11.755879402160645,11.824087142944336,12.524420738220215,11.877575874328613,11.8635892868042,12.509878158569336,11.849405288696289,11.68688678741455,12.116700172424316,12.165985107421875,11.875838279724121,11.07443618774414,12.136192321777344,11.982934951782227,12.066816329956055,11.699413299560547,12.885673522949219,11.91639518737793,12.190963745117188,12.1600341796875,11.91372013092041,12.644330978393555,11.703554153442383,12.098492622375488,11.76757526397705,11.96972370147705,12.388398170471191,11.626262664794922,11.42955493927002,11.820417404174805,12.567554473876953,11.884495735168457,11.344518661499023,12.128116607666016,12.07254695892334,12.254867553710938,12.493133544921875,11.864469528198242,11.901590347290039],\"xaxis\":\"x\",\"yaxis\":\"y\",\"type\":\"histogram\"}],                        {\"template\":{\"data\":{\"bar\":[{\"error_x\":{\"color\":\"#2a3f5f\"},\"error_y\":{\"color\":\"#2a3f5f\"},\"marker\":{\"line\":{\"color\":\"#E5ECF6\",\"width\":0.5},\"pattern\":{\"fillmode\":\"overlay\",\"size\":10,\"solidity\":0.2}},\"type\":\"bar\"}],\"barpolar\":[{\"marker\":{\"line\":{\"color\":\"#E5ECF6\",\"width\":0.5},\"pattern\":{\"fillmode\":\"overlay\",\"size\":10,\"solidity\":0.2}},\"type\":\"barpolar\"}],\"carpet\":[{\"aaxis\":{\"endlinecolor\":\"#2a3f5f\",\"gridcolor\":\"white\",\"linecolor\":\"white\",\"minorgridcolor\":\"white\",\"startlinecolor\":\"#2a3f5f\"},\"baxis\":{\"endlinecolor\":\"#2a3f5f\",\"gridcolor\":\"white\",\"linecolor\":\"white\",\"minorgridcolor\":\"white\",\"startlinecolor\":\"#2a3f5f\"},\"type\":\"carpet\"}],\"choropleth\":[{\"colorbar\":{\"outlinewidth\":0,\"ticks\":\"\"},\"type\":\"choropleth\"}],\"contour\":[{\"colorbar\":{\"outlinewidth\":0,\"ticks\":\"\"},\"colorscale\":[[0.0,\"#0d0887\"],[0.1111111111111111,\"#46039f\"],[0.2222222222222222,\"#7201a8\"],[0.3333333333333333,\"#9c179e\"],[0.4444444444444444,\"#bd3786\"],[0.5555555555555556,\"#d8576b\"],[0.6666666666666666,\"#ed7953\"],[0.7777777777777778,\"#fb9f3a\"],[0.8888888888888888,\"#fdca26\"],[1.0,\"#f0f921\"]],\"type\":\"contour\"}],\"contourcarpet\":[{\"colorbar\":{\"outlinewidth\":0,\"ticks\":\"\"},\"type\":\"contourcarpet\"}],\"heatmap\":[{\"colorbar\":{\"outlinewidth\":0,\"ticks\":\"\"},\"colorscale\":[[0.0,\"#0d0887\"],[0.1111111111111111,\"#46039f\"],[0.2222222222222222,\"#7201a8\"],[0.3333333333333333,\"#9c179e\"],[0.4444444444444444,\"#bd3786\"],[0.5555555555555556,\"#d8576b\"],[0.6666666666666666,\"#ed7953\"],[0.7777777777777778,\"#fb9f3a\"],[0.8888888888888888,\"#fdca26\"],[1.0,\"#f0f921\"]],\"type\":\"heatmap\"}],\"heatmapgl\":[{\"colorbar\":{\"outlinewidth\":0,\"ticks\":\"\"},\"colorscale\":[[0.0,\"#0d0887\"],[0.1111111111111111,\"#46039f\"],[0.2222222222222222,\"#7201a8\"],[0.3333333333333333,\"#9c179e\"],[0.4444444444444444,\"#bd3786\"],[0.5555555555555556,\"#d8576b\"],[0.6666666666666666,\"#ed7953\"],[0.7777777777777778,\"#fb9f3a\"],[0.8888888888888888,\"#fdca26\"],[1.0,\"#f0f921\"]],\"type\":\"heatmapgl\"}],\"histogram\":[{\"marker\":{\"pattern\":{\"fillmode\":\"overlay\",\"size\":10,\"solidity\":0.2}},\"type\":\"histogram\"}],\"histogram2d\":[{\"colorbar\":{\"outlinewidth\":0,\"ticks\":\"\"},\"colorscale\":[[0.0,\"#0d0887\"],[0.1111111111111111,\"#46039f\"],[0.2222222222222222,\"#7201a8\"],[0.3333333333333333,\"#9c179e\"],[0.4444444444444444,\"#bd3786\"],[0.5555555555555556,\"#d8576b\"],[0.6666666666666666,\"#ed7953\"],[0.7777777777777778,\"#fb9f3a\"],[0.8888888888888888,\"#fdca26\"],[1.0,\"#f0f921\"]],\"type\":\"histogram2d\"}],\"histogram2dcontour\":[{\"colorbar\":{\"outlinewidth\":0,\"ticks\":\"\"},\"colorscale\":[[0.0,\"#0d0887\"],[0.1111111111111111,\"#46039f\"],[0.2222222222222222,\"#7201a8\"],[0.3333333333333333,\"#9c179e\"],[0.4444444444444444,\"#bd3786\"],[0.5555555555555556,\"#d8576b\"],[0.6666666666666666,\"#ed7953\"],[0.7777777777777778,\"#fb9f3a\"],[0.8888888888888888,\"#fdca26\"],[1.0,\"#f0f921\"]],\"type\":\"histogram2dcontour\"}],\"mesh3d\":[{\"colorbar\":{\"outlinewidth\":0,\"ticks\":\"\"},\"type\":\"mesh3d\"}],\"parcoords\":[{\"line\":{\"colorbar\":{\"outlinewidth\":0,\"ticks\":\"\"}},\"type\":\"parcoords\"}],\"pie\":[{\"automargin\":true,\"type\":\"pie\"}],\"scatter\":[{\"marker\":{\"colorbar\":{\"outlinewidth\":0,\"ticks\":\"\"}},\"type\":\"scatter\"}],\"scatter3d\":[{\"line\":{\"colorbar\":{\"outlinewidth\":0,\"ticks\":\"\"}},\"marker\":{\"colorbar\":{\"outlinewidth\":0,\"ticks\":\"\"}},\"type\":\"scatter3d\"}],\"scattercarpet\":[{\"marker\":{\"colorbar\":{\"outlinewidth\":0,\"ticks\":\"\"}},\"type\":\"scattercarpet\"}],\"scattergeo\":[{\"marker\":{\"colorbar\":{\"outlinewidth\":0,\"ticks\":\"\"}},\"type\":\"scattergeo\"}],\"scattergl\":[{\"marker\":{\"colorbar\":{\"outlinewidth\":0,\"ticks\":\"\"}},\"type\":\"scattergl\"}],\"scattermapbox\":[{\"marker\":{\"colorbar\":{\"outlinewidth\":0,\"ticks\":\"\"}},\"type\":\"scattermapbox\"}],\"scatterpolar\":[{\"marker\":{\"colorbar\":{\"outlinewidth\":0,\"ticks\":\"\"}},\"type\":\"scatterpolar\"}],\"scatterpolargl\":[{\"marker\":{\"colorbar\":{\"outlinewidth\":0,\"ticks\":\"\"}},\"type\":\"scatterpolargl\"}],\"scatterternary\":[{\"marker\":{\"colorbar\":{\"outlinewidth\":0,\"ticks\":\"\"}},\"type\":\"scatterternary\"}],\"surface\":[{\"colorbar\":{\"outlinewidth\":0,\"ticks\":\"\"},\"colorscale\":[[0.0,\"#0d0887\"],[0.1111111111111111,\"#46039f\"],[0.2222222222222222,\"#7201a8\"],[0.3333333333333333,\"#9c179e\"],[0.4444444444444444,\"#bd3786\"],[0.5555555555555556,\"#d8576b\"],[0.6666666666666666,\"#ed7953\"],[0.7777777777777778,\"#fb9f3a\"],[0.8888888888888888,\"#fdca26\"],[1.0,\"#f0f921\"]],\"type\":\"surface\"}],\"table\":[{\"cells\":{\"fill\":{\"color\":\"#EBF0F8\"},\"line\":{\"color\":\"white\"}},\"header\":{\"fill\":{\"color\":\"#C8D4E3\"},\"line\":{\"color\":\"white\"}},\"type\":\"table\"}]},\"layout\":{\"annotationdefaults\":{\"arrowcolor\":\"#2a3f5f\",\"arrowhead\":0,\"arrowwidth\":1},\"autotypenumbers\":\"strict\",\"coloraxis\":{\"colorbar\":{\"outlinewidth\":0,\"ticks\":\"\"}},\"colorscale\":{\"diverging\":[[0,\"#8e0152\"],[0.1,\"#c51b7d\"],[0.2,\"#de77ae\"],[0.3,\"#f1b6da\"],[0.4,\"#fde0ef\"],[0.5,\"#f7f7f7\"],[0.6,\"#e6f5d0\"],[0.7,\"#b8e186\"],[0.8,\"#7fbc41\"],[0.9,\"#4d9221\"],[1,\"#276419\"]],\"sequential\":[[0.0,\"#0d0887\"],[0.1111111111111111,\"#46039f\"],[0.2222222222222222,\"#7201a8\"],[0.3333333333333333,\"#9c179e\"],[0.4444444444444444,\"#bd3786\"],[0.5555555555555556,\"#d8576b\"],[0.6666666666666666,\"#ed7953\"],[0.7777777777777778,\"#fb9f3a\"],[0.8888888888888888,\"#fdca26\"],[1.0,\"#f0f921\"]],\"sequentialminus\":[[0.0,\"#0d0887\"],[0.1111111111111111,\"#46039f\"],[0.2222222222222222,\"#7201a8\"],[0.3333333333333333,\"#9c179e\"],[0.4444444444444444,\"#bd3786\"],[0.5555555555555556,\"#d8576b\"],[0.6666666666666666,\"#ed7953\"],[0.7777777777777778,\"#fb9f3a\"],[0.8888888888888888,\"#fdca26\"],[1.0,\"#f0f921\"]]},\"colorway\":[\"#636efa\",\"#EF553B\",\"#00cc96\",\"#ab63fa\",\"#FFA15A\",\"#19d3f3\",\"#FF6692\",\"#B6E880\",\"#FF97FF\",\"#FECB52\"],\"font\":{\"color\":\"#2a3f5f\"},\"geo\":{\"bgcolor\":\"white\",\"lakecolor\":\"white\",\"landcolor\":\"#E5ECF6\",\"showlakes\":true,\"showland\":true,\"subunitcolor\":\"white\"},\"hoverlabel\":{\"align\":\"left\"},\"hovermode\":\"closest\",\"mapbox\":{\"style\":\"light\"},\"paper_bgcolor\":\"white\",\"plot_bgcolor\":\"#E5ECF6\",\"polar\":{\"angularaxis\":{\"gridcolor\":\"white\",\"linecolor\":\"white\",\"ticks\":\"\"},\"bgcolor\":\"#E5ECF6\",\"radialaxis\":{\"gridcolor\":\"white\",\"linecolor\":\"white\",\"ticks\":\"\"}},\"scene\":{\"xaxis\":{\"backgroundcolor\":\"#E5ECF6\",\"gridcolor\":\"white\",\"gridwidth\":2,\"linecolor\":\"white\",\"showbackground\":true,\"ticks\":\"\",\"zerolinecolor\":\"white\"},\"yaxis\":{\"backgroundcolor\":\"#E5ECF6\",\"gridcolor\":\"white\",\"gridwidth\":2,\"linecolor\":\"white\",\"showbackground\":true,\"ticks\":\"\",\"zerolinecolor\":\"white\"},\"zaxis\":{\"backgroundcolor\":\"#E5ECF6\",\"gridcolor\":\"white\",\"gridwidth\":2,\"linecolor\":\"white\",\"showbackground\":true,\"ticks\":\"\",\"zerolinecolor\":\"white\"}},\"shapedefaults\":{\"line\":{\"color\":\"#2a3f5f\"}},\"ternary\":{\"aaxis\":{\"gridcolor\":\"white\",\"linecolor\":\"white\",\"ticks\":\"\"},\"baxis\":{\"gridcolor\":\"white\",\"linecolor\":\"white\",\"ticks\":\"\"},\"bgcolor\":\"#E5ECF6\",\"caxis\":{\"gridcolor\":\"white\",\"linecolor\":\"white\",\"ticks\":\"\"}},\"title\":{\"x\":0.05},\"xaxis\":{\"automargin\":true,\"gridcolor\":\"white\",\"linecolor\":\"white\",\"ticks\":\"\",\"title\":{\"standoff\":15},\"zerolinecolor\":\"white\",\"zerolinewidth\":2},\"yaxis\":{\"automargin\":true,\"gridcolor\":\"white\",\"linecolor\":\"white\",\"ticks\":\"\",\"title\":{\"standoff\":15},\"zerolinecolor\":\"white\",\"zerolinewidth\":2}}},\"xaxis\":{\"anchor\":\"y\",\"domain\":[0.0,1.0],\"title\":{\"text\":\"value\"}},\"yaxis\":{\"anchor\":\"x\",\"domain\":[0.0,1.0],\"title\":{\"text\":\"count\"}},\"legend\":{\"title\":{\"text\":\"variable\"},\"tracegroupgap\":0},\"margin\":{\"t\":60},\"barmode\":\"relative\",\"height\":400,\"width\":400},                        {\"responsive\": true}                    ).then(function(){\n",
              "                            \n",
              "var gd = document.getElementById('8584ba84-a186-470a-a14d-29cbfb26aa87');\n",
              "var x = new MutationObserver(function (mutations, observer) {{\n",
              "        var display = window.getComputedStyle(gd).display;\n",
              "        if (!display || display === 'none') {{\n",
              "            console.log([gd, 'removed!']);\n",
              "            Plotly.purge(gd);\n",
              "            observer.disconnect();\n",
              "        }}\n",
              "}});\n",
              "\n",
              "// Listen for the removal of the full notebook cells\n",
              "var notebookContainer = gd.closest('#notebook-container');\n",
              "if (notebookContainer) {{\n",
              "    x.observe(notebookContainer, {childList: true});\n",
              "}}\n",
              "\n",
              "// Listen for the clearing of the current output cell\n",
              "var outputEl = gd.closest('.output');\n",
              "if (outputEl) {{\n",
              "    x.observe(outputEl, {childList: true});\n",
              "}}\n",
              "\n",
              "                        })                };                            </script>        </div>\n",
              "</body>\n",
              "</html>"
            ]
          },
          "metadata": {}
        }
      ]
    },
    {
      "cell_type": "code",
      "source": [
        "y_train_trans = np.log1p(y_train)"
      ],
      "metadata": {
        "id": "8_02ADVSlKGK"
      },
      "execution_count": null,
      "outputs": []
    },
    {
      "cell_type": "markdown",
      "metadata": {
        "id": "3UbJJrv6i3kM"
      },
      "source": [
        "# 2. Model Selection\n",
        "\n",
        "Our goal is to build a model that predicts the expected value of the sale price (y) of a house by using informations about the house (x). The formula can be expressed as:\n",
        "\n",
        "$E[y|X=x] \\\\ <=> y = f(x) + \\epsilon$\n",
        "\n",
        "This is a typical regression problem, and various machine learning models can be used. This notebook uses the following models.\n",
        "- (Regularized) Linear regression\n",
        "- Support vector machine\n",
        "- Random forest\n",
        "- Xgboost\n",
        "- Multi-layer perceptron\n",
        "- Factorization machine\n",
        "\n",
        "However, we have to \"choose\" one final methodology to make predictions on the test-set.\n",
        "To do so, a “fair evaluation” of the models is essential. \"Fair evaluation\" must satisfy the following two conditions.\n",
        "\n",
        "1. Select best hyperparameters for each model\n",
        "  - Bad hyperparmeter values could lead to the bad model performance.\n",
        "2. Same evaluation method\n",
        "  - If the evaluation method is not the same, comparison between models itself is impossible.\n",
        "\n",
        "When comparing models through an evaluation method that satisfies the above two conditions,\n",
        "Only then the final model can be selected.\n",
        "\n",
        "\n"
      ]
    },
    {
      "cell_type": "markdown",
      "source": [
        "### > Install Packages"
      ],
      "metadata": {
        "id": "Xjwj0dQOTqdg"
      }
    },
    {
      "cell_type": "code",
      "execution_count": null,
      "metadata": {
        "id": "rT8VOLiSyPYh",
        "colab": {
          "base_uri": "https://localhost:8080/"
        },
        "outputId": "dc6d21bb-8cc6-43ca-accf-3d6e06d19efc"
      },
      "outputs": [
        {
          "output_type": "stream",
          "name": "stdout",
          "text": [
            "Collecting tune_sklearn\n",
            "  Downloading tune_sklearn-0.4.1-py3-none-any.whl (40 kB)\n",
            "\u001b[K     |████████████████████████████████| 40 kB 4.6 MB/s \n",
            "\u001b[?25hCollecting ray[tune]\n",
            "  Downloading ray-1.10.0-cp37-cp37m-manylinux2014_x86_64.whl (59.6 MB)\n",
            "\u001b[K     |████████████████████████████████| 59.6 MB 1.3 MB/s \n",
            "\u001b[?25hCollecting skorch\n",
            "  Downloading skorch-0.11.0-py3-none-any.whl (155 kB)\n",
            "\u001b[K     |████████████████████████████████| 155 kB 54.9 MB/s \n",
            "\u001b[?25hRequirement already satisfied: scipy in /usr/local/lib/python3.7/dist-packages (from tune_sklearn) (1.4.1)\n",
            "Requirement already satisfied: numpy>=1.16 in /usr/local/lib/python3.7/dist-packages (from tune_sklearn) (1.21.5)\n",
            "Requirement already satisfied: scikit-learn in /usr/local/lib/python3.7/dist-packages (from tune_sklearn) (1.0.2)\n",
            "Requirement already satisfied: tabulate>=0.7.7 in /usr/local/lib/python3.7/dist-packages (from skorch) (0.8.9)\n",
            "Requirement already satisfied: tqdm>=4.14.0 in /usr/local/lib/python3.7/dist-packages (from skorch) (4.62.3)\n",
            "Requirement already satisfied: joblib>=0.11 in /usr/local/lib/python3.7/dist-packages (from scikit-learn->tune_sklearn) (1.1.0)\n",
            "Requirement already satisfied: threadpoolctl>=2.0.0 in /usr/local/lib/python3.7/dist-packages (from scikit-learn->tune_sklearn) (3.1.0)\n",
            "Requirement already satisfied: msgpack<2.0.0,>=1.0.0 in /usr/local/lib/python3.7/dist-packages (from ray[tune]) (1.0.3)\n",
            "Collecting redis>=3.5.0\n",
            "  Downloading redis-4.1.4-py3-none-any.whl (175 kB)\n",
            "\u001b[K     |████████████████████████████████| 175 kB 54.7 MB/s \n",
            "\u001b[?25hRequirement already satisfied: attrs in /usr/local/lib/python3.7/dist-packages (from ray[tune]) (21.4.0)\n",
            "Requirement already satisfied: filelock in /usr/local/lib/python3.7/dist-packages (from ray[tune]) (3.6.0)\n",
            "Requirement already satisfied: jsonschema in /usr/local/lib/python3.7/dist-packages (from ray[tune]) (4.3.3)\n",
            "Requirement already satisfied: grpcio>=1.28.1 in /usr/local/lib/python3.7/dist-packages (from ray[tune]) (1.44.0)\n",
            "Requirement already satisfied: protobuf>=3.15.3 in /usr/local/lib/python3.7/dist-packages (from ray[tune]) (3.17.3)\n",
            "Requirement already satisfied: pyyaml in /usr/local/lib/python3.7/dist-packages (from ray[tune]) (3.13)\n",
            "Requirement already satisfied: click>=7.0 in /usr/local/lib/python3.7/dist-packages (from ray[tune]) (7.1.2)\n",
            "Requirement already satisfied: pandas in /usr/local/lib/python3.7/dist-packages (from ray[tune]) (1.3.5)\n",
            "Collecting tensorboardX>=1.9\n",
            "  Downloading tensorboardX-2.5-py2.py3-none-any.whl (125 kB)\n",
            "\u001b[K     |████████████████████████████████| 125 kB 57.5 MB/s \n",
            "\u001b[?25hRequirement already satisfied: requests in /usr/local/lib/python3.7/dist-packages (from ray[tune]) (2.23.0)\n",
            "Requirement already satisfied: six>=1.5.2 in /usr/local/lib/python3.7/dist-packages (from grpcio>=1.28.1->ray[tune]) (1.15.0)\n",
            "Collecting deprecated>=1.2.3\n",
            "  Downloading Deprecated-1.2.13-py2.py3-none-any.whl (9.6 kB)\n",
            "Requirement already satisfied: importlib-metadata>=1.0 in /usr/local/lib/python3.7/dist-packages (from redis>=3.5.0->ray[tune]) (4.11.1)\n",
            "Requirement already satisfied: packaging>=20.4 in /usr/local/lib/python3.7/dist-packages (from redis>=3.5.0->ray[tune]) (21.3)\n",
            "Requirement already satisfied: wrapt<2,>=1.10 in /usr/local/lib/python3.7/dist-packages (from deprecated>=1.2.3->redis>=3.5.0->ray[tune]) (1.13.3)\n",
            "Requirement already satisfied: typing-extensions>=3.6.4 in /usr/local/lib/python3.7/dist-packages (from importlib-metadata>=1.0->redis>=3.5.0->ray[tune]) (3.10.0.2)\n",
            "Requirement already satisfied: zipp>=0.5 in /usr/local/lib/python3.7/dist-packages (from importlib-metadata>=1.0->redis>=3.5.0->ray[tune]) (3.7.0)\n",
            "Requirement already satisfied: pyparsing!=3.0.5,>=2.0.2 in /usr/local/lib/python3.7/dist-packages (from packaging>=20.4->redis>=3.5.0->ray[tune]) (3.0.7)\n",
            "Requirement already satisfied: pyrsistent!=0.17.0,!=0.17.1,!=0.17.2,>=0.14.0 in /usr/local/lib/python3.7/dist-packages (from jsonschema->ray[tune]) (0.18.1)\n",
            "Requirement already satisfied: importlib-resources>=1.4.0 in /usr/local/lib/python3.7/dist-packages (from jsonschema->ray[tune]) (5.4.0)\n",
            "Requirement already satisfied: pytz>=2017.3 in /usr/local/lib/python3.7/dist-packages (from pandas->ray[tune]) (2018.9)\n",
            "Requirement already satisfied: python-dateutil>=2.7.3 in /usr/local/lib/python3.7/dist-packages (from pandas->ray[tune]) (2.8.2)\n",
            "Requirement already satisfied: certifi>=2017.4.17 in /usr/local/lib/python3.7/dist-packages (from requests->ray[tune]) (2021.10.8)\n",
            "Requirement already satisfied: chardet<4,>=3.0.2 in /usr/local/lib/python3.7/dist-packages (from requests->ray[tune]) (3.0.4)\n",
            "Requirement already satisfied: urllib3!=1.25.0,!=1.25.1,<1.26,>=1.21.1 in /usr/local/lib/python3.7/dist-packages (from requests->ray[tune]) (1.24.3)\n",
            "Requirement already satisfied: idna<3,>=2.5 in /usr/local/lib/python3.7/dist-packages (from requests->ray[tune]) (2.10)\n",
            "Installing collected packages: deprecated, redis, tensorboardX, ray, tune-sklearn, skorch\n",
            "Successfully installed deprecated-1.2.13 ray-1.10.0 redis-4.1.4 skorch-0.11.0 tensorboardX-2.5 tune-sklearn-0.4.1\n"
          ]
        }
      ],
      "source": [
        "! pip install tune_sklearn ray[tune] skorch"
      ]
    },
    {
      "cell_type": "markdown",
      "source": [
        "### > Make a dataframe for containing CV results and best hyper parameters"
      ],
      "metadata": {
        "id": "MUGJQ2glTsoY"
      }
    },
    {
      "cell_type": "code",
      "execution_count": null,
      "metadata": {
        "id": "yecAASyT5ljV"
      },
      "outputs": [],
      "source": [
        "model_list = []\n",
        "for name in ['linear', 'svm', 'rf', 'xgb', 'mlp', 'fm']:\n",
        "  model_list.append(np.full(5, name))\n",
        "  \n",
        "best_cv_df = pd.DataFrame({'model': np.hstack((model_list)), 'log_RMSE':None})"
      ]
    },
    {
      "cell_type": "markdown",
      "metadata": {
        "id": "TpffTJyuKCip"
      },
      "source": [
        "## 2-1. Hyper parameter tuning by using Tune_SKlearn (Ray Tune)\n",
        "\n",
        "- Package: tune_sklearn\n",
        "  - This package makes it easy to apply [Ray Tune](https://docs.ray.io/en/latest/tune/index.html) to sklearn models.\n",
        "  - Ray Tune is a python package that provides various hyperparameter tuning algorithms (HyperOpt, BayesianOptimization, ...).\n",
        "- Tuning procedure\n",
        "  - Define an appropriate search space for each model's hyperparameters.\n",
        "  - 5-fold CV (Cross Validation) is performed for each specific hyper-parameter value combination of the search space by using the hyper-parameter tuning algorithm (HyperOpt)\n",
        "    - Training: Training by using Scikit-Learn and Skorch packages\n",
        "    - Validation: Evaluate the model using an appropriate evaluation metric\n",
        "  - The hyperparameter with the highest average score of the CV result is designated as the optimal hyperparameter of the model.\n",
        "    - Save this CV result and use for model comparison\n",
        "\n"
      ]
    },
    {
      "cell_type": "markdown",
      "metadata": {
        "id": "2MZsMccOKY2B"
      },
      "source": [
        "### Linear regression"
      ]
    },
    {
      "cell_type": "code",
      "execution_count": null,
      "metadata": {
        "colab": {
          "base_uri": "https://localhost:8080/",
          "height": 681
        },
        "id": "2o4dQv1oreS4",
        "outputId": "2ae8c671-b79a-4d4a-c466-b197fb1e0e4c"
      },
      "outputs": [
        {
          "output_type": "display_data",
          "data": {
            "text/html": [
              "== Status ==<br>Current time: 2022-03-01 13:13:50 (running for 00:00:07.03)<br>Memory usage on this node: 2.4/12.7 GiB<br>Using FIFO scheduling algorithm.<br>Resources requested: 0/2 CPUs, 0/0 GPUs, 0.0/6.45 GiB heap, 0.0/3.22 GiB objects<br>Result logdir: /root/ray_results/_Trainable_2022-03-01_13-13-43<br>Number of trials: 10/10 (10 TERMINATED)<br><br>"
            ],
            "text/plain": [
              "<IPython.core.display.HTML object>"
            ]
          },
          "metadata": {}
        },
        {
          "output_type": "display_data",
          "data": {
            "text/html": [
              "<html>\n",
              "<head><meta charset=\"utf-8\" /></head>\n",
              "<body>\n",
              "    <div>            <script src=\"https://cdnjs.cloudflare.com/ajax/libs/mathjax/2.7.5/MathJax.js?config=TeX-AMS-MML_SVG\"></script><script type=\"text/javascript\">if (window.MathJax) {MathJax.Hub.Config({SVG: {font: \"STIX-Web\"}});}</script>                <script type=\"text/javascript\">window.PlotlyConfig = {MathJaxConfig: 'local'};</script>\n",
              "        <script src=\"https://cdn.plot.ly/plotly-2.8.3.min.js\"></script>                <div id=\"790a9aec-4e19-476f-a283-20875e3a3c34\" class=\"plotly-graph-div\" style=\"height:525px; width:100%;\"></div>            <script type=\"text/javascript\">                                    window.PLOTLYENV=window.PLOTLYENV || {};                                    if (document.getElementById(\"790a9aec-4e19-476f-a283-20875e3a3c34\")) {                    Plotly.newPlot(                        \"790a9aec-4e19-476f-a283-20875e3a3c34\",                        [{\"dimensions\":[{\"label\":\"alpha\",\"values\":[1.389495494373136e-09,2.6826957952797272e-11,1.9306977288832457e-10,1e-08,3.727593720314938e-12,3.727593720314938e-12,7.196856730011528e-14,3.727593720314938e-12,1.389495494373136e-09,3.727593720314938e-12]},{\"label\":\"max_iter\",\"values\":[1000,1000,1000,1000,1000,1000,1000,1000,1000,1000]},{\"label\":\"random_state\",\"values\":[2022,2022,2022,2022,2022,2022,2022,2022,2022,2022]},{\"label\":\"tol\",\"values\":[1e-07,0.1,0.001,1e-05,0.001,1e-05,0.1,0.1,0.001,1e-05]},{\"label\":\"mean_test_neg_root_mean_squared_error\",\"values\":[-0.14753430030664708,-0.2892860326664499,-0.23242059156040068,-0.14974202987218227,-0.23242059141580226,-0.14974201128320436,-0.2892860326520257,-0.2892860326539865,-0.23242059247408978,-0.14974201128320436]}],\"domain\":{\"x\":[0.0,1.0],\"y\":[0.0,1.0]},\"line\":{\"color\":[-0.14753430030664708,-0.2892860326664499,-0.23242059156040068,-0.14974202987218227,-0.23242059141580226,-0.14974201128320436,-0.2892860326520257,-0.2892860326539865,-0.23242059247408978,-0.14974201128320436],\"coloraxis\":\"coloraxis\"},\"name\":\"\",\"type\":\"parcoords\"}],                        {\"template\":{\"data\":{\"bar\":[{\"error_x\":{\"color\":\"#2a3f5f\"},\"error_y\":{\"color\":\"#2a3f5f\"},\"marker\":{\"line\":{\"color\":\"#E5ECF6\",\"width\":0.5},\"pattern\":{\"fillmode\":\"overlay\",\"size\":10,\"solidity\":0.2}},\"type\":\"bar\"}],\"barpolar\":[{\"marker\":{\"line\":{\"color\":\"#E5ECF6\",\"width\":0.5},\"pattern\":{\"fillmode\":\"overlay\",\"size\":10,\"solidity\":0.2}},\"type\":\"barpolar\"}],\"carpet\":[{\"aaxis\":{\"endlinecolor\":\"#2a3f5f\",\"gridcolor\":\"white\",\"linecolor\":\"white\",\"minorgridcolor\":\"white\",\"startlinecolor\":\"#2a3f5f\"},\"baxis\":{\"endlinecolor\":\"#2a3f5f\",\"gridcolor\":\"white\",\"linecolor\":\"white\",\"minorgridcolor\":\"white\",\"startlinecolor\":\"#2a3f5f\"},\"type\":\"carpet\"}],\"choropleth\":[{\"colorbar\":{\"outlinewidth\":0,\"ticks\":\"\"},\"type\":\"choropleth\"}],\"contour\":[{\"colorbar\":{\"outlinewidth\":0,\"ticks\":\"\"},\"colorscale\":[[0.0,\"#0d0887\"],[0.1111111111111111,\"#46039f\"],[0.2222222222222222,\"#7201a8\"],[0.3333333333333333,\"#9c179e\"],[0.4444444444444444,\"#bd3786\"],[0.5555555555555556,\"#d8576b\"],[0.6666666666666666,\"#ed7953\"],[0.7777777777777778,\"#fb9f3a\"],[0.8888888888888888,\"#fdca26\"],[1.0,\"#f0f921\"]],\"type\":\"contour\"}],\"contourcarpet\":[{\"colorbar\":{\"outlinewidth\":0,\"ticks\":\"\"},\"type\":\"contourcarpet\"}],\"heatmap\":[{\"colorbar\":{\"outlinewidth\":0,\"ticks\":\"\"},\"colorscale\":[[0.0,\"#0d0887\"],[0.1111111111111111,\"#46039f\"],[0.2222222222222222,\"#7201a8\"],[0.3333333333333333,\"#9c179e\"],[0.4444444444444444,\"#bd3786\"],[0.5555555555555556,\"#d8576b\"],[0.6666666666666666,\"#ed7953\"],[0.7777777777777778,\"#fb9f3a\"],[0.8888888888888888,\"#fdca26\"],[1.0,\"#f0f921\"]],\"type\":\"heatmap\"}],\"heatmapgl\":[{\"colorbar\":{\"outlinewidth\":0,\"ticks\":\"\"},\"colorscale\":[[0.0,\"#0d0887\"],[0.1111111111111111,\"#46039f\"],[0.2222222222222222,\"#7201a8\"],[0.3333333333333333,\"#9c179e\"],[0.4444444444444444,\"#bd3786\"],[0.5555555555555556,\"#d8576b\"],[0.6666666666666666,\"#ed7953\"],[0.7777777777777778,\"#fb9f3a\"],[0.8888888888888888,\"#fdca26\"],[1.0,\"#f0f921\"]],\"type\":\"heatmapgl\"}],\"histogram\":[{\"marker\":{\"pattern\":{\"fillmode\":\"overlay\",\"size\":10,\"solidity\":0.2}},\"type\":\"histogram\"}],\"histogram2d\":[{\"colorbar\":{\"outlinewidth\":0,\"ticks\":\"\"},\"colorscale\":[[0.0,\"#0d0887\"],[0.1111111111111111,\"#46039f\"],[0.2222222222222222,\"#7201a8\"],[0.3333333333333333,\"#9c179e\"],[0.4444444444444444,\"#bd3786\"],[0.5555555555555556,\"#d8576b\"],[0.6666666666666666,\"#ed7953\"],[0.7777777777777778,\"#fb9f3a\"],[0.8888888888888888,\"#fdca26\"],[1.0,\"#f0f921\"]],\"type\":\"histogram2d\"}],\"histogram2dcontour\":[{\"colorbar\":{\"outlinewidth\":0,\"ticks\":\"\"},\"colorscale\":[[0.0,\"#0d0887\"],[0.1111111111111111,\"#46039f\"],[0.2222222222222222,\"#7201a8\"],[0.3333333333333333,\"#9c179e\"],[0.4444444444444444,\"#bd3786\"],[0.5555555555555556,\"#d8576b\"],[0.6666666666666666,\"#ed7953\"],[0.7777777777777778,\"#fb9f3a\"],[0.8888888888888888,\"#fdca26\"],[1.0,\"#f0f921\"]],\"type\":\"histogram2dcontour\"}],\"mesh3d\":[{\"colorbar\":{\"outlinewidth\":0,\"ticks\":\"\"},\"type\":\"mesh3d\"}],\"parcoords\":[{\"line\":{\"colorbar\":{\"outlinewidth\":0,\"ticks\":\"\"}},\"type\":\"parcoords\"}],\"pie\":[{\"automargin\":true,\"type\":\"pie\"}],\"scatter\":[{\"marker\":{\"colorbar\":{\"outlinewidth\":0,\"ticks\":\"\"}},\"type\":\"scatter\"}],\"scatter3d\":[{\"line\":{\"colorbar\":{\"outlinewidth\":0,\"ticks\":\"\"}},\"marker\":{\"colorbar\":{\"outlinewidth\":0,\"ticks\":\"\"}},\"type\":\"scatter3d\"}],\"scattercarpet\":[{\"marker\":{\"colorbar\":{\"outlinewidth\":0,\"ticks\":\"\"}},\"type\":\"scattercarpet\"}],\"scattergeo\":[{\"marker\":{\"colorbar\":{\"outlinewidth\":0,\"ticks\":\"\"}},\"type\":\"scattergeo\"}],\"scattergl\":[{\"marker\":{\"colorbar\":{\"outlinewidth\":0,\"ticks\":\"\"}},\"type\":\"scattergl\"}],\"scattermapbox\":[{\"marker\":{\"colorbar\":{\"outlinewidth\":0,\"ticks\":\"\"}},\"type\":\"scattermapbox\"}],\"scatterpolar\":[{\"marker\":{\"colorbar\":{\"outlinewidth\":0,\"ticks\":\"\"}},\"type\":\"scatterpolar\"}],\"scatterpolargl\":[{\"marker\":{\"colorbar\":{\"outlinewidth\":0,\"ticks\":\"\"}},\"type\":\"scatterpolargl\"}],\"scatterternary\":[{\"marker\":{\"colorbar\":{\"outlinewidth\":0,\"ticks\":\"\"}},\"type\":\"scatterternary\"}],\"surface\":[{\"colorbar\":{\"outlinewidth\":0,\"ticks\":\"\"},\"colorscale\":[[0.0,\"#0d0887\"],[0.1111111111111111,\"#46039f\"],[0.2222222222222222,\"#7201a8\"],[0.3333333333333333,\"#9c179e\"],[0.4444444444444444,\"#bd3786\"],[0.5555555555555556,\"#d8576b\"],[0.6666666666666666,\"#ed7953\"],[0.7777777777777778,\"#fb9f3a\"],[0.8888888888888888,\"#fdca26\"],[1.0,\"#f0f921\"]],\"type\":\"surface\"}],\"table\":[{\"cells\":{\"fill\":{\"color\":\"#EBF0F8\"},\"line\":{\"color\":\"white\"}},\"header\":{\"fill\":{\"color\":\"#C8D4E3\"},\"line\":{\"color\":\"white\"}},\"type\":\"table\"}]},\"layout\":{\"annotationdefaults\":{\"arrowcolor\":\"#2a3f5f\",\"arrowhead\":0,\"arrowwidth\":1},\"autotypenumbers\":\"strict\",\"coloraxis\":{\"colorbar\":{\"outlinewidth\":0,\"ticks\":\"\"}},\"colorscale\":{\"diverging\":[[0,\"#8e0152\"],[0.1,\"#c51b7d\"],[0.2,\"#de77ae\"],[0.3,\"#f1b6da\"],[0.4,\"#fde0ef\"],[0.5,\"#f7f7f7\"],[0.6,\"#e6f5d0\"],[0.7,\"#b8e186\"],[0.8,\"#7fbc41\"],[0.9,\"#4d9221\"],[1,\"#276419\"]],\"sequential\":[[0.0,\"#0d0887\"],[0.1111111111111111,\"#46039f\"],[0.2222222222222222,\"#7201a8\"],[0.3333333333333333,\"#9c179e\"],[0.4444444444444444,\"#bd3786\"],[0.5555555555555556,\"#d8576b\"],[0.6666666666666666,\"#ed7953\"],[0.7777777777777778,\"#fb9f3a\"],[0.8888888888888888,\"#fdca26\"],[1.0,\"#f0f921\"]],\"sequentialminus\":[[0.0,\"#0d0887\"],[0.1111111111111111,\"#46039f\"],[0.2222222222222222,\"#7201a8\"],[0.3333333333333333,\"#9c179e\"],[0.4444444444444444,\"#bd3786\"],[0.5555555555555556,\"#d8576b\"],[0.6666666666666666,\"#ed7953\"],[0.7777777777777778,\"#fb9f3a\"],[0.8888888888888888,\"#fdca26\"],[1.0,\"#f0f921\"]]},\"colorway\":[\"#636efa\",\"#EF553B\",\"#00cc96\",\"#ab63fa\",\"#FFA15A\",\"#19d3f3\",\"#FF6692\",\"#B6E880\",\"#FF97FF\",\"#FECB52\"],\"font\":{\"color\":\"#2a3f5f\"},\"geo\":{\"bgcolor\":\"white\",\"lakecolor\":\"white\",\"landcolor\":\"#E5ECF6\",\"showlakes\":true,\"showland\":true,\"subunitcolor\":\"white\"},\"hoverlabel\":{\"align\":\"left\"},\"hovermode\":\"closest\",\"mapbox\":{\"style\":\"light\"},\"paper_bgcolor\":\"white\",\"plot_bgcolor\":\"#E5ECF6\",\"polar\":{\"angularaxis\":{\"gridcolor\":\"white\",\"linecolor\":\"white\",\"ticks\":\"\"},\"bgcolor\":\"#E5ECF6\",\"radialaxis\":{\"gridcolor\":\"white\",\"linecolor\":\"white\",\"ticks\":\"\"}},\"scene\":{\"xaxis\":{\"backgroundcolor\":\"#E5ECF6\",\"gridcolor\":\"white\",\"gridwidth\":2,\"linecolor\":\"white\",\"showbackground\":true,\"ticks\":\"\",\"zerolinecolor\":\"white\"},\"yaxis\":{\"backgroundcolor\":\"#E5ECF6\",\"gridcolor\":\"white\",\"gridwidth\":2,\"linecolor\":\"white\",\"showbackground\":true,\"ticks\":\"\",\"zerolinecolor\":\"white\"},\"zaxis\":{\"backgroundcolor\":\"#E5ECF6\",\"gridcolor\":\"white\",\"gridwidth\":2,\"linecolor\":\"white\",\"showbackground\":true,\"ticks\":\"\",\"zerolinecolor\":\"white\"}},\"shapedefaults\":{\"line\":{\"color\":\"#2a3f5f\"}},\"ternary\":{\"aaxis\":{\"gridcolor\":\"white\",\"linecolor\":\"white\",\"ticks\":\"\"},\"baxis\":{\"gridcolor\":\"white\",\"linecolor\":\"white\",\"ticks\":\"\"},\"bgcolor\":\"#E5ECF6\",\"caxis\":{\"gridcolor\":\"white\",\"linecolor\":\"white\",\"ticks\":\"\"}},\"title\":{\"x\":0.05},\"xaxis\":{\"automargin\":true,\"gridcolor\":\"white\",\"linecolor\":\"white\",\"ticks\":\"\",\"title\":{\"standoff\":15},\"zerolinecolor\":\"white\",\"zerolinewidth\":2},\"yaxis\":{\"automargin\":true,\"gridcolor\":\"white\",\"linecolor\":\"white\",\"ticks\":\"\",\"title\":{\"standoff\":15},\"zerolinecolor\":\"white\",\"zerolinewidth\":2}}},\"coloraxis\":{\"colorbar\":{\"title\":{\"text\":\"mean_test_neg_root_mean_squared_error\"}},\"colorscale\":[[0.0,\"#0d0887\"],[0.1111111111111111,\"#46039f\"],[0.2222222222222222,\"#7201a8\"],[0.3333333333333333,\"#9c179e\"],[0.4444444444444444,\"#bd3786\"],[0.5555555555555556,\"#d8576b\"],[0.6666666666666666,\"#ed7953\"],[0.7777777777777778,\"#fb9f3a\"],[0.8888888888888888,\"#fdca26\"],[1.0,\"#f0f921\"]]},\"legend\":{\"tracegroupgap\":0},\"margin\":{\"t\":60}},                        {\"responsive\": true}                    ).then(function(){\n",
              "                            \n",
              "var gd = document.getElementById('790a9aec-4e19-476f-a283-20875e3a3c34');\n",
              "var x = new MutationObserver(function (mutations, observer) {{\n",
              "        var display = window.getComputedStyle(gd).display;\n",
              "        if (!display || display === 'none') {{\n",
              "            console.log([gd, 'removed!']);\n",
              "            Plotly.purge(gd);\n",
              "            observer.disconnect();\n",
              "        }}\n",
              "}});\n",
              "\n",
              "// Listen for the removal of the full notebook cells\n",
              "var notebookContainer = gd.closest('#notebook-container');\n",
              "if (notebookContainer) {{\n",
              "    x.observe(notebookContainer, {childList: true});\n",
              "}}\n",
              "\n",
              "// Listen for the clearing of the current output cell\n",
              "var outputEl = gd.closest('.output');\n",
              "if (outputEl) {{\n",
              "    x.observe(outputEl, {childList: true});\n",
              "}}\n",
              "\n",
              "                        })                };                            </script>        </div>\n",
              "</body>\n",
              "</html>"
            ]
          },
          "metadata": {}
        }
      ],
      "source": [
        "from tune_sklearn import TuneSearchCV\n",
        "from sklearn.linear_model import SGDRegressor\n",
        "\n",
        "# Define a search space\n",
        "parameters = {\n",
        "    'alpha': list(np.geomspace(1e-14, 1e-8, 8)),\n",
        "    'loss': ['squared_error'],\n",
        "    'penalty': ['l2'],\n",
        "    'max_iter': [1000],\n",
        "    'tol': list(np.geomspace(1e-7, 1e-1, 4)),\n",
        "    'random_state': [config['random_state']],\n",
        "}\n",
        "\n",
        "# Specify the hyper parameter tuning algorithm\n",
        "tune_search = TuneSearchCV(\n",
        "    SGDRegressor(),\n",
        "    parameters,\n",
        "    search_optimization='hyperopt',\n",
        "    n_trials=10,\n",
        "    n_jobs=-1,\n",
        "    scoring=['neg_root_mean_squared_error'],\n",
        "    cv=5,\n",
        "    refit='neg_root_mean_squared_error', # target metric of competition\n",
        "    verbose=1\n",
        "    )\n",
        "\n",
        "# Run hyper parameter tuning\n",
        "X = X_train \n",
        "y = y_train_trans\n",
        "tune_search.fit(X, y)\n",
        "\n",
        "# Save the tuning results \n",
        "model_name = 'linear'\n",
        "\n",
        "## Save the optimal hyper parmater values\n",
        "best_cv_df.loc[best_cv_df['model']==model_name, 'best_hyper_param'] = str(tune_search.best_params_)\n",
        "\n",
        "## Save the CV results\n",
        "cv_df = pd.DataFrame(tune_search.cv_results_)\n",
        "cv_values = cv_df.loc[tune_search.best_index_, cv_df.columns.str.startswith('split')].values\n",
        "best_cv_df.loc[best_cv_df['model']==model_name, 'log_RMSE'] = cv_values[:5]\n",
        "\n",
        "# Visualize the tuning results with parallel coordinate plot\n",
        "tune_result_df = pd.concat([pd.DataFrame(tune_search.cv_results_['params']), cv_df.loc[:,cv_df.columns.str.startswith('mean')] ], axis=1)\n",
        "import plotly.express as px\n",
        "fig = px.parallel_coordinates(tune_result_df, color='mean_test_neg_root_mean_squared_error')\n",
        "fig.show()"
      ]
    },
    {
      "cell_type": "markdown",
      "metadata": {
        "id": "db18WC2yKc9p"
      },
      "source": [
        "### Support vector machine"
      ]
    },
    {
      "cell_type": "code",
      "execution_count": null,
      "metadata": {
        "colab": {
          "base_uri": "https://localhost:8080/",
          "height": 736
        },
        "id": "VsI-OMilwGxb",
        "outputId": "63dfc3a1-d39f-49af-e1b8-00a3685049c6"
      },
      "outputs": [
        {
          "output_type": "display_data",
          "data": {
            "text/html": [
              "== Status ==<br>Current time: 2022-03-01 13:14:22 (running for 00:00:23.29)<br>Memory usage on this node: 2.5/12.7 GiB<br>Using FIFO scheduling algorithm.<br>Resources requested: 0/2 CPUs, 0/0 GPUs, 0.0/6.42 GiB heap, 0.0/3.21 GiB objects<br>Result logdir: /root/ray_results/_Trainable_2022-03-01_13-13-58<br>Number of trials: 16/16 (16 TERMINATED)<br><br>"
            ],
            "text/plain": [
              "<IPython.core.display.HTML object>"
            ]
          },
          "metadata": {}
        },
        {
          "output_type": "stream",
          "name": "stderr",
          "text": [
            "\u001b[2m\u001b[36m(_Trainable pid=1264)\u001b[0m /usr/local/lib/python3.7/dist-packages/sklearn/linear_model/_stochastic_gradient.py:1507: ConvergenceWarning: Maximum number of iteration reached before convergence. Consider increasing max_iter to improve the fit.\n",
            "\u001b[2m\u001b[36m(_Trainable pid=1264)\u001b[0m   ConvergenceWarning,\n"
          ]
        },
        {
          "output_type": "display_data",
          "data": {
            "text/html": [
              "<html>\n",
              "<head><meta charset=\"utf-8\" /></head>\n",
              "<body>\n",
              "    <div>            <script src=\"https://cdnjs.cloudflare.com/ajax/libs/mathjax/2.7.5/MathJax.js?config=TeX-AMS-MML_SVG\"></script><script type=\"text/javascript\">if (window.MathJax) {MathJax.Hub.Config({SVG: {font: \"STIX-Web\"}});}</script>                <script type=\"text/javascript\">window.PlotlyConfig = {MathJaxConfig: 'local'};</script>\n",
              "        <script src=\"https://cdn.plot.ly/plotly-2.8.3.min.js\"></script>                <div id=\"3ab6396d-5969-4d71-8569-eb46c3196e75\" class=\"plotly-graph-div\" style=\"height:525px; width:100%;\"></div>            <script type=\"text/javascript\">                                    window.PLOTLYENV=window.PLOTLYENV || {};                                    if (document.getElementById(\"3ab6396d-5969-4d71-8569-eb46c3196e75\")) {                    Plotly.newPlot(                        \"3ab6396d-5969-4d71-8569-eb46c3196e75\",                        [{\"dimensions\":[{\"label\":\"alpha\",\"values\":[1e-07,0.001,1e-07,1e-05,1e-07,0.001,1e-07,1e-07,1e-07,1e-07,0.001,1e-05,1e-07,1e-05,1e-05,0.001]},{\"label\":\"epsilon\",\"values\":[0.1,1e-05,1e-05,0.1,0.001,0.001,0.001,0.001,0.001,1e-05,1e-05,1e-05,0.001,0.1,0.1,0.1]},{\"label\":\"max_iter\",\"values\":[1000,1000,1000,1000,1000,1000,1000,1000,1000,1000,1000,1000,1000,1000,1000,1000]},{\"label\":\"random_state\",\"values\":[2022,2022,2022,2022,2022,2022,2022,2022,2022,2022,2022,2022,2022,2022,2022,2022]},{\"label\":\"tol\",\"values\":[0.001,1e-07,1e-07,1e-05,1e-05,0.001,0.001,1e-05,1e-07,1e-07,1e-05,1e-05,0.1,1e-05,0.001,0.1]},{\"label\":\"mean_test_neg_root_mean_squared_error\",\"values\":[-0.4667153012980461,-12.035642703177226,-12.03562960257139,-0.1892616789066805,-1.5462566733214687,-0.150535793898047,-0.15201202833527366,-1.5462566733214687,-0.7876176415708527,-0.1374589959994913,-12.035642703177226,-12.035629732711225,-0.24998770966864975,-0.1366224696511826,-0.1646459002069369,-0.25258025450265403]}],\"domain\":{\"x\":[0.0,1.0],\"y\":[0.0,1.0]},\"line\":{\"color\":[-0.4667153012980461,-12.035642703177226,-12.03562960257139,-0.1892616789066805,-1.5462566733214687,-0.150535793898047,-0.15201202833527366,-1.5462566733214687,-0.7876176415708527,-0.1374589959994913,-12.035642703177226,-12.035629732711225,-0.24998770966864975,-0.1366224696511826,-0.1646459002069369,-0.25258025450265403],\"coloraxis\":\"coloraxis\"},\"name\":\"\",\"type\":\"parcoords\"}],                        {\"template\":{\"data\":{\"bar\":[{\"error_x\":{\"color\":\"#2a3f5f\"},\"error_y\":{\"color\":\"#2a3f5f\"},\"marker\":{\"line\":{\"color\":\"#E5ECF6\",\"width\":0.5},\"pattern\":{\"fillmode\":\"overlay\",\"size\":10,\"solidity\":0.2}},\"type\":\"bar\"}],\"barpolar\":[{\"marker\":{\"line\":{\"color\":\"#E5ECF6\",\"width\":0.5},\"pattern\":{\"fillmode\":\"overlay\",\"size\":10,\"solidity\":0.2}},\"type\":\"barpolar\"}],\"carpet\":[{\"aaxis\":{\"endlinecolor\":\"#2a3f5f\",\"gridcolor\":\"white\",\"linecolor\":\"white\",\"minorgridcolor\":\"white\",\"startlinecolor\":\"#2a3f5f\"},\"baxis\":{\"endlinecolor\":\"#2a3f5f\",\"gridcolor\":\"white\",\"linecolor\":\"white\",\"minorgridcolor\":\"white\",\"startlinecolor\":\"#2a3f5f\"},\"type\":\"carpet\"}],\"choropleth\":[{\"colorbar\":{\"outlinewidth\":0,\"ticks\":\"\"},\"type\":\"choropleth\"}],\"contour\":[{\"colorbar\":{\"outlinewidth\":0,\"ticks\":\"\"},\"colorscale\":[[0.0,\"#0d0887\"],[0.1111111111111111,\"#46039f\"],[0.2222222222222222,\"#7201a8\"],[0.3333333333333333,\"#9c179e\"],[0.4444444444444444,\"#bd3786\"],[0.5555555555555556,\"#d8576b\"],[0.6666666666666666,\"#ed7953\"],[0.7777777777777778,\"#fb9f3a\"],[0.8888888888888888,\"#fdca26\"],[1.0,\"#f0f921\"]],\"type\":\"contour\"}],\"contourcarpet\":[{\"colorbar\":{\"outlinewidth\":0,\"ticks\":\"\"},\"type\":\"contourcarpet\"}],\"heatmap\":[{\"colorbar\":{\"outlinewidth\":0,\"ticks\":\"\"},\"colorscale\":[[0.0,\"#0d0887\"],[0.1111111111111111,\"#46039f\"],[0.2222222222222222,\"#7201a8\"],[0.3333333333333333,\"#9c179e\"],[0.4444444444444444,\"#bd3786\"],[0.5555555555555556,\"#d8576b\"],[0.6666666666666666,\"#ed7953\"],[0.7777777777777778,\"#fb9f3a\"],[0.8888888888888888,\"#fdca26\"],[1.0,\"#f0f921\"]],\"type\":\"heatmap\"}],\"heatmapgl\":[{\"colorbar\":{\"outlinewidth\":0,\"ticks\":\"\"},\"colorscale\":[[0.0,\"#0d0887\"],[0.1111111111111111,\"#46039f\"],[0.2222222222222222,\"#7201a8\"],[0.3333333333333333,\"#9c179e\"],[0.4444444444444444,\"#bd3786\"],[0.5555555555555556,\"#d8576b\"],[0.6666666666666666,\"#ed7953\"],[0.7777777777777778,\"#fb9f3a\"],[0.8888888888888888,\"#fdca26\"],[1.0,\"#f0f921\"]],\"type\":\"heatmapgl\"}],\"histogram\":[{\"marker\":{\"pattern\":{\"fillmode\":\"overlay\",\"size\":10,\"solidity\":0.2}},\"type\":\"histogram\"}],\"histogram2d\":[{\"colorbar\":{\"outlinewidth\":0,\"ticks\":\"\"},\"colorscale\":[[0.0,\"#0d0887\"],[0.1111111111111111,\"#46039f\"],[0.2222222222222222,\"#7201a8\"],[0.3333333333333333,\"#9c179e\"],[0.4444444444444444,\"#bd3786\"],[0.5555555555555556,\"#d8576b\"],[0.6666666666666666,\"#ed7953\"],[0.7777777777777778,\"#fb9f3a\"],[0.8888888888888888,\"#fdca26\"],[1.0,\"#f0f921\"]],\"type\":\"histogram2d\"}],\"histogram2dcontour\":[{\"colorbar\":{\"outlinewidth\":0,\"ticks\":\"\"},\"colorscale\":[[0.0,\"#0d0887\"],[0.1111111111111111,\"#46039f\"],[0.2222222222222222,\"#7201a8\"],[0.3333333333333333,\"#9c179e\"],[0.4444444444444444,\"#bd3786\"],[0.5555555555555556,\"#d8576b\"],[0.6666666666666666,\"#ed7953\"],[0.7777777777777778,\"#fb9f3a\"],[0.8888888888888888,\"#fdca26\"],[1.0,\"#f0f921\"]],\"type\":\"histogram2dcontour\"}],\"mesh3d\":[{\"colorbar\":{\"outlinewidth\":0,\"ticks\":\"\"},\"type\":\"mesh3d\"}],\"parcoords\":[{\"line\":{\"colorbar\":{\"outlinewidth\":0,\"ticks\":\"\"}},\"type\":\"parcoords\"}],\"pie\":[{\"automargin\":true,\"type\":\"pie\"}],\"scatter\":[{\"marker\":{\"colorbar\":{\"outlinewidth\":0,\"ticks\":\"\"}},\"type\":\"scatter\"}],\"scatter3d\":[{\"line\":{\"colorbar\":{\"outlinewidth\":0,\"ticks\":\"\"}},\"marker\":{\"colorbar\":{\"outlinewidth\":0,\"ticks\":\"\"}},\"type\":\"scatter3d\"}],\"scattercarpet\":[{\"marker\":{\"colorbar\":{\"outlinewidth\":0,\"ticks\":\"\"}},\"type\":\"scattercarpet\"}],\"scattergeo\":[{\"marker\":{\"colorbar\":{\"outlinewidth\":0,\"ticks\":\"\"}},\"type\":\"scattergeo\"}],\"scattergl\":[{\"marker\":{\"colorbar\":{\"outlinewidth\":0,\"ticks\":\"\"}},\"type\":\"scattergl\"}],\"scattermapbox\":[{\"marker\":{\"colorbar\":{\"outlinewidth\":0,\"ticks\":\"\"}},\"type\":\"scattermapbox\"}],\"scatterpolar\":[{\"marker\":{\"colorbar\":{\"outlinewidth\":0,\"ticks\":\"\"}},\"type\":\"scatterpolar\"}],\"scatterpolargl\":[{\"marker\":{\"colorbar\":{\"outlinewidth\":0,\"ticks\":\"\"}},\"type\":\"scatterpolargl\"}],\"scatterternary\":[{\"marker\":{\"colorbar\":{\"outlinewidth\":0,\"ticks\":\"\"}},\"type\":\"scatterternary\"}],\"surface\":[{\"colorbar\":{\"outlinewidth\":0,\"ticks\":\"\"},\"colorscale\":[[0.0,\"#0d0887\"],[0.1111111111111111,\"#46039f\"],[0.2222222222222222,\"#7201a8\"],[0.3333333333333333,\"#9c179e\"],[0.4444444444444444,\"#bd3786\"],[0.5555555555555556,\"#d8576b\"],[0.6666666666666666,\"#ed7953\"],[0.7777777777777778,\"#fb9f3a\"],[0.8888888888888888,\"#fdca26\"],[1.0,\"#f0f921\"]],\"type\":\"surface\"}],\"table\":[{\"cells\":{\"fill\":{\"color\":\"#EBF0F8\"},\"line\":{\"color\":\"white\"}},\"header\":{\"fill\":{\"color\":\"#C8D4E3\"},\"line\":{\"color\":\"white\"}},\"type\":\"table\"}]},\"layout\":{\"annotationdefaults\":{\"arrowcolor\":\"#2a3f5f\",\"arrowhead\":0,\"arrowwidth\":1},\"autotypenumbers\":\"strict\",\"coloraxis\":{\"colorbar\":{\"outlinewidth\":0,\"ticks\":\"\"}},\"colorscale\":{\"diverging\":[[0,\"#8e0152\"],[0.1,\"#c51b7d\"],[0.2,\"#de77ae\"],[0.3,\"#f1b6da\"],[0.4,\"#fde0ef\"],[0.5,\"#f7f7f7\"],[0.6,\"#e6f5d0\"],[0.7,\"#b8e186\"],[0.8,\"#7fbc41\"],[0.9,\"#4d9221\"],[1,\"#276419\"]],\"sequential\":[[0.0,\"#0d0887\"],[0.1111111111111111,\"#46039f\"],[0.2222222222222222,\"#7201a8\"],[0.3333333333333333,\"#9c179e\"],[0.4444444444444444,\"#bd3786\"],[0.5555555555555556,\"#d8576b\"],[0.6666666666666666,\"#ed7953\"],[0.7777777777777778,\"#fb9f3a\"],[0.8888888888888888,\"#fdca26\"],[1.0,\"#f0f921\"]],\"sequentialminus\":[[0.0,\"#0d0887\"],[0.1111111111111111,\"#46039f\"],[0.2222222222222222,\"#7201a8\"],[0.3333333333333333,\"#9c179e\"],[0.4444444444444444,\"#bd3786\"],[0.5555555555555556,\"#d8576b\"],[0.6666666666666666,\"#ed7953\"],[0.7777777777777778,\"#fb9f3a\"],[0.8888888888888888,\"#fdca26\"],[1.0,\"#f0f921\"]]},\"colorway\":[\"#636efa\",\"#EF553B\",\"#00cc96\",\"#ab63fa\",\"#FFA15A\",\"#19d3f3\",\"#FF6692\",\"#B6E880\",\"#FF97FF\",\"#FECB52\"],\"font\":{\"color\":\"#2a3f5f\"},\"geo\":{\"bgcolor\":\"white\",\"lakecolor\":\"white\",\"landcolor\":\"#E5ECF6\",\"showlakes\":true,\"showland\":true,\"subunitcolor\":\"white\"},\"hoverlabel\":{\"align\":\"left\"},\"hovermode\":\"closest\",\"mapbox\":{\"style\":\"light\"},\"paper_bgcolor\":\"white\",\"plot_bgcolor\":\"#E5ECF6\",\"polar\":{\"angularaxis\":{\"gridcolor\":\"white\",\"linecolor\":\"white\",\"ticks\":\"\"},\"bgcolor\":\"#E5ECF6\",\"radialaxis\":{\"gridcolor\":\"white\",\"linecolor\":\"white\",\"ticks\":\"\"}},\"scene\":{\"xaxis\":{\"backgroundcolor\":\"#E5ECF6\",\"gridcolor\":\"white\",\"gridwidth\":2,\"linecolor\":\"white\",\"showbackground\":true,\"ticks\":\"\",\"zerolinecolor\":\"white\"},\"yaxis\":{\"backgroundcolor\":\"#E5ECF6\",\"gridcolor\":\"white\",\"gridwidth\":2,\"linecolor\":\"white\",\"showbackground\":true,\"ticks\":\"\",\"zerolinecolor\":\"white\"},\"zaxis\":{\"backgroundcolor\":\"#E5ECF6\",\"gridcolor\":\"white\",\"gridwidth\":2,\"linecolor\":\"white\",\"showbackground\":true,\"ticks\":\"\",\"zerolinecolor\":\"white\"}},\"shapedefaults\":{\"line\":{\"color\":\"#2a3f5f\"}},\"ternary\":{\"aaxis\":{\"gridcolor\":\"white\",\"linecolor\":\"white\",\"ticks\":\"\"},\"baxis\":{\"gridcolor\":\"white\",\"linecolor\":\"white\",\"ticks\":\"\"},\"bgcolor\":\"#E5ECF6\",\"caxis\":{\"gridcolor\":\"white\",\"linecolor\":\"white\",\"ticks\":\"\"}},\"title\":{\"x\":0.05},\"xaxis\":{\"automargin\":true,\"gridcolor\":\"white\",\"linecolor\":\"white\",\"ticks\":\"\",\"title\":{\"standoff\":15},\"zerolinecolor\":\"white\",\"zerolinewidth\":2},\"yaxis\":{\"automargin\":true,\"gridcolor\":\"white\",\"linecolor\":\"white\",\"ticks\":\"\",\"title\":{\"standoff\":15},\"zerolinecolor\":\"white\",\"zerolinewidth\":2}}},\"coloraxis\":{\"colorbar\":{\"title\":{\"text\":\"mean_test_neg_root_mean_squared_error\"}},\"colorscale\":[[0.0,\"#0d0887\"],[0.1111111111111111,\"#46039f\"],[0.2222222222222222,\"#7201a8\"],[0.3333333333333333,\"#9c179e\"],[0.4444444444444444,\"#bd3786\"],[0.5555555555555556,\"#d8576b\"],[0.6666666666666666,\"#ed7953\"],[0.7777777777777778,\"#fb9f3a\"],[0.8888888888888888,\"#fdca26\"],[1.0,\"#f0f921\"]]},\"legend\":{\"tracegroupgap\":0},\"margin\":{\"t\":60}},                        {\"responsive\": true}                    ).then(function(){\n",
              "                            \n",
              "var gd = document.getElementById('3ab6396d-5969-4d71-8569-eb46c3196e75');\n",
              "var x = new MutationObserver(function (mutations, observer) {{\n",
              "        var display = window.getComputedStyle(gd).display;\n",
              "        if (!display || display === 'none') {{\n",
              "            console.log([gd, 'removed!']);\n",
              "            Plotly.purge(gd);\n",
              "            observer.disconnect();\n",
              "        }}\n",
              "}});\n",
              "\n",
              "// Listen for the removal of the full notebook cells\n",
              "var notebookContainer = gd.closest('#notebook-container');\n",
              "if (notebookContainer) {{\n",
              "    x.observe(notebookContainer, {childList: true});\n",
              "}}\n",
              "\n",
              "// Listen for the clearing of the current output cell\n",
              "var outputEl = gd.closest('.output');\n",
              "if (outputEl) {{\n",
              "    x.observe(outputEl, {childList: true});\n",
              "}}\n",
              "\n",
              "                        })                };                            </script>        </div>\n",
              "</body>\n",
              "</html>"
            ]
          },
          "metadata": {}
        }
      ],
      "source": [
        "from tune_sklearn import TuneSearchCV\n",
        "from sklearn.linear_model import SGDRegressor\n",
        "\n",
        "# Define a search space\n",
        "parameters = {\n",
        "    'alpha': list(np.geomspace(1e-7, 1e-3, 3)),\n",
        "    'epsilon': list(np.geomspace(1e-5, 1e-1, 3)),\n",
        "    'loss': ['huber', 'epsilon_insensitive'],\n",
        "    'tol': list(np.geomspace(1e-7, 1e-1, 4)),\n",
        "    'max_iter': [1000],\n",
        "    'penalty': ['l2'],\n",
        "    'random_state': [config['random_state']]\n",
        "}\n",
        "\n",
        "# Specify the hyper parameter tuning algorithm\n",
        "tune_search = TuneSearchCV(\n",
        "    SGDRegressor(),\n",
        "    parameters,\n",
        "    search_optimization='hyperopt',\n",
        "    n_trials=16,\n",
        "    n_jobs=-1,\n",
        "    scoring=['neg_root_mean_squared_error'],\n",
        "    cv=5,\n",
        "    refit='neg_root_mean_squared_error', # target metric of competition\n",
        "    verbose=1\n",
        "    )\n",
        "\n",
        "# Run hyper parameter tuning\n",
        "X = X_train \n",
        "y = y_train_trans\n",
        "tune_search.fit(X, y)\n",
        "\n",
        "# Save the tuning results \n",
        "model_name = 'svm'\n",
        "\n",
        "## Save the optimal hyper parmater values\n",
        "best_cv_df.loc[best_cv_df['model']==model_name, 'best_hyper_param'] = str(tune_search.best_params_)\n",
        "\n",
        "## Save the CV results\n",
        "cv_df = pd.DataFrame(tune_search.cv_results_)\n",
        "cv_values = cv_df.loc[tune_search.best_index_, cv_df.columns.str.startswith('split')].values\n",
        "best_cv_df.loc[best_cv_df['model']==model_name, 'log_RMSE'] = cv_values[:5]\n",
        "\n",
        "# Visualize the tuning results with parallel coordinate plot\n",
        "tune_result_df = pd.concat([pd.DataFrame(tune_search.cv_results_['params']), cv_df.loc[:,cv_df.columns.str.startswith('mean')] ], axis=1)\n",
        "import plotly.express as px\n",
        "fig = px.parallel_coordinates(tune_result_df, color='mean_test_neg_root_mean_squared_error')\n",
        "fig.show()"
      ]
    },
    {
      "cell_type": "markdown",
      "metadata": {
        "id": "TZV1XLbAKffy"
      },
      "source": [
        "### Random forest"
      ]
    },
    {
      "cell_type": "code",
      "execution_count": null,
      "metadata": {
        "colab": {
          "base_uri": "https://localhost:8080/",
          "height": 681
        },
        "id": "10x4_Hh9hqMN",
        "outputId": "6f65a736-4cf1-404c-f7f5-de84503f1498"
      },
      "outputs": [
        {
          "output_type": "display_data",
          "data": {
            "text/html": [
              "== Status ==<br>Current time: 2022-03-01 13:35:16 (running for 00:20:46.67)<br>Memory usage on this node: 2.4/12.7 GiB<br>Using FIFO scheduling algorithm.<br>Resources requested: 0/2 CPUs, 0/0 GPUs, 0.0/6.37 GiB heap, 0.0/3.19 GiB objects<br>Result logdir: /root/ray_results/_Trainable_2022-03-01_13-14-29<br>Number of trials: 9/9 (9 TERMINATED)<br><br>"
            ],
            "text/plain": [
              "<IPython.core.display.HTML object>"
            ]
          },
          "metadata": {}
        },
        {
          "output_type": "display_data",
          "data": {
            "text/html": [
              "<html>\n",
              "<head><meta charset=\"utf-8\" /></head>\n",
              "<body>\n",
              "    <div>            <script src=\"https://cdnjs.cloudflare.com/ajax/libs/mathjax/2.7.5/MathJax.js?config=TeX-AMS-MML_SVG\"></script><script type=\"text/javascript\">if (window.MathJax) {MathJax.Hub.Config({SVG: {font: \"STIX-Web\"}});}</script>                <script type=\"text/javascript\">window.PlotlyConfig = {MathJaxConfig: 'local'};</script>\n",
              "        <script src=\"https://cdn.plot.ly/plotly-2.8.3.min.js\"></script>                <div id=\"ddd2bd40-8589-4894-b44e-ccb27fc2b5f1\" class=\"plotly-graph-div\" style=\"height:525px; width:100%;\"></div>            <script type=\"text/javascript\">                                    window.PLOTLYENV=window.PLOTLYENV || {};                                    if (document.getElementById(\"ddd2bd40-8589-4894-b44e-ccb27fc2b5f1\")) {                    Plotly.newPlot(                        \"ddd2bd40-8589-4894-b44e-ccb27fc2b5f1\",                        [{\"dimensions\":[{\"label\":\"max_depth\",\"values\":[30,25,35,35,30,30,30,35,25]},{\"label\":\"n_estimators\",\"values\":[1000,2000,1000,1000,500,2000,2000,2000,500]},{\"label\":\"random_state\",\"values\":[2022,2022,2022,2022,2022,2022,2022,2022,2022]},{\"label\":\"mean_test_neg_root_mean_squared_error\",\"values\":[-0.13492985555900655,-0.1351445972384389,-0.13492765062761175,-0.13492765062761175,-0.13499236147242433,-0.13513475870522268,-0.13513475870522268,-0.13513322788850407,-0.13501471524689546]}],\"domain\":{\"x\":[0.0,1.0],\"y\":[0.0,1.0]},\"line\":{\"color\":[-0.13492985555900655,-0.1351445972384389,-0.13492765062761175,-0.13492765062761175,-0.13499236147242433,-0.13513475870522268,-0.13513475870522268,-0.13513322788850407,-0.13501471524689546],\"coloraxis\":\"coloraxis\"},\"name\":\"\",\"type\":\"parcoords\"}],                        {\"template\":{\"data\":{\"bar\":[{\"error_x\":{\"color\":\"#2a3f5f\"},\"error_y\":{\"color\":\"#2a3f5f\"},\"marker\":{\"line\":{\"color\":\"#E5ECF6\",\"width\":0.5},\"pattern\":{\"fillmode\":\"overlay\",\"size\":10,\"solidity\":0.2}},\"type\":\"bar\"}],\"barpolar\":[{\"marker\":{\"line\":{\"color\":\"#E5ECF6\",\"width\":0.5},\"pattern\":{\"fillmode\":\"overlay\",\"size\":10,\"solidity\":0.2}},\"type\":\"barpolar\"}],\"carpet\":[{\"aaxis\":{\"endlinecolor\":\"#2a3f5f\",\"gridcolor\":\"white\",\"linecolor\":\"white\",\"minorgridcolor\":\"white\",\"startlinecolor\":\"#2a3f5f\"},\"baxis\":{\"endlinecolor\":\"#2a3f5f\",\"gridcolor\":\"white\",\"linecolor\":\"white\",\"minorgridcolor\":\"white\",\"startlinecolor\":\"#2a3f5f\"},\"type\":\"carpet\"}],\"choropleth\":[{\"colorbar\":{\"outlinewidth\":0,\"ticks\":\"\"},\"type\":\"choropleth\"}],\"contour\":[{\"colorbar\":{\"outlinewidth\":0,\"ticks\":\"\"},\"colorscale\":[[0.0,\"#0d0887\"],[0.1111111111111111,\"#46039f\"],[0.2222222222222222,\"#7201a8\"],[0.3333333333333333,\"#9c179e\"],[0.4444444444444444,\"#bd3786\"],[0.5555555555555556,\"#d8576b\"],[0.6666666666666666,\"#ed7953\"],[0.7777777777777778,\"#fb9f3a\"],[0.8888888888888888,\"#fdca26\"],[1.0,\"#f0f921\"]],\"type\":\"contour\"}],\"contourcarpet\":[{\"colorbar\":{\"outlinewidth\":0,\"ticks\":\"\"},\"type\":\"contourcarpet\"}],\"heatmap\":[{\"colorbar\":{\"outlinewidth\":0,\"ticks\":\"\"},\"colorscale\":[[0.0,\"#0d0887\"],[0.1111111111111111,\"#46039f\"],[0.2222222222222222,\"#7201a8\"],[0.3333333333333333,\"#9c179e\"],[0.4444444444444444,\"#bd3786\"],[0.5555555555555556,\"#d8576b\"],[0.6666666666666666,\"#ed7953\"],[0.7777777777777778,\"#fb9f3a\"],[0.8888888888888888,\"#fdca26\"],[1.0,\"#f0f921\"]],\"type\":\"heatmap\"}],\"heatmapgl\":[{\"colorbar\":{\"outlinewidth\":0,\"ticks\":\"\"},\"colorscale\":[[0.0,\"#0d0887\"],[0.1111111111111111,\"#46039f\"],[0.2222222222222222,\"#7201a8\"],[0.3333333333333333,\"#9c179e\"],[0.4444444444444444,\"#bd3786\"],[0.5555555555555556,\"#d8576b\"],[0.6666666666666666,\"#ed7953\"],[0.7777777777777778,\"#fb9f3a\"],[0.8888888888888888,\"#fdca26\"],[1.0,\"#f0f921\"]],\"type\":\"heatmapgl\"}],\"histogram\":[{\"marker\":{\"pattern\":{\"fillmode\":\"overlay\",\"size\":10,\"solidity\":0.2}},\"type\":\"histogram\"}],\"histogram2d\":[{\"colorbar\":{\"outlinewidth\":0,\"ticks\":\"\"},\"colorscale\":[[0.0,\"#0d0887\"],[0.1111111111111111,\"#46039f\"],[0.2222222222222222,\"#7201a8\"],[0.3333333333333333,\"#9c179e\"],[0.4444444444444444,\"#bd3786\"],[0.5555555555555556,\"#d8576b\"],[0.6666666666666666,\"#ed7953\"],[0.7777777777777778,\"#fb9f3a\"],[0.8888888888888888,\"#fdca26\"],[1.0,\"#f0f921\"]],\"type\":\"histogram2d\"}],\"histogram2dcontour\":[{\"colorbar\":{\"outlinewidth\":0,\"ticks\":\"\"},\"colorscale\":[[0.0,\"#0d0887\"],[0.1111111111111111,\"#46039f\"],[0.2222222222222222,\"#7201a8\"],[0.3333333333333333,\"#9c179e\"],[0.4444444444444444,\"#bd3786\"],[0.5555555555555556,\"#d8576b\"],[0.6666666666666666,\"#ed7953\"],[0.7777777777777778,\"#fb9f3a\"],[0.8888888888888888,\"#fdca26\"],[1.0,\"#f0f921\"]],\"type\":\"histogram2dcontour\"}],\"mesh3d\":[{\"colorbar\":{\"outlinewidth\":0,\"ticks\":\"\"},\"type\":\"mesh3d\"}],\"parcoords\":[{\"line\":{\"colorbar\":{\"outlinewidth\":0,\"ticks\":\"\"}},\"type\":\"parcoords\"}],\"pie\":[{\"automargin\":true,\"type\":\"pie\"}],\"scatter\":[{\"marker\":{\"colorbar\":{\"outlinewidth\":0,\"ticks\":\"\"}},\"type\":\"scatter\"}],\"scatter3d\":[{\"line\":{\"colorbar\":{\"outlinewidth\":0,\"ticks\":\"\"}},\"marker\":{\"colorbar\":{\"outlinewidth\":0,\"ticks\":\"\"}},\"type\":\"scatter3d\"}],\"scattercarpet\":[{\"marker\":{\"colorbar\":{\"outlinewidth\":0,\"ticks\":\"\"}},\"type\":\"scattercarpet\"}],\"scattergeo\":[{\"marker\":{\"colorbar\":{\"outlinewidth\":0,\"ticks\":\"\"}},\"type\":\"scattergeo\"}],\"scattergl\":[{\"marker\":{\"colorbar\":{\"outlinewidth\":0,\"ticks\":\"\"}},\"type\":\"scattergl\"}],\"scattermapbox\":[{\"marker\":{\"colorbar\":{\"outlinewidth\":0,\"ticks\":\"\"}},\"type\":\"scattermapbox\"}],\"scatterpolar\":[{\"marker\":{\"colorbar\":{\"outlinewidth\":0,\"ticks\":\"\"}},\"type\":\"scatterpolar\"}],\"scatterpolargl\":[{\"marker\":{\"colorbar\":{\"outlinewidth\":0,\"ticks\":\"\"}},\"type\":\"scatterpolargl\"}],\"scatterternary\":[{\"marker\":{\"colorbar\":{\"outlinewidth\":0,\"ticks\":\"\"}},\"type\":\"scatterternary\"}],\"surface\":[{\"colorbar\":{\"outlinewidth\":0,\"ticks\":\"\"},\"colorscale\":[[0.0,\"#0d0887\"],[0.1111111111111111,\"#46039f\"],[0.2222222222222222,\"#7201a8\"],[0.3333333333333333,\"#9c179e\"],[0.4444444444444444,\"#bd3786\"],[0.5555555555555556,\"#d8576b\"],[0.6666666666666666,\"#ed7953\"],[0.7777777777777778,\"#fb9f3a\"],[0.8888888888888888,\"#fdca26\"],[1.0,\"#f0f921\"]],\"type\":\"surface\"}],\"table\":[{\"cells\":{\"fill\":{\"color\":\"#EBF0F8\"},\"line\":{\"color\":\"white\"}},\"header\":{\"fill\":{\"color\":\"#C8D4E3\"},\"line\":{\"color\":\"white\"}},\"type\":\"table\"}]},\"layout\":{\"annotationdefaults\":{\"arrowcolor\":\"#2a3f5f\",\"arrowhead\":0,\"arrowwidth\":1},\"autotypenumbers\":\"strict\",\"coloraxis\":{\"colorbar\":{\"outlinewidth\":0,\"ticks\":\"\"}},\"colorscale\":{\"diverging\":[[0,\"#8e0152\"],[0.1,\"#c51b7d\"],[0.2,\"#de77ae\"],[0.3,\"#f1b6da\"],[0.4,\"#fde0ef\"],[0.5,\"#f7f7f7\"],[0.6,\"#e6f5d0\"],[0.7,\"#b8e186\"],[0.8,\"#7fbc41\"],[0.9,\"#4d9221\"],[1,\"#276419\"]],\"sequential\":[[0.0,\"#0d0887\"],[0.1111111111111111,\"#46039f\"],[0.2222222222222222,\"#7201a8\"],[0.3333333333333333,\"#9c179e\"],[0.4444444444444444,\"#bd3786\"],[0.5555555555555556,\"#d8576b\"],[0.6666666666666666,\"#ed7953\"],[0.7777777777777778,\"#fb9f3a\"],[0.8888888888888888,\"#fdca26\"],[1.0,\"#f0f921\"]],\"sequentialminus\":[[0.0,\"#0d0887\"],[0.1111111111111111,\"#46039f\"],[0.2222222222222222,\"#7201a8\"],[0.3333333333333333,\"#9c179e\"],[0.4444444444444444,\"#bd3786\"],[0.5555555555555556,\"#d8576b\"],[0.6666666666666666,\"#ed7953\"],[0.7777777777777778,\"#fb9f3a\"],[0.8888888888888888,\"#fdca26\"],[1.0,\"#f0f921\"]]},\"colorway\":[\"#636efa\",\"#EF553B\",\"#00cc96\",\"#ab63fa\",\"#FFA15A\",\"#19d3f3\",\"#FF6692\",\"#B6E880\",\"#FF97FF\",\"#FECB52\"],\"font\":{\"color\":\"#2a3f5f\"},\"geo\":{\"bgcolor\":\"white\",\"lakecolor\":\"white\",\"landcolor\":\"#E5ECF6\",\"showlakes\":true,\"showland\":true,\"subunitcolor\":\"white\"},\"hoverlabel\":{\"align\":\"left\"},\"hovermode\":\"closest\",\"mapbox\":{\"style\":\"light\"},\"paper_bgcolor\":\"white\",\"plot_bgcolor\":\"#E5ECF6\",\"polar\":{\"angularaxis\":{\"gridcolor\":\"white\",\"linecolor\":\"white\",\"ticks\":\"\"},\"bgcolor\":\"#E5ECF6\",\"radialaxis\":{\"gridcolor\":\"white\",\"linecolor\":\"white\",\"ticks\":\"\"}},\"scene\":{\"xaxis\":{\"backgroundcolor\":\"#E5ECF6\",\"gridcolor\":\"white\",\"gridwidth\":2,\"linecolor\":\"white\",\"showbackground\":true,\"ticks\":\"\",\"zerolinecolor\":\"white\"},\"yaxis\":{\"backgroundcolor\":\"#E5ECF6\",\"gridcolor\":\"white\",\"gridwidth\":2,\"linecolor\":\"white\",\"showbackground\":true,\"ticks\":\"\",\"zerolinecolor\":\"white\"},\"zaxis\":{\"backgroundcolor\":\"#E5ECF6\",\"gridcolor\":\"white\",\"gridwidth\":2,\"linecolor\":\"white\",\"showbackground\":true,\"ticks\":\"\",\"zerolinecolor\":\"white\"}},\"shapedefaults\":{\"line\":{\"color\":\"#2a3f5f\"}},\"ternary\":{\"aaxis\":{\"gridcolor\":\"white\",\"linecolor\":\"white\",\"ticks\":\"\"},\"baxis\":{\"gridcolor\":\"white\",\"linecolor\":\"white\",\"ticks\":\"\"},\"bgcolor\":\"#E5ECF6\",\"caxis\":{\"gridcolor\":\"white\",\"linecolor\":\"white\",\"ticks\":\"\"}},\"title\":{\"x\":0.05},\"xaxis\":{\"automargin\":true,\"gridcolor\":\"white\",\"linecolor\":\"white\",\"ticks\":\"\",\"title\":{\"standoff\":15},\"zerolinecolor\":\"white\",\"zerolinewidth\":2},\"yaxis\":{\"automargin\":true,\"gridcolor\":\"white\",\"linecolor\":\"white\",\"ticks\":\"\",\"title\":{\"standoff\":15},\"zerolinecolor\":\"white\",\"zerolinewidth\":2}}},\"coloraxis\":{\"colorbar\":{\"title\":{\"text\":\"mean_test_neg_root_mean_squared_error\"}},\"colorscale\":[[0.0,\"#0d0887\"],[0.1111111111111111,\"#46039f\"],[0.2222222222222222,\"#7201a8\"],[0.3333333333333333,\"#9c179e\"],[0.4444444444444444,\"#bd3786\"],[0.5555555555555556,\"#d8576b\"],[0.6666666666666666,\"#ed7953\"],[0.7777777777777778,\"#fb9f3a\"],[0.8888888888888888,\"#fdca26\"],[1.0,\"#f0f921\"]]},\"legend\":{\"tracegroupgap\":0},\"margin\":{\"t\":60}},                        {\"responsive\": true}                    ).then(function(){\n",
              "                            \n",
              "var gd = document.getElementById('ddd2bd40-8589-4894-b44e-ccb27fc2b5f1');\n",
              "var x = new MutationObserver(function (mutations, observer) {{\n",
              "        var display = window.getComputedStyle(gd).display;\n",
              "        if (!display || display === 'none') {{\n",
              "            console.log([gd, 'removed!']);\n",
              "            Plotly.purge(gd);\n",
              "            observer.disconnect();\n",
              "        }}\n",
              "}});\n",
              "\n",
              "// Listen for the removal of the full notebook cells\n",
              "var notebookContainer = gd.closest('#notebook-container');\n",
              "if (notebookContainer) {{\n",
              "    x.observe(notebookContainer, {childList: true});\n",
              "}}\n",
              "\n",
              "// Listen for the clearing of the current output cell\n",
              "var outputEl = gd.closest('.output');\n",
              "if (outputEl) {{\n",
              "    x.observe(outputEl, {childList: true});\n",
              "}}\n",
              "\n",
              "                        })                };                            </script>        </div>\n",
              "</body>\n",
              "</html>"
            ]
          },
          "metadata": {}
        }
      ],
      "source": [
        "from tune_sklearn import TuneSearchCV\n",
        "from sklearn.ensemble import RandomForestRegressor\n",
        "\n",
        "parameters = {\n",
        "    'n_estimators': [500, 1000, 2000],\n",
        "    'criterion': ['squared_error'],\n",
        "    'max_depth': [25, 30, 35],\n",
        "    'max_features': ['auto'],\n",
        "    'random_state': [config['random_state']]\n",
        "}\n",
        "\n",
        "# Specify the hyper parameter tuning algorithm\n",
        "tune_search = TuneSearchCV(\n",
        "    RandomForestRegressor(),\n",
        "    parameters,\n",
        "    search_optimization='hyperopt',\n",
        "    n_trials=9,\n",
        "    n_jobs=-1,\n",
        "    scoring=['neg_root_mean_squared_error'],\n",
        "    cv=5,\n",
        "    refit='neg_root_mean_squared_error', # target metric of competition\n",
        "    verbose=1\n",
        "    )\n",
        "\n",
        "# Run hyper parameter tuning\n",
        "X = X_train \n",
        "y = y_train_trans\n",
        "tune_search.fit(X, y)\n",
        "\n",
        "# Save the tuning results \n",
        "model_name = 'rf'\n",
        "\n",
        "## Save the optimal hyper parmater values\n",
        "best_cv_df.loc[best_cv_df['model']==model_name, 'best_hyper_param'] = str(tune_search.best_params_)\n",
        "\n",
        "## Save the CV results\n",
        "cv_df = pd.DataFrame(tune_search.cv_results_)\n",
        "cv_values = cv_df.loc[tune_search.best_index_, cv_df.columns.str.startswith('split')].values\n",
        "best_cv_df.loc[best_cv_df['model']==model_name, 'log_RMSE'] = cv_values[:5]\n",
        "\n",
        "# Visualize the tuning results with parallel coordinate plot\n",
        "tune_result_df = pd.concat([pd.DataFrame(tune_search.cv_results_['params']), cv_df.loc[:,cv_df.columns.str.startswith('mean')] ], axis=1)\n",
        "import plotly.express as px\n",
        "fig = px.parallel_coordinates(tune_result_df, color='mean_test_neg_root_mean_squared_error')\n",
        "fig.show()"
      ]
    },
    {
      "cell_type": "markdown",
      "metadata": {
        "id": "NGiWtM5NKhA-"
      },
      "source": [
        "### XGBoost"
      ]
    },
    {
      "cell_type": "code",
      "execution_count": null,
      "metadata": {
        "colab": {
          "base_uri": "https://localhost:8080/",
          "height": 681
        },
        "id": "YtJ5wlpu9j21",
        "outputId": "f5abbf91-f9b6-4777-8bc5-424b7a5bbb7f"
      },
      "outputs": [
        {
          "output_type": "display_data",
          "data": {
            "text/html": [
              "== Status ==<br>Current time: 2022-03-01 13:46:56 (running for 00:11:02.13)<br>Memory usage on this node: 2.3/12.7 GiB<br>Using FIFO scheduling algorithm.<br>Resources requested: 0/2 CPUs, 0/0 GPUs, 0.0/6.33 GiB heap, 0.0/3.16 GiB objects<br>Result logdir: /root/ray_results/_Trainable_2022-03-01_13-35-54<br>Number of trials: 9/9 (9 TERMINATED)<br><br>"
            ],
            "text/plain": [
              "<IPython.core.display.HTML object>"
            ]
          },
          "metadata": {}
        },
        {
          "output_type": "display_data",
          "data": {
            "text/html": [
              "<html>\n",
              "<head><meta charset=\"utf-8\" /></head>\n",
              "<body>\n",
              "    <div>            <script src=\"https://cdnjs.cloudflare.com/ajax/libs/mathjax/2.7.5/MathJax.js?config=TeX-AMS-MML_SVG\"></script><script type=\"text/javascript\">if (window.MathJax) {MathJax.Hub.Config({SVG: {font: \"STIX-Web\"}});}</script>                <script type=\"text/javascript\">window.PlotlyConfig = {MathJaxConfig: 'local'};</script>\n",
              "        <script src=\"https://cdn.plot.ly/plotly-2.8.3.min.js\"></script>                <div id=\"25a50c36-2469-4765-880d-f35db84d7a71\" class=\"plotly-graph-div\" style=\"height:525px; width:100%;\"></div>            <script type=\"text/javascript\">                                    window.PLOTLYENV=window.PLOTLYENV || {};                                    if (document.getElementById(\"25a50c36-2469-4765-880d-f35db84d7a71\")) {                    Plotly.newPlot(                        \"25a50c36-2469-4765-880d-f35db84d7a71\",                        [{\"dimensions\":[{\"label\":\"colsample_bytree\",\"values\":[1.0,0.6,0.6,0.6,1.0,0.6,1.0,1.0,1.0]},{\"label\":\"gamma\",\"values\":[0.01,0.01,1.0,0.1,0.01,0.01,1.0,1.0,1.0]},{\"label\":\"learning_rate\",\"values\":[0.01,0.01,0.01,0.1,0.01,1.0,1.0,0.1,0.1]},{\"label\":\"max_depth\",\"values\":[15,10,15,15,10,15,10,5,15]},{\"label\":\"min_child_weight\",\"values\":[5,5,10,10,15,15,15,5,5]},{\"label\":\"n_estimators\",\"values\":[1000,500,1000,1000,1000,500,1000,500,1000]},{\"label\":\"random_state\",\"values\":[2022,2022,2022,2022,2022,2022,2022,2022,2022]},{\"label\":\"subsample\",\"values\":[1.0,0.6,0.6,0.6,0.6,1.0,1.0,0.6,0.6]},{\"label\":\"mean_test_neg_root_mean_squared_error\",\"values\":[-0.11769954264163969,-0.14860173463821408,-0.14836090505123137,-0.11787031143903728,-0.1150992706418037,-0.18911580145359036,-0.18416861593723297,-0.14543839693069455,-0.14510970413684843]}],\"domain\":{\"x\":[0.0,1.0],\"y\":[0.0,1.0]},\"line\":{\"color\":[-0.11769954264163969,-0.14860173463821408,-0.14836090505123137,-0.11787031143903728,-0.1150992706418037,-0.18911580145359036,-0.18416861593723297,-0.14543839693069455,-0.14510970413684843],\"coloraxis\":\"coloraxis\"},\"name\":\"\",\"type\":\"parcoords\"}],                        {\"template\":{\"data\":{\"bar\":[{\"error_x\":{\"color\":\"#2a3f5f\"},\"error_y\":{\"color\":\"#2a3f5f\"},\"marker\":{\"line\":{\"color\":\"#E5ECF6\",\"width\":0.5},\"pattern\":{\"fillmode\":\"overlay\",\"size\":10,\"solidity\":0.2}},\"type\":\"bar\"}],\"barpolar\":[{\"marker\":{\"line\":{\"color\":\"#E5ECF6\",\"width\":0.5},\"pattern\":{\"fillmode\":\"overlay\",\"size\":10,\"solidity\":0.2}},\"type\":\"barpolar\"}],\"carpet\":[{\"aaxis\":{\"endlinecolor\":\"#2a3f5f\",\"gridcolor\":\"white\",\"linecolor\":\"white\",\"minorgridcolor\":\"white\",\"startlinecolor\":\"#2a3f5f\"},\"baxis\":{\"endlinecolor\":\"#2a3f5f\",\"gridcolor\":\"white\",\"linecolor\":\"white\",\"minorgridcolor\":\"white\",\"startlinecolor\":\"#2a3f5f\"},\"type\":\"carpet\"}],\"choropleth\":[{\"colorbar\":{\"outlinewidth\":0,\"ticks\":\"\"},\"type\":\"choropleth\"}],\"contour\":[{\"colorbar\":{\"outlinewidth\":0,\"ticks\":\"\"},\"colorscale\":[[0.0,\"#0d0887\"],[0.1111111111111111,\"#46039f\"],[0.2222222222222222,\"#7201a8\"],[0.3333333333333333,\"#9c179e\"],[0.4444444444444444,\"#bd3786\"],[0.5555555555555556,\"#d8576b\"],[0.6666666666666666,\"#ed7953\"],[0.7777777777777778,\"#fb9f3a\"],[0.8888888888888888,\"#fdca26\"],[1.0,\"#f0f921\"]],\"type\":\"contour\"}],\"contourcarpet\":[{\"colorbar\":{\"outlinewidth\":0,\"ticks\":\"\"},\"type\":\"contourcarpet\"}],\"heatmap\":[{\"colorbar\":{\"outlinewidth\":0,\"ticks\":\"\"},\"colorscale\":[[0.0,\"#0d0887\"],[0.1111111111111111,\"#46039f\"],[0.2222222222222222,\"#7201a8\"],[0.3333333333333333,\"#9c179e\"],[0.4444444444444444,\"#bd3786\"],[0.5555555555555556,\"#d8576b\"],[0.6666666666666666,\"#ed7953\"],[0.7777777777777778,\"#fb9f3a\"],[0.8888888888888888,\"#fdca26\"],[1.0,\"#f0f921\"]],\"type\":\"heatmap\"}],\"heatmapgl\":[{\"colorbar\":{\"outlinewidth\":0,\"ticks\":\"\"},\"colorscale\":[[0.0,\"#0d0887\"],[0.1111111111111111,\"#46039f\"],[0.2222222222222222,\"#7201a8\"],[0.3333333333333333,\"#9c179e\"],[0.4444444444444444,\"#bd3786\"],[0.5555555555555556,\"#d8576b\"],[0.6666666666666666,\"#ed7953\"],[0.7777777777777778,\"#fb9f3a\"],[0.8888888888888888,\"#fdca26\"],[1.0,\"#f0f921\"]],\"type\":\"heatmapgl\"}],\"histogram\":[{\"marker\":{\"pattern\":{\"fillmode\":\"overlay\",\"size\":10,\"solidity\":0.2}},\"type\":\"histogram\"}],\"histogram2d\":[{\"colorbar\":{\"outlinewidth\":0,\"ticks\":\"\"},\"colorscale\":[[0.0,\"#0d0887\"],[0.1111111111111111,\"#46039f\"],[0.2222222222222222,\"#7201a8\"],[0.3333333333333333,\"#9c179e\"],[0.4444444444444444,\"#bd3786\"],[0.5555555555555556,\"#d8576b\"],[0.6666666666666666,\"#ed7953\"],[0.7777777777777778,\"#fb9f3a\"],[0.8888888888888888,\"#fdca26\"],[1.0,\"#f0f921\"]],\"type\":\"histogram2d\"}],\"histogram2dcontour\":[{\"colorbar\":{\"outlinewidth\":0,\"ticks\":\"\"},\"colorscale\":[[0.0,\"#0d0887\"],[0.1111111111111111,\"#46039f\"],[0.2222222222222222,\"#7201a8\"],[0.3333333333333333,\"#9c179e\"],[0.4444444444444444,\"#bd3786\"],[0.5555555555555556,\"#d8576b\"],[0.6666666666666666,\"#ed7953\"],[0.7777777777777778,\"#fb9f3a\"],[0.8888888888888888,\"#fdca26\"],[1.0,\"#f0f921\"]],\"type\":\"histogram2dcontour\"}],\"mesh3d\":[{\"colorbar\":{\"outlinewidth\":0,\"ticks\":\"\"},\"type\":\"mesh3d\"}],\"parcoords\":[{\"line\":{\"colorbar\":{\"outlinewidth\":0,\"ticks\":\"\"}},\"type\":\"parcoords\"}],\"pie\":[{\"automargin\":true,\"type\":\"pie\"}],\"scatter\":[{\"marker\":{\"colorbar\":{\"outlinewidth\":0,\"ticks\":\"\"}},\"type\":\"scatter\"}],\"scatter3d\":[{\"line\":{\"colorbar\":{\"outlinewidth\":0,\"ticks\":\"\"}},\"marker\":{\"colorbar\":{\"outlinewidth\":0,\"ticks\":\"\"}},\"type\":\"scatter3d\"}],\"scattercarpet\":[{\"marker\":{\"colorbar\":{\"outlinewidth\":0,\"ticks\":\"\"}},\"type\":\"scattercarpet\"}],\"scattergeo\":[{\"marker\":{\"colorbar\":{\"outlinewidth\":0,\"ticks\":\"\"}},\"type\":\"scattergeo\"}],\"scattergl\":[{\"marker\":{\"colorbar\":{\"outlinewidth\":0,\"ticks\":\"\"}},\"type\":\"scattergl\"}],\"scattermapbox\":[{\"marker\":{\"colorbar\":{\"outlinewidth\":0,\"ticks\":\"\"}},\"type\":\"scattermapbox\"}],\"scatterpolar\":[{\"marker\":{\"colorbar\":{\"outlinewidth\":0,\"ticks\":\"\"}},\"type\":\"scatterpolar\"}],\"scatterpolargl\":[{\"marker\":{\"colorbar\":{\"outlinewidth\":0,\"ticks\":\"\"}},\"type\":\"scatterpolargl\"}],\"scatterternary\":[{\"marker\":{\"colorbar\":{\"outlinewidth\":0,\"ticks\":\"\"}},\"type\":\"scatterternary\"}],\"surface\":[{\"colorbar\":{\"outlinewidth\":0,\"ticks\":\"\"},\"colorscale\":[[0.0,\"#0d0887\"],[0.1111111111111111,\"#46039f\"],[0.2222222222222222,\"#7201a8\"],[0.3333333333333333,\"#9c179e\"],[0.4444444444444444,\"#bd3786\"],[0.5555555555555556,\"#d8576b\"],[0.6666666666666666,\"#ed7953\"],[0.7777777777777778,\"#fb9f3a\"],[0.8888888888888888,\"#fdca26\"],[1.0,\"#f0f921\"]],\"type\":\"surface\"}],\"table\":[{\"cells\":{\"fill\":{\"color\":\"#EBF0F8\"},\"line\":{\"color\":\"white\"}},\"header\":{\"fill\":{\"color\":\"#C8D4E3\"},\"line\":{\"color\":\"white\"}},\"type\":\"table\"}]},\"layout\":{\"annotationdefaults\":{\"arrowcolor\":\"#2a3f5f\",\"arrowhead\":0,\"arrowwidth\":1},\"autotypenumbers\":\"strict\",\"coloraxis\":{\"colorbar\":{\"outlinewidth\":0,\"ticks\":\"\"}},\"colorscale\":{\"diverging\":[[0,\"#8e0152\"],[0.1,\"#c51b7d\"],[0.2,\"#de77ae\"],[0.3,\"#f1b6da\"],[0.4,\"#fde0ef\"],[0.5,\"#f7f7f7\"],[0.6,\"#e6f5d0\"],[0.7,\"#b8e186\"],[0.8,\"#7fbc41\"],[0.9,\"#4d9221\"],[1,\"#276419\"]],\"sequential\":[[0.0,\"#0d0887\"],[0.1111111111111111,\"#46039f\"],[0.2222222222222222,\"#7201a8\"],[0.3333333333333333,\"#9c179e\"],[0.4444444444444444,\"#bd3786\"],[0.5555555555555556,\"#d8576b\"],[0.6666666666666666,\"#ed7953\"],[0.7777777777777778,\"#fb9f3a\"],[0.8888888888888888,\"#fdca26\"],[1.0,\"#f0f921\"]],\"sequentialminus\":[[0.0,\"#0d0887\"],[0.1111111111111111,\"#46039f\"],[0.2222222222222222,\"#7201a8\"],[0.3333333333333333,\"#9c179e\"],[0.4444444444444444,\"#bd3786\"],[0.5555555555555556,\"#d8576b\"],[0.6666666666666666,\"#ed7953\"],[0.7777777777777778,\"#fb9f3a\"],[0.8888888888888888,\"#fdca26\"],[1.0,\"#f0f921\"]]},\"colorway\":[\"#636efa\",\"#EF553B\",\"#00cc96\",\"#ab63fa\",\"#FFA15A\",\"#19d3f3\",\"#FF6692\",\"#B6E880\",\"#FF97FF\",\"#FECB52\"],\"font\":{\"color\":\"#2a3f5f\"},\"geo\":{\"bgcolor\":\"white\",\"lakecolor\":\"white\",\"landcolor\":\"#E5ECF6\",\"showlakes\":true,\"showland\":true,\"subunitcolor\":\"white\"},\"hoverlabel\":{\"align\":\"left\"},\"hovermode\":\"closest\",\"mapbox\":{\"style\":\"light\"},\"paper_bgcolor\":\"white\",\"plot_bgcolor\":\"#E5ECF6\",\"polar\":{\"angularaxis\":{\"gridcolor\":\"white\",\"linecolor\":\"white\",\"ticks\":\"\"},\"bgcolor\":\"#E5ECF6\",\"radialaxis\":{\"gridcolor\":\"white\",\"linecolor\":\"white\",\"ticks\":\"\"}},\"scene\":{\"xaxis\":{\"backgroundcolor\":\"#E5ECF6\",\"gridcolor\":\"white\",\"gridwidth\":2,\"linecolor\":\"white\",\"showbackground\":true,\"ticks\":\"\",\"zerolinecolor\":\"white\"},\"yaxis\":{\"backgroundcolor\":\"#E5ECF6\",\"gridcolor\":\"white\",\"gridwidth\":2,\"linecolor\":\"white\",\"showbackground\":true,\"ticks\":\"\",\"zerolinecolor\":\"white\"},\"zaxis\":{\"backgroundcolor\":\"#E5ECF6\",\"gridcolor\":\"white\",\"gridwidth\":2,\"linecolor\":\"white\",\"showbackground\":true,\"ticks\":\"\",\"zerolinecolor\":\"white\"}},\"shapedefaults\":{\"line\":{\"color\":\"#2a3f5f\"}},\"ternary\":{\"aaxis\":{\"gridcolor\":\"white\",\"linecolor\":\"white\",\"ticks\":\"\"},\"baxis\":{\"gridcolor\":\"white\",\"linecolor\":\"white\",\"ticks\":\"\"},\"bgcolor\":\"#E5ECF6\",\"caxis\":{\"gridcolor\":\"white\",\"linecolor\":\"white\",\"ticks\":\"\"}},\"title\":{\"x\":0.05},\"xaxis\":{\"automargin\":true,\"gridcolor\":\"white\",\"linecolor\":\"white\",\"ticks\":\"\",\"title\":{\"standoff\":15},\"zerolinecolor\":\"white\",\"zerolinewidth\":2},\"yaxis\":{\"automargin\":true,\"gridcolor\":\"white\",\"linecolor\":\"white\",\"ticks\":\"\",\"title\":{\"standoff\":15},\"zerolinecolor\":\"white\",\"zerolinewidth\":2}}},\"coloraxis\":{\"colorbar\":{\"title\":{\"text\":\"mean_test_neg_root_mean_squared_error\"}},\"colorscale\":[[0.0,\"#0d0887\"],[0.1111111111111111,\"#46039f\"],[0.2222222222222222,\"#7201a8\"],[0.3333333333333333,\"#9c179e\"],[0.4444444444444444,\"#bd3786\"],[0.5555555555555556,\"#d8576b\"],[0.6666666666666666,\"#ed7953\"],[0.7777777777777778,\"#fb9f3a\"],[0.8888888888888888,\"#fdca26\"],[1.0,\"#f0f921\"]]},\"legend\":{\"tracegroupgap\":0},\"margin\":{\"t\":60}},                        {\"responsive\": true}                    ).then(function(){\n",
              "                            \n",
              "var gd = document.getElementById('25a50c36-2469-4765-880d-f35db84d7a71');\n",
              "var x = new MutationObserver(function (mutations, observer) {{\n",
              "        var display = window.getComputedStyle(gd).display;\n",
              "        if (!display || display === 'none') {{\n",
              "            console.log([gd, 'removed!']);\n",
              "            Plotly.purge(gd);\n",
              "            observer.disconnect();\n",
              "        }}\n",
              "}});\n",
              "\n",
              "// Listen for the removal of the full notebook cells\n",
              "var notebookContainer = gd.closest('#notebook-container');\n",
              "if (notebookContainer) {{\n",
              "    x.observe(notebookContainer, {childList: true});\n",
              "}}\n",
              "\n",
              "// Listen for the clearing of the current output cell\n",
              "var outputEl = gd.closest('.output');\n",
              "if (outputEl) {{\n",
              "    x.observe(outputEl, {childList: true});\n",
              "}}\n",
              "\n",
              "                        })                };                            </script>        </div>\n",
              "</body>\n",
              "</html>"
            ]
          },
          "metadata": {}
        }
      ],
      "source": [
        "from tune_sklearn import TuneSearchCV\n",
        "from xgboost import XGBRegressor\n",
        "\n",
        "parameters = {\n",
        "    'n_estimators': [500, 1000],\n",
        "    'learning_rate': list(np.geomspace(1e-2, 1, 3)),\n",
        "    'min_child_weight': [5, 10, 15],\n",
        "    'gamma': list(np.geomspace(1e-2, 1, 3)),\n",
        "    'subsample': [0.6, 1.0],\n",
        "    'colsample_bytree': [0.6, 1.0],\n",
        "    'max_depth': [5, 10, 15],\n",
        "    'objective': ['reg:squarederror'],\n",
        "    'random_state': [config['random_state']]\n",
        "}\n",
        "\n",
        "# Specify the hyper parameter tuning algorithm\n",
        "tune_search = TuneSearchCV(\n",
        "    XGBRegressor(),\n",
        "    parameters,\n",
        "    search_optimization='hyperopt',\n",
        "    n_trials=9,\n",
        "    n_jobs=-1,\n",
        "    scoring=['neg_root_mean_squared_error'],\n",
        "    cv=5,\n",
        "    refit='neg_root_mean_squared_error', # target metric of competition\n",
        "    verbose=1\n",
        "    )\n",
        "\n",
        "# Run hyper parameter tuning\n",
        "X = X_train \n",
        "y = y_train_trans\n",
        "tune_search.fit(X, y)\n",
        "\n",
        "# Save the tuning results \n",
        "model_name = 'xgb'\n",
        "\n",
        "## Save the optimal hyper parmater values\n",
        "best_cv_df.loc[best_cv_df['model']==model_name, 'best_hyper_param'] = str(tune_search.best_params_)\n",
        "\n",
        "## Save the CV results\n",
        "cv_df = pd.DataFrame(tune_search.cv_results_)\n",
        "cv_values = cv_df.loc[tune_search.best_index_, cv_df.columns.str.startswith('split')].values\n",
        "best_cv_df.loc[best_cv_df['model']==model_name, 'log_RMSE'] = cv_values[:5]\n",
        "\n",
        "# Visualize the tuning results with parallel coordinate plot\n",
        "tune_result_df = pd.concat([pd.DataFrame(tune_search.cv_results_['params']), cv_df.loc[:,cv_df.columns.str.startswith('mean')] ], axis=1)\n",
        "import plotly.express as px\n",
        "fig = px.parallel_coordinates(tune_result_df, color='mean_test_neg_root_mean_squared_error')\n",
        "fig.show()"
      ]
    },
    {
      "cell_type": "markdown",
      "metadata": {
        "id": "eMEkfLDXKmtD"
      },
      "source": [
        "### Multi-layer perceptron"
      ]
    },
    {
      "cell_type": "code",
      "execution_count": null,
      "metadata": {
        "colab": {
          "base_uri": "https://localhost:8080/",
          "height": 681
        },
        "id": "1CCNhjAwPGK-",
        "outputId": "3dada064-8a46-4acb-f82d-e3673aa351f9"
      },
      "outputs": [
        {
          "output_type": "display_data",
          "data": {
            "text/html": [
              "== Status ==<br>Current time: 2022-03-01 14:01:41 (running for 00:14:13.57)<br>Memory usage on this node: 2.6/12.7 GiB<br>Using FIFO scheduling algorithm.<br>Resources requested: 0/2 CPUs, 0/0 GPUs, 0.0/6.32 GiB heap, 0.0/3.16 GiB objects<br>Result logdir: /root/ray_results/_Trainable_2022-03-01_13-47-28<br>Number of trials: 15/15 (15 TERMINATED)<br><br>"
            ],
            "text/plain": [
              "<IPython.core.display.HTML object>"
            ]
          },
          "metadata": {}
        },
        {
          "output_type": "display_data",
          "data": {
            "text/html": [
              "<html>\n",
              "<head><meta charset=\"utf-8\" /></head>\n",
              "<body>\n",
              "    <div>            <script src=\"https://cdnjs.cloudflare.com/ajax/libs/mathjax/2.7.5/MathJax.js?config=TeX-AMS-MML_SVG\"></script><script type=\"text/javascript\">if (window.MathJax) {MathJax.Hub.Config({SVG: {font: \"STIX-Web\"}});}</script>                <script type=\"text/javascript\">window.PlotlyConfig = {MathJaxConfig: 'local'};</script>\n",
              "        <script src=\"https://cdn.plot.ly/plotly-2.8.3.min.js\"></script>                <div id=\"8c3cce6b-466a-4306-b814-227ac98f05a6\" class=\"plotly-graph-div\" style=\"height:525px; width:100%;\"></div>            <script type=\"text/javascript\">                                    window.PLOTLYENV=window.PLOTLYENV || {};                                    if (document.getElementById(\"8c3cce6b-466a-4306-b814-227ac98f05a6\")) {                    Plotly.newPlot(                        \"8c3cce6b-466a-4306-b814-227ac98f05a6\",                        [{\"dimensions\":[{\"label\":\"batch_size\",\"values\":[16,32,32,16,32,16,16,32,64,64,64,16,16,16,64]},{\"label\":\"lr\",\"values\":[1e-05,0.01,0.001,0.0001,0.001,0.01,0.01,0.01,1e-05,0.0001,1e-05,0.001,0.0001,0.001,0.0001]},{\"label\":\"max_epochs\",\"values\":[1000,1000,1000,1000,1000,1000,1000,1000,1000,1000,1000,1000,1000,1000,1000]},{\"label\":\"module__dropout1\",\"values\":[0.1,0.0,0.1,0.0,0.0,0.0,0.1,0.0,0.0,0.0,0.0,0.0,0.1,0.0,0.0]},{\"label\":\"module__dropout2\",\"values\":[0.0,0.0,0.0,0.1,0.0,0.0,0.0,0.1,0.0,0.1,0.1,0.0,0.0,0.1,0.1]},{\"label\":\"module__layer1\",\"values\":[256,128,128,256,128,128,512,256,512,512,128,128,256,256,128]},{\"label\":\"module__layer2\",\"values\":[512,512,128,256,512,128,256,512,512,256,512,512,512,512,128]},{\"label\":\"optimizer__weight_decay\",\"values\":[0.0001,0.01,1e-05,0.001,0.0001,0.001,0.01,0.0001,0.001,0.001,0.01,0.0001,0.0001,0.001,1e-05]},{\"label\":\"mean_test_neg_root_mean_squared_error\",\"values\":[-0.1804983049631118,-0.1837324291467666,-0.214522123336792,-0.18311163783073423,-0.15803191959857935,-0.2653257578611373,-0.5038876533508301,-0.3330337584018707,-0.1539827197790145,-0.18183780610561368,-0.22390310466289515,-0.16317161023616786,-0.17829472720623013,-0.21405828297138213,-0.21705035567283631]}],\"domain\":{\"x\":[0.0,1.0],\"y\":[0.0,1.0]},\"line\":{\"color\":[-0.1804983049631118,-0.1837324291467666,-0.214522123336792,-0.18311163783073423,-0.15803191959857935,-0.2653257578611373,-0.5038876533508301,-0.3330337584018707,-0.1539827197790145,-0.18183780610561368,-0.22390310466289515,-0.16317161023616786,-0.17829472720623013,-0.21405828297138213,-0.21705035567283631],\"coloraxis\":\"coloraxis\"},\"name\":\"\",\"type\":\"parcoords\"}],                        {\"template\":{\"data\":{\"bar\":[{\"error_x\":{\"color\":\"#2a3f5f\"},\"error_y\":{\"color\":\"#2a3f5f\"},\"marker\":{\"line\":{\"color\":\"#E5ECF6\",\"width\":0.5},\"pattern\":{\"fillmode\":\"overlay\",\"size\":10,\"solidity\":0.2}},\"type\":\"bar\"}],\"barpolar\":[{\"marker\":{\"line\":{\"color\":\"#E5ECF6\",\"width\":0.5},\"pattern\":{\"fillmode\":\"overlay\",\"size\":10,\"solidity\":0.2}},\"type\":\"barpolar\"}],\"carpet\":[{\"aaxis\":{\"endlinecolor\":\"#2a3f5f\",\"gridcolor\":\"white\",\"linecolor\":\"white\",\"minorgridcolor\":\"white\",\"startlinecolor\":\"#2a3f5f\"},\"baxis\":{\"endlinecolor\":\"#2a3f5f\",\"gridcolor\":\"white\",\"linecolor\":\"white\",\"minorgridcolor\":\"white\",\"startlinecolor\":\"#2a3f5f\"},\"type\":\"carpet\"}],\"choropleth\":[{\"colorbar\":{\"outlinewidth\":0,\"ticks\":\"\"},\"type\":\"choropleth\"}],\"contour\":[{\"colorbar\":{\"outlinewidth\":0,\"ticks\":\"\"},\"colorscale\":[[0.0,\"#0d0887\"],[0.1111111111111111,\"#46039f\"],[0.2222222222222222,\"#7201a8\"],[0.3333333333333333,\"#9c179e\"],[0.4444444444444444,\"#bd3786\"],[0.5555555555555556,\"#d8576b\"],[0.6666666666666666,\"#ed7953\"],[0.7777777777777778,\"#fb9f3a\"],[0.8888888888888888,\"#fdca26\"],[1.0,\"#f0f921\"]],\"type\":\"contour\"}],\"contourcarpet\":[{\"colorbar\":{\"outlinewidth\":0,\"ticks\":\"\"},\"type\":\"contourcarpet\"}],\"heatmap\":[{\"colorbar\":{\"outlinewidth\":0,\"ticks\":\"\"},\"colorscale\":[[0.0,\"#0d0887\"],[0.1111111111111111,\"#46039f\"],[0.2222222222222222,\"#7201a8\"],[0.3333333333333333,\"#9c179e\"],[0.4444444444444444,\"#bd3786\"],[0.5555555555555556,\"#d8576b\"],[0.6666666666666666,\"#ed7953\"],[0.7777777777777778,\"#fb9f3a\"],[0.8888888888888888,\"#fdca26\"],[1.0,\"#f0f921\"]],\"type\":\"heatmap\"}],\"heatmapgl\":[{\"colorbar\":{\"outlinewidth\":0,\"ticks\":\"\"},\"colorscale\":[[0.0,\"#0d0887\"],[0.1111111111111111,\"#46039f\"],[0.2222222222222222,\"#7201a8\"],[0.3333333333333333,\"#9c179e\"],[0.4444444444444444,\"#bd3786\"],[0.5555555555555556,\"#d8576b\"],[0.6666666666666666,\"#ed7953\"],[0.7777777777777778,\"#fb9f3a\"],[0.8888888888888888,\"#fdca26\"],[1.0,\"#f0f921\"]],\"type\":\"heatmapgl\"}],\"histogram\":[{\"marker\":{\"pattern\":{\"fillmode\":\"overlay\",\"size\":10,\"solidity\":0.2}},\"type\":\"histogram\"}],\"histogram2d\":[{\"colorbar\":{\"outlinewidth\":0,\"ticks\":\"\"},\"colorscale\":[[0.0,\"#0d0887\"],[0.1111111111111111,\"#46039f\"],[0.2222222222222222,\"#7201a8\"],[0.3333333333333333,\"#9c179e\"],[0.4444444444444444,\"#bd3786\"],[0.5555555555555556,\"#d8576b\"],[0.6666666666666666,\"#ed7953\"],[0.7777777777777778,\"#fb9f3a\"],[0.8888888888888888,\"#fdca26\"],[1.0,\"#f0f921\"]],\"type\":\"histogram2d\"}],\"histogram2dcontour\":[{\"colorbar\":{\"outlinewidth\":0,\"ticks\":\"\"},\"colorscale\":[[0.0,\"#0d0887\"],[0.1111111111111111,\"#46039f\"],[0.2222222222222222,\"#7201a8\"],[0.3333333333333333,\"#9c179e\"],[0.4444444444444444,\"#bd3786\"],[0.5555555555555556,\"#d8576b\"],[0.6666666666666666,\"#ed7953\"],[0.7777777777777778,\"#fb9f3a\"],[0.8888888888888888,\"#fdca26\"],[1.0,\"#f0f921\"]],\"type\":\"histogram2dcontour\"}],\"mesh3d\":[{\"colorbar\":{\"outlinewidth\":0,\"ticks\":\"\"},\"type\":\"mesh3d\"}],\"parcoords\":[{\"line\":{\"colorbar\":{\"outlinewidth\":0,\"ticks\":\"\"}},\"type\":\"parcoords\"}],\"pie\":[{\"automargin\":true,\"type\":\"pie\"}],\"scatter\":[{\"marker\":{\"colorbar\":{\"outlinewidth\":0,\"ticks\":\"\"}},\"type\":\"scatter\"}],\"scatter3d\":[{\"line\":{\"colorbar\":{\"outlinewidth\":0,\"ticks\":\"\"}},\"marker\":{\"colorbar\":{\"outlinewidth\":0,\"ticks\":\"\"}},\"type\":\"scatter3d\"}],\"scattercarpet\":[{\"marker\":{\"colorbar\":{\"outlinewidth\":0,\"ticks\":\"\"}},\"type\":\"scattercarpet\"}],\"scattergeo\":[{\"marker\":{\"colorbar\":{\"outlinewidth\":0,\"ticks\":\"\"}},\"type\":\"scattergeo\"}],\"scattergl\":[{\"marker\":{\"colorbar\":{\"outlinewidth\":0,\"ticks\":\"\"}},\"type\":\"scattergl\"}],\"scattermapbox\":[{\"marker\":{\"colorbar\":{\"outlinewidth\":0,\"ticks\":\"\"}},\"type\":\"scattermapbox\"}],\"scatterpolar\":[{\"marker\":{\"colorbar\":{\"outlinewidth\":0,\"ticks\":\"\"}},\"type\":\"scatterpolar\"}],\"scatterpolargl\":[{\"marker\":{\"colorbar\":{\"outlinewidth\":0,\"ticks\":\"\"}},\"type\":\"scatterpolargl\"}],\"scatterternary\":[{\"marker\":{\"colorbar\":{\"outlinewidth\":0,\"ticks\":\"\"}},\"type\":\"scatterternary\"}],\"surface\":[{\"colorbar\":{\"outlinewidth\":0,\"ticks\":\"\"},\"colorscale\":[[0.0,\"#0d0887\"],[0.1111111111111111,\"#46039f\"],[0.2222222222222222,\"#7201a8\"],[0.3333333333333333,\"#9c179e\"],[0.4444444444444444,\"#bd3786\"],[0.5555555555555556,\"#d8576b\"],[0.6666666666666666,\"#ed7953\"],[0.7777777777777778,\"#fb9f3a\"],[0.8888888888888888,\"#fdca26\"],[1.0,\"#f0f921\"]],\"type\":\"surface\"}],\"table\":[{\"cells\":{\"fill\":{\"color\":\"#EBF0F8\"},\"line\":{\"color\":\"white\"}},\"header\":{\"fill\":{\"color\":\"#C8D4E3\"},\"line\":{\"color\":\"white\"}},\"type\":\"table\"}]},\"layout\":{\"annotationdefaults\":{\"arrowcolor\":\"#2a3f5f\",\"arrowhead\":0,\"arrowwidth\":1},\"autotypenumbers\":\"strict\",\"coloraxis\":{\"colorbar\":{\"outlinewidth\":0,\"ticks\":\"\"}},\"colorscale\":{\"diverging\":[[0,\"#8e0152\"],[0.1,\"#c51b7d\"],[0.2,\"#de77ae\"],[0.3,\"#f1b6da\"],[0.4,\"#fde0ef\"],[0.5,\"#f7f7f7\"],[0.6,\"#e6f5d0\"],[0.7,\"#b8e186\"],[0.8,\"#7fbc41\"],[0.9,\"#4d9221\"],[1,\"#276419\"]],\"sequential\":[[0.0,\"#0d0887\"],[0.1111111111111111,\"#46039f\"],[0.2222222222222222,\"#7201a8\"],[0.3333333333333333,\"#9c179e\"],[0.4444444444444444,\"#bd3786\"],[0.5555555555555556,\"#d8576b\"],[0.6666666666666666,\"#ed7953\"],[0.7777777777777778,\"#fb9f3a\"],[0.8888888888888888,\"#fdca26\"],[1.0,\"#f0f921\"]],\"sequentialminus\":[[0.0,\"#0d0887\"],[0.1111111111111111,\"#46039f\"],[0.2222222222222222,\"#7201a8\"],[0.3333333333333333,\"#9c179e\"],[0.4444444444444444,\"#bd3786\"],[0.5555555555555556,\"#d8576b\"],[0.6666666666666666,\"#ed7953\"],[0.7777777777777778,\"#fb9f3a\"],[0.8888888888888888,\"#fdca26\"],[1.0,\"#f0f921\"]]},\"colorway\":[\"#636efa\",\"#EF553B\",\"#00cc96\",\"#ab63fa\",\"#FFA15A\",\"#19d3f3\",\"#FF6692\",\"#B6E880\",\"#FF97FF\",\"#FECB52\"],\"font\":{\"color\":\"#2a3f5f\"},\"geo\":{\"bgcolor\":\"white\",\"lakecolor\":\"white\",\"landcolor\":\"#E5ECF6\",\"showlakes\":true,\"showland\":true,\"subunitcolor\":\"white\"},\"hoverlabel\":{\"align\":\"left\"},\"hovermode\":\"closest\",\"mapbox\":{\"style\":\"light\"},\"paper_bgcolor\":\"white\",\"plot_bgcolor\":\"#E5ECF6\",\"polar\":{\"angularaxis\":{\"gridcolor\":\"white\",\"linecolor\":\"white\",\"ticks\":\"\"},\"bgcolor\":\"#E5ECF6\",\"radialaxis\":{\"gridcolor\":\"white\",\"linecolor\":\"white\",\"ticks\":\"\"}},\"scene\":{\"xaxis\":{\"backgroundcolor\":\"#E5ECF6\",\"gridcolor\":\"white\",\"gridwidth\":2,\"linecolor\":\"white\",\"showbackground\":true,\"ticks\":\"\",\"zerolinecolor\":\"white\"},\"yaxis\":{\"backgroundcolor\":\"#E5ECF6\",\"gridcolor\":\"white\",\"gridwidth\":2,\"linecolor\":\"white\",\"showbackground\":true,\"ticks\":\"\",\"zerolinecolor\":\"white\"},\"zaxis\":{\"backgroundcolor\":\"#E5ECF6\",\"gridcolor\":\"white\",\"gridwidth\":2,\"linecolor\":\"white\",\"showbackground\":true,\"ticks\":\"\",\"zerolinecolor\":\"white\"}},\"shapedefaults\":{\"line\":{\"color\":\"#2a3f5f\"}},\"ternary\":{\"aaxis\":{\"gridcolor\":\"white\",\"linecolor\":\"white\",\"ticks\":\"\"},\"baxis\":{\"gridcolor\":\"white\",\"linecolor\":\"white\",\"ticks\":\"\"},\"bgcolor\":\"#E5ECF6\",\"caxis\":{\"gridcolor\":\"white\",\"linecolor\":\"white\",\"ticks\":\"\"}},\"title\":{\"x\":0.05},\"xaxis\":{\"automargin\":true,\"gridcolor\":\"white\",\"linecolor\":\"white\",\"ticks\":\"\",\"title\":{\"standoff\":15},\"zerolinecolor\":\"white\",\"zerolinewidth\":2},\"yaxis\":{\"automargin\":true,\"gridcolor\":\"white\",\"linecolor\":\"white\",\"ticks\":\"\",\"title\":{\"standoff\":15},\"zerolinecolor\":\"white\",\"zerolinewidth\":2}}},\"coloraxis\":{\"colorbar\":{\"title\":{\"text\":\"mean_test_neg_root_mean_squared_error\"}},\"colorscale\":[[0.0,\"#0d0887\"],[0.1111111111111111,\"#46039f\"],[0.2222222222222222,\"#7201a8\"],[0.3333333333333333,\"#9c179e\"],[0.4444444444444444,\"#bd3786\"],[0.5555555555555556,\"#d8576b\"],[0.6666666666666666,\"#ed7953\"],[0.7777777777777778,\"#fb9f3a\"],[0.8888888888888888,\"#fdca26\"],[1.0,\"#f0f921\"]]},\"legend\":{\"tracegroupgap\":0},\"margin\":{\"t\":60}},                        {\"responsive\": true}                    ).then(function(){\n",
              "                            \n",
              "var gd = document.getElementById('8c3cce6b-466a-4306-b814-227ac98f05a6');\n",
              "var x = new MutationObserver(function (mutations, observer) {{\n",
              "        var display = window.getComputedStyle(gd).display;\n",
              "        if (!display || display === 'none') {{\n",
              "            console.log([gd, 'removed!']);\n",
              "            Plotly.purge(gd);\n",
              "            observer.disconnect();\n",
              "        }}\n",
              "}});\n",
              "\n",
              "// Listen for the removal of the full notebook cells\n",
              "var notebookContainer = gd.closest('#notebook-container');\n",
              "if (notebookContainer) {{\n",
              "    x.observe(notebookContainer, {childList: true});\n",
              "}}\n",
              "\n",
              "// Listen for the clearing of the current output cell\n",
              "var outputEl = gd.closest('.output');\n",
              "if (outputEl) {{\n",
              "    x.observe(outputEl, {childList: true});\n",
              "}}\n",
              "\n",
              "                        })                };                            </script>        </div>\n",
              "</body>\n",
              "</html>"
            ]
          },
          "metadata": {}
        }
      ],
      "source": [
        "import torch\n",
        "from torch import nn\n",
        "from skorch.regressor import NeuralNetRegressor\n",
        "from skorch.callbacks import EarlyStopping\n",
        "from tune_sklearn import TuneSearchCV\n",
        "\n",
        "\n",
        "class MLP(nn.Module):\n",
        "    def __init__(self, num_inputs=X_train.shape[1], num_outputs=1, layer1=512, layer2=256, dropout1=0, dropout2=0):\n",
        "        super(MLP, self).__init__()\n",
        "\n",
        "        self.linear_relu_stack = nn.Sequential(\n",
        "            nn.Linear(num_inputs, layer1),\n",
        "            nn.LeakyReLU(),\n",
        "            nn.Dropout(dropout1),\n",
        "            nn.Linear(layer1, layer2),\n",
        "            nn.LeakyReLU(),\n",
        "            nn.Dropout(dropout2),\n",
        "            nn.Linear(layer2, num_outputs)\n",
        "            )\n",
        "    def forward(self, x):\n",
        "        x = self.linear_relu_stack(x)\n",
        "        return x  \n",
        "\n",
        "def try_gpu(i=0): \n",
        "    return f'cuda:{i}' if torch.cuda.device_count() >= i + 1 else 'cpu'\n",
        "\n",
        "mlp = NeuralNetRegressor(\n",
        "    MLP(num_inputs=X_train.shape[1], num_outputs=1),\n",
        "    optimizer=torch.optim.Adam,\n",
        "    criterion=nn.MSELoss,\n",
        "    iterator_train__shuffle=True,\n",
        "    device=try_gpu(),\n",
        "    verbose=0,\n",
        "    callbacks=[EarlyStopping(monitor='valid_loss', patience=7,\n",
        "                             threshold=1e-5, lower_is_better=True)]\n",
        "                          )\n",
        "\n",
        "parameters = {\n",
        "    'lr': list(np.geomspace(1e-5, 1e-2, 4)),\n",
        "    'module__layer1': [128, 256, 512],\n",
        "    'module__layer2': [128, 256, 512],\n",
        "    'module__dropout1': [0, 0.1],\n",
        "    'module__dropout2': [0, 0.1],\n",
        "    'optimizer__weight_decay': list(np.geomspace(1e-5, 1e-1, 5)),\n",
        "    'max_epochs': [1000],\n",
        "    'batch_size': [16, 32, 64]\n",
        "    }\n",
        "\n",
        "def use_gpu(device):\n",
        "    return True if not device == 'cpu' else False \n",
        "\n",
        "tune_search = TuneSearchCV(\n",
        "    mlp, \n",
        "    parameters, \n",
        "    search_optimization='hyperopt',\n",
        "    n_trials=15,\n",
        "    n_jobs=-1,\n",
        "    scoring=['neg_root_mean_squared_error'],\n",
        "    cv=5,\n",
        "    refit='neg_root_mean_squared_error',\n",
        "    mode='max',   \n",
        "    use_gpu = use_gpu(try_gpu()),\n",
        "    random_state=config['random_state'],\n",
        "    verbose=1,\n",
        "    )\n",
        "\n",
        "# Run hyper parameter tuning\n",
        "X = X_train \n",
        "y = y_train_trans.reshape(-1,1)\n",
        "tune_search.fit(X, y)\n",
        "\n",
        "# Save the tuning results \n",
        "model_name = 'mlp'\n",
        "\n",
        "## Save the optimal hyper parmater values\n",
        "best_cv_df.loc[best_cv_df['model']==model_name, 'best_hyper_param'] = str(tune_search.best_params_)\n",
        "\n",
        "## Save the CV results\n",
        "cv_df = pd.DataFrame(tune_search.cv_results_)\n",
        "cv_values = cv_df.loc[tune_search.best_index_, cv_df.columns.str.startswith('split')].values\n",
        "best_cv_df.loc[best_cv_df['model']==model_name, 'log_RMSE'] = cv_values[:5]\n",
        "\n",
        "# Visualize the tuning results with parallel coordinate plot\n",
        "tune_result_df = pd.concat([pd.DataFrame(tune_search.cv_results_['params']), cv_df.loc[:,cv_df.columns.str.startswith('mean')] ], axis=1)\n",
        "import plotly.express as px\n",
        "fig = px.parallel_coordinates(tune_result_df, color='mean_test_neg_root_mean_squared_error')\n",
        "fig.show()"
      ]
    },
    {
      "cell_type": "markdown",
      "metadata": {
        "id": "KenbYlKE5KUo"
      },
      "source": [
        "### Factorization Machine\n",
        "\n",
        "[Factorization Machines](https://ieeexplore.ieee.org/stamp/stamp.jsp?arnumber=5694074&casa_token=WNncod4Fzy0AAAAA:06BUH6Q3Mh-HhboU-WV9p4h5AykMCWcYedWlcFDLtNw4tIkNWZg9oadIz32UuMx9rFDyqOTGY1w&tag=1), proposed by Steffen Rendle in 2010, is a supervised algorithm that can be used for classification, regression, and ranking tasks. \n",
        "It quickly took notice and became a popular and impactful method for making predictions and recommendations.\n",
        "\n"
      ]
    },
    {
      "cell_type": "code",
      "source": [
        "def prepro_for_fm(X_train, X_test, bin_method='sturges'):\n",
        "  n_train = X_train.shape[0]\n",
        "  all = np.vstack((X_train, X_test))\n",
        "\n",
        "  col_num_uniq = np.apply_along_axis(lambda x: len(np.unique(x)), 0,  all)\n",
        "  remain_iidx = (col_num_uniq<=2)\n",
        "  to_bin_iidx = (col_num_uniq>2)\n",
        "\n",
        "  all_remain = all[:,remain_iidx]\n",
        "  all_to_bin = all[:,to_bin_iidx]\n",
        "  \n",
        "  for iter in range(all_to_bin.shape[1]):\n",
        "    bin_size = len(np.histogram(all_to_bin[:,iter], bins=bin_method)[0])\n",
        "    all_to_bin[:,iter] = pd.cut(all_to_bin[:,iter], bins=bin_size, labels=False)\n",
        "\n",
        "  all_to_bin_df = pd.DataFrame(all_to_bin).astype('object')\n",
        "  all_to_bin_array = pd.get_dummies(all_to_bin_df, drop_first=False).to_numpy()\n",
        "\n",
        "  all_array = np.hstack((all_to_bin_array, all_remain)).astype(np.int64)\n",
        "  field_dims = all_array.shape[1]\n",
        "  all_fm = np.vstack((np.apply_along_axis(lambda x: np.where(x==1), 1, all_array)))\n",
        "\n",
        "  return all_fm[:n_train], all_fm[n_train:], field_dims\n",
        "\n",
        "\n",
        "X_train_fm, X_test_fm, field_dims = prepro_for_fm(X_train, X_test, bin_method='sturges')"
      ],
      "metadata": {
        "id": "RiadZbI56qhA"
      },
      "execution_count": null,
      "outputs": []
    },
    {
      "cell_type": "code",
      "execution_count": null,
      "metadata": {
        "colab": {
          "base_uri": "https://localhost:8080/",
          "height": 681
        },
        "id": "CGTbys8FWOv1",
        "outputId": "9339c38e-f3f2-4c69-e9f6-a985b8dd0665"
      },
      "outputs": [
        {
          "output_type": "display_data",
          "data": {
            "text/html": [
              "== Status ==<br>Current time: 2022-03-01 14:50:09 (running for 00:46:04.01)<br>Memory usage on this node: 2.7/12.7 GiB<br>Using FIFO scheduling algorithm.<br>Resources requested: 0/2 CPUs, 0/0 GPUs, 0.0/6.32 GiB heap, 0.0/3.16 GiB objects<br>Result logdir: /root/ray_results/_Trainable_2022-03-01_14-04-05<br>Number of trials: 10/10 (10 TERMINATED)<br><br>"
            ],
            "text/plain": [
              "<IPython.core.display.HTML object>"
            ]
          },
          "metadata": {}
        },
        {
          "output_type": "display_data",
          "data": {
            "text/html": [
              "<html>\n",
              "<head><meta charset=\"utf-8\" /></head>\n",
              "<body>\n",
              "    <div>            <script src=\"https://cdnjs.cloudflare.com/ajax/libs/mathjax/2.7.5/MathJax.js?config=TeX-AMS-MML_SVG\"></script><script type=\"text/javascript\">if (window.MathJax) {MathJax.Hub.Config({SVG: {font: \"STIX-Web\"}});}</script>                <script type=\"text/javascript\">window.PlotlyConfig = {MathJaxConfig: 'local'};</script>\n",
              "        <script src=\"https://cdn.plot.ly/plotly-2.8.3.min.js\"></script>                <div id=\"2801dc4c-8a93-47ad-9335-cae8c409b586\" class=\"plotly-graph-div\" style=\"height:525px; width:100%;\"></div>            <script type=\"text/javascript\">                                    window.PLOTLYENV=window.PLOTLYENV || {};                                    if (document.getElementById(\"2801dc4c-8a93-47ad-9335-cae8c409b586\")) {                    Plotly.newPlot(                        \"2801dc4c-8a93-47ad-9335-cae8c409b586\",                        [{\"dimensions\":[{\"label\":\"batch_size\",\"values\":[32,32,32,128,32,32,32,128,32,128]},{\"label\":\"lr\",\"values\":[0.001,0.0001,0.0001,0.001,0.0001,0.0001,0.01,0.001,0.01,0.01]},{\"label\":\"max_epochs\",\"values\":[3000,3000,3000,3000,3000,3000,3000,3000,3000,3000]},{\"label\":\"module__num_factors\",\"values\":[20,20,2,10,20,2,10,20,20,10]},{\"label\":\"optimizer__weight_decay\",\"values\":[0.0001,0.01,1e-05,0.001,0.0001,0.001,0.01,0.0001,0.001,0.001]},{\"label\":\"mean_test_neg_root_mean_squared_error\",\"values\":[-87.08809204101563,-86.41161804199218,-4.187787437438965,-51.81840896606445,-88.35620422363282,-3.029666042327881,-26.024656742811203,-88.2705810546875,-78.06943054199219,-48.62111587524414]}],\"domain\":{\"x\":[0.0,1.0],\"y\":[0.0,1.0]},\"line\":{\"color\":[-87.08809204101563,-86.41161804199218,-4.187787437438965,-51.81840896606445,-88.35620422363282,-3.029666042327881,-26.024656742811203,-88.2705810546875,-78.06943054199219,-48.62111587524414],\"coloraxis\":\"coloraxis\"},\"name\":\"\",\"type\":\"parcoords\"}],                        {\"template\":{\"data\":{\"bar\":[{\"error_x\":{\"color\":\"#2a3f5f\"},\"error_y\":{\"color\":\"#2a3f5f\"},\"marker\":{\"line\":{\"color\":\"#E5ECF6\",\"width\":0.5},\"pattern\":{\"fillmode\":\"overlay\",\"size\":10,\"solidity\":0.2}},\"type\":\"bar\"}],\"barpolar\":[{\"marker\":{\"line\":{\"color\":\"#E5ECF6\",\"width\":0.5},\"pattern\":{\"fillmode\":\"overlay\",\"size\":10,\"solidity\":0.2}},\"type\":\"barpolar\"}],\"carpet\":[{\"aaxis\":{\"endlinecolor\":\"#2a3f5f\",\"gridcolor\":\"white\",\"linecolor\":\"white\",\"minorgridcolor\":\"white\",\"startlinecolor\":\"#2a3f5f\"},\"baxis\":{\"endlinecolor\":\"#2a3f5f\",\"gridcolor\":\"white\",\"linecolor\":\"white\",\"minorgridcolor\":\"white\",\"startlinecolor\":\"#2a3f5f\"},\"type\":\"carpet\"}],\"choropleth\":[{\"colorbar\":{\"outlinewidth\":0,\"ticks\":\"\"},\"type\":\"choropleth\"}],\"contour\":[{\"colorbar\":{\"outlinewidth\":0,\"ticks\":\"\"},\"colorscale\":[[0.0,\"#0d0887\"],[0.1111111111111111,\"#46039f\"],[0.2222222222222222,\"#7201a8\"],[0.3333333333333333,\"#9c179e\"],[0.4444444444444444,\"#bd3786\"],[0.5555555555555556,\"#d8576b\"],[0.6666666666666666,\"#ed7953\"],[0.7777777777777778,\"#fb9f3a\"],[0.8888888888888888,\"#fdca26\"],[1.0,\"#f0f921\"]],\"type\":\"contour\"}],\"contourcarpet\":[{\"colorbar\":{\"outlinewidth\":0,\"ticks\":\"\"},\"type\":\"contourcarpet\"}],\"heatmap\":[{\"colorbar\":{\"outlinewidth\":0,\"ticks\":\"\"},\"colorscale\":[[0.0,\"#0d0887\"],[0.1111111111111111,\"#46039f\"],[0.2222222222222222,\"#7201a8\"],[0.3333333333333333,\"#9c179e\"],[0.4444444444444444,\"#bd3786\"],[0.5555555555555556,\"#d8576b\"],[0.6666666666666666,\"#ed7953\"],[0.7777777777777778,\"#fb9f3a\"],[0.8888888888888888,\"#fdca26\"],[1.0,\"#f0f921\"]],\"type\":\"heatmap\"}],\"heatmapgl\":[{\"colorbar\":{\"outlinewidth\":0,\"ticks\":\"\"},\"colorscale\":[[0.0,\"#0d0887\"],[0.1111111111111111,\"#46039f\"],[0.2222222222222222,\"#7201a8\"],[0.3333333333333333,\"#9c179e\"],[0.4444444444444444,\"#bd3786\"],[0.5555555555555556,\"#d8576b\"],[0.6666666666666666,\"#ed7953\"],[0.7777777777777778,\"#fb9f3a\"],[0.8888888888888888,\"#fdca26\"],[1.0,\"#f0f921\"]],\"type\":\"heatmapgl\"}],\"histogram\":[{\"marker\":{\"pattern\":{\"fillmode\":\"overlay\",\"size\":10,\"solidity\":0.2}},\"type\":\"histogram\"}],\"histogram2d\":[{\"colorbar\":{\"outlinewidth\":0,\"ticks\":\"\"},\"colorscale\":[[0.0,\"#0d0887\"],[0.1111111111111111,\"#46039f\"],[0.2222222222222222,\"#7201a8\"],[0.3333333333333333,\"#9c179e\"],[0.4444444444444444,\"#bd3786\"],[0.5555555555555556,\"#d8576b\"],[0.6666666666666666,\"#ed7953\"],[0.7777777777777778,\"#fb9f3a\"],[0.8888888888888888,\"#fdca26\"],[1.0,\"#f0f921\"]],\"type\":\"histogram2d\"}],\"histogram2dcontour\":[{\"colorbar\":{\"outlinewidth\":0,\"ticks\":\"\"},\"colorscale\":[[0.0,\"#0d0887\"],[0.1111111111111111,\"#46039f\"],[0.2222222222222222,\"#7201a8\"],[0.3333333333333333,\"#9c179e\"],[0.4444444444444444,\"#bd3786\"],[0.5555555555555556,\"#d8576b\"],[0.6666666666666666,\"#ed7953\"],[0.7777777777777778,\"#fb9f3a\"],[0.8888888888888888,\"#fdca26\"],[1.0,\"#f0f921\"]],\"type\":\"histogram2dcontour\"}],\"mesh3d\":[{\"colorbar\":{\"outlinewidth\":0,\"ticks\":\"\"},\"type\":\"mesh3d\"}],\"parcoords\":[{\"line\":{\"colorbar\":{\"outlinewidth\":0,\"ticks\":\"\"}},\"type\":\"parcoords\"}],\"pie\":[{\"automargin\":true,\"type\":\"pie\"}],\"scatter\":[{\"marker\":{\"colorbar\":{\"outlinewidth\":0,\"ticks\":\"\"}},\"type\":\"scatter\"}],\"scatter3d\":[{\"line\":{\"colorbar\":{\"outlinewidth\":0,\"ticks\":\"\"}},\"marker\":{\"colorbar\":{\"outlinewidth\":0,\"ticks\":\"\"}},\"type\":\"scatter3d\"}],\"scattercarpet\":[{\"marker\":{\"colorbar\":{\"outlinewidth\":0,\"ticks\":\"\"}},\"type\":\"scattercarpet\"}],\"scattergeo\":[{\"marker\":{\"colorbar\":{\"outlinewidth\":0,\"ticks\":\"\"}},\"type\":\"scattergeo\"}],\"scattergl\":[{\"marker\":{\"colorbar\":{\"outlinewidth\":0,\"ticks\":\"\"}},\"type\":\"scattergl\"}],\"scattermapbox\":[{\"marker\":{\"colorbar\":{\"outlinewidth\":0,\"ticks\":\"\"}},\"type\":\"scattermapbox\"}],\"scatterpolar\":[{\"marker\":{\"colorbar\":{\"outlinewidth\":0,\"ticks\":\"\"}},\"type\":\"scatterpolar\"}],\"scatterpolargl\":[{\"marker\":{\"colorbar\":{\"outlinewidth\":0,\"ticks\":\"\"}},\"type\":\"scatterpolargl\"}],\"scatterternary\":[{\"marker\":{\"colorbar\":{\"outlinewidth\":0,\"ticks\":\"\"}},\"type\":\"scatterternary\"}],\"surface\":[{\"colorbar\":{\"outlinewidth\":0,\"ticks\":\"\"},\"colorscale\":[[0.0,\"#0d0887\"],[0.1111111111111111,\"#46039f\"],[0.2222222222222222,\"#7201a8\"],[0.3333333333333333,\"#9c179e\"],[0.4444444444444444,\"#bd3786\"],[0.5555555555555556,\"#d8576b\"],[0.6666666666666666,\"#ed7953\"],[0.7777777777777778,\"#fb9f3a\"],[0.8888888888888888,\"#fdca26\"],[1.0,\"#f0f921\"]],\"type\":\"surface\"}],\"table\":[{\"cells\":{\"fill\":{\"color\":\"#EBF0F8\"},\"line\":{\"color\":\"white\"}},\"header\":{\"fill\":{\"color\":\"#C8D4E3\"},\"line\":{\"color\":\"white\"}},\"type\":\"table\"}]},\"layout\":{\"annotationdefaults\":{\"arrowcolor\":\"#2a3f5f\",\"arrowhead\":0,\"arrowwidth\":1},\"autotypenumbers\":\"strict\",\"coloraxis\":{\"colorbar\":{\"outlinewidth\":0,\"ticks\":\"\"}},\"colorscale\":{\"diverging\":[[0,\"#8e0152\"],[0.1,\"#c51b7d\"],[0.2,\"#de77ae\"],[0.3,\"#f1b6da\"],[0.4,\"#fde0ef\"],[0.5,\"#f7f7f7\"],[0.6,\"#e6f5d0\"],[0.7,\"#b8e186\"],[0.8,\"#7fbc41\"],[0.9,\"#4d9221\"],[1,\"#276419\"]],\"sequential\":[[0.0,\"#0d0887\"],[0.1111111111111111,\"#46039f\"],[0.2222222222222222,\"#7201a8\"],[0.3333333333333333,\"#9c179e\"],[0.4444444444444444,\"#bd3786\"],[0.5555555555555556,\"#d8576b\"],[0.6666666666666666,\"#ed7953\"],[0.7777777777777778,\"#fb9f3a\"],[0.8888888888888888,\"#fdca26\"],[1.0,\"#f0f921\"]],\"sequentialminus\":[[0.0,\"#0d0887\"],[0.1111111111111111,\"#46039f\"],[0.2222222222222222,\"#7201a8\"],[0.3333333333333333,\"#9c179e\"],[0.4444444444444444,\"#bd3786\"],[0.5555555555555556,\"#d8576b\"],[0.6666666666666666,\"#ed7953\"],[0.7777777777777778,\"#fb9f3a\"],[0.8888888888888888,\"#fdca26\"],[1.0,\"#f0f921\"]]},\"colorway\":[\"#636efa\",\"#EF553B\",\"#00cc96\",\"#ab63fa\",\"#FFA15A\",\"#19d3f3\",\"#FF6692\",\"#B6E880\",\"#FF97FF\",\"#FECB52\"],\"font\":{\"color\":\"#2a3f5f\"},\"geo\":{\"bgcolor\":\"white\",\"lakecolor\":\"white\",\"landcolor\":\"#E5ECF6\",\"showlakes\":true,\"showland\":true,\"subunitcolor\":\"white\"},\"hoverlabel\":{\"align\":\"left\"},\"hovermode\":\"closest\",\"mapbox\":{\"style\":\"light\"},\"paper_bgcolor\":\"white\",\"plot_bgcolor\":\"#E5ECF6\",\"polar\":{\"angularaxis\":{\"gridcolor\":\"white\",\"linecolor\":\"white\",\"ticks\":\"\"},\"bgcolor\":\"#E5ECF6\",\"radialaxis\":{\"gridcolor\":\"white\",\"linecolor\":\"white\",\"ticks\":\"\"}},\"scene\":{\"xaxis\":{\"backgroundcolor\":\"#E5ECF6\",\"gridcolor\":\"white\",\"gridwidth\":2,\"linecolor\":\"white\",\"showbackground\":true,\"ticks\":\"\",\"zerolinecolor\":\"white\"},\"yaxis\":{\"backgroundcolor\":\"#E5ECF6\",\"gridcolor\":\"white\",\"gridwidth\":2,\"linecolor\":\"white\",\"showbackground\":true,\"ticks\":\"\",\"zerolinecolor\":\"white\"},\"zaxis\":{\"backgroundcolor\":\"#E5ECF6\",\"gridcolor\":\"white\",\"gridwidth\":2,\"linecolor\":\"white\",\"showbackground\":true,\"ticks\":\"\",\"zerolinecolor\":\"white\"}},\"shapedefaults\":{\"line\":{\"color\":\"#2a3f5f\"}},\"ternary\":{\"aaxis\":{\"gridcolor\":\"white\",\"linecolor\":\"white\",\"ticks\":\"\"},\"baxis\":{\"gridcolor\":\"white\",\"linecolor\":\"white\",\"ticks\":\"\"},\"bgcolor\":\"#E5ECF6\",\"caxis\":{\"gridcolor\":\"white\",\"linecolor\":\"white\",\"ticks\":\"\"}},\"title\":{\"x\":0.05},\"xaxis\":{\"automargin\":true,\"gridcolor\":\"white\",\"linecolor\":\"white\",\"ticks\":\"\",\"title\":{\"standoff\":15},\"zerolinecolor\":\"white\",\"zerolinewidth\":2},\"yaxis\":{\"automargin\":true,\"gridcolor\":\"white\",\"linecolor\":\"white\",\"ticks\":\"\",\"title\":{\"standoff\":15},\"zerolinecolor\":\"white\",\"zerolinewidth\":2}}},\"coloraxis\":{\"colorbar\":{\"title\":{\"text\":\"mean_test_neg_root_mean_squared_error\"}},\"colorscale\":[[0.0,\"#0d0887\"],[0.1111111111111111,\"#46039f\"],[0.2222222222222222,\"#7201a8\"],[0.3333333333333333,\"#9c179e\"],[0.4444444444444444,\"#bd3786\"],[0.5555555555555556,\"#d8576b\"],[0.6666666666666666,\"#ed7953\"],[0.7777777777777778,\"#fb9f3a\"],[0.8888888888888888,\"#fdca26\"],[1.0,\"#f0f921\"]]},\"legend\":{\"tracegroupgap\":0},\"margin\":{\"t\":60}},                        {\"responsive\": true}                    ).then(function(){\n",
              "                            \n",
              "var gd = document.getElementById('2801dc4c-8a93-47ad-9335-cae8c409b586');\n",
              "var x = new MutationObserver(function (mutations, observer) {{\n",
              "        var display = window.getComputedStyle(gd).display;\n",
              "        if (!display || display === 'none') {{\n",
              "            console.log([gd, 'removed!']);\n",
              "            Plotly.purge(gd);\n",
              "            observer.disconnect();\n",
              "        }}\n",
              "}});\n",
              "\n",
              "// Listen for the removal of the full notebook cells\n",
              "var notebookContainer = gd.closest('#notebook-container');\n",
              "if (notebookContainer) {{\n",
              "    x.observe(notebookContainer, {childList: true});\n",
              "}}\n",
              "\n",
              "// Listen for the clearing of the current output cell\n",
              "var outputEl = gd.closest('.output');\n",
              "if (outputEl) {{\n",
              "    x.observe(outputEl, {childList: true});\n",
              "}}\n",
              "\n",
              "                        })                };                            </script>        </div>\n",
              "</body>\n",
              "</html>"
            ]
          },
          "metadata": {}
        }
      ],
      "source": [
        "import torch\n",
        "from torch import nn\n",
        "from skorch.regressor import NeuralNetRegressor\n",
        "from skorch.callbacks import EarlyStopping\n",
        "from tune_sklearn import TuneSearchCV\n",
        "\n",
        "class FM(nn.Module):\n",
        "    def __init__(self, num_inputs=field_dims, num_factors=2, output_dim=1):\n",
        "        super(FM, self).__init__()\n",
        "        self.embedding = nn.Embedding(num_inputs, num_factors)\n",
        "        self.fc = nn.Embedding(num_inputs, 1)\n",
        "        self.bias = nn.Parameter(torch.zeros((output_dim,)))\n",
        "\n",
        "    def forward(self, x):\n",
        "        square_of_sum = torch.sum(self.embedding(x), dim=1)**2\n",
        "        sum_of_square = torch.sum(self.embedding(x)**2, dim=1)\n",
        "        x = self.bias + self.fc(x).sum(1) + 0.5 * (square_of_sum - sum_of_square).sum(dim=1, keepdim=True)\n",
        "        return x \n",
        "\n",
        "def try_gpu(i=0): \n",
        "    return f'cuda:{i}' if torch.cuda.device_count() >= i + 1 else 'cpu'\n",
        "\n",
        "fm = NeuralNetRegressor(\n",
        "    FM(num_inputs=field_dims, num_factors=20, output_dim=1),\n",
        "    optimizer=torch.optim.Adam,\n",
        "    criterion=nn.MSELoss,\n",
        "    iterator_train__shuffle=True,\n",
        "    device=try_gpu(),\n",
        "    verbose=0,\n",
        "    callbacks=[EarlyStopping(monitor='valid_loss', patience=7,\n",
        "                             threshold=1e-5, lower_is_better=True)]\n",
        "                          )\n",
        "\n",
        "params = {\n",
        "    'lr': list(np.geomspace(1e-4, 1e-1, 4)),\n",
        "    'module__num_factors': [2, 10, 20],\n",
        "    'optimizer__weight_decay': list(np.geomspace(1e-5, 1e-1, 5)),\n",
        "    'max_epochs': [3000],\n",
        "    'batch_size': [32, 128]\n",
        "    }\n",
        "\n",
        "def use_gpu(device):\n",
        "    return True if not device == 'cpu' else False \n",
        "\n",
        "tune_search = TuneSearchCV(\n",
        "    fm, \n",
        "    params, \n",
        "    search_optimization='hyperopt',\n",
        "    n_trials=10,\n",
        "    n_jobs=-1,\n",
        "    scoring=['neg_root_mean_squared_error'],\n",
        "    cv=5,\n",
        "    refit='neg_root_mean_squared_error',\n",
        "    mode='max',   \n",
        "    use_gpu = use_gpu(try_gpu()),\n",
        "    random_state=config['random_state'],\n",
        "    verbose=1,\n",
        "    )\n",
        "\n",
        "\n",
        "# Run hyper parameter tuning\n",
        "X = X_train_fm\n",
        "y = y_train_trans.reshape(-1,1)\n",
        "tune_search.fit(X, y)\n",
        "\n",
        "# Save the tuning results \n",
        "model_name = 'fm'\n",
        "\n",
        "## Save the optimal hyper parmater values\n",
        "best_cv_df.loc[best_cv_df['model']==model_name, 'best_hyper_param'] = str(tune_search.best_params_)\n",
        "\n",
        "## Save the CV results\n",
        "cv_df = pd.DataFrame(tune_search.cv_results_)\n",
        "cv_values = cv_df.loc[tune_search.best_index_, cv_df.columns.str.startswith('split')].values\n",
        "best_cv_df.loc[best_cv_df['model']==model_name, 'log_RMSE'] = cv_values[:5]\n",
        "\n",
        "# Visualize the tuning results with parallel coordinate plot\n",
        "tune_result_df = pd.concat([pd.DataFrame(tune_search.cv_results_['params']), cv_df.loc[:,cv_df.columns.str.startswith('mean')] ], axis=1)\n",
        "import plotly.express as px\n",
        "fig = px.parallel_coordinates(tune_result_df, color='mean_test_neg_root_mean_squared_error')\n",
        "fig.show()"
      ]
    },
    {
      "cell_type": "code",
      "execution_count": null,
      "metadata": {
        "id": "YDp5hfpiUmz6"
      },
      "outputs": [],
      "source": [
        "import os \n",
        "save_path = '/content/drive/MyDrive/Work/Kaggle/{}/Result'.format(config['data_name'])\n",
        "if not os.path.exists(save_path):\n",
        "  os.makedirs(save_path)\n",
        "file_path = os.path.join(save_path, 'best_cv_results.csv')\n",
        "best_cv_df.to_csv(file_path, index=False)"
      ]
    },
    {
      "cell_type": "markdown",
      "metadata": {
        "id": "v4BlrQ6XK0ol"
      },
      "source": [
        "## 2-2. Model comparison based on CV results with best hyper parameters\n",
        "\n",
        "Compare the CV results (measured using the best hyper parameter values)\n",
        "\n",
        "The figure below shows that 'fm' model inferiors to the other models.\n",
        "\n"
      ]
    },
    {
      "cell_type": "code",
      "source": [
        "fig = px.box(best_cv_df, x='model', y='log_RMSE', color='model', width=600)\n",
        "fig.show()"
      ],
      "metadata": {
        "colab": {
          "base_uri": "https://localhost:8080/",
          "height": 542
        },
        "id": "pu64U2mT-kMf",
        "outputId": "f940529c-152c-4a21-8fce-783f071fcead"
      },
      "execution_count": null,
      "outputs": [
        {
          "output_type": "display_data",
          "data": {
            "text/html": [
              "<html>\n",
              "<head><meta charset=\"utf-8\" /></head>\n",
              "<body>\n",
              "    <div>            <script src=\"https://cdnjs.cloudflare.com/ajax/libs/mathjax/2.7.5/MathJax.js?config=TeX-AMS-MML_SVG\"></script><script type=\"text/javascript\">if (window.MathJax) {MathJax.Hub.Config({SVG: {font: \"STIX-Web\"}});}</script>                <script type=\"text/javascript\">window.PlotlyConfig = {MathJaxConfig: 'local'};</script>\n",
              "        <script src=\"https://cdn.plot.ly/plotly-2.8.3.min.js\"></script>                <div id=\"f62cb113-7653-4f65-9aea-24a277b55fc7\" class=\"plotly-graph-div\" style=\"height:525px; width:600px;\"></div>            <script type=\"text/javascript\">                                    window.PLOTLYENV=window.PLOTLYENV || {};                                    if (document.getElementById(\"f62cb113-7653-4f65-9aea-24a277b55fc7\")) {                    Plotly.newPlot(                        \"f62cb113-7653-4f65-9aea-24a277b55fc7\",                        [{\"alignmentgroup\":\"True\",\"hovertemplate\":\"model=%{x}<br>log_RMSE=%{y}<extra></extra>\",\"legendgroup\":\"linear\",\"marker\":{\"color\":\"#636efa\"},\"name\":\"linear\",\"notched\":false,\"offsetgroup\":\"linear\",\"orientation\":\"v\",\"showlegend\":true,\"x\":[\"linear\",\"linear\",\"linear\",\"linear\",\"linear\"],\"x0\":\" \",\"xaxis\":\"x\",\"y\":[-0.1377942037226278,-0.1651928370995285,-0.1469215459716268,-0.1336266050244698,-0.1541363097149825],\"y0\":\" \",\"yaxis\":\"y\",\"type\":\"box\"},{\"alignmentgroup\":\"True\",\"hovertemplate\":\"model=%{x}<br>log_RMSE=%{y}<extra></extra>\",\"legendgroup\":\"svm\",\"marker\":{\"color\":\"#EF553B\"},\"name\":\"svm\",\"notched\":false,\"offsetgroup\":\"svm\",\"orientation\":\"v\",\"showlegend\":true,\"x\":[\"svm\",\"svm\",\"svm\",\"svm\",\"svm\"],\"x0\":\" \",\"xaxis\":\"x\",\"y\":[-0.1276207366391868,-0.1474625138080595,-0.1379257196501478,-0.1267162453221795,-0.1433871328363394],\"y0\":\" \",\"yaxis\":\"y\",\"type\":\"box\"},{\"alignmentgroup\":\"True\",\"hovertemplate\":\"model=%{x}<br>log_RMSE=%{y}<extra></extra>\",\"legendgroup\":\"rf\",\"marker\":{\"color\":\"#00cc96\"},\"name\":\"rf\",\"notched\":false,\"offsetgroup\":\"rf\",\"orientation\":\"v\",\"showlegend\":true,\"x\":[\"rf\",\"rf\",\"rf\",\"rf\",\"rf\"],\"x0\":\" \",\"xaxis\":\"x\",\"y\":[-0.1363786408083483,-0.1285614064686858,-0.1381038365327425,-0.1344547504761138,-0.1371396188521684],\"y0\":\" \",\"yaxis\":\"y\",\"type\":\"box\"},{\"alignmentgroup\":\"True\",\"hovertemplate\":\"model=%{x}<br>log_RMSE=%{y}<extra></extra>\",\"legendgroup\":\"xgb\",\"marker\":{\"color\":\"#ab63fa\"},\"name\":\"xgb\",\"notched\":false,\"offsetgroup\":\"xgb\",\"orientation\":\"v\",\"showlegend\":true,\"x\":[\"xgb\",\"xgb\",\"xgb\",\"xgb\",\"xgb\"],\"x0\":\" \",\"xaxis\":\"x\",\"y\":[-0.1128894984722137,-0.1116650402545929,-0.1213516220450401,-0.1168353930115699,-0.1127547994256019],\"y0\":\" \",\"yaxis\":\"y\",\"type\":\"box\"},{\"alignmentgroup\":\"True\",\"hovertemplate\":\"model=%{x}<br>log_RMSE=%{y}<extra></extra>\",\"legendgroup\":\"mlp\",\"marker\":{\"color\":\"#FFA15A\"},\"name\":\"mlp\",\"notched\":false,\"offsetgroup\":\"mlp\",\"orientation\":\"v\",\"showlegend\":true,\"x\":[\"mlp\",\"mlp\",\"mlp\",\"mlp\",\"mlp\"],\"x0\":\" \",\"xaxis\":\"x\",\"y\":[-0.1469684690237045,-0.1695849001407623,-0.1490651667118072,-0.1430636197328567,-0.161231443285942],\"y0\":\" \",\"yaxis\":\"y\",\"type\":\"box\"},{\"alignmentgroup\":\"True\",\"hovertemplate\":\"model=%{x}<br>log_RMSE=%{y}<extra></extra>\",\"legendgroup\":\"fm\",\"marker\":{\"color\":\"#19d3f3\"},\"name\":\"fm\",\"notched\":false,\"offsetgroup\":\"fm\",\"orientation\":\"v\",\"showlegend\":true,\"x\":[\"fm\",\"fm\",\"fm\",\"fm\",\"fm\"],\"x0\":\" \",\"xaxis\":\"x\",\"y\":[-2.290910243988037,-3.3680145740509038,-2.5533273220062256,-2.621149063110352,-4.314929008483887],\"y0\":\" \",\"yaxis\":\"y\",\"type\":\"box\"}],                        {\"template\":{\"data\":{\"bar\":[{\"error_x\":{\"color\":\"#2a3f5f\"},\"error_y\":{\"color\":\"#2a3f5f\"},\"marker\":{\"line\":{\"color\":\"#E5ECF6\",\"width\":0.5},\"pattern\":{\"fillmode\":\"overlay\",\"size\":10,\"solidity\":0.2}},\"type\":\"bar\"}],\"barpolar\":[{\"marker\":{\"line\":{\"color\":\"#E5ECF6\",\"width\":0.5},\"pattern\":{\"fillmode\":\"overlay\",\"size\":10,\"solidity\":0.2}},\"type\":\"barpolar\"}],\"carpet\":[{\"aaxis\":{\"endlinecolor\":\"#2a3f5f\",\"gridcolor\":\"white\",\"linecolor\":\"white\",\"minorgridcolor\":\"white\",\"startlinecolor\":\"#2a3f5f\"},\"baxis\":{\"endlinecolor\":\"#2a3f5f\",\"gridcolor\":\"white\",\"linecolor\":\"white\",\"minorgridcolor\":\"white\",\"startlinecolor\":\"#2a3f5f\"},\"type\":\"carpet\"}],\"choropleth\":[{\"colorbar\":{\"outlinewidth\":0,\"ticks\":\"\"},\"type\":\"choropleth\"}],\"contour\":[{\"colorbar\":{\"outlinewidth\":0,\"ticks\":\"\"},\"colorscale\":[[0.0,\"#0d0887\"],[0.1111111111111111,\"#46039f\"],[0.2222222222222222,\"#7201a8\"],[0.3333333333333333,\"#9c179e\"],[0.4444444444444444,\"#bd3786\"],[0.5555555555555556,\"#d8576b\"],[0.6666666666666666,\"#ed7953\"],[0.7777777777777778,\"#fb9f3a\"],[0.8888888888888888,\"#fdca26\"],[1.0,\"#f0f921\"]],\"type\":\"contour\"}],\"contourcarpet\":[{\"colorbar\":{\"outlinewidth\":0,\"ticks\":\"\"},\"type\":\"contourcarpet\"}],\"heatmap\":[{\"colorbar\":{\"outlinewidth\":0,\"ticks\":\"\"},\"colorscale\":[[0.0,\"#0d0887\"],[0.1111111111111111,\"#46039f\"],[0.2222222222222222,\"#7201a8\"],[0.3333333333333333,\"#9c179e\"],[0.4444444444444444,\"#bd3786\"],[0.5555555555555556,\"#d8576b\"],[0.6666666666666666,\"#ed7953\"],[0.7777777777777778,\"#fb9f3a\"],[0.8888888888888888,\"#fdca26\"],[1.0,\"#f0f921\"]],\"type\":\"heatmap\"}],\"heatmapgl\":[{\"colorbar\":{\"outlinewidth\":0,\"ticks\":\"\"},\"colorscale\":[[0.0,\"#0d0887\"],[0.1111111111111111,\"#46039f\"],[0.2222222222222222,\"#7201a8\"],[0.3333333333333333,\"#9c179e\"],[0.4444444444444444,\"#bd3786\"],[0.5555555555555556,\"#d8576b\"],[0.6666666666666666,\"#ed7953\"],[0.7777777777777778,\"#fb9f3a\"],[0.8888888888888888,\"#fdca26\"],[1.0,\"#f0f921\"]],\"type\":\"heatmapgl\"}],\"histogram\":[{\"marker\":{\"pattern\":{\"fillmode\":\"overlay\",\"size\":10,\"solidity\":0.2}},\"type\":\"histogram\"}],\"histogram2d\":[{\"colorbar\":{\"outlinewidth\":0,\"ticks\":\"\"},\"colorscale\":[[0.0,\"#0d0887\"],[0.1111111111111111,\"#46039f\"],[0.2222222222222222,\"#7201a8\"],[0.3333333333333333,\"#9c179e\"],[0.4444444444444444,\"#bd3786\"],[0.5555555555555556,\"#d8576b\"],[0.6666666666666666,\"#ed7953\"],[0.7777777777777778,\"#fb9f3a\"],[0.8888888888888888,\"#fdca26\"],[1.0,\"#f0f921\"]],\"type\":\"histogram2d\"}],\"histogram2dcontour\":[{\"colorbar\":{\"outlinewidth\":0,\"ticks\":\"\"},\"colorscale\":[[0.0,\"#0d0887\"],[0.1111111111111111,\"#46039f\"],[0.2222222222222222,\"#7201a8\"],[0.3333333333333333,\"#9c179e\"],[0.4444444444444444,\"#bd3786\"],[0.5555555555555556,\"#d8576b\"],[0.6666666666666666,\"#ed7953\"],[0.7777777777777778,\"#fb9f3a\"],[0.8888888888888888,\"#fdca26\"],[1.0,\"#f0f921\"]],\"type\":\"histogram2dcontour\"}],\"mesh3d\":[{\"colorbar\":{\"outlinewidth\":0,\"ticks\":\"\"},\"type\":\"mesh3d\"}],\"parcoords\":[{\"line\":{\"colorbar\":{\"outlinewidth\":0,\"ticks\":\"\"}},\"type\":\"parcoords\"}],\"pie\":[{\"automargin\":true,\"type\":\"pie\"}],\"scatter\":[{\"marker\":{\"colorbar\":{\"outlinewidth\":0,\"ticks\":\"\"}},\"type\":\"scatter\"}],\"scatter3d\":[{\"line\":{\"colorbar\":{\"outlinewidth\":0,\"ticks\":\"\"}},\"marker\":{\"colorbar\":{\"outlinewidth\":0,\"ticks\":\"\"}},\"type\":\"scatter3d\"}],\"scattercarpet\":[{\"marker\":{\"colorbar\":{\"outlinewidth\":0,\"ticks\":\"\"}},\"type\":\"scattercarpet\"}],\"scattergeo\":[{\"marker\":{\"colorbar\":{\"outlinewidth\":0,\"ticks\":\"\"}},\"type\":\"scattergeo\"}],\"scattergl\":[{\"marker\":{\"colorbar\":{\"outlinewidth\":0,\"ticks\":\"\"}},\"type\":\"scattergl\"}],\"scattermapbox\":[{\"marker\":{\"colorbar\":{\"outlinewidth\":0,\"ticks\":\"\"}},\"type\":\"scattermapbox\"}],\"scatterpolar\":[{\"marker\":{\"colorbar\":{\"outlinewidth\":0,\"ticks\":\"\"}},\"type\":\"scatterpolar\"}],\"scatterpolargl\":[{\"marker\":{\"colorbar\":{\"outlinewidth\":0,\"ticks\":\"\"}},\"type\":\"scatterpolargl\"}],\"scatterternary\":[{\"marker\":{\"colorbar\":{\"outlinewidth\":0,\"ticks\":\"\"}},\"type\":\"scatterternary\"}],\"surface\":[{\"colorbar\":{\"outlinewidth\":0,\"ticks\":\"\"},\"colorscale\":[[0.0,\"#0d0887\"],[0.1111111111111111,\"#46039f\"],[0.2222222222222222,\"#7201a8\"],[0.3333333333333333,\"#9c179e\"],[0.4444444444444444,\"#bd3786\"],[0.5555555555555556,\"#d8576b\"],[0.6666666666666666,\"#ed7953\"],[0.7777777777777778,\"#fb9f3a\"],[0.8888888888888888,\"#fdca26\"],[1.0,\"#f0f921\"]],\"type\":\"surface\"}],\"table\":[{\"cells\":{\"fill\":{\"color\":\"#EBF0F8\"},\"line\":{\"color\":\"white\"}},\"header\":{\"fill\":{\"color\":\"#C8D4E3\"},\"line\":{\"color\":\"white\"}},\"type\":\"table\"}]},\"layout\":{\"annotationdefaults\":{\"arrowcolor\":\"#2a3f5f\",\"arrowhead\":0,\"arrowwidth\":1},\"autotypenumbers\":\"strict\",\"coloraxis\":{\"colorbar\":{\"outlinewidth\":0,\"ticks\":\"\"}},\"colorscale\":{\"diverging\":[[0,\"#8e0152\"],[0.1,\"#c51b7d\"],[0.2,\"#de77ae\"],[0.3,\"#f1b6da\"],[0.4,\"#fde0ef\"],[0.5,\"#f7f7f7\"],[0.6,\"#e6f5d0\"],[0.7,\"#b8e186\"],[0.8,\"#7fbc41\"],[0.9,\"#4d9221\"],[1,\"#276419\"]],\"sequential\":[[0.0,\"#0d0887\"],[0.1111111111111111,\"#46039f\"],[0.2222222222222222,\"#7201a8\"],[0.3333333333333333,\"#9c179e\"],[0.4444444444444444,\"#bd3786\"],[0.5555555555555556,\"#d8576b\"],[0.6666666666666666,\"#ed7953\"],[0.7777777777777778,\"#fb9f3a\"],[0.8888888888888888,\"#fdca26\"],[1.0,\"#f0f921\"]],\"sequentialminus\":[[0.0,\"#0d0887\"],[0.1111111111111111,\"#46039f\"],[0.2222222222222222,\"#7201a8\"],[0.3333333333333333,\"#9c179e\"],[0.4444444444444444,\"#bd3786\"],[0.5555555555555556,\"#d8576b\"],[0.6666666666666666,\"#ed7953\"],[0.7777777777777778,\"#fb9f3a\"],[0.8888888888888888,\"#fdca26\"],[1.0,\"#f0f921\"]]},\"colorway\":[\"#636efa\",\"#EF553B\",\"#00cc96\",\"#ab63fa\",\"#FFA15A\",\"#19d3f3\",\"#FF6692\",\"#B6E880\",\"#FF97FF\",\"#FECB52\"],\"font\":{\"color\":\"#2a3f5f\"},\"geo\":{\"bgcolor\":\"white\",\"lakecolor\":\"white\",\"landcolor\":\"#E5ECF6\",\"showlakes\":true,\"showland\":true,\"subunitcolor\":\"white\"},\"hoverlabel\":{\"align\":\"left\"},\"hovermode\":\"closest\",\"mapbox\":{\"style\":\"light\"},\"paper_bgcolor\":\"white\",\"plot_bgcolor\":\"#E5ECF6\",\"polar\":{\"angularaxis\":{\"gridcolor\":\"white\",\"linecolor\":\"white\",\"ticks\":\"\"},\"bgcolor\":\"#E5ECF6\",\"radialaxis\":{\"gridcolor\":\"white\",\"linecolor\":\"white\",\"ticks\":\"\"}},\"scene\":{\"xaxis\":{\"backgroundcolor\":\"#E5ECF6\",\"gridcolor\":\"white\",\"gridwidth\":2,\"linecolor\":\"white\",\"showbackground\":true,\"ticks\":\"\",\"zerolinecolor\":\"white\"},\"yaxis\":{\"backgroundcolor\":\"#E5ECF6\",\"gridcolor\":\"white\",\"gridwidth\":2,\"linecolor\":\"white\",\"showbackground\":true,\"ticks\":\"\",\"zerolinecolor\":\"white\"},\"zaxis\":{\"backgroundcolor\":\"#E5ECF6\",\"gridcolor\":\"white\",\"gridwidth\":2,\"linecolor\":\"white\",\"showbackground\":true,\"ticks\":\"\",\"zerolinecolor\":\"white\"}},\"shapedefaults\":{\"line\":{\"color\":\"#2a3f5f\"}},\"ternary\":{\"aaxis\":{\"gridcolor\":\"white\",\"linecolor\":\"white\",\"ticks\":\"\"},\"baxis\":{\"gridcolor\":\"white\",\"linecolor\":\"white\",\"ticks\":\"\"},\"bgcolor\":\"#E5ECF6\",\"caxis\":{\"gridcolor\":\"white\",\"linecolor\":\"white\",\"ticks\":\"\"}},\"title\":{\"x\":0.05},\"xaxis\":{\"automargin\":true,\"gridcolor\":\"white\",\"linecolor\":\"white\",\"ticks\":\"\",\"title\":{\"standoff\":15},\"zerolinecolor\":\"white\",\"zerolinewidth\":2},\"yaxis\":{\"automargin\":true,\"gridcolor\":\"white\",\"linecolor\":\"white\",\"ticks\":\"\",\"title\":{\"standoff\":15},\"zerolinecolor\":\"white\",\"zerolinewidth\":2}}},\"xaxis\":{\"anchor\":\"y\",\"domain\":[0.0,1.0],\"title\":{\"text\":\"model\"},\"categoryorder\":\"array\",\"categoryarray\":[\"linear\",\"svm\",\"rf\",\"xgb\",\"mlp\",\"fm\"]},\"yaxis\":{\"anchor\":\"x\",\"domain\":[0.0,1.0],\"title\":{\"text\":\"log_RMSE\"}},\"legend\":{\"title\":{\"text\":\"model\"},\"tracegroupgap\":0},\"margin\":{\"t\":60},\"boxmode\":\"overlay\",\"width\":600},                        {\"responsive\": true}                    ).then(function(){\n",
              "                            \n",
              "var gd = document.getElementById('f62cb113-7653-4f65-9aea-24a277b55fc7');\n",
              "var x = new MutationObserver(function (mutations, observer) {{\n",
              "        var display = window.getComputedStyle(gd).display;\n",
              "        if (!display || display === 'none') {{\n",
              "            console.log([gd, 'removed!']);\n",
              "            Plotly.purge(gd);\n",
              "            observer.disconnect();\n",
              "        }}\n",
              "}});\n",
              "\n",
              "// Listen for the removal of the full notebook cells\n",
              "var notebookContainer = gd.closest('#notebook-container');\n",
              "if (notebookContainer) {{\n",
              "    x.observe(notebookContainer, {childList: true});\n",
              "}}\n",
              "\n",
              "// Listen for the clearing of the current output cell\n",
              "var outputEl = gd.closest('.output');\n",
              "if (outputEl) {{\n",
              "    x.observe(outputEl, {childList: true});\n",
              "}}\n",
              "\n",
              "                        })                };                            </script>        </div>\n",
              "</body>\n",
              "</html>"
            ]
          },
          "metadata": {}
        }
      ]
    },
    {
      "cell_type": "markdown",
      "source": [
        "Thus remove 'fm' in the 'best_cv_df' and compare the other models \n",
        "\n",
        "The figure below shows that \\\\\n",
        "xgb >> rf >= svm > linear > mlp"
      ],
      "metadata": {
        "id": "zE4XL1gRoVmq"
      }
    },
    {
      "cell_type": "code",
      "source": [
        "best_cv_df = best_cv_df[best_cv_df['model']!='fm']\n",
        "\n",
        "fig = px.box(best_cv_df, x='model', y='log_RMSE', color='model', width=600)\n",
        "fig.show()"
      ],
      "metadata": {
        "id": "ZB7rowTRYSG_",
        "colab": {
          "base_uri": "https://localhost:8080/",
          "height": 542
        },
        "outputId": "da4d1bde-80c3-4cf5-8b43-f89000c8d0db"
      },
      "execution_count": null,
      "outputs": [
        {
          "output_type": "display_data",
          "data": {
            "text/html": [
              "<html>\n",
              "<head><meta charset=\"utf-8\" /></head>\n",
              "<body>\n",
              "    <div>            <script src=\"https://cdnjs.cloudflare.com/ajax/libs/mathjax/2.7.5/MathJax.js?config=TeX-AMS-MML_SVG\"></script><script type=\"text/javascript\">if (window.MathJax) {MathJax.Hub.Config({SVG: {font: \"STIX-Web\"}});}</script>                <script type=\"text/javascript\">window.PlotlyConfig = {MathJaxConfig: 'local'};</script>\n",
              "        <script src=\"https://cdn.plot.ly/plotly-2.8.3.min.js\"></script>                <div id=\"d338460c-b7a9-4309-b5c2-64e5086b0c61\" class=\"plotly-graph-div\" style=\"height:525px; width:600px;\"></div>            <script type=\"text/javascript\">                                    window.PLOTLYENV=window.PLOTLYENV || {};                                    if (document.getElementById(\"d338460c-b7a9-4309-b5c2-64e5086b0c61\")) {                    Plotly.newPlot(                        \"d338460c-b7a9-4309-b5c2-64e5086b0c61\",                        [{\"alignmentgroup\":\"True\",\"hovertemplate\":\"model=%{x}<br>log_RMSE=%{y}<extra></extra>\",\"legendgroup\":\"linear\",\"marker\":{\"color\":\"#636efa\"},\"name\":\"linear\",\"notched\":false,\"offsetgroup\":\"linear\",\"orientation\":\"v\",\"showlegend\":true,\"x\":[\"linear\",\"linear\",\"linear\",\"linear\",\"linear\"],\"x0\":\" \",\"xaxis\":\"x\",\"y\":[-0.1377942037226278,-0.1651928370995285,-0.1469215459716268,-0.1336266050244698,-0.1541363097149825],\"y0\":\" \",\"yaxis\":\"y\",\"type\":\"box\"},{\"alignmentgroup\":\"True\",\"hovertemplate\":\"model=%{x}<br>log_RMSE=%{y}<extra></extra>\",\"legendgroup\":\"svm\",\"marker\":{\"color\":\"#EF553B\"},\"name\":\"svm\",\"notched\":false,\"offsetgroup\":\"svm\",\"orientation\":\"v\",\"showlegend\":true,\"x\":[\"svm\",\"svm\",\"svm\",\"svm\",\"svm\"],\"x0\":\" \",\"xaxis\":\"x\",\"y\":[-0.1276207366391868,-0.1474625138080595,-0.1379257196501478,-0.1267162453221795,-0.1433871328363394],\"y0\":\" \",\"yaxis\":\"y\",\"type\":\"box\"},{\"alignmentgroup\":\"True\",\"hovertemplate\":\"model=%{x}<br>log_RMSE=%{y}<extra></extra>\",\"legendgroup\":\"rf\",\"marker\":{\"color\":\"#00cc96\"},\"name\":\"rf\",\"notched\":false,\"offsetgroup\":\"rf\",\"orientation\":\"v\",\"showlegend\":true,\"x\":[\"rf\",\"rf\",\"rf\",\"rf\",\"rf\"],\"x0\":\" \",\"xaxis\":\"x\",\"y\":[-0.1363786408083483,-0.1285614064686858,-0.1381038365327425,-0.1344547504761138,-0.1371396188521684],\"y0\":\" \",\"yaxis\":\"y\",\"type\":\"box\"},{\"alignmentgroup\":\"True\",\"hovertemplate\":\"model=%{x}<br>log_RMSE=%{y}<extra></extra>\",\"legendgroup\":\"xgb\",\"marker\":{\"color\":\"#ab63fa\"},\"name\":\"xgb\",\"notched\":false,\"offsetgroup\":\"xgb\",\"orientation\":\"v\",\"showlegend\":true,\"x\":[\"xgb\",\"xgb\",\"xgb\",\"xgb\",\"xgb\"],\"x0\":\" \",\"xaxis\":\"x\",\"y\":[-0.1128894984722137,-0.1116650402545929,-0.1213516220450401,-0.1168353930115699,-0.1127547994256019],\"y0\":\" \",\"yaxis\":\"y\",\"type\":\"box\"},{\"alignmentgroup\":\"True\",\"hovertemplate\":\"model=%{x}<br>log_RMSE=%{y}<extra></extra>\",\"legendgroup\":\"mlp\",\"marker\":{\"color\":\"#FFA15A\"},\"name\":\"mlp\",\"notched\":false,\"offsetgroup\":\"mlp\",\"orientation\":\"v\",\"showlegend\":true,\"x\":[\"mlp\",\"mlp\",\"mlp\",\"mlp\",\"mlp\"],\"x0\":\" \",\"xaxis\":\"x\",\"y\":[-0.1469684690237045,-0.1695849001407623,-0.1490651667118072,-0.1430636197328567,-0.161231443285942],\"y0\":\" \",\"yaxis\":\"y\",\"type\":\"box\"}],                        {\"template\":{\"data\":{\"bar\":[{\"error_x\":{\"color\":\"#2a3f5f\"},\"error_y\":{\"color\":\"#2a3f5f\"},\"marker\":{\"line\":{\"color\":\"#E5ECF6\",\"width\":0.5},\"pattern\":{\"fillmode\":\"overlay\",\"size\":10,\"solidity\":0.2}},\"type\":\"bar\"}],\"barpolar\":[{\"marker\":{\"line\":{\"color\":\"#E5ECF6\",\"width\":0.5},\"pattern\":{\"fillmode\":\"overlay\",\"size\":10,\"solidity\":0.2}},\"type\":\"barpolar\"}],\"carpet\":[{\"aaxis\":{\"endlinecolor\":\"#2a3f5f\",\"gridcolor\":\"white\",\"linecolor\":\"white\",\"minorgridcolor\":\"white\",\"startlinecolor\":\"#2a3f5f\"},\"baxis\":{\"endlinecolor\":\"#2a3f5f\",\"gridcolor\":\"white\",\"linecolor\":\"white\",\"minorgridcolor\":\"white\",\"startlinecolor\":\"#2a3f5f\"},\"type\":\"carpet\"}],\"choropleth\":[{\"colorbar\":{\"outlinewidth\":0,\"ticks\":\"\"},\"type\":\"choropleth\"}],\"contour\":[{\"colorbar\":{\"outlinewidth\":0,\"ticks\":\"\"},\"colorscale\":[[0.0,\"#0d0887\"],[0.1111111111111111,\"#46039f\"],[0.2222222222222222,\"#7201a8\"],[0.3333333333333333,\"#9c179e\"],[0.4444444444444444,\"#bd3786\"],[0.5555555555555556,\"#d8576b\"],[0.6666666666666666,\"#ed7953\"],[0.7777777777777778,\"#fb9f3a\"],[0.8888888888888888,\"#fdca26\"],[1.0,\"#f0f921\"]],\"type\":\"contour\"}],\"contourcarpet\":[{\"colorbar\":{\"outlinewidth\":0,\"ticks\":\"\"},\"type\":\"contourcarpet\"}],\"heatmap\":[{\"colorbar\":{\"outlinewidth\":0,\"ticks\":\"\"},\"colorscale\":[[0.0,\"#0d0887\"],[0.1111111111111111,\"#46039f\"],[0.2222222222222222,\"#7201a8\"],[0.3333333333333333,\"#9c179e\"],[0.4444444444444444,\"#bd3786\"],[0.5555555555555556,\"#d8576b\"],[0.6666666666666666,\"#ed7953\"],[0.7777777777777778,\"#fb9f3a\"],[0.8888888888888888,\"#fdca26\"],[1.0,\"#f0f921\"]],\"type\":\"heatmap\"}],\"heatmapgl\":[{\"colorbar\":{\"outlinewidth\":0,\"ticks\":\"\"},\"colorscale\":[[0.0,\"#0d0887\"],[0.1111111111111111,\"#46039f\"],[0.2222222222222222,\"#7201a8\"],[0.3333333333333333,\"#9c179e\"],[0.4444444444444444,\"#bd3786\"],[0.5555555555555556,\"#d8576b\"],[0.6666666666666666,\"#ed7953\"],[0.7777777777777778,\"#fb9f3a\"],[0.8888888888888888,\"#fdca26\"],[1.0,\"#f0f921\"]],\"type\":\"heatmapgl\"}],\"histogram\":[{\"marker\":{\"pattern\":{\"fillmode\":\"overlay\",\"size\":10,\"solidity\":0.2}},\"type\":\"histogram\"}],\"histogram2d\":[{\"colorbar\":{\"outlinewidth\":0,\"ticks\":\"\"},\"colorscale\":[[0.0,\"#0d0887\"],[0.1111111111111111,\"#46039f\"],[0.2222222222222222,\"#7201a8\"],[0.3333333333333333,\"#9c179e\"],[0.4444444444444444,\"#bd3786\"],[0.5555555555555556,\"#d8576b\"],[0.6666666666666666,\"#ed7953\"],[0.7777777777777778,\"#fb9f3a\"],[0.8888888888888888,\"#fdca26\"],[1.0,\"#f0f921\"]],\"type\":\"histogram2d\"}],\"histogram2dcontour\":[{\"colorbar\":{\"outlinewidth\":0,\"ticks\":\"\"},\"colorscale\":[[0.0,\"#0d0887\"],[0.1111111111111111,\"#46039f\"],[0.2222222222222222,\"#7201a8\"],[0.3333333333333333,\"#9c179e\"],[0.4444444444444444,\"#bd3786\"],[0.5555555555555556,\"#d8576b\"],[0.6666666666666666,\"#ed7953\"],[0.7777777777777778,\"#fb9f3a\"],[0.8888888888888888,\"#fdca26\"],[1.0,\"#f0f921\"]],\"type\":\"histogram2dcontour\"}],\"mesh3d\":[{\"colorbar\":{\"outlinewidth\":0,\"ticks\":\"\"},\"type\":\"mesh3d\"}],\"parcoords\":[{\"line\":{\"colorbar\":{\"outlinewidth\":0,\"ticks\":\"\"}},\"type\":\"parcoords\"}],\"pie\":[{\"automargin\":true,\"type\":\"pie\"}],\"scatter\":[{\"marker\":{\"colorbar\":{\"outlinewidth\":0,\"ticks\":\"\"}},\"type\":\"scatter\"}],\"scatter3d\":[{\"line\":{\"colorbar\":{\"outlinewidth\":0,\"ticks\":\"\"}},\"marker\":{\"colorbar\":{\"outlinewidth\":0,\"ticks\":\"\"}},\"type\":\"scatter3d\"}],\"scattercarpet\":[{\"marker\":{\"colorbar\":{\"outlinewidth\":0,\"ticks\":\"\"}},\"type\":\"scattercarpet\"}],\"scattergeo\":[{\"marker\":{\"colorbar\":{\"outlinewidth\":0,\"ticks\":\"\"}},\"type\":\"scattergeo\"}],\"scattergl\":[{\"marker\":{\"colorbar\":{\"outlinewidth\":0,\"ticks\":\"\"}},\"type\":\"scattergl\"}],\"scattermapbox\":[{\"marker\":{\"colorbar\":{\"outlinewidth\":0,\"ticks\":\"\"}},\"type\":\"scattermapbox\"}],\"scatterpolar\":[{\"marker\":{\"colorbar\":{\"outlinewidth\":0,\"ticks\":\"\"}},\"type\":\"scatterpolar\"}],\"scatterpolargl\":[{\"marker\":{\"colorbar\":{\"outlinewidth\":0,\"ticks\":\"\"}},\"type\":\"scatterpolargl\"}],\"scatterternary\":[{\"marker\":{\"colorbar\":{\"outlinewidth\":0,\"ticks\":\"\"}},\"type\":\"scatterternary\"}],\"surface\":[{\"colorbar\":{\"outlinewidth\":0,\"ticks\":\"\"},\"colorscale\":[[0.0,\"#0d0887\"],[0.1111111111111111,\"#46039f\"],[0.2222222222222222,\"#7201a8\"],[0.3333333333333333,\"#9c179e\"],[0.4444444444444444,\"#bd3786\"],[0.5555555555555556,\"#d8576b\"],[0.6666666666666666,\"#ed7953\"],[0.7777777777777778,\"#fb9f3a\"],[0.8888888888888888,\"#fdca26\"],[1.0,\"#f0f921\"]],\"type\":\"surface\"}],\"table\":[{\"cells\":{\"fill\":{\"color\":\"#EBF0F8\"},\"line\":{\"color\":\"white\"}},\"header\":{\"fill\":{\"color\":\"#C8D4E3\"},\"line\":{\"color\":\"white\"}},\"type\":\"table\"}]},\"layout\":{\"annotationdefaults\":{\"arrowcolor\":\"#2a3f5f\",\"arrowhead\":0,\"arrowwidth\":1},\"autotypenumbers\":\"strict\",\"coloraxis\":{\"colorbar\":{\"outlinewidth\":0,\"ticks\":\"\"}},\"colorscale\":{\"diverging\":[[0,\"#8e0152\"],[0.1,\"#c51b7d\"],[0.2,\"#de77ae\"],[0.3,\"#f1b6da\"],[0.4,\"#fde0ef\"],[0.5,\"#f7f7f7\"],[0.6,\"#e6f5d0\"],[0.7,\"#b8e186\"],[0.8,\"#7fbc41\"],[0.9,\"#4d9221\"],[1,\"#276419\"]],\"sequential\":[[0.0,\"#0d0887\"],[0.1111111111111111,\"#46039f\"],[0.2222222222222222,\"#7201a8\"],[0.3333333333333333,\"#9c179e\"],[0.4444444444444444,\"#bd3786\"],[0.5555555555555556,\"#d8576b\"],[0.6666666666666666,\"#ed7953\"],[0.7777777777777778,\"#fb9f3a\"],[0.8888888888888888,\"#fdca26\"],[1.0,\"#f0f921\"]],\"sequentialminus\":[[0.0,\"#0d0887\"],[0.1111111111111111,\"#46039f\"],[0.2222222222222222,\"#7201a8\"],[0.3333333333333333,\"#9c179e\"],[0.4444444444444444,\"#bd3786\"],[0.5555555555555556,\"#d8576b\"],[0.6666666666666666,\"#ed7953\"],[0.7777777777777778,\"#fb9f3a\"],[0.8888888888888888,\"#fdca26\"],[1.0,\"#f0f921\"]]},\"colorway\":[\"#636efa\",\"#EF553B\",\"#00cc96\",\"#ab63fa\",\"#FFA15A\",\"#19d3f3\",\"#FF6692\",\"#B6E880\",\"#FF97FF\",\"#FECB52\"],\"font\":{\"color\":\"#2a3f5f\"},\"geo\":{\"bgcolor\":\"white\",\"lakecolor\":\"white\",\"landcolor\":\"#E5ECF6\",\"showlakes\":true,\"showland\":true,\"subunitcolor\":\"white\"},\"hoverlabel\":{\"align\":\"left\"},\"hovermode\":\"closest\",\"mapbox\":{\"style\":\"light\"},\"paper_bgcolor\":\"white\",\"plot_bgcolor\":\"#E5ECF6\",\"polar\":{\"angularaxis\":{\"gridcolor\":\"white\",\"linecolor\":\"white\",\"ticks\":\"\"},\"bgcolor\":\"#E5ECF6\",\"radialaxis\":{\"gridcolor\":\"white\",\"linecolor\":\"white\",\"ticks\":\"\"}},\"scene\":{\"xaxis\":{\"backgroundcolor\":\"#E5ECF6\",\"gridcolor\":\"white\",\"gridwidth\":2,\"linecolor\":\"white\",\"showbackground\":true,\"ticks\":\"\",\"zerolinecolor\":\"white\"},\"yaxis\":{\"backgroundcolor\":\"#E5ECF6\",\"gridcolor\":\"white\",\"gridwidth\":2,\"linecolor\":\"white\",\"showbackground\":true,\"ticks\":\"\",\"zerolinecolor\":\"white\"},\"zaxis\":{\"backgroundcolor\":\"#E5ECF6\",\"gridcolor\":\"white\",\"gridwidth\":2,\"linecolor\":\"white\",\"showbackground\":true,\"ticks\":\"\",\"zerolinecolor\":\"white\"}},\"shapedefaults\":{\"line\":{\"color\":\"#2a3f5f\"}},\"ternary\":{\"aaxis\":{\"gridcolor\":\"white\",\"linecolor\":\"white\",\"ticks\":\"\"},\"baxis\":{\"gridcolor\":\"white\",\"linecolor\":\"white\",\"ticks\":\"\"},\"bgcolor\":\"#E5ECF6\",\"caxis\":{\"gridcolor\":\"white\",\"linecolor\":\"white\",\"ticks\":\"\"}},\"title\":{\"x\":0.05},\"xaxis\":{\"automargin\":true,\"gridcolor\":\"white\",\"linecolor\":\"white\",\"ticks\":\"\",\"title\":{\"standoff\":15},\"zerolinecolor\":\"white\",\"zerolinewidth\":2},\"yaxis\":{\"automargin\":true,\"gridcolor\":\"white\",\"linecolor\":\"white\",\"ticks\":\"\",\"title\":{\"standoff\":15},\"zerolinecolor\":\"white\",\"zerolinewidth\":2}}},\"xaxis\":{\"anchor\":\"y\",\"domain\":[0.0,1.0],\"title\":{\"text\":\"model\"},\"categoryorder\":\"array\",\"categoryarray\":[\"linear\",\"svm\",\"rf\",\"xgb\",\"mlp\"]},\"yaxis\":{\"anchor\":\"x\",\"domain\":[0.0,1.0],\"title\":{\"text\":\"log_RMSE\"}},\"legend\":{\"title\":{\"text\":\"model\"},\"tracegroupgap\":0},\"margin\":{\"t\":60},\"boxmode\":\"overlay\",\"width\":600},                        {\"responsive\": true}                    ).then(function(){\n",
              "                            \n",
              "var gd = document.getElementById('d338460c-b7a9-4309-b5c2-64e5086b0c61');\n",
              "var x = new MutationObserver(function (mutations, observer) {{\n",
              "        var display = window.getComputedStyle(gd).display;\n",
              "        if (!display || display === 'none') {{\n",
              "            console.log([gd, 'removed!']);\n",
              "            Plotly.purge(gd);\n",
              "            observer.disconnect();\n",
              "        }}\n",
              "}});\n",
              "\n",
              "// Listen for the removal of the full notebook cells\n",
              "var notebookContainer = gd.closest('#notebook-container');\n",
              "if (notebookContainer) {{\n",
              "    x.observe(notebookContainer, {childList: true});\n",
              "}}\n",
              "\n",
              "// Listen for the clearing of the current output cell\n",
              "var outputEl = gd.closest('.output');\n",
              "if (outputEl) {{\n",
              "    x.observe(outputEl, {childList: true});\n",
              "}}\n",
              "\n",
              "                        })                };                            </script>        </div>\n",
              "</body>\n",
              "</html>"
            ]
          },
          "metadata": {}
        }
      ]
    },
    {
      "cell_type": "markdown",
      "metadata": {
        "id": "4n8Ah9ahKDDZ"
      },
      "source": [
        "## 2-3. Model Combination\n",
        "\n",
        "Although it is possible to select a final model among the models above, it has been observed that in many cases the combination of predicted values ​​from multiple models leads to improved prediction performance. ([Can multi-model combination really enhance the prediction skill of probabilistic ensemble forecasts?](https://rmets.onlinelibrary.wiley.com/doi/abs/10.1002/qj.210?casa_token=OwyF2RbEywAAAAAA:gahpwGRdOWzLXyafYQQt_voHOF8MedTBLd1SBv4vkdT3ZTLVoKZQj3zl-KbrhSkX5x8CndeCxwBoL_-S))\n",
        "\n",
        "For regression problems, the final predicted values are derived by combining the predicted values in a 'proper way'.\n",
        "\n",
        "This notebook uses the following two model combination methods.\n",
        "\n",
        "1. Simple Average\n",
        "2. Stacked Generalization (Stacking)\n",
        "\n",
        "\n",
        "Model comparison needs to be done with single models (e.g., rf, xgb,...).\n",
        "So model performance are measured by applying the same CV method as above."
      ]
    },
    {
      "cell_type": "markdown",
      "metadata": {
        "id": "Sf4wsWU4EHW-"
      },
      "source": [
        "### > Simple Average\n",
        "\n",
        "The simple average method derives the final prediction value by 'averaging' the predicted values of multiple models.\n",
        "\n",
        "The top 3 models (svm, rf, xgb) of the above CV results are selected as base estimators used for the combination of predicted values.\n",
        "\n",
        "For example,\n",
        "- Base Estimations\n",
        "  - $f_{svm}(x)$ = 0.85\n",
        "  - $f_{rf}(x)$ = 0.75\n",
        "  - $f_{xgb}(x)$ = 0.80\n",
        "- Final Estimation\n",
        "  - $f_{average}(x)$  = 0.8 (= 0.85 + 0.75 + 0.80 + / 3)\n"
      ]
    },
    {
      "cell_type": "code",
      "execution_count": null,
      "metadata": {
        "id": "BJ6YHo9Bfl2Q"
      },
      "outputs": [],
      "source": [
        "from sklearn.model_selection import KFold\n",
        "from tqdm import notebook\n",
        "from sklearn.metrics import mean_squared_error\n",
        "\n",
        "def CV_ensemble(ensemble_name, ensemble_func, estimators, X_train, y_train, n_folds=5, shuffle=True, random_state=2022):\n",
        "  kf = KFold(n_splits=5, random_state=random_state, shuffle=True)\n",
        "\n",
        "  res_list = []\n",
        "  for train_idx, valid_idx in notebook.tqdm(kf.split(X_train), total=kf.get_n_splits(), desc='Eval_CV'):\n",
        "    X_train_train, X_valid = X_train[train_idx], X_train[valid_idx]\n",
        "    y_train_train, y_valid = y_train[train_idx], y_train[valid_idx]\n",
        "\n",
        "    ensemble_pred= ensemble_func(estimators, X_train_train, y_train_train, X_valid)\n",
        "    log_rmse = np.negative(mean_squared_error(y_valid, ensemble_pred, squared=False))\n",
        "\n",
        "    res_list.append([ensemble_name, log_rmse])\n",
        "  res_df = pd.DataFrame(np.vstack((res_list)))\n",
        "  res_df.columns = ['model', 'log_RMSE']\n",
        "  return res_df\n",
        "\n",
        "def ensemble_average(estimators, X_train, y_train, X_test):\n",
        "  preds = []\n",
        "  for idx in range(len(estimators)):\n",
        "    try:\n",
        "      estimators[idx].module__num_factors\n",
        "    except: # for other models\n",
        "      estimators[idx].fit(X_train, y_train)\n",
        "      preds.append([estimators[idx].predict(X_test)])\n",
        "    else: # for factorization machine\n",
        "      X_train_fm, X_test_fm, _ = prepro_for_fm(X_train, X_test)\n",
        "      estimators[idx].fit(X_train_fm, y_train.reshape(-1,1)).astype(np.float32)\n",
        "      preds.append([estimators[idx].predict(X_test_fm).reshape(-1)])\n",
        "    \n",
        "  pred_df = pd.DataFrame(np.vstack((preds)).transpose())\n",
        "  return pred_df.mean(axis=1).values  "
      ]
    },
    {
      "cell_type": "code",
      "execution_count": null,
      "metadata": {
        "colab": {
          "base_uri": "https://localhost:8080/",
          "height": 49,
          "referenced_widgets": [
            "3ed72317113348389ec4db1dac3ad7d1",
            "76147f5132e449a08836340e99e5a13a",
            "dfd08405565047fe974098f77e1e4710",
            "0c4ff108c30d4bcaaaab062212ce677d",
            "84fd8b4a36684a0091a8b21f9f5cec09",
            "d5c6bbecce0e4404b52fbe2404200ea0",
            "2c37c1f283584116800e4a677f21e437",
            "87f61104f6844f4e8606e73fe3f4934e",
            "17cd466bbdbd4f05a94920f32afe2110",
            "3268d4ef3183464db5eff487f64891dc",
            "b95b516052324d3fb0ba3ea38b787e42"
          ]
        },
        "id": "oZc9d1u2dSSa",
        "outputId": "a4dbbfbe-804f-48b4-da79-8222dfb2a6f3"
      },
      "outputs": [
        {
          "output_type": "display_data",
          "data": {
            "application/vnd.jupyter.widget-view+json": {
              "model_id": "3ed72317113348389ec4db1dac3ad7d1",
              "version_minor": 0,
              "version_major": 2
            },
            "text/plain": [
              "Eval_CV:   0%|          | 0/5 [00:00<?, ?it/s]"
            ]
          },
          "metadata": {}
        }
      ],
      "source": [
        "from sklearn.linear_model import SGDRegressor\n",
        "from sklearn.ensemble import RandomForestRegressor\n",
        "from xgboost import XGBRegressor\n",
        "\n",
        "linear = SGDRegressor(**eval(best_cv_df.loc[best_cv_df['model']=='linear', 'best_hyper_param'].values[0]))\n",
        "svm = SGDRegressor(**eval(best_cv_df.loc[best_cv_df['model']=='svm', 'best_hyper_param'].values[0]))\n",
        "rf = RandomForestRegressor(**eval(best_cv_df.loc[best_cv_df['model']=='rf', 'best_hyper_param'].values[0]))\n",
        "xgb = XGBRegressor(**eval(best_cv_df.loc[best_cv_df['model']=='xgb', 'best_hyper_param'].values[0]))\n",
        "mlp = mlp.set_params(**eval(best_cv_df.loc[best_cv_df['model']=='mlp', 'best_hyper_param'].values[0]))\n",
        "\n",
        "estimators = [svm, rf, xgb]\n",
        "estimators_name = 'svm_rf_xgb'\n",
        "ensemble_name = 'average' + '_by_' + estimators_name\n",
        "\n",
        "X = X_train\n",
        "y = y_train_trans\n",
        "\n",
        "res_df = CV_ensemble(ensemble_name, ensemble_average, estimators, X, y, n_folds=5, shuffle=True, random_state=config['random_state'])\n",
        "best_cv_df = best_cv_df.append(res_df).reset_index(drop=True)"
      ]
    },
    {
      "cell_type": "code",
      "execution_count": null,
      "metadata": {
        "colab": {
          "base_uri": "https://localhost:8080/",
          "height": 542
        },
        "id": "F_0XuYrXhXmV",
        "outputId": "a3b653bc-ef3e-4257-a6e5-807b05231926"
      },
      "outputs": [
        {
          "output_type": "display_data",
          "data": {
            "text/html": [
              "<html>\n",
              "<head><meta charset=\"utf-8\" /></head>\n",
              "<body>\n",
              "    <div>            <script src=\"https://cdnjs.cloudflare.com/ajax/libs/mathjax/2.7.5/MathJax.js?config=TeX-AMS-MML_SVG\"></script><script type=\"text/javascript\">if (window.MathJax) {MathJax.Hub.Config({SVG: {font: \"STIX-Web\"}});}</script>                <script type=\"text/javascript\">window.PlotlyConfig = {MathJaxConfig: 'local'};</script>\n",
              "        <script src=\"https://cdn.plot.ly/plotly-2.8.3.min.js\"></script>                <div id=\"ff53c65f-d4a2-45b0-9533-5a6739b9d220\" class=\"plotly-graph-div\" style=\"height:525px; width:600px;\"></div>            <script type=\"text/javascript\">                                    window.PLOTLYENV=window.PLOTLYENV || {};                                    if (document.getElementById(\"ff53c65f-d4a2-45b0-9533-5a6739b9d220\")) {                    Plotly.newPlot(                        \"ff53c65f-d4a2-45b0-9533-5a6739b9d220\",                        [{\"alignmentgroup\":\"True\",\"hovertemplate\":\"model=%{x}<br>log_RMSE=%{y}<extra></extra>\",\"legendgroup\":\"linear\",\"marker\":{\"color\":\"#636efa\"},\"name\":\"linear\",\"notched\":false,\"offsetgroup\":\"linear\",\"orientation\":\"v\",\"showlegend\":true,\"x\":[\"linear\",\"linear\",\"linear\",\"linear\",\"linear\"],\"x0\":\" \",\"xaxis\":\"x\",\"y\":[-0.1377942037226278,-0.1651928370995285,-0.1469215459716268,-0.1336266050244698,-0.1541363097149825],\"y0\":\" \",\"yaxis\":\"y\",\"type\":\"box\"},{\"alignmentgroup\":\"True\",\"hovertemplate\":\"model=%{x}<br>log_RMSE=%{y}<extra></extra>\",\"legendgroup\":\"svm\",\"marker\":{\"color\":\"#EF553B\"},\"name\":\"svm\",\"notched\":false,\"offsetgroup\":\"svm\",\"orientation\":\"v\",\"showlegend\":true,\"x\":[\"svm\",\"svm\",\"svm\",\"svm\",\"svm\"],\"x0\":\" \",\"xaxis\":\"x\",\"y\":[-0.1276207366391868,-0.1474625138080595,-0.1379257196501478,-0.1267162453221795,-0.1433871328363394],\"y0\":\" \",\"yaxis\":\"y\",\"type\":\"box\"},{\"alignmentgroup\":\"True\",\"hovertemplate\":\"model=%{x}<br>log_RMSE=%{y}<extra></extra>\",\"legendgroup\":\"rf\",\"marker\":{\"color\":\"#00cc96\"},\"name\":\"rf\",\"notched\":false,\"offsetgroup\":\"rf\",\"orientation\":\"v\",\"showlegend\":true,\"x\":[\"rf\",\"rf\",\"rf\",\"rf\",\"rf\"],\"x0\":\" \",\"xaxis\":\"x\",\"y\":[-0.1363786408083483,-0.1285614064686858,-0.1381038365327425,-0.1344547504761138,-0.1371396188521684],\"y0\":\" \",\"yaxis\":\"y\",\"type\":\"box\"},{\"alignmentgroup\":\"True\",\"hovertemplate\":\"model=%{x}<br>log_RMSE=%{y}<extra></extra>\",\"legendgroup\":\"xgb\",\"marker\":{\"color\":\"#ab63fa\"},\"name\":\"xgb\",\"notched\":false,\"offsetgroup\":\"xgb\",\"orientation\":\"v\",\"showlegend\":true,\"x\":[\"xgb\",\"xgb\",\"xgb\",\"xgb\",\"xgb\"],\"x0\":\" \",\"xaxis\":\"x\",\"y\":[-0.1128894984722137,-0.1116650402545929,-0.1213516220450401,-0.1168353930115699,-0.1127547994256019],\"y0\":\" \",\"yaxis\":\"y\",\"type\":\"box\"},{\"alignmentgroup\":\"True\",\"hovertemplate\":\"model=%{x}<br>log_RMSE=%{y}<extra></extra>\",\"legendgroup\":\"mlp\",\"marker\":{\"color\":\"#FFA15A\"},\"name\":\"mlp\",\"notched\":false,\"offsetgroup\":\"mlp\",\"orientation\":\"v\",\"showlegend\":true,\"x\":[\"mlp\",\"mlp\",\"mlp\",\"mlp\",\"mlp\"],\"x0\":\" \",\"xaxis\":\"x\",\"y\":[-0.1469684690237045,-0.1695849001407623,-0.1490651667118072,-0.1430636197328567,-0.161231443285942],\"y0\":\" \",\"yaxis\":\"y\",\"type\":\"box\"},{\"alignmentgroup\":\"True\",\"hovertemplate\":\"model=%{x}<br>log_RMSE=%{y}<extra></extra>\",\"legendgroup\":\"average_by_svm_rf_xgb\",\"marker\":{\"color\":\"#19d3f3\"},\"name\":\"average_by_svm_rf_xgb\",\"notched\":false,\"offsetgroup\":\"average_by_svm_rf_xgb\",\"orientation\":\"v\",\"showlegend\":true,\"x\":[\"average_by_svm_rf_xgb\",\"average_by_svm_rf_xgb\",\"average_by_svm_rf_xgb\",\"average_by_svm_rf_xgb\",\"average_by_svm_rf_xgb\"],\"x0\":\" \",\"xaxis\":\"x\",\"y\":[\"-0.12828510780747313\",\"-0.09996560163659597\",\"-0.10444982647572729\",\"-0.10970646971592768\",\"-0.12173034483360033\"],\"y0\":\" \",\"yaxis\":\"y\",\"type\":\"box\"}],                        {\"template\":{\"data\":{\"bar\":[{\"error_x\":{\"color\":\"#2a3f5f\"},\"error_y\":{\"color\":\"#2a3f5f\"},\"marker\":{\"line\":{\"color\":\"#E5ECF6\",\"width\":0.5},\"pattern\":{\"fillmode\":\"overlay\",\"size\":10,\"solidity\":0.2}},\"type\":\"bar\"}],\"barpolar\":[{\"marker\":{\"line\":{\"color\":\"#E5ECF6\",\"width\":0.5},\"pattern\":{\"fillmode\":\"overlay\",\"size\":10,\"solidity\":0.2}},\"type\":\"barpolar\"}],\"carpet\":[{\"aaxis\":{\"endlinecolor\":\"#2a3f5f\",\"gridcolor\":\"white\",\"linecolor\":\"white\",\"minorgridcolor\":\"white\",\"startlinecolor\":\"#2a3f5f\"},\"baxis\":{\"endlinecolor\":\"#2a3f5f\",\"gridcolor\":\"white\",\"linecolor\":\"white\",\"minorgridcolor\":\"white\",\"startlinecolor\":\"#2a3f5f\"},\"type\":\"carpet\"}],\"choropleth\":[{\"colorbar\":{\"outlinewidth\":0,\"ticks\":\"\"},\"type\":\"choropleth\"}],\"contour\":[{\"colorbar\":{\"outlinewidth\":0,\"ticks\":\"\"},\"colorscale\":[[0.0,\"#0d0887\"],[0.1111111111111111,\"#46039f\"],[0.2222222222222222,\"#7201a8\"],[0.3333333333333333,\"#9c179e\"],[0.4444444444444444,\"#bd3786\"],[0.5555555555555556,\"#d8576b\"],[0.6666666666666666,\"#ed7953\"],[0.7777777777777778,\"#fb9f3a\"],[0.8888888888888888,\"#fdca26\"],[1.0,\"#f0f921\"]],\"type\":\"contour\"}],\"contourcarpet\":[{\"colorbar\":{\"outlinewidth\":0,\"ticks\":\"\"},\"type\":\"contourcarpet\"}],\"heatmap\":[{\"colorbar\":{\"outlinewidth\":0,\"ticks\":\"\"},\"colorscale\":[[0.0,\"#0d0887\"],[0.1111111111111111,\"#46039f\"],[0.2222222222222222,\"#7201a8\"],[0.3333333333333333,\"#9c179e\"],[0.4444444444444444,\"#bd3786\"],[0.5555555555555556,\"#d8576b\"],[0.6666666666666666,\"#ed7953\"],[0.7777777777777778,\"#fb9f3a\"],[0.8888888888888888,\"#fdca26\"],[1.0,\"#f0f921\"]],\"type\":\"heatmap\"}],\"heatmapgl\":[{\"colorbar\":{\"outlinewidth\":0,\"ticks\":\"\"},\"colorscale\":[[0.0,\"#0d0887\"],[0.1111111111111111,\"#46039f\"],[0.2222222222222222,\"#7201a8\"],[0.3333333333333333,\"#9c179e\"],[0.4444444444444444,\"#bd3786\"],[0.5555555555555556,\"#d8576b\"],[0.6666666666666666,\"#ed7953\"],[0.7777777777777778,\"#fb9f3a\"],[0.8888888888888888,\"#fdca26\"],[1.0,\"#f0f921\"]],\"type\":\"heatmapgl\"}],\"histogram\":[{\"marker\":{\"pattern\":{\"fillmode\":\"overlay\",\"size\":10,\"solidity\":0.2}},\"type\":\"histogram\"}],\"histogram2d\":[{\"colorbar\":{\"outlinewidth\":0,\"ticks\":\"\"},\"colorscale\":[[0.0,\"#0d0887\"],[0.1111111111111111,\"#46039f\"],[0.2222222222222222,\"#7201a8\"],[0.3333333333333333,\"#9c179e\"],[0.4444444444444444,\"#bd3786\"],[0.5555555555555556,\"#d8576b\"],[0.6666666666666666,\"#ed7953\"],[0.7777777777777778,\"#fb9f3a\"],[0.8888888888888888,\"#fdca26\"],[1.0,\"#f0f921\"]],\"type\":\"histogram2d\"}],\"histogram2dcontour\":[{\"colorbar\":{\"outlinewidth\":0,\"ticks\":\"\"},\"colorscale\":[[0.0,\"#0d0887\"],[0.1111111111111111,\"#46039f\"],[0.2222222222222222,\"#7201a8\"],[0.3333333333333333,\"#9c179e\"],[0.4444444444444444,\"#bd3786\"],[0.5555555555555556,\"#d8576b\"],[0.6666666666666666,\"#ed7953\"],[0.7777777777777778,\"#fb9f3a\"],[0.8888888888888888,\"#fdca26\"],[1.0,\"#f0f921\"]],\"type\":\"histogram2dcontour\"}],\"mesh3d\":[{\"colorbar\":{\"outlinewidth\":0,\"ticks\":\"\"},\"type\":\"mesh3d\"}],\"parcoords\":[{\"line\":{\"colorbar\":{\"outlinewidth\":0,\"ticks\":\"\"}},\"type\":\"parcoords\"}],\"pie\":[{\"automargin\":true,\"type\":\"pie\"}],\"scatter\":[{\"marker\":{\"colorbar\":{\"outlinewidth\":0,\"ticks\":\"\"}},\"type\":\"scatter\"}],\"scatter3d\":[{\"line\":{\"colorbar\":{\"outlinewidth\":0,\"ticks\":\"\"}},\"marker\":{\"colorbar\":{\"outlinewidth\":0,\"ticks\":\"\"}},\"type\":\"scatter3d\"}],\"scattercarpet\":[{\"marker\":{\"colorbar\":{\"outlinewidth\":0,\"ticks\":\"\"}},\"type\":\"scattercarpet\"}],\"scattergeo\":[{\"marker\":{\"colorbar\":{\"outlinewidth\":0,\"ticks\":\"\"}},\"type\":\"scattergeo\"}],\"scattergl\":[{\"marker\":{\"colorbar\":{\"outlinewidth\":0,\"ticks\":\"\"}},\"type\":\"scattergl\"}],\"scattermapbox\":[{\"marker\":{\"colorbar\":{\"outlinewidth\":0,\"ticks\":\"\"}},\"type\":\"scattermapbox\"}],\"scatterpolar\":[{\"marker\":{\"colorbar\":{\"outlinewidth\":0,\"ticks\":\"\"}},\"type\":\"scatterpolar\"}],\"scatterpolargl\":[{\"marker\":{\"colorbar\":{\"outlinewidth\":0,\"ticks\":\"\"}},\"type\":\"scatterpolargl\"}],\"scatterternary\":[{\"marker\":{\"colorbar\":{\"outlinewidth\":0,\"ticks\":\"\"}},\"type\":\"scatterternary\"}],\"surface\":[{\"colorbar\":{\"outlinewidth\":0,\"ticks\":\"\"},\"colorscale\":[[0.0,\"#0d0887\"],[0.1111111111111111,\"#46039f\"],[0.2222222222222222,\"#7201a8\"],[0.3333333333333333,\"#9c179e\"],[0.4444444444444444,\"#bd3786\"],[0.5555555555555556,\"#d8576b\"],[0.6666666666666666,\"#ed7953\"],[0.7777777777777778,\"#fb9f3a\"],[0.8888888888888888,\"#fdca26\"],[1.0,\"#f0f921\"]],\"type\":\"surface\"}],\"table\":[{\"cells\":{\"fill\":{\"color\":\"#EBF0F8\"},\"line\":{\"color\":\"white\"}},\"header\":{\"fill\":{\"color\":\"#C8D4E3\"},\"line\":{\"color\":\"white\"}},\"type\":\"table\"}]},\"layout\":{\"annotationdefaults\":{\"arrowcolor\":\"#2a3f5f\",\"arrowhead\":0,\"arrowwidth\":1},\"autotypenumbers\":\"strict\",\"coloraxis\":{\"colorbar\":{\"outlinewidth\":0,\"ticks\":\"\"}},\"colorscale\":{\"diverging\":[[0,\"#8e0152\"],[0.1,\"#c51b7d\"],[0.2,\"#de77ae\"],[0.3,\"#f1b6da\"],[0.4,\"#fde0ef\"],[0.5,\"#f7f7f7\"],[0.6,\"#e6f5d0\"],[0.7,\"#b8e186\"],[0.8,\"#7fbc41\"],[0.9,\"#4d9221\"],[1,\"#276419\"]],\"sequential\":[[0.0,\"#0d0887\"],[0.1111111111111111,\"#46039f\"],[0.2222222222222222,\"#7201a8\"],[0.3333333333333333,\"#9c179e\"],[0.4444444444444444,\"#bd3786\"],[0.5555555555555556,\"#d8576b\"],[0.6666666666666666,\"#ed7953\"],[0.7777777777777778,\"#fb9f3a\"],[0.8888888888888888,\"#fdca26\"],[1.0,\"#f0f921\"]],\"sequentialminus\":[[0.0,\"#0d0887\"],[0.1111111111111111,\"#46039f\"],[0.2222222222222222,\"#7201a8\"],[0.3333333333333333,\"#9c179e\"],[0.4444444444444444,\"#bd3786\"],[0.5555555555555556,\"#d8576b\"],[0.6666666666666666,\"#ed7953\"],[0.7777777777777778,\"#fb9f3a\"],[0.8888888888888888,\"#fdca26\"],[1.0,\"#f0f921\"]]},\"colorway\":[\"#636efa\",\"#EF553B\",\"#00cc96\",\"#ab63fa\",\"#FFA15A\",\"#19d3f3\",\"#FF6692\",\"#B6E880\",\"#FF97FF\",\"#FECB52\"],\"font\":{\"color\":\"#2a3f5f\"},\"geo\":{\"bgcolor\":\"white\",\"lakecolor\":\"white\",\"landcolor\":\"#E5ECF6\",\"showlakes\":true,\"showland\":true,\"subunitcolor\":\"white\"},\"hoverlabel\":{\"align\":\"left\"},\"hovermode\":\"closest\",\"mapbox\":{\"style\":\"light\"},\"paper_bgcolor\":\"white\",\"plot_bgcolor\":\"#E5ECF6\",\"polar\":{\"angularaxis\":{\"gridcolor\":\"white\",\"linecolor\":\"white\",\"ticks\":\"\"},\"bgcolor\":\"#E5ECF6\",\"radialaxis\":{\"gridcolor\":\"white\",\"linecolor\":\"white\",\"ticks\":\"\"}},\"scene\":{\"xaxis\":{\"backgroundcolor\":\"#E5ECF6\",\"gridcolor\":\"white\",\"gridwidth\":2,\"linecolor\":\"white\",\"showbackground\":true,\"ticks\":\"\",\"zerolinecolor\":\"white\"},\"yaxis\":{\"backgroundcolor\":\"#E5ECF6\",\"gridcolor\":\"white\",\"gridwidth\":2,\"linecolor\":\"white\",\"showbackground\":true,\"ticks\":\"\",\"zerolinecolor\":\"white\"},\"zaxis\":{\"backgroundcolor\":\"#E5ECF6\",\"gridcolor\":\"white\",\"gridwidth\":2,\"linecolor\":\"white\",\"showbackground\":true,\"ticks\":\"\",\"zerolinecolor\":\"white\"}},\"shapedefaults\":{\"line\":{\"color\":\"#2a3f5f\"}},\"ternary\":{\"aaxis\":{\"gridcolor\":\"white\",\"linecolor\":\"white\",\"ticks\":\"\"},\"baxis\":{\"gridcolor\":\"white\",\"linecolor\":\"white\",\"ticks\":\"\"},\"bgcolor\":\"#E5ECF6\",\"caxis\":{\"gridcolor\":\"white\",\"linecolor\":\"white\",\"ticks\":\"\"}},\"title\":{\"x\":0.05},\"xaxis\":{\"automargin\":true,\"gridcolor\":\"white\",\"linecolor\":\"white\",\"ticks\":\"\",\"title\":{\"standoff\":15},\"zerolinecolor\":\"white\",\"zerolinewidth\":2},\"yaxis\":{\"automargin\":true,\"gridcolor\":\"white\",\"linecolor\":\"white\",\"ticks\":\"\",\"title\":{\"standoff\":15},\"zerolinecolor\":\"white\",\"zerolinewidth\":2}}},\"xaxis\":{\"anchor\":\"y\",\"domain\":[0.0,1.0],\"title\":{\"text\":\"model\"},\"categoryorder\":\"array\",\"categoryarray\":[\"linear\",\"svm\",\"rf\",\"xgb\",\"mlp\",\"average_by_svm_rf_xgb\"]},\"yaxis\":{\"anchor\":\"x\",\"domain\":[0.0,1.0],\"title\":{\"text\":\"log_RMSE\"}},\"legend\":{\"title\":{\"text\":\"model\"},\"tracegroupgap\":0},\"margin\":{\"t\":60},\"boxmode\":\"overlay\",\"width\":600},                        {\"responsive\": true}                    ).then(function(){\n",
              "                            \n",
              "var gd = document.getElementById('ff53c65f-d4a2-45b0-9533-5a6739b9d220');\n",
              "var x = new MutationObserver(function (mutations, observer) {{\n",
              "        var display = window.getComputedStyle(gd).display;\n",
              "        if (!display || display === 'none') {{\n",
              "            console.log([gd, 'removed!']);\n",
              "            Plotly.purge(gd);\n",
              "            observer.disconnect();\n",
              "        }}\n",
              "}});\n",
              "\n",
              "// Listen for the removal of the full notebook cells\n",
              "var notebookContainer = gd.closest('#notebook-container');\n",
              "if (notebookContainer) {{\n",
              "    x.observe(notebookContainer, {childList: true});\n",
              "}}\n",
              "\n",
              "// Listen for the clearing of the current output cell\n",
              "var outputEl = gd.closest('.output');\n",
              "if (outputEl) {{\n",
              "    x.observe(outputEl, {childList: true});\n",
              "}}\n",
              "\n",
              "                        })                };                            </script>        </div>\n",
              "</body>\n",
              "</html>"
            ]
          },
          "metadata": {}
        }
      ],
      "source": [
        "fig = px.box(best_cv_df, x='model', y='log_RMSE', color='model', width=600)\n",
        "fig.show()"
      ]
    },
    {
      "cell_type": "markdown",
      "metadata": {
        "id": "5eKbDaOmEPVc"
      },
      "source": [
        "### > Stacked generalization (Stacking)\n",
        "\n",
        "In the [Stacked generalization](https://www.jair.org/index.php/jair/article/view/10228), the predicted values of base estimators are treated as the 'input data', and y (SalePrice) of each row is treated as the 'output variable'. \n",
        "The 'Meta Learner' is learned with these data and the predicted values of this model are derived as the final prediction values\n",
        "\n",
        "- The 'Meta Learner' can be any of the regression models. However, this notebook uses a linear regression model for simplicity.\n",
        "\n",
        "- As input data for 'Meta Learner', predicted values for validation data in CV of base estimators are obtained.\n",
        "\n",
        "- Trained meta-learner predicts the final predicted values for the test-set by using the predicted values of the baes estimators for the test-set as input data.\n",
        "\n",
        "The procedure is as follows:\n",
        "1. (Base estimators) Run CV on Train-set\n",
        "2. (Meta Learner) Train on CV predictions (predicted values on validation data of CV) with corresponding y values\n",
        "3. (Base estimators) Train on Train-set\n",
        "4. (Base estimators) Predict on Test-set\n",
        "5. (Meta Learner) Predict on predicted values from step 4.\n",
        "\n",
        "<img align='top' src='https://drive.google.com/uc?export=view&id=1uDxSIIFt8rUJkuIwRYU4lALvOPqlXPG5' width='600' height='400'>\n",
        "\n",
        "\n",
        "For example,\n",
        "- Base Estimations\n",
        "  - $f_{svm}(x)$ = 0.85\n",
        "  - $f_{rf}(x)$ = 0.75\n",
        "  - $f_{xgb}(x)$ = 0.80\n",
        "- Meta Learner (linear regression)\n",
        "  - Parameter\n",
        "    - intercept = 0.1\n",
        "    - coefficient = [0.3, 0.1, 0.6]\n",
        "  - $f_{stack}(x) = 0.795 = -0.1 + 0.4*0.85 + 0.1*0.75 + 0.6*0.80$"
      ]
    },
    {
      "cell_type": "code",
      "execution_count": null,
      "metadata": {
        "id": "ixki1gq_3Wwk"
      },
      "outputs": [],
      "source": [
        "from sklearn.model_selection import KFold\n",
        "from tqdm import notebook\n",
        "from sklearn.metrics import mean_squared_error\n",
        "\n",
        "\n",
        "def stack_reg(estimators, X_train, y_train, X_test, n_folds=5, shuffle=True, random_state=2022):\n",
        "  final_estimator = estimators[-1]\n",
        "  kf = KFold(n_splits=n_folds, random_state=random_state, shuffle=shuffle)\n",
        "  preds = []\n",
        "  y_valid_list = []\n",
        "  \n",
        "  for train_idx, valid_idx in notebook.tqdm(kf.split(X_train), total=kf.get_n_splits(), desc='Stack_CV'):\n",
        "    X_train_train, X_valid = X_train[train_idx], X_train[valid_idx]\n",
        "    y_train_train, y_valid = y_train[train_idx], y_train[valid_idx]\n",
        "    \n",
        "    valid_preds = []\n",
        "    for idx in range(len(estimators)-1):\n",
        "      try:\n",
        "        estimators[idx].module__num_factors\n",
        "      except: # for other models\n",
        "        estimators[idx].fit(X_train_train, y_train_train)\n",
        "        valid_preds.append([estimators[idx].predict(X_valid)])\n",
        "      else: # for factorization machine\n",
        "        X_train_train_fm, X_valid_fm, _ = prepro_for_fm(X_train_train, X_valid)\n",
        "        estimators[idx].fit(X_train_train_fm, y_train_train.reshape(-1,1)).astype(np.float32)\n",
        "        valid_preds.append([estimators[idx].predict(X_valid_fm).reshape(-1)])\n",
        "    \n",
        "    preds.append(np.vstack((valid_preds)).transpose())\n",
        "    y_valid_list.append(y_valid)\n",
        "\n",
        "  stack_X_valid = np.vstack((preds))\n",
        "  y_valid_list = np.hstack((y_valid_list))\n",
        "  \n",
        "  final_estimator.fit(stack_X_valid, y_valid_list)\n",
        "  print('Training log_RMSE: {}'.format(mean_squared_error(final_estimator.predict(stack_X_valid), y_valid_list, squared=False)))\n",
        "  print('Estimated coefficients: {} \\n intercept: {}'.format(final_estimator.coef_, final_estimator.intercept_))\n",
        "\n",
        "  \n",
        "  test_preds =[]\n",
        "  for idx in range(len(estimators)-1):\n",
        "    try:\n",
        "      estimators[idx].module__num_factors\n",
        "    except: # for other models\n",
        "      estimators[idx].fit(X_train, y_train)\n",
        "      test_preds.append([estimators[idx].predict(X_test)])\n",
        "    else: # for factorization machine\n",
        "      X_train_fm, X_test_fm, _ = prepro_for_fm(X_train, X_test)\n",
        "      estimators[idx].fit(X_train_fm, y_train.reshape(-1,1)).astype(np.float32)\n",
        "      test_preds.append([estimators[idx].predict(X_test_fm).reshape(-1)])\n",
        "\n",
        "  stack_X_test = np.vstack((test_preds)).transpose()\n",
        "  return final_estimator.predict(stack_X_test)"
      ]
    },
    {
      "cell_type": "code",
      "execution_count": null,
      "metadata": {
        "colab": {
          "base_uri": "https://localhost:8080/",
          "height": 477,
          "referenced_widgets": [
            "fa8fa63aac944b54bc016184d7d03393",
            "a42dd48f635645138948b63a5376bc91",
            "b7d273a738e84ba0862eeabd5e65a3d7",
            "49c6c208d5064e2ca5c2779bd37e4c93",
            "07068249b2ae4b8d8e15768f21193eaf",
            "d1a464eeda1346549dfae2c9ba774762",
            "b8e7772caf8a48319ed2ce005001cbd8",
            "0862669822d445058ce3b5071532fc66",
            "c3f269515cbc4b96b7c378a3ee2e939a",
            "28630ef4ba3043aea3f7facb41dbe9a8",
            "54fb2766c8ba441db6a757636b4d6dea",
            "0b8b4893da43471982134907d60caad3",
            "e2c6614fa9e541c383af69dc7a3afa49",
            "41566834b18d46d4ab97302aa98144a2",
            "9bd5a37bda75444b8a68037b966b79f1",
            "1d32cca19f8446da92a84c86c3909be8",
            "b5a27940df2840cda0cdcea72abc3c94",
            "3b199c3be6c44425a0d70dd07a91c5a4",
            "4bbc8be91a5c4eda884680d183116792",
            "317baf362a274d21acd9c05571ac0d52",
            "85e4f7489b414864b161024063f6e151",
            "0dd8149a267143fe852f33c8743ae15e",
            "4028760a817349e28ed31f9151cb2cc2",
            "c7d4f1898f34458eb238e48ec14ba693",
            "a7c447924abf4931b87b487c48a92951",
            "3f1a3c84642646efb82c924db1f78c05",
            "663c69fb4fe649e988cd98c7d82f3c2c",
            "3574ab8135904fc4acc80cc19d794c21",
            "ba436b1c573e433c9525e229b86a7f8c",
            "67e331aad8c848a9bfc76d101cbf21e2",
            "d753056b56ca4a34bc73efb3691035cc",
            "d8aabc8f9dca4a11986fbac11a7ac1f6",
            "2adb40384f7f4717aeec32f3c65e70c3",
            "bb8372ed9fcf41edaa94b92b9fff3c3f",
            "bce134d959b7487385171d7eb6c8ace8",
            "162bc6f1e28146f08d6788ceb6933f9e",
            "ef027a5d1d7b41318b1449fdc659cc23",
            "af4971c0232245b88046cf35b827eac5",
            "6fd68c48c8a741a2a5418f67234b5d9e",
            "4535875c2f7e420eae55ec1c632da33d",
            "fa37803d1f8041c8bddb9738772548cb",
            "35216fdca55f462994f258bf0d1d6dd9",
            "2f4f896499cb4105a9418f569e449dd5",
            "b5ee25c56cb6488986c55ae025d3e8df",
            "3118c05de5d241e49dba16acd16a9f5e",
            "319aa424324e45b2bc02578bf458363d",
            "eac6c5b3b086453c9865f4128877cf75",
            "727b76d6a6a5416abe090617ad4fde4d",
            "a80a735f433c47428931762b9cca3fb9",
            "75bf0ec375284e1da74ec055238b7937",
            "c9dfd14ddaf2430da72a604b311c60d5",
            "208ae57d2e794fef9b8e1553f09e776a",
            "81728c790c4640849287358acb20c78f",
            "f9cc08aa3a674e6b92ebb85dc890c58e",
            "f16857df01fb45a98f5f5d65eb2267d8",
            "59b945e724684f5684df0a2420d3d9b6",
            "ad41305f55f247b88b97ed7ee657907c",
            "a4c7475d67d94a8daa0792bb3d44b91a",
            "048ba86651954fa0a88ef955ebd599f5",
            "bd7c94a6702a44c498c84a60ae7abbf4",
            "3514338e31ab466da3958223736ef9c7",
            "292082f6b95742febc44cbae0172a169",
            "004281bebc9547fe998cc11947421f6f",
            "57e1cf3a55e644cbb8e433e3947326b5",
            "fece45009af346fcaf974063b56134b4",
            "a30920385a6a4286be7e7377b5a50046"
          ]
        },
        "id": "hwvAfZIfiEnV",
        "outputId": "94965371-3a11-439e-8a66-cc4ba31ecb24"
      },
      "outputs": [
        {
          "output_type": "display_data",
          "data": {
            "application/vnd.jupyter.widget-view+json": {
              "model_id": "fa8fa63aac944b54bc016184d7d03393",
              "version_minor": 0,
              "version_major": 2
            },
            "text/plain": [
              "Eval_CV:   0%|          | 0/5 [00:00<?, ?it/s]"
            ]
          },
          "metadata": {}
        },
        {
          "output_type": "display_data",
          "data": {
            "application/vnd.jupyter.widget-view+json": {
              "model_id": "0b8b4893da43471982134907d60caad3",
              "version_minor": 0,
              "version_major": 2
            },
            "text/plain": [
              "Stack_CV:   0%|          | 0/5 [00:00<?, ?it/s]"
            ]
          },
          "metadata": {}
        },
        {
          "output_type": "stream",
          "name": "stdout",
          "text": [
            "Training log_RMSE: 0.10810210467502773\n",
            "Estimated coefficients: [0.27401265 0.05808763 0.68821811] \n",
            " intercept: -0.24180181972667114\n"
          ]
        },
        {
          "output_type": "display_data",
          "data": {
            "application/vnd.jupyter.widget-view+json": {
              "model_id": "4028760a817349e28ed31f9151cb2cc2",
              "version_minor": 0,
              "version_major": 2
            },
            "text/plain": [
              "Stack_CV:   0%|          | 0/5 [00:00<?, ?it/s]"
            ]
          },
          "metadata": {}
        },
        {
          "output_type": "stream",
          "name": "stdout",
          "text": [
            "Training log_RMSE: 0.11427582759435978\n",
            "Estimated coefficients: [ 0.23754223 -0.01259877  0.78288326] \n",
            " intercept: -0.08966468623819424\n"
          ]
        },
        {
          "output_type": "display_data",
          "data": {
            "application/vnd.jupyter.widget-view+json": {
              "model_id": "bb8372ed9fcf41edaa94b92b9fff3c3f",
              "version_minor": 0,
              "version_major": 2
            },
            "text/plain": [
              "Stack_CV:   0%|          | 0/5 [00:00<?, ?it/s]"
            ]
          },
          "metadata": {}
        },
        {
          "output_type": "stream",
          "name": "stdout",
          "text": [
            "Training log_RMSE: 0.1156317207554122\n",
            "Estimated coefficients: [0.29664346 0.08230907 0.63684453] \n",
            " intercept: -0.18502107724683903\n"
          ]
        },
        {
          "output_type": "display_data",
          "data": {
            "application/vnd.jupyter.widget-view+json": {
              "model_id": "3118c05de5d241e49dba16acd16a9f5e",
              "version_minor": 0,
              "version_major": 2
            },
            "text/plain": [
              "Stack_CV:   0%|          | 0/5 [00:00<?, ?it/s]"
            ]
          },
          "metadata": {}
        },
        {
          "output_type": "stream",
          "name": "stdout",
          "text": [
            "Training log_RMSE: 0.11503571766841739\n",
            "Estimated coefficients: [0.31205747 0.0252778  0.67308552] \n",
            " intercept: -0.1242206783917581\n"
          ]
        },
        {
          "output_type": "display_data",
          "data": {
            "application/vnd.jupyter.widget-view+json": {
              "model_id": "59b945e724684f5684df0a2420d3d9b6",
              "version_minor": 0,
              "version_major": 2
            },
            "text/plain": [
              "Stack_CV:   0%|          | 0/5 [00:00<?, ?it/s]"
            ]
          },
          "metadata": {}
        },
        {
          "output_type": "stream",
          "name": "stdout",
          "text": [
            "Training log_RMSE: 0.11203656772425526\n",
            "Estimated coefficients: [0.23375702 0.09334191 0.68823474] \n",
            " intercept: -0.180868657111807\n"
          ]
        }
      ],
      "source": [
        "from sklearn.linear_model import SGDRegressor\n",
        "from sklearn.ensemble import RandomForestRegressor\n",
        "from xgboost import XGBRegressor\n",
        "from sklearn.linear_model import LinearRegression\n",
        "from sklearn.linear_model import Ridge\n",
        "\n",
        "linear = SGDRegressor(**eval(best_cv_df.loc[best_cv_df['model']=='linear', 'best_hyper_param'].values[0]))\n",
        "svm = SGDRegressor(**eval(best_cv_df.loc[best_cv_df['model']=='svm', 'best_hyper_param'].values[0]))\n",
        "rf = RandomForestRegressor(**eval(best_cv_df.loc[best_cv_df['model']=='rf', 'best_hyper_param'].values[0]))\n",
        "xgb = XGBRegressor(**eval(best_cv_df.loc[best_cv_df['model']=='xgb', 'best_hyper_param'].values[0]))\n",
        "mlp = mlp.set_params(**eval(best_cv_df.loc[best_cv_df['model']=='mlp', 'best_hyper_param'].values[0]))\n",
        "\n",
        "estimators = [svm, rf, xgb]\n",
        "estimators_name = 'svm_rf_xgb'\n",
        "\n",
        "# Final estimator\n",
        "reg = LinearRegression()\n",
        "\n",
        "estimators.append(reg)\n",
        "ensemble_func = stack_reg\n",
        "ensemble_name = 'stack_linear' + '_by_' + estimators_name\n",
        "\n",
        "# Run CV \n",
        "X = X_train\n",
        "y = y_train_trans\n",
        "\n",
        "res_df = CV_ensemble(ensemble_name, ensemble_func, estimators, X, y, n_folds=5, shuffle=True, random_state=config['random_state'])\n",
        "best_cv_df = best_cv_df.append(res_df)"
      ]
    },
    {
      "cell_type": "code",
      "source": [
        "import os \n",
        "save_path = '/content/drive/MyDrive/Work/Kaggle/{}/Result'.format(config['data_name'])\n",
        "if not os.path.exists(save_path):\n",
        "  os.makedirs(save_path)\n",
        "file_path = os.path.join(save_path, 'best_cv_results.csv')\n",
        "best_cv_df.to_csv(file_path, index=False)"
      ],
      "metadata": {
        "id": "n8APHhBXLVGT"
      },
      "execution_count": null,
      "outputs": []
    },
    {
      "cell_type": "markdown",
      "source": [
        "## 2-4. Model Comparison based on CV results including model combination methods\n",
        "\n",
        "Based on the figure below, we can observe that the  'stack_ridge_by_rf_xgb_mlp_fm' method as our best model"
      ],
      "metadata": {
        "id": "0vd4FIhJVLCf"
      }
    },
    {
      "cell_type": "code",
      "execution_count": null,
      "metadata": {
        "id": "FO2RJicCk01q",
        "colab": {
          "base_uri": "https://localhost:8080/",
          "height": 542
        },
        "outputId": "8fc37918-66ac-4800-c48f-e47891cfb0a1"
      },
      "outputs": [
        {
          "output_type": "display_data",
          "data": {
            "text/html": [
              "<html>\n",
              "<head><meta charset=\"utf-8\" /></head>\n",
              "<body>\n",
              "    <div>            <script src=\"https://cdnjs.cloudflare.com/ajax/libs/mathjax/2.7.5/MathJax.js?config=TeX-AMS-MML_SVG\"></script><script type=\"text/javascript\">if (window.MathJax) {MathJax.Hub.Config({SVG: {font: \"STIX-Web\"}});}</script>                <script type=\"text/javascript\">window.PlotlyConfig = {MathJaxConfig: 'local'};</script>\n",
              "        <script src=\"https://cdn.plot.ly/plotly-2.8.3.min.js\"></script>                <div id=\"d0d3ea98-3fa3-4969-a604-70dd30630f13\" class=\"plotly-graph-div\" style=\"height:525px; width:600px;\"></div>            <script type=\"text/javascript\">                                    window.PLOTLYENV=window.PLOTLYENV || {};                                    if (document.getElementById(\"d0d3ea98-3fa3-4969-a604-70dd30630f13\")) {                    Plotly.newPlot(                        \"d0d3ea98-3fa3-4969-a604-70dd30630f13\",                        [{\"alignmentgroup\":\"True\",\"hovertemplate\":\"model=%{x}<br>log_RMSE=%{y}<extra></extra>\",\"legendgroup\":\"linear\",\"marker\":{\"color\":\"#636efa\"},\"name\":\"linear\",\"notched\":false,\"offsetgroup\":\"linear\",\"orientation\":\"v\",\"showlegend\":true,\"x\":[\"linear\",\"linear\",\"linear\",\"linear\",\"linear\"],\"x0\":\" \",\"xaxis\":\"x\",\"y\":[-0.1377942037226278,-0.1651928370995285,-0.1469215459716268,-0.1336266050244698,-0.1541363097149825],\"y0\":\" \",\"yaxis\":\"y\",\"type\":\"box\"},{\"alignmentgroup\":\"True\",\"hovertemplate\":\"model=%{x}<br>log_RMSE=%{y}<extra></extra>\",\"legendgroup\":\"svm\",\"marker\":{\"color\":\"#EF553B\"},\"name\":\"svm\",\"notched\":false,\"offsetgroup\":\"svm\",\"orientation\":\"v\",\"showlegend\":true,\"x\":[\"svm\",\"svm\",\"svm\",\"svm\",\"svm\"],\"x0\":\" \",\"xaxis\":\"x\",\"y\":[-0.1276207366391868,-0.1474625138080595,-0.1379257196501478,-0.1267162453221795,-0.1433871328363394],\"y0\":\" \",\"yaxis\":\"y\",\"type\":\"box\"},{\"alignmentgroup\":\"True\",\"hovertemplate\":\"model=%{x}<br>log_RMSE=%{y}<extra></extra>\",\"legendgroup\":\"rf\",\"marker\":{\"color\":\"#00cc96\"},\"name\":\"rf\",\"notched\":false,\"offsetgroup\":\"rf\",\"orientation\":\"v\",\"showlegend\":true,\"x\":[\"rf\",\"rf\",\"rf\",\"rf\",\"rf\"],\"x0\":\" \",\"xaxis\":\"x\",\"y\":[-0.1363786408083483,-0.1285614064686858,-0.1381038365327425,-0.1344547504761138,-0.1371396188521684],\"y0\":\" \",\"yaxis\":\"y\",\"type\":\"box\"},{\"alignmentgroup\":\"True\",\"hovertemplate\":\"model=%{x}<br>log_RMSE=%{y}<extra></extra>\",\"legendgroup\":\"xgb\",\"marker\":{\"color\":\"#ab63fa\"},\"name\":\"xgb\",\"notched\":false,\"offsetgroup\":\"xgb\",\"orientation\":\"v\",\"showlegend\":true,\"x\":[\"xgb\",\"xgb\",\"xgb\",\"xgb\",\"xgb\"],\"x0\":\" \",\"xaxis\":\"x\",\"y\":[-0.1128894984722137,-0.1116650402545929,-0.1213516220450401,-0.1168353930115699,-0.1127547994256019],\"y0\":\" \",\"yaxis\":\"y\",\"type\":\"box\"},{\"alignmentgroup\":\"True\",\"hovertemplate\":\"model=%{x}<br>log_RMSE=%{y}<extra></extra>\",\"legendgroup\":\"mlp\",\"marker\":{\"color\":\"#FFA15A\"},\"name\":\"mlp\",\"notched\":false,\"offsetgroup\":\"mlp\",\"orientation\":\"v\",\"showlegend\":true,\"x\":[\"mlp\",\"mlp\",\"mlp\",\"mlp\",\"mlp\"],\"x0\":\" \",\"xaxis\":\"x\",\"y\":[-0.1469684690237045,-0.1695849001407623,-0.1490651667118072,-0.1430636197328567,-0.161231443285942],\"y0\":\" \",\"yaxis\":\"y\",\"type\":\"box\"},{\"alignmentgroup\":\"True\",\"hovertemplate\":\"model=%{x}<br>log_RMSE=%{y}<extra></extra>\",\"legendgroup\":\"average_by_svm_rf_xgb\",\"marker\":{\"color\":\"#19d3f3\"},\"name\":\"average_by_svm_rf_xgb\",\"notched\":false,\"offsetgroup\":\"average_by_svm_rf_xgb\",\"orientation\":\"v\",\"showlegend\":true,\"x\":[\"average_by_svm_rf_xgb\",\"average_by_svm_rf_xgb\",\"average_by_svm_rf_xgb\",\"average_by_svm_rf_xgb\",\"average_by_svm_rf_xgb\"],\"x0\":\" \",\"xaxis\":\"x\",\"y\":[\"-0.12828510780747313\",\"-0.09996560163659597\",\"-0.10444982647572729\",\"-0.10970646971592768\",\"-0.12173034483360033\"],\"y0\":\" \",\"yaxis\":\"y\",\"type\":\"box\"},{\"alignmentgroup\":\"True\",\"hovertemplate\":\"model=%{x}<br>log_RMSE=%{y}<extra></extra>\",\"legendgroup\":\"stack_linear_by_svm_rf_xgb\",\"marker\":{\"color\":\"#FF6692\"},\"name\":\"stack_linear_by_svm_rf_xgb\",\"notched\":false,\"offsetgroup\":\"stack_linear_by_svm_rf_xgb\",\"orientation\":\"v\",\"showlegend\":true,\"x\":[\"stack_linear_by_svm_rf_xgb\",\"stack_linear_by_svm_rf_xgb\",\"stack_linear_by_svm_rf_xgb\",\"stack_linear_by_svm_rf_xgb\",\"stack_linear_by_svm_rf_xgb\"],\"x0\":\" \",\"xaxis\":\"x\",\"y\":[\"-0.12421480973900985\",\"-0.1031061947140801\",\"-0.10273817807197129\",\"-0.10724565860443216\",\"-0.11707311522644025\"],\"y0\":\" \",\"yaxis\":\"y\",\"type\":\"box\"}],                        {\"template\":{\"data\":{\"bar\":[{\"error_x\":{\"color\":\"#2a3f5f\"},\"error_y\":{\"color\":\"#2a3f5f\"},\"marker\":{\"line\":{\"color\":\"#E5ECF6\",\"width\":0.5},\"pattern\":{\"fillmode\":\"overlay\",\"size\":10,\"solidity\":0.2}},\"type\":\"bar\"}],\"barpolar\":[{\"marker\":{\"line\":{\"color\":\"#E5ECF6\",\"width\":0.5},\"pattern\":{\"fillmode\":\"overlay\",\"size\":10,\"solidity\":0.2}},\"type\":\"barpolar\"}],\"carpet\":[{\"aaxis\":{\"endlinecolor\":\"#2a3f5f\",\"gridcolor\":\"white\",\"linecolor\":\"white\",\"minorgridcolor\":\"white\",\"startlinecolor\":\"#2a3f5f\"},\"baxis\":{\"endlinecolor\":\"#2a3f5f\",\"gridcolor\":\"white\",\"linecolor\":\"white\",\"minorgridcolor\":\"white\",\"startlinecolor\":\"#2a3f5f\"},\"type\":\"carpet\"}],\"choropleth\":[{\"colorbar\":{\"outlinewidth\":0,\"ticks\":\"\"},\"type\":\"choropleth\"}],\"contour\":[{\"colorbar\":{\"outlinewidth\":0,\"ticks\":\"\"},\"colorscale\":[[0.0,\"#0d0887\"],[0.1111111111111111,\"#46039f\"],[0.2222222222222222,\"#7201a8\"],[0.3333333333333333,\"#9c179e\"],[0.4444444444444444,\"#bd3786\"],[0.5555555555555556,\"#d8576b\"],[0.6666666666666666,\"#ed7953\"],[0.7777777777777778,\"#fb9f3a\"],[0.8888888888888888,\"#fdca26\"],[1.0,\"#f0f921\"]],\"type\":\"contour\"}],\"contourcarpet\":[{\"colorbar\":{\"outlinewidth\":0,\"ticks\":\"\"},\"type\":\"contourcarpet\"}],\"heatmap\":[{\"colorbar\":{\"outlinewidth\":0,\"ticks\":\"\"},\"colorscale\":[[0.0,\"#0d0887\"],[0.1111111111111111,\"#46039f\"],[0.2222222222222222,\"#7201a8\"],[0.3333333333333333,\"#9c179e\"],[0.4444444444444444,\"#bd3786\"],[0.5555555555555556,\"#d8576b\"],[0.6666666666666666,\"#ed7953\"],[0.7777777777777778,\"#fb9f3a\"],[0.8888888888888888,\"#fdca26\"],[1.0,\"#f0f921\"]],\"type\":\"heatmap\"}],\"heatmapgl\":[{\"colorbar\":{\"outlinewidth\":0,\"ticks\":\"\"},\"colorscale\":[[0.0,\"#0d0887\"],[0.1111111111111111,\"#46039f\"],[0.2222222222222222,\"#7201a8\"],[0.3333333333333333,\"#9c179e\"],[0.4444444444444444,\"#bd3786\"],[0.5555555555555556,\"#d8576b\"],[0.6666666666666666,\"#ed7953\"],[0.7777777777777778,\"#fb9f3a\"],[0.8888888888888888,\"#fdca26\"],[1.0,\"#f0f921\"]],\"type\":\"heatmapgl\"}],\"histogram\":[{\"marker\":{\"pattern\":{\"fillmode\":\"overlay\",\"size\":10,\"solidity\":0.2}},\"type\":\"histogram\"}],\"histogram2d\":[{\"colorbar\":{\"outlinewidth\":0,\"ticks\":\"\"},\"colorscale\":[[0.0,\"#0d0887\"],[0.1111111111111111,\"#46039f\"],[0.2222222222222222,\"#7201a8\"],[0.3333333333333333,\"#9c179e\"],[0.4444444444444444,\"#bd3786\"],[0.5555555555555556,\"#d8576b\"],[0.6666666666666666,\"#ed7953\"],[0.7777777777777778,\"#fb9f3a\"],[0.8888888888888888,\"#fdca26\"],[1.0,\"#f0f921\"]],\"type\":\"histogram2d\"}],\"histogram2dcontour\":[{\"colorbar\":{\"outlinewidth\":0,\"ticks\":\"\"},\"colorscale\":[[0.0,\"#0d0887\"],[0.1111111111111111,\"#46039f\"],[0.2222222222222222,\"#7201a8\"],[0.3333333333333333,\"#9c179e\"],[0.4444444444444444,\"#bd3786\"],[0.5555555555555556,\"#d8576b\"],[0.6666666666666666,\"#ed7953\"],[0.7777777777777778,\"#fb9f3a\"],[0.8888888888888888,\"#fdca26\"],[1.0,\"#f0f921\"]],\"type\":\"histogram2dcontour\"}],\"mesh3d\":[{\"colorbar\":{\"outlinewidth\":0,\"ticks\":\"\"},\"type\":\"mesh3d\"}],\"parcoords\":[{\"line\":{\"colorbar\":{\"outlinewidth\":0,\"ticks\":\"\"}},\"type\":\"parcoords\"}],\"pie\":[{\"automargin\":true,\"type\":\"pie\"}],\"scatter\":[{\"marker\":{\"colorbar\":{\"outlinewidth\":0,\"ticks\":\"\"}},\"type\":\"scatter\"}],\"scatter3d\":[{\"line\":{\"colorbar\":{\"outlinewidth\":0,\"ticks\":\"\"}},\"marker\":{\"colorbar\":{\"outlinewidth\":0,\"ticks\":\"\"}},\"type\":\"scatter3d\"}],\"scattercarpet\":[{\"marker\":{\"colorbar\":{\"outlinewidth\":0,\"ticks\":\"\"}},\"type\":\"scattercarpet\"}],\"scattergeo\":[{\"marker\":{\"colorbar\":{\"outlinewidth\":0,\"ticks\":\"\"}},\"type\":\"scattergeo\"}],\"scattergl\":[{\"marker\":{\"colorbar\":{\"outlinewidth\":0,\"ticks\":\"\"}},\"type\":\"scattergl\"}],\"scattermapbox\":[{\"marker\":{\"colorbar\":{\"outlinewidth\":0,\"ticks\":\"\"}},\"type\":\"scattermapbox\"}],\"scatterpolar\":[{\"marker\":{\"colorbar\":{\"outlinewidth\":0,\"ticks\":\"\"}},\"type\":\"scatterpolar\"}],\"scatterpolargl\":[{\"marker\":{\"colorbar\":{\"outlinewidth\":0,\"ticks\":\"\"}},\"type\":\"scatterpolargl\"}],\"scatterternary\":[{\"marker\":{\"colorbar\":{\"outlinewidth\":0,\"ticks\":\"\"}},\"type\":\"scatterternary\"}],\"surface\":[{\"colorbar\":{\"outlinewidth\":0,\"ticks\":\"\"},\"colorscale\":[[0.0,\"#0d0887\"],[0.1111111111111111,\"#46039f\"],[0.2222222222222222,\"#7201a8\"],[0.3333333333333333,\"#9c179e\"],[0.4444444444444444,\"#bd3786\"],[0.5555555555555556,\"#d8576b\"],[0.6666666666666666,\"#ed7953\"],[0.7777777777777778,\"#fb9f3a\"],[0.8888888888888888,\"#fdca26\"],[1.0,\"#f0f921\"]],\"type\":\"surface\"}],\"table\":[{\"cells\":{\"fill\":{\"color\":\"#EBF0F8\"},\"line\":{\"color\":\"white\"}},\"header\":{\"fill\":{\"color\":\"#C8D4E3\"},\"line\":{\"color\":\"white\"}},\"type\":\"table\"}]},\"layout\":{\"annotationdefaults\":{\"arrowcolor\":\"#2a3f5f\",\"arrowhead\":0,\"arrowwidth\":1},\"autotypenumbers\":\"strict\",\"coloraxis\":{\"colorbar\":{\"outlinewidth\":0,\"ticks\":\"\"}},\"colorscale\":{\"diverging\":[[0,\"#8e0152\"],[0.1,\"#c51b7d\"],[0.2,\"#de77ae\"],[0.3,\"#f1b6da\"],[0.4,\"#fde0ef\"],[0.5,\"#f7f7f7\"],[0.6,\"#e6f5d0\"],[0.7,\"#b8e186\"],[0.8,\"#7fbc41\"],[0.9,\"#4d9221\"],[1,\"#276419\"]],\"sequential\":[[0.0,\"#0d0887\"],[0.1111111111111111,\"#46039f\"],[0.2222222222222222,\"#7201a8\"],[0.3333333333333333,\"#9c179e\"],[0.4444444444444444,\"#bd3786\"],[0.5555555555555556,\"#d8576b\"],[0.6666666666666666,\"#ed7953\"],[0.7777777777777778,\"#fb9f3a\"],[0.8888888888888888,\"#fdca26\"],[1.0,\"#f0f921\"]],\"sequentialminus\":[[0.0,\"#0d0887\"],[0.1111111111111111,\"#46039f\"],[0.2222222222222222,\"#7201a8\"],[0.3333333333333333,\"#9c179e\"],[0.4444444444444444,\"#bd3786\"],[0.5555555555555556,\"#d8576b\"],[0.6666666666666666,\"#ed7953\"],[0.7777777777777778,\"#fb9f3a\"],[0.8888888888888888,\"#fdca26\"],[1.0,\"#f0f921\"]]},\"colorway\":[\"#636efa\",\"#EF553B\",\"#00cc96\",\"#ab63fa\",\"#FFA15A\",\"#19d3f3\",\"#FF6692\",\"#B6E880\",\"#FF97FF\",\"#FECB52\"],\"font\":{\"color\":\"#2a3f5f\"},\"geo\":{\"bgcolor\":\"white\",\"lakecolor\":\"white\",\"landcolor\":\"#E5ECF6\",\"showlakes\":true,\"showland\":true,\"subunitcolor\":\"white\"},\"hoverlabel\":{\"align\":\"left\"},\"hovermode\":\"closest\",\"mapbox\":{\"style\":\"light\"},\"paper_bgcolor\":\"white\",\"plot_bgcolor\":\"#E5ECF6\",\"polar\":{\"angularaxis\":{\"gridcolor\":\"white\",\"linecolor\":\"white\",\"ticks\":\"\"},\"bgcolor\":\"#E5ECF6\",\"radialaxis\":{\"gridcolor\":\"white\",\"linecolor\":\"white\",\"ticks\":\"\"}},\"scene\":{\"xaxis\":{\"backgroundcolor\":\"#E5ECF6\",\"gridcolor\":\"white\",\"gridwidth\":2,\"linecolor\":\"white\",\"showbackground\":true,\"ticks\":\"\",\"zerolinecolor\":\"white\"},\"yaxis\":{\"backgroundcolor\":\"#E5ECF6\",\"gridcolor\":\"white\",\"gridwidth\":2,\"linecolor\":\"white\",\"showbackground\":true,\"ticks\":\"\",\"zerolinecolor\":\"white\"},\"zaxis\":{\"backgroundcolor\":\"#E5ECF6\",\"gridcolor\":\"white\",\"gridwidth\":2,\"linecolor\":\"white\",\"showbackground\":true,\"ticks\":\"\",\"zerolinecolor\":\"white\"}},\"shapedefaults\":{\"line\":{\"color\":\"#2a3f5f\"}},\"ternary\":{\"aaxis\":{\"gridcolor\":\"white\",\"linecolor\":\"white\",\"ticks\":\"\"},\"baxis\":{\"gridcolor\":\"white\",\"linecolor\":\"white\",\"ticks\":\"\"},\"bgcolor\":\"#E5ECF6\",\"caxis\":{\"gridcolor\":\"white\",\"linecolor\":\"white\",\"ticks\":\"\"}},\"title\":{\"x\":0.05},\"xaxis\":{\"automargin\":true,\"gridcolor\":\"white\",\"linecolor\":\"white\",\"ticks\":\"\",\"title\":{\"standoff\":15},\"zerolinecolor\":\"white\",\"zerolinewidth\":2},\"yaxis\":{\"automargin\":true,\"gridcolor\":\"white\",\"linecolor\":\"white\",\"ticks\":\"\",\"title\":{\"standoff\":15},\"zerolinecolor\":\"white\",\"zerolinewidth\":2}}},\"xaxis\":{\"anchor\":\"y\",\"domain\":[0.0,1.0],\"title\":{\"text\":\"model\"},\"categoryorder\":\"array\",\"categoryarray\":[\"linear\",\"svm\",\"rf\",\"xgb\",\"mlp\",\"average_by_svm_rf_xgb\",\"stack_linear_by_svm_rf_xgb\"]},\"yaxis\":{\"anchor\":\"x\",\"domain\":[0.0,1.0],\"title\":{\"text\":\"log_RMSE\"}},\"legend\":{\"title\":{\"text\":\"model\"},\"tracegroupgap\":0},\"margin\":{\"t\":60},\"boxmode\":\"overlay\",\"width\":600},                        {\"responsive\": true}                    ).then(function(){\n",
              "                            \n",
              "var gd = document.getElementById('d0d3ea98-3fa3-4969-a604-70dd30630f13');\n",
              "var x = new MutationObserver(function (mutations, observer) {{\n",
              "        var display = window.getComputedStyle(gd).display;\n",
              "        if (!display || display === 'none') {{\n",
              "            console.log([gd, 'removed!']);\n",
              "            Plotly.purge(gd);\n",
              "            observer.disconnect();\n",
              "        }}\n",
              "}});\n",
              "\n",
              "// Listen for the removal of the full notebook cells\n",
              "var notebookContainer = gd.closest('#notebook-container');\n",
              "if (notebookContainer) {{\n",
              "    x.observe(notebookContainer, {childList: true});\n",
              "}}\n",
              "\n",
              "// Listen for the clearing of the current output cell\n",
              "var outputEl = gd.closest('.output');\n",
              "if (outputEl) {{\n",
              "    x.observe(outputEl, {childList: true});\n",
              "}}\n",
              "\n",
              "                        })                };                            </script>        </div>\n",
              "</body>\n",
              "</html>"
            ]
          },
          "metadata": {}
        }
      ],
      "source": [
        "fig = px.box(best_cv_df, x='model', y='log_RMSE', color='model', width=600)\n",
        "fig.show()"
      ]
    },
    {
      "cell_type": "markdown",
      "source": [
        "# 3. Make a prediction with the best model"
      ],
      "metadata": {
        "id": "yDnorQYRQ0hi"
      }
    },
    {
      "cell_type": "code",
      "source": [
        "from sklearn.linear_model import SGDRegressor\n",
        "from sklearn.ensemble import RandomForestRegressor\n",
        "from xgboost import XGBRegressor\n",
        "from sklearn.linear_model import LinearRegression\n",
        "from sklearn.linear_model import Ridge\n",
        "\n",
        "linear = SGDRegressor(**eval(best_cv_df.loc[best_cv_df['model']=='linear', 'best_hyper_param'].values[0]))\n",
        "svm = SGDRegressor(**eval(best_cv_df.loc[best_cv_df['model']=='svm', 'best_hyper_param'].values[0]))\n",
        "rf = RandomForestRegressor(**eval(best_cv_df.loc[best_cv_df['model']=='rf', 'best_hyper_param'].values[0]))\n",
        "xgb = XGBRegressor(**eval(best_cv_df.loc[best_cv_df['model']=='xgb', 'best_hyper_param'].values[0]))\n",
        "mlp = mlp.set_params(**eval(best_cv_df.loc[best_cv_df['model']=='mlp', 'best_hyper_param'].values[0]))\n",
        "\n",
        "estimators = [svm, rf, xgb]\n",
        "estimators_name = 'svm_rf_xgb'\n",
        "\n",
        "# Final estimator\n",
        "reg = LinearRegression()\n",
        "\n",
        "estimators.append(reg)\n",
        "ensemble_func = stack_reg\n",
        "ensemble_name = 'stack_linear' + '_by_' + estimators_name\n",
        "\n",
        "# Run CV \n",
        "pred = stack_reg(estimators, X_train, y_train_trans, X_test, n_folds=5, shuffle=True, random_state=config['random_state'])\n",
        "pred_trans = np.expm1(pred)\n",
        "res_df = pd.DataFrame({'Id': test['Id'], 'SalePrice': pred_trans})\n",
        "res_df.to_csv('{}.csv'.format(ensemble_name), index=False)"
      ],
      "metadata": {
        "colab": {
          "base_uri": "https://localhost:8080/",
          "height": 102,
          "referenced_widgets": [
            "e50aa07d520146628951ab3fd29601ca",
            "204fdb63ebbe4e459fcdaa0e3fd689e5",
            "f805c44dacad42f5ac98941218fe1c95",
            "2394adb7cd3c4e02b1762e171827b57d",
            "0292e5c1b1db46f4b98e04487e634c25",
            "83e1ae0e77134a32b646044ed7577c02",
            "48c7c5102c494269a706bc64414f7623",
            "d28849d03470466d90177d5813ad4886",
            "e0c4901683a94c4998418fd3bd07a05c",
            "8ac5dbfc9da346e39e0f3881a9b3efed",
            "03d94941b0a8499bbad2488cc637fa82"
          ]
        },
        "id": "aDiA_VtdPvA3",
        "outputId": "21a06e0c-f2f3-4363-91e5-6e44c38acffe"
      },
      "execution_count": null,
      "outputs": [
        {
          "output_type": "display_data",
          "data": {
            "application/vnd.jupyter.widget-view+json": {
              "model_id": "e50aa07d520146628951ab3fd29601ca",
              "version_minor": 0,
              "version_major": 2
            },
            "text/plain": [
              "Stack_CV:   0%|          | 0/5 [00:00<?, ?it/s]"
            ]
          },
          "metadata": {}
        },
        {
          "output_type": "stream",
          "name": "stdout",
          "text": [
            "Training log_RMSE: 0.11061168615904916\n",
            "Estimated coefficients: [0.31402843 0.01302107 0.68199393] \n",
            " intercept: -0.11058324160234356\n"
          ]
        }
      ]
    }
  ],
  "metadata": {
    "colab": {
      "collapsed_sections": [],
      "name": "(Kaggle)House_price.ipynb",
      "provenance": [],
      "authorship_tag": "ABX9TyPyW5pTXBLr/A7APEiSlIAQ"
    },
    "kernelspec": {
      "display_name": "Python 3",
      "name": "python3"
    },
    "language_info": {
      "name": "python"
    },
    "widgets": {
      "application/vnd.jupyter.widget-state+json": {
        "3ed72317113348389ec4db1dac3ad7d1": {
          "model_module": "@jupyter-widgets/controls",
          "model_name": "HBoxModel",
          "model_module_version": "1.5.0",
          "state": {
            "_view_name": "HBoxView",
            "_dom_classes": [],
            "_model_name": "HBoxModel",
            "_view_module": "@jupyter-widgets/controls",
            "_model_module_version": "1.5.0",
            "_view_count": null,
            "_view_module_version": "1.5.0",
            "box_style": "",
            "layout": "IPY_MODEL_76147f5132e449a08836340e99e5a13a",
            "_model_module": "@jupyter-widgets/controls",
            "children": [
              "IPY_MODEL_dfd08405565047fe974098f77e1e4710",
              "IPY_MODEL_0c4ff108c30d4bcaaaab062212ce677d",
              "IPY_MODEL_84fd8b4a36684a0091a8b21f9f5cec09"
            ]
          }
        },
        "76147f5132e449a08836340e99e5a13a": {
          "model_module": "@jupyter-widgets/base",
          "model_name": "LayoutModel",
          "model_module_version": "1.2.0",
          "state": {
            "_view_name": "LayoutView",
            "grid_template_rows": null,
            "right": null,
            "justify_content": null,
            "_view_module": "@jupyter-widgets/base",
            "overflow": null,
            "_model_module_version": "1.2.0",
            "_view_count": null,
            "flex_flow": null,
            "width": null,
            "min_width": null,
            "border": null,
            "align_items": null,
            "bottom": null,
            "_model_module": "@jupyter-widgets/base",
            "top": null,
            "grid_column": null,
            "overflow_y": null,
            "overflow_x": null,
            "grid_auto_flow": null,
            "grid_area": null,
            "grid_template_columns": null,
            "flex": null,
            "_model_name": "LayoutModel",
            "justify_items": null,
            "grid_row": null,
            "max_height": null,
            "align_content": null,
            "visibility": null,
            "align_self": null,
            "height": null,
            "min_height": null,
            "padding": null,
            "grid_auto_rows": null,
            "grid_gap": null,
            "max_width": null,
            "order": null,
            "_view_module_version": "1.2.0",
            "grid_template_areas": null,
            "object_position": null,
            "object_fit": null,
            "grid_auto_columns": null,
            "margin": null,
            "display": null,
            "left": null
          }
        },
        "dfd08405565047fe974098f77e1e4710": {
          "model_module": "@jupyter-widgets/controls",
          "model_name": "HTMLModel",
          "model_module_version": "1.5.0",
          "state": {
            "_view_name": "HTMLView",
            "style": "IPY_MODEL_d5c6bbecce0e4404b52fbe2404200ea0",
            "_dom_classes": [],
            "description": "",
            "_model_name": "HTMLModel",
            "placeholder": "​",
            "_view_module": "@jupyter-widgets/controls",
            "_model_module_version": "1.5.0",
            "value": "Eval_CV: 100%",
            "_view_count": null,
            "_view_module_version": "1.5.0",
            "description_tooltip": null,
            "_model_module": "@jupyter-widgets/controls",
            "layout": "IPY_MODEL_2c37c1f283584116800e4a677f21e437"
          }
        },
        "0c4ff108c30d4bcaaaab062212ce677d": {
          "model_module": "@jupyter-widgets/controls",
          "model_name": "FloatProgressModel",
          "model_module_version": "1.5.0",
          "state": {
            "_view_name": "ProgressView",
            "style": "IPY_MODEL_87f61104f6844f4e8606e73fe3f4934e",
            "_dom_classes": [],
            "description": "",
            "_model_name": "FloatProgressModel",
            "bar_style": "success",
            "max": 5,
            "_view_module": "@jupyter-widgets/controls",
            "_model_module_version": "1.5.0",
            "value": 5,
            "_view_count": null,
            "_view_module_version": "1.5.0",
            "orientation": "horizontal",
            "min": 0,
            "description_tooltip": null,
            "_model_module": "@jupyter-widgets/controls",
            "layout": "IPY_MODEL_17cd466bbdbd4f05a94920f32afe2110"
          }
        },
        "84fd8b4a36684a0091a8b21f9f5cec09": {
          "model_module": "@jupyter-widgets/controls",
          "model_name": "HTMLModel",
          "model_module_version": "1.5.0",
          "state": {
            "_view_name": "HTMLView",
            "style": "IPY_MODEL_3268d4ef3183464db5eff487f64891dc",
            "_dom_classes": [],
            "description": "",
            "_model_name": "HTMLModel",
            "placeholder": "​",
            "_view_module": "@jupyter-widgets/controls",
            "_model_module_version": "1.5.0",
            "value": " 5/5 [03:49&lt;00:00, 45.22s/it]",
            "_view_count": null,
            "_view_module_version": "1.5.0",
            "description_tooltip": null,
            "_model_module": "@jupyter-widgets/controls",
            "layout": "IPY_MODEL_b95b516052324d3fb0ba3ea38b787e42"
          }
        },
        "d5c6bbecce0e4404b52fbe2404200ea0": {
          "model_module": "@jupyter-widgets/controls",
          "model_name": "DescriptionStyleModel",
          "model_module_version": "1.5.0",
          "state": {
            "_view_name": "StyleView",
            "_model_name": "DescriptionStyleModel",
            "description_width": "",
            "_view_module": "@jupyter-widgets/base",
            "_model_module_version": "1.5.0",
            "_view_count": null,
            "_view_module_version": "1.2.0",
            "_model_module": "@jupyter-widgets/controls"
          }
        },
        "2c37c1f283584116800e4a677f21e437": {
          "model_module": "@jupyter-widgets/base",
          "model_name": "LayoutModel",
          "model_module_version": "1.2.0",
          "state": {
            "_view_name": "LayoutView",
            "grid_template_rows": null,
            "right": null,
            "justify_content": null,
            "_view_module": "@jupyter-widgets/base",
            "overflow": null,
            "_model_module_version": "1.2.0",
            "_view_count": null,
            "flex_flow": null,
            "width": null,
            "min_width": null,
            "border": null,
            "align_items": null,
            "bottom": null,
            "_model_module": "@jupyter-widgets/base",
            "top": null,
            "grid_column": null,
            "overflow_y": null,
            "overflow_x": null,
            "grid_auto_flow": null,
            "grid_area": null,
            "grid_template_columns": null,
            "flex": null,
            "_model_name": "LayoutModel",
            "justify_items": null,
            "grid_row": null,
            "max_height": null,
            "align_content": null,
            "visibility": null,
            "align_self": null,
            "height": null,
            "min_height": null,
            "padding": null,
            "grid_auto_rows": null,
            "grid_gap": null,
            "max_width": null,
            "order": null,
            "_view_module_version": "1.2.0",
            "grid_template_areas": null,
            "object_position": null,
            "object_fit": null,
            "grid_auto_columns": null,
            "margin": null,
            "display": null,
            "left": null
          }
        },
        "87f61104f6844f4e8606e73fe3f4934e": {
          "model_module": "@jupyter-widgets/controls",
          "model_name": "ProgressStyleModel",
          "model_module_version": "1.5.0",
          "state": {
            "_view_name": "StyleView",
            "_model_name": "ProgressStyleModel",
            "description_width": "",
            "_view_module": "@jupyter-widgets/base",
            "_model_module_version": "1.5.0",
            "_view_count": null,
            "_view_module_version": "1.2.0",
            "bar_color": null,
            "_model_module": "@jupyter-widgets/controls"
          }
        },
        "17cd466bbdbd4f05a94920f32afe2110": {
          "model_module": "@jupyter-widgets/base",
          "model_name": "LayoutModel",
          "model_module_version": "1.2.0",
          "state": {
            "_view_name": "LayoutView",
            "grid_template_rows": null,
            "right": null,
            "justify_content": null,
            "_view_module": "@jupyter-widgets/base",
            "overflow": null,
            "_model_module_version": "1.2.0",
            "_view_count": null,
            "flex_flow": null,
            "width": null,
            "min_width": null,
            "border": null,
            "align_items": null,
            "bottom": null,
            "_model_module": "@jupyter-widgets/base",
            "top": null,
            "grid_column": null,
            "overflow_y": null,
            "overflow_x": null,
            "grid_auto_flow": null,
            "grid_area": null,
            "grid_template_columns": null,
            "flex": null,
            "_model_name": "LayoutModel",
            "justify_items": null,
            "grid_row": null,
            "max_height": null,
            "align_content": null,
            "visibility": null,
            "align_self": null,
            "height": null,
            "min_height": null,
            "padding": null,
            "grid_auto_rows": null,
            "grid_gap": null,
            "max_width": null,
            "order": null,
            "_view_module_version": "1.2.0",
            "grid_template_areas": null,
            "object_position": null,
            "object_fit": null,
            "grid_auto_columns": null,
            "margin": null,
            "display": null,
            "left": null
          }
        },
        "3268d4ef3183464db5eff487f64891dc": {
          "model_module": "@jupyter-widgets/controls",
          "model_name": "DescriptionStyleModel",
          "model_module_version": "1.5.0",
          "state": {
            "_view_name": "StyleView",
            "_model_name": "DescriptionStyleModel",
            "description_width": "",
            "_view_module": "@jupyter-widgets/base",
            "_model_module_version": "1.5.0",
            "_view_count": null,
            "_view_module_version": "1.2.0",
            "_model_module": "@jupyter-widgets/controls"
          }
        },
        "b95b516052324d3fb0ba3ea38b787e42": {
          "model_module": "@jupyter-widgets/base",
          "model_name": "LayoutModel",
          "model_module_version": "1.2.0",
          "state": {
            "_view_name": "LayoutView",
            "grid_template_rows": null,
            "right": null,
            "justify_content": null,
            "_view_module": "@jupyter-widgets/base",
            "overflow": null,
            "_model_module_version": "1.2.0",
            "_view_count": null,
            "flex_flow": null,
            "width": null,
            "min_width": null,
            "border": null,
            "align_items": null,
            "bottom": null,
            "_model_module": "@jupyter-widgets/base",
            "top": null,
            "grid_column": null,
            "overflow_y": null,
            "overflow_x": null,
            "grid_auto_flow": null,
            "grid_area": null,
            "grid_template_columns": null,
            "flex": null,
            "_model_name": "LayoutModel",
            "justify_items": null,
            "grid_row": null,
            "max_height": null,
            "align_content": null,
            "visibility": null,
            "align_self": null,
            "height": null,
            "min_height": null,
            "padding": null,
            "grid_auto_rows": null,
            "grid_gap": null,
            "max_width": null,
            "order": null,
            "_view_module_version": "1.2.0",
            "grid_template_areas": null,
            "object_position": null,
            "object_fit": null,
            "grid_auto_columns": null,
            "margin": null,
            "display": null,
            "left": null
          }
        },
        "fa8fa63aac944b54bc016184d7d03393": {
          "model_module": "@jupyter-widgets/controls",
          "model_name": "HBoxModel",
          "model_module_version": "1.5.0",
          "state": {
            "_view_name": "HBoxView",
            "_dom_classes": [],
            "_model_name": "HBoxModel",
            "_view_module": "@jupyter-widgets/controls",
            "_model_module_version": "1.5.0",
            "_view_count": null,
            "_view_module_version": "1.5.0",
            "box_style": "",
            "layout": "IPY_MODEL_a42dd48f635645138948b63a5376bc91",
            "_model_module": "@jupyter-widgets/controls",
            "children": [
              "IPY_MODEL_b7d273a738e84ba0862eeabd5e65a3d7",
              "IPY_MODEL_49c6c208d5064e2ca5c2779bd37e4c93",
              "IPY_MODEL_07068249b2ae4b8d8e15768f21193eaf"
            ]
          }
        },
        "a42dd48f635645138948b63a5376bc91": {
          "model_module": "@jupyter-widgets/base",
          "model_name": "LayoutModel",
          "model_module_version": "1.2.0",
          "state": {
            "_view_name": "LayoutView",
            "grid_template_rows": null,
            "right": null,
            "justify_content": null,
            "_view_module": "@jupyter-widgets/base",
            "overflow": null,
            "_model_module_version": "1.2.0",
            "_view_count": null,
            "flex_flow": null,
            "width": null,
            "min_width": null,
            "border": null,
            "align_items": null,
            "bottom": null,
            "_model_module": "@jupyter-widgets/base",
            "top": null,
            "grid_column": null,
            "overflow_y": null,
            "overflow_x": null,
            "grid_auto_flow": null,
            "grid_area": null,
            "grid_template_columns": null,
            "flex": null,
            "_model_name": "LayoutModel",
            "justify_items": null,
            "grid_row": null,
            "max_height": null,
            "align_content": null,
            "visibility": null,
            "align_self": null,
            "height": null,
            "min_height": null,
            "padding": null,
            "grid_auto_rows": null,
            "grid_gap": null,
            "max_width": null,
            "order": null,
            "_view_module_version": "1.2.0",
            "grid_template_areas": null,
            "object_position": null,
            "object_fit": null,
            "grid_auto_columns": null,
            "margin": null,
            "display": null,
            "left": null
          }
        },
        "b7d273a738e84ba0862eeabd5e65a3d7": {
          "model_module": "@jupyter-widgets/controls",
          "model_name": "HTMLModel",
          "model_module_version": "1.5.0",
          "state": {
            "_view_name": "HTMLView",
            "style": "IPY_MODEL_d1a464eeda1346549dfae2c9ba774762",
            "_dom_classes": [],
            "description": "",
            "_model_name": "HTMLModel",
            "placeholder": "​",
            "_view_module": "@jupyter-widgets/controls",
            "_model_module_version": "1.5.0",
            "value": "Eval_CV: 100%",
            "_view_count": null,
            "_view_module_version": "1.5.0",
            "description_tooltip": null,
            "_model_module": "@jupyter-widgets/controls",
            "layout": "IPY_MODEL_b8e7772caf8a48319ed2ce005001cbd8"
          }
        },
        "49c6c208d5064e2ca5c2779bd37e4c93": {
          "model_module": "@jupyter-widgets/controls",
          "model_name": "FloatProgressModel",
          "model_module_version": "1.5.0",
          "state": {
            "_view_name": "ProgressView",
            "style": "IPY_MODEL_0862669822d445058ce3b5071532fc66",
            "_dom_classes": [],
            "description": "",
            "_model_name": "FloatProgressModel",
            "bar_style": "success",
            "max": 5,
            "_view_module": "@jupyter-widgets/controls",
            "_model_module_version": "1.5.0",
            "value": 5,
            "_view_count": null,
            "_view_module_version": "1.5.0",
            "orientation": "horizontal",
            "min": 0,
            "description_tooltip": null,
            "_model_module": "@jupyter-widgets/controls",
            "layout": "IPY_MODEL_c3f269515cbc4b96b7c378a3ee2e939a"
          }
        },
        "07068249b2ae4b8d8e15768f21193eaf": {
          "model_module": "@jupyter-widgets/controls",
          "model_name": "HTMLModel",
          "model_module_version": "1.5.0",
          "state": {
            "_view_name": "HTMLView",
            "style": "IPY_MODEL_28630ef4ba3043aea3f7facb41dbe9a8",
            "_dom_classes": [],
            "description": "",
            "_model_name": "HTMLModel",
            "placeholder": "​",
            "_view_module": "@jupyter-widgets/controls",
            "_model_module_version": "1.5.0",
            "value": " 5/5 [18:28&lt;00:00, 219.24s/it]",
            "_view_count": null,
            "_view_module_version": "1.5.0",
            "description_tooltip": null,
            "_model_module": "@jupyter-widgets/controls",
            "layout": "IPY_MODEL_54fb2766c8ba441db6a757636b4d6dea"
          }
        },
        "d1a464eeda1346549dfae2c9ba774762": {
          "model_module": "@jupyter-widgets/controls",
          "model_name": "DescriptionStyleModel",
          "model_module_version": "1.5.0",
          "state": {
            "_view_name": "StyleView",
            "_model_name": "DescriptionStyleModel",
            "description_width": "",
            "_view_module": "@jupyter-widgets/base",
            "_model_module_version": "1.5.0",
            "_view_count": null,
            "_view_module_version": "1.2.0",
            "_model_module": "@jupyter-widgets/controls"
          }
        },
        "b8e7772caf8a48319ed2ce005001cbd8": {
          "model_module": "@jupyter-widgets/base",
          "model_name": "LayoutModel",
          "model_module_version": "1.2.0",
          "state": {
            "_view_name": "LayoutView",
            "grid_template_rows": null,
            "right": null,
            "justify_content": null,
            "_view_module": "@jupyter-widgets/base",
            "overflow": null,
            "_model_module_version": "1.2.0",
            "_view_count": null,
            "flex_flow": null,
            "width": null,
            "min_width": null,
            "border": null,
            "align_items": null,
            "bottom": null,
            "_model_module": "@jupyter-widgets/base",
            "top": null,
            "grid_column": null,
            "overflow_y": null,
            "overflow_x": null,
            "grid_auto_flow": null,
            "grid_area": null,
            "grid_template_columns": null,
            "flex": null,
            "_model_name": "LayoutModel",
            "justify_items": null,
            "grid_row": null,
            "max_height": null,
            "align_content": null,
            "visibility": null,
            "align_self": null,
            "height": null,
            "min_height": null,
            "padding": null,
            "grid_auto_rows": null,
            "grid_gap": null,
            "max_width": null,
            "order": null,
            "_view_module_version": "1.2.0",
            "grid_template_areas": null,
            "object_position": null,
            "object_fit": null,
            "grid_auto_columns": null,
            "margin": null,
            "display": null,
            "left": null
          }
        },
        "0862669822d445058ce3b5071532fc66": {
          "model_module": "@jupyter-widgets/controls",
          "model_name": "ProgressStyleModel",
          "model_module_version": "1.5.0",
          "state": {
            "_view_name": "StyleView",
            "_model_name": "ProgressStyleModel",
            "description_width": "",
            "_view_module": "@jupyter-widgets/base",
            "_model_module_version": "1.5.0",
            "_view_count": null,
            "_view_module_version": "1.2.0",
            "bar_color": null,
            "_model_module": "@jupyter-widgets/controls"
          }
        },
        "c3f269515cbc4b96b7c378a3ee2e939a": {
          "model_module": "@jupyter-widgets/base",
          "model_name": "LayoutModel",
          "model_module_version": "1.2.0",
          "state": {
            "_view_name": "LayoutView",
            "grid_template_rows": null,
            "right": null,
            "justify_content": null,
            "_view_module": "@jupyter-widgets/base",
            "overflow": null,
            "_model_module_version": "1.2.0",
            "_view_count": null,
            "flex_flow": null,
            "width": null,
            "min_width": null,
            "border": null,
            "align_items": null,
            "bottom": null,
            "_model_module": "@jupyter-widgets/base",
            "top": null,
            "grid_column": null,
            "overflow_y": null,
            "overflow_x": null,
            "grid_auto_flow": null,
            "grid_area": null,
            "grid_template_columns": null,
            "flex": null,
            "_model_name": "LayoutModel",
            "justify_items": null,
            "grid_row": null,
            "max_height": null,
            "align_content": null,
            "visibility": null,
            "align_self": null,
            "height": null,
            "min_height": null,
            "padding": null,
            "grid_auto_rows": null,
            "grid_gap": null,
            "max_width": null,
            "order": null,
            "_view_module_version": "1.2.0",
            "grid_template_areas": null,
            "object_position": null,
            "object_fit": null,
            "grid_auto_columns": null,
            "margin": null,
            "display": null,
            "left": null
          }
        },
        "28630ef4ba3043aea3f7facb41dbe9a8": {
          "model_module": "@jupyter-widgets/controls",
          "model_name": "DescriptionStyleModel",
          "model_module_version": "1.5.0",
          "state": {
            "_view_name": "StyleView",
            "_model_name": "DescriptionStyleModel",
            "description_width": "",
            "_view_module": "@jupyter-widgets/base",
            "_model_module_version": "1.5.0",
            "_view_count": null,
            "_view_module_version": "1.2.0",
            "_model_module": "@jupyter-widgets/controls"
          }
        },
        "54fb2766c8ba441db6a757636b4d6dea": {
          "model_module": "@jupyter-widgets/base",
          "model_name": "LayoutModel",
          "model_module_version": "1.2.0",
          "state": {
            "_view_name": "LayoutView",
            "grid_template_rows": null,
            "right": null,
            "justify_content": null,
            "_view_module": "@jupyter-widgets/base",
            "overflow": null,
            "_model_module_version": "1.2.0",
            "_view_count": null,
            "flex_flow": null,
            "width": null,
            "min_width": null,
            "border": null,
            "align_items": null,
            "bottom": null,
            "_model_module": "@jupyter-widgets/base",
            "top": null,
            "grid_column": null,
            "overflow_y": null,
            "overflow_x": null,
            "grid_auto_flow": null,
            "grid_area": null,
            "grid_template_columns": null,
            "flex": null,
            "_model_name": "LayoutModel",
            "justify_items": null,
            "grid_row": null,
            "max_height": null,
            "align_content": null,
            "visibility": null,
            "align_self": null,
            "height": null,
            "min_height": null,
            "padding": null,
            "grid_auto_rows": null,
            "grid_gap": null,
            "max_width": null,
            "order": null,
            "_view_module_version": "1.2.0",
            "grid_template_areas": null,
            "object_position": null,
            "object_fit": null,
            "grid_auto_columns": null,
            "margin": null,
            "display": null,
            "left": null
          }
        },
        "0b8b4893da43471982134907d60caad3": {
          "model_module": "@jupyter-widgets/controls",
          "model_name": "HBoxModel",
          "model_module_version": "1.5.0",
          "state": {
            "_view_name": "HBoxView",
            "_dom_classes": [],
            "_model_name": "HBoxModel",
            "_view_module": "@jupyter-widgets/controls",
            "_model_module_version": "1.5.0",
            "_view_count": null,
            "_view_module_version": "1.5.0",
            "box_style": "",
            "layout": "IPY_MODEL_e2c6614fa9e541c383af69dc7a3afa49",
            "_model_module": "@jupyter-widgets/controls",
            "children": [
              "IPY_MODEL_41566834b18d46d4ab97302aa98144a2",
              "IPY_MODEL_9bd5a37bda75444b8a68037b966b79f1",
              "IPY_MODEL_1d32cca19f8446da92a84c86c3909be8"
            ]
          }
        },
        "e2c6614fa9e541c383af69dc7a3afa49": {
          "model_module": "@jupyter-widgets/base",
          "model_name": "LayoutModel",
          "model_module_version": "1.2.0",
          "state": {
            "_view_name": "LayoutView",
            "grid_template_rows": null,
            "right": null,
            "justify_content": null,
            "_view_module": "@jupyter-widgets/base",
            "overflow": null,
            "_model_module_version": "1.2.0",
            "_view_count": null,
            "flex_flow": null,
            "width": null,
            "min_width": null,
            "border": null,
            "align_items": null,
            "bottom": null,
            "_model_module": "@jupyter-widgets/base",
            "top": null,
            "grid_column": null,
            "overflow_y": null,
            "overflow_x": null,
            "grid_auto_flow": null,
            "grid_area": null,
            "grid_template_columns": null,
            "flex": null,
            "_model_name": "LayoutModel",
            "justify_items": null,
            "grid_row": null,
            "max_height": null,
            "align_content": null,
            "visibility": null,
            "align_self": null,
            "height": null,
            "min_height": null,
            "padding": null,
            "grid_auto_rows": null,
            "grid_gap": null,
            "max_width": null,
            "order": null,
            "_view_module_version": "1.2.0",
            "grid_template_areas": null,
            "object_position": null,
            "object_fit": null,
            "grid_auto_columns": null,
            "margin": null,
            "display": null,
            "left": null
          }
        },
        "41566834b18d46d4ab97302aa98144a2": {
          "model_module": "@jupyter-widgets/controls",
          "model_name": "HTMLModel",
          "model_module_version": "1.5.0",
          "state": {
            "_view_name": "HTMLView",
            "style": "IPY_MODEL_b5a27940df2840cda0cdcea72abc3c94",
            "_dom_classes": [],
            "description": "",
            "_model_name": "HTMLModel",
            "placeholder": "​",
            "_view_module": "@jupyter-widgets/controls",
            "_model_module_version": "1.5.0",
            "value": "Stack_CV: 100%",
            "_view_count": null,
            "_view_module_version": "1.5.0",
            "description_tooltip": null,
            "_model_module": "@jupyter-widgets/controls",
            "layout": "IPY_MODEL_3b199c3be6c44425a0d70dd07a91c5a4"
          }
        },
        "9bd5a37bda75444b8a68037b966b79f1": {
          "model_module": "@jupyter-widgets/controls",
          "model_name": "FloatProgressModel",
          "model_module_version": "1.5.0",
          "state": {
            "_view_name": "ProgressView",
            "style": "IPY_MODEL_4bbc8be91a5c4eda884680d183116792",
            "_dom_classes": [],
            "description": "",
            "_model_name": "FloatProgressModel",
            "bar_style": "success",
            "max": 5,
            "_view_module": "@jupyter-widgets/controls",
            "_model_module_version": "1.5.0",
            "value": 5,
            "_view_count": null,
            "_view_module_version": "1.5.0",
            "orientation": "horizontal",
            "min": 0,
            "description_tooltip": null,
            "_model_module": "@jupyter-widgets/controls",
            "layout": "IPY_MODEL_317baf362a274d21acd9c05571ac0d52"
          }
        },
        "1d32cca19f8446da92a84c86c3909be8": {
          "model_module": "@jupyter-widgets/controls",
          "model_name": "HTMLModel",
          "model_module_version": "1.5.0",
          "state": {
            "_view_name": "HTMLView",
            "style": "IPY_MODEL_85e4f7489b414864b161024063f6e151",
            "_dom_classes": [],
            "description": "",
            "_model_name": "HTMLModel",
            "placeholder": "​",
            "_view_module": "@jupyter-widgets/controls",
            "_model_module_version": "1.5.0",
            "value": " 5/5 [03:09&lt;00:00, 37.07s/it]",
            "_view_count": null,
            "_view_module_version": "1.5.0",
            "description_tooltip": null,
            "_model_module": "@jupyter-widgets/controls",
            "layout": "IPY_MODEL_0dd8149a267143fe852f33c8743ae15e"
          }
        },
        "b5a27940df2840cda0cdcea72abc3c94": {
          "model_module": "@jupyter-widgets/controls",
          "model_name": "DescriptionStyleModel",
          "model_module_version": "1.5.0",
          "state": {
            "_view_name": "StyleView",
            "_model_name": "DescriptionStyleModel",
            "description_width": "",
            "_view_module": "@jupyter-widgets/base",
            "_model_module_version": "1.5.0",
            "_view_count": null,
            "_view_module_version": "1.2.0",
            "_model_module": "@jupyter-widgets/controls"
          }
        },
        "3b199c3be6c44425a0d70dd07a91c5a4": {
          "model_module": "@jupyter-widgets/base",
          "model_name": "LayoutModel",
          "model_module_version": "1.2.0",
          "state": {
            "_view_name": "LayoutView",
            "grid_template_rows": null,
            "right": null,
            "justify_content": null,
            "_view_module": "@jupyter-widgets/base",
            "overflow": null,
            "_model_module_version": "1.2.0",
            "_view_count": null,
            "flex_flow": null,
            "width": null,
            "min_width": null,
            "border": null,
            "align_items": null,
            "bottom": null,
            "_model_module": "@jupyter-widgets/base",
            "top": null,
            "grid_column": null,
            "overflow_y": null,
            "overflow_x": null,
            "grid_auto_flow": null,
            "grid_area": null,
            "grid_template_columns": null,
            "flex": null,
            "_model_name": "LayoutModel",
            "justify_items": null,
            "grid_row": null,
            "max_height": null,
            "align_content": null,
            "visibility": null,
            "align_self": null,
            "height": null,
            "min_height": null,
            "padding": null,
            "grid_auto_rows": null,
            "grid_gap": null,
            "max_width": null,
            "order": null,
            "_view_module_version": "1.2.0",
            "grid_template_areas": null,
            "object_position": null,
            "object_fit": null,
            "grid_auto_columns": null,
            "margin": null,
            "display": null,
            "left": null
          }
        },
        "4bbc8be91a5c4eda884680d183116792": {
          "model_module": "@jupyter-widgets/controls",
          "model_name": "ProgressStyleModel",
          "model_module_version": "1.5.0",
          "state": {
            "_view_name": "StyleView",
            "_model_name": "ProgressStyleModel",
            "description_width": "",
            "_view_module": "@jupyter-widgets/base",
            "_model_module_version": "1.5.0",
            "_view_count": null,
            "_view_module_version": "1.2.0",
            "bar_color": null,
            "_model_module": "@jupyter-widgets/controls"
          }
        },
        "317baf362a274d21acd9c05571ac0d52": {
          "model_module": "@jupyter-widgets/base",
          "model_name": "LayoutModel",
          "model_module_version": "1.2.0",
          "state": {
            "_view_name": "LayoutView",
            "grid_template_rows": null,
            "right": null,
            "justify_content": null,
            "_view_module": "@jupyter-widgets/base",
            "overflow": null,
            "_model_module_version": "1.2.0",
            "_view_count": null,
            "flex_flow": null,
            "width": null,
            "min_width": null,
            "border": null,
            "align_items": null,
            "bottom": null,
            "_model_module": "@jupyter-widgets/base",
            "top": null,
            "grid_column": null,
            "overflow_y": null,
            "overflow_x": null,
            "grid_auto_flow": null,
            "grid_area": null,
            "grid_template_columns": null,
            "flex": null,
            "_model_name": "LayoutModel",
            "justify_items": null,
            "grid_row": null,
            "max_height": null,
            "align_content": null,
            "visibility": null,
            "align_self": null,
            "height": null,
            "min_height": null,
            "padding": null,
            "grid_auto_rows": null,
            "grid_gap": null,
            "max_width": null,
            "order": null,
            "_view_module_version": "1.2.0",
            "grid_template_areas": null,
            "object_position": null,
            "object_fit": null,
            "grid_auto_columns": null,
            "margin": null,
            "display": null,
            "left": null
          }
        },
        "85e4f7489b414864b161024063f6e151": {
          "model_module": "@jupyter-widgets/controls",
          "model_name": "DescriptionStyleModel",
          "model_module_version": "1.5.0",
          "state": {
            "_view_name": "StyleView",
            "_model_name": "DescriptionStyleModel",
            "description_width": "",
            "_view_module": "@jupyter-widgets/base",
            "_model_module_version": "1.5.0",
            "_view_count": null,
            "_view_module_version": "1.2.0",
            "_model_module": "@jupyter-widgets/controls"
          }
        },
        "0dd8149a267143fe852f33c8743ae15e": {
          "model_module": "@jupyter-widgets/base",
          "model_name": "LayoutModel",
          "model_module_version": "1.2.0",
          "state": {
            "_view_name": "LayoutView",
            "grid_template_rows": null,
            "right": null,
            "justify_content": null,
            "_view_module": "@jupyter-widgets/base",
            "overflow": null,
            "_model_module_version": "1.2.0",
            "_view_count": null,
            "flex_flow": null,
            "width": null,
            "min_width": null,
            "border": null,
            "align_items": null,
            "bottom": null,
            "_model_module": "@jupyter-widgets/base",
            "top": null,
            "grid_column": null,
            "overflow_y": null,
            "overflow_x": null,
            "grid_auto_flow": null,
            "grid_area": null,
            "grid_template_columns": null,
            "flex": null,
            "_model_name": "LayoutModel",
            "justify_items": null,
            "grid_row": null,
            "max_height": null,
            "align_content": null,
            "visibility": null,
            "align_self": null,
            "height": null,
            "min_height": null,
            "padding": null,
            "grid_auto_rows": null,
            "grid_gap": null,
            "max_width": null,
            "order": null,
            "_view_module_version": "1.2.0",
            "grid_template_areas": null,
            "object_position": null,
            "object_fit": null,
            "grid_auto_columns": null,
            "margin": null,
            "display": null,
            "left": null
          }
        },
        "4028760a817349e28ed31f9151cb2cc2": {
          "model_module": "@jupyter-widgets/controls",
          "model_name": "HBoxModel",
          "model_module_version": "1.5.0",
          "state": {
            "_view_name": "HBoxView",
            "_dom_classes": [],
            "_model_name": "HBoxModel",
            "_view_module": "@jupyter-widgets/controls",
            "_model_module_version": "1.5.0",
            "_view_count": null,
            "_view_module_version": "1.5.0",
            "box_style": "",
            "layout": "IPY_MODEL_c7d4f1898f34458eb238e48ec14ba693",
            "_model_module": "@jupyter-widgets/controls",
            "children": [
              "IPY_MODEL_a7c447924abf4931b87b487c48a92951",
              "IPY_MODEL_3f1a3c84642646efb82c924db1f78c05",
              "IPY_MODEL_663c69fb4fe649e988cd98c7d82f3c2c"
            ]
          }
        },
        "c7d4f1898f34458eb238e48ec14ba693": {
          "model_module": "@jupyter-widgets/base",
          "model_name": "LayoutModel",
          "model_module_version": "1.2.0",
          "state": {
            "_view_name": "LayoutView",
            "grid_template_rows": null,
            "right": null,
            "justify_content": null,
            "_view_module": "@jupyter-widgets/base",
            "overflow": null,
            "_model_module_version": "1.2.0",
            "_view_count": null,
            "flex_flow": null,
            "width": null,
            "min_width": null,
            "border": null,
            "align_items": null,
            "bottom": null,
            "_model_module": "@jupyter-widgets/base",
            "top": null,
            "grid_column": null,
            "overflow_y": null,
            "overflow_x": null,
            "grid_auto_flow": null,
            "grid_area": null,
            "grid_template_columns": null,
            "flex": null,
            "_model_name": "LayoutModel",
            "justify_items": null,
            "grid_row": null,
            "max_height": null,
            "align_content": null,
            "visibility": null,
            "align_self": null,
            "height": null,
            "min_height": null,
            "padding": null,
            "grid_auto_rows": null,
            "grid_gap": null,
            "max_width": null,
            "order": null,
            "_view_module_version": "1.2.0",
            "grid_template_areas": null,
            "object_position": null,
            "object_fit": null,
            "grid_auto_columns": null,
            "margin": null,
            "display": null,
            "left": null
          }
        },
        "a7c447924abf4931b87b487c48a92951": {
          "model_module": "@jupyter-widgets/controls",
          "model_name": "HTMLModel",
          "model_module_version": "1.5.0",
          "state": {
            "_view_name": "HTMLView",
            "style": "IPY_MODEL_3574ab8135904fc4acc80cc19d794c21",
            "_dom_classes": [],
            "description": "",
            "_model_name": "HTMLModel",
            "placeholder": "​",
            "_view_module": "@jupyter-widgets/controls",
            "_model_module_version": "1.5.0",
            "value": "Stack_CV: 100%",
            "_view_count": null,
            "_view_module_version": "1.5.0",
            "description_tooltip": null,
            "_model_module": "@jupyter-widgets/controls",
            "layout": "IPY_MODEL_ba436b1c573e433c9525e229b86a7f8c"
          }
        },
        "3f1a3c84642646efb82c924db1f78c05": {
          "model_module": "@jupyter-widgets/controls",
          "model_name": "FloatProgressModel",
          "model_module_version": "1.5.0",
          "state": {
            "_view_name": "ProgressView",
            "style": "IPY_MODEL_67e331aad8c848a9bfc76d101cbf21e2",
            "_dom_classes": [],
            "description": "",
            "_model_name": "FloatProgressModel",
            "bar_style": "success",
            "max": 5,
            "_view_module": "@jupyter-widgets/controls",
            "_model_module_version": "1.5.0",
            "value": 5,
            "_view_count": null,
            "_view_module_version": "1.5.0",
            "orientation": "horizontal",
            "min": 0,
            "description_tooltip": null,
            "_model_module": "@jupyter-widgets/controls",
            "layout": "IPY_MODEL_d753056b56ca4a34bc73efb3691035cc"
          }
        },
        "663c69fb4fe649e988cd98c7d82f3c2c": {
          "model_module": "@jupyter-widgets/controls",
          "model_name": "HTMLModel",
          "model_module_version": "1.5.0",
          "state": {
            "_view_name": "HTMLView",
            "style": "IPY_MODEL_d8aabc8f9dca4a11986fbac11a7ac1f6",
            "_dom_classes": [],
            "description": "",
            "_model_name": "HTMLModel",
            "placeholder": "​",
            "_view_module": "@jupyter-widgets/controls",
            "_model_module_version": "1.5.0",
            "value": " 5/5 [02:53&lt;00:00, 34.68s/it]",
            "_view_count": null,
            "_view_module_version": "1.5.0",
            "description_tooltip": null,
            "_model_module": "@jupyter-widgets/controls",
            "layout": "IPY_MODEL_2adb40384f7f4717aeec32f3c65e70c3"
          }
        },
        "3574ab8135904fc4acc80cc19d794c21": {
          "model_module": "@jupyter-widgets/controls",
          "model_name": "DescriptionStyleModel",
          "model_module_version": "1.5.0",
          "state": {
            "_view_name": "StyleView",
            "_model_name": "DescriptionStyleModel",
            "description_width": "",
            "_view_module": "@jupyter-widgets/base",
            "_model_module_version": "1.5.0",
            "_view_count": null,
            "_view_module_version": "1.2.0",
            "_model_module": "@jupyter-widgets/controls"
          }
        },
        "ba436b1c573e433c9525e229b86a7f8c": {
          "model_module": "@jupyter-widgets/base",
          "model_name": "LayoutModel",
          "model_module_version": "1.2.0",
          "state": {
            "_view_name": "LayoutView",
            "grid_template_rows": null,
            "right": null,
            "justify_content": null,
            "_view_module": "@jupyter-widgets/base",
            "overflow": null,
            "_model_module_version": "1.2.0",
            "_view_count": null,
            "flex_flow": null,
            "width": null,
            "min_width": null,
            "border": null,
            "align_items": null,
            "bottom": null,
            "_model_module": "@jupyter-widgets/base",
            "top": null,
            "grid_column": null,
            "overflow_y": null,
            "overflow_x": null,
            "grid_auto_flow": null,
            "grid_area": null,
            "grid_template_columns": null,
            "flex": null,
            "_model_name": "LayoutModel",
            "justify_items": null,
            "grid_row": null,
            "max_height": null,
            "align_content": null,
            "visibility": null,
            "align_self": null,
            "height": null,
            "min_height": null,
            "padding": null,
            "grid_auto_rows": null,
            "grid_gap": null,
            "max_width": null,
            "order": null,
            "_view_module_version": "1.2.0",
            "grid_template_areas": null,
            "object_position": null,
            "object_fit": null,
            "grid_auto_columns": null,
            "margin": null,
            "display": null,
            "left": null
          }
        },
        "67e331aad8c848a9bfc76d101cbf21e2": {
          "model_module": "@jupyter-widgets/controls",
          "model_name": "ProgressStyleModel",
          "model_module_version": "1.5.0",
          "state": {
            "_view_name": "StyleView",
            "_model_name": "ProgressStyleModel",
            "description_width": "",
            "_view_module": "@jupyter-widgets/base",
            "_model_module_version": "1.5.0",
            "_view_count": null,
            "_view_module_version": "1.2.0",
            "bar_color": null,
            "_model_module": "@jupyter-widgets/controls"
          }
        },
        "d753056b56ca4a34bc73efb3691035cc": {
          "model_module": "@jupyter-widgets/base",
          "model_name": "LayoutModel",
          "model_module_version": "1.2.0",
          "state": {
            "_view_name": "LayoutView",
            "grid_template_rows": null,
            "right": null,
            "justify_content": null,
            "_view_module": "@jupyter-widgets/base",
            "overflow": null,
            "_model_module_version": "1.2.0",
            "_view_count": null,
            "flex_flow": null,
            "width": null,
            "min_width": null,
            "border": null,
            "align_items": null,
            "bottom": null,
            "_model_module": "@jupyter-widgets/base",
            "top": null,
            "grid_column": null,
            "overflow_y": null,
            "overflow_x": null,
            "grid_auto_flow": null,
            "grid_area": null,
            "grid_template_columns": null,
            "flex": null,
            "_model_name": "LayoutModel",
            "justify_items": null,
            "grid_row": null,
            "max_height": null,
            "align_content": null,
            "visibility": null,
            "align_self": null,
            "height": null,
            "min_height": null,
            "padding": null,
            "grid_auto_rows": null,
            "grid_gap": null,
            "max_width": null,
            "order": null,
            "_view_module_version": "1.2.0",
            "grid_template_areas": null,
            "object_position": null,
            "object_fit": null,
            "grid_auto_columns": null,
            "margin": null,
            "display": null,
            "left": null
          }
        },
        "d8aabc8f9dca4a11986fbac11a7ac1f6": {
          "model_module": "@jupyter-widgets/controls",
          "model_name": "DescriptionStyleModel",
          "model_module_version": "1.5.0",
          "state": {
            "_view_name": "StyleView",
            "_model_name": "DescriptionStyleModel",
            "description_width": "",
            "_view_module": "@jupyter-widgets/base",
            "_model_module_version": "1.5.0",
            "_view_count": null,
            "_view_module_version": "1.2.0",
            "_model_module": "@jupyter-widgets/controls"
          }
        },
        "2adb40384f7f4717aeec32f3c65e70c3": {
          "model_module": "@jupyter-widgets/base",
          "model_name": "LayoutModel",
          "model_module_version": "1.2.0",
          "state": {
            "_view_name": "LayoutView",
            "grid_template_rows": null,
            "right": null,
            "justify_content": null,
            "_view_module": "@jupyter-widgets/base",
            "overflow": null,
            "_model_module_version": "1.2.0",
            "_view_count": null,
            "flex_flow": null,
            "width": null,
            "min_width": null,
            "border": null,
            "align_items": null,
            "bottom": null,
            "_model_module": "@jupyter-widgets/base",
            "top": null,
            "grid_column": null,
            "overflow_y": null,
            "overflow_x": null,
            "grid_auto_flow": null,
            "grid_area": null,
            "grid_template_columns": null,
            "flex": null,
            "_model_name": "LayoutModel",
            "justify_items": null,
            "grid_row": null,
            "max_height": null,
            "align_content": null,
            "visibility": null,
            "align_self": null,
            "height": null,
            "min_height": null,
            "padding": null,
            "grid_auto_rows": null,
            "grid_gap": null,
            "max_width": null,
            "order": null,
            "_view_module_version": "1.2.0",
            "grid_template_areas": null,
            "object_position": null,
            "object_fit": null,
            "grid_auto_columns": null,
            "margin": null,
            "display": null,
            "left": null
          }
        },
        "bb8372ed9fcf41edaa94b92b9fff3c3f": {
          "model_module": "@jupyter-widgets/controls",
          "model_name": "HBoxModel",
          "model_module_version": "1.5.0",
          "state": {
            "_view_name": "HBoxView",
            "_dom_classes": [],
            "_model_name": "HBoxModel",
            "_view_module": "@jupyter-widgets/controls",
            "_model_module_version": "1.5.0",
            "_view_count": null,
            "_view_module_version": "1.5.0",
            "box_style": "",
            "layout": "IPY_MODEL_bce134d959b7487385171d7eb6c8ace8",
            "_model_module": "@jupyter-widgets/controls",
            "children": [
              "IPY_MODEL_162bc6f1e28146f08d6788ceb6933f9e",
              "IPY_MODEL_ef027a5d1d7b41318b1449fdc659cc23",
              "IPY_MODEL_af4971c0232245b88046cf35b827eac5"
            ]
          }
        },
        "bce134d959b7487385171d7eb6c8ace8": {
          "model_module": "@jupyter-widgets/base",
          "model_name": "LayoutModel",
          "model_module_version": "1.2.0",
          "state": {
            "_view_name": "LayoutView",
            "grid_template_rows": null,
            "right": null,
            "justify_content": null,
            "_view_module": "@jupyter-widgets/base",
            "overflow": null,
            "_model_module_version": "1.2.0",
            "_view_count": null,
            "flex_flow": null,
            "width": null,
            "min_width": null,
            "border": null,
            "align_items": null,
            "bottom": null,
            "_model_module": "@jupyter-widgets/base",
            "top": null,
            "grid_column": null,
            "overflow_y": null,
            "overflow_x": null,
            "grid_auto_flow": null,
            "grid_area": null,
            "grid_template_columns": null,
            "flex": null,
            "_model_name": "LayoutModel",
            "justify_items": null,
            "grid_row": null,
            "max_height": null,
            "align_content": null,
            "visibility": null,
            "align_self": null,
            "height": null,
            "min_height": null,
            "padding": null,
            "grid_auto_rows": null,
            "grid_gap": null,
            "max_width": null,
            "order": null,
            "_view_module_version": "1.2.0",
            "grid_template_areas": null,
            "object_position": null,
            "object_fit": null,
            "grid_auto_columns": null,
            "margin": null,
            "display": null,
            "left": null
          }
        },
        "162bc6f1e28146f08d6788ceb6933f9e": {
          "model_module": "@jupyter-widgets/controls",
          "model_name": "HTMLModel",
          "model_module_version": "1.5.0",
          "state": {
            "_view_name": "HTMLView",
            "style": "IPY_MODEL_6fd68c48c8a741a2a5418f67234b5d9e",
            "_dom_classes": [],
            "description": "",
            "_model_name": "HTMLModel",
            "placeholder": "​",
            "_view_module": "@jupyter-widgets/controls",
            "_model_module_version": "1.5.0",
            "value": "Stack_CV: 100%",
            "_view_count": null,
            "_view_module_version": "1.5.0",
            "description_tooltip": null,
            "_model_module": "@jupyter-widgets/controls",
            "layout": "IPY_MODEL_4535875c2f7e420eae55ec1c632da33d"
          }
        },
        "ef027a5d1d7b41318b1449fdc659cc23": {
          "model_module": "@jupyter-widgets/controls",
          "model_name": "FloatProgressModel",
          "model_module_version": "1.5.0",
          "state": {
            "_view_name": "ProgressView",
            "style": "IPY_MODEL_fa37803d1f8041c8bddb9738772548cb",
            "_dom_classes": [],
            "description": "",
            "_model_name": "FloatProgressModel",
            "bar_style": "success",
            "max": 5,
            "_view_module": "@jupyter-widgets/controls",
            "_model_module_version": "1.5.0",
            "value": 5,
            "_view_count": null,
            "_view_module_version": "1.5.0",
            "orientation": "horizontal",
            "min": 0,
            "description_tooltip": null,
            "_model_module": "@jupyter-widgets/controls",
            "layout": "IPY_MODEL_35216fdca55f462994f258bf0d1d6dd9"
          }
        },
        "af4971c0232245b88046cf35b827eac5": {
          "model_module": "@jupyter-widgets/controls",
          "model_name": "HTMLModel",
          "model_module_version": "1.5.0",
          "state": {
            "_view_name": "HTMLView",
            "style": "IPY_MODEL_2f4f896499cb4105a9418f569e449dd5",
            "_dom_classes": [],
            "description": "",
            "_model_name": "HTMLModel",
            "placeholder": "​",
            "_view_module": "@jupyter-widgets/controls",
            "_model_module_version": "1.5.0",
            "value": " 5/5 [02:53&lt;00:00, 34.78s/it]",
            "_view_count": null,
            "_view_module_version": "1.5.0",
            "description_tooltip": null,
            "_model_module": "@jupyter-widgets/controls",
            "layout": "IPY_MODEL_b5ee25c56cb6488986c55ae025d3e8df"
          }
        },
        "6fd68c48c8a741a2a5418f67234b5d9e": {
          "model_module": "@jupyter-widgets/controls",
          "model_name": "DescriptionStyleModel",
          "model_module_version": "1.5.0",
          "state": {
            "_view_name": "StyleView",
            "_model_name": "DescriptionStyleModel",
            "description_width": "",
            "_view_module": "@jupyter-widgets/base",
            "_model_module_version": "1.5.0",
            "_view_count": null,
            "_view_module_version": "1.2.0",
            "_model_module": "@jupyter-widgets/controls"
          }
        },
        "4535875c2f7e420eae55ec1c632da33d": {
          "model_module": "@jupyter-widgets/base",
          "model_name": "LayoutModel",
          "model_module_version": "1.2.0",
          "state": {
            "_view_name": "LayoutView",
            "grid_template_rows": null,
            "right": null,
            "justify_content": null,
            "_view_module": "@jupyter-widgets/base",
            "overflow": null,
            "_model_module_version": "1.2.0",
            "_view_count": null,
            "flex_flow": null,
            "width": null,
            "min_width": null,
            "border": null,
            "align_items": null,
            "bottom": null,
            "_model_module": "@jupyter-widgets/base",
            "top": null,
            "grid_column": null,
            "overflow_y": null,
            "overflow_x": null,
            "grid_auto_flow": null,
            "grid_area": null,
            "grid_template_columns": null,
            "flex": null,
            "_model_name": "LayoutModel",
            "justify_items": null,
            "grid_row": null,
            "max_height": null,
            "align_content": null,
            "visibility": null,
            "align_self": null,
            "height": null,
            "min_height": null,
            "padding": null,
            "grid_auto_rows": null,
            "grid_gap": null,
            "max_width": null,
            "order": null,
            "_view_module_version": "1.2.0",
            "grid_template_areas": null,
            "object_position": null,
            "object_fit": null,
            "grid_auto_columns": null,
            "margin": null,
            "display": null,
            "left": null
          }
        },
        "fa37803d1f8041c8bddb9738772548cb": {
          "model_module": "@jupyter-widgets/controls",
          "model_name": "ProgressStyleModel",
          "model_module_version": "1.5.0",
          "state": {
            "_view_name": "StyleView",
            "_model_name": "ProgressStyleModel",
            "description_width": "",
            "_view_module": "@jupyter-widgets/base",
            "_model_module_version": "1.5.0",
            "_view_count": null,
            "_view_module_version": "1.2.0",
            "bar_color": null,
            "_model_module": "@jupyter-widgets/controls"
          }
        },
        "35216fdca55f462994f258bf0d1d6dd9": {
          "model_module": "@jupyter-widgets/base",
          "model_name": "LayoutModel",
          "model_module_version": "1.2.0",
          "state": {
            "_view_name": "LayoutView",
            "grid_template_rows": null,
            "right": null,
            "justify_content": null,
            "_view_module": "@jupyter-widgets/base",
            "overflow": null,
            "_model_module_version": "1.2.0",
            "_view_count": null,
            "flex_flow": null,
            "width": null,
            "min_width": null,
            "border": null,
            "align_items": null,
            "bottom": null,
            "_model_module": "@jupyter-widgets/base",
            "top": null,
            "grid_column": null,
            "overflow_y": null,
            "overflow_x": null,
            "grid_auto_flow": null,
            "grid_area": null,
            "grid_template_columns": null,
            "flex": null,
            "_model_name": "LayoutModel",
            "justify_items": null,
            "grid_row": null,
            "max_height": null,
            "align_content": null,
            "visibility": null,
            "align_self": null,
            "height": null,
            "min_height": null,
            "padding": null,
            "grid_auto_rows": null,
            "grid_gap": null,
            "max_width": null,
            "order": null,
            "_view_module_version": "1.2.0",
            "grid_template_areas": null,
            "object_position": null,
            "object_fit": null,
            "grid_auto_columns": null,
            "margin": null,
            "display": null,
            "left": null
          }
        },
        "2f4f896499cb4105a9418f569e449dd5": {
          "model_module": "@jupyter-widgets/controls",
          "model_name": "DescriptionStyleModel",
          "model_module_version": "1.5.0",
          "state": {
            "_view_name": "StyleView",
            "_model_name": "DescriptionStyleModel",
            "description_width": "",
            "_view_module": "@jupyter-widgets/base",
            "_model_module_version": "1.5.0",
            "_view_count": null,
            "_view_module_version": "1.2.0",
            "_model_module": "@jupyter-widgets/controls"
          }
        },
        "b5ee25c56cb6488986c55ae025d3e8df": {
          "model_module": "@jupyter-widgets/base",
          "model_name": "LayoutModel",
          "model_module_version": "1.2.0",
          "state": {
            "_view_name": "LayoutView",
            "grid_template_rows": null,
            "right": null,
            "justify_content": null,
            "_view_module": "@jupyter-widgets/base",
            "overflow": null,
            "_model_module_version": "1.2.0",
            "_view_count": null,
            "flex_flow": null,
            "width": null,
            "min_width": null,
            "border": null,
            "align_items": null,
            "bottom": null,
            "_model_module": "@jupyter-widgets/base",
            "top": null,
            "grid_column": null,
            "overflow_y": null,
            "overflow_x": null,
            "grid_auto_flow": null,
            "grid_area": null,
            "grid_template_columns": null,
            "flex": null,
            "_model_name": "LayoutModel",
            "justify_items": null,
            "grid_row": null,
            "max_height": null,
            "align_content": null,
            "visibility": null,
            "align_self": null,
            "height": null,
            "min_height": null,
            "padding": null,
            "grid_auto_rows": null,
            "grid_gap": null,
            "max_width": null,
            "order": null,
            "_view_module_version": "1.2.0",
            "grid_template_areas": null,
            "object_position": null,
            "object_fit": null,
            "grid_auto_columns": null,
            "margin": null,
            "display": null,
            "left": null
          }
        },
        "3118c05de5d241e49dba16acd16a9f5e": {
          "model_module": "@jupyter-widgets/controls",
          "model_name": "HBoxModel",
          "model_module_version": "1.5.0",
          "state": {
            "_view_name": "HBoxView",
            "_dom_classes": [],
            "_model_name": "HBoxModel",
            "_view_module": "@jupyter-widgets/controls",
            "_model_module_version": "1.5.0",
            "_view_count": null,
            "_view_module_version": "1.5.0",
            "box_style": "",
            "layout": "IPY_MODEL_319aa424324e45b2bc02578bf458363d",
            "_model_module": "@jupyter-widgets/controls",
            "children": [
              "IPY_MODEL_eac6c5b3b086453c9865f4128877cf75",
              "IPY_MODEL_727b76d6a6a5416abe090617ad4fde4d",
              "IPY_MODEL_a80a735f433c47428931762b9cca3fb9"
            ]
          }
        },
        "319aa424324e45b2bc02578bf458363d": {
          "model_module": "@jupyter-widgets/base",
          "model_name": "LayoutModel",
          "model_module_version": "1.2.0",
          "state": {
            "_view_name": "LayoutView",
            "grid_template_rows": null,
            "right": null,
            "justify_content": null,
            "_view_module": "@jupyter-widgets/base",
            "overflow": null,
            "_model_module_version": "1.2.0",
            "_view_count": null,
            "flex_flow": null,
            "width": null,
            "min_width": null,
            "border": null,
            "align_items": null,
            "bottom": null,
            "_model_module": "@jupyter-widgets/base",
            "top": null,
            "grid_column": null,
            "overflow_y": null,
            "overflow_x": null,
            "grid_auto_flow": null,
            "grid_area": null,
            "grid_template_columns": null,
            "flex": null,
            "_model_name": "LayoutModel",
            "justify_items": null,
            "grid_row": null,
            "max_height": null,
            "align_content": null,
            "visibility": null,
            "align_self": null,
            "height": null,
            "min_height": null,
            "padding": null,
            "grid_auto_rows": null,
            "grid_gap": null,
            "max_width": null,
            "order": null,
            "_view_module_version": "1.2.0",
            "grid_template_areas": null,
            "object_position": null,
            "object_fit": null,
            "grid_auto_columns": null,
            "margin": null,
            "display": null,
            "left": null
          }
        },
        "eac6c5b3b086453c9865f4128877cf75": {
          "model_module": "@jupyter-widgets/controls",
          "model_name": "HTMLModel",
          "model_module_version": "1.5.0",
          "state": {
            "_view_name": "HTMLView",
            "style": "IPY_MODEL_75bf0ec375284e1da74ec055238b7937",
            "_dom_classes": [],
            "description": "",
            "_model_name": "HTMLModel",
            "placeholder": "​",
            "_view_module": "@jupyter-widgets/controls",
            "_model_module_version": "1.5.0",
            "value": "Stack_CV: 100%",
            "_view_count": null,
            "_view_module_version": "1.5.0",
            "description_tooltip": null,
            "_model_module": "@jupyter-widgets/controls",
            "layout": "IPY_MODEL_c9dfd14ddaf2430da72a604b311c60d5"
          }
        },
        "727b76d6a6a5416abe090617ad4fde4d": {
          "model_module": "@jupyter-widgets/controls",
          "model_name": "FloatProgressModel",
          "model_module_version": "1.5.0",
          "state": {
            "_view_name": "ProgressView",
            "style": "IPY_MODEL_208ae57d2e794fef9b8e1553f09e776a",
            "_dom_classes": [],
            "description": "",
            "_model_name": "FloatProgressModel",
            "bar_style": "success",
            "max": 5,
            "_view_module": "@jupyter-widgets/controls",
            "_model_module_version": "1.5.0",
            "value": 5,
            "_view_count": null,
            "_view_module_version": "1.5.0",
            "orientation": "horizontal",
            "min": 0,
            "description_tooltip": null,
            "_model_module": "@jupyter-widgets/controls",
            "layout": "IPY_MODEL_81728c790c4640849287358acb20c78f"
          }
        },
        "a80a735f433c47428931762b9cca3fb9": {
          "model_module": "@jupyter-widgets/controls",
          "model_name": "HTMLModel",
          "model_module_version": "1.5.0",
          "state": {
            "_view_name": "HTMLView",
            "style": "IPY_MODEL_f9cc08aa3a674e6b92ebb85dc890c58e",
            "_dom_classes": [],
            "description": "",
            "_model_name": "HTMLModel",
            "placeholder": "​",
            "_view_module": "@jupyter-widgets/controls",
            "_model_module_version": "1.5.0",
            "value": " 5/5 [02:52&lt;00:00, 34.59s/it]",
            "_view_count": null,
            "_view_module_version": "1.5.0",
            "description_tooltip": null,
            "_model_module": "@jupyter-widgets/controls",
            "layout": "IPY_MODEL_f16857df01fb45a98f5f5d65eb2267d8"
          }
        },
        "75bf0ec375284e1da74ec055238b7937": {
          "model_module": "@jupyter-widgets/controls",
          "model_name": "DescriptionStyleModel",
          "model_module_version": "1.5.0",
          "state": {
            "_view_name": "StyleView",
            "_model_name": "DescriptionStyleModel",
            "description_width": "",
            "_view_module": "@jupyter-widgets/base",
            "_model_module_version": "1.5.0",
            "_view_count": null,
            "_view_module_version": "1.2.0",
            "_model_module": "@jupyter-widgets/controls"
          }
        },
        "c9dfd14ddaf2430da72a604b311c60d5": {
          "model_module": "@jupyter-widgets/base",
          "model_name": "LayoutModel",
          "model_module_version": "1.2.0",
          "state": {
            "_view_name": "LayoutView",
            "grid_template_rows": null,
            "right": null,
            "justify_content": null,
            "_view_module": "@jupyter-widgets/base",
            "overflow": null,
            "_model_module_version": "1.2.0",
            "_view_count": null,
            "flex_flow": null,
            "width": null,
            "min_width": null,
            "border": null,
            "align_items": null,
            "bottom": null,
            "_model_module": "@jupyter-widgets/base",
            "top": null,
            "grid_column": null,
            "overflow_y": null,
            "overflow_x": null,
            "grid_auto_flow": null,
            "grid_area": null,
            "grid_template_columns": null,
            "flex": null,
            "_model_name": "LayoutModel",
            "justify_items": null,
            "grid_row": null,
            "max_height": null,
            "align_content": null,
            "visibility": null,
            "align_self": null,
            "height": null,
            "min_height": null,
            "padding": null,
            "grid_auto_rows": null,
            "grid_gap": null,
            "max_width": null,
            "order": null,
            "_view_module_version": "1.2.0",
            "grid_template_areas": null,
            "object_position": null,
            "object_fit": null,
            "grid_auto_columns": null,
            "margin": null,
            "display": null,
            "left": null
          }
        },
        "208ae57d2e794fef9b8e1553f09e776a": {
          "model_module": "@jupyter-widgets/controls",
          "model_name": "ProgressStyleModel",
          "model_module_version": "1.5.0",
          "state": {
            "_view_name": "StyleView",
            "_model_name": "ProgressStyleModel",
            "description_width": "",
            "_view_module": "@jupyter-widgets/base",
            "_model_module_version": "1.5.0",
            "_view_count": null,
            "_view_module_version": "1.2.0",
            "bar_color": null,
            "_model_module": "@jupyter-widgets/controls"
          }
        },
        "81728c790c4640849287358acb20c78f": {
          "model_module": "@jupyter-widgets/base",
          "model_name": "LayoutModel",
          "model_module_version": "1.2.0",
          "state": {
            "_view_name": "LayoutView",
            "grid_template_rows": null,
            "right": null,
            "justify_content": null,
            "_view_module": "@jupyter-widgets/base",
            "overflow": null,
            "_model_module_version": "1.2.0",
            "_view_count": null,
            "flex_flow": null,
            "width": null,
            "min_width": null,
            "border": null,
            "align_items": null,
            "bottom": null,
            "_model_module": "@jupyter-widgets/base",
            "top": null,
            "grid_column": null,
            "overflow_y": null,
            "overflow_x": null,
            "grid_auto_flow": null,
            "grid_area": null,
            "grid_template_columns": null,
            "flex": null,
            "_model_name": "LayoutModel",
            "justify_items": null,
            "grid_row": null,
            "max_height": null,
            "align_content": null,
            "visibility": null,
            "align_self": null,
            "height": null,
            "min_height": null,
            "padding": null,
            "grid_auto_rows": null,
            "grid_gap": null,
            "max_width": null,
            "order": null,
            "_view_module_version": "1.2.0",
            "grid_template_areas": null,
            "object_position": null,
            "object_fit": null,
            "grid_auto_columns": null,
            "margin": null,
            "display": null,
            "left": null
          }
        },
        "f9cc08aa3a674e6b92ebb85dc890c58e": {
          "model_module": "@jupyter-widgets/controls",
          "model_name": "DescriptionStyleModel",
          "model_module_version": "1.5.0",
          "state": {
            "_view_name": "StyleView",
            "_model_name": "DescriptionStyleModel",
            "description_width": "",
            "_view_module": "@jupyter-widgets/base",
            "_model_module_version": "1.5.0",
            "_view_count": null,
            "_view_module_version": "1.2.0",
            "_model_module": "@jupyter-widgets/controls"
          }
        },
        "f16857df01fb45a98f5f5d65eb2267d8": {
          "model_module": "@jupyter-widgets/base",
          "model_name": "LayoutModel",
          "model_module_version": "1.2.0",
          "state": {
            "_view_name": "LayoutView",
            "grid_template_rows": null,
            "right": null,
            "justify_content": null,
            "_view_module": "@jupyter-widgets/base",
            "overflow": null,
            "_model_module_version": "1.2.0",
            "_view_count": null,
            "flex_flow": null,
            "width": null,
            "min_width": null,
            "border": null,
            "align_items": null,
            "bottom": null,
            "_model_module": "@jupyter-widgets/base",
            "top": null,
            "grid_column": null,
            "overflow_y": null,
            "overflow_x": null,
            "grid_auto_flow": null,
            "grid_area": null,
            "grid_template_columns": null,
            "flex": null,
            "_model_name": "LayoutModel",
            "justify_items": null,
            "grid_row": null,
            "max_height": null,
            "align_content": null,
            "visibility": null,
            "align_self": null,
            "height": null,
            "min_height": null,
            "padding": null,
            "grid_auto_rows": null,
            "grid_gap": null,
            "max_width": null,
            "order": null,
            "_view_module_version": "1.2.0",
            "grid_template_areas": null,
            "object_position": null,
            "object_fit": null,
            "grid_auto_columns": null,
            "margin": null,
            "display": null,
            "left": null
          }
        },
        "59b945e724684f5684df0a2420d3d9b6": {
          "model_module": "@jupyter-widgets/controls",
          "model_name": "HBoxModel",
          "model_module_version": "1.5.0",
          "state": {
            "_view_name": "HBoxView",
            "_dom_classes": [],
            "_model_name": "HBoxModel",
            "_view_module": "@jupyter-widgets/controls",
            "_model_module_version": "1.5.0",
            "_view_count": null,
            "_view_module_version": "1.5.0",
            "box_style": "",
            "layout": "IPY_MODEL_ad41305f55f247b88b97ed7ee657907c",
            "_model_module": "@jupyter-widgets/controls",
            "children": [
              "IPY_MODEL_a4c7475d67d94a8daa0792bb3d44b91a",
              "IPY_MODEL_048ba86651954fa0a88ef955ebd599f5",
              "IPY_MODEL_bd7c94a6702a44c498c84a60ae7abbf4"
            ]
          }
        },
        "ad41305f55f247b88b97ed7ee657907c": {
          "model_module": "@jupyter-widgets/base",
          "model_name": "LayoutModel",
          "model_module_version": "1.2.0",
          "state": {
            "_view_name": "LayoutView",
            "grid_template_rows": null,
            "right": null,
            "justify_content": null,
            "_view_module": "@jupyter-widgets/base",
            "overflow": null,
            "_model_module_version": "1.2.0",
            "_view_count": null,
            "flex_flow": null,
            "width": null,
            "min_width": null,
            "border": null,
            "align_items": null,
            "bottom": null,
            "_model_module": "@jupyter-widgets/base",
            "top": null,
            "grid_column": null,
            "overflow_y": null,
            "overflow_x": null,
            "grid_auto_flow": null,
            "grid_area": null,
            "grid_template_columns": null,
            "flex": null,
            "_model_name": "LayoutModel",
            "justify_items": null,
            "grid_row": null,
            "max_height": null,
            "align_content": null,
            "visibility": null,
            "align_self": null,
            "height": null,
            "min_height": null,
            "padding": null,
            "grid_auto_rows": null,
            "grid_gap": null,
            "max_width": null,
            "order": null,
            "_view_module_version": "1.2.0",
            "grid_template_areas": null,
            "object_position": null,
            "object_fit": null,
            "grid_auto_columns": null,
            "margin": null,
            "display": null,
            "left": null
          }
        },
        "a4c7475d67d94a8daa0792bb3d44b91a": {
          "model_module": "@jupyter-widgets/controls",
          "model_name": "HTMLModel",
          "model_module_version": "1.5.0",
          "state": {
            "_view_name": "HTMLView",
            "style": "IPY_MODEL_3514338e31ab466da3958223736ef9c7",
            "_dom_classes": [],
            "description": "",
            "_model_name": "HTMLModel",
            "placeholder": "​",
            "_view_module": "@jupyter-widgets/controls",
            "_model_module_version": "1.5.0",
            "value": "Stack_CV: 100%",
            "_view_count": null,
            "_view_module_version": "1.5.0",
            "description_tooltip": null,
            "_model_module": "@jupyter-widgets/controls",
            "layout": "IPY_MODEL_292082f6b95742febc44cbae0172a169"
          }
        },
        "048ba86651954fa0a88ef955ebd599f5": {
          "model_module": "@jupyter-widgets/controls",
          "model_name": "FloatProgressModel",
          "model_module_version": "1.5.0",
          "state": {
            "_view_name": "ProgressView",
            "style": "IPY_MODEL_004281bebc9547fe998cc11947421f6f",
            "_dom_classes": [],
            "description": "",
            "_model_name": "FloatProgressModel",
            "bar_style": "success",
            "max": 5,
            "_view_module": "@jupyter-widgets/controls",
            "_model_module_version": "1.5.0",
            "value": 5,
            "_view_count": null,
            "_view_module_version": "1.5.0",
            "orientation": "horizontal",
            "min": 0,
            "description_tooltip": null,
            "_model_module": "@jupyter-widgets/controls",
            "layout": "IPY_MODEL_57e1cf3a55e644cbb8e433e3947326b5"
          }
        },
        "bd7c94a6702a44c498c84a60ae7abbf4": {
          "model_module": "@jupyter-widgets/controls",
          "model_name": "HTMLModel",
          "model_module_version": "1.5.0",
          "state": {
            "_view_name": "HTMLView",
            "style": "IPY_MODEL_fece45009af346fcaf974063b56134b4",
            "_dom_classes": [],
            "description": "",
            "_model_name": "HTMLModel",
            "placeholder": "​",
            "_view_module": "@jupyter-widgets/controls",
            "_model_module_version": "1.5.0",
            "value": " 5/5 [02:52&lt;00:00, 34.48s/it]",
            "_view_count": null,
            "_view_module_version": "1.5.0",
            "description_tooltip": null,
            "_model_module": "@jupyter-widgets/controls",
            "layout": "IPY_MODEL_a30920385a6a4286be7e7377b5a50046"
          }
        },
        "3514338e31ab466da3958223736ef9c7": {
          "model_module": "@jupyter-widgets/controls",
          "model_name": "DescriptionStyleModel",
          "model_module_version": "1.5.0",
          "state": {
            "_view_name": "StyleView",
            "_model_name": "DescriptionStyleModel",
            "description_width": "",
            "_view_module": "@jupyter-widgets/base",
            "_model_module_version": "1.5.0",
            "_view_count": null,
            "_view_module_version": "1.2.0",
            "_model_module": "@jupyter-widgets/controls"
          }
        },
        "292082f6b95742febc44cbae0172a169": {
          "model_module": "@jupyter-widgets/base",
          "model_name": "LayoutModel",
          "model_module_version": "1.2.0",
          "state": {
            "_view_name": "LayoutView",
            "grid_template_rows": null,
            "right": null,
            "justify_content": null,
            "_view_module": "@jupyter-widgets/base",
            "overflow": null,
            "_model_module_version": "1.2.0",
            "_view_count": null,
            "flex_flow": null,
            "width": null,
            "min_width": null,
            "border": null,
            "align_items": null,
            "bottom": null,
            "_model_module": "@jupyter-widgets/base",
            "top": null,
            "grid_column": null,
            "overflow_y": null,
            "overflow_x": null,
            "grid_auto_flow": null,
            "grid_area": null,
            "grid_template_columns": null,
            "flex": null,
            "_model_name": "LayoutModel",
            "justify_items": null,
            "grid_row": null,
            "max_height": null,
            "align_content": null,
            "visibility": null,
            "align_self": null,
            "height": null,
            "min_height": null,
            "padding": null,
            "grid_auto_rows": null,
            "grid_gap": null,
            "max_width": null,
            "order": null,
            "_view_module_version": "1.2.0",
            "grid_template_areas": null,
            "object_position": null,
            "object_fit": null,
            "grid_auto_columns": null,
            "margin": null,
            "display": null,
            "left": null
          }
        },
        "004281bebc9547fe998cc11947421f6f": {
          "model_module": "@jupyter-widgets/controls",
          "model_name": "ProgressStyleModel",
          "model_module_version": "1.5.0",
          "state": {
            "_view_name": "StyleView",
            "_model_name": "ProgressStyleModel",
            "description_width": "",
            "_view_module": "@jupyter-widgets/base",
            "_model_module_version": "1.5.0",
            "_view_count": null,
            "_view_module_version": "1.2.0",
            "bar_color": null,
            "_model_module": "@jupyter-widgets/controls"
          }
        },
        "57e1cf3a55e644cbb8e433e3947326b5": {
          "model_module": "@jupyter-widgets/base",
          "model_name": "LayoutModel",
          "model_module_version": "1.2.0",
          "state": {
            "_view_name": "LayoutView",
            "grid_template_rows": null,
            "right": null,
            "justify_content": null,
            "_view_module": "@jupyter-widgets/base",
            "overflow": null,
            "_model_module_version": "1.2.0",
            "_view_count": null,
            "flex_flow": null,
            "width": null,
            "min_width": null,
            "border": null,
            "align_items": null,
            "bottom": null,
            "_model_module": "@jupyter-widgets/base",
            "top": null,
            "grid_column": null,
            "overflow_y": null,
            "overflow_x": null,
            "grid_auto_flow": null,
            "grid_area": null,
            "grid_template_columns": null,
            "flex": null,
            "_model_name": "LayoutModel",
            "justify_items": null,
            "grid_row": null,
            "max_height": null,
            "align_content": null,
            "visibility": null,
            "align_self": null,
            "height": null,
            "min_height": null,
            "padding": null,
            "grid_auto_rows": null,
            "grid_gap": null,
            "max_width": null,
            "order": null,
            "_view_module_version": "1.2.0",
            "grid_template_areas": null,
            "object_position": null,
            "object_fit": null,
            "grid_auto_columns": null,
            "margin": null,
            "display": null,
            "left": null
          }
        },
        "fece45009af346fcaf974063b56134b4": {
          "model_module": "@jupyter-widgets/controls",
          "model_name": "DescriptionStyleModel",
          "model_module_version": "1.5.0",
          "state": {
            "_view_name": "StyleView",
            "_model_name": "DescriptionStyleModel",
            "description_width": "",
            "_view_module": "@jupyter-widgets/base",
            "_model_module_version": "1.5.0",
            "_view_count": null,
            "_view_module_version": "1.2.0",
            "_model_module": "@jupyter-widgets/controls"
          }
        },
        "a30920385a6a4286be7e7377b5a50046": {
          "model_module": "@jupyter-widgets/base",
          "model_name": "LayoutModel",
          "model_module_version": "1.2.0",
          "state": {
            "_view_name": "LayoutView",
            "grid_template_rows": null,
            "right": null,
            "justify_content": null,
            "_view_module": "@jupyter-widgets/base",
            "overflow": null,
            "_model_module_version": "1.2.0",
            "_view_count": null,
            "flex_flow": null,
            "width": null,
            "min_width": null,
            "border": null,
            "align_items": null,
            "bottom": null,
            "_model_module": "@jupyter-widgets/base",
            "top": null,
            "grid_column": null,
            "overflow_y": null,
            "overflow_x": null,
            "grid_auto_flow": null,
            "grid_area": null,
            "grid_template_columns": null,
            "flex": null,
            "_model_name": "LayoutModel",
            "justify_items": null,
            "grid_row": null,
            "max_height": null,
            "align_content": null,
            "visibility": null,
            "align_self": null,
            "height": null,
            "min_height": null,
            "padding": null,
            "grid_auto_rows": null,
            "grid_gap": null,
            "max_width": null,
            "order": null,
            "_view_module_version": "1.2.0",
            "grid_template_areas": null,
            "object_position": null,
            "object_fit": null,
            "grid_auto_columns": null,
            "margin": null,
            "display": null,
            "left": null
          }
        },
        "e50aa07d520146628951ab3fd29601ca": {
          "model_module": "@jupyter-widgets/controls",
          "model_name": "HBoxModel",
          "model_module_version": "1.5.0",
          "state": {
            "_view_name": "HBoxView",
            "_dom_classes": [],
            "_model_name": "HBoxModel",
            "_view_module": "@jupyter-widgets/controls",
            "_model_module_version": "1.5.0",
            "_view_count": null,
            "_view_module_version": "1.5.0",
            "box_style": "",
            "layout": "IPY_MODEL_204fdb63ebbe4e459fcdaa0e3fd689e5",
            "_model_module": "@jupyter-widgets/controls",
            "children": [
              "IPY_MODEL_f805c44dacad42f5ac98941218fe1c95",
              "IPY_MODEL_2394adb7cd3c4e02b1762e171827b57d",
              "IPY_MODEL_0292e5c1b1db46f4b98e04487e634c25"
            ]
          }
        },
        "204fdb63ebbe4e459fcdaa0e3fd689e5": {
          "model_module": "@jupyter-widgets/base",
          "model_name": "LayoutModel",
          "model_module_version": "1.2.0",
          "state": {
            "_view_name": "LayoutView",
            "grid_template_rows": null,
            "right": null,
            "justify_content": null,
            "_view_module": "@jupyter-widgets/base",
            "overflow": null,
            "_model_module_version": "1.2.0",
            "_view_count": null,
            "flex_flow": null,
            "width": null,
            "min_width": null,
            "border": null,
            "align_items": null,
            "bottom": null,
            "_model_module": "@jupyter-widgets/base",
            "top": null,
            "grid_column": null,
            "overflow_y": null,
            "overflow_x": null,
            "grid_auto_flow": null,
            "grid_area": null,
            "grid_template_columns": null,
            "flex": null,
            "_model_name": "LayoutModel",
            "justify_items": null,
            "grid_row": null,
            "max_height": null,
            "align_content": null,
            "visibility": null,
            "align_self": null,
            "height": null,
            "min_height": null,
            "padding": null,
            "grid_auto_rows": null,
            "grid_gap": null,
            "max_width": null,
            "order": null,
            "_view_module_version": "1.2.0",
            "grid_template_areas": null,
            "object_position": null,
            "object_fit": null,
            "grid_auto_columns": null,
            "margin": null,
            "display": null,
            "left": null
          }
        },
        "f805c44dacad42f5ac98941218fe1c95": {
          "model_module": "@jupyter-widgets/controls",
          "model_name": "HTMLModel",
          "model_module_version": "1.5.0",
          "state": {
            "_view_name": "HTMLView",
            "style": "IPY_MODEL_83e1ae0e77134a32b646044ed7577c02",
            "_dom_classes": [],
            "description": "",
            "_model_name": "HTMLModel",
            "placeholder": "​",
            "_view_module": "@jupyter-widgets/controls",
            "_model_module_version": "1.5.0",
            "value": "Stack_CV: 100%",
            "_view_count": null,
            "_view_module_version": "1.5.0",
            "description_tooltip": null,
            "_model_module": "@jupyter-widgets/controls",
            "layout": "IPY_MODEL_48c7c5102c494269a706bc64414f7623"
          }
        },
        "2394adb7cd3c4e02b1762e171827b57d": {
          "model_module": "@jupyter-widgets/controls",
          "model_name": "FloatProgressModel",
          "model_module_version": "1.5.0",
          "state": {
            "_view_name": "ProgressView",
            "style": "IPY_MODEL_d28849d03470466d90177d5813ad4886",
            "_dom_classes": [],
            "description": "",
            "_model_name": "FloatProgressModel",
            "bar_style": "success",
            "max": 5,
            "_view_module": "@jupyter-widgets/controls",
            "_model_module_version": "1.5.0",
            "value": 5,
            "_view_count": null,
            "_view_module_version": "1.5.0",
            "orientation": "horizontal",
            "min": 0,
            "description_tooltip": null,
            "_model_module": "@jupyter-widgets/controls",
            "layout": "IPY_MODEL_e0c4901683a94c4998418fd3bd07a05c"
          }
        },
        "0292e5c1b1db46f4b98e04487e634c25": {
          "model_module": "@jupyter-widgets/controls",
          "model_name": "HTMLModel",
          "model_module_version": "1.5.0",
          "state": {
            "_view_name": "HTMLView",
            "style": "IPY_MODEL_8ac5dbfc9da346e39e0f3881a9b3efed",
            "_dom_classes": [],
            "description": "",
            "_model_name": "HTMLModel",
            "placeholder": "​",
            "_view_module": "@jupyter-widgets/controls",
            "_model_module_version": "1.5.0",
            "value": " 5/5 [03:45&lt;00:00, 44.73s/it]",
            "_view_count": null,
            "_view_module_version": "1.5.0",
            "description_tooltip": null,
            "_model_module": "@jupyter-widgets/controls",
            "layout": "IPY_MODEL_03d94941b0a8499bbad2488cc637fa82"
          }
        },
        "83e1ae0e77134a32b646044ed7577c02": {
          "model_module": "@jupyter-widgets/controls",
          "model_name": "DescriptionStyleModel",
          "model_module_version": "1.5.0",
          "state": {
            "_view_name": "StyleView",
            "_model_name": "DescriptionStyleModel",
            "description_width": "",
            "_view_module": "@jupyter-widgets/base",
            "_model_module_version": "1.5.0",
            "_view_count": null,
            "_view_module_version": "1.2.0",
            "_model_module": "@jupyter-widgets/controls"
          }
        },
        "48c7c5102c494269a706bc64414f7623": {
          "model_module": "@jupyter-widgets/base",
          "model_name": "LayoutModel",
          "model_module_version": "1.2.0",
          "state": {
            "_view_name": "LayoutView",
            "grid_template_rows": null,
            "right": null,
            "justify_content": null,
            "_view_module": "@jupyter-widgets/base",
            "overflow": null,
            "_model_module_version": "1.2.0",
            "_view_count": null,
            "flex_flow": null,
            "width": null,
            "min_width": null,
            "border": null,
            "align_items": null,
            "bottom": null,
            "_model_module": "@jupyter-widgets/base",
            "top": null,
            "grid_column": null,
            "overflow_y": null,
            "overflow_x": null,
            "grid_auto_flow": null,
            "grid_area": null,
            "grid_template_columns": null,
            "flex": null,
            "_model_name": "LayoutModel",
            "justify_items": null,
            "grid_row": null,
            "max_height": null,
            "align_content": null,
            "visibility": null,
            "align_self": null,
            "height": null,
            "min_height": null,
            "padding": null,
            "grid_auto_rows": null,
            "grid_gap": null,
            "max_width": null,
            "order": null,
            "_view_module_version": "1.2.0",
            "grid_template_areas": null,
            "object_position": null,
            "object_fit": null,
            "grid_auto_columns": null,
            "margin": null,
            "display": null,
            "left": null
          }
        },
        "d28849d03470466d90177d5813ad4886": {
          "model_module": "@jupyter-widgets/controls",
          "model_name": "ProgressStyleModel",
          "model_module_version": "1.5.0",
          "state": {
            "_view_name": "StyleView",
            "_model_name": "ProgressStyleModel",
            "description_width": "",
            "_view_module": "@jupyter-widgets/base",
            "_model_module_version": "1.5.0",
            "_view_count": null,
            "_view_module_version": "1.2.0",
            "bar_color": null,
            "_model_module": "@jupyter-widgets/controls"
          }
        },
        "e0c4901683a94c4998418fd3bd07a05c": {
          "model_module": "@jupyter-widgets/base",
          "model_name": "LayoutModel",
          "model_module_version": "1.2.0",
          "state": {
            "_view_name": "LayoutView",
            "grid_template_rows": null,
            "right": null,
            "justify_content": null,
            "_view_module": "@jupyter-widgets/base",
            "overflow": null,
            "_model_module_version": "1.2.0",
            "_view_count": null,
            "flex_flow": null,
            "width": null,
            "min_width": null,
            "border": null,
            "align_items": null,
            "bottom": null,
            "_model_module": "@jupyter-widgets/base",
            "top": null,
            "grid_column": null,
            "overflow_y": null,
            "overflow_x": null,
            "grid_auto_flow": null,
            "grid_area": null,
            "grid_template_columns": null,
            "flex": null,
            "_model_name": "LayoutModel",
            "justify_items": null,
            "grid_row": null,
            "max_height": null,
            "align_content": null,
            "visibility": null,
            "align_self": null,
            "height": null,
            "min_height": null,
            "padding": null,
            "grid_auto_rows": null,
            "grid_gap": null,
            "max_width": null,
            "order": null,
            "_view_module_version": "1.2.0",
            "grid_template_areas": null,
            "object_position": null,
            "object_fit": null,
            "grid_auto_columns": null,
            "margin": null,
            "display": null,
            "left": null
          }
        },
        "8ac5dbfc9da346e39e0f3881a9b3efed": {
          "model_module": "@jupyter-widgets/controls",
          "model_name": "DescriptionStyleModel",
          "model_module_version": "1.5.0",
          "state": {
            "_view_name": "StyleView",
            "_model_name": "DescriptionStyleModel",
            "description_width": "",
            "_view_module": "@jupyter-widgets/base",
            "_model_module_version": "1.5.0",
            "_view_count": null,
            "_view_module_version": "1.2.0",
            "_model_module": "@jupyter-widgets/controls"
          }
        },
        "03d94941b0a8499bbad2488cc637fa82": {
          "model_module": "@jupyter-widgets/base",
          "model_name": "LayoutModel",
          "model_module_version": "1.2.0",
          "state": {
            "_view_name": "LayoutView",
            "grid_template_rows": null,
            "right": null,
            "justify_content": null,
            "_view_module": "@jupyter-widgets/base",
            "overflow": null,
            "_model_module_version": "1.2.0",
            "_view_count": null,
            "flex_flow": null,
            "width": null,
            "min_width": null,
            "border": null,
            "align_items": null,
            "bottom": null,
            "_model_module": "@jupyter-widgets/base",
            "top": null,
            "grid_column": null,
            "overflow_y": null,
            "overflow_x": null,
            "grid_auto_flow": null,
            "grid_area": null,
            "grid_template_columns": null,
            "flex": null,
            "_model_name": "LayoutModel",
            "justify_items": null,
            "grid_row": null,
            "max_height": null,
            "align_content": null,
            "visibility": null,
            "align_self": null,
            "height": null,
            "min_height": null,
            "padding": null,
            "grid_auto_rows": null,
            "grid_gap": null,
            "max_width": null,
            "order": null,
            "_view_module_version": "1.2.0",
            "grid_template_areas": null,
            "object_position": null,
            "object_fit": null,
            "grid_auto_columns": null,
            "margin": null,
            "display": null,
            "left": null
          }
        }
      }
    }
  },
  "nbformat": 4,
  "nbformat_minor": 0
}