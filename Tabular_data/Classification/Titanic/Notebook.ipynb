{
  "nbformat": 4,
  "nbformat_minor": 0,
  "metadata": {
    "colab": {
      "provenance": [],
      "collapsed_sections": [],
      "authorship_tag": "ABX9TyPJ/ss9AbHuiXE8GsiJk7tR"
    },
    "kernelspec": {
      "name": "python3",
      "display_name": "Python 3"
    },
    "language_info": {
      "name": "python"
    }
  },
  "cells": [
    {
      "cell_type": "markdown",
      "source": [
        "# Before begins\n",
        "\n",
        "이 노트북은 google colab에서 작성되었습니다. <br>\n",
        "interactive 그래프 등 보다 나은 가독성을 위해 아래 링크로 접속하시길 권해드립니다.\n",
        "\n",
        "\n",
        "<a href=\"https://colab.research.google.com/drive/1okqZ7yFba9xVnke9Px3AapLunupCeMog?usp=sharing\" target=\"_parent\"><img src=\"https://colab.research.google.com/assets/colab-badge.svg\" alt=\"Open in Colab\"/></a>"
      ],
      "metadata": {
        "id": "i49HLNhKhNwE"
      }
    },
    {
      "cell_type": "markdown",
      "source": [
        "# Overview\n",
        "\n",
        "<br>\n",
        "\n",
        "## 컴피티션 개요\n",
        "\n",
        "<img src=\"https://storage.googleapis.com/kaggle-competitions/kaggle/3136/logos/thumb76_76.png\" width=40 align='left' alt=\"Open in Colab\"/></a>\n",
        "&nbsp; \n",
        "<font size=\"5\">[Titanic - Machine Learning from Disaster](https://www.kaggle.com/c/titanic)</font>\n",
        "\n",
        "- 문제 타입: (Binary) classification\n",
        "  - 타이타닉호 탑승 승객의 데이터를 이용해 생존 여부 예측\n",
        "- 평가 지표: Accuracy\n",
        "\n",
        "<br>\n",
        "\n",
        "## 분석 개요\n",
        "\n",
        "0. 사전 준비\n",
        "\n",
        "1. 데이터 처리\n",
        "\n",
        "  1.1. 데이터 불러오기 \n",
        "\n",
        "  1.2. Missing Value 처리 \n",
        "\n",
        "  1.3. 파생변수 생성\n",
        "\n",
        "  1.4. 변수 타입 변환\n",
        "\n",
        "  1.5. 변수 제거\n",
        "\n",
        "  1.6. 범주형 변수 Dummify\n",
        "\n",
        "  1.7. 연속형 변수 Scaling\n",
        "\n",
        "  1.8. Train & Test 분할\n",
        "\n",
        "  1.9. 이상치 탐지 (Training Data only)\n",
        "\n",
        "2. 모형 선택\n",
        "\n",
        "  2.0. 평가 설계\n",
        "\n",
        "  2.1. 하이퍼 파라미터 튜닝 & CV\n",
        "  \n",
        "  2.3. 모형 Ensemble & CV\n",
        "\n",
        "  2.4. CV 결과 비교 \n",
        "    - 최고 성능 모형: XGBoost \n",
        "      - CV 평균 Accuracy: 0.832772\n",
        "\n",
        "3. Test-set 예측 수행 (by 최종 모형)"
      ],
      "metadata": {
        "id": "0DJba08R1l9y"
      }
    },
    {
      "cell_type": "markdown",
      "source": [
        "# 0. 사전 준비\u001b"
      ],
      "metadata": {
        "id": "CLNNcWQ-Ecfy"
      }
    },
    {
      "cell_type": "markdown",
      "source": [
        "### > 패키지 설치\n",
        "작업에 필요한 패키지를 설치합니다."
      ],
      "metadata": {
        "id": "TadxdGwV6g6P"
      }
    },
    {
      "cell_type": "code",
      "source": [
        "!pip install tune_sklearn ray[tune] skorch -q"
      ],
      "metadata": {
        "colab": {
          "base_uri": "https://localhost:8080/"
        },
        "id": "jrA_Gcd76iaM",
        "outputId": "4be04067-6a87-4f35-805c-46314eae97c1"
      },
      "execution_count": null,
      "outputs": [
        {
          "output_type": "stream",
          "name": "stdout",
          "text": [
            "\u001b[K     |████████████████████████████████| 40 kB 2.7 MB/s \n",
            "\u001b[K     |████████████████████████████████| 60.5 MB 1.2 MB/s \n",
            "\u001b[K     |████████████████████████████████| 185 kB 18.0 MB/s \n",
            "\u001b[K     |████████████████████████████████| 4.1 MB 36.3 MB/s \n",
            "\u001b[K     |████████████████████████████████| 8.8 MB 33.8 MB/s \n",
            "\u001b[K     |████████████████████████████████| 125 kB 47.1 MB/s \n",
            "\u001b[K     |████████████████████████████████| 468 kB 6.2 MB/s \n",
            "\u001b[?25h"
          ]
        }
      ]
    },
    {
      "cell_type": "markdown",
      "source": [
        "### > Config 설정"
      ],
      "metadata": {
        "id": "H8oM-32fWDUH"
      }
    },
    {
      "cell_type": "code",
      "source": [
        "config = {\n",
        "    'data_name': 'Titanic',\n",
        "    'cv_num': 3,\n",
        "    'random_state': 2022\n",
        "}"
      ],
      "metadata": {
        "id": "PHuT_LCKEeaQ"
      },
      "execution_count": null,
      "outputs": []
    },
    {
      "cell_type": "markdown",
      "source": [
        "# 1. 데이터 처리\n",
        "\n",
        "- 모형 적합 전에 필요한 데이터 처리 작업을 step-by-step으로 수행합니다.  \n",
        "- 작업 중 선택사항의 경우 *optional* 표기를 해두었습니다. (작업을 순서대로 진행하도록 유의해주세요.)"
      ],
      "metadata": {
        "id": "gH2oJD3ezQD6"
      }
    },
    {
      "cell_type": "markdown",
      "source": [
        "## 1.1. 데이터 불러오기"
      ],
      "metadata": {
        "id": "ROLq1dG118am"
      }
    },
    {
      "cell_type": "markdown",
      "source": [
        "### > Kaggle API 이용해 Data 다운로드\n",
        "\n",
        "1. https://www.kaggle.com 접속 - [Account tab of your user profile](https://www.kaggle.com/me/account) 창 이동\n",
        "2. 'Create API Token' 클릭\n",
        "  - kaggle.json 파일 다운로드\n",
        "3. 아래의 코드 실행\n",
        "  - kaggle.json 파일 업로드"
      ],
      "metadata": {
        "id": "FmBNfQYxSJtB"
      }
    },
    {
      "cell_type": "code",
      "source": [
        "from google.colab import files\n",
        "\n",
        "# Upload Kaggle API key (kaggle.json)\n",
        "uploaded = files.upload()\n",
        "\n",
        "for fn in uploaded.keys():\n",
        "  print('User uploaded file \"{name}\" with length {length} bytes'.format(\n",
        "      name=fn, length=len(uploaded[fn])))\n",
        "  \n",
        "# Move kaggle.json into the folder where the API expects to find it.\n",
        "!mkdir -p ~/.kaggle/ && mv kaggle.json ~/.kaggle/ && chmod 600 ~/.kaggle/kaggle.json"
      ],
      "metadata": {
        "colab": {
          "base_uri": "https://localhost:8080/",
          "height": 92
        },
        "id": "eIrxx_-cRSrY",
        "outputId": "5f7dd181-fc3a-4576-e972-4cbc5ec8da2b"
      },
      "execution_count": null,
      "outputs": [
        {
          "output_type": "display_data",
          "data": {
            "text/plain": [
              "<IPython.core.display.HTML object>"
            ],
            "text/html": [
              "\n",
              "     <input type=\"file\" id=\"files-bdae1e2b-7d32-400d-8c9b-4a8bf118c037\" name=\"files[]\" multiple disabled\n",
              "        style=\"border:none\" />\n",
              "     <output id=\"result-bdae1e2b-7d32-400d-8c9b-4a8bf118c037\">\n",
              "      Upload widget is only available when the cell has been executed in the\n",
              "      current browser session. Please rerun this cell to enable.\n",
              "      </output>\n",
              "      <script>// Copyright 2017 Google LLC\n",
              "//\n",
              "// Licensed under the Apache License, Version 2.0 (the \"License\");\n",
              "// you may not use this file except in compliance with the License.\n",
              "// You may obtain a copy of the License at\n",
              "//\n",
              "//      http://www.apache.org/licenses/LICENSE-2.0\n",
              "//\n",
              "// Unless required by applicable law or agreed to in writing, software\n",
              "// distributed under the License is distributed on an \"AS IS\" BASIS,\n",
              "// WITHOUT WARRANTIES OR CONDITIONS OF ANY KIND, either express or implied.\n",
              "// See the License for the specific language governing permissions and\n",
              "// limitations under the License.\n",
              "\n",
              "/**\n",
              " * @fileoverview Helpers for google.colab Python module.\n",
              " */\n",
              "(function(scope) {\n",
              "function span(text, styleAttributes = {}) {\n",
              "  const element = document.createElement('span');\n",
              "  element.textContent = text;\n",
              "  for (const key of Object.keys(styleAttributes)) {\n",
              "    element.style[key] = styleAttributes[key];\n",
              "  }\n",
              "  return element;\n",
              "}\n",
              "\n",
              "// Max number of bytes which will be uploaded at a time.\n",
              "const MAX_PAYLOAD_SIZE = 100 * 1024;\n",
              "\n",
              "function _uploadFiles(inputId, outputId) {\n",
              "  const steps = uploadFilesStep(inputId, outputId);\n",
              "  const outputElement = document.getElementById(outputId);\n",
              "  // Cache steps on the outputElement to make it available for the next call\n",
              "  // to uploadFilesContinue from Python.\n",
              "  outputElement.steps = steps;\n",
              "\n",
              "  return _uploadFilesContinue(outputId);\n",
              "}\n",
              "\n",
              "// This is roughly an async generator (not supported in the browser yet),\n",
              "// where there are multiple asynchronous steps and the Python side is going\n",
              "// to poll for completion of each step.\n",
              "// This uses a Promise to block the python side on completion of each step,\n",
              "// then passes the result of the previous step as the input to the next step.\n",
              "function _uploadFilesContinue(outputId) {\n",
              "  const outputElement = document.getElementById(outputId);\n",
              "  const steps = outputElement.steps;\n",
              "\n",
              "  const next = steps.next(outputElement.lastPromiseValue);\n",
              "  return Promise.resolve(next.value.promise).then((value) => {\n",
              "    // Cache the last promise value to make it available to the next\n",
              "    // step of the generator.\n",
              "    outputElement.lastPromiseValue = value;\n",
              "    return next.value.response;\n",
              "  });\n",
              "}\n",
              "\n",
              "/**\n",
              " * Generator function which is called between each async step of the upload\n",
              " * process.\n",
              " * @param {string} inputId Element ID of the input file picker element.\n",
              " * @param {string} outputId Element ID of the output display.\n",
              " * @return {!Iterable<!Object>} Iterable of next steps.\n",
              " */\n",
              "function* uploadFilesStep(inputId, outputId) {\n",
              "  const inputElement = document.getElementById(inputId);\n",
              "  inputElement.disabled = false;\n",
              "\n",
              "  const outputElement = document.getElementById(outputId);\n",
              "  outputElement.innerHTML = '';\n",
              "\n",
              "  const pickedPromise = new Promise((resolve) => {\n",
              "    inputElement.addEventListener('change', (e) => {\n",
              "      resolve(e.target.files);\n",
              "    });\n",
              "  });\n",
              "\n",
              "  const cancel = document.createElement('button');\n",
              "  inputElement.parentElement.appendChild(cancel);\n",
              "  cancel.textContent = 'Cancel upload';\n",
              "  const cancelPromise = new Promise((resolve) => {\n",
              "    cancel.onclick = () => {\n",
              "      resolve(null);\n",
              "    };\n",
              "  });\n",
              "\n",
              "  // Wait for the user to pick the files.\n",
              "  const files = yield {\n",
              "    promise: Promise.race([pickedPromise, cancelPromise]),\n",
              "    response: {\n",
              "      action: 'starting',\n",
              "    }\n",
              "  };\n",
              "\n",
              "  cancel.remove();\n",
              "\n",
              "  // Disable the input element since further picks are not allowed.\n",
              "  inputElement.disabled = true;\n",
              "\n",
              "  if (!files) {\n",
              "    return {\n",
              "      response: {\n",
              "        action: 'complete',\n",
              "      }\n",
              "    };\n",
              "  }\n",
              "\n",
              "  for (const file of files) {\n",
              "    const li = document.createElement('li');\n",
              "    li.append(span(file.name, {fontWeight: 'bold'}));\n",
              "    li.append(span(\n",
              "        `(${file.type || 'n/a'}) - ${file.size} bytes, ` +\n",
              "        `last modified: ${\n",
              "            file.lastModifiedDate ? file.lastModifiedDate.toLocaleDateString() :\n",
              "                                    'n/a'} - `));\n",
              "    const percent = span('0% done');\n",
              "    li.appendChild(percent);\n",
              "\n",
              "    outputElement.appendChild(li);\n",
              "\n",
              "    const fileDataPromise = new Promise((resolve) => {\n",
              "      const reader = new FileReader();\n",
              "      reader.onload = (e) => {\n",
              "        resolve(e.target.result);\n",
              "      };\n",
              "      reader.readAsArrayBuffer(file);\n",
              "    });\n",
              "    // Wait for the data to be ready.\n",
              "    let fileData = yield {\n",
              "      promise: fileDataPromise,\n",
              "      response: {\n",
              "        action: 'continue',\n",
              "      }\n",
              "    };\n",
              "\n",
              "    // Use a chunked sending to avoid message size limits. See b/62115660.\n",
              "    let position = 0;\n",
              "    do {\n",
              "      const length = Math.min(fileData.byteLength - position, MAX_PAYLOAD_SIZE);\n",
              "      const chunk = new Uint8Array(fileData, position, length);\n",
              "      position += length;\n",
              "\n",
              "      const base64 = btoa(String.fromCharCode.apply(null, chunk));\n",
              "      yield {\n",
              "        response: {\n",
              "          action: 'append',\n",
              "          file: file.name,\n",
              "          data: base64,\n",
              "        },\n",
              "      };\n",
              "\n",
              "      let percentDone = fileData.byteLength === 0 ?\n",
              "          100 :\n",
              "          Math.round((position / fileData.byteLength) * 100);\n",
              "      percent.textContent = `${percentDone}% done`;\n",
              "\n",
              "    } while (position < fileData.byteLength);\n",
              "  }\n",
              "\n",
              "  // All done.\n",
              "  yield {\n",
              "    response: {\n",
              "      action: 'complete',\n",
              "    }\n",
              "  };\n",
              "}\n",
              "\n",
              "scope.google = scope.google || {};\n",
              "scope.google.colab = scope.google.colab || {};\n",
              "scope.google.colab._files = {\n",
              "  _uploadFiles,\n",
              "  _uploadFilesContinue,\n",
              "};\n",
              "})(self);\n",
              "</script> "
            ]
          },
          "metadata": {}
        },
        {
          "output_type": "stream",
          "name": "stdout",
          "text": [
            "Saving kaggle.json to kaggle.json\n",
            "User uploaded file \"kaggle.json\" with length 66 bytes\n"
          ]
        }
      ]
    },
    {
      "cell_type": "code",
      "source": [
        "%%bash \n",
        "\n",
        "(mkdir Titanic\n",
        "cd Titanic\n",
        "kaggle competitions download -c titanic\n",
        "unzip titanic\n",
        ")"
      ],
      "metadata": {
        "colab": {
          "base_uri": "https://localhost:8080/"
        },
        "id": "cqBR0ZT1RZA5",
        "outputId": "38a05582-11d1-4799-a36a-211e4339d878"
      },
      "execution_count": null,
      "outputs": [
        {
          "output_type": "stream",
          "name": "stdout",
          "text": [
            "Downloading titanic.zip to /content/Titanic\n",
            "\n",
            "Archive:  titanic.zip\n",
            "  inflating: gender_submission.csv   \n",
            "  inflating: test.csv                \n",
            "  inflating: train.csv               \n"
          ]
        },
        {
          "output_type": "stream",
          "name": "stderr",
          "text": [
            "\r  0%|          | 0.00/34.1k [00:00<?, ?B/s]\r100%|██████████| 34.1k/34.1k [00:00<00:00, 20.2MB/s]\n"
          ]
        }
      ]
    },
    {
      "cell_type": "markdown",
      "source": [
        "### > 작업환경으로 데이터 불러오기 "
      ],
      "metadata": {
        "id": "ntNOC1837W-j"
      }
    },
    {
      "cell_type": "code",
      "source": [
        "import numpy as np\n",
        "import pandas as pd\n",
        "import os\n",
        "\n",
        "train = pd.read_csv('/content/{}/train.csv'.format(config['data_name']))\n",
        "test = pd.read_csv('/content/{}/test.csv'.format(config['data_name']))"
      ],
      "metadata": {
        "id": "OmHiIN8l4HrR"
      },
      "execution_count": null,
      "outputs": []
    },
    {
      "cell_type": "markdown",
      "source": [
        "### > train과 test 병합\n",
        "\n",
        "- 데이터 전처리는 train과 test 데이터에 대해 동일하게 적용\n",
        "- 한번에 처리하기 위해 두 데이터를 병합 (단, 종속변수인 Survived는 제외)"
      ],
      "metadata": {
        "id": "3PHhKPXR3cYC"
      }
    },
    {
      "cell_type": "code",
      "source": [
        "all_features = pd.concat((train.drop(['Survived'], axis=1), test), axis=0)"
      ],
      "metadata": {
        "id": "bNH2UB_vEsX8"
      },
      "execution_count": null,
      "outputs": []
    },
    {
      "cell_type": "markdown",
      "source": [
        "## 1.2. 결측치 처리\n",
        "\n",
        "결측치 (NA)는 모형 적합 전에 반드시 적절하게 처리되어야 합니다. \n",
        "대표적인 처리 방법은 아래의 세가지가 있습니다.\n",
        "1. NA값 존재 변수 제거\n",
        "2. NA값 존재 행 (row) 제거\n",
        "3. NA값을 다른 값으로 대체\n",
        "\n",
        "위 세가지 방법 중 하나를 고르는 것은 전적으로 데이터 분석가의 판단 영역입니다. 주어진 상황에 맞게 적절한 방식을 선택하는 것이 굉장히 중요합니다. (예: 하나의 변수에 너무 NA가 대부분의 비중을 차지한다면 해당 변수를 제거)\n",
        "\n",
        "제가 주로 사용하는 방법은 NA가 존재하는 변수와 관련이 있는 다른 변수와의 관계를 이용해 NA 값을 대체하는 것입니다. 아래의 예제를 통해 구체적인 방법을 설명 드리도록 하겠습니다."
      ],
      "metadata": {
        "id": "Fia79Yb4YfnR"
      }
    },
    {
      "cell_type": "markdown",
      "source": [
        "### 1.2.1. 각 변수별 결측치 확인\n",
        "\n",
        "- Age, Fare, Cabin, Embarked 변수에 결측치가 존재"
      ],
      "metadata": {
        "id": "e2dj4rgtFDvP"
      }
    },
    {
      "cell_type": "code",
      "source": [
        "import missingno as msno\n",
        "msno.bar(all_features, figsize=(5, 3))"
      ],
      "metadata": {
        "colab": {
          "base_uri": "https://localhost:8080/",
          "height": 345
        },
        "id": "yKFVwFt1E4pV",
        "outputId": "fa35f0d5-abd7-4dfc-aca6-f1e431e8ed91"
      },
      "execution_count": null,
      "outputs": [
        {
          "output_type": "execute_result",
          "data": {
            "text/plain": [
              "<matplotlib.axes._subplots.AxesSubplot at 0x7f6082377490>"
            ]
          },
          "metadata": {},
          "execution_count": 7
        },
        {
          "output_type": "display_data",
          "data": {
            "text/plain": [
              "<Figure size 360x216 with 3 Axes>"
            ],
            "image/png": "[encoded data removed]"
          },
          "metadata": {
            "needs_background": "light"
          }
        }
      ]
    },
    {
      "cell_type": "markdown",
      "source": [
        "### 1.2.2. 결측치 처리"
      ],
      "metadata": {
        "id": "_--Q2V2e7r-h"
      }
    },
    {
      "cell_type": "markdown",
      "source": [
        "#### > 결측값 대체: Embarked\n",
        "\n",
        "- 방식: Pclass를 기준으로 그룹 나눈 후 각 그룹의 최다 Embarked 값으로 NA 대체\n",
        "\n",
        "- 배경:\n",
        "  - 아래 그림을 통해 Embarked의 분포가 Pclass에 따라 다른 것을 확인\n",
        "  - 이는 사람들의 승차권 등급 (Pclass)에 따라 향하는 목적지 (Embarked)가 다르기 때문이라고 유추 가능\n"
      ],
      "metadata": {
        "id": "7b60mgO6YhkT"
      }
    },
    {
      "cell_type": "code",
      "source": [
        "dfg = all_features.groupby(['Pclass', 'Embarked']).size().reset_index()\n",
        "dfg = dfg.rename(columns={0: 'Count'})\n",
        "\n",
        "import plotly.express as px\n",
        "px.bar(dfg, x='Pclass', y='Count', color='Embarked', width=400, height=400)"
      ],
      "metadata": {
        "colab": {
          "base_uri": "https://localhost:8080/",
          "height": 417
        },
        "id": "LHfRwcXuKHJq",
        "outputId": "7a0c2cea-dc43-4529-f6e6-9aa99b54dd40"
      },
      "execution_count": null,
      "outputs": [
        {
          "output_type": "display_data",
          "data": {
            "text/html": [
              "<html>\n",
              "<head><meta charset=\"utf-8\" /></head>\n",
              "<body>\n",
              "    <div>            <script src=\"https://cdnjs.cloudflare.com/ajax/libs/mathjax/2.7.5/MathJax.js?config=TeX-AMS-MML_SVG\"></script><script type=\"text/javascript\">if (window.MathJax) {MathJax.Hub.Config({SVG: {font: \"STIX-Web\"}});}</script>                <script type=\"text/javascript\">window.PlotlyConfig = {MathJaxConfig: 'local'};</script>\n",
              "        <script src=\"https://cdn.plot.ly/plotly-2.8.3.min.js\"></script>                <div id=\"4ddbbcd3-6621-4eeb-a1ef-fc586307726a\" class=\"plotly-graph-div\" style=\"height:400px; width:400px;\"></div>            <script type=\"text/javascript\">                                    window.PLOTLYENV=window.PLOTLYENV || {};                                    if (document.getElementById(\"4ddbbcd3-6621-4eeb-a1ef-fc586307726a\")) {                    Plotly.newPlot(                        \"4ddbbcd3-6621-4eeb-a1ef-fc586307726a\",                        [{\"alignmentgroup\":\"True\",\"hovertemplate\":\"Embarked=C<br>Pclass=%{x}<br>Count=%{y}<extra></extra>\",\"legendgroup\":\"C\",\"marker\":{\"color\":\"#636efa\",\"pattern\":{\"shape\":\"\"}},\"name\":\"C\",\"offsetgroup\":\"C\",\"orientation\":\"v\",\"showlegend\":true,\"textposition\":\"auto\",\"x\":[1,2,3],\"xaxis\":\"x\",\"y\":[141,28,101],\"yaxis\":\"y\",\"type\":\"bar\"},{\"alignmentgroup\":\"True\",\"hovertemplate\":\"Embarked=Q<br>Pclass=%{x}<br>Count=%{y}<extra></extra>\",\"legendgroup\":\"Q\",\"marker\":{\"color\":\"#EF553B\",\"pattern\":{\"shape\":\"\"}},\"name\":\"Q\",\"offsetgroup\":\"Q\",\"orientation\":\"v\",\"showlegend\":true,\"textposition\":\"auto\",\"x\":[1,2,3],\"xaxis\":\"x\",\"y\":[3,7,113],\"yaxis\":\"y\",\"type\":\"bar\"},{\"alignmentgroup\":\"True\",\"hovertemplate\":\"Embarked=S<br>Pclass=%{x}<br>Count=%{y}<extra></extra>\",\"legendgroup\":\"S\",\"marker\":{\"color\":\"#00cc96\",\"pattern\":{\"shape\":\"\"}},\"name\":\"S\",\"offsetgroup\":\"S\",\"orientation\":\"v\",\"showlegend\":true,\"textposition\":\"auto\",\"x\":[1,2,3],\"xaxis\":\"x\",\"y\":[177,242,495],\"yaxis\":\"y\",\"type\":\"bar\"}],                        {\"template\":{\"data\":{\"bar\":[{\"error_x\":{\"color\":\"#2a3f5f\"},\"error_y\":{\"color\":\"#2a3f5f\"},\"marker\":{\"line\":{\"color\":\"#E5ECF6\",\"width\":0.5},\"pattern\":{\"fillmode\":\"overlay\",\"size\":10,\"solidity\":0.2}},\"type\":\"bar\"}],\"barpolar\":[{\"marker\":{\"line\":{\"color\":\"#E5ECF6\",\"width\":0.5},\"pattern\":{\"fillmode\":\"overlay\",\"size\":10,\"solidity\":0.2}},\"type\":\"barpolar\"}],\"carpet\":[{\"aaxis\":{\"endlinecolor\":\"#2a3f5f\",\"gridcolor\":\"white\",\"linecolor\":\"white\",\"minorgridcolor\":\"white\",\"startlinecolor\":\"#2a3f5f\"},\"baxis\":{\"endlinecolor\":\"#2a3f5f\",\"gridcolor\":\"white\",\"linecolor\":\"white\",\"minorgridcolor\":\"white\",\"startlinecolor\":\"#2a3f5f\"},\"type\":\"carpet\"}],\"choropleth\":[{\"colorbar\":{\"outlinewidth\":0,\"ticks\":\"\"},\"type\":\"choropleth\"}],\"contour\":[{\"colorbar\":{\"outlinewidth\":0,\"ticks\":\"\"},\"colorscale\":[[0.0,\"#0d0887\"],[0.1111111111111111,\"#46039f\"],[0.2222222222222222,\"#7201a8\"],[0.3333333333333333,\"#9c179e\"],[0.4444444444444444,\"#bd3786\"],[0.5555555555555556,\"#d8576b\"],[0.6666666666666666,\"#ed7953\"],[0.7777777777777778,\"#fb9f3a\"],[0.8888888888888888,\"#fdca26\"],[1.0,\"#f0f921\"]],\"type\":\"contour\"}],\"contourcarpet\":[{\"colorbar\":{\"outlinewidth\":0,\"ticks\":\"\"},\"type\":\"contourcarpet\"}],\"heatmap\":[{\"colorbar\":{\"outlinewidth\":0,\"ticks\":\"\"},\"colorscale\":[[0.0,\"#0d0887\"],[0.1111111111111111,\"#46039f\"],[0.2222222222222222,\"#7201a8\"],[0.3333333333333333,\"#9c179e\"],[0.4444444444444444,\"#bd3786\"],[0.5555555555555556,\"#d8576b\"],[0.6666666666666666,\"#ed7953\"],[0.7777777777777778,\"#fb9f3a\"],[0.8888888888888888,\"#fdca26\"],[1.0,\"#f0f921\"]],\"type\":\"heatmap\"}],\"heatmapgl\":[{\"colorbar\":{\"outlinewidth\":0,\"ticks\":\"\"},\"colorscale\":[[0.0,\"#0d0887\"],[0.1111111111111111,\"#46039f\"],[0.2222222222222222,\"#7201a8\"],[0.3333333333333333,\"#9c179e\"],[0.4444444444444444,\"#bd3786\"],[0.5555555555555556,\"#d8576b\"],[0.6666666666666666,\"#ed7953\"],[0.7777777777777778,\"#fb9f3a\"],[0.8888888888888888,\"#fdca26\"],[1.0,\"#f0f921\"]],\"type\":\"heatmapgl\"}],\"histogram\":[{\"marker\":{\"pattern\":{\"fillmode\":\"overlay\",\"size\":10,\"solidity\":0.2}},\"type\":\"histogram\"}],\"histogram2d\":[{\"colorbar\":{\"outlinewidth\":0,\"ticks\":\"\"},\"colorscale\":[[0.0,\"#0d0887\"],[0.1111111111111111,\"#46039f\"],[0.2222222222222222,\"#7201a8\"],[0.3333333333333333,\"#9c179e\"],[0.4444444444444444,\"#bd3786\"],[0.5555555555555556,\"#d8576b\"],[0.6666666666666666,\"#ed7953\"],[0.7777777777777778,\"#fb9f3a\"],[0.8888888888888888,\"#fdca26\"],[1.0,\"#f0f921\"]],\"type\":\"histogram2d\"}],\"histogram2dcontour\":[{\"colorbar\":{\"outlinewidth\":0,\"ticks\":\"\"},\"colorscale\":[[0.0,\"#0d0887\"],[0.1111111111111111,\"#46039f\"],[0.2222222222222222,\"#7201a8\"],[0.3333333333333333,\"#9c179e\"],[0.4444444444444444,\"#bd3786\"],[0.5555555555555556,\"#d8576b\"],[0.6666666666666666,\"#ed7953\"],[0.7777777777777778,\"#fb9f3a\"],[0.8888888888888888,\"#fdca26\"],[1.0,\"#f0f921\"]],\"type\":\"histogram2dcontour\"}],\"mesh3d\":[{\"colorbar\":{\"outlinewidth\":0,\"ticks\":\"\"},\"type\":\"mesh3d\"}],\"parcoords\":[{\"line\":{\"colorbar\":{\"outlinewidth\":0,\"ticks\":\"\"}},\"type\":\"parcoords\"}],\"pie\":[{\"automargin\":true,\"type\":\"pie\"}],\"scatter\":[{\"marker\":{\"colorbar\":{\"outlinewidth\":0,\"ticks\":\"\"}},\"type\":\"scatter\"}],\"scatter3d\":[{\"line\":{\"colorbar\":{\"outlinewidth\":0,\"ticks\":\"\"}},\"marker\":{\"colorbar\":{\"outlinewidth\":0,\"ticks\":\"\"}},\"type\":\"scatter3d\"}],\"scattercarpet\":[{\"marker\":{\"colorbar\":{\"outlinewidth\":0,\"ticks\":\"\"}},\"type\":\"scattercarpet\"}],\"scattergeo\":[{\"marker\":{\"colorbar\":{\"outlinewidth\":0,\"ticks\":\"\"}},\"type\":\"scattergeo\"}],\"scattergl\":[{\"marker\":{\"colorbar\":{\"outlinewidth\":0,\"ticks\":\"\"}},\"type\":\"scattergl\"}],\"scattermapbox\":[{\"marker\":{\"colorbar\":{\"outlinewidth\":0,\"ticks\":\"\"}},\"type\":\"scattermapbox\"}],\"scatterpolar\":[{\"marker\":{\"colorbar\":{\"outlinewidth\":0,\"ticks\":\"\"}},\"type\":\"scatterpolar\"}],\"scatterpolargl\":[{\"marker\":{\"colorbar\":{\"outlinewidth\":0,\"ticks\":\"\"}},\"type\":\"scatterpolargl\"}],\"scatterternary\":[{\"marker\":{\"colorbar\":{\"outlinewidth\":0,\"ticks\":\"\"}},\"type\":\"scatterternary\"}],\"surface\":[{\"colorbar\":{\"outlinewidth\":0,\"ticks\":\"\"},\"colorscale\":[[0.0,\"#0d0887\"],[0.1111111111111111,\"#46039f\"],[0.2222222222222222,\"#7201a8\"],[0.3333333333333333,\"#9c179e\"],[0.4444444444444444,\"#bd3786\"],[0.5555555555555556,\"#d8576b\"],[0.6666666666666666,\"#ed7953\"],[0.7777777777777778,\"#fb9f3a\"],[0.8888888888888888,\"#fdca26\"],[1.0,\"#f0f921\"]],\"type\":\"surface\"}],\"table\":[{\"cells\":{\"fill\":{\"color\":\"#EBF0F8\"},\"line\":{\"color\":\"white\"}},\"header\":{\"fill\":{\"color\":\"#C8D4E3\"},\"line\":{\"color\":\"white\"}},\"type\":\"table\"}]},\"layout\":{\"annotationdefaults\":{\"arrowcolor\":\"#2a3f5f\",\"arrowhead\":0,\"arrowwidth\":1},\"autotypenumbers\":\"strict\",\"coloraxis\":{\"colorbar\":{\"outlinewidth\":0,\"ticks\":\"\"}},\"colorscale\":{\"diverging\":[[0,\"#8e0152\"],[0.1,\"#c51b7d\"],[0.2,\"#de77ae\"],[0.3,\"#f1b6da\"],[0.4,\"#fde0ef\"],[0.5,\"#f7f7f7\"],[0.6,\"#e6f5d0\"],[0.7,\"#b8e186\"],[0.8,\"#7fbc41\"],[0.9,\"#4d9221\"],[1,\"#276419\"]],\"sequential\":[[0.0,\"#0d0887\"],[0.1111111111111111,\"#46039f\"],[0.2222222222222222,\"#7201a8\"],[0.3333333333333333,\"#9c179e\"],[0.4444444444444444,\"#bd3786\"],[0.5555555555555556,\"#d8576b\"],[0.6666666666666666,\"#ed7953\"],[0.7777777777777778,\"#fb9f3a\"],[0.8888888888888888,\"#fdca26\"],[1.0,\"#f0f921\"]],\"sequentialminus\":[[0.0,\"#0d0887\"],[0.1111111111111111,\"#46039f\"],[0.2222222222222222,\"#7201a8\"],[0.3333333333333333,\"#9c179e\"],[0.4444444444444444,\"#bd3786\"],[0.5555555555555556,\"#d8576b\"],[0.6666666666666666,\"#ed7953\"],[0.7777777777777778,\"#fb9f3a\"],[0.8888888888888888,\"#fdca26\"],[1.0,\"#f0f921\"]]},\"colorway\":[\"#636efa\",\"#EF553B\",\"#00cc96\",\"#ab63fa\",\"#FFA15A\",\"#19d3f3\",\"#FF6692\",\"#B6E880\",\"#FF97FF\",\"#FECB52\"],\"font\":{\"color\":\"#2a3f5f\"},\"geo\":{\"bgcolor\":\"white\",\"lakecolor\":\"white\",\"landcolor\":\"#E5ECF6\",\"showlakes\":true,\"showland\":true,\"subunitcolor\":\"white\"},\"hoverlabel\":{\"align\":\"left\"},\"hovermode\":\"closest\",\"mapbox\":{\"style\":\"light\"},\"paper_bgcolor\":\"white\",\"plot_bgcolor\":\"#E5ECF6\",\"polar\":{\"angularaxis\":{\"gridcolor\":\"white\",\"linecolor\":\"white\",\"ticks\":\"\"},\"bgcolor\":\"#E5ECF6\",\"radialaxis\":{\"gridcolor\":\"white\",\"linecolor\":\"white\",\"ticks\":\"\"}},\"scene\":{\"xaxis\":{\"backgroundcolor\":\"#E5ECF6\",\"gridcolor\":\"white\",\"gridwidth\":2,\"linecolor\":\"white\",\"showbackground\":true,\"ticks\":\"\",\"zerolinecolor\":\"white\"},\"yaxis\":{\"backgroundcolor\":\"#E5ECF6\",\"gridcolor\":\"white\",\"gridwidth\":2,\"linecolor\":\"white\",\"showbackground\":true,\"ticks\":\"\",\"zerolinecolor\":\"white\"},\"zaxis\":{\"backgroundcolor\":\"#E5ECF6\",\"gridcolor\":\"white\",\"gridwidth\":2,\"linecolor\":\"white\",\"showbackground\":true,\"ticks\":\"\",\"zerolinecolor\":\"white\"}},\"shapedefaults\":{\"line\":{\"color\":\"#2a3f5f\"}},\"ternary\":{\"aaxis\":{\"gridcolor\":\"white\",\"linecolor\":\"white\",\"ticks\":\"\"},\"baxis\":{\"gridcolor\":\"white\",\"linecolor\":\"white\",\"ticks\":\"\"},\"bgcolor\":\"#E5ECF6\",\"caxis\":{\"gridcolor\":\"white\",\"linecolor\":\"white\",\"ticks\":\"\"}},\"title\":{\"x\":0.05},\"xaxis\":{\"automargin\":true,\"gridcolor\":\"white\",\"linecolor\":\"white\",\"ticks\":\"\",\"title\":{\"standoff\":15},\"zerolinecolor\":\"white\",\"zerolinewidth\":2},\"yaxis\":{\"automargin\":true,\"gridcolor\":\"white\",\"linecolor\":\"white\",\"ticks\":\"\",\"title\":{\"standoff\":15},\"zerolinecolor\":\"white\",\"zerolinewidth\":2}}},\"xaxis\":{\"anchor\":\"y\",\"domain\":[0.0,1.0],\"title\":{\"text\":\"Pclass\"}},\"yaxis\":{\"anchor\":\"x\",\"domain\":[0.0,1.0],\"title\":{\"text\":\"Count\"}},\"legend\":{\"title\":{\"text\":\"Embarked\"},\"tracegroupgap\":0},\"margin\":{\"t\":60},\"barmode\":\"relative\",\"height\":400,\"width\":400},                        {\"responsive\": true}                    ).then(function(){\n",
              "                            \n",
              "var gd = document.getElementById('4ddbbcd3-6621-4eeb-a1ef-fc586307726a');\n",
              "var x = new MutationObserver(function (mutations, observer) {{\n",
              "        var display = window.getComputedStyle(gd).display;\n",
              "        if (!display || display === 'none') {{\n",
              "            console.log([gd, 'removed!']);\n",
              "            Plotly.purge(gd);\n",
              "            observer.disconnect();\n",
              "        }}\n",
              "}});\n",
              "\n",
              "// Listen for the removal of the full notebook cells\n",
              "var notebookContainer = gd.closest('#notebook-container');\n",
              "if (notebookContainer) {{\n",
              "    x.observe(notebookContainer, {childList: true});\n",
              "}}\n",
              "\n",
              "// Listen for the clearing of the current output cell\n",
              "var outputEl = gd.closest('.output');\n",
              "if (outputEl) {{\n",
              "    x.observe(outputEl, {childList: true});\n",
              "}}\n",
              "\n",
              "                        })                };                            </script>        </div>\n",
              "</body>\n",
              "</html>"
            ]
          },
          "metadata": {}
        }
      ]
    },
    {
      "cell_type": "code",
      "source": [
        "# Impute NA values in 'Embarked' by mode value of 'Embarked' grouped by 'Pcalss'\n",
        "all_features['Embarked'] = all_features['Embarked'].fillna(all_features.groupby(['Pclass'])['Embarked'].transform(lambda x:x.value_counts().index[0]))"
      ],
      "metadata": {
        "id": "KDt8xNJwLm7U"
      },
      "execution_count": null,
      "outputs": []
    },
    {
      "cell_type": "markdown",
      "source": [
        "#### > 결측값 대체: Fare\n",
        "\n",
        "- 방식: Pclass를 기준으로 그룹 나눈 후 각 그룹의 Median Fare 값으로 NA 대체\n",
        "\n",
        "- 배경:\n",
        "  - 아래 그림을 통해 Pclass (승차권 등급)에 따라 Fare의 분포 차이 확인 \n",
        "    - 두 그룹의 Fare 평균 차이의 통계적 유의성 확인 위해 ANOVA 테스트 진행\n",
        "  - 즉, 승차권 등급 (Pclass)에 따라 요금 (Fare) 차이 발생함 유추"
      ],
      "metadata": {
        "id": "Gq-IN_sINimU"
      }
    },
    {
      "cell_type": "code",
      "source": [
        "x = 'Pclass'\n",
        "y = 'Fare'\n",
        "\n",
        "import plotly.express as px\n",
        "fig = px.box(all_features, x=x, y=y, color=x, width=400, height=400)\n",
        "fig.show()\n",
        "\n",
        "import statsmodels.api as sm\n",
        "from statsmodels.formula.api import ols\n",
        "model = ols('{} ~ {}'.format(y, x), data=all_features).fit()\n",
        "anova_table = sm.stats.anova_lm(model, typ=2)\n",
        "print(anova_table)"
      ],
      "metadata": {
        "colab": {
          "base_uri": "https://localhost:8080/",
          "height": 471
        },
        "id": "i9QTUXm6N_xX",
        "outputId": "5a3f298d-ddb4-4a1d-c8b2-c40f2db65089"
      },
      "execution_count": null,
      "outputs": [
        {
          "output_type": "display_data",
          "data": {
            "text/html": [
              "<html>\n",
              "<head><meta charset=\"utf-8\" /></head>\n",
              "<body>\n",
              "    <div>            <script src=\"https://cdnjs.cloudflare.com/ajax/libs/mathjax/2.7.5/MathJax.js?config=TeX-AMS-MML_SVG\"></script><script type=\"text/javascript\">if (window.MathJax) {MathJax.Hub.Config({SVG: {font: \"STIX-Web\"}});}</script>                <script type=\"text/javascript\">window.PlotlyConfig = {MathJaxConfig: 'local'};</script>\n",
              "        <script src=\"https://cdn.plot.ly/plotly-2.8.3.min.js\"></script>                <div id=\"cbab2fe7-924c-4f12-84ee-2ffc5cb37b68\" class=\"plotly-graph-div\" style=\"height:400px; width:400px;\"></div>            <script type=\"text/javascript\">                                    window.PLOTLYENV=window.PLOTLYENV || {};                                    if (document.getElementById(\"cbab2fe7-924c-4f12-84ee-2ffc5cb37b68\")) {                    Plotly.newPlot(                        \"cbab2fe7-924c-4f12-84ee-2ffc5cb37b68\",                        [{\"alignmentgroup\":\"True\",\"hovertemplate\":\"Pclass=%{x}<br>Fare=%{y}<extra></extra>\",\"legendgroup\":\"3\",\"marker\":{\"color\":\"#636efa\"},\"name\":\"3\",\"notched\":false,\"offsetgroup\":\"3\",\"orientation\":\"v\",\"showlegend\":true,\"x\":[3,3,3,3,3,3,3,3,3,3,3,3,3,3,3,3,3,3,3,3,3,3,3,3,3,3,3,3,3,3,3,3,3,3,3,3,3,3,3,3,3,3,3,3,3,3,3,3,3,3,3,3,3,3,3,3,3,3,3,3,3,3,3,3,3,3,3,3,3,3,3,3,3,3,3,3,3,3,3,3,3,3,3,3,3,3,3,3,3,3,3,3,3,3,3,3,3,3,3,3,3,3,3,3,3,3,3,3,3,3,3,3,3,3,3,3,3,3,3,3,3,3,3,3,3,3,3,3,3,3,3,3,3,3,3,3,3,3,3,3,3,3,3,3,3,3,3,3,3,3,3,3,3,3,3,3,3,3,3,3,3,3,3,3,3,3,3,3,3,3,3,3,3,3,3,3,3,3,3,3,3,3,3,3,3,3,3,3,3,3,3,3,3,3,3,3,3,3,3,3,3,3,3,3,3,3,3,3,3,3,3,3,3,3,3,3,3,3,3,3,3,3,3,3,3,3,3,3,3,3,3,3,3,3,3,3,3,3,3,3,3,3,3,3,3,3,3,3,3,3,3,3,3,3,3,3,3,3,3,3,3,3,3,3,3,3,3,3,3,3,3,3,3,3,3,3,3,3,3,3,3,3,3,3,3,3,3,3,3,3,3,3,3,3,3,3,3,3,3,3,3,3,3,3,3,3,3,3,3,3,3,3,3,3,3,3,3,3,3,3,3,3,3,3,3,3,3,3,3,3,3,3,3,3,3,3,3,3,3,3,3,3,3,3,3,3,3,3,3,3,3,3,3,3,3,3,3,3,3,3,3,3,3,3,3,3,3,3,3,3,3,3,3,3,3,3,3,3,3,3,3,3,3,3,3,3,3,3,3,3,3,3,3,3,3,3,3,3,3,3,3,3,3,3,3,3,3,3,3,3,3,3,3,3,3,3,3,3,3,3,3,3,3,3,3,3,3,3,3,3,3,3,3,3,3,3,3,3,3,3,3,3,3,3,3,3,3,3,3,3,3,3,3,3,3,3,3,3,3,3,3,3,3,3,3,3,3,3,3,3,3,3,3,3,3,3,3,3,3,3,3,3,3,3,3,3,3,3,3,3,3,3,3,3,3,3,3,3,3,3,3,3,3,3,3,3,3,3,3,3,3,3,3,3,3,3,3,3,3,3,3,3,3,3,3,3,3,3,3,3,3,3,3,3,3,3,3,3,3,3,3,3,3,3,3,3,3,3,3,3,3,3,3,3,3,3,3,3,3,3,3,3,3,3,3,3,3,3,3,3,3,3,3,3,3,3,3,3,3,3,3,3,3,3,3,3,3,3,3,3,3,3,3,3,3,3,3,3,3,3,3,3,3,3,3,3,3,3,3,3,3,3,3,3,3,3,3,3,3,3,3,3,3,3,3,3,3,3,3,3,3,3,3,3,3,3,3,3,3,3,3,3,3,3,3,3,3,3,3,3,3,3,3,3,3,3,3,3,3,3,3,3,3,3,3,3,3,3,3,3,3,3,3,3,3,3,3,3,3,3,3,3,3,3,3,3,3,3,3,3,3,3,3,3,3,3,3,3,3,3,3,3,3,3,3,3,3,3,3],\"x0\":\" \",\"xaxis\":\"x\",\"y\":[7.25,7.925,8.05,8.4583,21.075,11.1333,16.7,8.05,31.275,7.8542,29.125,18.0,7.225,8.0292,21.075,31.3875,7.225,7.8792,7.8958,7.75,7.2292,8.05,18.0,11.2417,9.475,7.8958,7.8792,8.05,15.5,7.75,21.6792,17.8,39.6875,7.8,7.2292,46.9,7.2292,27.9,15.2458,8.1583,7.925,8.6625,46.9,14.4542,56.4958,7.65,7.8958,8.05,12.475,9.0,9.5,7.7875,15.85,34.375,8.05,8.05,8.05,7.8542,20.575,7.25,8.05,7.8958,7.8958,8.6542,7.925,7.8958,7.65,7.775,7.8958,24.15,14.4542,8.05,9.825,14.4583,7.925,7.75,31.275,8.05,11.2417,7.75,7.1417,22.3583,6.975,7.8958,7.05,14.5,9.2167,15.2458,7.75,15.85,6.75,7.7958,34.375,8.05,14.5,7.3125,7.7333,8.05,8.6625,69.55,16.1,7.775,8.6625,39.6875,20.525,27.9,56.4958,29.125,11.1333,7.925,7.8542,25.4667,0.0,69.55,31.3875,22.025,15.5,15.5,7.8958,7.8542,7.75,8.4042,7.75,9.5,69.55,6.4958,7.225,8.05,10.4625,15.85,18.7875,7.75,7.05,7.25,7.75,7.925,8.05,8.05,7.8958,9.35,7.25,25.4667,7.775,31.3875,7.55,14.4542,15.5,7.125,7.225,7.775,7.25,10.4625,16.1,20.2125,15.2458,7.75,31.3875,7.75,39.6875,7.775,0.0,7.75,7.75,29.125,20.25,7.75,7.8542,9.5,8.05,8.6625,9.5,7.8958,7.75,8.85,7.8958,7.2292,7.75,23.25,0.0,8.05,7.8958,7.8542,7.25,7.8958,69.55,6.2375,20.525,23.25,18.0,7.8958,8.05,16.1,15.9,8.6625,9.225,7.2292,17.8,7.225,9.5,7.8792,7.8792,27.9,14.4542,7.05,15.5,7.25,7.2292,7.75,6.4958,8.05,21.075,7.25,4.0125,7.775,15.7417,7.925,7.8958,46.9,7.7292,7.7958,7.925,16.7,7.7958,7.8542,7.925,8.05,9.825,15.85,8.6625,7.75,7.775,25.4667,7.8958,6.8583,7.925,8.05,24.15,7.8958,7.7333,7.875,14.4,20.2125,7.25,7.75,8.05,16.1,7.125,34.375,9.5,7.775,8.1125,19.2583,19.9667,8.05,7.8958,7.75,8.05,8.05,7.05,7.725,19.2583,7.25,8.6625,9.8375,7.0458,7.5208,12.2875,46.9,8.05,9.5875,25.4667,8.05,15.9,19.9667,7.25,8.05,14.4583,15.1,7.7958,8.6625,7.75,7.6292,9.5875,22.525,56.4958,7.75,8.05,7.4958,24.15,7.8958,7.8958,7.225,7.2292,7.75,7.925,7.2292,7.2292,22.3583,8.6625,14.5,31.275,31.275,20.525,7.8292,7.225,7.775,17.4,7.75,7.8958,8.05,8.05,24.15,7.8958,21.075,7.2292,7.8542,7.75,8.05,14.5,14.4583,7.925,8.7125,8.05,8.05,7.125,7.25,7.75,24.15,0.0,7.225,7.8958,8.05,15.55,7.8958,31.275,7.05,15.5,7.75,8.05,14.4,16.1,14.4542,15.7417,7.8542,16.1,7.8958,7.7333,7.0542,27.9,7.925,39.6875,16.1,7.8542,27.9,56.4958,19.2583,7.8958,7.55,7.55,7.8958,8.4333,7.8292,6.75,7.8958,15.5,7.225,7.4958,7.925,7.775,8.05,7.775,8.05,9.8417,46.9,8.1375,9.225,46.9,39.6875,10.1708,7.7958,13.4167,56.4958,7.225,8.05,7.7333,7.65,14.4542,7.7417,7.8542,15.2458,9.4833,7.65,15.5,7.775,7.0542,8.6625,7.7375,7.925,18.7875,16.1,34.375,7.8958,7.8958,16.1,7.925,20.25,7.75,12.475,9.5,7.8958,7.7958,8.05,14.5,7.125,7.2292,7.775,7.75,24.15,8.3625,9.5,7.8542,7.225,7.75,7.75,12.475,7.7375,7.2292,23.45,7.05,7.25,7.4958,29.125,20.575,7.75,69.55,7.8958,8.6833,7.2292,24.15,8.5167,6.975,7.775,7.775,7.8875,24.15,31.275,8.05,7.925,6.45,27.9,8.6625,12.475,39.6875,6.95,56.4958,7.75,14.4542,7.2292,7.8542,8.3,8.6625,8.05,56.4958,7.925,6.4375,8.6625,7.55,69.55,7.8958,31.275,7.775,15.2458,9.35,19.2583,7.2292,14.1083,69.55,9.5,11.1333,7.8958,9.0,7.225,9.8458,7.8958,7.8958,7.8958,10.5167,7.05,29.125,23.45,7.75,7.8292,7.0,8.6625,12.2875,9.225,7.6292,7.2292,24.15,7.8958,7.225,7.925,7.225,3.1708,14.5,7.225,21.6792,20.575,23.45,7.2292,8.05,8.6625,9.5,56.4958,13.4167,7.85,7.925,7.75,15.9,29.125,7.8958,7.65,16.1,7.8958,7.75,7.725,7.8792,7.75,7.8958,7.925,8.05,7.75,15.2458,7.8958,14.4542,7.8792,8.05,7.75,13.9,7.775,8.05,7.7958,7.925,7.8542,8.05,7.75,7.775,8.5167,22.525,7.8208,7.75,8.7125,7.7792,7.2833,14.4542,6.4375,16.7,7.75,7.25,7.75,16.1,7.7958,23.25,8.05,8.05,25.4667,6.4375,7.8958,7.8542,7.225,8.05,46.9,46.9,18.0,8.05,7.8958,null,12.1833,31.3875,7.55,7.8542,13.775,7.7333,15.2458,7.0,22.025,34.375,8.9625,7.55,7.225,13.9,7.2292,31.3875,7.75,8.05,69.55,14.5,7.8542,7.775,8.1125,15.5,14.4,7.75,7.8958,22.525,7.05,7.775,7.8792,8.05,8.05,7.7958,15.2458,7.7958,7.75,15.1,6.4958,7.8792,7.8542,7.225,7.8875,23.45,14.4542,7.925,9.325,9.5,7.55,7.75,8.05,7.775,17.4,7.8542,12.1833,7.8958,7.55,8.05,8.6625,7.75,15.5,7.225,8.6625,13.775,7.75,15.2458,20.2125,7.25,7.25,7.2292,8.05,6.95,7.2292,9.5,7.8958,21.6792,7.8542,7.775,8.6625,7.75,9.35,14.1083,8.6625,7.225,7.575,7.75,7.7333,7.8542,7.775,7.2292,7.05,7.225,15.7417,7.8958,7.2292,7.2292,7.5792,69.55,14.5,7.65,7.2292,20.575,7.8792,7.75,15.55,69.55,8.6625,69.55,14.4583,39.6875,8.6625,31.3875,7.75,7.8792,14.5,16.1,7.775,7.75,21.075,20.25,22.025,7.25,7.775,7.7333,7.7208,13.775,7.75,7.775,8.05,7.25,8.05,22.3583],\"y0\":\" \",\"yaxis\":\"y\",\"type\":\"box\"},{\"alignmentgroup\":\"True\",\"hovertemplate\":\"Pclass=%{x}<br>Fare=%{y}<extra></extra>\",\"legendgroup\":\"1\",\"marker\":{\"color\":\"#EF553B\"},\"name\":\"1\",\"notched\":false,\"offsetgroup\":\"1\",\"orientation\":\"v\",\"showlegend\":true,\"x\":[1,1,1,1,1,1,1,1,1,1,1,1,1,1,1,1,1,1,1,1,1,1,1,1,1,1,1,1,1,1,1,1,1,1,1,1,1,1,1,1,1,1,1,1,1,1,1,1,1,1,1,1,1,1,1,1,1,1,1,1,1,1,1,1,1,1,1,1,1,1,1,1,1,1,1,1,1,1,1,1,1,1,1,1,1,1,1,1,1,1,1,1,1,1,1,1,1,1,1,1,1,1,1,1,1,1,1,1,1,1,1,1,1,1,1,1,1,1,1,1,1,1,1,1,1,1,1,1,1,1,1,1,1,1,1,1,1,1,1,1,1,1,1,1,1,1,1,1,1,1,1,1,1,1,1,1,1,1,1,1,1,1,1,1,1,1,1,1,1,1,1,1,1,1,1,1,1,1,1,1,1,1,1,1,1,1,1,1,1,1,1,1,1,1,1,1,1,1,1,1,1,1,1,1,1,1,1,1,1,1,1,1,1,1,1,1,1,1,1,1,1,1,1,1,1,1,1,1,1,1,1,1,1,1,1,1,1,1,1,1,1,1,1,1,1,1,1,1,1,1,1,1,1,1,1,1,1,1,1,1,1,1,1,1,1,1,1,1,1,1,1,1,1,1,1,1,1,1,1,1,1,1,1,1,1,1,1,1,1,1,1,1,1,1,1,1,1,1,1,1,1,1,1,1,1,1,1,1,1,1,1,1,1,1,1,1,1,1,1,1,1,1,1],\"x0\":\" \",\"xaxis\":\"x\",\"y\":[71.2833,53.1,51.8625,26.55,35.5,263.0,27.7208,146.5208,82.1708,52.0,76.7292,61.9792,35.5,80.0,83.475,27.7208,47.1,263.0,61.175,34.6542,63.3583,77.2875,52.0,247.5208,77.2875,26.2833,53.1,79.2,66.6,61.3792,55.0,25.925,33.5,30.6958,28.7125,50.0,26.55,27.7208,146.5208,31.0,113.275,76.2917,90.0,83.475,90.0,52.5542,26.55,79.2,86.5,512.3292,79.65,0.0,153.4625,135.6333,31.0,29.7,77.9583,26.0,78.85,91.0792,27.7208,151.55,30.5,247.5208,151.55,110.8833,108.9,56.9292,83.1583,262.375,164.8667,134.5,135.6333,57.9792,28.5,153.4625,133.65,66.6,134.5,35.5,263.0,35.0,55.0,75.25,69.3,55.4417,135.6333,82.1708,211.5,227.525,52.0,120.0,113.275,90.0,26.55,55.9,120.0,263.0,81.8583,26.55,30.5,27.75,89.1042,26.55,51.8625,26.55,38.5,26.55,52.0,91.0792,90.0,29.7,30.5,49.5042,78.2667,151.55,86.5,108.9,26.55,26.2875,59.4,34.0208,93.5,57.9792,221.7792,26.55,106.425,49.5,71.0,106.425,26.0,110.8833,26.55,39.6,227.525,79.65,51.4792,26.3875,55.9,110.8833,40.125,79.65,79.2,78.2667,56.9292,42.4,26.55,30.5,153.4625,52.5542,32.3208,77.9583,30.0,30.5,0.0,69.3,76.7292,35.5,113.275,133.65,25.5875,52.0,52.0,512.3292,76.7292,211.3375,57.0,26.55,110.8833,227.525,26.2875,26.2875,151.55,49.5042,26.55,52.0,227.525,53.1,211.3375,512.3292,30.0,78.85,262.375,71.0,53.1,86.5,120.0,77.9583,39.6,211.3375,57.0,30.0,79.2,30.6958,25.9292,120.0,0.0,53.1,0.0,93.5,0.0,80.0,83.1583,29.7,31.0,89.1042,39.4,164.8667,26.55,25.9292,50.4958,52.5542,5.0,83.1583,30.0,30.0,26.0,82.2667,61.175,59.4,31.6833,61.3792,262.375,61.9792,30.5,57.75,26.55,52.5542,29.7,76.2917,60.0,263.0,262.375,262.375,42.4,28.5375,263.0,27.7208,211.5,211.5,25.7,221.7792,26.0,52.0,26.0,78.85,55.4417,31.6792,221.7792,75.2417,57.75,28.5,151.55,262.375,26.55,51.8625,26.55,83.1583,221.7792,26.55,50.4958,27.7208,55.4417,83.1583,83.1583,53.1,247.5208,26.0,134.5,227.525,25.7417,27.7208,42.5,164.8667,211.5,27.4458,26.55,71.2833,75.25,106.425,27.7208,134.5,51.8625,136.7792,0.0,75.2417,136.7792,82.2667,39.6,81.8583,45.5,26.55,151.55,93.5,135.6333,146.5208,26.55,211.3375,79.2,29.7,26.0,512.3292,63.3583,26.0,51.4792,55.4417,59.4,134.5,0.0,81.8583,262.375,50.0,93.5,39.4,60.0,79.2,164.8667,59.4,47.1,27.7208,211.5,90.0,108.9],\"y0\":\" \",\"yaxis\":\"y\",\"type\":\"box\"},{\"alignmentgroup\":\"True\",\"hovertemplate\":\"Pclass=%{x}<br>Fare=%{y}<extra></extra>\",\"legendgroup\":\"2\",\"marker\":{\"color\":\"#00cc96\"},\"name\":\"2\",\"notched\":false,\"offsetgroup\":\"2\",\"orientation\":\"v\",\"showlegend\":true,\"x\":[2,2,2,2,2,2,2,2,2,2,2,2,2,2,2,2,2,2,2,2,2,2,2,2,2,2,2,2,2,2,2,2,2,2,2,2,2,2,2,2,2,2,2,2,2,2,2,2,2,2,2,2,2,2,2,2,2,2,2,2,2,2,2,2,2,2,2,2,2,2,2,2,2,2,2,2,2,2,2,2,2,2,2,2,2,2,2,2,2,2,2,2,2,2,2,2,2,2,2,2,2,2,2,2,2,2,2,2,2,2,2,2,2,2,2,2,2,2,2,2,2,2,2,2,2,2,2,2,2,2,2,2,2,2,2,2,2,2,2,2,2,2,2,2,2,2,2,2,2,2,2,2,2,2,2,2,2,2,2,2,2,2,2,2,2,2,2,2,2,2,2,2,2,2,2,2,2,2,2,2,2,2,2,2,2,2,2,2,2,2,2,2,2,2,2,2,2,2,2,2,2,2,2,2,2,2,2,2,2,2,2,2,2,2,2,2,2,2,2,2,2,2,2,2,2,2,2,2,2,2,2,2,2,2,2,2,2,2,2,2,2,2,2,2,2,2,2,2,2,2,2,2,2,2,2,2,2,2,2,2,2,2,2,2,2,2,2,2,2,2,2,2,2,2,2,2,2],\"x0\":\" \",\"xaxis\":\"x\",\"y\":[30.0708,16.0,13.0,26.0,13.0,10.5,21.0,41.5792,26.0,10.5,27.75,10.5,10.5,73.5,29.0,10.5,23.0,26.0,21.0,73.5,30.0708,13.0,26.0,13.0,15.0458,11.5,36.75,26.0,13.0,12.525,15.75,13.0,15.05,39.0,13.0,13.0,26.0,13.0,21.0,13.0,27.0,10.5,13.0,10.5,13.0,13.5,10.5,26.0,26.25,10.5,12.275,10.5,14.5,26.0,26.0,10.5,19.5,0.0,13.0,12.875,12.35,24.0,26.0,26.25,26.0,14.0,12.35,29.0,13.0,26.0,13.0,13.0,13.0,13.0,13.0,13.0,27.7208,73.5,13.0,12.0,26.0,10.5,12.65,21.0,18.75,0.0,32.5,13.0,13.0,26.0,26.0,26.0,18.75,10.5,26.25,13.0,19.5,27.75,10.5,13.0,0.0,27.75,13.7917,21.0,0.0,26.0,10.5,26.0,10.5,11.5,26.0,26.25,26.0,26.0,13.8625,36.75,26.0,13.5,10.5,13.0,30.0,26.0,15.0,26.0,33.0,27.0,41.5792,65.0,39.0,10.5,12.35,13.0,26.25,23.0,73.5,13.0,73.5,13.0,39.0,10.5,13.0,0.0,39.0,41.5792,13.5,26.0,13.5,13.0,10.5,33.0,13.0,13.0,21.0,26.0,0.0,13.0,13.0,13.0,23.0,65.0,14.5,11.5,10.5,23.0,26.0,13.0,13.0,26.25,13.0,10.5,37.0042,37.0042,18.75,10.5,33.0,26.0,11.5,13.0,13.0,13.8583,24.0,26.0,10.5,13.0,9.6875,29.0,26.0,27.7208,12.35,26.0,31.5,13.0,15.0333,23.0,15.5792,13.5,21.0,13.0,10.7083,23.0,26.0,13.0,15.0458,26.0,15.75,13.0,13.0,26.0,26.0,13.5,13.0,39.0,36.75,39.0,13.0,16.0,21.0,13.0,26.0,12.35,32.5,10.5,26.0,10.5,10.5,73.5,26.0,13.8583,10.5,13.0,65.0,13.0,30.0,21.0,32.5,26.0,27.75,13.0,23.0,12.7375,26.0,10.5,26.0,21.0,10.5,41.5792,15.0458,21.0,10.5,31.5,13.0,39.0,26.0,13.0,36.75,13.0,31.5,10.5,13.0,13.5,21.0,10.5,73.5,65.0,37.0042,21.0,13.8583,11.5,13.0,11.5,12.875,65.0,13.0,10.5,21.0,13.8625,10.5],\"y0\":\" \",\"yaxis\":\"y\",\"type\":\"box\"}],                        {\"template\":{\"data\":{\"bar\":[{\"error_x\":{\"color\":\"#2a3f5f\"},\"error_y\":{\"color\":\"#2a3f5f\"},\"marker\":{\"line\":{\"color\":\"#E5ECF6\",\"width\":0.5},\"pattern\":{\"fillmode\":\"overlay\",\"size\":10,\"solidity\":0.2}},\"type\":\"bar\"}],\"barpolar\":[{\"marker\":{\"line\":{\"color\":\"#E5ECF6\",\"width\":0.5},\"pattern\":{\"fillmode\":\"overlay\",\"size\":10,\"solidity\":0.2}},\"type\":\"barpolar\"}],\"carpet\":[{\"aaxis\":{\"endlinecolor\":\"#2a3f5f\",\"gridcolor\":\"white\",\"linecolor\":\"white\",\"minorgridcolor\":\"white\",\"startlinecolor\":\"#2a3f5f\"},\"baxis\":{\"endlinecolor\":\"#2a3f5f\",\"gridcolor\":\"white\",\"linecolor\":\"white\",\"minorgridcolor\":\"white\",\"startlinecolor\":\"#2a3f5f\"},\"type\":\"carpet\"}],\"choropleth\":[{\"colorbar\":{\"outlinewidth\":0,\"ticks\":\"\"},\"type\":\"choropleth\"}],\"contour\":[{\"colorbar\":{\"outlinewidth\":0,\"ticks\":\"\"},\"colorscale\":[[0.0,\"#0d0887\"],[0.1111111111111111,\"#46039f\"],[0.2222222222222222,\"#7201a8\"],[0.3333333333333333,\"#9c179e\"],[0.4444444444444444,\"#bd3786\"],[0.5555555555555556,\"#d8576b\"],[0.6666666666666666,\"#ed7953\"],[0.7777777777777778,\"#fb9f3a\"],[0.8888888888888888,\"#fdca26\"],[1.0,\"#f0f921\"]],\"type\":\"contour\"}],\"contourcarpet\":[{\"colorbar\":{\"outlinewidth\":0,\"ticks\":\"\"},\"type\":\"contourcarpet\"}],\"heatmap\":[{\"colorbar\":{\"outlinewidth\":0,\"ticks\":\"\"},\"colorscale\":[[0.0,\"#0d0887\"],[0.1111111111111111,\"#46039f\"],[0.2222222222222222,\"#7201a8\"],[0.3333333333333333,\"#9c179e\"],[0.4444444444444444,\"#bd3786\"],[0.5555555555555556,\"#d8576b\"],[0.6666666666666666,\"#ed7953\"],[0.7777777777777778,\"#fb9f3a\"],[0.8888888888888888,\"#fdca26\"],[1.0,\"#f0f921\"]],\"type\":\"heatmap\"}],\"heatmapgl\":[{\"colorbar\":{\"outlinewidth\":0,\"ticks\":\"\"},\"colorscale\":[[0.0,\"#0d0887\"],[0.1111111111111111,\"#46039f\"],[0.2222222222222222,\"#7201a8\"],[0.3333333333333333,\"#9c179e\"],[0.4444444444444444,\"#bd3786\"],[0.5555555555555556,\"#d8576b\"],[0.6666666666666666,\"#ed7953\"],[0.7777777777777778,\"#fb9f3a\"],[0.8888888888888888,\"#fdca26\"],[1.0,\"#f0f921\"]],\"type\":\"heatmapgl\"}],\"histogram\":[{\"marker\":{\"pattern\":{\"fillmode\":\"overlay\",\"size\":10,\"solidity\":0.2}},\"type\":\"histogram\"}],\"histogram2d\":[{\"colorbar\":{\"outlinewidth\":0,\"ticks\":\"\"},\"colorscale\":[[0.0,\"#0d0887\"],[0.1111111111111111,\"#46039f\"],[0.2222222222222222,\"#7201a8\"],[0.3333333333333333,\"#9c179e\"],[0.4444444444444444,\"#bd3786\"],[0.5555555555555556,\"#d8576b\"],[0.6666666666666666,\"#ed7953\"],[0.7777777777777778,\"#fb9f3a\"],[0.8888888888888888,\"#fdca26\"],[1.0,\"#f0f921\"]],\"type\":\"histogram2d\"}],\"histogram2dcontour\":[{\"colorbar\":{\"outlinewidth\":0,\"ticks\":\"\"},\"colorscale\":[[0.0,\"#0d0887\"],[0.1111111111111111,\"#46039f\"],[0.2222222222222222,\"#7201a8\"],[0.3333333333333333,\"#9c179e\"],[0.4444444444444444,\"#bd3786\"],[0.5555555555555556,\"#d8576b\"],[0.6666666666666666,\"#ed7953\"],[0.7777777777777778,\"#fb9f3a\"],[0.8888888888888888,\"#fdca26\"],[1.0,\"#f0f921\"]],\"type\":\"histogram2dcontour\"}],\"mesh3d\":[{\"colorbar\":{\"outlinewidth\":0,\"ticks\":\"\"},\"type\":\"mesh3d\"}],\"parcoords\":[{\"line\":{\"colorbar\":{\"outlinewidth\":0,\"ticks\":\"\"}},\"type\":\"parcoords\"}],\"pie\":[{\"automargin\":true,\"type\":\"pie\"}],\"scatter\":[{\"marker\":{\"colorbar\":{\"outlinewidth\":0,\"ticks\":\"\"}},\"type\":\"scatter\"}],\"scatter3d\":[{\"line\":{\"colorbar\":{\"outlinewidth\":0,\"ticks\":\"\"}},\"marker\":{\"colorbar\":{\"outlinewidth\":0,\"ticks\":\"\"}},\"type\":\"scatter3d\"}],\"scattercarpet\":[{\"marker\":{\"colorbar\":{\"outlinewidth\":0,\"ticks\":\"\"}},\"type\":\"scattercarpet\"}],\"scattergeo\":[{\"marker\":{\"colorbar\":{\"outlinewidth\":0,\"ticks\":\"\"}},\"type\":\"scattergeo\"}],\"scattergl\":[{\"marker\":{\"colorbar\":{\"outlinewidth\":0,\"ticks\":\"\"}},\"type\":\"scattergl\"}],\"scattermapbox\":[{\"marker\":{\"colorbar\":{\"outlinewidth\":0,\"ticks\":\"\"}},\"type\":\"scattermapbox\"}],\"scatterpolar\":[{\"marker\":{\"colorbar\":{\"outlinewidth\":0,\"ticks\":\"\"}},\"type\":\"scatterpolar\"}],\"scatterpolargl\":[{\"marker\":{\"colorbar\":{\"outlinewidth\":0,\"ticks\":\"\"}},\"type\":\"scatterpolargl\"}],\"scatterternary\":[{\"marker\":{\"colorbar\":{\"outlinewidth\":0,\"ticks\":\"\"}},\"type\":\"scatterternary\"}],\"surface\":[{\"colorbar\":{\"outlinewidth\":0,\"ticks\":\"\"},\"colorscale\":[[0.0,\"#0d0887\"],[0.1111111111111111,\"#46039f\"],[0.2222222222222222,\"#7201a8\"],[0.3333333333333333,\"#9c179e\"],[0.4444444444444444,\"#bd3786\"],[0.5555555555555556,\"#d8576b\"],[0.6666666666666666,\"#ed7953\"],[0.7777777777777778,\"#fb9f3a\"],[0.8888888888888888,\"#fdca26\"],[1.0,\"#f0f921\"]],\"type\":\"surface\"}],\"table\":[{\"cells\":{\"fill\":{\"color\":\"#EBF0F8\"},\"line\":{\"color\":\"white\"}},\"header\":{\"fill\":{\"color\":\"#C8D4E3\"},\"line\":{\"color\":\"white\"}},\"type\":\"table\"}]},\"layout\":{\"annotationdefaults\":{\"arrowcolor\":\"#2a3f5f\",\"arrowhead\":0,\"arrowwidth\":1},\"autotypenumbers\":\"strict\",\"coloraxis\":{\"colorbar\":{\"outlinewidth\":0,\"ticks\":\"\"}},\"colorscale\":{\"diverging\":[[0,\"#8e0152\"],[0.1,\"#c51b7d\"],[0.2,\"#de77ae\"],[0.3,\"#f1b6da\"],[0.4,\"#fde0ef\"],[0.5,\"#f7f7f7\"],[0.6,\"#e6f5d0\"],[0.7,\"#b8e186\"],[0.8,\"#7fbc41\"],[0.9,\"#4d9221\"],[1,\"#276419\"]],\"sequential\":[[0.0,\"#0d0887\"],[0.1111111111111111,\"#46039f\"],[0.2222222222222222,\"#7201a8\"],[0.3333333333333333,\"#9c179e\"],[0.4444444444444444,\"#bd3786\"],[0.5555555555555556,\"#d8576b\"],[0.6666666666666666,\"#ed7953\"],[0.7777777777777778,\"#fb9f3a\"],[0.8888888888888888,\"#fdca26\"],[1.0,\"#f0f921\"]],\"sequentialminus\":[[0.0,\"#0d0887\"],[0.1111111111111111,\"#46039f\"],[0.2222222222222222,\"#7201a8\"],[0.3333333333333333,\"#9c179e\"],[0.4444444444444444,\"#bd3786\"],[0.5555555555555556,\"#d8576b\"],[0.6666666666666666,\"#ed7953\"],[0.7777777777777778,\"#fb9f3a\"],[0.8888888888888888,\"#fdca26\"],[1.0,\"#f0f921\"]]},\"colorway\":[\"#636efa\",\"#EF553B\",\"#00cc96\",\"#ab63fa\",\"#FFA15A\",\"#19d3f3\",\"#FF6692\",\"#B6E880\",\"#FF97FF\",\"#FECB52\"],\"font\":{\"color\":\"#2a3f5f\"},\"geo\":{\"bgcolor\":\"white\",\"lakecolor\":\"white\",\"landcolor\":\"#E5ECF6\",\"showlakes\":true,\"showland\":true,\"subunitcolor\":\"white\"},\"hoverlabel\":{\"align\":\"left\"},\"hovermode\":\"closest\",\"mapbox\":{\"style\":\"light\"},\"paper_bgcolor\":\"white\",\"plot_bgcolor\":\"#E5ECF6\",\"polar\":{\"angularaxis\":{\"gridcolor\":\"white\",\"linecolor\":\"white\",\"ticks\":\"\"},\"bgcolor\":\"#E5ECF6\",\"radialaxis\":{\"gridcolor\":\"white\",\"linecolor\":\"white\",\"ticks\":\"\"}},\"scene\":{\"xaxis\":{\"backgroundcolor\":\"#E5ECF6\",\"gridcolor\":\"white\",\"gridwidth\":2,\"linecolor\":\"white\",\"showbackground\":true,\"ticks\":\"\",\"zerolinecolor\":\"white\"},\"yaxis\":{\"backgroundcolor\":\"#E5ECF6\",\"gridcolor\":\"white\",\"gridwidth\":2,\"linecolor\":\"white\",\"showbackground\":true,\"ticks\":\"\",\"zerolinecolor\":\"white\"},\"zaxis\":{\"backgroundcolor\":\"#E5ECF6\",\"gridcolor\":\"white\",\"gridwidth\":2,\"linecolor\":\"white\",\"showbackground\":true,\"ticks\":\"\",\"zerolinecolor\":\"white\"}},\"shapedefaults\":{\"line\":{\"color\":\"#2a3f5f\"}},\"ternary\":{\"aaxis\":{\"gridcolor\":\"white\",\"linecolor\":\"white\",\"ticks\":\"\"},\"baxis\":{\"gridcolor\":\"white\",\"linecolor\":\"white\",\"ticks\":\"\"},\"bgcolor\":\"#E5ECF6\",\"caxis\":{\"gridcolor\":\"white\",\"linecolor\":\"white\",\"ticks\":\"\"}},\"title\":{\"x\":0.05},\"xaxis\":{\"automargin\":true,\"gridcolor\":\"white\",\"linecolor\":\"white\",\"ticks\":\"\",\"title\":{\"standoff\":15},\"zerolinecolor\":\"white\",\"zerolinewidth\":2},\"yaxis\":{\"automargin\":true,\"gridcolor\":\"white\",\"linecolor\":\"white\",\"ticks\":\"\",\"title\":{\"standoff\":15},\"zerolinecolor\":\"white\",\"zerolinewidth\":2}}},\"xaxis\":{\"anchor\":\"y\",\"domain\":[0.0,1.0],\"title\":{\"text\":\"Pclass\"},\"categoryorder\":\"array\",\"categoryarray\":[3,1,2]},\"yaxis\":{\"anchor\":\"x\",\"domain\":[0.0,1.0],\"title\":{\"text\":\"Fare\"}},\"legend\":{\"title\":{\"text\":\"Pclass\"},\"tracegroupgap\":0},\"margin\":{\"t\":60},\"boxmode\":\"overlay\",\"height\":400,\"width\":400},                        {\"responsive\": true}                    ).then(function(){\n",
              "                            \n",
              "var gd = document.getElementById('cbab2fe7-924c-4f12-84ee-2ffc5cb37b68');\n",
              "var x = new MutationObserver(function (mutations, observer) {{\n",
              "        var display = window.getComputedStyle(gd).display;\n",
              "        if (!display || display === 'none') {{\n",
              "            console.log([gd, 'removed!']);\n",
              "            Plotly.purge(gd);\n",
              "            observer.disconnect();\n",
              "        }}\n",
              "}});\n",
              "\n",
              "// Listen for the removal of the full notebook cells\n",
              "var notebookContainer = gd.closest('#notebook-container');\n",
              "if (notebookContainer) {{\n",
              "    x.observe(notebookContainer, {childList: true});\n",
              "}}\n",
              "\n",
              "// Listen for the clearing of the current output cell\n",
              "var outputEl = gd.closest('.output');\n",
              "if (outputEl) {{\n",
              "    x.observe(outputEl, {childList: true});\n",
              "}}\n",
              "\n",
              "                        })                };                            </script>        </div>\n",
              "</body>\n",
              "</html>"
            ]
          },
          "metadata": {}
        },
        {
          "output_type": "stream",
          "name": "stdout",
          "text": [
            "                sum_sq      df           F         PR(>F)\n",
            "Pclass    1.092668e+06     1.0  592.438099  3.266268e-108\n",
            "Residual  2.408732e+06  1306.0         NaN            NaN\n"
          ]
        }
      ]
    },
    {
      "cell_type": "code",
      "source": [
        "all_features['Fare'] = all_features['Fare'].fillna(all_features.groupby('Pclass')['Fare'].transform('median'))"
      ],
      "metadata": {
        "id": "YK27siKPHGvd"
      },
      "execution_count": null,
      "outputs": []
    },
    {
      "cell_type": "markdown",
      "source": [
        "#### > 결측값 대체: Age\n",
        "\n",
        "- 방식: 'Name'의 'Title'을 기준으로 그룹 나눈 후 각 그룹의 Median 'Age' 값으로 NA 대체\n",
        "\n",
        "- 배경: 'Title'에 따라 'Age' 분포 다를 것 (가정)\n",
        "\n",
        "- 절차:\n",
        "  1. 'Name'변수에서 'Title' 정보 추출\n",
        "  2. 'Title'에 따라 'Age' 분포 차이 확인 (시각화 & ANOVA 테스트)\n",
        "  3. 'Title' 그룹별 'Age' Median 값으로 'Age'의 NA 대체"
      ],
      "metadata": {
        "id": "iTN_qu7wYmwJ"
      }
    },
    {
      "cell_type": "code",
      "source": [
        "# Extract Title from Name\n",
        "all_features['Title'] = all_features['Name'].str.split('.').str[0].str.split(',').str[1].str.strip()\n",
        "\n",
        "# 비슷한 의미의 title을 합쳐준다\n",
        "title_Mr = ['Major', 'Col', 'Sir', 'Don', 'Jonkheer', 'Capt']\n",
        "title_Mrs = ['Lady', 'the Countess', 'Dona']\n",
        "title_Miss = ['Mlle', 'Mme', 'Ms']\n",
        "\n",
        "all_features.replace(title_Mr, 'Mr', inplace=True)\n",
        "all_features.replace(title_Mrs, 'Mrs', inplace=True)\n",
        "all_features.replace(title_Miss, 'Miss', inplace=True)"
      ],
      "metadata": {
        "id": "pxuH83Yo_zom"
      },
      "execution_count": null,
      "outputs": []
    },
    {
      "cell_type": "code",
      "source": [
        "x = 'Title'\n",
        "y = 'Age'\n",
        "\n",
        "import plotly.express as px\n",
        "fig = px.box(all_features, x=x, y=y, color=x, width=400, height=400)\n",
        "fig.show()\n",
        "\n",
        "import statsmodels.api as sm\n",
        "from statsmodels.formula.api import ols\n",
        "model = ols('{} ~ {}'.format(y, x), data=all_features).fit()\n",
        "anova_table = sm.stats.anova_lm(model, typ=2)\n",
        "print(anova_table)"
      ],
      "metadata": {
        "colab": {
          "base_uri": "https://localhost:8080/",
          "height": 471
        },
        "id": "0x-5935APE5k",
        "outputId": "c4657571-9575-44cd-c04c-a8937bb19e0b"
      },
      "execution_count": null,
      "outputs": [
        {
          "output_type": "display_data",
          "data": {
            "text/html": [
              "<html>\n",
              "<head><meta charset=\"utf-8\" /></head>\n",
              "<body>\n",
              "    <div>            <script src=\"https://cdnjs.cloudflare.com/ajax/libs/mathjax/2.7.5/MathJax.js?config=TeX-AMS-MML_SVG\"></script><script type=\"text/javascript\">if (window.MathJax) {MathJax.Hub.Config({SVG: {font: \"STIX-Web\"}});}</script>                <script type=\"text/javascript\">window.PlotlyConfig = {MathJaxConfig: 'local'};</script>\n",
              "        <script src=\"https://cdn.plot.ly/plotly-2.8.3.min.js\"></script>                <div id=\"be190347-4739-4ae8-8126-965595b7967a\" class=\"plotly-graph-div\" style=\"height:400px; width:400px;\"></div>            <script type=\"text/javascript\">                                    window.PLOTLYENV=window.PLOTLYENV || {};                                    if (document.getElementById(\"be190347-4739-4ae8-8126-965595b7967a\")) {                    Plotly.newPlot(                        \"be190347-4739-4ae8-8126-965595b7967a\",                        [{\"alignmentgroup\":\"True\",\"hovertemplate\":\"Title=%{x}<br>Age=%{y}<extra></extra>\",\"legendgroup\":\"Mr\",\"marker\":{\"color\":\"#636efa\"},\"name\":\"Mr\",\"notched\":false,\"offsetgroup\":\"Mr\",\"orientation\":\"v\",\"showlegend\":true,\"x\":[\"Mr\",\"Mr\",\"Mr\",\"Mr\",\"Mr\",\"Mr\",\"Mr\",\"Mr\",\"Mr\",\"Mr\",\"Mr\",\"Mr\",\"Mr\",\"Mr\",\"Mr\",\"Mr\",\"Mr\",\"Mr\",\"Mr\",\"Mr\",\"Mr\",\"Mr\",\"Mr\",\"Mr\",\"Mr\",\"Mr\",\"Mr\",\"Mr\",\"Mr\",\"Mr\",\"Mr\",\"Mr\",\"Mr\",\"Mr\",\"Mr\",\"Mr\",\"Mr\",\"Mr\",\"Mr\",\"Mr\",\"Mr\",\"Mr\",\"Mr\",\"Mr\",\"Mr\",\"Mr\",\"Mr\",\"Mr\",\"Mr\",\"Mr\",\"Mr\",\"Mr\",\"Mr\",\"Mr\",\"Mr\",\"Mr\",\"Mr\",\"Mr\",\"Mr\",\"Mr\",\"Mr\",\"Mr\",\"Mr\",\"Mr\",\"Mr\",\"Mr\",\"Mr\",\"Mr\",\"Mr\",\"Mr\",\"Mr\",\"Mr\",\"Mr\",\"Mr\",\"Mr\",\"Mr\",\"Mr\",\"Mr\",\"Mr\",\"Mr\",\"Mr\",\"Mr\",\"Mr\",\"Mr\",\"Mr\",\"Mr\",\"Mr\",\"Mr\",\"Mr\",\"Mr\",\"Mr\",\"Mr\",\"Mr\",\"Mr\",\"Mr\",\"Mr\",\"Mr\",\"Mr\",\"Mr\",\"Mr\",\"Mr\",\"Mr\",\"Mr\",\"Mr\",\"Mr\",\"Mr\",\"Mr\",\"Mr\",\"Mr\",\"Mr\",\"Mr\",\"Mr\",\"Mr\",\"Mr\",\"Mr\",\"Mr\",\"Mr\",\"Mr\",\"Mr\",\"Mr\",\"Mr\",\"Mr\",\"Mr\",\"Mr\",\"Mr\",\"Mr\",\"Mr\",\"Mr\",\"Mr\",\"Mr\",\"Mr\",\"Mr\",\"Mr\",\"Mr\",\"Mr\",\"Mr\",\"Mr\",\"Mr\",\"Mr\",\"Mr\",\"Mr\",\"Mr\",\"Mr\",\"Mr\",\"Mr\",\"Mr\",\"Mr\",\"Mr\",\"Mr\",\"Mr\",\"Mr\",\"Mr\",\"Mr\",\"Mr\",\"Mr\",\"Mr\",\"Mr\",\"Mr\",\"Mr\",\"Mr\",\"Mr\",\"Mr\",\"Mr\",\"Mr\",\"Mr\",\"Mr\",\"Mr\",\"Mr\",\"Mr\",\"Mr\",\"Mr\",\"Mr\",\"Mr\",\"Mr\",\"Mr\",\"Mr\",\"Mr\",\"Mr\",\"Mr\",\"Mr\",\"Mr\",\"Mr\",\"Mr\",\"Mr\",\"Mr\",\"Mr\",\"Mr\",\"Mr\",\"Mr\",\"Mr\",\"Mr\",\"Mr\",\"Mr\",\"Mr\",\"Mr\",\"Mr\",\"Mr\",\"Mr\",\"Mr\",\"Mr\",\"Mr\",\"Mr\",\"Mr\",\"Mr\",\"Mr\",\"Mr\",\"Mr\",\"Mr\",\"Mr\",\"Mr\",\"Mr\",\"Mr\",\"Mr\",\"Mr\",\"Mr\",\"Mr\",\"Mr\",\"Mr\",\"Mr\",\"Mr\",\"Mr\",\"Mr\",\"Mr\",\"Mr\",\"Mr\",\"Mr\",\"Mr\",\"Mr\",\"Mr\",\"Mr\",\"Mr\",\"Mr\",\"Mr\",\"Mr\",\"Mr\",\"Mr\",\"Mr\",\"Mr\",\"Mr\",\"Mr\",\"Mr\",\"Mr\",\"Mr\",\"Mr\",\"Mr\",\"Mr\",\"Mr\",\"Mr\",\"Mr\",\"Mr\",\"Mr\",\"Mr\",\"Mr\",\"Mr\",\"Mr\",\"Mr\",\"Mr\",\"Mr\",\"Mr\",\"Mr\",\"Mr\",\"Mr\",\"Mr\",\"Mr\",\"Mr\",\"Mr\",\"Mr\",\"Mr\",\"Mr\",\"Mr\",\"Mr\",\"Mr\",\"Mr\",\"Mr\",\"Mr\",\"Mr\",\"Mr\",\"Mr\",\"Mr\",\"Mr\",\"Mr\",\"Mr\",\"Mr\",\"Mr\",\"Mr\",\"Mr\",\"Mr\",\"Mr\",\"Mr\",\"Mr\",\"Mr\",\"Mr\",\"Mr\",\"Mr\",\"Mr\",\"Mr\",\"Mr\",\"Mr\",\"Mr\",\"Mr\",\"Mr\",\"Mr\",\"Mr\",\"Mr\",\"Mr\",\"Mr\",\"Mr\",\"Mr\",\"Mr\",\"Mr\",\"Mr\",\"Mr\",\"Mr\",\"Mr\",\"Mr\",\"Mr\",\"Mr\",\"Mr\",\"Mr\",\"Mr\",\"Mr\",\"Mr\",\"Mr\",\"Mr\",\"Mr\",\"Mr\",\"Mr\",\"Mr\",\"Mr\",\"Mr\",\"Mr\",\"Mr\",\"Mr\",\"Mr\",\"Mr\",\"Mr\",\"Mr\",\"Mr\",\"Mr\",\"Mr\",\"Mr\",\"Mr\",\"Mr\",\"Mr\",\"Mr\",\"Mr\",\"Mr\",\"Mr\",\"Mr\",\"Mr\",\"Mr\",\"Mr\",\"Mr\",\"Mr\",\"Mr\",\"Mr\",\"Mr\",\"Mr\",\"Mr\",\"Mr\",\"Mr\",\"Mr\",\"Mr\",\"Mr\",\"Mr\",\"Mr\",\"Mr\",\"Mr\",\"Mr\",\"Mr\",\"Mr\",\"Mr\",\"Mr\",\"Mr\",\"Mr\",\"Mr\",\"Mr\",\"Mr\",\"Mr\",\"Mr\",\"Mr\",\"Mr\",\"Mr\",\"Mr\",\"Mr\",\"Mr\",\"Mr\",\"Mr\",\"Mr\",\"Mr\",\"Mr\",\"Mr\",\"Mr\",\"Mr\",\"Mr\",\"Mr\",\"Mr\",\"Mr\",\"Mr\",\"Mr\",\"Mr\",\"Mr\",\"Mr\",\"Mr\",\"Mr\",\"Mr\",\"Mr\",\"Mr\",\"Mr\",\"Mr\",\"Mr\",\"Mr\",\"Mr\",\"Mr\",\"Mr\",\"Mr\",\"Mr\",\"Mr\",\"Mr\",\"Mr\",\"Mr\",\"Mr\",\"Mr\",\"Mr\",\"Mr\",\"Mr\",\"Mr\",\"Mr\",\"Mr\",\"Mr\",\"Mr\",\"Mr\",\"Mr\",\"Mr\",\"Mr\",\"Mr\",\"Mr\",\"Mr\",\"Mr\",\"Mr\",\"Mr\",\"Mr\",\"Mr\",\"Mr\",\"Mr\",\"Mr\",\"Mr\",\"Mr\",\"Mr\",\"Mr\",\"Mr\",\"Mr\",\"Mr\",\"Mr\",\"Mr\",\"Mr\",\"Mr\",\"Mr\",\"Mr\",\"Mr\",\"Mr\",\"Mr\",\"Mr\",\"Mr\",\"Mr\",\"Mr\",\"Mr\",\"Mr\",\"Mr\",\"Mr\",\"Mr\",\"Mr\",\"Mr\",\"Mr\",\"Mr\",\"Mr\",\"Mr\",\"Mr\",\"Mr\",\"Mr\",\"Mr\",\"Mr\",\"Mr\",\"Mr\",\"Mr\",\"Mr\",\"Mr\",\"Mr\",\"Mr\",\"Mr\",\"Mr\",\"Mr\",\"Mr\",\"Mr\",\"Mr\",\"Mr\",\"Mr\",\"Mr\",\"Mr\",\"Mr\",\"Mr\",\"Mr\",\"Mr\",\"Mr\",\"Mr\",\"Mr\",\"Mr\",\"Mr\",\"Mr\",\"Mr\",\"Mr\",\"Mr\",\"Mr\",\"Mr\",\"Mr\",\"Mr\",\"Mr\",\"Mr\",\"Mr\",\"Mr\",\"Mr\",\"Mr\",\"Mr\",\"Mr\",\"Mr\",\"Mr\",\"Mr\",\"Mr\",\"Mr\",\"Mr\",\"Mr\",\"Mr\",\"Mr\",\"Mr\",\"Mr\",\"Mr\",\"Mr\",\"Mr\",\"Mr\",\"Mr\",\"Mr\",\"Mr\",\"Mr\",\"Mr\",\"Mr\",\"Mr\",\"Mr\",\"Mr\",\"Mr\",\"Mr\",\"Mr\",\"Mr\",\"Mr\",\"Mr\",\"Mr\",\"Mr\",\"Mr\",\"Mr\",\"Mr\",\"Mr\",\"Mr\",\"Mr\",\"Mr\",\"Mr\",\"Mr\",\"Mr\",\"Mr\",\"Mr\",\"Mr\",\"Mr\",\"Mr\",\"Mr\",\"Mr\",\"Mr\",\"Mr\",\"Mr\",\"Mr\",\"Mr\",\"Mr\",\"Mr\",\"Mr\",\"Mr\",\"Mr\",\"Mr\",\"Mr\",\"Mr\",\"Mr\",\"Mr\",\"Mr\",\"Mr\",\"Mr\",\"Mr\",\"Mr\",\"Mr\",\"Mr\",\"Mr\",\"Mr\",\"Mr\",\"Mr\",\"Mr\",\"Mr\",\"Mr\",\"Mr\",\"Mr\",\"Mr\",\"Mr\",\"Mr\",\"Mr\",\"Mr\",\"Mr\",\"Mr\",\"Mr\",\"Mr\",\"Mr\",\"Mr\",\"Mr\",\"Mr\",\"Mr\",\"Mr\",\"Mr\",\"Mr\",\"Mr\",\"Mr\",\"Mr\",\"Mr\",\"Mr\",\"Mr\",\"Mr\",\"Mr\",\"Mr\",\"Mr\",\"Mr\",\"Mr\",\"Mr\",\"Mr\",\"Mr\",\"Mr\",\"Mr\",\"Mr\",\"Mr\",\"Mr\",\"Mr\",\"Mr\",\"Mr\",\"Mr\",\"Mr\",\"Mr\",\"Mr\",\"Mr\",\"Mr\",\"Mr\",\"Mr\",\"Mr\",\"Mr\",\"Mr\",\"Mr\",\"Mr\",\"Mr\",\"Mr\",\"Mr\",\"Mr\",\"Mr\",\"Mr\",\"Mr\",\"Mr\",\"Mr\",\"Mr\",\"Mr\",\"Mr\",\"Mr\",\"Mr\",\"Mr\",\"Mr\",\"Mr\",\"Mr\",\"Mr\",\"Mr\",\"Mr\",\"Mr\",\"Mr\",\"Mr\",\"Mr\",\"Mr\",\"Mr\",\"Mr\",\"Mr\",\"Mr\",\"Mr\",\"Mr\",\"Mr\",\"Mr\",\"Mr\",\"Mr\",\"Mr\",\"Mr\",\"Mr\",\"Mr\",\"Mr\",\"Mr\",\"Mr\",\"Mr\",\"Mr\",\"Mr\",\"Mr\",\"Mr\",\"Mr\",\"Mr\",\"Mr\",\"Mr\",\"Mr\",\"Mr\",\"Mr\",\"Mr\",\"Mr\",\"Mr\",\"Mr\",\"Mr\",\"Mr\",\"Mr\",\"Mr\",\"Mr\",\"Mr\",\"Mr\",\"Mr\",\"Mr\",\"Mr\",\"Mr\",\"Mr\",\"Mr\",\"Mr\",\"Mr\",\"Mr\",\"Mr\",\"Mr\",\"Mr\",\"Mr\",\"Mr\",\"Mr\",\"Mr\",\"Mr\",\"Mr\",\"Mr\",\"Mr\",\"Mr\",\"Mr\",\"Mr\",\"Mr\",\"Mr\",\"Mr\",\"Mr\",\"Mr\",\"Mr\",\"Mr\",\"Mr\",\"Mr\",\"Mr\",\"Mr\",\"Mr\",\"Mr\",\"Mr\",\"Mr\",\"Mr\",\"Mr\",\"Mr\",\"Mr\",\"Mr\",\"Mr\"],\"x0\":\" \",\"xaxis\":\"x\",\"y\":[22.0,35.0,null,54.0,20.0,39.0,null,35.0,34.0,28.0,null,19.0,null,40.0,66.0,28.0,42.0,null,21.0,null,null,null,null,21.0,65.0,null,28.5,22.0,45.0,null,19.0,26.0,32.0,21.0,26.0,32.0,25.0,null,null,22.0,29.0,28.0,16.0,null,24.0,29.0,20.0,46.0,26.0,59.0,null,71.0,23.0,34.0,null,21.0,33.0,37.0,28.0,null,38.0,47.0,22.0,21.0,70.5,29.0,24.0,21.0,null,32.5,54.0,null,24.0,45.0,33.0,20.0,25.0,23.0,37.0,16.0,24.0,19.0,18.0,19.0,27.0,36.5,55.5,40.5,null,51.0,30.0,null,44.0,26.0,17.0,null,28.0,61.0,21.0,56.0,18.0,30.0,36.0,null,null,45.0,40.0,36.0,19.0,null,42.0,28.0,null,34.0,45.5,18.0,32.0,26.0,40.0,24.0,22.0,30.0,null,42.0,30.0,16.0,27.0,51.0,null,38.0,22.0,19.0,20.5,18.0,29.0,59.0,24.0,44.0,19.0,33.0,29.0,22.0,30.0,37.0,null,62.0,30.0,null,52.0,40.0,36.0,16.0,25.0,null,25.0,37.0,null,65.0,28.0,16.0,19.0,null,33.0,30.0,22.0,42.0,36.0,24.0,null,23.5,null,null,19.0,null,30.0,28.0,43.0,22.0,27.0,null,61.0,45.5,38.0,16.0,null,29.0,45.0,45.0,28.0,25.0,36.0,42.0,23.0,null,15.0,25.0,null,28.0,40.0,29.0,35.0,null,30.0,25.0,18.0,19.0,22.0,27.0,20.0,19.0,32.0,null,18.0,null,36.0,21.0,28.0,22.0,46.0,39.0,26.0,28.0,34.0,51.0,21.0,null,null,null,44.0,30.0,null,21.0,29.0,18.0,null,null,32.0,28.0,17.0,50.0,64.0,31.0,20.0,25.0,null,34.0,52.0,36.0,null,30.0,49.0,null,29.0,65.0,null,48.0,34.0,47.0,48.0,null,38.0,null,56.0,null,null,38.0,null,34.0,29.0,22.0,null,50.0,25.0,58.0,30.0,null,21.0,55.0,71.0,21.0,null,null,24.0,17.0,18.0,null,28.0,26.0,29.0,null,36.0,24.0,47.0,null,32.0,22.0,null,null,40.5,null,39.0,23.0,null,17.0,45.0,null,32.0,50.0,64.0,null,33.0,17.0,27.0,null,22.0,62.0,null,null,40.0,28.0,null,24.0,19.0,null,32.0,62.0,36.0,16.0,19.0,32.0,54.0,36.0,null,47.0,60.0,22.0,null,35.0,47.0,37.0,36.0,49.0,null,49.0,null,null,44.0,35.0,36.0,30.0,27.0,null,null,35.0,34.0,26.0,27.0,42.0,20.0,21.0,21.0,61.0,26.0,null,80.0,51.0,null,32.0,31.0,null,20.0,null,48.0,19.0,56.0,null,null,21.0,24.0,null,23.0,58.0,40.0,47.0,36.0,20.0,32.0,25.0,null,43.0,31.0,70.0,31.0,null,18.0,24.5,36.0,27.0,20.0,14.0,60.0,25.0,14.0,19.0,18.0,31.0,null,25.0,60.0,52.0,44.0,49.0,42.0,35.0,25.0,26.0,39.0,42.0,null,48.0,29.0,52.0,19.0,null,33.0,17.0,34.0,50.0,27.0,20.0,25.0,11.0,null,23.0,23.0,28.5,35.0,null,null,null,36.0,24.0,31.0,70.0,16.0,19.0,31.0,33.0,23.0,28.0,18.0,34.0,null,41.0,20.0,16.0,null,32.0,24.0,48.0,null,18.0,null,null,29.0,null,25.0,25.0,46.0,null,16.0,null,25.0,39.0,30.0,34.0,27.0,31.0,39.0,39.0,26.0,39.0,35.0,30.5,null,31.0,43.0,27.0,38.0,null,null,null,null,23.0,18.0,21.0,null,32.0,null,20.0,16.0,34.5,17.0,42.0,null,35.0,74.0,51.0,null,41.0,21.0,24.0,31.0,null,26.0,33.0,47.0,20.0,19.0,null,33.0,28.0,25.0,26.0,32.0,34.5,62.0,27.0,14.0,26.0,21.0,null,46.0,63.0,35.0,21.0,55.0,21.0,50.0,22.5,41.0,null,50.0,24.0,30.0,18.5,25.0,null,39.0,null,41.0,25.0,45.0,null,24.0,27.0,null,35.0,25.0,null,17.0,32.0,18.0,47.0,31.0,21.0,28.5,32.5,null,30.0,67.0,49.0,null,null,null,null,null,25.0,25.0,29.0,33.0,27.0,null,26.0,28.0,21.0,null,null,18.5,41.0,18.0,null,36.0,null,28.0,null,22.0,42.0,24.0,32.0,53.0,null,43.0,24.0,26.5,26.0,40.0,61.0,28.0,42.0,31.0,null,22.0,null,null,60.5,24.0,42.0,null,48.0,18.0,null,27.0,23.0,null,40.0,54.0,30.0,37.0,null,40.0,17.0,40.0,34.0,null,61.0,33.0,23.0,47.0,25.0,null,24.0,25.0,32.0,null,17.0,42.0,57.0,null,21.0,21.0,23.0,40.5,36.0,14.0,21.0,null,39.0,20.0,64.0,20.0,45.0,null,41.0,42.0,20.0,27.0,24.0,32.5,null,null,28.0,21.0,36.5,21.0,30.0,null,null,null,17.0,46.0,null,null,28.0,40.0,30.0,22.0,36.0,null,24.0,null,null,null,null,36.0,26.0,null,30.0,29.0,32.0,null,43.0,24.0,30.0,55.0,18.0,22.0,null,57.0,19.0,27.0,22.0,26.0,25.0,26.0,33.0,23.0,46.0,29.0,21.0,39.0,null,27.0,30.0,32.0,39.0,25.0,18.0,32.0,null,26.0,24.0,25.0,18.0,49.0,50.0,null,null,27.0,null,29.0,21.0,49.0,44.0,21.0,55.0,null,26.0,null,24.0,57.0,21.0,23.0,47.0,29.0,24.0,22.0,31.0,38.0,17.0,43.0,20.0,23.0,50.0,null,38.5,null],\"y0\":\" \",\"yaxis\":\"y\",\"type\":\"box\"},{\"alignmentgroup\":\"True\",\"hovertemplate\":\"Title=%{x}<br>Age=%{y}<extra></extra>\",\"legendgroup\":\"Mrs\",\"marker\":{\"color\":\"#EF553B\"},\"name\":\"Mrs\",\"notched\":false,\"offsetgroup\":\"Mrs\",\"orientation\":\"v\",\"showlegend\":true,\"x\":[\"Mrs\",\"Mrs\",\"Mrs\",\"Mrs\",\"Mrs\",\"Mrs\",\"Mrs\",\"Mrs\",\"Mrs\",\"Mrs\",\"Mrs\",\"Mrs\",\"Mrs\",\"Mrs\",\"Mrs\",\"Mrs\",\"Mrs\",\"Mrs\",\"Mrs\",\"Mrs\",\"Mrs\",\"Mrs\",\"Mrs\",\"Mrs\",\"Mrs\",\"Mrs\",\"Mrs\",\"Mrs\",\"Mrs\",\"Mrs\",\"Mrs\",\"Mrs\",\"Mrs\",\"Mrs\",\"Mrs\",\"Mrs\",\"Mrs\",\"Mrs\",\"Mrs\",\"Mrs\",\"Mrs\",\"Mrs\",\"Mrs\",\"Mrs\",\"Mrs\",\"Mrs\",\"Mrs\",\"Mrs\",\"Mrs\",\"Mrs\",\"Mrs\",\"Mrs\",\"Mrs\",\"Mrs\",\"Mrs\",\"Mrs\",\"Mrs\",\"Mrs\",\"Mrs\",\"Mrs\",\"Mrs\",\"Mrs\",\"Mrs\",\"Mrs\",\"Mrs\",\"Mrs\",\"Mrs\",\"Mrs\",\"Mrs\",\"Mrs\",\"Mrs\",\"Mrs\",\"Mrs\",\"Mrs\",\"Mrs\",\"Mrs\",\"Mrs\",\"Mrs\",\"Mrs\",\"Mrs\",\"Mrs\",\"Mrs\",\"Mrs\",\"Mrs\",\"Mrs\",\"Mrs\",\"Mrs\",\"Mrs\",\"Mrs\",\"Mrs\",\"Mrs\",\"Mrs\",\"Mrs\",\"Mrs\",\"Mrs\",\"Mrs\",\"Mrs\",\"Mrs\",\"Mrs\",\"Mrs\",\"Mrs\",\"Mrs\",\"Mrs\",\"Mrs\",\"Mrs\",\"Mrs\",\"Mrs\",\"Mrs\",\"Mrs\",\"Mrs\",\"Mrs\",\"Mrs\",\"Mrs\",\"Mrs\",\"Mrs\",\"Mrs\",\"Mrs\",\"Mrs\",\"Mrs\",\"Mrs\",\"Mrs\",\"Mrs\",\"Mrs\",\"Mrs\",\"Mrs\",\"Mrs\",\"Mrs\",\"Mrs\",\"Mrs\",\"Mrs\",\"Mrs\",\"Mrs\",\"Mrs\",\"Mrs\",\"Mrs\",\"Mrs\",\"Mrs\",\"Mrs\",\"Mrs\",\"Mrs\",\"Mrs\",\"Mrs\",\"Mrs\",\"Mrs\",\"Mrs\",\"Mrs\",\"Mrs\",\"Mrs\",\"Mrs\",\"Mrs\",\"Mrs\",\"Mrs\",\"Mrs\",\"Mrs\",\"Mrs\",\"Mrs\",\"Mrs\",\"Mrs\",\"Mrs\",\"Mrs\",\"Mrs\",\"Mrs\",\"Mrs\",\"Mrs\",\"Mrs\",\"Mrs\",\"Mrs\",\"Mrs\",\"Mrs\",\"Mrs\",\"Mrs\",\"Mrs\",\"Mrs\",\"Mrs\",\"Mrs\",\"Mrs\",\"Mrs\",\"Mrs\",\"Mrs\",\"Mrs\",\"Mrs\",\"Mrs\",\"Mrs\",\"Mrs\",\"Mrs\",\"Mrs\",\"Mrs\",\"Mrs\",\"Mrs\",\"Mrs\",\"Mrs\",\"Mrs\",\"Mrs\",\"Mrs\",\"Mrs\",\"Mrs\",\"Mrs\",\"Mrs\",\"Mrs\",\"Mrs\"],\"x0\":\" \",\"xaxis\":\"x\",\"y\":[38.0,35.0,27.0,14.0,55.0,31.0,null,38.0,null,40.0,27.0,18.0,49.0,29.0,29.0,33.0,34.0,47.0,29.0,null,24.0,22.0,40.0,null,45.0,null,32.0,44.0,35.0,24.0,29.0,41.0,29.0,null,50.0,58.0,41.0,35.0,19.0,50.0,17.0,26.0,24.0,40.0,22.0,36.0,31.0,null,null,45.0,60.0,null,null,35.0,24.0,28.0,null,34.0,28.0,28.0,null,42.0,24.0,45.0,null,33.0,23.0,63.0,35.0,25.0,33.0,54.0,34.0,36.0,44.0,null,19.0,48.0,39.0,36.0,29.0,53.0,39.0,null,39.0,52.0,24.0,22.0,39.0,26.0,41.0,32.0,null,40.0,43.0,18.0,45.0,30.0,48.0,48.0,33.0,36.0,51.0,57.0,54.0,43.0,17.0,31.0,30.0,31.0,33.0,52.0,27.0,62.0,15.0,null,44.0,18.0,45.0,24.0,48.0,42.0,47.0,28.0,56.0,25.0,39.0,47.0,22.0,18.0,23.0,47.0,24.0,45.0,null,48.0,33.0,null,30.0,45.0,60.0,36.0,null,60.0,55.0,22.0,27.0,76.0,43.0,16.0,63.0,29.0,35.0,null,23.0,36.0,26.0,26.0,null,36.0,64.0,18.0,27.0,null,60.0,50.0,22.0,53.0,null,48.0,55.0,45.0,22.0,29.0,null,29.0,26.0,64.0,45.0,55.0,48.0,19.0,58.0,38.0,45.0,59.0,30.0,24.0,31.0,25.0,null,45.0,54.0,null,19.0,51.0,18.0,48.0,37.0,39.0],\"y0\":\" \",\"yaxis\":\"y\",\"type\":\"box\"},{\"alignmentgroup\":\"True\",\"hovertemplate\":\"Title=%{x}<br>Age=%{y}<extra></extra>\",\"legendgroup\":\"Miss\",\"marker\":{\"color\":\"#00cc96\"},\"name\":\"Miss\",\"notched\":false,\"offsetgroup\":\"Miss\",\"orientation\":\"v\",\"showlegend\":true,\"x\":[\"Miss\",\"Miss\",\"Miss\",\"Miss\",\"Miss\",\"Miss\",\"Miss\",\"Miss\",\"Miss\",\"Miss\",\"Miss\",\"Miss\",\"Miss\",\"Miss\",\"Miss\",\"Miss\",\"Miss\",\"Miss\",\"Miss\",\"Miss\",\"Miss\",\"Miss\",\"Miss\",\"Miss\",\"Miss\",\"Miss\",\"Miss\",\"Miss\",\"Miss\",\"Miss\",\"Miss\",\"Miss\",\"Miss\",\"Miss\",\"Miss\",\"Miss\",\"Miss\",\"Miss\",\"Miss\",\"Miss\",\"Miss\",\"Miss\",\"Miss\",\"Miss\",\"Miss\",\"Miss\",\"Miss\",\"Miss\",\"Miss\",\"Miss\",\"Miss\",\"Miss\",\"Miss\",\"Miss\",\"Miss\",\"Miss\",\"Miss\",\"Miss\",\"Miss\",\"Miss\",\"Miss\",\"Miss\",\"Miss\",\"Miss\",\"Miss\",\"Miss\",\"Miss\",\"Miss\",\"Miss\",\"Miss\",\"Miss\",\"Miss\",\"Miss\",\"Miss\",\"Miss\",\"Miss\",\"Miss\",\"Miss\",\"Miss\",\"Miss\",\"Miss\",\"Miss\",\"Miss\",\"Miss\",\"Miss\",\"Miss\",\"Miss\",\"Miss\",\"Miss\",\"Miss\",\"Miss\",\"Miss\",\"Miss\",\"Miss\",\"Miss\",\"Miss\",\"Miss\",\"Miss\",\"Miss\",\"Miss\",\"Miss\",\"Miss\",\"Miss\",\"Miss\",\"Miss\",\"Miss\",\"Miss\",\"Miss\",\"Miss\",\"Miss\",\"Miss\",\"Miss\",\"Miss\",\"Miss\",\"Miss\",\"Miss\",\"Miss\",\"Miss\",\"Miss\",\"Miss\",\"Miss\",\"Miss\",\"Miss\",\"Miss\",\"Miss\",\"Miss\",\"Miss\",\"Miss\",\"Miss\",\"Miss\",\"Miss\",\"Miss\",\"Miss\",\"Miss\",\"Miss\",\"Miss\",\"Miss\",\"Miss\",\"Miss\",\"Miss\",\"Miss\",\"Miss\",\"Miss\",\"Miss\",\"Miss\",\"Miss\",\"Miss\",\"Miss\",\"Miss\",\"Miss\",\"Miss\",\"Miss\",\"Miss\",\"Miss\",\"Miss\",\"Miss\",\"Miss\",\"Miss\",\"Miss\",\"Miss\",\"Miss\",\"Miss\",\"Miss\",\"Miss\",\"Miss\",\"Miss\",\"Miss\",\"Miss\",\"Miss\",\"Miss\",\"Miss\",\"Miss\",\"Miss\",\"Miss\",\"Miss\",\"Miss\",\"Miss\",\"Miss\",\"Miss\",\"Miss\",\"Miss\",\"Miss\",\"Miss\",\"Miss\",\"Miss\",\"Miss\",\"Miss\",\"Miss\",\"Miss\",\"Miss\",\"Miss\",\"Miss\",\"Miss\",\"Miss\",\"Miss\",\"Miss\",\"Miss\",\"Miss\",\"Miss\",\"Miss\",\"Miss\",\"Miss\",\"Miss\",\"Miss\",\"Miss\",\"Miss\",\"Miss\",\"Miss\",\"Miss\",\"Miss\",\"Miss\",\"Miss\",\"Miss\",\"Miss\",\"Miss\",\"Miss\",\"Miss\",\"Miss\",\"Miss\",\"Miss\",\"Miss\",\"Miss\",\"Miss\",\"Miss\",\"Miss\",\"Miss\",\"Miss\",\"Miss\",\"Miss\",\"Miss\",\"Miss\",\"Miss\",\"Miss\",\"Miss\",\"Miss\",\"Miss\",\"Miss\",\"Miss\",\"Miss\",\"Miss\",\"Miss\",\"Miss\",\"Miss\",\"Miss\",\"Miss\",\"Miss\",\"Miss\",\"Miss\",\"Miss\",\"Miss\",\"Miss\",\"Miss\",\"Miss\",\"Miss\",\"Miss\",\"Miss\",\"Miss\",\"Miss\",\"Miss\",\"Miss\",\"Miss\",\"Miss\",\"Miss\",\"Miss\",\"Miss\"],\"x0\":\" \",\"xaxis\":\"x\",\"y\":[26.0,4.0,58.0,14.0,15.0,8.0,null,null,18.0,14.0,3.0,19.0,null,21.0,5.0,38.0,17.0,16.0,30.0,null,17.0,23.0,28.0,21.0,null,14.5,20.0,17.0,2.0,32.5,null,19.0,22.0,9.0,16.0,1.0,50.0,null,4.0,19.0,58.0,null,24.0,2.0,16.0,35.0,31.0,27.0,32.0,null,5.0,null,8.0,null,null,25.0,30.0,35.0,null,35.0,null,63.0,45.0,22.0,26.0,24.0,2.0,null,null,null,30.0,24.0,18.0,26.0,31.0,30.0,36.0,16.0,null,41.0,24.0,24.0,40.0,22.0,38.0,null,null,null,24.0,3.0,22.0,42.0,1.0,36.0,17.0,23.0,31.0,21.0,20.0,null,33.0,18.0,10.0,19.0,14.0,21.0,28.0,13.0,5.0,50.0,0.75,22.0,2.0,null,54.0,21.0,null,37.0,16.0,30.0,50.0,2.0,30.0,7.0,30.0,22.0,36.0,9.0,11.0,22.0,null,null,34.0,25.0,18.0,null,null,40.0,null,24.0,4.0,21.0,9.0,28.0,24.0,2.0,0.75,23.0,18.0,null,18.0,18.0,null,15.0,4.0,null,18.0,22.0,24.0,38.0,27.0,6.0,null,25.0,29.0,21.0,30.0,4.0,30.5,5.0,13.0,18.0,null,18.0,6.0,23.0,39.0,30.0,9.0,16.0,null,27.0,15.0,22.0,19.0,null,30.0,27.0,22.0,null,21.0,20.0,28.0,36.0,22.0,18.0,24.0,29.0,35.0,24.0,27.0,18.0,null,20.0,null,36.0,18.5,1.0,12.0,17.0,null,23.0,10.0,33.0,29.0,23.0,null,26.0,22.0,15.0,20.0,21.0,null,18.0,null,8.0,35.0,33.0,38.0,null,30.0,null,21.0,18.0,0.92,19.0,1.0,null,null,20.0,23.0,null,9.0,2.0,30.0,1.0,null,37.0,17.0,39.0,12.0,16.0,31.0,0.17,22.0,31.0,45.0,22.0,24.0,30.0,22.0,null,3.0,null,28.0],\"y0\":\" \",\"yaxis\":\"y\",\"type\":\"box\"},{\"alignmentgroup\":\"True\",\"hovertemplate\":\"Title=%{x}<br>Age=%{y}<extra></extra>\",\"legendgroup\":\"Master\",\"marker\":{\"color\":\"#ab63fa\"},\"name\":\"Master\",\"notched\":false,\"offsetgroup\":\"Master\",\"orientation\":\"v\",\"showlegend\":true,\"x\":[\"Master\",\"Master\",\"Master\",\"Master\",\"Master\",\"Master\",\"Master\",\"Master\",\"Master\",\"Master\",\"Master\",\"Master\",\"Master\",\"Master\",\"Master\",\"Master\",\"Master\",\"Master\",\"Master\",\"Master\",\"Master\",\"Master\",\"Master\",\"Master\",\"Master\",\"Master\",\"Master\",\"Master\",\"Master\",\"Master\",\"Master\",\"Master\",\"Master\",\"Master\",\"Master\",\"Master\",\"Master\",\"Master\",\"Master\",\"Master\",\"Master\",\"Master\",\"Master\",\"Master\",\"Master\",\"Master\",\"Master\",\"Master\",\"Master\",\"Master\",\"Master\",\"Master\",\"Master\",\"Master\",\"Master\",\"Master\",\"Master\",\"Master\",\"Master\",\"Master\",\"Master\"],\"x0\":\" \",\"xaxis\":\"x\",\"y\":[2.0,2.0,7.0,11.0,4.0,null,0.83,12.0,null,1.0,9.0,4.0,null,9.0,1.0,3.0,3.0,7.0,0.92,2.0,3.0,1.0,3.0,4.0,9.0,9.0,8.0,null,6.0,0.67,8.0,1.0,11.0,0.42,10.0,2.0,1.0,0.83,4.0,4.0,9.0,10.0,13.0,6.0,2.0,13.0,7.0,11.5,8.0,6.0,0.33,null,0.75,0.83,null,null,14.5,5.0,6.0,13.0,null],\"y0\":\" \",\"yaxis\":\"y\",\"type\":\"box\"},{\"alignmentgroup\":\"True\",\"hovertemplate\":\"Title=%{x}<br>Age=%{y}<extra></extra>\",\"legendgroup\":\"Rev\",\"marker\":{\"color\":\"#FFA15A\"},\"name\":\"Rev\",\"notched\":false,\"offsetgroup\":\"Rev\",\"orientation\":\"v\",\"showlegend\":true,\"x\":[\"Rev\",\"Rev\",\"Rev\",\"Rev\",\"Rev\",\"Rev\",\"Rev\",\"Rev\"],\"x0\":\" \",\"xaxis\":\"x\",\"y\":[42.0,51.0,54.0,57.0,28.0,27.0,30.0,41.0],\"y0\":\" \",\"yaxis\":\"y\",\"type\":\"box\"},{\"alignmentgroup\":\"True\",\"hovertemplate\":\"Title=%{x}<br>Age=%{y}<extra></extra>\",\"legendgroup\":\"Dr\",\"marker\":{\"color\":\"#19d3f3\"},\"name\":\"Dr\",\"notched\":false,\"offsetgroup\":\"Dr\",\"orientation\":\"v\",\"showlegend\":true,\"x\":[\"Dr\",\"Dr\",\"Dr\",\"Dr\",\"Dr\",\"Dr\",\"Dr\",\"Dr\"],\"x0\":\" \",\"xaxis\":\"x\",\"y\":[44.0,54.0,23.0,32.0,50.0,null,49.0,53.0],\"y0\":\" \",\"yaxis\":\"y\",\"type\":\"box\"}],                        {\"template\":{\"data\":{\"bar\":[{\"error_x\":{\"color\":\"#2a3f5f\"},\"error_y\":{\"color\":\"#2a3f5f\"},\"marker\":{\"line\":{\"color\":\"#E5ECF6\",\"width\":0.5},\"pattern\":{\"fillmode\":\"overlay\",\"size\":10,\"solidity\":0.2}},\"type\":\"bar\"}],\"barpolar\":[{\"marker\":{\"line\":{\"color\":\"#E5ECF6\",\"width\":0.5},\"pattern\":{\"fillmode\":\"overlay\",\"size\":10,\"solidity\":0.2}},\"type\":\"barpolar\"}],\"carpet\":[{\"aaxis\":{\"endlinecolor\":\"#2a3f5f\",\"gridcolor\":\"white\",\"linecolor\":\"white\",\"minorgridcolor\":\"white\",\"startlinecolor\":\"#2a3f5f\"},\"baxis\":{\"endlinecolor\":\"#2a3f5f\",\"gridcolor\":\"white\",\"linecolor\":\"white\",\"minorgridcolor\":\"white\",\"startlinecolor\":\"#2a3f5f\"},\"type\":\"carpet\"}],\"choropleth\":[{\"colorbar\":{\"outlinewidth\":0,\"ticks\":\"\"},\"type\":\"choropleth\"}],\"contour\":[{\"colorbar\":{\"outlinewidth\":0,\"ticks\":\"\"},\"colorscale\":[[0.0,\"#0d0887\"],[0.1111111111111111,\"#46039f\"],[0.2222222222222222,\"#7201a8\"],[0.3333333333333333,\"#9c179e\"],[0.4444444444444444,\"#bd3786\"],[0.5555555555555556,\"#d8576b\"],[0.6666666666666666,\"#ed7953\"],[0.7777777777777778,\"#fb9f3a\"],[0.8888888888888888,\"#fdca26\"],[1.0,\"#f0f921\"]],\"type\":\"contour\"}],\"contourcarpet\":[{\"colorbar\":{\"outlinewidth\":0,\"ticks\":\"\"},\"type\":\"contourcarpet\"}],\"heatmap\":[{\"colorbar\":{\"outlinewidth\":0,\"ticks\":\"\"},\"colorscale\":[[0.0,\"#0d0887\"],[0.1111111111111111,\"#46039f\"],[0.2222222222222222,\"#7201a8\"],[0.3333333333333333,\"#9c179e\"],[0.4444444444444444,\"#bd3786\"],[0.5555555555555556,\"#d8576b\"],[0.6666666666666666,\"#ed7953\"],[0.7777777777777778,\"#fb9f3a\"],[0.8888888888888888,\"#fdca26\"],[1.0,\"#f0f921\"]],\"type\":\"heatmap\"}],\"heatmapgl\":[{\"colorbar\":{\"outlinewidth\":0,\"ticks\":\"\"},\"colorscale\":[[0.0,\"#0d0887\"],[0.1111111111111111,\"#46039f\"],[0.2222222222222222,\"#7201a8\"],[0.3333333333333333,\"#9c179e\"],[0.4444444444444444,\"#bd3786\"],[0.5555555555555556,\"#d8576b\"],[0.6666666666666666,\"#ed7953\"],[0.7777777777777778,\"#fb9f3a\"],[0.8888888888888888,\"#fdca26\"],[1.0,\"#f0f921\"]],\"type\":\"heatmapgl\"}],\"histogram\":[{\"marker\":{\"pattern\":{\"fillmode\":\"overlay\",\"size\":10,\"solidity\":0.2}},\"type\":\"histogram\"}],\"histogram2d\":[{\"colorbar\":{\"outlinewidth\":0,\"ticks\":\"\"},\"colorscale\":[[0.0,\"#0d0887\"],[0.1111111111111111,\"#46039f\"],[0.2222222222222222,\"#7201a8\"],[0.3333333333333333,\"#9c179e\"],[0.4444444444444444,\"#bd3786\"],[0.5555555555555556,\"#d8576b\"],[0.6666666666666666,\"#ed7953\"],[0.7777777777777778,\"#fb9f3a\"],[0.8888888888888888,\"#fdca26\"],[1.0,\"#f0f921\"]],\"type\":\"histogram2d\"}],\"histogram2dcontour\":[{\"colorbar\":{\"outlinewidth\":0,\"ticks\":\"\"},\"colorscale\":[[0.0,\"#0d0887\"],[0.1111111111111111,\"#46039f\"],[0.2222222222222222,\"#7201a8\"],[0.3333333333333333,\"#9c179e\"],[0.4444444444444444,\"#bd3786\"],[0.5555555555555556,\"#d8576b\"],[0.6666666666666666,\"#ed7953\"],[0.7777777777777778,\"#fb9f3a\"],[0.8888888888888888,\"#fdca26\"],[1.0,\"#f0f921\"]],\"type\":\"histogram2dcontour\"}],\"mesh3d\":[{\"colorbar\":{\"outlinewidth\":0,\"ticks\":\"\"},\"type\":\"mesh3d\"}],\"parcoords\":[{\"line\":{\"colorbar\":{\"outlinewidth\":0,\"ticks\":\"\"}},\"type\":\"parcoords\"}],\"pie\":[{\"automargin\":true,\"type\":\"pie\"}],\"scatter\":[{\"marker\":{\"colorbar\":{\"outlinewidth\":0,\"ticks\":\"\"}},\"type\":\"scatter\"}],\"scatter3d\":[{\"line\":{\"colorbar\":{\"outlinewidth\":0,\"ticks\":\"\"}},\"marker\":{\"colorbar\":{\"outlinewidth\":0,\"ticks\":\"\"}},\"type\":\"scatter3d\"}],\"scattercarpet\":[{\"marker\":{\"colorbar\":{\"outlinewidth\":0,\"ticks\":\"\"}},\"type\":\"scattercarpet\"}],\"scattergeo\":[{\"marker\":{\"colorbar\":{\"outlinewidth\":0,\"ticks\":\"\"}},\"type\":\"scattergeo\"}],\"scattergl\":[{\"marker\":{\"colorbar\":{\"outlinewidth\":0,\"ticks\":\"\"}},\"type\":\"scattergl\"}],\"scattermapbox\":[{\"marker\":{\"colorbar\":{\"outlinewidth\":0,\"ticks\":\"\"}},\"type\":\"scattermapbox\"}],\"scatterpolar\":[{\"marker\":{\"colorbar\":{\"outlinewidth\":0,\"ticks\":\"\"}},\"type\":\"scatterpolar\"}],\"scatterpolargl\":[{\"marker\":{\"colorbar\":{\"outlinewidth\":0,\"ticks\":\"\"}},\"type\":\"scatterpolargl\"}],\"scatterternary\":[{\"marker\":{\"colorbar\":{\"outlinewidth\":0,\"ticks\":\"\"}},\"type\":\"scatterternary\"}],\"surface\":[{\"colorbar\":{\"outlinewidth\":0,\"ticks\":\"\"},\"colorscale\":[[0.0,\"#0d0887\"],[0.1111111111111111,\"#46039f\"],[0.2222222222222222,\"#7201a8\"],[0.3333333333333333,\"#9c179e\"],[0.4444444444444444,\"#bd3786\"],[0.5555555555555556,\"#d8576b\"],[0.6666666666666666,\"#ed7953\"],[0.7777777777777778,\"#fb9f3a\"],[0.8888888888888888,\"#fdca26\"],[1.0,\"#f0f921\"]],\"type\":\"surface\"}],\"table\":[{\"cells\":{\"fill\":{\"color\":\"#EBF0F8\"},\"line\":{\"color\":\"white\"}},\"header\":{\"fill\":{\"color\":\"#C8D4E3\"},\"line\":{\"color\":\"white\"}},\"type\":\"table\"}]},\"layout\":{\"annotationdefaults\":{\"arrowcolor\":\"#2a3f5f\",\"arrowhead\":0,\"arrowwidth\":1},\"autotypenumbers\":\"strict\",\"coloraxis\":{\"colorbar\":{\"outlinewidth\":0,\"ticks\":\"\"}},\"colorscale\":{\"diverging\":[[0,\"#8e0152\"],[0.1,\"#c51b7d\"],[0.2,\"#de77ae\"],[0.3,\"#f1b6da\"],[0.4,\"#fde0ef\"],[0.5,\"#f7f7f7\"],[0.6,\"#e6f5d0\"],[0.7,\"#b8e186\"],[0.8,\"#7fbc41\"],[0.9,\"#4d9221\"],[1,\"#276419\"]],\"sequential\":[[0.0,\"#0d0887\"],[0.1111111111111111,\"#46039f\"],[0.2222222222222222,\"#7201a8\"],[0.3333333333333333,\"#9c179e\"],[0.4444444444444444,\"#bd3786\"],[0.5555555555555556,\"#d8576b\"],[0.6666666666666666,\"#ed7953\"],[0.7777777777777778,\"#fb9f3a\"],[0.8888888888888888,\"#fdca26\"],[1.0,\"#f0f921\"]],\"sequentialminus\":[[0.0,\"#0d0887\"],[0.1111111111111111,\"#46039f\"],[0.2222222222222222,\"#7201a8\"],[0.3333333333333333,\"#9c179e\"],[0.4444444444444444,\"#bd3786\"],[0.5555555555555556,\"#d8576b\"],[0.6666666666666666,\"#ed7953\"],[0.7777777777777778,\"#fb9f3a\"],[0.8888888888888888,\"#fdca26\"],[1.0,\"#f0f921\"]]},\"colorway\":[\"#636efa\",\"#EF553B\",\"#00cc96\",\"#ab63fa\",\"#FFA15A\",\"#19d3f3\",\"#FF6692\",\"#B6E880\",\"#FF97FF\",\"#FECB52\"],\"font\":{\"color\":\"#2a3f5f\"},\"geo\":{\"bgcolor\":\"white\",\"lakecolor\":\"white\",\"landcolor\":\"#E5ECF6\",\"showlakes\":true,\"showland\":true,\"subunitcolor\":\"white\"},\"hoverlabel\":{\"align\":\"left\"},\"hovermode\":\"closest\",\"mapbox\":{\"style\":\"light\"},\"paper_bgcolor\":\"white\",\"plot_bgcolor\":\"#E5ECF6\",\"polar\":{\"angularaxis\":{\"gridcolor\":\"white\",\"linecolor\":\"white\",\"ticks\":\"\"},\"bgcolor\":\"#E5ECF6\",\"radialaxis\":{\"gridcolor\":\"white\",\"linecolor\":\"white\",\"ticks\":\"\"}},\"scene\":{\"xaxis\":{\"backgroundcolor\":\"#E5ECF6\",\"gridcolor\":\"white\",\"gridwidth\":2,\"linecolor\":\"white\",\"showbackground\":true,\"ticks\":\"\",\"zerolinecolor\":\"white\"},\"yaxis\":{\"backgroundcolor\":\"#E5ECF6\",\"gridcolor\":\"white\",\"gridwidth\":2,\"linecolor\":\"white\",\"showbackground\":true,\"ticks\":\"\",\"zerolinecolor\":\"white\"},\"zaxis\":{\"backgroundcolor\":\"#E5ECF6\",\"gridcolor\":\"white\",\"gridwidth\":2,\"linecolor\":\"white\",\"showbackground\":true,\"ticks\":\"\",\"zerolinecolor\":\"white\"}},\"shapedefaults\":{\"line\":{\"color\":\"#2a3f5f\"}},\"ternary\":{\"aaxis\":{\"gridcolor\":\"white\",\"linecolor\":\"white\",\"ticks\":\"\"},\"baxis\":{\"gridcolor\":\"white\",\"linecolor\":\"white\",\"ticks\":\"\"},\"bgcolor\":\"#E5ECF6\",\"caxis\":{\"gridcolor\":\"white\",\"linecolor\":\"white\",\"ticks\":\"\"}},\"title\":{\"x\":0.05},\"xaxis\":{\"automargin\":true,\"gridcolor\":\"white\",\"linecolor\":\"white\",\"ticks\":\"\",\"title\":{\"standoff\":15},\"zerolinecolor\":\"white\",\"zerolinewidth\":2},\"yaxis\":{\"automargin\":true,\"gridcolor\":\"white\",\"linecolor\":\"white\",\"ticks\":\"\",\"title\":{\"standoff\":15},\"zerolinecolor\":\"white\",\"zerolinewidth\":2}}},\"xaxis\":{\"anchor\":\"y\",\"domain\":[0.0,1.0],\"title\":{\"text\":\"Title\"},\"categoryorder\":\"array\",\"categoryarray\":[\"Mr\",\"Mrs\",\"Miss\",\"Master\",\"Rev\",\"Dr\"]},\"yaxis\":{\"anchor\":\"x\",\"domain\":[0.0,1.0],\"title\":{\"text\":\"Age\"}},\"legend\":{\"title\":{\"text\":\"Title\"},\"tracegroupgap\":0},\"margin\":{\"t\":60},\"boxmode\":\"overlay\",\"height\":400,\"width\":400},                        {\"responsive\": true}                    ).then(function(){\n",
              "                            \n",
              "var gd = document.getElementById('be190347-4739-4ae8-8126-965595b7967a');\n",
              "var x = new MutationObserver(function (mutations, observer) {{\n",
              "        var display = window.getComputedStyle(gd).display;\n",
              "        if (!display || display === 'none') {{\n",
              "            console.log([gd, 'removed!']);\n",
              "            Plotly.purge(gd);\n",
              "            observer.disconnect();\n",
              "        }}\n",
              "}});\n",
              "\n",
              "// Listen for the removal of the full notebook cells\n",
              "var notebookContainer = gd.closest('#notebook-container');\n",
              "if (notebookContainer) {{\n",
              "    x.observe(notebookContainer, {childList: true});\n",
              "}}\n",
              "\n",
              "// Listen for the clearing of the current output cell\n",
              "var outputEl = gd.closest('.output');\n",
              "if (outputEl) {{\n",
              "    x.observe(outputEl, {childList: true});\n",
              "}}\n",
              "\n",
              "                        })                };                            </script>        </div>\n",
              "</body>\n",
              "</html>"
            ]
          },
          "metadata": {}
        },
        {
          "output_type": "stream",
          "name": "stdout",
          "text": [
            "                 sum_sq      df          F        PR(>F)\n",
            "Title      60904.737001     5.0  81.106106  5.892327e-72\n",
            "Residual  156192.744945  1040.0        NaN           NaN\n"
          ]
        }
      ]
    },
    {
      "cell_type": "code",
      "source": [
        "# Impute NA values in 'Age' by mode value of 'Age' grouped by 'Title'\n",
        "all_features['Age'] = all_features['Age'].fillna(all_features.groupby('Title')['Age'].transform('median'))"
      ],
      "metadata": {
        "id": "3XhDcPFLPF3e"
      },
      "execution_count": null,
      "outputs": []
    },
    {
      "cell_type": "markdown",
      "source": [
        "#### > 변수 제거: Cabin\n",
        "\n",
        "- 방식: 'Cabin' 제거\n",
        "- 배경: 'Cabin'의 값 중 다수가 NA (1014 / 1309)"
      ],
      "metadata": {
        "id": "uvImOGuNYr3A"
      }
    },
    {
      "cell_type": "code",
      "source": [
        "all_features.drop('Cabin', axis=1, inplace=True)"
      ],
      "metadata": {
        "id": "0WKg8GCmEEjN"
      },
      "execution_count": null,
      "outputs": []
    },
    {
      "cell_type": "markdown",
      "source": [
        "### 1.2.3. 결측치 재확인\n",
        "\n",
        "모든 변수에 NA 없는지 확인"
      ],
      "metadata": {
        "id": "UcUk2sAfPekQ"
      }
    },
    {
      "cell_type": "code",
      "source": [
        "import missingno as msno\n",
        "msno.bar(all_features, figsize=(5, 3))"
      ],
      "metadata": {
        "colab": {
          "base_uri": "https://localhost:8080/",
          "height": 345
        },
        "id": "pwDlSyx6FBYS",
        "outputId": "f927aeb6-7211-40f0-9e8e-154c087fec3c"
      },
      "execution_count": null,
      "outputs": [
        {
          "output_type": "execute_result",
          "data": {
            "text/plain": [
              "<matplotlib.axes._subplots.AxesSubplot at 0x7f6070edd450>"
            ]
          },
          "metadata": {},
          "execution_count": 16
        },
        {
          "output_type": "display_data",
          "data": {
            "text/plain": [
              "<Figure size 360x216 with 3 Axes>"
            ],
            "image/png": "[encoded data removed]"
          },
          "metadata": {
            "needs_background": "light"
          }
        }
      ]
    },
    {
      "cell_type": "code",
      "source": [
        "assert not all_features.isnull().sum().any()"
      ],
      "metadata": {
        "id": "QqFbOIMEZ4LC"
      },
      "execution_count": null,
      "outputs": []
    },
    {
      "cell_type": "markdown",
      "source": [
        "## 1.3. 파생변수 생성 (*optional*)\n",
        "\n",
        "주어진 데이터를 이용해 새로운 변수를 생성할 수 있습니다. 이러한 변수들을 '파생변수'라고 합니다.\n",
        "적절한 파생변수는 모형 적합에 새로운 정보를 제공하여 예측 성능을 높일 수 있습니다. \n",
        "하지만 항상 그런 것은 아닙니다. \n"
      ],
      "metadata": {
        "id": "UH-RnjY7ZK1q"
      }
    },
    {
      "cell_type": "markdown",
      "source": [
        "### 1.3.1. 데이터로부터 얻은 인사이트 (Ticket & Fare)\n",
        "\n",
        "기존 데이터를 이용해 어떠한 파생변수를 새롭게 만들어낼 수 있을까요?\n",
        "\n",
        "저는 Ticket과 Fare 변수에 주목했습니다. \n",
        "아래 테이블을 통해 승객들의 Ticket 값이 같은 경우 Fare 값 역시 같다는 것을 확인할 수 있습니다. \n",
        "이 세명의 승객이 함께 티켓을 구매해 탑승한 '그룹'이라는 것을 유추할 수 있습니다. \n",
        "또한 SibSp와 Parch 변수를 통해 이들이 가족관계에 있는지 여부도 유추할 수 있습니다. \n",
        "특히나 아래의 예의 경우 Name 변수를 통해 세 승객 모두 'Taussig'라는 성 (Family name)을 공유하는 것을 확인할 수 있습니다. \n",
        "\n",
        "승객이 '그룹'을 이뤄 탑승했다는 것 그리고 그 그룹이 '가족'인지 여부는 생존여부에 영향을 미칠 것이라고 가설을 세울 수 있습니다. (실제로 그런지는 전처리 이후 시각화를 통해 알아보겠습니다.)\n",
        "\b이러한 정보는 주어진 데이터에 반영되어 있지 않기 때문에 새롭게 파생변수를 만들도록 하겠습니다. \n",
        "이 정보가 생존여부 분류에 유의미하다면 모형의 예측 성능에 긍정적인 영향을 미칠 것이라고 기대할 수 있습니다."
      ],
      "metadata": {
        "id": "7xnOO-wzQxtl"
      }
    },
    {
      "cell_type": "code",
      "source": [
        "all_features[all_features['Ticket']=='110413']"
      ],
      "metadata": {
        "colab": {
          "base_uri": "https://localhost:8080/",
          "height": 205
        },
        "id": "GBuzoRJ5QtLZ",
        "outputId": "070915b9-3b70-4567-d946-8e66abb99808"
      },
      "execution_count": null,
      "outputs": [
        {
          "output_type": "execute_result",
          "data": {
            "text/plain": [
              "     PassengerId  Pclass                                    Name     Sex  \\\n",
              "262          263       1                       Taussig, Mr. Emil    male   \n",
              "558          559       1  Taussig, Mrs. Emil (Tillie Mandelbaum)  female   \n",
              "585          586       1                     Taussig, Miss. Ruth  female   \n",
              "\n",
              "      Age  SibSp  Parch  Ticket   Fare Embarked Title  \n",
              "262  52.0      1      1  110413  79.65        S    Mr  \n",
              "558  39.0      1      1  110413  79.65        S   Mrs  \n",
              "585  18.0      0      2  110413  79.65        S  Miss  "
            ],
            "text/html": [
              "\n",
              "  <div id=\"df-63303ca3-1951-45f8-b121-eb6452c83a21\">\n",
              "    <div class=\"colab-df-container\">\n",
              "      <div>\n",
              "<style scoped>\n",
              "    .dataframe tbody tr th:only-of-type {\n",
              "        vertical-align: middle;\n",
              "    }\n",
              "\n",
              "    .dataframe tbody tr th {\n",
              "        vertical-align: top;\n",
              "    }\n",
              "\n",
              "    .dataframe thead th {\n",
              "        text-align: right;\n",
              "    }\n",
              "</style>\n",
              "<table border=\"1\" class=\"dataframe\">\n",
              "  <thead>\n",
              "    <tr style=\"text-align: right;\">\n",
              "      <th></th>\n",
              "      <th>PassengerId</th>\n",
              "      <th>Pclass</th>\n",
              "      <th>Name</th>\n",
              "      <th>Sex</th>\n",
              "      <th>Age</th>\n",
              "      <th>SibSp</th>\n",
              "      <th>Parch</th>\n",
              "      <th>Ticket</th>\n",
              "      <th>Fare</th>\n",
              "      <th>Embarked</th>\n",
              "      <th>Title</th>\n",
              "    </tr>\n",
              "  </thead>\n",
              "  <tbody>\n",
              "    <tr>\n",
              "      <th>262</th>\n",
              "      <td>263</td>\n",
              "      <td>1</td>\n",
              "      <td>Taussig, Mr. Emil</td>\n",
              "      <td>male</td>\n",
              "      <td>52.0</td>\n",
              "      <td>1</td>\n",
              "      <td>1</td>\n",
              "      <td>110413</td>\n",
              "      <td>79.65</td>\n",
              "      <td>S</td>\n",
              "      <td>Mr</td>\n",
              "    </tr>\n",
              "    <tr>\n",
              "      <th>558</th>\n",
              "      <td>559</td>\n",
              "      <td>1</td>\n",
              "      <td>Taussig, Mrs. Emil (Tillie Mandelbaum)</td>\n",
              "      <td>female</td>\n",
              "      <td>39.0</td>\n",
              "      <td>1</td>\n",
              "      <td>1</td>\n",
              "      <td>110413</td>\n",
              "      <td>79.65</td>\n",
              "      <td>S</td>\n",
              "      <td>Mrs</td>\n",
              "    </tr>\n",
              "    <tr>\n",
              "      <th>585</th>\n",
              "      <td>586</td>\n",
              "      <td>1</td>\n",
              "      <td>Taussig, Miss. Ruth</td>\n",
              "      <td>female</td>\n",
              "      <td>18.0</td>\n",
              "      <td>0</td>\n",
              "      <td>2</td>\n",
              "      <td>110413</td>\n",
              "      <td>79.65</td>\n",
              "      <td>S</td>\n",
              "      <td>Miss</td>\n",
              "    </tr>\n",
              "  </tbody>\n",
              "</table>\n",
              "</div>\n",
              "      <button class=\"colab-df-convert\" onclick=\"convertToInteractive('df-63303ca3-1951-45f8-b121-eb6452c83a21')\"\n",
              "              title=\"Convert this dataframe to an interactive table.\"\n",
              "              style=\"display:none;\">\n",
              "        \n",
              "  <svg xmlns=\"http://www.w3.org/2000/svg\" height=\"24px\"viewBox=\"0 0 24 24\"\n",
              "       width=\"24px\">\n",
              "    <path d=\"M0 0h24v24H0V0z\" fill=\"none\"/>\n",
              "    <path d=\"M18.56 5.44l.94 2.06.94-2.06 2.06-.94-2.06-.94-.94-2.06-.94 2.06-2.06.94zm-11 1L8.5 8.5l.94-2.06 2.06-.94-2.06-.94L8.5 2.5l-.94 2.06-2.06.94zm10 10l.94 2.06.94-2.06 2.06-.94-2.06-.94-.94-2.06-.94 2.06-2.06.94z\"/><path d=\"M17.41 7.96l-1.37-1.37c-.4-.4-.92-.59-1.43-.59-.52 0-1.04.2-1.43.59L10.3 9.45l-7.72 7.72c-.78.78-.78 2.05 0 2.83L4 21.41c.39.39.9.59 1.41.59.51 0 1.02-.2 1.41-.59l7.78-7.78 2.81-2.81c.8-.78.8-2.07 0-2.86zM5.41 20L4 18.59l7.72-7.72 1.47 1.35L5.41 20z\"/>\n",
              "  </svg>\n",
              "      </button>\n",
              "      \n",
              "  <style>\n",
              "    .colab-df-container {\n",
              "      display:flex;\n",
              "      flex-wrap:wrap;\n",
              "      gap: 12px;\n",
              "    }\n",
              "\n",
              "    .colab-df-convert {\n",
              "      background-color: #E8F0FE;\n",
              "      border: none;\n",
              "      border-radius: 50%;\n",
              "      cursor: pointer;\n",
              "      display: none;\n",
              "      fill: #1967D2;\n",
              "      height: 32px;\n",
              "      padding: 0 0 0 0;\n",
              "      width: 32px;\n",
              "    }\n",
              "\n",
              "    .colab-df-convert:hover {\n",
              "      background-color: #E2EBFA;\n",
              "      box-shadow: 0px 1px 2px rgba(60, 64, 67, 0.3), 0px 1px 3px 1px rgba(60, 64, 67, 0.15);\n",
              "      fill: #174EA6;\n",
              "    }\n",
              "\n",
              "    [theme=dark] .colab-df-convert {\n",
              "      background-color: #3B4455;\n",
              "      fill: #D2E3FC;\n",
              "    }\n",
              "\n",
              "    [theme=dark] .colab-df-convert:hover {\n",
              "      background-color: #434B5C;\n",
              "      box-shadow: 0px 1px 3px 1px rgba(0, 0, 0, 0.15);\n",
              "      filter: drop-shadow(0px 1px 2px rgba(0, 0, 0, 0.3));\n",
              "      fill: #FFFFFF;\n",
              "    }\n",
              "  </style>\n",
              "\n",
              "      <script>\n",
              "        const buttonEl =\n",
              "          document.querySelector('#df-63303ca3-1951-45f8-b121-eb6452c83a21 button.colab-df-convert');\n",
              "        buttonEl.style.display =\n",
              "          google.colab.kernel.accessAllowed ? 'block' : 'none';\n",
              "\n",
              "        async function convertToInteractive(key) {\n",
              "          const element = document.querySelector('#df-63303ca3-1951-45f8-b121-eb6452c83a21');\n",
              "          const dataTable =\n",
              "            await google.colab.kernel.invokeFunction('convertToInteractive',\n",
              "                                                     [key], {});\n",
              "          if (!dataTable) return;\n",
              "\n",
              "          const docLinkHtml = 'Like what you see? Visit the ' +\n",
              "            '<a target=\"_blank\" href=https://colab.research.google.com/notebooks/data_table.ipynb>data table notebook</a>'\n",
              "            + ' to learn more about interactive tables.';\n",
              "          element.innerHTML = '';\n",
              "          dataTable['output_type'] = 'display_data';\n",
              "          await google.colab.output.renderOutput(dataTable, element);\n",
              "          const docLink = document.createElement('div');\n",
              "          docLink.innerHTML = docLinkHtml;\n",
              "          element.appendChild(docLink);\n",
              "        }\n",
              "      </script>\n",
              "    </div>\n",
              "  </div>\n",
              "  "
            ]
          },
          "metadata": {},
          "execution_count": 18
        }
      ]
    },
    {
      "cell_type": "markdown",
      "source": [
        "추가로 SibSp와 Parch 값이 0 이더라도 Ticket과 Fare 값이 일치하는 승객들이 존재하는 것을 확인할 수 있습니다. 이들은 가족관계가 아닌 친구 혹은 동료 '그룹'이라고 유추할 수 있습니다."
      ],
      "metadata": {
        "id": "NwyXwJTCR7Ks"
      }
    },
    {
      "cell_type": "code",
      "source": [
        "all_features[all_features['Ticket']=='110152']"
      ],
      "metadata": {
        "colab": {
          "base_uri": "https://localhost:8080/",
          "height": 205
        },
        "id": "8bElKk4yQbZZ",
        "outputId": "92d6d70f-a3ef-47fb-bfe4-388b973e3a59"
      },
      "execution_count": null,
      "outputs": [
        {
          "output_type": "execute_result",
          "data": {
            "text/plain": [
              "     PassengerId  Pclass                                               Name  \\\n",
              "257          258       1                               Cherry, Miss. Gladys   \n",
              "504          505       1                              Maioni, Miss. Roberta   \n",
              "759          760       1  Rothes, the Countess. of (Lucy Noel Martha Dye...   \n",
              "\n",
              "        Sex   Age  SibSp  Parch  Ticket  Fare Embarked Title  \n",
              "257  female  30.0      0      0  110152  86.5        S  Miss  \n",
              "504  female  16.0      0      0  110152  86.5        S  Miss  \n",
              "759  female  33.0      0      0  110152  86.5        S   Mrs  "
            ],
            "text/html": [
              "\n",
              "  <div id=\"df-f4881bff-b127-4892-bd03-56ef93e90cab\">\n",
              "    <div class=\"colab-df-container\">\n",
              "      <div>\n",
              "<style scoped>\n",
              "    .dataframe tbody tr th:only-of-type {\n",
              "        vertical-align: middle;\n",
              "    }\n",
              "\n",
              "    .dataframe tbody tr th {\n",
              "        vertical-align: top;\n",
              "    }\n",
              "\n",
              "    .dataframe thead th {\n",
              "        text-align: right;\n",
              "    }\n",
              "</style>\n",
              "<table border=\"1\" class=\"dataframe\">\n",
              "  <thead>\n",
              "    <tr style=\"text-align: right;\">\n",
              "      <th></th>\n",
              "      <th>PassengerId</th>\n",
              "      <th>Pclass</th>\n",
              "      <th>Name</th>\n",
              "      <th>Sex</th>\n",
              "      <th>Age</th>\n",
              "      <th>SibSp</th>\n",
              "      <th>Parch</th>\n",
              "      <th>Ticket</th>\n",
              "      <th>Fare</th>\n",
              "      <th>Embarked</th>\n",
              "      <th>Title</th>\n",
              "    </tr>\n",
              "  </thead>\n",
              "  <tbody>\n",
              "    <tr>\n",
              "      <th>257</th>\n",
              "      <td>258</td>\n",
              "      <td>1</td>\n",
              "      <td>Cherry, Miss. Gladys</td>\n",
              "      <td>female</td>\n",
              "      <td>30.0</td>\n",
              "      <td>0</td>\n",
              "      <td>0</td>\n",
              "      <td>110152</td>\n",
              "      <td>86.5</td>\n",
              "      <td>S</td>\n",
              "      <td>Miss</td>\n",
              "    </tr>\n",
              "    <tr>\n",
              "      <th>504</th>\n",
              "      <td>505</td>\n",
              "      <td>1</td>\n",
              "      <td>Maioni, Miss. Roberta</td>\n",
              "      <td>female</td>\n",
              "      <td>16.0</td>\n",
              "      <td>0</td>\n",
              "      <td>0</td>\n",
              "      <td>110152</td>\n",
              "      <td>86.5</td>\n",
              "      <td>S</td>\n",
              "      <td>Miss</td>\n",
              "    </tr>\n",
              "    <tr>\n",
              "      <th>759</th>\n",
              "      <td>760</td>\n",
              "      <td>1</td>\n",
              "      <td>Rothes, the Countess. of (Lucy Noel Martha Dye...</td>\n",
              "      <td>female</td>\n",
              "      <td>33.0</td>\n",
              "      <td>0</td>\n",
              "      <td>0</td>\n",
              "      <td>110152</td>\n",
              "      <td>86.5</td>\n",
              "      <td>S</td>\n",
              "      <td>Mrs</td>\n",
              "    </tr>\n",
              "  </tbody>\n",
              "</table>\n",
              "</div>\n",
              "      <button class=\"colab-df-convert\" onclick=\"convertToInteractive('df-f4881bff-b127-4892-bd03-56ef93e90cab')\"\n",
              "              title=\"Convert this dataframe to an interactive table.\"\n",
              "              style=\"display:none;\">\n",
              "        \n",
              "  <svg xmlns=\"http://www.w3.org/2000/svg\" height=\"24px\"viewBox=\"0 0 24 24\"\n",
              "       width=\"24px\">\n",
              "    <path d=\"M0 0h24v24H0V0z\" fill=\"none\"/>\n",
              "    <path d=\"M18.56 5.44l.94 2.06.94-2.06 2.06-.94-2.06-.94-.94-2.06-.94 2.06-2.06.94zm-11 1L8.5 8.5l.94-2.06 2.06-.94-2.06-.94L8.5 2.5l-.94 2.06-2.06.94zm10 10l.94 2.06.94-2.06 2.06-.94-2.06-.94-.94-2.06-.94 2.06-2.06.94z\"/><path d=\"M17.41 7.96l-1.37-1.37c-.4-.4-.92-.59-1.43-.59-.52 0-1.04.2-1.43.59L10.3 9.45l-7.72 7.72c-.78.78-.78 2.05 0 2.83L4 21.41c.39.39.9.59 1.41.59.51 0 1.02-.2 1.41-.59l7.78-7.78 2.81-2.81c.8-.78.8-2.07 0-2.86zM5.41 20L4 18.59l7.72-7.72 1.47 1.35L5.41 20z\"/>\n",
              "  </svg>\n",
              "      </button>\n",
              "      \n",
              "  <style>\n",
              "    .colab-df-container {\n",
              "      display:flex;\n",
              "      flex-wrap:wrap;\n",
              "      gap: 12px;\n",
              "    }\n",
              "\n",
              "    .colab-df-convert {\n",
              "      background-color: #E8F0FE;\n",
              "      border: none;\n",
              "      border-radius: 50%;\n",
              "      cursor: pointer;\n",
              "      display: none;\n",
              "      fill: #1967D2;\n",
              "      height: 32px;\n",
              "      padding: 0 0 0 0;\n",
              "      width: 32px;\n",
              "    }\n",
              "\n",
              "    .colab-df-convert:hover {\n",
              "      background-color: #E2EBFA;\n",
              "      box-shadow: 0px 1px 2px rgba(60, 64, 67, 0.3), 0px 1px 3px 1px rgba(60, 64, 67, 0.15);\n",
              "      fill: #174EA6;\n",
              "    }\n",
              "\n",
              "    [theme=dark] .colab-df-convert {\n",
              "      background-color: #3B4455;\n",
              "      fill: #D2E3FC;\n",
              "    }\n",
              "\n",
              "    [theme=dark] .colab-df-convert:hover {\n",
              "      background-color: #434B5C;\n",
              "      box-shadow: 0px 1px 3px 1px rgba(0, 0, 0, 0.15);\n",
              "      filter: drop-shadow(0px 1px 2px rgba(0, 0, 0, 0.3));\n",
              "      fill: #FFFFFF;\n",
              "    }\n",
              "  </style>\n",
              "\n",
              "      <script>\n",
              "        const buttonEl =\n",
              "          document.querySelector('#df-f4881bff-b127-4892-bd03-56ef93e90cab button.colab-df-convert');\n",
              "        buttonEl.style.display =\n",
              "          google.colab.kernel.accessAllowed ? 'block' : 'none';\n",
              "\n",
              "        async function convertToInteractive(key) {\n",
              "          const element = document.querySelector('#df-f4881bff-b127-4892-bd03-56ef93e90cab');\n",
              "          const dataTable =\n",
              "            await google.colab.kernel.invokeFunction('convertToInteractive',\n",
              "                                                     [key], {});\n",
              "          if (!dataTable) return;\n",
              "\n",
              "          const docLinkHtml = 'Like what you see? Visit the ' +\n",
              "            '<a target=\"_blank\" href=https://colab.research.google.com/notebooks/data_table.ipynb>data table notebook</a>'\n",
              "            + ' to learn more about interactive tables.';\n",
              "          element.innerHTML = '';\n",
              "          dataTable['output_type'] = 'display_data';\n",
              "          await google.colab.output.renderOutput(dataTable, element);\n",
              "          const docLink = document.createElement('div');\n",
              "          docLink.innerHTML = docLinkHtml;\n",
              "          element.appendChild(docLink);\n",
              "        }\n",
              "      </script>\n",
              "    </div>\n",
              "  </div>\n",
              "  "
            ]
          },
          "metadata": {},
          "execution_count": 19
        }
      ]
    },
    {
      "cell_type": "markdown",
      "source": [
        "### 1.3.2. 두개의 파생변수 생성\n",
        "\n",
        "위의 관찰을 바탕으로 다음의 두가지 파생변수를 생성합니다.\n",
        "- Group_type: 승객의 그룹 유형을 나타냅니다.\n",
        "- Group_size: 승객의 그룹 크기를 나타냅니다. "
      ],
      "metadata": {
        "id": "wUruVnniZOYO"
      }
    },
    {
      "cell_type": "code",
      "source": [
        "# Specify a count equal to the ticket number of each passenger as the 'Ticket_count' variable.\n",
        "all_features['Ticket_count'] = all_features.groupby('Ticket')['Ticket'].transform('count')\n",
        "# Specify a count equal to the Fare value of each passenger as the 'Fare_count' variable.\n",
        "all_features['Fare_count'] = all_features.groupby('Fare')['Fare'].transform('count')"
      ],
      "metadata": {
        "id": "Xip3yNQCa443"
      },
      "execution_count": null,
      "outputs": []
    },
    {
      "cell_type": "code",
      "source": [
        "all_features[['Group_type','Group_size']]=None\n",
        "\n",
        "# Assign the value of the Group_type variable based on specific conditions.\n",
        "\n",
        "# 1. If SibSp + Parch > 0, Then Group_type = 'Family'\n",
        "all_features.loc[all_features['SibSp'] + all_features['Parch'] > 0, 'Group_type'] = 'Family'\n",
        "# 2. If SibSp + Parch = 0, Then Group_type = 'Single'\n",
        "all_features.loc[all_features['SibSp'] + all_features['Parch'] == 0, 'Group_type'] = 'Single'\n",
        "# 3. If (SibSp + Parch = 0) & (Ticket_count > 0) & (Fare_count > 0) , Then Group_type = 'Ticket'\n",
        "all_features.loc[(all_features['SibSp'] + all_features['Parch'] ==0) & \n",
        "                 (all_features['Ticket_count']>1) & \n",
        "                 (all_features['Fare_count']>1), 'Group_type'] = 'Ticket'"
      ],
      "metadata": {
        "id": "iJO1HR4mFbXF"
      },
      "execution_count": null,
      "outputs": []
    },
    {
      "cell_type": "code",
      "source": [
        "# Assign the value of the Group_size variable based on specific conditions.\n",
        "\n",
        "# 1. If Group_type=='Family', Then Group_size = 1+ SibSp + Parch\n",
        "all_features.loc[all_features['Group_type']=='Family','Group_size'] = 1 + all_features.loc[all_features['Group_type']=='Family', ['SibSp', 'Parch']].sum(axis=1) \n",
        "# 1. If Group_type=='Single', Then Group_size = 1\n",
        "all_features.loc[all_features['Group_type']=='Single','Group_size'] = 1\n",
        "  # 1. If Group_type=='Ticket', Then Group_size = Ticket_count\n",
        "all_features.loc[all_features['Group_type']=='Ticket','Group_size'] = all_features.loc[all_features['Group_type']=='Ticket','Ticket_count']\n"
      ],
      "metadata": {
        "id": "OVHO6D6LTQJ_"
      },
      "execution_count": null,
      "outputs": []
    },
    {
      "cell_type": "markdown",
      "source": [
        "## 1.4. 변수 타입 변환\n",
        "\n",
        "모형 적합에 적합하도록 특정 변수의 타입을 변환합니다."
      ],
      "metadata": {
        "id": "anopTlzENw7z"
      }
    },
    {
      "cell_type": "markdown",
      "source": [
        "### > 정수형 -> 명목형\n",
        "- 'Pclass': (1,2,3)은 승차권 등급 의미\n",
        "\n",
        "### > 명목형 -> 정수형\n",
        "- 'Group_size': 값의 크고 작음 나타내기 떄문에 "
      ],
      "metadata": {
        "id": "SDhyx0nRDW2X"
      }
    },
    {
      "cell_type": "code",
      "source": [
        "# int -> object\n",
        "all_features[['Pclass']] = all_features[['Pclass']].astype('object')\n",
        "\n",
        "# object -> int\n",
        "all_features['Group_size'] = all_features['Group_size'].astype('int64')"
      ],
      "metadata": {
        "id": "reycUTb6Zed7"
      },
      "execution_count": null,
      "outputs": []
    },
    {
      "cell_type": "markdown",
      "source": [
        "## 1.5. 변수 제거\n",
        "\n",
        "- 사용 불가 변수\n",
        "  - PassengerId / Name / Ticket\n",
        "- 임의 제거 변수\n",
        "  - Ticket_count\n",
        "    - Group_size 변수에 그 정보가 반여되었기 때문에 제거합니다.\n",
        "  - Fare_count\n",
        "    - Fare값은 그룹이 아니어도 충분히 같을 수 있습니다. \n",
        "    - Fare 값과 Ticket 값이 같을 때만 그룹의 의미를 가집니다. \n",
        "    - 따라서 Fare_count 자체로는 의미를 가지지 않기 때문에 제거합니다."
      ],
      "metadata": {
        "id": "o__jd1yKUa09"
      }
    },
    {
      "cell_type": "code",
      "source": [
        "all_features.drop(['PassengerId', 'Name', 'Ticket', 'Ticket_count', 'Fare_count'], axis=1, inplace=True)"
      ],
      "metadata": {
        "id": "9Qca6aAFTQrQ"
      },
      "execution_count": null,
      "outputs": []
    },
    {
      "cell_type": "markdown",
      "source": [
        "## 1.6. 범주형 변수 Dummify\n",
        "\n",
        "- 방식\n",
        "  - One-hot encoding\n",
        "\n",
        "- 배경\n",
        "  - 모형이 범주형 변수 인식할 수 있도록 이진벡터로 변환 필요"
      ],
      "metadata": {
        "id": "hJayzx_-Nzck"
      }
    },
    {
      "cell_type": "code",
      "source": [
        "data_set = pd.get_dummies(all_features, drop_first=False)"
      ],
      "metadata": {
        "id": "CsctjSYSQClH"
      },
      "execution_count": null,
      "outputs": []
    },
    {
      "cell_type": "markdown",
      "source": [
        "## 1.7. Scaling continuous variables\n",
        "\n",
        "- 방식\n",
        "  - Min-Max Scaling\n",
        "$$x_{scaled} = \\frac{x-min(x)}{max(x)-min(x)} $$ \n",
        "\n",
        "- 배경:\n",
        "  - 각 변수의 단위가 나타내는 의미 다름\n",
        "    - 예) Age에서의 50 차이와 Fare에서의 50 차이는 나타내는 의미가 서로 다름"
      ],
      "metadata": {
        "id": "Yo_M-blKP1pP"
      }
    },
    {
      "cell_type": "code",
      "source": [
        "from sklearn.preprocessing import MinMaxScaler\n",
        "scaler = MinMaxScaler()\n",
        "data_set = scaler.fit_transform(data_set)"
      ],
      "metadata": {
        "id": "Br2Ayf9gGimL"
      },
      "execution_count": null,
      "outputs": []
    },
    {
      "cell_type": "markdown",
      "source": [
        "## 1.8. Train과 Test 분할\n",
        "\n",
        "데이터 처리를 마쳤으니 모형 학습을 위해 Train과 Test 데이터를 분할합니다. "
      ],
      "metadata": {
        "id": "3Bds2C0rQb_c"
      }
    },
    {
      "cell_type": "code",
      "source": [
        "n_train = train.shape[0]\n",
        "X_train = data_set[:n_train].astype(np.float32)\n",
        "X_test = data_set[n_train:].astype(np.float32)\n",
        "y_train = train['Survived'].values.astype(np.int64)\n",
        "\n",
        "print('Shape of X_train: {}'.format(X_train.shape))\n",
        "print('Shape of X_test: {}'.format(X_test.shape))"
      ],
      "metadata": {
        "id": "AZj86aMgaBrp",
        "colab": {
          "base_uri": "https://localhost:8080/"
        },
        "outputId": "9807bb2c-4576-4794-8402-0b3b51cbd7ac"
      },
      "execution_count": null,
      "outputs": [
        {
          "output_type": "stream",
          "name": "stdout",
          "text": [
            "Shape of X_train: (891, 22)\n",
            "Shape of X_test: (418, 22)\n"
          ]
        }
      ]
    },
    {
      "cell_type": "markdown",
      "source": [
        "## 1.9. 이상치 탐지 on Train data (*optional*)\n",
        "\n",
        "Train 데이터에 존재하는 이상치를 탐지하고 제거합니다. (Test 데이터는 어떠한 관측치도 제거해서는 안됩니다.)\n",
        "\n",
        "- 이상치 탐지 기법: [Isolation Forest](https://ieeexplore.ieee.org/abstract/document/4781136/?casa_token=V7U3M1UIykoAAAAA:kww9pojtMeJtXaBcNmw0eVlJaXEGGICi1ogmeHUFMpgJ2h_XCbSd2yBU5mRgd7zEJrXZ01z2)\n",
        "  - 작동 방식\n",
        "    - Isolation Forest는 주어진 데이터에 대해 '무작위 기준'으로 split을 반복하는 decision tree를 적용하여 terminal node에 하나의 observation만 남도록 했을 때 (이를 isolation이라고 정의합니다), isolation에 사용된 split의 개수를 이용해 'normality'를 측정합니다. 이 값이 작을수록 outlier인 정도가 높음을 의미합니다. \n",
        "    - 이러한 decision tree를 여러번 적용하여 측정한 'normality'값의 평균을 최종 'normality' 값으로 도출합니다.\n",
        "  - 가정\n",
        "    - outlier는 isolated 되는데 필요한 split의 개수가 상대적으로 적다\n",
        "    - normal data는 isolated 되는데 필요한 split의 개수가 상대적으로 많다\n",
        "  - outlier 판별 방식\n",
        "    - 측정된 'normality'값을 기준으로 outlier인지 아닌지 여부를 판별합니다.\n",
        "      - sklearn의 IsolationForest 패키지는 '0'을 기준으로 outlier 여부를 결정하지만, 저는 'normality'값의 '분포'를 고려하여 판별 기준을 정하는 것이 더 좋다고 생각합니다. \n",
        "      - normality 값의 분포를 고려하여 outlier를 판별하는 구체적인 방법은 아래에 제시합니다."
      ],
      "metadata": {
        "id": "xXpd4YS_Rooe"
      }
    },
    {
      "cell_type": "code",
      "source": [
        "from sklearn.ensemble import IsolationForest\n",
        "clf = IsolationForest(\n",
        "    n_estimators=100,\n",
        "    max_samples='auto',\n",
        "    n_jobs=-1,\n",
        "    random_state=config['random_state'])\n",
        "\n",
        "clf.fit(X_train)\n",
        "normality_df = pd.DataFrame(clf.decision_function(X_train), columns=['normality'])"
      ],
      "metadata": {
        "id": "CT4-2FOcRnkM"
      },
      "execution_count": null,
      "outputs": []
    },
    {
      "cell_type": "markdown",
      "source": [
        "측정된 normality값의 분포를 통해 1st quartile ($q_1$)과 3rd quartile ($q_3$)을 계산하여 다음의 판별값 (threshold)을 정의합니다.\n",
        "\n",
        "$$ threshold = q_1 - k*(q_3 - q_1) $$\n",
        "\n",
        "이 때, $k=1.5$로 지정합니다.\n",
        "\n",
        "이 판별값은 Tukey의 boxplot 아이디어를 차용한 것입니다. \n",
        "Tukey는 어떠한 연속형 변수의 분포에서 해당 값보다 작은 observation 혹은 $q_3 + k*(q_3 - q_1)$보다 큰 observation을 outlier로 지정합니다. \n",
        "\n",
        "우리의 방법론은 특정 변수에 위 방법을 적용하는 것이 아니라 구해진 normality에 해당 방법을 적용한 것입니다. 즉, outlier라면 측정된 normality분포에서 다른 observation들로부터 왼쪽으로 멀리 떨어져 있을 것이라는 가정에 기초합니다."
      ],
      "metadata": {
        "id": "xxW0VS926a0G"
      }
    },
    {
      "cell_type": "code",
      "source": [
        "def outlier_threshold(normality, k=1.5):\n",
        "  q1 = np.quantile(normality, 0.25)\n",
        "  q3 = np.quantile(normality, 0.75)  \n",
        "  threshold = q1 - k*(q3-q1)\n",
        "  return threshold\n",
        "\n",
        "threshold = outlier_threshold(normality_df['normality'].values, k=1.5)\n",
        "\n",
        "fig = px.histogram(normality_df, x='normality', width=400, height=400)\n",
        "fig.add_vline(x=threshold, line_width=3, line_dash=\"dash\", line_color=\"red\")\n",
        "fig.show()"
      ],
      "metadata": {
        "colab": {
          "base_uri": "https://localhost:8080/",
          "height": 417
        },
        "id": "PSuK7HiyZOUj",
        "outputId": "2953b6f0-777d-42a8-a6d8-42201c6ed280"
      },
      "execution_count": null,
      "outputs": [
        {
          "output_type": "display_data",
          "data": {
            "text/html": [
              "<html>\n",
              "<head><meta charset=\"utf-8\" /></head>\n",
              "<body>\n",
              "    <div>            <script src=\"https://cdnjs.cloudflare.com/ajax/libs/mathjax/2.7.5/MathJax.js?config=TeX-AMS-MML_SVG\"></script><script type=\"text/javascript\">if (window.MathJax) {MathJax.Hub.Config({SVG: {font: \"STIX-Web\"}});}</script>                <script type=\"text/javascript\">window.PlotlyConfig = {MathJaxConfig: 'local'};</script>\n",
              "        <script src=\"https://cdn.plot.ly/plotly-2.8.3.min.js\"></script>                <div id=\"5c861583-e37e-45ea-ad3e-d42664ecdf44\" class=\"plotly-graph-div\" style=\"height:400px; width:400px;\"></div>            <script type=\"text/javascript\">                                    window.PLOTLYENV=window.PLOTLYENV || {};                                    if (document.getElementById(\"5c861583-e37e-45ea-ad3e-d42664ecdf44\")) {                    Plotly.newPlot(                        \"5c861583-e37e-45ea-ad3e-d42664ecdf44\",                        [{\"alignmentgroup\":\"True\",\"bingroup\":\"x\",\"hovertemplate\":\"normality=%{x}<br>count=%{y}<extra></extra>\",\"legendgroup\":\"\",\"marker\":{\"color\":\"#636efa\",\"pattern\":{\"shape\":\"\"}},\"name\":\"\",\"offsetgroup\":\"\",\"orientation\":\"v\",\"showlegend\":false,\"x\":[0.07606157822925341,-0.0015891426223749727,0.03781492064906278,0.02231113931078188,0.1358531664194731,0.028255369621861648,-0.04422890676196756,-0.04342195591908804,0.008152602729993907,-0.0520432878454985,0.015545826201523505,-0.05267020946055345,0.13449896064039368,-0.04623935513376698,0.030588630733236755,-0.056419581013695264,-0.12384560946548795,0.08706275273804404,0.0393280463996587,-0.07788985852386798,-0.009668950386076403,0.08424095900289852,-0.028118047121228784,0.06213458154917545,0.0068702026864781995,-0.059832307072320345,0.057300066804262695,-0.09141938921311377,0.003208710621490418,0.14053586676293117,0.017002976498630917,-0.01222720886214923,0.01830446403758157,0.04856758575043474,-0.004487484843731737,0.030797205622023816,0.058022763975646874,0.13593018748161678,0.020506430442062407,-0.010095287601696645,0.023228450647077514,0.013804261460584666,0.05195492372760602,-0.10185806312835255,-0.011651637285560623,0.13997065750213178,-0.026477933432970002,0.01830446403758157,-0.0241513288243439,0.03083568822169558,-0.05310896632658835,0.13673164207605848,-0.012176669007717633,0.014839407680279693,-0.03990481196910112,0.06353919745765818,-0.0040606094102704215,0.05274766758961674,-0.04727970480187049,-0.08516381086969971,0.04420743905085256,-0.04568835709560837,0.018126384708489374,-0.04600638722080874,0.019868943142222872,-0.08724061601767963,-0.03248970317917543,0.13320916197272692,-0.018798058275923957,0.04432874103559148,0.0817566073561048,-0.048443126982977036,-0.07635905710856195,0.0006526931331268804,-0.055569686462439094,0.1373833138362348,0.14053586676293117,0.13997065750213178,-0.07412394473931483,-0.02890731016072634,0.130237864904232,0.1308614801979051,0.015576785039228769,-0.024291223574510634,-0.009264821275686508,-0.001077678847776875,-0.007032859096056998,0.13997065750213178,-0.09358593251075709,0.13631623097499185,0.13969749191956754,0.13530356590343828,0.027617920875036506,0.03178112670715694,0.09448255855851817,0.13997065750213178,-0.04313216161472799,-0.016592255241761777,-0.0039569250417631485,0.04146109809416654,0.035342244516473276,0.14053586676293117,0.009077330160436659,0.13468046687109236,0.03350439686222484,0.13961346310797024,0.038263141105823295,0.14053586676293117,0.13468361814371627,-0.035502838646422785,-0.03822229033250668,-0.010038292826637263,0.13613430779468894,0.031262948445798244,-0.07596966217816203,0.13673164207605848,-0.02311682256663472,0.043937002579719386,-0.04559160586223954,-0.03138135209065118,-0.018285266709443304,0.13997065750213178,-0.042354109629340164,0.0011118360233416946,-0.005141113745246284,-0.0818677429732344,0.04960283377045449,0.13072914325476248,-0.014995605420344948,0.11083793333846814,0.04829449409597836,0.12644284526947436,0.021564861431334237,0.014839407680279693,0.08304436696065498,-0.022993641921290053,-0.015341665209321231,0.03211637010647206,0.11745379840913445,-0.07260665728898075,-0.04510967960888268,0.04338648137589918,0.03593276031904874,0.006388282490503605,0.06745782519835408,0.009359837310058239,0.13845319365425557,0.005065512530861738,0.0013756506355317444,-0.06977267843872448,-0.07412266118698574,0.00919098273694613,0.10352806359341993,0.020456903853661834,0.13900950438963317,-0.02845747201950044,-0.01724748494198769,0.13997065750213178,0.13563888587098916,-0.12965560276404386,0.04575374185014197,-0.0738496584032251,0.13815972173559743,0.1254729244052193,-0.055611814372474755,-0.035557647826318206,-0.007452678836746052,-0.05166352266594565,0.07233723840260003,-0.05531029742132276,0.043185705551499476,-0.12258063748763437,0.011217983863193726,0.13673164207605848,-0.008178483796392744,0.05272591498118501,-0.04257071877656138,-0.08462970687799809,0.08706275273804404,-0.009482305617577014,-0.10200016419965197,-0.018733630839326998,-0.05491990890029552,-0.08821102829130756,0.005378145372920529,0.04362683728928202,-0.05232123539494671,0.07054408466911671,-0.05291234058593586,0.1350984157331972,-0.026297025453707712,0.07244012293095642,0.031617893918831075,-0.05462088394438447,-0.09631427734705622,-0.09338425036243592,0.04960283377045449,0.04888730693491522,0.01830446403758157,0.003448087149799217,0.12994454459490973,-0.11118896559919667,0.12705856441531083,0.024888754583769546,0.13271525522159233,0.005173389095780301,0.08096905744524086,-0.061011394461405244,-0.01513138524684876,0.014342771396368303,0.12793315137197026,-0.05682886081789684,0.1331572393809466,0.08706275273804404,-0.027906885105447476,-0.031198198029464774,0.03781492064906278,0.03400637067031265,-0.0581340589386069,0.0833807028708694,0.12404843775467683,0.08465725443649025,0.10643093632171813,0.14053586676293117,0.021907470107167593,0.12789282803113888,0.06880140665801138,0.13248849499658621,0.071864386876767,0.00745798212211507,0.014302860870094858,0.14026313002240498,0.05497483832762268,-0.025942561363194283,0.07841790910969443,0.03898115781995387,0.03406453727294739,-0.029165388929051295,0.06880140665801138,0.08210033385659932,-0.006677496458147858,-0.0338227983744297,0.083855083063819,0.1304550267139467,0.057300066804262695,-0.14297820002730877,0.0397689578458465,-0.01958659509209415,0.007490040653040486,-0.07082727235017816,0.13827660493361527,0.02930004096842942,0.048586660224066935,0.08459889711699242,-0.0009472490221775764,-0.04018283174211479,-0.09556682939177175,-0.04925222752213554,-0.11059897487533621,-0.017634730155763112,0.04960283377045449,-0.052801147853068775,-0.01299952579219854,0.05598846608545255,0.01830446403758157,0.07897107427853889,-0.01962595494072905,0.07807365672117161,-0.04907596626817057,-0.06112895519682848,-0.021582087055611487,-0.007194546016194514,-0.006771792739461047,-0.018942977637240066,0.01830446403758157,-0.035623697298378,0.014875635033362589,-0.01638767660118845,-0.12351115103765298,0.03152124192316835,-0.0133870598799114,0.13961346310797024,0.11411879223399451,0.13320916197272692,0.07233723840260003,0.04085060307425037,0.13089169569424763,0.13693531304354606,0.07942144751687247,0.01830446403758157,-0.046539456180433425,-0.014411312688285993,-0.017453770414898484,0.030946342948299843,0.13693447671928927,0.019868943142222872,0.04420743905085256,-0.058525400577851716,0.0720792744052598,-0.0672031644311335,0.01830446403758157,-0.06034083814917712,-0.016332576200022486,-0.08356511361753138,0.13997065750213178,-0.10552200093675523,-0.07548309873807657,-0.01749742946436872,-0.03856360210761278,-0.05792844627341953,-0.06316055669928344,-0.10977409800418403,0.013289938760199349,0.13961346310797024,0.01568754146569462,0.03834829295398168,0.013777643367008485,-0.05773771383629478,-0.039668846234779065,-0.03759346917564843,0.1331572393809466,0.13845319365425557,-0.0818929232561586,0.0021439444187674184,-0.11118896559919667,-0.06928916602154456,0.07771820393748013,-0.02836509277670074,0.0342932637410136,-0.04506788425826358,-0.04976198387176545,0.07001100644040059,-0.005020104478737131,0.045094908986492155,0.003330511550655557,0.14053586676293117,0.036400672834583314,-0.09002669696130594,0.12051981193545053,0.060381514027782524,-0.054996259817284066,-0.09318445622399718,0.08673636180393784,0.08304436696065498,0.0836529539986266,0.003448087149799217,-0.008214128582426539,0.034461317542252845,-0.026444154387256225,0.1236601587064346,0.12861294290109215,0.06353919745765818,-0.020559376691571818,0.08187267786048325,0.057300066804262695,0.12994454459490973,-0.014583797393032505,-0.0038099158106034148,0.003208710621490418,0.003208710621490418,-0.03371189036982447,-0.03979867731331532,-0.03615478315330589,0.1293813804949886,-0.026477933432970002,0.13827660493361527,-0.021531306160609387,-0.07788985852386798,0.01830446403758157,-0.05511185135557595,-0.0033317270834002377,0.07437869865604435,0.13320916197272692,-0.10212905937172057,-0.005110698513946299,-0.0007918990758057909,0.036471618471124456,-0.05054733149002488,0.03106937792998049,0.13401660656776937,-0.10553906857975837,-0.044952152621552055,0.13960319760084133,0.022634227745854663,0.14053586676293117,-0.08198988798748907,-0.08482672564737104,0.0013502990832892636,0.04405500136416968,-0.0898068403935951,-0.02074101759701874,0.13673164207605848,0.045934630540299226,-0.034127605237265435,0.008068460651532605,0.13693531304354606,0.029736088673996575,-0.01572204260118648,-0.0532412774378167,-0.02390608056461041,0.13104091553004016,0.1375435623984868,0.031262948445798244,0.08450583550217944,0.033307937849706815,0.043009180511749345,0.10544744837286335,-0.055330613947184304,0.13673164207605848,0.00745798212211507,0.14053586676293117,0.02764475731716265,-0.07372421640535476,-0.01638767660118845,0.12388484130143168,-0.01843739698873592,-0.0024816186858162004,-0.026330686851812835,0.08706275273804404,0.016110881360388407,0.05195492372760602,0.026297601435181506,0.14026313002240498,0.03174880383010509,0.05624688527916488,0.13827660493361527,0.014839407680279693,-0.062056183219270644,0.04960283377045449,0.1388924965452933,0.07341268308833182,0.034461317542252845,0.007089530631359142,0.12363923401304694,0.020345276117004985,-0.0400005827902743,0.0049581613853219575,-0.06495096450270277,-0.10529185534354202,0.0833807028708694,-0.0021015767106884464,0.12325674829884636,0.07807365672117161,0.005383893620985902,0.13997065750213178,-0.09625199715286381,-0.014059895091369623,0.0741641464600113,-0.05131973496969344,0.060647741276500244,-0.0035672085888615035,0.08333378706498623,0.019868943142222872,-0.01814791008799299,0.13997065750213178,0.04948546136099302,0.046425528346147826,0.024029721277138094,-0.022456799014104578,0.04960283377045449,0.06939831951063807,0.1358531664194731,0.05804859188921513,0.06747693132952737,0.13997065750213178,0.1274578406943972,-0.01638767660118845,0.06110031728428805,0.04405500136416968,-0.05416386932928885,0.13827660493361527,0.1309473788539967,-0.0313435306272386,-0.09582103045743995,0.028825758773650012,-0.02532432061904688,0.043009180511749345,0.07990175610834538,0.13625179686268396,0.006746632690358356,-0.08443117371571096,0.06808609667024473,0.1083901256473459,-0.045689631311025436,-0.005362600747109703,0.00745798212211507,0.011123083893580132,-0.0118056541499455,0.13997065750213178,-0.02473178369982254,0.08333378706498623,0.13295144900073247,0.059361725711840674,-0.05700767913207716,0.13593018748161678,-0.05324927400123869,-0.04217952933163305,0.03058032315636794,-0.04510047584418131,0.13693447671928927,0.1254729244052193,0.009618813966124795,0.0021555918409673636,0.014965919119718896,-0.05659288473464863,-0.01766534869249181,-0.021406365121462878,0.07449332567569544,0.013460998299409888,-0.060676790597001706,0.04438329775960309,0.13997065750213178,0.07266241182479588,-0.014276178354746039,0.13625095896393868,0.06175256283921354,-0.03582544062687265,-0.08539547354873078,0.013356882430401895,0.13960319760084133,-0.057520316452072784,0.13693531304354606,0.057300066804262695,-0.0320648106138105,0.058022763975646874,0.025349678022314304,-0.022456799014104578,-0.07231987522002259,0.13104091553004016,-0.02187223837471519,-0.03141080605372437,0.058022763975646874,-0.020559376691571818,-0.04351614887009059,0.028248785100393192,-0.029165388929051295,0.07054408466911671,-0.06078148481251233,0.030646186955595178,-0.05016485183699759,-0.033087442194766115,-0.014669333629517167,-0.014576029427169401,0.042879667624641515,-0.024364477984870403,0.04481484060168256,0.00943417571222277,-0.01697347798129034,0.05981276725001877,-0.05935483187286028,-0.043082850581883325,-0.004775920675435752,0.04195219903158803,0.043526208173399694,0.043695315345677055,0.048586660224066935,-0.00892673368674135,-0.11119993669823813,-0.007947011316314367,0.03580686988940379,0.04960283377045449,0.12878770787833904,0.08530315670227306,0.13997065750213178,0.041880745029563904,0.0472028532997778,0.13401660656776937,-0.029214898804080902,0.058022763975646874,0.13960319760084133,0.055046182480759376,-0.027433646291767033,0.07266241182479588,0.01830446403758157,0.12404843775467683,0.016372037982855747,0.002024601883660493,0.02024923535476203,-0.01777278171361274,0.13960319760084133,-0.021478720800121476,-0.034547213633545515,-0.0231148827491916,0.0034676859122060866,0.04282935749916045,-0.025189579103069404,0.0625794269962851,-0.056953637015086156,0.13613430779468894,0.13997065750213178,0.13141321625637153,-0.01491060022595403,0.11049946124269855,-0.04888997513213833,0.03941885203155232,0.05444877378571217,-0.07760929849358711,-0.03268915052452048,0.057300066804262695,-0.01641493789236348,-0.025313683884443217,0.14053586676293117,-0.021715993073692652,0.1243520520029725,0.018890775029480167,0.07781845739973509,0.14053586676293117,0.07012719603495038,-0.09417027344468398,-0.06093727617152345,-0.06218176195390923,0.13312626523685694,-0.0338227983744297,0.04960283377045449,0.1358531664194731,-0.05144735607984763,0.055206746009165086,0.036528029455792754,-0.0576661402161055,0.07922522364785323,0.0010153652859508644,0.031114554442652764,-0.015465645009566042,0.13673164207605848,0.021508571412192812,0.04261304765842666,-0.14353422932575954,-0.04946776709014411,0.13815972173559743,0.04528727771541774,0.02358157796742727,0.09638960079509779,-0.10363940047177345,0.055191796427636386,-0.005214239131167142,0.005383893620985902,0.13960319760084133,0.024777661318221178,-0.06691870754278251,0.08459889711699242,0.13530356590343828,-0.05511185135557595,-0.02113797669098716,-0.04973671797169976,-0.05416386932928885,-0.016462350338566578,0.13401660656776937,-0.01463017860315774,0.13985912908963455,0.03853363218308209,0.14053586676293117,-0.009896627114741374,0.13474988385420528,0.011258336160324567,-0.02925388420173458,-0.016233655772395328,0.14053586676293117,-0.05641866881032431,0.08057832673863918,-0.058015508217237555,-0.11191748104576371,0.04037442256004492,0.0689607101324311,0.13441144135582273,0.07858730631728938,-0.013033131353854088,0.08304436696065498,0.14053586676293117,0.12704034264621367,0.024029721277138094,-0.01262496218554321,0.035919131511014835,0.03641962841207541,0.08771238196404785,0.06808609667024473,0.13352378709116652,0.1367812193480022,0.02250313960548933,-0.09078787883280781,-0.059305580857287876,-0.0010426968945002058,-0.07706089483196021,0.12600704424830655,-0.069050012895981,-0.010202866591146442,-0.07862724485362116,-0.01923247446000953,0.11629276479328499,0.13352378709116652,-0.04115138843931443,0.035919131511014835,-0.034907486782505326,-0.04973671797169976,0.04628393466845121,0.04942828667132071,0.06532824017424732,0.1243520520029725,0.013400902337714182,-0.04796365805585856,0.1269042672883124,-0.043554020513147496,0.07288107270752348,-0.019173154782051727,0.034691294687639485,0.07988920214387402,-0.007939555555394162,-0.03923966433627757,0.07249446122871694,-0.07513278971934467,-0.08724061601767963,-0.0834445349273768,0.07449332567569544,0.023520243665162144,0.1303097630807526,-0.019418581555048164,0.1336717916306978,-0.10104910355611874,-0.00031885883794524617,-0.0620048065904546,0.1383789128778971,-0.031321156793070126,0.07273539474041707,0.08424095900289852,0.06747693132952737,0.03569719987491937,0.1296938070129448,-0.034726174393699405,0.013400902337714182,0.03875568008916558,0.030160296417295895,-0.07778921985843568,-0.07735664095476891,0.06808609667024473,0.08057832673863918,0.08057832673863918,0.02905187817953836,-0.028110747686617255,-0.12321209125076915,0.14053586676293117,0.14053586676293117,0.07396514959019218,0.03177018029522666,-0.10919255676793804,0.08175871892215358,0.14053586676293117,-0.03514659488271543,0.054790187439973215,0.005049129896688764,0.030475373789667082,0.04505724564454072,-0.028515072553527365,-0.032503069616671265,0.1302975692268163,0.13718692792781628,-0.06741932501475889,-0.058546516792275405,0.13961346310797024,0.06745782519835408,0.1358531664194731,-0.08550961478738928,0.030646186955595178,0.12253827952714225,0.042419150925277815,-0.035184317401189324,0.1248760485493341,0.0004266959286120531,-0.12307075519133559,-8.096363212528601e-05,-0.03489171506699995,0.13847528864049946,0.12618403620318014,0.10931296356478487,-0.09514332250164592,0.057300066804262695,-0.058221194927555286,0.13352378709116652,0.04960283377045449,-0.048093426318978616,0.046635707132379633,-0.044611035249164765,-0.05182119139012997,0.007160593147710392,0.07425330144892878,0.03126603874264483,0.12874289992487342,0.13395477528971733,0.03247860089014848,-0.1240712179271437,-0.041492674683754616,-0.08086339857396363,0.04960283377045449,-0.028091513805473034,-0.10200016419965197,0.01624360992385454,0.13772463521680023,0.08179905601040366,-0.09507064867848036,-0.013609920064264314,0.058022763975646874,0.03180653110575399,-0.005070880025172864,0.010870243235383659,-0.09707322694699339,-0.09053956465709245,0.13100066217657425,0.14053586676293117,0.05721876936927267,0.03757222861197135,0.08179905601040366,0.020795997629514396,0.13815972173559743,0.0049579984911173325,0.07897107427853889,-0.02129681819312823,0.13997065750213178,-0.027325710791165858,0.04184756806509732,-0.05577553698883364,0.1140472712679706,-0.048099105496219985,-0.02753382355809586,0.13352784050073208,0.05669453014455367,0.019615609013017343,-0.05486048412668898,0.02764475731716265,-0.04973671797169976,-0.13300102845737616,0.04960283377045449,-0.09952273828089653,-0.01827933977743257,-0.05766781635099327,0.058022763975646874,0.13718692792781628,0.13247432234827022,-0.0521982716072541,0.13144504729235412,0.13997065750213178,-0.055569686462439094,0.01915133577172412,0.13530356590343828,-0.023830929929257838,-0.05804018986154824,0.04015053710354233,0.1254729244052193,0.12655371254558778,-0.11118896559919667,0.04224895920579291,-0.06559182088178128,-0.002438481558961536,-0.05205361835217759,0.07021882546936487,-0.019894532887062,-0.009879954165889826,0.006088025133439812,0.01179627775801706,-0.026836893642050996,0.06527690072667419,-0.06119946670745835,0.058022763975646874,0.0311074290828674,0.032888651905489896,-0.06416667702100654,-0.10200016419965197,0.0819616366016383,-0.03346469988069278,-0.06044959848275111,0.0438907595253738,0.13089169569424763,-0.028967993657413427,0.13815972173559743,-0.004903633960854581,0.05801634349772944,0.11097093403247371,-0.04201591277990746,-0.0510749870427204,0.12044450590232264,0.13401660656776937,0.14053586676293117,-0.0407433020499921,0.003159874594789336,0.1383789128778971,0.024831393347713338,0.0832915859836183,0.12874289992487342,-0.13106190843430465,-0.0622041472539957,-0.04441140437416835,0.020885845732456,0.015554271908689798,0.04376550906982907],\"xaxis\":\"x\",\"yaxis\":\"y\",\"type\":\"histogram\"}],                        {\"template\":{\"data\":{\"bar\":[{\"error_x\":{\"color\":\"#2a3f5f\"},\"error_y\":{\"color\":\"#2a3f5f\"},\"marker\":{\"line\":{\"color\":\"#E5ECF6\",\"width\":0.5},\"pattern\":{\"fillmode\":\"overlay\",\"size\":10,\"solidity\":0.2}},\"type\":\"bar\"}],\"barpolar\":[{\"marker\":{\"line\":{\"color\":\"#E5ECF6\",\"width\":0.5},\"pattern\":{\"fillmode\":\"overlay\",\"size\":10,\"solidity\":0.2}},\"type\":\"barpolar\"}],\"carpet\":[{\"aaxis\":{\"endlinecolor\":\"#2a3f5f\",\"gridcolor\":\"white\",\"linecolor\":\"white\",\"minorgridcolor\":\"white\",\"startlinecolor\":\"#2a3f5f\"},\"baxis\":{\"endlinecolor\":\"#2a3f5f\",\"gridcolor\":\"white\",\"linecolor\":\"white\",\"minorgridcolor\":\"white\",\"startlinecolor\":\"#2a3f5f\"},\"type\":\"carpet\"}],\"choropleth\":[{\"colorbar\":{\"outlinewidth\":0,\"ticks\":\"\"},\"type\":\"choropleth\"}],\"contour\":[{\"colorbar\":{\"outlinewidth\":0,\"ticks\":\"\"},\"colorscale\":[[0.0,\"#0d0887\"],[0.1111111111111111,\"#46039f\"],[0.2222222222222222,\"#7201a8\"],[0.3333333333333333,\"#9c179e\"],[0.4444444444444444,\"#bd3786\"],[0.5555555555555556,\"#d8576b\"],[0.6666666666666666,\"#ed7953\"],[0.7777777777777778,\"#fb9f3a\"],[0.8888888888888888,\"#fdca26\"],[1.0,\"#f0f921\"]],\"type\":\"contour\"}],\"contourcarpet\":[{\"colorbar\":{\"outlinewidth\":0,\"ticks\":\"\"},\"type\":\"contourcarpet\"}],\"heatmap\":[{\"colorbar\":{\"outlinewidth\":0,\"ticks\":\"\"},\"colorscale\":[[0.0,\"#0d0887\"],[0.1111111111111111,\"#46039f\"],[0.2222222222222222,\"#7201a8\"],[0.3333333333333333,\"#9c179e\"],[0.4444444444444444,\"#bd3786\"],[0.5555555555555556,\"#d8576b\"],[0.6666666666666666,\"#ed7953\"],[0.7777777777777778,\"#fb9f3a\"],[0.8888888888888888,\"#fdca26\"],[1.0,\"#f0f921\"]],\"type\":\"heatmap\"}],\"heatmapgl\":[{\"colorbar\":{\"outlinewidth\":0,\"ticks\":\"\"},\"colorscale\":[[0.0,\"#0d0887\"],[0.1111111111111111,\"#46039f\"],[0.2222222222222222,\"#7201a8\"],[0.3333333333333333,\"#9c179e\"],[0.4444444444444444,\"#bd3786\"],[0.5555555555555556,\"#d8576b\"],[0.6666666666666666,\"#ed7953\"],[0.7777777777777778,\"#fb9f3a\"],[0.8888888888888888,\"#fdca26\"],[1.0,\"#f0f921\"]],\"type\":\"heatmapgl\"}],\"histogram\":[{\"marker\":{\"pattern\":{\"fillmode\":\"overlay\",\"size\":10,\"solidity\":0.2}},\"type\":\"histogram\"}],\"histogram2d\":[{\"colorbar\":{\"outlinewidth\":0,\"ticks\":\"\"},\"colorscale\":[[0.0,\"#0d0887\"],[0.1111111111111111,\"#46039f\"],[0.2222222222222222,\"#7201a8\"],[0.3333333333333333,\"#9c179e\"],[0.4444444444444444,\"#bd3786\"],[0.5555555555555556,\"#d8576b\"],[0.6666666666666666,\"#ed7953\"],[0.7777777777777778,\"#fb9f3a\"],[0.8888888888888888,\"#fdca26\"],[1.0,\"#f0f921\"]],\"type\":\"histogram2d\"}],\"histogram2dcontour\":[{\"colorbar\":{\"outlinewidth\":0,\"ticks\":\"\"},\"colorscale\":[[0.0,\"#0d0887\"],[0.1111111111111111,\"#46039f\"],[0.2222222222222222,\"#7201a8\"],[0.3333333333333333,\"#9c179e\"],[0.4444444444444444,\"#bd3786\"],[0.5555555555555556,\"#d8576b\"],[0.6666666666666666,\"#ed7953\"],[0.7777777777777778,\"#fb9f3a\"],[0.8888888888888888,\"#fdca26\"],[1.0,\"#f0f921\"]],\"type\":\"histogram2dcontour\"}],\"mesh3d\":[{\"colorbar\":{\"outlinewidth\":0,\"ticks\":\"\"},\"type\":\"mesh3d\"}],\"parcoords\":[{\"line\":{\"colorbar\":{\"outlinewidth\":0,\"ticks\":\"\"}},\"type\":\"parcoords\"}],\"pie\":[{\"automargin\":true,\"type\":\"pie\"}],\"scatter\":[{\"marker\":{\"colorbar\":{\"outlinewidth\":0,\"ticks\":\"\"}},\"type\":\"scatter\"}],\"scatter3d\":[{\"line\":{\"colorbar\":{\"outlinewidth\":0,\"ticks\":\"\"}},\"marker\":{\"colorbar\":{\"outlinewidth\":0,\"ticks\":\"\"}},\"type\":\"scatter3d\"}],\"scattercarpet\":[{\"marker\":{\"colorbar\":{\"outlinewidth\":0,\"ticks\":\"\"}},\"type\":\"scattercarpet\"}],\"scattergeo\":[{\"marker\":{\"colorbar\":{\"outlinewidth\":0,\"ticks\":\"\"}},\"type\":\"scattergeo\"}],\"scattergl\":[{\"marker\":{\"colorbar\":{\"outlinewidth\":0,\"ticks\":\"\"}},\"type\":\"scattergl\"}],\"scattermapbox\":[{\"marker\":{\"colorbar\":{\"outlinewidth\":0,\"ticks\":\"\"}},\"type\":\"scattermapbox\"}],\"scatterpolar\":[{\"marker\":{\"colorbar\":{\"outlinewidth\":0,\"ticks\":\"\"}},\"type\":\"scatterpolar\"}],\"scatterpolargl\":[{\"marker\":{\"colorbar\":{\"outlinewidth\":0,\"ticks\":\"\"}},\"type\":\"scatterpolargl\"}],\"scatterternary\":[{\"marker\":{\"colorbar\":{\"outlinewidth\":0,\"ticks\":\"\"}},\"type\":\"scatterternary\"}],\"surface\":[{\"colorbar\":{\"outlinewidth\":0,\"ticks\":\"\"},\"colorscale\":[[0.0,\"#0d0887\"],[0.1111111111111111,\"#46039f\"],[0.2222222222222222,\"#7201a8\"],[0.3333333333333333,\"#9c179e\"],[0.4444444444444444,\"#bd3786\"],[0.5555555555555556,\"#d8576b\"],[0.6666666666666666,\"#ed7953\"],[0.7777777777777778,\"#fb9f3a\"],[0.8888888888888888,\"#fdca26\"],[1.0,\"#f0f921\"]],\"type\":\"surface\"}],\"table\":[{\"cells\":{\"fill\":{\"color\":\"#EBF0F8\"},\"line\":{\"color\":\"white\"}},\"header\":{\"fill\":{\"color\":\"#C8D4E3\"},\"line\":{\"color\":\"white\"}},\"type\":\"table\"}]},\"layout\":{\"annotationdefaults\":{\"arrowcolor\":\"#2a3f5f\",\"arrowhead\":0,\"arrowwidth\":1},\"autotypenumbers\":\"strict\",\"coloraxis\":{\"colorbar\":{\"outlinewidth\":0,\"ticks\":\"\"}},\"colorscale\":{\"diverging\":[[0,\"#8e0152\"],[0.1,\"#c51b7d\"],[0.2,\"#de77ae\"],[0.3,\"#f1b6da\"],[0.4,\"#fde0ef\"],[0.5,\"#f7f7f7\"],[0.6,\"#e6f5d0\"],[0.7,\"#b8e186\"],[0.8,\"#7fbc41\"],[0.9,\"#4d9221\"],[1,\"#276419\"]],\"sequential\":[[0.0,\"#0d0887\"],[0.1111111111111111,\"#46039f\"],[0.2222222222222222,\"#7201a8\"],[0.3333333333333333,\"#9c179e\"],[0.4444444444444444,\"#bd3786\"],[0.5555555555555556,\"#d8576b\"],[0.6666666666666666,\"#ed7953\"],[0.7777777777777778,\"#fb9f3a\"],[0.8888888888888888,\"#fdca26\"],[1.0,\"#f0f921\"]],\"sequentialminus\":[[0.0,\"#0d0887\"],[0.1111111111111111,\"#46039f\"],[0.2222222222222222,\"#7201a8\"],[0.3333333333333333,\"#9c179e\"],[0.4444444444444444,\"#bd3786\"],[0.5555555555555556,\"#d8576b\"],[0.6666666666666666,\"#ed7953\"],[0.7777777777777778,\"#fb9f3a\"],[0.8888888888888888,\"#fdca26\"],[1.0,\"#f0f921\"]]},\"colorway\":[\"#636efa\",\"#EF553B\",\"#00cc96\",\"#ab63fa\",\"#FFA15A\",\"#19d3f3\",\"#FF6692\",\"#B6E880\",\"#FF97FF\",\"#FECB52\"],\"font\":{\"color\":\"#2a3f5f\"},\"geo\":{\"bgcolor\":\"white\",\"lakecolor\":\"white\",\"landcolor\":\"#E5ECF6\",\"showlakes\":true,\"showland\":true,\"subunitcolor\":\"white\"},\"hoverlabel\":{\"align\":\"left\"},\"hovermode\":\"closest\",\"mapbox\":{\"style\":\"light\"},\"paper_bgcolor\":\"white\",\"plot_bgcolor\":\"#E5ECF6\",\"polar\":{\"angularaxis\":{\"gridcolor\":\"white\",\"linecolor\":\"white\",\"ticks\":\"\"},\"bgcolor\":\"#E5ECF6\",\"radialaxis\":{\"gridcolor\":\"white\",\"linecolor\":\"white\",\"ticks\":\"\"}},\"scene\":{\"xaxis\":{\"backgroundcolor\":\"#E5ECF6\",\"gridcolor\":\"white\",\"gridwidth\":2,\"linecolor\":\"white\",\"showbackground\":true,\"ticks\":\"\",\"zerolinecolor\":\"white\"},\"yaxis\":{\"backgroundcolor\":\"#E5ECF6\",\"gridcolor\":\"white\",\"gridwidth\":2,\"linecolor\":\"white\",\"showbackground\":true,\"ticks\":\"\",\"zerolinecolor\":\"white\"},\"zaxis\":{\"backgroundcolor\":\"#E5ECF6\",\"gridcolor\":\"white\",\"gridwidth\":2,\"linecolor\":\"white\",\"showbackground\":true,\"ticks\":\"\",\"zerolinecolor\":\"white\"}},\"shapedefaults\":{\"line\":{\"color\":\"#2a3f5f\"}},\"ternary\":{\"aaxis\":{\"gridcolor\":\"white\",\"linecolor\":\"white\",\"ticks\":\"\"},\"baxis\":{\"gridcolor\":\"white\",\"linecolor\":\"white\",\"ticks\":\"\"},\"bgcolor\":\"#E5ECF6\",\"caxis\":{\"gridcolor\":\"white\",\"linecolor\":\"white\",\"ticks\":\"\"}},\"title\":{\"x\":0.05},\"xaxis\":{\"automargin\":true,\"gridcolor\":\"white\",\"linecolor\":\"white\",\"ticks\":\"\",\"title\":{\"standoff\":15},\"zerolinecolor\":\"white\",\"zerolinewidth\":2},\"yaxis\":{\"automargin\":true,\"gridcolor\":\"white\",\"linecolor\":\"white\",\"ticks\":\"\",\"title\":{\"standoff\":15},\"zerolinecolor\":\"white\",\"zerolinewidth\":2}}},\"xaxis\":{\"anchor\":\"y\",\"domain\":[0.0,1.0],\"title\":{\"text\":\"normality\"}},\"yaxis\":{\"anchor\":\"x\",\"domain\":[0.0,1.0],\"title\":{\"text\":\"count\"}},\"legend\":{\"tracegroupgap\":0},\"margin\":{\"t\":60},\"barmode\":\"relative\",\"height\":400,\"width\":400,\"shapes\":[{\"line\":{\"color\":\"red\",\"dash\":\"dash\",\"width\":3},\"type\":\"line\",\"x0\":-0.19569953364853543,\"x1\":-0.19569953364853543,\"xref\":\"x\",\"y0\":0,\"y1\":1,\"yref\":\"y domain\"}]},                        {\"responsive\": true}                    ).then(function(){\n",
              "                            \n",
              "var gd = document.getElementById('5c861583-e37e-45ea-ad3e-d42664ecdf44');\n",
              "var x = new MutationObserver(function (mutations, observer) {{\n",
              "        var display = window.getComputedStyle(gd).display;\n",
              "        if (!display || display === 'none') {{\n",
              "            console.log([gd, 'removed!']);\n",
              "            Plotly.purge(gd);\n",
              "            observer.disconnect();\n",
              "        }}\n",
              "}});\n",
              "\n",
              "// Listen for the removal of the full notebook cells\n",
              "var notebookContainer = gd.closest('#notebook-container');\n",
              "if (notebookContainer) {{\n",
              "    x.observe(notebookContainer, {childList: true});\n",
              "}}\n",
              "\n",
              "// Listen for the clearing of the current output cell\n",
              "var outputEl = gd.closest('.output');\n",
              "if (outputEl) {{\n",
              "    x.observe(outputEl, {childList: true});\n",
              "}}\n",
              "\n",
              "                        })                };                            </script>        </div>\n",
              "</body>\n",
              "</html>"
            ]
          },
          "metadata": {}
        }
      ]
    },
    {
      "cell_type": "code",
      "source": [
        "import plotly.express as px\n",
        "px.box(normality_df, x='normality', orientation='h', width=400, height=400)"
      ],
      "metadata": {
        "colab": {
          "base_uri": "https://localhost:8080/",
          "height": 417
        },
        "id": "HFc_y-fSUp4Y",
        "outputId": "9bb2e52c-997f-4dac-ad1c-515697161053"
      },
      "execution_count": null,
      "outputs": [
        {
          "output_type": "display_data",
          "data": {
            "text/html": [
              "<html>\n",
              "<head><meta charset=\"utf-8\" /></head>\n",
              "<body>\n",
              "    <div>            <script src=\"https://cdnjs.cloudflare.com/ajax/libs/mathjax/2.7.5/MathJax.js?config=TeX-AMS-MML_SVG\"></script><script type=\"text/javascript\">if (window.MathJax) {MathJax.Hub.Config({SVG: {font: \"STIX-Web\"}});}</script>                <script type=\"text/javascript\">window.PlotlyConfig = {MathJaxConfig: 'local'};</script>\n",
              "        <script src=\"https://cdn.plot.ly/plotly-2.8.3.min.js\"></script>                <div id=\"c3111ebb-7093-4fb0-8a73-2676a7769ac7\" class=\"plotly-graph-div\" style=\"height:400px; width:400px;\"></div>            <script type=\"text/javascript\">                                    window.PLOTLYENV=window.PLOTLYENV || {};                                    if (document.getElementById(\"c3111ebb-7093-4fb0-8a73-2676a7769ac7\")) {                    Plotly.newPlot(                        \"c3111ebb-7093-4fb0-8a73-2676a7769ac7\",                        [{\"alignmentgroup\":\"True\",\"hovertemplate\":\"normality=%{x}<extra></extra>\",\"legendgroup\":\"\",\"marker\":{\"color\":\"#636efa\"},\"name\":\"\",\"notched\":false,\"offsetgroup\":\"\",\"orientation\":\"h\",\"showlegend\":false,\"x\":[0.07606157822925341,-0.0015891426223749727,0.03781492064906278,0.02231113931078188,0.1358531664194731,0.028255369621861648,-0.04422890676196756,-0.04342195591908804,0.008152602729993907,-0.0520432878454985,0.015545826201523505,-0.05267020946055345,0.13449896064039368,-0.04623935513376698,0.030588630733236755,-0.056419581013695264,-0.12384560946548795,0.08706275273804404,0.0393280463996587,-0.07788985852386798,-0.009668950386076403,0.08424095900289852,-0.028118047121228784,0.06213458154917545,0.0068702026864781995,-0.059832307072320345,0.057300066804262695,-0.09141938921311377,0.003208710621490418,0.14053586676293117,0.017002976498630917,-0.01222720886214923,0.01830446403758157,0.04856758575043474,-0.004487484843731737,0.030797205622023816,0.058022763975646874,0.13593018748161678,0.020506430442062407,-0.010095287601696645,0.023228450647077514,0.013804261460584666,0.05195492372760602,-0.10185806312835255,-0.011651637285560623,0.13997065750213178,-0.026477933432970002,0.01830446403758157,-0.0241513288243439,0.03083568822169558,-0.05310896632658835,0.13673164207605848,-0.012176669007717633,0.014839407680279693,-0.03990481196910112,0.06353919745765818,-0.0040606094102704215,0.05274766758961674,-0.04727970480187049,-0.08516381086969971,0.04420743905085256,-0.04568835709560837,0.018126384708489374,-0.04600638722080874,0.019868943142222872,-0.08724061601767963,-0.03248970317917543,0.13320916197272692,-0.018798058275923957,0.04432874103559148,0.0817566073561048,-0.048443126982977036,-0.07635905710856195,0.0006526931331268804,-0.055569686462439094,0.1373833138362348,0.14053586676293117,0.13997065750213178,-0.07412394473931483,-0.02890731016072634,0.130237864904232,0.1308614801979051,0.015576785039228769,-0.024291223574510634,-0.009264821275686508,-0.001077678847776875,-0.007032859096056998,0.13997065750213178,-0.09358593251075709,0.13631623097499185,0.13969749191956754,0.13530356590343828,0.027617920875036506,0.03178112670715694,0.09448255855851817,0.13997065750213178,-0.04313216161472799,-0.016592255241761777,-0.0039569250417631485,0.04146109809416654,0.035342244516473276,0.14053586676293117,0.009077330160436659,0.13468046687109236,0.03350439686222484,0.13961346310797024,0.038263141105823295,0.14053586676293117,0.13468361814371627,-0.035502838646422785,-0.03822229033250668,-0.010038292826637263,0.13613430779468894,0.031262948445798244,-0.07596966217816203,0.13673164207605848,-0.02311682256663472,0.043937002579719386,-0.04559160586223954,-0.03138135209065118,-0.018285266709443304,0.13997065750213178,-0.042354109629340164,0.0011118360233416946,-0.005141113745246284,-0.0818677429732344,0.04960283377045449,0.13072914325476248,-0.014995605420344948,0.11083793333846814,0.04829449409597836,0.12644284526947436,0.021564861431334237,0.014839407680279693,0.08304436696065498,-0.022993641921290053,-0.015341665209321231,0.03211637010647206,0.11745379840913445,-0.07260665728898075,-0.04510967960888268,0.04338648137589918,0.03593276031904874,0.006388282490503605,0.06745782519835408,0.009359837310058239,0.13845319365425557,0.005065512530861738,0.0013756506355317444,-0.06977267843872448,-0.07412266118698574,0.00919098273694613,0.10352806359341993,0.020456903853661834,0.13900950438963317,-0.02845747201950044,-0.01724748494198769,0.13997065750213178,0.13563888587098916,-0.12965560276404386,0.04575374185014197,-0.0738496584032251,0.13815972173559743,0.1254729244052193,-0.055611814372474755,-0.035557647826318206,-0.007452678836746052,-0.05166352266594565,0.07233723840260003,-0.05531029742132276,0.043185705551499476,-0.12258063748763437,0.011217983863193726,0.13673164207605848,-0.008178483796392744,0.05272591498118501,-0.04257071877656138,-0.08462970687799809,0.08706275273804404,-0.009482305617577014,-0.10200016419965197,-0.018733630839326998,-0.05491990890029552,-0.08821102829130756,0.005378145372920529,0.04362683728928202,-0.05232123539494671,0.07054408466911671,-0.05291234058593586,0.1350984157331972,-0.026297025453707712,0.07244012293095642,0.031617893918831075,-0.05462088394438447,-0.09631427734705622,-0.09338425036243592,0.04960283377045449,0.04888730693491522,0.01830446403758157,0.003448087149799217,0.12994454459490973,-0.11118896559919667,0.12705856441531083,0.024888754583769546,0.13271525522159233,0.005173389095780301,0.08096905744524086,-0.061011394461405244,-0.01513138524684876,0.014342771396368303,0.12793315137197026,-0.05682886081789684,0.1331572393809466,0.08706275273804404,-0.027906885105447476,-0.031198198029464774,0.03781492064906278,0.03400637067031265,-0.0581340589386069,0.0833807028708694,0.12404843775467683,0.08465725443649025,0.10643093632171813,0.14053586676293117,0.021907470107167593,0.12789282803113888,0.06880140665801138,0.13248849499658621,0.071864386876767,0.00745798212211507,0.014302860870094858,0.14026313002240498,0.05497483832762268,-0.025942561363194283,0.07841790910969443,0.03898115781995387,0.03406453727294739,-0.029165388929051295,0.06880140665801138,0.08210033385659932,-0.006677496458147858,-0.0338227983744297,0.083855083063819,0.1304550267139467,0.057300066804262695,-0.14297820002730877,0.0397689578458465,-0.01958659509209415,0.007490040653040486,-0.07082727235017816,0.13827660493361527,0.02930004096842942,0.048586660224066935,0.08459889711699242,-0.0009472490221775764,-0.04018283174211479,-0.09556682939177175,-0.04925222752213554,-0.11059897487533621,-0.017634730155763112,0.04960283377045449,-0.052801147853068775,-0.01299952579219854,0.05598846608545255,0.01830446403758157,0.07897107427853889,-0.01962595494072905,0.07807365672117161,-0.04907596626817057,-0.06112895519682848,-0.021582087055611487,-0.007194546016194514,-0.006771792739461047,-0.018942977637240066,0.01830446403758157,-0.035623697298378,0.014875635033362589,-0.01638767660118845,-0.12351115103765298,0.03152124192316835,-0.0133870598799114,0.13961346310797024,0.11411879223399451,0.13320916197272692,0.07233723840260003,0.04085060307425037,0.13089169569424763,0.13693531304354606,0.07942144751687247,0.01830446403758157,-0.046539456180433425,-0.014411312688285993,-0.017453770414898484,0.030946342948299843,0.13693447671928927,0.019868943142222872,0.04420743905085256,-0.058525400577851716,0.0720792744052598,-0.0672031644311335,0.01830446403758157,-0.06034083814917712,-0.016332576200022486,-0.08356511361753138,0.13997065750213178,-0.10552200093675523,-0.07548309873807657,-0.01749742946436872,-0.03856360210761278,-0.05792844627341953,-0.06316055669928344,-0.10977409800418403,0.013289938760199349,0.13961346310797024,0.01568754146569462,0.03834829295398168,0.013777643367008485,-0.05773771383629478,-0.039668846234779065,-0.03759346917564843,0.1331572393809466,0.13845319365425557,-0.0818929232561586,0.0021439444187674184,-0.11118896559919667,-0.06928916602154456,0.07771820393748013,-0.02836509277670074,0.0342932637410136,-0.04506788425826358,-0.04976198387176545,0.07001100644040059,-0.005020104478737131,0.045094908986492155,0.003330511550655557,0.14053586676293117,0.036400672834583314,-0.09002669696130594,0.12051981193545053,0.060381514027782524,-0.054996259817284066,-0.09318445622399718,0.08673636180393784,0.08304436696065498,0.0836529539986266,0.003448087149799217,-0.008214128582426539,0.034461317542252845,-0.026444154387256225,0.1236601587064346,0.12861294290109215,0.06353919745765818,-0.020559376691571818,0.08187267786048325,0.057300066804262695,0.12994454459490973,-0.014583797393032505,-0.0038099158106034148,0.003208710621490418,0.003208710621490418,-0.03371189036982447,-0.03979867731331532,-0.03615478315330589,0.1293813804949886,-0.026477933432970002,0.13827660493361527,-0.021531306160609387,-0.07788985852386798,0.01830446403758157,-0.05511185135557595,-0.0033317270834002377,0.07437869865604435,0.13320916197272692,-0.10212905937172057,-0.005110698513946299,-0.0007918990758057909,0.036471618471124456,-0.05054733149002488,0.03106937792998049,0.13401660656776937,-0.10553906857975837,-0.044952152621552055,0.13960319760084133,0.022634227745854663,0.14053586676293117,-0.08198988798748907,-0.08482672564737104,0.0013502990832892636,0.04405500136416968,-0.0898068403935951,-0.02074101759701874,0.13673164207605848,0.045934630540299226,-0.034127605237265435,0.008068460651532605,0.13693531304354606,0.029736088673996575,-0.01572204260118648,-0.0532412774378167,-0.02390608056461041,0.13104091553004016,0.1375435623984868,0.031262948445798244,0.08450583550217944,0.033307937849706815,0.043009180511749345,0.10544744837286335,-0.055330613947184304,0.13673164207605848,0.00745798212211507,0.14053586676293117,0.02764475731716265,-0.07372421640535476,-0.01638767660118845,0.12388484130143168,-0.01843739698873592,-0.0024816186858162004,-0.026330686851812835,0.08706275273804404,0.016110881360388407,0.05195492372760602,0.026297601435181506,0.14026313002240498,0.03174880383010509,0.05624688527916488,0.13827660493361527,0.014839407680279693,-0.062056183219270644,0.04960283377045449,0.1388924965452933,0.07341268308833182,0.034461317542252845,0.007089530631359142,0.12363923401304694,0.020345276117004985,-0.0400005827902743,0.0049581613853219575,-0.06495096450270277,-0.10529185534354202,0.0833807028708694,-0.0021015767106884464,0.12325674829884636,0.07807365672117161,0.005383893620985902,0.13997065750213178,-0.09625199715286381,-0.014059895091369623,0.0741641464600113,-0.05131973496969344,0.060647741276500244,-0.0035672085888615035,0.08333378706498623,0.019868943142222872,-0.01814791008799299,0.13997065750213178,0.04948546136099302,0.046425528346147826,0.024029721277138094,-0.022456799014104578,0.04960283377045449,0.06939831951063807,0.1358531664194731,0.05804859188921513,0.06747693132952737,0.13997065750213178,0.1274578406943972,-0.01638767660118845,0.06110031728428805,0.04405500136416968,-0.05416386932928885,0.13827660493361527,0.1309473788539967,-0.0313435306272386,-0.09582103045743995,0.028825758773650012,-0.02532432061904688,0.043009180511749345,0.07990175610834538,0.13625179686268396,0.006746632690358356,-0.08443117371571096,0.06808609667024473,0.1083901256473459,-0.045689631311025436,-0.005362600747109703,0.00745798212211507,0.011123083893580132,-0.0118056541499455,0.13997065750213178,-0.02473178369982254,0.08333378706498623,0.13295144900073247,0.059361725711840674,-0.05700767913207716,0.13593018748161678,-0.05324927400123869,-0.04217952933163305,0.03058032315636794,-0.04510047584418131,0.13693447671928927,0.1254729244052193,0.009618813966124795,0.0021555918409673636,0.014965919119718896,-0.05659288473464863,-0.01766534869249181,-0.021406365121462878,0.07449332567569544,0.013460998299409888,-0.060676790597001706,0.04438329775960309,0.13997065750213178,0.07266241182479588,-0.014276178354746039,0.13625095896393868,0.06175256283921354,-0.03582544062687265,-0.08539547354873078,0.013356882430401895,0.13960319760084133,-0.057520316452072784,0.13693531304354606,0.057300066804262695,-0.0320648106138105,0.058022763975646874,0.025349678022314304,-0.022456799014104578,-0.07231987522002259,0.13104091553004016,-0.02187223837471519,-0.03141080605372437,0.058022763975646874,-0.020559376691571818,-0.04351614887009059,0.028248785100393192,-0.029165388929051295,0.07054408466911671,-0.06078148481251233,0.030646186955595178,-0.05016485183699759,-0.033087442194766115,-0.014669333629517167,-0.014576029427169401,0.042879667624641515,-0.024364477984870403,0.04481484060168256,0.00943417571222277,-0.01697347798129034,0.05981276725001877,-0.05935483187286028,-0.043082850581883325,-0.004775920675435752,0.04195219903158803,0.043526208173399694,0.043695315345677055,0.048586660224066935,-0.00892673368674135,-0.11119993669823813,-0.007947011316314367,0.03580686988940379,0.04960283377045449,0.12878770787833904,0.08530315670227306,0.13997065750213178,0.041880745029563904,0.0472028532997778,0.13401660656776937,-0.029214898804080902,0.058022763975646874,0.13960319760084133,0.055046182480759376,-0.027433646291767033,0.07266241182479588,0.01830446403758157,0.12404843775467683,0.016372037982855747,0.002024601883660493,0.02024923535476203,-0.01777278171361274,0.13960319760084133,-0.021478720800121476,-0.034547213633545515,-0.0231148827491916,0.0034676859122060866,0.04282935749916045,-0.025189579103069404,0.0625794269962851,-0.056953637015086156,0.13613430779468894,0.13997065750213178,0.13141321625637153,-0.01491060022595403,0.11049946124269855,-0.04888997513213833,0.03941885203155232,0.05444877378571217,-0.07760929849358711,-0.03268915052452048,0.057300066804262695,-0.01641493789236348,-0.025313683884443217,0.14053586676293117,-0.021715993073692652,0.1243520520029725,0.018890775029480167,0.07781845739973509,0.14053586676293117,0.07012719603495038,-0.09417027344468398,-0.06093727617152345,-0.06218176195390923,0.13312626523685694,-0.0338227983744297,0.04960283377045449,0.1358531664194731,-0.05144735607984763,0.055206746009165086,0.036528029455792754,-0.0576661402161055,0.07922522364785323,0.0010153652859508644,0.031114554442652764,-0.015465645009566042,0.13673164207605848,0.021508571412192812,0.04261304765842666,-0.14353422932575954,-0.04946776709014411,0.13815972173559743,0.04528727771541774,0.02358157796742727,0.09638960079509779,-0.10363940047177345,0.055191796427636386,-0.005214239131167142,0.005383893620985902,0.13960319760084133,0.024777661318221178,-0.06691870754278251,0.08459889711699242,0.13530356590343828,-0.05511185135557595,-0.02113797669098716,-0.04973671797169976,-0.05416386932928885,-0.016462350338566578,0.13401660656776937,-0.01463017860315774,0.13985912908963455,0.03853363218308209,0.14053586676293117,-0.009896627114741374,0.13474988385420528,0.011258336160324567,-0.02925388420173458,-0.016233655772395328,0.14053586676293117,-0.05641866881032431,0.08057832673863918,-0.058015508217237555,-0.11191748104576371,0.04037442256004492,0.0689607101324311,0.13441144135582273,0.07858730631728938,-0.013033131353854088,0.08304436696065498,0.14053586676293117,0.12704034264621367,0.024029721277138094,-0.01262496218554321,0.035919131511014835,0.03641962841207541,0.08771238196404785,0.06808609667024473,0.13352378709116652,0.1367812193480022,0.02250313960548933,-0.09078787883280781,-0.059305580857287876,-0.0010426968945002058,-0.07706089483196021,0.12600704424830655,-0.069050012895981,-0.010202866591146442,-0.07862724485362116,-0.01923247446000953,0.11629276479328499,0.13352378709116652,-0.04115138843931443,0.035919131511014835,-0.034907486782505326,-0.04973671797169976,0.04628393466845121,0.04942828667132071,0.06532824017424732,0.1243520520029725,0.013400902337714182,-0.04796365805585856,0.1269042672883124,-0.043554020513147496,0.07288107270752348,-0.019173154782051727,0.034691294687639485,0.07988920214387402,-0.007939555555394162,-0.03923966433627757,0.07249446122871694,-0.07513278971934467,-0.08724061601767963,-0.0834445349273768,0.07449332567569544,0.023520243665162144,0.1303097630807526,-0.019418581555048164,0.1336717916306978,-0.10104910355611874,-0.00031885883794524617,-0.0620048065904546,0.1383789128778971,-0.031321156793070126,0.07273539474041707,0.08424095900289852,0.06747693132952737,0.03569719987491937,0.1296938070129448,-0.034726174393699405,0.013400902337714182,0.03875568008916558,0.030160296417295895,-0.07778921985843568,-0.07735664095476891,0.06808609667024473,0.08057832673863918,0.08057832673863918,0.02905187817953836,-0.028110747686617255,-0.12321209125076915,0.14053586676293117,0.14053586676293117,0.07396514959019218,0.03177018029522666,-0.10919255676793804,0.08175871892215358,0.14053586676293117,-0.03514659488271543,0.054790187439973215,0.005049129896688764,0.030475373789667082,0.04505724564454072,-0.028515072553527365,-0.032503069616671265,0.1302975692268163,0.13718692792781628,-0.06741932501475889,-0.058546516792275405,0.13961346310797024,0.06745782519835408,0.1358531664194731,-0.08550961478738928,0.030646186955595178,0.12253827952714225,0.042419150925277815,-0.035184317401189324,0.1248760485493341,0.0004266959286120531,-0.12307075519133559,-8.096363212528601e-05,-0.03489171506699995,0.13847528864049946,0.12618403620318014,0.10931296356478487,-0.09514332250164592,0.057300066804262695,-0.058221194927555286,0.13352378709116652,0.04960283377045449,-0.048093426318978616,0.046635707132379633,-0.044611035249164765,-0.05182119139012997,0.007160593147710392,0.07425330144892878,0.03126603874264483,0.12874289992487342,0.13395477528971733,0.03247860089014848,-0.1240712179271437,-0.041492674683754616,-0.08086339857396363,0.04960283377045449,-0.028091513805473034,-0.10200016419965197,0.01624360992385454,0.13772463521680023,0.08179905601040366,-0.09507064867848036,-0.013609920064264314,0.058022763975646874,0.03180653110575399,-0.005070880025172864,0.010870243235383659,-0.09707322694699339,-0.09053956465709245,0.13100066217657425,0.14053586676293117,0.05721876936927267,0.03757222861197135,0.08179905601040366,0.020795997629514396,0.13815972173559743,0.0049579984911173325,0.07897107427853889,-0.02129681819312823,0.13997065750213178,-0.027325710791165858,0.04184756806509732,-0.05577553698883364,0.1140472712679706,-0.048099105496219985,-0.02753382355809586,0.13352784050073208,0.05669453014455367,0.019615609013017343,-0.05486048412668898,0.02764475731716265,-0.04973671797169976,-0.13300102845737616,0.04960283377045449,-0.09952273828089653,-0.01827933977743257,-0.05766781635099327,0.058022763975646874,0.13718692792781628,0.13247432234827022,-0.0521982716072541,0.13144504729235412,0.13997065750213178,-0.055569686462439094,0.01915133577172412,0.13530356590343828,-0.023830929929257838,-0.05804018986154824,0.04015053710354233,0.1254729244052193,0.12655371254558778,-0.11118896559919667,0.04224895920579291,-0.06559182088178128,-0.002438481558961536,-0.05205361835217759,0.07021882546936487,-0.019894532887062,-0.009879954165889826,0.006088025133439812,0.01179627775801706,-0.026836893642050996,0.06527690072667419,-0.06119946670745835,0.058022763975646874,0.0311074290828674,0.032888651905489896,-0.06416667702100654,-0.10200016419965197,0.0819616366016383,-0.03346469988069278,-0.06044959848275111,0.0438907595253738,0.13089169569424763,-0.028967993657413427,0.13815972173559743,-0.004903633960854581,0.05801634349772944,0.11097093403247371,-0.04201591277990746,-0.0510749870427204,0.12044450590232264,0.13401660656776937,0.14053586676293117,-0.0407433020499921,0.003159874594789336,0.1383789128778971,0.024831393347713338,0.0832915859836183,0.12874289992487342,-0.13106190843430465,-0.0622041472539957,-0.04441140437416835,0.020885845732456,0.015554271908689798,0.04376550906982907],\"x0\":\" \",\"xaxis\":\"x\",\"y0\":\" \",\"yaxis\":\"y\",\"type\":\"box\"}],                        {\"template\":{\"data\":{\"bar\":[{\"error_x\":{\"color\":\"#2a3f5f\"},\"error_y\":{\"color\":\"#2a3f5f\"},\"marker\":{\"line\":{\"color\":\"#E5ECF6\",\"width\":0.5},\"pattern\":{\"fillmode\":\"overlay\",\"size\":10,\"solidity\":0.2}},\"type\":\"bar\"}],\"barpolar\":[{\"marker\":{\"line\":{\"color\":\"#E5ECF6\",\"width\":0.5},\"pattern\":{\"fillmode\":\"overlay\",\"size\":10,\"solidity\":0.2}},\"type\":\"barpolar\"}],\"carpet\":[{\"aaxis\":{\"endlinecolor\":\"#2a3f5f\",\"gridcolor\":\"white\",\"linecolor\":\"white\",\"minorgridcolor\":\"white\",\"startlinecolor\":\"#2a3f5f\"},\"baxis\":{\"endlinecolor\":\"#2a3f5f\",\"gridcolor\":\"white\",\"linecolor\":\"white\",\"minorgridcolor\":\"white\",\"startlinecolor\":\"#2a3f5f\"},\"type\":\"carpet\"}],\"choropleth\":[{\"colorbar\":{\"outlinewidth\":0,\"ticks\":\"\"},\"type\":\"choropleth\"}],\"contour\":[{\"colorbar\":{\"outlinewidth\":0,\"ticks\":\"\"},\"colorscale\":[[0.0,\"#0d0887\"],[0.1111111111111111,\"#46039f\"],[0.2222222222222222,\"#7201a8\"],[0.3333333333333333,\"#9c179e\"],[0.4444444444444444,\"#bd3786\"],[0.5555555555555556,\"#d8576b\"],[0.6666666666666666,\"#ed7953\"],[0.7777777777777778,\"#fb9f3a\"],[0.8888888888888888,\"#fdca26\"],[1.0,\"#f0f921\"]],\"type\":\"contour\"}],\"contourcarpet\":[{\"colorbar\":{\"outlinewidth\":0,\"ticks\":\"\"},\"type\":\"contourcarpet\"}],\"heatmap\":[{\"colorbar\":{\"outlinewidth\":0,\"ticks\":\"\"},\"colorscale\":[[0.0,\"#0d0887\"],[0.1111111111111111,\"#46039f\"],[0.2222222222222222,\"#7201a8\"],[0.3333333333333333,\"#9c179e\"],[0.4444444444444444,\"#bd3786\"],[0.5555555555555556,\"#d8576b\"],[0.6666666666666666,\"#ed7953\"],[0.7777777777777778,\"#fb9f3a\"],[0.8888888888888888,\"#fdca26\"],[1.0,\"#f0f921\"]],\"type\":\"heatmap\"}],\"heatmapgl\":[{\"colorbar\":{\"outlinewidth\":0,\"ticks\":\"\"},\"colorscale\":[[0.0,\"#0d0887\"],[0.1111111111111111,\"#46039f\"],[0.2222222222222222,\"#7201a8\"],[0.3333333333333333,\"#9c179e\"],[0.4444444444444444,\"#bd3786\"],[0.5555555555555556,\"#d8576b\"],[0.6666666666666666,\"#ed7953\"],[0.7777777777777778,\"#fb9f3a\"],[0.8888888888888888,\"#fdca26\"],[1.0,\"#f0f921\"]],\"type\":\"heatmapgl\"}],\"histogram\":[{\"marker\":{\"pattern\":{\"fillmode\":\"overlay\",\"size\":10,\"solidity\":0.2}},\"type\":\"histogram\"}],\"histogram2d\":[{\"colorbar\":{\"outlinewidth\":0,\"ticks\":\"\"},\"colorscale\":[[0.0,\"#0d0887\"],[0.1111111111111111,\"#46039f\"],[0.2222222222222222,\"#7201a8\"],[0.3333333333333333,\"#9c179e\"],[0.4444444444444444,\"#bd3786\"],[0.5555555555555556,\"#d8576b\"],[0.6666666666666666,\"#ed7953\"],[0.7777777777777778,\"#fb9f3a\"],[0.8888888888888888,\"#fdca26\"],[1.0,\"#f0f921\"]],\"type\":\"histogram2d\"}],\"histogram2dcontour\":[{\"colorbar\":{\"outlinewidth\":0,\"ticks\":\"\"},\"colorscale\":[[0.0,\"#0d0887\"],[0.1111111111111111,\"#46039f\"],[0.2222222222222222,\"#7201a8\"],[0.3333333333333333,\"#9c179e\"],[0.4444444444444444,\"#bd3786\"],[0.5555555555555556,\"#d8576b\"],[0.6666666666666666,\"#ed7953\"],[0.7777777777777778,\"#fb9f3a\"],[0.8888888888888888,\"#fdca26\"],[1.0,\"#f0f921\"]],\"type\":\"histogram2dcontour\"}],\"mesh3d\":[{\"colorbar\":{\"outlinewidth\":0,\"ticks\":\"\"},\"type\":\"mesh3d\"}],\"parcoords\":[{\"line\":{\"colorbar\":{\"outlinewidth\":0,\"ticks\":\"\"}},\"type\":\"parcoords\"}],\"pie\":[{\"automargin\":true,\"type\":\"pie\"}],\"scatter\":[{\"marker\":{\"colorbar\":{\"outlinewidth\":0,\"ticks\":\"\"}},\"type\":\"scatter\"}],\"scatter3d\":[{\"line\":{\"colorbar\":{\"outlinewidth\":0,\"ticks\":\"\"}},\"marker\":{\"colorbar\":{\"outlinewidth\":0,\"ticks\":\"\"}},\"type\":\"scatter3d\"}],\"scattercarpet\":[{\"marker\":{\"colorbar\":{\"outlinewidth\":0,\"ticks\":\"\"}},\"type\":\"scattercarpet\"}],\"scattergeo\":[{\"marker\":{\"colorbar\":{\"outlinewidth\":0,\"ticks\":\"\"}},\"type\":\"scattergeo\"}],\"scattergl\":[{\"marker\":{\"colorbar\":{\"outlinewidth\":0,\"ticks\":\"\"}},\"type\":\"scattergl\"}],\"scattermapbox\":[{\"marker\":{\"colorbar\":{\"outlinewidth\":0,\"ticks\":\"\"}},\"type\":\"scattermapbox\"}],\"scatterpolar\":[{\"marker\":{\"colorbar\":{\"outlinewidth\":0,\"ticks\":\"\"}},\"type\":\"scatterpolar\"}],\"scatterpolargl\":[{\"marker\":{\"colorbar\":{\"outlinewidth\":0,\"ticks\":\"\"}},\"type\":\"scatterpolargl\"}],\"scatterternary\":[{\"marker\":{\"colorbar\":{\"outlinewidth\":0,\"ticks\":\"\"}},\"type\":\"scatterternary\"}],\"surface\":[{\"colorbar\":{\"outlinewidth\":0,\"ticks\":\"\"},\"colorscale\":[[0.0,\"#0d0887\"],[0.1111111111111111,\"#46039f\"],[0.2222222222222222,\"#7201a8\"],[0.3333333333333333,\"#9c179e\"],[0.4444444444444444,\"#bd3786\"],[0.5555555555555556,\"#d8576b\"],[0.6666666666666666,\"#ed7953\"],[0.7777777777777778,\"#fb9f3a\"],[0.8888888888888888,\"#fdca26\"],[1.0,\"#f0f921\"]],\"type\":\"surface\"}],\"table\":[{\"cells\":{\"fill\":{\"color\":\"#EBF0F8\"},\"line\":{\"color\":\"white\"}},\"header\":{\"fill\":{\"color\":\"#C8D4E3\"},\"line\":{\"color\":\"white\"}},\"type\":\"table\"}]},\"layout\":{\"annotationdefaults\":{\"arrowcolor\":\"#2a3f5f\",\"arrowhead\":0,\"arrowwidth\":1},\"autotypenumbers\":\"strict\",\"coloraxis\":{\"colorbar\":{\"outlinewidth\":0,\"ticks\":\"\"}},\"colorscale\":{\"diverging\":[[0,\"#8e0152\"],[0.1,\"#c51b7d\"],[0.2,\"#de77ae\"],[0.3,\"#f1b6da\"],[0.4,\"#fde0ef\"],[0.5,\"#f7f7f7\"],[0.6,\"#e6f5d0\"],[0.7,\"#b8e186\"],[0.8,\"#7fbc41\"],[0.9,\"#4d9221\"],[1,\"#276419\"]],\"sequential\":[[0.0,\"#0d0887\"],[0.1111111111111111,\"#46039f\"],[0.2222222222222222,\"#7201a8\"],[0.3333333333333333,\"#9c179e\"],[0.4444444444444444,\"#bd3786\"],[0.5555555555555556,\"#d8576b\"],[0.6666666666666666,\"#ed7953\"],[0.7777777777777778,\"#fb9f3a\"],[0.8888888888888888,\"#fdca26\"],[1.0,\"#f0f921\"]],\"sequentialminus\":[[0.0,\"#0d0887\"],[0.1111111111111111,\"#46039f\"],[0.2222222222222222,\"#7201a8\"],[0.3333333333333333,\"#9c179e\"],[0.4444444444444444,\"#bd3786\"],[0.5555555555555556,\"#d8576b\"],[0.6666666666666666,\"#ed7953\"],[0.7777777777777778,\"#fb9f3a\"],[0.8888888888888888,\"#fdca26\"],[1.0,\"#f0f921\"]]},\"colorway\":[\"#636efa\",\"#EF553B\",\"#00cc96\",\"#ab63fa\",\"#FFA15A\",\"#19d3f3\",\"#FF6692\",\"#B6E880\",\"#FF97FF\",\"#FECB52\"],\"font\":{\"color\":\"#2a3f5f\"},\"geo\":{\"bgcolor\":\"white\",\"lakecolor\":\"white\",\"landcolor\":\"#E5ECF6\",\"showlakes\":true,\"showland\":true,\"subunitcolor\":\"white\"},\"hoverlabel\":{\"align\":\"left\"},\"hovermode\":\"closest\",\"mapbox\":{\"style\":\"light\"},\"paper_bgcolor\":\"white\",\"plot_bgcolor\":\"#E5ECF6\",\"polar\":{\"angularaxis\":{\"gridcolor\":\"white\",\"linecolor\":\"white\",\"ticks\":\"\"},\"bgcolor\":\"#E5ECF6\",\"radialaxis\":{\"gridcolor\":\"white\",\"linecolor\":\"white\",\"ticks\":\"\"}},\"scene\":{\"xaxis\":{\"backgroundcolor\":\"#E5ECF6\",\"gridcolor\":\"white\",\"gridwidth\":2,\"linecolor\":\"white\",\"showbackground\":true,\"ticks\":\"\",\"zerolinecolor\":\"white\"},\"yaxis\":{\"backgroundcolor\":\"#E5ECF6\",\"gridcolor\":\"white\",\"gridwidth\":2,\"linecolor\":\"white\",\"showbackground\":true,\"ticks\":\"\",\"zerolinecolor\":\"white\"},\"zaxis\":{\"backgroundcolor\":\"#E5ECF6\",\"gridcolor\":\"white\",\"gridwidth\":2,\"linecolor\":\"white\",\"showbackground\":true,\"ticks\":\"\",\"zerolinecolor\":\"white\"}},\"shapedefaults\":{\"line\":{\"color\":\"#2a3f5f\"}},\"ternary\":{\"aaxis\":{\"gridcolor\":\"white\",\"linecolor\":\"white\",\"ticks\":\"\"},\"baxis\":{\"gridcolor\":\"white\",\"linecolor\":\"white\",\"ticks\":\"\"},\"bgcolor\":\"#E5ECF6\",\"caxis\":{\"gridcolor\":\"white\",\"linecolor\":\"white\",\"ticks\":\"\"}},\"title\":{\"x\":0.05},\"xaxis\":{\"automargin\":true,\"gridcolor\":\"white\",\"linecolor\":\"white\",\"ticks\":\"\",\"title\":{\"standoff\":15},\"zerolinecolor\":\"white\",\"zerolinewidth\":2},\"yaxis\":{\"automargin\":true,\"gridcolor\":\"white\",\"linecolor\":\"white\",\"ticks\":\"\",\"title\":{\"standoff\":15},\"zerolinecolor\":\"white\",\"zerolinewidth\":2}}},\"xaxis\":{\"anchor\":\"y\",\"domain\":[0.0,1.0],\"title\":{\"text\":\"normality\"}},\"yaxis\":{\"anchor\":\"x\",\"domain\":[0.0,1.0]},\"legend\":{\"tracegroupgap\":0},\"margin\":{\"t\":60},\"boxmode\":\"group\",\"height\":400,\"width\":400},                        {\"responsive\": true}                    ).then(function(){\n",
              "                            \n",
              "var gd = document.getElementById('c3111ebb-7093-4fb0-8a73-2676a7769ac7');\n",
              "var x = new MutationObserver(function (mutations, observer) {{\n",
              "        var display = window.getComputedStyle(gd).display;\n",
              "        if (!display || display === 'none') {{\n",
              "            console.log([gd, 'removed!']);\n",
              "            Plotly.purge(gd);\n",
              "            observer.disconnect();\n",
              "        }}\n",
              "}});\n",
              "\n",
              "// Listen for the removal of the full notebook cells\n",
              "var notebookContainer = gd.closest('#notebook-container');\n",
              "if (notebookContainer) {{\n",
              "    x.observe(notebookContainer, {childList: true});\n",
              "}}\n",
              "\n",
              "// Listen for the clearing of the current output cell\n",
              "var outputEl = gd.closest('.output');\n",
              "if (outputEl) {{\n",
              "    x.observe(outputEl, {childList: true});\n",
              "}}\n",
              "\n",
              "                        })                };                            </script>        </div>\n",
              "</body>\n",
              "</html>"
            ]
          },
          "metadata": {}
        }
      ]
    },
    {
      "cell_type": "markdown",
      "source": [
        "normality 값이 threshold보다 작은 관측치만 Train-set에 남깁니다. \n",
        "(이 경우 threshold보다 작은 관측치가 없으므로 어떠한 관측치도 제거하지 않습니다.)"
      ],
      "metadata": {
        "id": "2VhxWOxM8Cni"
      }
    },
    {
      "cell_type": "code",
      "source": [
        "X_train = X_train[normality_df['normality'].values>=threshold]\n",
        "y_train = y_train[normality_df['normality'].values>=threshold]\n",
        "\n",
        "print('{} observations are removed from train_set'.format(train.shape[0] - X_train.shape[0]))"
      ],
      "metadata": {
        "id": "WodQ5-UlJCm4",
        "colab": {
          "base_uri": "https://localhost:8080/"
        },
        "outputId": "3f370d94-fd35-431f-919d-4c7974842df2"
      },
      "execution_count": null,
      "outputs": [
        {
          "output_type": "stream",
          "name": "stdout",
          "text": [
            "0 observations are removed from train_set\n"
          ]
        }
      ]
    },
    {
      "cell_type": "markdown",
      "source": [
        "\n",
        "# 2. 모형 선택"
      ],
      "metadata": {
        "id": "3UbJJrv6i3kM"
      }
    },
    {
      "cell_type": "markdown",
      "source": [
        "## 2.0. 평가 설계\n",
        "\n",
        "- 목표 \n",
        "  - 공정한 평가 통해 예측 성능 가장 우수한 '최종 모형' 채택\n",
        "- 평가 지표\n",
        "  - Accuracy (컴피티션의 평가 지표)\n",
        "- 평가 방식\n",
        "  - 5-Fold Stratified Cross-Validation (CV)\n",
        "    - 특징1: Stratified CV\n",
        "      - 평가에서 모집단의 클래스 비율 유지하기 위해 (가정: Train, Test는 같은 모집단에서 추출)\n",
        "    - 특징2: 각 모형 하이퍼 파라미터 튜닝 후 비교\n",
        "      - 각 모형의 최고 성능 비교 위해\n",
        "- 모형 종류\n",
        "  - Logistic regression / Random Forest / XGBoost / Multi-Layer Perceptron\n",
        "  - 선정 기준\n",
        "    - Ensemble을 위해 '예측 확률'을 제공하는 모형 도출\n",
        "    - Ensemble시 모형의 다양성 확보 위해 특징 다른 모형 선정 (선형 모형 / 병렬 Tree / 직렬 Tree / Neural Network)\n",
        "\n",
        "- 하이퍼 파라미터 튜닝\n",
        "  - 5-Fold Stratified CV\n",
        "    - CV 결과, 평균 Accuracy 가장 높은 하이퍼 파라미터 조합 채택\n",
        "\n",
        "- Ensemble 종류\n",
        "  - Soft Voting / Stacking (by Logistic regression)\n",
        "    - 두 방법 모두 각 모형의 '예측 확률' 값을 이용해 최종 예측 수행\n",
        "      - Soft Voting: 각 모형의 예측 확률 평균하여 예측 확률 도출\n",
        "      - Stacking: 각 모형의 예측 확률을 Input 변수로 이용해 모형 적합\n"
      ],
      "metadata": {
        "id": "unsKmj_dHYHZ"
      }
    },
    {
      "cell_type": "markdown",
      "source": [
        "## 2.1. 하이퍼 파라미터 튜닝 & CV"
      ],
      "metadata": {
        "id": "UJ7I314bHaEd"
      }
    },
    {
      "cell_type": "code",
      "source": [
        "# --------CV 결과 리포팅 함수\n",
        "def list_chunk(lst, n):\n",
        "    return [lst[i:i+n] for i in range(0, len(lst), n)]\n",
        "\n",
        "def best_cv_result(tune_search, config, model_name):\n",
        "    res_df = pd.DataFrame({'model': [model_name]*config['cv_num'], 'best_hyper_param': [str(tune_search.best_params_)]*config['cv_num']})\n",
        "    score_metrics = list(tune_search.scoring_.keys())\n",
        "\n",
        "    cv_df = pd.DataFrame(tune_search.cv_results_)\n",
        "    cv_values = list_chunk(cv_df.loc[tune_search.best_index_, cv_df.columns.str.startswith('split')].values, config['cv_num'])\n",
        "    res_df[score_metrics] = np.transpose(cv_values)\n",
        "    return res_df\n",
        "\n",
        "# --------하이퍼 파라미터 튜닝 결과 시각화 함수\n",
        "def vis_tune_result(tune_search, target_metric):\n",
        "    cv_df = pd.DataFrame(tune_search.cv_results_)\n",
        "    tune_result_df = pd.concat([pd.DataFrame(tune_search.cv_results_['params']), cv_df.loc[:,cv_df.columns.str.startswith('mean')] ], axis=1)\n",
        "    tune_result_df = pd.get_dummies(tune_result_df, dtype='int64')\n",
        "    # 의미없는 컬럼 제거 (값에 차이가 없는 컬럼)\n",
        "    no_meaning_columns = tune_result_df.columns[tune_result_df.mean() == tune_result_df.iloc[0,:]]\n",
        "    drop_columns = tune_result_df.columns[tune_result_df.columns.isin(no_meaning_columns)]\n",
        "    tune_result_df.drop(drop_columns, axis=1, inplace=True)\n",
        "    # 컬럼 순서 변경\n",
        "    score_columns = tune_result_df.columns[tune_result_df.columns.str.startswith('mean')]\n",
        "    param_columns = tune_result_df.columns[~tune_result_df.columns.str.startswith('mean')]\n",
        "    tune_result_df = tune_result_df[param_columns.append(score_columns)]\n",
        "    # 컬럼 이름 변경\n",
        "    tune_result_df.columns =  tune_result_df.columns.str.replace(\"mean_test_\", \"\")\n",
        "    tune_result_df.columns =  tune_result_df.columns.str.replace(\"module__\", \"\")\n",
        "    tune_result_df.columns =  tune_result_df.columns.str.replace(\"optimizer__\", \"\")\n",
        "    # 시각화\n",
        "    fig = px.parallel_coordinates(tune_result_df, color=target_metric)\n",
        "    fig.show()\n",
        "\n",
        "# --------CV 결과 파일 저장 함수\n",
        "def save_result(df, file_name, save_path=\"Result\"):\n",
        "    if not os.path.exists(save_path):\n",
        "        os.makedirs(save_path)\n",
        "    file_path = os.path.join(save_path, f'{file_name}.csv')\n",
        "    df.to_csv(file_path, index=False)    \n",
        "\n",
        "    \n",
        "best_cv_df = pd.DataFrame()"
      ],
      "metadata": {
        "id": "IvDkhH0lIeos"
      },
      "execution_count": null,
      "outputs": []
    },
    {
      "cell_type": "markdown",
      "source": [
        "### > Logistic regression"
      ],
      "metadata": {
        "id": "2MZsMccOKY2B"
      }
    },
    {
      "cell_type": "code",
      "source": [
        "from tune_sklearn import TuneGridSearchCV\n",
        "from sklearn.linear_model import SGDClassifier\n",
        "\n",
        "# Define 하이퍼 파라미터 값 후보\n",
        "parameters = {\n",
        "    'max_iter': [1000],\n",
        "    'loss': ['log'],\n",
        "    'penalty': ['l2'],\n",
        "    'alpha': [1e-9, 1e-7, 1e-5, 1e-3, 1e-1],\n",
        "    'learning_rate': ['optimal'],\n",
        "    'random_state': [config['random_state']],\n",
        "}\n",
        "\n",
        "# Define 하이퍼 파라미터 튜닝 알고리즘\n",
        "tune_search = TuneGridSearchCV(\n",
        "    SGDClassifier(),\n",
        "    parameters,\n",
        "    n_jobs=-1,\n",
        "    scoring=['neg_log_loss', 'accuracy'],\n",
        "    cv=config['cv_num'],\n",
        "    refit= 'accuracy', \n",
        "    early_stopping= 'ASHAScheduler',\n",
        "    verbose=1\n",
        "    )\n",
        "\n",
        "# Run 튜닝\n",
        "tune_search.fit(X_train, y_train)\n",
        "\n",
        "# Save Best 하이퍼 파라미터\n",
        "model_name = 'logistic'\n",
        "res_df = best_cv_result(tune_search, config, model_name)\n",
        "best_cv_df = pd.concat([best_cv_df, res_df], axis=0)\n",
        "\n",
        "# Visualize 튜닝 결과\n",
        "vis_tune_result(tune_search, 'accuracy')"
      ],
      "metadata": {
        "colab": {
          "base_uri": "https://localhost:8080/",
          "height": 753
        },
        "id": "2o4dQv1oreS4",
        "outputId": "69168986-788a-4a86-d8f3-3104ab262d13"
      },
      "execution_count": null,
      "outputs": [
        {
          "output_type": "display_data",
          "data": {
            "text/plain": [
              "<IPython.core.display.HTML object>"
            ],
            "text/html": [
              "== Status ==<br>Current time: 2022-10-24 08:37:15 (running for 00:00:07.45)<br>Memory usage on this node: 2.7/12.7 GiB<br>Using AsyncHyperBand: num_stopped=0\n",
              "Bracket: Iter 1.000: 0.7205387205387206<br>Resources requested: 0/2 CPUs, 0/0 GPUs, 0.0/7.33 GiB heap, 0.0/3.67 GiB objects<br>Current best trial: 0be60_00004 with average_test_accuracy=0.7867564534231201 and parameters={'max_iter': 1000, 'loss': 'log', 'penalty': 'l2', 'alpha': 0.1, 'learning_rate': 'optimal', 'random_state': 2022}<br>Result logdir: /root/ray_results/_Trainable_2022-10-24_08-37-08<br>Number of trials: 5/5 (5 TERMINATED)<br><br>"
            ]
          },
          "metadata": {}
        },
        {
          "output_type": "stream",
          "name": "stderr",
          "text": [
            "2022-10-24 08:37:16,104\tINFO tune.py:759 -- Total run time: 7.69 seconds (7.42 seconds for the tuning loop).\n"
          ]
        },
        {
          "output_type": "display_data",
          "data": {
            "text/html": [
              "<html>\n",
              "<head><meta charset=\"utf-8\" /></head>\n",
              "<body>\n",
              "    <div>            <script src=\"https://cdnjs.cloudflare.com/ajax/libs/mathjax/2.7.5/MathJax.js?config=TeX-AMS-MML_SVG\"></script><script type=\"text/javascript\">if (window.MathJax) {MathJax.Hub.Config({SVG: {font: \"STIX-Web\"}});}</script>                <script type=\"text/javascript\">window.PlotlyConfig = {MathJaxConfig: 'local'};</script>\n",
              "        <script src=\"https://cdn.plot.ly/plotly-2.8.3.min.js\"></script>                <div id=\"a97e3b07-089e-447f-ad2c-99f106e885f6\" class=\"plotly-graph-div\" style=\"height:525px; width:100%;\"></div>            <script type=\"text/javascript\">                                    window.PLOTLYENV=window.PLOTLYENV || {};                                    if (document.getElementById(\"a97e3b07-089e-447f-ad2c-99f106e885f6\")) {                    Plotly.newPlot(                        \"a97e3b07-089e-447f-ad2c-99f106e885f6\",                        [{\"dimensions\":[{\"label\":\"alpha\",\"values\":[1e-09,1e-07,1e-05,0.001,0.1]},{\"label\":\"neg_log_loss\",\"values\":[-13.391944717411485,-8.533871747170105,-7.664431875498315,-0.9544692587196151,-0.4975140169222654]},{\"label\":\"accuracy\",\"values\":[0.6015712682379349,0.712682379349046,0.6767676767676768,0.7205387205387206,0.7867564534231201]}],\"domain\":{\"x\":[0.0,1.0],\"y\":[0.0,1.0]},\"line\":{\"color\":[0.6015712682379349,0.712682379349046,0.6767676767676768,0.7205387205387206,0.7867564534231201],\"coloraxis\":\"coloraxis\"},\"name\":\"\",\"type\":\"parcoords\"}],                        {\"template\":{\"data\":{\"bar\":[{\"error_x\":{\"color\":\"#2a3f5f\"},\"error_y\":{\"color\":\"#2a3f5f\"},\"marker\":{\"line\":{\"color\":\"#E5ECF6\",\"width\":0.5},\"pattern\":{\"fillmode\":\"overlay\",\"size\":10,\"solidity\":0.2}},\"type\":\"bar\"}],\"barpolar\":[{\"marker\":{\"line\":{\"color\":\"#E5ECF6\",\"width\":0.5},\"pattern\":{\"fillmode\":\"overlay\",\"size\":10,\"solidity\":0.2}},\"type\":\"barpolar\"}],\"carpet\":[{\"aaxis\":{\"endlinecolor\":\"#2a3f5f\",\"gridcolor\":\"white\",\"linecolor\":\"white\",\"minorgridcolor\":\"white\",\"startlinecolor\":\"#2a3f5f\"},\"baxis\":{\"endlinecolor\":\"#2a3f5f\",\"gridcolor\":\"white\",\"linecolor\":\"white\",\"minorgridcolor\":\"white\",\"startlinecolor\":\"#2a3f5f\"},\"type\":\"carpet\"}],\"choropleth\":[{\"colorbar\":{\"outlinewidth\":0,\"ticks\":\"\"},\"type\":\"choropleth\"}],\"contour\":[{\"colorbar\":{\"outlinewidth\":0,\"ticks\":\"\"},\"colorscale\":[[0.0,\"#0d0887\"],[0.1111111111111111,\"#46039f\"],[0.2222222222222222,\"#7201a8\"],[0.3333333333333333,\"#9c179e\"],[0.4444444444444444,\"#bd3786\"],[0.5555555555555556,\"#d8576b\"],[0.6666666666666666,\"#ed7953\"],[0.7777777777777778,\"#fb9f3a\"],[0.8888888888888888,\"#fdca26\"],[1.0,\"#f0f921\"]],\"type\":\"contour\"}],\"contourcarpet\":[{\"colorbar\":{\"outlinewidth\":0,\"ticks\":\"\"},\"type\":\"contourcarpet\"}],\"heatmap\":[{\"colorbar\":{\"outlinewidth\":0,\"ticks\":\"\"},\"colorscale\":[[0.0,\"#0d0887\"],[0.1111111111111111,\"#46039f\"],[0.2222222222222222,\"#7201a8\"],[0.3333333333333333,\"#9c179e\"],[0.4444444444444444,\"#bd3786\"],[0.5555555555555556,\"#d8576b\"],[0.6666666666666666,\"#ed7953\"],[0.7777777777777778,\"#fb9f3a\"],[0.8888888888888888,\"#fdca26\"],[1.0,\"#f0f921\"]],\"type\":\"heatmap\"}],\"heatmapgl\":[{\"colorbar\":{\"outlinewidth\":0,\"ticks\":\"\"},\"colorscale\":[[0.0,\"#0d0887\"],[0.1111111111111111,\"#46039f\"],[0.2222222222222222,\"#7201a8\"],[0.3333333333333333,\"#9c179e\"],[0.4444444444444444,\"#bd3786\"],[0.5555555555555556,\"#d8576b\"],[0.6666666666666666,\"#ed7953\"],[0.7777777777777778,\"#fb9f3a\"],[0.8888888888888888,\"#fdca26\"],[1.0,\"#f0f921\"]],\"type\":\"heatmapgl\"}],\"histogram\":[{\"marker\":{\"pattern\":{\"fillmode\":\"overlay\",\"size\":10,\"solidity\":0.2}},\"type\":\"histogram\"}],\"histogram2d\":[{\"colorbar\":{\"outlinewidth\":0,\"ticks\":\"\"},\"colorscale\":[[0.0,\"#0d0887\"],[0.1111111111111111,\"#46039f\"],[0.2222222222222222,\"#7201a8\"],[0.3333333333333333,\"#9c179e\"],[0.4444444444444444,\"#bd3786\"],[0.5555555555555556,\"#d8576b\"],[0.6666666666666666,\"#ed7953\"],[0.7777777777777778,\"#fb9f3a\"],[0.8888888888888888,\"#fdca26\"],[1.0,\"#f0f921\"]],\"type\":\"histogram2d\"}],\"histogram2dcontour\":[{\"colorbar\":{\"outlinewidth\":0,\"ticks\":\"\"},\"colorscale\":[[0.0,\"#0d0887\"],[0.1111111111111111,\"#46039f\"],[0.2222222222222222,\"#7201a8\"],[0.3333333333333333,\"#9c179e\"],[0.4444444444444444,\"#bd3786\"],[0.5555555555555556,\"#d8576b\"],[0.6666666666666666,\"#ed7953\"],[0.7777777777777778,\"#fb9f3a\"],[0.8888888888888888,\"#fdca26\"],[1.0,\"#f0f921\"]],\"type\":\"histogram2dcontour\"}],\"mesh3d\":[{\"colorbar\":{\"outlinewidth\":0,\"ticks\":\"\"},\"type\":\"mesh3d\"}],\"parcoords\":[{\"line\":{\"colorbar\":{\"outlinewidth\":0,\"ticks\":\"\"}},\"type\":\"parcoords\"}],\"pie\":[{\"automargin\":true,\"type\":\"pie\"}],\"scatter\":[{\"marker\":{\"colorbar\":{\"outlinewidth\":0,\"ticks\":\"\"}},\"type\":\"scatter\"}],\"scatter3d\":[{\"line\":{\"colorbar\":{\"outlinewidth\":0,\"ticks\":\"\"}},\"marker\":{\"colorbar\":{\"outlinewidth\":0,\"ticks\":\"\"}},\"type\":\"scatter3d\"}],\"scattercarpet\":[{\"marker\":{\"colorbar\":{\"outlinewidth\":0,\"ticks\":\"\"}},\"type\":\"scattercarpet\"}],\"scattergeo\":[{\"marker\":{\"colorbar\":{\"outlinewidth\":0,\"ticks\":\"\"}},\"type\":\"scattergeo\"}],\"scattergl\":[{\"marker\":{\"colorbar\":{\"outlinewidth\":0,\"ticks\":\"\"}},\"type\":\"scattergl\"}],\"scattermapbox\":[{\"marker\":{\"colorbar\":{\"outlinewidth\":0,\"ticks\":\"\"}},\"type\":\"scattermapbox\"}],\"scatterpolar\":[{\"marker\":{\"colorbar\":{\"outlinewidth\":0,\"ticks\":\"\"}},\"type\":\"scatterpolar\"}],\"scatterpolargl\":[{\"marker\":{\"colorbar\":{\"outlinewidth\":0,\"ticks\":\"\"}},\"type\":\"scatterpolargl\"}],\"scatterternary\":[{\"marker\":{\"colorbar\":{\"outlinewidth\":0,\"ticks\":\"\"}},\"type\":\"scatterternary\"}],\"surface\":[{\"colorbar\":{\"outlinewidth\":0,\"ticks\":\"\"},\"colorscale\":[[0.0,\"#0d0887\"],[0.1111111111111111,\"#46039f\"],[0.2222222222222222,\"#7201a8\"],[0.3333333333333333,\"#9c179e\"],[0.4444444444444444,\"#bd3786\"],[0.5555555555555556,\"#d8576b\"],[0.6666666666666666,\"#ed7953\"],[0.7777777777777778,\"#fb9f3a\"],[0.8888888888888888,\"#fdca26\"],[1.0,\"#f0f921\"]],\"type\":\"surface\"}],\"table\":[{\"cells\":{\"fill\":{\"color\":\"#EBF0F8\"},\"line\":{\"color\":\"white\"}},\"header\":{\"fill\":{\"color\":\"#C8D4E3\"},\"line\":{\"color\":\"white\"}},\"type\":\"table\"}]},\"layout\":{\"annotationdefaults\":{\"arrowcolor\":\"#2a3f5f\",\"arrowhead\":0,\"arrowwidth\":1},\"autotypenumbers\":\"strict\",\"coloraxis\":{\"colorbar\":{\"outlinewidth\":0,\"ticks\":\"\"}},\"colorscale\":{\"diverging\":[[0,\"#8e0152\"],[0.1,\"#c51b7d\"],[0.2,\"#de77ae\"],[0.3,\"#f1b6da\"],[0.4,\"#fde0ef\"],[0.5,\"#f7f7f7\"],[0.6,\"#e6f5d0\"],[0.7,\"#b8e186\"],[0.8,\"#7fbc41\"],[0.9,\"#4d9221\"],[1,\"#276419\"]],\"sequential\":[[0.0,\"#0d0887\"],[0.1111111111111111,\"#46039f\"],[0.2222222222222222,\"#7201a8\"],[0.3333333333333333,\"#9c179e\"],[0.4444444444444444,\"#bd3786\"],[0.5555555555555556,\"#d8576b\"],[0.6666666666666666,\"#ed7953\"],[0.7777777777777778,\"#fb9f3a\"],[0.8888888888888888,\"#fdca26\"],[1.0,\"#f0f921\"]],\"sequentialminus\":[[0.0,\"#0d0887\"],[0.1111111111111111,\"#46039f\"],[0.2222222222222222,\"#7201a8\"],[0.3333333333333333,\"#9c179e\"],[0.4444444444444444,\"#bd3786\"],[0.5555555555555556,\"#d8576b\"],[0.6666666666666666,\"#ed7953\"],[0.7777777777777778,\"#fb9f3a\"],[0.8888888888888888,\"#fdca26\"],[1.0,\"#f0f921\"]]},\"colorway\":[\"#636efa\",\"#EF553B\",\"#00cc96\",\"#ab63fa\",\"#FFA15A\",\"#19d3f3\",\"#FF6692\",\"#B6E880\",\"#FF97FF\",\"#FECB52\"],\"font\":{\"color\":\"#2a3f5f\"},\"geo\":{\"bgcolor\":\"white\",\"lakecolor\":\"white\",\"landcolor\":\"#E5ECF6\",\"showlakes\":true,\"showland\":true,\"subunitcolor\":\"white\"},\"hoverlabel\":{\"align\":\"left\"},\"hovermode\":\"closest\",\"mapbox\":{\"style\":\"light\"},\"paper_bgcolor\":\"white\",\"plot_bgcolor\":\"#E5ECF6\",\"polar\":{\"angularaxis\":{\"gridcolor\":\"white\",\"linecolor\":\"white\",\"ticks\":\"\"},\"bgcolor\":\"#E5ECF6\",\"radialaxis\":{\"gridcolor\":\"white\",\"linecolor\":\"white\",\"ticks\":\"\"}},\"scene\":{\"xaxis\":{\"backgroundcolor\":\"#E5ECF6\",\"gridcolor\":\"white\",\"gridwidth\":2,\"linecolor\":\"white\",\"showbackground\":true,\"ticks\":\"\",\"zerolinecolor\":\"white\"},\"yaxis\":{\"backgroundcolor\":\"#E5ECF6\",\"gridcolor\":\"white\",\"gridwidth\":2,\"linecolor\":\"white\",\"showbackground\":true,\"ticks\":\"\",\"zerolinecolor\":\"white\"},\"zaxis\":{\"backgroundcolor\":\"#E5ECF6\",\"gridcolor\":\"white\",\"gridwidth\":2,\"linecolor\":\"white\",\"showbackground\":true,\"ticks\":\"\",\"zerolinecolor\":\"white\"}},\"shapedefaults\":{\"line\":{\"color\":\"#2a3f5f\"}},\"ternary\":{\"aaxis\":{\"gridcolor\":\"white\",\"linecolor\":\"white\",\"ticks\":\"\"},\"baxis\":{\"gridcolor\":\"white\",\"linecolor\":\"white\",\"ticks\":\"\"},\"bgcolor\":\"#E5ECF6\",\"caxis\":{\"gridcolor\":\"white\",\"linecolor\":\"white\",\"ticks\":\"\"}},\"title\":{\"x\":0.05},\"xaxis\":{\"automargin\":true,\"gridcolor\":\"white\",\"linecolor\":\"white\",\"ticks\":\"\",\"title\":{\"standoff\":15},\"zerolinecolor\":\"white\",\"zerolinewidth\":2},\"yaxis\":{\"automargin\":true,\"gridcolor\":\"white\",\"linecolor\":\"white\",\"ticks\":\"\",\"title\":{\"standoff\":15},\"zerolinecolor\":\"white\",\"zerolinewidth\":2}}},\"coloraxis\":{\"colorbar\":{\"title\":{\"text\":\"accuracy\"}},\"colorscale\":[[0.0,\"#0d0887\"],[0.1111111111111111,\"#46039f\"],[0.2222222222222222,\"#7201a8\"],[0.3333333333333333,\"#9c179e\"],[0.4444444444444444,\"#bd3786\"],[0.5555555555555556,\"#d8576b\"],[0.6666666666666666,\"#ed7953\"],[0.7777777777777778,\"#fb9f3a\"],[0.8888888888888888,\"#fdca26\"],[1.0,\"#f0f921\"]]},\"legend\":{\"tracegroupgap\":0},\"margin\":{\"t\":60}},                        {\"responsive\": true}                    ).then(function(){\n",
              "                            \n",
              "var gd = document.getElementById('a97e3b07-089e-447f-ad2c-99f106e885f6');\n",
              "var x = new MutationObserver(function (mutations, observer) {{\n",
              "        var display = window.getComputedStyle(gd).display;\n",
              "        if (!display || display === 'none') {{\n",
              "            console.log([gd, 'removed!']);\n",
              "            Plotly.purge(gd);\n",
              "            observer.disconnect();\n",
              "        }}\n",
              "}});\n",
              "\n",
              "// Listen for the removal of the full notebook cells\n",
              "var notebookContainer = gd.closest('#notebook-container');\n",
              "if (notebookContainer) {{\n",
              "    x.observe(notebookContainer, {childList: true});\n",
              "}}\n",
              "\n",
              "// Listen for the clearing of the current output cell\n",
              "var outputEl = gd.closest('.output');\n",
              "if (outputEl) {{\n",
              "    x.observe(outputEl, {childList: true});\n",
              "}}\n",
              "\n",
              "                        })                };                            </script>        </div>\n",
              "</body>\n",
              "</html>"
            ]
          },
          "metadata": {}
        }
      ]
    },
    {
      "cell_type": "markdown",
      "source": [
        "### > Random forest"
      ],
      "metadata": {
        "id": "TZV1XLbAKffy"
      }
    },
    {
      "cell_type": "code",
      "source": [
        "from tune_sklearn import TuneSearchCV\n",
        "from sklearn.ensemble import RandomForestClassifier\n",
        "\n",
        "# Define 하이퍼 파라미터 값 후보\n",
        "parameters = {\n",
        "    'max_features': ['sqrt'],\n",
        "    'random_state': [config['random_state']],\n",
        "    'n_estimators': [100, 500, 1000],\n",
        "    'criterion': ['gini', 'entropy'],\n",
        "    'max_depth': [5, 10, 15],\n",
        "}\n",
        "\n",
        "# Define 하이퍼 파라미터 튜닝 알고리즘\n",
        "tune_search = TuneSearchCV(\n",
        "    RandomForestClassifier(),\n",
        "    parameters,\n",
        "    search_optimization='hyperopt',\n",
        "    n_trials=10,\n",
        "    n_jobs=-1,\n",
        "    scoring=['neg_log_loss', 'accuracy'],\n",
        "    cv=config['cv_num'],\n",
        "    refit='accuracy',\n",
        "    verbose=1,\n",
        "    random_state=config['random_state']\n",
        "    )\n",
        "\n",
        "# Run 튜닝\n",
        "tune_search.fit(X_train, y_train)\n",
        "\n",
        "# Save Best 하이퍼 파라미터\n",
        "model_name = 'RF'\n",
        "res_df = best_cv_result(tune_search, config, model_name)\n",
        "best_cv_df = pd.concat([best_cv_df, res_df], axis=0)\n",
        "\n",
        "# Visualize 튜닝 결과\n",
        "vis_tune_result(tune_search, 'accuracy')"
      ],
      "metadata": {
        "colab": {
          "base_uri": "https://localhost:8080/",
          "height": 719
        },
        "id": "dACWfrHo3eWh",
        "outputId": "986c6864-43c4-47b3-afae-5a45bc6493fb"
      },
      "execution_count": null,
      "outputs": [
        {
          "output_type": "display_data",
          "data": {
            "text/plain": [
              "<IPython.core.display.HTML object>"
            ],
            "text/html": [
              "== Status ==<br>Current time: 2022-10-24 08:39:11 (running for 00:00:48.24)<br>Memory usage on this node: 2.4/12.7 GiB<br>Using FIFO scheduling algorithm.<br>Resources requested: 0/2 CPUs, 0/0 GPUs, 0.0/7.33 GiB heap, 0.0/3.67 GiB objects<br>Result logdir: /root/ray_results/_Trainable_2022-10-24_08-38-23<br>Number of trials: 10/10 (10 TERMINATED)<br><br>"
            ]
          },
          "metadata": {}
        },
        {
          "output_type": "stream",
          "name": "stderr",
          "text": [
            "2022-10-24 08:39:11,683\tINFO tune.py:759 -- Total run time: 48.37 seconds (48.24 seconds for the tuning loop).\n"
          ]
        },
        {
          "output_type": "display_data",
          "data": {
            "text/html": [
              "<html>\n",
              "<head><meta charset=\"utf-8\" /></head>\n",
              "<body>\n",
              "    <div>            <script src=\"https://cdnjs.cloudflare.com/ajax/libs/mathjax/2.7.5/MathJax.js?config=TeX-AMS-MML_SVG\"></script><script type=\"text/javascript\">if (window.MathJax) {MathJax.Hub.Config({SVG: {font: \"STIX-Web\"}});}</script>                <script type=\"text/javascript\">window.PlotlyConfig = {MathJaxConfig: 'local'};</script>\n",
              "        <script src=\"https://cdn.plot.ly/plotly-2.8.3.min.js\"></script>                <div id=\"f0642988-0e5e-42f9-acbe-5c4500124660\" class=\"plotly-graph-div\" style=\"height:525px; width:100%;\"></div>            <script type=\"text/javascript\">                                    window.PLOTLYENV=window.PLOTLYENV || {};                                    if (document.getElementById(\"f0642988-0e5e-42f9-acbe-5c4500124660\")) {                    Plotly.newPlot(                        \"f0642988-0e5e-42f9-acbe-5c4500124660\",                        [{\"dimensions\":[{\"label\":\"max_depth\",\"values\":[15,15,5,10,15,5,10,15,15,10]},{\"label\":\"n_estimators\",\"values\":[500,500,100,1000,500,1000,1000,500,1000,1000]},{\"label\":\"criterion_entropy\",\"values\":[1,0,0,1,1,0,0,1,0,0]},{\"label\":\"criterion_gini\",\"values\":[0,1,1,0,0,1,1,0,1,1]},{\"label\":\"neg_log_loss\",\"values\":[-0.4965335899568242,-0.4994398445806015,-0.4207061050418109,-0.435537001982407,-0.4965335899568242,-0.4202821732326796,-0.4368012910178562,-0.4965335899568242,-0.4977211895855252,-0.4368012910178562]},{\"label\":\"accuracy\",\"values\":[0.8002244668911335,0.7923681257014591,0.8294051627384961,0.8204264870931537,0.8002244668911335,0.8282828282828283,0.8170594837261503,0.8002244668911335,0.7957351290684623,0.8170594837261503]}],\"domain\":{\"x\":[0.0,1.0],\"y\":[0.0,1.0]},\"line\":{\"color\":[0.8002244668911335,0.7923681257014591,0.8294051627384961,0.8204264870931537,0.8002244668911335,0.8282828282828283,0.8170594837261503,0.8002244668911335,0.7957351290684623,0.8170594837261503],\"coloraxis\":\"coloraxis\"},\"name\":\"\",\"type\":\"parcoords\"}],                        {\"template\":{\"data\":{\"bar\":[{\"error_x\":{\"color\":\"#2a3f5f\"},\"error_y\":{\"color\":\"#2a3f5f\"},\"marker\":{\"line\":{\"color\":\"#E5ECF6\",\"width\":0.5},\"pattern\":{\"fillmode\":\"overlay\",\"size\":10,\"solidity\":0.2}},\"type\":\"bar\"}],\"barpolar\":[{\"marker\":{\"line\":{\"color\":\"#E5ECF6\",\"width\":0.5},\"pattern\":{\"fillmode\":\"overlay\",\"size\":10,\"solidity\":0.2}},\"type\":\"barpolar\"}],\"carpet\":[{\"aaxis\":{\"endlinecolor\":\"#2a3f5f\",\"gridcolor\":\"white\",\"linecolor\":\"white\",\"minorgridcolor\":\"white\",\"startlinecolor\":\"#2a3f5f\"},\"baxis\":{\"endlinecolor\":\"#2a3f5f\",\"gridcolor\":\"white\",\"linecolor\":\"white\",\"minorgridcolor\":\"white\",\"startlinecolor\":\"#2a3f5f\"},\"type\":\"carpet\"}],\"choropleth\":[{\"colorbar\":{\"outlinewidth\":0,\"ticks\":\"\"},\"type\":\"choropleth\"}],\"contour\":[{\"colorbar\":{\"outlinewidth\":0,\"ticks\":\"\"},\"colorscale\":[[0.0,\"#0d0887\"],[0.1111111111111111,\"#46039f\"],[0.2222222222222222,\"#7201a8\"],[0.3333333333333333,\"#9c179e\"],[0.4444444444444444,\"#bd3786\"],[0.5555555555555556,\"#d8576b\"],[0.6666666666666666,\"#ed7953\"],[0.7777777777777778,\"#fb9f3a\"],[0.8888888888888888,\"#fdca26\"],[1.0,\"#f0f921\"]],\"type\":\"contour\"}],\"contourcarpet\":[{\"colorbar\":{\"outlinewidth\":0,\"ticks\":\"\"},\"type\":\"contourcarpet\"}],\"heatmap\":[{\"colorbar\":{\"outlinewidth\":0,\"ticks\":\"\"},\"colorscale\":[[0.0,\"#0d0887\"],[0.1111111111111111,\"#46039f\"],[0.2222222222222222,\"#7201a8\"],[0.3333333333333333,\"#9c179e\"],[0.4444444444444444,\"#bd3786\"],[0.5555555555555556,\"#d8576b\"],[0.6666666666666666,\"#ed7953\"],[0.7777777777777778,\"#fb9f3a\"],[0.8888888888888888,\"#fdca26\"],[1.0,\"#f0f921\"]],\"type\":\"heatmap\"}],\"heatmapgl\":[{\"colorbar\":{\"outlinewidth\":0,\"ticks\":\"\"},\"colorscale\":[[0.0,\"#0d0887\"],[0.1111111111111111,\"#46039f\"],[0.2222222222222222,\"#7201a8\"],[0.3333333333333333,\"#9c179e\"],[0.4444444444444444,\"#bd3786\"],[0.5555555555555556,\"#d8576b\"],[0.6666666666666666,\"#ed7953\"],[0.7777777777777778,\"#fb9f3a\"],[0.8888888888888888,\"#fdca26\"],[1.0,\"#f0f921\"]],\"type\":\"heatmapgl\"}],\"histogram\":[{\"marker\":{\"pattern\":{\"fillmode\":\"overlay\",\"size\":10,\"solidity\":0.2}},\"type\":\"histogram\"}],\"histogram2d\":[{\"colorbar\":{\"outlinewidth\":0,\"ticks\":\"\"},\"colorscale\":[[0.0,\"#0d0887\"],[0.1111111111111111,\"#46039f\"],[0.2222222222222222,\"#7201a8\"],[0.3333333333333333,\"#9c179e\"],[0.4444444444444444,\"#bd3786\"],[0.5555555555555556,\"#d8576b\"],[0.6666666666666666,\"#ed7953\"],[0.7777777777777778,\"#fb9f3a\"],[0.8888888888888888,\"#fdca26\"],[1.0,\"#f0f921\"]],\"type\":\"histogram2d\"}],\"histogram2dcontour\":[{\"colorbar\":{\"outlinewidth\":0,\"ticks\":\"\"},\"colorscale\":[[0.0,\"#0d0887\"],[0.1111111111111111,\"#46039f\"],[0.2222222222222222,\"#7201a8\"],[0.3333333333333333,\"#9c179e\"],[0.4444444444444444,\"#bd3786\"],[0.5555555555555556,\"#d8576b\"],[0.6666666666666666,\"#ed7953\"],[0.7777777777777778,\"#fb9f3a\"],[0.8888888888888888,\"#fdca26\"],[1.0,\"#f0f921\"]],\"type\":\"histogram2dcontour\"}],\"mesh3d\":[{\"colorbar\":{\"outlinewidth\":0,\"ticks\":\"\"},\"type\":\"mesh3d\"}],\"parcoords\":[{\"line\":{\"colorbar\":{\"outlinewidth\":0,\"ticks\":\"\"}},\"type\":\"parcoords\"}],\"pie\":[{\"automargin\":true,\"type\":\"pie\"}],\"scatter\":[{\"marker\":{\"colorbar\":{\"outlinewidth\":0,\"ticks\":\"\"}},\"type\":\"scatter\"}],\"scatter3d\":[{\"line\":{\"colorbar\":{\"outlinewidth\":0,\"ticks\":\"\"}},\"marker\":{\"colorbar\":{\"outlinewidth\":0,\"ticks\":\"\"}},\"type\":\"scatter3d\"}],\"scattercarpet\":[{\"marker\":{\"colorbar\":{\"outlinewidth\":0,\"ticks\":\"\"}},\"type\":\"scattercarpet\"}],\"scattergeo\":[{\"marker\":{\"colorbar\":{\"outlinewidth\":0,\"ticks\":\"\"}},\"type\":\"scattergeo\"}],\"scattergl\":[{\"marker\":{\"colorbar\":{\"outlinewidth\":0,\"ticks\":\"\"}},\"type\":\"scattergl\"}],\"scattermapbox\":[{\"marker\":{\"colorbar\":{\"outlinewidth\":0,\"ticks\":\"\"}},\"type\":\"scattermapbox\"}],\"scatterpolar\":[{\"marker\":{\"colorbar\":{\"outlinewidth\":0,\"ticks\":\"\"}},\"type\":\"scatterpolar\"}],\"scatterpolargl\":[{\"marker\":{\"colorbar\":{\"outlinewidth\":0,\"ticks\":\"\"}},\"type\":\"scatterpolargl\"}],\"scatterternary\":[{\"marker\":{\"colorbar\":{\"outlinewidth\":0,\"ticks\":\"\"}},\"type\":\"scatterternary\"}],\"surface\":[{\"colorbar\":{\"outlinewidth\":0,\"ticks\":\"\"},\"colorscale\":[[0.0,\"#0d0887\"],[0.1111111111111111,\"#46039f\"],[0.2222222222222222,\"#7201a8\"],[0.3333333333333333,\"#9c179e\"],[0.4444444444444444,\"#bd3786\"],[0.5555555555555556,\"#d8576b\"],[0.6666666666666666,\"#ed7953\"],[0.7777777777777778,\"#fb9f3a\"],[0.8888888888888888,\"#fdca26\"],[1.0,\"#f0f921\"]],\"type\":\"surface\"}],\"table\":[{\"cells\":{\"fill\":{\"color\":\"#EBF0F8\"},\"line\":{\"color\":\"white\"}},\"header\":{\"fill\":{\"color\":\"#C8D4E3\"},\"line\":{\"color\":\"white\"}},\"type\":\"table\"}]},\"layout\":{\"annotationdefaults\":{\"arrowcolor\":\"#2a3f5f\",\"arrowhead\":0,\"arrowwidth\":1},\"autotypenumbers\":\"strict\",\"coloraxis\":{\"colorbar\":{\"outlinewidth\":0,\"ticks\":\"\"}},\"colorscale\":{\"diverging\":[[0,\"#8e0152\"],[0.1,\"#c51b7d\"],[0.2,\"#de77ae\"],[0.3,\"#f1b6da\"],[0.4,\"#fde0ef\"],[0.5,\"#f7f7f7\"],[0.6,\"#e6f5d0\"],[0.7,\"#b8e186\"],[0.8,\"#7fbc41\"],[0.9,\"#4d9221\"],[1,\"#276419\"]],\"sequential\":[[0.0,\"#0d0887\"],[0.1111111111111111,\"#46039f\"],[0.2222222222222222,\"#7201a8\"],[0.3333333333333333,\"#9c179e\"],[0.4444444444444444,\"#bd3786\"],[0.5555555555555556,\"#d8576b\"],[0.6666666666666666,\"#ed7953\"],[0.7777777777777778,\"#fb9f3a\"],[0.8888888888888888,\"#fdca26\"],[1.0,\"#f0f921\"]],\"sequentialminus\":[[0.0,\"#0d0887\"],[0.1111111111111111,\"#46039f\"],[0.2222222222222222,\"#7201a8\"],[0.3333333333333333,\"#9c179e\"],[0.4444444444444444,\"#bd3786\"],[0.5555555555555556,\"#d8576b\"],[0.6666666666666666,\"#ed7953\"],[0.7777777777777778,\"#fb9f3a\"],[0.8888888888888888,\"#fdca26\"],[1.0,\"#f0f921\"]]},\"colorway\":[\"#636efa\",\"#EF553B\",\"#00cc96\",\"#ab63fa\",\"#FFA15A\",\"#19d3f3\",\"#FF6692\",\"#B6E880\",\"#FF97FF\",\"#FECB52\"],\"font\":{\"color\":\"#2a3f5f\"},\"geo\":{\"bgcolor\":\"white\",\"lakecolor\":\"white\",\"landcolor\":\"#E5ECF6\",\"showlakes\":true,\"showland\":true,\"subunitcolor\":\"white\"},\"hoverlabel\":{\"align\":\"left\"},\"hovermode\":\"closest\",\"mapbox\":{\"style\":\"light\"},\"paper_bgcolor\":\"white\",\"plot_bgcolor\":\"#E5ECF6\",\"polar\":{\"angularaxis\":{\"gridcolor\":\"white\",\"linecolor\":\"white\",\"ticks\":\"\"},\"bgcolor\":\"#E5ECF6\",\"radialaxis\":{\"gridcolor\":\"white\",\"linecolor\":\"white\",\"ticks\":\"\"}},\"scene\":{\"xaxis\":{\"backgroundcolor\":\"#E5ECF6\",\"gridcolor\":\"white\",\"gridwidth\":2,\"linecolor\":\"white\",\"showbackground\":true,\"ticks\":\"\",\"zerolinecolor\":\"white\"},\"yaxis\":{\"backgroundcolor\":\"#E5ECF6\",\"gridcolor\":\"white\",\"gridwidth\":2,\"linecolor\":\"white\",\"showbackground\":true,\"ticks\":\"\",\"zerolinecolor\":\"white\"},\"zaxis\":{\"backgroundcolor\":\"#E5ECF6\",\"gridcolor\":\"white\",\"gridwidth\":2,\"linecolor\":\"white\",\"showbackground\":true,\"ticks\":\"\",\"zerolinecolor\":\"white\"}},\"shapedefaults\":{\"line\":{\"color\":\"#2a3f5f\"}},\"ternary\":{\"aaxis\":{\"gridcolor\":\"white\",\"linecolor\":\"white\",\"ticks\":\"\"},\"baxis\":{\"gridcolor\":\"white\",\"linecolor\":\"white\",\"ticks\":\"\"},\"bgcolor\":\"#E5ECF6\",\"caxis\":{\"gridcolor\":\"white\",\"linecolor\":\"white\",\"ticks\":\"\"}},\"title\":{\"x\":0.05},\"xaxis\":{\"automargin\":true,\"gridcolor\":\"white\",\"linecolor\":\"white\",\"ticks\":\"\",\"title\":{\"standoff\":15},\"zerolinecolor\":\"white\",\"zerolinewidth\":2},\"yaxis\":{\"automargin\":true,\"gridcolor\":\"white\",\"linecolor\":\"white\",\"ticks\":\"\",\"title\":{\"standoff\":15},\"zerolinecolor\":\"white\",\"zerolinewidth\":2}}},\"coloraxis\":{\"colorbar\":{\"title\":{\"text\":\"accuracy\"}},\"colorscale\":[[0.0,\"#0d0887\"],[0.1111111111111111,\"#46039f\"],[0.2222222222222222,\"#7201a8\"],[0.3333333333333333,\"#9c179e\"],[0.4444444444444444,\"#bd3786\"],[0.5555555555555556,\"#d8576b\"],[0.6666666666666666,\"#ed7953\"],[0.7777777777777778,\"#fb9f3a\"],[0.8888888888888888,\"#fdca26\"],[1.0,\"#f0f921\"]]},\"legend\":{\"tracegroupgap\":0},\"margin\":{\"t\":60}},                        {\"responsive\": true}                    ).then(function(){\n",
              "                            \n",
              "var gd = document.getElementById('f0642988-0e5e-42f9-acbe-5c4500124660');\n",
              "var x = new MutationObserver(function (mutations, observer) {{\n",
              "        var display = window.getComputedStyle(gd).display;\n",
              "        if (!display || display === 'none') {{\n",
              "            console.log([gd, 'removed!']);\n",
              "            Plotly.purge(gd);\n",
              "            observer.disconnect();\n",
              "        }}\n",
              "}});\n",
              "\n",
              "// Listen for the removal of the full notebook cells\n",
              "var notebookContainer = gd.closest('#notebook-container');\n",
              "if (notebookContainer) {{\n",
              "    x.observe(notebookContainer, {childList: true});\n",
              "}}\n",
              "\n",
              "// Listen for the clearing of the current output cell\n",
              "var outputEl = gd.closest('.output');\n",
              "if (outputEl) {{\n",
              "    x.observe(outputEl, {childList: true});\n",
              "}}\n",
              "\n",
              "                        })                };                            </script>        </div>\n",
              "</body>\n",
              "</html>"
            ]
          },
          "metadata": {}
        }
      ]
    },
    {
      "cell_type": "markdown",
      "source": [
        "### > XGBoost"
      ],
      "metadata": {
        "id": "NGiWtM5NKhA-"
      }
    },
    {
      "cell_type": "code",
      "source": [
        "from tune_sklearn import TuneSearchCV\n",
        "from xgboost import XGBClassifier\n",
        "\n",
        "# Define 하이퍼 파라미터 값 후보\n",
        "parameters = {\n",
        "    'n_estimators': [100, 300, 500],\n",
        "    'learning_rate': [0.001, 0.01, 0.1],\n",
        "    'min_child_weight': [1, 5, 10],\n",
        "    'gamma': [0.5, 1, 2],\n",
        "    'subsample': [0.2, 0.6, 1.0],\n",
        "    'colsample_bytree': [0.6, 1.0],\n",
        "    'max_depth': [10, 15, 20],\n",
        "    'objective': ['binary:logistic'],\n",
        "    'random_state': [config['random_state']]\n",
        "}\n",
        "\n",
        "# Define 하이퍼 파라미터 튜닝 알고리즘\n",
        "tune_search = TuneSearchCV(\n",
        "    XGBClassifier(),\n",
        "    parameters,\n",
        "    search_optimization='hyperopt',\n",
        "    n_trials=20,\n",
        "    n_jobs=-1,\n",
        "    scoring=['neg_log_loss', 'accuracy'],\n",
        "    cv=config['cv_num'],\n",
        "    refit='accuracy',\n",
        "    early_stopping='ASHAScheduler',\n",
        "    verbose=1,\n",
        "    random_state=config['random_state']\n",
        "    )\n",
        "\n",
        "# Run 튜닝\n",
        "tune_search.fit(X_train, y_train)\n",
        "\n",
        "# Save Best 하이퍼 파라미터\n",
        "model_name = 'XGB'\n",
        "res_df = best_cv_result(tune_search, config, model_name)\n",
        "best_cv_df = pd.concat([best_cv_df, res_df], axis=0)\n",
        "\n",
        "# Visualize 튜닝 결과\n",
        "vis_tune_result(tune_search, 'accuracy')"
      ],
      "metadata": {
        "colab": {
          "base_uri": "https://localhost:8080/",
          "height": 719
        },
        "id": "YtJ5wlpu9j21",
        "outputId": "4d28f71e-f865-473c-c861-71674a46f084"
      },
      "execution_count": null,
      "outputs": [
        {
          "output_type": "display_data",
          "data": {
            "text/plain": [
              "<IPython.core.display.HTML object>"
            ],
            "text/html": [
              "== Status ==<br>Current time: 2022-10-24 08:42:30 (running for 00:00:18.14)<br>Memory usage on this node: 2.4/12.7 GiB<br>Using AsyncHyperBand: num_stopped=0\n",
              "Bracket: Iter 1.000: 0.829685746352413<br>Resources requested: 0/2 CPUs, 0/0 GPUs, 0.0/7.33 GiB heap, 0.0/3.67 GiB objects<br>Result logdir: /root/ray_results/_Trainable_2022-10-24_08-42-12<br>Number of trials: 20/20 (20 TERMINATED)<br><br>"
            ]
          },
          "metadata": {}
        },
        {
          "output_type": "stream",
          "name": "stderr",
          "text": [
            "2022-10-24 08:42:30,810\tINFO tune.py:759 -- Total run time: 18.37 seconds (18.08 seconds for the tuning loop).\n"
          ]
        },
        {
          "output_type": "display_data",
          "data": {
            "text/html": [
              "<html>\n",
              "<head><meta charset=\"utf-8\" /></head>\n",
              "<body>\n",
              "    <div>            <script src=\"https://cdnjs.cloudflare.com/ajax/libs/mathjax/2.7.5/MathJax.js?config=TeX-AMS-MML_SVG\"></script><script type=\"text/javascript\">if (window.MathJax) {MathJax.Hub.Config({SVG: {font: \"STIX-Web\"}});}</script>                <script type=\"text/javascript\">window.PlotlyConfig = {MathJaxConfig: 'local'};</script>\n",
              "        <script src=\"https://cdn.plot.ly/plotly-2.8.3.min.js\"></script>                <div id=\"8b7dd652-e81e-4fe3-964e-841b38bd4a31\" class=\"plotly-graph-div\" style=\"height:525px; width:100%;\"></div>            <script type=\"text/javascript\">                                    window.PLOTLYENV=window.PLOTLYENV || {};                                    if (document.getElementById(\"8b7dd652-e81e-4fe3-964e-841b38bd4a31\")) {                    Plotly.newPlot(                        \"8b7dd652-e81e-4fe3-964e-841b38bd4a31\",                        [{\"dimensions\":[{\"label\":\"colsample_bytree\",\"values\":[0.6,1.0,1.0,0.6,0.6,0.6,1.0,0.6,0.6,1.0,1.0,0.6,1.0,0.6,1.0,1.0,1.0,1.0,1.0,1.0]},{\"label\":\"gamma\",\"values\":[0.5,1.0,2.0,1.0,0.5,0.5,0.5,1.0,0.5,2.0,1.0,2.0,1.0,0.5,2.0,2.0,2.0,0.5,2.0,1.0]},{\"label\":\"learning_rate\",\"values\":[0.01,0.001,0.01,0.001,0.001,0.1,0.01,0.1,0.1,0.01,0.1,0.1,0.01,0.01,0.01,0.1,0.001,0.01,0.01,0.001]},{\"label\":\"max_depth\",\"values\":[20,20,20,15,20,10,20,15,10,20,10,10,20,15,20,15,15,20,15,20]},{\"label\":\"min_child_weight\",\"values\":[5,1,1,5,5,1,10,5,10,10,10,1,5,10,1,5,10,5,10,5]},{\"label\":\"n_estimators\",\"values\":[500,500,100,300,500,100,300,500,500,300,100,500,500,500,100,300,100,100,300,500]},{\"label\":\"subsample\",\"values\":[0.6,0.6,0.2,1.0,0.6,1.0,1.0,0.6,1.0,1.0,1.0,0.6,0.6,1.0,0.2,1.0,0.6,1.0,1.0,0.6]},{\"label\":\"neg_log_loss\",\"values\":[-0.4178942436672221,-0.5407736980754518,-0.495073766854208,-0.5927095403173556,-0.5566654314697792,-0.4572803982278472,-0.43564883974933727,-0.41616566909589997,-0.4191469498810711,-0.43797017607156413,-0.42544553287569786,-0.4330100569130349,-0.4164676567336793,-0.424869015649814,-0.495073766854208,-0.41928397718185656,-0.6557105481290121,-0.4802709041721491,-0.43797017607156413,-0.5500799343909746]},{\"label\":\"accuracy\",\"values\":[0.8260381593714926,0.8316498316498316,0.8226711560044894,0.8181818181818182,0.8125701459034792,0.8237934904601572,0.8058361391694725,0.8316498316498316,0.8316498316498316,0.8069584736251403,0.8226711560044894,0.8327721661054994,0.830527497194164,0.8249158249158249,0.8226711560044894,0.8294051627384961,0.7811447811447811,0.8114478114478114,0.8069584736251403,0.8148148148148149]}],\"domain\":{\"x\":[0.0,1.0],\"y\":[0.0,1.0]},\"line\":{\"color\":[0.8260381593714926,0.8316498316498316,0.8226711560044894,0.8181818181818182,0.8125701459034792,0.8237934904601572,0.8058361391694725,0.8316498316498316,0.8316498316498316,0.8069584736251403,0.8226711560044894,0.8327721661054994,0.830527497194164,0.8249158249158249,0.8226711560044894,0.8294051627384961,0.7811447811447811,0.8114478114478114,0.8069584736251403,0.8148148148148149],\"coloraxis\":\"coloraxis\"},\"name\":\"\",\"type\":\"parcoords\"}],                        {\"template\":{\"data\":{\"bar\":[{\"error_x\":{\"color\":\"#2a3f5f\"},\"error_y\":{\"color\":\"#2a3f5f\"},\"marker\":{\"line\":{\"color\":\"#E5ECF6\",\"width\":0.5},\"pattern\":{\"fillmode\":\"overlay\",\"size\":10,\"solidity\":0.2}},\"type\":\"bar\"}],\"barpolar\":[{\"marker\":{\"line\":{\"color\":\"#E5ECF6\",\"width\":0.5},\"pattern\":{\"fillmode\":\"overlay\",\"size\":10,\"solidity\":0.2}},\"type\":\"barpolar\"}],\"carpet\":[{\"aaxis\":{\"endlinecolor\":\"#2a3f5f\",\"gridcolor\":\"white\",\"linecolor\":\"white\",\"minorgridcolor\":\"white\",\"startlinecolor\":\"#2a3f5f\"},\"baxis\":{\"endlinecolor\":\"#2a3f5f\",\"gridcolor\":\"white\",\"linecolor\":\"white\",\"minorgridcolor\":\"white\",\"startlinecolor\":\"#2a3f5f\"},\"type\":\"carpet\"}],\"choropleth\":[{\"colorbar\":{\"outlinewidth\":0,\"ticks\":\"\"},\"type\":\"choropleth\"}],\"contour\":[{\"colorbar\":{\"outlinewidth\":0,\"ticks\":\"\"},\"colorscale\":[[0.0,\"#0d0887\"],[0.1111111111111111,\"#46039f\"],[0.2222222222222222,\"#7201a8\"],[0.3333333333333333,\"#9c179e\"],[0.4444444444444444,\"#bd3786\"],[0.5555555555555556,\"#d8576b\"],[0.6666666666666666,\"#ed7953\"],[0.7777777777777778,\"#fb9f3a\"],[0.8888888888888888,\"#fdca26\"],[1.0,\"#f0f921\"]],\"type\":\"contour\"}],\"contourcarpet\":[{\"colorbar\":{\"outlinewidth\":0,\"ticks\":\"\"},\"type\":\"contourcarpet\"}],\"heatmap\":[{\"colorbar\":{\"outlinewidth\":0,\"ticks\":\"\"},\"colorscale\":[[0.0,\"#0d0887\"],[0.1111111111111111,\"#46039f\"],[0.2222222222222222,\"#7201a8\"],[0.3333333333333333,\"#9c179e\"],[0.4444444444444444,\"#bd3786\"],[0.5555555555555556,\"#d8576b\"],[0.6666666666666666,\"#ed7953\"],[0.7777777777777778,\"#fb9f3a\"],[0.8888888888888888,\"#fdca26\"],[1.0,\"#f0f921\"]],\"type\":\"heatmap\"}],\"heatmapgl\":[{\"colorbar\":{\"outlinewidth\":0,\"ticks\":\"\"},\"colorscale\":[[0.0,\"#0d0887\"],[0.1111111111111111,\"#46039f\"],[0.2222222222222222,\"#7201a8\"],[0.3333333333333333,\"#9c179e\"],[0.4444444444444444,\"#bd3786\"],[0.5555555555555556,\"#d8576b\"],[0.6666666666666666,\"#ed7953\"],[0.7777777777777778,\"#fb9f3a\"],[0.8888888888888888,\"#fdca26\"],[1.0,\"#f0f921\"]],\"type\":\"heatmapgl\"}],\"histogram\":[{\"marker\":{\"pattern\":{\"fillmode\":\"overlay\",\"size\":10,\"solidity\":0.2}},\"type\":\"histogram\"}],\"histogram2d\":[{\"colorbar\":{\"outlinewidth\":0,\"ticks\":\"\"},\"colorscale\":[[0.0,\"#0d0887\"],[0.1111111111111111,\"#46039f\"],[0.2222222222222222,\"#7201a8\"],[0.3333333333333333,\"#9c179e\"],[0.4444444444444444,\"#bd3786\"],[0.5555555555555556,\"#d8576b\"],[0.6666666666666666,\"#ed7953\"],[0.7777777777777778,\"#fb9f3a\"],[0.8888888888888888,\"#fdca26\"],[1.0,\"#f0f921\"]],\"type\":\"histogram2d\"}],\"histogram2dcontour\":[{\"colorbar\":{\"outlinewidth\":0,\"ticks\":\"\"},\"colorscale\":[[0.0,\"#0d0887\"],[0.1111111111111111,\"#46039f\"],[0.2222222222222222,\"#7201a8\"],[0.3333333333333333,\"#9c179e\"],[0.4444444444444444,\"#bd3786\"],[0.5555555555555556,\"#d8576b\"],[0.6666666666666666,\"#ed7953\"],[0.7777777777777778,\"#fb9f3a\"],[0.8888888888888888,\"#fdca26\"],[1.0,\"#f0f921\"]],\"type\":\"histogram2dcontour\"}],\"mesh3d\":[{\"colorbar\":{\"outlinewidth\":0,\"ticks\":\"\"},\"type\":\"mesh3d\"}],\"parcoords\":[{\"line\":{\"colorbar\":{\"outlinewidth\":0,\"ticks\":\"\"}},\"type\":\"parcoords\"}],\"pie\":[{\"automargin\":true,\"type\":\"pie\"}],\"scatter\":[{\"marker\":{\"colorbar\":{\"outlinewidth\":0,\"ticks\":\"\"}},\"type\":\"scatter\"}],\"scatter3d\":[{\"line\":{\"colorbar\":{\"outlinewidth\":0,\"ticks\":\"\"}},\"marker\":{\"colorbar\":{\"outlinewidth\":0,\"ticks\":\"\"}},\"type\":\"scatter3d\"}],\"scattercarpet\":[{\"marker\":{\"colorbar\":{\"outlinewidth\":0,\"ticks\":\"\"}},\"type\":\"scattercarpet\"}],\"scattergeo\":[{\"marker\":{\"colorbar\":{\"outlinewidth\":0,\"ticks\":\"\"}},\"type\":\"scattergeo\"}],\"scattergl\":[{\"marker\":{\"colorbar\":{\"outlinewidth\":0,\"ticks\":\"\"}},\"type\":\"scattergl\"}],\"scattermapbox\":[{\"marker\":{\"colorbar\":{\"outlinewidth\":0,\"ticks\":\"\"}},\"type\":\"scattermapbox\"}],\"scatterpolar\":[{\"marker\":{\"colorbar\":{\"outlinewidth\":0,\"ticks\":\"\"}},\"type\":\"scatterpolar\"}],\"scatterpolargl\":[{\"marker\":{\"colorbar\":{\"outlinewidth\":0,\"ticks\":\"\"}},\"type\":\"scatterpolargl\"}],\"scatterternary\":[{\"marker\":{\"colorbar\":{\"outlinewidth\":0,\"ticks\":\"\"}},\"type\":\"scatterternary\"}],\"surface\":[{\"colorbar\":{\"outlinewidth\":0,\"ticks\":\"\"},\"colorscale\":[[0.0,\"#0d0887\"],[0.1111111111111111,\"#46039f\"],[0.2222222222222222,\"#7201a8\"],[0.3333333333333333,\"#9c179e\"],[0.4444444444444444,\"#bd3786\"],[0.5555555555555556,\"#d8576b\"],[0.6666666666666666,\"#ed7953\"],[0.7777777777777778,\"#fb9f3a\"],[0.8888888888888888,\"#fdca26\"],[1.0,\"#f0f921\"]],\"type\":\"surface\"}],\"table\":[{\"cells\":{\"fill\":{\"color\":\"#EBF0F8\"},\"line\":{\"color\":\"white\"}},\"header\":{\"fill\":{\"color\":\"#C8D4E3\"},\"line\":{\"color\":\"white\"}},\"type\":\"table\"}]},\"layout\":{\"annotationdefaults\":{\"arrowcolor\":\"#2a3f5f\",\"arrowhead\":0,\"arrowwidth\":1},\"autotypenumbers\":\"strict\",\"coloraxis\":{\"colorbar\":{\"outlinewidth\":0,\"ticks\":\"\"}},\"colorscale\":{\"diverging\":[[0,\"#8e0152\"],[0.1,\"#c51b7d\"],[0.2,\"#de77ae\"],[0.3,\"#f1b6da\"],[0.4,\"#fde0ef\"],[0.5,\"#f7f7f7\"],[0.6,\"#e6f5d0\"],[0.7,\"#b8e186\"],[0.8,\"#7fbc41\"],[0.9,\"#4d9221\"],[1,\"#276419\"]],\"sequential\":[[0.0,\"#0d0887\"],[0.1111111111111111,\"#46039f\"],[0.2222222222222222,\"#7201a8\"],[0.3333333333333333,\"#9c179e\"],[0.4444444444444444,\"#bd3786\"],[0.5555555555555556,\"#d8576b\"],[0.6666666666666666,\"#ed7953\"],[0.7777777777777778,\"#fb9f3a\"],[0.8888888888888888,\"#fdca26\"],[1.0,\"#f0f921\"]],\"sequentialminus\":[[0.0,\"#0d0887\"],[0.1111111111111111,\"#46039f\"],[0.2222222222222222,\"#7201a8\"],[0.3333333333333333,\"#9c179e\"],[0.4444444444444444,\"#bd3786\"],[0.5555555555555556,\"#d8576b\"],[0.6666666666666666,\"#ed7953\"],[0.7777777777777778,\"#fb9f3a\"],[0.8888888888888888,\"#fdca26\"],[1.0,\"#f0f921\"]]},\"colorway\":[\"#636efa\",\"#EF553B\",\"#00cc96\",\"#ab63fa\",\"#FFA15A\",\"#19d3f3\",\"#FF6692\",\"#B6E880\",\"#FF97FF\",\"#FECB52\"],\"font\":{\"color\":\"#2a3f5f\"},\"geo\":{\"bgcolor\":\"white\",\"lakecolor\":\"white\",\"landcolor\":\"#E5ECF6\",\"showlakes\":true,\"showland\":true,\"subunitcolor\":\"white\"},\"hoverlabel\":{\"align\":\"left\"},\"hovermode\":\"closest\",\"mapbox\":{\"style\":\"light\"},\"paper_bgcolor\":\"white\",\"plot_bgcolor\":\"#E5ECF6\",\"polar\":{\"angularaxis\":{\"gridcolor\":\"white\",\"linecolor\":\"white\",\"ticks\":\"\"},\"bgcolor\":\"#E5ECF6\",\"radialaxis\":{\"gridcolor\":\"white\",\"linecolor\":\"white\",\"ticks\":\"\"}},\"scene\":{\"xaxis\":{\"backgroundcolor\":\"#E5ECF6\",\"gridcolor\":\"white\",\"gridwidth\":2,\"linecolor\":\"white\",\"showbackground\":true,\"ticks\":\"\",\"zerolinecolor\":\"white\"},\"yaxis\":{\"backgroundcolor\":\"#E5ECF6\",\"gridcolor\":\"white\",\"gridwidth\":2,\"linecolor\":\"white\",\"showbackground\":true,\"ticks\":\"\",\"zerolinecolor\":\"white\"},\"zaxis\":{\"backgroundcolor\":\"#E5ECF6\",\"gridcolor\":\"white\",\"gridwidth\":2,\"linecolor\":\"white\",\"showbackground\":true,\"ticks\":\"\",\"zerolinecolor\":\"white\"}},\"shapedefaults\":{\"line\":{\"color\":\"#2a3f5f\"}},\"ternary\":{\"aaxis\":{\"gridcolor\":\"white\",\"linecolor\":\"white\",\"ticks\":\"\"},\"baxis\":{\"gridcolor\":\"white\",\"linecolor\":\"white\",\"ticks\":\"\"},\"bgcolor\":\"#E5ECF6\",\"caxis\":{\"gridcolor\":\"white\",\"linecolor\":\"white\",\"ticks\":\"\"}},\"title\":{\"x\":0.05},\"xaxis\":{\"automargin\":true,\"gridcolor\":\"white\",\"linecolor\":\"white\",\"ticks\":\"\",\"title\":{\"standoff\":15},\"zerolinecolor\":\"white\",\"zerolinewidth\":2},\"yaxis\":{\"automargin\":true,\"gridcolor\":\"white\",\"linecolor\":\"white\",\"ticks\":\"\",\"title\":{\"standoff\":15},\"zerolinecolor\":\"white\",\"zerolinewidth\":2}}},\"coloraxis\":{\"colorbar\":{\"title\":{\"text\":\"accuracy\"}},\"colorscale\":[[0.0,\"#0d0887\"],[0.1111111111111111,\"#46039f\"],[0.2222222222222222,\"#7201a8\"],[0.3333333333333333,\"#9c179e\"],[0.4444444444444444,\"#bd3786\"],[0.5555555555555556,\"#d8576b\"],[0.6666666666666666,\"#ed7953\"],[0.7777777777777778,\"#fb9f3a\"],[0.8888888888888888,\"#fdca26\"],[1.0,\"#f0f921\"]]},\"legend\":{\"tracegroupgap\":0},\"margin\":{\"t\":60}},                        {\"responsive\": true}                    ).then(function(){\n",
              "                            \n",
              "var gd = document.getElementById('8b7dd652-e81e-4fe3-964e-841b38bd4a31');\n",
              "var x = new MutationObserver(function (mutations, observer) {{\n",
              "        var display = window.getComputedStyle(gd).display;\n",
              "        if (!display || display === 'none') {{\n",
              "            console.log([gd, 'removed!']);\n",
              "            Plotly.purge(gd);\n",
              "            observer.disconnect();\n",
              "        }}\n",
              "}});\n",
              "\n",
              "// Listen for the removal of the full notebook cells\n",
              "var notebookContainer = gd.closest('#notebook-container');\n",
              "if (notebookContainer) {{\n",
              "    x.observe(notebookContainer, {childList: true});\n",
              "}}\n",
              "\n",
              "// Listen for the clearing of the current output cell\n",
              "var outputEl = gd.closest('.output');\n",
              "if (outputEl) {{\n",
              "    x.observe(outputEl, {childList: true});\n",
              "}}\n",
              "\n",
              "                        })                };                            </script>        </div>\n",
              "</body>\n",
              "</html>"
            ]
          },
          "metadata": {}
        }
      ]
    },
    {
      "cell_type": "markdown",
      "source": [
        "### > Multi-layer perceptron"
      ],
      "metadata": {
        "id": "eMEkfLDXKmtD"
      }
    },
    {
      "cell_type": "code",
      "source": [
        "import torch\n",
        "from torch import nn\n",
        "from skorch import NeuralNetClassifier\n",
        "from skorch.callbacks import EarlyStopping\n",
        "from skorch.callbacks import EpochScoring\n",
        "from skorch.dataset import ValidSplit\n",
        "from tune_sklearn import TuneSearchCV\n",
        "\n",
        "# Define 모형 구조\n",
        "class MLP(nn.Module):\n",
        "    def __init__(self, num_inputs=X_train.shape[1], num_outputs=len(np.unique(y_train)), layer1=512, layer2=256, dropout1=0, dropout2=0):\n",
        "        super(MLP, self).__init__()\n",
        "        self.linear_relu_stack = nn.Sequential(\n",
        "            nn.Linear(num_inputs, layer1),\n",
        "            nn.LeakyReLU(),\n",
        "            nn.Dropout(dropout1),\n",
        "            nn.Linear(layer1, layer2),\n",
        "            nn.LeakyReLU(),\n",
        "            nn.Dropout(dropout2),\n",
        "            nn.Linear(layer2, num_outputs)\n",
        "            )\n",
        "    def forward(self, x):\n",
        "        y = self.linear_relu_stack(x)\n",
        "        return y\n",
        "\n",
        "def try_gpu(i=0): \n",
        "    return f'cuda:{i}' if torch.cuda.device_count() >= i + 1 else 'cpu'\n",
        "\n",
        "def use_gpu(device):\n",
        "    return True if not device == 'cpu' else False \n",
        "\n",
        "# EarlyStopping을 위한 train/valid split\n",
        "valid_split = ValidSplit(cv=5, stratified=True)\n",
        "\n",
        "# Set 모형 configurations\n",
        "mlp = NeuralNetClassifier(\n",
        "    MLP(num_inputs=X_train.shape[1], num_outputs=len(np.unique(y_train))),\n",
        "    optimizer=torch.optim.Adam,\n",
        "    criterion=nn.CrossEntropyLoss,\n",
        "    iterator_train__shuffle=True,\n",
        "    device=try_gpu(),\n",
        "    train_split=valid_split,\n",
        "    verbose=0,\n",
        "    callbacks=[\n",
        "        EpochScoring('f1', lower_is_better=False, on_train=False, name=\"valid_f1\"),\n",
        "        EarlyStopping(monitor='valid_f1', patience=5,\n",
        "                             threshold=1e-4, lower_is_better=False)\n",
        "    ]\n",
        ")\n",
        "\n",
        "# Define 하이퍼 파라미터 값 후보\n",
        "parameters = {\n",
        "    'lr': list(np.geomspace(1e-4, 1e-1, 4)),\n",
        "    'module__layer1': [32, 64, 128, 256],\n",
        "    'module__layer2': [32, 64, 128, 256],\n",
        "    'module__dropout1': [0, 0.1],\n",
        "    'module__dropout2': [0, 0.1],\n",
        "    'optimizer__weight_decay': [1e-7, 1e-4, 1e-1],\n",
        "    'max_epochs': [100],\n",
        "    'batch_size': [64, 128, 256]\n",
        "    }\n",
        "\n",
        "# Define 하이퍼 파라미터 튜닝 알고리즘\n",
        "tune_search = TuneSearchCV(\n",
        "    mlp, \n",
        "    parameters, \n",
        "    search_optimization='hyperopt',\n",
        "    n_trials=20,\n",
        "    n_jobs=-1,\n",
        "    scoring=['neg_log_loss', 'accuracy'],\n",
        "    cv=config['cv_num'],\n",
        "    refit='accuracy',\n",
        "    early_stopping='ASHAScheduler',\n",
        "    use_gpu = use_gpu(try_gpu()),\n",
        "    random_state=config['random_state'],\n",
        "    verbose=1,\n",
        "    )\n",
        "\n",
        "# Run 튜닝\n",
        "tune_search.fit(X_train, y_train)\n",
        "\n",
        "# Save Best 하이퍼 파라미터\n",
        "model_name = 'MLP'\n",
        "res_df = best_cv_result(tune_search, config, model_name)\n",
        "best_cv_df = pd.concat([best_cv_df, res_df], axis=0)\n",
        "\n",
        "# Visualize 튜닝 결과\n",
        "vis_tune_result(tune_search, 'accuracy')"
      ],
      "metadata": {
        "colab": {
          "base_uri": "https://localhost:8080/",
          "height": 862
        },
        "id": "4cW_KWDAdkDy",
        "outputId": "e7cd4123-c4a0-4109-bc80-b826b617a9b1"
      },
      "execution_count": null,
      "outputs": [
        {
          "output_type": "display_data",
          "data": {
            "text/plain": [
              "<IPython.core.display.HTML object>"
            ],
            "text/html": [
              "== Status ==<br>Current time: 2022-10-24 08:43:40 (running for 00:00:23.97)<br>Memory usage on this node: 2.6/12.7 GiB<br>Using AsyncHyperBand: num_stopped=0\n",
              "Bracket: Iter 1.000: 0.7965768799102132<br>Resources requested: 0/2 CPUs, 0/0 GPUs, 0.0/7.33 GiB heap, 0.0/3.67 GiB objects<br>Result logdir: /root/ray_results/_Trainable_2022-10-24_08-43-16<br>Number of trials: 20/20 (20 TERMINATED)<br><br>"
            ]
          },
          "metadata": {}
        },
        {
          "output_type": "stream",
          "name": "stderr",
          "text": [
            "\u001b[2m\u001b[36m(_Trainable pid=1359)\u001b[0m /usr/local/lib/python3.7/dist-packages/sklearn/metrics/_classification.py:2442: RuntimeWarning: divide by zero encountered in log\n",
            "\u001b[2m\u001b[36m(_Trainable pid=1359)\u001b[0m   loss = -(transformed_labels * np.log(y_pred)).sum(axis=1)\n",
            "\u001b[2m\u001b[36m(_Trainable pid=1359)\u001b[0m /usr/local/lib/python3.7/dist-packages/sklearn/metrics/_classification.py:2442: RuntimeWarning: invalid value encountered in multiply\n",
            "\u001b[2m\u001b[36m(_Trainable pid=1359)\u001b[0m   loss = -(transformed_labels * np.log(y_pred)).sum(axis=1)\n",
            "\u001b[2m\u001b[36m(_Trainable pid=1324)\u001b[0m /usr/local/lib/python3.7/dist-packages/sklearn/metrics/_classification.py:2442: RuntimeWarning: divide by zero encountered in log\n",
            "\u001b[2m\u001b[36m(_Trainable pid=1324)\u001b[0m   loss = -(transformed_labels * np.log(y_pred)).sum(axis=1)\n",
            "\u001b[2m\u001b[36m(_Trainable pid=1324)\u001b[0m /usr/local/lib/python3.7/dist-packages/sklearn/metrics/_classification.py:2442: RuntimeWarning: invalid value encountered in multiply\n",
            "\u001b[2m\u001b[36m(_Trainable pid=1324)\u001b[0m   loss = -(transformed_labels * np.log(y_pred)).sum(axis=1)\n",
            "2022-10-24 08:43:40,509\tINFO tune.py:759 -- Total run time: 24.21 seconds (23.87 seconds for the tuning loop).\n"
          ]
        },
        {
          "output_type": "display_data",
          "data": {
            "text/html": [
              "<html>\n",
              "<head><meta charset=\"utf-8\" /></head>\n",
              "<body>\n",
              "    <div>            <script src=\"https://cdnjs.cloudflare.com/ajax/libs/mathjax/2.7.5/MathJax.js?config=TeX-AMS-MML_SVG\"></script><script type=\"text/javascript\">if (window.MathJax) {MathJax.Hub.Config({SVG: {font: \"STIX-Web\"}});}</script>                <script type=\"text/javascript\">window.PlotlyConfig = {MathJaxConfig: 'local'};</script>\n",
              "        <script src=\"https://cdn.plot.ly/plotly-2.8.3.min.js\"></script>                <div id=\"8fc8c463-2a0a-4b51-a21b-b940acce5491\" class=\"plotly-graph-div\" style=\"height:525px; width:100%;\"></div>            <script type=\"text/javascript\">                                    window.PLOTLYENV=window.PLOTLYENV || {};                                    if (document.getElementById(\"8fc8c463-2a0a-4b51-a21b-b940acce5491\")) {                    Plotly.newPlot(                        \"8fc8c463-2a0a-4b51-a21b-b940acce5491\",                        [{\"dimensions\":[{\"label\":\"batch_size\",\"values\":[64,128,256,64,256,64,64,128,256,256,128,64,64,256,256,256,64,128,256,128]},{\"label\":\"lr\",\"values\":[0.001,0.0001,0.001,0.001,0.0001,0.1,0.001,0.1,0.0001,0.001,0.01,0.01,0.001,0.0001,0.001,0.1,0.01,0.1,0.1,0.1]},{\"label\":\"dropout1\",\"values\":[0.0,0.0,0.0,0.0,0.0,0.0,0.0,0.0,0.0,0.0,0.0,0.0,0.1,0.1,0.0,0.0,0.0,0.0,0.1,0.0]},{\"label\":\"dropout2\",\"values\":[0.1,0.0,0.0,0.1,0.0,0.0,0.0,0.1,0.0,0.1,0.0,0.0,0.0,0.1,0.1,0.1,0.1,0.1,0.1,0.0]},{\"label\":\"layer1\",\"values\":[128,128,32,64,64,32,64,64,128,128,256,32,64,128,32,64,128,64,128,64]},{\"label\":\"layer2\",\"values\":[256,256,256,64,128,32,256,128,128,64,32,128,128,128,32,64,32,32,64,128]},{\"label\":\"weight_decay\",\"values\":[0.0001,0.0001,1e-07,0.1,0.0001,0.1,0.1,0.0001,0.1,0.1,0.1,0.0001,0.0001,0.1,1e-07,0.1,0.0001,0.1,0.1,0.0001]},{\"label\":\"neg_log_loss\",\"values\":[-0.4327944695111259,-0.6042086949820737,-0.6101328868389665,-0.6240009832395582,-0.6806481045103233,-0.5653688927859436,-0.5465572284728991,null,-0.6849227495466419,-0.6463764360724341,-0.5175264650489613,-0.4416985945907023,-0.43613817918822,-0.6863057881627151,-0.6520312400043479,-0.5206116196081695,-0.4495591544468609,-0.5660390005636162,-0.5341453328645055,null]},{\"label\":\"accuracy\",\"values\":[0.7991021324354657,0.7059483726150392,0.6251402918069585,0.6161616161616161,0.5869809203142536,0.734006734006734,0.7272727272727272,0.8013468013468014,0.5656565656565656,0.6408529741863075,0.7811447811447811,0.8170594837261503,0.7957351290684623,0.5140291806958474,0.5925925925925926,0.7789001122334455,0.8092031425364757,0.7631874298540966,0.7744107744107745,0.8035914702581369]}],\"domain\":{\"x\":[0.0,1.0],\"y\":[0.0,1.0]},\"line\":{\"color\":[0.7991021324354657,0.7059483726150392,0.6251402918069585,0.6161616161616161,0.5869809203142536,0.734006734006734,0.7272727272727272,0.8013468013468014,0.5656565656565656,0.6408529741863075,0.7811447811447811,0.8170594837261503,0.7957351290684623,0.5140291806958474,0.5925925925925926,0.7789001122334455,0.8092031425364757,0.7631874298540966,0.7744107744107745,0.8035914702581369],\"coloraxis\":\"coloraxis\"},\"name\":\"\",\"type\":\"parcoords\"}],                        {\"template\":{\"data\":{\"bar\":[{\"error_x\":{\"color\":\"#2a3f5f\"},\"error_y\":{\"color\":\"#2a3f5f\"},\"marker\":{\"line\":{\"color\":\"#E5ECF6\",\"width\":0.5},\"pattern\":{\"fillmode\":\"overlay\",\"size\":10,\"solidity\":0.2}},\"type\":\"bar\"}],\"barpolar\":[{\"marker\":{\"line\":{\"color\":\"#E5ECF6\",\"width\":0.5},\"pattern\":{\"fillmode\":\"overlay\",\"size\":10,\"solidity\":0.2}},\"type\":\"barpolar\"}],\"carpet\":[{\"aaxis\":{\"endlinecolor\":\"#2a3f5f\",\"gridcolor\":\"white\",\"linecolor\":\"white\",\"minorgridcolor\":\"white\",\"startlinecolor\":\"#2a3f5f\"},\"baxis\":{\"endlinecolor\":\"#2a3f5f\",\"gridcolor\":\"white\",\"linecolor\":\"white\",\"minorgridcolor\":\"white\",\"startlinecolor\":\"#2a3f5f\"},\"type\":\"carpet\"}],\"choropleth\":[{\"colorbar\":{\"outlinewidth\":0,\"ticks\":\"\"},\"type\":\"choropleth\"}],\"contour\":[{\"colorbar\":{\"outlinewidth\":0,\"ticks\":\"\"},\"colorscale\":[[0.0,\"#0d0887\"],[0.1111111111111111,\"#46039f\"],[0.2222222222222222,\"#7201a8\"],[0.3333333333333333,\"#9c179e\"],[0.4444444444444444,\"#bd3786\"],[0.5555555555555556,\"#d8576b\"],[0.6666666666666666,\"#ed7953\"],[0.7777777777777778,\"#fb9f3a\"],[0.8888888888888888,\"#fdca26\"],[1.0,\"#f0f921\"]],\"type\":\"contour\"}],\"contourcarpet\":[{\"colorbar\":{\"outlinewidth\":0,\"ticks\":\"\"},\"type\":\"contourcarpet\"}],\"heatmap\":[{\"colorbar\":{\"outlinewidth\":0,\"ticks\":\"\"},\"colorscale\":[[0.0,\"#0d0887\"],[0.1111111111111111,\"#46039f\"],[0.2222222222222222,\"#7201a8\"],[0.3333333333333333,\"#9c179e\"],[0.4444444444444444,\"#bd3786\"],[0.5555555555555556,\"#d8576b\"],[0.6666666666666666,\"#ed7953\"],[0.7777777777777778,\"#fb9f3a\"],[0.8888888888888888,\"#fdca26\"],[1.0,\"#f0f921\"]],\"type\":\"heatmap\"}],\"heatmapgl\":[{\"colorbar\":{\"outlinewidth\":0,\"ticks\":\"\"},\"colorscale\":[[0.0,\"#0d0887\"],[0.1111111111111111,\"#46039f\"],[0.2222222222222222,\"#7201a8\"],[0.3333333333333333,\"#9c179e\"],[0.4444444444444444,\"#bd3786\"],[0.5555555555555556,\"#d8576b\"],[0.6666666666666666,\"#ed7953\"],[0.7777777777777778,\"#fb9f3a\"],[0.8888888888888888,\"#fdca26\"],[1.0,\"#f0f921\"]],\"type\":\"heatmapgl\"}],\"histogram\":[{\"marker\":{\"pattern\":{\"fillmode\":\"overlay\",\"size\":10,\"solidity\":0.2}},\"type\":\"histogram\"}],\"histogram2d\":[{\"colorbar\":{\"outlinewidth\":0,\"ticks\":\"\"},\"colorscale\":[[0.0,\"#0d0887\"],[0.1111111111111111,\"#46039f\"],[0.2222222222222222,\"#7201a8\"],[0.3333333333333333,\"#9c179e\"],[0.4444444444444444,\"#bd3786\"],[0.5555555555555556,\"#d8576b\"],[0.6666666666666666,\"#ed7953\"],[0.7777777777777778,\"#fb9f3a\"],[0.8888888888888888,\"#fdca26\"],[1.0,\"#f0f921\"]],\"type\":\"histogram2d\"}],\"histogram2dcontour\":[{\"colorbar\":{\"outlinewidth\":0,\"ticks\":\"\"},\"colorscale\":[[0.0,\"#0d0887\"],[0.1111111111111111,\"#46039f\"],[0.2222222222222222,\"#7201a8\"],[0.3333333333333333,\"#9c179e\"],[0.4444444444444444,\"#bd3786\"],[0.5555555555555556,\"#d8576b\"],[0.6666666666666666,\"#ed7953\"],[0.7777777777777778,\"#fb9f3a\"],[0.8888888888888888,\"#fdca26\"],[1.0,\"#f0f921\"]],\"type\":\"histogram2dcontour\"}],\"mesh3d\":[{\"colorbar\":{\"outlinewidth\":0,\"ticks\":\"\"},\"type\":\"mesh3d\"}],\"parcoords\":[{\"line\":{\"colorbar\":{\"outlinewidth\":0,\"ticks\":\"\"}},\"type\":\"parcoords\"}],\"pie\":[{\"automargin\":true,\"type\":\"pie\"}],\"scatter\":[{\"marker\":{\"colorbar\":{\"outlinewidth\":0,\"ticks\":\"\"}},\"type\":\"scatter\"}],\"scatter3d\":[{\"line\":{\"colorbar\":{\"outlinewidth\":0,\"ticks\":\"\"}},\"marker\":{\"colorbar\":{\"outlinewidth\":0,\"ticks\":\"\"}},\"type\":\"scatter3d\"}],\"scattercarpet\":[{\"marker\":{\"colorbar\":{\"outlinewidth\":0,\"ticks\":\"\"}},\"type\":\"scattercarpet\"}],\"scattergeo\":[{\"marker\":{\"colorbar\":{\"outlinewidth\":0,\"ticks\":\"\"}},\"type\":\"scattergeo\"}],\"scattergl\":[{\"marker\":{\"colorbar\":{\"outlinewidth\":0,\"ticks\":\"\"}},\"type\":\"scattergl\"}],\"scattermapbox\":[{\"marker\":{\"colorbar\":{\"outlinewidth\":0,\"ticks\":\"\"}},\"type\":\"scattermapbox\"}],\"scatterpolar\":[{\"marker\":{\"colorbar\":{\"outlinewidth\":0,\"ticks\":\"\"}},\"type\":\"scatterpolar\"}],\"scatterpolargl\":[{\"marker\":{\"colorbar\":{\"outlinewidth\":0,\"ticks\":\"\"}},\"type\":\"scatterpolargl\"}],\"scatterternary\":[{\"marker\":{\"colorbar\":{\"outlinewidth\":0,\"ticks\":\"\"}},\"type\":\"scatterternary\"}],\"surface\":[{\"colorbar\":{\"outlinewidth\":0,\"ticks\":\"\"},\"colorscale\":[[0.0,\"#0d0887\"],[0.1111111111111111,\"#46039f\"],[0.2222222222222222,\"#7201a8\"],[0.3333333333333333,\"#9c179e\"],[0.4444444444444444,\"#bd3786\"],[0.5555555555555556,\"#d8576b\"],[0.6666666666666666,\"#ed7953\"],[0.7777777777777778,\"#fb9f3a\"],[0.8888888888888888,\"#fdca26\"],[1.0,\"#f0f921\"]],\"type\":\"surface\"}],\"table\":[{\"cells\":{\"fill\":{\"color\":\"#EBF0F8\"},\"line\":{\"color\":\"white\"}},\"header\":{\"fill\":{\"color\":\"#C8D4E3\"},\"line\":{\"color\":\"white\"}},\"type\":\"table\"}]},\"layout\":{\"annotationdefaults\":{\"arrowcolor\":\"#2a3f5f\",\"arrowhead\":0,\"arrowwidth\":1},\"autotypenumbers\":\"strict\",\"coloraxis\":{\"colorbar\":{\"outlinewidth\":0,\"ticks\":\"\"}},\"colorscale\":{\"diverging\":[[0,\"#8e0152\"],[0.1,\"#c51b7d\"],[0.2,\"#de77ae\"],[0.3,\"#f1b6da\"],[0.4,\"#fde0ef\"],[0.5,\"#f7f7f7\"],[0.6,\"#e6f5d0\"],[0.7,\"#b8e186\"],[0.8,\"#7fbc41\"],[0.9,\"#4d9221\"],[1,\"#276419\"]],\"sequential\":[[0.0,\"#0d0887\"],[0.1111111111111111,\"#46039f\"],[0.2222222222222222,\"#7201a8\"],[0.3333333333333333,\"#9c179e\"],[0.4444444444444444,\"#bd3786\"],[0.5555555555555556,\"#d8576b\"],[0.6666666666666666,\"#ed7953\"],[0.7777777777777778,\"#fb9f3a\"],[0.8888888888888888,\"#fdca26\"],[1.0,\"#f0f921\"]],\"sequentialminus\":[[0.0,\"#0d0887\"],[0.1111111111111111,\"#46039f\"],[0.2222222222222222,\"#7201a8\"],[0.3333333333333333,\"#9c179e\"],[0.4444444444444444,\"#bd3786\"],[0.5555555555555556,\"#d8576b\"],[0.6666666666666666,\"#ed7953\"],[0.7777777777777778,\"#fb9f3a\"],[0.8888888888888888,\"#fdca26\"],[1.0,\"#f0f921\"]]},\"colorway\":[\"#636efa\",\"#EF553B\",\"#00cc96\",\"#ab63fa\",\"#FFA15A\",\"#19d3f3\",\"#FF6692\",\"#B6E880\",\"#FF97FF\",\"#FECB52\"],\"font\":{\"color\":\"#2a3f5f\"},\"geo\":{\"bgcolor\":\"white\",\"lakecolor\":\"white\",\"landcolor\":\"#E5ECF6\",\"showlakes\":true,\"showland\":true,\"subunitcolor\":\"white\"},\"hoverlabel\":{\"align\":\"left\"},\"hovermode\":\"closest\",\"mapbox\":{\"style\":\"light\"},\"paper_bgcolor\":\"white\",\"plot_bgcolor\":\"#E5ECF6\",\"polar\":{\"angularaxis\":{\"gridcolor\":\"white\",\"linecolor\":\"white\",\"ticks\":\"\"},\"bgcolor\":\"#E5ECF6\",\"radialaxis\":{\"gridcolor\":\"white\",\"linecolor\":\"white\",\"ticks\":\"\"}},\"scene\":{\"xaxis\":{\"backgroundcolor\":\"#E5ECF6\",\"gridcolor\":\"white\",\"gridwidth\":2,\"linecolor\":\"white\",\"showbackground\":true,\"ticks\":\"\",\"zerolinecolor\":\"white\"},\"yaxis\":{\"backgroundcolor\":\"#E5ECF6\",\"gridcolor\":\"white\",\"gridwidth\":2,\"linecolor\":\"white\",\"showbackground\":true,\"ticks\":\"\",\"zerolinecolor\":\"white\"},\"zaxis\":{\"backgroundcolor\":\"#E5ECF6\",\"gridcolor\":\"white\",\"gridwidth\":2,\"linecolor\":\"white\",\"showbackground\":true,\"ticks\":\"\",\"zerolinecolor\":\"white\"}},\"shapedefaults\":{\"line\":{\"color\":\"#2a3f5f\"}},\"ternary\":{\"aaxis\":{\"gridcolor\":\"white\",\"linecolor\":\"white\",\"ticks\":\"\"},\"baxis\":{\"gridcolor\":\"white\",\"linecolor\":\"white\",\"ticks\":\"\"},\"bgcolor\":\"#E5ECF6\",\"caxis\":{\"gridcolor\":\"white\",\"linecolor\":\"white\",\"ticks\":\"\"}},\"title\":{\"x\":0.05},\"xaxis\":{\"automargin\":true,\"gridcolor\":\"white\",\"linecolor\":\"white\",\"ticks\":\"\",\"title\":{\"standoff\":15},\"zerolinecolor\":\"white\",\"zerolinewidth\":2},\"yaxis\":{\"automargin\":true,\"gridcolor\":\"white\",\"linecolor\":\"white\",\"ticks\":\"\",\"title\":{\"standoff\":15},\"zerolinecolor\":\"white\",\"zerolinewidth\":2}}},\"coloraxis\":{\"colorbar\":{\"title\":{\"text\":\"accuracy\"}},\"colorscale\":[[0.0,\"#0d0887\"],[0.1111111111111111,\"#46039f\"],[0.2222222222222222,\"#7201a8\"],[0.3333333333333333,\"#9c179e\"],[0.4444444444444444,\"#bd3786\"],[0.5555555555555556,\"#d8576b\"],[0.6666666666666666,\"#ed7953\"],[0.7777777777777778,\"#fb9f3a\"],[0.8888888888888888,\"#fdca26\"],[1.0,\"#f0f921\"]]},\"legend\":{\"tracegroupgap\":0},\"margin\":{\"t\":60}},                        {\"responsive\": true}                    ).then(function(){\n",
              "                            \n",
              "var gd = document.getElementById('8fc8c463-2a0a-4b51-a21b-b940acce5491');\n",
              "var x = new MutationObserver(function (mutations, observer) {{\n",
              "        var display = window.getComputedStyle(gd).display;\n",
              "        if (!display || display === 'none') {{\n",
              "            console.log([gd, 'removed!']);\n",
              "            Plotly.purge(gd);\n",
              "            observer.disconnect();\n",
              "        }}\n",
              "}});\n",
              "\n",
              "// Listen for the removal of the full notebook cells\n",
              "var notebookContainer = gd.closest('#notebook-container');\n",
              "if (notebookContainer) {{\n",
              "    x.observe(notebookContainer, {childList: true});\n",
              "}}\n",
              "\n",
              "// Listen for the clearing of the current output cell\n",
              "var outputEl = gd.closest('.output');\n",
              "if (outputEl) {{\n",
              "    x.observe(outputEl, {childList: true});\n",
              "}}\n",
              "\n",
              "                        })                };                            </script>        </div>\n",
              "</body>\n",
              "</html>"
            ]
          },
          "metadata": {}
        }
      ]
    },
    {
      "cell_type": "markdown",
      "source": [
        "### > (1차) CV 결과 비교\n",
        "\n",
        "- 최적의 하이퍼 파라미터를 바탕으로 측정된 CV 결과를 비교\n",
        "- 아래 그림을 바탕으로 모형의 순위 확인 (CV 평균 accuracy 기준)\n",
        "  - XGB > RF > MLP > Logistic\n",
        "\n",
        "- 따라서 xgb를 우리의 최종 모형으로 결정"
      ],
      "metadata": {
        "id": "v4BlrQ6XK0ol"
      }
    },
    {
      "cell_type": "code",
      "source": [
        "best_cv_df.groupby('model')['accuracy'].mean().sort_values(ascending=False)"
      ],
      "metadata": {
        "colab": {
          "base_uri": "https://localhost:8080/"
        },
        "id": "fnt7uAoAKct7",
        "outputId": "487eb73f-7657-4be9-88e9-9adeb603323f"
      },
      "execution_count": null,
      "outputs": [
        {
          "output_type": "execute_result",
          "data": {
            "text/plain": [
              "model\n",
              "XGB         0.832772\n",
              "RF          0.829405\n",
              "MLP         0.817059\n",
              "logistic    0.786756\n",
              "Name: accuracy, dtype: float64"
            ]
          },
          "metadata": {},
          "execution_count": 47
        }
      ]
    },
    {
      "cell_type": "code",
      "source": [
        "fig = px.box(best_cv_df, x='model', y='accuracy', color='model', width=600)\n",
        "fig.show()"
      ],
      "metadata": {
        "colab": {
          "base_uri": "https://localhost:8080/",
          "height": 542
        },
        "id": "j3ChoU4xQOK8",
        "outputId": "4af003bd-9caa-4d79-eb69-ff60554169d2"
      },
      "execution_count": null,
      "outputs": [
        {
          "output_type": "display_data",
          "data": {
            "text/html": [
              "<html>\n",
              "<head><meta charset=\"utf-8\" /></head>\n",
              "<body>\n",
              "    <div>            <script src=\"https://cdnjs.cloudflare.com/ajax/libs/mathjax/2.7.5/MathJax.js?config=TeX-AMS-MML_SVG\"></script><script type=\"text/javascript\">if (window.MathJax) {MathJax.Hub.Config({SVG: {font: \"STIX-Web\"}});}</script>                <script type=\"text/javascript\">window.PlotlyConfig = {MathJaxConfig: 'local'};</script>\n",
              "        <script src=\"https://cdn.plot.ly/plotly-2.8.3.min.js\"></script>                <div id=\"9701e459-5aa9-41ad-a4f3-778986d2f6d4\" class=\"plotly-graph-div\" style=\"height:525px; width:600px;\"></div>            <script type=\"text/javascript\">                                    window.PLOTLYENV=window.PLOTLYENV || {};                                    if (document.getElementById(\"9701e459-5aa9-41ad-a4f3-778986d2f6d4\")) {                    Plotly.newPlot(                        \"9701e459-5aa9-41ad-a4f3-778986d2f6d4\",                        [{\"alignmentgroup\":\"True\",\"hovertemplate\":\"model=%{x}<br>accuracy=%{y}<extra></extra>\",\"legendgroup\":\"logistic\",\"marker\":{\"color\":\"#636efa\"},\"name\":\"logistic\",\"notched\":false,\"offsetgroup\":\"logistic\",\"orientation\":\"v\",\"showlegend\":true,\"x\":[\"logistic\",\"logistic\",\"logistic\"],\"x0\":\" \",\"xaxis\":\"x\",\"y\":[0.7878787878787878,0.8013468013468014,0.7710437710437711],\"y0\":\" \",\"yaxis\":\"y\",\"type\":\"box\"},{\"alignmentgroup\":\"True\",\"hovertemplate\":\"model=%{x}<br>accuracy=%{y}<extra></extra>\",\"legendgroup\":\"RF\",\"marker\":{\"color\":\"#EF553B\"},\"name\":\"RF\",\"notched\":false,\"offsetgroup\":\"RF\",\"orientation\":\"v\",\"showlegend\":true,\"x\":[\"RF\",\"RF\",\"RF\"],\"x0\":\" \",\"xaxis\":\"x\",\"y\":[0.8148148148148148,0.8451178451178452,0.8282828282828283],\"y0\":\" \",\"yaxis\":\"y\",\"type\":\"box\"},{\"alignmentgroup\":\"True\",\"hovertemplate\":\"model=%{x}<br>accuracy=%{y}<extra></extra>\",\"legendgroup\":\"XGB\",\"marker\":{\"color\":\"#00cc96\"},\"name\":\"XGB\",\"notched\":false,\"offsetgroup\":\"XGB\",\"orientation\":\"v\",\"showlegend\":true,\"x\":[\"XGB\",\"XGB\",\"XGB\"],\"x0\":\" \",\"xaxis\":\"x\",\"y\":[0.8013468013468014,0.8585858585858586,0.8383838383838383],\"y0\":\" \",\"yaxis\":\"y\",\"type\":\"box\"},{\"alignmentgroup\":\"True\",\"hovertemplate\":\"model=%{x}<br>accuracy=%{y}<extra></extra>\",\"legendgroup\":\"MLP\",\"marker\":{\"color\":\"#ab63fa\"},\"name\":\"MLP\",\"notched\":false,\"offsetgroup\":\"MLP\",\"orientation\":\"v\",\"showlegend\":true,\"x\":[\"MLP\",\"MLP\",\"MLP\"],\"x0\":\" \",\"xaxis\":\"x\",\"y\":[0.7744107744107744,0.8451178451178452,0.8316498316498316],\"y0\":\" \",\"yaxis\":\"y\",\"type\":\"box\"}],                        {\"template\":{\"data\":{\"bar\":[{\"error_x\":{\"color\":\"#2a3f5f\"},\"error_y\":{\"color\":\"#2a3f5f\"},\"marker\":{\"line\":{\"color\":\"#E5ECF6\",\"width\":0.5},\"pattern\":{\"fillmode\":\"overlay\",\"size\":10,\"solidity\":0.2}},\"type\":\"bar\"}],\"barpolar\":[{\"marker\":{\"line\":{\"color\":\"#E5ECF6\",\"width\":0.5},\"pattern\":{\"fillmode\":\"overlay\",\"size\":10,\"solidity\":0.2}},\"type\":\"barpolar\"}],\"carpet\":[{\"aaxis\":{\"endlinecolor\":\"#2a3f5f\",\"gridcolor\":\"white\",\"linecolor\":\"white\",\"minorgridcolor\":\"white\",\"startlinecolor\":\"#2a3f5f\"},\"baxis\":{\"endlinecolor\":\"#2a3f5f\",\"gridcolor\":\"white\",\"linecolor\":\"white\",\"minorgridcolor\":\"white\",\"startlinecolor\":\"#2a3f5f\"},\"type\":\"carpet\"}],\"choropleth\":[{\"colorbar\":{\"outlinewidth\":0,\"ticks\":\"\"},\"type\":\"choropleth\"}],\"contour\":[{\"colorbar\":{\"outlinewidth\":0,\"ticks\":\"\"},\"colorscale\":[[0.0,\"#0d0887\"],[0.1111111111111111,\"#46039f\"],[0.2222222222222222,\"#7201a8\"],[0.3333333333333333,\"#9c179e\"],[0.4444444444444444,\"#bd3786\"],[0.5555555555555556,\"#d8576b\"],[0.6666666666666666,\"#ed7953\"],[0.7777777777777778,\"#fb9f3a\"],[0.8888888888888888,\"#fdca26\"],[1.0,\"#f0f921\"]],\"type\":\"contour\"}],\"contourcarpet\":[{\"colorbar\":{\"outlinewidth\":0,\"ticks\":\"\"},\"type\":\"contourcarpet\"}],\"heatmap\":[{\"colorbar\":{\"outlinewidth\":0,\"ticks\":\"\"},\"colorscale\":[[0.0,\"#0d0887\"],[0.1111111111111111,\"#46039f\"],[0.2222222222222222,\"#7201a8\"],[0.3333333333333333,\"#9c179e\"],[0.4444444444444444,\"#bd3786\"],[0.5555555555555556,\"#d8576b\"],[0.6666666666666666,\"#ed7953\"],[0.7777777777777778,\"#fb9f3a\"],[0.8888888888888888,\"#fdca26\"],[1.0,\"#f0f921\"]],\"type\":\"heatmap\"}],\"heatmapgl\":[{\"colorbar\":{\"outlinewidth\":0,\"ticks\":\"\"},\"colorscale\":[[0.0,\"#0d0887\"],[0.1111111111111111,\"#46039f\"],[0.2222222222222222,\"#7201a8\"],[0.3333333333333333,\"#9c179e\"],[0.4444444444444444,\"#bd3786\"],[0.5555555555555556,\"#d8576b\"],[0.6666666666666666,\"#ed7953\"],[0.7777777777777778,\"#fb9f3a\"],[0.8888888888888888,\"#fdca26\"],[1.0,\"#f0f921\"]],\"type\":\"heatmapgl\"}],\"histogram\":[{\"marker\":{\"pattern\":{\"fillmode\":\"overlay\",\"size\":10,\"solidity\":0.2}},\"type\":\"histogram\"}],\"histogram2d\":[{\"colorbar\":{\"outlinewidth\":0,\"ticks\":\"\"},\"colorscale\":[[0.0,\"#0d0887\"],[0.1111111111111111,\"#46039f\"],[0.2222222222222222,\"#7201a8\"],[0.3333333333333333,\"#9c179e\"],[0.4444444444444444,\"#bd3786\"],[0.5555555555555556,\"#d8576b\"],[0.6666666666666666,\"#ed7953\"],[0.7777777777777778,\"#fb9f3a\"],[0.8888888888888888,\"#fdca26\"],[1.0,\"#f0f921\"]],\"type\":\"histogram2d\"}],\"histogram2dcontour\":[{\"colorbar\":{\"outlinewidth\":0,\"ticks\":\"\"},\"colorscale\":[[0.0,\"#0d0887\"],[0.1111111111111111,\"#46039f\"],[0.2222222222222222,\"#7201a8\"],[0.3333333333333333,\"#9c179e\"],[0.4444444444444444,\"#bd3786\"],[0.5555555555555556,\"#d8576b\"],[0.6666666666666666,\"#ed7953\"],[0.7777777777777778,\"#fb9f3a\"],[0.8888888888888888,\"#fdca26\"],[1.0,\"#f0f921\"]],\"type\":\"histogram2dcontour\"}],\"mesh3d\":[{\"colorbar\":{\"outlinewidth\":0,\"ticks\":\"\"},\"type\":\"mesh3d\"}],\"parcoords\":[{\"line\":{\"colorbar\":{\"outlinewidth\":0,\"ticks\":\"\"}},\"type\":\"parcoords\"}],\"pie\":[{\"automargin\":true,\"type\":\"pie\"}],\"scatter\":[{\"marker\":{\"colorbar\":{\"outlinewidth\":0,\"ticks\":\"\"}},\"type\":\"scatter\"}],\"scatter3d\":[{\"line\":{\"colorbar\":{\"outlinewidth\":0,\"ticks\":\"\"}},\"marker\":{\"colorbar\":{\"outlinewidth\":0,\"ticks\":\"\"}},\"type\":\"scatter3d\"}],\"scattercarpet\":[{\"marker\":{\"colorbar\":{\"outlinewidth\":0,\"ticks\":\"\"}},\"type\":\"scattercarpet\"}],\"scattergeo\":[{\"marker\":{\"colorbar\":{\"outlinewidth\":0,\"ticks\":\"\"}},\"type\":\"scattergeo\"}],\"scattergl\":[{\"marker\":{\"colorbar\":{\"outlinewidth\":0,\"ticks\":\"\"}},\"type\":\"scattergl\"}],\"scattermapbox\":[{\"marker\":{\"colorbar\":{\"outlinewidth\":0,\"ticks\":\"\"}},\"type\":\"scattermapbox\"}],\"scatterpolar\":[{\"marker\":{\"colorbar\":{\"outlinewidth\":0,\"ticks\":\"\"}},\"type\":\"scatterpolar\"}],\"scatterpolargl\":[{\"marker\":{\"colorbar\":{\"outlinewidth\":0,\"ticks\":\"\"}},\"type\":\"scatterpolargl\"}],\"scatterternary\":[{\"marker\":{\"colorbar\":{\"outlinewidth\":0,\"ticks\":\"\"}},\"type\":\"scatterternary\"}],\"surface\":[{\"colorbar\":{\"outlinewidth\":0,\"ticks\":\"\"},\"colorscale\":[[0.0,\"#0d0887\"],[0.1111111111111111,\"#46039f\"],[0.2222222222222222,\"#7201a8\"],[0.3333333333333333,\"#9c179e\"],[0.4444444444444444,\"#bd3786\"],[0.5555555555555556,\"#d8576b\"],[0.6666666666666666,\"#ed7953\"],[0.7777777777777778,\"#fb9f3a\"],[0.8888888888888888,\"#fdca26\"],[1.0,\"#f0f921\"]],\"type\":\"surface\"}],\"table\":[{\"cells\":{\"fill\":{\"color\":\"#EBF0F8\"},\"line\":{\"color\":\"white\"}},\"header\":{\"fill\":{\"color\":\"#C8D4E3\"},\"line\":{\"color\":\"white\"}},\"type\":\"table\"}]},\"layout\":{\"annotationdefaults\":{\"arrowcolor\":\"#2a3f5f\",\"arrowhead\":0,\"arrowwidth\":1},\"autotypenumbers\":\"strict\",\"coloraxis\":{\"colorbar\":{\"outlinewidth\":0,\"ticks\":\"\"}},\"colorscale\":{\"diverging\":[[0,\"#8e0152\"],[0.1,\"#c51b7d\"],[0.2,\"#de77ae\"],[0.3,\"#f1b6da\"],[0.4,\"#fde0ef\"],[0.5,\"#f7f7f7\"],[0.6,\"#e6f5d0\"],[0.7,\"#b8e186\"],[0.8,\"#7fbc41\"],[0.9,\"#4d9221\"],[1,\"#276419\"]],\"sequential\":[[0.0,\"#0d0887\"],[0.1111111111111111,\"#46039f\"],[0.2222222222222222,\"#7201a8\"],[0.3333333333333333,\"#9c179e\"],[0.4444444444444444,\"#bd3786\"],[0.5555555555555556,\"#d8576b\"],[0.6666666666666666,\"#ed7953\"],[0.7777777777777778,\"#fb9f3a\"],[0.8888888888888888,\"#fdca26\"],[1.0,\"#f0f921\"]],\"sequentialminus\":[[0.0,\"#0d0887\"],[0.1111111111111111,\"#46039f\"],[0.2222222222222222,\"#7201a8\"],[0.3333333333333333,\"#9c179e\"],[0.4444444444444444,\"#bd3786\"],[0.5555555555555556,\"#d8576b\"],[0.6666666666666666,\"#ed7953\"],[0.7777777777777778,\"#fb9f3a\"],[0.8888888888888888,\"#fdca26\"],[1.0,\"#f0f921\"]]},\"colorway\":[\"#636efa\",\"#EF553B\",\"#00cc96\",\"#ab63fa\",\"#FFA15A\",\"#19d3f3\",\"#FF6692\",\"#B6E880\",\"#FF97FF\",\"#FECB52\"],\"font\":{\"color\":\"#2a3f5f\"},\"geo\":{\"bgcolor\":\"white\",\"lakecolor\":\"white\",\"landcolor\":\"#E5ECF6\",\"showlakes\":true,\"showland\":true,\"subunitcolor\":\"white\"},\"hoverlabel\":{\"align\":\"left\"},\"hovermode\":\"closest\",\"mapbox\":{\"style\":\"light\"},\"paper_bgcolor\":\"white\",\"plot_bgcolor\":\"#E5ECF6\",\"polar\":{\"angularaxis\":{\"gridcolor\":\"white\",\"linecolor\":\"white\",\"ticks\":\"\"},\"bgcolor\":\"#E5ECF6\",\"radialaxis\":{\"gridcolor\":\"white\",\"linecolor\":\"white\",\"ticks\":\"\"}},\"scene\":{\"xaxis\":{\"backgroundcolor\":\"#E5ECF6\",\"gridcolor\":\"white\",\"gridwidth\":2,\"linecolor\":\"white\",\"showbackground\":true,\"ticks\":\"\",\"zerolinecolor\":\"white\"},\"yaxis\":{\"backgroundcolor\":\"#E5ECF6\",\"gridcolor\":\"white\",\"gridwidth\":2,\"linecolor\":\"white\",\"showbackground\":true,\"ticks\":\"\",\"zerolinecolor\":\"white\"},\"zaxis\":{\"backgroundcolor\":\"#E5ECF6\",\"gridcolor\":\"white\",\"gridwidth\":2,\"linecolor\":\"white\",\"showbackground\":true,\"ticks\":\"\",\"zerolinecolor\":\"white\"}},\"shapedefaults\":{\"line\":{\"color\":\"#2a3f5f\"}},\"ternary\":{\"aaxis\":{\"gridcolor\":\"white\",\"linecolor\":\"white\",\"ticks\":\"\"},\"baxis\":{\"gridcolor\":\"white\",\"linecolor\":\"white\",\"ticks\":\"\"},\"bgcolor\":\"#E5ECF6\",\"caxis\":{\"gridcolor\":\"white\",\"linecolor\":\"white\",\"ticks\":\"\"}},\"title\":{\"x\":0.05},\"xaxis\":{\"automargin\":true,\"gridcolor\":\"white\",\"linecolor\":\"white\",\"ticks\":\"\",\"title\":{\"standoff\":15},\"zerolinecolor\":\"white\",\"zerolinewidth\":2},\"yaxis\":{\"automargin\":true,\"gridcolor\":\"white\",\"linecolor\":\"white\",\"ticks\":\"\",\"title\":{\"standoff\":15},\"zerolinecolor\":\"white\",\"zerolinewidth\":2}}},\"xaxis\":{\"anchor\":\"y\",\"domain\":[0.0,1.0],\"title\":{\"text\":\"model\"},\"categoryorder\":\"array\",\"categoryarray\":[\"logistic\",\"RF\",\"XGB\",\"MLP\"]},\"yaxis\":{\"anchor\":\"x\",\"domain\":[0.0,1.0],\"title\":{\"text\":\"accuracy\"}},\"legend\":{\"title\":{\"text\":\"model\"},\"tracegroupgap\":0},\"margin\":{\"t\":60},\"boxmode\":\"overlay\",\"width\":600},                        {\"responsive\": true}                    ).then(function(){\n",
              "                            \n",
              "var gd = document.getElementById('9701e459-5aa9-41ad-a4f3-778986d2f6d4');\n",
              "var x = new MutationObserver(function (mutations, observer) {{\n",
              "        var display = window.getComputedStyle(gd).display;\n",
              "        if (!display || display === 'none') {{\n",
              "            console.log([gd, 'removed!']);\n",
              "            Plotly.purge(gd);\n",
              "            observer.disconnect();\n",
              "        }}\n",
              "}});\n",
              "\n",
              "// Listen for the removal of the full notebook cells\n",
              "var notebookContainer = gd.closest('#notebook-container');\n",
              "if (notebookContainer) {{\n",
              "    x.observe(notebookContainer, {childList: true});\n",
              "}}\n",
              "\n",
              "// Listen for the clearing of the current output cell\n",
              "var outputEl = gd.closest('.output');\n",
              "if (outputEl) {{\n",
              "    x.observe(outputEl, {childList: true});\n",
              "}}\n",
              "\n",
              "                        })                };                            </script>        </div>\n",
              "</body>\n",
              "</html>"
            ]
          },
          "metadata": {}
        }
      ]
    },
    {
      "cell_type": "markdown",
      "source": [
        "## 2.3. 모형 Ensemble\n",
        "\n",
        "\n",
        "위 결과를 바탕으로 최종 모형을 선택할 수도 있겠지만, 많은 경우 여러 모형의 예측 값 조합이 예측 성능 향상을 야기한다는 것이 관측됐습니다. ([Can multi-model combination really enhance the prediction skill of probabilistic ensemble forecasts?](https://rmets.onlinelibrary.wiley.com/doi/abs/10.1002/qj.210?casa_token=OwyF2RbEywAAAAAA:gahpwGRdOWzLXyafYQQt_voHOF8MedTBLd1SBv4vkdT3ZTLVoKZQj3zl-KbrhSkX5x8CndeCxwBoL_-S))\n",
        "\n",
        "classification 문제의 경우 각 class에 대한 예측 '확률'을 '적절한 방식'으로 조합하여 최종 확률을 도출합니다. <br>\n",
        "이 노트북에선 다음의 두가지 조합 방식을 이용합니다.\n",
        "\n",
        "1. Soft Voting\n",
        "2. Stacked Generalization (Stacking)\n",
        "\n",
        "Model comparison 역시 단일 모형과의 비교 및 조합 방법론간의 비교가 필요하기 때문에 위와 동일한 CV 방식을 적용해 모형 성능을 측정합니다."
      ],
      "metadata": {
        "id": "4n8Ah9ahKDDZ"
      }
    },
    {
      "cell_type": "markdown",
      "source": [
        "### > Soft Voting\n",
        "\n",
        "Soft Voting 방법은 여러 모형의 각 class에 대한 예측 확률 값을 '평균'해서 최종 확률 값을 도출합니다.\n",
        "\n",
        "이 때, 예측값 조합에 사용하는 모형들로는 위 CV 결과의 top 4 (rf, xgb, mlp, fm)로 선택합니다.\n",
        "\n",
        "Example)\n",
        "- Base Estimations\n",
        "  - $P_{logistic}(Y=1|X=x)$ = 0.80\n",
        "  - $P_{rf}(Y=1|X=x)$ = 0.75\n",
        "  - $P_{xgb}(Y=1|X=x)$ = 0.80\n",
        "  - $P_{mlp}(Y=1|X=x)$ = 0.85\n",
        "- Final Estimation\n",
        "  - $P_{average}(Y=1|X=x)$  = 0.8 (= 0.75 + 0.80 + 0.85 + 0.80 / 4)\n"
      ],
      "metadata": {
        "id": "Sf4wsWU4EHW-"
      }
    },
    {
      "cell_type": "code",
      "source": [
        "from sklearn.ensemble import VotingClassifier\n",
        "from sklearn.model_selection import cross_validate\n",
        "from sklearn.model_selection import StratifiedKFold\n",
        "import time\n",
        "\n",
        "start = time.time()\n",
        "\n",
        "# Define 모형 for Ensemble\n",
        "logistic = SGDClassifier(**eval(best_cv_df.loc[best_cv_df['model']=='logistic', 'best_hyper_param'].values[0]))\n",
        "rf = RandomForestClassifier(**eval(best_cv_df.loc[best_cv_df['model']=='RF', 'best_hyper_param'].values[0]))\n",
        "xgb = XGBClassifier(**eval(best_cv_df.loc[best_cv_df['model']=='XGB', 'best_hyper_param'].values[0]))\n",
        "mlp = mlp.set_params(**eval(best_cv_df.loc[best_cv_df['model']=='MLP', 'best_hyper_param'].values[0]))\n",
        "\n",
        "estimators = [\n",
        "    # ('Logistic', logistic),\n",
        "    ('RF', rf),\n",
        "    ('XGB', xgb),\n",
        "    ('MLP', mlp)\n",
        "]\n",
        "\n",
        "# Define Ensemble 방법론\n",
        "voting_clf = VotingClassifier(\n",
        "    estimators, \n",
        "    voting='soft'\n",
        ")\n",
        "\n",
        "# Run CV\n",
        "kf = StratifiedKFold(n_splits=config['cv_num'], random_state=config['random_state'], shuffle=True)\n",
        "\n",
        "cv_res = cross_validate(\n",
        "    voting_clf, \n",
        "    X_train, \n",
        "    y_train, \n",
        "    cv=kf,\n",
        "    n_jobs=-1, \n",
        "    scoring=['neg_log_loss', 'accuracy'],\n",
        "    verbose=1\n",
        ")\n",
        "\n",
        "# Save CV결과\n",
        "res_df = pd.DataFrame(cv_res)\n",
        "res_df = res_df.iloc[:,res_df.columns.str.startswith('test')]\n",
        "res_df.columns = res_df.columns.str.replace('test_', '')\n",
        "res_df['model'] = 'Vote_by_Logistic_logistic_RF_XGB_MLP'\n",
        "\n",
        "best_cv_df = pd.concat([best_cv_df, res_df], axis=0)\n",
        "\n",
        "print(\"time :\", time.time() - start) "
      ],
      "metadata": {
        "id": "6BAz-9QKtwnm",
        "colab": {
          "base_uri": "https://localhost:8080/"
        },
        "outputId": "8914c1aa-72e6-4e44-da80-2c9127187869"
      },
      "execution_count": null,
      "outputs": [
        {
          "output_type": "stream",
          "name": "stderr",
          "text": [
            "[Parallel(n_jobs=-1)]: Using backend LokyBackend with 2 concurrent workers.\n"
          ]
        },
        {
          "output_type": "stream",
          "name": "stdout",
          "text": [
            "time : 2.567948341369629\n"
          ]
        },
        {
          "output_type": "stream",
          "name": "stderr",
          "text": [
            "[Parallel(n_jobs=-1)]: Done   3 out of   3 | elapsed:    2.6s finished\n"
          ]
        }
      ]
    },
    {
      "cell_type": "code",
      "source": [
        "fig = px.box(best_cv_df, x='model', y='accuracy', color='model', width=600)\n",
        "fig.show()"
      ],
      "metadata": {
        "colab": {
          "base_uri": "https://localhost:8080/",
          "height": 542
        },
        "id": "WkaFHOEgvGZD",
        "outputId": "edd8bee6-22bf-47b7-cdaa-e139e4a7a29c"
      },
      "execution_count": null,
      "outputs": [
        {
          "output_type": "display_data",
          "data": {
            "text/html": [
              "<html>\n",
              "<head><meta charset=\"utf-8\" /></head>\n",
              "<body>\n",
              "    <div>            <script src=\"https://cdnjs.cloudflare.com/ajax/libs/mathjax/2.7.5/MathJax.js?config=TeX-AMS-MML_SVG\"></script><script type=\"text/javascript\">if (window.MathJax) {MathJax.Hub.Config({SVG: {font: \"STIX-Web\"}});}</script>                <script type=\"text/javascript\">window.PlotlyConfig = {MathJaxConfig: 'local'};</script>\n",
              "        <script src=\"https://cdn.plot.ly/plotly-2.8.3.min.js\"></script>                <div id=\"4dbb586f-7117-4bbf-853f-4485aa6d2e0a\" class=\"plotly-graph-div\" style=\"height:525px; width:600px;\"></div>            <script type=\"text/javascript\">                                    window.PLOTLYENV=window.PLOTLYENV || {};                                    if (document.getElementById(\"4dbb586f-7117-4bbf-853f-4485aa6d2e0a\")) {                    Plotly.newPlot(                        \"4dbb586f-7117-4bbf-853f-4485aa6d2e0a\",                        [{\"alignmentgroup\":\"True\",\"hovertemplate\":\"model=%{x}<br>accuracy=%{y}<extra></extra>\",\"legendgroup\":\"logistic\",\"marker\":{\"color\":\"#636efa\"},\"name\":\"logistic\",\"notched\":false,\"offsetgroup\":\"logistic\",\"orientation\":\"v\",\"showlegend\":true,\"x\":[\"logistic\",\"logistic\",\"logistic\"],\"x0\":\" \",\"xaxis\":\"x\",\"y\":[0.7878788113594055,0.8013467788696289,0.7710437774658203],\"y0\":\" \",\"yaxis\":\"y\",\"type\":\"box\"},{\"alignmentgroup\":\"True\",\"hovertemplate\":\"model=%{x}<br>accuracy=%{y}<extra></extra>\",\"legendgroup\":\"RF\",\"marker\":{\"color\":\"#EF553B\"},\"name\":\"RF\",\"notched\":false,\"offsetgroup\":\"RF\",\"orientation\":\"v\",\"showlegend\":true,\"x\":[\"RF\",\"RF\",\"RF\"],\"x0\":\" \",\"xaxis\":\"x\",\"y\":[0.8148148059844971,0.8451178669929504,0.8282828330993652],\"y0\":\" \",\"yaxis\":\"y\",\"type\":\"box\"},{\"alignmentgroup\":\"True\",\"hovertemplate\":\"model=%{x}<br>accuracy=%{y}<extra></extra>\",\"legendgroup\":\"XGB\",\"marker\":{\"color\":\"#00cc96\"},\"name\":\"XGB\",\"notched\":false,\"offsetgroup\":\"XGB\",\"orientation\":\"v\",\"showlegend\":true,\"x\":[\"XGB\",\"XGB\",\"XGB\"],\"x0\":\" \",\"xaxis\":\"x\",\"y\":[0.8013467788696289,0.8585858345031738,0.8383838534355164],\"y0\":\" \",\"yaxis\":\"y\",\"type\":\"box\"},{\"alignmentgroup\":\"True\",\"hovertemplate\":\"model=%{x}<br>accuracy=%{y}<extra></extra>\",\"legendgroup\":\"MLP\",\"marker\":{\"color\":\"#ab63fa\"},\"name\":\"MLP\",\"notched\":false,\"offsetgroup\":\"MLP\",\"orientation\":\"v\",\"showlegend\":true,\"x\":[\"MLP\",\"MLP\",\"MLP\"],\"x0\":\" \",\"xaxis\":\"x\",\"y\":[0.7744107842445374,0.8451178669929504,0.8316498398780823],\"y0\":\" \",\"yaxis\":\"y\",\"type\":\"box\"},{\"alignmentgroup\":\"True\",\"hovertemplate\":\"model=%{x}<br>accuracy=%{y}<extra></extra>\",\"legendgroup\":\"Vote_by_Logistic_logistic_RF_XGB_MLP\",\"marker\":{\"color\":\"#FFA15A\"},\"name\":\"Vote_by_Logistic_logistic_RF_XGB_MLP\",\"notched\":false,\"offsetgroup\":\"Vote_by_Logistic_logistic_RF_XGB_MLP\",\"orientation\":\"v\",\"showlegend\":true,\"x\":[\"Vote_by_Logistic_logistic_RF_XGB_MLP\",\"Vote_by_Logistic_logistic_RF_XGB_MLP\",\"Vote_by_Logistic_logistic_RF_XGB_MLP\"],\"x0\":\" \",\"xaxis\":\"x\",\"y\":[0.8451178451178452,0.797979797979798,0.8451178451178452],\"y0\":\" \",\"yaxis\":\"y\",\"type\":\"box\"}],                        {\"template\":{\"data\":{\"bar\":[{\"error_x\":{\"color\":\"#2a3f5f\"},\"error_y\":{\"color\":\"#2a3f5f\"},\"marker\":{\"line\":{\"color\":\"#E5ECF6\",\"width\":0.5},\"pattern\":{\"fillmode\":\"overlay\",\"size\":10,\"solidity\":0.2}},\"type\":\"bar\"}],\"barpolar\":[{\"marker\":{\"line\":{\"color\":\"#E5ECF6\",\"width\":0.5},\"pattern\":{\"fillmode\":\"overlay\",\"size\":10,\"solidity\":0.2}},\"type\":\"barpolar\"}],\"carpet\":[{\"aaxis\":{\"endlinecolor\":\"#2a3f5f\",\"gridcolor\":\"white\",\"linecolor\":\"white\",\"minorgridcolor\":\"white\",\"startlinecolor\":\"#2a3f5f\"},\"baxis\":{\"endlinecolor\":\"#2a3f5f\",\"gridcolor\":\"white\",\"linecolor\":\"white\",\"minorgridcolor\":\"white\",\"startlinecolor\":\"#2a3f5f\"},\"type\":\"carpet\"}],\"choropleth\":[{\"colorbar\":{\"outlinewidth\":0,\"ticks\":\"\"},\"type\":\"choropleth\"}],\"contour\":[{\"colorbar\":{\"outlinewidth\":0,\"ticks\":\"\"},\"colorscale\":[[0.0,\"#0d0887\"],[0.1111111111111111,\"#46039f\"],[0.2222222222222222,\"#7201a8\"],[0.3333333333333333,\"#9c179e\"],[0.4444444444444444,\"#bd3786\"],[0.5555555555555556,\"#d8576b\"],[0.6666666666666666,\"#ed7953\"],[0.7777777777777778,\"#fb9f3a\"],[0.8888888888888888,\"#fdca26\"],[1.0,\"#f0f921\"]],\"type\":\"contour\"}],\"contourcarpet\":[{\"colorbar\":{\"outlinewidth\":0,\"ticks\":\"\"},\"type\":\"contourcarpet\"}],\"heatmap\":[{\"colorbar\":{\"outlinewidth\":0,\"ticks\":\"\"},\"colorscale\":[[0.0,\"#0d0887\"],[0.1111111111111111,\"#46039f\"],[0.2222222222222222,\"#7201a8\"],[0.3333333333333333,\"#9c179e\"],[0.4444444444444444,\"#bd3786\"],[0.5555555555555556,\"#d8576b\"],[0.6666666666666666,\"#ed7953\"],[0.7777777777777778,\"#fb9f3a\"],[0.8888888888888888,\"#fdca26\"],[1.0,\"#f0f921\"]],\"type\":\"heatmap\"}],\"heatmapgl\":[{\"colorbar\":{\"outlinewidth\":0,\"ticks\":\"\"},\"colorscale\":[[0.0,\"#0d0887\"],[0.1111111111111111,\"#46039f\"],[0.2222222222222222,\"#7201a8\"],[0.3333333333333333,\"#9c179e\"],[0.4444444444444444,\"#bd3786\"],[0.5555555555555556,\"#d8576b\"],[0.6666666666666666,\"#ed7953\"],[0.7777777777777778,\"#fb9f3a\"],[0.8888888888888888,\"#fdca26\"],[1.0,\"#f0f921\"]],\"type\":\"heatmapgl\"}],\"histogram\":[{\"marker\":{\"pattern\":{\"fillmode\":\"overlay\",\"size\":10,\"solidity\":0.2}},\"type\":\"histogram\"}],\"histogram2d\":[{\"colorbar\":{\"outlinewidth\":0,\"ticks\":\"\"},\"colorscale\":[[0.0,\"#0d0887\"],[0.1111111111111111,\"#46039f\"],[0.2222222222222222,\"#7201a8\"],[0.3333333333333333,\"#9c179e\"],[0.4444444444444444,\"#bd3786\"],[0.5555555555555556,\"#d8576b\"],[0.6666666666666666,\"#ed7953\"],[0.7777777777777778,\"#fb9f3a\"],[0.8888888888888888,\"#fdca26\"],[1.0,\"#f0f921\"]],\"type\":\"histogram2d\"}],\"histogram2dcontour\":[{\"colorbar\":{\"outlinewidth\":0,\"ticks\":\"\"},\"colorscale\":[[0.0,\"#0d0887\"],[0.1111111111111111,\"#46039f\"],[0.2222222222222222,\"#7201a8\"],[0.3333333333333333,\"#9c179e\"],[0.4444444444444444,\"#bd3786\"],[0.5555555555555556,\"#d8576b\"],[0.6666666666666666,\"#ed7953\"],[0.7777777777777778,\"#fb9f3a\"],[0.8888888888888888,\"#fdca26\"],[1.0,\"#f0f921\"]],\"type\":\"histogram2dcontour\"}],\"mesh3d\":[{\"colorbar\":{\"outlinewidth\":0,\"ticks\":\"\"},\"type\":\"mesh3d\"}],\"parcoords\":[{\"line\":{\"colorbar\":{\"outlinewidth\":0,\"ticks\":\"\"}},\"type\":\"parcoords\"}],\"pie\":[{\"automargin\":true,\"type\":\"pie\"}],\"scatter\":[{\"marker\":{\"colorbar\":{\"outlinewidth\":0,\"ticks\":\"\"}},\"type\":\"scatter\"}],\"scatter3d\":[{\"line\":{\"colorbar\":{\"outlinewidth\":0,\"ticks\":\"\"}},\"marker\":{\"colorbar\":{\"outlinewidth\":0,\"ticks\":\"\"}},\"type\":\"scatter3d\"}],\"scattercarpet\":[{\"marker\":{\"colorbar\":{\"outlinewidth\":0,\"ticks\":\"\"}},\"type\":\"scattercarpet\"}],\"scattergeo\":[{\"marker\":{\"colorbar\":{\"outlinewidth\":0,\"ticks\":\"\"}},\"type\":\"scattergeo\"}],\"scattergl\":[{\"marker\":{\"colorbar\":{\"outlinewidth\":0,\"ticks\":\"\"}},\"type\":\"scattergl\"}],\"scattermapbox\":[{\"marker\":{\"colorbar\":{\"outlinewidth\":0,\"ticks\":\"\"}},\"type\":\"scattermapbox\"}],\"scatterpolar\":[{\"marker\":{\"colorbar\":{\"outlinewidth\":0,\"ticks\":\"\"}},\"type\":\"scatterpolar\"}],\"scatterpolargl\":[{\"marker\":{\"colorbar\":{\"outlinewidth\":0,\"ticks\":\"\"}},\"type\":\"scatterpolargl\"}],\"scatterternary\":[{\"marker\":{\"colorbar\":{\"outlinewidth\":0,\"ticks\":\"\"}},\"type\":\"scatterternary\"}],\"surface\":[{\"colorbar\":{\"outlinewidth\":0,\"ticks\":\"\"},\"colorscale\":[[0.0,\"#0d0887\"],[0.1111111111111111,\"#46039f\"],[0.2222222222222222,\"#7201a8\"],[0.3333333333333333,\"#9c179e\"],[0.4444444444444444,\"#bd3786\"],[0.5555555555555556,\"#d8576b\"],[0.6666666666666666,\"#ed7953\"],[0.7777777777777778,\"#fb9f3a\"],[0.8888888888888888,\"#fdca26\"],[1.0,\"#f0f921\"]],\"type\":\"surface\"}],\"table\":[{\"cells\":{\"fill\":{\"color\":\"#EBF0F8\"},\"line\":{\"color\":\"white\"}},\"header\":{\"fill\":{\"color\":\"#C8D4E3\"},\"line\":{\"color\":\"white\"}},\"type\":\"table\"}]},\"layout\":{\"annotationdefaults\":{\"arrowcolor\":\"#2a3f5f\",\"arrowhead\":0,\"arrowwidth\":1},\"autotypenumbers\":\"strict\",\"coloraxis\":{\"colorbar\":{\"outlinewidth\":0,\"ticks\":\"\"}},\"colorscale\":{\"diverging\":[[0,\"#8e0152\"],[0.1,\"#c51b7d\"],[0.2,\"#de77ae\"],[0.3,\"#f1b6da\"],[0.4,\"#fde0ef\"],[0.5,\"#f7f7f7\"],[0.6,\"#e6f5d0\"],[0.7,\"#b8e186\"],[0.8,\"#7fbc41\"],[0.9,\"#4d9221\"],[1,\"#276419\"]],\"sequential\":[[0.0,\"#0d0887\"],[0.1111111111111111,\"#46039f\"],[0.2222222222222222,\"#7201a8\"],[0.3333333333333333,\"#9c179e\"],[0.4444444444444444,\"#bd3786\"],[0.5555555555555556,\"#d8576b\"],[0.6666666666666666,\"#ed7953\"],[0.7777777777777778,\"#fb9f3a\"],[0.8888888888888888,\"#fdca26\"],[1.0,\"#f0f921\"]],\"sequentialminus\":[[0.0,\"#0d0887\"],[0.1111111111111111,\"#46039f\"],[0.2222222222222222,\"#7201a8\"],[0.3333333333333333,\"#9c179e\"],[0.4444444444444444,\"#bd3786\"],[0.5555555555555556,\"#d8576b\"],[0.6666666666666666,\"#ed7953\"],[0.7777777777777778,\"#fb9f3a\"],[0.8888888888888888,\"#fdca26\"],[1.0,\"#f0f921\"]]},\"colorway\":[\"#636efa\",\"#EF553B\",\"#00cc96\",\"#ab63fa\",\"#FFA15A\",\"#19d3f3\",\"#FF6692\",\"#B6E880\",\"#FF97FF\",\"#FECB52\"],\"font\":{\"color\":\"#2a3f5f\"},\"geo\":{\"bgcolor\":\"white\",\"lakecolor\":\"white\",\"landcolor\":\"#E5ECF6\",\"showlakes\":true,\"showland\":true,\"subunitcolor\":\"white\"},\"hoverlabel\":{\"align\":\"left\"},\"hovermode\":\"closest\",\"mapbox\":{\"style\":\"light\"},\"paper_bgcolor\":\"white\",\"plot_bgcolor\":\"#E5ECF6\",\"polar\":{\"angularaxis\":{\"gridcolor\":\"white\",\"linecolor\":\"white\",\"ticks\":\"\"},\"bgcolor\":\"#E5ECF6\",\"radialaxis\":{\"gridcolor\":\"white\",\"linecolor\":\"white\",\"ticks\":\"\"}},\"scene\":{\"xaxis\":{\"backgroundcolor\":\"#E5ECF6\",\"gridcolor\":\"white\",\"gridwidth\":2,\"linecolor\":\"white\",\"showbackground\":true,\"ticks\":\"\",\"zerolinecolor\":\"white\"},\"yaxis\":{\"backgroundcolor\":\"#E5ECF6\",\"gridcolor\":\"white\",\"gridwidth\":2,\"linecolor\":\"white\",\"showbackground\":true,\"ticks\":\"\",\"zerolinecolor\":\"white\"},\"zaxis\":{\"backgroundcolor\":\"#E5ECF6\",\"gridcolor\":\"white\",\"gridwidth\":2,\"linecolor\":\"white\",\"showbackground\":true,\"ticks\":\"\",\"zerolinecolor\":\"white\"}},\"shapedefaults\":{\"line\":{\"color\":\"#2a3f5f\"}},\"ternary\":{\"aaxis\":{\"gridcolor\":\"white\",\"linecolor\":\"white\",\"ticks\":\"\"},\"baxis\":{\"gridcolor\":\"white\",\"linecolor\":\"white\",\"ticks\":\"\"},\"bgcolor\":\"#E5ECF6\",\"caxis\":{\"gridcolor\":\"white\",\"linecolor\":\"white\",\"ticks\":\"\"}},\"title\":{\"x\":0.05},\"xaxis\":{\"automargin\":true,\"gridcolor\":\"white\",\"linecolor\":\"white\",\"ticks\":\"\",\"title\":{\"standoff\":15},\"zerolinecolor\":\"white\",\"zerolinewidth\":2},\"yaxis\":{\"automargin\":true,\"gridcolor\":\"white\",\"linecolor\":\"white\",\"ticks\":\"\",\"title\":{\"standoff\":15},\"zerolinecolor\":\"white\",\"zerolinewidth\":2}}},\"xaxis\":{\"anchor\":\"y\",\"domain\":[0.0,1.0],\"title\":{\"text\":\"model\"},\"categoryorder\":\"array\",\"categoryarray\":[\"logistic\",\"RF\",\"XGB\",\"MLP\",\"Vote_by_Logistic_logistic_RF_XGB_MLP\"]},\"yaxis\":{\"anchor\":\"x\",\"domain\":[0.0,1.0],\"title\":{\"text\":\"accuracy\"}},\"legend\":{\"title\":{\"text\":\"model\"},\"tracegroupgap\":0},\"margin\":{\"t\":60},\"boxmode\":\"overlay\",\"width\":600},                        {\"responsive\": true}                    ).then(function(){\n",
              "                            \n",
              "var gd = document.getElementById('4dbb586f-7117-4bbf-853f-4485aa6d2e0a');\n",
              "var x = new MutationObserver(function (mutations, observer) {{\n",
              "        var display = window.getComputedStyle(gd).display;\n",
              "        if (!display || display === 'none') {{\n",
              "            console.log([gd, 'removed!']);\n",
              "            Plotly.purge(gd);\n",
              "            observer.disconnect();\n",
              "        }}\n",
              "}});\n",
              "\n",
              "// Listen for the removal of the full notebook cells\n",
              "var notebookContainer = gd.closest('#notebook-container');\n",
              "if (notebookContainer) {{\n",
              "    x.observe(notebookContainer, {childList: true});\n",
              "}}\n",
              "\n",
              "// Listen for the clearing of the current output cell\n",
              "var outputEl = gd.closest('.output');\n",
              "if (outputEl) {{\n",
              "    x.observe(outputEl, {childList: true});\n",
              "}}\n",
              "\n",
              "                        })                };                            </script>        </div>\n",
              "</body>\n",
              "</html>"
            ]
          },
          "metadata": {}
        }
      ]
    },
    {
      "cell_type": "markdown",
      "source": [
        "### > Stacked generalization (Stacking)\n",
        "\n",
        "[Stacked generalization](https://www.jair.org/index.php/jair/article/view/10228) 방법은 여러 모형의 각 class에 대한 예측 확률 값을 'input 변수'로 하고 그 때 각 row의 y를 종속변수로 하는 'Meta Learner'를 학습시켜 얻은 결과 값을 최종 확률로 정의합니다.\n",
        "\n",
        "- 'Meta Learner'는 binary classification 모형 중 어떤 것이라도 사용될 수 있습니다. 다만 이 노트북에선 overfitting을 방지하기 위해 모형의 복잡도가 낮은 ridge 모형 (logistic regression with ridge penalty)을 사용합니다.\n",
        "\n",
        "- 여러 모형의 각 class에 대한 예측 확률 값은 Cross-validation에서의 validation 데이터에 대한 예측값이 이용됩니다. \n",
        "\n",
        "- Train-set의 CV 결과값에 기반해 학습한 Meta Learner는 Test-set에 대한 각 모형의 예측값을 input 변수로 하여 Test-set에 대한 최종 예측값을 도출합니다.\n",
        "\n",
        "총 과정을 순서대로 나타내면 다음과 같습니다.\n",
        "1. (Base estimators) CV on Train-set\n",
        "2. (Meta Learner) 학습: CV 결과값 (validation에 대한 예측값)과 그에 해당하는 y값에 대해\n",
        "3. (Base estimators) 학습 on Train-set\n",
        "4. (Base estimators) 예측 on Test-set\n",
        "5. (Meta Learner) 예측: Test-set에 대한 예측값을 input으로 최종 확률 예측\n",
        "\n",
        "\n",
        "<img align='top' src='https://drive.google.com/uc?export=view&id=1uDxSIIFt8rUJkuIwRYU4lALvOPqlXPG5' width='600' height='400'>\n",
        "\n",
        "\n",
        "Example)\n",
        "- Base Estimations\n",
        "  - $P_{logistic}(Y=1|X=x)$ = 0.80\n",
        "  - $P_{rf}(Y=1|X=x)$ = 0.75\n",
        "  - $P_{xgb}(Y=1|X=x)$ = 0.80\n",
        "  - $P_{mlp}(Y=1|X=x)$ = 0.85\n",
        "- Meta Learner (logistic regression)\n",
        "  - Parameter\n",
        "    - intercept = 0.1\n",
        "    - coefficient = [0.2, 0.9, 0.8, 0.3]\n",
        "  - $P_{stack}(Y=1|X=x) = 0.8618 = sigmoid(0.1 + 0.2*0.8 + 0.9*0.75 + 0.8*0.80 + 0.3*0.85)$"
      ],
      "metadata": {
        "id": "5eKbDaOmEPVc"
      }
    },
    {
      "cell_type": "code",
      "source": [
        "from sklearn.ensemble import StackingClassifier\n",
        "from sklearn.model_selection import cross_validate\n",
        "from sklearn.linear_model import LogisticRegression\n",
        "from sklearn.model_selection import StratifiedKFold\n",
        "\n",
        "# Define 모형 for Ensemble\n",
        "logistic = SGDClassifier(**eval(best_cv_df.loc[best_cv_df['model']=='logistic', 'best_hyper_param'].values[0]))\n",
        "rf = RandomForestClassifier(**eval(best_cv_df.loc[best_cv_df['model']=='RF', 'best_hyper_param'].values[0]))\n",
        "xgb = XGBClassifier(**eval(best_cv_df.loc[best_cv_df['model']=='XGB', 'best_hyper_param'].values[0]))\n",
        "mlp = mlp.set_params(**eval(best_cv_df.loc[best_cv_df['model']=='MLP', 'best_hyper_param'].values[0]))\n",
        "\n",
        "estimators = [\n",
        "    ('Logistic', logistic),\n",
        "    ('RF', rf),\n",
        "    ('XGB', xgb),\n",
        "    ('MLP', mlp)\n",
        "]\n",
        "\n",
        "# Define Ensemble 방법론\n",
        "final_estimator = LogisticRegression(penalty='none', random_state=config['random_state'])\n",
        "\n",
        "kf = StratifiedKFold(n_splits=config['cv_num'], random_state=config['random_state'], shuffle=True)\n",
        "\n",
        "stack_clf = StackingClassifier(\n",
        "    estimators, \n",
        "    final_estimator = final_estimator,\n",
        "#     n_jobs=-1,\n",
        "    cv=kf\n",
        ")\n",
        "\n",
        "# Run CV\n",
        "cv_res = cross_validate(\n",
        "    stack_clf, \n",
        "    X_train, \n",
        "    y_train, \n",
        "    cv=kf,\n",
        "    n_jobs=-1, \n",
        "    scoring=['neg_log_loss', 'accuracy'],\n",
        "    verbose=1\n",
        ")\n",
        "\n",
        "# Save CV결과\n",
        "res_df = pd.DataFrame(cv_res)\n",
        "res_df = res_df.iloc[:,res_df.columns.str.startswith('test')]\n",
        "res_df.columns = res_df.columns.str.replace('test_', '')\n",
        "res_df['model'] = 'Stack_Logistic_by_Logistic_RF_XGB_MLP'\n",
        "\n",
        "best_cv_df = pd.concat([best_cv_df, res_df], axis=0)\n"
      ],
      "metadata": {
        "id": "8s2ZxrTGTJYD",
        "colab": {
          "base_uri": "https://localhost:8080/"
        },
        "outputId": "1f0670ed-d8c1-453b-fb38-311b5f44f2d8"
      },
      "execution_count": null,
      "outputs": [
        {
          "output_type": "stream",
          "name": "stderr",
          "text": [
            "[Parallel(n_jobs=-1)]: Using backend LokyBackend with 2 concurrent workers.\n"
          ]
        },
        {
          "output_type": "stream",
          "name": "stdout",
          "text": [
            "time : 7.7362895011901855\n"
          ]
        },
        {
          "output_type": "stream",
          "name": "stderr",
          "text": [
            "[Parallel(n_jobs=-1)]: Done   3 out of   3 | elapsed:    7.7s finished\n"
          ]
        }
      ]
    },
    {
      "cell_type": "markdown",
      "source": [
        "## 2.4. (2차) CV 결과 비교\n",
        "\n",
        "아래 그림을 통해 단일 모형 중에선 'xgb'가 가장 좋은 성능을 보이고 \n",
        "model combination 방법론 중에선 'stack_ridge_by_rf_xgb_mlp_fm' 방법이 가장 좋은 성능을 보이는 것을 확인할 수 있다."
      ],
      "metadata": {
        "id": "zVRkLmi2FC4h"
      }
    },
    {
      "cell_type": "code",
      "source": [
        "best_cv_df[['neg_log_loss', 'accuracy']] = best_cv_df[['neg_log_loss', 'accuracy']].astype('float32')\n",
        "\n",
        "print(best_cv_df.groupby('model').mean()['accuracy'].sort_values(ascending=False))"
      ],
      "metadata": {
        "colab": {
          "base_uri": "https://localhost:8080/"
        },
        "id": "lnXOvRlBBEmW",
        "outputId": "cfa021bd-a1a9-43d0-b641-13346af9b6c0"
      },
      "execution_count": null,
      "outputs": [
        {
          "output_type": "stream",
          "name": "stdout",
          "text": [
            "model\n",
            "XGB                                      0.832772\n",
            "Stack_Logistic_by_Logistic_RF_XGB_MLP    0.831650\n",
            "RF                                       0.829405\n",
            "Vote_by_Logistic_logistic_RF_XGB_MLP     0.829405\n",
            "MLP                                      0.817060\n",
            "logistic                                 0.786756\n",
            "Name: accuracy, dtype: float32\n"
          ]
        }
      ]
    },
    {
      "cell_type": "code",
      "source": [
        "fig = px.box(best_cv_df, x='model', y='accuracy', color='model', width=600)\n",
        "fig.show()"
      ],
      "metadata": {
        "colab": {
          "base_uri": "https://localhost:8080/",
          "height": 542
        },
        "id": "A0tVRf6ZYqsK",
        "outputId": "89e72648-a41e-4e3b-ff18-66cdfd6a9b6e"
      },
      "execution_count": null,
      "outputs": [
        {
          "output_type": "display_data",
          "data": {
            "text/html": [
              "<html>\n",
              "<head><meta charset=\"utf-8\" /></head>\n",
              "<body>\n",
              "    <div>            <script src=\"https://cdnjs.cloudflare.com/ajax/libs/mathjax/2.7.5/MathJax.js?config=TeX-AMS-MML_SVG\"></script><script type=\"text/javascript\">if (window.MathJax) {MathJax.Hub.Config({SVG: {font: \"STIX-Web\"}});}</script>                <script type=\"text/javascript\">window.PlotlyConfig = {MathJaxConfig: 'local'};</script>\n",
              "        <script src=\"https://cdn.plot.ly/plotly-2.8.3.min.js\"></script>                <div id=\"189209f4-2ac3-44c0-840e-966f0c9f34c9\" class=\"plotly-graph-div\" style=\"height:525px; width:600px;\"></div>            <script type=\"text/javascript\">                                    window.PLOTLYENV=window.PLOTLYENV || {};                                    if (document.getElementById(\"189209f4-2ac3-44c0-840e-966f0c9f34c9\")) {                    Plotly.newPlot(                        \"189209f4-2ac3-44c0-840e-966f0c9f34c9\",                        [{\"alignmentgroup\":\"True\",\"hovertemplate\":\"model=%{x}<br>accuracy=%{y}<extra></extra>\",\"legendgroup\":\"logistic\",\"marker\":{\"color\":\"#636efa\"},\"name\":\"logistic\",\"notched\":false,\"offsetgroup\":\"logistic\",\"orientation\":\"v\",\"showlegend\":true,\"x\":[\"logistic\",\"logistic\",\"logistic\"],\"x0\":\" \",\"xaxis\":\"x\",\"y\":[0.7878788113594055,0.8013467788696289,0.7710437774658203],\"y0\":\" \",\"yaxis\":\"y\",\"type\":\"box\"},{\"alignmentgroup\":\"True\",\"hovertemplate\":\"model=%{x}<br>accuracy=%{y}<extra></extra>\",\"legendgroup\":\"RF\",\"marker\":{\"color\":\"#EF553B\"},\"name\":\"RF\",\"notched\":false,\"offsetgroup\":\"RF\",\"orientation\":\"v\",\"showlegend\":true,\"x\":[\"RF\",\"RF\",\"RF\"],\"x0\":\" \",\"xaxis\":\"x\",\"y\":[0.8148148059844971,0.8451178669929504,0.8282828330993652],\"y0\":\" \",\"yaxis\":\"y\",\"type\":\"box\"},{\"alignmentgroup\":\"True\",\"hovertemplate\":\"model=%{x}<br>accuracy=%{y}<extra></extra>\",\"legendgroup\":\"XGB\",\"marker\":{\"color\":\"#00cc96\"},\"name\":\"XGB\",\"notched\":false,\"offsetgroup\":\"XGB\",\"orientation\":\"v\",\"showlegend\":true,\"x\":[\"XGB\",\"XGB\",\"XGB\"],\"x0\":\" \",\"xaxis\":\"x\",\"y\":[0.8013467788696289,0.8585858345031738,0.8383838534355164],\"y0\":\" \",\"yaxis\":\"y\",\"type\":\"box\"},{\"alignmentgroup\":\"True\",\"hovertemplate\":\"model=%{x}<br>accuracy=%{y}<extra></extra>\",\"legendgroup\":\"MLP\",\"marker\":{\"color\":\"#ab63fa\"},\"name\":\"MLP\",\"notched\":false,\"offsetgroup\":\"MLP\",\"orientation\":\"v\",\"showlegend\":true,\"x\":[\"MLP\",\"MLP\",\"MLP\"],\"x0\":\" \",\"xaxis\":\"x\",\"y\":[0.7744107842445374,0.8451178669929504,0.8316498398780823],\"y0\":\" \",\"yaxis\":\"y\",\"type\":\"box\"},{\"alignmentgroup\":\"True\",\"hovertemplate\":\"model=%{x}<br>accuracy=%{y}<extra></extra>\",\"legendgroup\":\"Vote_by_Logistic_logistic_RF_XGB_MLP\",\"marker\":{\"color\":\"#FFA15A\"},\"name\":\"Vote_by_Logistic_logistic_RF_XGB_MLP\",\"notched\":false,\"offsetgroup\":\"Vote_by_Logistic_logistic_RF_XGB_MLP\",\"orientation\":\"v\",\"showlegend\":true,\"x\":[\"Vote_by_Logistic_logistic_RF_XGB_MLP\",\"Vote_by_Logistic_logistic_RF_XGB_MLP\",\"Vote_by_Logistic_logistic_RF_XGB_MLP\"],\"x0\":\" \",\"xaxis\":\"x\",\"y\":[0.8451178451178452,0.797979797979798,0.8451178451178452],\"y0\":\" \",\"yaxis\":\"y\",\"type\":\"box\"},{\"alignmentgroup\":\"True\",\"hovertemplate\":\"model=%{x}<br>accuracy=%{y}<extra></extra>\",\"legendgroup\":\"Stack_Logistic_by_Logistic_RF_XGB_MLP\",\"marker\":{\"color\":\"#19d3f3\"},\"name\":\"Stack_Logistic_by_Logistic_RF_XGB_MLP\",\"notched\":false,\"offsetgroup\":\"Stack_Logistic_by_Logistic_RF_XGB_MLP\",\"orientation\":\"v\",\"showlegend\":true,\"x\":[\"Stack_Logistic_by_Logistic_RF_XGB_MLP\",\"Stack_Logistic_by_Logistic_RF_XGB_MLP\",\"Stack_Logistic_by_Logistic_RF_XGB_MLP\"],\"x0\":\" \",\"xaxis\":\"x\",\"y\":[0.8484848484848485,0.8114478114478114,0.835016835016835],\"y0\":\" \",\"yaxis\":\"y\",\"type\":\"box\"}],                        {\"template\":{\"data\":{\"bar\":[{\"error_x\":{\"color\":\"#2a3f5f\"},\"error_y\":{\"color\":\"#2a3f5f\"},\"marker\":{\"line\":{\"color\":\"#E5ECF6\",\"width\":0.5},\"pattern\":{\"fillmode\":\"overlay\",\"size\":10,\"solidity\":0.2}},\"type\":\"bar\"}],\"barpolar\":[{\"marker\":{\"line\":{\"color\":\"#E5ECF6\",\"width\":0.5},\"pattern\":{\"fillmode\":\"overlay\",\"size\":10,\"solidity\":0.2}},\"type\":\"barpolar\"}],\"carpet\":[{\"aaxis\":{\"endlinecolor\":\"#2a3f5f\",\"gridcolor\":\"white\",\"linecolor\":\"white\",\"minorgridcolor\":\"white\",\"startlinecolor\":\"#2a3f5f\"},\"baxis\":{\"endlinecolor\":\"#2a3f5f\",\"gridcolor\":\"white\",\"linecolor\":\"white\",\"minorgridcolor\":\"white\",\"startlinecolor\":\"#2a3f5f\"},\"type\":\"carpet\"}],\"choropleth\":[{\"colorbar\":{\"outlinewidth\":0,\"ticks\":\"\"},\"type\":\"choropleth\"}],\"contour\":[{\"colorbar\":{\"outlinewidth\":0,\"ticks\":\"\"},\"colorscale\":[[0.0,\"#0d0887\"],[0.1111111111111111,\"#46039f\"],[0.2222222222222222,\"#7201a8\"],[0.3333333333333333,\"#9c179e\"],[0.4444444444444444,\"#bd3786\"],[0.5555555555555556,\"#d8576b\"],[0.6666666666666666,\"#ed7953\"],[0.7777777777777778,\"#fb9f3a\"],[0.8888888888888888,\"#fdca26\"],[1.0,\"#f0f921\"]],\"type\":\"contour\"}],\"contourcarpet\":[{\"colorbar\":{\"outlinewidth\":0,\"ticks\":\"\"},\"type\":\"contourcarpet\"}],\"heatmap\":[{\"colorbar\":{\"outlinewidth\":0,\"ticks\":\"\"},\"colorscale\":[[0.0,\"#0d0887\"],[0.1111111111111111,\"#46039f\"],[0.2222222222222222,\"#7201a8\"],[0.3333333333333333,\"#9c179e\"],[0.4444444444444444,\"#bd3786\"],[0.5555555555555556,\"#d8576b\"],[0.6666666666666666,\"#ed7953\"],[0.7777777777777778,\"#fb9f3a\"],[0.8888888888888888,\"#fdca26\"],[1.0,\"#f0f921\"]],\"type\":\"heatmap\"}],\"heatmapgl\":[{\"colorbar\":{\"outlinewidth\":0,\"ticks\":\"\"},\"colorscale\":[[0.0,\"#0d0887\"],[0.1111111111111111,\"#46039f\"],[0.2222222222222222,\"#7201a8\"],[0.3333333333333333,\"#9c179e\"],[0.4444444444444444,\"#bd3786\"],[0.5555555555555556,\"#d8576b\"],[0.6666666666666666,\"#ed7953\"],[0.7777777777777778,\"#fb9f3a\"],[0.8888888888888888,\"#fdca26\"],[1.0,\"#f0f921\"]],\"type\":\"heatmapgl\"}],\"histogram\":[{\"marker\":{\"pattern\":{\"fillmode\":\"overlay\",\"size\":10,\"solidity\":0.2}},\"type\":\"histogram\"}],\"histogram2d\":[{\"colorbar\":{\"outlinewidth\":0,\"ticks\":\"\"},\"colorscale\":[[0.0,\"#0d0887\"],[0.1111111111111111,\"#46039f\"],[0.2222222222222222,\"#7201a8\"],[0.3333333333333333,\"#9c179e\"],[0.4444444444444444,\"#bd3786\"],[0.5555555555555556,\"#d8576b\"],[0.6666666666666666,\"#ed7953\"],[0.7777777777777778,\"#fb9f3a\"],[0.8888888888888888,\"#fdca26\"],[1.0,\"#f0f921\"]],\"type\":\"histogram2d\"}],\"histogram2dcontour\":[{\"colorbar\":{\"outlinewidth\":0,\"ticks\":\"\"},\"colorscale\":[[0.0,\"#0d0887\"],[0.1111111111111111,\"#46039f\"],[0.2222222222222222,\"#7201a8\"],[0.3333333333333333,\"#9c179e\"],[0.4444444444444444,\"#bd3786\"],[0.5555555555555556,\"#d8576b\"],[0.6666666666666666,\"#ed7953\"],[0.7777777777777778,\"#fb9f3a\"],[0.8888888888888888,\"#fdca26\"],[1.0,\"#f0f921\"]],\"type\":\"histogram2dcontour\"}],\"mesh3d\":[{\"colorbar\":{\"outlinewidth\":0,\"ticks\":\"\"},\"type\":\"mesh3d\"}],\"parcoords\":[{\"line\":{\"colorbar\":{\"outlinewidth\":0,\"ticks\":\"\"}},\"type\":\"parcoords\"}],\"pie\":[{\"automargin\":true,\"type\":\"pie\"}],\"scatter\":[{\"marker\":{\"colorbar\":{\"outlinewidth\":0,\"ticks\":\"\"}},\"type\":\"scatter\"}],\"scatter3d\":[{\"line\":{\"colorbar\":{\"outlinewidth\":0,\"ticks\":\"\"}},\"marker\":{\"colorbar\":{\"outlinewidth\":0,\"ticks\":\"\"}},\"type\":\"scatter3d\"}],\"scattercarpet\":[{\"marker\":{\"colorbar\":{\"outlinewidth\":0,\"ticks\":\"\"}},\"type\":\"scattercarpet\"}],\"scattergeo\":[{\"marker\":{\"colorbar\":{\"outlinewidth\":0,\"ticks\":\"\"}},\"type\":\"scattergeo\"}],\"scattergl\":[{\"marker\":{\"colorbar\":{\"outlinewidth\":0,\"ticks\":\"\"}},\"type\":\"scattergl\"}],\"scattermapbox\":[{\"marker\":{\"colorbar\":{\"outlinewidth\":0,\"ticks\":\"\"}},\"type\":\"scattermapbox\"}],\"scatterpolar\":[{\"marker\":{\"colorbar\":{\"outlinewidth\":0,\"ticks\":\"\"}},\"type\":\"scatterpolar\"}],\"scatterpolargl\":[{\"marker\":{\"colorbar\":{\"outlinewidth\":0,\"ticks\":\"\"}},\"type\":\"scatterpolargl\"}],\"scatterternary\":[{\"marker\":{\"colorbar\":{\"outlinewidth\":0,\"ticks\":\"\"}},\"type\":\"scatterternary\"}],\"surface\":[{\"colorbar\":{\"outlinewidth\":0,\"ticks\":\"\"},\"colorscale\":[[0.0,\"#0d0887\"],[0.1111111111111111,\"#46039f\"],[0.2222222222222222,\"#7201a8\"],[0.3333333333333333,\"#9c179e\"],[0.4444444444444444,\"#bd3786\"],[0.5555555555555556,\"#d8576b\"],[0.6666666666666666,\"#ed7953\"],[0.7777777777777778,\"#fb9f3a\"],[0.8888888888888888,\"#fdca26\"],[1.0,\"#f0f921\"]],\"type\":\"surface\"}],\"table\":[{\"cells\":{\"fill\":{\"color\":\"#EBF0F8\"},\"line\":{\"color\":\"white\"}},\"header\":{\"fill\":{\"color\":\"#C8D4E3\"},\"line\":{\"color\":\"white\"}},\"type\":\"table\"}]},\"layout\":{\"annotationdefaults\":{\"arrowcolor\":\"#2a3f5f\",\"arrowhead\":0,\"arrowwidth\":1},\"autotypenumbers\":\"strict\",\"coloraxis\":{\"colorbar\":{\"outlinewidth\":0,\"ticks\":\"\"}},\"colorscale\":{\"diverging\":[[0,\"#8e0152\"],[0.1,\"#c51b7d\"],[0.2,\"#de77ae\"],[0.3,\"#f1b6da\"],[0.4,\"#fde0ef\"],[0.5,\"#f7f7f7\"],[0.6,\"#e6f5d0\"],[0.7,\"#b8e186\"],[0.8,\"#7fbc41\"],[0.9,\"#4d9221\"],[1,\"#276419\"]],\"sequential\":[[0.0,\"#0d0887\"],[0.1111111111111111,\"#46039f\"],[0.2222222222222222,\"#7201a8\"],[0.3333333333333333,\"#9c179e\"],[0.4444444444444444,\"#bd3786\"],[0.5555555555555556,\"#d8576b\"],[0.6666666666666666,\"#ed7953\"],[0.7777777777777778,\"#fb9f3a\"],[0.8888888888888888,\"#fdca26\"],[1.0,\"#f0f921\"]],\"sequentialminus\":[[0.0,\"#0d0887\"],[0.1111111111111111,\"#46039f\"],[0.2222222222222222,\"#7201a8\"],[0.3333333333333333,\"#9c179e\"],[0.4444444444444444,\"#bd3786\"],[0.5555555555555556,\"#d8576b\"],[0.6666666666666666,\"#ed7953\"],[0.7777777777777778,\"#fb9f3a\"],[0.8888888888888888,\"#fdca26\"],[1.0,\"#f0f921\"]]},\"colorway\":[\"#636efa\",\"#EF553B\",\"#00cc96\",\"#ab63fa\",\"#FFA15A\",\"#19d3f3\",\"#FF6692\",\"#B6E880\",\"#FF97FF\",\"#FECB52\"],\"font\":{\"color\":\"#2a3f5f\"},\"geo\":{\"bgcolor\":\"white\",\"lakecolor\":\"white\",\"landcolor\":\"#E5ECF6\",\"showlakes\":true,\"showland\":true,\"subunitcolor\":\"white\"},\"hoverlabel\":{\"align\":\"left\"},\"hovermode\":\"closest\",\"mapbox\":{\"style\":\"light\"},\"paper_bgcolor\":\"white\",\"plot_bgcolor\":\"#E5ECF6\",\"polar\":{\"angularaxis\":{\"gridcolor\":\"white\",\"linecolor\":\"white\",\"ticks\":\"\"},\"bgcolor\":\"#E5ECF6\",\"radialaxis\":{\"gridcolor\":\"white\",\"linecolor\":\"white\",\"ticks\":\"\"}},\"scene\":{\"xaxis\":{\"backgroundcolor\":\"#E5ECF6\",\"gridcolor\":\"white\",\"gridwidth\":2,\"linecolor\":\"white\",\"showbackground\":true,\"ticks\":\"\",\"zerolinecolor\":\"white\"},\"yaxis\":{\"backgroundcolor\":\"#E5ECF6\",\"gridcolor\":\"white\",\"gridwidth\":2,\"linecolor\":\"white\",\"showbackground\":true,\"ticks\":\"\",\"zerolinecolor\":\"white\"},\"zaxis\":{\"backgroundcolor\":\"#E5ECF6\",\"gridcolor\":\"white\",\"gridwidth\":2,\"linecolor\":\"white\",\"showbackground\":true,\"ticks\":\"\",\"zerolinecolor\":\"white\"}},\"shapedefaults\":{\"line\":{\"color\":\"#2a3f5f\"}},\"ternary\":{\"aaxis\":{\"gridcolor\":\"white\",\"linecolor\":\"white\",\"ticks\":\"\"},\"baxis\":{\"gridcolor\":\"white\",\"linecolor\":\"white\",\"ticks\":\"\"},\"bgcolor\":\"#E5ECF6\",\"caxis\":{\"gridcolor\":\"white\",\"linecolor\":\"white\",\"ticks\":\"\"}},\"title\":{\"x\":0.05},\"xaxis\":{\"automargin\":true,\"gridcolor\":\"white\",\"linecolor\":\"white\",\"ticks\":\"\",\"title\":{\"standoff\":15},\"zerolinecolor\":\"white\",\"zerolinewidth\":2},\"yaxis\":{\"automargin\":true,\"gridcolor\":\"white\",\"linecolor\":\"white\",\"ticks\":\"\",\"title\":{\"standoff\":15},\"zerolinecolor\":\"white\",\"zerolinewidth\":2}}},\"xaxis\":{\"anchor\":\"y\",\"domain\":[0.0,1.0],\"title\":{\"text\":\"model\"},\"categoryorder\":\"array\",\"categoryarray\":[\"logistic\",\"RF\",\"XGB\",\"MLP\",\"Vote_by_Logistic_logistic_RF_XGB_MLP\",\"Stack_Logistic_by_Logistic_RF_XGB_MLP\"]},\"yaxis\":{\"anchor\":\"x\",\"domain\":[0.0,1.0],\"title\":{\"text\":\"accuracy\"}},\"legend\":{\"title\":{\"text\":\"model\"},\"tracegroupgap\":0},\"margin\":{\"t\":60},\"boxmode\":\"overlay\",\"width\":600},                        {\"responsive\": true}                    ).then(function(){\n",
              "                            \n",
              "var gd = document.getElementById('189209f4-2ac3-44c0-840e-966f0c9f34c9');\n",
              "var x = new MutationObserver(function (mutations, observer) {{\n",
              "        var display = window.getComputedStyle(gd).display;\n",
              "        if (!display || display === 'none') {{\n",
              "            console.log([gd, 'removed!']);\n",
              "            Plotly.purge(gd);\n",
              "            observer.disconnect();\n",
              "        }}\n",
              "}});\n",
              "\n",
              "// Listen for the removal of the full notebook cells\n",
              "var notebookContainer = gd.closest('#notebook-container');\n",
              "if (notebookContainer) {{\n",
              "    x.observe(notebookContainer, {childList: true});\n",
              "}}\n",
              "\n",
              "// Listen for the clearing of the current output cell\n",
              "var outputEl = gd.closest('.output');\n",
              "if (outputEl) {{\n",
              "    x.observe(outputEl, {childList: true});\n",
              "}}\n",
              "\n",
              "                        })                };                            </script>        </div>\n",
              "</body>\n",
              "</html>"
            ]
          },
          "metadata": {}
        }
      ]
    },
    {
      "cell_type": "code",
      "source": [
        "# CV결과 및 Best 하이퍼 파라미터 csv 저장\n",
        "save_result(best_cv_df, 'best_cv_df')"
      ],
      "metadata": {
        "id": "ubLIFx5xMB5L"
      },
      "execution_count": null,
      "outputs": []
    },
    {
      "cell_type": "markdown",
      "source": [
        "# 3. Test-set 예측 수행 (by 최종 모형: XGBoost)\n"
      ],
      "metadata": {
        "id": "Yt_UWN0a6cqn"
      }
    },
    {
      "cell_type": "code",
      "source": [
        "from xgboost import XGBClassifier\n",
        "\n",
        "model_name = 'XGB'\n",
        "\n",
        "xgb = XGBClassifier(**eval(best_cv_df.loc[best_cv_df['model']=='XGB', 'best_hyper_param'].values[0]))\n",
        "\n",
        "xgb.fit(X_train, y_train)\n",
        "\n",
        "\n",
        "pred = xgb.predict(X_test)\n",
        "res_df = pd.DataFrame({'PassengerId': test['PassengerId'], 'Survived': pred})\n",
        "res_df.to_csv('{}.csv'.format(model_name), index=False)"
      ],
      "metadata": {
        "id": "oA5PSfvqCoVr"
      },
      "execution_count": null,
      "outputs": []
    }
  ]
}