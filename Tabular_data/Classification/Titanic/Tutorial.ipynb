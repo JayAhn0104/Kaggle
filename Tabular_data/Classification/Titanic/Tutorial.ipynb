{
  "nbformat": 4,
  "nbformat_minor": 0,
  "metadata": {
    "colab": {
      "name": "(Kaggle_eng)Titanic.ipynb",
      "provenance": [],
      "collapsed_sections": [],
      "authorship_tag": "ABX9TyOYIxMRFU4GXnxkeRGAaw9i",
      "include_colab_link": true
    },
    "kernelspec": {
      "name": "python3",
      "display_name": "Python 3"
    },
    "language_info": {
      "name": "python"
    },
    "widgets": {
      "application/vnd.jupyter.widget-state+json": {
        "914653bdbd594e34baa94f952166055d": {
          "model_module": "@jupyter-widgets/controls",
          "model_name": "HBoxModel",
          "model_module_version": "1.5.0",
          "state": {
            "_view_name": "HBoxView",
            "_dom_classes": [],
            "_model_name": "HBoxModel",
            "_view_module": "@jupyter-widgets/controls",
            "_model_module_version": "1.5.0",
            "_view_count": null,
            "_view_module_version": "1.5.0",
            "box_style": "",
            "layout": "IPY_MODEL_57d05062679d438fb01da2feb4bf9d7e",
            "_model_module": "@jupyter-widgets/controls",
            "children": [
              "IPY_MODEL_92838a7f220e4e1ead7b150a1b888017",
              "IPY_MODEL_5f32b347a9ac4728a8347e96554d1278",
              "IPY_MODEL_b25bb1a739c043dbac5421e57ccb9282"
            ]
          }
        },
        "57d05062679d438fb01da2feb4bf9d7e": {
          "model_module": "@jupyter-widgets/base",
          "model_name": "LayoutModel",
          "model_module_version": "1.2.0",
          "state": {
            "_view_name": "LayoutView",
            "grid_template_rows": null,
            "right": null,
            "justify_content": null,
            "_view_module": "@jupyter-widgets/base",
            "overflow": null,
            "_model_module_version": "1.2.0",
            "_view_count": null,
            "flex_flow": null,
            "width": null,
            "min_width": null,
            "border": null,
            "align_items": null,
            "bottom": null,
            "_model_module": "@jupyter-widgets/base",
            "top": null,
            "grid_column": null,
            "overflow_y": null,
            "overflow_x": null,
            "grid_auto_flow": null,
            "grid_area": null,
            "grid_template_columns": null,
            "flex": null,
            "_model_name": "LayoutModel",
            "justify_items": null,
            "grid_row": null,
            "max_height": null,
            "align_content": null,
            "visibility": null,
            "align_self": null,
            "height": null,
            "min_height": null,
            "padding": null,
            "grid_auto_rows": null,
            "grid_gap": null,
            "max_width": null,
            "order": null,
            "_view_module_version": "1.2.0",
            "grid_template_areas": null,
            "object_position": null,
            "object_fit": null,
            "grid_auto_columns": null,
            "margin": null,
            "display": null,
            "left": null
          }
        },
        "92838a7f220e4e1ead7b150a1b888017": {
          "model_module": "@jupyter-widgets/controls",
          "model_name": "HTMLModel",
          "model_module_version": "1.5.0",
          "state": {
            "_view_name": "HTMLView",
            "style": "IPY_MODEL_8e6d9a89bb944fa7b3d7969f4d8fe0f2",
            "_dom_classes": [],
            "description": "",
            "_model_name": "HTMLModel",
            "placeholder": "​",
            "_view_module": "@jupyter-widgets/controls",
            "_model_module_version": "1.5.0",
            "value": "Eval_CV: 100%",
            "_view_count": null,
            "_view_module_version": "1.5.0",
            "description_tooltip": null,
            "_model_module": "@jupyter-widgets/controls",
            "layout": "IPY_MODEL_555e876659404f998e7ebe843a130c6a"
          }
        },
        "5f32b347a9ac4728a8347e96554d1278": {
          "model_module": "@jupyter-widgets/controls",
          "model_name": "FloatProgressModel",
          "model_module_version": "1.5.0",
          "state": {
            "_view_name": "ProgressView",
            "style": "IPY_MODEL_a09149aeb97643999cbda05c455440af",
            "_dom_classes": [],
            "description": "",
            "_model_name": "FloatProgressModel",
            "bar_style": "success",
            "max": 5,
            "_view_module": "@jupyter-widgets/controls",
            "_model_module_version": "1.5.0",
            "value": 5,
            "_view_count": null,
            "_view_module_version": "1.5.0",
            "orientation": "horizontal",
            "min": 0,
            "description_tooltip": null,
            "_model_module": "@jupyter-widgets/controls",
            "layout": "IPY_MODEL_8ce5256b080544a9b96f559b245f57e4"
          }
        },
        "b25bb1a739c043dbac5421e57ccb9282": {
          "model_module": "@jupyter-widgets/controls",
          "model_name": "HTMLModel",
          "model_module_version": "1.5.0",
          "state": {
            "_view_name": "HTMLView",
            "style": "IPY_MODEL_ed9a79f443be480088ae8eee9819f5ad",
            "_dom_classes": [],
            "description": "",
            "_model_name": "HTMLModel",
            "placeholder": "​",
            "_view_module": "@jupyter-widgets/controls",
            "_model_module_version": "1.5.0",
            "value": " 5/5 [01:07&lt;00:00, 13.22s/it]",
            "_view_count": null,
            "_view_module_version": "1.5.0",
            "description_tooltip": null,
            "_model_module": "@jupyter-widgets/controls",
            "layout": "IPY_MODEL_7650811c7d1349ff9fc456749a2d004e"
          }
        },
        "8e6d9a89bb944fa7b3d7969f4d8fe0f2": {
          "model_module": "@jupyter-widgets/controls",
          "model_name": "DescriptionStyleModel",
          "model_module_version": "1.5.0",
          "state": {
            "_view_name": "StyleView",
            "_model_name": "DescriptionStyleModel",
            "description_width": "",
            "_view_module": "@jupyter-widgets/base",
            "_model_module_version": "1.5.0",
            "_view_count": null,
            "_view_module_version": "1.2.0",
            "_model_module": "@jupyter-widgets/controls"
          }
        },
        "555e876659404f998e7ebe843a130c6a": {
          "model_module": "@jupyter-widgets/base",
          "model_name": "LayoutModel",
          "model_module_version": "1.2.0",
          "state": {
            "_view_name": "LayoutView",
            "grid_template_rows": null,
            "right": null,
            "justify_content": null,
            "_view_module": "@jupyter-widgets/base",
            "overflow": null,
            "_model_module_version": "1.2.0",
            "_view_count": null,
            "flex_flow": null,
            "width": null,
            "min_width": null,
            "border": null,
            "align_items": null,
            "bottom": null,
            "_model_module": "@jupyter-widgets/base",
            "top": null,
            "grid_column": null,
            "overflow_y": null,
            "overflow_x": null,
            "grid_auto_flow": null,
            "grid_area": null,
            "grid_template_columns": null,
            "flex": null,
            "_model_name": "LayoutModel",
            "justify_items": null,
            "grid_row": null,
            "max_height": null,
            "align_content": null,
            "visibility": null,
            "align_self": null,
            "height": null,
            "min_height": null,
            "padding": null,
            "grid_auto_rows": null,
            "grid_gap": null,
            "max_width": null,
            "order": null,
            "_view_module_version": "1.2.0",
            "grid_template_areas": null,
            "object_position": null,
            "object_fit": null,
            "grid_auto_columns": null,
            "margin": null,
            "display": null,
            "left": null
          }
        },
        "a09149aeb97643999cbda05c455440af": {
          "model_module": "@jupyter-widgets/controls",
          "model_name": "ProgressStyleModel",
          "model_module_version": "1.5.0",
          "state": {
            "_view_name": "StyleView",
            "_model_name": "ProgressStyleModel",
            "description_width": "",
            "_view_module": "@jupyter-widgets/base",
            "_model_module_version": "1.5.0",
            "_view_count": null,
            "_view_module_version": "1.2.0",
            "bar_color": null,
            "_model_module": "@jupyter-widgets/controls"
          }
        },
        "8ce5256b080544a9b96f559b245f57e4": {
          "model_module": "@jupyter-widgets/base",
          "model_name": "LayoutModel",
          "model_module_version": "1.2.0",
          "state": {
            "_view_name": "LayoutView",
            "grid_template_rows": null,
            "right": null,
            "justify_content": null,
            "_view_module": "@jupyter-widgets/base",
            "overflow": null,
            "_model_module_version": "1.2.0",
            "_view_count": null,
            "flex_flow": null,
            "width": null,
            "min_width": null,
            "border": null,
            "align_items": null,
            "bottom": null,
            "_model_module": "@jupyter-widgets/base",
            "top": null,
            "grid_column": null,
            "overflow_y": null,
            "overflow_x": null,
            "grid_auto_flow": null,
            "grid_area": null,
            "grid_template_columns": null,
            "flex": null,
            "_model_name": "LayoutModel",
            "justify_items": null,
            "grid_row": null,
            "max_height": null,
            "align_content": null,
            "visibility": null,
            "align_self": null,
            "height": null,
            "min_height": null,
            "padding": null,
            "grid_auto_rows": null,
            "grid_gap": null,
            "max_width": null,
            "order": null,
            "_view_module_version": "1.2.0",
            "grid_template_areas": null,
            "object_position": null,
            "object_fit": null,
            "grid_auto_columns": null,
            "margin": null,
            "display": null,
            "left": null
          }
        },
        "ed9a79f443be480088ae8eee9819f5ad": {
          "model_module": "@jupyter-widgets/controls",
          "model_name": "DescriptionStyleModel",
          "model_module_version": "1.5.0",
          "state": {
            "_view_name": "StyleView",
            "_model_name": "DescriptionStyleModel",
            "description_width": "",
            "_view_module": "@jupyter-widgets/base",
            "_model_module_version": "1.5.0",
            "_view_count": null,
            "_view_module_version": "1.2.0",
            "_model_module": "@jupyter-widgets/controls"
          }
        },
        "7650811c7d1349ff9fc456749a2d004e": {
          "model_module": "@jupyter-widgets/base",
          "model_name": "LayoutModel",
          "model_module_version": "1.2.0",
          "state": {
            "_view_name": "LayoutView",
            "grid_template_rows": null,
            "right": null,
            "justify_content": null,
            "_view_module": "@jupyter-widgets/base",
            "overflow": null,
            "_model_module_version": "1.2.0",
            "_view_count": null,
            "flex_flow": null,
            "width": null,
            "min_width": null,
            "border": null,
            "align_items": null,
            "bottom": null,
            "_model_module": "@jupyter-widgets/base",
            "top": null,
            "grid_column": null,
            "overflow_y": null,
            "overflow_x": null,
            "grid_auto_flow": null,
            "grid_area": null,
            "grid_template_columns": null,
            "flex": null,
            "_model_name": "LayoutModel",
            "justify_items": null,
            "grid_row": null,
            "max_height": null,
            "align_content": null,
            "visibility": null,
            "align_self": null,
            "height": null,
            "min_height": null,
            "padding": null,
            "grid_auto_rows": null,
            "grid_gap": null,
            "max_width": null,
            "order": null,
            "_view_module_version": "1.2.0",
            "grid_template_areas": null,
            "object_position": null,
            "object_fit": null,
            "grid_auto_columns": null,
            "margin": null,
            "display": null,
            "left": null
          }
        },
        "69b2eb10c6c24428b5ff4c1ed491d128": {
          "model_module": "@jupyter-widgets/controls",
          "model_name": "HBoxModel",
          "model_module_version": "1.5.0",
          "state": {
            "_view_name": "HBoxView",
            "_dom_classes": [],
            "_model_name": "HBoxModel",
            "_view_module": "@jupyter-widgets/controls",
            "_model_module_version": "1.5.0",
            "_view_count": null,
            "_view_module_version": "1.5.0",
            "box_style": "",
            "layout": "IPY_MODEL_e2a3f9759e414ab485bdf727dbee60ad",
            "_model_module": "@jupyter-widgets/controls",
            "children": [
              "IPY_MODEL_14223a1f462147f684d2347566ea3e07",
              "IPY_MODEL_7d6fe8c426cb49c7bb42c8eec37995dc",
              "IPY_MODEL_ab194d71def74c338b02e1aeb82e9ce5"
            ]
          }
        },
        "e2a3f9759e414ab485bdf727dbee60ad": {
          "model_module": "@jupyter-widgets/base",
          "model_name": "LayoutModel",
          "model_module_version": "1.2.0",
          "state": {
            "_view_name": "LayoutView",
            "grid_template_rows": null,
            "right": null,
            "justify_content": null,
            "_view_module": "@jupyter-widgets/base",
            "overflow": null,
            "_model_module_version": "1.2.0",
            "_view_count": null,
            "flex_flow": null,
            "width": null,
            "min_width": null,
            "border": null,
            "align_items": null,
            "bottom": null,
            "_model_module": "@jupyter-widgets/base",
            "top": null,
            "grid_column": null,
            "overflow_y": null,
            "overflow_x": null,
            "grid_auto_flow": null,
            "grid_area": null,
            "grid_template_columns": null,
            "flex": null,
            "_model_name": "LayoutModel",
            "justify_items": null,
            "grid_row": null,
            "max_height": null,
            "align_content": null,
            "visibility": null,
            "align_self": null,
            "height": null,
            "min_height": null,
            "padding": null,
            "grid_auto_rows": null,
            "grid_gap": null,
            "max_width": null,
            "order": null,
            "_view_module_version": "1.2.0",
            "grid_template_areas": null,
            "object_position": null,
            "object_fit": null,
            "grid_auto_columns": null,
            "margin": null,
            "display": null,
            "left": null
          }
        },
        "14223a1f462147f684d2347566ea3e07": {
          "model_module": "@jupyter-widgets/controls",
          "model_name": "HTMLModel",
          "model_module_version": "1.5.0",
          "state": {
            "_view_name": "HTMLView",
            "style": "IPY_MODEL_6691ee869cf54f679e75a97807e20640",
            "_dom_classes": [],
            "description": "",
            "_model_name": "HTMLModel",
            "placeholder": "​",
            "_view_module": "@jupyter-widgets/controls",
            "_model_module_version": "1.5.0",
            "value": "Eval_CV: 100%",
            "_view_count": null,
            "_view_module_version": "1.5.0",
            "description_tooltip": null,
            "_model_module": "@jupyter-widgets/controls",
            "layout": "IPY_MODEL_2cdfcda984ac45e293b6b99a0ec1388a"
          }
        },
        "7d6fe8c426cb49c7bb42c8eec37995dc": {
          "model_module": "@jupyter-widgets/controls",
          "model_name": "FloatProgressModel",
          "model_module_version": "1.5.0",
          "state": {
            "_view_name": "ProgressView",
            "style": "IPY_MODEL_7d336ae38fd94f40977c6531a3787982",
            "_dom_classes": [],
            "description": "",
            "_model_name": "FloatProgressModel",
            "bar_style": "success",
            "max": 5,
            "_view_module": "@jupyter-widgets/controls",
            "_model_module_version": "1.5.0",
            "value": 5,
            "_view_count": null,
            "_view_module_version": "1.5.0",
            "orientation": "horizontal",
            "min": 0,
            "description_tooltip": null,
            "_model_module": "@jupyter-widgets/controls",
            "layout": "IPY_MODEL_e431f1d378f048f89d3b0eef0c04dbd7"
          }
        },
        "ab194d71def74c338b02e1aeb82e9ce5": {
          "model_module": "@jupyter-widgets/controls",
          "model_name": "HTMLModel",
          "model_module_version": "1.5.0",
          "state": {
            "_view_name": "HTMLView",
            "style": "IPY_MODEL_de88397e90fb49b788a7a341a9dfc094",
            "_dom_classes": [],
            "description": "",
            "_model_name": "HTMLModel",
            "placeholder": "​",
            "_view_module": "@jupyter-widgets/controls",
            "_model_module_version": "1.5.0",
            "value": " 5/5 [06:01&lt;00:00, 74.30s/it]",
            "_view_count": null,
            "_view_module_version": "1.5.0",
            "description_tooltip": null,
            "_model_module": "@jupyter-widgets/controls",
            "layout": "IPY_MODEL_f291cff9ffbc4ba9bbad76959f6d1c53"
          }
        },
        "6691ee869cf54f679e75a97807e20640": {
          "model_module": "@jupyter-widgets/controls",
          "model_name": "DescriptionStyleModel",
          "model_module_version": "1.5.0",
          "state": {
            "_view_name": "StyleView",
            "_model_name": "DescriptionStyleModel",
            "description_width": "",
            "_view_module": "@jupyter-widgets/base",
            "_model_module_version": "1.5.0",
            "_view_count": null,
            "_view_module_version": "1.2.0",
            "_model_module": "@jupyter-widgets/controls"
          }
        },
        "2cdfcda984ac45e293b6b99a0ec1388a": {
          "model_module": "@jupyter-widgets/base",
          "model_name": "LayoutModel",
          "model_module_version": "1.2.0",
          "state": {
            "_view_name": "LayoutView",
            "grid_template_rows": null,
            "right": null,
            "justify_content": null,
            "_view_module": "@jupyter-widgets/base",
            "overflow": null,
            "_model_module_version": "1.2.0",
            "_view_count": null,
            "flex_flow": null,
            "width": null,
            "min_width": null,
            "border": null,
            "align_items": null,
            "bottom": null,
            "_model_module": "@jupyter-widgets/base",
            "top": null,
            "grid_column": null,
            "overflow_y": null,
            "overflow_x": null,
            "grid_auto_flow": null,
            "grid_area": null,
            "grid_template_columns": null,
            "flex": null,
            "_model_name": "LayoutModel",
            "justify_items": null,
            "grid_row": null,
            "max_height": null,
            "align_content": null,
            "visibility": null,
            "align_self": null,
            "height": null,
            "min_height": null,
            "padding": null,
            "grid_auto_rows": null,
            "grid_gap": null,
            "max_width": null,
            "order": null,
            "_view_module_version": "1.2.0",
            "grid_template_areas": null,
            "object_position": null,
            "object_fit": null,
            "grid_auto_columns": null,
            "margin": null,
            "display": null,
            "left": null
          }
        },
        "7d336ae38fd94f40977c6531a3787982": {
          "model_module": "@jupyter-widgets/controls",
          "model_name": "ProgressStyleModel",
          "model_module_version": "1.5.0",
          "state": {
            "_view_name": "StyleView",
            "_model_name": "ProgressStyleModel",
            "description_width": "",
            "_view_module": "@jupyter-widgets/base",
            "_model_module_version": "1.5.0",
            "_view_count": null,
            "_view_module_version": "1.2.0",
            "bar_color": null,
            "_model_module": "@jupyter-widgets/controls"
          }
        },
        "e431f1d378f048f89d3b0eef0c04dbd7": {
          "model_module": "@jupyter-widgets/base",
          "model_name": "LayoutModel",
          "model_module_version": "1.2.0",
          "state": {
            "_view_name": "LayoutView",
            "grid_template_rows": null,
            "right": null,
            "justify_content": null,
            "_view_module": "@jupyter-widgets/base",
            "overflow": null,
            "_model_module_version": "1.2.0",
            "_view_count": null,
            "flex_flow": null,
            "width": null,
            "min_width": null,
            "border": null,
            "align_items": null,
            "bottom": null,
            "_model_module": "@jupyter-widgets/base",
            "top": null,
            "grid_column": null,
            "overflow_y": null,
            "overflow_x": null,
            "grid_auto_flow": null,
            "grid_area": null,
            "grid_template_columns": null,
            "flex": null,
            "_model_name": "LayoutModel",
            "justify_items": null,
            "grid_row": null,
            "max_height": null,
            "align_content": null,
            "visibility": null,
            "align_self": null,
            "height": null,
            "min_height": null,
            "padding": null,
            "grid_auto_rows": null,
            "grid_gap": null,
            "max_width": null,
            "order": null,
            "_view_module_version": "1.2.0",
            "grid_template_areas": null,
            "object_position": null,
            "object_fit": null,
            "grid_auto_columns": null,
            "margin": null,
            "display": null,
            "left": null
          }
        },
        "de88397e90fb49b788a7a341a9dfc094": {
          "model_module": "@jupyter-widgets/controls",
          "model_name": "DescriptionStyleModel",
          "model_module_version": "1.5.0",
          "state": {
            "_view_name": "StyleView",
            "_model_name": "DescriptionStyleModel",
            "description_width": "",
            "_view_module": "@jupyter-widgets/base",
            "_model_module_version": "1.5.0",
            "_view_count": null,
            "_view_module_version": "1.2.0",
            "_model_module": "@jupyter-widgets/controls"
          }
        },
        "f291cff9ffbc4ba9bbad76959f6d1c53": {
          "model_module": "@jupyter-widgets/base",
          "model_name": "LayoutModel",
          "model_module_version": "1.2.0",
          "state": {
            "_view_name": "LayoutView",
            "grid_template_rows": null,
            "right": null,
            "justify_content": null,
            "_view_module": "@jupyter-widgets/base",
            "overflow": null,
            "_model_module_version": "1.2.0",
            "_view_count": null,
            "flex_flow": null,
            "width": null,
            "min_width": null,
            "border": null,
            "align_items": null,
            "bottom": null,
            "_model_module": "@jupyter-widgets/base",
            "top": null,
            "grid_column": null,
            "overflow_y": null,
            "overflow_x": null,
            "grid_auto_flow": null,
            "grid_area": null,
            "grid_template_columns": null,
            "flex": null,
            "_model_name": "LayoutModel",
            "justify_items": null,
            "grid_row": null,
            "max_height": null,
            "align_content": null,
            "visibility": null,
            "align_self": null,
            "height": null,
            "min_height": null,
            "padding": null,
            "grid_auto_rows": null,
            "grid_gap": null,
            "max_width": null,
            "order": null,
            "_view_module_version": "1.2.0",
            "grid_template_areas": null,
            "object_position": null,
            "object_fit": null,
            "grid_auto_columns": null,
            "margin": null,
            "display": null,
            "left": null
          }
        },
        "1ec87b98e9f945bcae1ab10d91b5f7c7": {
          "model_module": "@jupyter-widgets/controls",
          "model_name": "HBoxModel",
          "model_module_version": "1.5.0",
          "state": {
            "_view_name": "HBoxView",
            "_dom_classes": [],
            "_model_name": "HBoxModel",
            "_view_module": "@jupyter-widgets/controls",
            "_model_module_version": "1.5.0",
            "_view_count": null,
            "_view_module_version": "1.5.0",
            "box_style": "",
            "layout": "IPY_MODEL_4da2bed4e3964cb6a0cc1b07d9713e28",
            "_model_module": "@jupyter-widgets/controls",
            "children": [
              "IPY_MODEL_a5c00ce2195642f8967db4a1f147c47f",
              "IPY_MODEL_dda7bafbc4e24f1687b4ccc36ccba204",
              "IPY_MODEL_c7e433b1550d49cc96d472e0be96379e"
            ]
          }
        },
        "4da2bed4e3964cb6a0cc1b07d9713e28": {
          "model_module": "@jupyter-widgets/base",
          "model_name": "LayoutModel",
          "model_module_version": "1.2.0",
          "state": {
            "_view_name": "LayoutView",
            "grid_template_rows": null,
            "right": null,
            "justify_content": null,
            "_view_module": "@jupyter-widgets/base",
            "overflow": null,
            "_model_module_version": "1.2.0",
            "_view_count": null,
            "flex_flow": null,
            "width": null,
            "min_width": null,
            "border": null,
            "align_items": null,
            "bottom": null,
            "_model_module": "@jupyter-widgets/base",
            "top": null,
            "grid_column": null,
            "overflow_y": null,
            "overflow_x": null,
            "grid_auto_flow": null,
            "grid_area": null,
            "grid_template_columns": null,
            "flex": null,
            "_model_name": "LayoutModel",
            "justify_items": null,
            "grid_row": null,
            "max_height": null,
            "align_content": null,
            "visibility": null,
            "align_self": null,
            "height": null,
            "min_height": null,
            "padding": null,
            "grid_auto_rows": null,
            "grid_gap": null,
            "max_width": null,
            "order": null,
            "_view_module_version": "1.2.0",
            "grid_template_areas": null,
            "object_position": null,
            "object_fit": null,
            "grid_auto_columns": null,
            "margin": null,
            "display": null,
            "left": null
          }
        },
        "a5c00ce2195642f8967db4a1f147c47f": {
          "model_module": "@jupyter-widgets/controls",
          "model_name": "HTMLModel",
          "model_module_version": "1.5.0",
          "state": {
            "_view_name": "HTMLView",
            "style": "IPY_MODEL_c9920e01169945fdb75e9563f9bc91b6",
            "_dom_classes": [],
            "description": "",
            "_model_name": "HTMLModel",
            "placeholder": "​",
            "_view_module": "@jupyter-widgets/controls",
            "_model_module_version": "1.5.0",
            "value": "Stack_CV: 100%",
            "_view_count": null,
            "_view_module_version": "1.5.0",
            "description_tooltip": null,
            "_model_module": "@jupyter-widgets/controls",
            "layout": "IPY_MODEL_49e3c4cd876b411a802c8fff5d4aaaea"
          }
        },
        "dda7bafbc4e24f1687b4ccc36ccba204": {
          "model_module": "@jupyter-widgets/controls",
          "model_name": "FloatProgressModel",
          "model_module_version": "1.5.0",
          "state": {
            "_view_name": "ProgressView",
            "style": "IPY_MODEL_91f727d86dfa4bffa7bcd627af1d09ce",
            "_dom_classes": [],
            "description": "",
            "_model_name": "FloatProgressModel",
            "bar_style": "success",
            "max": 5,
            "_view_module": "@jupyter-widgets/controls",
            "_model_module_version": "1.5.0",
            "value": 5,
            "_view_count": null,
            "_view_module_version": "1.5.0",
            "orientation": "horizontal",
            "min": 0,
            "description_tooltip": null,
            "_model_module": "@jupyter-widgets/controls",
            "layout": "IPY_MODEL_62cf66386d9e42dbaddf13c0cae84a74"
          }
        },
        "c7e433b1550d49cc96d472e0be96379e": {
          "model_module": "@jupyter-widgets/controls",
          "model_name": "HTMLModel",
          "model_module_version": "1.5.0",
          "state": {
            "_view_name": "HTMLView",
            "style": "IPY_MODEL_dec6e400683f410383eb9ba244fae38e",
            "_dom_classes": [],
            "description": "",
            "_model_name": "HTMLModel",
            "placeholder": "​",
            "_view_module": "@jupyter-widgets/controls",
            "_model_module_version": "1.5.0",
            "value": " 5/5 [01:00&lt;00:00, 12.28s/it]",
            "_view_count": null,
            "_view_module_version": "1.5.0",
            "description_tooltip": null,
            "_model_module": "@jupyter-widgets/controls",
            "layout": "IPY_MODEL_b026461e1b4e4a27b761e766aeb73868"
          }
        },
        "c9920e01169945fdb75e9563f9bc91b6": {
          "model_module": "@jupyter-widgets/controls",
          "model_name": "DescriptionStyleModel",
          "model_module_version": "1.5.0",
          "state": {
            "_view_name": "StyleView",
            "_model_name": "DescriptionStyleModel",
            "description_width": "",
            "_view_module": "@jupyter-widgets/base",
            "_model_module_version": "1.5.0",
            "_view_count": null,
            "_view_module_version": "1.2.0",
            "_model_module": "@jupyter-widgets/controls"
          }
        },
        "49e3c4cd876b411a802c8fff5d4aaaea": {
          "model_module": "@jupyter-widgets/base",
          "model_name": "LayoutModel",
          "model_module_version": "1.2.0",
          "state": {
            "_view_name": "LayoutView",
            "grid_template_rows": null,
            "right": null,
            "justify_content": null,
            "_view_module": "@jupyter-widgets/base",
            "overflow": null,
            "_model_module_version": "1.2.0",
            "_view_count": null,
            "flex_flow": null,
            "width": null,
            "min_width": null,
            "border": null,
            "align_items": null,
            "bottom": null,
            "_model_module": "@jupyter-widgets/base",
            "top": null,
            "grid_column": null,
            "overflow_y": null,
            "overflow_x": null,
            "grid_auto_flow": null,
            "grid_area": null,
            "grid_template_columns": null,
            "flex": null,
            "_model_name": "LayoutModel",
            "justify_items": null,
            "grid_row": null,
            "max_height": null,
            "align_content": null,
            "visibility": null,
            "align_self": null,
            "height": null,
            "min_height": null,
            "padding": null,
            "grid_auto_rows": null,
            "grid_gap": null,
            "max_width": null,
            "order": null,
            "_view_module_version": "1.2.0",
            "grid_template_areas": null,
            "object_position": null,
            "object_fit": null,
            "grid_auto_columns": null,
            "margin": null,
            "display": null,
            "left": null
          }
        },
        "91f727d86dfa4bffa7bcd627af1d09ce": {
          "model_module": "@jupyter-widgets/controls",
          "model_name": "ProgressStyleModel",
          "model_module_version": "1.5.0",
          "state": {
            "_view_name": "StyleView",
            "_model_name": "ProgressStyleModel",
            "description_width": "",
            "_view_module": "@jupyter-widgets/base",
            "_model_module_version": "1.5.0",
            "_view_count": null,
            "_view_module_version": "1.2.0",
            "bar_color": null,
            "_model_module": "@jupyter-widgets/controls"
          }
        },
        "62cf66386d9e42dbaddf13c0cae84a74": {
          "model_module": "@jupyter-widgets/base",
          "model_name": "LayoutModel",
          "model_module_version": "1.2.0",
          "state": {
            "_view_name": "LayoutView",
            "grid_template_rows": null,
            "right": null,
            "justify_content": null,
            "_view_module": "@jupyter-widgets/base",
            "overflow": null,
            "_model_module_version": "1.2.0",
            "_view_count": null,
            "flex_flow": null,
            "width": null,
            "min_width": null,
            "border": null,
            "align_items": null,
            "bottom": null,
            "_model_module": "@jupyter-widgets/base",
            "top": null,
            "grid_column": null,
            "overflow_y": null,
            "overflow_x": null,
            "grid_auto_flow": null,
            "grid_area": null,
            "grid_template_columns": null,
            "flex": null,
            "_model_name": "LayoutModel",
            "justify_items": null,
            "grid_row": null,
            "max_height": null,
            "align_content": null,
            "visibility": null,
            "align_self": null,
            "height": null,
            "min_height": null,
            "padding": null,
            "grid_auto_rows": null,
            "grid_gap": null,
            "max_width": null,
            "order": null,
            "_view_module_version": "1.2.0",
            "grid_template_areas": null,
            "object_position": null,
            "object_fit": null,
            "grid_auto_columns": null,
            "margin": null,
            "display": null,
            "left": null
          }
        },
        "dec6e400683f410383eb9ba244fae38e": {
          "model_module": "@jupyter-widgets/controls",
          "model_name": "DescriptionStyleModel",
          "model_module_version": "1.5.0",
          "state": {
            "_view_name": "StyleView",
            "_model_name": "DescriptionStyleModel",
            "description_width": "",
            "_view_module": "@jupyter-widgets/base",
            "_model_module_version": "1.5.0",
            "_view_count": null,
            "_view_module_version": "1.2.0",
            "_model_module": "@jupyter-widgets/controls"
          }
        },
        "b026461e1b4e4a27b761e766aeb73868": {
          "model_module": "@jupyter-widgets/base",
          "model_name": "LayoutModel",
          "model_module_version": "1.2.0",
          "state": {
            "_view_name": "LayoutView",
            "grid_template_rows": null,
            "right": null,
            "justify_content": null,
            "_view_module": "@jupyter-widgets/base",
            "overflow": null,
            "_model_module_version": "1.2.0",
            "_view_count": null,
            "flex_flow": null,
            "width": null,
            "min_width": null,
            "border": null,
            "align_items": null,
            "bottom": null,
            "_model_module": "@jupyter-widgets/base",
            "top": null,
            "grid_column": null,
            "overflow_y": null,
            "overflow_x": null,
            "grid_auto_flow": null,
            "grid_area": null,
            "grid_template_columns": null,
            "flex": null,
            "_model_name": "LayoutModel",
            "justify_items": null,
            "grid_row": null,
            "max_height": null,
            "align_content": null,
            "visibility": null,
            "align_self": null,
            "height": null,
            "min_height": null,
            "padding": null,
            "grid_auto_rows": null,
            "grid_gap": null,
            "max_width": null,
            "order": null,
            "_view_module_version": "1.2.0",
            "grid_template_areas": null,
            "object_position": null,
            "object_fit": null,
            "grid_auto_columns": null,
            "margin": null,
            "display": null,
            "left": null
          }
        },
        "b7d5f28762784820b8747ac4324e8e47": {
          "model_module": "@jupyter-widgets/controls",
          "model_name": "HBoxModel",
          "model_module_version": "1.5.0",
          "state": {
            "_view_name": "HBoxView",
            "_dom_classes": [],
            "_model_name": "HBoxModel",
            "_view_module": "@jupyter-widgets/controls",
            "_model_module_version": "1.5.0",
            "_view_count": null,
            "_view_module_version": "1.5.0",
            "box_style": "",
            "layout": "IPY_MODEL_d807d3ef052b42d68d5f926d3b33f0dc",
            "_model_module": "@jupyter-widgets/controls",
            "children": [
              "IPY_MODEL_171d3827e6f54d8b896cdc62af9e9824",
              "IPY_MODEL_594ce5302b7a40eab99aff8e1e8e5f80",
              "IPY_MODEL_acfb03165580453c8819b8d08ab6a3ff"
            ]
          }
        },
        "d807d3ef052b42d68d5f926d3b33f0dc": {
          "model_module": "@jupyter-widgets/base",
          "model_name": "LayoutModel",
          "model_module_version": "1.2.0",
          "state": {
            "_view_name": "LayoutView",
            "grid_template_rows": null,
            "right": null,
            "justify_content": null,
            "_view_module": "@jupyter-widgets/base",
            "overflow": null,
            "_model_module_version": "1.2.0",
            "_view_count": null,
            "flex_flow": null,
            "width": null,
            "min_width": null,
            "border": null,
            "align_items": null,
            "bottom": null,
            "_model_module": "@jupyter-widgets/base",
            "top": null,
            "grid_column": null,
            "overflow_y": null,
            "overflow_x": null,
            "grid_auto_flow": null,
            "grid_area": null,
            "grid_template_columns": null,
            "flex": null,
            "_model_name": "LayoutModel",
            "justify_items": null,
            "grid_row": null,
            "max_height": null,
            "align_content": null,
            "visibility": null,
            "align_self": null,
            "height": null,
            "min_height": null,
            "padding": null,
            "grid_auto_rows": null,
            "grid_gap": null,
            "max_width": null,
            "order": null,
            "_view_module_version": "1.2.0",
            "grid_template_areas": null,
            "object_position": null,
            "object_fit": null,
            "grid_auto_columns": null,
            "margin": null,
            "display": null,
            "left": null
          }
        },
        "171d3827e6f54d8b896cdc62af9e9824": {
          "model_module": "@jupyter-widgets/controls",
          "model_name": "HTMLModel",
          "model_module_version": "1.5.0",
          "state": {
            "_view_name": "HTMLView",
            "style": "IPY_MODEL_7fe9f2ed24954926a2ff1a703f3c2b7c",
            "_dom_classes": [],
            "description": "",
            "_model_name": "HTMLModel",
            "placeholder": "​",
            "_view_module": "@jupyter-widgets/controls",
            "_model_module_version": "1.5.0",
            "value": "Stack_CV: 100%",
            "_view_count": null,
            "_view_module_version": "1.5.0",
            "description_tooltip": null,
            "_model_module": "@jupyter-widgets/controls",
            "layout": "IPY_MODEL_9ba817caaabe45a198c7fad568490ed1"
          }
        },
        "594ce5302b7a40eab99aff8e1e8e5f80": {
          "model_module": "@jupyter-widgets/controls",
          "model_name": "FloatProgressModel",
          "model_module_version": "1.5.0",
          "state": {
            "_view_name": "ProgressView",
            "style": "IPY_MODEL_98685961fa6748b291165fa94d849a0a",
            "_dom_classes": [],
            "description": "",
            "_model_name": "FloatProgressModel",
            "bar_style": "success",
            "max": 5,
            "_view_module": "@jupyter-widgets/controls",
            "_model_module_version": "1.5.0",
            "value": 5,
            "_view_count": null,
            "_view_module_version": "1.5.0",
            "orientation": "horizontal",
            "min": 0,
            "description_tooltip": null,
            "_model_module": "@jupyter-widgets/controls",
            "layout": "IPY_MODEL_6558b73ffc484990af39bd13066ca50f"
          }
        },
        "acfb03165580453c8819b8d08ab6a3ff": {
          "model_module": "@jupyter-widgets/controls",
          "model_name": "HTMLModel",
          "model_module_version": "1.5.0",
          "state": {
            "_view_name": "HTMLView",
            "style": "IPY_MODEL_0041664b7b524ba4b5e2a9362a5ec4ed",
            "_dom_classes": [],
            "description": "",
            "_model_name": "HTMLModel",
            "placeholder": "​",
            "_view_module": "@jupyter-widgets/controls",
            "_model_module_version": "1.5.0",
            "value": " 5/5 [00:53&lt;00:00, 10.89s/it]",
            "_view_count": null,
            "_view_module_version": "1.5.0",
            "description_tooltip": null,
            "_model_module": "@jupyter-widgets/controls",
            "layout": "IPY_MODEL_4f95d6df11574361bef3bc016f374015"
          }
        },
        "7fe9f2ed24954926a2ff1a703f3c2b7c": {
          "model_module": "@jupyter-widgets/controls",
          "model_name": "DescriptionStyleModel",
          "model_module_version": "1.5.0",
          "state": {
            "_view_name": "StyleView",
            "_model_name": "DescriptionStyleModel",
            "description_width": "",
            "_view_module": "@jupyter-widgets/base",
            "_model_module_version": "1.5.0",
            "_view_count": null,
            "_view_module_version": "1.2.0",
            "_model_module": "@jupyter-widgets/controls"
          }
        },
        "9ba817caaabe45a198c7fad568490ed1": {
          "model_module": "@jupyter-widgets/base",
          "model_name": "LayoutModel",
          "model_module_version": "1.2.0",
          "state": {
            "_view_name": "LayoutView",
            "grid_template_rows": null,
            "right": null,
            "justify_content": null,
            "_view_module": "@jupyter-widgets/base",
            "overflow": null,
            "_model_module_version": "1.2.0",
            "_view_count": null,
            "flex_flow": null,
            "width": null,
            "min_width": null,
            "border": null,
            "align_items": null,
            "bottom": null,
            "_model_module": "@jupyter-widgets/base",
            "top": null,
            "grid_column": null,
            "overflow_y": null,
            "overflow_x": null,
            "grid_auto_flow": null,
            "grid_area": null,
            "grid_template_columns": null,
            "flex": null,
            "_model_name": "LayoutModel",
            "justify_items": null,
            "grid_row": null,
            "max_height": null,
            "align_content": null,
            "visibility": null,
            "align_self": null,
            "height": null,
            "min_height": null,
            "padding": null,
            "grid_auto_rows": null,
            "grid_gap": null,
            "max_width": null,
            "order": null,
            "_view_module_version": "1.2.0",
            "grid_template_areas": null,
            "object_position": null,
            "object_fit": null,
            "grid_auto_columns": null,
            "margin": null,
            "display": null,
            "left": null
          }
        },
        "98685961fa6748b291165fa94d849a0a": {
          "model_module": "@jupyter-widgets/controls",
          "model_name": "ProgressStyleModel",
          "model_module_version": "1.5.0",
          "state": {
            "_view_name": "StyleView",
            "_model_name": "ProgressStyleModel",
            "description_width": "",
            "_view_module": "@jupyter-widgets/base",
            "_model_module_version": "1.5.0",
            "_view_count": null,
            "_view_module_version": "1.2.0",
            "bar_color": null,
            "_model_module": "@jupyter-widgets/controls"
          }
        },
        "6558b73ffc484990af39bd13066ca50f": {
          "model_module": "@jupyter-widgets/base",
          "model_name": "LayoutModel",
          "model_module_version": "1.2.0",
          "state": {
            "_view_name": "LayoutView",
            "grid_template_rows": null,
            "right": null,
            "justify_content": null,
            "_view_module": "@jupyter-widgets/base",
            "overflow": null,
            "_model_module_version": "1.2.0",
            "_view_count": null,
            "flex_flow": null,
            "width": null,
            "min_width": null,
            "border": null,
            "align_items": null,
            "bottom": null,
            "_model_module": "@jupyter-widgets/base",
            "top": null,
            "grid_column": null,
            "overflow_y": null,
            "overflow_x": null,
            "grid_auto_flow": null,
            "grid_area": null,
            "grid_template_columns": null,
            "flex": null,
            "_model_name": "LayoutModel",
            "justify_items": null,
            "grid_row": null,
            "max_height": null,
            "align_content": null,
            "visibility": null,
            "align_self": null,
            "height": null,
            "min_height": null,
            "padding": null,
            "grid_auto_rows": null,
            "grid_gap": null,
            "max_width": null,
            "order": null,
            "_view_module_version": "1.2.0",
            "grid_template_areas": null,
            "object_position": null,
            "object_fit": null,
            "grid_auto_columns": null,
            "margin": null,
            "display": null,
            "left": null
          }
        },
        "0041664b7b524ba4b5e2a9362a5ec4ed": {
          "model_module": "@jupyter-widgets/controls",
          "model_name": "DescriptionStyleModel",
          "model_module_version": "1.5.0",
          "state": {
            "_view_name": "StyleView",
            "_model_name": "DescriptionStyleModel",
            "description_width": "",
            "_view_module": "@jupyter-widgets/base",
            "_model_module_version": "1.5.0",
            "_view_count": null,
            "_view_module_version": "1.2.0",
            "_model_module": "@jupyter-widgets/controls"
          }
        },
        "4f95d6df11574361bef3bc016f374015": {
          "model_module": "@jupyter-widgets/base",
          "model_name": "LayoutModel",
          "model_module_version": "1.2.0",
          "state": {
            "_view_name": "LayoutView",
            "grid_template_rows": null,
            "right": null,
            "justify_content": null,
            "_view_module": "@jupyter-widgets/base",
            "overflow": null,
            "_model_module_version": "1.2.0",
            "_view_count": null,
            "flex_flow": null,
            "width": null,
            "min_width": null,
            "border": null,
            "align_items": null,
            "bottom": null,
            "_model_module": "@jupyter-widgets/base",
            "top": null,
            "grid_column": null,
            "overflow_y": null,
            "overflow_x": null,
            "grid_auto_flow": null,
            "grid_area": null,
            "grid_template_columns": null,
            "flex": null,
            "_model_name": "LayoutModel",
            "justify_items": null,
            "grid_row": null,
            "max_height": null,
            "align_content": null,
            "visibility": null,
            "align_self": null,
            "height": null,
            "min_height": null,
            "padding": null,
            "grid_auto_rows": null,
            "grid_gap": null,
            "max_width": null,
            "order": null,
            "_view_module_version": "1.2.0",
            "grid_template_areas": null,
            "object_position": null,
            "object_fit": null,
            "grid_auto_columns": null,
            "margin": null,
            "display": null,
            "left": null
          }
        },
        "8077d18dd1cb4d7998924d696d4c3307": {
          "model_module": "@jupyter-widgets/controls",
          "model_name": "HBoxModel",
          "model_module_version": "1.5.0",
          "state": {
            "_view_name": "HBoxView",
            "_dom_classes": [],
            "_model_name": "HBoxModel",
            "_view_module": "@jupyter-widgets/controls",
            "_model_module_version": "1.5.0",
            "_view_count": null,
            "_view_module_version": "1.5.0",
            "box_style": "",
            "layout": "IPY_MODEL_154992a1711d46d8b202b272dd35d376",
            "_model_module": "@jupyter-widgets/controls",
            "children": [
              "IPY_MODEL_d2faa76b1b6246f8b862b5eee9c3e20e",
              "IPY_MODEL_7cb1de9332b44650984c3dc5d5678e2e",
              "IPY_MODEL_9aebf1fc648f4efca2dac2e5e910886b"
            ]
          }
        },
        "154992a1711d46d8b202b272dd35d376": {
          "model_module": "@jupyter-widgets/base",
          "model_name": "LayoutModel",
          "model_module_version": "1.2.0",
          "state": {
            "_view_name": "LayoutView",
            "grid_template_rows": null,
            "right": null,
            "justify_content": null,
            "_view_module": "@jupyter-widgets/base",
            "overflow": null,
            "_model_module_version": "1.2.0",
            "_view_count": null,
            "flex_flow": null,
            "width": null,
            "min_width": null,
            "border": null,
            "align_items": null,
            "bottom": null,
            "_model_module": "@jupyter-widgets/base",
            "top": null,
            "grid_column": null,
            "overflow_y": null,
            "overflow_x": null,
            "grid_auto_flow": null,
            "grid_area": null,
            "grid_template_columns": null,
            "flex": null,
            "_model_name": "LayoutModel",
            "justify_items": null,
            "grid_row": null,
            "max_height": null,
            "align_content": null,
            "visibility": null,
            "align_self": null,
            "height": null,
            "min_height": null,
            "padding": null,
            "grid_auto_rows": null,
            "grid_gap": null,
            "max_width": null,
            "order": null,
            "_view_module_version": "1.2.0",
            "grid_template_areas": null,
            "object_position": null,
            "object_fit": null,
            "grid_auto_columns": null,
            "margin": null,
            "display": null,
            "left": null
          }
        },
        "d2faa76b1b6246f8b862b5eee9c3e20e": {
          "model_module": "@jupyter-widgets/controls",
          "model_name": "HTMLModel",
          "model_module_version": "1.5.0",
          "state": {
            "_view_name": "HTMLView",
            "style": "IPY_MODEL_ba50560e4ec941da9195e6b9fb818cae",
            "_dom_classes": [],
            "description": "",
            "_model_name": "HTMLModel",
            "placeholder": "​",
            "_view_module": "@jupyter-widgets/controls",
            "_model_module_version": "1.5.0",
            "value": "Stack_CV: 100%",
            "_view_count": null,
            "_view_module_version": "1.5.0",
            "description_tooltip": null,
            "_model_module": "@jupyter-widgets/controls",
            "layout": "IPY_MODEL_500539f83a304c55b088be10bd6d5f21"
          }
        },
        "7cb1de9332b44650984c3dc5d5678e2e": {
          "model_module": "@jupyter-widgets/controls",
          "model_name": "FloatProgressModel",
          "model_module_version": "1.5.0",
          "state": {
            "_view_name": "ProgressView",
            "style": "IPY_MODEL_3435833b29ea459abe45f12754e0692a",
            "_dom_classes": [],
            "description": "",
            "_model_name": "FloatProgressModel",
            "bar_style": "success",
            "max": 5,
            "_view_module": "@jupyter-widgets/controls",
            "_model_module_version": "1.5.0",
            "value": 5,
            "_view_count": null,
            "_view_module_version": "1.5.0",
            "orientation": "horizontal",
            "min": 0,
            "description_tooltip": null,
            "_model_module": "@jupyter-widgets/controls",
            "layout": "IPY_MODEL_5837e4b82e5f478cabf06eda54029c29"
          }
        },
        "9aebf1fc648f4efca2dac2e5e910886b": {
          "model_module": "@jupyter-widgets/controls",
          "model_name": "HTMLModel",
          "model_module_version": "1.5.0",
          "state": {
            "_view_name": "HTMLView",
            "style": "IPY_MODEL_f3bf14561a5849dfb240360c0c122e32",
            "_dom_classes": [],
            "description": "",
            "_model_name": "HTMLModel",
            "placeholder": "​",
            "_view_module": "@jupyter-widgets/controls",
            "_model_module_version": "1.5.0",
            "value": " 5/5 [01:02&lt;00:00, 12.12s/it]",
            "_view_count": null,
            "_view_module_version": "1.5.0",
            "description_tooltip": null,
            "_model_module": "@jupyter-widgets/controls",
            "layout": "IPY_MODEL_94469aaf9b0344f18d7d65d534f43356"
          }
        },
        "ba50560e4ec941da9195e6b9fb818cae": {
          "model_module": "@jupyter-widgets/controls",
          "model_name": "DescriptionStyleModel",
          "model_module_version": "1.5.0",
          "state": {
            "_view_name": "StyleView",
            "_model_name": "DescriptionStyleModel",
            "description_width": "",
            "_view_module": "@jupyter-widgets/base",
            "_model_module_version": "1.5.0",
            "_view_count": null,
            "_view_module_version": "1.2.0",
            "_model_module": "@jupyter-widgets/controls"
          }
        },
        "500539f83a304c55b088be10bd6d5f21": {
          "model_module": "@jupyter-widgets/base",
          "model_name": "LayoutModel",
          "model_module_version": "1.2.0",
          "state": {
            "_view_name": "LayoutView",
            "grid_template_rows": null,
            "right": null,
            "justify_content": null,
            "_view_module": "@jupyter-widgets/base",
            "overflow": null,
            "_model_module_version": "1.2.0",
            "_view_count": null,
            "flex_flow": null,
            "width": null,
            "min_width": null,
            "border": null,
            "align_items": null,
            "bottom": null,
            "_model_module": "@jupyter-widgets/base",
            "top": null,
            "grid_column": null,
            "overflow_y": null,
            "overflow_x": null,
            "grid_auto_flow": null,
            "grid_area": null,
            "grid_template_columns": null,
            "flex": null,
            "_model_name": "LayoutModel",
            "justify_items": null,
            "grid_row": null,
            "max_height": null,
            "align_content": null,
            "visibility": null,
            "align_self": null,
            "height": null,
            "min_height": null,
            "padding": null,
            "grid_auto_rows": null,
            "grid_gap": null,
            "max_width": null,
            "order": null,
            "_view_module_version": "1.2.0",
            "grid_template_areas": null,
            "object_position": null,
            "object_fit": null,
            "grid_auto_columns": null,
            "margin": null,
            "display": null,
            "left": null
          }
        },
        "3435833b29ea459abe45f12754e0692a": {
          "model_module": "@jupyter-widgets/controls",
          "model_name": "ProgressStyleModel",
          "model_module_version": "1.5.0",
          "state": {
            "_view_name": "StyleView",
            "_model_name": "ProgressStyleModel",
            "description_width": "",
            "_view_module": "@jupyter-widgets/base",
            "_model_module_version": "1.5.0",
            "_view_count": null,
            "_view_module_version": "1.2.0",
            "bar_color": null,
            "_model_module": "@jupyter-widgets/controls"
          }
        },
        "5837e4b82e5f478cabf06eda54029c29": {
          "model_module": "@jupyter-widgets/base",
          "model_name": "LayoutModel",
          "model_module_version": "1.2.0",
          "state": {
            "_view_name": "LayoutView",
            "grid_template_rows": null,
            "right": null,
            "justify_content": null,
            "_view_module": "@jupyter-widgets/base",
            "overflow": null,
            "_model_module_version": "1.2.0",
            "_view_count": null,
            "flex_flow": null,
            "width": null,
            "min_width": null,
            "border": null,
            "align_items": null,
            "bottom": null,
            "_model_module": "@jupyter-widgets/base",
            "top": null,
            "grid_column": null,
            "overflow_y": null,
            "overflow_x": null,
            "grid_auto_flow": null,
            "grid_area": null,
            "grid_template_columns": null,
            "flex": null,
            "_model_name": "LayoutModel",
            "justify_items": null,
            "grid_row": null,
            "max_height": null,
            "align_content": null,
            "visibility": null,
            "align_self": null,
            "height": null,
            "min_height": null,
            "padding": null,
            "grid_auto_rows": null,
            "grid_gap": null,
            "max_width": null,
            "order": null,
            "_view_module_version": "1.2.0",
            "grid_template_areas": null,
            "object_position": null,
            "object_fit": null,
            "grid_auto_columns": null,
            "margin": null,
            "display": null,
            "left": null
          }
        },
        "f3bf14561a5849dfb240360c0c122e32": {
          "model_module": "@jupyter-widgets/controls",
          "model_name": "DescriptionStyleModel",
          "model_module_version": "1.5.0",
          "state": {
            "_view_name": "StyleView",
            "_model_name": "DescriptionStyleModel",
            "description_width": "",
            "_view_module": "@jupyter-widgets/base",
            "_model_module_version": "1.5.0",
            "_view_count": null,
            "_view_module_version": "1.2.0",
            "_model_module": "@jupyter-widgets/controls"
          }
        },
        "94469aaf9b0344f18d7d65d534f43356": {
          "model_module": "@jupyter-widgets/base",
          "model_name": "LayoutModel",
          "model_module_version": "1.2.0",
          "state": {
            "_view_name": "LayoutView",
            "grid_template_rows": null,
            "right": null,
            "justify_content": null,
            "_view_module": "@jupyter-widgets/base",
            "overflow": null,
            "_model_module_version": "1.2.0",
            "_view_count": null,
            "flex_flow": null,
            "width": null,
            "min_width": null,
            "border": null,
            "align_items": null,
            "bottom": null,
            "_model_module": "@jupyter-widgets/base",
            "top": null,
            "grid_column": null,
            "overflow_y": null,
            "overflow_x": null,
            "grid_auto_flow": null,
            "grid_area": null,
            "grid_template_columns": null,
            "flex": null,
            "_model_name": "LayoutModel",
            "justify_items": null,
            "grid_row": null,
            "max_height": null,
            "align_content": null,
            "visibility": null,
            "align_self": null,
            "height": null,
            "min_height": null,
            "padding": null,
            "grid_auto_rows": null,
            "grid_gap": null,
            "max_width": null,
            "order": null,
            "_view_module_version": "1.2.0",
            "grid_template_areas": null,
            "object_position": null,
            "object_fit": null,
            "grid_auto_columns": null,
            "margin": null,
            "display": null,
            "left": null
          }
        },
        "b722d2cfecd444b4b4136cfdb5aeea89": {
          "model_module": "@jupyter-widgets/controls",
          "model_name": "HBoxModel",
          "model_module_version": "1.5.0",
          "state": {
            "_view_name": "HBoxView",
            "_dom_classes": [],
            "_model_name": "HBoxModel",
            "_view_module": "@jupyter-widgets/controls",
            "_model_module_version": "1.5.0",
            "_view_count": null,
            "_view_module_version": "1.5.0",
            "box_style": "",
            "layout": "IPY_MODEL_e0b5c2c3788145949dd09687e0235409",
            "_model_module": "@jupyter-widgets/controls",
            "children": [
              "IPY_MODEL_ba84452ae36f4a6fae3f4ff440af70e6",
              "IPY_MODEL_0ff6808b83bb45ff9ce55441272cb32e",
              "IPY_MODEL_1947a82495624f83965021dcbc79efcb"
            ]
          }
        },
        "e0b5c2c3788145949dd09687e0235409": {
          "model_module": "@jupyter-widgets/base",
          "model_name": "LayoutModel",
          "model_module_version": "1.2.0",
          "state": {
            "_view_name": "LayoutView",
            "grid_template_rows": null,
            "right": null,
            "justify_content": null,
            "_view_module": "@jupyter-widgets/base",
            "overflow": null,
            "_model_module_version": "1.2.0",
            "_view_count": null,
            "flex_flow": null,
            "width": null,
            "min_width": null,
            "border": null,
            "align_items": null,
            "bottom": null,
            "_model_module": "@jupyter-widgets/base",
            "top": null,
            "grid_column": null,
            "overflow_y": null,
            "overflow_x": null,
            "grid_auto_flow": null,
            "grid_area": null,
            "grid_template_columns": null,
            "flex": null,
            "_model_name": "LayoutModel",
            "justify_items": null,
            "grid_row": null,
            "max_height": null,
            "align_content": null,
            "visibility": null,
            "align_self": null,
            "height": null,
            "min_height": null,
            "padding": null,
            "grid_auto_rows": null,
            "grid_gap": null,
            "max_width": null,
            "order": null,
            "_view_module_version": "1.2.0",
            "grid_template_areas": null,
            "object_position": null,
            "object_fit": null,
            "grid_auto_columns": null,
            "margin": null,
            "display": null,
            "left": null
          }
        },
        "ba84452ae36f4a6fae3f4ff440af70e6": {
          "model_module": "@jupyter-widgets/controls",
          "model_name": "HTMLModel",
          "model_module_version": "1.5.0",
          "state": {
            "_view_name": "HTMLView",
            "style": "IPY_MODEL_ffbe7a91b74742b4bddad27b4516609c",
            "_dom_classes": [],
            "description": "",
            "_model_name": "HTMLModel",
            "placeholder": "​",
            "_view_module": "@jupyter-widgets/controls",
            "_model_module_version": "1.5.0",
            "value": "Stack_CV: 100%",
            "_view_count": null,
            "_view_module_version": "1.5.0",
            "description_tooltip": null,
            "_model_module": "@jupyter-widgets/controls",
            "layout": "IPY_MODEL_82d662b52f70447eb8a13f8731aa187e"
          }
        },
        "0ff6808b83bb45ff9ce55441272cb32e": {
          "model_module": "@jupyter-widgets/controls",
          "model_name": "FloatProgressModel",
          "model_module_version": "1.5.0",
          "state": {
            "_view_name": "ProgressView",
            "style": "IPY_MODEL_4a50c0a1da2646cb850cb40be4dd09d3",
            "_dom_classes": [],
            "description": "",
            "_model_name": "FloatProgressModel",
            "bar_style": "success",
            "max": 5,
            "_view_module": "@jupyter-widgets/controls",
            "_model_module_version": "1.5.0",
            "value": 5,
            "_view_count": null,
            "_view_module_version": "1.5.0",
            "orientation": "horizontal",
            "min": 0,
            "description_tooltip": null,
            "_model_module": "@jupyter-widgets/controls",
            "layout": "IPY_MODEL_0d65cc352a2e4735badb5d31d9d3c42e"
          }
        },
        "1947a82495624f83965021dcbc79efcb": {
          "model_module": "@jupyter-widgets/controls",
          "model_name": "HTMLModel",
          "model_module_version": "1.5.0",
          "state": {
            "_view_name": "HTMLView",
            "style": "IPY_MODEL_12e95653e1b34577b3fe3d110f88bc27",
            "_dom_classes": [],
            "description": "",
            "_model_name": "HTMLModel",
            "placeholder": "​",
            "_view_module": "@jupyter-widgets/controls",
            "_model_module_version": "1.5.0",
            "value": " 5/5 [00:58&lt;00:00, 11.69s/it]",
            "_view_count": null,
            "_view_module_version": "1.5.0",
            "description_tooltip": null,
            "_model_module": "@jupyter-widgets/controls",
            "layout": "IPY_MODEL_ddef9ed2c8f645178a953eb75ca1f393"
          }
        },
        "ffbe7a91b74742b4bddad27b4516609c": {
          "model_module": "@jupyter-widgets/controls",
          "model_name": "DescriptionStyleModel",
          "model_module_version": "1.5.0",
          "state": {
            "_view_name": "StyleView",
            "_model_name": "DescriptionStyleModel",
            "description_width": "",
            "_view_module": "@jupyter-widgets/base",
            "_model_module_version": "1.5.0",
            "_view_count": null,
            "_view_module_version": "1.2.0",
            "_model_module": "@jupyter-widgets/controls"
          }
        },
        "82d662b52f70447eb8a13f8731aa187e": {
          "model_module": "@jupyter-widgets/base",
          "model_name": "LayoutModel",
          "model_module_version": "1.2.0",
          "state": {
            "_view_name": "LayoutView",
            "grid_template_rows": null,
            "right": null,
            "justify_content": null,
            "_view_module": "@jupyter-widgets/base",
            "overflow": null,
            "_model_module_version": "1.2.0",
            "_view_count": null,
            "flex_flow": null,
            "width": null,
            "min_width": null,
            "border": null,
            "align_items": null,
            "bottom": null,
            "_model_module": "@jupyter-widgets/base",
            "top": null,
            "grid_column": null,
            "overflow_y": null,
            "overflow_x": null,
            "grid_auto_flow": null,
            "grid_area": null,
            "grid_template_columns": null,
            "flex": null,
            "_model_name": "LayoutModel",
            "justify_items": null,
            "grid_row": null,
            "max_height": null,
            "align_content": null,
            "visibility": null,
            "align_self": null,
            "height": null,
            "min_height": null,
            "padding": null,
            "grid_auto_rows": null,
            "grid_gap": null,
            "max_width": null,
            "order": null,
            "_view_module_version": "1.2.0",
            "grid_template_areas": null,
            "object_position": null,
            "object_fit": null,
            "grid_auto_columns": null,
            "margin": null,
            "display": null,
            "left": null
          }
        },
        "4a50c0a1da2646cb850cb40be4dd09d3": {
          "model_module": "@jupyter-widgets/controls",
          "model_name": "ProgressStyleModel",
          "model_module_version": "1.5.0",
          "state": {
            "_view_name": "StyleView",
            "_model_name": "ProgressStyleModel",
            "description_width": "",
            "_view_module": "@jupyter-widgets/base",
            "_model_module_version": "1.5.0",
            "_view_count": null,
            "_view_module_version": "1.2.0",
            "bar_color": null,
            "_model_module": "@jupyter-widgets/controls"
          }
        },
        "0d65cc352a2e4735badb5d31d9d3c42e": {
          "model_module": "@jupyter-widgets/base",
          "model_name": "LayoutModel",
          "model_module_version": "1.2.0",
          "state": {
            "_view_name": "LayoutView",
            "grid_template_rows": null,
            "right": null,
            "justify_content": null,
            "_view_module": "@jupyter-widgets/base",
            "overflow": null,
            "_model_module_version": "1.2.0",
            "_view_count": null,
            "flex_flow": null,
            "width": null,
            "min_width": null,
            "border": null,
            "align_items": null,
            "bottom": null,
            "_model_module": "@jupyter-widgets/base",
            "top": null,
            "grid_column": null,
            "overflow_y": null,
            "overflow_x": null,
            "grid_auto_flow": null,
            "grid_area": null,
            "grid_template_columns": null,
            "flex": null,
            "_model_name": "LayoutModel",
            "justify_items": null,
            "grid_row": null,
            "max_height": null,
            "align_content": null,
            "visibility": null,
            "align_self": null,
            "height": null,
            "min_height": null,
            "padding": null,
            "grid_auto_rows": null,
            "grid_gap": null,
            "max_width": null,
            "order": null,
            "_view_module_version": "1.2.0",
            "grid_template_areas": null,
            "object_position": null,
            "object_fit": null,
            "grid_auto_columns": null,
            "margin": null,
            "display": null,
            "left": null
          }
        },
        "12e95653e1b34577b3fe3d110f88bc27": {
          "model_module": "@jupyter-widgets/controls",
          "model_name": "DescriptionStyleModel",
          "model_module_version": "1.5.0",
          "state": {
            "_view_name": "StyleView",
            "_model_name": "DescriptionStyleModel",
            "description_width": "",
            "_view_module": "@jupyter-widgets/base",
            "_model_module_version": "1.5.0",
            "_view_count": null,
            "_view_module_version": "1.2.0",
            "_model_module": "@jupyter-widgets/controls"
          }
        },
        "ddef9ed2c8f645178a953eb75ca1f393": {
          "model_module": "@jupyter-widgets/base",
          "model_name": "LayoutModel",
          "model_module_version": "1.2.0",
          "state": {
            "_view_name": "LayoutView",
            "grid_template_rows": null,
            "right": null,
            "justify_content": null,
            "_view_module": "@jupyter-widgets/base",
            "overflow": null,
            "_model_module_version": "1.2.0",
            "_view_count": null,
            "flex_flow": null,
            "width": null,
            "min_width": null,
            "border": null,
            "align_items": null,
            "bottom": null,
            "_model_module": "@jupyter-widgets/base",
            "top": null,
            "grid_column": null,
            "overflow_y": null,
            "overflow_x": null,
            "grid_auto_flow": null,
            "grid_area": null,
            "grid_template_columns": null,
            "flex": null,
            "_model_name": "LayoutModel",
            "justify_items": null,
            "grid_row": null,
            "max_height": null,
            "align_content": null,
            "visibility": null,
            "align_self": null,
            "height": null,
            "min_height": null,
            "padding": null,
            "grid_auto_rows": null,
            "grid_gap": null,
            "max_width": null,
            "order": null,
            "_view_module_version": "1.2.0",
            "grid_template_areas": null,
            "object_position": null,
            "object_fit": null,
            "grid_auto_columns": null,
            "margin": null,
            "display": null,
            "left": null
          }
        },
        "be7647aa1d7f4d1894eb8502bf889062": {
          "model_module": "@jupyter-widgets/controls",
          "model_name": "HBoxModel",
          "model_module_version": "1.5.0",
          "state": {
            "_view_name": "HBoxView",
            "_dom_classes": [],
            "_model_name": "HBoxModel",
            "_view_module": "@jupyter-widgets/controls",
            "_model_module_version": "1.5.0",
            "_view_count": null,
            "_view_module_version": "1.5.0",
            "box_style": "",
            "layout": "IPY_MODEL_f6da4dd72af4420d8c19d3b40b31f34f",
            "_model_module": "@jupyter-widgets/controls",
            "children": [
              "IPY_MODEL_add6ab5f9d224c43b0f7e7ab2e23f14a",
              "IPY_MODEL_bf2383448aa145cea51c1491b652dae7",
              "IPY_MODEL_a24e27da328948a38145372ac37eb363"
            ]
          }
        },
        "f6da4dd72af4420d8c19d3b40b31f34f": {
          "model_module": "@jupyter-widgets/base",
          "model_name": "LayoutModel",
          "model_module_version": "1.2.0",
          "state": {
            "_view_name": "LayoutView",
            "grid_template_rows": null,
            "right": null,
            "justify_content": null,
            "_view_module": "@jupyter-widgets/base",
            "overflow": null,
            "_model_module_version": "1.2.0",
            "_view_count": null,
            "flex_flow": null,
            "width": null,
            "min_width": null,
            "border": null,
            "align_items": null,
            "bottom": null,
            "_model_module": "@jupyter-widgets/base",
            "top": null,
            "grid_column": null,
            "overflow_y": null,
            "overflow_x": null,
            "grid_auto_flow": null,
            "grid_area": null,
            "grid_template_columns": null,
            "flex": null,
            "_model_name": "LayoutModel",
            "justify_items": null,
            "grid_row": null,
            "max_height": null,
            "align_content": null,
            "visibility": null,
            "align_self": null,
            "height": null,
            "min_height": null,
            "padding": null,
            "grid_auto_rows": null,
            "grid_gap": null,
            "max_width": null,
            "order": null,
            "_view_module_version": "1.2.0",
            "grid_template_areas": null,
            "object_position": null,
            "object_fit": null,
            "grid_auto_columns": null,
            "margin": null,
            "display": null,
            "left": null
          }
        },
        "add6ab5f9d224c43b0f7e7ab2e23f14a": {
          "model_module": "@jupyter-widgets/controls",
          "model_name": "HTMLModel",
          "model_module_version": "1.5.0",
          "state": {
            "_view_name": "HTMLView",
            "style": "IPY_MODEL_3070c058e16f4048b27335d26eecc094",
            "_dom_classes": [],
            "description": "",
            "_model_name": "HTMLModel",
            "placeholder": "​",
            "_view_module": "@jupyter-widgets/controls",
            "_model_module_version": "1.5.0",
            "value": "Stack_CV: 100%",
            "_view_count": null,
            "_view_module_version": "1.5.0",
            "description_tooltip": null,
            "_model_module": "@jupyter-widgets/controls",
            "layout": "IPY_MODEL_061d596947a748b3b187c28ee03291b6"
          }
        },
        "bf2383448aa145cea51c1491b652dae7": {
          "model_module": "@jupyter-widgets/controls",
          "model_name": "FloatProgressModel",
          "model_module_version": "1.5.0",
          "state": {
            "_view_name": "ProgressView",
            "style": "IPY_MODEL_351b88e9c30842fd9a4111a24ee750e4",
            "_dom_classes": [],
            "description": "",
            "_model_name": "FloatProgressModel",
            "bar_style": "success",
            "max": 5,
            "_view_module": "@jupyter-widgets/controls",
            "_model_module_version": "1.5.0",
            "value": 5,
            "_view_count": null,
            "_view_module_version": "1.5.0",
            "orientation": "horizontal",
            "min": 0,
            "description_tooltip": null,
            "_model_module": "@jupyter-widgets/controls",
            "layout": "IPY_MODEL_7ba731a50c1a405bb2562f3e7992aa21"
          }
        },
        "a24e27da328948a38145372ac37eb363": {
          "model_module": "@jupyter-widgets/controls",
          "model_name": "HTMLModel",
          "model_module_version": "1.5.0",
          "state": {
            "_view_name": "HTMLView",
            "style": "IPY_MODEL_51aa79fcc1a9438c8c1f14bca0f197c1",
            "_dom_classes": [],
            "description": "",
            "_model_name": "HTMLModel",
            "placeholder": "​",
            "_view_module": "@jupyter-widgets/controls",
            "_model_module_version": "1.5.0",
            "value": " 5/5 [01:06&lt;00:00, 12.84s/it]",
            "_view_count": null,
            "_view_module_version": "1.5.0",
            "description_tooltip": null,
            "_model_module": "@jupyter-widgets/controls",
            "layout": "IPY_MODEL_720da0c678014e9b836d8d7c5305f2e2"
          }
        },
        "3070c058e16f4048b27335d26eecc094": {
          "model_module": "@jupyter-widgets/controls",
          "model_name": "DescriptionStyleModel",
          "model_module_version": "1.5.0",
          "state": {
            "_view_name": "StyleView",
            "_model_name": "DescriptionStyleModel",
            "description_width": "",
            "_view_module": "@jupyter-widgets/base",
            "_model_module_version": "1.5.0",
            "_view_count": null,
            "_view_module_version": "1.2.0",
            "_model_module": "@jupyter-widgets/controls"
          }
        },
        "061d596947a748b3b187c28ee03291b6": {
          "model_module": "@jupyter-widgets/base",
          "model_name": "LayoutModel",
          "model_module_version": "1.2.0",
          "state": {
            "_view_name": "LayoutView",
            "grid_template_rows": null,
            "right": null,
            "justify_content": null,
            "_view_module": "@jupyter-widgets/base",
            "overflow": null,
            "_model_module_version": "1.2.0",
            "_view_count": null,
            "flex_flow": null,
            "width": null,
            "min_width": null,
            "border": null,
            "align_items": null,
            "bottom": null,
            "_model_module": "@jupyter-widgets/base",
            "top": null,
            "grid_column": null,
            "overflow_y": null,
            "overflow_x": null,
            "grid_auto_flow": null,
            "grid_area": null,
            "grid_template_columns": null,
            "flex": null,
            "_model_name": "LayoutModel",
            "justify_items": null,
            "grid_row": null,
            "max_height": null,
            "align_content": null,
            "visibility": null,
            "align_self": null,
            "height": null,
            "min_height": null,
            "padding": null,
            "grid_auto_rows": null,
            "grid_gap": null,
            "max_width": null,
            "order": null,
            "_view_module_version": "1.2.0",
            "grid_template_areas": null,
            "object_position": null,
            "object_fit": null,
            "grid_auto_columns": null,
            "margin": null,
            "display": null,
            "left": null
          }
        },
        "351b88e9c30842fd9a4111a24ee750e4": {
          "model_module": "@jupyter-widgets/controls",
          "model_name": "ProgressStyleModel",
          "model_module_version": "1.5.0",
          "state": {
            "_view_name": "StyleView",
            "_model_name": "ProgressStyleModel",
            "description_width": "",
            "_view_module": "@jupyter-widgets/base",
            "_model_module_version": "1.5.0",
            "_view_count": null,
            "_view_module_version": "1.2.0",
            "bar_color": null,
            "_model_module": "@jupyter-widgets/controls"
          }
        },
        "7ba731a50c1a405bb2562f3e7992aa21": {
          "model_module": "@jupyter-widgets/base",
          "model_name": "LayoutModel",
          "model_module_version": "1.2.0",
          "state": {
            "_view_name": "LayoutView",
            "grid_template_rows": null,
            "right": null,
            "justify_content": null,
            "_view_module": "@jupyter-widgets/base",
            "overflow": null,
            "_model_module_version": "1.2.0",
            "_view_count": null,
            "flex_flow": null,
            "width": null,
            "min_width": null,
            "border": null,
            "align_items": null,
            "bottom": null,
            "_model_module": "@jupyter-widgets/base",
            "top": null,
            "grid_column": null,
            "overflow_y": null,
            "overflow_x": null,
            "grid_auto_flow": null,
            "grid_area": null,
            "grid_template_columns": null,
            "flex": null,
            "_model_name": "LayoutModel",
            "justify_items": null,
            "grid_row": null,
            "max_height": null,
            "align_content": null,
            "visibility": null,
            "align_self": null,
            "height": null,
            "min_height": null,
            "padding": null,
            "grid_auto_rows": null,
            "grid_gap": null,
            "max_width": null,
            "order": null,
            "_view_module_version": "1.2.0",
            "grid_template_areas": null,
            "object_position": null,
            "object_fit": null,
            "grid_auto_columns": null,
            "margin": null,
            "display": null,
            "left": null
          }
        },
        "51aa79fcc1a9438c8c1f14bca0f197c1": {
          "model_module": "@jupyter-widgets/controls",
          "model_name": "DescriptionStyleModel",
          "model_module_version": "1.5.0",
          "state": {
            "_view_name": "StyleView",
            "_model_name": "DescriptionStyleModel",
            "description_width": "",
            "_view_module": "@jupyter-widgets/base",
            "_model_module_version": "1.5.0",
            "_view_count": null,
            "_view_module_version": "1.2.0",
            "_model_module": "@jupyter-widgets/controls"
          }
        },
        "720da0c678014e9b836d8d7c5305f2e2": {
          "model_module": "@jupyter-widgets/base",
          "model_name": "LayoutModel",
          "model_module_version": "1.2.0",
          "state": {
            "_view_name": "LayoutView",
            "grid_template_rows": null,
            "right": null,
            "justify_content": null,
            "_view_module": "@jupyter-widgets/base",
            "overflow": null,
            "_model_module_version": "1.2.0",
            "_view_count": null,
            "flex_flow": null,
            "width": null,
            "min_width": null,
            "border": null,
            "align_items": null,
            "bottom": null,
            "_model_module": "@jupyter-widgets/base",
            "top": null,
            "grid_column": null,
            "overflow_y": null,
            "overflow_x": null,
            "grid_auto_flow": null,
            "grid_area": null,
            "grid_template_columns": null,
            "flex": null,
            "_model_name": "LayoutModel",
            "justify_items": null,
            "grid_row": null,
            "max_height": null,
            "align_content": null,
            "visibility": null,
            "align_self": null,
            "height": null,
            "min_height": null,
            "padding": null,
            "grid_auto_rows": null,
            "grid_gap": null,
            "max_width": null,
            "order": null,
            "_view_module_version": "1.2.0",
            "grid_template_areas": null,
            "object_position": null,
            "object_fit": null,
            "grid_auto_columns": null,
            "margin": null,
            "display": null,
            "left": null
          }
        }
      }
    }
  },
  "cells": [
    {
      "cell_type": "markdown",
      "metadata": {
        "id": "view-in-github",
        "colab_type": "text"
      },
      "source": [
        "<a href=\"https://colab.research.google.com/github/JayAhn0104/Kaggle/blob/main/Tabular_data/Classification/Titanic/Tutorial.ipynb\" target=\"_parent\"><img src=\"https://colab.research.google.com/assets/colab-badge.svg\" alt=\"Open In Colab\"/></a>"
      ]
    },
    {
      "cell_type": "markdown",
      "source": [
        "# Recommendations\n",
        "\n",
        "This notebook is written in google colab.\n",
        "\n",
        "To see some interactive plots, please enter the colab link above."
      ],
      "metadata": {
        "id": "_3B0ntnUzeni"
      }
    },
    {
      "cell_type": "code",
      "execution_count": null,
      "metadata": {
        "colab": {
          "base_uri": "https://localhost:8080/"
        },
        "id": "6XtPKOJN3WPq",
        "outputId": "5424b009-b856-4625-80c3-34b017173a99"
      },
      "outputs": [
        {
          "output_type": "stream",
          "name": "stdout",
          "text": [
            "Mounted at /content/drive\n"
          ]
        }
      ],
      "source": [
        "from google.colab import drive\n",
        "drive.mount('/content/drive')"
      ]
    },
    {
      "cell_type": "markdown",
      "source": [
        "# Overview\n",
        "\n",
        "This notebook provides the 'proper workflow' for kaggle submission.\n",
        "\n",
        "The workflow is divided into three main steps.\n",
        "1. Data preprocessing\n",
        "2. Model selection (hyper parameter tuning, model combination, model comparison)\n",
        "3. Training final model & Prediction on Test-set\n",
        "\n",
        "At each stage, detailed descriptions of the work and an appropriate procedure will be provided.\n",
        "\n",
        "Through this notebook, readers can learn the 'proper workflow' to be done for kaggle submission, \n",
        "and using this as a basic structure, someone will be able to apply this to other competitions easily with some adjustments\n",
        "\n",
        "**Warnings**:\n",
        "- The purpose of this notebook\n",
        "  - This notebook focuses on the 'procedure' rather than the 'result'. \n",
        "  - Thus ths notebook does not guide you on how to achieve the top score. Since I personally think that any result can only have meaning through an appropriate procedure.\n",
        "  - However, following this notebook, you will get the top 5% result in titanic kaggle competition\n",
        "\n",
        "- The readers this notebook assumes\n",
        "  - Who are aware of the basic usage of data processing tools (e.g., numpy, pandas)\n",
        "  - Who are aware of the basic concepts of machine learning models \n",
        "\n"
      ],
      "metadata": {
        "id": "KYx0mgz84_OC"
      }
    },
    {
      "cell_type": "markdown",
      "source": [
        "# 0. Configuration\n",
        "\n",
        "Set the configurations for this notebook"
      ],
      "metadata": {
        "id": "CLNNcWQ-Ecfy"
      }
    },
    {
      "cell_type": "code",
      "source": [
        "config = {\n",
        "    'data_name': 'Titanic',\n",
        "    'random_state': 2022\n",
        "}"
      ],
      "metadata": {
        "id": "PHuT_LCKEeaQ"
      },
      "execution_count": null,
      "outputs": []
    },
    {
      "cell_type": "markdown",
      "source": [
        "# 1. Data preprocessing\n",
        "\n",
        "The data preprocessing works are divided into 8 steps here.\n",
        "\n",
        "Some of these steps are mandatory and some are optional.\n",
        "\n",
        "Optional steps are marked separately.\n",
        "\n",
        "It is important to go through each step in order.\n",
        "Be careful not to reverse the order."
      ],
      "metadata": {
        "id": "gH2oJD3ezQD6"
      }
    },
    {
      "cell_type": "markdown",
      "source": [
        "## 1-1. Load Dataset\n",
        "\n",
        "Load train-set and test-set on working environment"
      ],
      "metadata": {
        "id": "ROLq1dG118am"
      }
    },
    {
      "cell_type": "code",
      "source": [
        "import numpy as np\n",
        "import pandas as pd\n",
        "import os\n",
        "\n",
        "train = pd.read_csv('/content/drive/MyDrive/Work/Kaggle/{}/Data/train.csv'.format(config['data_name']))\n",
        "test = pd.read_csv('/content/drive/MyDrive/Work/Kaggle/{}/Data/test.csv'.format(config['data_name']))"
      ],
      "metadata": {
        "id": "OmHiIN8l4HrR"
      },
      "execution_count": null,
      "outputs": []
    },
    {
      "cell_type": "markdown",
      "source": [
        "### > Concatenate the 'train' and 'test' data for preprocessing\n",
        "\n",
        "Data preprocessing work should be applied equally for train-set and test-set.\n",
        "\n",
        "In order to work at once, exclude the response variable 'Survived' from 'train' and combine it with 'test'."
      ],
      "metadata": {
        "id": "3PHhKPXR3cYC"
      }
    },
    {
      "cell_type": "code",
      "source": [
        "all_features = pd.concat((train.drop(['Survived'], axis=1), test), axis=0)"
      ],
      "metadata": {
        "id": "bNH2UB_vEsX8"
      },
      "execution_count": null,
      "outputs": []
    },
    {
      "cell_type": "markdown",
      "source": [
        "## 1-2. Missing Value Treatment\n",
        "\n",
        "Missing (NA) values in Data must be treated properly before model training.\n",
        "\n",
        "There are three main treatment methods:\n",
        "1. Remove the variables which have NA values\n",
        "2. Remove the rows (observations) which have NA values\n",
        "3. Impute the NA values with other values\n",
        "\n",
        "Which of the above methods is chosen is at the analyst's discretion.\n",
        "It is important to choose the appropriate method for the situation."
      ],
      "metadata": {
        "id": "Fia79Yb4YfnR"
      }
    },
    {
      "cell_type": "markdown",
      "source": [
        "### > Missing value 확인\n",
        "\n",
        "Four variables (Age, Fare, Cabin, Embarked) have NA values"
      ],
      "metadata": {
        "id": "e2dj4rgtFDvP"
      }
    },
    {
      "cell_type": "code",
      "source": [
        "import missingno as msno\n",
        "msno.bar(all_features, figsize=(5, 3))"
      ],
      "metadata": {
        "colab": {
          "base_uri": "https://localhost:8080/",
          "height": 345
        },
        "id": "yKFVwFt1E4pV",
        "outputId": "d51dd09c-b9cc-4ce4-c57a-e28240a4ac47"
      },
      "execution_count": null,
      "outputs": [
        {
          "output_type": "execute_result",
          "data": {
            "text/plain": [
              "<matplotlib.axes._subplots.AxesSubplot at 0x7f5a68ac6b10>"
            ]
          },
          "metadata": {},
          "execution_count": 5
        },
        {
          "output_type": "display_data",
          "data": {
            "image/png": "[encoded data removed]",
            "text/plain": [
              "<Figure size 360x216 with 3 Axes>"
            ]
          },
          "metadata": {
            "needs_background": "light"
          }
        }
      ]
    },
    {
      "cell_type": "markdown",
      "source": [
        "#### >> Embarked\n",
        "- Method: Replace NA in 'Embarked' by mode value of 'Embarked' grouped by 'Pclass'\n",
        "\n"
      ],
      "metadata": {
        "id": "7b60mgO6YhkT"
      }
    },
    {
      "cell_type": "markdown",
      "source": [
        "The figure below shows that the distribution of 'Embarked' is different according to the Pclass."
      ],
      "metadata": {
        "id": "JNekIrPHzX2g"
      }
    },
    {
      "cell_type": "code",
      "source": [
        "dfg = all_features.groupby(['Pclass', 'Embarked']).size().reset_index()\n",
        "dfg = dfg.rename(columns={0: 'Count'})\n",
        "\n",
        "import plotly.express as px\n",
        "px.bar(dfg, x='Pclass', y='Count', color='Embarked', width=400, height=400)"
      ],
      "metadata": {
        "colab": {
          "base_uri": "https://localhost:8080/",
          "height": 417
        },
        "id": "LHfRwcXuKHJq",
        "outputId": "5db3dcc9-47a3-4b22-d685-fb9a377dab19"
      },
      "execution_count": null,
      "outputs": [
        {
          "output_type": "display_data",
          "data": {
            "text/html": [
              "<html>\n",
              "<head><meta charset=\"utf-8\" /></head>\n",
              "<body>\n",
              "    <div>            <script src=\"https://cdnjs.cloudflare.com/ajax/libs/mathjax/2.7.5/MathJax.js?config=TeX-AMS-MML_SVG\"></script><script type=\"text/javascript\">if (window.MathJax) {MathJax.Hub.Config({SVG: {font: \"STIX-Web\"}});}</script>                <script type=\"text/javascript\">window.PlotlyConfig = {MathJaxConfig: 'local'};</script>\n",
              "        <script src=\"https://cdn.plot.ly/plotly-2.8.3.min.js\"></script>                <div id=\"bf4e7cd7-34af-4bf5-92d1-32b32ce171cf\" class=\"plotly-graph-div\" style=\"height:400px; width:400px;\"></div>            <script type=\"text/javascript\">                                    window.PLOTLYENV=window.PLOTLYENV || {};                                    if (document.getElementById(\"bf4e7cd7-34af-4bf5-92d1-32b32ce171cf\")) {                    Plotly.newPlot(                        \"bf4e7cd7-34af-4bf5-92d1-32b32ce171cf\",                        [{\"alignmentgroup\":\"True\",\"hovertemplate\":\"Embarked=C<br>Pclass=%{x}<br>Count=%{y}<extra></extra>\",\"legendgroup\":\"C\",\"marker\":{\"color\":\"#636efa\",\"pattern\":{\"shape\":\"\"}},\"name\":\"C\",\"offsetgroup\":\"C\",\"orientation\":\"v\",\"showlegend\":true,\"textposition\":\"auto\",\"x\":[1,2,3],\"xaxis\":\"x\",\"y\":[141,28,101],\"yaxis\":\"y\",\"type\":\"bar\"},{\"alignmentgroup\":\"True\",\"hovertemplate\":\"Embarked=Q<br>Pclass=%{x}<br>Count=%{y}<extra></extra>\",\"legendgroup\":\"Q\",\"marker\":{\"color\":\"#EF553B\",\"pattern\":{\"shape\":\"\"}},\"name\":\"Q\",\"offsetgroup\":\"Q\",\"orientation\":\"v\",\"showlegend\":true,\"textposition\":\"auto\",\"x\":[1,2,3],\"xaxis\":\"x\",\"y\":[3,7,113],\"yaxis\":\"y\",\"type\":\"bar\"},{\"alignmentgroup\":\"True\",\"hovertemplate\":\"Embarked=S<br>Pclass=%{x}<br>Count=%{y}<extra></extra>\",\"legendgroup\":\"S\",\"marker\":{\"color\":\"#00cc96\",\"pattern\":{\"shape\":\"\"}},\"name\":\"S\",\"offsetgroup\":\"S\",\"orientation\":\"v\",\"showlegend\":true,\"textposition\":\"auto\",\"x\":[1,2,3],\"xaxis\":\"x\",\"y\":[177,242,495],\"yaxis\":\"y\",\"type\":\"bar\"}],                        {\"template\":{\"data\":{\"bar\":[{\"error_x\":{\"color\":\"#2a3f5f\"},\"error_y\":{\"color\":\"#2a3f5f\"},\"marker\":{\"line\":{\"color\":\"#E5ECF6\",\"width\":0.5},\"pattern\":{\"fillmode\":\"overlay\",\"size\":10,\"solidity\":0.2}},\"type\":\"bar\"}],\"barpolar\":[{\"marker\":{\"line\":{\"color\":\"#E5ECF6\",\"width\":0.5},\"pattern\":{\"fillmode\":\"overlay\",\"size\":10,\"solidity\":0.2}},\"type\":\"barpolar\"}],\"carpet\":[{\"aaxis\":{\"endlinecolor\":\"#2a3f5f\",\"gridcolor\":\"white\",\"linecolor\":\"white\",\"minorgridcolor\":\"white\",\"startlinecolor\":\"#2a3f5f\"},\"baxis\":{\"endlinecolor\":\"#2a3f5f\",\"gridcolor\":\"white\",\"linecolor\":\"white\",\"minorgridcolor\":\"white\",\"startlinecolor\":\"#2a3f5f\"},\"type\":\"carpet\"}],\"choropleth\":[{\"colorbar\":{\"outlinewidth\":0,\"ticks\":\"\"},\"type\":\"choropleth\"}],\"contour\":[{\"colorbar\":{\"outlinewidth\":0,\"ticks\":\"\"},\"colorscale\":[[0.0,\"#0d0887\"],[0.1111111111111111,\"#46039f\"],[0.2222222222222222,\"#7201a8\"],[0.3333333333333333,\"#9c179e\"],[0.4444444444444444,\"#bd3786\"],[0.5555555555555556,\"#d8576b\"],[0.6666666666666666,\"#ed7953\"],[0.7777777777777778,\"#fb9f3a\"],[0.8888888888888888,\"#fdca26\"],[1.0,\"#f0f921\"]],\"type\":\"contour\"}],\"contourcarpet\":[{\"colorbar\":{\"outlinewidth\":0,\"ticks\":\"\"},\"type\":\"contourcarpet\"}],\"heatmap\":[{\"colorbar\":{\"outlinewidth\":0,\"ticks\":\"\"},\"colorscale\":[[0.0,\"#0d0887\"],[0.1111111111111111,\"#46039f\"],[0.2222222222222222,\"#7201a8\"],[0.3333333333333333,\"#9c179e\"],[0.4444444444444444,\"#bd3786\"],[0.5555555555555556,\"#d8576b\"],[0.6666666666666666,\"#ed7953\"],[0.7777777777777778,\"#fb9f3a\"],[0.8888888888888888,\"#fdca26\"],[1.0,\"#f0f921\"]],\"type\":\"heatmap\"}],\"heatmapgl\":[{\"colorbar\":{\"outlinewidth\":0,\"ticks\":\"\"},\"colorscale\":[[0.0,\"#0d0887\"],[0.1111111111111111,\"#46039f\"],[0.2222222222222222,\"#7201a8\"],[0.3333333333333333,\"#9c179e\"],[0.4444444444444444,\"#bd3786\"],[0.5555555555555556,\"#d8576b\"],[0.6666666666666666,\"#ed7953\"],[0.7777777777777778,\"#fb9f3a\"],[0.8888888888888888,\"#fdca26\"],[1.0,\"#f0f921\"]],\"type\":\"heatmapgl\"}],\"histogram\":[{\"marker\":{\"pattern\":{\"fillmode\":\"overlay\",\"size\":10,\"solidity\":0.2}},\"type\":\"histogram\"}],\"histogram2d\":[{\"colorbar\":{\"outlinewidth\":0,\"ticks\":\"\"},\"colorscale\":[[0.0,\"#0d0887\"],[0.1111111111111111,\"#46039f\"],[0.2222222222222222,\"#7201a8\"],[0.3333333333333333,\"#9c179e\"],[0.4444444444444444,\"#bd3786\"],[0.5555555555555556,\"#d8576b\"],[0.6666666666666666,\"#ed7953\"],[0.7777777777777778,\"#fb9f3a\"],[0.8888888888888888,\"#fdca26\"],[1.0,\"#f0f921\"]],\"type\":\"histogram2d\"}],\"histogram2dcontour\":[{\"colorbar\":{\"outlinewidth\":0,\"ticks\":\"\"},\"colorscale\":[[0.0,\"#0d0887\"],[0.1111111111111111,\"#46039f\"],[0.2222222222222222,\"#7201a8\"],[0.3333333333333333,\"#9c179e\"],[0.4444444444444444,\"#bd3786\"],[0.5555555555555556,\"#d8576b\"],[0.6666666666666666,\"#ed7953\"],[0.7777777777777778,\"#fb9f3a\"],[0.8888888888888888,\"#fdca26\"],[1.0,\"#f0f921\"]],\"type\":\"histogram2dcontour\"}],\"mesh3d\":[{\"colorbar\":{\"outlinewidth\":0,\"ticks\":\"\"},\"type\":\"mesh3d\"}],\"parcoords\":[{\"line\":{\"colorbar\":{\"outlinewidth\":0,\"ticks\":\"\"}},\"type\":\"parcoords\"}],\"pie\":[{\"automargin\":true,\"type\":\"pie\"}],\"scatter\":[{\"marker\":{\"colorbar\":{\"outlinewidth\":0,\"ticks\":\"\"}},\"type\":\"scatter\"}],\"scatter3d\":[{\"line\":{\"colorbar\":{\"outlinewidth\":0,\"ticks\":\"\"}},\"marker\":{\"colorbar\":{\"outlinewidth\":0,\"ticks\":\"\"}},\"type\":\"scatter3d\"}],\"scattercarpet\":[{\"marker\":{\"colorbar\":{\"outlinewidth\":0,\"ticks\":\"\"}},\"type\":\"scattercarpet\"}],\"scattergeo\":[{\"marker\":{\"colorbar\":{\"outlinewidth\":0,\"ticks\":\"\"}},\"type\":\"scattergeo\"}],\"scattergl\":[{\"marker\":{\"colorbar\":{\"outlinewidth\":0,\"ticks\":\"\"}},\"type\":\"scattergl\"}],\"scattermapbox\":[{\"marker\":{\"colorbar\":{\"outlinewidth\":0,\"ticks\":\"\"}},\"type\":\"scattermapbox\"}],\"scatterpolar\":[{\"marker\":{\"colorbar\":{\"outlinewidth\":0,\"ticks\":\"\"}},\"type\":\"scatterpolar\"}],\"scatterpolargl\":[{\"marker\":{\"colorbar\":{\"outlinewidth\":0,\"ticks\":\"\"}},\"type\":\"scatterpolargl\"}],\"scatterternary\":[{\"marker\":{\"colorbar\":{\"outlinewidth\":0,\"ticks\":\"\"}},\"type\":\"scatterternary\"}],\"surface\":[{\"colorbar\":{\"outlinewidth\":0,\"ticks\":\"\"},\"colorscale\":[[0.0,\"#0d0887\"],[0.1111111111111111,\"#46039f\"],[0.2222222222222222,\"#7201a8\"],[0.3333333333333333,\"#9c179e\"],[0.4444444444444444,\"#bd3786\"],[0.5555555555555556,\"#d8576b\"],[0.6666666666666666,\"#ed7953\"],[0.7777777777777778,\"#fb9f3a\"],[0.8888888888888888,\"#fdca26\"],[1.0,\"#f0f921\"]],\"type\":\"surface\"}],\"table\":[{\"cells\":{\"fill\":{\"color\":\"#EBF0F8\"},\"line\":{\"color\":\"white\"}},\"header\":{\"fill\":{\"color\":\"#C8D4E3\"},\"line\":{\"color\":\"white\"}},\"type\":\"table\"}]},\"layout\":{\"annotationdefaults\":{\"arrowcolor\":\"#2a3f5f\",\"arrowhead\":0,\"arrowwidth\":1},\"autotypenumbers\":\"strict\",\"coloraxis\":{\"colorbar\":{\"outlinewidth\":0,\"ticks\":\"\"}},\"colorscale\":{\"diverging\":[[0,\"#8e0152\"],[0.1,\"#c51b7d\"],[0.2,\"#de77ae\"],[0.3,\"#f1b6da\"],[0.4,\"#fde0ef\"],[0.5,\"#f7f7f7\"],[0.6,\"#e6f5d0\"],[0.7,\"#b8e186\"],[0.8,\"#7fbc41\"],[0.9,\"#4d9221\"],[1,\"#276419\"]],\"sequential\":[[0.0,\"#0d0887\"],[0.1111111111111111,\"#46039f\"],[0.2222222222222222,\"#7201a8\"],[0.3333333333333333,\"#9c179e\"],[0.4444444444444444,\"#bd3786\"],[0.5555555555555556,\"#d8576b\"],[0.6666666666666666,\"#ed7953\"],[0.7777777777777778,\"#fb9f3a\"],[0.8888888888888888,\"#fdca26\"],[1.0,\"#f0f921\"]],\"sequentialminus\":[[0.0,\"#0d0887\"],[0.1111111111111111,\"#46039f\"],[0.2222222222222222,\"#7201a8\"],[0.3333333333333333,\"#9c179e\"],[0.4444444444444444,\"#bd3786\"],[0.5555555555555556,\"#d8576b\"],[0.6666666666666666,\"#ed7953\"],[0.7777777777777778,\"#fb9f3a\"],[0.8888888888888888,\"#fdca26\"],[1.0,\"#f0f921\"]]},\"colorway\":[\"#636efa\",\"#EF553B\",\"#00cc96\",\"#ab63fa\",\"#FFA15A\",\"#19d3f3\",\"#FF6692\",\"#B6E880\",\"#FF97FF\",\"#FECB52\"],\"font\":{\"color\":\"#2a3f5f\"},\"geo\":{\"bgcolor\":\"white\",\"lakecolor\":\"white\",\"landcolor\":\"#E5ECF6\",\"showlakes\":true,\"showland\":true,\"subunitcolor\":\"white\"},\"hoverlabel\":{\"align\":\"left\"},\"hovermode\":\"closest\",\"mapbox\":{\"style\":\"light\"},\"paper_bgcolor\":\"white\",\"plot_bgcolor\":\"#E5ECF6\",\"polar\":{\"angularaxis\":{\"gridcolor\":\"white\",\"linecolor\":\"white\",\"ticks\":\"\"},\"bgcolor\":\"#E5ECF6\",\"radialaxis\":{\"gridcolor\":\"white\",\"linecolor\":\"white\",\"ticks\":\"\"}},\"scene\":{\"xaxis\":{\"backgroundcolor\":\"#E5ECF6\",\"gridcolor\":\"white\",\"gridwidth\":2,\"linecolor\":\"white\",\"showbackground\":true,\"ticks\":\"\",\"zerolinecolor\":\"white\"},\"yaxis\":{\"backgroundcolor\":\"#E5ECF6\",\"gridcolor\":\"white\",\"gridwidth\":2,\"linecolor\":\"white\",\"showbackground\":true,\"ticks\":\"\",\"zerolinecolor\":\"white\"},\"zaxis\":{\"backgroundcolor\":\"#E5ECF6\",\"gridcolor\":\"white\",\"gridwidth\":2,\"linecolor\":\"white\",\"showbackground\":true,\"ticks\":\"\",\"zerolinecolor\":\"white\"}},\"shapedefaults\":{\"line\":{\"color\":\"#2a3f5f\"}},\"ternary\":{\"aaxis\":{\"gridcolor\":\"white\",\"linecolor\":\"white\",\"ticks\":\"\"},\"baxis\":{\"gridcolor\":\"white\",\"linecolor\":\"white\",\"ticks\":\"\"},\"bgcolor\":\"#E5ECF6\",\"caxis\":{\"gridcolor\":\"white\",\"linecolor\":\"white\",\"ticks\":\"\"}},\"title\":{\"x\":0.05},\"xaxis\":{\"automargin\":true,\"gridcolor\":\"white\",\"linecolor\":\"white\",\"ticks\":\"\",\"title\":{\"standoff\":15},\"zerolinecolor\":\"white\",\"zerolinewidth\":2},\"yaxis\":{\"automargin\":true,\"gridcolor\":\"white\",\"linecolor\":\"white\",\"ticks\":\"\",\"title\":{\"standoff\":15},\"zerolinecolor\":\"white\",\"zerolinewidth\":2}}},\"xaxis\":{\"anchor\":\"y\",\"domain\":[0.0,1.0],\"title\":{\"text\":\"Pclass\"}},\"yaxis\":{\"anchor\":\"x\",\"domain\":[0.0,1.0],\"title\":{\"text\":\"Count\"}},\"legend\":{\"title\":{\"text\":\"Embarked\"},\"tracegroupgap\":0},\"margin\":{\"t\":60},\"barmode\":\"relative\",\"height\":400,\"width\":400},                        {\"responsive\": true}                    ).then(function(){\n",
              "                            \n",
              "var gd = document.getElementById('bf4e7cd7-34af-4bf5-92d1-32b32ce171cf');\n",
              "var x = new MutationObserver(function (mutations, observer) {{\n",
              "        var display = window.getComputedStyle(gd).display;\n",
              "        if (!display || display === 'none') {{\n",
              "            console.log([gd, 'removed!']);\n",
              "            Plotly.purge(gd);\n",
              "            observer.disconnect();\n",
              "        }}\n",
              "}});\n",
              "\n",
              "// Listen for the removal of the full notebook cells\n",
              "var notebookContainer = gd.closest('#notebook-container');\n",
              "if (notebookContainer) {{\n",
              "    x.observe(notebookContainer, {childList: true});\n",
              "}}\n",
              "\n",
              "// Listen for the clearing of the current output cell\n",
              "var outputEl = gd.closest('.output');\n",
              "if (outputEl) {{\n",
              "    x.observe(outputEl, {childList: true});\n",
              "}}\n",
              "\n",
              "                        })                };                            </script>        </div>\n",
              "</body>\n",
              "</html>"
            ]
          },
          "metadata": {}
        }
      ]
    },
    {
      "cell_type": "code",
      "source": [
        "# Impute NA values in 'Embarked' by mode value of 'Embarked' grouped by 'Pcalss'\n",
        "all_features['Embarked'] = all_features['Embarked'].fillna(all_features.groupby(['Pclass'])['Embarked'].transform(lambda x:x.value_counts().index[0]))"
      ],
      "metadata": {
        "id": "KDt8xNJwLm7U"
      },
      "execution_count": null,
      "outputs": []
    },
    {
      "cell_type": "markdown",
      "source": [
        "#### >> Fare\n",
        "- Method: Replace NA in 'Fare' by **median** value of 'Fare' grouped by 'Pclass'"
      ],
      "metadata": {
        "id": "Gq-IN_sINimU"
      }
    },
    {
      "cell_type": "markdown",
      "source": [
        "The figure below shows that the distribution of Fare is different depending on the Pclass.\n",
        "\n",
        "(An ANOVA test is used to determine whether the differences between groups are significant.)\n"
      ],
      "metadata": {
        "id": "ItQB95q1zg42"
      }
    },
    {
      "cell_type": "code",
      "source": [
        "x = 'Pclass'\n",
        "y = 'Fare'\n",
        "\n",
        "import plotly.express as px\n",
        "fig = px.box(all_features, x=x, y=y, color=x, width=400, height=400)\n",
        "fig.show()\n",
        "\n",
        "import statsmodels.api as sm\n",
        "from statsmodels.formula.api import ols\n",
        "model = ols('{} ~ {}'.format(y, x), data=all_features).fit()\n",
        "anova_table = sm.stats.anova_lm(model, typ=2)\n",
        "print(anova_table)"
      ],
      "metadata": {
        "colab": {
          "base_uri": "https://localhost:8080/",
          "height": 542
        },
        "id": "i9QTUXm6N_xX",
        "outputId": "d2df0c0d-114e-4bd6-a086-f616f149ae73"
      },
      "execution_count": null,
      "outputs": [
        {
          "output_type": "display_data",
          "data": {
            "text/html": [
              "<html>\n",
              "<head><meta charset=\"utf-8\" /></head>\n",
              "<body>\n",
              "    <div>            <script src=\"https://cdnjs.cloudflare.com/ajax/libs/mathjax/2.7.5/MathJax.js?config=TeX-AMS-MML_SVG\"></script><script type=\"text/javascript\">if (window.MathJax) {MathJax.Hub.Config({SVG: {font: \"STIX-Web\"}});}</script>                <script type=\"text/javascript\">window.PlotlyConfig = {MathJaxConfig: 'local'};</script>\n",
              "        <script src=\"https://cdn.plot.ly/plotly-2.8.3.min.js\"></script>                <div id=\"f99ff4c5-80a2-4d20-81d7-f506f8ea01c1\" class=\"plotly-graph-div\" style=\"height:400px; width:400px;\"></div>            <script type=\"text/javascript\">                                    window.PLOTLYENV=window.PLOTLYENV || {};                                    if (document.getElementById(\"f99ff4c5-80a2-4d20-81d7-f506f8ea01c1\")) {                    Plotly.newPlot(                        \"f99ff4c5-80a2-4d20-81d7-f506f8ea01c1\",                        [{\"alignmentgroup\":\"True\",\"hovertemplate\":\"Pclass=%{x}<br>Fare=%{y}<extra></extra>\",\"legendgroup\":\"3\",\"marker\":{\"color\":\"#636efa\"},\"name\":\"3\",\"notched\":false,\"offsetgroup\":\"3\",\"orientation\":\"v\",\"showlegend\":true,\"x\":[3,3,3,3,3,3,3,3,3,3,3,3,3,3,3,3,3,3,3,3,3,3,3,3,3,3,3,3,3,3,3,3,3,3,3,3,3,3,3,3,3,3,3,3,3,3,3,3,3,3,3,3,3,3,3,3,3,3,3,3,3,3,3,3,3,3,3,3,3,3,3,3,3,3,3,3,3,3,3,3,3,3,3,3,3,3,3,3,3,3,3,3,3,3,3,3,3,3,3,3,3,3,3,3,3,3,3,3,3,3,3,3,3,3,3,3,3,3,3,3,3,3,3,3,3,3,3,3,3,3,3,3,3,3,3,3,3,3,3,3,3,3,3,3,3,3,3,3,3,3,3,3,3,3,3,3,3,3,3,3,3,3,3,3,3,3,3,3,3,3,3,3,3,3,3,3,3,3,3,3,3,3,3,3,3,3,3,3,3,3,3,3,3,3,3,3,3,3,3,3,3,3,3,3,3,3,3,3,3,3,3,3,3,3,3,3,3,3,3,3,3,3,3,3,3,3,3,3,3,3,3,3,3,3,3,3,3,3,3,3,3,3,3,3,3,3,3,3,3,3,3,3,3,3,3,3,3,3,3,3,3,3,3,3,3,3,3,3,3,3,3,3,3,3,3,3,3,3,3,3,3,3,3,3,3,3,3,3,3,3,3,3,3,3,3,3,3,3,3,3,3,3,3,3,3,3,3,3,3,3,3,3,3,3,3,3,3,3,3,3,3,3,3,3,3,3,3,3,3,3,3,3,3,3,3,3,3,3,3,3,3,3,3,3,3,3,3,3,3,3,3,3,3,3,3,3,3,3,3,3,3,3,3,3,3,3,3,3,3,3,3,3,3,3,3,3,3,3,3,3,3,3,3,3,3,3,3,3,3,3,3,3,3,3,3,3,3,3,3,3,3,3,3,3,3,3,3,3,3,3,3,3,3,3,3,3,3,3,3,3,3,3,3,3,3,3,3,3,3,3,3,3,3,3,3,3,3,3,3,3,3,3,3,3,3,3,3,3,3,3,3,3,3,3,3,3,3,3,3,3,3,3,3,3,3,3,3,3,3,3,3,3,3,3,3,3,3,3,3,3,3,3,3,3,3,3,3,3,3,3,3,3,3,3,3,3,3,3,3,3,3,3,3,3,3,3,3,3,3,3,3,3,3,3,3,3,3,3,3,3,3,3,3,3,3,3,3,3,3,3,3,3,3,3,3,3,3,3,3,3,3,3,3,3,3,3,3,3,3,3,3,3,3,3,3,3,3,3,3,3,3,3,3,3,3,3,3,3,3,3,3,3,3,3,3,3,3,3,3,3,3,3,3,3,3,3,3,3,3,3,3,3,3,3,3,3,3,3,3,3,3,3,3,3,3,3,3,3,3,3,3,3,3,3,3,3,3,3,3,3,3,3,3,3,3,3,3,3,3,3,3,3,3,3,3,3,3,3,3,3,3,3,3,3,3,3,3,3,3,3,3,3,3,3,3,3,3,3,3,3,3,3,3,3,3,3,3,3,3,3,3,3,3,3,3,3,3,3,3,3,3,3,3,3,3,3,3,3,3,3,3,3,3,3,3,3,3,3,3,3,3,3,3,3,3,3,3,3,3],\"x0\":\" \",\"xaxis\":\"x\",\"y\":[7.25,7.925,8.05,8.4583,21.075,11.1333,16.7,8.05,31.275,7.8542,29.125,18.0,7.225,8.0292,21.075,31.3875,7.225,7.8792,7.8958,7.75,7.2292,8.05,18.0,11.2417,9.475,7.8958,7.8792,8.05,15.5,7.75,21.6792,17.8,39.6875,7.8,7.2292,46.9,7.2292,27.9,15.2458,8.1583,7.925,8.6625,46.9,14.4542,56.4958,7.65,7.8958,8.05,12.475,9.0,9.5,7.7875,15.85,34.375,8.05,8.05,8.05,7.8542,20.575,7.25,8.05,7.8958,7.8958,8.6542,7.925,7.8958,7.65,7.775,7.8958,24.15,14.4542,8.05,9.825,14.4583,7.925,7.75,31.275,8.05,11.2417,7.75,7.1417,22.3583,6.975,7.8958,7.05,14.5,9.2167,15.2458,7.75,15.85,6.75,7.7958,34.375,8.05,14.5,7.3125,7.7333,8.05,8.6625,69.55,16.1,7.775,8.6625,39.6875,20.525,27.9,56.4958,29.125,11.1333,7.925,7.8542,25.4667,0.0,69.55,31.3875,22.025,15.5,15.5,7.8958,7.8542,7.75,8.4042,7.75,9.5,69.55,6.4958,7.225,8.05,10.4625,15.85,18.7875,7.75,7.05,7.25,7.75,7.925,8.05,8.05,7.8958,9.35,7.25,25.4667,7.775,31.3875,7.55,14.4542,15.5,7.125,7.225,7.775,7.25,10.4625,16.1,20.2125,15.2458,7.75,31.3875,7.75,39.6875,7.775,0.0,7.75,7.75,29.125,20.25,7.75,7.8542,9.5,8.05,8.6625,9.5,7.8958,7.75,8.85,7.8958,7.2292,7.75,23.25,0.0,8.05,7.8958,7.8542,7.25,7.8958,69.55,6.2375,20.525,23.25,18.0,7.8958,8.05,16.1,15.9,8.6625,9.225,7.2292,17.8,7.225,9.5,7.8792,7.8792,27.9,14.4542,7.05,15.5,7.25,7.2292,7.75,6.4958,8.05,21.075,7.25,4.0125,7.775,15.7417,7.925,7.8958,46.9,7.7292,7.7958,7.925,16.7,7.7958,7.8542,7.925,8.05,9.825,15.85,8.6625,7.75,7.775,25.4667,7.8958,6.8583,7.925,8.05,24.15,7.8958,7.7333,7.875,14.4,20.2125,7.25,7.75,8.05,16.1,7.125,34.375,9.5,7.775,8.1125,19.2583,19.9667,8.05,7.8958,7.75,8.05,8.05,7.05,7.725,19.2583,7.25,8.6625,9.8375,7.0458,7.5208,12.2875,46.9,8.05,9.5875,25.4667,8.05,15.9,19.9667,7.25,8.05,14.4583,15.1,7.7958,8.6625,7.75,7.6292,9.5875,22.525,56.4958,7.75,8.05,7.4958,24.15,7.8958,7.8958,7.225,7.2292,7.75,7.925,7.2292,7.2292,22.3583,8.6625,14.5,31.275,31.275,20.525,7.8292,7.225,7.775,17.4,7.75,7.8958,8.05,8.05,24.15,7.8958,21.075,7.2292,7.8542,7.75,8.05,14.5,14.4583,7.925,8.7125,8.05,8.05,7.125,7.25,7.75,24.15,0.0,7.225,7.8958,8.05,15.55,7.8958,31.275,7.05,15.5,7.75,8.05,14.4,16.1,14.4542,15.7417,7.8542,16.1,7.8958,7.7333,7.0542,27.9,7.925,39.6875,16.1,7.8542,27.9,56.4958,19.2583,7.8958,7.55,7.55,7.8958,8.4333,7.8292,6.75,7.8958,15.5,7.225,7.4958,7.925,7.775,8.05,7.775,8.05,9.8417,46.9,8.1375,9.225,46.9,39.6875,10.1708,7.7958,13.4167,56.4958,7.225,8.05,7.7333,7.65,14.4542,7.7417,7.8542,15.2458,9.4833,7.65,15.5,7.775,7.0542,8.6625,7.7375,7.925,18.7875,16.1,34.375,7.8958,7.8958,16.1,7.925,20.25,7.75,12.475,9.5,7.8958,7.7958,8.05,14.5,7.125,7.2292,7.775,7.75,24.15,8.3625,9.5,7.8542,7.225,7.75,7.75,12.475,7.7375,7.2292,23.45,7.05,7.25,7.4958,29.125,20.575,7.75,69.55,7.8958,8.6833,7.2292,24.15,8.5167,6.975,7.775,7.775,7.8875,24.15,31.275,8.05,7.925,6.45,27.9,8.6625,12.475,39.6875,6.95,56.4958,7.75,14.4542,7.2292,7.8542,8.3,8.6625,8.05,56.4958,7.925,6.4375,8.6625,7.55,69.55,7.8958,31.275,7.775,15.2458,9.35,19.2583,7.2292,14.1083,69.55,9.5,11.1333,7.8958,9.0,7.225,9.8458,7.8958,7.8958,7.8958,10.5167,7.05,29.125,23.45,7.75,7.8292,7.0,8.6625,12.2875,9.225,7.6292,7.2292,24.15,7.8958,7.225,7.925,7.225,3.1708,14.5,7.225,21.6792,20.575,23.45,7.2292,8.05,8.6625,9.5,56.4958,13.4167,7.85,7.925,7.75,15.9,29.125,7.8958,7.65,16.1,7.8958,7.75,7.725,7.8792,7.75,7.8958,7.925,8.05,7.75,15.2458,7.8958,14.4542,7.8792,8.05,7.75,13.9,7.775,8.05,7.7958,7.925,7.8542,8.05,7.75,7.775,8.5167,22.525,7.8208,7.75,8.7125,7.7792,7.2833,14.4542,6.4375,16.7,7.75,7.25,7.75,16.1,7.7958,23.25,8.05,8.05,25.4667,6.4375,7.8958,7.8542,7.225,8.05,46.9,46.9,18.0,8.05,7.8958,null,12.1833,31.3875,7.55,7.8542,13.775,7.7333,15.2458,7.0,22.025,34.375,8.9625,7.55,7.225,13.9,7.2292,31.3875,7.75,8.05,69.55,14.5,7.8542,7.775,8.1125,15.5,14.4,7.75,7.8958,22.525,7.05,7.775,7.8792,8.05,8.05,7.7958,15.2458,7.7958,7.75,15.1,6.4958,7.8792,7.8542,7.225,7.8875,23.45,14.4542,7.925,9.325,9.5,7.55,7.75,8.05,7.775,17.4,7.8542,12.1833,7.8958,7.55,8.05,8.6625,7.75,15.5,7.225,8.6625,13.775,7.75,15.2458,20.2125,7.25,7.25,7.2292,8.05,6.95,7.2292,9.5,7.8958,21.6792,7.8542,7.775,8.6625,7.75,9.35,14.1083,8.6625,7.225,7.575,7.75,7.7333,7.8542,7.775,7.2292,7.05,7.225,15.7417,7.8958,7.2292,7.2292,7.5792,69.55,14.5,7.65,7.2292,20.575,7.8792,7.75,15.55,69.55,8.6625,69.55,14.4583,39.6875,8.6625,31.3875,7.75,7.8792,14.5,16.1,7.775,7.75,21.075,20.25,22.025,7.25,7.775,7.7333,7.7208,13.775,7.75,7.775,8.05,7.25,8.05,22.3583],\"y0\":\" \",\"yaxis\":\"y\",\"type\":\"box\"},{\"alignmentgroup\":\"True\",\"hovertemplate\":\"Pclass=%{x}<br>Fare=%{y}<extra></extra>\",\"legendgroup\":\"1\",\"marker\":{\"color\":\"#EF553B\"},\"name\":\"1\",\"notched\":false,\"offsetgroup\":\"1\",\"orientation\":\"v\",\"showlegend\":true,\"x\":[1,1,1,1,1,1,1,1,1,1,1,1,1,1,1,1,1,1,1,1,1,1,1,1,1,1,1,1,1,1,1,1,1,1,1,1,1,1,1,1,1,1,1,1,1,1,1,1,1,1,1,1,1,1,1,1,1,1,1,1,1,1,1,1,1,1,1,1,1,1,1,1,1,1,1,1,1,1,1,1,1,1,1,1,1,1,1,1,1,1,1,1,1,1,1,1,1,1,1,1,1,1,1,1,1,1,1,1,1,1,1,1,1,1,1,1,1,1,1,1,1,1,1,1,1,1,1,1,1,1,1,1,1,1,1,1,1,1,1,1,1,1,1,1,1,1,1,1,1,1,1,1,1,1,1,1,1,1,1,1,1,1,1,1,1,1,1,1,1,1,1,1,1,1,1,1,1,1,1,1,1,1,1,1,1,1,1,1,1,1,1,1,1,1,1,1,1,1,1,1,1,1,1,1,1,1,1,1,1,1,1,1,1,1,1,1,1,1,1,1,1,1,1,1,1,1,1,1,1,1,1,1,1,1,1,1,1,1,1,1,1,1,1,1,1,1,1,1,1,1,1,1,1,1,1,1,1,1,1,1,1,1,1,1,1,1,1,1,1,1,1,1,1,1,1,1,1,1,1,1,1,1,1,1,1,1,1,1,1,1,1,1,1,1,1,1,1,1,1,1,1,1,1,1,1,1,1,1,1,1,1,1,1,1,1,1,1,1,1,1,1,1,1],\"x0\":\" \",\"xaxis\":\"x\",\"y\":[71.2833,53.1,51.8625,26.55,35.5,263.0,27.7208,146.5208,82.1708,52.0,76.7292,61.9792,35.5,80.0,83.475,27.7208,47.1,263.0,61.175,34.6542,63.3583,77.2875,52.0,247.5208,77.2875,26.2833,53.1,79.2,66.6,61.3792,55.0,25.925,33.5,30.6958,28.7125,50.0,26.55,27.7208,146.5208,31.0,113.275,76.2917,90.0,83.475,90.0,52.5542,26.55,79.2,86.5,512.3292,79.65,0.0,153.4625,135.6333,31.0,29.7,77.9583,26.0,78.85,91.0792,27.7208,151.55,30.5,247.5208,151.55,110.8833,108.9,56.9292,83.1583,262.375,164.8667,134.5,135.6333,57.9792,28.5,153.4625,133.65,66.6,134.5,35.5,263.0,35.0,55.0,75.25,69.3,55.4417,135.6333,82.1708,211.5,227.525,52.0,120.0,113.275,90.0,26.55,55.9,120.0,263.0,81.8583,26.55,30.5,27.75,89.1042,26.55,51.8625,26.55,38.5,26.55,52.0,91.0792,90.0,29.7,30.5,49.5042,78.2667,151.55,86.5,108.9,26.55,26.2875,59.4,34.0208,93.5,57.9792,221.7792,26.55,106.425,49.5,71.0,106.425,26.0,110.8833,26.55,39.6,227.525,79.65,51.4792,26.3875,55.9,110.8833,40.125,79.65,79.2,78.2667,56.9292,42.4,26.55,30.5,153.4625,52.5542,32.3208,77.9583,30.0,30.5,0.0,69.3,76.7292,35.5,113.275,133.65,25.5875,52.0,52.0,512.3292,76.7292,211.3375,57.0,26.55,110.8833,227.525,26.2875,26.2875,151.55,49.5042,26.55,52.0,227.525,53.1,211.3375,512.3292,30.0,78.85,262.375,71.0,53.1,86.5,120.0,77.9583,39.6,211.3375,57.0,30.0,79.2,30.6958,25.9292,120.0,0.0,53.1,0.0,93.5,0.0,80.0,83.1583,29.7,31.0,89.1042,39.4,164.8667,26.55,25.9292,50.4958,52.5542,5.0,83.1583,30.0,30.0,26.0,82.2667,61.175,59.4,31.6833,61.3792,262.375,61.9792,30.5,57.75,26.55,52.5542,29.7,76.2917,60.0,263.0,262.375,262.375,42.4,28.5375,263.0,27.7208,211.5,211.5,25.7,221.7792,26.0,52.0,26.0,78.85,55.4417,31.6792,221.7792,75.2417,57.75,28.5,151.55,262.375,26.55,51.8625,26.55,83.1583,221.7792,26.55,50.4958,27.7208,55.4417,83.1583,83.1583,53.1,247.5208,26.0,134.5,227.525,25.7417,27.7208,42.5,164.8667,211.5,27.4458,26.55,71.2833,75.25,106.425,27.7208,134.5,51.8625,136.7792,0.0,75.2417,136.7792,82.2667,39.6,81.8583,45.5,26.55,151.55,93.5,135.6333,146.5208,26.55,211.3375,79.2,29.7,26.0,512.3292,63.3583,26.0,51.4792,55.4417,59.4,134.5,0.0,81.8583,262.375,50.0,93.5,39.4,60.0,79.2,164.8667,59.4,47.1,27.7208,211.5,90.0,108.9],\"y0\":\" \",\"yaxis\":\"y\",\"type\":\"box\"},{\"alignmentgroup\":\"True\",\"hovertemplate\":\"Pclass=%{x}<br>Fare=%{y}<extra></extra>\",\"legendgroup\":\"2\",\"marker\":{\"color\":\"#00cc96\"},\"name\":\"2\",\"notched\":false,\"offsetgroup\":\"2\",\"orientation\":\"v\",\"showlegend\":true,\"x\":[2,2,2,2,2,2,2,2,2,2,2,2,2,2,2,2,2,2,2,2,2,2,2,2,2,2,2,2,2,2,2,2,2,2,2,2,2,2,2,2,2,2,2,2,2,2,2,2,2,2,2,2,2,2,2,2,2,2,2,2,2,2,2,2,2,2,2,2,2,2,2,2,2,2,2,2,2,2,2,2,2,2,2,2,2,2,2,2,2,2,2,2,2,2,2,2,2,2,2,2,2,2,2,2,2,2,2,2,2,2,2,2,2,2,2,2,2,2,2,2,2,2,2,2,2,2,2,2,2,2,2,2,2,2,2,2,2,2,2,2,2,2,2,2,2,2,2,2,2,2,2,2,2,2,2,2,2,2,2,2,2,2,2,2,2,2,2,2,2,2,2,2,2,2,2,2,2,2,2,2,2,2,2,2,2,2,2,2,2,2,2,2,2,2,2,2,2,2,2,2,2,2,2,2,2,2,2,2,2,2,2,2,2,2,2,2,2,2,2,2,2,2,2,2,2,2,2,2,2,2,2,2,2,2,2,2,2,2,2,2,2,2,2,2,2,2,2,2,2,2,2,2,2,2,2,2,2,2,2,2,2,2,2,2,2,2,2,2,2,2,2,2,2,2,2,2,2],\"x0\":\" \",\"xaxis\":\"x\",\"y\":[30.0708,16.0,13.0,26.0,13.0,10.5,21.0,41.5792,26.0,10.5,27.75,10.5,10.5,73.5,29.0,10.5,23.0,26.0,21.0,73.5,30.0708,13.0,26.0,13.0,15.0458,11.5,36.75,26.0,13.0,12.525,15.75,13.0,15.05,39.0,13.0,13.0,26.0,13.0,21.0,13.0,27.0,10.5,13.0,10.5,13.0,13.5,10.5,26.0,26.25,10.5,12.275,10.5,14.5,26.0,26.0,10.5,19.5,0.0,13.0,12.875,12.35,24.0,26.0,26.25,26.0,14.0,12.35,29.0,13.0,26.0,13.0,13.0,13.0,13.0,13.0,13.0,27.7208,73.5,13.0,12.0,26.0,10.5,12.65,21.0,18.75,0.0,32.5,13.0,13.0,26.0,26.0,26.0,18.75,10.5,26.25,13.0,19.5,27.75,10.5,13.0,0.0,27.75,13.7917,21.0,0.0,26.0,10.5,26.0,10.5,11.5,26.0,26.25,26.0,26.0,13.8625,36.75,26.0,13.5,10.5,13.0,30.0,26.0,15.0,26.0,33.0,27.0,41.5792,65.0,39.0,10.5,12.35,13.0,26.25,23.0,73.5,13.0,73.5,13.0,39.0,10.5,13.0,0.0,39.0,41.5792,13.5,26.0,13.5,13.0,10.5,33.0,13.0,13.0,21.0,26.0,0.0,13.0,13.0,13.0,23.0,65.0,14.5,11.5,10.5,23.0,26.0,13.0,13.0,26.25,13.0,10.5,37.0042,37.0042,18.75,10.5,33.0,26.0,11.5,13.0,13.0,13.8583,24.0,26.0,10.5,13.0,9.6875,29.0,26.0,27.7208,12.35,26.0,31.5,13.0,15.0333,23.0,15.5792,13.5,21.0,13.0,10.7083,23.0,26.0,13.0,15.0458,26.0,15.75,13.0,13.0,26.0,26.0,13.5,13.0,39.0,36.75,39.0,13.0,16.0,21.0,13.0,26.0,12.35,32.5,10.5,26.0,10.5,10.5,73.5,26.0,13.8583,10.5,13.0,65.0,13.0,30.0,21.0,32.5,26.0,27.75,13.0,23.0,12.7375,26.0,10.5,26.0,21.0,10.5,41.5792,15.0458,21.0,10.5,31.5,13.0,39.0,26.0,13.0,36.75,13.0,31.5,10.5,13.0,13.5,21.0,10.5,73.5,65.0,37.0042,21.0,13.8583,11.5,13.0,11.5,12.875,65.0,13.0,10.5,21.0,13.8625,10.5],\"y0\":\" \",\"yaxis\":\"y\",\"type\":\"box\"}],                        {\"template\":{\"data\":{\"bar\":[{\"error_x\":{\"color\":\"#2a3f5f\"},\"error_y\":{\"color\":\"#2a3f5f\"},\"marker\":{\"line\":{\"color\":\"#E5ECF6\",\"width\":0.5},\"pattern\":{\"fillmode\":\"overlay\",\"size\":10,\"solidity\":0.2}},\"type\":\"bar\"}],\"barpolar\":[{\"marker\":{\"line\":{\"color\":\"#E5ECF6\",\"width\":0.5},\"pattern\":{\"fillmode\":\"overlay\",\"size\":10,\"solidity\":0.2}},\"type\":\"barpolar\"}],\"carpet\":[{\"aaxis\":{\"endlinecolor\":\"#2a3f5f\",\"gridcolor\":\"white\",\"linecolor\":\"white\",\"minorgridcolor\":\"white\",\"startlinecolor\":\"#2a3f5f\"},\"baxis\":{\"endlinecolor\":\"#2a3f5f\",\"gridcolor\":\"white\",\"linecolor\":\"white\",\"minorgridcolor\":\"white\",\"startlinecolor\":\"#2a3f5f\"},\"type\":\"carpet\"}],\"choropleth\":[{\"colorbar\":{\"outlinewidth\":0,\"ticks\":\"\"},\"type\":\"choropleth\"}],\"contour\":[{\"colorbar\":{\"outlinewidth\":0,\"ticks\":\"\"},\"colorscale\":[[0.0,\"#0d0887\"],[0.1111111111111111,\"#46039f\"],[0.2222222222222222,\"#7201a8\"],[0.3333333333333333,\"#9c179e\"],[0.4444444444444444,\"#bd3786\"],[0.5555555555555556,\"#d8576b\"],[0.6666666666666666,\"#ed7953\"],[0.7777777777777778,\"#fb9f3a\"],[0.8888888888888888,\"#fdca26\"],[1.0,\"#f0f921\"]],\"type\":\"contour\"}],\"contourcarpet\":[{\"colorbar\":{\"outlinewidth\":0,\"ticks\":\"\"},\"type\":\"contourcarpet\"}],\"heatmap\":[{\"colorbar\":{\"outlinewidth\":0,\"ticks\":\"\"},\"colorscale\":[[0.0,\"#0d0887\"],[0.1111111111111111,\"#46039f\"],[0.2222222222222222,\"#7201a8\"],[0.3333333333333333,\"#9c179e\"],[0.4444444444444444,\"#bd3786\"],[0.5555555555555556,\"#d8576b\"],[0.6666666666666666,\"#ed7953\"],[0.7777777777777778,\"#fb9f3a\"],[0.8888888888888888,\"#fdca26\"],[1.0,\"#f0f921\"]],\"type\":\"heatmap\"}],\"heatmapgl\":[{\"colorbar\":{\"outlinewidth\":0,\"ticks\":\"\"},\"colorscale\":[[0.0,\"#0d0887\"],[0.1111111111111111,\"#46039f\"],[0.2222222222222222,\"#7201a8\"],[0.3333333333333333,\"#9c179e\"],[0.4444444444444444,\"#bd3786\"],[0.5555555555555556,\"#d8576b\"],[0.6666666666666666,\"#ed7953\"],[0.7777777777777778,\"#fb9f3a\"],[0.8888888888888888,\"#fdca26\"],[1.0,\"#f0f921\"]],\"type\":\"heatmapgl\"}],\"histogram\":[{\"marker\":{\"pattern\":{\"fillmode\":\"overlay\",\"size\":10,\"solidity\":0.2}},\"type\":\"histogram\"}],\"histogram2d\":[{\"colorbar\":{\"outlinewidth\":0,\"ticks\":\"\"},\"colorscale\":[[0.0,\"#0d0887\"],[0.1111111111111111,\"#46039f\"],[0.2222222222222222,\"#7201a8\"],[0.3333333333333333,\"#9c179e\"],[0.4444444444444444,\"#bd3786\"],[0.5555555555555556,\"#d8576b\"],[0.6666666666666666,\"#ed7953\"],[0.7777777777777778,\"#fb9f3a\"],[0.8888888888888888,\"#fdca26\"],[1.0,\"#f0f921\"]],\"type\":\"histogram2d\"}],\"histogram2dcontour\":[{\"colorbar\":{\"outlinewidth\":0,\"ticks\":\"\"},\"colorscale\":[[0.0,\"#0d0887\"],[0.1111111111111111,\"#46039f\"],[0.2222222222222222,\"#7201a8\"],[0.3333333333333333,\"#9c179e\"],[0.4444444444444444,\"#bd3786\"],[0.5555555555555556,\"#d8576b\"],[0.6666666666666666,\"#ed7953\"],[0.7777777777777778,\"#fb9f3a\"],[0.8888888888888888,\"#fdca26\"],[1.0,\"#f0f921\"]],\"type\":\"histogram2dcontour\"}],\"mesh3d\":[{\"colorbar\":{\"outlinewidth\":0,\"ticks\":\"\"},\"type\":\"mesh3d\"}],\"parcoords\":[{\"line\":{\"colorbar\":{\"outlinewidth\":0,\"ticks\":\"\"}},\"type\":\"parcoords\"}],\"pie\":[{\"automargin\":true,\"type\":\"pie\"}],\"scatter\":[{\"marker\":{\"colorbar\":{\"outlinewidth\":0,\"ticks\":\"\"}},\"type\":\"scatter\"}],\"scatter3d\":[{\"line\":{\"colorbar\":{\"outlinewidth\":0,\"ticks\":\"\"}},\"marker\":{\"colorbar\":{\"outlinewidth\":0,\"ticks\":\"\"}},\"type\":\"scatter3d\"}],\"scattercarpet\":[{\"marker\":{\"colorbar\":{\"outlinewidth\":0,\"ticks\":\"\"}},\"type\":\"scattercarpet\"}],\"scattergeo\":[{\"marker\":{\"colorbar\":{\"outlinewidth\":0,\"ticks\":\"\"}},\"type\":\"scattergeo\"}],\"scattergl\":[{\"marker\":{\"colorbar\":{\"outlinewidth\":0,\"ticks\":\"\"}},\"type\":\"scattergl\"}],\"scattermapbox\":[{\"marker\":{\"colorbar\":{\"outlinewidth\":0,\"ticks\":\"\"}},\"type\":\"scattermapbox\"}],\"scatterpolar\":[{\"marker\":{\"colorbar\":{\"outlinewidth\":0,\"ticks\":\"\"}},\"type\":\"scatterpolar\"}],\"scatterpolargl\":[{\"marker\":{\"colorbar\":{\"outlinewidth\":0,\"ticks\":\"\"}},\"type\":\"scatterpolargl\"}],\"scatterternary\":[{\"marker\":{\"colorbar\":{\"outlinewidth\":0,\"ticks\":\"\"}},\"type\":\"scatterternary\"}],\"surface\":[{\"colorbar\":{\"outlinewidth\":0,\"ticks\":\"\"},\"colorscale\":[[0.0,\"#0d0887\"],[0.1111111111111111,\"#46039f\"],[0.2222222222222222,\"#7201a8\"],[0.3333333333333333,\"#9c179e\"],[0.4444444444444444,\"#bd3786\"],[0.5555555555555556,\"#d8576b\"],[0.6666666666666666,\"#ed7953\"],[0.7777777777777778,\"#fb9f3a\"],[0.8888888888888888,\"#fdca26\"],[1.0,\"#f0f921\"]],\"type\":\"surface\"}],\"table\":[{\"cells\":{\"fill\":{\"color\":\"#EBF0F8\"},\"line\":{\"color\":\"white\"}},\"header\":{\"fill\":{\"color\":\"#C8D4E3\"},\"line\":{\"color\":\"white\"}},\"type\":\"table\"}]},\"layout\":{\"annotationdefaults\":{\"arrowcolor\":\"#2a3f5f\",\"arrowhead\":0,\"arrowwidth\":1},\"autotypenumbers\":\"strict\",\"coloraxis\":{\"colorbar\":{\"outlinewidth\":0,\"ticks\":\"\"}},\"colorscale\":{\"diverging\":[[0,\"#8e0152\"],[0.1,\"#c51b7d\"],[0.2,\"#de77ae\"],[0.3,\"#f1b6da\"],[0.4,\"#fde0ef\"],[0.5,\"#f7f7f7\"],[0.6,\"#e6f5d0\"],[0.7,\"#b8e186\"],[0.8,\"#7fbc41\"],[0.9,\"#4d9221\"],[1,\"#276419\"]],\"sequential\":[[0.0,\"#0d0887\"],[0.1111111111111111,\"#46039f\"],[0.2222222222222222,\"#7201a8\"],[0.3333333333333333,\"#9c179e\"],[0.4444444444444444,\"#bd3786\"],[0.5555555555555556,\"#d8576b\"],[0.6666666666666666,\"#ed7953\"],[0.7777777777777778,\"#fb9f3a\"],[0.8888888888888888,\"#fdca26\"],[1.0,\"#f0f921\"]],\"sequentialminus\":[[0.0,\"#0d0887\"],[0.1111111111111111,\"#46039f\"],[0.2222222222222222,\"#7201a8\"],[0.3333333333333333,\"#9c179e\"],[0.4444444444444444,\"#bd3786\"],[0.5555555555555556,\"#d8576b\"],[0.6666666666666666,\"#ed7953\"],[0.7777777777777778,\"#fb9f3a\"],[0.8888888888888888,\"#fdca26\"],[1.0,\"#f0f921\"]]},\"colorway\":[\"#636efa\",\"#EF553B\",\"#00cc96\",\"#ab63fa\",\"#FFA15A\",\"#19d3f3\",\"#FF6692\",\"#B6E880\",\"#FF97FF\",\"#FECB52\"],\"font\":{\"color\":\"#2a3f5f\"},\"geo\":{\"bgcolor\":\"white\",\"lakecolor\":\"white\",\"landcolor\":\"#E5ECF6\",\"showlakes\":true,\"showland\":true,\"subunitcolor\":\"white\"},\"hoverlabel\":{\"align\":\"left\"},\"hovermode\":\"closest\",\"mapbox\":{\"style\":\"light\"},\"paper_bgcolor\":\"white\",\"plot_bgcolor\":\"#E5ECF6\",\"polar\":{\"angularaxis\":{\"gridcolor\":\"white\",\"linecolor\":\"white\",\"ticks\":\"\"},\"bgcolor\":\"#E5ECF6\",\"radialaxis\":{\"gridcolor\":\"white\",\"linecolor\":\"white\",\"ticks\":\"\"}},\"scene\":{\"xaxis\":{\"backgroundcolor\":\"#E5ECF6\",\"gridcolor\":\"white\",\"gridwidth\":2,\"linecolor\":\"white\",\"showbackground\":true,\"ticks\":\"\",\"zerolinecolor\":\"white\"},\"yaxis\":{\"backgroundcolor\":\"#E5ECF6\",\"gridcolor\":\"white\",\"gridwidth\":2,\"linecolor\":\"white\",\"showbackground\":true,\"ticks\":\"\",\"zerolinecolor\":\"white\"},\"zaxis\":{\"backgroundcolor\":\"#E5ECF6\",\"gridcolor\":\"white\",\"gridwidth\":2,\"linecolor\":\"white\",\"showbackground\":true,\"ticks\":\"\",\"zerolinecolor\":\"white\"}},\"shapedefaults\":{\"line\":{\"color\":\"#2a3f5f\"}},\"ternary\":{\"aaxis\":{\"gridcolor\":\"white\",\"linecolor\":\"white\",\"ticks\":\"\"},\"baxis\":{\"gridcolor\":\"white\",\"linecolor\":\"white\",\"ticks\":\"\"},\"bgcolor\":\"#E5ECF6\",\"caxis\":{\"gridcolor\":\"white\",\"linecolor\":\"white\",\"ticks\":\"\"}},\"title\":{\"x\":0.05},\"xaxis\":{\"automargin\":true,\"gridcolor\":\"white\",\"linecolor\":\"white\",\"ticks\":\"\",\"title\":{\"standoff\":15},\"zerolinecolor\":\"white\",\"zerolinewidth\":2},\"yaxis\":{\"automargin\":true,\"gridcolor\":\"white\",\"linecolor\":\"white\",\"ticks\":\"\",\"title\":{\"standoff\":15},\"zerolinecolor\":\"white\",\"zerolinewidth\":2}}},\"xaxis\":{\"anchor\":\"y\",\"domain\":[0.0,1.0],\"title\":{\"text\":\"Pclass\"},\"categoryorder\":\"array\",\"categoryarray\":[3,1,2]},\"yaxis\":{\"anchor\":\"x\",\"domain\":[0.0,1.0],\"title\":{\"text\":\"Fare\"}},\"legend\":{\"title\":{\"text\":\"Pclass\"},\"tracegroupgap\":0},\"margin\":{\"t\":60},\"boxmode\":\"overlay\",\"height\":400,\"width\":400},                        {\"responsive\": true}                    ).then(function(){\n",
              "                            \n",
              "var gd = document.getElementById('f99ff4c5-80a2-4d20-81d7-f506f8ea01c1');\n",
              "var x = new MutationObserver(function (mutations, observer) {{\n",
              "        var display = window.getComputedStyle(gd).display;\n",
              "        if (!display || display === 'none') {{\n",
              "            console.log([gd, 'removed!']);\n",
              "            Plotly.purge(gd);\n",
              "            observer.disconnect();\n",
              "        }}\n",
              "}});\n",
              "\n",
              "// Listen for the removal of the full notebook cells\n",
              "var notebookContainer = gd.closest('#notebook-container');\n",
              "if (notebookContainer) {{\n",
              "    x.observe(notebookContainer, {childList: true});\n",
              "}}\n",
              "\n",
              "// Listen for the clearing of the current output cell\n",
              "var outputEl = gd.closest('.output');\n",
              "if (outputEl) {{\n",
              "    x.observe(outputEl, {childList: true});\n",
              "}}\n",
              "\n",
              "                        })                };                            </script>        </div>\n",
              "</body>\n",
              "</html>"
            ]
          },
          "metadata": {}
        },
        {
          "output_type": "stream",
          "name": "stderr",
          "text": [
            "/usr/local/lib/python3.7/dist-packages/statsmodels/tools/_testing.py:19: FutureWarning:\n",
            "\n",
            "pandas.util.testing is deprecated. Use the functions in the public API at pandas.testing instead.\n",
            "\n"
          ]
        },
        {
          "output_type": "stream",
          "name": "stdout",
          "text": [
            "                sum_sq      df           F         PR(>F)\n",
            "Pclass    1.092668e+06     1.0  592.438099  3.266268e-108\n",
            "Residual  2.408732e+06  1306.0         NaN            NaN\n"
          ]
        }
      ]
    },
    {
      "cell_type": "code",
      "source": [
        "all_features['Fare'] = all_features['Fare'].fillna(all_features.groupby('Pclass')['Fare'].transform('median'))"
      ],
      "metadata": {
        "id": "YK27siKPHGvd"
      },
      "execution_count": null,
      "outputs": []
    },
    {
      "cell_type": "markdown",
      "source": [
        "#### >> Age\n",
        "- Method: Replace NA in 'Age' by **median** value of 'Age' grouped by 'Title'\n",
        "\n",
        "  - To do so, we need to create the 'Title' extract from the 'Name'"
      ],
      "metadata": {
        "id": "iTN_qu7wYmwJ"
      }
    },
    {
      "cell_type": "code",
      "source": [
        "# Extract Title from Name\n",
        "all_features['Title'] = all_features['Name'].str.split('.').str[0].str.split(',').str[1].str.strip()\n",
        "\n",
        "# 비슷한 의미의 title을 합쳐준다\n",
        "title_Mr = ['Major', 'Col', 'Sir', 'Don', 'Jonkheer', 'Capt']\n",
        "title_Mrs = ['Lady', 'the Countess', 'Dona']\n",
        "title_Miss = ['Mlle', 'Mme', 'Ms']\n",
        "\n",
        "all_features.replace(title_Mr, 'Mr', inplace=True)\n",
        "all_features.replace(title_Mrs, 'Mrs', inplace=True)\n",
        "all_features.replace(title_Miss, 'Miss', inplace=True)"
      ],
      "metadata": {
        "id": "pxuH83Yo_zom"
      },
      "execution_count": null,
      "outputs": []
    },
    {
      "cell_type": "markdown",
      "source": [
        "The figure below shows that the distribution of Age is different depending on the Title.\n",
        "\n",
        "(An ANOVA test is used to determine whether the differences between groups are significant.)"
      ],
      "metadata": {
        "id": "Jk1NDiTM0J6F"
      }
    },
    {
      "cell_type": "code",
      "source": [
        "x = 'Title'\n",
        "y = 'Age'\n",
        "\n",
        "import plotly.express as px\n",
        "fig = px.box(all_features, x=x, y=y, color=x, width=400, height=400)\n",
        "fig.show()\n",
        "\n",
        "import statsmodels.api as sm\n",
        "from statsmodels.formula.api import ols\n",
        "model = ols('{} ~ {}'.format(y, x), data=all_features).fit()\n",
        "anova_table = sm.stats.anova_lm(model, typ=2)\n",
        "print(anova_table)"
      ],
      "metadata": {
        "colab": {
          "base_uri": "https://localhost:8080/",
          "height": 470
        },
        "id": "0x-5935APE5k",
        "outputId": "d37f688f-5463-4db9-90bc-c562f717de96"
      },
      "execution_count": null,
      "outputs": [
        {
          "output_type": "display_data",
          "data": {
            "text/html": [
              "<html>\n",
              "<head><meta charset=\"utf-8\" /></head>\n",
              "<body>\n",
              "    <div>            <script src=\"https://cdnjs.cloudflare.com/ajax/libs/mathjax/2.7.5/MathJax.js?config=TeX-AMS-MML_SVG\"></script><script type=\"text/javascript\">if (window.MathJax) {MathJax.Hub.Config({SVG: {font: \"STIX-Web\"}});}</script>                <script type=\"text/javascript\">window.PlotlyConfig = {MathJaxConfig: 'local'};</script>\n",
              "        <script src=\"https://cdn.plot.ly/plotly-2.8.3.min.js\"></script>                <div id=\"0252e06c-b1d9-4a76-80c9-993f7a686f18\" class=\"plotly-graph-div\" style=\"height:400px; width:400px;\"></div>            <script type=\"text/javascript\">                                    window.PLOTLYENV=window.PLOTLYENV || {};                                    if (document.getElementById(\"0252e06c-b1d9-4a76-80c9-993f7a686f18\")) {                    Plotly.newPlot(                        \"0252e06c-b1d9-4a76-80c9-993f7a686f18\",                        [{\"alignmentgroup\":\"True\",\"hovertemplate\":\"Title=%{x}<br>Age=%{y}<extra></extra>\",\"legendgroup\":\"Mr\",\"marker\":{\"color\":\"#636efa\"},\"name\":\"Mr\",\"notched\":false,\"offsetgroup\":\"Mr\",\"orientation\":\"v\",\"showlegend\":true,\"x\":[\"Mr\",\"Mr\",\"Mr\",\"Mr\",\"Mr\",\"Mr\",\"Mr\",\"Mr\",\"Mr\",\"Mr\",\"Mr\",\"Mr\",\"Mr\",\"Mr\",\"Mr\",\"Mr\",\"Mr\",\"Mr\",\"Mr\",\"Mr\",\"Mr\",\"Mr\",\"Mr\",\"Mr\",\"Mr\",\"Mr\",\"Mr\",\"Mr\",\"Mr\",\"Mr\",\"Mr\",\"Mr\",\"Mr\",\"Mr\",\"Mr\",\"Mr\",\"Mr\",\"Mr\",\"Mr\",\"Mr\",\"Mr\",\"Mr\",\"Mr\",\"Mr\",\"Mr\",\"Mr\",\"Mr\",\"Mr\",\"Mr\",\"Mr\",\"Mr\",\"Mr\",\"Mr\",\"Mr\",\"Mr\",\"Mr\",\"Mr\",\"Mr\",\"Mr\",\"Mr\",\"Mr\",\"Mr\",\"Mr\",\"Mr\",\"Mr\",\"Mr\",\"Mr\",\"Mr\",\"Mr\",\"Mr\",\"Mr\",\"Mr\",\"Mr\",\"Mr\",\"Mr\",\"Mr\",\"Mr\",\"Mr\",\"Mr\",\"Mr\",\"Mr\",\"Mr\",\"Mr\",\"Mr\",\"Mr\",\"Mr\",\"Mr\",\"Mr\",\"Mr\",\"Mr\",\"Mr\",\"Mr\",\"Mr\",\"Mr\",\"Mr\",\"Mr\",\"Mr\",\"Mr\",\"Mr\",\"Mr\",\"Mr\",\"Mr\",\"Mr\",\"Mr\",\"Mr\",\"Mr\",\"Mr\",\"Mr\",\"Mr\",\"Mr\",\"Mr\",\"Mr\",\"Mr\",\"Mr\",\"Mr\",\"Mr\",\"Mr\",\"Mr\",\"Mr\",\"Mr\",\"Mr\",\"Mr\",\"Mr\",\"Mr\",\"Mr\",\"Mr\",\"Mr\",\"Mr\",\"Mr\",\"Mr\",\"Mr\",\"Mr\",\"Mr\",\"Mr\",\"Mr\",\"Mr\",\"Mr\",\"Mr\",\"Mr\",\"Mr\",\"Mr\",\"Mr\",\"Mr\",\"Mr\",\"Mr\",\"Mr\",\"Mr\",\"Mr\",\"Mr\",\"Mr\",\"Mr\",\"Mr\",\"Mr\",\"Mr\",\"Mr\",\"Mr\",\"Mr\",\"Mr\",\"Mr\",\"Mr\",\"Mr\",\"Mr\",\"Mr\",\"Mr\",\"Mr\",\"Mr\",\"Mr\",\"Mr\",\"Mr\",\"Mr\",\"Mr\",\"Mr\",\"Mr\",\"Mr\",\"Mr\",\"Mr\",\"Mr\",\"Mr\",\"Mr\",\"Mr\",\"Mr\",\"Mr\",\"Mr\",\"Mr\",\"Mr\",\"Mr\",\"Mr\",\"Mr\",\"Mr\",\"Mr\",\"Mr\",\"Mr\",\"Mr\",\"Mr\",\"Mr\",\"Mr\",\"Mr\",\"Mr\",\"Mr\",\"Mr\",\"Mr\",\"Mr\",\"Mr\",\"Mr\",\"Mr\",\"Mr\",\"Mr\",\"Mr\",\"Mr\",\"Mr\",\"Mr\",\"Mr\",\"Mr\",\"Mr\",\"Mr\",\"Mr\",\"Mr\",\"Mr\",\"Mr\",\"Mr\",\"Mr\",\"Mr\",\"Mr\",\"Mr\",\"Mr\",\"Mr\",\"Mr\",\"Mr\",\"Mr\",\"Mr\",\"Mr\",\"Mr\",\"Mr\",\"Mr\",\"Mr\",\"Mr\",\"Mr\",\"Mr\",\"Mr\",\"Mr\",\"Mr\",\"Mr\",\"Mr\",\"Mr\",\"Mr\",\"Mr\",\"Mr\",\"Mr\",\"Mr\",\"Mr\",\"Mr\",\"Mr\",\"Mr\",\"Mr\",\"Mr\",\"Mr\",\"Mr\",\"Mr\",\"Mr\",\"Mr\",\"Mr\",\"Mr\",\"Mr\",\"Mr\",\"Mr\",\"Mr\",\"Mr\",\"Mr\",\"Mr\",\"Mr\",\"Mr\",\"Mr\",\"Mr\",\"Mr\",\"Mr\",\"Mr\",\"Mr\",\"Mr\",\"Mr\",\"Mr\",\"Mr\",\"Mr\",\"Mr\",\"Mr\",\"Mr\",\"Mr\",\"Mr\",\"Mr\",\"Mr\",\"Mr\",\"Mr\",\"Mr\",\"Mr\",\"Mr\",\"Mr\",\"Mr\",\"Mr\",\"Mr\",\"Mr\",\"Mr\",\"Mr\",\"Mr\",\"Mr\",\"Mr\",\"Mr\",\"Mr\",\"Mr\",\"Mr\",\"Mr\",\"Mr\",\"Mr\",\"Mr\",\"Mr\",\"Mr\",\"Mr\",\"Mr\",\"Mr\",\"Mr\",\"Mr\",\"Mr\",\"Mr\",\"Mr\",\"Mr\",\"Mr\",\"Mr\",\"Mr\",\"Mr\",\"Mr\",\"Mr\",\"Mr\",\"Mr\",\"Mr\",\"Mr\",\"Mr\",\"Mr\",\"Mr\",\"Mr\",\"Mr\",\"Mr\",\"Mr\",\"Mr\",\"Mr\",\"Mr\",\"Mr\",\"Mr\",\"Mr\",\"Mr\",\"Mr\",\"Mr\",\"Mr\",\"Mr\",\"Mr\",\"Mr\",\"Mr\",\"Mr\",\"Mr\",\"Mr\",\"Mr\",\"Mr\",\"Mr\",\"Mr\",\"Mr\",\"Mr\",\"Mr\",\"Mr\",\"Mr\",\"Mr\",\"Mr\",\"Mr\",\"Mr\",\"Mr\",\"Mr\",\"Mr\",\"Mr\",\"Mr\",\"Mr\",\"Mr\",\"Mr\",\"Mr\",\"Mr\",\"Mr\",\"Mr\",\"Mr\",\"Mr\",\"Mr\",\"Mr\",\"Mr\",\"Mr\",\"Mr\",\"Mr\",\"Mr\",\"Mr\",\"Mr\",\"Mr\",\"Mr\",\"Mr\",\"Mr\",\"Mr\",\"Mr\",\"Mr\",\"Mr\",\"Mr\",\"Mr\",\"Mr\",\"Mr\",\"Mr\",\"Mr\",\"Mr\",\"Mr\",\"Mr\",\"Mr\",\"Mr\",\"Mr\",\"Mr\",\"Mr\",\"Mr\",\"Mr\",\"Mr\",\"Mr\",\"Mr\",\"Mr\",\"Mr\",\"Mr\",\"Mr\",\"Mr\",\"Mr\",\"Mr\",\"Mr\",\"Mr\",\"Mr\",\"Mr\",\"Mr\",\"Mr\",\"Mr\",\"Mr\",\"Mr\",\"Mr\",\"Mr\",\"Mr\",\"Mr\",\"Mr\",\"Mr\",\"Mr\",\"Mr\",\"Mr\",\"Mr\",\"Mr\",\"Mr\",\"Mr\",\"Mr\",\"Mr\",\"Mr\",\"Mr\",\"Mr\",\"Mr\",\"Mr\",\"Mr\",\"Mr\",\"Mr\",\"Mr\",\"Mr\",\"Mr\",\"Mr\",\"Mr\",\"Mr\",\"Mr\",\"Mr\",\"Mr\",\"Mr\",\"Mr\",\"Mr\",\"Mr\",\"Mr\",\"Mr\",\"Mr\",\"Mr\",\"Mr\",\"Mr\",\"Mr\",\"Mr\",\"Mr\",\"Mr\",\"Mr\",\"Mr\",\"Mr\",\"Mr\",\"Mr\",\"Mr\",\"Mr\",\"Mr\",\"Mr\",\"Mr\",\"Mr\",\"Mr\",\"Mr\",\"Mr\",\"Mr\",\"Mr\",\"Mr\",\"Mr\",\"Mr\",\"Mr\",\"Mr\",\"Mr\",\"Mr\",\"Mr\",\"Mr\",\"Mr\",\"Mr\",\"Mr\",\"Mr\",\"Mr\",\"Mr\",\"Mr\",\"Mr\",\"Mr\",\"Mr\",\"Mr\",\"Mr\",\"Mr\",\"Mr\",\"Mr\",\"Mr\",\"Mr\",\"Mr\",\"Mr\",\"Mr\",\"Mr\",\"Mr\",\"Mr\",\"Mr\",\"Mr\",\"Mr\",\"Mr\",\"Mr\",\"Mr\",\"Mr\",\"Mr\",\"Mr\",\"Mr\",\"Mr\",\"Mr\",\"Mr\",\"Mr\",\"Mr\",\"Mr\",\"Mr\",\"Mr\",\"Mr\",\"Mr\",\"Mr\",\"Mr\",\"Mr\",\"Mr\",\"Mr\",\"Mr\",\"Mr\",\"Mr\",\"Mr\",\"Mr\",\"Mr\",\"Mr\",\"Mr\",\"Mr\",\"Mr\",\"Mr\",\"Mr\",\"Mr\",\"Mr\",\"Mr\",\"Mr\",\"Mr\",\"Mr\",\"Mr\",\"Mr\",\"Mr\",\"Mr\",\"Mr\",\"Mr\",\"Mr\",\"Mr\",\"Mr\",\"Mr\",\"Mr\",\"Mr\",\"Mr\",\"Mr\",\"Mr\",\"Mr\",\"Mr\",\"Mr\",\"Mr\",\"Mr\",\"Mr\",\"Mr\",\"Mr\",\"Mr\",\"Mr\",\"Mr\",\"Mr\",\"Mr\",\"Mr\",\"Mr\",\"Mr\",\"Mr\",\"Mr\",\"Mr\",\"Mr\",\"Mr\",\"Mr\",\"Mr\",\"Mr\",\"Mr\",\"Mr\",\"Mr\",\"Mr\",\"Mr\",\"Mr\",\"Mr\",\"Mr\",\"Mr\",\"Mr\",\"Mr\",\"Mr\",\"Mr\",\"Mr\",\"Mr\",\"Mr\",\"Mr\",\"Mr\",\"Mr\",\"Mr\",\"Mr\",\"Mr\",\"Mr\",\"Mr\",\"Mr\",\"Mr\",\"Mr\",\"Mr\",\"Mr\",\"Mr\",\"Mr\",\"Mr\",\"Mr\",\"Mr\",\"Mr\",\"Mr\",\"Mr\",\"Mr\",\"Mr\",\"Mr\",\"Mr\",\"Mr\",\"Mr\",\"Mr\",\"Mr\",\"Mr\",\"Mr\",\"Mr\",\"Mr\",\"Mr\",\"Mr\",\"Mr\",\"Mr\",\"Mr\",\"Mr\",\"Mr\",\"Mr\",\"Mr\",\"Mr\",\"Mr\",\"Mr\",\"Mr\",\"Mr\",\"Mr\",\"Mr\",\"Mr\",\"Mr\",\"Mr\",\"Mr\",\"Mr\",\"Mr\",\"Mr\",\"Mr\",\"Mr\",\"Mr\",\"Mr\",\"Mr\",\"Mr\",\"Mr\",\"Mr\",\"Mr\",\"Mr\",\"Mr\",\"Mr\",\"Mr\",\"Mr\",\"Mr\",\"Mr\",\"Mr\",\"Mr\",\"Mr\",\"Mr\",\"Mr\",\"Mr\",\"Mr\",\"Mr\",\"Mr\",\"Mr\",\"Mr\",\"Mr\",\"Mr\",\"Mr\",\"Mr\",\"Mr\",\"Mr\",\"Mr\",\"Mr\",\"Mr\",\"Mr\",\"Mr\",\"Mr\",\"Mr\",\"Mr\",\"Mr\",\"Mr\",\"Mr\",\"Mr\",\"Mr\",\"Mr\",\"Mr\",\"Mr\",\"Mr\",\"Mr\",\"Mr\",\"Mr\",\"Mr\",\"Mr\",\"Mr\",\"Mr\",\"Mr\",\"Mr\",\"Mr\",\"Mr\",\"Mr\",\"Mr\",\"Mr\",\"Mr\",\"Mr\",\"Mr\",\"Mr\",\"Mr\",\"Mr\",\"Mr\",\"Mr\",\"Mr\",\"Mr\",\"Mr\",\"Mr\",\"Mr\",\"Mr\",\"Mr\",\"Mr\",\"Mr\",\"Mr\",\"Mr\"],\"x0\":\" \",\"xaxis\":\"x\",\"y\":[22.0,35.0,null,54.0,20.0,39.0,null,35.0,34.0,28.0,null,19.0,null,40.0,66.0,28.0,42.0,null,21.0,null,null,null,null,21.0,65.0,null,28.5,22.0,45.0,null,19.0,26.0,32.0,21.0,26.0,32.0,25.0,null,null,22.0,29.0,28.0,16.0,null,24.0,29.0,20.0,46.0,26.0,59.0,null,71.0,23.0,34.0,null,21.0,33.0,37.0,28.0,null,38.0,47.0,22.0,21.0,70.5,29.0,24.0,21.0,null,32.5,54.0,null,24.0,45.0,33.0,20.0,25.0,23.0,37.0,16.0,24.0,19.0,18.0,19.0,27.0,36.5,55.5,40.5,null,51.0,30.0,null,44.0,26.0,17.0,null,28.0,61.0,21.0,56.0,18.0,30.0,36.0,null,null,45.0,40.0,36.0,19.0,null,42.0,28.0,null,34.0,45.5,18.0,32.0,26.0,40.0,24.0,22.0,30.0,null,42.0,30.0,16.0,27.0,51.0,null,38.0,22.0,19.0,20.5,18.0,29.0,59.0,24.0,44.0,19.0,33.0,29.0,22.0,30.0,37.0,null,62.0,30.0,null,52.0,40.0,36.0,16.0,25.0,null,25.0,37.0,null,65.0,28.0,16.0,19.0,null,33.0,30.0,22.0,42.0,36.0,24.0,null,23.5,null,null,19.0,null,30.0,28.0,43.0,22.0,27.0,null,61.0,45.5,38.0,16.0,null,29.0,45.0,45.0,28.0,25.0,36.0,42.0,23.0,null,15.0,25.0,null,28.0,40.0,29.0,35.0,null,30.0,25.0,18.0,19.0,22.0,27.0,20.0,19.0,32.0,null,18.0,null,36.0,21.0,28.0,22.0,46.0,39.0,26.0,28.0,34.0,51.0,21.0,null,null,null,44.0,30.0,null,21.0,29.0,18.0,null,null,32.0,28.0,17.0,50.0,64.0,31.0,20.0,25.0,null,34.0,52.0,36.0,null,30.0,49.0,null,29.0,65.0,null,48.0,34.0,47.0,48.0,null,38.0,null,56.0,null,null,38.0,null,34.0,29.0,22.0,null,50.0,25.0,58.0,30.0,null,21.0,55.0,71.0,21.0,null,null,24.0,17.0,18.0,null,28.0,26.0,29.0,null,36.0,24.0,47.0,null,32.0,22.0,null,null,40.5,null,39.0,23.0,null,17.0,45.0,null,32.0,50.0,64.0,null,33.0,17.0,27.0,null,22.0,62.0,null,null,40.0,28.0,null,24.0,19.0,null,32.0,62.0,36.0,16.0,19.0,32.0,54.0,36.0,null,47.0,60.0,22.0,null,35.0,47.0,37.0,36.0,49.0,null,49.0,null,null,44.0,35.0,36.0,30.0,27.0,null,null,35.0,34.0,26.0,27.0,42.0,20.0,21.0,21.0,61.0,26.0,null,80.0,51.0,null,32.0,31.0,null,20.0,null,48.0,19.0,56.0,null,null,21.0,24.0,null,23.0,58.0,40.0,47.0,36.0,20.0,32.0,25.0,null,43.0,31.0,70.0,31.0,null,18.0,24.5,36.0,27.0,20.0,14.0,60.0,25.0,14.0,19.0,18.0,31.0,null,25.0,60.0,52.0,44.0,49.0,42.0,35.0,25.0,26.0,39.0,42.0,null,48.0,29.0,52.0,19.0,null,33.0,17.0,34.0,50.0,27.0,20.0,25.0,11.0,null,23.0,23.0,28.5,35.0,null,null,null,36.0,24.0,31.0,70.0,16.0,19.0,31.0,33.0,23.0,28.0,18.0,34.0,null,41.0,20.0,16.0,null,32.0,24.0,48.0,null,18.0,null,null,29.0,null,25.0,25.0,46.0,null,16.0,null,25.0,39.0,30.0,34.0,27.0,31.0,39.0,39.0,26.0,39.0,35.0,30.5,null,31.0,43.0,27.0,38.0,null,null,null,null,23.0,18.0,21.0,null,32.0,null,20.0,16.0,34.5,17.0,42.0,null,35.0,74.0,51.0,null,41.0,21.0,24.0,31.0,null,26.0,33.0,47.0,20.0,19.0,null,33.0,28.0,25.0,26.0,32.0,34.5,62.0,27.0,14.0,26.0,21.0,null,46.0,63.0,35.0,21.0,55.0,21.0,50.0,22.5,41.0,null,50.0,24.0,30.0,18.5,25.0,null,39.0,null,41.0,25.0,45.0,null,24.0,27.0,null,35.0,25.0,null,17.0,32.0,18.0,47.0,31.0,21.0,28.5,32.5,null,30.0,67.0,49.0,null,null,null,null,null,25.0,25.0,29.0,33.0,27.0,null,26.0,28.0,21.0,null,null,18.5,41.0,18.0,null,36.0,null,28.0,null,22.0,42.0,24.0,32.0,53.0,null,43.0,24.0,26.5,26.0,40.0,61.0,28.0,42.0,31.0,null,22.0,null,null,60.5,24.0,42.0,null,48.0,18.0,null,27.0,23.0,null,40.0,54.0,30.0,37.0,null,40.0,17.0,40.0,34.0,null,61.0,33.0,23.0,47.0,25.0,null,24.0,25.0,32.0,null,17.0,42.0,57.0,null,21.0,21.0,23.0,40.5,36.0,14.0,21.0,null,39.0,20.0,64.0,20.0,45.0,null,41.0,42.0,20.0,27.0,24.0,32.5,null,null,28.0,21.0,36.5,21.0,30.0,null,null,null,17.0,46.0,null,null,28.0,40.0,30.0,22.0,36.0,null,24.0,null,null,null,null,36.0,26.0,null,30.0,29.0,32.0,null,43.0,24.0,30.0,55.0,18.0,22.0,null,57.0,19.0,27.0,22.0,26.0,25.0,26.0,33.0,23.0,46.0,29.0,21.0,39.0,null,27.0,30.0,32.0,39.0,25.0,18.0,32.0,null,26.0,24.0,25.0,18.0,49.0,50.0,null,null,27.0,null,29.0,21.0,49.0,44.0,21.0,55.0,null,26.0,null,24.0,57.0,21.0,23.0,47.0,29.0,24.0,22.0,31.0,38.0,17.0,43.0,20.0,23.0,50.0,null,38.5,null],\"y0\":\" \",\"yaxis\":\"y\",\"type\":\"box\"},{\"alignmentgroup\":\"True\",\"hovertemplate\":\"Title=%{x}<br>Age=%{y}<extra></extra>\",\"legendgroup\":\"Mrs\",\"marker\":{\"color\":\"#EF553B\"},\"name\":\"Mrs\",\"notched\":false,\"offsetgroup\":\"Mrs\",\"orientation\":\"v\",\"showlegend\":true,\"x\":[\"Mrs\",\"Mrs\",\"Mrs\",\"Mrs\",\"Mrs\",\"Mrs\",\"Mrs\",\"Mrs\",\"Mrs\",\"Mrs\",\"Mrs\",\"Mrs\",\"Mrs\",\"Mrs\",\"Mrs\",\"Mrs\",\"Mrs\",\"Mrs\",\"Mrs\",\"Mrs\",\"Mrs\",\"Mrs\",\"Mrs\",\"Mrs\",\"Mrs\",\"Mrs\",\"Mrs\",\"Mrs\",\"Mrs\",\"Mrs\",\"Mrs\",\"Mrs\",\"Mrs\",\"Mrs\",\"Mrs\",\"Mrs\",\"Mrs\",\"Mrs\",\"Mrs\",\"Mrs\",\"Mrs\",\"Mrs\",\"Mrs\",\"Mrs\",\"Mrs\",\"Mrs\",\"Mrs\",\"Mrs\",\"Mrs\",\"Mrs\",\"Mrs\",\"Mrs\",\"Mrs\",\"Mrs\",\"Mrs\",\"Mrs\",\"Mrs\",\"Mrs\",\"Mrs\",\"Mrs\",\"Mrs\",\"Mrs\",\"Mrs\",\"Mrs\",\"Mrs\",\"Mrs\",\"Mrs\",\"Mrs\",\"Mrs\",\"Mrs\",\"Mrs\",\"Mrs\",\"Mrs\",\"Mrs\",\"Mrs\",\"Mrs\",\"Mrs\",\"Mrs\",\"Mrs\",\"Mrs\",\"Mrs\",\"Mrs\",\"Mrs\",\"Mrs\",\"Mrs\",\"Mrs\",\"Mrs\",\"Mrs\",\"Mrs\",\"Mrs\",\"Mrs\",\"Mrs\",\"Mrs\",\"Mrs\",\"Mrs\",\"Mrs\",\"Mrs\",\"Mrs\",\"Mrs\",\"Mrs\",\"Mrs\",\"Mrs\",\"Mrs\",\"Mrs\",\"Mrs\",\"Mrs\",\"Mrs\",\"Mrs\",\"Mrs\",\"Mrs\",\"Mrs\",\"Mrs\",\"Mrs\",\"Mrs\",\"Mrs\",\"Mrs\",\"Mrs\",\"Mrs\",\"Mrs\",\"Mrs\",\"Mrs\",\"Mrs\",\"Mrs\",\"Mrs\",\"Mrs\",\"Mrs\",\"Mrs\",\"Mrs\",\"Mrs\",\"Mrs\",\"Mrs\",\"Mrs\",\"Mrs\",\"Mrs\",\"Mrs\",\"Mrs\",\"Mrs\",\"Mrs\",\"Mrs\",\"Mrs\",\"Mrs\",\"Mrs\",\"Mrs\",\"Mrs\",\"Mrs\",\"Mrs\",\"Mrs\",\"Mrs\",\"Mrs\",\"Mrs\",\"Mrs\",\"Mrs\",\"Mrs\",\"Mrs\",\"Mrs\",\"Mrs\",\"Mrs\",\"Mrs\",\"Mrs\",\"Mrs\",\"Mrs\",\"Mrs\",\"Mrs\",\"Mrs\",\"Mrs\",\"Mrs\",\"Mrs\",\"Mrs\",\"Mrs\",\"Mrs\",\"Mrs\",\"Mrs\",\"Mrs\",\"Mrs\",\"Mrs\",\"Mrs\",\"Mrs\",\"Mrs\",\"Mrs\",\"Mrs\",\"Mrs\",\"Mrs\",\"Mrs\",\"Mrs\",\"Mrs\",\"Mrs\",\"Mrs\",\"Mrs\",\"Mrs\",\"Mrs\",\"Mrs\",\"Mrs\",\"Mrs\",\"Mrs\",\"Mrs\",\"Mrs\",\"Mrs\",\"Mrs\",\"Mrs\",\"Mrs\"],\"x0\":\" \",\"xaxis\":\"x\",\"y\":[38.0,35.0,27.0,14.0,55.0,31.0,null,38.0,null,40.0,27.0,18.0,49.0,29.0,29.0,33.0,34.0,47.0,29.0,null,24.0,22.0,40.0,null,45.0,null,32.0,44.0,35.0,24.0,29.0,41.0,29.0,null,50.0,58.0,41.0,35.0,19.0,50.0,17.0,26.0,24.0,40.0,22.0,36.0,31.0,null,null,45.0,60.0,null,null,35.0,24.0,28.0,null,34.0,28.0,28.0,null,42.0,24.0,45.0,null,33.0,23.0,63.0,35.0,25.0,33.0,54.0,34.0,36.0,44.0,null,19.0,48.0,39.0,36.0,29.0,53.0,39.0,null,39.0,52.0,24.0,22.0,39.0,26.0,41.0,32.0,null,40.0,43.0,18.0,45.0,30.0,48.0,48.0,33.0,36.0,51.0,57.0,54.0,43.0,17.0,31.0,30.0,31.0,33.0,52.0,27.0,62.0,15.0,null,44.0,18.0,45.0,24.0,48.0,42.0,47.0,28.0,56.0,25.0,39.0,47.0,22.0,18.0,23.0,47.0,24.0,45.0,null,48.0,33.0,null,30.0,45.0,60.0,36.0,null,60.0,55.0,22.0,27.0,76.0,43.0,16.0,63.0,29.0,35.0,null,23.0,36.0,26.0,26.0,null,36.0,64.0,18.0,27.0,null,60.0,50.0,22.0,53.0,null,48.0,55.0,45.0,22.0,29.0,null,29.0,26.0,64.0,45.0,55.0,48.0,19.0,58.0,38.0,45.0,59.0,30.0,24.0,31.0,25.0,null,45.0,54.0,null,19.0,51.0,18.0,48.0,37.0,39.0],\"y0\":\" \",\"yaxis\":\"y\",\"type\":\"box\"},{\"alignmentgroup\":\"True\",\"hovertemplate\":\"Title=%{x}<br>Age=%{y}<extra></extra>\",\"legendgroup\":\"Miss\",\"marker\":{\"color\":\"#00cc96\"},\"name\":\"Miss\",\"notched\":false,\"offsetgroup\":\"Miss\",\"orientation\":\"v\",\"showlegend\":true,\"x\":[\"Miss\",\"Miss\",\"Miss\",\"Miss\",\"Miss\",\"Miss\",\"Miss\",\"Miss\",\"Miss\",\"Miss\",\"Miss\",\"Miss\",\"Miss\",\"Miss\",\"Miss\",\"Miss\",\"Miss\",\"Miss\",\"Miss\",\"Miss\",\"Miss\",\"Miss\",\"Miss\",\"Miss\",\"Miss\",\"Miss\",\"Miss\",\"Miss\",\"Miss\",\"Miss\",\"Miss\",\"Miss\",\"Miss\",\"Miss\",\"Miss\",\"Miss\",\"Miss\",\"Miss\",\"Miss\",\"Miss\",\"Miss\",\"Miss\",\"Miss\",\"Miss\",\"Miss\",\"Miss\",\"Miss\",\"Miss\",\"Miss\",\"Miss\",\"Miss\",\"Miss\",\"Miss\",\"Miss\",\"Miss\",\"Miss\",\"Miss\",\"Miss\",\"Miss\",\"Miss\",\"Miss\",\"Miss\",\"Miss\",\"Miss\",\"Miss\",\"Miss\",\"Miss\",\"Miss\",\"Miss\",\"Miss\",\"Miss\",\"Miss\",\"Miss\",\"Miss\",\"Miss\",\"Miss\",\"Miss\",\"Miss\",\"Miss\",\"Miss\",\"Miss\",\"Miss\",\"Miss\",\"Miss\",\"Miss\",\"Miss\",\"Miss\",\"Miss\",\"Miss\",\"Miss\",\"Miss\",\"Miss\",\"Miss\",\"Miss\",\"Miss\",\"Miss\",\"Miss\",\"Miss\",\"Miss\",\"Miss\",\"Miss\",\"Miss\",\"Miss\",\"Miss\",\"Miss\",\"Miss\",\"Miss\",\"Miss\",\"Miss\",\"Miss\",\"Miss\",\"Miss\",\"Miss\",\"Miss\",\"Miss\",\"Miss\",\"Miss\",\"Miss\",\"Miss\",\"Miss\",\"Miss\",\"Miss\",\"Miss\",\"Miss\",\"Miss\",\"Miss\",\"Miss\",\"Miss\",\"Miss\",\"Miss\",\"Miss\",\"Miss\",\"Miss\",\"Miss\",\"Miss\",\"Miss\",\"Miss\",\"Miss\",\"Miss\",\"Miss\",\"Miss\",\"Miss\",\"Miss\",\"Miss\",\"Miss\",\"Miss\",\"Miss\",\"Miss\",\"Miss\",\"Miss\",\"Miss\",\"Miss\",\"Miss\",\"Miss\",\"Miss\",\"Miss\",\"Miss\",\"Miss\",\"Miss\",\"Miss\",\"Miss\",\"Miss\",\"Miss\",\"Miss\",\"Miss\",\"Miss\",\"Miss\",\"Miss\",\"Miss\",\"Miss\",\"Miss\",\"Miss\",\"Miss\",\"Miss\",\"Miss\",\"Miss\",\"Miss\",\"Miss\",\"Miss\",\"Miss\",\"Miss\",\"Miss\",\"Miss\",\"Miss\",\"Miss\",\"Miss\",\"Miss\",\"Miss\",\"Miss\",\"Miss\",\"Miss\",\"Miss\",\"Miss\",\"Miss\",\"Miss\",\"Miss\",\"Miss\",\"Miss\",\"Miss\",\"Miss\",\"Miss\",\"Miss\",\"Miss\",\"Miss\",\"Miss\",\"Miss\",\"Miss\",\"Miss\",\"Miss\",\"Miss\",\"Miss\",\"Miss\",\"Miss\",\"Miss\",\"Miss\",\"Miss\",\"Miss\",\"Miss\",\"Miss\",\"Miss\",\"Miss\",\"Miss\",\"Miss\",\"Miss\",\"Miss\",\"Miss\",\"Miss\",\"Miss\",\"Miss\",\"Miss\",\"Miss\",\"Miss\",\"Miss\",\"Miss\",\"Miss\",\"Miss\",\"Miss\",\"Miss\",\"Miss\",\"Miss\",\"Miss\",\"Miss\",\"Miss\",\"Miss\",\"Miss\",\"Miss\",\"Miss\",\"Miss\",\"Miss\",\"Miss\",\"Miss\",\"Miss\",\"Miss\",\"Miss\",\"Miss\",\"Miss\",\"Miss\",\"Miss\",\"Miss\",\"Miss\",\"Miss\",\"Miss\",\"Miss\",\"Miss\",\"Miss\"],\"x0\":\" \",\"xaxis\":\"x\",\"y\":[26.0,4.0,58.0,14.0,15.0,8.0,null,null,18.0,14.0,3.0,19.0,null,21.0,5.0,38.0,17.0,16.0,30.0,null,17.0,23.0,28.0,21.0,null,14.5,20.0,17.0,2.0,32.5,null,19.0,22.0,9.0,16.0,1.0,50.0,null,4.0,19.0,58.0,null,24.0,2.0,16.0,35.0,31.0,27.0,32.0,null,5.0,null,8.0,null,null,25.0,30.0,35.0,null,35.0,null,63.0,45.0,22.0,26.0,24.0,2.0,null,null,null,30.0,24.0,18.0,26.0,31.0,30.0,36.0,16.0,null,41.0,24.0,24.0,40.0,22.0,38.0,null,null,null,24.0,3.0,22.0,42.0,1.0,36.0,17.0,23.0,31.0,21.0,20.0,null,33.0,18.0,10.0,19.0,14.0,21.0,28.0,13.0,5.0,50.0,0.75,22.0,2.0,null,54.0,21.0,null,37.0,16.0,30.0,50.0,2.0,30.0,7.0,30.0,22.0,36.0,9.0,11.0,22.0,null,null,34.0,25.0,18.0,null,null,40.0,null,24.0,4.0,21.0,9.0,28.0,24.0,2.0,0.75,23.0,18.0,null,18.0,18.0,null,15.0,4.0,null,18.0,22.0,24.0,38.0,27.0,6.0,null,25.0,29.0,21.0,30.0,4.0,30.5,5.0,13.0,18.0,null,18.0,6.0,23.0,39.0,30.0,9.0,16.0,null,27.0,15.0,22.0,19.0,null,30.0,27.0,22.0,null,21.0,20.0,28.0,36.0,22.0,18.0,24.0,29.0,35.0,24.0,27.0,18.0,null,20.0,null,36.0,18.5,1.0,12.0,17.0,null,23.0,10.0,33.0,29.0,23.0,null,26.0,22.0,15.0,20.0,21.0,null,18.0,null,8.0,35.0,33.0,38.0,null,30.0,null,21.0,18.0,0.92,19.0,1.0,null,null,20.0,23.0,null,9.0,2.0,30.0,1.0,null,37.0,17.0,39.0,12.0,16.0,31.0,0.17,22.0,31.0,45.0,22.0,24.0,30.0,22.0,null,3.0,null,28.0],\"y0\":\" \",\"yaxis\":\"y\",\"type\":\"box\"},{\"alignmentgroup\":\"True\",\"hovertemplate\":\"Title=%{x}<br>Age=%{y}<extra></extra>\",\"legendgroup\":\"Master\",\"marker\":{\"color\":\"#ab63fa\"},\"name\":\"Master\",\"notched\":false,\"offsetgroup\":\"Master\",\"orientation\":\"v\",\"showlegend\":true,\"x\":[\"Master\",\"Master\",\"Master\",\"Master\",\"Master\",\"Master\",\"Master\",\"Master\",\"Master\",\"Master\",\"Master\",\"Master\",\"Master\",\"Master\",\"Master\",\"Master\",\"Master\",\"Master\",\"Master\",\"Master\",\"Master\",\"Master\",\"Master\",\"Master\",\"Master\",\"Master\",\"Master\",\"Master\",\"Master\",\"Master\",\"Master\",\"Master\",\"Master\",\"Master\",\"Master\",\"Master\",\"Master\",\"Master\",\"Master\",\"Master\",\"Master\",\"Master\",\"Master\",\"Master\",\"Master\",\"Master\",\"Master\",\"Master\",\"Master\",\"Master\",\"Master\",\"Master\",\"Master\",\"Master\",\"Master\",\"Master\",\"Master\",\"Master\",\"Master\",\"Master\",\"Master\"],\"x0\":\" \",\"xaxis\":\"x\",\"y\":[2.0,2.0,7.0,11.0,4.0,null,0.83,12.0,null,1.0,9.0,4.0,null,9.0,1.0,3.0,3.0,7.0,0.92,2.0,3.0,1.0,3.0,4.0,9.0,9.0,8.0,null,6.0,0.67,8.0,1.0,11.0,0.42,10.0,2.0,1.0,0.83,4.0,4.0,9.0,10.0,13.0,6.0,2.0,13.0,7.0,11.5,8.0,6.0,0.33,null,0.75,0.83,null,null,14.5,5.0,6.0,13.0,null],\"y0\":\" \",\"yaxis\":\"y\",\"type\":\"box\"},{\"alignmentgroup\":\"True\",\"hovertemplate\":\"Title=%{x}<br>Age=%{y}<extra></extra>\",\"legendgroup\":\"Rev\",\"marker\":{\"color\":\"#FFA15A\"},\"name\":\"Rev\",\"notched\":false,\"offsetgroup\":\"Rev\",\"orientation\":\"v\",\"showlegend\":true,\"x\":[\"Rev\",\"Rev\",\"Rev\",\"Rev\",\"Rev\",\"Rev\",\"Rev\",\"Rev\"],\"x0\":\" \",\"xaxis\":\"x\",\"y\":[42.0,51.0,54.0,57.0,28.0,27.0,30.0,41.0],\"y0\":\" \",\"yaxis\":\"y\",\"type\":\"box\"},{\"alignmentgroup\":\"True\",\"hovertemplate\":\"Title=%{x}<br>Age=%{y}<extra></extra>\",\"legendgroup\":\"Dr\",\"marker\":{\"color\":\"#19d3f3\"},\"name\":\"Dr\",\"notched\":false,\"offsetgroup\":\"Dr\",\"orientation\":\"v\",\"showlegend\":true,\"x\":[\"Dr\",\"Dr\",\"Dr\",\"Dr\",\"Dr\",\"Dr\",\"Dr\",\"Dr\"],\"x0\":\" \",\"xaxis\":\"x\",\"y\":[44.0,54.0,23.0,32.0,50.0,null,49.0,53.0],\"y0\":\" \",\"yaxis\":\"y\",\"type\":\"box\"}],                        {\"template\":{\"data\":{\"bar\":[{\"error_x\":{\"color\":\"#2a3f5f\"},\"error_y\":{\"color\":\"#2a3f5f\"},\"marker\":{\"line\":{\"color\":\"#E5ECF6\",\"width\":0.5},\"pattern\":{\"fillmode\":\"overlay\",\"size\":10,\"solidity\":0.2}},\"type\":\"bar\"}],\"barpolar\":[{\"marker\":{\"line\":{\"color\":\"#E5ECF6\",\"width\":0.5},\"pattern\":{\"fillmode\":\"overlay\",\"size\":10,\"solidity\":0.2}},\"type\":\"barpolar\"}],\"carpet\":[{\"aaxis\":{\"endlinecolor\":\"#2a3f5f\",\"gridcolor\":\"white\",\"linecolor\":\"white\",\"minorgridcolor\":\"white\",\"startlinecolor\":\"#2a3f5f\"},\"baxis\":{\"endlinecolor\":\"#2a3f5f\",\"gridcolor\":\"white\",\"linecolor\":\"white\",\"minorgridcolor\":\"white\",\"startlinecolor\":\"#2a3f5f\"},\"type\":\"carpet\"}],\"choropleth\":[{\"colorbar\":{\"outlinewidth\":0,\"ticks\":\"\"},\"type\":\"choropleth\"}],\"contour\":[{\"colorbar\":{\"outlinewidth\":0,\"ticks\":\"\"},\"colorscale\":[[0.0,\"#0d0887\"],[0.1111111111111111,\"#46039f\"],[0.2222222222222222,\"#7201a8\"],[0.3333333333333333,\"#9c179e\"],[0.4444444444444444,\"#bd3786\"],[0.5555555555555556,\"#d8576b\"],[0.6666666666666666,\"#ed7953\"],[0.7777777777777778,\"#fb9f3a\"],[0.8888888888888888,\"#fdca26\"],[1.0,\"#f0f921\"]],\"type\":\"contour\"}],\"contourcarpet\":[{\"colorbar\":{\"outlinewidth\":0,\"ticks\":\"\"},\"type\":\"contourcarpet\"}],\"heatmap\":[{\"colorbar\":{\"outlinewidth\":0,\"ticks\":\"\"},\"colorscale\":[[0.0,\"#0d0887\"],[0.1111111111111111,\"#46039f\"],[0.2222222222222222,\"#7201a8\"],[0.3333333333333333,\"#9c179e\"],[0.4444444444444444,\"#bd3786\"],[0.5555555555555556,\"#d8576b\"],[0.6666666666666666,\"#ed7953\"],[0.7777777777777778,\"#fb9f3a\"],[0.8888888888888888,\"#fdca26\"],[1.0,\"#f0f921\"]],\"type\":\"heatmap\"}],\"heatmapgl\":[{\"colorbar\":{\"outlinewidth\":0,\"ticks\":\"\"},\"colorscale\":[[0.0,\"#0d0887\"],[0.1111111111111111,\"#46039f\"],[0.2222222222222222,\"#7201a8\"],[0.3333333333333333,\"#9c179e\"],[0.4444444444444444,\"#bd3786\"],[0.5555555555555556,\"#d8576b\"],[0.6666666666666666,\"#ed7953\"],[0.7777777777777778,\"#fb9f3a\"],[0.8888888888888888,\"#fdca26\"],[1.0,\"#f0f921\"]],\"type\":\"heatmapgl\"}],\"histogram\":[{\"marker\":{\"pattern\":{\"fillmode\":\"overlay\",\"size\":10,\"solidity\":0.2}},\"type\":\"histogram\"}],\"histogram2d\":[{\"colorbar\":{\"outlinewidth\":0,\"ticks\":\"\"},\"colorscale\":[[0.0,\"#0d0887\"],[0.1111111111111111,\"#46039f\"],[0.2222222222222222,\"#7201a8\"],[0.3333333333333333,\"#9c179e\"],[0.4444444444444444,\"#bd3786\"],[0.5555555555555556,\"#d8576b\"],[0.6666666666666666,\"#ed7953\"],[0.7777777777777778,\"#fb9f3a\"],[0.8888888888888888,\"#fdca26\"],[1.0,\"#f0f921\"]],\"type\":\"histogram2d\"}],\"histogram2dcontour\":[{\"colorbar\":{\"outlinewidth\":0,\"ticks\":\"\"},\"colorscale\":[[0.0,\"#0d0887\"],[0.1111111111111111,\"#46039f\"],[0.2222222222222222,\"#7201a8\"],[0.3333333333333333,\"#9c179e\"],[0.4444444444444444,\"#bd3786\"],[0.5555555555555556,\"#d8576b\"],[0.6666666666666666,\"#ed7953\"],[0.7777777777777778,\"#fb9f3a\"],[0.8888888888888888,\"#fdca26\"],[1.0,\"#f0f921\"]],\"type\":\"histogram2dcontour\"}],\"mesh3d\":[{\"colorbar\":{\"outlinewidth\":0,\"ticks\":\"\"},\"type\":\"mesh3d\"}],\"parcoords\":[{\"line\":{\"colorbar\":{\"outlinewidth\":0,\"ticks\":\"\"}},\"type\":\"parcoords\"}],\"pie\":[{\"automargin\":true,\"type\":\"pie\"}],\"scatter\":[{\"marker\":{\"colorbar\":{\"outlinewidth\":0,\"ticks\":\"\"}},\"type\":\"scatter\"}],\"scatter3d\":[{\"line\":{\"colorbar\":{\"outlinewidth\":0,\"ticks\":\"\"}},\"marker\":{\"colorbar\":{\"outlinewidth\":0,\"ticks\":\"\"}},\"type\":\"scatter3d\"}],\"scattercarpet\":[{\"marker\":{\"colorbar\":{\"outlinewidth\":0,\"ticks\":\"\"}},\"type\":\"scattercarpet\"}],\"scattergeo\":[{\"marker\":{\"colorbar\":{\"outlinewidth\":0,\"ticks\":\"\"}},\"type\":\"scattergeo\"}],\"scattergl\":[{\"marker\":{\"colorbar\":{\"outlinewidth\":0,\"ticks\":\"\"}},\"type\":\"scattergl\"}],\"scattermapbox\":[{\"marker\":{\"colorbar\":{\"outlinewidth\":0,\"ticks\":\"\"}},\"type\":\"scattermapbox\"}],\"scatterpolar\":[{\"marker\":{\"colorbar\":{\"outlinewidth\":0,\"ticks\":\"\"}},\"type\":\"scatterpolar\"}],\"scatterpolargl\":[{\"marker\":{\"colorbar\":{\"outlinewidth\":0,\"ticks\":\"\"}},\"type\":\"scatterpolargl\"}],\"scatterternary\":[{\"marker\":{\"colorbar\":{\"outlinewidth\":0,\"ticks\":\"\"}},\"type\":\"scatterternary\"}],\"surface\":[{\"colorbar\":{\"outlinewidth\":0,\"ticks\":\"\"},\"colorscale\":[[0.0,\"#0d0887\"],[0.1111111111111111,\"#46039f\"],[0.2222222222222222,\"#7201a8\"],[0.3333333333333333,\"#9c179e\"],[0.4444444444444444,\"#bd3786\"],[0.5555555555555556,\"#d8576b\"],[0.6666666666666666,\"#ed7953\"],[0.7777777777777778,\"#fb9f3a\"],[0.8888888888888888,\"#fdca26\"],[1.0,\"#f0f921\"]],\"type\":\"surface\"}],\"table\":[{\"cells\":{\"fill\":{\"color\":\"#EBF0F8\"},\"line\":{\"color\":\"white\"}},\"header\":{\"fill\":{\"color\":\"#C8D4E3\"},\"line\":{\"color\":\"white\"}},\"type\":\"table\"}]},\"layout\":{\"annotationdefaults\":{\"arrowcolor\":\"#2a3f5f\",\"arrowhead\":0,\"arrowwidth\":1},\"autotypenumbers\":\"strict\",\"coloraxis\":{\"colorbar\":{\"outlinewidth\":0,\"ticks\":\"\"}},\"colorscale\":{\"diverging\":[[0,\"#8e0152\"],[0.1,\"#c51b7d\"],[0.2,\"#de77ae\"],[0.3,\"#f1b6da\"],[0.4,\"#fde0ef\"],[0.5,\"#f7f7f7\"],[0.6,\"#e6f5d0\"],[0.7,\"#b8e186\"],[0.8,\"#7fbc41\"],[0.9,\"#4d9221\"],[1,\"#276419\"]],\"sequential\":[[0.0,\"#0d0887\"],[0.1111111111111111,\"#46039f\"],[0.2222222222222222,\"#7201a8\"],[0.3333333333333333,\"#9c179e\"],[0.4444444444444444,\"#bd3786\"],[0.5555555555555556,\"#d8576b\"],[0.6666666666666666,\"#ed7953\"],[0.7777777777777778,\"#fb9f3a\"],[0.8888888888888888,\"#fdca26\"],[1.0,\"#f0f921\"]],\"sequentialminus\":[[0.0,\"#0d0887\"],[0.1111111111111111,\"#46039f\"],[0.2222222222222222,\"#7201a8\"],[0.3333333333333333,\"#9c179e\"],[0.4444444444444444,\"#bd3786\"],[0.5555555555555556,\"#d8576b\"],[0.6666666666666666,\"#ed7953\"],[0.7777777777777778,\"#fb9f3a\"],[0.8888888888888888,\"#fdca26\"],[1.0,\"#f0f921\"]]},\"colorway\":[\"#636efa\",\"#EF553B\",\"#00cc96\",\"#ab63fa\",\"#FFA15A\",\"#19d3f3\",\"#FF6692\",\"#B6E880\",\"#FF97FF\",\"#FECB52\"],\"font\":{\"color\":\"#2a3f5f\"},\"geo\":{\"bgcolor\":\"white\",\"lakecolor\":\"white\",\"landcolor\":\"#E5ECF6\",\"showlakes\":true,\"showland\":true,\"subunitcolor\":\"white\"},\"hoverlabel\":{\"align\":\"left\"},\"hovermode\":\"closest\",\"mapbox\":{\"style\":\"light\"},\"paper_bgcolor\":\"white\",\"plot_bgcolor\":\"#E5ECF6\",\"polar\":{\"angularaxis\":{\"gridcolor\":\"white\",\"linecolor\":\"white\",\"ticks\":\"\"},\"bgcolor\":\"#E5ECF6\",\"radialaxis\":{\"gridcolor\":\"white\",\"linecolor\":\"white\",\"ticks\":\"\"}},\"scene\":{\"xaxis\":{\"backgroundcolor\":\"#E5ECF6\",\"gridcolor\":\"white\",\"gridwidth\":2,\"linecolor\":\"white\",\"showbackground\":true,\"ticks\":\"\",\"zerolinecolor\":\"white\"},\"yaxis\":{\"backgroundcolor\":\"#E5ECF6\",\"gridcolor\":\"white\",\"gridwidth\":2,\"linecolor\":\"white\",\"showbackground\":true,\"ticks\":\"\",\"zerolinecolor\":\"white\"},\"zaxis\":{\"backgroundcolor\":\"#E5ECF6\",\"gridcolor\":\"white\",\"gridwidth\":2,\"linecolor\":\"white\",\"showbackground\":true,\"ticks\":\"\",\"zerolinecolor\":\"white\"}},\"shapedefaults\":{\"line\":{\"color\":\"#2a3f5f\"}},\"ternary\":{\"aaxis\":{\"gridcolor\":\"white\",\"linecolor\":\"white\",\"ticks\":\"\"},\"baxis\":{\"gridcolor\":\"white\",\"linecolor\":\"white\",\"ticks\":\"\"},\"bgcolor\":\"#E5ECF6\",\"caxis\":{\"gridcolor\":\"white\",\"linecolor\":\"white\",\"ticks\":\"\"}},\"title\":{\"x\":0.05},\"xaxis\":{\"automargin\":true,\"gridcolor\":\"white\",\"linecolor\":\"white\",\"ticks\":\"\",\"title\":{\"standoff\":15},\"zerolinecolor\":\"white\",\"zerolinewidth\":2},\"yaxis\":{\"automargin\":true,\"gridcolor\":\"white\",\"linecolor\":\"white\",\"ticks\":\"\",\"title\":{\"standoff\":15},\"zerolinecolor\":\"white\",\"zerolinewidth\":2}}},\"xaxis\":{\"anchor\":\"y\",\"domain\":[0.0,1.0],\"title\":{\"text\":\"Title\"},\"categoryorder\":\"array\",\"categoryarray\":[\"Mr\",\"Mrs\",\"Miss\",\"Master\",\"Rev\",\"Dr\"]},\"yaxis\":{\"anchor\":\"x\",\"domain\":[0.0,1.0],\"title\":{\"text\":\"Age\"}},\"legend\":{\"title\":{\"text\":\"Title\"},\"tracegroupgap\":0},\"margin\":{\"t\":60},\"boxmode\":\"overlay\",\"height\":400,\"width\":400},                        {\"responsive\": true}                    ).then(function(){\n",
              "                            \n",
              "var gd = document.getElementById('0252e06c-b1d9-4a76-80c9-993f7a686f18');\n",
              "var x = new MutationObserver(function (mutations, observer) {{\n",
              "        var display = window.getComputedStyle(gd).display;\n",
              "        if (!display || display === 'none') {{\n",
              "            console.log([gd, 'removed!']);\n",
              "            Plotly.purge(gd);\n",
              "            observer.disconnect();\n",
              "        }}\n",
              "}});\n",
              "\n",
              "// Listen for the removal of the full notebook cells\n",
              "var notebookContainer = gd.closest('#notebook-container');\n",
              "if (notebookContainer) {{\n",
              "    x.observe(notebookContainer, {childList: true});\n",
              "}}\n",
              "\n",
              "// Listen for the clearing of the current output cell\n",
              "var outputEl = gd.closest('.output');\n",
              "if (outputEl) {{\n",
              "    x.observe(outputEl, {childList: true});\n",
              "}}\n",
              "\n",
              "                        })                };                            </script>        </div>\n",
              "</body>\n",
              "</html>"
            ]
          },
          "metadata": {}
        },
        {
          "output_type": "stream",
          "name": "stdout",
          "text": [
            "                 sum_sq      df          F        PR(>F)\n",
            "Title      60904.737001     5.0  81.106106  5.892327e-72\n",
            "Residual  156192.744945  1040.0        NaN           NaN\n"
          ]
        }
      ]
    },
    {
      "cell_type": "code",
      "source": [
        "# Impute NA values in 'Age' by mode value of 'Age' grouped by 'Title'\n",
        "all_features['Age'] = all_features['Age'].fillna(all_features.groupby('Title')['Age'].transform('median'))"
      ],
      "metadata": {
        "id": "3XhDcPFLPF3e"
      },
      "execution_count": null,
      "outputs": []
    },
    {
      "cell_type": "markdown",
      "source": [
        "#### >> Cabin\n",
        "- method: Drop the variable\n",
        "  - because there are too many NA values (1014 out of 1309) in 'Cabin'"
      ],
      "metadata": {
        "id": "uvImOGuNYr3A"
      }
    },
    {
      "cell_type": "code",
      "source": [
        "all_features.drop('Cabin', axis=1, inplace=True)"
      ],
      "metadata": {
        "id": "0WKg8GCmEEjN"
      },
      "execution_count": null,
      "outputs": []
    },
    {
      "cell_type": "markdown",
      "source": [
        "### > Check missing values again\n",
        "\n",
        "Make sure there is no NA value in the whole data"
      ],
      "metadata": {
        "id": "UcUk2sAfPekQ"
      }
    },
    {
      "cell_type": "code",
      "source": [
        "import missingno as msno\n",
        "msno.bar(all_features, figsize=(5, 3))"
      ],
      "metadata": {
        "colab": {
          "base_uri": "https://localhost:8080/",
          "height": 345
        },
        "id": "pwDlSyx6FBYS",
        "outputId": "95ef3321-5b4c-4088-9d8a-76f3d8da4d79"
      },
      "execution_count": null,
      "outputs": [
        {
          "output_type": "execute_result",
          "data": {
            "text/plain": [
              "<matplotlib.axes._subplots.AxesSubplot at 0x7f5f7003aa90>"
            ]
          },
          "metadata": {},
          "execution_count": 12
        },
        {
          "output_type": "display_data",
          "data": {
            "image/png": "[encoded data removed]",
            "text/plain": [
              "<Figure size 360x216 with 3 Axes>"
            ]
          },
          "metadata": {
            "needs_background": "light"
          }
        }
      ]
    },
    {
      "cell_type": "code",
      "source": [
        "not all_features.isnull().sum().any()"
      ],
      "metadata": {
        "colab": {
          "base_uri": "https://localhost:8080/"
        },
        "id": "QqFbOIMEZ4LC",
        "outputId": "5a8fca17-34b9-4689-b3c3-b5e347d1380e"
      },
      "execution_count": null,
      "outputs": [
        {
          "output_type": "execute_result",
          "data": {
            "text/plain": [
              "True"
            ]
          },
          "metadata": {},
          "execution_count": 17
        }
      ]
    },
    {
      "cell_type": "markdown",
      "source": [
        "## 1-3. Adding New Features (*optional*)\n",
        "\n",
        "New variables can be created using the given data.\n",
        "These variables are called 'derived variables'.\n",
        "\n",
        "New informations can be added by creating appropriate derived variables.\n",
        "\n",
        "This can have a positive effect on model performance. (Not always)\n"
      ],
      "metadata": {
        "id": "UH-RnjY7ZK1q"
      }
    },
    {
      "cell_type": "markdown",
      "source": [
        "### > Insights from data\n",
        "\n",
        "Through the observations below, if the ticket value is the same, it can be confirmed that the Fare is also the same.\n",
        "\n",
        "Also via SibSp, Parch we can find out whether the passenger has a family or no\n",
        "\n",
        "From the example below, it can be inferred that a family of three sharing the name 'Taussig' had boarded on the boat together.\n",
        "\n",
        "Mr. Emil would be a husband, Mrs. Emil would be spouse. Miss. Ruth would be their child.\n",
        "\n",
        "But the information that they are a group is not included in the data!\n",
        "\n",
        "\n",
        "This information might have a positive effect on model performance"
      ],
      "metadata": {
        "id": "7xnOO-wzQxtl"
      }
    },
    {
      "cell_type": "code",
      "source": [
        "all_features[all_features['Ticket']=='110413']"
      ],
      "metadata": {
        "colab": {
          "base_uri": "https://localhost:8080/",
          "height": 143
        },
        "id": "GBuzoRJ5QtLZ",
        "outputId": "401579e1-ea76-4d78-c7d9-8f2d849f2ca0"
      },
      "execution_count": null,
      "outputs": [
        {
          "output_type": "execute_result",
          "data": {
            "text/html": [
              "\n",
              "  <div id=\"df-c629b2b1-f8f0-4f59-bef1-9f38c9239157\">\n",
              "    <div class=\"colab-df-container\">\n",
              "      <div>\n",
              "<style scoped>\n",
              "    .dataframe tbody tr th:only-of-type {\n",
              "        vertical-align: middle;\n",
              "    }\n",
              "\n",
              "    .dataframe tbody tr th {\n",
              "        vertical-align: top;\n",
              "    }\n",
              "\n",
              "    .dataframe thead th {\n",
              "        text-align: right;\n",
              "    }\n",
              "</style>\n",
              "<table border=\"1\" class=\"dataframe\">\n",
              "  <thead>\n",
              "    <tr style=\"text-align: right;\">\n",
              "      <th></th>\n",
              "      <th>PassengerId</th>\n",
              "      <th>Pclass</th>\n",
              "      <th>Name</th>\n",
              "      <th>Sex</th>\n",
              "      <th>Age</th>\n",
              "      <th>SibSp</th>\n",
              "      <th>Parch</th>\n",
              "      <th>Ticket</th>\n",
              "      <th>Fare</th>\n",
              "      <th>Embarked</th>\n",
              "      <th>Title</th>\n",
              "    </tr>\n",
              "  </thead>\n",
              "  <tbody>\n",
              "    <tr>\n",
              "      <th>262</th>\n",
              "      <td>263</td>\n",
              "      <td>1</td>\n",
              "      <td>Taussig, Mr. Emil</td>\n",
              "      <td>male</td>\n",
              "      <td>52.0</td>\n",
              "      <td>1</td>\n",
              "      <td>1</td>\n",
              "      <td>110413</td>\n",
              "      <td>79.65</td>\n",
              "      <td>S</td>\n",
              "      <td>Mr</td>\n",
              "    </tr>\n",
              "    <tr>\n",
              "      <th>558</th>\n",
              "      <td>559</td>\n",
              "      <td>1</td>\n",
              "      <td>Taussig, Mrs. Emil (Tillie Mandelbaum)</td>\n",
              "      <td>female</td>\n",
              "      <td>39.0</td>\n",
              "      <td>1</td>\n",
              "      <td>1</td>\n",
              "      <td>110413</td>\n",
              "      <td>79.65</td>\n",
              "      <td>S</td>\n",
              "      <td>Mrs</td>\n",
              "    </tr>\n",
              "    <tr>\n",
              "      <th>585</th>\n",
              "      <td>586</td>\n",
              "      <td>1</td>\n",
              "      <td>Taussig, Miss. Ruth</td>\n",
              "      <td>female</td>\n",
              "      <td>18.0</td>\n",
              "      <td>0</td>\n",
              "      <td>2</td>\n",
              "      <td>110413</td>\n",
              "      <td>79.65</td>\n",
              "      <td>S</td>\n",
              "      <td>Miss</td>\n",
              "    </tr>\n",
              "  </tbody>\n",
              "</table>\n",
              "</div>\n",
              "      <button class=\"colab-df-convert\" onclick=\"convertToInteractive('df-c629b2b1-f8f0-4f59-bef1-9f38c9239157')\"\n",
              "              title=\"Convert this dataframe to an interactive table.\"\n",
              "              style=\"display:none;\">\n",
              "        \n",
              "  <svg xmlns=\"http://www.w3.org/2000/svg\" height=\"24px\"viewBox=\"0 0 24 24\"\n",
              "       width=\"24px\">\n",
              "    <path d=\"M0 0h24v24H0V0z\" fill=\"none\"/>\n",
              "    <path d=\"M18.56 5.44l.94 2.06.94-2.06 2.06-.94-2.06-.94-.94-2.06-.94 2.06-2.06.94zm-11 1L8.5 8.5l.94-2.06 2.06-.94-2.06-.94L8.5 2.5l-.94 2.06-2.06.94zm10 10l.94 2.06.94-2.06 2.06-.94-2.06-.94-.94-2.06-.94 2.06-2.06.94z\"/><path d=\"M17.41 7.96l-1.37-1.37c-.4-.4-.92-.59-1.43-.59-.52 0-1.04.2-1.43.59L10.3 9.45l-7.72 7.72c-.78.78-.78 2.05 0 2.83L4 21.41c.39.39.9.59 1.41.59.51 0 1.02-.2 1.41-.59l7.78-7.78 2.81-2.81c.8-.78.8-2.07 0-2.86zM5.41 20L4 18.59l7.72-7.72 1.47 1.35L5.41 20z\"/>\n",
              "  </svg>\n",
              "      </button>\n",
              "      \n",
              "  <style>\n",
              "    .colab-df-container {\n",
              "      display:flex;\n",
              "      flex-wrap:wrap;\n",
              "      gap: 12px;\n",
              "    }\n",
              "\n",
              "    .colab-df-convert {\n",
              "      background-color: #E8F0FE;\n",
              "      border: none;\n",
              "      border-radius: 50%;\n",
              "      cursor: pointer;\n",
              "      display: none;\n",
              "      fill: #1967D2;\n",
              "      height: 32px;\n",
              "      padding: 0 0 0 0;\n",
              "      width: 32px;\n",
              "    }\n",
              "\n",
              "    .colab-df-convert:hover {\n",
              "      background-color: #E2EBFA;\n",
              "      box-shadow: 0px 1px 2px rgba(60, 64, 67, 0.3), 0px 1px 3px 1px rgba(60, 64, 67, 0.15);\n",
              "      fill: #174EA6;\n",
              "    }\n",
              "\n",
              "    [theme=dark] .colab-df-convert {\n",
              "      background-color: #3B4455;\n",
              "      fill: #D2E3FC;\n",
              "    }\n",
              "\n",
              "    [theme=dark] .colab-df-convert:hover {\n",
              "      background-color: #434B5C;\n",
              "      box-shadow: 0px 1px 3px 1px rgba(0, 0, 0, 0.15);\n",
              "      filter: drop-shadow(0px 1px 2px rgba(0, 0, 0, 0.3));\n",
              "      fill: #FFFFFF;\n",
              "    }\n",
              "  </style>\n",
              "\n",
              "      <script>\n",
              "        const buttonEl =\n",
              "          document.querySelector('#df-c629b2b1-f8f0-4f59-bef1-9f38c9239157 button.colab-df-convert');\n",
              "        buttonEl.style.display =\n",
              "          google.colab.kernel.accessAllowed ? 'block' : 'none';\n",
              "\n",
              "        async function convertToInteractive(key) {\n",
              "          const element = document.querySelector('#df-c629b2b1-f8f0-4f59-bef1-9f38c9239157');\n",
              "          const dataTable =\n",
              "            await google.colab.kernel.invokeFunction('convertToInteractive',\n",
              "                                                     [key], {});\n",
              "          if (!dataTable) return;\n",
              "\n",
              "          const docLinkHtml = 'Like what you see? Visit the ' +\n",
              "            '<a target=\"_blank\" href=https://colab.research.google.com/notebooks/data_table.ipynb>data table notebook</a>'\n",
              "            + ' to learn more about interactive tables.';\n",
              "          element.innerHTML = '';\n",
              "          dataTable['output_type'] = 'display_data';\n",
              "          await google.colab.output.renderOutput(dataTable, element);\n",
              "          const docLink = document.createElement('div');\n",
              "          docLink.innerHTML = docLinkHtml;\n",
              "          element.appendChild(docLink);\n",
              "        }\n",
              "      </script>\n",
              "    </div>\n",
              "  </div>\n",
              "  "
            ],
            "text/plain": [
              "     PassengerId  Pclass  ... Embarked Title\n",
              "262          263       1  ...        S    Mr\n",
              "558          559       1  ...        S   Mrs\n",
              "585          586       1  ...        S  Miss\n",
              "\n",
              "[3 rows x 11 columns]"
            ]
          },
          "metadata": {},
          "execution_count": 126
        }
      ]
    },
    {
      "cell_type": "markdown",
      "source": [
        "Even though 'SibSp' & 'Parch' = 0, we can observe the case that Ticket and Fare match.\n",
        "\n",
        "In this case, we can think of it as a group of friends or colleagues rather than family."
      ],
      "metadata": {
        "id": "NwyXwJTCR7Ks"
      }
    },
    {
      "cell_type": "code",
      "source": [
        "all_features[all_features['Ticket']=='110152']"
      ],
      "metadata": {
        "colab": {
          "base_uri": "https://localhost:8080/",
          "height": 143
        },
        "id": "8bElKk4yQbZZ",
        "outputId": "0f335e91-a446-427f-b8f5-a2d581082f64"
      },
      "execution_count": null,
      "outputs": [
        {
          "output_type": "execute_result",
          "data": {
            "text/html": [
              "\n",
              "  <div id=\"df-5bba3628-61dc-44f9-aa1a-1c0660a0c654\">\n",
              "    <div class=\"colab-df-container\">\n",
              "      <div>\n",
              "<style scoped>\n",
              "    .dataframe tbody tr th:only-of-type {\n",
              "        vertical-align: middle;\n",
              "    }\n",
              "\n",
              "    .dataframe tbody tr th {\n",
              "        vertical-align: top;\n",
              "    }\n",
              "\n",
              "    .dataframe thead th {\n",
              "        text-align: right;\n",
              "    }\n",
              "</style>\n",
              "<table border=\"1\" class=\"dataframe\">\n",
              "  <thead>\n",
              "    <tr style=\"text-align: right;\">\n",
              "      <th></th>\n",
              "      <th>PassengerId</th>\n",
              "      <th>Pclass</th>\n",
              "      <th>Name</th>\n",
              "      <th>Sex</th>\n",
              "      <th>Age</th>\n",
              "      <th>SibSp</th>\n",
              "      <th>Parch</th>\n",
              "      <th>Ticket</th>\n",
              "      <th>Fare</th>\n",
              "      <th>Embarked</th>\n",
              "      <th>Title</th>\n",
              "    </tr>\n",
              "  </thead>\n",
              "  <tbody>\n",
              "    <tr>\n",
              "      <th>257</th>\n",
              "      <td>258</td>\n",
              "      <td>1</td>\n",
              "      <td>Cherry, Miss. Gladys</td>\n",
              "      <td>female</td>\n",
              "      <td>30.0</td>\n",
              "      <td>0</td>\n",
              "      <td>0</td>\n",
              "      <td>110152</td>\n",
              "      <td>86.5</td>\n",
              "      <td>S</td>\n",
              "      <td>Miss</td>\n",
              "    </tr>\n",
              "    <tr>\n",
              "      <th>504</th>\n",
              "      <td>505</td>\n",
              "      <td>1</td>\n",
              "      <td>Maioni, Miss. Roberta</td>\n",
              "      <td>female</td>\n",
              "      <td>16.0</td>\n",
              "      <td>0</td>\n",
              "      <td>0</td>\n",
              "      <td>110152</td>\n",
              "      <td>86.5</td>\n",
              "      <td>S</td>\n",
              "      <td>Miss</td>\n",
              "    </tr>\n",
              "    <tr>\n",
              "      <th>759</th>\n",
              "      <td>760</td>\n",
              "      <td>1</td>\n",
              "      <td>Rothes, the Countess. of (Lucy Noel Martha Dye...</td>\n",
              "      <td>female</td>\n",
              "      <td>33.0</td>\n",
              "      <td>0</td>\n",
              "      <td>0</td>\n",
              "      <td>110152</td>\n",
              "      <td>86.5</td>\n",
              "      <td>S</td>\n",
              "      <td>Mrs</td>\n",
              "    </tr>\n",
              "  </tbody>\n",
              "</table>\n",
              "</div>\n",
              "      <button class=\"colab-df-convert\" onclick=\"convertToInteractive('df-5bba3628-61dc-44f9-aa1a-1c0660a0c654')\"\n",
              "              title=\"Convert this dataframe to an interactive table.\"\n",
              "              style=\"display:none;\">\n",
              "        \n",
              "  <svg xmlns=\"http://www.w3.org/2000/svg\" height=\"24px\"viewBox=\"0 0 24 24\"\n",
              "       width=\"24px\">\n",
              "    <path d=\"M0 0h24v24H0V0z\" fill=\"none\"/>\n",
              "    <path d=\"M18.56 5.44l.94 2.06.94-2.06 2.06-.94-2.06-.94-.94-2.06-.94 2.06-2.06.94zm-11 1L8.5 8.5l.94-2.06 2.06-.94-2.06-.94L8.5 2.5l-.94 2.06-2.06.94zm10 10l.94 2.06.94-2.06 2.06-.94-2.06-.94-.94-2.06-.94 2.06-2.06.94z\"/><path d=\"M17.41 7.96l-1.37-1.37c-.4-.4-.92-.59-1.43-.59-.52 0-1.04.2-1.43.59L10.3 9.45l-7.72 7.72c-.78.78-.78 2.05 0 2.83L4 21.41c.39.39.9.59 1.41.59.51 0 1.02-.2 1.41-.59l7.78-7.78 2.81-2.81c.8-.78.8-2.07 0-2.86zM5.41 20L4 18.59l7.72-7.72 1.47 1.35L5.41 20z\"/>\n",
              "  </svg>\n",
              "      </button>\n",
              "      \n",
              "  <style>\n",
              "    .colab-df-container {\n",
              "      display:flex;\n",
              "      flex-wrap:wrap;\n",
              "      gap: 12px;\n",
              "    }\n",
              "\n",
              "    .colab-df-convert {\n",
              "      background-color: #E8F0FE;\n",
              "      border: none;\n",
              "      border-radius: 50%;\n",
              "      cursor: pointer;\n",
              "      display: none;\n",
              "      fill: #1967D2;\n",
              "      height: 32px;\n",
              "      padding: 0 0 0 0;\n",
              "      width: 32px;\n",
              "    }\n",
              "\n",
              "    .colab-df-convert:hover {\n",
              "      background-color: #E2EBFA;\n",
              "      box-shadow: 0px 1px 2px rgba(60, 64, 67, 0.3), 0px 1px 3px 1px rgba(60, 64, 67, 0.15);\n",
              "      fill: #174EA6;\n",
              "    }\n",
              "\n",
              "    [theme=dark] .colab-df-convert {\n",
              "      background-color: #3B4455;\n",
              "      fill: #D2E3FC;\n",
              "    }\n",
              "\n",
              "    [theme=dark] .colab-df-convert:hover {\n",
              "      background-color: #434B5C;\n",
              "      box-shadow: 0px 1px 3px 1px rgba(0, 0, 0, 0.15);\n",
              "      filter: drop-shadow(0px 1px 2px rgba(0, 0, 0, 0.3));\n",
              "      fill: #FFFFFF;\n",
              "    }\n",
              "  </style>\n",
              "\n",
              "      <script>\n",
              "        const buttonEl =\n",
              "          document.querySelector('#df-5bba3628-61dc-44f9-aa1a-1c0660a0c654 button.colab-df-convert');\n",
              "        buttonEl.style.display =\n",
              "          google.colab.kernel.accessAllowed ? 'block' : 'none';\n",
              "\n",
              "        async function convertToInteractive(key) {\n",
              "          const element = document.querySelector('#df-5bba3628-61dc-44f9-aa1a-1c0660a0c654');\n",
              "          const dataTable =\n",
              "            await google.colab.kernel.invokeFunction('convertToInteractive',\n",
              "                                                     [key], {});\n",
              "          if (!dataTable) return;\n",
              "\n",
              "          const docLinkHtml = 'Like what you see? Visit the ' +\n",
              "            '<a target=\"_blank\" href=https://colab.research.google.com/notebooks/data_table.ipynb>data table notebook</a>'\n",
              "            + ' to learn more about interactive tables.';\n",
              "          element.innerHTML = '';\n",
              "          dataTable['output_type'] = 'display_data';\n",
              "          await google.colab.output.renderOutput(dataTable, element);\n",
              "          const docLink = document.createElement('div');\n",
              "          docLink.innerHTML = docLinkHtml;\n",
              "          element.appendChild(docLink);\n",
              "        }\n",
              "      </script>\n",
              "    </div>\n",
              "  </div>\n",
              "  "
            ],
            "text/plain": [
              "     PassengerId  Pclass  ... Embarked Title\n",
              "257          258       1  ...        S  Miss\n",
              "504          505       1  ...        S  Miss\n",
              "759          760       1  ...        S   Mrs\n",
              "\n",
              "[3 rows x 11 columns]"
            ]
          },
          "metadata": {},
          "execution_count": 125
        }
      ]
    },
    {
      "cell_type": "markdown",
      "source": [
        "### > Create two derived variables\n",
        "\n",
        "\n",
        "Based on the above observations, two additional variables are created.\n",
        "- Group_type: indicates the group type of the passenger\n",
        "- Group_size: indicates the size of the group"
      ],
      "metadata": {
        "id": "wUruVnniZOYO"
      }
    },
    {
      "cell_type": "code",
      "source": [
        "# Specify a count equal to the ticket number of each passenger as the 'Ticket_count' variable.\n",
        "all_features['Ticket_count'] = all_features.groupby('Ticket')['Ticket'].transform('count')\n",
        "# Specify a count equal to the Fare value of each passenger as the 'Fare_count' variable.\n",
        "all_features['Fare_count'] = all_features.groupby('Fare')['Fare'].transform('count')"
      ],
      "metadata": {
        "id": "Xip3yNQCa443"
      },
      "execution_count": null,
      "outputs": []
    },
    {
      "cell_type": "code",
      "source": [
        "all_features[['Group_type','Group_size']]=None\n",
        "\n",
        "# Assign the value of the Group_type variable based on specific conditions.\n",
        "\n",
        "# 1. If SibSp + Parch > 0, Then Group_type = 'Family'\n",
        "all_features.loc[all_features['SibSp'] + all_features['Parch'] > 0, 'Group_type'] = 'Family'\n",
        "# 2. If SibSp + Parch = 0, Then Group_type = 'Single'\n",
        "all_features.loc[all_features['SibSp'] + all_features['Parch'] == 0, 'Group_type'] = 'Single'\n",
        "# 3. If (SibSp + Parch = 0) & (Ticket_count > 0) & (Fare_count > 0) , Then Group_type = 'Ticket'\n",
        "all_features.loc[(all_features['SibSp'] + all_features['Parch'] ==0) & \n",
        "                 (all_features['Ticket_count']>1) & \n",
        "                 (all_features['Fare_count']>1), 'Group_type'] = 'Ticket'"
      ],
      "metadata": {
        "id": "iJO1HR4mFbXF"
      },
      "execution_count": null,
      "outputs": []
    },
    {
      "cell_type": "code",
      "source": [
        "# Assign the value of the Group_size variable based on specific conditions.\n",
        "\n",
        "# 1. If Group_type=='Family', Then Group_size = 1+ SibSp + Parch\n",
        "all_features.loc[all_features['Group_type']=='Family','Group_size'] = 1 + all_features.loc[all_features['Group_type']=='Family', ['SibSp', 'Parch']].sum(axis=1) \n",
        "# 1. If Group_type=='Single', Then Group_size = 1\n",
        "all_features.loc[all_features['Group_type']=='Single','Group_size'] = 1\n",
        "  # 1. If Group_type=='Ticket', Then Group_size = Ticket_count\n",
        "all_features.loc[all_features['Group_type']=='Ticket','Group_size'] = all_features.loc[all_features['Group_type']=='Ticket','Ticket_count']\n"
      ],
      "metadata": {
        "id": "OVHO6D6LTQJ_"
      },
      "execution_count": null,
      "outputs": []
    },
    {
      "cell_type": "markdown",
      "source": [
        "## 1-4. Drop Variables that will not be used\n",
        "Drop 'PassengerId', 'Name', 'Ticket', 'Ticket_count', 'Fare_count'"
      ],
      "metadata": {
        "id": "o__jd1yKUa09"
      }
    },
    {
      "cell_type": "code",
      "source": [
        "all_features.head()"
      ],
      "metadata": {
        "colab": {
          "base_uri": "https://localhost:8080/",
          "height": 389
        },
        "id": "rgO0M3n9Ulkk",
        "outputId": "4790cb7b-ea23-44d6-cf32-383812ebd549"
      },
      "execution_count": null,
      "outputs": [
        {
          "output_type": "execute_result",
          "data": {
            "text/html": [
              "\n",
              "  <div id=\"df-c742140c-0115-4dad-9706-09bb12bc758d\">\n",
              "    <div class=\"colab-df-container\">\n",
              "      <div>\n",
              "<style scoped>\n",
              "    .dataframe tbody tr th:only-of-type {\n",
              "        vertical-align: middle;\n",
              "    }\n",
              "\n",
              "    .dataframe tbody tr th {\n",
              "        vertical-align: top;\n",
              "    }\n",
              "\n",
              "    .dataframe thead th {\n",
              "        text-align: right;\n",
              "    }\n",
              "</style>\n",
              "<table border=\"1\" class=\"dataframe\">\n",
              "  <thead>\n",
              "    <tr style=\"text-align: right;\">\n",
              "      <th></th>\n",
              "      <th>PassengerId</th>\n",
              "      <th>Pclass</th>\n",
              "      <th>Name</th>\n",
              "      <th>Sex</th>\n",
              "      <th>Age</th>\n",
              "      <th>SibSp</th>\n",
              "      <th>Parch</th>\n",
              "      <th>Ticket</th>\n",
              "      <th>Fare</th>\n",
              "      <th>Embarked</th>\n",
              "      <th>Title</th>\n",
              "      <th>Ticket_count</th>\n",
              "      <th>Fare_count</th>\n",
              "      <th>Group_type</th>\n",
              "      <th>Group_size</th>\n",
              "    </tr>\n",
              "  </thead>\n",
              "  <tbody>\n",
              "    <tr>\n",
              "      <th>0</th>\n",
              "      <td>1</td>\n",
              "      <td>3</td>\n",
              "      <td>Braund, Mr. Owen Harris</td>\n",
              "      <td>male</td>\n",
              "      <td>22.0</td>\n",
              "      <td>1</td>\n",
              "      <td>0</td>\n",
              "      <td>A/5 21171</td>\n",
              "      <td>7.2500</td>\n",
              "      <td>S</td>\n",
              "      <td>Mr</td>\n",
              "      <td>1</td>\n",
              "      <td>18</td>\n",
              "      <td>Family</td>\n",
              "      <td>2</td>\n",
              "    </tr>\n",
              "    <tr>\n",
              "      <th>1</th>\n",
              "      <td>2</td>\n",
              "      <td>1</td>\n",
              "      <td>Cumings, Mrs. John Bradley (Florence Briggs Th...</td>\n",
              "      <td>female</td>\n",
              "      <td>38.0</td>\n",
              "      <td>1</td>\n",
              "      <td>0</td>\n",
              "      <td>PC 17599</td>\n",
              "      <td>71.2833</td>\n",
              "      <td>C</td>\n",
              "      <td>Mrs</td>\n",
              "      <td>2</td>\n",
              "      <td>2</td>\n",
              "      <td>Family</td>\n",
              "      <td>2</td>\n",
              "    </tr>\n",
              "    <tr>\n",
              "      <th>2</th>\n",
              "      <td>3</td>\n",
              "      <td>3</td>\n",
              "      <td>Heikkinen, Miss. Laina</td>\n",
              "      <td>female</td>\n",
              "      <td>26.0</td>\n",
              "      <td>0</td>\n",
              "      <td>0</td>\n",
              "      <td>STON/O2. 3101282</td>\n",
              "      <td>7.9250</td>\n",
              "      <td>S</td>\n",
              "      <td>Miss</td>\n",
              "      <td>1</td>\n",
              "      <td>23</td>\n",
              "      <td>Single</td>\n",
              "      <td>1</td>\n",
              "    </tr>\n",
              "    <tr>\n",
              "      <th>3</th>\n",
              "      <td>4</td>\n",
              "      <td>1</td>\n",
              "      <td>Futrelle, Mrs. Jacques Heath (Lily May Peel)</td>\n",
              "      <td>female</td>\n",
              "      <td>35.0</td>\n",
              "      <td>1</td>\n",
              "      <td>0</td>\n",
              "      <td>113803</td>\n",
              "      <td>53.1000</td>\n",
              "      <td>S</td>\n",
              "      <td>Mrs</td>\n",
              "      <td>2</td>\n",
              "      <td>6</td>\n",
              "      <td>Family</td>\n",
              "      <td>2</td>\n",
              "    </tr>\n",
              "    <tr>\n",
              "      <th>4</th>\n",
              "      <td>5</td>\n",
              "      <td>3</td>\n",
              "      <td>Allen, Mr. William Henry</td>\n",
              "      <td>male</td>\n",
              "      <td>35.0</td>\n",
              "      <td>0</td>\n",
              "      <td>0</td>\n",
              "      <td>373450</td>\n",
              "      <td>8.0500</td>\n",
              "      <td>S</td>\n",
              "      <td>Mr</td>\n",
              "      <td>1</td>\n",
              "      <td>61</td>\n",
              "      <td>Single</td>\n",
              "      <td>1</td>\n",
              "    </tr>\n",
              "  </tbody>\n",
              "</table>\n",
              "</div>\n",
              "      <button class=\"colab-df-convert\" onclick=\"convertToInteractive('df-c742140c-0115-4dad-9706-09bb12bc758d')\"\n",
              "              title=\"Convert this dataframe to an interactive table.\"\n",
              "              style=\"display:none;\">\n",
              "        \n",
              "  <svg xmlns=\"http://www.w3.org/2000/svg\" height=\"24px\"viewBox=\"0 0 24 24\"\n",
              "       width=\"24px\">\n",
              "    <path d=\"M0 0h24v24H0V0z\" fill=\"none\"/>\n",
              "    <path d=\"M18.56 5.44l.94 2.06.94-2.06 2.06-.94-2.06-.94-.94-2.06-.94 2.06-2.06.94zm-11 1L8.5 8.5l.94-2.06 2.06-.94-2.06-.94L8.5 2.5l-.94 2.06-2.06.94zm10 10l.94 2.06.94-2.06 2.06-.94-2.06-.94-.94-2.06-.94 2.06-2.06.94z\"/><path d=\"M17.41 7.96l-1.37-1.37c-.4-.4-.92-.59-1.43-.59-.52 0-1.04.2-1.43.59L10.3 9.45l-7.72 7.72c-.78.78-.78 2.05 0 2.83L4 21.41c.39.39.9.59 1.41.59.51 0 1.02-.2 1.41-.59l7.78-7.78 2.81-2.81c.8-.78.8-2.07 0-2.86zM5.41 20L4 18.59l7.72-7.72 1.47 1.35L5.41 20z\"/>\n",
              "  </svg>\n",
              "      </button>\n",
              "      \n",
              "  <style>\n",
              "    .colab-df-container {\n",
              "      display:flex;\n",
              "      flex-wrap:wrap;\n",
              "      gap: 12px;\n",
              "    }\n",
              "\n",
              "    .colab-df-convert {\n",
              "      background-color: #E8F0FE;\n",
              "      border: none;\n",
              "      border-radius: 50%;\n",
              "      cursor: pointer;\n",
              "      display: none;\n",
              "      fill: #1967D2;\n",
              "      height: 32px;\n",
              "      padding: 0 0 0 0;\n",
              "      width: 32px;\n",
              "    }\n",
              "\n",
              "    .colab-df-convert:hover {\n",
              "      background-color: #E2EBFA;\n",
              "      box-shadow: 0px 1px 2px rgba(60, 64, 67, 0.3), 0px 1px 3px 1px rgba(60, 64, 67, 0.15);\n",
              "      fill: #174EA6;\n",
              "    }\n",
              "\n",
              "    [theme=dark] .colab-df-convert {\n",
              "      background-color: #3B4455;\n",
              "      fill: #D2E3FC;\n",
              "    }\n",
              "\n",
              "    [theme=dark] .colab-df-convert:hover {\n",
              "      background-color: #434B5C;\n",
              "      box-shadow: 0px 1px 3px 1px rgba(0, 0, 0, 0.15);\n",
              "      filter: drop-shadow(0px 1px 2px rgba(0, 0, 0, 0.3));\n",
              "      fill: #FFFFFF;\n",
              "    }\n",
              "  </style>\n",
              "\n",
              "      <script>\n",
              "        const buttonEl =\n",
              "          document.querySelector('#df-c742140c-0115-4dad-9706-09bb12bc758d button.colab-df-convert');\n",
              "        buttonEl.style.display =\n",
              "          google.colab.kernel.accessAllowed ? 'block' : 'none';\n",
              "\n",
              "        async function convertToInteractive(key) {\n",
              "          const element = document.querySelector('#df-c742140c-0115-4dad-9706-09bb12bc758d');\n",
              "          const dataTable =\n",
              "            await google.colab.kernel.invokeFunction('convertToInteractive',\n",
              "                                                     [key], {});\n",
              "          if (!dataTable) return;\n",
              "\n",
              "          const docLinkHtml = 'Like what you see? Visit the ' +\n",
              "            '<a target=\"_blank\" href=https://colab.research.google.com/notebooks/data_table.ipynb>data table notebook</a>'\n",
              "            + ' to learn more about interactive tables.';\n",
              "          element.innerHTML = '';\n",
              "          dataTable['output_type'] = 'display_data';\n",
              "          await google.colab.output.renderOutput(dataTable, element);\n",
              "          const docLink = document.createElement('div');\n",
              "          docLink.innerHTML = docLinkHtml;\n",
              "          element.appendChild(docLink);\n",
              "        }\n",
              "      </script>\n",
              "    </div>\n",
              "  </div>\n",
              "  "
            ],
            "text/plain": [
              "   PassengerId  Pclass  ... Group_type Group_size\n",
              "0            1       3  ...     Family          2\n",
              "1            2       1  ...     Family          2\n",
              "2            3       3  ...     Single          1\n",
              "3            4       1  ...     Family          2\n",
              "4            5       3  ...     Single          1\n",
              "\n",
              "[5 rows x 15 columns]"
            ]
          },
          "metadata": {},
          "execution_count": 40
        }
      ]
    },
    {
      "cell_type": "code",
      "source": [
        "all_features.drop(['PassengerId', 'Name', 'Ticket', 'Ticket_count', 'Fare_count'], axis=1, inplace=True)"
      ],
      "metadata": {
        "id": "9Qca6aAFTQrQ"
      },
      "execution_count": null,
      "outputs": []
    },
    {
      "cell_type": "markdown",
      "source": [
        "## 1-5. Variable (type) transformation\n",
        "Specify the data type that matches the characteristics of the variable."
      ],
      "metadata": {
        "id": "anopTlzENw7z"
      }
    },
    {
      "cell_type": "code",
      "source": [
        "all_features.dtypes"
      ],
      "metadata": {
        "colab": {
          "base_uri": "https://localhost:8080/"
        },
        "id": "_2Jlr_KwW3cX",
        "outputId": "fae5e099-a772-4257-db2d-09a984a0d826"
      },
      "execution_count": null,
      "outputs": [
        {
          "output_type": "execute_result",
          "data": {
            "text/plain": [
              "Pclass          int64\n",
              "Sex            object\n",
              "Age           float64\n",
              "SibSp           int64\n",
              "Parch           int64\n",
              "Fare          float64\n",
              "Embarked       object\n",
              "Title          object\n",
              "Group_type     object\n",
              "Group_size     object\n",
              "dtype: object"
            ]
          },
          "metadata": {},
          "execution_count": 42
        }
      ]
    },
    {
      "cell_type": "code",
      "source": [
        "# int -> object\n",
        "all_features[['Pclass']] = all_features[['Pclass']].astype('object')\n",
        "\n",
        "# object -> int\n",
        "all_features['Group_size'] = all_features['Group_size'].astype('int64')"
      ],
      "metadata": {
        "id": "reycUTb6Zed7"
      },
      "execution_count": null,
      "outputs": []
    },
    {
      "cell_type": "markdown",
      "source": [
        "## 1-6. Dummify categorical variables\n",
        "\n",
        "In the case of linear modeling without regularization, the first or last column should be dropped (to prevent linear dependency), but here, for the convenience of using the factorization model, one-hot encoding method is used that does not drop any columns."
      ],
      "metadata": {
        "id": "hJayzx_-Nzck"
      }
    },
    {
      "cell_type": "code",
      "source": [
        "data_set = pd.get_dummies(all_features, drop_first=False)"
      ],
      "metadata": {
        "id": "CsctjSYSQClH"
      },
      "execution_count": null,
      "outputs": []
    },
    {
      "cell_type": "markdown",
      "source": [
        "## 1-7. Scaling continuous variables\n",
        "\n",
        "The float variables 'Age' and 'Fare' were measured in different units.\n",
        "MinMaxScaling maps all variables from 0 to 1 in order to consider only relative information, not absolute magnitudes of values.\n",
        "\n",
        "Besides, it is known that scaling is often more stable in parameter optimization when training a model."
      ],
      "metadata": {
        "id": "Yo_M-blKP1pP"
      }
    },
    {
      "cell_type": "code",
      "source": [
        "from sklearn.preprocessing import MinMaxScaler\n",
        "scaler = MinMaxScaler()\n",
        "data_set = scaler.fit_transform(data_set)"
      ],
      "metadata": {
        "id": "Br2Ayf9gGimL"
      },
      "execution_count": null,
      "outputs": []
    },
    {
      "cell_type": "markdown",
      "source": [
        "## 1-8. Split Train & Test set"
      ],
      "metadata": {
        "id": "3Bds2C0rQb_c"
      }
    },
    {
      "cell_type": "code",
      "source": [
        "n_train = train.shape[0]\n",
        "X_train = data_set[:n_train].astype(np.float32)\n",
        "X_test = data_set[n_train:].astype(np.float32)\n",
        "y_train = train['Survived'].values.astype(np.int64)\n",
        "\n",
        "print('Shape of X_train: {}'.format(X_train.shape))\n",
        "print('Shape of X_test: {}'.format(X_test.shape))"
      ],
      "metadata": {
        "id": "AZj86aMgaBrp",
        "colab": {
          "base_uri": "https://localhost:8080/"
        },
        "outputId": "4bb0ad9b-35fd-41f2-d07b-fe204f6dd107"
      },
      "execution_count": null,
      "outputs": [
        {
          "output_type": "stream",
          "name": "stdout",
          "text": [
            "Shape of X_train: (891, 22)\n",
            "Shape of X_test: (418, 22)\n"
          ]
        }
      ]
    },
    {
      "cell_type": "markdown",
      "source": [
        "## 1-9. Outlier Detection on Training data (*optional*)\n",
        "\n",
        "Detect and remove outlier observations that exist in the train-set.\n",
        "\n",
        "- Methodology: [Isolation Forest](https://ieeexplore.ieee.org/abstract/document/4781136/?casa_token=V7U3M1UIykoAAAAA:kww9pojtMeJtXaBcNmw0eVlJaXEGGICi1ogmeHUFMpgJ2h_XCbSd2yBU5mRgd7zEJrXZ01z2)\n",
        "  - How it works\n",
        "    - Isolation Forest applies a decision tree that repeats splits based on the 'random criterion' for the given data unitl only one observation remains in every terminal node (this is defined as 'isolation').\n",
        "    - Based on the number of splits used for isolation, 'normality' is defined. A smaller value means a higher degree of outlierness.\n",
        "    - By applying this decision tree several times, the average of the measured 'normality' values ​​is derived as the final 'normality' value.\n",
        "  - Assumptions\n",
        "    - Outliers require relatively few splits to be isolated.\n",
        "    - For normal data, the number of splits required to be isolated is relatively large.\n",
        "  - Outlier determination\n",
        "    - Determines whether it is an outlier or not based on the measured 'normality' value.\n",
        "      - sklearn's IsolationForest package determines based on '0' \n",
        "      - I, personally, think it is better to set the discriminant criterion by considering the 'distribution' of the 'normality' values.\n",
        "      - The details of the method is given below."
      ],
      "metadata": {
        "id": "xXpd4YS_Rooe"
      }
    },
    {
      "cell_type": "code",
      "source": [
        "from sklearn.ensemble import IsolationForest\n",
        "clf = IsolationForest(\n",
        "    n_estimators=100,\n",
        "    max_samples='auto',\n",
        "    n_jobs=-1,\n",
        "    random_state=config['random_state'])\n",
        "\n",
        "clf.fit(X_train)\n",
        "normality_df = pd.DataFrame(clf.decision_function(X_train), columns=['normality'])"
      ],
      "metadata": {
        "id": "CT4-2FOcRnkM"
      },
      "execution_count": null,
      "outputs": []
    },
    {
      "cell_type": "markdown",
      "source": [
        "The discriminant value (threshold) is defined by calculating the 1st quartile ($q_1$) and 3rd quartile ($q_3$) on the distribution of the measured normality values.\n",
        "\n",
        "$threshold = q_1 - k*(q_3 - q_1)$\n",
        "\n",
        "- In this case, set $k=1.5$.\n",
        "\n",
        "This discriminant method is adapted from Tukey's boxplot idea.\n",
        "In the distribution of any continuous variable, Tukey designates observations smaller than that value or larger than q_3 + k*(q_3 - q_1) as outliers.\n",
        "\n",
        "Our methodology does not apply the above method to a specific variable, but applies the method to the obtained normality.\n",
        "\n",
        "That is, it is based on the assumption that an outlier will be far left from the other observations in the measured normality distribution."
      ],
      "metadata": {
        "id": "xxW0VS926a0G"
      }
    },
    {
      "cell_type": "code",
      "source": [
        "def outlier_threshold(normality, k=1.5):\n",
        "  q1 = np.quantile(normality, 0.25)\n",
        "  q3 = np.quantile(normality, 0.75)  \n",
        "  threshold = q1 - k*(q3-q1)\n",
        "  return threshold\n",
        "\n",
        "threshold = outlier_threshold(normality_df['normality'].values, k=1.5)\n",
        "\n",
        "fig = px.histogram(normality_df, x='normality', width=400, height=400)\n",
        "fig.add_vline(x=threshold, line_width=3, line_dash=\"dash\", line_color=\"red\")\n",
        "fig.show()"
      ],
      "metadata": {
        "colab": {
          "base_uri": "https://localhost:8080/",
          "height": 417
        },
        "id": "PSuK7HiyZOUj",
        "outputId": "d42e8379-b05f-441b-aec1-bbc5e5fbb66c"
      },
      "execution_count": null,
      "outputs": [
        {
          "output_type": "display_data",
          "data": {
            "text/html": [
              "<html>\n",
              "<head><meta charset=\"utf-8\" /></head>\n",
              "<body>\n",
              "    <div>            <script src=\"https://cdnjs.cloudflare.com/ajax/libs/mathjax/2.7.5/MathJax.js?config=TeX-AMS-MML_SVG\"></script><script type=\"text/javascript\">if (window.MathJax) {MathJax.Hub.Config({SVG: {font: \"STIX-Web\"}});}</script>                <script type=\"text/javascript\">window.PlotlyConfig = {MathJaxConfig: 'local'};</script>\n",
              "        <script src=\"https://cdn.plot.ly/plotly-2.8.3.min.js\"></script>                <div id=\"480e3986-6b68-40ae-8104-3a29097181f1\" class=\"plotly-graph-div\" style=\"height:400px; width:400px;\"></div>            <script type=\"text/javascript\">                                    window.PLOTLYENV=window.PLOTLYENV || {};                                    if (document.getElementById(\"480e3986-6b68-40ae-8104-3a29097181f1\")) {                    Plotly.newPlot(                        \"480e3986-6b68-40ae-8104-3a29097181f1\",                        [{\"alignmentgroup\":\"True\",\"bingroup\":\"x\",\"hovertemplate\":\"normality=%{x}<br>count=%{y}<extra></extra>\",\"legendgroup\":\"\",\"marker\":{\"color\":\"#636efa\",\"pattern\":{\"shape\":\"\"}},\"name\":\"\",\"offsetgroup\":\"\",\"orientation\":\"v\",\"showlegend\":false,\"x\":[0.07606157822925341,-0.0015891426223749727,0.03781492064906278,0.02231113931078188,0.1358531664194731,0.028255369621861648,-0.04422890676196756,-0.04342195591908804,0.008152602729993907,-0.0520432878454985,0.015545826201523505,-0.05267020946055345,0.13449896064039368,-0.04623935513376698,0.030588630733236755,-0.056419581013695264,-0.12384560946548795,0.08706275273804404,0.0393280463996587,-0.07788985852386798,-0.009668950386076403,0.08424095900289852,-0.028118047121228784,0.06213458154917545,0.0068702026864781995,-0.059832307072320345,0.057300066804262695,-0.09141938921311377,0.003208710621490418,0.14053586676293117,0.017002976498630917,-0.01222720886214923,0.01830446403758157,0.04856758575043474,-0.004487484843731737,0.030797205622023816,0.058022763975646874,0.13593018748161678,0.020506430442062407,-0.010095287601696645,0.023228450647077514,0.013804261460584666,0.05195492372760602,-0.10185806312835255,-0.011651637285560623,0.13997065750213178,-0.026477933432970002,0.01830446403758157,-0.0241513288243439,0.03083568822169558,-0.05310896632658835,0.13673164207605848,-0.012176669007717633,0.014839407680279693,-0.03990481196910112,0.06353919745765818,-0.0040606094102704215,0.05274766758961674,-0.04727970480187049,-0.08516381086969971,0.04420743905085256,-0.04568835709560837,0.018126384708489374,-0.04600638722080874,0.019868943142222872,-0.08724061601767963,-0.03248970317917543,0.13320916197272692,-0.018798058275923957,0.04432874103559148,0.0817566073561048,-0.048443126982977036,-0.07635905710856195,0.0006526931331268804,-0.055569686462439094,0.1373833138362348,0.14053586676293117,0.13997065750213178,-0.07412394473931483,-0.02890731016072634,0.130237864904232,0.1308614801979051,0.015576785039228769,-0.024291223574510634,-0.009264821275686508,-0.001077678847776875,-0.007032859096056998,0.13997065750213178,-0.09358593251075709,0.13631623097499185,0.13969749191956754,0.13530356590343828,0.027617920875036506,0.03178112670715694,0.09448255855851817,0.13997065750213178,-0.04313216161472799,-0.016592255241761777,-0.0039569250417631485,0.04146109809416654,0.035342244516473276,0.14053586676293117,0.009077330160436659,0.13468046687109236,0.03350439686222484,0.13961346310797024,0.038263141105823295,0.14053586676293117,0.13468361814371627,-0.035502838646422785,-0.03822229033250668,-0.010038292826637263,0.13613430779468894,0.031262948445798244,-0.07596966217816203,0.13673164207605848,-0.02311682256663472,0.043937002579719386,-0.04559160586223954,-0.03138135209065118,-0.018285266709443304,0.13997065750213178,-0.042354109629340164,0.0011118360233416946,-0.005141113745246284,-0.0818677429732344,0.04960283377045449,0.13072914325476248,-0.014995605420344948,0.11083793333846814,0.04829449409597836,0.12644284526947436,0.021564861431334237,0.014839407680279693,0.08304436696065498,-0.022993641921290053,-0.015341665209321231,0.03211637010647206,0.11745379840913445,-0.07260665728898075,-0.04510967960888268,0.04338648137589918,0.03593276031904874,0.006388282490503605,0.06745782519835408,0.009359837310058239,0.13845319365425557,0.005065512530861738,0.0013756506355317444,-0.06977267843872448,-0.07412266118698574,0.00919098273694613,0.10352806359341993,0.020456903853661834,0.13900950438963317,-0.02845747201950044,-0.01724748494198769,0.13997065750213178,0.13563888587098916,-0.12965560276404386,0.04575374185014197,-0.0738496584032251,0.13815972173559743,0.1254729244052193,-0.055611814372474755,-0.035557647826318206,-0.007452678836746052,-0.05166352266594565,0.07233723840260003,-0.05531029742132276,0.043185705551499476,-0.12258063748763437,0.011217983863193726,0.13673164207605848,-0.008178483796392744,0.05272591498118501,-0.04257071877656138,-0.08462970687799809,0.08706275273804404,-0.009482305617577014,-0.10200016419965197,-0.018733630839326998,-0.05491990890029552,-0.08821102829130756,0.005378145372920529,0.04362683728928202,-0.05232123539494671,0.07054408466911671,-0.05291234058593586,0.1350984157331972,-0.026297025453707712,0.07244012293095642,0.031617893918831075,-0.05462088394438447,-0.09631427734705622,-0.09338425036243592,0.04960283377045449,0.04888730693491522,0.01830446403758157,0.003448087149799217,0.12994454459490973,-0.11118896559919667,0.12705856441531083,0.024888754583769546,0.13271525522159233,0.005173389095780301,0.08096905744524086,-0.061011394461405244,-0.01513138524684876,0.014342771396368303,0.12793315137197026,-0.05682886081789684,0.1331572393809466,0.08706275273804404,-0.027906885105447476,-0.031198198029464774,0.03781492064906278,0.03400637067031265,-0.0581340589386069,0.0833807028708694,0.12404843775467683,0.08465725443649025,0.10643093632171813,0.14053586676293117,0.021907470107167593,0.12789282803113888,0.06880140665801138,0.13248849499658621,0.071864386876767,0.00745798212211507,0.014302860870094858,0.14026313002240498,0.05497483832762268,-0.025942561363194283,0.07841790910969443,0.03898115781995387,0.03406453727294739,-0.029165388929051295,0.06880140665801138,0.08210033385659932,-0.006677496458147858,-0.0338227983744297,0.083855083063819,0.1304550267139467,0.057300066804262695,-0.14297820002730877,0.0397689578458465,-0.01958659509209415,0.007490040653040486,-0.07082727235017816,0.13827660493361527,0.02930004096842942,0.048586660224066935,0.08459889711699242,-0.0009472490221775764,-0.04018283174211479,-0.09556682939177175,-0.04925222752213554,-0.11059897487533621,-0.017634730155763112,0.04960283377045449,-0.052801147853068775,-0.01299952579219854,0.05598846608545255,0.01830446403758157,0.07897107427853889,-0.01962595494072905,0.07807365672117161,-0.04907596626817057,-0.06112895519682848,-0.021582087055611487,-0.007194546016194514,-0.006771792739461047,-0.018942977637240066,0.01830446403758157,-0.035623697298378,0.014875635033362589,-0.01638767660118845,-0.12351115103765298,0.03152124192316835,-0.0133870598799114,0.13961346310797024,0.11411879223399451,0.13320916197272692,0.07233723840260003,0.04085060307425037,0.13089169569424763,0.13693531304354606,0.07942144751687247,0.01830446403758157,-0.046539456180433425,-0.014411312688285993,-0.017453770414898484,0.030946342948299843,0.13693447671928927,0.019868943142222872,0.04420743905085256,-0.058525400577851716,0.0720792744052598,-0.0672031644311335,0.01830446403758157,-0.06034083814917712,-0.016332576200022486,-0.08356511361753138,0.13997065750213178,-0.10552200093675523,-0.07548309873807657,-0.01749742946436872,-0.03856360210761278,-0.05792844627341953,-0.06316055669928344,-0.10977409800418403,0.013289938760199349,0.13961346310797024,0.01568754146569462,0.03834829295398168,0.013777643367008485,-0.05773771383629478,-0.039668846234779065,-0.03759346917564843,0.1331572393809466,0.13845319365425557,-0.0818929232561586,0.0021439444187674184,-0.11118896559919667,-0.06928916602154456,0.07771820393748013,-0.02836509277670074,0.0342932637410136,-0.04506788425826358,-0.04976198387176545,0.07001100644040059,-0.005020104478737131,0.045094908986492155,0.003330511550655557,0.14053586676293117,0.036400672834583314,-0.09002669696130594,0.12051981193545053,0.060381514027782524,-0.054996259817284066,-0.09318445622399718,0.08673636180393784,0.08304436696065498,0.0836529539986266,0.003448087149799217,-0.008214128582426539,0.034461317542252845,-0.026444154387256225,0.1236601587064346,0.12861294290109215,0.06353919745765818,-0.020559376691571818,0.08187267786048325,0.057300066804262695,0.12994454459490973,-0.014583797393032505,-0.0038099158106034148,0.003208710621490418,0.003208710621490418,-0.03371189036982447,-0.03979867731331532,-0.03615478315330589,0.1293813804949886,-0.026477933432970002,0.13827660493361527,-0.021531306160609387,-0.07788985852386798,0.01830446403758157,-0.05511185135557595,-0.0033317270834002377,0.07437869865604435,0.13320916197272692,-0.10212905937172057,-0.005110698513946299,-0.0007918990758057909,0.036471618471124456,-0.05054733149002488,0.03106937792998049,0.13401660656776937,-0.10553906857975837,-0.044952152621552055,0.13960319760084133,0.022634227745854663,0.14053586676293117,-0.08198988798748907,-0.08482672564737104,0.0013502990832892636,0.04405500136416968,-0.0898068403935951,-0.02074101759701874,0.13673164207605848,0.045934630540299226,-0.034127605237265435,0.008068460651532605,0.13693531304354606,0.029736088673996575,-0.01572204260118648,-0.0532412774378167,-0.02390608056461041,0.13104091553004016,0.1375435623984868,0.031262948445798244,0.08450583550217944,0.033307937849706815,0.043009180511749345,0.10544744837286335,-0.055330613947184304,0.13673164207605848,0.00745798212211507,0.14053586676293117,0.02764475731716265,-0.07372421640535476,-0.01638767660118845,0.12388484130143168,-0.01843739698873592,-0.0024816186858162004,-0.026330686851812835,0.08706275273804404,0.016110881360388407,0.05195492372760602,0.026297601435181506,0.14026313002240498,0.03174880383010509,0.05624688527916488,0.13827660493361527,0.014839407680279693,-0.062056183219270644,0.04960283377045449,0.1388924965452933,0.07341268308833182,0.034461317542252845,0.007089530631359142,0.12363923401304694,0.020345276117004985,-0.0400005827902743,0.0049581613853219575,-0.06495096450270277,-0.10529185534354202,0.0833807028708694,-0.0021015767106884464,0.12325674829884636,0.07807365672117161,0.005383893620985902,0.13997065750213178,-0.09625199715286381,-0.014059895091369623,0.0741641464600113,-0.05131973496969344,0.060647741276500244,-0.0035672085888615035,0.08333378706498623,0.019868943142222872,-0.01814791008799299,0.13997065750213178,0.04948546136099302,0.046425528346147826,0.024029721277138094,-0.022456799014104578,0.04960283377045449,0.06939831951063807,0.1358531664194731,0.05804859188921513,0.06747693132952737,0.13997065750213178,0.1274578406943972,-0.01638767660118845,0.06110031728428805,0.04405500136416968,-0.05416386932928885,0.13827660493361527,0.1309473788539967,-0.0313435306272386,-0.09582103045743995,0.028825758773650012,-0.02532432061904688,0.043009180511749345,0.07990175610834538,0.13625179686268396,0.006746632690358356,-0.08443117371571096,0.06808609667024473,0.1083901256473459,-0.045689631311025436,-0.005362600747109703,0.00745798212211507,0.011123083893580132,-0.0118056541499455,0.13997065750213178,-0.02473178369982254,0.08333378706498623,0.13295144900073247,0.059361725711840674,-0.05700767913207716,0.13593018748161678,-0.05324927400123869,-0.04217952933163305,0.03058032315636794,-0.04510047584418131,0.13693447671928927,0.1254729244052193,0.009618813966124795,0.0021555918409673636,0.014965919119718896,-0.05659288473464863,-0.01766534869249181,-0.021406365121462878,0.07449332567569544,0.013460998299409888,-0.060676790597001706,0.04438329775960309,0.13997065750213178,0.07266241182479588,-0.014276178354746039,0.13625095896393868,0.06175256283921354,-0.03582544062687265,-0.08539547354873078,0.013356882430401895,0.13960319760084133,-0.057520316452072784,0.13693531304354606,0.057300066804262695,-0.0320648106138105,0.058022763975646874,0.025349678022314304,-0.022456799014104578,-0.07231987522002259,0.13104091553004016,-0.02187223837471519,-0.03141080605372437,0.058022763975646874,-0.020559376691571818,-0.04351614887009059,0.028248785100393192,-0.029165388929051295,0.07054408466911671,-0.06078148481251233,0.030646186955595178,-0.05016485183699759,-0.033087442194766115,-0.014669333629517167,-0.014576029427169401,0.042879667624641515,-0.024364477984870403,0.04481484060168256,0.00943417571222277,-0.01697347798129034,0.05981276725001877,-0.05935483187286028,-0.043082850581883325,-0.004775920675435752,0.04195219903158803,0.043526208173399694,0.043695315345677055,0.048586660224066935,-0.00892673368674135,-0.11119993669823813,-0.007947011316314367,0.03580686988940379,0.04960283377045449,0.12878770787833904,0.08530315670227306,0.13997065750213178,0.041880745029563904,0.0472028532997778,0.13401660656776937,-0.029214898804080902,0.058022763975646874,0.13960319760084133,0.055046182480759376,-0.027433646291767033,0.07266241182479588,0.01830446403758157,0.12404843775467683,0.016372037982855747,0.002024601883660493,0.02024923535476203,-0.01777278171361274,0.13960319760084133,-0.021478720800121476,-0.034547213633545515,-0.0231148827491916,0.0034676859122060866,0.04282935749916045,-0.025189579103069404,0.0625794269962851,-0.056953637015086156,0.13613430779468894,0.13997065750213178,0.13141321625637153,-0.01491060022595403,0.11049946124269855,-0.04888997513213833,0.03941885203155232,0.05444877378571217,-0.07760929849358711,-0.03268915052452048,0.057300066804262695,-0.01641493789236348,-0.025313683884443217,0.14053586676293117,-0.021715993073692652,0.1243520520029725,0.018890775029480167,0.07781845739973509,0.14053586676293117,0.07012719603495038,-0.09417027344468398,-0.06093727617152345,-0.06218176195390923,0.13312626523685694,-0.0338227983744297,0.04960283377045449,0.1358531664194731,-0.05144735607984763,0.055206746009165086,0.036528029455792754,-0.0576661402161055,0.07922522364785323,0.0010153652859508644,0.031114554442652764,-0.015465645009566042,0.13673164207605848,0.021508571412192812,0.04261304765842666,-0.14353422932575954,-0.04946776709014411,0.13815972173559743,0.04528727771541774,0.02358157796742727,0.09638960079509779,-0.10363940047177345,0.055191796427636386,-0.005214239131167142,0.005383893620985902,0.13960319760084133,0.024777661318221178,-0.06691870754278251,0.08459889711699242,0.13530356590343828,-0.05511185135557595,-0.02113797669098716,-0.04973671797169976,-0.05416386932928885,-0.016462350338566578,0.13401660656776937,-0.01463017860315774,0.13985912908963455,0.03853363218308209,0.14053586676293117,-0.009896627114741374,0.13474988385420528,0.011258336160324567,-0.02925388420173458,-0.016233655772395328,0.14053586676293117,-0.05641866881032431,0.08057832673863918,-0.058015508217237555,-0.11191748104576371,0.04037442256004492,0.0689607101324311,0.13441144135582273,0.07858730631728938,-0.013033131353854088,0.08304436696065498,0.14053586676293117,0.12704034264621367,0.024029721277138094,-0.01262496218554321,0.035919131511014835,0.03641962841207541,0.08771238196404785,0.06808609667024473,0.13352378709116652,0.1367812193480022,0.02250313960548933,-0.09078787883280781,-0.059305580857287876,-0.0010426968945002058,-0.07706089483196021,0.12600704424830655,-0.069050012895981,-0.010202866591146442,-0.07862724485362116,-0.01923247446000953,0.11629276479328499,0.13352378709116652,-0.04115138843931443,0.035919131511014835,-0.034907486782505326,-0.04973671797169976,0.04628393466845121,0.04942828667132071,0.06532824017424732,0.1243520520029725,0.013400902337714182,-0.04796365805585856,0.1269042672883124,-0.043554020513147496,0.07288107270752348,-0.019173154782051727,0.034691294687639485,0.07988920214387402,-0.007939555555394162,-0.03923966433627757,0.07249446122871694,-0.07513278971934467,-0.08724061601767963,-0.0834445349273768,0.07449332567569544,0.023520243665162144,0.1303097630807526,-0.019418581555048164,0.1336717916306978,-0.10104910355611874,-0.00031885883794524617,-0.0620048065904546,0.1383789128778971,-0.031321156793070126,0.07273539474041707,0.08424095900289852,0.06747693132952737,0.03569719987491937,0.1296938070129448,-0.034726174393699405,0.013400902337714182,0.03875568008916558,0.030160296417295895,-0.07778921985843568,-0.07735664095476891,0.06808609667024473,0.08057832673863918,0.08057832673863918,0.02905187817953836,-0.028110747686617255,-0.12321209125076915,0.14053586676293117,0.14053586676293117,0.07396514959019218,0.03177018029522666,-0.10919255676793804,0.08175871892215358,0.14053586676293117,-0.03514659488271543,0.054790187439973215,0.005049129896688764,0.030475373789667082,0.04505724564454072,-0.028515072553527365,-0.032503069616671265,0.1302975692268163,0.13718692792781628,-0.06741932501475889,-0.058546516792275405,0.13961346310797024,0.06745782519835408,0.1358531664194731,-0.08550961478738928,0.030646186955595178,0.12253827952714225,0.042419150925277815,-0.035184317401189324,0.1248760485493341,0.0004266959286120531,-0.12307075519133559,-8.096363212528601e-05,-0.03489171506699995,0.13847528864049946,0.12618403620318014,0.10931296356478487,-0.09514332250164592,0.057300066804262695,-0.058221194927555286,0.13352378709116652,0.04960283377045449,-0.048093426318978616,0.046635707132379633,-0.044611035249164765,-0.05182119139012997,0.007160593147710392,0.07425330144892878,0.03126603874264483,0.12874289992487342,0.13395477528971733,0.03247860089014848,-0.1240712179271437,-0.041492674683754616,-0.08086339857396363,0.04960283377045449,-0.028091513805473034,-0.10200016419965197,0.01624360992385454,0.13772463521680023,0.08179905601040366,-0.09507064867848036,-0.013609920064264314,0.058022763975646874,0.03180653110575399,-0.005070880025172864,0.010870243235383659,-0.09707322694699339,-0.09053956465709245,0.13100066217657425,0.14053586676293117,0.05721876936927267,0.03757222861197135,0.08179905601040366,0.020795997629514396,0.13815972173559743,0.0049579984911173325,0.07897107427853889,-0.02129681819312823,0.13997065750213178,-0.027325710791165858,0.04184756806509732,-0.05577553698883364,0.1140472712679706,-0.048099105496219985,-0.02753382355809586,0.13352784050073208,0.05669453014455367,0.019615609013017343,-0.05486048412668898,0.02764475731716265,-0.04973671797169976,-0.13300102845737616,0.04960283377045449,-0.09952273828089653,-0.01827933977743257,-0.05766781635099327,0.058022763975646874,0.13718692792781628,0.13247432234827022,-0.0521982716072541,0.13144504729235412,0.13997065750213178,-0.055569686462439094,0.01915133577172412,0.13530356590343828,-0.023830929929257838,-0.05804018986154824,0.04015053710354233,0.1254729244052193,0.12655371254558778,-0.11118896559919667,0.04224895920579291,-0.06559182088178128,-0.002438481558961536,-0.05205361835217759,0.07021882546936487,-0.019894532887062,-0.009879954165889826,0.006088025133439812,0.01179627775801706,-0.026836893642050996,0.06527690072667419,-0.06119946670745835,0.058022763975646874,0.0311074290828674,0.032888651905489896,-0.06416667702100654,-0.10200016419965197,0.0819616366016383,-0.03346469988069278,-0.06044959848275111,0.0438907595253738,0.13089169569424763,-0.028967993657413427,0.13815972173559743,-0.004903633960854581,0.05801634349772944,0.11097093403247371,-0.04201591277990746,-0.0510749870427204,0.12044450590232264,0.13401660656776937,0.14053586676293117,-0.0407433020499921,0.003159874594789336,0.1383789128778971,0.024831393347713338,0.0832915859836183,0.12874289992487342,-0.13106190843430465,-0.0622041472539957,-0.04441140437416835,0.020885845732456,0.015554271908689798,0.04376550906982907],\"xaxis\":\"x\",\"yaxis\":\"y\",\"type\":\"histogram\"}],                        {\"template\":{\"data\":{\"bar\":[{\"error_x\":{\"color\":\"#2a3f5f\"},\"error_y\":{\"color\":\"#2a3f5f\"},\"marker\":{\"line\":{\"color\":\"#E5ECF6\",\"width\":0.5},\"pattern\":{\"fillmode\":\"overlay\",\"size\":10,\"solidity\":0.2}},\"type\":\"bar\"}],\"barpolar\":[{\"marker\":{\"line\":{\"color\":\"#E5ECF6\",\"width\":0.5},\"pattern\":{\"fillmode\":\"overlay\",\"size\":10,\"solidity\":0.2}},\"type\":\"barpolar\"}],\"carpet\":[{\"aaxis\":{\"endlinecolor\":\"#2a3f5f\",\"gridcolor\":\"white\",\"linecolor\":\"white\",\"minorgridcolor\":\"white\",\"startlinecolor\":\"#2a3f5f\"},\"baxis\":{\"endlinecolor\":\"#2a3f5f\",\"gridcolor\":\"white\",\"linecolor\":\"white\",\"minorgridcolor\":\"white\",\"startlinecolor\":\"#2a3f5f\"},\"type\":\"carpet\"}],\"choropleth\":[{\"colorbar\":{\"outlinewidth\":0,\"ticks\":\"\"},\"type\":\"choropleth\"}],\"contour\":[{\"colorbar\":{\"outlinewidth\":0,\"ticks\":\"\"},\"colorscale\":[[0.0,\"#0d0887\"],[0.1111111111111111,\"#46039f\"],[0.2222222222222222,\"#7201a8\"],[0.3333333333333333,\"#9c179e\"],[0.4444444444444444,\"#bd3786\"],[0.5555555555555556,\"#d8576b\"],[0.6666666666666666,\"#ed7953\"],[0.7777777777777778,\"#fb9f3a\"],[0.8888888888888888,\"#fdca26\"],[1.0,\"#f0f921\"]],\"type\":\"contour\"}],\"contourcarpet\":[{\"colorbar\":{\"outlinewidth\":0,\"ticks\":\"\"},\"type\":\"contourcarpet\"}],\"heatmap\":[{\"colorbar\":{\"outlinewidth\":0,\"ticks\":\"\"},\"colorscale\":[[0.0,\"#0d0887\"],[0.1111111111111111,\"#46039f\"],[0.2222222222222222,\"#7201a8\"],[0.3333333333333333,\"#9c179e\"],[0.4444444444444444,\"#bd3786\"],[0.5555555555555556,\"#d8576b\"],[0.6666666666666666,\"#ed7953\"],[0.7777777777777778,\"#fb9f3a\"],[0.8888888888888888,\"#fdca26\"],[1.0,\"#f0f921\"]],\"type\":\"heatmap\"}],\"heatmapgl\":[{\"colorbar\":{\"outlinewidth\":0,\"ticks\":\"\"},\"colorscale\":[[0.0,\"#0d0887\"],[0.1111111111111111,\"#46039f\"],[0.2222222222222222,\"#7201a8\"],[0.3333333333333333,\"#9c179e\"],[0.4444444444444444,\"#bd3786\"],[0.5555555555555556,\"#d8576b\"],[0.6666666666666666,\"#ed7953\"],[0.7777777777777778,\"#fb9f3a\"],[0.8888888888888888,\"#fdca26\"],[1.0,\"#f0f921\"]],\"type\":\"heatmapgl\"}],\"histogram\":[{\"marker\":{\"pattern\":{\"fillmode\":\"overlay\",\"size\":10,\"solidity\":0.2}},\"type\":\"histogram\"}],\"histogram2d\":[{\"colorbar\":{\"outlinewidth\":0,\"ticks\":\"\"},\"colorscale\":[[0.0,\"#0d0887\"],[0.1111111111111111,\"#46039f\"],[0.2222222222222222,\"#7201a8\"],[0.3333333333333333,\"#9c179e\"],[0.4444444444444444,\"#bd3786\"],[0.5555555555555556,\"#d8576b\"],[0.6666666666666666,\"#ed7953\"],[0.7777777777777778,\"#fb9f3a\"],[0.8888888888888888,\"#fdca26\"],[1.0,\"#f0f921\"]],\"type\":\"histogram2d\"}],\"histogram2dcontour\":[{\"colorbar\":{\"outlinewidth\":0,\"ticks\":\"\"},\"colorscale\":[[0.0,\"#0d0887\"],[0.1111111111111111,\"#46039f\"],[0.2222222222222222,\"#7201a8\"],[0.3333333333333333,\"#9c179e\"],[0.4444444444444444,\"#bd3786\"],[0.5555555555555556,\"#d8576b\"],[0.6666666666666666,\"#ed7953\"],[0.7777777777777778,\"#fb9f3a\"],[0.8888888888888888,\"#fdca26\"],[1.0,\"#f0f921\"]],\"type\":\"histogram2dcontour\"}],\"mesh3d\":[{\"colorbar\":{\"outlinewidth\":0,\"ticks\":\"\"},\"type\":\"mesh3d\"}],\"parcoords\":[{\"line\":{\"colorbar\":{\"outlinewidth\":0,\"ticks\":\"\"}},\"type\":\"parcoords\"}],\"pie\":[{\"automargin\":true,\"type\":\"pie\"}],\"scatter\":[{\"marker\":{\"colorbar\":{\"outlinewidth\":0,\"ticks\":\"\"}},\"type\":\"scatter\"}],\"scatter3d\":[{\"line\":{\"colorbar\":{\"outlinewidth\":0,\"ticks\":\"\"}},\"marker\":{\"colorbar\":{\"outlinewidth\":0,\"ticks\":\"\"}},\"type\":\"scatter3d\"}],\"scattercarpet\":[{\"marker\":{\"colorbar\":{\"outlinewidth\":0,\"ticks\":\"\"}},\"type\":\"scattercarpet\"}],\"scattergeo\":[{\"marker\":{\"colorbar\":{\"outlinewidth\":0,\"ticks\":\"\"}},\"type\":\"scattergeo\"}],\"scattergl\":[{\"marker\":{\"colorbar\":{\"outlinewidth\":0,\"ticks\":\"\"}},\"type\":\"scattergl\"}],\"scattermapbox\":[{\"marker\":{\"colorbar\":{\"outlinewidth\":0,\"ticks\":\"\"}},\"type\":\"scattermapbox\"}],\"scatterpolar\":[{\"marker\":{\"colorbar\":{\"outlinewidth\":0,\"ticks\":\"\"}},\"type\":\"scatterpolar\"}],\"scatterpolargl\":[{\"marker\":{\"colorbar\":{\"outlinewidth\":0,\"ticks\":\"\"}},\"type\":\"scatterpolargl\"}],\"scatterternary\":[{\"marker\":{\"colorbar\":{\"outlinewidth\":0,\"ticks\":\"\"}},\"type\":\"scatterternary\"}],\"surface\":[{\"colorbar\":{\"outlinewidth\":0,\"ticks\":\"\"},\"colorscale\":[[0.0,\"#0d0887\"],[0.1111111111111111,\"#46039f\"],[0.2222222222222222,\"#7201a8\"],[0.3333333333333333,\"#9c179e\"],[0.4444444444444444,\"#bd3786\"],[0.5555555555555556,\"#d8576b\"],[0.6666666666666666,\"#ed7953\"],[0.7777777777777778,\"#fb9f3a\"],[0.8888888888888888,\"#fdca26\"],[1.0,\"#f0f921\"]],\"type\":\"surface\"}],\"table\":[{\"cells\":{\"fill\":{\"color\":\"#EBF0F8\"},\"line\":{\"color\":\"white\"}},\"header\":{\"fill\":{\"color\":\"#C8D4E3\"},\"line\":{\"color\":\"white\"}},\"type\":\"table\"}]},\"layout\":{\"annotationdefaults\":{\"arrowcolor\":\"#2a3f5f\",\"arrowhead\":0,\"arrowwidth\":1},\"autotypenumbers\":\"strict\",\"coloraxis\":{\"colorbar\":{\"outlinewidth\":0,\"ticks\":\"\"}},\"colorscale\":{\"diverging\":[[0,\"#8e0152\"],[0.1,\"#c51b7d\"],[0.2,\"#de77ae\"],[0.3,\"#f1b6da\"],[0.4,\"#fde0ef\"],[0.5,\"#f7f7f7\"],[0.6,\"#e6f5d0\"],[0.7,\"#b8e186\"],[0.8,\"#7fbc41\"],[0.9,\"#4d9221\"],[1,\"#276419\"]],\"sequential\":[[0.0,\"#0d0887\"],[0.1111111111111111,\"#46039f\"],[0.2222222222222222,\"#7201a8\"],[0.3333333333333333,\"#9c179e\"],[0.4444444444444444,\"#bd3786\"],[0.5555555555555556,\"#d8576b\"],[0.6666666666666666,\"#ed7953\"],[0.7777777777777778,\"#fb9f3a\"],[0.8888888888888888,\"#fdca26\"],[1.0,\"#f0f921\"]],\"sequentialminus\":[[0.0,\"#0d0887\"],[0.1111111111111111,\"#46039f\"],[0.2222222222222222,\"#7201a8\"],[0.3333333333333333,\"#9c179e\"],[0.4444444444444444,\"#bd3786\"],[0.5555555555555556,\"#d8576b\"],[0.6666666666666666,\"#ed7953\"],[0.7777777777777778,\"#fb9f3a\"],[0.8888888888888888,\"#fdca26\"],[1.0,\"#f0f921\"]]},\"colorway\":[\"#636efa\",\"#EF553B\",\"#00cc96\",\"#ab63fa\",\"#FFA15A\",\"#19d3f3\",\"#FF6692\",\"#B6E880\",\"#FF97FF\",\"#FECB52\"],\"font\":{\"color\":\"#2a3f5f\"},\"geo\":{\"bgcolor\":\"white\",\"lakecolor\":\"white\",\"landcolor\":\"#E5ECF6\",\"showlakes\":true,\"showland\":true,\"subunitcolor\":\"white\"},\"hoverlabel\":{\"align\":\"left\"},\"hovermode\":\"closest\",\"mapbox\":{\"style\":\"light\"},\"paper_bgcolor\":\"white\",\"plot_bgcolor\":\"#E5ECF6\",\"polar\":{\"angularaxis\":{\"gridcolor\":\"white\",\"linecolor\":\"white\",\"ticks\":\"\"},\"bgcolor\":\"#E5ECF6\",\"radialaxis\":{\"gridcolor\":\"white\",\"linecolor\":\"white\",\"ticks\":\"\"}},\"scene\":{\"xaxis\":{\"backgroundcolor\":\"#E5ECF6\",\"gridcolor\":\"white\",\"gridwidth\":2,\"linecolor\":\"white\",\"showbackground\":true,\"ticks\":\"\",\"zerolinecolor\":\"white\"},\"yaxis\":{\"backgroundcolor\":\"#E5ECF6\",\"gridcolor\":\"white\",\"gridwidth\":2,\"linecolor\":\"white\",\"showbackground\":true,\"ticks\":\"\",\"zerolinecolor\":\"white\"},\"zaxis\":{\"backgroundcolor\":\"#E5ECF6\",\"gridcolor\":\"white\",\"gridwidth\":2,\"linecolor\":\"white\",\"showbackground\":true,\"ticks\":\"\",\"zerolinecolor\":\"white\"}},\"shapedefaults\":{\"line\":{\"color\":\"#2a3f5f\"}},\"ternary\":{\"aaxis\":{\"gridcolor\":\"white\",\"linecolor\":\"white\",\"ticks\":\"\"},\"baxis\":{\"gridcolor\":\"white\",\"linecolor\":\"white\",\"ticks\":\"\"},\"bgcolor\":\"#E5ECF6\",\"caxis\":{\"gridcolor\":\"white\",\"linecolor\":\"white\",\"ticks\":\"\"}},\"title\":{\"x\":0.05},\"xaxis\":{\"automargin\":true,\"gridcolor\":\"white\",\"linecolor\":\"white\",\"ticks\":\"\",\"title\":{\"standoff\":15},\"zerolinecolor\":\"white\",\"zerolinewidth\":2},\"yaxis\":{\"automargin\":true,\"gridcolor\":\"white\",\"linecolor\":\"white\",\"ticks\":\"\",\"title\":{\"standoff\":15},\"zerolinecolor\":\"white\",\"zerolinewidth\":2}}},\"xaxis\":{\"anchor\":\"y\",\"domain\":[0.0,1.0],\"title\":{\"text\":\"normality\"}},\"yaxis\":{\"anchor\":\"x\",\"domain\":[0.0,1.0],\"title\":{\"text\":\"count\"}},\"legend\":{\"tracegroupgap\":0},\"margin\":{\"t\":60},\"barmode\":\"relative\",\"height\":400,\"width\":400,\"shapes\":[{\"line\":{\"color\":\"red\",\"dash\":\"dash\",\"width\":3},\"type\":\"line\",\"x0\":-0.19569953364853543,\"x1\":-0.19569953364853543,\"xref\":\"x\",\"y0\":0,\"y1\":1,\"yref\":\"y domain\"}]},                        {\"responsive\": true}                    ).then(function(){\n",
              "                            \n",
              "var gd = document.getElementById('480e3986-6b68-40ae-8104-3a29097181f1');\n",
              "var x = new MutationObserver(function (mutations, observer) {{\n",
              "        var display = window.getComputedStyle(gd).display;\n",
              "        if (!display || display === 'none') {{\n",
              "            console.log([gd, 'removed!']);\n",
              "            Plotly.purge(gd);\n",
              "            observer.disconnect();\n",
              "        }}\n",
              "}});\n",
              "\n",
              "// Listen for the removal of the full notebook cells\n",
              "var notebookContainer = gd.closest('#notebook-container');\n",
              "if (notebookContainer) {{\n",
              "    x.observe(notebookContainer, {childList: true});\n",
              "}}\n",
              "\n",
              "// Listen for the clearing of the current output cell\n",
              "var outputEl = gd.closest('.output');\n",
              "if (outputEl) {{\n",
              "    x.observe(outputEl, {childList: true});\n",
              "}}\n",
              "\n",
              "                        })                };                            </script>        </div>\n",
              "</body>\n",
              "</html>"
            ]
          },
          "metadata": {}
        }
      ]
    },
    {
      "cell_type": "code",
      "source": [
        "import plotly.express as px\n",
        "px.box(normality_df, x='normality', orientation='h', width=400, height=400)"
      ],
      "metadata": {
        "colab": {
          "base_uri": "https://localhost:8080/",
          "height": 417
        },
        "id": "HFc_y-fSUp4Y",
        "outputId": "b85a8513-e0c1-4622-c3f5-d4a2b671b80e"
      },
      "execution_count": null,
      "outputs": [
        {
          "output_type": "display_data",
          "data": {
            "text/html": [
              "<html>\n",
              "<head><meta charset=\"utf-8\" /></head>\n",
              "<body>\n",
              "    <div>            <script src=\"https://cdnjs.cloudflare.com/ajax/libs/mathjax/2.7.5/MathJax.js?config=TeX-AMS-MML_SVG\"></script><script type=\"text/javascript\">if (window.MathJax) {MathJax.Hub.Config({SVG: {font: \"STIX-Web\"}});}</script>                <script type=\"text/javascript\">window.PlotlyConfig = {MathJaxConfig: 'local'};</script>\n",
              "        <script src=\"https://cdn.plot.ly/plotly-2.8.3.min.js\"></script>                <div id=\"39ef3cc8-a0c8-44ba-a42a-cca7ab1e5cd8\" class=\"plotly-graph-div\" style=\"height:400px; width:400px;\"></div>            <script type=\"text/javascript\">                                    window.PLOTLYENV=window.PLOTLYENV || {};                                    if (document.getElementById(\"39ef3cc8-a0c8-44ba-a42a-cca7ab1e5cd8\")) {                    Plotly.newPlot(                        \"39ef3cc8-a0c8-44ba-a42a-cca7ab1e5cd8\",                        [{\"alignmentgroup\":\"True\",\"hovertemplate\":\"normality=%{x}<extra></extra>\",\"legendgroup\":\"\",\"marker\":{\"color\":\"#636efa\"},\"name\":\"\",\"notched\":false,\"offsetgroup\":\"\",\"orientation\":\"h\",\"showlegend\":false,\"x\":[0.05676032941243475,0.011638550337758291,0.08973133520711901,0.029682873736540438,0.1498802840077637,0.08417846890154168,0.014377055777342607,-0.05956430153186021,0.011331438776508496,-0.011672426048385032,0.012039165081964509,0.008833740252853328,0.15161588027066802,-0.010119304939306129,0.08629281916823694,0.01453091988593469,-0.09707775108163552,0.11061114353706325,0.04790360279322825,-0.013585021067026193,0.031873960758020015,0.11039584618695303,0.04222042232926021,0.08795819228187624,-0.033349791351385605,-0.037567148986153986,0.09287526704275434,-0.07318440417041772,0.0586418751215847,0.15360291996882713,0.03340518720896468,-0.005531496532070412,0.06473414788010123,0.08452289215224473,0.00998010055939913,0.040682025301908176,0.09348285053173289,0.1508590387293663,-0.011291899701579178,-0.013288310536645698,0.03744879923017319,0.020938661564262162,0.08963470169199195,-0.08711404654236665,0.0553011837274654,0.1534418821538997,0.0038423383242301434,0.06473414788010123,-0.02204658538844484,0.04585537520413513,-0.05077227074550428,0.15102127673392984,0.005033969284370721,0.023401588316371735,-0.0336324089509622,0.08974294645925596,0.04964785166343899,0.09153364566297811,-0.04564428546021726,-0.03490264415776678,0.08796085585336283,-0.010281727279287334,0.036515515695678624,-0.03616037905576863,0.033648333998644975,-0.04612653482431561,0.028012427561127096,0.15161588027066802,-0.029381364570671198,0.018192249500856128,0.10840207517094985,-0.02397519016457461,-0.015896426886435222,0.011875750275146035,-0.0005772514957406161,0.15387478426667517,0.15360291996882713,0.1534418821538997,-0.04080182781563757,0.01139763552615608,0.14942690655787616,0.15020500609525467,0.061864272997067704,0.028416351603001322,0.04907605361670386,-0.013980417304350179,-0.020495966399659893,0.1534418821538997,-0.07785105755521593,0.1531034995206222,0.1538734388331091,0.15192952354709555,0.03875187930684354,-0.0037272379868006356,0.12727468742791825,0.1534418821538997,0.012363198223670269,-0.02501110219636815,-0.007002470793649462,0.03781106410202906,0.08688590223555842,0.15360291996882713,-0.01733848428391005,0.15002807511152338,0.014684879062296707,0.15403427611328901,0.08968514470923722,0.15300676528157525,0.14933247802338323,-0.003967630793900723,0.019558017686914786,-0.00798269269266505,0.15279218499848457,0.02258836635847139,-0.02460233041607951,0.15102127673392984,0.04985706316804117,0.037101530194852794,-0.03808894988843414,-0.03181197420969717,-0.030111785770774335,0.1534418821538997,-0.01225857026504018,0.05170793905925275,-0.02356507384326001,-0.03293101413274602,0.09413276607774851,0.15149716774511096,-0.02296351080463721,0.14067061553227428,0.08949945577483592,0.15015519051556703,0.03721224323066602,0.023401588316371735,0.11025762430582137,0.03234785805361373,0.004135446651999497,0.03954073411394604,0.14795172799917594,-0.01855032848609628,-0.028394451614485172,0.09182875456194328,0.04570692341783428,0.08135027985088078,0.10734321481667308,-0.011748119498921739,0.1539865661910338,-0.03992693775391687,-0.01949109121130821,0.012208779710313089,0.005033791439224833,0.022789970222159672,0.12762181113394377,0.010670135891961363,0.15190619884683326,-0.029837918885825987,0.046688738658643314,0.1534418821538997,0.15095672184596742,-0.04741815144744144,0.012271429092589436,-0.021241675487789324,0.15387478426667517,0.1490683868860853,-0.05231849594184956,-0.002233971067460927,-0.015317152338527706,-0.03331573302494362,0.09601173299444732,-0.0006474968387504276,0.0790520835886328,-0.09351259297387671,0.003113880588806406,0.15102127673392984,0.024880134053487046,0.021222438053329074,-0.054077076352846976,-0.03789710524208589,0.11061114353706325,0.012928695223504871,-0.020690685513670815,0.03211755627811819,-0.044069796419706764,-0.09099333187643133,0.020267616721945936,0.0805859337741126,0.0014050117553604524,0.09569079777300782,-0.036007882090928756,0.15004297681778017,0.029684503914098215,0.10660829904137298,0.020631015948777087,-0.023166505248039426,-0.05099122719461324,-0.057745891915758296,0.09413276607774851,0.011010462751019245,0.06473414788010123,0.05414266715167532,0.15020500609525467,-0.034133299764470326,0.1493034723013726,0.08135102588259596,0.15161588027066802,0.006953747202082861,0.06373006596366448,0.004786560363380321,0.047365249849104396,0.03416689220619018,0.15149716774511096,-0.011439295524901971,0.1518527894140861,0.11061114353706325,0.0009602802127672283,-0.024457558957703296,0.08688590223555842,0.03639781856279428,-0.03283846103356969,0.10810093809323329,0.15161588027066802,0.11036725291469818,0.13656407405195614,0.15360291996882713,0.03346322408021757,0.14942690655787616,0.10574921367033463,0.1508255403999325,0.10660829904137298,-0.027621033104250237,0.024387771439718486,0.15403427611328901,0.09260974607139727,-0.029404279668849065,0.108035538095137,0.08994305020586518,0.037010533086689,-0.006539763706065349,0.10574921367033463,0.11093215144038943,-0.007006208982806128,-0.0016123879970177946,0.1092916046846043,0.1511844116563723,0.09287526704275434,-0.0910432406616688,0.09170831597655282,-0.005242007560995132,-0.015679640695491104,-0.011619813278210933,0.15190619884683326,0.021178740475004287,0.08406856582084016,0.06740686319805739,0.012277506194383947,-0.026662806686482132,-0.04296520941005866,-0.010204924933741477,-0.06933898682488626,-0.017301257608088427,0.09413276607774851,-0.04497052797287415,-0.02370613811680966,0.08152714299505237,0.06473414788010123,0.10849528274295167,-0.0345862984847628,0.060188220334358,-0.04139954521682698,-0.033992197461427454,0.02941160252499292,0.01663325437189045,-0.014662591793449531,-0.02404107339192918,0.06473414788010123,-0.008134435942826368,0.06935706561615218,-0.0025536812434899803,-0.09293454439451021,0.021963685893315488,0.054706127614401245,0.15403427611328901,0.14795172799917594,0.15161588027066802,0.09601173299444732,0.08531633673114075,0.1495318337831591,0.1529535247131652,0.10461660346155588,0.06473414788010123,-0.008491067218994397,0.008217770774027133,0.03830853394369149,0.08794325829278221,0.1532646945743995,0.033648333998644975,0.08857577349537854,-0.05125439835518719,0.09366318869991191,-0.06034781036796899,0.06473414788010123,-0.03343690648710551,0.012499029455283861,0.000706327240831417,0.1534418821538997,-0.06520174717174188,-0.04447209244719985,0.0022093641839585065,-0.011899845250413654,-0.03377982203227392,-0.040572989097870216,-0.11310138462509345,0.008354891141915788,0.15403427611328901,-0.003986591891524505,0.08973133520711901,0.02078579413419629,0.026897853531698046,-0.026206324005192294,-0.05610800912112024,0.1518527894140861,0.1539865661910338,-0.002632446912549269,0.0033681332021746613,-0.034133299764470326,-0.04516606954524127,0.12577007117421923,0.02888730430673514,0.025655654787095306,-0.02895934059368732,-0.04283326258389841,0.09513288157131922,-0.032676262682795776,0.01715442055057742,0.011258622463619194,0.15360291996882713,0.03444675619969845,-0.06551690594010462,0.14218416336289014,0.08933489746641854,-0.026005921139171218,-0.07785105755521593,0.11081090509071478,0.11025762430582137,0.11039584618695303,0.05414266715167532,0.04497518450611665,0.04729704121538203,-0.0036963824194219397,0.1420089949966002,0.14942690655787616,0.08974294645925596,-0.023054556613998134,0.06629092767174011,0.09287526704275434,0.15020500609525467,-0.015443848187869258,0.0473252469430408,0.0586418751215847,0.0586418751215847,-0.010671333858195853,-0.011377994650166756,-0.032222004754490774,0.14799247342745825,0.0038423383242301434,0.15190619884683326,-0.0005898717812373722,-0.013237653995300969,0.06473414788010123,-0.032460700899169415,0.009197346498299286,0.056779880217908085,0.15161588027066802,-0.06532766251373023,-0.034614016091709665,0.009984039022416569,0.08994305020586518,-0.05424430381654877,0.07586077853120676,0.15192952354709555,-0.07450559175931981,-0.030581608970206342,0.15384481706383113,0.029682873736540438,0.15360291996882713,-0.01924621080284228,-0.03752837255811092,0.04793737977513224,0.08974712603986512,-0.009961600847471441,-0.04467913781455868,0.15102127673392984,0.018986952834714965,-0.02513599319900428,0.015060755929967529,0.1529535247131652,0.08626679292446338,0.027435430440301556,0.0327302258052688,0.030798498857190992,0.14818847342902847,0.15371387283974292,0.02291126728895615,0.06681657871123642,0.08709257801842141,0.03572590799150155,0.13776738848046044,-0.024138091952107477,0.15102127673392984,-0.027621033104250237,0.15360291996882713,0.08546983592746693,-0.028905100552252927,-0.0025536812434899803,0.14235043238823164,0.0455062913613416,-0.00020974086113467738,-0.004164551922471782,0.11061114353706325,0.020916338437568127,0.08963470169199195,0.08525821379001575,0.15403427611328901,0.025402421371711725,0.024001830206352937,0.15190619884683326,0.023401588316371735,-0.010399085689702381,0.09413276607774851,0.15368389170533558,0.09307484531130195,0.04729704121538203,0.02094082982248674,0.15015519051556703,0.038733828497316714,-0.038531257060301694,-0.036216563428690174,-0.07724954990796629,-0.0760499652105715,0.10926964220931251,-3.3842528590621868e-06,0.14771345635951966,0.060188220334358,0.05187180594429169,0.1534418821538997,-0.03513082534807699,-0.016099891503572494,0.09465651775602085,-0.0862300336324,0.08974458227964249,-0.03840205909480443,0.06603713144615908,0.033648333998644975,0.009501857373608646,0.1534418821538997,0.08766704537422954,0.07676664980480286,0.03001975291628428,0.03821266862872219,0.09413276607774851,0.09472280205957678,0.15091991533673876,0.08729479246968758,0.10101595093997018,0.1534418821538997,0.14683564255127596,-0.0025536812434899803,0.08708126504886604,0.08974712603986512,-0.08543729966983393,0.15190619884683326,0.14711299038630749,-0.03524974981696671,-0.02360084345727842,0.08827461980778017,0.02750370127748697,0.03572590799150155,0.06139400188069877,0.1529535247131652,0.006953747202082861,-0.034540858752162285,0.09611057822296848,0.13914680971855786,0.025144412181786535,0.010825339780538845,-0.027621033104250237,0.02105763559728674,0.024170016445380305,0.1534418821538997,-0.0022169314527812345,0.06603713144615908,0.1499144128794302,0.08950996903160052,0.006560749116431452,0.1508590387293663,0.001903652898676944,-0.025877914004004743,0.06466303839781434,-0.04898697083492731,0.1532646945743995,0.1490683868860853,0.06131700928070888,0.0610896886922388,0.07049334962050363,-0.014640803884169329,0.004286535759927712,-0.008880032044119246,0.09489428471581424,0.03839528012095239,-0.004540985371194295,0.09228782781551953,0.1534418821538997,0.09438217510525487,-0.0014617478417268126,0.1532646945743995,0.0893521892148822,0.027089110478475342,-0.015882914590105157,0.023689158631062412,0.15384481706383113,-0.026281497768352535,0.1529535247131652,0.09287526704275434,-0.03594530714773625,0.09348285053173289,0.07989752670960093,0.03821266862872219,-0.04297964992863379,0.14818847342902847,-0.07523358143415082,-0.021918836858531576,0.09348285053173289,-0.02199395869206644,-0.02961008758026651,0.08375699266998815,-0.006882597543491742,0.09569079777300782,-0.043488030749122,0.06466303839781434,-0.03182243128485562,-0.008261523823781869,-0.027616367113052376,-0.02868838875855073,0.03898663866930674,0.004890574801585612,0.0793927743445943,0.02012921244594923,0.03743253301516397,0.023352403603231597,-0.02282176044592399,-0.0427851281357039,0.031247286448723044,0.08768517015033861,0.08768198147650413,0.09261551740635277,0.08406856582084016,0.004128395329676182,-0.07113233957158072,-0.016048893839341938,0.04762950959888751,0.09413276607774851,0.14492911853946366,0.11019767151435989,0.1534418821538997,0.09093839426602474,0.020022948402512064,0.15192952354709555,-0.010646459215657544,0.09348285053173289,0.15384481706383113,0.09215899974929731,-0.048042762044429144,0.09438217510525487,0.06473414788010123,0.15161588027066802,0.062598028039139,0.0494263854901687,0.029112101761636144,0.00039641159174991225,0.15384481706383113,-0.013606227888940947,-0.050905526263874123,0.02018484951183358,0.029257587134578322,0.08545296084323362,-0.0015824779775007736,0.09963473735860501,-0.05301700835506573,0.15279218499848457,0.1534418821538997,0.14799247342745825,-0.0005819202633020604,0.1404311358153285,-0.010292094424057763,0.03818088055920349,0.019977957973635163,-0.031502346459860386,0.010089348131233578,0.09287526704275434,0.007869459487772679,-0.08102545097896363,0.15360291996882713,0.029290718257614812,0.14218416336289014,0.03382037620043582,0.060800875214693295,0.15360291996882713,0.09071574622157375,-0.06672640836859656,-0.0315846102727958,-0.037567148986153986,0.151237923625276,-0.0016123879970177946,0.09413276607774851,0.1498802840077637,-0.044767834222853686,0.020729792584205264,0.04627570771467804,-0.08766243526905759,0.10856557498039443,0.010318866125674508,0.040682025301908176,-0.019356964166763357,0.15102127673392984,0.062598028039139,0.0819339074519067,-0.05568903341905629,-0.010604312713387465,0.15387478426667517,0.09066957330910042,0.06288430615524393,0.1363416304694965,-0.033928984076935564,0.08051701645325665,-0.02742267107922791,0.05187180594429169,0.15384481706383113,-0.00010503346825563309,-0.03946431097222236,0.06740686319805739,0.15192952354709555,-0.032460700899169415,-0.02982135339942249,0.0011833042484424294,-0.08543729966983393,0.008837679439516022,0.15192952354709555,0.02174748635537499,0.15300676528157525,0.08994305020586518,0.15360291996882713,-0.010969107907848663,0.14811735845307178,0.06058885382598539,0.04291026789697888,-0.028147973894377842,0.15360291996882713,-0.02306644994053153,0.108438665455865,-0.05160626509105781,-0.06254830885482299,0.08258711827010767,0.09644388126884468,0.14977777526647873,0.05798484242347318,-0.025990300913782294,0.11025762430582137,0.15300676528157525,0.14218416336289014,0.03001975291628428,-0.0027847606698018224,0.03731702652892749,0.0822634458843517,0.1115858297820283,0.09611057822296848,0.15192952354709555,0.15371387283974292,0.08682284248548322,-0.009917969964024165,-0.053700701185976474,0.054811585136469276,-0.04546253179263249,0.14771345635951966,-0.025489224701914837,-0.02011419185362151,-0.06837724252804978,-0.03494811464467129,0.14706773142752289,0.15192952354709555,-0.039200600862677404,0.03731702652892749,-0.02674185341175883,0.0011833042484424294,0.0886858493303016,0.08712270662460075,0.0969549573442236,0.14218416336289014,0.06308378122939778,-0.05259927689343802,0.14277667469021588,-0.014168473784538671,0.09438217510525487,-0.018509532407093965,0.0891958616473198,0.06211926210637675,0.03219058130725627,0.02134781487563936,0.09612219922769505,-0.03632728267187746,-0.04612653482431561,-0.029530806378090246,0.09489428471581424,0.038421636517571134,0.15020500609525467,0.01923934517268583,0.15192952354709555,-0.07330662238385521,0.04812446619130678,0.010648543005887467,0.15268131357407527,-0.02003994500081263,0.056779880217908085,0.11039584618695303,0.10101595093997018,0.03423275099429646,0.14859319439594093,-0.045525963172195594,0.06308378122939778,0.037685060306757334,0.020612642479602095,-0.04546302012785597,-0.0027859006628532246,0.09611057822296848,0.108438665455865,0.108438665455865,0.06460194813831638,-0.034450694985554864,-0.08486833037122643,0.15360291996882713,0.15360291996882713,0.09402785187849316,0.03693006552553496,-0.11303985220887347,0.0649919025725037,0.15280639828700976,-0.030099753809808893,0.024323775129988456,0.05187180594429169,0.030556704335051643,0.09455101082996387,-0.019421590061715954,-0.023213173469328385,0.14815888373369973,0.1529535247131652,-0.05625071377375035,-0.027802144318789135,0.15403427611328901,0.10734321481667308,0.15091991533673876,-0.033922830131349,0.06466303839781434,0.1432614133169468,0.08647550441294982,-0.04505007903795211,0.15192952354709555,0.014507229553957168,-0.04616504667659338,0.05249242855001418,0.003972089280891544,0.15368389170533558,0.14942690655787616,0.14026553999179597,-0.03955361832087745,0.09287526704275434,-0.04674133370622513,0.15192952354709555,0.09413276607774851,0.01009783646724649,0.09214875223465563,-0.04322134976031977,0.022372321502645842,0.023157582292456014,0.09402785187849316,-0.00516518131289978,0.15211036744632567,0.152776970947741,0.08867649086552337,-0.09494379805449271,-0.036750190233608926,-0.025058299963149566,0.09413276607774851,0.026558420524118276,-0.020690685513670815,0.03325715129794371,0.15387478426667517,0.10901650731141188,-0.024111839154581927,0.04744846617614301,0.09348285053173289,0.02508796487523185,0.029201643246525133,0.005864359478408965,-0.056610186459133516,-0.06900499287798889,0.15222271919310282,0.15280639828700976,0.08170558506511488,0.09135721262259439,0.10901650731141188,0.028966063623450444,0.15387478426667517,0.03474403573397056,0.10849528274295167,-0.027973465917108586,0.1540572211690836,0.012725207296447105,0.09228258695831049,-0.048399044013402226,0.14067061553227428,-0.039586575531626256,-0.026550997935096743,0.15134329882011044,0.08027081110507234,0.002846728952632105,-0.051944931194582655,0.08706726549104876,0.0011833042484424294,-0.08486428752549513,0.09413276607774851,-0.038949837348392635,0.003146371423525307,-0.027339450982801106,0.09348285053173289,0.1529535247131652,0.15109518283085105,-0.04473344644493604,0.14811735845307178,0.1534418821538997,-0.0005772514957406161,0.03329492721700372,0.15192952354709555,0.020509549459074183,-0.03530147867941169,0.08782745611950143,0.1490683868860853,0.14277667469021588,-0.034133299764470326,0.08775578375972265,-0.036484712959889753,0.009419000748004114,-0.044288213637631246,0.104389129496679,-0.027889227542810757,-0.01305512540721887,0.018030019197180724,0.003809640723064056,-0.03650680384633176,0.09305445292909842,-0.05109310309233306,0.09348285053173289,0.014424550546787152,0.030453080000169885,-0.0042429289426583194,-0.020690685513670815,0.11025762430582137,0.02330601819707817,-0.04015106976974647,0.08037337024912189,0.1495318337831591,-0.006280457797802064,0.15387478426667517,-0.01315601727955562,0.08495669665810429,0.13936393035268108,-0.00933602028972691,0.025363235996809508,0.14771345635951966,0.15192952354709555,0.15360291996882713,-0.043075155709657253,-0.005741502558328615,0.15268131357407527,0.08756603411404384,0.10912125780940007,0.15211036744632567,-0.06698837025678417,0.019686016152083652,0.02532752179800357,-0.006621295670064309,0.03139647883906094,0.09278747490658085],\"x0\":\" \",\"xaxis\":\"x\",\"y0\":\" \",\"yaxis\":\"y\",\"type\":\"box\"}],                        {\"template\":{\"data\":{\"bar\":[{\"error_x\":{\"color\":\"#2a3f5f\"},\"error_y\":{\"color\":\"#2a3f5f\"},\"marker\":{\"line\":{\"color\":\"#E5ECF6\",\"width\":0.5},\"pattern\":{\"fillmode\":\"overlay\",\"size\":10,\"solidity\":0.2}},\"type\":\"bar\"}],\"barpolar\":[{\"marker\":{\"line\":{\"color\":\"#E5ECF6\",\"width\":0.5},\"pattern\":{\"fillmode\":\"overlay\",\"size\":10,\"solidity\":0.2}},\"type\":\"barpolar\"}],\"carpet\":[{\"aaxis\":{\"endlinecolor\":\"#2a3f5f\",\"gridcolor\":\"white\",\"linecolor\":\"white\",\"minorgridcolor\":\"white\",\"startlinecolor\":\"#2a3f5f\"},\"baxis\":{\"endlinecolor\":\"#2a3f5f\",\"gridcolor\":\"white\",\"linecolor\":\"white\",\"minorgridcolor\":\"white\",\"startlinecolor\":\"#2a3f5f\"},\"type\":\"carpet\"}],\"choropleth\":[{\"colorbar\":{\"outlinewidth\":0,\"ticks\":\"\"},\"type\":\"choropleth\"}],\"contour\":[{\"colorbar\":{\"outlinewidth\":0,\"ticks\":\"\"},\"colorscale\":[[0.0,\"#0d0887\"],[0.1111111111111111,\"#46039f\"],[0.2222222222222222,\"#7201a8\"],[0.3333333333333333,\"#9c179e\"],[0.4444444444444444,\"#bd3786\"],[0.5555555555555556,\"#d8576b\"],[0.6666666666666666,\"#ed7953\"],[0.7777777777777778,\"#fb9f3a\"],[0.8888888888888888,\"#fdca26\"],[1.0,\"#f0f921\"]],\"type\":\"contour\"}],\"contourcarpet\":[{\"colorbar\":{\"outlinewidth\":0,\"ticks\":\"\"},\"type\":\"contourcarpet\"}],\"heatmap\":[{\"colorbar\":{\"outlinewidth\":0,\"ticks\":\"\"},\"colorscale\":[[0.0,\"#0d0887\"],[0.1111111111111111,\"#46039f\"],[0.2222222222222222,\"#7201a8\"],[0.3333333333333333,\"#9c179e\"],[0.4444444444444444,\"#bd3786\"],[0.5555555555555556,\"#d8576b\"],[0.6666666666666666,\"#ed7953\"],[0.7777777777777778,\"#fb9f3a\"],[0.8888888888888888,\"#fdca26\"],[1.0,\"#f0f921\"]],\"type\":\"heatmap\"}],\"heatmapgl\":[{\"colorbar\":{\"outlinewidth\":0,\"ticks\":\"\"},\"colorscale\":[[0.0,\"#0d0887\"],[0.1111111111111111,\"#46039f\"],[0.2222222222222222,\"#7201a8\"],[0.3333333333333333,\"#9c179e\"],[0.4444444444444444,\"#bd3786\"],[0.5555555555555556,\"#d8576b\"],[0.6666666666666666,\"#ed7953\"],[0.7777777777777778,\"#fb9f3a\"],[0.8888888888888888,\"#fdca26\"],[1.0,\"#f0f921\"]],\"type\":\"heatmapgl\"}],\"histogram\":[{\"marker\":{\"pattern\":{\"fillmode\":\"overlay\",\"size\":10,\"solidity\":0.2}},\"type\":\"histogram\"}],\"histogram2d\":[{\"colorbar\":{\"outlinewidth\":0,\"ticks\":\"\"},\"colorscale\":[[0.0,\"#0d0887\"],[0.1111111111111111,\"#46039f\"],[0.2222222222222222,\"#7201a8\"],[0.3333333333333333,\"#9c179e\"],[0.4444444444444444,\"#bd3786\"],[0.5555555555555556,\"#d8576b\"],[0.6666666666666666,\"#ed7953\"],[0.7777777777777778,\"#fb9f3a\"],[0.8888888888888888,\"#fdca26\"],[1.0,\"#f0f921\"]],\"type\":\"histogram2d\"}],\"histogram2dcontour\":[{\"colorbar\":{\"outlinewidth\":0,\"ticks\":\"\"},\"colorscale\":[[0.0,\"#0d0887\"],[0.1111111111111111,\"#46039f\"],[0.2222222222222222,\"#7201a8\"],[0.3333333333333333,\"#9c179e\"],[0.4444444444444444,\"#bd3786\"],[0.5555555555555556,\"#d8576b\"],[0.6666666666666666,\"#ed7953\"],[0.7777777777777778,\"#fb9f3a\"],[0.8888888888888888,\"#fdca26\"],[1.0,\"#f0f921\"]],\"type\":\"histogram2dcontour\"}],\"mesh3d\":[{\"colorbar\":{\"outlinewidth\":0,\"ticks\":\"\"},\"type\":\"mesh3d\"}],\"parcoords\":[{\"line\":{\"colorbar\":{\"outlinewidth\":0,\"ticks\":\"\"}},\"type\":\"parcoords\"}],\"pie\":[{\"automargin\":true,\"type\":\"pie\"}],\"scatter\":[{\"marker\":{\"colorbar\":{\"outlinewidth\":0,\"ticks\":\"\"}},\"type\":\"scatter\"}],\"scatter3d\":[{\"line\":{\"colorbar\":{\"outlinewidth\":0,\"ticks\":\"\"}},\"marker\":{\"colorbar\":{\"outlinewidth\":0,\"ticks\":\"\"}},\"type\":\"scatter3d\"}],\"scattercarpet\":[{\"marker\":{\"colorbar\":{\"outlinewidth\":0,\"ticks\":\"\"}},\"type\":\"scattercarpet\"}],\"scattergeo\":[{\"marker\":{\"colorbar\":{\"outlinewidth\":0,\"ticks\":\"\"}},\"type\":\"scattergeo\"}],\"scattergl\":[{\"marker\":{\"colorbar\":{\"outlinewidth\":0,\"ticks\":\"\"}},\"type\":\"scattergl\"}],\"scattermapbox\":[{\"marker\":{\"colorbar\":{\"outlinewidth\":0,\"ticks\":\"\"}},\"type\":\"scattermapbox\"}],\"scatterpolar\":[{\"marker\":{\"colorbar\":{\"outlinewidth\":0,\"ticks\":\"\"}},\"type\":\"scatterpolar\"}],\"scatterpolargl\":[{\"marker\":{\"colorbar\":{\"outlinewidth\":0,\"ticks\":\"\"}},\"type\":\"scatterpolargl\"}],\"scatterternary\":[{\"marker\":{\"colorbar\":{\"outlinewidth\":0,\"ticks\":\"\"}},\"type\":\"scatterternary\"}],\"surface\":[{\"colorbar\":{\"outlinewidth\":0,\"ticks\":\"\"},\"colorscale\":[[0.0,\"#0d0887\"],[0.1111111111111111,\"#46039f\"],[0.2222222222222222,\"#7201a8\"],[0.3333333333333333,\"#9c179e\"],[0.4444444444444444,\"#bd3786\"],[0.5555555555555556,\"#d8576b\"],[0.6666666666666666,\"#ed7953\"],[0.7777777777777778,\"#fb9f3a\"],[0.8888888888888888,\"#fdca26\"],[1.0,\"#f0f921\"]],\"type\":\"surface\"}],\"table\":[{\"cells\":{\"fill\":{\"color\":\"#EBF0F8\"},\"line\":{\"color\":\"white\"}},\"header\":{\"fill\":{\"color\":\"#C8D4E3\"},\"line\":{\"color\":\"white\"}},\"type\":\"table\"}]},\"layout\":{\"annotationdefaults\":{\"arrowcolor\":\"#2a3f5f\",\"arrowhead\":0,\"arrowwidth\":1},\"autotypenumbers\":\"strict\",\"coloraxis\":{\"colorbar\":{\"outlinewidth\":0,\"ticks\":\"\"}},\"colorscale\":{\"diverging\":[[0,\"#8e0152\"],[0.1,\"#c51b7d\"],[0.2,\"#de77ae\"],[0.3,\"#f1b6da\"],[0.4,\"#fde0ef\"],[0.5,\"#f7f7f7\"],[0.6,\"#e6f5d0\"],[0.7,\"#b8e186\"],[0.8,\"#7fbc41\"],[0.9,\"#4d9221\"],[1,\"#276419\"]],\"sequential\":[[0.0,\"#0d0887\"],[0.1111111111111111,\"#46039f\"],[0.2222222222222222,\"#7201a8\"],[0.3333333333333333,\"#9c179e\"],[0.4444444444444444,\"#bd3786\"],[0.5555555555555556,\"#d8576b\"],[0.6666666666666666,\"#ed7953\"],[0.7777777777777778,\"#fb9f3a\"],[0.8888888888888888,\"#fdca26\"],[1.0,\"#f0f921\"]],\"sequentialminus\":[[0.0,\"#0d0887\"],[0.1111111111111111,\"#46039f\"],[0.2222222222222222,\"#7201a8\"],[0.3333333333333333,\"#9c179e\"],[0.4444444444444444,\"#bd3786\"],[0.5555555555555556,\"#d8576b\"],[0.6666666666666666,\"#ed7953\"],[0.7777777777777778,\"#fb9f3a\"],[0.8888888888888888,\"#fdca26\"],[1.0,\"#f0f921\"]]},\"colorway\":[\"#636efa\",\"#EF553B\",\"#00cc96\",\"#ab63fa\",\"#FFA15A\",\"#19d3f3\",\"#FF6692\",\"#B6E880\",\"#FF97FF\",\"#FECB52\"],\"font\":{\"color\":\"#2a3f5f\"},\"geo\":{\"bgcolor\":\"white\",\"lakecolor\":\"white\",\"landcolor\":\"#E5ECF6\",\"showlakes\":true,\"showland\":true,\"subunitcolor\":\"white\"},\"hoverlabel\":{\"align\":\"left\"},\"hovermode\":\"closest\",\"mapbox\":{\"style\":\"light\"},\"paper_bgcolor\":\"white\",\"plot_bgcolor\":\"#E5ECF6\",\"polar\":{\"angularaxis\":{\"gridcolor\":\"white\",\"linecolor\":\"white\",\"ticks\":\"\"},\"bgcolor\":\"#E5ECF6\",\"radialaxis\":{\"gridcolor\":\"white\",\"linecolor\":\"white\",\"ticks\":\"\"}},\"scene\":{\"xaxis\":{\"backgroundcolor\":\"#E5ECF6\",\"gridcolor\":\"white\",\"gridwidth\":2,\"linecolor\":\"white\",\"showbackground\":true,\"ticks\":\"\",\"zerolinecolor\":\"white\"},\"yaxis\":{\"backgroundcolor\":\"#E5ECF6\",\"gridcolor\":\"white\",\"gridwidth\":2,\"linecolor\":\"white\",\"showbackground\":true,\"ticks\":\"\",\"zerolinecolor\":\"white\"},\"zaxis\":{\"backgroundcolor\":\"#E5ECF6\",\"gridcolor\":\"white\",\"gridwidth\":2,\"linecolor\":\"white\",\"showbackground\":true,\"ticks\":\"\",\"zerolinecolor\":\"white\"}},\"shapedefaults\":{\"line\":{\"color\":\"#2a3f5f\"}},\"ternary\":{\"aaxis\":{\"gridcolor\":\"white\",\"linecolor\":\"white\",\"ticks\":\"\"},\"baxis\":{\"gridcolor\":\"white\",\"linecolor\":\"white\",\"ticks\":\"\"},\"bgcolor\":\"#E5ECF6\",\"caxis\":{\"gridcolor\":\"white\",\"linecolor\":\"white\",\"ticks\":\"\"}},\"title\":{\"x\":0.05},\"xaxis\":{\"automargin\":true,\"gridcolor\":\"white\",\"linecolor\":\"white\",\"ticks\":\"\",\"title\":{\"standoff\":15},\"zerolinecolor\":\"white\",\"zerolinewidth\":2},\"yaxis\":{\"automargin\":true,\"gridcolor\":\"white\",\"linecolor\":\"white\",\"ticks\":\"\",\"title\":{\"standoff\":15},\"zerolinecolor\":\"white\",\"zerolinewidth\":2}}},\"xaxis\":{\"anchor\":\"y\",\"domain\":[0.0,1.0],\"title\":{\"text\":\"normality\"}},\"yaxis\":{\"anchor\":\"x\",\"domain\":[0.0,1.0]},\"legend\":{\"tracegroupgap\":0},\"margin\":{\"t\":60},\"boxmode\":\"group\",\"height\":400,\"width\":400},                        {\"responsive\": true}                    ).then(function(){\n",
              "                            \n",
              "var gd = document.getElementById('39ef3cc8-a0c8-44ba-a42a-cca7ab1e5cd8');\n",
              "var x = new MutationObserver(function (mutations, observer) {{\n",
              "        var display = window.getComputedStyle(gd).display;\n",
              "        if (!display || display === 'none') {{\n",
              "            console.log([gd, 'removed!']);\n",
              "            Plotly.purge(gd);\n",
              "            observer.disconnect();\n",
              "        }}\n",
              "}});\n",
              "\n",
              "// Listen for the removal of the full notebook cells\n",
              "var notebookContainer = gd.closest('#notebook-container');\n",
              "if (notebookContainer) {{\n",
              "    x.observe(notebookContainer, {childList: true});\n",
              "}}\n",
              "\n",
              "// Listen for the clearing of the current output cell\n",
              "var outputEl = gd.closest('.output');\n",
              "if (outputEl) {{\n",
              "    x.observe(outputEl, {childList: true});\n",
              "}}\n",
              "\n",
              "                        })                };                            </script>        </div>\n",
              "</body>\n",
              "</html>"
            ]
          },
          "metadata": {}
        }
      ]
    },
    {
      "cell_type": "markdown",
      "source": [
        "Only observations whose normality value is greater than the threshold are left in the train-set."
      ],
      "metadata": {
        "id": "2VhxWOxM8Cni"
      }
    },
    {
      "cell_type": "code",
      "source": [
        "X_train = X_train[normality_df['normality'].values>=threshold]\n",
        "y_train = y_train[normality_df['normality'].values>=threshold]\n",
        "\n",
        "print('{} observations are removed from train_set'.format(train.shape[0] - X_train.shape[0]))"
      ],
      "metadata": {
        "id": "WodQ5-UlJCm4",
        "colab": {
          "base_uri": "https://localhost:8080/"
        },
        "outputId": "51ad330d-873a-4f2a-c5fd-67fd038b99ea"
      },
      "execution_count": null,
      "outputs": [
        {
          "output_type": "stream",
          "name": "stdout",
          "text": [
            "0 observations are removed from train_set\n"
          ]
        }
      ]
    },
    {
      "cell_type": "markdown",
      "source": [
        "\n",
        "# 2. Model Selection\n",
        "\n",
        "Our goal is to build a model that predicts the probability of survival (y=1) given information about a passenger (x). The formula can be expressed as:\n",
        "\n",
        "$Pr(Y=1|X=x)$\n",
        "\n",
        "This is a typical binary classification problem, and various machine learning models can be used. This notebook uses the following models.\n",
        "- Logistic regression\n",
        "- Support vector machine\n",
        "- Random forest\n",
        "- Xgboost\n",
        "- Multi-layer perceptron\n",
        "- Factorization\n",
        "\n",
        "However, we have to \"choose\" one final methodology to make predictions on the test set.\n",
        "To do this, a “fair evaluation” of the models is essential. \"Fair evaluation\" must satisfy the following two conditions.\n",
        "\n",
        "1. Select optimal hyperparameters for each model\n",
        "  - If hyperparameter search is not performed, the difference in model performance may occur due to incorrect hyperparameter values.\n",
        "2. same evaluation method\n",
        "  - If the same evaluation method is not applied, comparison between models itself is impossible.\n",
        "\n",
        "When comparing models through an evaluation method that satisfies the above two conditions,\n",
        "Only then can the final model be selected.\n",
        "\n",
        "\n"
      ],
      "metadata": {
        "id": "3UbJJrv6i3kM"
      }
    },
    {
      "cell_type": "markdown",
      "source": [
        "## 2-1. Hyper parameter tuning by using Tune_SKlearn (Ray Tune)\n",
        "\n",
        "\n",
        "- Package: tune_sklearn\n",
        "  - This package makes it easy to apply [Ray Tune](https://docs.ray.io/en/latest/tune/index.html) to sklearn models.\n",
        "  - Ray Tune is a python package that provides various hyperparameter tuning algorithms (HyperOpt, BayesianOptimization, ...).\n",
        "- Tuning procedure\n",
        "  - Define an appropriate search space for each model's hyperparameters.\n",
        "  - 5-fold CV (Cross Validation) is performed for each specific hyper-parameter value combination of the search space by using the hyper-parameter tuning algorithm (HyperOpt)\n",
        "    - Training: Training by using Scikit-Learn and Skorch packages\n",
        "    - Validation: Evaluate the model using an appropriate evaluation metric\n",
        "  - The hyperparameter with the highest average score of the CV result is designated as the optimal hyperparameter of the model.\n",
        "    - Save this CV result and use for model comparison\n",
        "\n"
      ],
      "metadata": {
        "id": "TpffTJyuKCip"
      }
    },
    {
      "cell_type": "markdown",
      "source": [
        "### > Install Packages"
      ],
      "metadata": {
        "id": "dFSCSTUFmMS7"
      }
    },
    {
      "cell_type": "code",
      "source": [
        "! pip install tune_sklearn ray[tune] skorch"
      ],
      "metadata": {
        "id": "rT8VOLiSyPYh",
        "colab": {
          "base_uri": "https://localhost:8080/"
        },
        "outputId": "92aba97d-46cd-4d64-c150-e0417bb771eb"
      },
      "execution_count": null,
      "outputs": [
        {
          "output_type": "stream",
          "name": "stdout",
          "text": [
            "Successfully installed deprecated-1.2.13 ray-1.10.0 redis-4.1.4 skorch-0.11.0 tensorboardX-2.4.1 tune-sklearn-0.4.1\n"
          ]
        }
      ]
    },
    {
      "cell_type": "markdown",
      "source": [
        "### > Make a dataframe for containing CV results"
      ],
      "metadata": {
        "id": "z0IbHaqQmP3l"
      }
    },
    {
      "cell_type": "code",
      "source": [
        "model_list = []\n",
        "for name in ['linear', 'svm', 'rf', 'xgb', 'mlp', 'fm']:\n",
        "  model_list.append(np.full(5, name))\n",
        "  \n",
        "best_cv_df = pd.DataFrame({'model': np.hstack((model_list)), 'log_loss':None, 'accuracy':None, 'best_hyper_param':None})"
      ],
      "metadata": {
        "id": "yecAASyT5ljV"
      },
      "execution_count": null,
      "outputs": []
    },
    {
      "cell_type": "markdown",
      "source": [
        "### > Logistic regression"
      ],
      "metadata": {
        "id": "2MZsMccOKY2B"
      }
    },
    {
      "cell_type": "code",
      "source": [
        "from tune_sklearn import TuneGridSearchCV\n",
        "from sklearn.linear_model import SGDClassifier\n",
        "\n",
        "# Define a search space\n",
        "parameters = {\n",
        "    'max_iter': [1000],\n",
        "    'loss': ['log'],\n",
        "    'penalty': ['l2'],\n",
        "    'random_state': [config['random_state']],\n",
        "    'alpha': [1e-9, 1e-8, 1e-7, 1e-6],\n",
        "}\n",
        "\n",
        "# Specify the hyper parameter tuning algorithm\n",
        "tune_search = TuneGridSearchCV(\n",
        "    SGDClassifier(),\n",
        "    parameters,\n",
        "    n_jobs=-1,\n",
        "    scoring=['neg_log_loss', 'accuracy'],\n",
        "    cv=5,\n",
        "    refit='accuracy', # target metric of competition\n",
        "    verbose=1\n",
        "    )\n",
        "\n",
        "# Run hyper parameter tuning\n",
        "X = X_train \n",
        "y = y_train\n",
        "tune_search.fit(X, y)\n",
        "\n",
        "# Save the tuning results \n",
        "model_name = 'linear'\n",
        "\n",
        "## Save the optimal hyper parmater values\n",
        "best_cv_df.loc[best_cv_df['model']==model_name, 'best_hyper_param'] = str(tune_search.best_params_)\n",
        "\n",
        "## Save the CV results\n",
        "cv_df = pd.DataFrame(tune_search.cv_results_)\n",
        "cv_values = cv_df.loc[tune_search.best_index_, cv_df.columns.str.startswith('split')].values\n",
        "best_cv_df.loc[best_cv_df['model']==model_name, 'log_loss'] = cv_values[:5]\n",
        "best_cv_df.loc[best_cv_df['model']==model_name, 'accuracy'] = cv_values[5:10]\n",
        "\n",
        "# Visualize the tuning results with parallel coordinate plot\n",
        "tune_result_df = pd.concat([pd.DataFrame(tune_search.cv_results_['params']), cv_df.loc[:,cv_df.columns.str.startswith('mean')] ], axis=1)\n",
        "import plotly.express as px\n",
        "fig = px.parallel_coordinates(tune_result_df, color='mean_test_accuracy')\n",
        "fig.show()"
      ],
      "metadata": {
        "colab": {
          "base_uri": "https://localhost:8080/",
          "height": 750
        },
        "id": "2o4dQv1oreS4",
        "outputId": "bf8b7b6c-fc7b-48ae-a5ae-68a828701fb7"
      },
      "execution_count": null,
      "outputs": [
        {
          "output_type": "display_data",
          "data": {
            "text/html": [
              "== Status ==<br>Current time: 2022-02-22 02:10:09 (running for 00:00:05.85)<br>Memory usage on this node: 2.5/12.7 GiB<br>Using FIFO scheduling algorithm.<br>Resources requested: 0/2 CPUs, 0/0 GPUs, 0.0/6.47 GiB heap, 0.0/3.24 GiB objects<br>Current best trial: 8c34f_00000 with average_test_accuracy=0.7822296152156174 and parameters={'early_stopping': False, 'early_stop_type': <EarlyStopping.NO_EARLY_STOP: 7>, 'X_id': ObjectRef(ffffffffffffffffffffffffffffffffffffffff010000000d000000), 'y_id': ObjectRef(ffffffffffffffffffffffffffffffffffffffff010000000e000000), 'groups': None, 'cv': StratifiedKFold(n_splits=5, random_state=None, shuffle=False), 'fit_params': {}, 'scoring': {'neg_log_loss': make_scorer(log_loss, greater_is_better=False, needs_proba=True), 'accuracy': make_scorer(accuracy_score)}, 'max_iters': 1, 'return_train_score': False, 'n_jobs': 1, 'metric_name': 'average_test_accuracy', 'max_iter': 1000, 'loss': 'log', 'penalty': 'l2', 'random_state': 2022, 'alpha': 1e-09, 'estimator_ids': [ObjectRef(ffffffffffffffffffffffffffffffffffffffff010000000f000000)]}<br>Result logdir: /root/ray_results/_Trainable_2022-02-22_02-10-03<br>Number of trials: 4/4 (4 TERMINATED)<br><br>"
            ],
            "text/plain": [
              "<IPython.core.display.HTML object>"
            ]
          },
          "metadata": {}
        },
        {
          "output_type": "display_data",
          "data": {
            "text/html": [
              "<html>\n",
              "<head><meta charset=\"utf-8\" /></head>\n",
              "<body>\n",
              "    <div>            <script src=\"https://cdnjs.cloudflare.com/ajax/libs/mathjax/2.7.5/MathJax.js?config=TeX-AMS-MML_SVG\"></script><script type=\"text/javascript\">if (window.MathJax) {MathJax.Hub.Config({SVG: {font: \"STIX-Web\"}});}</script>                <script type=\"text/javascript\">window.PlotlyConfig = {MathJaxConfig: 'local'};</script>\n",
              "        <script src=\"https://cdn.plot.ly/plotly-2.8.3.min.js\"></script>                <div id=\"c347723f-f168-4d0e-be97-aeda258ad075\" class=\"plotly-graph-div\" style=\"height:525px; width:100%;\"></div>            <script type=\"text/javascript\">                                    window.PLOTLYENV=window.PLOTLYENV || {};                                    if (document.getElementById(\"c347723f-f168-4d0e-be97-aeda258ad075\")) {                    Plotly.newPlot(                        \"c347723f-f168-4d0e-be97-aeda258ad075\",                        [{\"dimensions\":[{\"label\":\"max_iter\",\"values\":[1000,1000,1000,1000]},{\"label\":\"random_state\",\"values\":[2022,2022,2022,2022]},{\"label\":\"alpha\",\"values\":[1e-09,1e-08,1e-07,1e-06]},{\"label\":\"mean_test_neg_log_loss\",\"values\":[-7.399387056188253,-9.513518714345214,-7.609499403277407,-6.459451803529608]},{\"label\":\"mean_test_accuracy\",\"values\":[0.7822296152156174,0.7148327160881301,0.7655012240286234,0.7464001004331179]}],\"domain\":{\"x\":[0.0,1.0],\"y\":[0.0,1.0]},\"line\":{\"color\":[0.7822296152156174,0.7148327160881301,0.7655012240286234,0.7464001004331179],\"coloraxis\":\"coloraxis\"},\"name\":\"\",\"type\":\"parcoords\"}],                        {\"template\":{\"data\":{\"bar\":[{\"error_x\":{\"color\":\"#2a3f5f\"},\"error_y\":{\"color\":\"#2a3f5f\"},\"marker\":{\"line\":{\"color\":\"#E5ECF6\",\"width\":0.5},\"pattern\":{\"fillmode\":\"overlay\",\"size\":10,\"solidity\":0.2}},\"type\":\"bar\"}],\"barpolar\":[{\"marker\":{\"line\":{\"color\":\"#E5ECF6\",\"width\":0.5},\"pattern\":{\"fillmode\":\"overlay\",\"size\":10,\"solidity\":0.2}},\"type\":\"barpolar\"}],\"carpet\":[{\"aaxis\":{\"endlinecolor\":\"#2a3f5f\",\"gridcolor\":\"white\",\"linecolor\":\"white\",\"minorgridcolor\":\"white\",\"startlinecolor\":\"#2a3f5f\"},\"baxis\":{\"endlinecolor\":\"#2a3f5f\",\"gridcolor\":\"white\",\"linecolor\":\"white\",\"minorgridcolor\":\"white\",\"startlinecolor\":\"#2a3f5f\"},\"type\":\"carpet\"}],\"choropleth\":[{\"colorbar\":{\"outlinewidth\":0,\"ticks\":\"\"},\"type\":\"choropleth\"}],\"contour\":[{\"colorbar\":{\"outlinewidth\":0,\"ticks\":\"\"},\"colorscale\":[[0.0,\"#0d0887\"],[0.1111111111111111,\"#46039f\"],[0.2222222222222222,\"#7201a8\"],[0.3333333333333333,\"#9c179e\"],[0.4444444444444444,\"#bd3786\"],[0.5555555555555556,\"#d8576b\"],[0.6666666666666666,\"#ed7953\"],[0.7777777777777778,\"#fb9f3a\"],[0.8888888888888888,\"#fdca26\"],[1.0,\"#f0f921\"]],\"type\":\"contour\"}],\"contourcarpet\":[{\"colorbar\":{\"outlinewidth\":0,\"ticks\":\"\"},\"type\":\"contourcarpet\"}],\"heatmap\":[{\"colorbar\":{\"outlinewidth\":0,\"ticks\":\"\"},\"colorscale\":[[0.0,\"#0d0887\"],[0.1111111111111111,\"#46039f\"],[0.2222222222222222,\"#7201a8\"],[0.3333333333333333,\"#9c179e\"],[0.4444444444444444,\"#bd3786\"],[0.5555555555555556,\"#d8576b\"],[0.6666666666666666,\"#ed7953\"],[0.7777777777777778,\"#fb9f3a\"],[0.8888888888888888,\"#fdca26\"],[1.0,\"#f0f921\"]],\"type\":\"heatmap\"}],\"heatmapgl\":[{\"colorbar\":{\"outlinewidth\":0,\"ticks\":\"\"},\"colorscale\":[[0.0,\"#0d0887\"],[0.1111111111111111,\"#46039f\"],[0.2222222222222222,\"#7201a8\"],[0.3333333333333333,\"#9c179e\"],[0.4444444444444444,\"#bd3786\"],[0.5555555555555556,\"#d8576b\"],[0.6666666666666666,\"#ed7953\"],[0.7777777777777778,\"#fb9f3a\"],[0.8888888888888888,\"#fdca26\"],[1.0,\"#f0f921\"]],\"type\":\"heatmapgl\"}],\"histogram\":[{\"marker\":{\"pattern\":{\"fillmode\":\"overlay\",\"size\":10,\"solidity\":0.2}},\"type\":\"histogram\"}],\"histogram2d\":[{\"colorbar\":{\"outlinewidth\":0,\"ticks\":\"\"},\"colorscale\":[[0.0,\"#0d0887\"],[0.1111111111111111,\"#46039f\"],[0.2222222222222222,\"#7201a8\"],[0.3333333333333333,\"#9c179e\"],[0.4444444444444444,\"#bd3786\"],[0.5555555555555556,\"#d8576b\"],[0.6666666666666666,\"#ed7953\"],[0.7777777777777778,\"#fb9f3a\"],[0.8888888888888888,\"#fdca26\"],[1.0,\"#f0f921\"]],\"type\":\"histogram2d\"}],\"histogram2dcontour\":[{\"colorbar\":{\"outlinewidth\":0,\"ticks\":\"\"},\"colorscale\":[[0.0,\"#0d0887\"],[0.1111111111111111,\"#46039f\"],[0.2222222222222222,\"#7201a8\"],[0.3333333333333333,\"#9c179e\"],[0.4444444444444444,\"#bd3786\"],[0.5555555555555556,\"#d8576b\"],[0.6666666666666666,\"#ed7953\"],[0.7777777777777778,\"#fb9f3a\"],[0.8888888888888888,\"#fdca26\"],[1.0,\"#f0f921\"]],\"type\":\"histogram2dcontour\"}],\"mesh3d\":[{\"colorbar\":{\"outlinewidth\":0,\"ticks\":\"\"},\"type\":\"mesh3d\"}],\"parcoords\":[{\"line\":{\"colorbar\":{\"outlinewidth\":0,\"ticks\":\"\"}},\"type\":\"parcoords\"}],\"pie\":[{\"automargin\":true,\"type\":\"pie\"}],\"scatter\":[{\"marker\":{\"colorbar\":{\"outlinewidth\":0,\"ticks\":\"\"}},\"type\":\"scatter\"}],\"scatter3d\":[{\"line\":{\"colorbar\":{\"outlinewidth\":0,\"ticks\":\"\"}},\"marker\":{\"colorbar\":{\"outlinewidth\":0,\"ticks\":\"\"}},\"type\":\"scatter3d\"}],\"scattercarpet\":[{\"marker\":{\"colorbar\":{\"outlinewidth\":0,\"ticks\":\"\"}},\"type\":\"scattercarpet\"}],\"scattergeo\":[{\"marker\":{\"colorbar\":{\"outlinewidth\":0,\"ticks\":\"\"}},\"type\":\"scattergeo\"}],\"scattergl\":[{\"marker\":{\"colorbar\":{\"outlinewidth\":0,\"ticks\":\"\"}},\"type\":\"scattergl\"}],\"scattermapbox\":[{\"marker\":{\"colorbar\":{\"outlinewidth\":0,\"ticks\":\"\"}},\"type\":\"scattermapbox\"}],\"scatterpolar\":[{\"marker\":{\"colorbar\":{\"outlinewidth\":0,\"ticks\":\"\"}},\"type\":\"scatterpolar\"}],\"scatterpolargl\":[{\"marker\":{\"colorbar\":{\"outlinewidth\":0,\"ticks\":\"\"}},\"type\":\"scatterpolargl\"}],\"scatterternary\":[{\"marker\":{\"colorbar\":{\"outlinewidth\":0,\"ticks\":\"\"}},\"type\":\"scatterternary\"}],\"surface\":[{\"colorbar\":{\"outlinewidth\":0,\"ticks\":\"\"},\"colorscale\":[[0.0,\"#0d0887\"],[0.1111111111111111,\"#46039f\"],[0.2222222222222222,\"#7201a8\"],[0.3333333333333333,\"#9c179e\"],[0.4444444444444444,\"#bd3786\"],[0.5555555555555556,\"#d8576b\"],[0.6666666666666666,\"#ed7953\"],[0.7777777777777778,\"#fb9f3a\"],[0.8888888888888888,\"#fdca26\"],[1.0,\"#f0f921\"]],\"type\":\"surface\"}],\"table\":[{\"cells\":{\"fill\":{\"color\":\"#EBF0F8\"},\"line\":{\"color\":\"white\"}},\"header\":{\"fill\":{\"color\":\"#C8D4E3\"},\"line\":{\"color\":\"white\"}},\"type\":\"table\"}]},\"layout\":{\"annotationdefaults\":{\"arrowcolor\":\"#2a3f5f\",\"arrowhead\":0,\"arrowwidth\":1},\"autotypenumbers\":\"strict\",\"coloraxis\":{\"colorbar\":{\"outlinewidth\":0,\"ticks\":\"\"}},\"colorscale\":{\"diverging\":[[0,\"#8e0152\"],[0.1,\"#c51b7d\"],[0.2,\"#de77ae\"],[0.3,\"#f1b6da\"],[0.4,\"#fde0ef\"],[0.5,\"#f7f7f7\"],[0.6,\"#e6f5d0\"],[0.7,\"#b8e186\"],[0.8,\"#7fbc41\"],[0.9,\"#4d9221\"],[1,\"#276419\"]],\"sequential\":[[0.0,\"#0d0887\"],[0.1111111111111111,\"#46039f\"],[0.2222222222222222,\"#7201a8\"],[0.3333333333333333,\"#9c179e\"],[0.4444444444444444,\"#bd3786\"],[0.5555555555555556,\"#d8576b\"],[0.6666666666666666,\"#ed7953\"],[0.7777777777777778,\"#fb9f3a\"],[0.8888888888888888,\"#fdca26\"],[1.0,\"#f0f921\"]],\"sequentialminus\":[[0.0,\"#0d0887\"],[0.1111111111111111,\"#46039f\"],[0.2222222222222222,\"#7201a8\"],[0.3333333333333333,\"#9c179e\"],[0.4444444444444444,\"#bd3786\"],[0.5555555555555556,\"#d8576b\"],[0.6666666666666666,\"#ed7953\"],[0.7777777777777778,\"#fb9f3a\"],[0.8888888888888888,\"#fdca26\"],[1.0,\"#f0f921\"]]},\"colorway\":[\"#636efa\",\"#EF553B\",\"#00cc96\",\"#ab63fa\",\"#FFA15A\",\"#19d3f3\",\"#FF6692\",\"#B6E880\",\"#FF97FF\",\"#FECB52\"],\"font\":{\"color\":\"#2a3f5f\"},\"geo\":{\"bgcolor\":\"white\",\"lakecolor\":\"white\",\"landcolor\":\"#E5ECF6\",\"showlakes\":true,\"showland\":true,\"subunitcolor\":\"white\"},\"hoverlabel\":{\"align\":\"left\"},\"hovermode\":\"closest\",\"mapbox\":{\"style\":\"light\"},\"paper_bgcolor\":\"white\",\"plot_bgcolor\":\"#E5ECF6\",\"polar\":{\"angularaxis\":{\"gridcolor\":\"white\",\"linecolor\":\"white\",\"ticks\":\"\"},\"bgcolor\":\"#E5ECF6\",\"radialaxis\":{\"gridcolor\":\"white\",\"linecolor\":\"white\",\"ticks\":\"\"}},\"scene\":{\"xaxis\":{\"backgroundcolor\":\"#E5ECF6\",\"gridcolor\":\"white\",\"gridwidth\":2,\"linecolor\":\"white\",\"showbackground\":true,\"ticks\":\"\",\"zerolinecolor\":\"white\"},\"yaxis\":{\"backgroundcolor\":\"#E5ECF6\",\"gridcolor\":\"white\",\"gridwidth\":2,\"linecolor\":\"white\",\"showbackground\":true,\"ticks\":\"\",\"zerolinecolor\":\"white\"},\"zaxis\":{\"backgroundcolor\":\"#E5ECF6\",\"gridcolor\":\"white\",\"gridwidth\":2,\"linecolor\":\"white\",\"showbackground\":true,\"ticks\":\"\",\"zerolinecolor\":\"white\"}},\"shapedefaults\":{\"line\":{\"color\":\"#2a3f5f\"}},\"ternary\":{\"aaxis\":{\"gridcolor\":\"white\",\"linecolor\":\"white\",\"ticks\":\"\"},\"baxis\":{\"gridcolor\":\"white\",\"linecolor\":\"white\",\"ticks\":\"\"},\"bgcolor\":\"#E5ECF6\",\"caxis\":{\"gridcolor\":\"white\",\"linecolor\":\"white\",\"ticks\":\"\"}},\"title\":{\"x\":0.05},\"xaxis\":{\"automargin\":true,\"gridcolor\":\"white\",\"linecolor\":\"white\",\"ticks\":\"\",\"title\":{\"standoff\":15},\"zerolinecolor\":\"white\",\"zerolinewidth\":2},\"yaxis\":{\"automargin\":true,\"gridcolor\":\"white\",\"linecolor\":\"white\",\"ticks\":\"\",\"title\":{\"standoff\":15},\"zerolinecolor\":\"white\",\"zerolinewidth\":2}}},\"coloraxis\":{\"colorbar\":{\"title\":{\"text\":\"mean_test_accuracy\"}},\"colorscale\":[[0.0,\"#0d0887\"],[0.1111111111111111,\"#46039f\"],[0.2222222222222222,\"#7201a8\"],[0.3333333333333333,\"#9c179e\"],[0.4444444444444444,\"#bd3786\"],[0.5555555555555556,\"#d8576b\"],[0.6666666666666666,\"#ed7953\"],[0.7777777777777778,\"#fb9f3a\"],[0.8888888888888888,\"#fdca26\"],[1.0,\"#f0f921\"]]},\"legend\":{\"tracegroupgap\":0},\"margin\":{\"t\":60}},                        {\"responsive\": true}                    ).then(function(){\n",
              "                            \n",
              "var gd = document.getElementById('c347723f-f168-4d0e-be97-aeda258ad075');\n",
              "var x = new MutationObserver(function (mutations, observer) {{\n",
              "        var display = window.getComputedStyle(gd).display;\n",
              "        if (!display || display === 'none') {{\n",
              "            console.log([gd, 'removed!']);\n",
              "            Plotly.purge(gd);\n",
              "            observer.disconnect();\n",
              "        }}\n",
              "}});\n",
              "\n",
              "// Listen for the removal of the full notebook cells\n",
              "var notebookContainer = gd.closest('#notebook-container');\n",
              "if (notebookContainer) {{\n",
              "    x.observe(notebookContainer, {childList: true});\n",
              "}}\n",
              "\n",
              "// Listen for the clearing of the current output cell\n",
              "var outputEl = gd.closest('.output');\n",
              "if (outputEl) {{\n",
              "    x.observe(outputEl, {childList: true});\n",
              "}}\n",
              "\n",
              "                        })                };                            </script>        </div>\n",
              "</body>\n",
              "</html>"
            ]
          },
          "metadata": {}
        }
      ]
    },
    {
      "cell_type": "markdown",
      "source": [
        "### > Support vector machine"
      ],
      "metadata": {
        "id": "db18WC2yKc9p"
      }
    },
    {
      "cell_type": "code",
      "source": [
        "from tune_sklearn import TuneGridSearchCV\n",
        "from sklearn.linear_model import SGDClassifier\n",
        "\n",
        "# Search space를 정의한다\n",
        "parameters = {\n",
        "    'max_iter': [1000],\n",
        "    'loss': ['hinge'],\n",
        "    'penalty': ['l2'],\n",
        "    'random_state': [config['random_state']],\n",
        "    'alpha': [1e-9, 1e-8, 1e-7],\n",
        "    'epsilon': [1e-9, 1e-8],    \n",
        "}\n",
        "\n",
        "# 하이퍼 파라미터 튜닝 알고리즘을 정의한다\n",
        "tune_search = TuneGridSearchCV(\n",
        "    SGDClassifier(),\n",
        "    parameters,\n",
        "    n_jobs=-1,\n",
        "    scoring=['neg_log_loss', 'accuracy'],\n",
        "    cv=5,\n",
        "    refit='accuracy', # target metric of competition\n",
        "    verbose=1\n",
        "    )\n",
        "\n",
        "# 하이퍼 파라미터 튜닝을 진행한다\n",
        "X = X_train \n",
        "y = y_train\n",
        "tune_search.fit(X, y)\n",
        "\n",
        "# 튜닝 결과를 저장한다 \n",
        "model_name = 'svm'\n",
        "\n",
        "## 최적 하이퍼 파라미터\n",
        "best_cv_df.loc[best_cv_df['model']==model_name, 'best_hyper_param'] = str(tune_search.best_params_)\n",
        "\n",
        "## CV 결과 값\n",
        "cv_df = pd.DataFrame(tune_search.cv_results_)\n",
        "cv_values = cv_df.loc[tune_search.best_index_, cv_df.columns.str.startswith('split')].values\n",
        "best_cv_df.loc[best_cv_df['model']==model_name, 'log_loss'] = cv_values[:5]\n",
        "best_cv_df.loc[best_cv_df['model']==model_name, 'accuracy'] = cv_values[5:10]\n",
        "\n",
        "# 튜닝 결과를 parallel coordinate plot으로 시각화한다\n",
        "tune_result_df = pd.concat([pd.DataFrame(tune_search.cv_results_['params']), cv_df.loc[:,cv_df.columns.str.startswith('mean')] ], axis=1)\n",
        "import plotly.express as px\n",
        "fig = px.parallel_coordinates(tune_result_df, color='mean_test_accuracy')\n",
        "fig.show()"
      ],
      "metadata": {
        "colab": {
          "base_uri": "https://localhost:8080/",
          "height": 750
        },
        "id": "VsI-OMilwGxb",
        "outputId": "44753bb8-3d75-4cf9-b81f-9a72c753e71e"
      },
      "execution_count": null,
      "outputs": [
        {
          "output_type": "display_data",
          "data": {
            "text/html": [
              "== Status ==<br>Current time: 2022-02-22 02:26:31 (running for 00:00:03.04)<br>Memory usage on this node: 2.5/12.7 GiB<br>Using FIFO scheduling algorithm.<br>Resources requested: 0/2 CPUs, 0/0 GPUs, 0.0/6.47 GiB heap, 0.0/3.23 GiB objects<br>Current best trial: d7139_00001 with average_test_accuracy=0.7564810746343607 and parameters={'early_stopping': False, 'early_stop_type': <EarlyStopping.NO_EARLY_STOP: 7>, 'X_id': ObjectRef(ffffffffffffffffffffffffffffffffffffffff0100000025000000), 'y_id': ObjectRef(ffffffffffffffffffffffffffffffffffffffff0100000026000000), 'groups': None, 'cv': StratifiedKFold(n_splits=5, random_state=None, shuffle=False), 'fit_params': {}, 'scoring': {'accuracy': make_scorer(accuracy_score)}, 'max_iters': 1, 'return_train_score': False, 'n_jobs': 1, 'metric_name': 'average_test_accuracy', 'max_iter': 1000, 'loss': 'hinge', 'penalty': 'l2', 'random_state': 2022, 'alpha': 1e-08, 'epsilon': 1e-09, 'estimator_ids': [ObjectRef(ffffffffffffffffffffffffffffffffffffffff0100000027000000)]}<br>Result logdir: /root/ray_results/_Trainable_2022-02-22_02-26-28<br>Number of trials: 6/6 (6 TERMINATED)<br><br>"
            ],
            "text/plain": [
              "<IPython.core.display.HTML object>"
            ]
          },
          "metadata": {}
        },
        {
          "output_type": "display_data",
          "data": {
            "text/html": [
              "<html>\n",
              "<head><meta charset=\"utf-8\" /></head>\n",
              "<body>\n",
              "    <div>            <script src=\"https://cdnjs.cloudflare.com/ajax/libs/mathjax/2.7.5/MathJax.js?config=TeX-AMS-MML_SVG\"></script><script type=\"text/javascript\">if (window.MathJax) {MathJax.Hub.Config({SVG: {font: \"STIX-Web\"}});}</script>                <script type=\"text/javascript\">window.PlotlyConfig = {MathJaxConfig: 'local'};</script>\n",
              "        <script src=\"https://cdn.plot.ly/plotly-2.8.3.min.js\"></script>                <div id=\"c31ea21b-3016-4eaf-b98e-558033b88b13\" class=\"plotly-graph-div\" style=\"height:525px; width:100%;\"></div>            <script type=\"text/javascript\">                                    window.PLOTLYENV=window.PLOTLYENV || {};                                    if (document.getElementById(\"c31ea21b-3016-4eaf-b98e-558033b88b13\")) {                    Plotly.newPlot(                        \"c31ea21b-3016-4eaf-b98e-558033b88b13\",                        [{\"dimensions\":[{\"label\":\"max_iter\",\"values\":[1000,1000,1000,1000,1000,1000]},{\"label\":\"random_state\",\"values\":[2022,2022,2022,2022,2022,2022]},{\"label\":\"alpha\",\"values\":[1e-09,1e-08,1e-07,1e-09,1e-08,1e-07]},{\"label\":\"epsilon\",\"values\":[1e-09,1e-09,1e-09,1e-08,1e-08,1e-08]},{\"label\":\"mean_test_accuracy\",\"values\":[0.7396836356788652,0.7564810746343607,0.6979662293641329,0.7396836356788652,0.7564810746343607,0.6979662293641329]}],\"domain\":{\"x\":[0.0,1.0],\"y\":[0.0,1.0]},\"line\":{\"color\":[0.7396836356788652,0.7564810746343607,0.6979662293641329,0.7396836356788652,0.7564810746343607,0.6979662293641329],\"coloraxis\":\"coloraxis\"},\"name\":\"\",\"type\":\"parcoords\"}],                        {\"template\":{\"data\":{\"bar\":[{\"error_x\":{\"color\":\"#2a3f5f\"},\"error_y\":{\"color\":\"#2a3f5f\"},\"marker\":{\"line\":{\"color\":\"#E5ECF6\",\"width\":0.5},\"pattern\":{\"fillmode\":\"overlay\",\"size\":10,\"solidity\":0.2}},\"type\":\"bar\"}],\"barpolar\":[{\"marker\":{\"line\":{\"color\":\"#E5ECF6\",\"width\":0.5},\"pattern\":{\"fillmode\":\"overlay\",\"size\":10,\"solidity\":0.2}},\"type\":\"barpolar\"}],\"carpet\":[{\"aaxis\":{\"endlinecolor\":\"#2a3f5f\",\"gridcolor\":\"white\",\"linecolor\":\"white\",\"minorgridcolor\":\"white\",\"startlinecolor\":\"#2a3f5f\"},\"baxis\":{\"endlinecolor\":\"#2a3f5f\",\"gridcolor\":\"white\",\"linecolor\":\"white\",\"minorgridcolor\":\"white\",\"startlinecolor\":\"#2a3f5f\"},\"type\":\"carpet\"}],\"choropleth\":[{\"colorbar\":{\"outlinewidth\":0,\"ticks\":\"\"},\"type\":\"choropleth\"}],\"contour\":[{\"colorbar\":{\"outlinewidth\":0,\"ticks\":\"\"},\"colorscale\":[[0.0,\"#0d0887\"],[0.1111111111111111,\"#46039f\"],[0.2222222222222222,\"#7201a8\"],[0.3333333333333333,\"#9c179e\"],[0.4444444444444444,\"#bd3786\"],[0.5555555555555556,\"#d8576b\"],[0.6666666666666666,\"#ed7953\"],[0.7777777777777778,\"#fb9f3a\"],[0.8888888888888888,\"#fdca26\"],[1.0,\"#f0f921\"]],\"type\":\"contour\"}],\"contourcarpet\":[{\"colorbar\":{\"outlinewidth\":0,\"ticks\":\"\"},\"type\":\"contourcarpet\"}],\"heatmap\":[{\"colorbar\":{\"outlinewidth\":0,\"ticks\":\"\"},\"colorscale\":[[0.0,\"#0d0887\"],[0.1111111111111111,\"#46039f\"],[0.2222222222222222,\"#7201a8\"],[0.3333333333333333,\"#9c179e\"],[0.4444444444444444,\"#bd3786\"],[0.5555555555555556,\"#d8576b\"],[0.6666666666666666,\"#ed7953\"],[0.7777777777777778,\"#fb9f3a\"],[0.8888888888888888,\"#fdca26\"],[1.0,\"#f0f921\"]],\"type\":\"heatmap\"}],\"heatmapgl\":[{\"colorbar\":{\"outlinewidth\":0,\"ticks\":\"\"},\"colorscale\":[[0.0,\"#0d0887\"],[0.1111111111111111,\"#46039f\"],[0.2222222222222222,\"#7201a8\"],[0.3333333333333333,\"#9c179e\"],[0.4444444444444444,\"#bd3786\"],[0.5555555555555556,\"#d8576b\"],[0.6666666666666666,\"#ed7953\"],[0.7777777777777778,\"#fb9f3a\"],[0.8888888888888888,\"#fdca26\"],[1.0,\"#f0f921\"]],\"type\":\"heatmapgl\"}],\"histogram\":[{\"marker\":{\"pattern\":{\"fillmode\":\"overlay\",\"size\":10,\"solidity\":0.2}},\"type\":\"histogram\"}],\"histogram2d\":[{\"colorbar\":{\"outlinewidth\":0,\"ticks\":\"\"},\"colorscale\":[[0.0,\"#0d0887\"],[0.1111111111111111,\"#46039f\"],[0.2222222222222222,\"#7201a8\"],[0.3333333333333333,\"#9c179e\"],[0.4444444444444444,\"#bd3786\"],[0.5555555555555556,\"#d8576b\"],[0.6666666666666666,\"#ed7953\"],[0.7777777777777778,\"#fb9f3a\"],[0.8888888888888888,\"#fdca26\"],[1.0,\"#f0f921\"]],\"type\":\"histogram2d\"}],\"histogram2dcontour\":[{\"colorbar\":{\"outlinewidth\":0,\"ticks\":\"\"},\"colorscale\":[[0.0,\"#0d0887\"],[0.1111111111111111,\"#46039f\"],[0.2222222222222222,\"#7201a8\"],[0.3333333333333333,\"#9c179e\"],[0.4444444444444444,\"#bd3786\"],[0.5555555555555556,\"#d8576b\"],[0.6666666666666666,\"#ed7953\"],[0.7777777777777778,\"#fb9f3a\"],[0.8888888888888888,\"#fdca26\"],[1.0,\"#f0f921\"]],\"type\":\"histogram2dcontour\"}],\"mesh3d\":[{\"colorbar\":{\"outlinewidth\":0,\"ticks\":\"\"},\"type\":\"mesh3d\"}],\"parcoords\":[{\"line\":{\"colorbar\":{\"outlinewidth\":0,\"ticks\":\"\"}},\"type\":\"parcoords\"}],\"pie\":[{\"automargin\":true,\"type\":\"pie\"}],\"scatter\":[{\"marker\":{\"colorbar\":{\"outlinewidth\":0,\"ticks\":\"\"}},\"type\":\"scatter\"}],\"scatter3d\":[{\"line\":{\"colorbar\":{\"outlinewidth\":0,\"ticks\":\"\"}},\"marker\":{\"colorbar\":{\"outlinewidth\":0,\"ticks\":\"\"}},\"type\":\"scatter3d\"}],\"scattercarpet\":[{\"marker\":{\"colorbar\":{\"outlinewidth\":0,\"ticks\":\"\"}},\"type\":\"scattercarpet\"}],\"scattergeo\":[{\"marker\":{\"colorbar\":{\"outlinewidth\":0,\"ticks\":\"\"}},\"type\":\"scattergeo\"}],\"scattergl\":[{\"marker\":{\"colorbar\":{\"outlinewidth\":0,\"ticks\":\"\"}},\"type\":\"scattergl\"}],\"scattermapbox\":[{\"marker\":{\"colorbar\":{\"outlinewidth\":0,\"ticks\":\"\"}},\"type\":\"scattermapbox\"}],\"scatterpolar\":[{\"marker\":{\"colorbar\":{\"outlinewidth\":0,\"ticks\":\"\"}},\"type\":\"scatterpolar\"}],\"scatterpolargl\":[{\"marker\":{\"colorbar\":{\"outlinewidth\":0,\"ticks\":\"\"}},\"type\":\"scatterpolargl\"}],\"scatterternary\":[{\"marker\":{\"colorbar\":{\"outlinewidth\":0,\"ticks\":\"\"}},\"type\":\"scatterternary\"}],\"surface\":[{\"colorbar\":{\"outlinewidth\":0,\"ticks\":\"\"},\"colorscale\":[[0.0,\"#0d0887\"],[0.1111111111111111,\"#46039f\"],[0.2222222222222222,\"#7201a8\"],[0.3333333333333333,\"#9c179e\"],[0.4444444444444444,\"#bd3786\"],[0.5555555555555556,\"#d8576b\"],[0.6666666666666666,\"#ed7953\"],[0.7777777777777778,\"#fb9f3a\"],[0.8888888888888888,\"#fdca26\"],[1.0,\"#f0f921\"]],\"type\":\"surface\"}],\"table\":[{\"cells\":{\"fill\":{\"color\":\"#EBF0F8\"},\"line\":{\"color\":\"white\"}},\"header\":{\"fill\":{\"color\":\"#C8D4E3\"},\"line\":{\"color\":\"white\"}},\"type\":\"table\"}]},\"layout\":{\"annotationdefaults\":{\"arrowcolor\":\"#2a3f5f\",\"arrowhead\":0,\"arrowwidth\":1},\"autotypenumbers\":\"strict\",\"coloraxis\":{\"colorbar\":{\"outlinewidth\":0,\"ticks\":\"\"}},\"colorscale\":{\"diverging\":[[0,\"#8e0152\"],[0.1,\"#c51b7d\"],[0.2,\"#de77ae\"],[0.3,\"#f1b6da\"],[0.4,\"#fde0ef\"],[0.5,\"#f7f7f7\"],[0.6,\"#e6f5d0\"],[0.7,\"#b8e186\"],[0.8,\"#7fbc41\"],[0.9,\"#4d9221\"],[1,\"#276419\"]],\"sequential\":[[0.0,\"#0d0887\"],[0.1111111111111111,\"#46039f\"],[0.2222222222222222,\"#7201a8\"],[0.3333333333333333,\"#9c179e\"],[0.4444444444444444,\"#bd3786\"],[0.5555555555555556,\"#d8576b\"],[0.6666666666666666,\"#ed7953\"],[0.7777777777777778,\"#fb9f3a\"],[0.8888888888888888,\"#fdca26\"],[1.0,\"#f0f921\"]],\"sequentialminus\":[[0.0,\"#0d0887\"],[0.1111111111111111,\"#46039f\"],[0.2222222222222222,\"#7201a8\"],[0.3333333333333333,\"#9c179e\"],[0.4444444444444444,\"#bd3786\"],[0.5555555555555556,\"#d8576b\"],[0.6666666666666666,\"#ed7953\"],[0.7777777777777778,\"#fb9f3a\"],[0.8888888888888888,\"#fdca26\"],[1.0,\"#f0f921\"]]},\"colorway\":[\"#636efa\",\"#EF553B\",\"#00cc96\",\"#ab63fa\",\"#FFA15A\",\"#19d3f3\",\"#FF6692\",\"#B6E880\",\"#FF97FF\",\"#FECB52\"],\"font\":{\"color\":\"#2a3f5f\"},\"geo\":{\"bgcolor\":\"white\",\"lakecolor\":\"white\",\"landcolor\":\"#E5ECF6\",\"showlakes\":true,\"showland\":true,\"subunitcolor\":\"white\"},\"hoverlabel\":{\"align\":\"left\"},\"hovermode\":\"closest\",\"mapbox\":{\"style\":\"light\"},\"paper_bgcolor\":\"white\",\"plot_bgcolor\":\"#E5ECF6\",\"polar\":{\"angularaxis\":{\"gridcolor\":\"white\",\"linecolor\":\"white\",\"ticks\":\"\"},\"bgcolor\":\"#E5ECF6\",\"radialaxis\":{\"gridcolor\":\"white\",\"linecolor\":\"white\",\"ticks\":\"\"}},\"scene\":{\"xaxis\":{\"backgroundcolor\":\"#E5ECF6\",\"gridcolor\":\"white\",\"gridwidth\":2,\"linecolor\":\"white\",\"showbackground\":true,\"ticks\":\"\",\"zerolinecolor\":\"white\"},\"yaxis\":{\"backgroundcolor\":\"#E5ECF6\",\"gridcolor\":\"white\",\"gridwidth\":2,\"linecolor\":\"white\",\"showbackground\":true,\"ticks\":\"\",\"zerolinecolor\":\"white\"},\"zaxis\":{\"backgroundcolor\":\"#E5ECF6\",\"gridcolor\":\"white\",\"gridwidth\":2,\"linecolor\":\"white\",\"showbackground\":true,\"ticks\":\"\",\"zerolinecolor\":\"white\"}},\"shapedefaults\":{\"line\":{\"color\":\"#2a3f5f\"}},\"ternary\":{\"aaxis\":{\"gridcolor\":\"white\",\"linecolor\":\"white\",\"ticks\":\"\"},\"baxis\":{\"gridcolor\":\"white\",\"linecolor\":\"white\",\"ticks\":\"\"},\"bgcolor\":\"#E5ECF6\",\"caxis\":{\"gridcolor\":\"white\",\"linecolor\":\"white\",\"ticks\":\"\"}},\"title\":{\"x\":0.05},\"xaxis\":{\"automargin\":true,\"gridcolor\":\"white\",\"linecolor\":\"white\",\"ticks\":\"\",\"title\":{\"standoff\":15},\"zerolinecolor\":\"white\",\"zerolinewidth\":2},\"yaxis\":{\"automargin\":true,\"gridcolor\":\"white\",\"linecolor\":\"white\",\"ticks\":\"\",\"title\":{\"standoff\":15},\"zerolinecolor\":\"white\",\"zerolinewidth\":2}}},\"coloraxis\":{\"colorbar\":{\"title\":{\"text\":\"mean_test_accuracy\"}},\"colorscale\":[[0.0,\"#0d0887\"],[0.1111111111111111,\"#46039f\"],[0.2222222222222222,\"#7201a8\"],[0.3333333333333333,\"#9c179e\"],[0.4444444444444444,\"#bd3786\"],[0.5555555555555556,\"#d8576b\"],[0.6666666666666666,\"#ed7953\"],[0.7777777777777778,\"#fb9f3a\"],[0.8888888888888888,\"#fdca26\"],[1.0,\"#f0f921\"]]},\"legend\":{\"tracegroupgap\":0},\"margin\":{\"t\":60}},                        {\"responsive\": true}                    ).then(function(){\n",
              "                            \n",
              "var gd = document.getElementById('c31ea21b-3016-4eaf-b98e-558033b88b13');\n",
              "var x = new MutationObserver(function (mutations, observer) {{\n",
              "        var display = window.getComputedStyle(gd).display;\n",
              "        if (!display || display === 'none') {{\n",
              "            console.log([gd, 'removed!']);\n",
              "            Plotly.purge(gd);\n",
              "            observer.disconnect();\n",
              "        }}\n",
              "}});\n",
              "\n",
              "// Listen for the removal of the full notebook cells\n",
              "var notebookContainer = gd.closest('#notebook-container');\n",
              "if (notebookContainer) {{\n",
              "    x.observe(notebookContainer, {childList: true});\n",
              "}}\n",
              "\n",
              "// Listen for the clearing of the current output cell\n",
              "var outputEl = gd.closest('.output');\n",
              "if (outputEl) {{\n",
              "    x.observe(outputEl, {childList: true});\n",
              "}}\n",
              "\n",
              "                        })                };                            </script>        </div>\n",
              "</body>\n",
              "</html>"
            ]
          },
          "metadata": {}
        }
      ]
    },
    {
      "cell_type": "markdown",
      "source": [
        "### > Random forest"
      ],
      "metadata": {
        "id": "TZV1XLbAKffy"
      }
    },
    {
      "cell_type": "code",
      "source": [
        "from tune_sklearn import TuneSearchCV\n",
        "from sklearn.ensemble import RandomForestClassifier\n",
        "\n",
        "# Search space를 정의한다\n",
        "parameters = {\n",
        "    'max_features': ['auto'],\n",
        "    'random_state': [config['random_state']],\n",
        "    'n_estimators': [100, 500, 1000],\n",
        "    'criterion': ['gini', 'entropy'],\n",
        "    'max_depth': [5, 10, 15],    \n",
        "}\n",
        "\n",
        "# 하이퍼 파라미터 튜닝 알고리즘을 정의한다\n",
        "tune_search = TuneSearchCV(\n",
        "    RandomForestClassifier(),\n",
        "    parameters,\n",
        "    search_optimization='hyperopt',\n",
        "    n_trials=10,\n",
        "    n_jobs=-1,\n",
        "    scoring=['neg_log_loss', 'accuracy'],\n",
        "    cv=5,\n",
        "    refit='accuracy',\n",
        "    verbose=1,\n",
        "    random_state=config['random_state']\n",
        "    )\n",
        "\n",
        "# 하이퍼 파라미터 튜닝을 진행한다\n",
        "X = X_train \n",
        "y = y_train\n",
        "tune_search.fit(X, y)\n",
        "\n",
        "# 튜닝 결과를 저장한다 \n",
        "model_name = 'rf'\n",
        "\n",
        "## 최적 하이퍼 파라미터\n",
        "best_cv_df.loc[best_cv_df['model']==model_name, 'best_hyper_param'] = str(tune_search.best_params_)\n",
        "\n",
        "## CV 결과 값\n",
        "cv_df = pd.DataFrame(tune_search.cv_results_)\n",
        "cv_values = cv_df.loc[tune_search.best_index_, cv_df.columns.str.startswith('split')].values\n",
        "best_cv_df.loc[best_cv_df['model']==model_name, 'log_loss'] = cv_values[:5]\n",
        "best_cv_df.loc[best_cv_df['model']==model_name, 'accuracy'] = cv_values[5:10]\n",
        "\n",
        "# 튜닝 결과를 parallel coordinate plot으로 시각화한다\n",
        "tune_result_df = pd.concat([pd.DataFrame(tune_search.cv_results_['params']), cv_df.loc[:,cv_df.columns.str.startswith('mean')] ], axis=1)\n",
        "import plotly.express as px\n",
        "fig = px.parallel_coordinates(tune_result_df, color='mean_test_accuracy')\n",
        "fig.show()"
      ],
      "metadata": {
        "colab": {
          "base_uri": "https://localhost:8080/",
          "height": 681
        },
        "id": "dACWfrHo3eWh",
        "outputId": "28ee19d3-32e9-4eae-c721-41f4e9f6819b"
      },
      "execution_count": null,
      "outputs": [
        {
          "output_type": "display_data",
          "data": {
            "text/html": [
              "== Status ==<br>Current time: 2022-02-22 02:25:42 (running for 00:01:14.35)<br>Memory usage on this node: 8.8/12.7 GiB<br>Using FIFO scheduling algorithm.<br>Resources requested: 0/2 CPUs, 0/0 GPUs, 0.0/6.46 GiB heap, 0.0/3.23 GiB objects<br>Result logdir: /root/ray_results/_Trainable_2022-02-22_02-24-27<br>Number of trials: 10/10 (10 TERMINATED)<br><br>"
            ],
            "text/plain": [
              "<IPython.core.display.HTML object>"
            ]
          },
          "metadata": {}
        },
        {
          "output_type": "display_data",
          "data": {
            "text/html": [
              "<html>\n",
              "<head><meta charset=\"utf-8\" /></head>\n",
              "<body>\n",
              "    <div>            <script src=\"https://cdnjs.cloudflare.com/ajax/libs/mathjax/2.7.5/MathJax.js?config=TeX-AMS-MML_SVG\"></script><script type=\"text/javascript\">if (window.MathJax) {MathJax.Hub.Config({SVG: {font: \"STIX-Web\"}});}</script>                <script type=\"text/javascript\">window.PlotlyConfig = {MathJaxConfig: 'local'};</script>\n",
              "        <script src=\"https://cdn.plot.ly/plotly-2.8.3.min.js\"></script>                <div id=\"732f2144-be87-48a1-85c5-657dcecaf126\" class=\"plotly-graph-div\" style=\"height:525px; width:100%;\"></div>            <script type=\"text/javascript\">                                    window.PLOTLYENV=window.PLOTLYENV || {};                                    if (document.getElementById(\"732f2144-be87-48a1-85c5-657dcecaf126\")) {                    Plotly.newPlot(                        \"732f2144-be87-48a1-85c5-657dcecaf126\",                        [{\"dimensions\":[{\"label\":\"max_depth\",\"values\":[15,15,5,10,15,5,10,15,15,10]},{\"label\":\"n_estimators\",\"values\":[500,500,100,1000,500,1000,1000,500,1000,1000]},{\"label\":\"random_state\",\"values\":[2022,2022,2022,2022,2022,2022,2022,2022,2022,2022]},{\"label\":\"criterion_entropy\",\"values\":[1,0,0,1,1,0,0,1,0,0]},{\"label\":\"criterion_gini\",\"values\":[0,1,1,0,0,1,1,0,1,1]},{\"label\":\"mean_test_neg_log_loss\",\"values\":[-0.49800544572435,-0.4996979058172474,-0.4167220898666567,-0.4315907003740815,-0.49800544572435,-0.415556047292888,-0.43281427679227064,-0.49800544572435,-0.4992080925128091,-0.43281427679227064]},{\"label\":\"mean_test_accuracy\",\"values\":[0.8148264390182665,0.808097420124286,0.8327474734793799,0.8283158621555458,0.8148264390182665,0.8293955181721173,0.8271797125102003,0.8148264390182665,0.815956311593748,0.8271797125102003]}],\"domain\":{\"x\":[0.0,1.0],\"y\":[0.0,1.0]},\"line\":{\"color\":[0.8148264390182665,0.808097420124286,0.8327474734793799,0.8283158621555458,0.8148264390182665,0.8293955181721173,0.8271797125102003,0.8148264390182665,0.815956311593748,0.8271797125102003],\"coloraxis\":\"coloraxis\"},\"name\":\"\",\"type\":\"parcoords\"}],                        {\"template\":{\"data\":{\"bar\":[{\"error_x\":{\"color\":\"#2a3f5f\"},\"error_y\":{\"color\":\"#2a3f5f\"},\"marker\":{\"line\":{\"color\":\"#E5ECF6\",\"width\":0.5},\"pattern\":{\"fillmode\":\"overlay\",\"size\":10,\"solidity\":0.2}},\"type\":\"bar\"}],\"barpolar\":[{\"marker\":{\"line\":{\"color\":\"#E5ECF6\",\"width\":0.5},\"pattern\":{\"fillmode\":\"overlay\",\"size\":10,\"solidity\":0.2}},\"type\":\"barpolar\"}],\"carpet\":[{\"aaxis\":{\"endlinecolor\":\"#2a3f5f\",\"gridcolor\":\"white\",\"linecolor\":\"white\",\"minorgridcolor\":\"white\",\"startlinecolor\":\"#2a3f5f\"},\"baxis\":{\"endlinecolor\":\"#2a3f5f\",\"gridcolor\":\"white\",\"linecolor\":\"white\",\"minorgridcolor\":\"white\",\"startlinecolor\":\"#2a3f5f\"},\"type\":\"carpet\"}],\"choropleth\":[{\"colorbar\":{\"outlinewidth\":0,\"ticks\":\"\"},\"type\":\"choropleth\"}],\"contour\":[{\"colorbar\":{\"outlinewidth\":0,\"ticks\":\"\"},\"colorscale\":[[0.0,\"#0d0887\"],[0.1111111111111111,\"#46039f\"],[0.2222222222222222,\"#7201a8\"],[0.3333333333333333,\"#9c179e\"],[0.4444444444444444,\"#bd3786\"],[0.5555555555555556,\"#d8576b\"],[0.6666666666666666,\"#ed7953\"],[0.7777777777777778,\"#fb9f3a\"],[0.8888888888888888,\"#fdca26\"],[1.0,\"#f0f921\"]],\"type\":\"contour\"}],\"contourcarpet\":[{\"colorbar\":{\"outlinewidth\":0,\"ticks\":\"\"},\"type\":\"contourcarpet\"}],\"heatmap\":[{\"colorbar\":{\"outlinewidth\":0,\"ticks\":\"\"},\"colorscale\":[[0.0,\"#0d0887\"],[0.1111111111111111,\"#46039f\"],[0.2222222222222222,\"#7201a8\"],[0.3333333333333333,\"#9c179e\"],[0.4444444444444444,\"#bd3786\"],[0.5555555555555556,\"#d8576b\"],[0.6666666666666666,\"#ed7953\"],[0.7777777777777778,\"#fb9f3a\"],[0.8888888888888888,\"#fdca26\"],[1.0,\"#f0f921\"]],\"type\":\"heatmap\"}],\"heatmapgl\":[{\"colorbar\":{\"outlinewidth\":0,\"ticks\":\"\"},\"colorscale\":[[0.0,\"#0d0887\"],[0.1111111111111111,\"#46039f\"],[0.2222222222222222,\"#7201a8\"],[0.3333333333333333,\"#9c179e\"],[0.4444444444444444,\"#bd3786\"],[0.5555555555555556,\"#d8576b\"],[0.6666666666666666,\"#ed7953\"],[0.7777777777777778,\"#fb9f3a\"],[0.8888888888888888,\"#fdca26\"],[1.0,\"#f0f921\"]],\"type\":\"heatmapgl\"}],\"histogram\":[{\"marker\":{\"pattern\":{\"fillmode\":\"overlay\",\"size\":10,\"solidity\":0.2}},\"type\":\"histogram\"}],\"histogram2d\":[{\"colorbar\":{\"outlinewidth\":0,\"ticks\":\"\"},\"colorscale\":[[0.0,\"#0d0887\"],[0.1111111111111111,\"#46039f\"],[0.2222222222222222,\"#7201a8\"],[0.3333333333333333,\"#9c179e\"],[0.4444444444444444,\"#bd3786\"],[0.5555555555555556,\"#d8576b\"],[0.6666666666666666,\"#ed7953\"],[0.7777777777777778,\"#fb9f3a\"],[0.8888888888888888,\"#fdca26\"],[1.0,\"#f0f921\"]],\"type\":\"histogram2d\"}],\"histogram2dcontour\":[{\"colorbar\":{\"outlinewidth\":0,\"ticks\":\"\"},\"colorscale\":[[0.0,\"#0d0887\"],[0.1111111111111111,\"#46039f\"],[0.2222222222222222,\"#7201a8\"],[0.3333333333333333,\"#9c179e\"],[0.4444444444444444,\"#bd3786\"],[0.5555555555555556,\"#d8576b\"],[0.6666666666666666,\"#ed7953\"],[0.7777777777777778,\"#fb9f3a\"],[0.8888888888888888,\"#fdca26\"],[1.0,\"#f0f921\"]],\"type\":\"histogram2dcontour\"}],\"mesh3d\":[{\"colorbar\":{\"outlinewidth\":0,\"ticks\":\"\"},\"type\":\"mesh3d\"}],\"parcoords\":[{\"line\":{\"colorbar\":{\"outlinewidth\":0,\"ticks\":\"\"}},\"type\":\"parcoords\"}],\"pie\":[{\"automargin\":true,\"type\":\"pie\"}],\"scatter\":[{\"marker\":{\"colorbar\":{\"outlinewidth\":0,\"ticks\":\"\"}},\"type\":\"scatter\"}],\"scatter3d\":[{\"line\":{\"colorbar\":{\"outlinewidth\":0,\"ticks\":\"\"}},\"marker\":{\"colorbar\":{\"outlinewidth\":0,\"ticks\":\"\"}},\"type\":\"scatter3d\"}],\"scattercarpet\":[{\"marker\":{\"colorbar\":{\"outlinewidth\":0,\"ticks\":\"\"}},\"type\":\"scattercarpet\"}],\"scattergeo\":[{\"marker\":{\"colorbar\":{\"outlinewidth\":0,\"ticks\":\"\"}},\"type\":\"scattergeo\"}],\"scattergl\":[{\"marker\":{\"colorbar\":{\"outlinewidth\":0,\"ticks\":\"\"}},\"type\":\"scattergl\"}],\"scattermapbox\":[{\"marker\":{\"colorbar\":{\"outlinewidth\":0,\"ticks\":\"\"}},\"type\":\"scattermapbox\"}],\"scatterpolar\":[{\"marker\":{\"colorbar\":{\"outlinewidth\":0,\"ticks\":\"\"}},\"type\":\"scatterpolar\"}],\"scatterpolargl\":[{\"marker\":{\"colorbar\":{\"outlinewidth\":0,\"ticks\":\"\"}},\"type\":\"scatterpolargl\"}],\"scatterternary\":[{\"marker\":{\"colorbar\":{\"outlinewidth\":0,\"ticks\":\"\"}},\"type\":\"scatterternary\"}],\"surface\":[{\"colorbar\":{\"outlinewidth\":0,\"ticks\":\"\"},\"colorscale\":[[0.0,\"#0d0887\"],[0.1111111111111111,\"#46039f\"],[0.2222222222222222,\"#7201a8\"],[0.3333333333333333,\"#9c179e\"],[0.4444444444444444,\"#bd3786\"],[0.5555555555555556,\"#d8576b\"],[0.6666666666666666,\"#ed7953\"],[0.7777777777777778,\"#fb9f3a\"],[0.8888888888888888,\"#fdca26\"],[1.0,\"#f0f921\"]],\"type\":\"surface\"}],\"table\":[{\"cells\":{\"fill\":{\"color\":\"#EBF0F8\"},\"line\":{\"color\":\"white\"}},\"header\":{\"fill\":{\"color\":\"#C8D4E3\"},\"line\":{\"color\":\"white\"}},\"type\":\"table\"}]},\"layout\":{\"annotationdefaults\":{\"arrowcolor\":\"#2a3f5f\",\"arrowhead\":0,\"arrowwidth\":1},\"autotypenumbers\":\"strict\",\"coloraxis\":{\"colorbar\":{\"outlinewidth\":0,\"ticks\":\"\"}},\"colorscale\":{\"diverging\":[[0,\"#8e0152\"],[0.1,\"#c51b7d\"],[0.2,\"#de77ae\"],[0.3,\"#f1b6da\"],[0.4,\"#fde0ef\"],[0.5,\"#f7f7f7\"],[0.6,\"#e6f5d0\"],[0.7,\"#b8e186\"],[0.8,\"#7fbc41\"],[0.9,\"#4d9221\"],[1,\"#276419\"]],\"sequential\":[[0.0,\"#0d0887\"],[0.1111111111111111,\"#46039f\"],[0.2222222222222222,\"#7201a8\"],[0.3333333333333333,\"#9c179e\"],[0.4444444444444444,\"#bd3786\"],[0.5555555555555556,\"#d8576b\"],[0.6666666666666666,\"#ed7953\"],[0.7777777777777778,\"#fb9f3a\"],[0.8888888888888888,\"#fdca26\"],[1.0,\"#f0f921\"]],\"sequentialminus\":[[0.0,\"#0d0887\"],[0.1111111111111111,\"#46039f\"],[0.2222222222222222,\"#7201a8\"],[0.3333333333333333,\"#9c179e\"],[0.4444444444444444,\"#bd3786\"],[0.5555555555555556,\"#d8576b\"],[0.6666666666666666,\"#ed7953\"],[0.7777777777777778,\"#fb9f3a\"],[0.8888888888888888,\"#fdca26\"],[1.0,\"#f0f921\"]]},\"colorway\":[\"#636efa\",\"#EF553B\",\"#00cc96\",\"#ab63fa\",\"#FFA15A\",\"#19d3f3\",\"#FF6692\",\"#B6E880\",\"#FF97FF\",\"#FECB52\"],\"font\":{\"color\":\"#2a3f5f\"},\"geo\":{\"bgcolor\":\"white\",\"lakecolor\":\"white\",\"landcolor\":\"#E5ECF6\",\"showlakes\":true,\"showland\":true,\"subunitcolor\":\"white\"},\"hoverlabel\":{\"align\":\"left\"},\"hovermode\":\"closest\",\"mapbox\":{\"style\":\"light\"},\"paper_bgcolor\":\"white\",\"plot_bgcolor\":\"#E5ECF6\",\"polar\":{\"angularaxis\":{\"gridcolor\":\"white\",\"linecolor\":\"white\",\"ticks\":\"\"},\"bgcolor\":\"#E5ECF6\",\"radialaxis\":{\"gridcolor\":\"white\",\"linecolor\":\"white\",\"ticks\":\"\"}},\"scene\":{\"xaxis\":{\"backgroundcolor\":\"#E5ECF6\",\"gridcolor\":\"white\",\"gridwidth\":2,\"linecolor\":\"white\",\"showbackground\":true,\"ticks\":\"\",\"zerolinecolor\":\"white\"},\"yaxis\":{\"backgroundcolor\":\"#E5ECF6\",\"gridcolor\":\"white\",\"gridwidth\":2,\"linecolor\":\"white\",\"showbackground\":true,\"ticks\":\"\",\"zerolinecolor\":\"white\"},\"zaxis\":{\"backgroundcolor\":\"#E5ECF6\",\"gridcolor\":\"white\",\"gridwidth\":2,\"linecolor\":\"white\",\"showbackground\":true,\"ticks\":\"\",\"zerolinecolor\":\"white\"}},\"shapedefaults\":{\"line\":{\"color\":\"#2a3f5f\"}},\"ternary\":{\"aaxis\":{\"gridcolor\":\"white\",\"linecolor\":\"white\",\"ticks\":\"\"},\"baxis\":{\"gridcolor\":\"white\",\"linecolor\":\"white\",\"ticks\":\"\"},\"bgcolor\":\"#E5ECF6\",\"caxis\":{\"gridcolor\":\"white\",\"linecolor\":\"white\",\"ticks\":\"\"}},\"title\":{\"x\":0.05},\"xaxis\":{\"automargin\":true,\"gridcolor\":\"white\",\"linecolor\":\"white\",\"ticks\":\"\",\"title\":{\"standoff\":15},\"zerolinecolor\":\"white\",\"zerolinewidth\":2},\"yaxis\":{\"automargin\":true,\"gridcolor\":\"white\",\"linecolor\":\"white\",\"ticks\":\"\",\"title\":{\"standoff\":15},\"zerolinecolor\":\"white\",\"zerolinewidth\":2}}},\"coloraxis\":{\"colorbar\":{\"title\":{\"text\":\"mean_test_accuracy\"}},\"colorscale\":[[0.0,\"#0d0887\"],[0.1111111111111111,\"#46039f\"],[0.2222222222222222,\"#7201a8\"],[0.3333333333333333,\"#9c179e\"],[0.4444444444444444,\"#bd3786\"],[0.5555555555555556,\"#d8576b\"],[0.6666666666666666,\"#ed7953\"],[0.7777777777777778,\"#fb9f3a\"],[0.8888888888888888,\"#fdca26\"],[1.0,\"#f0f921\"]]},\"legend\":{\"tracegroupgap\":0},\"margin\":{\"t\":60}},                        {\"responsive\": true}                    ).then(function(){\n",
              "                            \n",
              "var gd = document.getElementById('732f2144-be87-48a1-85c5-657dcecaf126');\n",
              "var x = new MutationObserver(function (mutations, observer) {{\n",
              "        var display = window.getComputedStyle(gd).display;\n",
              "        if (!display || display === 'none') {{\n",
              "            console.log([gd, 'removed!']);\n",
              "            Plotly.purge(gd);\n",
              "            observer.disconnect();\n",
              "        }}\n",
              "}});\n",
              "\n",
              "// Listen for the removal of the full notebook cells\n",
              "var notebookContainer = gd.closest('#notebook-container');\n",
              "if (notebookContainer) {{\n",
              "    x.observe(notebookContainer, {childList: true});\n",
              "}}\n",
              "\n",
              "// Listen for the clearing of the current output cell\n",
              "var outputEl = gd.closest('.output');\n",
              "if (outputEl) {{\n",
              "    x.observe(outputEl, {childList: true});\n",
              "}}\n",
              "\n",
              "                        })                };                            </script>        </div>\n",
              "</body>\n",
              "</html>"
            ]
          },
          "metadata": {}
        }
      ]
    },
    {
      "cell_type": "markdown",
      "source": [
        "### > XGBoost"
      ],
      "metadata": {
        "id": "NGiWtM5NKhA-"
      }
    },
    {
      "cell_type": "code",
      "source": [
        "from tune_sklearn import TuneSearchCV\n",
        "from xgboost import XGBClassifier\n",
        "\n",
        "# Search space를 정의한다\n",
        "parameters = {\n",
        "    'n_estimators': [500, 1000],\n",
        "    'learning_rate': [0.001, 0.01, 0.1],\n",
        "    'min_child_weight': [1, 5, 10],\n",
        "    'gamma': [0.5, 2],\n",
        "    'subsample': [0.6, 1.0],\n",
        "    'colsample_bytree': [0.6, 1.0],\n",
        "    'max_depth': [10, 15, 20],\n",
        "    'objective': ['binary:logistic'],\n",
        "    'random_state': [config['random_state']]\n",
        "}\n",
        "\n",
        "# 하이퍼 파라미터 튜닝 알고리즘을 정의한다\n",
        "tune_search = TuneSearchCV(\n",
        "    XGBClassifier(),\n",
        "    parameters,\n",
        "    search_optimization='hyperopt',\n",
        "    n_trials=10,\n",
        "    n_jobs=-1,\n",
        "    scoring=['neg_log_loss', 'accuracy'],\n",
        "    cv=5,\n",
        "    refit='accuracy',\n",
        "    verbose=1,\n",
        "    random_state=config['random_state']\n",
        "    )\n",
        "\n",
        "# 하이퍼 파라미터 튜닝을 진행한다\n",
        "X = X_train \n",
        "y = y_train\n",
        "tune_search.fit(X, y)\n",
        "\n",
        "# 튜닝 결과를 저장한다 \n",
        "model_name = 'xgb'\n",
        "\n",
        "## 최적 하이퍼 파라미터\n",
        "best_cv_df.loc[best_cv_df['model']==model_name, 'best_hyper_param'] = str(tune_search.best_params_)\n",
        "\n",
        "## CV 결과 값\n",
        "cv_df = pd.DataFrame(tune_search.cv_results_)\n",
        "cv_values = cv_df.loc[tune_search.best_index_, cv_df.columns.str.startswith('split')].values\n",
        "best_cv_df.loc[best_cv_df['model']==model_name, 'log_loss'] = cv_values[:5]\n",
        "best_cv_df.loc[best_cv_df['model']==model_name, 'accuracy'] = cv_values[5:10]\n",
        "\n",
        "# 튜닝 결과를 parallel coordinate plot으로 시각화한다\n",
        "tune_result_df = pd.concat([pd.DataFrame(tune_search.cv_results_['params']), cv_df.loc[:,cv_df.columns.str.startswith('mean')] ], axis=1)\n",
        "import plotly.express as px\n",
        "fig = px.parallel_coordinates(tune_result_df, color='mean_test_accuracy')\n",
        "fig.show()"
      ],
      "metadata": {
        "colab": {
          "base_uri": "https://localhost:8080/",
          "height": 681
        },
        "id": "YtJ5wlpu9j21",
        "outputId": "a90905d9-314f-4a34-858f-f0713c050964"
      },
      "execution_count": null,
      "outputs": [
        {
          "output_type": "display_data",
          "data": {
            "text/html": [
              "== Status ==<br>Current time: 2022-02-22 02:24:02 (running for 00:00:49.89)<br>Memory usage on this node: 2.4/12.7 GiB<br>Using FIFO scheduling algorithm.<br>Resources requested: 0/2 CPUs, 0/0 GPUs, 0.0/6.45 GiB heap, 0.0/3.22 GiB objects<br>Result logdir: /root/ray_results/_Trainable_2022-02-22_02-23-12<br>Number of trials: 15/15 (15 TERMINATED)<br><br>"
            ],
            "text/plain": [
              "<IPython.core.display.HTML object>"
            ]
          },
          "metadata": {}
        },
        {
          "output_type": "display_data",
          "data": {
            "text/html": [
              "<html>\n",
              "<head><meta charset=\"utf-8\" /></head>\n",
              "<body>\n",
              "    <div>            <script src=\"https://cdnjs.cloudflare.com/ajax/libs/mathjax/2.7.5/MathJax.js?config=TeX-AMS-MML_SVG\"></script><script type=\"text/javascript\">if (window.MathJax) {MathJax.Hub.Config({SVG: {font: \"STIX-Web\"}});}</script>                <script type=\"text/javascript\">window.PlotlyConfig = {MathJaxConfig: 'local'};</script>\n",
              "        <script src=\"https://cdn.plot.ly/plotly-2.8.3.min.js\"></script>                <div id=\"371e33bd-f082-4d58-8686-8ba051b0e0d4\" class=\"plotly-graph-div\" style=\"height:525px; width:100%;\"></div>            <script type=\"text/javascript\">                                    window.PLOTLYENV=window.PLOTLYENV || {};                                    if (document.getElementById(\"371e33bd-f082-4d58-8686-8ba051b0e0d4\")) {                    Plotly.newPlot(                        \"371e33bd-f082-4d58-8686-8ba051b0e0d4\",                        [{\"dimensions\":[{\"label\":\"colsample_bytree\",\"values\":[0.6,0.6,0.6,0.6,0.6,0.6,1.0,1.0,0.6,1.0,0.6,0.6,1.0,0.6,1.0]},{\"label\":\"gamma\",\"values\":[2.0,0.5,2.0,2.0,0.5,2.0,2.0,2.0,0.5,0.5,0.5,0.5,2.0,0.5,0.5]},{\"label\":\"learning_rate\",\"values\":[0.1,0.001,0.1,0.001,0.1,0.1,0.1,0.1,0.001,0.01,0.1,0.1,0.01,0.01,0.01]},{\"label\":\"max_depth\",\"values\":[15,20,10,15,15,10,20,15,20,20,10,10,20,15,20]},{\"label\":\"min_child_weight\",\"values\":[10,5,1,5,10,1,5,5,10,10,10,1,5,10,1]},{\"label\":\"n_estimators\",\"values\":[1000,1000,1000,1000,1000,500,1000,500,500,1000,1000,500,500,500,500]},{\"label\":\"random_state\",\"values\":[2022,2022,2022,2022,2022,2022,2022,2022,2022,2022,2022,2022,2022,2022,2022]},{\"label\":\"subsample\",\"values\":[1.0,1.0,0.6,0.6,1.0,0.6,0.6,1.0,1.0,0.6,1.0,1.0,1.0,0.6,0.6]},{\"label\":\"mean_test_neg_log_loss\",\"values\":[-0.4166145746358401,-0.4775267900687311,-0.424599459601986,-0.4861202725907831,-0.41162309053884893,-0.41812797346660435,-0.40806980561155626,-0.4110984596170498,-0.5509708071327817,-0.4185916238855569,-0.41162309053884893,-0.4633053007756557,-0.4133758556279439,-0.42973980143849594,-0.4132364000269714]},{\"label\":\"mean_test_accuracy\",\"values\":[0.822666499278137,0.8260247316552632,0.8440148138848785,0.8181721172556651,0.8339087314041805,0.8428849413093967,0.8440085368150146,0.8260435628648548,0.8103446111355218,0.821542903772519,0.8339087314041805,0.8305442219571905,0.8226853304877283,0.8181721172556651,0.8395141547925429]}],\"domain\":{\"x\":[0.0,1.0],\"y\":[0.0,1.0]},\"line\":{\"color\":[0.822666499278137,0.8260247316552632,0.8440148138848785,0.8181721172556651,0.8339087314041805,0.8428849413093967,0.8440085368150146,0.8260435628648548,0.8103446111355218,0.821542903772519,0.8339087314041805,0.8305442219571905,0.8226853304877283,0.8181721172556651,0.8395141547925429],\"coloraxis\":\"coloraxis\"},\"name\":\"\",\"type\":\"parcoords\"}],                        {\"template\":{\"data\":{\"bar\":[{\"error_x\":{\"color\":\"#2a3f5f\"},\"error_y\":{\"color\":\"#2a3f5f\"},\"marker\":{\"line\":{\"color\":\"#E5ECF6\",\"width\":0.5},\"pattern\":{\"fillmode\":\"overlay\",\"size\":10,\"solidity\":0.2}},\"type\":\"bar\"}],\"barpolar\":[{\"marker\":{\"line\":{\"color\":\"#E5ECF6\",\"width\":0.5},\"pattern\":{\"fillmode\":\"overlay\",\"size\":10,\"solidity\":0.2}},\"type\":\"barpolar\"}],\"carpet\":[{\"aaxis\":{\"endlinecolor\":\"#2a3f5f\",\"gridcolor\":\"white\",\"linecolor\":\"white\",\"minorgridcolor\":\"white\",\"startlinecolor\":\"#2a3f5f\"},\"baxis\":{\"endlinecolor\":\"#2a3f5f\",\"gridcolor\":\"white\",\"linecolor\":\"white\",\"minorgridcolor\":\"white\",\"startlinecolor\":\"#2a3f5f\"},\"type\":\"carpet\"}],\"choropleth\":[{\"colorbar\":{\"outlinewidth\":0,\"ticks\":\"\"},\"type\":\"choropleth\"}],\"contour\":[{\"colorbar\":{\"outlinewidth\":0,\"ticks\":\"\"},\"colorscale\":[[0.0,\"#0d0887\"],[0.1111111111111111,\"#46039f\"],[0.2222222222222222,\"#7201a8\"],[0.3333333333333333,\"#9c179e\"],[0.4444444444444444,\"#bd3786\"],[0.5555555555555556,\"#d8576b\"],[0.6666666666666666,\"#ed7953\"],[0.7777777777777778,\"#fb9f3a\"],[0.8888888888888888,\"#fdca26\"],[1.0,\"#f0f921\"]],\"type\":\"contour\"}],\"contourcarpet\":[{\"colorbar\":{\"outlinewidth\":0,\"ticks\":\"\"},\"type\":\"contourcarpet\"}],\"heatmap\":[{\"colorbar\":{\"outlinewidth\":0,\"ticks\":\"\"},\"colorscale\":[[0.0,\"#0d0887\"],[0.1111111111111111,\"#46039f\"],[0.2222222222222222,\"#7201a8\"],[0.3333333333333333,\"#9c179e\"],[0.4444444444444444,\"#bd3786\"],[0.5555555555555556,\"#d8576b\"],[0.6666666666666666,\"#ed7953\"],[0.7777777777777778,\"#fb9f3a\"],[0.8888888888888888,\"#fdca26\"],[1.0,\"#f0f921\"]],\"type\":\"heatmap\"}],\"heatmapgl\":[{\"colorbar\":{\"outlinewidth\":0,\"ticks\":\"\"},\"colorscale\":[[0.0,\"#0d0887\"],[0.1111111111111111,\"#46039f\"],[0.2222222222222222,\"#7201a8\"],[0.3333333333333333,\"#9c179e\"],[0.4444444444444444,\"#bd3786\"],[0.5555555555555556,\"#d8576b\"],[0.6666666666666666,\"#ed7953\"],[0.7777777777777778,\"#fb9f3a\"],[0.8888888888888888,\"#fdca26\"],[1.0,\"#f0f921\"]],\"type\":\"heatmapgl\"}],\"histogram\":[{\"marker\":{\"pattern\":{\"fillmode\":\"overlay\",\"size\":10,\"solidity\":0.2}},\"type\":\"histogram\"}],\"histogram2d\":[{\"colorbar\":{\"outlinewidth\":0,\"ticks\":\"\"},\"colorscale\":[[0.0,\"#0d0887\"],[0.1111111111111111,\"#46039f\"],[0.2222222222222222,\"#7201a8\"],[0.3333333333333333,\"#9c179e\"],[0.4444444444444444,\"#bd3786\"],[0.5555555555555556,\"#d8576b\"],[0.6666666666666666,\"#ed7953\"],[0.7777777777777778,\"#fb9f3a\"],[0.8888888888888888,\"#fdca26\"],[1.0,\"#f0f921\"]],\"type\":\"histogram2d\"}],\"histogram2dcontour\":[{\"colorbar\":{\"outlinewidth\":0,\"ticks\":\"\"},\"colorscale\":[[0.0,\"#0d0887\"],[0.1111111111111111,\"#46039f\"],[0.2222222222222222,\"#7201a8\"],[0.3333333333333333,\"#9c179e\"],[0.4444444444444444,\"#bd3786\"],[0.5555555555555556,\"#d8576b\"],[0.6666666666666666,\"#ed7953\"],[0.7777777777777778,\"#fb9f3a\"],[0.8888888888888888,\"#fdca26\"],[1.0,\"#f0f921\"]],\"type\":\"histogram2dcontour\"}],\"mesh3d\":[{\"colorbar\":{\"outlinewidth\":0,\"ticks\":\"\"},\"type\":\"mesh3d\"}],\"parcoords\":[{\"line\":{\"colorbar\":{\"outlinewidth\":0,\"ticks\":\"\"}},\"type\":\"parcoords\"}],\"pie\":[{\"automargin\":true,\"type\":\"pie\"}],\"scatter\":[{\"marker\":{\"colorbar\":{\"outlinewidth\":0,\"ticks\":\"\"}},\"type\":\"scatter\"}],\"scatter3d\":[{\"line\":{\"colorbar\":{\"outlinewidth\":0,\"ticks\":\"\"}},\"marker\":{\"colorbar\":{\"outlinewidth\":0,\"ticks\":\"\"}},\"type\":\"scatter3d\"}],\"scattercarpet\":[{\"marker\":{\"colorbar\":{\"outlinewidth\":0,\"ticks\":\"\"}},\"type\":\"scattercarpet\"}],\"scattergeo\":[{\"marker\":{\"colorbar\":{\"outlinewidth\":0,\"ticks\":\"\"}},\"type\":\"scattergeo\"}],\"scattergl\":[{\"marker\":{\"colorbar\":{\"outlinewidth\":0,\"ticks\":\"\"}},\"type\":\"scattergl\"}],\"scattermapbox\":[{\"marker\":{\"colorbar\":{\"outlinewidth\":0,\"ticks\":\"\"}},\"type\":\"scattermapbox\"}],\"scatterpolar\":[{\"marker\":{\"colorbar\":{\"outlinewidth\":0,\"ticks\":\"\"}},\"type\":\"scatterpolar\"}],\"scatterpolargl\":[{\"marker\":{\"colorbar\":{\"outlinewidth\":0,\"ticks\":\"\"}},\"type\":\"scatterpolargl\"}],\"scatterternary\":[{\"marker\":{\"colorbar\":{\"outlinewidth\":0,\"ticks\":\"\"}},\"type\":\"scatterternary\"}],\"surface\":[{\"colorbar\":{\"outlinewidth\":0,\"ticks\":\"\"},\"colorscale\":[[0.0,\"#0d0887\"],[0.1111111111111111,\"#46039f\"],[0.2222222222222222,\"#7201a8\"],[0.3333333333333333,\"#9c179e\"],[0.4444444444444444,\"#bd3786\"],[0.5555555555555556,\"#d8576b\"],[0.6666666666666666,\"#ed7953\"],[0.7777777777777778,\"#fb9f3a\"],[0.8888888888888888,\"#fdca26\"],[1.0,\"#f0f921\"]],\"type\":\"surface\"}],\"table\":[{\"cells\":{\"fill\":{\"color\":\"#EBF0F8\"},\"line\":{\"color\":\"white\"}},\"header\":{\"fill\":{\"color\":\"#C8D4E3\"},\"line\":{\"color\":\"white\"}},\"type\":\"table\"}]},\"layout\":{\"annotationdefaults\":{\"arrowcolor\":\"#2a3f5f\",\"arrowhead\":0,\"arrowwidth\":1},\"autotypenumbers\":\"strict\",\"coloraxis\":{\"colorbar\":{\"outlinewidth\":0,\"ticks\":\"\"}},\"colorscale\":{\"diverging\":[[0,\"#8e0152\"],[0.1,\"#c51b7d\"],[0.2,\"#de77ae\"],[0.3,\"#f1b6da\"],[0.4,\"#fde0ef\"],[0.5,\"#f7f7f7\"],[0.6,\"#e6f5d0\"],[0.7,\"#b8e186\"],[0.8,\"#7fbc41\"],[0.9,\"#4d9221\"],[1,\"#276419\"]],\"sequential\":[[0.0,\"#0d0887\"],[0.1111111111111111,\"#46039f\"],[0.2222222222222222,\"#7201a8\"],[0.3333333333333333,\"#9c179e\"],[0.4444444444444444,\"#bd3786\"],[0.5555555555555556,\"#d8576b\"],[0.6666666666666666,\"#ed7953\"],[0.7777777777777778,\"#fb9f3a\"],[0.8888888888888888,\"#fdca26\"],[1.0,\"#f0f921\"]],\"sequentialminus\":[[0.0,\"#0d0887\"],[0.1111111111111111,\"#46039f\"],[0.2222222222222222,\"#7201a8\"],[0.3333333333333333,\"#9c179e\"],[0.4444444444444444,\"#bd3786\"],[0.5555555555555556,\"#d8576b\"],[0.6666666666666666,\"#ed7953\"],[0.7777777777777778,\"#fb9f3a\"],[0.8888888888888888,\"#fdca26\"],[1.0,\"#f0f921\"]]},\"colorway\":[\"#636efa\",\"#EF553B\",\"#00cc96\",\"#ab63fa\",\"#FFA15A\",\"#19d3f3\",\"#FF6692\",\"#B6E880\",\"#FF97FF\",\"#FECB52\"],\"font\":{\"color\":\"#2a3f5f\"},\"geo\":{\"bgcolor\":\"white\",\"lakecolor\":\"white\",\"landcolor\":\"#E5ECF6\",\"showlakes\":true,\"showland\":true,\"subunitcolor\":\"white\"},\"hoverlabel\":{\"align\":\"left\"},\"hovermode\":\"closest\",\"mapbox\":{\"style\":\"light\"},\"paper_bgcolor\":\"white\",\"plot_bgcolor\":\"#E5ECF6\",\"polar\":{\"angularaxis\":{\"gridcolor\":\"white\",\"linecolor\":\"white\",\"ticks\":\"\"},\"bgcolor\":\"#E5ECF6\",\"radialaxis\":{\"gridcolor\":\"white\",\"linecolor\":\"white\",\"ticks\":\"\"}},\"scene\":{\"xaxis\":{\"backgroundcolor\":\"#E5ECF6\",\"gridcolor\":\"white\",\"gridwidth\":2,\"linecolor\":\"white\",\"showbackground\":true,\"ticks\":\"\",\"zerolinecolor\":\"white\"},\"yaxis\":{\"backgroundcolor\":\"#E5ECF6\",\"gridcolor\":\"white\",\"gridwidth\":2,\"linecolor\":\"white\",\"showbackground\":true,\"ticks\":\"\",\"zerolinecolor\":\"white\"},\"zaxis\":{\"backgroundcolor\":\"#E5ECF6\",\"gridcolor\":\"white\",\"gridwidth\":2,\"linecolor\":\"white\",\"showbackground\":true,\"ticks\":\"\",\"zerolinecolor\":\"white\"}},\"shapedefaults\":{\"line\":{\"color\":\"#2a3f5f\"}},\"ternary\":{\"aaxis\":{\"gridcolor\":\"white\",\"linecolor\":\"white\",\"ticks\":\"\"},\"baxis\":{\"gridcolor\":\"white\",\"linecolor\":\"white\",\"ticks\":\"\"},\"bgcolor\":\"#E5ECF6\",\"caxis\":{\"gridcolor\":\"white\",\"linecolor\":\"white\",\"ticks\":\"\"}},\"title\":{\"x\":0.05},\"xaxis\":{\"automargin\":true,\"gridcolor\":\"white\",\"linecolor\":\"white\",\"ticks\":\"\",\"title\":{\"standoff\":15},\"zerolinecolor\":\"white\",\"zerolinewidth\":2},\"yaxis\":{\"automargin\":true,\"gridcolor\":\"white\",\"linecolor\":\"white\",\"ticks\":\"\",\"title\":{\"standoff\":15},\"zerolinecolor\":\"white\",\"zerolinewidth\":2}}},\"coloraxis\":{\"colorbar\":{\"title\":{\"text\":\"mean_test_accuracy\"}},\"colorscale\":[[0.0,\"#0d0887\"],[0.1111111111111111,\"#46039f\"],[0.2222222222222222,\"#7201a8\"],[0.3333333333333333,\"#9c179e\"],[0.4444444444444444,\"#bd3786\"],[0.5555555555555556,\"#d8576b\"],[0.6666666666666666,\"#ed7953\"],[0.7777777777777778,\"#fb9f3a\"],[0.8888888888888888,\"#fdca26\"],[1.0,\"#f0f921\"]]},\"legend\":{\"tracegroupgap\":0},\"margin\":{\"t\":60}},                        {\"responsive\": true}                    ).then(function(){\n",
              "                            \n",
              "var gd = document.getElementById('371e33bd-f082-4d58-8686-8ba051b0e0d4');\n",
              "var x = new MutationObserver(function (mutations, observer) {{\n",
              "        var display = window.getComputedStyle(gd).display;\n",
              "        if (!display || display === 'none') {{\n",
              "            console.log([gd, 'removed!']);\n",
              "            Plotly.purge(gd);\n",
              "            observer.disconnect();\n",
              "        }}\n",
              "}});\n",
              "\n",
              "// Listen for the removal of the full notebook cells\n",
              "var notebookContainer = gd.closest('#notebook-container');\n",
              "if (notebookContainer) {{\n",
              "    x.observe(notebookContainer, {childList: true});\n",
              "}}\n",
              "\n",
              "// Listen for the clearing of the current output cell\n",
              "var outputEl = gd.closest('.output');\n",
              "if (outputEl) {{\n",
              "    x.observe(outputEl, {childList: true});\n",
              "}}\n",
              "\n",
              "                        })                };                            </script>        </div>\n",
              "</body>\n",
              "</html>"
            ]
          },
          "metadata": {}
        }
      ]
    },
    {
      "cell_type": "markdown",
      "source": [
        "### > Multi-layer perceptron"
      ],
      "metadata": {
        "id": "eMEkfLDXKmtD"
      }
    },
    {
      "cell_type": "code",
      "source": [
        "import torch\n",
        "from torch import nn\n",
        "from skorch import NeuralNetClassifier\n",
        "from skorch.callbacks import EarlyStopping\n",
        "from skorch.callbacks import Checkpoint\n",
        "from tune_sklearn import TuneSearchCV\n",
        "\n",
        "# 모형 구조 정의\n",
        "class MLP(nn.Module):\n",
        "    def __init__(self, num_inputs=X_train.shape[1], num_outputs=len(np.unique(y_train)), layer1=512, layer2=256, dropout1=0, dropout2=0):\n",
        "        super(MLP, self).__init__()\n",
        "\n",
        "        self.linear_relu_stack = nn.Sequential(\n",
        "            nn.Linear(num_inputs, layer1),\n",
        "            nn.LeakyReLU(),\n",
        "            nn.Dropout(dropout1),\n",
        "            nn.Linear(layer1, layer2),\n",
        "            nn.LeakyReLU(),\n",
        "            nn.Dropout(dropout2),\n",
        "            nn.Linear(layer2, num_outputs)\n",
        "            )\n",
        "    def forward(self, x):\n",
        "        x = self.linear_relu_stack(x)\n",
        "        return x  \n",
        "\n",
        "def try_gpu(i=0): \n",
        "    return f'cuda:{i}' if torch.cuda.device_count() >= i + 1 else 'cpu'\n",
        "\n",
        "# 모형 세부사항 정의 \n",
        "mlp = NeuralNetClassifier(\n",
        "    MLP(num_inputs=X_train.shape[1], num_outputs=len(np.unique(y_train))),\n",
        "    optimizer=torch.optim.Adam,\n",
        "    criterion=nn.CrossEntropyLoss,\n",
        "    iterator_train__shuffle=True,\n",
        "    device=try_gpu(),\n",
        "    verbose=0,\n",
        "    callbacks=[EarlyStopping(monitor='valid_loss', patience=5,\n",
        "                             threshold=1e-4, lower_is_better=True),\n",
        "               Checkpoint(monitor='valid_loss_best')]\n",
        "                          )\n",
        "\n",
        "# Search space를 정의한다\n",
        "parameters = {\n",
        "    'lr': list(np.geomspace(1e-4, 1e-1, 4)),\n",
        "    'module__layer1': [128, 256, 512],\n",
        "    'module__layer2': [128, 256, 512],\n",
        "    'module__dropout1': [0, 0.1],\n",
        "    'module__dropout2': [0, 0.1],\n",
        "    'optimizer__weight_decay': list(np.geomspace(1e-5, 1e-1, 5)),\n",
        "    'max_epochs': [1000],\n",
        "    'batch_size': [32, 64, 128]\n",
        "    }\n",
        "\n",
        "def use_gpu(device):\n",
        "    return True if not device == 'cpu' else False \n",
        "\n",
        "# 하이퍼 파라미터 튜닝 알고리즘을 정의한다\n",
        "tune_search = TuneSearchCV(\n",
        "    mlp, \n",
        "    parameters, \n",
        "    search_optimization='hyperopt',\n",
        "    n_trials=15,\n",
        "    n_jobs=-1,\n",
        "    scoring=['neg_log_loss', 'accuracy'],\n",
        "    cv=5,\n",
        "    refit='accuracy',\n",
        "    mode='max',   \n",
        "    use_gpu = use_gpu(try_gpu()),\n",
        "    random_state=config['random_state'],\n",
        "    verbose=1,\n",
        "    )\n",
        "\n",
        "# 하이퍼 파라미터 튜닝을 진행한다\n",
        "X = X_train \n",
        "y = y_train\n",
        "tune_search.fit(X_train, y_train)\n",
        "\n",
        "# 결과 저장\n",
        "model_name = 'mlp'\n",
        "## 1. 최적 하이퍼 파라미터 저장\n",
        "best_cv_df.loc[best_cv_df['model']==model_name, 'best_hyper_param'] = str(tune_search.best_params_)\n",
        "## 2. 최적 하이퍼 파라미터의 CV 결과 저장\n",
        "cv_df = pd.DataFrame(tune_search.cv_results_)\n",
        "cv_values = cv_df.loc[tune_search.best_index_, cv_df.columns.str.startswith('split')].values\n",
        "best_cv_df.loc[best_cv_df['model']==model_name, 'log_loss'] = cv_values[:5]\n",
        "best_cv_df.loc[best_cv_df['model']==model_name, 'accuracy'] = cv_values[5:10]\n",
        "\n",
        "# 하이퍼 파라미터 튜닝 결과 parallel coordinate plot으로 시각화\n",
        "tune_result_df = pd.concat([pd.DataFrame(tune_search.cv_results_['params']), cv_df.loc[:,cv_df.columns.str.startswith('mean')] ], axis=1)\n",
        "tune_result_df.rename({\n",
        "    'callbacks__EarlyStopping__threshold':'Earlystoping_threshold',\n",
        "    'optimizer__weight_decay': 'weight_decay'\n",
        "    }, axis=1, inplace=True)\n",
        "import plotly.express as px\n",
        "fig = px.parallel_coordinates(tune_result_df, color='mean_test_accuracy')\n",
        "fig.show()"
      ],
      "metadata": {
        "colab": {
          "base_uri": "https://localhost:8080/",
          "height": 681
        },
        "id": "4cW_KWDAdkDy",
        "outputId": "1e68696b-6a36-472d-f5e7-8bb5603eaf31"
      },
      "execution_count": null,
      "outputs": [
        {
          "output_type": "display_data",
          "data": {
            "text/html": [
              "== Status ==<br>Current time: 2022-02-22 02:22:10 (running for 00:01:21.63)<br>Memory usage on this node: 2.6/12.7 GiB<br>Using FIFO scheduling algorithm.<br>Resources requested: 0/2 CPUs, 0/0 GPUs, 0.0/6.42 GiB heap, 0.0/3.21 GiB objects<br>Result logdir: /root/ray_results/_Trainable_2022-02-22_02-20-48<br>Number of trials: 15/15 (15 TERMINATED)<br><br>"
            ],
            "text/plain": [
              "<IPython.core.display.HTML object>"
            ]
          },
          "metadata": {}
        },
        {
          "output_type": "display_data",
          "data": {
            "text/html": [
              "<html>\n",
              "<head><meta charset=\"utf-8\" /></head>\n",
              "<body>\n",
              "    <div>            <script src=\"https://cdnjs.cloudflare.com/ajax/libs/mathjax/2.7.5/MathJax.js?config=TeX-AMS-MML_SVG\"></script><script type=\"text/javascript\">if (window.MathJax) {MathJax.Hub.Config({SVG: {font: \"STIX-Web\"}});}</script>                <script type=\"text/javascript\">window.PlotlyConfig = {MathJaxConfig: 'local'};</script>\n",
              "        <script src=\"https://cdn.plot.ly/plotly-2.8.3.min.js\"></script>                <div id=\"ddeeea98-4412-4197-82c2-d725285c3a37\" class=\"plotly-graph-div\" style=\"height:525px; width:100%;\"></div>            <script type=\"text/javascript\">                                    window.PLOTLYENV=window.PLOTLYENV || {};                                    if (document.getElementById(\"ddeeea98-4412-4197-82c2-d725285c3a37\")) {                    Plotly.newPlot(                        \"ddeeea98-4412-4197-82c2-d725285c3a37\",                        [{\"dimensions\":[{\"label\":\"batch_size\",\"values\":[32,64,64,32,64,32,32,64,128,128,128,32,32,32,128]},{\"label\":\"lr\",\"values\":[0.0001,0.1,0.01,0.001,0.01,0.1,0.1,0.1,0.0001,0.001,0.0001,0.01,0.001,0.01,0.001]},{\"label\":\"max_epochs\",\"values\":[1000,1000,1000,1000,1000,1000,1000,1000,1000,1000,1000,1000,1000,1000,1000]},{\"label\":\"module__dropout1\",\"values\":[0.1,0.0,0.1,0.0,0.0,0.0,0.1,0.0,0.0,0.0,0.0,0.0,0.1,0.0,0.0]},{\"label\":\"module__dropout2\",\"values\":[0.0,0.0,0.0,0.1,0.0,0.0,0.0,0.1,0.0,0.1,0.1,0.0,0.0,0.1,0.1]},{\"label\":\"module__layer1\",\"values\":[256,128,128,256,128,128,512,256,512,512,128,128,256,256,128]},{\"label\":\"module__layer2\",\"values\":[512,512,128,256,512,128,256,512,512,256,512,512,512,512,128]},{\"label\":\"weight_decay\",\"values\":[0.0001,0.01,1e-05,0.001,0.0001,0.001,0.01,0.0001,0.001,0.001,0.01,0.0001,0.0001,0.001,1e-05]},{\"label\":\"mean_test_neg_log_loss\",\"values\":[-0.41599584966326225,-0.470124121625347,-0.4494899373880579,-0.4323305313694405,-0.4628809643163409,-0.4467943475098898,-0.483326747236987,null,-0.42136608817225324,-0.41708897907570053,-0.4337622323242102,-0.4419183538599549,-0.4458955951548339,-0.4425586650911971,-0.42133038389447924]},{\"label\":\"mean_test_accuracy\",\"values\":[0.8260749482141737,0.8002134203753688,0.8260435628648548,0.8227041616973196,0.8294206264515726,0.8282656455966355,0.8092524009792228,0.8215554579122465,0.8204318624066286,0.8305504990270542,0.8125729709371665,0.8260498399347185,0.8058690603226413,0.8070240411775783,0.8271859895800642]}],\"domain\":{\"x\":[0.0,1.0],\"y\":[0.0,1.0]},\"line\":{\"color\":[0.8260749482141737,0.8002134203753688,0.8260435628648548,0.8227041616973196,0.8294206264515726,0.8282656455966355,0.8092524009792228,0.8215554579122465,0.8204318624066286,0.8305504990270542,0.8125729709371665,0.8260498399347185,0.8058690603226413,0.8070240411775783,0.8271859895800642],\"coloraxis\":\"coloraxis\"},\"name\":\"\",\"type\":\"parcoords\"}],                        {\"template\":{\"data\":{\"bar\":[{\"error_x\":{\"color\":\"#2a3f5f\"},\"error_y\":{\"color\":\"#2a3f5f\"},\"marker\":{\"line\":{\"color\":\"#E5ECF6\",\"width\":0.5},\"pattern\":{\"fillmode\":\"overlay\",\"size\":10,\"solidity\":0.2}},\"type\":\"bar\"}],\"barpolar\":[{\"marker\":{\"line\":{\"color\":\"#E5ECF6\",\"width\":0.5},\"pattern\":{\"fillmode\":\"overlay\",\"size\":10,\"solidity\":0.2}},\"type\":\"barpolar\"}],\"carpet\":[{\"aaxis\":{\"endlinecolor\":\"#2a3f5f\",\"gridcolor\":\"white\",\"linecolor\":\"white\",\"minorgridcolor\":\"white\",\"startlinecolor\":\"#2a3f5f\"},\"baxis\":{\"endlinecolor\":\"#2a3f5f\",\"gridcolor\":\"white\",\"linecolor\":\"white\",\"minorgridcolor\":\"white\",\"startlinecolor\":\"#2a3f5f\"},\"type\":\"carpet\"}],\"choropleth\":[{\"colorbar\":{\"outlinewidth\":0,\"ticks\":\"\"},\"type\":\"choropleth\"}],\"contour\":[{\"colorbar\":{\"outlinewidth\":0,\"ticks\":\"\"},\"colorscale\":[[0.0,\"#0d0887\"],[0.1111111111111111,\"#46039f\"],[0.2222222222222222,\"#7201a8\"],[0.3333333333333333,\"#9c179e\"],[0.4444444444444444,\"#bd3786\"],[0.5555555555555556,\"#d8576b\"],[0.6666666666666666,\"#ed7953\"],[0.7777777777777778,\"#fb9f3a\"],[0.8888888888888888,\"#fdca26\"],[1.0,\"#f0f921\"]],\"type\":\"contour\"}],\"contourcarpet\":[{\"colorbar\":{\"outlinewidth\":0,\"ticks\":\"\"},\"type\":\"contourcarpet\"}],\"heatmap\":[{\"colorbar\":{\"outlinewidth\":0,\"ticks\":\"\"},\"colorscale\":[[0.0,\"#0d0887\"],[0.1111111111111111,\"#46039f\"],[0.2222222222222222,\"#7201a8\"],[0.3333333333333333,\"#9c179e\"],[0.4444444444444444,\"#bd3786\"],[0.5555555555555556,\"#d8576b\"],[0.6666666666666666,\"#ed7953\"],[0.7777777777777778,\"#fb9f3a\"],[0.8888888888888888,\"#fdca26\"],[1.0,\"#f0f921\"]],\"type\":\"heatmap\"}],\"heatmapgl\":[{\"colorbar\":{\"outlinewidth\":0,\"ticks\":\"\"},\"colorscale\":[[0.0,\"#0d0887\"],[0.1111111111111111,\"#46039f\"],[0.2222222222222222,\"#7201a8\"],[0.3333333333333333,\"#9c179e\"],[0.4444444444444444,\"#bd3786\"],[0.5555555555555556,\"#d8576b\"],[0.6666666666666666,\"#ed7953\"],[0.7777777777777778,\"#fb9f3a\"],[0.8888888888888888,\"#fdca26\"],[1.0,\"#f0f921\"]],\"type\":\"heatmapgl\"}],\"histogram\":[{\"marker\":{\"pattern\":{\"fillmode\":\"overlay\",\"size\":10,\"solidity\":0.2}},\"type\":\"histogram\"}],\"histogram2d\":[{\"colorbar\":{\"outlinewidth\":0,\"ticks\":\"\"},\"colorscale\":[[0.0,\"#0d0887\"],[0.1111111111111111,\"#46039f\"],[0.2222222222222222,\"#7201a8\"],[0.3333333333333333,\"#9c179e\"],[0.4444444444444444,\"#bd3786\"],[0.5555555555555556,\"#d8576b\"],[0.6666666666666666,\"#ed7953\"],[0.7777777777777778,\"#fb9f3a\"],[0.8888888888888888,\"#fdca26\"],[1.0,\"#f0f921\"]],\"type\":\"histogram2d\"}],\"histogram2dcontour\":[{\"colorbar\":{\"outlinewidth\":0,\"ticks\":\"\"},\"colorscale\":[[0.0,\"#0d0887\"],[0.1111111111111111,\"#46039f\"],[0.2222222222222222,\"#7201a8\"],[0.3333333333333333,\"#9c179e\"],[0.4444444444444444,\"#bd3786\"],[0.5555555555555556,\"#d8576b\"],[0.6666666666666666,\"#ed7953\"],[0.7777777777777778,\"#fb9f3a\"],[0.8888888888888888,\"#fdca26\"],[1.0,\"#f0f921\"]],\"type\":\"histogram2dcontour\"}],\"mesh3d\":[{\"colorbar\":{\"outlinewidth\":0,\"ticks\":\"\"},\"type\":\"mesh3d\"}],\"parcoords\":[{\"line\":{\"colorbar\":{\"outlinewidth\":0,\"ticks\":\"\"}},\"type\":\"parcoords\"}],\"pie\":[{\"automargin\":true,\"type\":\"pie\"}],\"scatter\":[{\"marker\":{\"colorbar\":{\"outlinewidth\":0,\"ticks\":\"\"}},\"type\":\"scatter\"}],\"scatter3d\":[{\"line\":{\"colorbar\":{\"outlinewidth\":0,\"ticks\":\"\"}},\"marker\":{\"colorbar\":{\"outlinewidth\":0,\"ticks\":\"\"}},\"type\":\"scatter3d\"}],\"scattercarpet\":[{\"marker\":{\"colorbar\":{\"outlinewidth\":0,\"ticks\":\"\"}},\"type\":\"scattercarpet\"}],\"scattergeo\":[{\"marker\":{\"colorbar\":{\"outlinewidth\":0,\"ticks\":\"\"}},\"type\":\"scattergeo\"}],\"scattergl\":[{\"marker\":{\"colorbar\":{\"outlinewidth\":0,\"ticks\":\"\"}},\"type\":\"scattergl\"}],\"scattermapbox\":[{\"marker\":{\"colorbar\":{\"outlinewidth\":0,\"ticks\":\"\"}},\"type\":\"scattermapbox\"}],\"scatterpolar\":[{\"marker\":{\"colorbar\":{\"outlinewidth\":0,\"ticks\":\"\"}},\"type\":\"scatterpolar\"}],\"scatterpolargl\":[{\"marker\":{\"colorbar\":{\"outlinewidth\":0,\"ticks\":\"\"}},\"type\":\"scatterpolargl\"}],\"scatterternary\":[{\"marker\":{\"colorbar\":{\"outlinewidth\":0,\"ticks\":\"\"}},\"type\":\"scatterternary\"}],\"surface\":[{\"colorbar\":{\"outlinewidth\":0,\"ticks\":\"\"},\"colorscale\":[[0.0,\"#0d0887\"],[0.1111111111111111,\"#46039f\"],[0.2222222222222222,\"#7201a8\"],[0.3333333333333333,\"#9c179e\"],[0.4444444444444444,\"#bd3786\"],[0.5555555555555556,\"#d8576b\"],[0.6666666666666666,\"#ed7953\"],[0.7777777777777778,\"#fb9f3a\"],[0.8888888888888888,\"#fdca26\"],[1.0,\"#f0f921\"]],\"type\":\"surface\"}],\"table\":[{\"cells\":{\"fill\":{\"color\":\"#EBF0F8\"},\"line\":{\"color\":\"white\"}},\"header\":{\"fill\":{\"color\":\"#C8D4E3\"},\"line\":{\"color\":\"white\"}},\"type\":\"table\"}]},\"layout\":{\"annotationdefaults\":{\"arrowcolor\":\"#2a3f5f\",\"arrowhead\":0,\"arrowwidth\":1},\"autotypenumbers\":\"strict\",\"coloraxis\":{\"colorbar\":{\"outlinewidth\":0,\"ticks\":\"\"}},\"colorscale\":{\"diverging\":[[0,\"#8e0152\"],[0.1,\"#c51b7d\"],[0.2,\"#de77ae\"],[0.3,\"#f1b6da\"],[0.4,\"#fde0ef\"],[0.5,\"#f7f7f7\"],[0.6,\"#e6f5d0\"],[0.7,\"#b8e186\"],[0.8,\"#7fbc41\"],[0.9,\"#4d9221\"],[1,\"#276419\"]],\"sequential\":[[0.0,\"#0d0887\"],[0.1111111111111111,\"#46039f\"],[0.2222222222222222,\"#7201a8\"],[0.3333333333333333,\"#9c179e\"],[0.4444444444444444,\"#bd3786\"],[0.5555555555555556,\"#d8576b\"],[0.6666666666666666,\"#ed7953\"],[0.7777777777777778,\"#fb9f3a\"],[0.8888888888888888,\"#fdca26\"],[1.0,\"#f0f921\"]],\"sequentialminus\":[[0.0,\"#0d0887\"],[0.1111111111111111,\"#46039f\"],[0.2222222222222222,\"#7201a8\"],[0.3333333333333333,\"#9c179e\"],[0.4444444444444444,\"#bd3786\"],[0.5555555555555556,\"#d8576b\"],[0.6666666666666666,\"#ed7953\"],[0.7777777777777778,\"#fb9f3a\"],[0.8888888888888888,\"#fdca26\"],[1.0,\"#f0f921\"]]},\"colorway\":[\"#636efa\",\"#EF553B\",\"#00cc96\",\"#ab63fa\",\"#FFA15A\",\"#19d3f3\",\"#FF6692\",\"#B6E880\",\"#FF97FF\",\"#FECB52\"],\"font\":{\"color\":\"#2a3f5f\"},\"geo\":{\"bgcolor\":\"white\",\"lakecolor\":\"white\",\"landcolor\":\"#E5ECF6\",\"showlakes\":true,\"showland\":true,\"subunitcolor\":\"white\"},\"hoverlabel\":{\"align\":\"left\"},\"hovermode\":\"closest\",\"mapbox\":{\"style\":\"light\"},\"paper_bgcolor\":\"white\",\"plot_bgcolor\":\"#E5ECF6\",\"polar\":{\"angularaxis\":{\"gridcolor\":\"white\",\"linecolor\":\"white\",\"ticks\":\"\"},\"bgcolor\":\"#E5ECF6\",\"radialaxis\":{\"gridcolor\":\"white\",\"linecolor\":\"white\",\"ticks\":\"\"}},\"scene\":{\"xaxis\":{\"backgroundcolor\":\"#E5ECF6\",\"gridcolor\":\"white\",\"gridwidth\":2,\"linecolor\":\"white\",\"showbackground\":true,\"ticks\":\"\",\"zerolinecolor\":\"white\"},\"yaxis\":{\"backgroundcolor\":\"#E5ECF6\",\"gridcolor\":\"white\",\"gridwidth\":2,\"linecolor\":\"white\",\"showbackground\":true,\"ticks\":\"\",\"zerolinecolor\":\"white\"},\"zaxis\":{\"backgroundcolor\":\"#E5ECF6\",\"gridcolor\":\"white\",\"gridwidth\":2,\"linecolor\":\"white\",\"showbackground\":true,\"ticks\":\"\",\"zerolinecolor\":\"white\"}},\"shapedefaults\":{\"line\":{\"color\":\"#2a3f5f\"}},\"ternary\":{\"aaxis\":{\"gridcolor\":\"white\",\"linecolor\":\"white\",\"ticks\":\"\"},\"baxis\":{\"gridcolor\":\"white\",\"linecolor\":\"white\",\"ticks\":\"\"},\"bgcolor\":\"#E5ECF6\",\"caxis\":{\"gridcolor\":\"white\",\"linecolor\":\"white\",\"ticks\":\"\"}},\"title\":{\"x\":0.05},\"xaxis\":{\"automargin\":true,\"gridcolor\":\"white\",\"linecolor\":\"white\",\"ticks\":\"\",\"title\":{\"standoff\":15},\"zerolinecolor\":\"white\",\"zerolinewidth\":2},\"yaxis\":{\"automargin\":true,\"gridcolor\":\"white\",\"linecolor\":\"white\",\"ticks\":\"\",\"title\":{\"standoff\":15},\"zerolinecolor\":\"white\",\"zerolinewidth\":2}}},\"coloraxis\":{\"colorbar\":{\"title\":{\"text\":\"mean_test_accuracy\"}},\"colorscale\":[[0.0,\"#0d0887\"],[0.1111111111111111,\"#46039f\"],[0.2222222222222222,\"#7201a8\"],[0.3333333333333333,\"#9c179e\"],[0.4444444444444444,\"#bd3786\"],[0.5555555555555556,\"#d8576b\"],[0.6666666666666666,\"#ed7953\"],[0.7777777777777778,\"#fb9f3a\"],[0.8888888888888888,\"#fdca26\"],[1.0,\"#f0f921\"]]},\"legend\":{\"tracegroupgap\":0},\"margin\":{\"t\":60}},                        {\"responsive\": true}                    ).then(function(){\n",
              "                            \n",
              "var gd = document.getElementById('ddeeea98-4412-4197-82c2-d725285c3a37');\n",
              "var x = new MutationObserver(function (mutations, observer) {{\n",
              "        var display = window.getComputedStyle(gd).display;\n",
              "        if (!display || display === 'none') {{\n",
              "            console.log([gd, 'removed!']);\n",
              "            Plotly.purge(gd);\n",
              "            observer.disconnect();\n",
              "        }}\n",
              "}});\n",
              "\n",
              "// Listen for the removal of the full notebook cells\n",
              "var notebookContainer = gd.closest('#notebook-container');\n",
              "if (notebookContainer) {{\n",
              "    x.observe(notebookContainer, {childList: true});\n",
              "}}\n",
              "\n",
              "// Listen for the clearing of the current output cell\n",
              "var outputEl = gd.closest('.output');\n",
              "if (outputEl) {{\n",
              "    x.observe(outputEl, {childList: true});\n",
              "}}\n",
              "\n",
              "                        })                };                            </script>        </div>\n",
              "</body>\n",
              "</html>"
            ]
          },
          "metadata": {}
        }
      ]
    },
    {
      "cell_type": "markdown",
      "source": [
        "### > Factorization Machine"
      ],
      "metadata": {
        "id": "KenbYlKE5KUo"
      }
    },
    {
      "cell_type": "markdown",
      "source": [
        "#### > Preprocessing Data for implementing Factorization Machine\n",
        "\n",
        "Since the factorization machine uses an embedding layer, it requires that the data type of all input variables be 'int'.\n",
        "\n",
        "To take this into account, 'float' type variables are divided into several sections according to their values, and values ​​belonging to a specific section are transformed into interger values ​​of the section."
      ],
      "metadata": {
        "id": "-hOCE4nW9gEY"
      }
    },
    {
      "cell_type": "code",
      "source": [
        "def prepro_for_fm(X_train, X_test, bin_method='sturges'):\n",
        "  n_train = X_train.shape[0]\n",
        "  all = np.vstack((X_train, X_test))\n",
        "\n",
        "  col_num_uniq = np.apply_along_axis(lambda x: len(np.unique(x)), 0,  all)\n",
        "  remain_iidx = (col_num_uniq<=2)\n",
        "  to_bin_iidx = (col_num_uniq>2)\n",
        "\n",
        "  all_remain = all[:,remain_iidx]\n",
        "  all_to_bin = all[:,to_bin_iidx]\n",
        "  \n",
        "  for iter in range(all_to_bin.shape[1]):\n",
        "    bin_size = len(np.histogram(all_to_bin[:,iter], bins=bin_method)[0])\n",
        "    all_to_bin[:,iter] = pd.cut(all_to_bin[:,iter], bins=bin_size, labels=False)\n",
        "\n",
        "  all_to_bin_df = pd.DataFrame(all_to_bin).astype('object')\n",
        "  all_to_bin_array = pd.get_dummies(all_to_bin_df, drop_first=False).to_numpy()\n",
        "\n",
        "  all_array = np.hstack((all_to_bin_array, all_remain)).astype(np.int64)\n",
        "  field_dims = all_array.shape[1]\n",
        "  all_fm = np.vstack((np.apply_along_axis(lambda x: np.where(x==1), 1, all_array)))\n",
        "\n",
        "  return all_fm[:n_train], all_fm[n_train:], field_dims\n",
        "\n",
        "\n",
        "X_train_fm, X_test_fm, field_dims = prepro_for_fm(X_train, X_test, bin_method='sturges')"
      ],
      "metadata": {
        "id": "aFGSm4UkScO-"
      },
      "execution_count": null,
      "outputs": []
    },
    {
      "cell_type": "code",
      "source": [
        "import torch\n",
        "from torch import nn\n",
        "from skorch import NeuralNetClassifier\n",
        "from skorch.callbacks import EarlyStopping\n",
        "from skorch.callbacks import Checkpoint\n",
        "from tune_sklearn import TuneSearchCV\n",
        "\n",
        "# 모형 구조 정의\n",
        "class FM(nn.Module):\n",
        "    def __init__(self, num_inputs=100, num_factors=20, output_dim=1):\n",
        "        super(FM, self).__init__()\n",
        "        self.embedding = nn.Embedding(num_inputs, num_factors)\n",
        "        self.fc = nn.Embedding(num_inputs, 1)\n",
        "        self.bias = nn.Parameter(torch.zeros((output_dim,)))\n",
        "\n",
        "    def forward(self, x):\n",
        "        square_of_sum = torch.sum(self.embedding(x), dim=1)**2\n",
        "        sum_of_square = torch.sum(self.embedding(x)**2, dim=1)\n",
        "        x = self.bias + self.fc(x).sum(1) + 0.5 * (square_of_sum - sum_of_square).sum(dim=1, keepdim=True)\n",
        "        return x \n",
        "\n",
        "def try_gpu(i=0): \n",
        "    return f'cuda:{i}' if torch.cuda.device_count() >= i + 1 else 'cpu'\n",
        "\n",
        "# 모형 세부사항 정의 \n",
        "fm = NeuralNetClassifier(\n",
        "    FM(num_inputs=field_dims, num_factors=20, output_dim=1),\n",
        "    optimizer=torch.optim.Adam,\n",
        "    criterion=nn.BCEWithLogitsLoss,\n",
        "    iterator_train__shuffle=True,\n",
        "    device=try_gpu(),\n",
        "    verbose=0,\n",
        "    callbacks=[EarlyStopping(monitor='valid_loss', patience=5,\n",
        "                             threshold=1e-4, lower_is_better=True),\n",
        "               Checkpoint(monitor='valid_loss_best')]\n",
        "                          )\n",
        "\n",
        "# Search space를 정의한다\n",
        "parameters = {\n",
        "    'lr': list(np.geomspace(1e-3, 1, 4)),\n",
        "    'module__num_factors': [20, 50, 100, 150],\n",
        "    'optimizer__weight_decay': [0.05, 0.1, 0.5, 1],\n",
        "    'max_epochs': [1000],\n",
        "    'batch_size': [32, 64, 128]\n",
        "    }\n",
        "\n",
        "def use_gpu(device):\n",
        "    return True if not device == 'cpu' else False \n",
        "\n",
        "# 하이퍼 파라미터 튜닝 알고리즘을 정의한다\n",
        "tune_search = TuneSearchCV(\n",
        "    fm, \n",
        "    parameters, \n",
        "    search_optimization='hyperopt',\n",
        "    n_trials=14,\n",
        "    n_jobs=-1,\n",
        "    scoring=['neg_log_loss', 'accuracy'],\n",
        "    cv=5,\n",
        "    refit='accuracy',\n",
        "    mode='max',   \n",
        "    use_gpu = use_gpu(try_gpu()),\n",
        "    random_state=config['random_state'],\n",
        "    verbose=1,\n",
        "    )\n",
        "\n",
        "# 하이퍼 파라미터 튜닝을 진행한다\n",
        "X = X_train_fm\n",
        "y = y_train.reshape(-1,1).astype('float32') # nn.BCELosswithLogitsLoss는 float type에 대해서 연산이 가능하다\n",
        "tune_search.fit(X_train, y_train)\n",
        "\n",
        "# 결과 저장\n",
        "model_name = 'mlp'\n",
        "## 1. 최적 하이퍼 파라미터 저장\n",
        "best_cv_df.loc[best_cv_df['model']==model_name, 'best_hyper_param'] = str(tune_search.best_params_)\n",
        "## 2. 최적 하이퍼 파라미터의 CV 결과 저장\n",
        "cv_df = pd.DataFrame(tune_search.cv_results_)\n",
        "cv_values = cv_df.loc[tune_search.best_index_, cv_df.columns.str.startswith('split')].values\n",
        "best_cv_df.loc[best_cv_df['model']==model_name, 'log_loss'] = cv_values[:5]\n",
        "best_cv_df.loc[best_cv_df['model']==model_name, 'accuracy'] = cv_values[5:10]\n",
        "\n",
        "# 하이퍼 파라미터 튜닝 결과 parallel coordinate plot으로 시각화\n",
        "tune_result_df = pd.concat([pd.DataFrame(tune_search.cv_results_['params']), cv_df.loc[:,cv_df.columns.str.startswith('mean')] ], axis=1)\n",
        "tune_result_df.rename({\n",
        "    'callbacks__EarlyStopping__threshold':'Earlystoping_threshold',\n",
        "    'optimizer__weight_decay': 'weight_decay'\n",
        "    }, axis=1, inplace=True)\n",
        "import plotly.express as px\n",
        "fig = px.parallel_coordinates(tune_result_df, color='mean_test_accuracy')\n",
        "fig.show()"
      ],
      "metadata": {
        "colab": {
          "base_uri": "https://localhost:8080/",
          "height": 681
        },
        "id": "CGTbys8FWOv1",
        "outputId": "b90201d2-4102-4e3a-ceaa-cdeb8cf620ad"
      },
      "execution_count": null,
      "outputs": [
        {
          "output_type": "display_data",
          "data": {
            "text/html": [
              "== Status ==<br>Current time: 2022-02-22 02:20:02 (running for 00:03:22.12)<br>Memory usage on this node: 2.6/12.7 GiB<br>Using FIFO scheduling algorithm.<br>Resources requested: 0/2 CPUs, 0/0 GPUs, 0.0/6.41 GiB heap, 0.0/3.2 GiB objects<br>Result logdir: /root/ray_results/_Trainable_2022-02-22_02-16-40<br>Number of trials: 14/14 (14 TERMINATED)<br><br>"
            ],
            "text/plain": [
              "<IPython.core.display.HTML object>"
            ]
          },
          "metadata": {}
        },
        {
          "output_type": "display_data",
          "data": {
            "text/html": [
              "<html>\n",
              "<head><meta charset=\"utf-8\" /></head>\n",
              "<body>\n",
              "    <div>            <script src=\"https://cdnjs.cloudflare.com/ajax/libs/mathjax/2.7.5/MathJax.js?config=TeX-AMS-MML_SVG\"></script><script type=\"text/javascript\">if (window.MathJax) {MathJax.Hub.Config({SVG: {font: \"STIX-Web\"}});}</script>                <script type=\"text/javascript\">window.PlotlyConfig = {MathJaxConfig: 'local'};</script>\n",
              "        <script src=\"https://cdn.plot.ly/plotly-2.8.3.min.js\"></script>                <div id=\"2e2d7c66-8333-4191-a42c-3c7c4802ca2e\" class=\"plotly-graph-div\" style=\"height:525px; width:100%;\"></div>            <script type=\"text/javascript\">                                    window.PLOTLYENV=window.PLOTLYENV || {};                                    if (document.getElementById(\"2e2d7c66-8333-4191-a42c-3c7c4802ca2e\")) {                    Plotly.newPlot(                        \"2e2d7c66-8333-4191-a42c-3c7c4802ca2e\",                        [{\"dimensions\":[{\"label\":\"batch_size\",\"values\":[64,128,32,64,64,32,128,64,128,128,32,32,128,64]},{\"label\":\"lr\",\"values\":[0.1,0.01,0.001,0.01,0.1,0.001,0.01,0.01,0.1,0.1,0.1,0.001,0.01,0.1]},{\"label\":\"max_epochs\",\"values\":[1000,1000,1000,1000,1000,1000,1000,1000,1000,1000,1000,1000,1000,1000]},{\"label\":\"module__num_factors\",\"values\":[150,150,150,50,50,20,150,100,100,50,150,100,100,100]},{\"label\":\"weight_decay\",\"values\":[0.1,1.0,0.05,0.5,1.0,0.5,0.5,0.1,1.0,0.5,1.0,0.1,0.1,0.5]},{\"label\":\"mean_test_neg_log_loss\",\"values\":[-0.4686152023520089,-0.5246332398167918,-0.4641976651475964,-0.5045601748904224,-0.5939245906747388,-0.5137964226264563,-0.491723884406695,-0.4370715643636034,-0.5921546605970367,-0.5576624711705955,-0.6008453105590894,-0.43642344534613187,-0.44699301178426276,-0.5663318752699986]},{\"label\":\"mean_test_accuracy\",\"values\":[0.7968928504174253,0.7643525202435503,0.8069612704789405,0.7879040863724813,0.7329357855752935,0.7710627079279393,0.7958006402611262,0.8103759964848409,0.754252714832716,0.7654698386793045,0.6947774778733287,0.8282844768062269,0.8159814198732033,0.7542401606929885]}],\"domain\":{\"x\":[0.0,1.0],\"y\":[0.0,1.0]},\"line\":{\"color\":[0.7968928504174253,0.7643525202435503,0.8069612704789405,0.7879040863724813,0.7329357855752935,0.7710627079279393,0.7958006402611262,0.8103759964848409,0.754252714832716,0.7654698386793045,0.6947774778733287,0.8282844768062269,0.8159814198732033,0.7542401606929885],\"coloraxis\":\"coloraxis\"},\"name\":\"\",\"type\":\"parcoords\"}],                        {\"template\":{\"data\":{\"bar\":[{\"error_x\":{\"color\":\"#2a3f5f\"},\"error_y\":{\"color\":\"#2a3f5f\"},\"marker\":{\"line\":{\"color\":\"#E5ECF6\",\"width\":0.5},\"pattern\":{\"fillmode\":\"overlay\",\"size\":10,\"solidity\":0.2}},\"type\":\"bar\"}],\"barpolar\":[{\"marker\":{\"line\":{\"color\":\"#E5ECF6\",\"width\":0.5},\"pattern\":{\"fillmode\":\"overlay\",\"size\":10,\"solidity\":0.2}},\"type\":\"barpolar\"}],\"carpet\":[{\"aaxis\":{\"endlinecolor\":\"#2a3f5f\",\"gridcolor\":\"white\",\"linecolor\":\"white\",\"minorgridcolor\":\"white\",\"startlinecolor\":\"#2a3f5f\"},\"baxis\":{\"endlinecolor\":\"#2a3f5f\",\"gridcolor\":\"white\",\"linecolor\":\"white\",\"minorgridcolor\":\"white\",\"startlinecolor\":\"#2a3f5f\"},\"type\":\"carpet\"}],\"choropleth\":[{\"colorbar\":{\"outlinewidth\":0,\"ticks\":\"\"},\"type\":\"choropleth\"}],\"contour\":[{\"colorbar\":{\"outlinewidth\":0,\"ticks\":\"\"},\"colorscale\":[[0.0,\"#0d0887\"],[0.1111111111111111,\"#46039f\"],[0.2222222222222222,\"#7201a8\"],[0.3333333333333333,\"#9c179e\"],[0.4444444444444444,\"#bd3786\"],[0.5555555555555556,\"#d8576b\"],[0.6666666666666666,\"#ed7953\"],[0.7777777777777778,\"#fb9f3a\"],[0.8888888888888888,\"#fdca26\"],[1.0,\"#f0f921\"]],\"type\":\"contour\"}],\"contourcarpet\":[{\"colorbar\":{\"outlinewidth\":0,\"ticks\":\"\"},\"type\":\"contourcarpet\"}],\"heatmap\":[{\"colorbar\":{\"outlinewidth\":0,\"ticks\":\"\"},\"colorscale\":[[0.0,\"#0d0887\"],[0.1111111111111111,\"#46039f\"],[0.2222222222222222,\"#7201a8\"],[0.3333333333333333,\"#9c179e\"],[0.4444444444444444,\"#bd3786\"],[0.5555555555555556,\"#d8576b\"],[0.6666666666666666,\"#ed7953\"],[0.7777777777777778,\"#fb9f3a\"],[0.8888888888888888,\"#fdca26\"],[1.0,\"#f0f921\"]],\"type\":\"heatmap\"}],\"heatmapgl\":[{\"colorbar\":{\"outlinewidth\":0,\"ticks\":\"\"},\"colorscale\":[[0.0,\"#0d0887\"],[0.1111111111111111,\"#46039f\"],[0.2222222222222222,\"#7201a8\"],[0.3333333333333333,\"#9c179e\"],[0.4444444444444444,\"#bd3786\"],[0.5555555555555556,\"#d8576b\"],[0.6666666666666666,\"#ed7953\"],[0.7777777777777778,\"#fb9f3a\"],[0.8888888888888888,\"#fdca26\"],[1.0,\"#f0f921\"]],\"type\":\"heatmapgl\"}],\"histogram\":[{\"marker\":{\"pattern\":{\"fillmode\":\"overlay\",\"size\":10,\"solidity\":0.2}},\"type\":\"histogram\"}],\"histogram2d\":[{\"colorbar\":{\"outlinewidth\":0,\"ticks\":\"\"},\"colorscale\":[[0.0,\"#0d0887\"],[0.1111111111111111,\"#46039f\"],[0.2222222222222222,\"#7201a8\"],[0.3333333333333333,\"#9c179e\"],[0.4444444444444444,\"#bd3786\"],[0.5555555555555556,\"#d8576b\"],[0.6666666666666666,\"#ed7953\"],[0.7777777777777778,\"#fb9f3a\"],[0.8888888888888888,\"#fdca26\"],[1.0,\"#f0f921\"]],\"type\":\"histogram2d\"}],\"histogram2dcontour\":[{\"colorbar\":{\"outlinewidth\":0,\"ticks\":\"\"},\"colorscale\":[[0.0,\"#0d0887\"],[0.1111111111111111,\"#46039f\"],[0.2222222222222222,\"#7201a8\"],[0.3333333333333333,\"#9c179e\"],[0.4444444444444444,\"#bd3786\"],[0.5555555555555556,\"#d8576b\"],[0.6666666666666666,\"#ed7953\"],[0.7777777777777778,\"#fb9f3a\"],[0.8888888888888888,\"#fdca26\"],[1.0,\"#f0f921\"]],\"type\":\"histogram2dcontour\"}],\"mesh3d\":[{\"colorbar\":{\"outlinewidth\":0,\"ticks\":\"\"},\"type\":\"mesh3d\"}],\"parcoords\":[{\"line\":{\"colorbar\":{\"outlinewidth\":0,\"ticks\":\"\"}},\"type\":\"parcoords\"}],\"pie\":[{\"automargin\":true,\"type\":\"pie\"}],\"scatter\":[{\"marker\":{\"colorbar\":{\"outlinewidth\":0,\"ticks\":\"\"}},\"type\":\"scatter\"}],\"scatter3d\":[{\"line\":{\"colorbar\":{\"outlinewidth\":0,\"ticks\":\"\"}},\"marker\":{\"colorbar\":{\"outlinewidth\":0,\"ticks\":\"\"}},\"type\":\"scatter3d\"}],\"scattercarpet\":[{\"marker\":{\"colorbar\":{\"outlinewidth\":0,\"ticks\":\"\"}},\"type\":\"scattercarpet\"}],\"scattergeo\":[{\"marker\":{\"colorbar\":{\"outlinewidth\":0,\"ticks\":\"\"}},\"type\":\"scattergeo\"}],\"scattergl\":[{\"marker\":{\"colorbar\":{\"outlinewidth\":0,\"ticks\":\"\"}},\"type\":\"scattergl\"}],\"scattermapbox\":[{\"marker\":{\"colorbar\":{\"outlinewidth\":0,\"ticks\":\"\"}},\"type\":\"scattermapbox\"}],\"scatterpolar\":[{\"marker\":{\"colorbar\":{\"outlinewidth\":0,\"ticks\":\"\"}},\"type\":\"scatterpolar\"}],\"scatterpolargl\":[{\"marker\":{\"colorbar\":{\"outlinewidth\":0,\"ticks\":\"\"}},\"type\":\"scatterpolargl\"}],\"scatterternary\":[{\"marker\":{\"colorbar\":{\"outlinewidth\":0,\"ticks\":\"\"}},\"type\":\"scatterternary\"}],\"surface\":[{\"colorbar\":{\"outlinewidth\":0,\"ticks\":\"\"},\"colorscale\":[[0.0,\"#0d0887\"],[0.1111111111111111,\"#46039f\"],[0.2222222222222222,\"#7201a8\"],[0.3333333333333333,\"#9c179e\"],[0.4444444444444444,\"#bd3786\"],[0.5555555555555556,\"#d8576b\"],[0.6666666666666666,\"#ed7953\"],[0.7777777777777778,\"#fb9f3a\"],[0.8888888888888888,\"#fdca26\"],[1.0,\"#f0f921\"]],\"type\":\"surface\"}],\"table\":[{\"cells\":{\"fill\":{\"color\":\"#EBF0F8\"},\"line\":{\"color\":\"white\"}},\"header\":{\"fill\":{\"color\":\"#C8D4E3\"},\"line\":{\"color\":\"white\"}},\"type\":\"table\"}]},\"layout\":{\"annotationdefaults\":{\"arrowcolor\":\"#2a3f5f\",\"arrowhead\":0,\"arrowwidth\":1},\"autotypenumbers\":\"strict\",\"coloraxis\":{\"colorbar\":{\"outlinewidth\":0,\"ticks\":\"\"}},\"colorscale\":{\"diverging\":[[0,\"#8e0152\"],[0.1,\"#c51b7d\"],[0.2,\"#de77ae\"],[0.3,\"#f1b6da\"],[0.4,\"#fde0ef\"],[0.5,\"#f7f7f7\"],[0.6,\"#e6f5d0\"],[0.7,\"#b8e186\"],[0.8,\"#7fbc41\"],[0.9,\"#4d9221\"],[1,\"#276419\"]],\"sequential\":[[0.0,\"#0d0887\"],[0.1111111111111111,\"#46039f\"],[0.2222222222222222,\"#7201a8\"],[0.3333333333333333,\"#9c179e\"],[0.4444444444444444,\"#bd3786\"],[0.5555555555555556,\"#d8576b\"],[0.6666666666666666,\"#ed7953\"],[0.7777777777777778,\"#fb9f3a\"],[0.8888888888888888,\"#fdca26\"],[1.0,\"#f0f921\"]],\"sequentialminus\":[[0.0,\"#0d0887\"],[0.1111111111111111,\"#46039f\"],[0.2222222222222222,\"#7201a8\"],[0.3333333333333333,\"#9c179e\"],[0.4444444444444444,\"#bd3786\"],[0.5555555555555556,\"#d8576b\"],[0.6666666666666666,\"#ed7953\"],[0.7777777777777778,\"#fb9f3a\"],[0.8888888888888888,\"#fdca26\"],[1.0,\"#f0f921\"]]},\"colorway\":[\"#636efa\",\"#EF553B\",\"#00cc96\",\"#ab63fa\",\"#FFA15A\",\"#19d3f3\",\"#FF6692\",\"#B6E880\",\"#FF97FF\",\"#FECB52\"],\"font\":{\"color\":\"#2a3f5f\"},\"geo\":{\"bgcolor\":\"white\",\"lakecolor\":\"white\",\"landcolor\":\"#E5ECF6\",\"showlakes\":true,\"showland\":true,\"subunitcolor\":\"white\"},\"hoverlabel\":{\"align\":\"left\"},\"hovermode\":\"closest\",\"mapbox\":{\"style\":\"light\"},\"paper_bgcolor\":\"white\",\"plot_bgcolor\":\"#E5ECF6\",\"polar\":{\"angularaxis\":{\"gridcolor\":\"white\",\"linecolor\":\"white\",\"ticks\":\"\"},\"bgcolor\":\"#E5ECF6\",\"radialaxis\":{\"gridcolor\":\"white\",\"linecolor\":\"white\",\"ticks\":\"\"}},\"scene\":{\"xaxis\":{\"backgroundcolor\":\"#E5ECF6\",\"gridcolor\":\"white\",\"gridwidth\":2,\"linecolor\":\"white\",\"showbackground\":true,\"ticks\":\"\",\"zerolinecolor\":\"white\"},\"yaxis\":{\"backgroundcolor\":\"#E5ECF6\",\"gridcolor\":\"white\",\"gridwidth\":2,\"linecolor\":\"white\",\"showbackground\":true,\"ticks\":\"\",\"zerolinecolor\":\"white\"},\"zaxis\":{\"backgroundcolor\":\"#E5ECF6\",\"gridcolor\":\"white\",\"gridwidth\":2,\"linecolor\":\"white\",\"showbackground\":true,\"ticks\":\"\",\"zerolinecolor\":\"white\"}},\"shapedefaults\":{\"line\":{\"color\":\"#2a3f5f\"}},\"ternary\":{\"aaxis\":{\"gridcolor\":\"white\",\"linecolor\":\"white\",\"ticks\":\"\"},\"baxis\":{\"gridcolor\":\"white\",\"linecolor\":\"white\",\"ticks\":\"\"},\"bgcolor\":\"#E5ECF6\",\"caxis\":{\"gridcolor\":\"white\",\"linecolor\":\"white\",\"ticks\":\"\"}},\"title\":{\"x\":0.05},\"xaxis\":{\"automargin\":true,\"gridcolor\":\"white\",\"linecolor\":\"white\",\"ticks\":\"\",\"title\":{\"standoff\":15},\"zerolinecolor\":\"white\",\"zerolinewidth\":2},\"yaxis\":{\"automargin\":true,\"gridcolor\":\"white\",\"linecolor\":\"white\",\"ticks\":\"\",\"title\":{\"standoff\":15},\"zerolinecolor\":\"white\",\"zerolinewidth\":2}}},\"coloraxis\":{\"colorbar\":{\"title\":{\"text\":\"mean_test_accuracy\"}},\"colorscale\":[[0.0,\"#0d0887\"],[0.1111111111111111,\"#46039f\"],[0.2222222222222222,\"#7201a8\"],[0.3333333333333333,\"#9c179e\"],[0.4444444444444444,\"#bd3786\"],[0.5555555555555556,\"#d8576b\"],[0.6666666666666666,\"#ed7953\"],[0.7777777777777778,\"#fb9f3a\"],[0.8888888888888888,\"#fdca26\"],[1.0,\"#f0f921\"]]},\"legend\":{\"tracegroupgap\":0},\"margin\":{\"t\":60}},                        {\"responsive\": true}                    ).then(function(){\n",
              "                            \n",
              "var gd = document.getElementById('2e2d7c66-8333-4191-a42c-3c7c4802ca2e');\n",
              "var x = new MutationObserver(function (mutations, observer) {{\n",
              "        var display = window.getComputedStyle(gd).display;\n",
              "        if (!display || display === 'none') {{\n",
              "            console.log([gd, 'removed!']);\n",
              "            Plotly.purge(gd);\n",
              "            observer.disconnect();\n",
              "        }}\n",
              "}});\n",
              "\n",
              "// Listen for the removal of the full notebook cells\n",
              "var notebookContainer = gd.closest('#notebook-container');\n",
              "if (notebookContainer) {{\n",
              "    x.observe(notebookContainer, {childList: true});\n",
              "}}\n",
              "\n",
              "// Listen for the clearing of the current output cell\n",
              "var outputEl = gd.closest('.output');\n",
              "if (outputEl) {{\n",
              "    x.observe(outputEl, {childList: true});\n",
              "}}\n",
              "\n",
              "                        })                };                            </script>        </div>\n",
              "</body>\n",
              "</html>"
            ]
          },
          "metadata": {}
        }
      ]
    },
    {
      "cell_type": "markdown",
      "source": [
        "### > Save CV results"
      ],
      "metadata": {
        "id": "7Sa4y75xv7yf"
      }
    },
    {
      "cell_type": "code",
      "source": [
        "import os \n",
        "save_path = '/content/drive/MyDrive/Work/Kaggle/{}/Result'.format(config['data_name'])\n",
        "if not os.path.exists(save_path):\n",
        "  os.makedirs(save_path)\n",
        "file_path = os.path.join(save_path, 'best_cv_results.csv')\n",
        "best_cv_df.to_csv(file_path, index=False)"
      ],
      "metadata": {
        "id": "zlqCTRBqI_dM"
      },
      "execution_count": null,
      "outputs": []
    },
    {
      "cell_type": "code",
      "source": [
        "best_cv_df = pd.read_csv('/content/drive/MyDrive/Work/Kaggle/{}/Result/best_cv_results.csv'.format(config['data_name']))"
      ],
      "metadata": {
        "id": "ZFCGtjiM_WtR"
      },
      "execution_count": null,
      "outputs": []
    },
    {
      "cell_type": "markdown",
      "source": [
        "## 2-2. Model Comparison based on CV results\n",
        "\n",
        "Compare the CV results (measured using the optimal hyper parameter values)\n",
        "\n",
        "The figure below shows that the rf, xgb, mlp, and fm models show superior performance compared to the linear and svm models.\n",
        "\n"
      ],
      "metadata": {
        "id": "v4BlrQ6XK0ol"
      }
    },
    {
      "cell_type": "code",
      "source": [
        "fig = px.box(best_cv_df, x='model', y='accuracy', color='model', width=600)\n",
        "fig.show()"
      ],
      "metadata": {
        "colab": {
          "base_uri": "https://localhost:8080/",
          "height": 542
        },
        "id": "j3ChoU4xQOK8",
        "outputId": "54748b26-b0fb-4613-fd58-749330876a9a"
      },
      "execution_count": null,
      "outputs": [
        {
          "output_type": "display_data",
          "data": {
            "text/html": [
              "<html>\n",
              "<head><meta charset=\"utf-8\" /></head>\n",
              "<body>\n",
              "    <div>            <script src=\"https://cdnjs.cloudflare.com/ajax/libs/mathjax/2.7.5/MathJax.js?config=TeX-AMS-MML_SVG\"></script><script type=\"text/javascript\">if (window.MathJax) {MathJax.Hub.Config({SVG: {font: \"STIX-Web\"}});}</script>                <script type=\"text/javascript\">window.PlotlyConfig = {MathJaxConfig: 'local'};</script>\n",
              "        <script src=\"https://cdn.plot.ly/plotly-2.8.3.min.js\"></script>                <div id=\"5aa6e7c9-274e-495e-97fc-1f2cf4f67524\" class=\"plotly-graph-div\" style=\"height:525px; width:600px;\"></div>            <script type=\"text/javascript\">                                    window.PLOTLYENV=window.PLOTLYENV || {};                                    if (document.getElementById(\"5aa6e7c9-274e-495e-97fc-1f2cf4f67524\")) {                    Plotly.newPlot(                        \"5aa6e7c9-274e-495e-97fc-1f2cf4f67524\",                        [{\"alignmentgroup\":\"True\",\"hovertemplate\":\"model=%{x}<br>accuracy=%{y}<extra></extra>\",\"legendgroup\":\"linear\",\"marker\":{\"color\":\"#636efa\"},\"name\":\"linear\",\"notched\":false,\"offsetgroup\":\"linear\",\"orientation\":\"v\",\"showlegend\":true,\"x\":[\"linear\",\"linear\",\"linear\",\"linear\",\"linear\"],\"x0\":\" \",\"xaxis\":\"x\",\"y\":[0.8156424581005587,0.7471910112359551,0.7865168539325843,0.7921348314606742,0.7696629213483146],\"y0\":\" \",\"yaxis\":\"y\",\"type\":\"box\"},{\"alignmentgroup\":\"True\",\"hovertemplate\":\"model=%{x}<br>accuracy=%{y}<extra></extra>\",\"legendgroup\":\"svm\",\"marker\":{\"color\":\"#EF553B\"},\"name\":\"svm\",\"notched\":false,\"offsetgroup\":\"svm\",\"orientation\":\"v\",\"showlegend\":true,\"x\":[\"svm\",\"svm\",\"svm\",\"svm\",\"svm\"],\"x0\":\" \",\"xaxis\":\"x\",\"y\":[0.7318435754189944,0.7303370786516854,0.7808988764044944,0.7303370786516854,0.8089887640449438],\"y0\":\" \",\"yaxis\":\"y\",\"type\":\"box\"},{\"alignmentgroup\":\"True\",\"hovertemplate\":\"model=%{x}<br>accuracy=%{y}<extra></extra>\",\"legendgroup\":\"rf\",\"marker\":{\"color\":\"#00cc96\"},\"name\":\"rf\",\"notched\":false,\"offsetgroup\":\"rf\",\"orientation\":\"v\",\"showlegend\":true,\"x\":[\"rf\",\"rf\",\"rf\",\"rf\",\"rf\"],\"x0\":\" \",\"xaxis\":\"x\",\"y\":[0.8547486033519553,0.8202247191011236,0.8258426966292135,0.8033707865168539,0.8595505617977528],\"y0\":\" \",\"yaxis\":\"y\",\"type\":\"box\"},{\"alignmentgroup\":\"True\",\"hovertemplate\":\"model=%{x}<br>accuracy=%{y}<extra></extra>\",\"legendgroup\":\"xgb\",\"marker\":{\"color\":\"#ab63fa\"},\"name\":\"xgb\",\"notched\":false,\"offsetgroup\":\"xgb\",\"orientation\":\"v\",\"showlegend\":true,\"x\":[\"xgb\",\"xgb\",\"xgb\",\"xgb\",\"xgb\"],\"x0\":\" \",\"xaxis\":\"x\",\"y\":[0.8268156424581006,0.848314606741573,0.8651685393258427,0.8146067415730337,0.8651685393258427],\"y0\":\" \",\"yaxis\":\"y\",\"type\":\"box\"},{\"alignmentgroup\":\"True\",\"hovertemplate\":\"model=%{x}<br>accuracy=%{y}<extra></extra>\",\"legendgroup\":\"mlp\",\"marker\":{\"color\":\"#FFA15A\"},\"name\":\"mlp\",\"notched\":false,\"offsetgroup\":\"mlp\",\"orientation\":\"v\",\"showlegend\":true,\"x\":[\"mlp\",\"mlp\",\"mlp\",\"mlp\",\"mlp\"],\"x0\":\" \",\"xaxis\":\"x\",\"y\":[0.8100558659217877,0.8202247191011236,0.848314606741573,0.7921348314606742,0.8820224719101124],\"y0\":\" \",\"yaxis\":\"y\",\"type\":\"box\"},{\"alignmentgroup\":\"True\",\"hovertemplate\":\"model=%{x}<br>accuracy=%{y}<extra></extra>\",\"legendgroup\":\"fm\",\"marker\":{\"color\":\"#19d3f3\"},\"name\":\"fm\",\"notched\":false,\"offsetgroup\":\"fm\",\"orientation\":\"v\",\"showlegend\":true,\"x\":[\"fm\",\"fm\",\"fm\",\"fm\",\"fm\"],\"x0\":\" \",\"xaxis\":\"x\",\"y\":[0.8268156424581006,0.8202247191011236,0.8202247191011236,0.8146067415730337,0.8595505617977528],\"y0\":\" \",\"yaxis\":\"y\",\"type\":\"box\"}],                        {\"template\":{\"data\":{\"bar\":[{\"error_x\":{\"color\":\"#2a3f5f\"},\"error_y\":{\"color\":\"#2a3f5f\"},\"marker\":{\"line\":{\"color\":\"#E5ECF6\",\"width\":0.5},\"pattern\":{\"fillmode\":\"overlay\",\"size\":10,\"solidity\":0.2}},\"type\":\"bar\"}],\"barpolar\":[{\"marker\":{\"line\":{\"color\":\"#E5ECF6\",\"width\":0.5},\"pattern\":{\"fillmode\":\"overlay\",\"size\":10,\"solidity\":0.2}},\"type\":\"barpolar\"}],\"carpet\":[{\"aaxis\":{\"endlinecolor\":\"#2a3f5f\",\"gridcolor\":\"white\",\"linecolor\":\"white\",\"minorgridcolor\":\"white\",\"startlinecolor\":\"#2a3f5f\"},\"baxis\":{\"endlinecolor\":\"#2a3f5f\",\"gridcolor\":\"white\",\"linecolor\":\"white\",\"minorgridcolor\":\"white\",\"startlinecolor\":\"#2a3f5f\"},\"type\":\"carpet\"}],\"choropleth\":[{\"colorbar\":{\"outlinewidth\":0,\"ticks\":\"\"},\"type\":\"choropleth\"}],\"contour\":[{\"colorbar\":{\"outlinewidth\":0,\"ticks\":\"\"},\"colorscale\":[[0.0,\"#0d0887\"],[0.1111111111111111,\"#46039f\"],[0.2222222222222222,\"#7201a8\"],[0.3333333333333333,\"#9c179e\"],[0.4444444444444444,\"#bd3786\"],[0.5555555555555556,\"#d8576b\"],[0.6666666666666666,\"#ed7953\"],[0.7777777777777778,\"#fb9f3a\"],[0.8888888888888888,\"#fdca26\"],[1.0,\"#f0f921\"]],\"type\":\"contour\"}],\"contourcarpet\":[{\"colorbar\":{\"outlinewidth\":0,\"ticks\":\"\"},\"type\":\"contourcarpet\"}],\"heatmap\":[{\"colorbar\":{\"outlinewidth\":0,\"ticks\":\"\"},\"colorscale\":[[0.0,\"#0d0887\"],[0.1111111111111111,\"#46039f\"],[0.2222222222222222,\"#7201a8\"],[0.3333333333333333,\"#9c179e\"],[0.4444444444444444,\"#bd3786\"],[0.5555555555555556,\"#d8576b\"],[0.6666666666666666,\"#ed7953\"],[0.7777777777777778,\"#fb9f3a\"],[0.8888888888888888,\"#fdca26\"],[1.0,\"#f0f921\"]],\"type\":\"heatmap\"}],\"heatmapgl\":[{\"colorbar\":{\"outlinewidth\":0,\"ticks\":\"\"},\"colorscale\":[[0.0,\"#0d0887\"],[0.1111111111111111,\"#46039f\"],[0.2222222222222222,\"#7201a8\"],[0.3333333333333333,\"#9c179e\"],[0.4444444444444444,\"#bd3786\"],[0.5555555555555556,\"#d8576b\"],[0.6666666666666666,\"#ed7953\"],[0.7777777777777778,\"#fb9f3a\"],[0.8888888888888888,\"#fdca26\"],[1.0,\"#f0f921\"]],\"type\":\"heatmapgl\"}],\"histogram\":[{\"marker\":{\"pattern\":{\"fillmode\":\"overlay\",\"size\":10,\"solidity\":0.2}},\"type\":\"histogram\"}],\"histogram2d\":[{\"colorbar\":{\"outlinewidth\":0,\"ticks\":\"\"},\"colorscale\":[[0.0,\"#0d0887\"],[0.1111111111111111,\"#46039f\"],[0.2222222222222222,\"#7201a8\"],[0.3333333333333333,\"#9c179e\"],[0.4444444444444444,\"#bd3786\"],[0.5555555555555556,\"#d8576b\"],[0.6666666666666666,\"#ed7953\"],[0.7777777777777778,\"#fb9f3a\"],[0.8888888888888888,\"#fdca26\"],[1.0,\"#f0f921\"]],\"type\":\"histogram2d\"}],\"histogram2dcontour\":[{\"colorbar\":{\"outlinewidth\":0,\"ticks\":\"\"},\"colorscale\":[[0.0,\"#0d0887\"],[0.1111111111111111,\"#46039f\"],[0.2222222222222222,\"#7201a8\"],[0.3333333333333333,\"#9c179e\"],[0.4444444444444444,\"#bd3786\"],[0.5555555555555556,\"#d8576b\"],[0.6666666666666666,\"#ed7953\"],[0.7777777777777778,\"#fb9f3a\"],[0.8888888888888888,\"#fdca26\"],[1.0,\"#f0f921\"]],\"type\":\"histogram2dcontour\"}],\"mesh3d\":[{\"colorbar\":{\"outlinewidth\":0,\"ticks\":\"\"},\"type\":\"mesh3d\"}],\"parcoords\":[{\"line\":{\"colorbar\":{\"outlinewidth\":0,\"ticks\":\"\"}},\"type\":\"parcoords\"}],\"pie\":[{\"automargin\":true,\"type\":\"pie\"}],\"scatter\":[{\"marker\":{\"colorbar\":{\"outlinewidth\":0,\"ticks\":\"\"}},\"type\":\"scatter\"}],\"scatter3d\":[{\"line\":{\"colorbar\":{\"outlinewidth\":0,\"ticks\":\"\"}},\"marker\":{\"colorbar\":{\"outlinewidth\":0,\"ticks\":\"\"}},\"type\":\"scatter3d\"}],\"scattercarpet\":[{\"marker\":{\"colorbar\":{\"outlinewidth\":0,\"ticks\":\"\"}},\"type\":\"scattercarpet\"}],\"scattergeo\":[{\"marker\":{\"colorbar\":{\"outlinewidth\":0,\"ticks\":\"\"}},\"type\":\"scattergeo\"}],\"scattergl\":[{\"marker\":{\"colorbar\":{\"outlinewidth\":0,\"ticks\":\"\"}},\"type\":\"scattergl\"}],\"scattermapbox\":[{\"marker\":{\"colorbar\":{\"outlinewidth\":0,\"ticks\":\"\"}},\"type\":\"scattermapbox\"}],\"scatterpolar\":[{\"marker\":{\"colorbar\":{\"outlinewidth\":0,\"ticks\":\"\"}},\"type\":\"scatterpolar\"}],\"scatterpolargl\":[{\"marker\":{\"colorbar\":{\"outlinewidth\":0,\"ticks\":\"\"}},\"type\":\"scatterpolargl\"}],\"scatterternary\":[{\"marker\":{\"colorbar\":{\"outlinewidth\":0,\"ticks\":\"\"}},\"type\":\"scatterternary\"}],\"surface\":[{\"colorbar\":{\"outlinewidth\":0,\"ticks\":\"\"},\"colorscale\":[[0.0,\"#0d0887\"],[0.1111111111111111,\"#46039f\"],[0.2222222222222222,\"#7201a8\"],[0.3333333333333333,\"#9c179e\"],[0.4444444444444444,\"#bd3786\"],[0.5555555555555556,\"#d8576b\"],[0.6666666666666666,\"#ed7953\"],[0.7777777777777778,\"#fb9f3a\"],[0.8888888888888888,\"#fdca26\"],[1.0,\"#f0f921\"]],\"type\":\"surface\"}],\"table\":[{\"cells\":{\"fill\":{\"color\":\"#EBF0F8\"},\"line\":{\"color\":\"white\"}},\"header\":{\"fill\":{\"color\":\"#C8D4E3\"},\"line\":{\"color\":\"white\"}},\"type\":\"table\"}]},\"layout\":{\"annotationdefaults\":{\"arrowcolor\":\"#2a3f5f\",\"arrowhead\":0,\"arrowwidth\":1},\"autotypenumbers\":\"strict\",\"coloraxis\":{\"colorbar\":{\"outlinewidth\":0,\"ticks\":\"\"}},\"colorscale\":{\"diverging\":[[0,\"#8e0152\"],[0.1,\"#c51b7d\"],[0.2,\"#de77ae\"],[0.3,\"#f1b6da\"],[0.4,\"#fde0ef\"],[0.5,\"#f7f7f7\"],[0.6,\"#e6f5d0\"],[0.7,\"#b8e186\"],[0.8,\"#7fbc41\"],[0.9,\"#4d9221\"],[1,\"#276419\"]],\"sequential\":[[0.0,\"#0d0887\"],[0.1111111111111111,\"#46039f\"],[0.2222222222222222,\"#7201a8\"],[0.3333333333333333,\"#9c179e\"],[0.4444444444444444,\"#bd3786\"],[0.5555555555555556,\"#d8576b\"],[0.6666666666666666,\"#ed7953\"],[0.7777777777777778,\"#fb9f3a\"],[0.8888888888888888,\"#fdca26\"],[1.0,\"#f0f921\"]],\"sequentialminus\":[[0.0,\"#0d0887\"],[0.1111111111111111,\"#46039f\"],[0.2222222222222222,\"#7201a8\"],[0.3333333333333333,\"#9c179e\"],[0.4444444444444444,\"#bd3786\"],[0.5555555555555556,\"#d8576b\"],[0.6666666666666666,\"#ed7953\"],[0.7777777777777778,\"#fb9f3a\"],[0.8888888888888888,\"#fdca26\"],[1.0,\"#f0f921\"]]},\"colorway\":[\"#636efa\",\"#EF553B\",\"#00cc96\",\"#ab63fa\",\"#FFA15A\",\"#19d3f3\",\"#FF6692\",\"#B6E880\",\"#FF97FF\",\"#FECB52\"],\"font\":{\"color\":\"#2a3f5f\"},\"geo\":{\"bgcolor\":\"white\",\"lakecolor\":\"white\",\"landcolor\":\"#E5ECF6\",\"showlakes\":true,\"showland\":true,\"subunitcolor\":\"white\"},\"hoverlabel\":{\"align\":\"left\"},\"hovermode\":\"closest\",\"mapbox\":{\"style\":\"light\"},\"paper_bgcolor\":\"white\",\"plot_bgcolor\":\"#E5ECF6\",\"polar\":{\"angularaxis\":{\"gridcolor\":\"white\",\"linecolor\":\"white\",\"ticks\":\"\"},\"bgcolor\":\"#E5ECF6\",\"radialaxis\":{\"gridcolor\":\"white\",\"linecolor\":\"white\",\"ticks\":\"\"}},\"scene\":{\"xaxis\":{\"backgroundcolor\":\"#E5ECF6\",\"gridcolor\":\"white\",\"gridwidth\":2,\"linecolor\":\"white\",\"showbackground\":true,\"ticks\":\"\",\"zerolinecolor\":\"white\"},\"yaxis\":{\"backgroundcolor\":\"#E5ECF6\",\"gridcolor\":\"white\",\"gridwidth\":2,\"linecolor\":\"white\",\"showbackground\":true,\"ticks\":\"\",\"zerolinecolor\":\"white\"},\"zaxis\":{\"backgroundcolor\":\"#E5ECF6\",\"gridcolor\":\"white\",\"gridwidth\":2,\"linecolor\":\"white\",\"showbackground\":true,\"ticks\":\"\",\"zerolinecolor\":\"white\"}},\"shapedefaults\":{\"line\":{\"color\":\"#2a3f5f\"}},\"ternary\":{\"aaxis\":{\"gridcolor\":\"white\",\"linecolor\":\"white\",\"ticks\":\"\"},\"baxis\":{\"gridcolor\":\"white\",\"linecolor\":\"white\",\"ticks\":\"\"},\"bgcolor\":\"#E5ECF6\",\"caxis\":{\"gridcolor\":\"white\",\"linecolor\":\"white\",\"ticks\":\"\"}},\"title\":{\"x\":0.05},\"xaxis\":{\"automargin\":true,\"gridcolor\":\"white\",\"linecolor\":\"white\",\"ticks\":\"\",\"title\":{\"standoff\":15},\"zerolinecolor\":\"white\",\"zerolinewidth\":2},\"yaxis\":{\"automargin\":true,\"gridcolor\":\"white\",\"linecolor\":\"white\",\"ticks\":\"\",\"title\":{\"standoff\":15},\"zerolinecolor\":\"white\",\"zerolinewidth\":2}}},\"xaxis\":{\"anchor\":\"y\",\"domain\":[0.0,1.0],\"title\":{\"text\":\"model\"},\"categoryorder\":\"array\",\"categoryarray\":[\"linear\",\"svm\",\"rf\",\"xgb\",\"mlp\",\"fm\"]},\"yaxis\":{\"anchor\":\"x\",\"domain\":[0.0,1.0],\"title\":{\"text\":\"accuracy\"}},\"legend\":{\"title\":{\"text\":\"model\"},\"tracegroupgap\":0},\"margin\":{\"t\":60},\"boxmode\":\"overlay\",\"width\":600},                        {\"responsive\": true}                    ).then(function(){\n",
              "                            \n",
              "var gd = document.getElementById('5aa6e7c9-274e-495e-97fc-1f2cf4f67524');\n",
              "var x = new MutationObserver(function (mutations, observer) {{\n",
              "        var display = window.getComputedStyle(gd).display;\n",
              "        if (!display || display === 'none') {{\n",
              "            console.log([gd, 'removed!']);\n",
              "            Plotly.purge(gd);\n",
              "            observer.disconnect();\n",
              "        }}\n",
              "}});\n",
              "\n",
              "// Listen for the removal of the full notebook cells\n",
              "var notebookContainer = gd.closest('#notebook-container');\n",
              "if (notebookContainer) {{\n",
              "    x.observe(notebookContainer, {childList: true});\n",
              "}}\n",
              "\n",
              "// Listen for the clearing of the current output cell\n",
              "var outputEl = gd.closest('.output');\n",
              "if (outputEl) {{\n",
              "    x.observe(outputEl, {childList: true});\n",
              "}}\n",
              "\n",
              "                        })                };                            </script>        </div>\n",
              "</body>\n",
              "</html>"
            ]
          },
          "metadata": {}
        }
      ]
    },
    {
      "cell_type": "markdown",
      "source": [
        "## 2-3. Model Combination\n",
        "\n",
        "Although it is possible to select a final model based on the above results, it has been observed that in many cases the combination of predicted values ​​from multiple models leads to improve prediction performance. ([Can multi-model combination really enhance the prediction skill of probabilistic ensemble forecasts?](https://rmets.onlinelibrary.wiley.com/doi/abs/10.1002/qj.210?casa_token=OwyF2RbEywAAAAAA:gahpwGRdOWzLXyafYQQt_voHOF8MedTBLd1SBv4vkdT3ZTLVoKZQj3zl-KbrhSkX5x8CndeCxwBoL_-S))\n",
        "\n",
        "For classification problems, the final probabilities are derived by combining the predicted 'probabilities' for each class in a 'proper way'.\n",
        "\n",
        "This notebook uses following two model combination methods.\n",
        "\n",
        "1. Simple Average\n",
        "2. Stacked Generalization (Stacking)\n",
        "\n",
        "\n",
        "Model comparison needs to be compared with single models (e.g., rf, xgb,...).\n",
        "So model performance are measured by applying the same CV method as above."
      ],
      "metadata": {
        "id": "4n8Ah9ahKDDZ"
      }
    },
    {
      "cell_type": "markdown",
      "source": [
        "### > Simple Average\n",
        "\n",
        "The simple average method derives the final probability value by 'averaging' the predicted probability values ​​for each class of multiple models.\n",
        "\n",
        "The top 4 models (rf, xgb, mlp, fm) of the above CV results are selected as base estimators used for the combination of predicted values.\n",
        "\n",
        "For example,\n",
        "- Base Estimations\n",
        "  - $P_{rf}(Y=1|X=x)$ = 0.75\n",
        "  - $P_{xgb}(Y=1|X=x)$ = 0.80\n",
        "  - $P_{mlp}(Y=1|X=x)$ = 0.85\n",
        "  - $P_{fm}(Y=1|X=x)$ = 0.80\n",
        "- Final Estimation\n",
        "  - $P_{average}(Y=1|X=x)$  = 0.8 (= 0.75 + 0.80 + 0.85 + 0.80 / 4)\n"
      ],
      "metadata": {
        "id": "Sf4wsWU4EHW-"
      }
    },
    {
      "cell_type": "code",
      "source": [
        "from sklearn.model_selection import KFold\n",
        "from tqdm import notebook\n",
        "from sklearn.metrics import accuracy_score\n",
        "from sklearn.metrics import log_loss\n",
        "from sklearn.metrics import roc_auc_score\n",
        "\n",
        "def CV_ensemble(ensemble_name, ensemble_func, estimators, X_train, y_train, n_folds=5, shuffle=True, random_state=2022):\n",
        "  kf = KFold(n_splits=5, random_state=random_state, shuffle=True)\n",
        "\n",
        "  res_list = []\n",
        "  for train_idx, valid_idx in notebook.tqdm(kf.split(X_train), total=kf.get_n_splits(), desc='Eval_CV'):\n",
        "    X_train_train, X_valid = X_train[train_idx], X_train[valid_idx]\n",
        "    y_train_train, y_valid = y_train[train_idx], y_train[valid_idx]\n",
        "\n",
        "    ensemble_pred_proba = ensemble_func(estimators, X_train_train, y_train_train, X_valid)\n",
        "    neg_log_loss = np.negative(log_loss(y_valid, ensemble_pred_proba))\n",
        "    accuracy = accuracy_score(y_valid, ensemble_pred_proba.argmax(axis=1))\n",
        "\n",
        "    res_list.append([ensemble_name, neg_log_loss, accuracy])\n",
        "  res_df = pd.DataFrame(np.vstack((res_list)))\n",
        "  res_df.columns = ['model', 'log_loss', 'accuracy']\n",
        "  return res_df.reset_index(drop=True)\n",
        "\n",
        "def ensemble_average(estimators, X_train, y_train, X_test):\n",
        "  preds = []\n",
        "  num_estimators = len(estimators)\n",
        "  num_class = len(np.unique(y_train))\n",
        "  for iter in range(num_estimators):\n",
        "    try:\n",
        "      estimators[iter].module__num_factors\n",
        "    except: # for other models\n",
        "      estimators[iter].fit(X_train, y_train)\n",
        "      preds.append(estimators[iter].predict_proba(X_test))\n",
        "    else: # for factorization machine\n",
        "      X_train_fm, X_test_fm, _ = prepro_for_fm(X_train, X_test)\n",
        "      estimators[iter].fit(X_train_fm, np.reshape(y_train, (-1,1)).astype(np.float32))\n",
        "      preds.append(estimators[iter].predict_proba(X_test_fm).reshape(-1, num_class))\n",
        "  \n",
        "  preds_stack = np.hstack((preds))\n",
        "  preds_mean = []\n",
        "  for iter in range(num_class):\n",
        "    col_idx = np.arange(iter, num_estimators * num_class, num_class)\n",
        "    preds_mean.append(np.mean(preds_stack[:,col_idx], axis=1))\n",
        "\n",
        "  avg_pred = np.vstack((preds_mean)).transpose()\n",
        "  return avg_pred"
      ],
      "metadata": {
        "id": "NaC8NnOTmN8M"
      },
      "execution_count": null,
      "outputs": []
    },
    {
      "cell_type": "code",
      "source": [
        "from sklearn.linear_model import SGDClassifier\n",
        "from sklearn.ensemble import RandomForestClassifier\n",
        "from xgboost import XGBClassifier\n",
        "\n",
        "linear = SGDClassifier(**eval(best_cv_df.loc[best_cv_df['model']=='linear', 'best_hyper_param'].values[0]))\n",
        "svm = SGDClassifier(**eval(best_cv_df.loc[best_cv_df['model']=='svm', 'best_hyper_param'].values[0]))\n",
        "rf = RandomForestClassifier(**eval(best_cv_df.loc[best_cv_df['model']=='rf', 'best_hyper_param'].values[0]))\n",
        "xgb = XGBClassifier(**eval(best_cv_df.loc[best_cv_df['model']=='xgb', 'best_hyper_param'].values[0]))\n",
        "mlp = mlp.set_params(**eval(best_cv_df.loc[best_cv_df['model']=='mlp', 'best_hyper_param'].values[0]))\n",
        "fm = fm.set_params(**eval(best_cv_df.loc[best_cv_df['model']=='fm', 'best_hyper_param'].values[0]))\n",
        "\n",
        "estimators = [rf, xgb, mlp, fm]\n",
        "estimators_name = 'rf_xgb_mlp_fm'\n",
        "ensemble_name = 'average' + '_by_' + estimators_name\n",
        "\n",
        "X = X_train\n",
        "y = y_train\n",
        "\n",
        "res_df = CV_ensemble(ensemble_name, ensemble_average, estimators, X, y, n_folds=5, shuffle=True, random_state=config['random_state'])\n",
        "best_cv_df = best_cv_df.append(res_df).reset_index(drop=True)"
      ],
      "metadata": {
        "id": "6BAz-9QKtwnm",
        "colab": {
          "base_uri": "https://localhost:8080/",
          "height": 49,
          "referenced_widgets": [
            "914653bdbd594e34baa94f952166055d",
            "57d05062679d438fb01da2feb4bf9d7e",
            "92838a7f220e4e1ead7b150a1b888017",
            "5f32b347a9ac4728a8347e96554d1278",
            "b25bb1a739c043dbac5421e57ccb9282",
            "8e6d9a89bb944fa7b3d7969f4d8fe0f2",
            "555e876659404f998e7ebe843a130c6a",
            "a09149aeb97643999cbda05c455440af",
            "8ce5256b080544a9b96f559b245f57e4",
            "ed9a79f443be480088ae8eee9819f5ad",
            "7650811c7d1349ff9fc456749a2d004e"
          ]
        },
        "outputId": "0c7af238-4a9e-42f0-d804-62b391d16c6d"
      },
      "execution_count": null,
      "outputs": [
        {
          "output_type": "display_data",
          "data": {
            "application/vnd.jupyter.widget-view+json": {
              "model_id": "914653bdbd594e34baa94f952166055d",
              "version_minor": 0,
              "version_major": 2
            },
            "text/plain": [
              "Eval_CV:   0%|          | 0/5 [00:00<?, ?it/s]"
            ]
          },
          "metadata": {}
        }
      ]
    },
    {
      "cell_type": "code",
      "source": [
        "fig = px.box(best_cv_df, x='model', y='accuracy', color='model', width=600)\n",
        "fig.show()"
      ],
      "metadata": {
        "colab": {
          "base_uri": "https://localhost:8080/",
          "height": 542
        },
        "id": "WkaFHOEgvGZD",
        "outputId": "9047623c-dc6e-4c65-971f-62814c149336"
      },
      "execution_count": null,
      "outputs": [
        {
          "output_type": "display_data",
          "data": {
            "text/html": [
              "<html>\n",
              "<head><meta charset=\"utf-8\" /></head>\n",
              "<body>\n",
              "    <div>            <script src=\"https://cdnjs.cloudflare.com/ajax/libs/mathjax/2.7.5/MathJax.js?config=TeX-AMS-MML_SVG\"></script><script type=\"text/javascript\">if (window.MathJax) {MathJax.Hub.Config({SVG: {font: \"STIX-Web\"}});}</script>                <script type=\"text/javascript\">window.PlotlyConfig = {MathJaxConfig: 'local'};</script>\n",
              "        <script src=\"https://cdn.plot.ly/plotly-2.8.3.min.js\"></script>                <div id=\"6cc035be-2672-4931-9268-52e99847cae8\" class=\"plotly-graph-div\" style=\"height:525px; width:600px;\"></div>            <script type=\"text/javascript\">                                    window.PLOTLYENV=window.PLOTLYENV || {};                                    if (document.getElementById(\"6cc035be-2672-4931-9268-52e99847cae8\")) {                    Plotly.newPlot(                        \"6cc035be-2672-4931-9268-52e99847cae8\",                        [{\"alignmentgroup\":\"True\",\"hovertemplate\":\"model=%{x}<br>accuracy=%{y}<extra></extra>\",\"legendgroup\":\"linear\",\"marker\":{\"color\":\"#636efa\"},\"name\":\"linear\",\"notched\":false,\"offsetgroup\":\"linear\",\"orientation\":\"v\",\"showlegend\":true,\"x\":[\"linear\",\"linear\",\"linear\",\"linear\",\"linear\"],\"x0\":\" \",\"xaxis\":\"x\",\"y\":[0.8156424581005587,0.7471910112359551,0.7865168539325843,0.7921348314606742,0.7696629213483146],\"y0\":\" \",\"yaxis\":\"y\",\"type\":\"box\"},{\"alignmentgroup\":\"True\",\"hovertemplate\":\"model=%{x}<br>accuracy=%{y}<extra></extra>\",\"legendgroup\":\"svm\",\"marker\":{\"color\":\"#EF553B\"},\"name\":\"svm\",\"notched\":false,\"offsetgroup\":\"svm\",\"orientation\":\"v\",\"showlegend\":true,\"x\":[\"svm\",\"svm\",\"svm\",\"svm\",\"svm\"],\"x0\":\" \",\"xaxis\":\"x\",\"y\":[0.7318435754189944,0.7303370786516854,0.7808988764044944,0.7303370786516854,0.8089887640449438],\"y0\":\" \",\"yaxis\":\"y\",\"type\":\"box\"},{\"alignmentgroup\":\"True\",\"hovertemplate\":\"model=%{x}<br>accuracy=%{y}<extra></extra>\",\"legendgroup\":\"rf\",\"marker\":{\"color\":\"#00cc96\"},\"name\":\"rf\",\"notched\":false,\"offsetgroup\":\"rf\",\"orientation\":\"v\",\"showlegend\":true,\"x\":[\"rf\",\"rf\",\"rf\",\"rf\",\"rf\"],\"x0\":\" \",\"xaxis\":\"x\",\"y\":[0.8547486033519553,0.8202247191011236,0.8258426966292135,0.8033707865168539,0.8595505617977528],\"y0\":\" \",\"yaxis\":\"y\",\"type\":\"box\"},{\"alignmentgroup\":\"True\",\"hovertemplate\":\"model=%{x}<br>accuracy=%{y}<extra></extra>\",\"legendgroup\":\"xgb\",\"marker\":{\"color\":\"#ab63fa\"},\"name\":\"xgb\",\"notched\":false,\"offsetgroup\":\"xgb\",\"orientation\":\"v\",\"showlegend\":true,\"x\":[\"xgb\",\"xgb\",\"xgb\",\"xgb\",\"xgb\"],\"x0\":\" \",\"xaxis\":\"x\",\"y\":[0.8268156424581006,0.848314606741573,0.8651685393258427,0.8146067415730337,0.8651685393258427],\"y0\":\" \",\"yaxis\":\"y\",\"type\":\"box\"},{\"alignmentgroup\":\"True\",\"hovertemplate\":\"model=%{x}<br>accuracy=%{y}<extra></extra>\",\"legendgroup\":\"mlp\",\"marker\":{\"color\":\"#FFA15A\"},\"name\":\"mlp\",\"notched\":false,\"offsetgroup\":\"mlp\",\"orientation\":\"v\",\"showlegend\":true,\"x\":[\"mlp\",\"mlp\",\"mlp\",\"mlp\",\"mlp\"],\"x0\":\" \",\"xaxis\":\"x\",\"y\":[0.8100558659217877,0.8202247191011236,0.848314606741573,0.7921348314606742,0.8820224719101124],\"y0\":\" \",\"yaxis\":\"y\",\"type\":\"box\"},{\"alignmentgroup\":\"True\",\"hovertemplate\":\"model=%{x}<br>accuracy=%{y}<extra></extra>\",\"legendgroup\":\"fm\",\"marker\":{\"color\":\"#19d3f3\"},\"name\":\"fm\",\"notched\":false,\"offsetgroup\":\"fm\",\"orientation\":\"v\",\"showlegend\":true,\"x\":[\"fm\",\"fm\",\"fm\",\"fm\",\"fm\"],\"x0\":\" \",\"xaxis\":\"x\",\"y\":[0.8268156424581006,0.8202247191011236,0.8202247191011236,0.8146067415730337,0.8595505617977528],\"y0\":\" \",\"yaxis\":\"y\",\"type\":\"box\"},{\"alignmentgroup\":\"True\",\"hovertemplate\":\"model=%{x}<br>accuracy=%{y}<extra></extra>\",\"legendgroup\":\"average_by_rf_xgb_mlp_fm\",\"marker\":{\"color\":\"#FF6692\"},\"name\":\"average_by_rf_xgb_mlp_fm\",\"notched\":false,\"offsetgroup\":\"average_by_rf_xgb_mlp_fm\",\"orientation\":\"v\",\"showlegend\":true,\"x\":[\"average_by_rf_xgb_mlp_fm\",\"average_by_rf_xgb_mlp_fm\",\"average_by_rf_xgb_mlp_fm\",\"average_by_rf_xgb_mlp_fm\",\"average_by_rf_xgb_mlp_fm\"],\"x0\":\" \",\"xaxis\":\"x\",\"y\":[\"0.8212290502793296\",\"0.797752808988764\",\"0.8033707865168539\",\"0.8876404494382022\",\"0.8426966292134831\"],\"y0\":\" \",\"yaxis\":\"y\",\"type\":\"box\"}],                        {\"template\":{\"data\":{\"bar\":[{\"error_x\":{\"color\":\"#2a3f5f\"},\"error_y\":{\"color\":\"#2a3f5f\"},\"marker\":{\"line\":{\"color\":\"#E5ECF6\",\"width\":0.5},\"pattern\":{\"fillmode\":\"overlay\",\"size\":10,\"solidity\":0.2}},\"type\":\"bar\"}],\"barpolar\":[{\"marker\":{\"line\":{\"color\":\"#E5ECF6\",\"width\":0.5},\"pattern\":{\"fillmode\":\"overlay\",\"size\":10,\"solidity\":0.2}},\"type\":\"barpolar\"}],\"carpet\":[{\"aaxis\":{\"endlinecolor\":\"#2a3f5f\",\"gridcolor\":\"white\",\"linecolor\":\"white\",\"minorgridcolor\":\"white\",\"startlinecolor\":\"#2a3f5f\"},\"baxis\":{\"endlinecolor\":\"#2a3f5f\",\"gridcolor\":\"white\",\"linecolor\":\"white\",\"minorgridcolor\":\"white\",\"startlinecolor\":\"#2a3f5f\"},\"type\":\"carpet\"}],\"choropleth\":[{\"colorbar\":{\"outlinewidth\":0,\"ticks\":\"\"},\"type\":\"choropleth\"}],\"contour\":[{\"colorbar\":{\"outlinewidth\":0,\"ticks\":\"\"},\"colorscale\":[[0.0,\"#0d0887\"],[0.1111111111111111,\"#46039f\"],[0.2222222222222222,\"#7201a8\"],[0.3333333333333333,\"#9c179e\"],[0.4444444444444444,\"#bd3786\"],[0.5555555555555556,\"#d8576b\"],[0.6666666666666666,\"#ed7953\"],[0.7777777777777778,\"#fb9f3a\"],[0.8888888888888888,\"#fdca26\"],[1.0,\"#f0f921\"]],\"type\":\"contour\"}],\"contourcarpet\":[{\"colorbar\":{\"outlinewidth\":0,\"ticks\":\"\"},\"type\":\"contourcarpet\"}],\"heatmap\":[{\"colorbar\":{\"outlinewidth\":0,\"ticks\":\"\"},\"colorscale\":[[0.0,\"#0d0887\"],[0.1111111111111111,\"#46039f\"],[0.2222222222222222,\"#7201a8\"],[0.3333333333333333,\"#9c179e\"],[0.4444444444444444,\"#bd3786\"],[0.5555555555555556,\"#d8576b\"],[0.6666666666666666,\"#ed7953\"],[0.7777777777777778,\"#fb9f3a\"],[0.8888888888888888,\"#fdca26\"],[1.0,\"#f0f921\"]],\"type\":\"heatmap\"}],\"heatmapgl\":[{\"colorbar\":{\"outlinewidth\":0,\"ticks\":\"\"},\"colorscale\":[[0.0,\"#0d0887\"],[0.1111111111111111,\"#46039f\"],[0.2222222222222222,\"#7201a8\"],[0.3333333333333333,\"#9c179e\"],[0.4444444444444444,\"#bd3786\"],[0.5555555555555556,\"#d8576b\"],[0.6666666666666666,\"#ed7953\"],[0.7777777777777778,\"#fb9f3a\"],[0.8888888888888888,\"#fdca26\"],[1.0,\"#f0f921\"]],\"type\":\"heatmapgl\"}],\"histogram\":[{\"marker\":{\"pattern\":{\"fillmode\":\"overlay\",\"size\":10,\"solidity\":0.2}},\"type\":\"histogram\"}],\"histogram2d\":[{\"colorbar\":{\"outlinewidth\":0,\"ticks\":\"\"},\"colorscale\":[[0.0,\"#0d0887\"],[0.1111111111111111,\"#46039f\"],[0.2222222222222222,\"#7201a8\"],[0.3333333333333333,\"#9c179e\"],[0.4444444444444444,\"#bd3786\"],[0.5555555555555556,\"#d8576b\"],[0.6666666666666666,\"#ed7953\"],[0.7777777777777778,\"#fb9f3a\"],[0.8888888888888888,\"#fdca26\"],[1.0,\"#f0f921\"]],\"type\":\"histogram2d\"}],\"histogram2dcontour\":[{\"colorbar\":{\"outlinewidth\":0,\"ticks\":\"\"},\"colorscale\":[[0.0,\"#0d0887\"],[0.1111111111111111,\"#46039f\"],[0.2222222222222222,\"#7201a8\"],[0.3333333333333333,\"#9c179e\"],[0.4444444444444444,\"#bd3786\"],[0.5555555555555556,\"#d8576b\"],[0.6666666666666666,\"#ed7953\"],[0.7777777777777778,\"#fb9f3a\"],[0.8888888888888888,\"#fdca26\"],[1.0,\"#f0f921\"]],\"type\":\"histogram2dcontour\"}],\"mesh3d\":[{\"colorbar\":{\"outlinewidth\":0,\"ticks\":\"\"},\"type\":\"mesh3d\"}],\"parcoords\":[{\"line\":{\"colorbar\":{\"outlinewidth\":0,\"ticks\":\"\"}},\"type\":\"parcoords\"}],\"pie\":[{\"automargin\":true,\"type\":\"pie\"}],\"scatter\":[{\"marker\":{\"colorbar\":{\"outlinewidth\":0,\"ticks\":\"\"}},\"type\":\"scatter\"}],\"scatter3d\":[{\"line\":{\"colorbar\":{\"outlinewidth\":0,\"ticks\":\"\"}},\"marker\":{\"colorbar\":{\"outlinewidth\":0,\"ticks\":\"\"}},\"type\":\"scatter3d\"}],\"scattercarpet\":[{\"marker\":{\"colorbar\":{\"outlinewidth\":0,\"ticks\":\"\"}},\"type\":\"scattercarpet\"}],\"scattergeo\":[{\"marker\":{\"colorbar\":{\"outlinewidth\":0,\"ticks\":\"\"}},\"type\":\"scattergeo\"}],\"scattergl\":[{\"marker\":{\"colorbar\":{\"outlinewidth\":0,\"ticks\":\"\"}},\"type\":\"scattergl\"}],\"scattermapbox\":[{\"marker\":{\"colorbar\":{\"outlinewidth\":0,\"ticks\":\"\"}},\"type\":\"scattermapbox\"}],\"scatterpolar\":[{\"marker\":{\"colorbar\":{\"outlinewidth\":0,\"ticks\":\"\"}},\"type\":\"scatterpolar\"}],\"scatterpolargl\":[{\"marker\":{\"colorbar\":{\"outlinewidth\":0,\"ticks\":\"\"}},\"type\":\"scatterpolargl\"}],\"scatterternary\":[{\"marker\":{\"colorbar\":{\"outlinewidth\":0,\"ticks\":\"\"}},\"type\":\"scatterternary\"}],\"surface\":[{\"colorbar\":{\"outlinewidth\":0,\"ticks\":\"\"},\"colorscale\":[[0.0,\"#0d0887\"],[0.1111111111111111,\"#46039f\"],[0.2222222222222222,\"#7201a8\"],[0.3333333333333333,\"#9c179e\"],[0.4444444444444444,\"#bd3786\"],[0.5555555555555556,\"#d8576b\"],[0.6666666666666666,\"#ed7953\"],[0.7777777777777778,\"#fb9f3a\"],[0.8888888888888888,\"#fdca26\"],[1.0,\"#f0f921\"]],\"type\":\"surface\"}],\"table\":[{\"cells\":{\"fill\":{\"color\":\"#EBF0F8\"},\"line\":{\"color\":\"white\"}},\"header\":{\"fill\":{\"color\":\"#C8D4E3\"},\"line\":{\"color\":\"white\"}},\"type\":\"table\"}]},\"layout\":{\"annotationdefaults\":{\"arrowcolor\":\"#2a3f5f\",\"arrowhead\":0,\"arrowwidth\":1},\"autotypenumbers\":\"strict\",\"coloraxis\":{\"colorbar\":{\"outlinewidth\":0,\"ticks\":\"\"}},\"colorscale\":{\"diverging\":[[0,\"#8e0152\"],[0.1,\"#c51b7d\"],[0.2,\"#de77ae\"],[0.3,\"#f1b6da\"],[0.4,\"#fde0ef\"],[0.5,\"#f7f7f7\"],[0.6,\"#e6f5d0\"],[0.7,\"#b8e186\"],[0.8,\"#7fbc41\"],[0.9,\"#4d9221\"],[1,\"#276419\"]],\"sequential\":[[0.0,\"#0d0887\"],[0.1111111111111111,\"#46039f\"],[0.2222222222222222,\"#7201a8\"],[0.3333333333333333,\"#9c179e\"],[0.4444444444444444,\"#bd3786\"],[0.5555555555555556,\"#d8576b\"],[0.6666666666666666,\"#ed7953\"],[0.7777777777777778,\"#fb9f3a\"],[0.8888888888888888,\"#fdca26\"],[1.0,\"#f0f921\"]],\"sequentialminus\":[[0.0,\"#0d0887\"],[0.1111111111111111,\"#46039f\"],[0.2222222222222222,\"#7201a8\"],[0.3333333333333333,\"#9c179e\"],[0.4444444444444444,\"#bd3786\"],[0.5555555555555556,\"#d8576b\"],[0.6666666666666666,\"#ed7953\"],[0.7777777777777778,\"#fb9f3a\"],[0.8888888888888888,\"#fdca26\"],[1.0,\"#f0f921\"]]},\"colorway\":[\"#636efa\",\"#EF553B\",\"#00cc96\",\"#ab63fa\",\"#FFA15A\",\"#19d3f3\",\"#FF6692\",\"#B6E880\",\"#FF97FF\",\"#FECB52\"],\"font\":{\"color\":\"#2a3f5f\"},\"geo\":{\"bgcolor\":\"white\",\"lakecolor\":\"white\",\"landcolor\":\"#E5ECF6\",\"showlakes\":true,\"showland\":true,\"subunitcolor\":\"white\"},\"hoverlabel\":{\"align\":\"left\"},\"hovermode\":\"closest\",\"mapbox\":{\"style\":\"light\"},\"paper_bgcolor\":\"white\",\"plot_bgcolor\":\"#E5ECF6\",\"polar\":{\"angularaxis\":{\"gridcolor\":\"white\",\"linecolor\":\"white\",\"ticks\":\"\"},\"bgcolor\":\"#E5ECF6\",\"radialaxis\":{\"gridcolor\":\"white\",\"linecolor\":\"white\",\"ticks\":\"\"}},\"scene\":{\"xaxis\":{\"backgroundcolor\":\"#E5ECF6\",\"gridcolor\":\"white\",\"gridwidth\":2,\"linecolor\":\"white\",\"showbackground\":true,\"ticks\":\"\",\"zerolinecolor\":\"white\"},\"yaxis\":{\"backgroundcolor\":\"#E5ECF6\",\"gridcolor\":\"white\",\"gridwidth\":2,\"linecolor\":\"white\",\"showbackground\":true,\"ticks\":\"\",\"zerolinecolor\":\"white\"},\"zaxis\":{\"backgroundcolor\":\"#E5ECF6\",\"gridcolor\":\"white\",\"gridwidth\":2,\"linecolor\":\"white\",\"showbackground\":true,\"ticks\":\"\",\"zerolinecolor\":\"white\"}},\"shapedefaults\":{\"line\":{\"color\":\"#2a3f5f\"}},\"ternary\":{\"aaxis\":{\"gridcolor\":\"white\",\"linecolor\":\"white\",\"ticks\":\"\"},\"baxis\":{\"gridcolor\":\"white\",\"linecolor\":\"white\",\"ticks\":\"\"},\"bgcolor\":\"#E5ECF6\",\"caxis\":{\"gridcolor\":\"white\",\"linecolor\":\"white\",\"ticks\":\"\"}},\"title\":{\"x\":0.05},\"xaxis\":{\"automargin\":true,\"gridcolor\":\"white\",\"linecolor\":\"white\",\"ticks\":\"\",\"title\":{\"standoff\":15},\"zerolinecolor\":\"white\",\"zerolinewidth\":2},\"yaxis\":{\"automargin\":true,\"gridcolor\":\"white\",\"linecolor\":\"white\",\"ticks\":\"\",\"title\":{\"standoff\":15},\"zerolinecolor\":\"white\",\"zerolinewidth\":2}}},\"xaxis\":{\"anchor\":\"y\",\"domain\":[0.0,1.0],\"title\":{\"text\":\"model\"},\"categoryorder\":\"array\",\"categoryarray\":[\"linear\",\"svm\",\"rf\",\"xgb\",\"mlp\",\"fm\",\"average_by_rf_xgb_mlp_fm\"]},\"yaxis\":{\"anchor\":\"x\",\"domain\":[0.0,1.0],\"title\":{\"text\":\"accuracy\"}},\"legend\":{\"title\":{\"text\":\"model\"},\"tracegroupgap\":0},\"margin\":{\"t\":60},\"boxmode\":\"overlay\",\"width\":600},                        {\"responsive\": true}                    ).then(function(){\n",
              "                            \n",
              "var gd = document.getElementById('6cc035be-2672-4931-9268-52e99847cae8');\n",
              "var x = new MutationObserver(function (mutations, observer) {{\n",
              "        var display = window.getComputedStyle(gd).display;\n",
              "        if (!display || display === 'none') {{\n",
              "            console.log([gd, 'removed!']);\n",
              "            Plotly.purge(gd);\n",
              "            observer.disconnect();\n",
              "        }}\n",
              "}});\n",
              "\n",
              "// Listen for the removal of the full notebook cells\n",
              "var notebookContainer = gd.closest('#notebook-container');\n",
              "if (notebookContainer) {{\n",
              "    x.observe(notebookContainer, {childList: true});\n",
              "}}\n",
              "\n",
              "// Listen for the clearing of the current output cell\n",
              "var outputEl = gd.closest('.output');\n",
              "if (outputEl) {{\n",
              "    x.observe(outputEl, {childList: true});\n",
              "}}\n",
              "\n",
              "                        })                };                            </script>        </div>\n",
              "</body>\n",
              "</html>"
            ]
          },
          "metadata": {}
        }
      ]
    },
    {
      "cell_type": "markdown",
      "source": [
        "### > Stacked generalization (Stacking)\n",
        "\n",
        "In the [Stacked generalization](https://www.jair.org/index.php/jair/article/view/10228), the predicted probabilities for each class of base estimators are treated as the 'input data', and the result obtained by fitting the 'Meta Learner' with y of each row as the response variable is derived as the final probability.\n",
        "\n",
        "- The 'Meta Learner' can be used with any of the binary classification models. However, this notebook uses a ridge model (logistic regression with ridge penalty) to prevent overfitting.\n",
        "\n",
        "- As input data for 'Meta Learner', prediction probabilities for validation data in cv of base estimators are obtained.\n",
        "\n",
        "- Trained meta-learner predicts the final predicted probabilities for the test-set by using the predicted probabilites of baes estimators for the test-set as input data.\n",
        "\n",
        "The total process, in order, is as follows:\n",
        "1. (Base estimators) Run CV on Train-set\n",
        "2. (Meta Learner) Train on CV predictions (predicted probabilities on validation data of CV) with corresponding y values\n",
        "3. (Base estimators) Train on Train-set\n",
        "4. (Base estimators) Predict on Test-set\n",
        "5. (Meta Learner) Predict on predictions on Test-set\n",
        "\n",
        "<img align='top' src='https://drive.google.com/uc?export=view&id=1uDxSIIFt8rUJkuIwRYU4lALvOPqlXPG5' width='600' height='400'>\n",
        "\n",
        "\n",
        "For example,\n",
        "- Base Estimations\n",
        "  - $P_{rf}(Y=1|X=x)$ = 0.75\n",
        "  - $P_{xgb}(Y=1|X=x)$ = 0.80\n",
        "  - $P_{mlp}(Y=1|X=x)$ = 0.85\n",
        "  - $P_{fm}(Y=1|X=x)$ = 0.80\n",
        "- Meta Learner (logistic regression)\n",
        "  - Parameter\n",
        "    - intercept = 0.1\n",
        "    - coefficient = [0.2, 0.9, 0.8, 0.3]\n",
        "  - $P_{stack}(Y=1|X=x) = 0.8442 = sigmoid(-0.1 + 0.2*0.75 + 0.9*0.80 + 0.8*0.85 + 0.3*0.80)$"
      ],
      "metadata": {
        "id": "5eKbDaOmEPVc"
      }
    },
    {
      "cell_type": "markdown",
      "source": [
        "The code provided by sklearn exists ([StackingClassifier](https://scikit-learn.org/stable/modules/generated/sklearn.ensemble.StackingClassifier.html)), but this can not be applied to the skorch models.\n",
        "\n",
        "So I provide below code which does the stacking operation."
      ],
      "metadata": {
        "id": "a60-Ux5sD-6r"
      }
    },
    {
      "cell_type": "code",
      "source": [
        "from sklearn.model_selection import KFold\n",
        "from tqdm import notebook\n",
        "\n",
        "\n",
        "def stack_clf(estimators, X_train, y_train, X_test, n_folds=5, shuffle=True, random_state=2022):\n",
        "  final_estimator = estimators[-1]\n",
        "  num_estimators = len(estimators)-1\n",
        "  num_outputs = len(np.unique(y_train))\n",
        "\n",
        "  kf = KFold(n_splits=n_folds, random_state=random_state, shuffle=shuffle)\n",
        "  preds = []\n",
        "  y_valid_list = []\n",
        "  # Get CV predictions\n",
        "  for train_idx, valid_idx in notebook.tqdm(kf.split(X_train), total=kf.get_n_splits(), desc='Stack_CV'):\n",
        "    X_train_train, X_valid = X_train[train_idx], X_train[valid_idx]\n",
        "    y_train_train, y_valid = y_train[train_idx], y_train[valid_idx]\n",
        "    \n",
        "    valid_preds = []\n",
        "    for iter in range(num_estimators):\n",
        "      try:\n",
        "        estimators[iter].module__num_factors\n",
        "      except: # for other models\n",
        "        estimators[iter].fit(X_train_train, y_train_train)\n",
        "        valid_preds.append(estimators[iter].predict_proba(X_valid))\n",
        "      else: # for factorization machine\n",
        "        X_train_train_fm, X_valid_fm, _ = prepro_for_fm(X_train_train, X_valid)\n",
        "        estimators[iter].fit(X_train_train_fm, y_train_train.reshape(-1,1).astype(np.float32))\n",
        "        valid_preds.append(estimators[iter].predict_proba(X_valid_fm).reshape(-1,num_outputs))\n",
        "    \n",
        "    preds.append(np.hstack((valid_preds)))\n",
        "    y_valid_list.append(y_valid)\n",
        "\n",
        "  cv_preds = np.vstack((preds))\n",
        "  cv_y = np.hstack((y_valid_list))\n",
        "\n",
        "  # Get test predictions\n",
        "  test_preds =[]\n",
        "  for iter in range(num_estimators):\n",
        "    try:\n",
        "      estimators[iter].module__num_factors\n",
        "    except: # for other models\n",
        "      estimators[iter].fit(X_train, y_train)\n",
        "      test_preds.append(estimators[iter].predict_proba(X_test))\n",
        "    else: # for factorization machine\n",
        "      X_train_fm, X_test_fm, _ = prepro_for_fm(X_train, X_test)\n",
        "      estimators[iter].fit(X_train_fm, y_train.reshape(-1,1).astype(np.float32))\n",
        "      test_preds.append(estimators[iter].predict_proba(X_test_fm).reshape(-1,num_outputs))\n",
        "\n",
        "  test_preds_mat = np.hstack((test_preds))\n",
        "\n",
        "  # Fit the final estimator on cv prediction values \n",
        "  # And make a prediction on test predictoin values\n",
        "  final_estimator.fit(cv_preds, cv_y)\n",
        "  print(' Estimated coefficients: {} \\n intercept: {}'.format(final_estimator.coef_, final_estimator.intercept_))\n",
        "  \n",
        "  pred_fin = final_estimator.predict_proba(test_preds_mat)\n",
        "  return pred_fin"
      ],
      "metadata": {
        "id": "8s2ZxrTGTJYD"
      },
      "execution_count": null,
      "outputs": []
    },
    {
      "cell_type": "code",
      "source": [
        "from sklearn.linear_model import SGDClassifier\n",
        "from sklearn.ensemble import RandomForestClassifier\n",
        "from xgboost import XGBClassifier\n",
        "from sklearn.linear_model import LogisticRegression\n",
        "\n",
        "# Base estimators\n",
        "linear = SGDClassifier(**eval(best_cv_df.loc[best_cv_df['model']=='linear', 'best_hyper_param'].values[0]))\n",
        "svm = SGDClassifier(**eval(best_cv_df.loc[best_cv_df['model']=='svm', 'best_hyper_param'].values[0]))\n",
        "rf = RandomForestClassifier(**eval(best_cv_df.loc[best_cv_df['model']=='rf', 'best_hyper_param'].values[0]))\n",
        "xgb = XGBClassifier(**eval(best_cv_df.loc[best_cv_df['model']=='xgb', 'best_hyper_param'].values[0]))\n",
        "mlp = mlp.set_params(**eval(best_cv_df.loc[best_cv_df['model']=='mlp', 'best_hyper_param'].values[0]))\n",
        "fm = fm.set_params(**eval(best_cv_df.loc[best_cv_df['model']=='fm', 'best_hyper_param'].values[0]))\n",
        "\n",
        "estimators = [rf, xgb, mlp, fm]\n",
        "estimators_name = 'rf_xgb_mlp_fm'\n",
        "\n",
        "# Final estimator\n",
        "clf = LogisticRegression(penalty='l2', max_iter=1000, random_state=config['random_state'])\n",
        "\n",
        "estimators.append(clf)\n",
        "ensemble_func = stack_clf\n",
        "ensemble_name = 'stack_ridge_2' + '_by_' + estimators_name\n",
        "\n",
        "# Run CV \n",
        "\n",
        "X = X_train\n",
        "y = y_train\n",
        "\n",
        "res_df = CV_ensemble(ensemble_name, ensemble_func, estimators, X, y, n_folds=5, shuffle=True, random_state=config['random_state'])\n",
        "best_cv_df = best_cv_df.append(res_df)"
      ],
      "metadata": {
        "colab": {
          "base_uri": "https://localhost:8080/",
          "height": 387,
          "referenced_widgets": [
            "69b2eb10c6c24428b5ff4c1ed491d128",
            "e2a3f9759e414ab485bdf727dbee60ad",
            "14223a1f462147f684d2347566ea3e07",
            "7d6fe8c426cb49c7bb42c8eec37995dc",
            "ab194d71def74c338b02e1aeb82e9ce5",
            "6691ee869cf54f679e75a97807e20640",
            "2cdfcda984ac45e293b6b99a0ec1388a",
            "7d336ae38fd94f40977c6531a3787982",
            "e431f1d378f048f89d3b0eef0c04dbd7",
            "de88397e90fb49b788a7a341a9dfc094",
            "f291cff9ffbc4ba9bbad76959f6d1c53",
            "1ec87b98e9f945bcae1ab10d91b5f7c7",
            "4da2bed4e3964cb6a0cc1b07d9713e28",
            "a5c00ce2195642f8967db4a1f147c47f",
            "dda7bafbc4e24f1687b4ccc36ccba204",
            "c7e433b1550d49cc96d472e0be96379e",
            "c9920e01169945fdb75e9563f9bc91b6",
            "49e3c4cd876b411a802c8fff5d4aaaea",
            "91f727d86dfa4bffa7bcd627af1d09ce",
            "62cf66386d9e42dbaddf13c0cae84a74",
            "dec6e400683f410383eb9ba244fae38e",
            "b026461e1b4e4a27b761e766aeb73868",
            "b7d5f28762784820b8747ac4324e8e47",
            "d807d3ef052b42d68d5f926d3b33f0dc",
            "171d3827e6f54d8b896cdc62af9e9824",
            "594ce5302b7a40eab99aff8e1e8e5f80",
            "acfb03165580453c8819b8d08ab6a3ff",
            "7fe9f2ed24954926a2ff1a703f3c2b7c",
            "9ba817caaabe45a198c7fad568490ed1",
            "98685961fa6748b291165fa94d849a0a",
            "6558b73ffc484990af39bd13066ca50f",
            "0041664b7b524ba4b5e2a9362a5ec4ed",
            "4f95d6df11574361bef3bc016f374015",
            "8077d18dd1cb4d7998924d696d4c3307",
            "154992a1711d46d8b202b272dd35d376",
            "d2faa76b1b6246f8b862b5eee9c3e20e",
            "7cb1de9332b44650984c3dc5d5678e2e",
            "9aebf1fc648f4efca2dac2e5e910886b",
            "ba50560e4ec941da9195e6b9fb818cae",
            "500539f83a304c55b088be10bd6d5f21",
            "3435833b29ea459abe45f12754e0692a",
            "5837e4b82e5f478cabf06eda54029c29",
            "f3bf14561a5849dfb240360c0c122e32",
            "94469aaf9b0344f18d7d65d534f43356",
            "b722d2cfecd444b4b4136cfdb5aeea89",
            "e0b5c2c3788145949dd09687e0235409",
            "ba84452ae36f4a6fae3f4ff440af70e6",
            "0ff6808b83bb45ff9ce55441272cb32e",
            "1947a82495624f83965021dcbc79efcb",
            "ffbe7a91b74742b4bddad27b4516609c",
            "82d662b52f70447eb8a13f8731aa187e",
            "4a50c0a1da2646cb850cb40be4dd09d3",
            "0d65cc352a2e4735badb5d31d9d3c42e",
            "12e95653e1b34577b3fe3d110f88bc27",
            "ddef9ed2c8f645178a953eb75ca1f393",
            "be7647aa1d7f4d1894eb8502bf889062",
            "f6da4dd72af4420d8c19d3b40b31f34f",
            "add6ab5f9d224c43b0f7e7ab2e23f14a",
            "bf2383448aa145cea51c1491b652dae7",
            "a24e27da328948a38145372ac37eb363",
            "3070c058e16f4048b27335d26eecc094",
            "061d596947a748b3b187c28ee03291b6",
            "351b88e9c30842fd9a4111a24ee750e4",
            "7ba731a50c1a405bb2562f3e7992aa21",
            "51aa79fcc1a9438c8c1f14bca0f197c1",
            "720da0c678014e9b836d8d7c5305f2e2"
          ]
        },
        "id": "-hg4DPezp5wh",
        "outputId": "e87a5d3e-5d04-4a7d-9e45-996eec654aa1"
      },
      "execution_count": null,
      "outputs": [
        {
          "output_type": "display_data",
          "data": {
            "application/vnd.jupyter.widget-view+json": {
              "model_id": "69b2eb10c6c24428b5ff4c1ed491d128",
              "version_minor": 0,
              "version_major": 2
            },
            "text/plain": [
              "Eval_CV:   0%|          | 0/5 [00:00<?, ?it/s]"
            ]
          },
          "metadata": {}
        },
        {
          "output_type": "display_data",
          "data": {
            "application/vnd.jupyter.widget-view+json": {
              "model_id": "1ec87b98e9f945bcae1ab10d91b5f7c7",
              "version_minor": 0,
              "version_major": 2
            },
            "text/plain": [
              "Stack_CV:   0%|          | 0/5 [00:00<?, ?it/s]"
            ]
          },
          "metadata": {}
        },
        {
          "output_type": "stream",
          "name": "stdout",
          "text": [
            " Estimated coefficients: [[1.63317838 2.34610998 1.39096013 0.20048653]] \n",
            " intercept: [-2.73132143]\n"
          ]
        },
        {
          "output_type": "display_data",
          "data": {
            "application/vnd.jupyter.widget-view+json": {
              "model_id": "b7d5f28762784820b8747ac4324e8e47",
              "version_minor": 0,
              "version_major": 2
            },
            "text/plain": [
              "Stack_CV:   0%|          | 0/5 [00:00<?, ?it/s]"
            ]
          },
          "metadata": {}
        },
        {
          "output_type": "stream",
          "name": "stdout",
          "text": [
            " Estimated coefficients: [[1.49901696 2.37377392 1.09713609 0.78248922]] \n",
            " intercept: [-2.82344589]\n"
          ]
        },
        {
          "output_type": "display_data",
          "data": {
            "application/vnd.jupyter.widget-view+json": {
              "model_id": "8077d18dd1cb4d7998924d696d4c3307",
              "version_minor": 0,
              "version_major": 2
            },
            "text/plain": [
              "Stack_CV:   0%|          | 0/5 [00:00<?, ?it/s]"
            ]
          },
          "metadata": {}
        },
        {
          "output_type": "stream",
          "name": "stdout",
          "text": [
            " Estimated coefficients: [[1.65046263 1.96938323 1.3664495  0.7847296 ]] \n",
            " intercept: [-2.82512957]\n"
          ]
        },
        {
          "output_type": "display_data",
          "data": {
            "application/vnd.jupyter.widget-view+json": {
              "model_id": "b722d2cfecd444b4b4136cfdb5aeea89",
              "version_minor": 0,
              "version_major": 2
            },
            "text/plain": [
              "Stack_CV:   0%|          | 0/5 [00:00<?, ?it/s]"
            ]
          },
          "metadata": {}
        },
        {
          "output_type": "stream",
          "name": "stdout",
          "text": [
            " Estimated coefficients: [[2.27333219 1.29314765 1.51882527 0.09843957]] \n",
            " intercept: [-2.59363171]\n"
          ]
        },
        {
          "output_type": "display_data",
          "data": {
            "application/vnd.jupyter.widget-view+json": {
              "model_id": "be7647aa1d7f4d1894eb8502bf889062",
              "version_minor": 0,
              "version_major": 2
            },
            "text/plain": [
              "Stack_CV:   0%|          | 0/5 [00:00<?, ?it/s]"
            ]
          },
          "metadata": {}
        },
        {
          "output_type": "stream",
          "name": "stdout",
          "text": [
            " Estimated coefficients: [[1.33262056 1.85755821 1.32792652 0.97795723]] \n",
            " intercept: [-2.70875581]\n"
          ]
        }
      ]
    },
    {
      "cell_type": "markdown",
      "source": [
        "## 2-4. Model Comparison based on CV results including model combination methods\n",
        "\n",
        "From the figure below, 'xgb' shows the best performance among single models.\n",
        "Among the model combination methodologies, it can be seen that the 'stack_ridge_by_rf_xgb_mlp_fm' method shows the best performance."
      ],
      "metadata": {
        "id": "zVRkLmi2FC4h"
      }
    },
    {
      "cell_type": "code",
      "source": [
        "fig = px.box(best_cv_df, x='model', y='accuracy', color='model', width=600)\n",
        "fig.show()"
      ],
      "metadata": {
        "colab": {
          "base_uri": "https://localhost:8080/",
          "height": 542
        },
        "id": "A0tVRf6ZYqsK",
        "outputId": "ef35c58b-71e3-4a37-dcd9-950b9fb69932"
      },
      "execution_count": null,
      "outputs": [
        {
          "output_type": "display_data",
          "data": {
            "text/html": [
              "<html>\n",
              "<head><meta charset=\"utf-8\" /></head>\n",
              "<body>\n",
              "    <div>            <script src=\"https://cdnjs.cloudflare.com/ajax/libs/mathjax/2.7.5/MathJax.js?config=TeX-AMS-MML_SVG\"></script><script type=\"text/javascript\">if (window.MathJax) {MathJax.Hub.Config({SVG: {font: \"STIX-Web\"}});}</script>                <script type=\"text/javascript\">window.PlotlyConfig = {MathJaxConfig: 'local'};</script>\n",
              "        <script src=\"https://cdn.plot.ly/plotly-2.8.3.min.js\"></script>                <div id=\"8dc9b1c0-1cf8-4940-bed8-4f3a66682fd2\" class=\"plotly-graph-div\" style=\"height:525px; width:600px;\"></div>            <script type=\"text/javascript\">                                    window.PLOTLYENV=window.PLOTLYENV || {};                                    if (document.getElementById(\"8dc9b1c0-1cf8-4940-bed8-4f3a66682fd2\")) {                    Plotly.newPlot(                        \"8dc9b1c0-1cf8-4940-bed8-4f3a66682fd2\",                        [{\"alignmentgroup\":\"True\",\"hovertemplate\":\"model=%{x}<br>accuracy=%{y}<extra></extra>\",\"legendgroup\":\"linear\",\"marker\":{\"color\":\"#636efa\"},\"name\":\"linear\",\"notched\":false,\"offsetgroup\":\"linear\",\"orientation\":\"v\",\"showlegend\":true,\"x\":[\"linear\",\"linear\",\"linear\",\"linear\",\"linear\"],\"x0\":\" \",\"xaxis\":\"x\",\"y\":[0.8156424581005587,0.7471910112359551,0.7865168539325843,0.7921348314606742,0.7696629213483146],\"y0\":\" \",\"yaxis\":\"y\",\"type\":\"box\"},{\"alignmentgroup\":\"True\",\"hovertemplate\":\"model=%{x}<br>accuracy=%{y}<extra></extra>\",\"legendgroup\":\"svm\",\"marker\":{\"color\":\"#EF553B\"},\"name\":\"svm\",\"notched\":false,\"offsetgroup\":\"svm\",\"orientation\":\"v\",\"showlegend\":true,\"x\":[\"svm\",\"svm\",\"svm\",\"svm\",\"svm\"],\"x0\":\" \",\"xaxis\":\"x\",\"y\":[0.7318435754189944,0.7303370786516854,0.7808988764044944,0.7303370786516854,0.8089887640449438],\"y0\":\" \",\"yaxis\":\"y\",\"type\":\"box\"},{\"alignmentgroup\":\"True\",\"hovertemplate\":\"model=%{x}<br>accuracy=%{y}<extra></extra>\",\"legendgroup\":\"rf\",\"marker\":{\"color\":\"#00cc96\"},\"name\":\"rf\",\"notched\":false,\"offsetgroup\":\"rf\",\"orientation\":\"v\",\"showlegend\":true,\"x\":[\"rf\",\"rf\",\"rf\",\"rf\",\"rf\"],\"x0\":\" \",\"xaxis\":\"x\",\"y\":[0.8547486033519553,0.8202247191011236,0.8258426966292135,0.8033707865168539,0.8595505617977528],\"y0\":\" \",\"yaxis\":\"y\",\"type\":\"box\"},{\"alignmentgroup\":\"True\",\"hovertemplate\":\"model=%{x}<br>accuracy=%{y}<extra></extra>\",\"legendgroup\":\"xgb\",\"marker\":{\"color\":\"#ab63fa\"},\"name\":\"xgb\",\"notched\":false,\"offsetgroup\":\"xgb\",\"orientation\":\"v\",\"showlegend\":true,\"x\":[\"xgb\",\"xgb\",\"xgb\",\"xgb\",\"xgb\"],\"x0\":\" \",\"xaxis\":\"x\",\"y\":[0.8268156424581006,0.848314606741573,0.8651685393258427,0.8146067415730337,0.8651685393258427],\"y0\":\" \",\"yaxis\":\"y\",\"type\":\"box\"},{\"alignmentgroup\":\"True\",\"hovertemplate\":\"model=%{x}<br>accuracy=%{y}<extra></extra>\",\"legendgroup\":\"mlp\",\"marker\":{\"color\":\"#FFA15A\"},\"name\":\"mlp\",\"notched\":false,\"offsetgroup\":\"mlp\",\"orientation\":\"v\",\"showlegend\":true,\"x\":[\"mlp\",\"mlp\",\"mlp\",\"mlp\",\"mlp\"],\"x0\":\" \",\"xaxis\":\"x\",\"y\":[0.8100558659217877,0.8202247191011236,0.848314606741573,0.7921348314606742,0.8820224719101124],\"y0\":\" \",\"yaxis\":\"y\",\"type\":\"box\"},{\"alignmentgroup\":\"True\",\"hovertemplate\":\"model=%{x}<br>accuracy=%{y}<extra></extra>\",\"legendgroup\":\"fm\",\"marker\":{\"color\":\"#19d3f3\"},\"name\":\"fm\",\"notched\":false,\"offsetgroup\":\"fm\",\"orientation\":\"v\",\"showlegend\":true,\"x\":[\"fm\",\"fm\",\"fm\",\"fm\",\"fm\"],\"x0\":\" \",\"xaxis\":\"x\",\"y\":[0.8268156424581006,0.8202247191011236,0.8202247191011236,0.8146067415730337,0.8595505617977528],\"y0\":\" \",\"yaxis\":\"y\",\"type\":\"box\"},{\"alignmentgroup\":\"True\",\"hovertemplate\":\"model=%{x}<br>accuracy=%{y}<extra></extra>\",\"legendgroup\":\"average_by_rf_xgb_mlp_fm\",\"marker\":{\"color\":\"#FF6692\"},\"name\":\"average_by_rf_xgb_mlp_fm\",\"notched\":false,\"offsetgroup\":\"average_by_rf_xgb_mlp_fm\",\"orientation\":\"v\",\"showlegend\":true,\"x\":[\"average_by_rf_xgb_mlp_fm\",\"average_by_rf_xgb_mlp_fm\",\"average_by_rf_xgb_mlp_fm\",\"average_by_rf_xgb_mlp_fm\",\"average_by_rf_xgb_mlp_fm\"],\"x0\":\" \",\"xaxis\":\"x\",\"y\":[\"0.8212290502793296\",\"0.797752808988764\",\"0.8033707865168539\",\"0.8876404494382022\",\"0.8426966292134831\"],\"y0\":\" \",\"yaxis\":\"y\",\"type\":\"box\"},{\"alignmentgroup\":\"True\",\"hovertemplate\":\"model=%{x}<br>accuracy=%{y}<extra></extra>\",\"legendgroup\":\"stack_ridge_by_rf, xgb, mlp, fm\",\"marker\":{\"color\":\"#B6E880\"},\"name\":\"stack_ridge_by_rf, xgb, mlp, fm\",\"notched\":false,\"offsetgroup\":\"stack_ridge_by_rf, xgb, mlp, fm\",\"orientation\":\"v\",\"showlegend\":true,\"x\":[\"stack_ridge_by_rf, xgb, mlp, fm\",\"stack_ridge_by_rf, xgb, mlp, fm\",\"stack_ridge_by_rf, xgb, mlp, fm\",\"stack_ridge_by_rf, xgb, mlp, fm\",\"stack_ridge_by_rf, xgb, mlp, fm\"],\"x0\":\" \",\"xaxis\":\"x\",\"y\":[\"0.8156424581005587\",\"0.8089887640449438\",\"0.8146067415730337\",\"0.898876404494382\",\"0.8426966292134831\"],\"y0\":\" \",\"yaxis\":\"y\",\"type\":\"box\"}],                        {\"template\":{\"data\":{\"bar\":[{\"error_x\":{\"color\":\"#2a3f5f\"},\"error_y\":{\"color\":\"#2a3f5f\"},\"marker\":{\"line\":{\"color\":\"#E5ECF6\",\"width\":0.5},\"pattern\":{\"fillmode\":\"overlay\",\"size\":10,\"solidity\":0.2}},\"type\":\"bar\"}],\"barpolar\":[{\"marker\":{\"line\":{\"color\":\"#E5ECF6\",\"width\":0.5},\"pattern\":{\"fillmode\":\"overlay\",\"size\":10,\"solidity\":0.2}},\"type\":\"barpolar\"}],\"carpet\":[{\"aaxis\":{\"endlinecolor\":\"#2a3f5f\",\"gridcolor\":\"white\",\"linecolor\":\"white\",\"minorgridcolor\":\"white\",\"startlinecolor\":\"#2a3f5f\"},\"baxis\":{\"endlinecolor\":\"#2a3f5f\",\"gridcolor\":\"white\",\"linecolor\":\"white\",\"minorgridcolor\":\"white\",\"startlinecolor\":\"#2a3f5f\"},\"type\":\"carpet\"}],\"choropleth\":[{\"colorbar\":{\"outlinewidth\":0,\"ticks\":\"\"},\"type\":\"choropleth\"}],\"contour\":[{\"colorbar\":{\"outlinewidth\":0,\"ticks\":\"\"},\"colorscale\":[[0.0,\"#0d0887\"],[0.1111111111111111,\"#46039f\"],[0.2222222222222222,\"#7201a8\"],[0.3333333333333333,\"#9c179e\"],[0.4444444444444444,\"#bd3786\"],[0.5555555555555556,\"#d8576b\"],[0.6666666666666666,\"#ed7953\"],[0.7777777777777778,\"#fb9f3a\"],[0.8888888888888888,\"#fdca26\"],[1.0,\"#f0f921\"]],\"type\":\"contour\"}],\"contourcarpet\":[{\"colorbar\":{\"outlinewidth\":0,\"ticks\":\"\"},\"type\":\"contourcarpet\"}],\"heatmap\":[{\"colorbar\":{\"outlinewidth\":0,\"ticks\":\"\"},\"colorscale\":[[0.0,\"#0d0887\"],[0.1111111111111111,\"#46039f\"],[0.2222222222222222,\"#7201a8\"],[0.3333333333333333,\"#9c179e\"],[0.4444444444444444,\"#bd3786\"],[0.5555555555555556,\"#d8576b\"],[0.6666666666666666,\"#ed7953\"],[0.7777777777777778,\"#fb9f3a\"],[0.8888888888888888,\"#fdca26\"],[1.0,\"#f0f921\"]],\"type\":\"heatmap\"}],\"heatmapgl\":[{\"colorbar\":{\"outlinewidth\":0,\"ticks\":\"\"},\"colorscale\":[[0.0,\"#0d0887\"],[0.1111111111111111,\"#46039f\"],[0.2222222222222222,\"#7201a8\"],[0.3333333333333333,\"#9c179e\"],[0.4444444444444444,\"#bd3786\"],[0.5555555555555556,\"#d8576b\"],[0.6666666666666666,\"#ed7953\"],[0.7777777777777778,\"#fb9f3a\"],[0.8888888888888888,\"#fdca26\"],[1.0,\"#f0f921\"]],\"type\":\"heatmapgl\"}],\"histogram\":[{\"marker\":{\"pattern\":{\"fillmode\":\"overlay\",\"size\":10,\"solidity\":0.2}},\"type\":\"histogram\"}],\"histogram2d\":[{\"colorbar\":{\"outlinewidth\":0,\"ticks\":\"\"},\"colorscale\":[[0.0,\"#0d0887\"],[0.1111111111111111,\"#46039f\"],[0.2222222222222222,\"#7201a8\"],[0.3333333333333333,\"#9c179e\"],[0.4444444444444444,\"#bd3786\"],[0.5555555555555556,\"#d8576b\"],[0.6666666666666666,\"#ed7953\"],[0.7777777777777778,\"#fb9f3a\"],[0.8888888888888888,\"#fdca26\"],[1.0,\"#f0f921\"]],\"type\":\"histogram2d\"}],\"histogram2dcontour\":[{\"colorbar\":{\"outlinewidth\":0,\"ticks\":\"\"},\"colorscale\":[[0.0,\"#0d0887\"],[0.1111111111111111,\"#46039f\"],[0.2222222222222222,\"#7201a8\"],[0.3333333333333333,\"#9c179e\"],[0.4444444444444444,\"#bd3786\"],[0.5555555555555556,\"#d8576b\"],[0.6666666666666666,\"#ed7953\"],[0.7777777777777778,\"#fb9f3a\"],[0.8888888888888888,\"#fdca26\"],[1.0,\"#f0f921\"]],\"type\":\"histogram2dcontour\"}],\"mesh3d\":[{\"colorbar\":{\"outlinewidth\":0,\"ticks\":\"\"},\"type\":\"mesh3d\"}],\"parcoords\":[{\"line\":{\"colorbar\":{\"outlinewidth\":0,\"ticks\":\"\"}},\"type\":\"parcoords\"}],\"pie\":[{\"automargin\":true,\"type\":\"pie\"}],\"scatter\":[{\"marker\":{\"colorbar\":{\"outlinewidth\":0,\"ticks\":\"\"}},\"type\":\"scatter\"}],\"scatter3d\":[{\"line\":{\"colorbar\":{\"outlinewidth\":0,\"ticks\":\"\"}},\"marker\":{\"colorbar\":{\"outlinewidth\":0,\"ticks\":\"\"}},\"type\":\"scatter3d\"}],\"scattercarpet\":[{\"marker\":{\"colorbar\":{\"outlinewidth\":0,\"ticks\":\"\"}},\"type\":\"scattercarpet\"}],\"scattergeo\":[{\"marker\":{\"colorbar\":{\"outlinewidth\":0,\"ticks\":\"\"}},\"type\":\"scattergeo\"}],\"scattergl\":[{\"marker\":{\"colorbar\":{\"outlinewidth\":0,\"ticks\":\"\"}},\"type\":\"scattergl\"}],\"scattermapbox\":[{\"marker\":{\"colorbar\":{\"outlinewidth\":0,\"ticks\":\"\"}},\"type\":\"scattermapbox\"}],\"scatterpolar\":[{\"marker\":{\"colorbar\":{\"outlinewidth\":0,\"ticks\":\"\"}},\"type\":\"scatterpolar\"}],\"scatterpolargl\":[{\"marker\":{\"colorbar\":{\"outlinewidth\":0,\"ticks\":\"\"}},\"type\":\"scatterpolargl\"}],\"scatterternary\":[{\"marker\":{\"colorbar\":{\"outlinewidth\":0,\"ticks\":\"\"}},\"type\":\"scatterternary\"}],\"surface\":[{\"colorbar\":{\"outlinewidth\":0,\"ticks\":\"\"},\"colorscale\":[[0.0,\"#0d0887\"],[0.1111111111111111,\"#46039f\"],[0.2222222222222222,\"#7201a8\"],[0.3333333333333333,\"#9c179e\"],[0.4444444444444444,\"#bd3786\"],[0.5555555555555556,\"#d8576b\"],[0.6666666666666666,\"#ed7953\"],[0.7777777777777778,\"#fb9f3a\"],[0.8888888888888888,\"#fdca26\"],[1.0,\"#f0f921\"]],\"type\":\"surface\"}],\"table\":[{\"cells\":{\"fill\":{\"color\":\"#EBF0F8\"},\"line\":{\"color\":\"white\"}},\"header\":{\"fill\":{\"color\":\"#C8D4E3\"},\"line\":{\"color\":\"white\"}},\"type\":\"table\"}]},\"layout\":{\"annotationdefaults\":{\"arrowcolor\":\"#2a3f5f\",\"arrowhead\":0,\"arrowwidth\":1},\"autotypenumbers\":\"strict\",\"coloraxis\":{\"colorbar\":{\"outlinewidth\":0,\"ticks\":\"\"}},\"colorscale\":{\"diverging\":[[0,\"#8e0152\"],[0.1,\"#c51b7d\"],[0.2,\"#de77ae\"],[0.3,\"#f1b6da\"],[0.4,\"#fde0ef\"],[0.5,\"#f7f7f7\"],[0.6,\"#e6f5d0\"],[0.7,\"#b8e186\"],[0.8,\"#7fbc41\"],[0.9,\"#4d9221\"],[1,\"#276419\"]],\"sequential\":[[0.0,\"#0d0887\"],[0.1111111111111111,\"#46039f\"],[0.2222222222222222,\"#7201a8\"],[0.3333333333333333,\"#9c179e\"],[0.4444444444444444,\"#bd3786\"],[0.5555555555555556,\"#d8576b\"],[0.6666666666666666,\"#ed7953\"],[0.7777777777777778,\"#fb9f3a\"],[0.8888888888888888,\"#fdca26\"],[1.0,\"#f0f921\"]],\"sequentialminus\":[[0.0,\"#0d0887\"],[0.1111111111111111,\"#46039f\"],[0.2222222222222222,\"#7201a8\"],[0.3333333333333333,\"#9c179e\"],[0.4444444444444444,\"#bd3786\"],[0.5555555555555556,\"#d8576b\"],[0.6666666666666666,\"#ed7953\"],[0.7777777777777778,\"#fb9f3a\"],[0.8888888888888888,\"#fdca26\"],[1.0,\"#f0f921\"]]},\"colorway\":[\"#636efa\",\"#EF553B\",\"#00cc96\",\"#ab63fa\",\"#FFA15A\",\"#19d3f3\",\"#FF6692\",\"#B6E880\",\"#FF97FF\",\"#FECB52\"],\"font\":{\"color\":\"#2a3f5f\"},\"geo\":{\"bgcolor\":\"white\",\"lakecolor\":\"white\",\"landcolor\":\"#E5ECF6\",\"showlakes\":true,\"showland\":true,\"subunitcolor\":\"white\"},\"hoverlabel\":{\"align\":\"left\"},\"hovermode\":\"closest\",\"mapbox\":{\"style\":\"light\"},\"paper_bgcolor\":\"white\",\"plot_bgcolor\":\"#E5ECF6\",\"polar\":{\"angularaxis\":{\"gridcolor\":\"white\",\"linecolor\":\"white\",\"ticks\":\"\"},\"bgcolor\":\"#E5ECF6\",\"radialaxis\":{\"gridcolor\":\"white\",\"linecolor\":\"white\",\"ticks\":\"\"}},\"scene\":{\"xaxis\":{\"backgroundcolor\":\"#E5ECF6\",\"gridcolor\":\"white\",\"gridwidth\":2,\"linecolor\":\"white\",\"showbackground\":true,\"ticks\":\"\",\"zerolinecolor\":\"white\"},\"yaxis\":{\"backgroundcolor\":\"#E5ECF6\",\"gridcolor\":\"white\",\"gridwidth\":2,\"linecolor\":\"white\",\"showbackground\":true,\"ticks\":\"\",\"zerolinecolor\":\"white\"},\"zaxis\":{\"backgroundcolor\":\"#E5ECF6\",\"gridcolor\":\"white\",\"gridwidth\":2,\"linecolor\":\"white\",\"showbackground\":true,\"ticks\":\"\",\"zerolinecolor\":\"white\"}},\"shapedefaults\":{\"line\":{\"color\":\"#2a3f5f\"}},\"ternary\":{\"aaxis\":{\"gridcolor\":\"white\",\"linecolor\":\"white\",\"ticks\":\"\"},\"baxis\":{\"gridcolor\":\"white\",\"linecolor\":\"white\",\"ticks\":\"\"},\"bgcolor\":\"#E5ECF6\",\"caxis\":{\"gridcolor\":\"white\",\"linecolor\":\"white\",\"ticks\":\"\"}},\"title\":{\"x\":0.05},\"xaxis\":{\"automargin\":true,\"gridcolor\":\"white\",\"linecolor\":\"white\",\"ticks\":\"\",\"title\":{\"standoff\":15},\"zerolinecolor\":\"white\",\"zerolinewidth\":2},\"yaxis\":{\"automargin\":true,\"gridcolor\":\"white\",\"linecolor\":\"white\",\"ticks\":\"\",\"title\":{\"standoff\":15},\"zerolinecolor\":\"white\",\"zerolinewidth\":2}}},\"xaxis\":{\"anchor\":\"y\",\"domain\":[0.0,1.0],\"title\":{\"text\":\"model\"},\"categoryorder\":\"array\",\"categoryarray\":[\"linear\",\"svm\",\"rf\",\"xgb\",\"mlp\",\"fm\",\"average_by_rf_xgb_mlp_fm\",\"stack_ridge_by_rf, xgb, mlp, fm\"]},\"yaxis\":{\"anchor\":\"x\",\"domain\":[0.0,1.0],\"title\":{\"text\":\"accuracy\"}},\"legend\":{\"title\":{\"text\":\"model\"},\"tracegroupgap\":0},\"margin\":{\"t\":60},\"boxmode\":\"overlay\",\"width\":600},                        {\"responsive\": true}                    ).then(function(){\n",
              "                            \n",
              "var gd = document.getElementById('8dc9b1c0-1cf8-4940-bed8-4f3a66682fd2');\n",
              "var x = new MutationObserver(function (mutations, observer) {{\n",
              "        var display = window.getComputedStyle(gd).display;\n",
              "        if (!display || display === 'none') {{\n",
              "            console.log([gd, 'removed!']);\n",
              "            Plotly.purge(gd);\n",
              "            observer.disconnect();\n",
              "        }}\n",
              "}});\n",
              "\n",
              "// Listen for the removal of the full notebook cells\n",
              "var notebookContainer = gd.closest('#notebook-container');\n",
              "if (notebookContainer) {{\n",
              "    x.observe(notebookContainer, {childList: true});\n",
              "}}\n",
              "\n",
              "// Listen for the clearing of the current output cell\n",
              "var outputEl = gd.closest('.output');\n",
              "if (outputEl) {{\n",
              "    x.observe(outputEl, {childList: true});\n",
              "}}\n",
              "\n",
              "                        })                };                            </script>        </div>\n",
              "</body>\n",
              "</html>"
            ]
          },
          "metadata": {}
        }
      ]
    },
    {
      "cell_type": "code",
      "source": [
        "best_cv_df[['log_loss', 'accuracy']] = best_cv_df[['log_loss', 'accuracy']].astype('float32')\n",
        "\n",
        "print(best_cv_df.groupby('model').mean()['accuracy'].sort_values(ascending=False))"
      ],
      "metadata": {
        "colab": {
          "base_uri": "https://localhost:8080/"
        },
        "id": "lnXOvRlBBEmW",
        "outputId": "c76b18a9-4b79-4439-b53c-cd877a12c8b1"
      },
      "execution_count": null,
      "outputs": [
        {
          "output_type": "stream",
          "name": "stdout",
          "text": [
            "model\n",
            "xgb                                0.844015\n",
            "stack_ridge_by_rf, xgb, mlp, fm    0.836162\n",
            "rf                                 0.832747\n",
            "average_by_rf_xgb_mlp_fm           0.830538\n",
            "mlp                                0.824939\n",
            "fm                                 0.819315\n",
            "linear                             0.782230\n",
            "svm                                0.756481\n",
            "Name: accuracy, dtype: float32\n"
          ]
        }
      ]
    },
    {
      "cell_type": "code",
      "source": [
        "import os \n",
        "save_path = '/content/drive/MyDrive/Work/Kaggle/{}/Result'.format(config['data_name'])\n",
        "if not os.path.exists(save_path):\n",
        "  os.makedirs(save_path)\n",
        "  \n",
        "best_cv_df.to_csv(os.path.join(save_path, 'best_cv_results.csv'), index=False)"
      ],
      "metadata": {
        "id": "ubLIFx5xMB5L"
      },
      "execution_count": null,
      "outputs": []
    },
    {
      "cell_type": "markdown",
      "source": [
        "# 3. Make a prediction with the best model\n"
      ],
      "metadata": {
        "id": "Yt_UWN0a6cqn"
      }
    },
    {
      "cell_type": "code",
      "source": [
        "from sklearn.linear_model import SGDClassifier\n",
        "from sklearn.ensemble import RandomForestClassifier\n",
        "from xgboost import XGBClassifier\n",
        "from sklearn.linear_model import LogisticRegression\n",
        "\n",
        "model_name = 'xgb'\n",
        "\n",
        "xgb = XGBClassifier(**eval(best_cv_df.loc[best_cv_df['model']=='xgb', 'best_hyper_param'].values[0]))\n",
        "\n",
        "xgb.fit(X_train, y_train)\n",
        "\n",
        "pred = xgb.predict(X_train)\n",
        "res_df = pd.DataFrame({'PassengerId': test['PassengerId'], 'Survived': pred})\n",
        "res_df.to_csv('{}.csv'.format(model_name), index=False)"
      ],
      "metadata": {
        "id": "oA5PSfvqCoVr"
      },
      "execution_count": null,
      "outputs": []
    }
  ]
}