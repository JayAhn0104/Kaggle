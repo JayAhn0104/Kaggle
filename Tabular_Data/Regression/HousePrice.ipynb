{
  "cells": [
    {
      "cell_type": "markdown",
      "source": [
        "# Before begins\n",
        "\n",
        "This notebook is written in google colab.\n",
        "\n",
        "To see some interactive plots, please enter the colab link Below.\n",
        "\n",
        "<a href=\"https://colab.research.google.com/drive/1n9XYmcvefp6rSD-rH7uZqfw3eVQ_cnxh?usp=sharing\" target=\"_parent\"><img src=\"https://colab.research.google.com/assets/colab-badge.svg\" alt=\"Open in Colab\"/></a>"
      ],
      "metadata": {
        "id": "L4cVRysV4PGQ"
      }
    },
    {
      "cell_type": "markdown",
      "source": [
        "# Overview\n",
        "\n",
        "This notebook provides the 'proper workflow' for kaggle submission.\n",
        "\n",
        "The workflow is divided into three main steps.\n",
        "1. Data preprocessing\n",
        "2. Model selection (hyper parameter tuning, model combination, model comparison)\n",
        "3. Training final model & Prediction on Test-set\n",
        "\n",
        "At each stage, detailed descriptions of the work and an appropriate procedure will be provided.\n",
        "\n",
        "Through this notebook, readers can learn the 'proper workflow' to be done for kaggle submission, \n",
        "and using this as a basic structure, someone will be able to apply this to other competitions easily with some adjustments\n",
        "\n",
        "**Warnings**:\n",
        "- The purpose of this notebook\n",
        "  - This notebook focuses on the 'procedure' rather than the 'result'. \n",
        "  - Thus ths notebook does not guide you on how to achieve the top score. Since I personally think that any result can only have meaning through an appropriate procedure.\n",
        "  - However, following this notebook, you will get the top 5% result in this competition\n",
        "\n",
        "- The readers this notebook assumes\n",
        "  - Who are aware of the basic usage of data processing tools (e.g., numpy, pandas)\n",
        "  - Who are aware of the basic concepts of machine learning models \n",
        "\n"
      ],
      "metadata": {
        "id": "sL6OVcaSisjQ"
      }
    },
    {
      "cell_type": "code",
      "execution_count": null,
      "metadata": {
        "colab": {
          "base_uri": "https://localhost:8080/"
        },
        "id": "6XtPKOJN3WPq",
        "outputId": "e22dcde7-c99f-4a1d-9f7f-a7cd135dce8e"
      },
      "outputs": [
        {
          "output_type": "stream",
          "name": "stdout",
          "text": [
            "Drive already mounted at /content/drive; to attempt to forcibly remount, call drive.mount(\"/content/drive\", force_remount=True).\n"
          ]
        }
      ],
      "source": [
        "from google.colab import drive\n",
        "drive.mount('/content/drive')"
      ]
    },
    {
      "cell_type": "markdown",
      "source": [
        "# 0. Configuration\n",
        "\n",
        "Set the configurations for this notebook"
      ],
      "metadata": {
        "id": "acEjn6Dy4Ypi"
      }
    },
    {
      "cell_type": "code",
      "source": [
        "data_name = 'House_Price'\n",
        "random_state = 2022"
      ],
      "metadata": {
        "id": "HtDzBEzC4ZtT"
      },
      "execution_count": null,
      "outputs": []
    },
    {
      "cell_type": "markdown",
      "metadata": {
        "id": "gH2oJD3ezQD6"
      },
      "source": [
        "# 1. Data preprocessing\n",
        "\n",
        "The data preprocessing works are divided into 9 steps here.\n",
        "\n",
        "Some of these steps are mandatory and some are optional.\n",
        "\n",
        "Optional steps are marked separately.\n",
        "\n",
        "It is important to go through each step in order.\n",
        "Be careful not to reverse the order."
      ]
    },
    {
      "cell_type": "markdown",
      "source": [
        "## 1-1. Load Dataset\n",
        "\n",
        "Load train-set and test-set on working environment"
      ],
      "metadata": {
        "id": "8ZznimcOi1kR"
      }
    },
    {
      "cell_type": "code",
      "execution_count": null,
      "metadata": {
        "id": "OmHiIN8l4HrR"
      },
      "outputs": [],
      "source": [
        "import numpy as np\n",
        "import pandas as pd\n",
        "\n",
        "train = pd.read_csv('/content/drive/MyDrive/Work/Kaggle/{}/Data/train.csv'.format(data_name))\n",
        "test = pd.read_csv('/content/drive/MyDrive/Work/Kaggle/{}/Data/test.csv'.format(data_name))"
      ]
    },
    {
      "cell_type": "markdown",
      "source": [
        "### > Concatenate the 'train' and 'test' data for preprocessing\n",
        "\n",
        "Data preprocessing work should be applied equally for train-set and test-set.\n",
        "\n",
        "In order to work at once, exclude the response variable 'Survived' from 'train' and combine it with 'test'."
      ],
      "metadata": {
        "id": "flESEXl1i5tO"
      }
    },
    {
      "cell_type": "code",
      "source": [
        "all_features = pd.concat((train.drop(['Id','SalePrice'], axis=1), test.drop(['Id'], axis=1)), axis=0)"
      ],
      "metadata": {
        "id": "RhCV1ZVk4fZz"
      },
      "execution_count": null,
      "outputs": []
    },
    {
      "cell_type": "markdown",
      "metadata": {
        "id": "Fia79Yb4YfnR"
      },
      "source": [
        "## 1-2. Missing Value Treatment\n",
        "\n",
        "Missing (NA) values in Data must be treated properly before model training.\n",
        "\n",
        "There are three main treatment methods:\n",
        "1. Remove the variables which have NA values\n",
        "2. Remove the rows (observations) which have NA values\n",
        "3. Impute the NA values with other values\n",
        "\n",
        "Which of the above methods is chosen depends on the analyst's discretion.\n",
        "It is important to choose the appropriate method for the situation."
      ]
    },
    {
      "cell_type": "code",
      "execution_count": null,
      "metadata": {
        "id": "SqnXaKxJ9Rxw",
        "colab": {
          "base_uri": "https://localhost:8080/",
          "height": 1000
        },
        "outputId": "7b1507ac-3ac5-4d34-cc7e-e01dc3485dda"
      },
      "outputs": [
        {
          "output_type": "execute_result",
          "data": {
            "text/plain": [
              "<matplotlib.axes._subplots.AxesSubplot at 0x7fe72d0e3b50>"
            ]
          },
          "metadata": {},
          "execution_count": 32
        },
        {
          "output_type": "display_data",
          "data": {
            "image/png": "[encoded data removed]",
            "text/plain": [
              "<Figure size 1800x1944 with 3 Axes>"
            ]
          },
          "metadata": {
            "needs_background": "light"
          }
        }
      ],
      "source": [
        "import missingno as msno\n",
        "msno.bar(all_features)"
      ]
    },
    {
      "cell_type": "markdown",
      "metadata": {
        "id": "VVzypD6TWRDw"
      },
      "source": [
        "### > Categorical variables\n",
        "- Method:\n",
        "  - Replace 'NA' with 'None'\n",
        "  - Replace 'NA' with 'Mode values'\n",
        "  - Drop the variables\n"
      ]
    },
    {
      "cell_type": "code",
      "execution_count": null,
      "metadata": {
        "id": "JPIPabbdrMy9"
      },
      "outputs": [],
      "source": [
        "# NA <- None\n",
        "NA_None_list = ['FireplaceQu', 'GarageType', 'GarageFinish', 'GarageQual', 'GarageCond', 'BsmtQual', \n",
        "           'BsmtCond', 'BsmtExposure', 'BsmtFinType1', 'BsmtFinType2', 'MasVnrType']\n",
        "df = all_features.loc[:,NA_None_list]\n",
        "\n",
        "all_features.loc[:,NA_None_list] = df.fillna('None')   "
      ]
    },
    {
      "cell_type": "code",
      "execution_count": null,
      "metadata": {
        "id": "urrRY559q569"
      },
      "outputs": [],
      "source": [
        "# NA <- Mode value\n",
        "NA_Mode_list = ['MSZoning', 'Functional', 'Electrical', 'KitchenQual', 'SaleType', \n",
        "                'Exterior1st', 'Exterior2nd', 'Utilities']\n",
        "df = all_features.loc[:, NA_Mode_list]\n",
        "\n",
        "all_features.loc[:, NA_Mode_list] = df.fillna(df.mode().iloc[0])"
      ]
    },
    {
      "cell_type": "code",
      "execution_count": null,
      "metadata": {
        "id": "Ju1_RH7302FD"
      },
      "outputs": [],
      "source": [
        "# NA <- Drop\n",
        "NA_drop_list = ['PoolQC', 'MiscFeature', 'Alley', 'Fence']\n",
        "all_features.drop(NA_drop_list, axis=1, inplace=True)"
      ]
    },
    {
      "cell_type": "markdown",
      "metadata": {
        "id": "oqyeVOJeWZ7y"
      },
      "source": [
        "### > Numeric variables\n",
        "- Method:\n",
        "  - Replace NA by 'median value' of the variable grouped by another (relevant) categorical variable\n",
        "  - Replace NA by 'prediction value' of the linear model with relevant input variable \n",
        "  - Replace NA by values of the other (closely related) variable\n",
        "  - Replace NA by '0' \n",
        "  "
      ]
    },
    {
      "cell_type": "markdown",
      "source": [
        "#### >> Replace NA by 'median value' of the variable grouped by another (relevant) categorical variable"
      ],
      "metadata": {
        "id": "0gfpKqcYH-MC"
      }
    },
    {
      "cell_type": "code",
      "execution_count": null,
      "metadata": {
        "colab": {
          "base_uri": "https://localhost:8080/",
          "height": 470
        },
        "id": "ULkKmBjV6xVW",
        "outputId": "ae676757-8261-4a1c-a96d-9c841943c55d"
      },
      "outputs": [
        {
          "output_type": "display_data",
          "data": {
            "text/html": [
              "<html>\n",
              "<head><meta charset=\"utf-8\" /></head>\n",
              "<body>\n",
              "    <div>            <script src=\"https://cdnjs.cloudflare.com/ajax/libs/mathjax/2.7.5/MathJax.js?config=TeX-AMS-MML_SVG\"></script><script type=\"text/javascript\">if (window.MathJax) {MathJax.Hub.Config({SVG: {font: \"STIX-Web\"}});}</script>                <script type=\"text/javascript\">window.PlotlyConfig = {MathJaxConfig: 'local'};</script>\n",
              "        <script src=\"https://cdn.plot.ly/plotly-2.8.3.min.js\"></script>                <div id=\"47da75b9-979d-46f1-b9b6-6497e9d0c3a1\" class=\"plotly-graph-div\" style=\"height:400px; width:800px;\"></div>            <script type=\"text/javascript\">                                    window.PLOTLYENV=window.PLOTLYENV || {};                                    if (document.getElementById(\"47da75b9-979d-46f1-b9b6-6497e9d0c3a1\")) {                    Plotly.newPlot(                        \"47da75b9-979d-46f1-b9b6-6497e9d0c3a1\",                        [{\"alignmentgroup\":\"True\",\"hovertemplate\":\"Neighborhood=%{x}<br>LotFrontage=%{y}<extra></extra>\",\"legendgroup\":\"CollgCr\",\"marker\":{\"color\":\"#636efa\"},\"name\":\"CollgCr\",\"notched\":false,\"offsetgroup\":\"CollgCr\",\"orientation\":\"v\",\"showlegend\":true,\"x\":[\"CollgCr\",\"CollgCr\",\"CollgCr\",\"CollgCr\",\"CollgCr\",\"CollgCr\",\"CollgCr\",\"CollgCr\",\"CollgCr\",\"CollgCr\",\"CollgCr\",\"CollgCr\",\"CollgCr\",\"CollgCr\",\"CollgCr\",\"CollgCr\",\"CollgCr\",\"CollgCr\",\"CollgCr\",\"CollgCr\",\"CollgCr\",\"CollgCr\",\"CollgCr\",\"CollgCr\",\"CollgCr\",\"CollgCr\",\"CollgCr\",\"CollgCr\",\"CollgCr\",\"CollgCr\",\"CollgCr\",\"CollgCr\",\"CollgCr\",\"CollgCr\",\"CollgCr\",\"CollgCr\",\"CollgCr\",\"CollgCr\",\"CollgCr\",\"CollgCr\",\"CollgCr\",\"CollgCr\",\"CollgCr\",\"CollgCr\",\"CollgCr\",\"CollgCr\",\"CollgCr\",\"CollgCr\",\"CollgCr\",\"CollgCr\",\"CollgCr\",\"CollgCr\",\"CollgCr\",\"CollgCr\",\"CollgCr\",\"CollgCr\",\"CollgCr\",\"CollgCr\",\"CollgCr\",\"CollgCr\",\"CollgCr\",\"CollgCr\",\"CollgCr\",\"CollgCr\",\"CollgCr\",\"CollgCr\",\"CollgCr\",\"CollgCr\",\"CollgCr\",\"CollgCr\",\"CollgCr\",\"CollgCr\",\"CollgCr\",\"CollgCr\",\"CollgCr\",\"CollgCr\",\"CollgCr\",\"CollgCr\",\"CollgCr\",\"CollgCr\",\"CollgCr\",\"CollgCr\",\"CollgCr\",\"CollgCr\",\"CollgCr\",\"CollgCr\",\"CollgCr\",\"CollgCr\",\"CollgCr\",\"CollgCr\",\"CollgCr\",\"CollgCr\",\"CollgCr\",\"CollgCr\",\"CollgCr\",\"CollgCr\",\"CollgCr\",\"CollgCr\",\"CollgCr\",\"CollgCr\",\"CollgCr\",\"CollgCr\",\"CollgCr\",\"CollgCr\",\"CollgCr\",\"CollgCr\",\"CollgCr\",\"CollgCr\",\"CollgCr\",\"CollgCr\",\"CollgCr\",\"CollgCr\",\"CollgCr\",\"CollgCr\",\"CollgCr\",\"CollgCr\",\"CollgCr\",\"CollgCr\",\"CollgCr\",\"CollgCr\",\"CollgCr\",\"CollgCr\",\"CollgCr\",\"CollgCr\",\"CollgCr\",\"CollgCr\",\"CollgCr\",\"CollgCr\",\"CollgCr\",\"CollgCr\",\"CollgCr\",\"CollgCr\",\"CollgCr\",\"CollgCr\",\"CollgCr\",\"CollgCr\",\"CollgCr\",\"CollgCr\",\"CollgCr\",\"CollgCr\",\"CollgCr\",\"CollgCr\",\"CollgCr\",\"CollgCr\",\"CollgCr\",\"CollgCr\",\"CollgCr\",\"CollgCr\",\"CollgCr\",\"CollgCr\",\"CollgCr\",\"CollgCr\",\"CollgCr\",\"CollgCr\",\"CollgCr\",\"CollgCr\",\"CollgCr\",\"CollgCr\",\"CollgCr\",\"CollgCr\",\"CollgCr\",\"CollgCr\",\"CollgCr\",\"CollgCr\",\"CollgCr\",\"CollgCr\",\"CollgCr\",\"CollgCr\",\"CollgCr\",\"CollgCr\",\"CollgCr\",\"CollgCr\",\"CollgCr\",\"CollgCr\",\"CollgCr\",\"CollgCr\",\"CollgCr\",\"CollgCr\",\"CollgCr\",\"CollgCr\",\"CollgCr\",\"CollgCr\",\"CollgCr\",\"CollgCr\",\"CollgCr\",\"CollgCr\",\"CollgCr\",\"CollgCr\",\"CollgCr\",\"CollgCr\",\"CollgCr\",\"CollgCr\",\"CollgCr\",\"CollgCr\",\"CollgCr\",\"CollgCr\",\"CollgCr\",\"CollgCr\",\"CollgCr\",\"CollgCr\",\"CollgCr\",\"CollgCr\",\"CollgCr\",\"CollgCr\",\"CollgCr\",\"CollgCr\",\"CollgCr\",\"CollgCr\",\"CollgCr\",\"CollgCr\",\"CollgCr\",\"CollgCr\",\"CollgCr\",\"CollgCr\",\"CollgCr\",\"CollgCr\",\"CollgCr\",\"CollgCr\",\"CollgCr\",\"CollgCr\",\"CollgCr\",\"CollgCr\",\"CollgCr\",\"CollgCr\",\"CollgCr\",\"CollgCr\",\"CollgCr\",\"CollgCr\",\"CollgCr\",\"CollgCr\",\"CollgCr\",\"CollgCr\",\"CollgCr\",\"CollgCr\",\"CollgCr\",\"CollgCr\",\"CollgCr\",\"CollgCr\",\"CollgCr\",\"CollgCr\",\"CollgCr\",\"CollgCr\",\"CollgCr\",\"CollgCr\",\"CollgCr\",\"CollgCr\",\"CollgCr\",\"CollgCr\",\"CollgCr\",\"CollgCr\",\"CollgCr\",\"CollgCr\",\"CollgCr\",\"CollgCr\",\"CollgCr\",\"CollgCr\",\"CollgCr\",\"CollgCr\",\"CollgCr\",\"CollgCr\",\"CollgCr\",\"CollgCr\",\"CollgCr\",\"CollgCr\",\"CollgCr\",\"CollgCr\",\"CollgCr\"],\"x0\":\" \",\"xaxis\":\"x\",\"y\":[65.0,68.0,91.0,75.0,85.0,112.0,null,89.0,60.0,null,72.0,60.0,69.0,78.0,94.0,77.0,65.0,73.0,65.0,78.0,78.0,120.0,68.0,60.0,null,43.0,null,65.0,73.0,75.0,65.0,72.0,68.0,80.0,69.0,120.0,66.0,118.0,70.0,80.0,70.0,105.0,65.0,57.0,79.0,93.0,60.0,65.0,64.0,43.0,70.0,60.0,75.0,79.0,null,57.0,null,64.0,null,88.0,88.0,82.0,null,null,70.0,64.0,90.0,null,70.0,69.0,null,64.0,75.0,65.0,79.0,68.0,70.0,86.0,67.0,63.0,null,48.0,72.0,44.0,75.0,36.0,36.0,null,70.0,null,null,null,63.0,73.0,65.0,60.0,65.0,122.0,null,68.0,64.0,65.0,73.0,64.0,70.0,null,null,57.0,103.0,90.0,74.0,37.0,65.0,70.0,78.0,84.0,77.0,64.0,68.0,70.0,80.0,75.0,70.0,41.0,65.0,75.0,67.0,61.0,60.0,68.0,61.0,null,55.0,95.0,120.0,null,85.0,null,68.0,null,48.0,75.0,70.0,64.0,70.0,79.0,37.0,null,63.0,80.0,64.0,82.0,null,38.0,68.0,80.0,75.0,null,84.0,65.0,71.0,77.0,64.0,95.0,78.0,79.0,65.0,65.0,70.0,65.0,75.0,null,76.0,90.0,null,70.0,null,90.0,null,70.0,85.0,85.0,65.0,65.0,91.0,91.0,65.0,null,null,68.0,75.0,null,null,40.0,null,null,null,41.0,96.0,null,83.0,75.0,85.0,74.0,71.0,93.0,66.0,75.0,73.0,64.0,78.0,null,57.0,60.0,70.0,47.0,43.0,68.0,null,97.0,59.0,72.0,45.0,39.0,75.0,60.0,60.0,null,70.0,65.0,73.0,null,null,73.0,70.0,65.0,64.0,64.0,64.0,133.0,64.0,90.0,78.0,91.0,78.0,78.0,95.0,65.0,null,68.0,72.0,50.0,42.0,60.0,null,45.0,null,70.0,67.0,null,90.0,90.0,37.0,70.0,74.0,70.0,65.0],\"y0\":\" \",\"yaxis\":\"y\",\"type\":\"box\"},{\"alignmentgroup\":\"True\",\"hovertemplate\":\"Neighborhood=%{x}<br>LotFrontage=%{y}<extra></extra>\",\"legendgroup\":\"Veenker\",\"marker\":{\"color\":\"#EF553B\"},\"name\":\"Veenker\",\"notched\":false,\"offsetgroup\":\"Veenker\",\"orientation\":\"v\",\"showlegend\":true,\"x\":[\"Veenker\",\"Veenker\",\"Veenker\",\"Veenker\",\"Veenker\",\"Veenker\",\"Veenker\",\"Veenker\",\"Veenker\",\"Veenker\",\"Veenker\",\"Veenker\",\"Veenker\",\"Veenker\",\"Veenker\",\"Veenker\",\"Veenker\",\"Veenker\",\"Veenker\",\"Veenker\",\"Veenker\",\"Veenker\",\"Veenker\",\"Veenker\"],\"x0\":\" \",\"xaxis\":\"x\",\"y\":[80.0,68.0,null,32.0,38.0,null,30.0,80.0,90.0,null,null,null,null,110.0,80.0,95.0,22.0,null,103.0,null,50.0,80.0,94.0,100.0],\"y0\":\" \",\"yaxis\":\"y\",\"type\":\"box\"},{\"alignmentgroup\":\"True\",\"hovertemplate\":\"Neighborhood=%{x}<br>LotFrontage=%{y}<extra></extra>\",\"legendgroup\":\"Crawfor\",\"marker\":{\"color\":\"#00cc96\"},\"name\":\"Crawfor\",\"notched\":false,\"offsetgroup\":\"Crawfor\",\"orientation\":\"v\",\"showlegend\":true,\"x\":[\"Crawfor\",\"Crawfor\",\"Crawfor\",\"Crawfor\",\"Crawfor\",\"Crawfor\",\"Crawfor\",\"Crawfor\",\"Crawfor\",\"Crawfor\",\"Crawfor\",\"Crawfor\",\"Crawfor\",\"Crawfor\",\"Crawfor\",\"Crawfor\",\"Crawfor\",\"Crawfor\",\"Crawfor\",\"Crawfor\",\"Crawfor\",\"Crawfor\",\"Crawfor\",\"Crawfor\",\"Crawfor\",\"Crawfor\",\"Crawfor\",\"Crawfor\",\"Crawfor\",\"Crawfor\",\"Crawfor\",\"Crawfor\",\"Crawfor\",\"Crawfor\",\"Crawfor\",\"Crawfor\",\"Crawfor\",\"Crawfor\",\"Crawfor\",\"Crawfor\",\"Crawfor\",\"Crawfor\",\"Crawfor\",\"Crawfor\",\"Crawfor\",\"Crawfor\",\"Crawfor\",\"Crawfor\",\"Crawfor\",\"Crawfor\",\"Crawfor\",\"Crawfor\",\"Crawfor\",\"Crawfor\",\"Crawfor\",\"Crawfor\",\"Crawfor\",\"Crawfor\",\"Crawfor\",\"Crawfor\",\"Crawfor\",\"Crawfor\",\"Crawfor\",\"Crawfor\",\"Crawfor\",\"Crawfor\",\"Crawfor\",\"Crawfor\",\"Crawfor\",\"Crawfor\",\"Crawfor\",\"Crawfor\",\"Crawfor\",\"Crawfor\",\"Crawfor\",\"Crawfor\",\"Crawfor\",\"Crawfor\",\"Crawfor\",\"Crawfor\",\"Crawfor\",\"Crawfor\",\"Crawfor\",\"Crawfor\",\"Crawfor\",\"Crawfor\",\"Crawfor\",\"Crawfor\",\"Crawfor\",\"Crawfor\",\"Crawfor\",\"Crawfor\",\"Crawfor\",\"Crawfor\",\"Crawfor\",\"Crawfor\",\"Crawfor\",\"Crawfor\",\"Crawfor\",\"Crawfor\",\"Crawfor\",\"Crawfor\",\"Crawfor\"],\"x0\":\" \",\"xaxis\":\"x\",\"y\":[60.0,80.0,null,61.0,54.0,70.0,null,44.0,80.0,90.0,63.0,86.0,40.0,74.0,100.0,55.0,53.0,null,80.0,78.0,60.0,80.0,110.0,null,53.0,55.0,86.0,82.0,82.0,130.0,55.0,50.0,null,75.0,75.0,90.0,null,80.0,54.0,64.0,96.0,null,null,53.0,null,100.0,57.0,44.0,null,79.0,66.0,78.0,78.0,85.0,44.0,64.0,53.0,60.0,80.0,null,70.0,90.0,78.0,100.0,null,null,44.0,66.0,63.0,54.0,null,null,null,79.0,100.0,70.0,56.0,44.0,44.0,54.0,51.0,63.0,53.0,53.0,60.0,126.0,110.0,79.0,null,null,null,null,70.0,59.0,54.0,66.0,80.0,81.0,70.0,70.0,78.0,41.0,44.0],\"y0\":\" \",\"yaxis\":\"y\",\"type\":\"box\"},{\"alignmentgroup\":\"True\",\"hovertemplate\":\"Neighborhood=%{x}<br>LotFrontage=%{y}<extra></extra>\",\"legendgroup\":\"NoRidge\",\"marker\":{\"color\":\"#ab63fa\"},\"name\":\"NoRidge\",\"notched\":false,\"offsetgroup\":\"NoRidge\",\"orientation\":\"v\",\"showlegend\":true,\"x\":[\"NoRidge\",\"NoRidge\",\"NoRidge\",\"NoRidge\",\"NoRidge\",\"NoRidge\",\"NoRidge\",\"NoRidge\",\"NoRidge\",\"NoRidge\",\"NoRidge\",\"NoRidge\",\"NoRidge\",\"NoRidge\",\"NoRidge\",\"NoRidge\",\"NoRidge\",\"NoRidge\",\"NoRidge\",\"NoRidge\",\"NoRidge\",\"NoRidge\",\"NoRidge\",\"NoRidge\",\"NoRidge\",\"NoRidge\",\"NoRidge\",\"NoRidge\",\"NoRidge\",\"NoRidge\",\"NoRidge\",\"NoRidge\",\"NoRidge\",\"NoRidge\",\"NoRidge\",\"NoRidge\",\"NoRidge\",\"NoRidge\",\"NoRidge\",\"NoRidge\",\"NoRidge\",\"NoRidge\",\"NoRidge\",\"NoRidge\",\"NoRidge\",\"NoRidge\",\"NoRidge\",\"NoRidge\",\"NoRidge\",\"NoRidge\",\"NoRidge\",\"NoRidge\",\"NoRidge\",\"NoRidge\",\"NoRidge\",\"NoRidge\",\"NoRidge\",\"NoRidge\",\"NoRidge\",\"NoRidge\",\"NoRidge\",\"NoRidge\",\"NoRidge\",\"NoRidge\",\"NoRidge\",\"NoRidge\",\"NoRidge\",\"NoRidge\",\"NoRidge\",\"NoRidge\",\"NoRidge\"],\"x0\":\" \",\"xaxis\":\"x\",\"y\":[84.0,121.0,82.0,174.0,92.0,90.0,78.0,93.0,80.0,null,79.0,95.0,null,null,91.0,52.0,58.0,104.0,96.0,59.0,65.0,82.0,92.0,98.0,82.0,null,null,98.0,118.0,85.0,160.0,89.0,91.0,92.0,null,108.0,107.0,56.0,null,null,81.0,60.0,85.0,88.0,106.0,null,79.0,null,null,84.0,null,136.0,97.0,null,91.0,null,105.0,100.0,89.0,74.0,83.0,88.0,82.0,84.0,83.0,null,83.0,114.0,null,null,105.0],\"y0\":\" \",\"yaxis\":\"y\",\"type\":\"box\"},{\"alignmentgroup\":\"True\",\"hovertemplate\":\"Neighborhood=%{x}<br>LotFrontage=%{y}<extra></extra>\",\"legendgroup\":\"Mitchel\",\"marker\":{\"color\":\"#FFA15A\"},\"name\":\"Mitchel\",\"notched\":false,\"offsetgroup\":\"Mitchel\",\"orientation\":\"v\",\"showlegend\":true,\"x\":[\"Mitchel\",\"Mitchel\",\"Mitchel\",\"Mitchel\",\"Mitchel\",\"Mitchel\",\"Mitchel\",\"Mitchel\",\"Mitchel\",\"Mitchel\",\"Mitchel\",\"Mitchel\",\"Mitchel\",\"Mitchel\",\"Mitchel\",\"Mitchel\",\"Mitchel\",\"Mitchel\",\"Mitchel\",\"Mitchel\",\"Mitchel\",\"Mitchel\",\"Mitchel\",\"Mitchel\",\"Mitchel\",\"Mitchel\",\"Mitchel\",\"Mitchel\",\"Mitchel\",\"Mitchel\",\"Mitchel\",\"Mitchel\",\"Mitchel\",\"Mitchel\",\"Mitchel\",\"Mitchel\",\"Mitchel\",\"Mitchel\",\"Mitchel\",\"Mitchel\",\"Mitchel\",\"Mitchel\",\"Mitchel\",\"Mitchel\",\"Mitchel\",\"Mitchel\",\"Mitchel\",\"Mitchel\",\"Mitchel\",\"Mitchel\",\"Mitchel\",\"Mitchel\",\"Mitchel\",\"Mitchel\",\"Mitchel\",\"Mitchel\",\"Mitchel\",\"Mitchel\",\"Mitchel\",\"Mitchel\",\"Mitchel\",\"Mitchel\",\"Mitchel\",\"Mitchel\",\"Mitchel\",\"Mitchel\",\"Mitchel\",\"Mitchel\",\"Mitchel\",\"Mitchel\",\"Mitchel\",\"Mitchel\",\"Mitchel\",\"Mitchel\",\"Mitchel\",\"Mitchel\",\"Mitchel\",\"Mitchel\",\"Mitchel\",\"Mitchel\",\"Mitchel\",\"Mitchel\",\"Mitchel\",\"Mitchel\",\"Mitchel\",\"Mitchel\",\"Mitchel\",\"Mitchel\",\"Mitchel\",\"Mitchel\",\"Mitchel\",\"Mitchel\",\"Mitchel\",\"Mitchel\",\"Mitchel\",\"Mitchel\",\"Mitchel\",\"Mitchel\",\"Mitchel\",\"Mitchel\",\"Mitchel\",\"Mitchel\",\"Mitchel\",\"Mitchel\",\"Mitchel\",\"Mitchel\",\"Mitchel\",\"Mitchel\",\"Mitchel\",\"Mitchel\",\"Mitchel\",\"Mitchel\",\"Mitchel\",\"Mitchel\"],\"x0\":\" \",\"xaxis\":\"x\",\"y\":[85.0,48.0,69.0,32.0,82.0,null,75.0,76.0,129.0,37.0,null,71.0,78.0,100.0,63.0,32.0,71.0,54.0,77.0,60.0,70.0,75.0,32.0,78.0,null,null,null,94.0,null,55.0,100.0,null,75.0,43.0,100.0,63.0,null,76.0,37.0,null,null,null,62.0,94.0,60.0,null,80.0,null,90.0,85.0,74.0,null,85.0,93.0,null,50.0,76.0,70.0,63.0,68.0,76.0,74.0,75.0,75.0,72.0,82.0,75.0,83.0,50.0,62.0,70.0,62.0,70.0,null,null,76.0,74.0,97.0,77.0,32.0,150.0,null,59.0,60.0,74.0,null,80.0,44.0,null,null,82.0,200.0,62.0,72.0,null,61.0,68.0,50.0,124.0,null,65.0,62.0,69.0,65.0,70.0,140.0,125.0,78.0,58.0,null,80.0,160.0,62.0,74.0],\"y0\":\" \",\"yaxis\":\"y\",\"type\":\"box\"},{\"alignmentgroup\":\"True\",\"hovertemplate\":\"Neighborhood=%{x}<br>LotFrontage=%{y}<extra></extra>\",\"legendgroup\":\"Somerst\",\"marker\":{\"color\":\"#19d3f3\"},\"name\":\"Somerst\",\"notched\":false,\"offsetgroup\":\"Somerst\",\"orientation\":\"v\",\"showlegend\":true,\"x\":[\"Somerst\",\"Somerst\",\"Somerst\",\"Somerst\",\"Somerst\",\"Somerst\",\"Somerst\",\"Somerst\",\"Somerst\",\"Somerst\",\"Somerst\",\"Somerst\",\"Somerst\",\"Somerst\",\"Somerst\",\"Somerst\",\"Somerst\",\"Somerst\",\"Somerst\",\"Somerst\",\"Somerst\",\"Somerst\",\"Somerst\",\"Somerst\",\"Somerst\",\"Somerst\",\"Somerst\",\"Somerst\",\"Somerst\",\"Somerst\",\"Somerst\",\"Somerst\",\"Somerst\",\"Somerst\",\"Somerst\",\"Somerst\",\"Somerst\",\"Somerst\",\"Somerst\",\"Somerst\",\"Somerst\",\"Somerst\",\"Somerst\",\"Somerst\",\"Somerst\",\"Somerst\",\"Somerst\",\"Somerst\",\"Somerst\",\"Somerst\",\"Somerst\",\"Somerst\",\"Somerst\",\"Somerst\",\"Somerst\",\"Somerst\",\"Somerst\",\"Somerst\",\"Somerst\",\"Somerst\",\"Somerst\",\"Somerst\",\"Somerst\",\"Somerst\",\"Somerst\",\"Somerst\",\"Somerst\",\"Somerst\",\"Somerst\",\"Somerst\",\"Somerst\",\"Somerst\",\"Somerst\",\"Somerst\",\"Somerst\",\"Somerst\",\"Somerst\",\"Somerst\",\"Somerst\",\"Somerst\",\"Somerst\",\"Somerst\",\"Somerst\",\"Somerst\",\"Somerst\",\"Somerst\",\"Somerst\",\"Somerst\",\"Somerst\",\"Somerst\",\"Somerst\",\"Somerst\",\"Somerst\",\"Somerst\",\"Somerst\",\"Somerst\",\"Somerst\",\"Somerst\",\"Somerst\",\"Somerst\",\"Somerst\",\"Somerst\",\"Somerst\",\"Somerst\",\"Somerst\",\"Somerst\",\"Somerst\",\"Somerst\",\"Somerst\",\"Somerst\",\"Somerst\",\"Somerst\",\"Somerst\",\"Somerst\",\"Somerst\",\"Somerst\",\"Somerst\",\"Somerst\",\"Somerst\",\"Somerst\",\"Somerst\",\"Somerst\",\"Somerst\",\"Somerst\",\"Somerst\",\"Somerst\",\"Somerst\",\"Somerst\",\"Somerst\",\"Somerst\",\"Somerst\",\"Somerst\",\"Somerst\",\"Somerst\",\"Somerst\",\"Somerst\",\"Somerst\",\"Somerst\",\"Somerst\",\"Somerst\",\"Somerst\",\"Somerst\",\"Somerst\",\"Somerst\",\"Somerst\",\"Somerst\",\"Somerst\",\"Somerst\",\"Somerst\",\"Somerst\",\"Somerst\",\"Somerst\",\"Somerst\",\"Somerst\",\"Somerst\",\"Somerst\",\"Somerst\",\"Somerst\",\"Somerst\",\"Somerst\",\"Somerst\",\"Somerst\",\"Somerst\",\"Somerst\",\"Somerst\",\"Somerst\",\"Somerst\",\"Somerst\",\"Somerst\",\"Somerst\",\"Somerst\",\"Somerst\",\"Somerst\",\"Somerst\",\"Somerst\",\"Somerst\",\"Somerst\",\"Somerst\",\"Somerst\",\"Somerst\",\"Somerst\",\"Somerst\"],\"x0\":\" \",\"xaxis\":\"x\",\"y\":[75.0,84.0,24.0,78.0,40.0,75.0,34.0,100.0,null,79.0,72.0,75.0,64.0,84.0,60.0,74.0,35.0,66.0,75.0,102.0,60.0,65.0,85.0,null,75.0,75.0,75.0,75.0,62.0,75.0,34.0,30.0,null,null,85.0,65.0,49.0,84.0,null,59.0,34.0,24.0,72.0,75.0,76.0,91.0,81.0,24.0,30.0,72.0,75.0,50.0,116.0,30.0,84.0,75.0,24.0,95.0,null,35.0,65.0,75.0,85.0,37.0,24.0,92.0,35.0,24.0,85.0,72.0,86.0,83.0,65.0,35.0,73.0,47.0,75.0,85.0,null,30.0,null,85.0,49.0,85.0,78.0,62.0,73.0,92.0,84.0,25.0,39.0,30.0,24.0,24.0,null,null,57.0,68.0,80.0,70.0,null,null,86.0,78.0,85.0,76.0,85.0,90.0,72.0,112.0,75.0,84.0,65.0,85.0,68.0,65.0,32.0,null,null,34.0,35.0,74.0,73.0,80.0,87.0,72.0,85.0,62.0,37.0,30.0,30.0,24.0,null,null,42.0,35.0,24.0,79.0,24.0,24.0,36.0,null,75.0,91.0,76.0,98.0,85.0,74.0,70.0,70.0,75.0,72.0,75.0,72.0,81.0,112.0,84.0,100.0,85.0,45.0,80.0,32.0,40.0,30.0,24.0,24.0,73.0,null,106.0,75.0,75.0,49.0,85.0,72.0,100.0,65.0,34.0,24.0,null,null,114.0,60.0],\"y0\":\" \",\"yaxis\":\"y\",\"type\":\"box\"},{\"alignmentgroup\":\"True\",\"hovertemplate\":\"Neighborhood=%{x}<br>LotFrontage=%{y}<extra></extra>\",\"legendgroup\":\"NWAmes\",\"marker\":{\"color\":\"#FF6692\"},\"name\":\"NWAmes\",\"notched\":false,\"offsetgroup\":\"NWAmes\",\"orientation\":\"v\",\"showlegend\":true,\"x\":[\"NWAmes\",\"NWAmes\",\"NWAmes\",\"NWAmes\",\"NWAmes\",\"NWAmes\",\"NWAmes\",\"NWAmes\",\"NWAmes\",\"NWAmes\",\"NWAmes\",\"NWAmes\",\"NWAmes\",\"NWAmes\",\"NWAmes\",\"NWAmes\",\"NWAmes\",\"NWAmes\",\"NWAmes\",\"NWAmes\",\"NWAmes\",\"NWAmes\",\"NWAmes\",\"NWAmes\",\"NWAmes\",\"NWAmes\",\"NWAmes\",\"NWAmes\",\"NWAmes\",\"NWAmes\",\"NWAmes\",\"NWAmes\",\"NWAmes\",\"NWAmes\",\"NWAmes\",\"NWAmes\",\"NWAmes\",\"NWAmes\",\"NWAmes\",\"NWAmes\",\"NWAmes\",\"NWAmes\",\"NWAmes\",\"NWAmes\",\"NWAmes\",\"NWAmes\",\"NWAmes\",\"NWAmes\",\"NWAmes\",\"NWAmes\",\"NWAmes\",\"NWAmes\",\"NWAmes\",\"NWAmes\",\"NWAmes\",\"NWAmes\",\"NWAmes\",\"NWAmes\",\"NWAmes\",\"NWAmes\",\"NWAmes\",\"NWAmes\",\"NWAmes\",\"NWAmes\",\"NWAmes\",\"NWAmes\",\"NWAmes\",\"NWAmes\",\"NWAmes\",\"NWAmes\",\"NWAmes\",\"NWAmes\",\"NWAmes\",\"NWAmes\",\"NWAmes\",\"NWAmes\",\"NWAmes\",\"NWAmes\",\"NWAmes\",\"NWAmes\",\"NWAmes\",\"NWAmes\",\"NWAmes\",\"NWAmes\",\"NWAmes\",\"NWAmes\",\"NWAmes\",\"NWAmes\",\"NWAmes\",\"NWAmes\",\"NWAmes\",\"NWAmes\",\"NWAmes\",\"NWAmes\",\"NWAmes\",\"NWAmes\",\"NWAmes\",\"NWAmes\",\"NWAmes\",\"NWAmes\",\"NWAmes\",\"NWAmes\",\"NWAmes\",\"NWAmes\",\"NWAmes\",\"NWAmes\",\"NWAmes\",\"NWAmes\",\"NWAmes\",\"NWAmes\",\"NWAmes\",\"NWAmes\",\"NWAmes\",\"NWAmes\",\"NWAmes\",\"NWAmes\",\"NWAmes\",\"NWAmes\",\"NWAmes\",\"NWAmes\",\"NWAmes\",\"NWAmes\",\"NWAmes\",\"NWAmes\",\"NWAmes\",\"NWAmes\",\"NWAmes\",\"NWAmes\",\"NWAmes\",\"NWAmes\",\"NWAmes\"],\"x0\":\" \",\"xaxis\":\"x\",\"y\":[null,null,105.0,48.0,80.0,null,85.0,80.0,78.0,null,90.0,94.0,null,91.0,null,null,80.0,92.0,70.0,null,78.0,null,null,90.0,80.0,85.0,80.0,null,80.0,78.0,80.0,null,80.0,null,78.0,80.0,null,79.0,null,null,78.0,null,null,null,null,70.0,null,80.0,104.0,78.0,80.0,82.0,80.0,null,76.0,78.0,85.0,78.0,null,null,null,null,78.0,80.0,87.0,null,102.0,80.0,46.0,90.0,null,80.0,85.0,null,80.0,null,80.0,null,80.0,null,80.0,null,78.0,85.0,null,80.0,80.0,75.0,null,80.0,null,63.0,null,56.0,85.0,90.0,80.0,75.0,null,80.0,null,null,85.0,null,75.0,null,null,78.0,93.0,61.0,79.0,80.0,128.0,64.0,80.0,78.0,80.0,null,130.0,108.0,80.0,78.0,88.0,80.0,null,81.0,null,81.0,80.0,79.0,78.0],\"y0\":\" \",\"yaxis\":\"y\",\"type\":\"box\"},{\"alignmentgroup\":\"True\",\"hovertemplate\":\"Neighborhood=%{x}<br>LotFrontage=%{y}<extra></extra>\",\"legendgroup\":\"OldTown\",\"marker\":{\"color\":\"#B6E880\"},\"name\":\"OldTown\",\"notched\":false,\"offsetgroup\":\"OldTown\",\"orientation\":\"v\",\"showlegend\":true,\"x\":[\"OldTown\",\"OldTown\",\"OldTown\",\"OldTown\",\"OldTown\",\"OldTown\",\"OldTown\",\"OldTown\",\"OldTown\",\"OldTown\",\"OldTown\",\"OldTown\",\"OldTown\",\"OldTown\",\"OldTown\",\"OldTown\",\"OldTown\",\"OldTown\",\"OldTown\",\"OldTown\",\"OldTown\",\"OldTown\",\"OldTown\",\"OldTown\",\"OldTown\",\"OldTown\",\"OldTown\",\"OldTown\",\"OldTown\",\"OldTown\",\"OldTown\",\"OldTown\",\"OldTown\",\"OldTown\",\"OldTown\",\"OldTown\",\"OldTown\",\"OldTown\",\"OldTown\",\"OldTown\",\"OldTown\",\"OldTown\",\"OldTown\",\"OldTown\",\"OldTown\",\"OldTown\",\"OldTown\",\"OldTown\",\"OldTown\",\"OldTown\",\"OldTown\",\"OldTown\",\"OldTown\",\"OldTown\",\"OldTown\",\"OldTown\",\"OldTown\",\"OldTown\",\"OldTown\",\"OldTown\",\"OldTown\",\"OldTown\",\"OldTown\",\"OldTown\",\"OldTown\",\"OldTown\",\"OldTown\",\"OldTown\",\"OldTown\",\"OldTown\",\"OldTown\",\"OldTown\",\"OldTown\",\"OldTown\",\"OldTown\",\"OldTown\",\"OldTown\",\"OldTown\",\"OldTown\",\"OldTown\",\"OldTown\",\"OldTown\",\"OldTown\",\"OldTown\",\"OldTown\",\"OldTown\",\"OldTown\",\"OldTown\",\"OldTown\",\"OldTown\",\"OldTown\",\"OldTown\",\"OldTown\",\"OldTown\",\"OldTown\",\"OldTown\",\"OldTown\",\"OldTown\",\"OldTown\",\"OldTown\",\"OldTown\",\"OldTown\",\"OldTown\",\"OldTown\",\"OldTown\",\"OldTown\",\"OldTown\",\"OldTown\",\"OldTown\",\"OldTown\",\"OldTown\",\"OldTown\",\"OldTown\",\"OldTown\",\"OldTown\",\"OldTown\",\"OldTown\",\"OldTown\",\"OldTown\",\"OldTown\",\"OldTown\",\"OldTown\",\"OldTown\",\"OldTown\",\"OldTown\",\"OldTown\",\"OldTown\",\"OldTown\",\"OldTown\",\"OldTown\",\"OldTown\",\"OldTown\",\"OldTown\",\"OldTown\",\"OldTown\",\"OldTown\",\"OldTown\",\"OldTown\",\"OldTown\",\"OldTown\",\"OldTown\",\"OldTown\",\"OldTown\",\"OldTown\",\"OldTown\",\"OldTown\",\"OldTown\",\"OldTown\",\"OldTown\",\"OldTown\",\"OldTown\",\"OldTown\",\"OldTown\",\"OldTown\",\"OldTown\",\"OldTown\",\"OldTown\",\"OldTown\",\"OldTown\",\"OldTown\",\"OldTown\",\"OldTown\",\"OldTown\",\"OldTown\",\"OldTown\",\"OldTown\",\"OldTown\",\"OldTown\",\"OldTown\",\"OldTown\",\"OldTown\",\"OldTown\",\"OldTown\",\"OldTown\",\"OldTown\",\"OldTown\",\"OldTown\",\"OldTown\",\"OldTown\",\"OldTown\",\"OldTown\",\"OldTown\",\"OldTown\",\"OldTown\",\"OldTown\",\"OldTown\",\"OldTown\",\"OldTown\",\"OldTown\",\"OldTown\",\"OldTown\",\"OldTown\",\"OldTown\",\"OldTown\",\"OldTown\",\"OldTown\",\"OldTown\",\"OldTown\",\"OldTown\",\"OldTown\",\"OldTown\",\"OldTown\",\"OldTown\",\"OldTown\",\"OldTown\",\"OldTown\",\"OldTown\",\"OldTown\",\"OldTown\",\"OldTown\",\"OldTown\",\"OldTown\",\"OldTown\",\"OldTown\",\"OldTown\",\"OldTown\",\"OldTown\",\"OldTown\",\"OldTown\",\"OldTown\",\"OldTown\",\"OldTown\",\"OldTown\",\"OldTown\",\"OldTown\",\"OldTown\",\"OldTown\",\"OldTown\",\"OldTown\",\"OldTown\",\"OldTown\",\"OldTown\",\"OldTown\",\"OldTown\",\"OldTown\",\"OldTown\",\"OldTown\",\"OldTown\",\"OldTown\"],\"x0\":\" \",\"xaxis\":\"x\",\"y\":[51.0,33.0,50.0,47.0,60.0,60.0,60.0,60.0,50.0,55.0,84.0,55.0,40.0,null,60.0,63.0,90.0,60.0,92.0,50.0,50.0,57.0,40.0,63.0,69.0,70.0,50.0,30.0,87.0,65.0,60.0,49.0,60.0,60.0,56.0,60.0,60.0,40.0,50.0,70.0,34.0,null,50.0,50.0,60.0,50.0,60.0,60.0,60.0,49.0,50.0,81.0,75.0,60.0,50.0,64.0,50.0,60.0,52.0,60.0,76.0,60.0,60.0,60.0,65.0,55.0,35.0,60.0,50.0,90.0,60.0,90.0,60.0,100.0,52.0,98.0,50.0,59.0,121.0,60.0,60.0,52.0,85.0,50.0,60.0,90.0,60.0,90.0,null,50.0,null,60.0,107.0,60.0,65.0,60.0,60.0,60.0,100.0,60.0,153.0,50.0,50.0,90.0,60.0,60.0,60.0,60.0,60.0,60.0,60.0,60.0,90.0,60.0,56.0,69.0,50.0,69.0,null,68.0,60.0,50.0,100.0,60.0,51.0,57.0,60.0,52.0,53.0,60.0,80.0,60.0,60.0,60.0,90.0,60.0,60.0,68.0,57.0,90.0,90.0,57.0,63.0,56.0,50.0,62.0,50.0,60.0,60.0,70.0,60.0,null,60.0,60.0,57.0,68.0,50.0,null,41.0,60.0,45.0,60.0,60.0,56.0,57.0,80.0,60.0,60.0,63.0,63.0,81.0,60.0,60.0,60.0,44.0,75.0,62.0,103.0,69.0,53.0,69.0,60.0,60.0,60.0,60.0,65.0,52.0,51.0,57.0,63.0,null,60.0,60.0,60.0,60.0,50.0,56.0,56.0,60.0,120.0,50.0,57.0,null,53.0,35.0,56.0,60.0,75.0,52.0,76.0,47.0,null,40.0,40.0,94.0,60.0,60.0,60.0,60.0,62.0,60.0,60.0,60.0,58.0,66.0,56.0,56.0,50.0,60.0,42.0,50.0,50.0,52.0,56.0,48.0,70.0,33.0,65.0,90.0],\"y0\":\" \",\"yaxis\":\"y\",\"type\":\"box\"},{\"alignmentgroup\":\"True\",\"hovertemplate\":\"Neighborhood=%{x}<br>LotFrontage=%{y}<extra></extra>\",\"legendgroup\":\"BrkSide\",\"marker\":{\"color\":\"#FF97FF\"},\"name\":\"BrkSide\",\"notched\":false,\"offsetgroup\":\"BrkSide\",\"orientation\":\"v\",\"showlegend\":true,\"x\":[\"BrkSide\",\"BrkSide\",\"BrkSide\",\"BrkSide\",\"BrkSide\",\"BrkSide\",\"BrkSide\",\"BrkSide\",\"BrkSide\",\"BrkSide\",\"BrkSide\",\"BrkSide\",\"BrkSide\",\"BrkSide\",\"BrkSide\",\"BrkSide\",\"BrkSide\",\"BrkSide\",\"BrkSide\",\"BrkSide\",\"BrkSide\",\"BrkSide\",\"BrkSide\",\"BrkSide\",\"BrkSide\",\"BrkSide\",\"BrkSide\",\"BrkSide\",\"BrkSide\",\"BrkSide\",\"BrkSide\",\"BrkSide\",\"BrkSide\",\"BrkSide\",\"BrkSide\",\"BrkSide\",\"BrkSide\",\"BrkSide\",\"BrkSide\",\"BrkSide\",\"BrkSide\",\"BrkSide\",\"BrkSide\",\"BrkSide\",\"BrkSide\",\"BrkSide\",\"BrkSide\",\"BrkSide\",\"BrkSide\",\"BrkSide\",\"BrkSide\",\"BrkSide\",\"BrkSide\",\"BrkSide\",\"BrkSide\",\"BrkSide\",\"BrkSide\",\"BrkSide\",\"BrkSide\",\"BrkSide\",\"BrkSide\",\"BrkSide\",\"BrkSide\",\"BrkSide\",\"BrkSide\",\"BrkSide\",\"BrkSide\",\"BrkSide\",\"BrkSide\",\"BrkSide\",\"BrkSide\",\"BrkSide\",\"BrkSide\",\"BrkSide\",\"BrkSide\",\"BrkSide\",\"BrkSide\",\"BrkSide\",\"BrkSide\",\"BrkSide\",\"BrkSide\",\"BrkSide\",\"BrkSide\",\"BrkSide\",\"BrkSide\",\"BrkSide\",\"BrkSide\",\"BrkSide\",\"BrkSide\",\"BrkSide\",\"BrkSide\",\"BrkSide\",\"BrkSide\",\"BrkSide\",\"BrkSide\",\"BrkSide\",\"BrkSide\",\"BrkSide\",\"BrkSide\",\"BrkSide\",\"BrkSide\",\"BrkSide\",\"BrkSide\",\"BrkSide\",\"BrkSide\",\"BrkSide\",\"BrkSide\",\"BrkSide\"],\"x0\":\" \",\"xaxis\":\"x\",\"y\":[50.0,51.0,60.0,52.0,50.0,51.0,null,92.0,55.0,55.0,60.0,null,65.0,null,null,50.0,52.0,null,60.0,50.0,60.0,50.0,70.0,58.0,51.0,55.0,50.0,51.0,51.0,50.0,56.0,60.0,60.0,144.0,50.0,51.0,52.0,50.0,60.0,51.0,51.0,50.0,60.0,98.0,52.0,50.0,52.0,52.0,60.0,50.0,null,50.0,50.0,60.0,51.0,50.0,64.0,null,53.0,null,50.0,50.0,50.0,53.0,50.0,52.0,52.0,null,50.0,60.0,51.0,51.0,50.0,50.0,55.0,null,null,50.0,59.0,50.0,50.0,50.0,50.0,50.0,60.0,99.0,52.0,null,52.0,60.0,50.0,51.0,50.0,55.0,55.0,50.0,50.0,51.0,null,52.0,52.0,51.0,60.0,60.0,69.0,51.0,51.0,50.0],\"y0\":\" \",\"yaxis\":\"y\",\"type\":\"box\"},{\"alignmentgroup\":\"True\",\"hovertemplate\":\"Neighborhood=%{x}<br>LotFrontage=%{y}<extra></extra>\",\"legendgroup\":\"Sawyer\",\"marker\":{\"color\":\"#FECB52\"},\"name\":\"Sawyer\",\"notched\":false,\"offsetgroup\":\"Sawyer\",\"orientation\":\"v\",\"showlegend\":true,\"x\":[\"Sawyer\",\"Sawyer\",\"Sawyer\",\"Sawyer\",\"Sawyer\",\"Sawyer\",\"Sawyer\",\"Sawyer\",\"Sawyer\",\"Sawyer\",\"Sawyer\",\"Sawyer\",\"Sawyer\",\"Sawyer\",\"Sawyer\",\"Sawyer\",\"Sawyer\",\"Sawyer\",\"Sawyer\",\"Sawyer\",\"Sawyer\",\"Sawyer\",\"Sawyer\",\"Sawyer\",\"Sawyer\",\"Sawyer\",\"Sawyer\",\"Sawyer\",\"Sawyer\",\"Sawyer\",\"Sawyer\",\"Sawyer\",\"Sawyer\",\"Sawyer\",\"Sawyer\",\"Sawyer\",\"Sawyer\",\"Sawyer\",\"Sawyer\",\"Sawyer\",\"Sawyer\",\"Sawyer\",\"Sawyer\",\"Sawyer\",\"Sawyer\",\"Sawyer\",\"Sawyer\",\"Sawyer\",\"Sawyer\",\"Sawyer\",\"Sawyer\",\"Sawyer\",\"Sawyer\",\"Sawyer\",\"Sawyer\",\"Sawyer\",\"Sawyer\",\"Sawyer\",\"Sawyer\",\"Sawyer\",\"Sawyer\",\"Sawyer\",\"Sawyer\",\"Sawyer\",\"Sawyer\",\"Sawyer\",\"Sawyer\",\"Sawyer\",\"Sawyer\",\"Sawyer\",\"Sawyer\",\"Sawyer\",\"Sawyer\",\"Sawyer\",\"Sawyer\",\"Sawyer\",\"Sawyer\",\"Sawyer\",\"Sawyer\",\"Sawyer\",\"Sawyer\",\"Sawyer\",\"Sawyer\",\"Sawyer\",\"Sawyer\",\"Sawyer\",\"Sawyer\",\"Sawyer\",\"Sawyer\",\"Sawyer\",\"Sawyer\",\"Sawyer\",\"Sawyer\",\"Sawyer\",\"Sawyer\",\"Sawyer\",\"Sawyer\",\"Sawyer\",\"Sawyer\",\"Sawyer\",\"Sawyer\",\"Sawyer\",\"Sawyer\",\"Sawyer\",\"Sawyer\",\"Sawyer\",\"Sawyer\",\"Sawyer\",\"Sawyer\",\"Sawyer\",\"Sawyer\",\"Sawyer\",\"Sawyer\",\"Sawyer\",\"Sawyer\",\"Sawyer\",\"Sawyer\",\"Sawyer\",\"Sawyer\",\"Sawyer\",\"Sawyer\",\"Sawyer\",\"Sawyer\",\"Sawyer\",\"Sawyer\",\"Sawyer\",\"Sawyer\",\"Sawyer\",\"Sawyer\",\"Sawyer\",\"Sawyer\",\"Sawyer\",\"Sawyer\",\"Sawyer\",\"Sawyer\",\"Sawyer\",\"Sawyer\",\"Sawyer\",\"Sawyer\",\"Sawyer\",\"Sawyer\",\"Sawyer\",\"Sawyer\",\"Sawyer\",\"Sawyer\",\"Sawyer\",\"Sawyer\",\"Sawyer\",\"Sawyer\",\"Sawyer\",\"Sawyer\"],\"x0\":\" \",\"xaxis\":\"x\",\"y\":[70.0,null,72.0,null,null,66.0,72.0,null,78.0,70.0,null,40.0,70.0,88.0,null,60.0,null,74.0,60.0,80.0,null,65.0,null,null,96.0,74.0,61.0,71.0,null,null,65.0,null,null,80.0,null,65.0,70.0,null,null,100.0,71.0,60.0,null,102.0,null,75.0,85.0,88.0,70.0,70.0,null,65.0,null,70.0,80.0,115.0,88.0,75.0,57.0,85.0,54.0,null,109.0,60.0,80.0,75.0,null,99.0,68.0,55.0,null,null,null,70.0,39.0,72.0,65.0,65.0,null,86.0,94.0,63.0,null,null,null,null,65.0,50.0,75.0,null,88.0,88.0,null,70.0,75.0,65.0,60.0,70.0,82.0,null,80.0,68.0,null,null,null,60.0,94.0,88.0,63.0,null,64.0,84.0,44.0,43.0,107.0,75.0,75.0,62.0,65.0,null,70.0,86.0,null,null,81.0,99.0,70.0,91.0,85.0,null,70.0,68.0,null,null,65.0,null,null,null,null,82.0,120.0,100.0,null,80.0,75.0,null,null,null,75.0,null,72.0],\"y0\":\" \",\"yaxis\":\"y\",\"type\":\"box\"},{\"alignmentgroup\":\"True\",\"hovertemplate\":\"Neighborhood=%{x}<br>LotFrontage=%{y}<extra></extra>\",\"legendgroup\":\"NridgHt\",\"marker\":{\"color\":\"#636efa\"},\"name\":\"NridgHt\",\"notched\":false,\"offsetgroup\":\"NridgHt\",\"orientation\":\"v\",\"showlegend\":true,\"x\":[\"NridgHt\",\"NridgHt\",\"NridgHt\",\"NridgHt\",\"NridgHt\",\"NridgHt\",\"NridgHt\",\"NridgHt\",\"NridgHt\",\"NridgHt\",\"NridgHt\",\"NridgHt\",\"NridgHt\",\"NridgHt\",\"NridgHt\",\"NridgHt\",\"NridgHt\",\"NridgHt\",\"NridgHt\",\"NridgHt\",\"NridgHt\",\"NridgHt\",\"NridgHt\",\"NridgHt\",\"NridgHt\",\"NridgHt\",\"NridgHt\",\"NridgHt\",\"NridgHt\",\"NridgHt\",\"NridgHt\",\"NridgHt\",\"NridgHt\",\"NridgHt\",\"NridgHt\",\"NridgHt\",\"NridgHt\",\"NridgHt\",\"NridgHt\",\"NridgHt\",\"NridgHt\",\"NridgHt\",\"NridgHt\",\"NridgHt\",\"NridgHt\",\"NridgHt\",\"NridgHt\",\"NridgHt\",\"NridgHt\",\"NridgHt\",\"NridgHt\",\"NridgHt\",\"NridgHt\",\"NridgHt\",\"NridgHt\",\"NridgHt\",\"NridgHt\",\"NridgHt\",\"NridgHt\",\"NridgHt\",\"NridgHt\",\"NridgHt\",\"NridgHt\",\"NridgHt\",\"NridgHt\",\"NridgHt\",\"NridgHt\",\"NridgHt\",\"NridgHt\",\"NridgHt\",\"NridgHt\",\"NridgHt\",\"NridgHt\",\"NridgHt\",\"NridgHt\",\"NridgHt\",\"NridgHt\",\"NridgHt\",\"NridgHt\",\"NridgHt\",\"NridgHt\",\"NridgHt\",\"NridgHt\",\"NridgHt\",\"NridgHt\",\"NridgHt\",\"NridgHt\",\"NridgHt\",\"NridgHt\",\"NridgHt\",\"NridgHt\",\"NridgHt\",\"NridgHt\",\"NridgHt\",\"NridgHt\",\"NridgHt\",\"NridgHt\",\"NridgHt\",\"NridgHt\",\"NridgHt\",\"NridgHt\",\"NridgHt\",\"NridgHt\",\"NridgHt\",\"NridgHt\",\"NridgHt\",\"NridgHt\",\"NridgHt\",\"NridgHt\",\"NridgHt\",\"NridgHt\",\"NridgHt\",\"NridgHt\",\"NridgHt\",\"NridgHt\",\"NridgHt\",\"NridgHt\",\"NridgHt\",\"NridgHt\",\"NridgHt\",\"NridgHt\",\"NridgHt\",\"NridgHt\",\"NridgHt\",\"NridgHt\",\"NridgHt\",\"NridgHt\",\"NridgHt\",\"NridgHt\",\"NridgHt\",\"NridgHt\",\"NridgHt\",\"NridgHt\",\"NridgHt\",\"NridgHt\",\"NridgHt\",\"NridgHt\",\"NridgHt\",\"NridgHt\",\"NridgHt\",\"NridgHt\",\"NridgHt\",\"NridgHt\",\"NridgHt\",\"NridgHt\",\"NridgHt\",\"NridgHt\",\"NridgHt\",\"NridgHt\",\"NridgHt\",\"NridgHt\",\"NridgHt\",\"NridgHt\",\"NridgHt\",\"NridgHt\",\"NridgHt\",\"NridgHt\",\"NridgHt\",\"NridgHt\",\"NridgHt\",\"NridgHt\",\"NridgHt\",\"NridgHt\",\"NridgHt\",\"NridgHt\",\"NridgHt\"],\"x0\":\" \",\"xaxis\":\"x\",\"y\":[85.0,101.0,110.0,98.0,60.0,108.0,61.0,44.0,76.0,107.0,110.0,95.0,86.0,76.0,103.0,93.0,107.0,34.0,90.0,111.0,99.0,85.0,59.0,63.0,36.0,56.0,68.0,96.0,109.0,105.0,98.0,110.0,105.0,98.0,72.0,40.0,94.0,67.0,87.0,85.0,70.0,98.0,97.0,74.0,90.0,34.0,62.0,61.0,48.0,80.0,110.0,104.0,107.0,44.0,114.0,74.0,100.0,93.0,36.0,83.0,96.0,34.0,43.0,96.0,107.0,93.0,34.0,79.0,65.0,36.0,107.0,null,86.0,108.0,48.0,129.0,96.0,102.0,94.0,90.0,79.0,110.0,105.0,41.0,110.0,95.0,95.0,105.0,95.0,129.0,59.0,87.0,77.0,102.0,90.0,110.0,96.0,70.0,47.0,34.0,80.0,100.0,117.0,44.0,48.0,129.0,48.0,98.0,105.0,104.0,108.0,96.0,102.0,74.0,85.0,106.0,92.0,130.0,112.0,58.0,135.0,89.0,48.0,48.0,36.0,55.0,96.0,91.0,110.0,107.0,110.0,105.0,107.0,118.0,59.0,134.0,82.0,94.0,99.0,110.0,null,70.0,71.0,92.0,34.0,34.0,41.0,34.0,48.0,48.0,48.0,72.0,110.0,108.0,120.0,120.0,82.0,103.0,82.0,82.0,121.0,131.0,null,48.0,61.0,48.0],\"y0\":\" \",\"yaxis\":\"y\",\"type\":\"box\"},{\"alignmentgroup\":\"True\",\"hovertemplate\":\"Neighborhood=%{x}<br>LotFrontage=%{y}<extra></extra>\",\"legendgroup\":\"NAmes\",\"marker\":{\"color\":\"#EF553B\"},\"name\":\"NAmes\",\"notched\":false,\"offsetgroup\":\"NAmes\",\"orientation\":\"v\",\"showlegend\":true,\"x\":[\"NAmes\",\"NAmes\",\"NAmes\",\"NAmes\",\"NAmes\",\"NAmes\",\"NAmes\",\"NAmes\",\"NAmes\",\"NAmes\",\"NAmes\",\"NAmes\",\"NAmes\",\"NAmes\",\"NAmes\",\"NAmes\",\"NAmes\",\"NAmes\",\"NAmes\",\"NAmes\",\"NAmes\",\"NAmes\",\"NAmes\",\"NAmes\",\"NAmes\",\"NAmes\",\"NAmes\",\"NAmes\",\"NAmes\",\"NAmes\",\"NAmes\",\"NAmes\",\"NAmes\",\"NAmes\",\"NAmes\",\"NAmes\",\"NAmes\",\"NAmes\",\"NAmes\",\"NAmes\",\"NAmes\",\"NAmes\",\"NAmes\",\"NAmes\",\"NAmes\",\"NAmes\",\"NAmes\",\"NAmes\",\"NAmes\",\"NAmes\",\"NAmes\",\"NAmes\",\"NAmes\",\"NAmes\",\"NAmes\",\"NAmes\",\"NAmes\",\"NAmes\",\"NAmes\",\"NAmes\",\"NAmes\",\"NAmes\",\"NAmes\",\"NAmes\",\"NAmes\",\"NAmes\",\"NAmes\",\"NAmes\",\"NAmes\",\"NAmes\",\"NAmes\",\"NAmes\",\"NAmes\",\"NAmes\",\"NAmes\",\"NAmes\",\"NAmes\",\"NAmes\",\"NAmes\",\"NAmes\",\"NAmes\",\"NAmes\",\"NAmes\",\"NAmes\",\"NAmes\",\"NAmes\",\"NAmes\",\"NAmes\",\"NAmes\",\"NAmes\",\"NAmes\",\"NAmes\",\"NAmes\",\"NAmes\",\"NAmes\",\"NAmes\",\"NAmes\",\"NAmes\",\"NAmes\",\"NAmes\",\"NAmes\",\"NAmes\",\"NAmes\",\"NAmes\",\"NAmes\",\"NAmes\",\"NAmes\",\"NAmes\",\"NAmes\",\"NAmes\",\"NAmes\",\"NAmes\",\"NAmes\",\"NAmes\",\"NAmes\",\"NAmes\",\"NAmes\",\"NAmes\",\"NAmes\",\"NAmes\",\"NAmes\",\"NAmes\",\"NAmes\",\"NAmes\",\"NAmes\",\"NAmes\",\"NAmes\",\"NAmes\",\"NAmes\",\"NAmes\",\"NAmes\",\"NAmes\",\"NAmes\",\"NAmes\",\"NAmes\",\"NAmes\",\"NAmes\",\"NAmes\",\"NAmes\",\"NAmes\",\"NAmes\",\"NAmes\",\"NAmes\",\"NAmes\",\"NAmes\",\"NAmes\",\"NAmes\",\"NAmes\",\"NAmes\",\"NAmes\",\"NAmes\",\"NAmes\",\"NAmes\",\"NAmes\",\"NAmes\",\"NAmes\",\"NAmes\",\"NAmes\",\"NAmes\",\"NAmes\",\"NAmes\",\"NAmes\",\"NAmes\",\"NAmes\",\"NAmes\",\"NAmes\",\"NAmes\",\"NAmes\",\"NAmes\",\"NAmes\",\"NAmes\",\"NAmes\",\"NAmes\",\"NAmes\",\"NAmes\",\"NAmes\",\"NAmes\",\"NAmes\",\"NAmes\",\"NAmes\",\"NAmes\",\"NAmes\",\"NAmes\",\"NAmes\",\"NAmes\",\"NAmes\",\"NAmes\",\"NAmes\",\"NAmes\",\"NAmes\",\"NAmes\",\"NAmes\",\"NAmes\",\"NAmes\",\"NAmes\",\"NAmes\",\"NAmes\",\"NAmes\",\"NAmes\",\"NAmes\",\"NAmes\",\"NAmes\",\"NAmes\",\"NAmes\",\"NAmes\",\"NAmes\",\"NAmes\",\"NAmes\",\"NAmes\",\"NAmes\",\"NAmes\",\"NAmes\",\"NAmes\",\"NAmes\",\"NAmes\",\"NAmes\",\"NAmes\",\"NAmes\",\"NAmes\",\"NAmes\",\"NAmes\",\"NAmes\",\"NAmes\",\"NAmes\",\"NAmes\",\"NAmes\",\"NAmes\",\"NAmes\",\"NAmes\",\"NAmes\",\"NAmes\",\"NAmes\",\"NAmes\",\"NAmes\",\"NAmes\",\"NAmes\",\"NAmes\",\"NAmes\",\"NAmes\",\"NAmes\",\"NAmes\",\"NAmes\",\"NAmes\",\"NAmes\",\"NAmes\",\"NAmes\",\"NAmes\",\"NAmes\",\"NAmes\",\"NAmes\",\"NAmes\",\"NAmes\",\"NAmes\",\"NAmes\",\"NAmes\",\"NAmes\",\"NAmes\",\"NAmes\",\"NAmes\",\"NAmes\",\"NAmes\",\"NAmes\",\"NAmes\",\"NAmes\",\"NAmes\",\"NAmes\",\"NAmes\",\"NAmes\",\"NAmes\",\"NAmes\",\"NAmes\",\"NAmes\",\"NAmes\",\"NAmes\",\"NAmes\",\"NAmes\",\"NAmes\",\"NAmes\",\"NAmes\",\"NAmes\",\"NAmes\",\"NAmes\",\"NAmes\",\"NAmes\",\"NAmes\",\"NAmes\",\"NAmes\",\"NAmes\",\"NAmes\",\"NAmes\",\"NAmes\",\"NAmes\",\"NAmes\",\"NAmes\",\"NAmes\",\"NAmes\",\"NAmes\",\"NAmes\",\"NAmes\",\"NAmes\",\"NAmes\",\"NAmes\",\"NAmes\",\"NAmes\",\"NAmes\",\"NAmes\",\"NAmes\",\"NAmes\",\"NAmes\",\"NAmes\",\"NAmes\",\"NAmes\",\"NAmes\",\"NAmes\",\"NAmes\",\"NAmes\",\"NAmes\",\"NAmes\",\"NAmes\",\"NAmes\",\"NAmes\",\"NAmes\",\"NAmes\",\"NAmes\",\"NAmes\",\"NAmes\",\"NAmes\",\"NAmes\",\"NAmes\",\"NAmes\",\"NAmes\",\"NAmes\",\"NAmes\",\"NAmes\",\"NAmes\",\"NAmes\",\"NAmes\",\"NAmes\",\"NAmes\",\"NAmes\",\"NAmes\",\"NAmes\",\"NAmes\",\"NAmes\",\"NAmes\",\"NAmes\",\"NAmes\",\"NAmes\",\"NAmes\",\"NAmes\",\"NAmes\",\"NAmes\",\"NAmes\",\"NAmes\",\"NAmes\",\"NAmes\",\"NAmes\",\"NAmes\",\"NAmes\",\"NAmes\",\"NAmes\",\"NAmes\",\"NAmes\",\"NAmes\",\"NAmes\",\"NAmes\",\"NAmes\",\"NAmes\",\"NAmes\",\"NAmes\",\"NAmes\",\"NAmes\",\"NAmes\",\"NAmes\",\"NAmes\",\"NAmes\",\"NAmes\",\"NAmes\",\"NAmes\",\"NAmes\",\"NAmes\",\"NAmes\",\"NAmes\",\"NAmes\",\"NAmes\",\"NAmes\",\"NAmes\",\"NAmes\",\"NAmes\",\"NAmes\",\"NAmes\",\"NAmes\",\"NAmes\",\"NAmes\",\"NAmes\",\"NAmes\",\"NAmes\",\"NAmes\",\"NAmes\",\"NAmes\",\"NAmes\",\"NAmes\",\"NAmes\",\"NAmes\",\"NAmes\",\"NAmes\",\"NAmes\",\"NAmes\",\"NAmes\",\"NAmes\",\"NAmes\",\"NAmes\",\"NAmes\",\"NAmes\",\"NAmes\",\"NAmes\",\"NAmes\",\"NAmes\",\"NAmes\",\"NAmes\",\"NAmes\",\"NAmes\",\"NAmes\",\"NAmes\",\"NAmes\",\"NAmes\",\"NAmes\",\"NAmes\",\"NAmes\",\"NAmes\",\"NAmes\",\"NAmes\",\"NAmes\",\"NAmes\",\"NAmes\",\"NAmes\",\"NAmes\",\"NAmes\",\"NAmes\",\"NAmes\",\"NAmes\",\"NAmes\",\"NAmes\"],\"x0\":\" \",\"xaxis\":\"x\",\"y\":[null,null,70.0,60.0,47.0,70.0,74.0,68.0,84.0,70.0,60.0,100.0,null,95.0,85.0,null,100.0,80.0,60.0,85.0,77.0,75.0,69.0,69.0,88.0,75.0,null,70.0,71.0,60.0,141.0,80.0,null,174.0,null,75.0,72.0,70.0,73.0,75.0,85.0,70.0,120.0,80.0,77.0,null,80.0,50.0,96.0,80.0,null,70.0,66.0,null,null,null,null,101.0,78.0,null,79.0,null,69.0,65.0,72.0,77.0,137.0,85.0,79.0,80.0,79.0,79.0,70.0,70.0,80.0,75.0,70.0,90.0,70.0,60.0,null,34.0,69.0,null,74.0,60.0,70.0,80.0,null,85.0,80.0,59.0,87.0,null,80.0,70.0,82.0,80.0,75.0,null,60.0,70.0,72.0,78.0,120.0,null,80.0,70.0,60.0,85.0,60.0,61.0,70.0,70.0,57.0,75.0,75.0,85.0,75.0,null,80.0,100.0,75.0,82.0,80.0,null,70.0,null,60.0,74.0,60.0,65.0,70.0,95.0,128.0,60.0,71.0,null,64.0,80.0,80.0,87.0,70.0,313.0,70.0,60.0,null,75.0,60.0,null,80.0,null,null,60.0,73.0,79.0,100.0,null,80.0,60.0,72.0,null,80.0,60.0,71.0,74.0,61.0,70.0,79.0,73.0,66.0,70.0,60.0,80.0,60.0,57.0,null,85.0,76.0,71.0,70.0,69.0,66.0,78.0,89.0,65.0,72.0,70.0,70.0,70.0,null,60.0,93.0,65.0,80.0,34.0,78.0,95.0,null,70.0,80.0,75.0,85.0,70.0,70.0,91.0,70.0,null,null,null,80.0,null,65.0,68.0,60.0,80.0,60.0,71.0,null,80.0,60.0,80.0,60.0,60.0,68.0,80.0,81.0,70.0,26.0,80.0,90.0,88.0,null,98.0,68.0,120.0,75.0,70.0,70.0,null,87.0,80.0,60.0,60.0,119.0,70.0,65.0,60.0,81.0,80.0,74.0,85.0,null,null,60.0,60.0,null,62.0,80.0,60.0,65.0,null,null,85.0,115.0,null,85.0,68.0,90.0,92.0,80.0,73.0,null,66.0,70.0,70.0,80.0,76.0,53.0,67.0,80.0,60.0,75.0,78.0,60.0,81.0,83.0,77.0,62.0,90.0,80.0,60.0,71.0,60.0,80.0,60.0,60.0,76.0,75.0,80.0,60.0,68.0,63.0,73.0,65.0,72.0,74.0,90.0,null,80.0,80.0,63.0,90.0,74.0,82.0,90.0,75.0,60.0,102.0,null,95.0,71.0,76.0,78.0,76.0,null,60.0,80.0,80.0,60.0,64.0,60.0,113.0,60.0,60.0,69.0,85.0,63.0,66.0,null,33.0,26.0,65.0,70.0,null,74.0,null,76.0,70.0,80.0,80.0,80.0,null,null,85.0,80.0,63.0,null,100.0,73.0,65.0,60.0,70.0,80.0,72.0,70.0,75.0,60.0,70.0,60.0,68.0,71.0,55.0,70.0,75.0,null,113.0,93.0,75.0,66.0,60.0,null,70.0,70.0,80.0,70.0,60.0,66.0,null,85.0,null,null,90.0,60.0,26.0,65.0,80.0,72.0,78.0,70.0,null,80.0,80.0,null,85.0,80.0,60.0,68.0,80.0,89.0,80.0,79.0,82.0,null,null,109.0,70.0,null,125.0,72.0,70.0,66.0,75.0,55.0,65.0,80.0,85.0,118.0,70.0,50.0,60.0,83.0,77.0,80.0,86.0,null,60.0,60.0,75.0,70.0,74.0,70.0,70.0],\"y0\":\" \",\"yaxis\":\"y\",\"type\":\"box\"},{\"alignmentgroup\":\"True\",\"hovertemplate\":\"Neighborhood=%{x}<br>LotFrontage=%{y}<extra></extra>\",\"legendgroup\":\"SawyerW\",\"marker\":{\"color\":\"#00cc96\"},\"name\":\"SawyerW\",\"notched\":false,\"offsetgroup\":\"SawyerW\",\"orientation\":\"v\",\"showlegend\":true,\"x\":[\"SawyerW\",\"SawyerW\",\"SawyerW\",\"SawyerW\",\"SawyerW\",\"SawyerW\",\"SawyerW\",\"SawyerW\",\"SawyerW\",\"SawyerW\",\"SawyerW\",\"SawyerW\",\"SawyerW\",\"SawyerW\",\"SawyerW\",\"SawyerW\",\"SawyerW\",\"SawyerW\",\"SawyerW\",\"SawyerW\",\"SawyerW\",\"SawyerW\",\"SawyerW\",\"SawyerW\",\"SawyerW\",\"SawyerW\",\"SawyerW\",\"SawyerW\",\"SawyerW\",\"SawyerW\",\"SawyerW\",\"SawyerW\",\"SawyerW\",\"SawyerW\",\"SawyerW\",\"SawyerW\",\"SawyerW\",\"SawyerW\",\"SawyerW\",\"SawyerW\",\"SawyerW\",\"SawyerW\",\"SawyerW\",\"SawyerW\",\"SawyerW\",\"SawyerW\",\"SawyerW\",\"SawyerW\",\"SawyerW\",\"SawyerW\",\"SawyerW\",\"SawyerW\",\"SawyerW\",\"SawyerW\",\"SawyerW\",\"SawyerW\",\"SawyerW\",\"SawyerW\",\"SawyerW\",\"SawyerW\",\"SawyerW\",\"SawyerW\",\"SawyerW\",\"SawyerW\",\"SawyerW\",\"SawyerW\",\"SawyerW\",\"SawyerW\",\"SawyerW\",\"SawyerW\",\"SawyerW\",\"SawyerW\",\"SawyerW\",\"SawyerW\",\"SawyerW\",\"SawyerW\",\"SawyerW\",\"SawyerW\",\"SawyerW\",\"SawyerW\",\"SawyerW\",\"SawyerW\",\"SawyerW\",\"SawyerW\",\"SawyerW\",\"SawyerW\",\"SawyerW\",\"SawyerW\",\"SawyerW\",\"SawyerW\",\"SawyerW\",\"SawyerW\",\"SawyerW\",\"SawyerW\",\"SawyerW\",\"SawyerW\",\"SawyerW\",\"SawyerW\",\"SawyerW\",\"SawyerW\",\"SawyerW\",\"SawyerW\",\"SawyerW\",\"SawyerW\",\"SawyerW\",\"SawyerW\",\"SawyerW\",\"SawyerW\",\"SawyerW\",\"SawyerW\",\"SawyerW\",\"SawyerW\",\"SawyerW\",\"SawyerW\",\"SawyerW\",\"SawyerW\",\"SawyerW\",\"SawyerW\",\"SawyerW\",\"SawyerW\",\"SawyerW\",\"SawyerW\",\"SawyerW\",\"SawyerW\",\"SawyerW\"],\"x0\":\" \",\"xaxis\":\"x\",\"y\":[66.0,null,63.0,77.0,64.0,90.0,55.0,63.0,64.0,null,null,75.0,null,65.0,82.0,50.0,116.0,86.0,60.0,50.0,60.0,59.0,null,76.0,80.0,79.0,80.0,65.0,50.0,65.0,60.0,65.0,76.0,70.0,65.0,75.0,81.0,80.0,64.0,64.0,103.0,70.0,50.0,67.0,60.0,55.0,86.0,73.0,114.0,80.0,null,90.0,null,70.0,63.0,null,66.0,null,88.0,70.0,70.0,83.0,87.0,82.0,80.0,63.0,63.0,96.0,76.0,63.0,63.0,60.0,61.0,43.0,70.0,50.0,70.0,null,75.0,74.0,66.0,85.0,120.0,64.0,64.0,64.0,64.0,null,null,null,68.0,67.0,63.0,81.0,65.0,50.0,43.0,65.0,75.0,null,80.0,null,85.0,null,63.0,63.0,60.0,65.0,null,50.0,104.0,75.0,null,74.0,91.0,63.0,65.0,74.0,70.0,70.0,50.0,50.0,null,88.0,73.0],\"y0\":\" \",\"yaxis\":\"y\",\"type\":\"box\"},{\"alignmentgroup\":\"True\",\"hovertemplate\":\"Neighborhood=%{x}<br>LotFrontage=%{y}<extra></extra>\",\"legendgroup\":\"IDOTRR\",\"marker\":{\"color\":\"#ab63fa\"},\"name\":\"IDOTRR\",\"notched\":false,\"offsetgroup\":\"IDOTRR\",\"orientation\":\"v\",\"showlegend\":true,\"x\":[\"IDOTRR\",\"IDOTRR\",\"IDOTRR\",\"IDOTRR\",\"IDOTRR\",\"IDOTRR\",\"IDOTRR\",\"IDOTRR\",\"IDOTRR\",\"IDOTRR\",\"IDOTRR\",\"IDOTRR\",\"IDOTRR\",\"IDOTRR\",\"IDOTRR\",\"IDOTRR\",\"IDOTRR\",\"IDOTRR\",\"IDOTRR\",\"IDOTRR\",\"IDOTRR\",\"IDOTRR\",\"IDOTRR\",\"IDOTRR\",\"IDOTRR\",\"IDOTRR\",\"IDOTRR\",\"IDOTRR\",\"IDOTRR\",\"IDOTRR\",\"IDOTRR\",\"IDOTRR\",\"IDOTRR\",\"IDOTRR\",\"IDOTRR\",\"IDOTRR\",\"IDOTRR\",\"IDOTRR\",\"IDOTRR\",\"IDOTRR\",\"IDOTRR\",\"IDOTRR\",\"IDOTRR\",\"IDOTRR\",\"IDOTRR\",\"IDOTRR\",\"IDOTRR\",\"IDOTRR\",\"IDOTRR\",\"IDOTRR\",\"IDOTRR\",\"IDOTRR\",\"IDOTRR\",\"IDOTRR\",\"IDOTRR\",\"IDOTRR\",\"IDOTRR\",\"IDOTRR\",\"IDOTRR\",\"IDOTRR\",\"IDOTRR\",\"IDOTRR\",\"IDOTRR\",\"IDOTRR\",\"IDOTRR\",\"IDOTRR\",\"IDOTRR\",\"IDOTRR\",\"IDOTRR\",\"IDOTRR\",\"IDOTRR\",\"IDOTRR\",\"IDOTRR\",\"IDOTRR\",\"IDOTRR\",\"IDOTRR\",\"IDOTRR\",\"IDOTRR\",\"IDOTRR\",\"IDOTRR\",\"IDOTRR\",\"IDOTRR\",\"IDOTRR\",\"IDOTRR\",\"IDOTRR\",\"IDOTRR\",\"IDOTRR\",\"IDOTRR\",\"IDOTRR\",\"IDOTRR\",\"IDOTRR\",\"IDOTRR\",\"IDOTRR\"],\"x0\":\" \",\"xaxis\":\"x\",\"y\":[57.0,50.0,110.0,60.0,105.0,null,85.0,50.0,60.0,71.0,75.0,null,50.0,60.0,59.0,60.0,50.0,60.0,60.0,50.0,60.0,70.0,66.0,52.0,40.0,66.0,50.0,50.0,60.0,120.0,60.0,59.0,null,60.0,40.0,60.0,40.0,58.0,50.0,66.0,72.0,57.0,60.0,86.0,60.0,50.0,60.0,109.0,null,60.0,60.0,null,60.0,62.0,60.0,60.0,50.0,60.0,58.0,75.0,60.0,75.0,80.0,60.0,52.0,60.0,null,120.0,60.0,60.0,52.0,60.0,50.0,50.0,50.0,46.0,64.0,75.0,65.0,60.0,63.0,60.0,60.0,50.0,60.0,50.0,50.0,61.0,50.0,75.0,69.0,50.0,60.0],\"y0\":\" \",\"yaxis\":\"y\",\"type\":\"box\"},{\"alignmentgroup\":\"True\",\"hovertemplate\":\"Neighborhood=%{x}<br>LotFrontage=%{y}<extra></extra>\",\"legendgroup\":\"MeadowV\",\"marker\":{\"color\":\"#FFA15A\"},\"name\":\"MeadowV\",\"notched\":false,\"offsetgroup\":\"MeadowV\",\"orientation\":\"v\",\"showlegend\":true,\"x\":[\"MeadowV\",\"MeadowV\",\"MeadowV\",\"MeadowV\",\"MeadowV\",\"MeadowV\",\"MeadowV\",\"MeadowV\",\"MeadowV\",\"MeadowV\",\"MeadowV\",\"MeadowV\",\"MeadowV\",\"MeadowV\",\"MeadowV\",\"MeadowV\",\"MeadowV\",\"MeadowV\",\"MeadowV\",\"MeadowV\",\"MeadowV\",\"MeadowV\",\"MeadowV\",\"MeadowV\",\"MeadowV\",\"MeadowV\",\"MeadowV\",\"MeadowV\",\"MeadowV\",\"MeadowV\",\"MeadowV\",\"MeadowV\",\"MeadowV\",\"MeadowV\",\"MeadowV\",\"MeadowV\",\"MeadowV\"],\"x0\":\" \",\"xaxis\":\"x\",\"y\":[44.0,21.0,36.0,44.0,21.0,21.0,null,21.0,21.0,21.0,21.0,21.0,21.0,42.0,null,41.0,21.0,31.0,21.0,21.0,21.0,null,41.0,21.0,21.0,21.0,21.0,null,21.0,21.0,41.0,21.0,21.0,21.0,21.0,21.0,21.0],\"y0\":\" \",\"yaxis\":\"y\",\"type\":\"box\"},{\"alignmentgroup\":\"True\",\"hovertemplate\":\"Neighborhood=%{x}<br>LotFrontage=%{y}<extra></extra>\",\"legendgroup\":\"Edwards\",\"marker\":{\"color\":\"#19d3f3\"},\"name\":\"Edwards\",\"notched\":false,\"offsetgroup\":\"Edwards\",\"orientation\":\"v\",\"showlegend\":true,\"x\":[\"Edwards\",\"Edwards\",\"Edwards\",\"Edwards\",\"Edwards\",\"Edwards\",\"Edwards\",\"Edwards\",\"Edwards\",\"Edwards\",\"Edwards\",\"Edwards\",\"Edwards\",\"Edwards\",\"Edwards\",\"Edwards\",\"Edwards\",\"Edwards\",\"Edwards\",\"Edwards\",\"Edwards\",\"Edwards\",\"Edwards\",\"Edwards\",\"Edwards\",\"Edwards\",\"Edwards\",\"Edwards\",\"Edwards\",\"Edwards\",\"Edwards\",\"Edwards\",\"Edwards\",\"Edwards\",\"Edwards\",\"Edwards\",\"Edwards\",\"Edwards\",\"Edwards\",\"Edwards\",\"Edwards\",\"Edwards\",\"Edwards\",\"Edwards\",\"Edwards\",\"Edwards\",\"Edwards\",\"Edwards\",\"Edwards\",\"Edwards\",\"Edwards\",\"Edwards\",\"Edwards\",\"Edwards\",\"Edwards\",\"Edwards\",\"Edwards\",\"Edwards\",\"Edwards\",\"Edwards\",\"Edwards\",\"Edwards\",\"Edwards\",\"Edwards\",\"Edwards\",\"Edwards\",\"Edwards\",\"Edwards\",\"Edwards\",\"Edwards\",\"Edwards\",\"Edwards\",\"Edwards\",\"Edwards\",\"Edwards\",\"Edwards\",\"Edwards\",\"Edwards\",\"Edwards\",\"Edwards\",\"Edwards\",\"Edwards\",\"Edwards\",\"Edwards\",\"Edwards\",\"Edwards\",\"Edwards\",\"Edwards\",\"Edwards\",\"Edwards\",\"Edwards\",\"Edwards\",\"Edwards\",\"Edwards\",\"Edwards\",\"Edwards\",\"Edwards\",\"Edwards\",\"Edwards\",\"Edwards\",\"Edwards\",\"Edwards\",\"Edwards\",\"Edwards\",\"Edwards\",\"Edwards\",\"Edwards\",\"Edwards\",\"Edwards\",\"Edwards\",\"Edwards\",\"Edwards\",\"Edwards\",\"Edwards\",\"Edwards\",\"Edwards\",\"Edwards\",\"Edwards\",\"Edwards\",\"Edwards\",\"Edwards\",\"Edwards\",\"Edwards\",\"Edwards\",\"Edwards\",\"Edwards\",\"Edwards\",\"Edwards\",\"Edwards\",\"Edwards\",\"Edwards\",\"Edwards\",\"Edwards\",\"Edwards\",\"Edwards\",\"Edwards\",\"Edwards\",\"Edwards\",\"Edwards\",\"Edwards\",\"Edwards\",\"Edwards\",\"Edwards\",\"Edwards\",\"Edwards\",\"Edwards\",\"Edwards\",\"Edwards\",\"Edwards\",\"Edwards\",\"Edwards\",\"Edwards\",\"Edwards\",\"Edwards\",\"Edwards\",\"Edwards\",\"Edwards\",\"Edwards\",\"Edwards\",\"Edwards\",\"Edwards\",\"Edwards\",\"Edwards\",\"Edwards\",\"Edwards\",\"Edwards\",\"Edwards\",\"Edwards\",\"Edwards\",\"Edwards\",\"Edwards\",\"Edwards\",\"Edwards\",\"Edwards\",\"Edwards\",\"Edwards\",\"Edwards\",\"Edwards\",\"Edwards\",\"Edwards\",\"Edwards\",\"Edwards\",\"Edwards\",\"Edwards\",\"Edwards\",\"Edwards\",\"Edwards\",\"Edwards\",\"Edwards\",\"Edwards\",\"Edwards\",\"Edwards\",\"Edwards\",\"Edwards\"],\"x0\":\" \",\"xaxis\":\"x\",\"y\":[65.0,73.0,85.0,75.0,74.0,24.0,60.0,62.0,84.0,60.0,24.0,80.0,67.0,83.0,52.0,null,60.0,null,60.0,64.0,null,58.0,72.0,50.0,68.0,68.0,60.0,67.0,92.0,73.0,35.0,70.0,130.0,58.0,70.0,67.0,63.0,66.0,81.0,78.0,45.0,67.0,85.0,60.0,75.0,90.0,54.0,57.0,60.0,86.0,60.0,50.0,67.0,94.0,45.0,70.0,60.0,59.0,null,67.0,42.0,35.0,68.0,68.0,74.0,75.0,60.0,null,null,60.0,68.0,50.0,75.0,24.0,null,50.0,60.0,134.0,120.0,77.0,60.0,50.0,60.0,56.0,124.0,60.0,35.0,313.0,32.0,60.0,75.0,70.0,67.0,60.0,45.0,60.0,null,70.0,35.0,75.0,124.0,65.0,50.0,75.0,44.0,null,67.0,68.0,60.0,89.0,65.0,64.0,60.0,null,60.0,null,68.0,50.0,62.0,42.0,80.0,35.0,64.0,70.0,65.0,70.0,45.0,50.0,85.0,68.0,50.0,50.0,75.0,64.0,65.0,null,72.0,123.0,65.0,74.0,56.0,60.0,57.0,68.0,62.0,67.0,null,null,84.0,70.0,null,39.0,58.0,60.0,50.0,75.0,67.0,74.0,80.0,65.0,null,60.0,128.0,35.0,64.0,74.0,52.0,62.0,60.0,60.0,55.0,75.0,62.0,114.0,60.0,78.0,80.0,70.0,75.0,67.0,38.0,73.0,62.0,75.0,90.0,35.0,24.0,56.0,72.0,62.0,60.0,45.0,60.0,76.0],\"y0\":\" \",\"yaxis\":\"y\",\"type\":\"box\"},{\"alignmentgroup\":\"True\",\"hovertemplate\":\"Neighborhood=%{x}<br>LotFrontage=%{y}<extra></extra>\",\"legendgroup\":\"Timber\",\"marker\":{\"color\":\"#FF6692\"},\"name\":\"Timber\",\"notched\":false,\"offsetgroup\":\"Timber\",\"orientation\":\"v\",\"showlegend\":true,\"x\":[\"Timber\",\"Timber\",\"Timber\",\"Timber\",\"Timber\",\"Timber\",\"Timber\",\"Timber\",\"Timber\",\"Timber\",\"Timber\",\"Timber\",\"Timber\",\"Timber\",\"Timber\",\"Timber\",\"Timber\",\"Timber\",\"Timber\",\"Timber\",\"Timber\",\"Timber\",\"Timber\",\"Timber\",\"Timber\",\"Timber\",\"Timber\",\"Timber\",\"Timber\",\"Timber\",\"Timber\",\"Timber\",\"Timber\",\"Timber\",\"Timber\",\"Timber\",\"Timber\",\"Timber\",\"Timber\",\"Timber\",\"Timber\",\"Timber\",\"Timber\",\"Timber\",\"Timber\",\"Timber\",\"Timber\",\"Timber\",\"Timber\",\"Timber\",\"Timber\",\"Timber\",\"Timber\",\"Timber\",\"Timber\",\"Timber\",\"Timber\",\"Timber\",\"Timber\",\"Timber\",\"Timber\",\"Timber\",\"Timber\",\"Timber\",\"Timber\",\"Timber\",\"Timber\",\"Timber\",\"Timber\",\"Timber\",\"Timber\",\"Timber\"],\"x0\":\" \",\"xaxis\":\"x\",\"y\":[115.0,null,92.0,null,47.0,150.0,null,85.0,130.0,null,85.0,85.0,83.0,88.0,85.0,42.0,54.0,85.0,73.0,67.0,44.0,73.0,null,85.0,80.0,null,71.0,89.0,null,50.0,64.0,89.0,50.0,93.0,89.0,73.0,88.0,null,88.0,73.0,73.0,113.0,79.0,null,125.0,75.0,85.0,42.0,74.0,107.0,73.0,81.0,75.0,93.0,82.0,null,79.0,85.0,46.0,149.0,67.0,68.0,42.0,null,80.0,null,null,85.0,null,null,95.0,88.0],\"y0\":\" \",\"yaxis\":\"y\",\"type\":\"box\"},{\"alignmentgroup\":\"True\",\"hovertemplate\":\"Neighborhood=%{x}<br>LotFrontage=%{y}<extra></extra>\",\"legendgroup\":\"Gilbert\",\"marker\":{\"color\":\"#B6E880\"},\"name\":\"Gilbert\",\"notched\":false,\"offsetgroup\":\"Gilbert\",\"orientation\":\"v\",\"showlegend\":true,\"x\":[\"Gilbert\",\"Gilbert\",\"Gilbert\",\"Gilbert\",\"Gilbert\",\"Gilbert\",\"Gilbert\",\"Gilbert\",\"Gilbert\",\"Gilbert\",\"Gilbert\",\"Gilbert\",\"Gilbert\",\"Gilbert\",\"Gilbert\",\"Gilbert\",\"Gilbert\",\"Gilbert\",\"Gilbert\",\"Gilbert\",\"Gilbert\",\"Gilbert\",\"Gilbert\",\"Gilbert\",\"Gilbert\",\"Gilbert\",\"Gilbert\",\"Gilbert\",\"Gilbert\",\"Gilbert\",\"Gilbert\",\"Gilbert\",\"Gilbert\",\"Gilbert\",\"Gilbert\",\"Gilbert\",\"Gilbert\",\"Gilbert\",\"Gilbert\",\"Gilbert\",\"Gilbert\",\"Gilbert\",\"Gilbert\",\"Gilbert\",\"Gilbert\",\"Gilbert\",\"Gilbert\",\"Gilbert\",\"Gilbert\",\"Gilbert\",\"Gilbert\",\"Gilbert\",\"Gilbert\",\"Gilbert\",\"Gilbert\",\"Gilbert\",\"Gilbert\",\"Gilbert\",\"Gilbert\",\"Gilbert\",\"Gilbert\",\"Gilbert\",\"Gilbert\",\"Gilbert\",\"Gilbert\",\"Gilbert\",\"Gilbert\",\"Gilbert\",\"Gilbert\",\"Gilbert\",\"Gilbert\",\"Gilbert\",\"Gilbert\",\"Gilbert\",\"Gilbert\",\"Gilbert\",\"Gilbert\",\"Gilbert\",\"Gilbert\",\"Gilbert\",\"Gilbert\",\"Gilbert\",\"Gilbert\",\"Gilbert\",\"Gilbert\",\"Gilbert\",\"Gilbert\",\"Gilbert\",\"Gilbert\",\"Gilbert\",\"Gilbert\",\"Gilbert\",\"Gilbert\",\"Gilbert\",\"Gilbert\",\"Gilbert\",\"Gilbert\",\"Gilbert\",\"Gilbert\",\"Gilbert\",\"Gilbert\",\"Gilbert\",\"Gilbert\",\"Gilbert\",\"Gilbert\",\"Gilbert\",\"Gilbert\",\"Gilbert\",\"Gilbert\",\"Gilbert\",\"Gilbert\",\"Gilbert\",\"Gilbert\",\"Gilbert\",\"Gilbert\",\"Gilbert\",\"Gilbert\",\"Gilbert\",\"Gilbert\",\"Gilbert\",\"Gilbert\",\"Gilbert\",\"Gilbert\",\"Gilbert\",\"Gilbert\",\"Gilbert\",\"Gilbert\",\"Gilbert\",\"Gilbert\",\"Gilbert\",\"Gilbert\",\"Gilbert\",\"Gilbert\",\"Gilbert\",\"Gilbert\",\"Gilbert\",\"Gilbert\",\"Gilbert\",\"Gilbert\",\"Gilbert\",\"Gilbert\",\"Gilbert\",\"Gilbert\",\"Gilbert\",\"Gilbert\",\"Gilbert\",\"Gilbert\",\"Gilbert\",\"Gilbert\",\"Gilbert\",\"Gilbert\",\"Gilbert\",\"Gilbert\",\"Gilbert\",\"Gilbert\",\"Gilbert\",\"Gilbert\",\"Gilbert\",\"Gilbert\",\"Gilbert\",\"Gilbert\",\"Gilbert\",\"Gilbert\",\"Gilbert\",\"Gilbert\"],\"x0\":\" \",\"xaxis\":\"x\",\"y\":[null,74.0,null,122.0,null,null,null,null,134.0,62.0,99.0,null,null,66.0,70.0,140.0,null,71.0,59.0,null,null,60.0,null,100.0,73.0,100.0,null,105.0,74.0,58.0,57.0,76.0,null,106.0,65.0,72.0,null,null,63.0,null,null,65.0,null,null,63.0,50.0,149.0,65.0,null,null,65.0,null,73.0,59.0,null,168.0,null,null,null,null,182.0,59.0,57.0,58.0,60.0,51.0,58.0,152.0,60.0,59.0,null,null,63.0,73.0,42.0,62.0,60.0,93.0,62.0,74.0,78.0,75.0,null,63.0,85.0,100.0,67.0,63.0,88.0,null,60.0,57.0,60.0,null,58.0,85.0,63.0,57.0,59.0,62.0,61.0,null,null,null,61.0,42.0,62.0,null,64.0,72.0,65.0,59.0,null,53.0,73.0,null,null,null,80.0,null,null,71.0,null,41.0,77.0,56.0,null,null,63.0,60.0,null,null,160.0,195.0,59.0,65.0,58.0,62.0,63.0,88.0,72.0,64.0,64.0,65.0,87.0,59.0,null,63.0,null,58.0,59.0,60.0,null,54.0,50.0,42.0,null,65.0,65.0,102.0,96.0,75.0,59.0,null,null],\"y0\":\" \",\"yaxis\":\"y\",\"type\":\"box\"},{\"alignmentgroup\":\"True\",\"hovertemplate\":\"Neighborhood=%{x}<br>LotFrontage=%{y}<extra></extra>\",\"legendgroup\":\"StoneBr\",\"marker\":{\"color\":\"#FF97FF\"},\"name\":\"StoneBr\",\"notched\":false,\"offsetgroup\":\"StoneBr\",\"orientation\":\"v\",\"showlegend\":true,\"x\":[\"StoneBr\",\"StoneBr\",\"StoneBr\",\"StoneBr\",\"StoneBr\",\"StoneBr\",\"StoneBr\",\"StoneBr\",\"StoneBr\",\"StoneBr\",\"StoneBr\",\"StoneBr\",\"StoneBr\",\"StoneBr\",\"StoneBr\",\"StoneBr\",\"StoneBr\",\"StoneBr\",\"StoneBr\",\"StoneBr\",\"StoneBr\",\"StoneBr\",\"StoneBr\",\"StoneBr\",\"StoneBr\",\"StoneBr\",\"StoneBr\",\"StoneBr\",\"StoneBr\",\"StoneBr\",\"StoneBr\",\"StoneBr\",\"StoneBr\",\"StoneBr\",\"StoneBr\",\"StoneBr\",\"StoneBr\",\"StoneBr\",\"StoneBr\",\"StoneBr\",\"StoneBr\",\"StoneBr\",\"StoneBr\",\"StoneBr\",\"StoneBr\",\"StoneBr\",\"StoneBr\",\"StoneBr\",\"StoneBr\",\"StoneBr\",\"StoneBr\"],\"x0\":\" \",\"xaxis\":\"x\",\"y\":[66.0,44.0,63.0,41.0,86.0,88.0,null,41.0,77.0,69.0,80.0,null,60.0,82.0,40.0,null,39.0,41.0,47.0,null,85.0,41.0,null,40.0,124.0,43.0,28.0,61.0,57.0,45.0,39.0,65.0,101.0,53.0,60.0,38.0,35.0,98.0,52.0,61.0,85.0,81.0,68.0,30.0,59.0,60.0,63.0,82.0,92.0,60.0,90.0],\"y0\":\" \",\"yaxis\":\"y\",\"type\":\"box\"},{\"alignmentgroup\":\"True\",\"hovertemplate\":\"Neighborhood=%{x}<br>LotFrontage=%{y}<extra></extra>\",\"legendgroup\":\"ClearCr\",\"marker\":{\"color\":\"#FECB52\"},\"name\":\"ClearCr\",\"notched\":false,\"offsetgroup\":\"ClearCr\",\"orientation\":\"v\",\"showlegend\":true,\"x\":[\"ClearCr\",\"ClearCr\",\"ClearCr\",\"ClearCr\",\"ClearCr\",\"ClearCr\",\"ClearCr\",\"ClearCr\",\"ClearCr\",\"ClearCr\",\"ClearCr\",\"ClearCr\",\"ClearCr\",\"ClearCr\",\"ClearCr\",\"ClearCr\",\"ClearCr\",\"ClearCr\",\"ClearCr\",\"ClearCr\",\"ClearCr\",\"ClearCr\",\"ClearCr\",\"ClearCr\",\"ClearCr\",\"ClearCr\",\"ClearCr\",\"ClearCr\",\"ClearCr\",\"ClearCr\",\"ClearCr\",\"ClearCr\",\"ClearCr\",\"ClearCr\",\"ClearCr\",\"ClearCr\",\"ClearCr\",\"ClearCr\",\"ClearCr\",\"ClearCr\",\"ClearCr\",\"ClearCr\",\"ClearCr\",\"ClearCr\"],\"x0\":\" \",\"xaxis\":\"x\",\"y\":[81.0,null,null,null,97.0,null,73.0,83.0,null,92.0,80.0,null,62.0,null,65.0,null,null,null,79.0,80.0,null,75.0,null,80.0,138.0,null,null,null,100.0,72.0,null,null,null,null,null,82.0,null,null,102.0,155.0,null,87.0,null,80.0],\"y0\":\" \",\"yaxis\":\"y\",\"type\":\"box\"},{\"alignmentgroup\":\"True\",\"hovertemplate\":\"Neighborhood=%{x}<br>LotFrontage=%{y}<extra></extra>\",\"legendgroup\":\"NPkVill\",\"marker\":{\"color\":\"#636efa\"},\"name\":\"NPkVill\",\"notched\":false,\"offsetgroup\":\"NPkVill\",\"orientation\":\"v\",\"showlegend\":true,\"x\":[\"NPkVill\",\"NPkVill\",\"NPkVill\",\"NPkVill\",\"NPkVill\",\"NPkVill\",\"NPkVill\",\"NPkVill\",\"NPkVill\",\"NPkVill\",\"NPkVill\",\"NPkVill\",\"NPkVill\",\"NPkVill\",\"NPkVill\",\"NPkVill\",\"NPkVill\",\"NPkVill\",\"NPkVill\",\"NPkVill\",\"NPkVill\",\"NPkVill\",\"NPkVill\"],\"x0\":\" \",\"xaxis\":\"x\",\"y\":[null,24.0,24.0,53.0,24.0,24.0,24.0,53.0,null,24.0,24.0,24.0,24.0,24.0,24.0,24.0,24.0,24.0,24.0,24.0,53.0,24.0,24.0],\"y0\":\" \",\"yaxis\":\"y\",\"type\":\"box\"},{\"alignmentgroup\":\"True\",\"hovertemplate\":\"Neighborhood=%{x}<br>LotFrontage=%{y}<extra></extra>\",\"legendgroup\":\"Blmngtn\",\"marker\":{\"color\":\"#EF553B\"},\"name\":\"Blmngtn\",\"notched\":false,\"offsetgroup\":\"Blmngtn\",\"orientation\":\"v\",\"showlegend\":true,\"x\":[\"Blmngtn\",\"Blmngtn\",\"Blmngtn\",\"Blmngtn\",\"Blmngtn\",\"Blmngtn\",\"Blmngtn\",\"Blmngtn\",\"Blmngtn\",\"Blmngtn\",\"Blmngtn\",\"Blmngtn\",\"Blmngtn\",\"Blmngtn\",\"Blmngtn\",\"Blmngtn\",\"Blmngtn\",\"Blmngtn\",\"Blmngtn\",\"Blmngtn\",\"Blmngtn\",\"Blmngtn\",\"Blmngtn\",\"Blmngtn\",\"Blmngtn\",\"Blmngtn\",\"Blmngtn\",\"Blmngtn\"],\"x0\":\" \",\"xaxis\":\"x\",\"y\":[43.0,43.0,43.0,53.0,null,null,53.0,53.0,43.0,null,43.0,43.0,43.0,43.0,53.0,53.0,51.0,43.0,43.0,null,null,53.0,null,53.0,43.0,null,null,43.0],\"y0\":\" \",\"yaxis\":\"y\",\"type\":\"box\"},{\"alignmentgroup\":\"True\",\"hovertemplate\":\"Neighborhood=%{x}<br>LotFrontage=%{y}<extra></extra>\",\"legendgroup\":\"BrDale\",\"marker\":{\"color\":\"#00cc96\"},\"name\":\"BrDale\",\"notched\":false,\"offsetgroup\":\"BrDale\",\"orientation\":\"v\",\"showlegend\":true,\"x\":[\"BrDale\",\"BrDale\",\"BrDale\",\"BrDale\",\"BrDale\",\"BrDale\",\"BrDale\",\"BrDale\",\"BrDale\",\"BrDale\",\"BrDale\",\"BrDale\",\"BrDale\",\"BrDale\",\"BrDale\",\"BrDale\",\"BrDale\",\"BrDale\",\"BrDale\",\"BrDale\",\"BrDale\",\"BrDale\",\"BrDale\",\"BrDale\",\"BrDale\",\"BrDale\",\"BrDale\",\"BrDale\",\"BrDale\",\"BrDale\"],\"x0\":\" \",\"xaxis\":\"x\",\"y\":[21.0,21.0,21.0,21.0,21.0,21.0,24.0,21.0,21.0,21.0,21.0,24.0,21.0,21.0,24.0,21.0,21.0,21.0,21.0,21.0,21.0,21.0,21.0,21.0,21.0,24.0,24.0,21.0,21.0,21.0],\"y0\":\" \",\"yaxis\":\"y\",\"type\":\"box\"},{\"alignmentgroup\":\"True\",\"hovertemplate\":\"Neighborhood=%{x}<br>LotFrontage=%{y}<extra></extra>\",\"legendgroup\":\"SWISU\",\"marker\":{\"color\":\"#ab63fa\"},\"name\":\"SWISU\",\"notched\":false,\"offsetgroup\":\"SWISU\",\"orientation\":\"v\",\"showlegend\":true,\"x\":[\"SWISU\",\"SWISU\",\"SWISU\",\"SWISU\",\"SWISU\",\"SWISU\",\"SWISU\",\"SWISU\",\"SWISU\",\"SWISU\",\"SWISU\",\"SWISU\",\"SWISU\",\"SWISU\",\"SWISU\",\"SWISU\",\"SWISU\",\"SWISU\",\"SWISU\",\"SWISU\",\"SWISU\",\"SWISU\",\"SWISU\",\"SWISU\",\"SWISU\",\"SWISU\",\"SWISU\",\"SWISU\",\"SWISU\",\"SWISU\",\"SWISU\",\"SWISU\",\"SWISU\",\"SWISU\",\"SWISU\",\"SWISU\",\"SWISU\",\"SWISU\",\"SWISU\",\"SWISU\",\"SWISU\",\"SWISU\",\"SWISU\",\"SWISU\",\"SWISU\",\"SWISU\",\"SWISU\",\"SWISU\"],\"x0\":\" \",\"xaxis\":\"x\",\"y\":[60.0,55.0,60.0,50.0,51.0,60.0,66.0,52.0,60.0,55.0,60.0,60.0,null,60.0,60.0,null,102.0,60.0,60.0,65.0,55.0,50.0,51.0,52.0,51.0,60.0,65.0,null,60.0,67.0,null,60.0,51.0,70.0,43.0,60.0,64.0,59.0,60.0,60.0,50.0,50.0,60.0,58.0,43.0,69.0,84.0,51.0],\"y0\":\" \",\"yaxis\":\"y\",\"type\":\"box\"},{\"alignmentgroup\":\"True\",\"hovertemplate\":\"Neighborhood=%{x}<br>LotFrontage=%{y}<extra></extra>\",\"legendgroup\":\"Blueste\",\"marker\":{\"color\":\"#FFA15A\"},\"name\":\"Blueste\",\"notched\":false,\"offsetgroup\":\"Blueste\",\"orientation\":\"v\",\"showlegend\":true,\"x\":[\"Blueste\",\"Blueste\",\"Blueste\",\"Blueste\",\"Blueste\",\"Blueste\",\"Blueste\",\"Blueste\",\"Blueste\",\"Blueste\"],\"x0\":\" \",\"xaxis\":\"x\",\"y\":[24.0,24.0,35.0,35.0,24.0,24.0,24.0,24.0,24.0,35.0],\"y0\":\" \",\"yaxis\":\"y\",\"type\":\"box\"}],                        {\"template\":{\"data\":{\"bar\":[{\"error_x\":{\"color\":\"#2a3f5f\"},\"error_y\":{\"color\":\"#2a3f5f\"},\"marker\":{\"line\":{\"color\":\"#E5ECF6\",\"width\":0.5},\"pattern\":{\"fillmode\":\"overlay\",\"size\":10,\"solidity\":0.2}},\"type\":\"bar\"}],\"barpolar\":[{\"marker\":{\"line\":{\"color\":\"#E5ECF6\",\"width\":0.5},\"pattern\":{\"fillmode\":\"overlay\",\"size\":10,\"solidity\":0.2}},\"type\":\"barpolar\"}],\"carpet\":[{\"aaxis\":{\"endlinecolor\":\"#2a3f5f\",\"gridcolor\":\"white\",\"linecolor\":\"white\",\"minorgridcolor\":\"white\",\"startlinecolor\":\"#2a3f5f\"},\"baxis\":{\"endlinecolor\":\"#2a3f5f\",\"gridcolor\":\"white\",\"linecolor\":\"white\",\"minorgridcolor\":\"white\",\"startlinecolor\":\"#2a3f5f\"},\"type\":\"carpet\"}],\"choropleth\":[{\"colorbar\":{\"outlinewidth\":0,\"ticks\":\"\"},\"type\":\"choropleth\"}],\"contour\":[{\"colorbar\":{\"outlinewidth\":0,\"ticks\":\"\"},\"colorscale\":[[0.0,\"#0d0887\"],[0.1111111111111111,\"#46039f\"],[0.2222222222222222,\"#7201a8\"],[0.3333333333333333,\"#9c179e\"],[0.4444444444444444,\"#bd3786\"],[0.5555555555555556,\"#d8576b\"],[0.6666666666666666,\"#ed7953\"],[0.7777777777777778,\"#fb9f3a\"],[0.8888888888888888,\"#fdca26\"],[1.0,\"#f0f921\"]],\"type\":\"contour\"}],\"contourcarpet\":[{\"colorbar\":{\"outlinewidth\":0,\"ticks\":\"\"},\"type\":\"contourcarpet\"}],\"heatmap\":[{\"colorbar\":{\"outlinewidth\":0,\"ticks\":\"\"},\"colorscale\":[[0.0,\"#0d0887\"],[0.1111111111111111,\"#46039f\"],[0.2222222222222222,\"#7201a8\"],[0.3333333333333333,\"#9c179e\"],[0.4444444444444444,\"#bd3786\"],[0.5555555555555556,\"#d8576b\"],[0.6666666666666666,\"#ed7953\"],[0.7777777777777778,\"#fb9f3a\"],[0.8888888888888888,\"#fdca26\"],[1.0,\"#f0f921\"]],\"type\":\"heatmap\"}],\"heatmapgl\":[{\"colorbar\":{\"outlinewidth\":0,\"ticks\":\"\"},\"colorscale\":[[0.0,\"#0d0887\"],[0.1111111111111111,\"#46039f\"],[0.2222222222222222,\"#7201a8\"],[0.3333333333333333,\"#9c179e\"],[0.4444444444444444,\"#bd3786\"],[0.5555555555555556,\"#d8576b\"],[0.6666666666666666,\"#ed7953\"],[0.7777777777777778,\"#fb9f3a\"],[0.8888888888888888,\"#fdca26\"],[1.0,\"#f0f921\"]],\"type\":\"heatmapgl\"}],\"histogram\":[{\"marker\":{\"pattern\":{\"fillmode\":\"overlay\",\"size\":10,\"solidity\":0.2}},\"type\":\"histogram\"}],\"histogram2d\":[{\"colorbar\":{\"outlinewidth\":0,\"ticks\":\"\"},\"colorscale\":[[0.0,\"#0d0887\"],[0.1111111111111111,\"#46039f\"],[0.2222222222222222,\"#7201a8\"],[0.3333333333333333,\"#9c179e\"],[0.4444444444444444,\"#bd3786\"],[0.5555555555555556,\"#d8576b\"],[0.6666666666666666,\"#ed7953\"],[0.7777777777777778,\"#fb9f3a\"],[0.8888888888888888,\"#fdca26\"],[1.0,\"#f0f921\"]],\"type\":\"histogram2d\"}],\"histogram2dcontour\":[{\"colorbar\":{\"outlinewidth\":0,\"ticks\":\"\"},\"colorscale\":[[0.0,\"#0d0887\"],[0.1111111111111111,\"#46039f\"],[0.2222222222222222,\"#7201a8\"],[0.3333333333333333,\"#9c179e\"],[0.4444444444444444,\"#bd3786\"],[0.5555555555555556,\"#d8576b\"],[0.6666666666666666,\"#ed7953\"],[0.7777777777777778,\"#fb9f3a\"],[0.8888888888888888,\"#fdca26\"],[1.0,\"#f0f921\"]],\"type\":\"histogram2dcontour\"}],\"mesh3d\":[{\"colorbar\":{\"outlinewidth\":0,\"ticks\":\"\"},\"type\":\"mesh3d\"}],\"parcoords\":[{\"line\":{\"colorbar\":{\"outlinewidth\":0,\"ticks\":\"\"}},\"type\":\"parcoords\"}],\"pie\":[{\"automargin\":true,\"type\":\"pie\"}],\"scatter\":[{\"marker\":{\"colorbar\":{\"outlinewidth\":0,\"ticks\":\"\"}},\"type\":\"scatter\"}],\"scatter3d\":[{\"line\":{\"colorbar\":{\"outlinewidth\":0,\"ticks\":\"\"}},\"marker\":{\"colorbar\":{\"outlinewidth\":0,\"ticks\":\"\"}},\"type\":\"scatter3d\"}],\"scattercarpet\":[{\"marker\":{\"colorbar\":{\"outlinewidth\":0,\"ticks\":\"\"}},\"type\":\"scattercarpet\"}],\"scattergeo\":[{\"marker\":{\"colorbar\":{\"outlinewidth\":0,\"ticks\":\"\"}},\"type\":\"scattergeo\"}],\"scattergl\":[{\"marker\":{\"colorbar\":{\"outlinewidth\":0,\"ticks\":\"\"}},\"type\":\"scattergl\"}],\"scattermapbox\":[{\"marker\":{\"colorbar\":{\"outlinewidth\":0,\"ticks\":\"\"}},\"type\":\"scattermapbox\"}],\"scatterpolar\":[{\"marker\":{\"colorbar\":{\"outlinewidth\":0,\"ticks\":\"\"}},\"type\":\"scatterpolar\"}],\"scatterpolargl\":[{\"marker\":{\"colorbar\":{\"outlinewidth\":0,\"ticks\":\"\"}},\"type\":\"scatterpolargl\"}],\"scatterternary\":[{\"marker\":{\"colorbar\":{\"outlinewidth\":0,\"ticks\":\"\"}},\"type\":\"scatterternary\"}],\"surface\":[{\"colorbar\":{\"outlinewidth\":0,\"ticks\":\"\"},\"colorscale\":[[0.0,\"#0d0887\"],[0.1111111111111111,\"#46039f\"],[0.2222222222222222,\"#7201a8\"],[0.3333333333333333,\"#9c179e\"],[0.4444444444444444,\"#bd3786\"],[0.5555555555555556,\"#d8576b\"],[0.6666666666666666,\"#ed7953\"],[0.7777777777777778,\"#fb9f3a\"],[0.8888888888888888,\"#fdca26\"],[1.0,\"#f0f921\"]],\"type\":\"surface\"}],\"table\":[{\"cells\":{\"fill\":{\"color\":\"#EBF0F8\"},\"line\":{\"color\":\"white\"}},\"header\":{\"fill\":{\"color\":\"#C8D4E3\"},\"line\":{\"color\":\"white\"}},\"type\":\"table\"}]},\"layout\":{\"annotationdefaults\":{\"arrowcolor\":\"#2a3f5f\",\"arrowhead\":0,\"arrowwidth\":1},\"autotypenumbers\":\"strict\",\"coloraxis\":{\"colorbar\":{\"outlinewidth\":0,\"ticks\":\"\"}},\"colorscale\":{\"diverging\":[[0,\"#8e0152\"],[0.1,\"#c51b7d\"],[0.2,\"#de77ae\"],[0.3,\"#f1b6da\"],[0.4,\"#fde0ef\"],[0.5,\"#f7f7f7\"],[0.6,\"#e6f5d0\"],[0.7,\"#b8e186\"],[0.8,\"#7fbc41\"],[0.9,\"#4d9221\"],[1,\"#276419\"]],\"sequential\":[[0.0,\"#0d0887\"],[0.1111111111111111,\"#46039f\"],[0.2222222222222222,\"#7201a8\"],[0.3333333333333333,\"#9c179e\"],[0.4444444444444444,\"#bd3786\"],[0.5555555555555556,\"#d8576b\"],[0.6666666666666666,\"#ed7953\"],[0.7777777777777778,\"#fb9f3a\"],[0.8888888888888888,\"#fdca26\"],[1.0,\"#f0f921\"]],\"sequentialminus\":[[0.0,\"#0d0887\"],[0.1111111111111111,\"#46039f\"],[0.2222222222222222,\"#7201a8\"],[0.3333333333333333,\"#9c179e\"],[0.4444444444444444,\"#bd3786\"],[0.5555555555555556,\"#d8576b\"],[0.6666666666666666,\"#ed7953\"],[0.7777777777777778,\"#fb9f3a\"],[0.8888888888888888,\"#fdca26\"],[1.0,\"#f0f921\"]]},\"colorway\":[\"#636efa\",\"#EF553B\",\"#00cc96\",\"#ab63fa\",\"#FFA15A\",\"#19d3f3\",\"#FF6692\",\"#B6E880\",\"#FF97FF\",\"#FECB52\"],\"font\":{\"color\":\"#2a3f5f\"},\"geo\":{\"bgcolor\":\"white\",\"lakecolor\":\"white\",\"landcolor\":\"#E5ECF6\",\"showlakes\":true,\"showland\":true,\"subunitcolor\":\"white\"},\"hoverlabel\":{\"align\":\"left\"},\"hovermode\":\"closest\",\"mapbox\":{\"style\":\"light\"},\"paper_bgcolor\":\"white\",\"plot_bgcolor\":\"#E5ECF6\",\"polar\":{\"angularaxis\":{\"gridcolor\":\"white\",\"linecolor\":\"white\",\"ticks\":\"\"},\"bgcolor\":\"#E5ECF6\",\"radialaxis\":{\"gridcolor\":\"white\",\"linecolor\":\"white\",\"ticks\":\"\"}},\"scene\":{\"xaxis\":{\"backgroundcolor\":\"#E5ECF6\",\"gridcolor\":\"white\",\"gridwidth\":2,\"linecolor\":\"white\",\"showbackground\":true,\"ticks\":\"\",\"zerolinecolor\":\"white\"},\"yaxis\":{\"backgroundcolor\":\"#E5ECF6\",\"gridcolor\":\"white\",\"gridwidth\":2,\"linecolor\":\"white\",\"showbackground\":true,\"ticks\":\"\",\"zerolinecolor\":\"white\"},\"zaxis\":{\"backgroundcolor\":\"#E5ECF6\",\"gridcolor\":\"white\",\"gridwidth\":2,\"linecolor\":\"white\",\"showbackground\":true,\"ticks\":\"\",\"zerolinecolor\":\"white\"}},\"shapedefaults\":{\"line\":{\"color\":\"#2a3f5f\"}},\"ternary\":{\"aaxis\":{\"gridcolor\":\"white\",\"linecolor\":\"white\",\"ticks\":\"\"},\"baxis\":{\"gridcolor\":\"white\",\"linecolor\":\"white\",\"ticks\":\"\"},\"bgcolor\":\"#E5ECF6\",\"caxis\":{\"gridcolor\":\"white\",\"linecolor\":\"white\",\"ticks\":\"\"}},\"title\":{\"x\":0.05},\"xaxis\":{\"automargin\":true,\"gridcolor\":\"white\",\"linecolor\":\"white\",\"ticks\":\"\",\"title\":{\"standoff\":15},\"zerolinecolor\":\"white\",\"zerolinewidth\":2},\"yaxis\":{\"automargin\":true,\"gridcolor\":\"white\",\"linecolor\":\"white\",\"ticks\":\"\",\"title\":{\"standoff\":15},\"zerolinecolor\":\"white\",\"zerolinewidth\":2}}},\"xaxis\":{\"anchor\":\"y\",\"domain\":[0.0,1.0],\"title\":{\"text\":\"Neighborhood\"},\"categoryorder\":\"array\",\"categoryarray\":[\"CollgCr\",\"Veenker\",\"Crawfor\",\"NoRidge\",\"Mitchel\",\"Somerst\",\"NWAmes\",\"OldTown\",\"BrkSide\",\"Sawyer\",\"NridgHt\",\"NAmes\",\"SawyerW\",\"IDOTRR\",\"MeadowV\",\"Edwards\",\"Timber\",\"Gilbert\",\"StoneBr\",\"ClearCr\",\"NPkVill\",\"Blmngtn\",\"BrDale\",\"SWISU\",\"Blueste\"]},\"yaxis\":{\"anchor\":\"x\",\"domain\":[0.0,1.0],\"title\":{\"text\":\"LotFrontage\"}},\"legend\":{\"title\":{\"text\":\"Neighborhood\"},\"tracegroupgap\":0},\"margin\":{\"t\":60},\"boxmode\":\"overlay\",\"height\":400,\"width\":800},                        {\"responsive\": true}                    ).then(function(){\n",
              "                            \n",
              "var gd = document.getElementById('47da75b9-979d-46f1-b9b6-6497e9d0c3a1');\n",
              "var x = new MutationObserver(function (mutations, observer) {{\n",
              "        var display = window.getComputedStyle(gd).display;\n",
              "        if (!display || display === 'none') {{\n",
              "            console.log([gd, 'removed!']);\n",
              "            Plotly.purge(gd);\n",
              "            observer.disconnect();\n",
              "        }}\n",
              "}});\n",
              "\n",
              "// Listen for the removal of the full notebook cells\n",
              "var notebookContainer = gd.closest('#notebook-container');\n",
              "if (notebookContainer) {{\n",
              "    x.observe(notebookContainer, {childList: true});\n",
              "}}\n",
              "\n",
              "// Listen for the clearing of the current output cell\n",
              "var outputEl = gd.closest('.output');\n",
              "if (outputEl) {{\n",
              "    x.observe(outputEl, {childList: true});\n",
              "}}\n",
              "\n",
              "                        })                };                            </script>        </div>\n",
              "</body>\n",
              "</html>"
            ]
          },
          "metadata": {}
        },
        {
          "output_type": "stream",
          "name": "stdout",
          "text": [
            "                     sum_sq      df          F         PR(>F)\n",
            "Neighborhood  354702.462753    24.0  36.662697  1.468147e-143\n",
            "Residual      970700.025533  2408.0        NaN            NaN\n"
          ]
        }
      ],
      "source": [
        "import plotly.express as px\n",
        "fig = px.box(all_features, x='Neighborhood', y='LotFrontage', color='Neighborhood', width=800, height=400)\n",
        "fig.show()\n",
        "\n",
        "import statsmodels.api as sm\n",
        "from statsmodels.formula.api import ols\n",
        "model = ols('LotFrontage ~ Neighborhood', data=all_features).fit()\n",
        "anova_table = sm.stats.anova_lm(model, typ=2)\n",
        "print(anova_table)"
      ]
    },
    {
      "cell_type": "code",
      "execution_count": null,
      "metadata": {
        "colab": {
          "base_uri": "https://localhost:8080/",
          "height": 470
        },
        "id": "nTzbLgp27ORj",
        "outputId": "9cdf300f-8aba-4664-fe9d-d714b484b6d6"
      },
      "outputs": [
        {
          "output_type": "display_data",
          "data": {
            "text/html": [
              "<html>\n",
              "<head><meta charset=\"utf-8\" /></head>\n",
              "<body>\n",
              "    <div>            <script src=\"https://cdnjs.cloudflare.com/ajax/libs/mathjax/2.7.5/MathJax.js?config=TeX-AMS-MML_SVG\"></script><script type=\"text/javascript\">if (window.MathJax) {MathJax.Hub.Config({SVG: {font: \"STIX-Web\"}});}</script>                <script type=\"text/javascript\">window.PlotlyConfig = {MathJaxConfig: 'local'};</script>\n",
              "        <script src=\"https://cdn.plot.ly/plotly-2.8.3.min.js\"></script>                <div id=\"946e3f24-2a1f-43cf-8a40-364c2f433de9\" class=\"plotly-graph-div\" style=\"height:400px; width:800px;\"></div>            <script type=\"text/javascript\">                                    window.PLOTLYENV=window.PLOTLYENV || {};                                    if (document.getElementById(\"946e3f24-2a1f-43cf-8a40-364c2f433de9\")) {                    Plotly.newPlot(                        \"946e3f24-2a1f-43cf-8a40-364c2f433de9\",                        [{\"alignmentgroup\":\"True\",\"hovertemplate\":\"MasVnrType=%{x}<br>MasVnrArea=%{y}<extra></extra>\",\"legendgroup\":\"BrkFace\",\"marker\":{\"color\":\"#636efa\"},\"name\":\"BrkFace\",\"notched\":false,\"offsetgroup\":\"BrkFace\",\"orientation\":\"v\",\"showlegend\":true,\"x\":[\"BrkFace\",\"BrkFace\",\"BrkFace\",\"BrkFace\",\"BrkFace\",\"BrkFace\",\"BrkFace\",\"BrkFace\",\"BrkFace\",\"BrkFace\",\"BrkFace\",\"BrkFace\",\"BrkFace\",\"BrkFace\",\"BrkFace\",\"BrkFace\",\"BrkFace\",\"BrkFace\",\"BrkFace\",\"BrkFace\",\"BrkFace\",\"BrkFace\",\"BrkFace\",\"BrkFace\",\"BrkFace\",\"BrkFace\",\"BrkFace\",\"BrkFace\",\"BrkFace\",\"BrkFace\",\"BrkFace\",\"BrkFace\",\"BrkFace\",\"BrkFace\",\"BrkFace\",\"BrkFace\",\"BrkFace\",\"BrkFace\",\"BrkFace\",\"BrkFace\",\"BrkFace\",\"BrkFace\",\"BrkFace\",\"BrkFace\",\"BrkFace\",\"BrkFace\",\"BrkFace\",\"BrkFace\",\"BrkFace\",\"BrkFace\",\"BrkFace\",\"BrkFace\",\"BrkFace\",\"BrkFace\",\"BrkFace\",\"BrkFace\",\"BrkFace\",\"BrkFace\",\"BrkFace\",\"BrkFace\",\"BrkFace\",\"BrkFace\",\"BrkFace\",\"BrkFace\",\"BrkFace\",\"BrkFace\",\"BrkFace\",\"BrkFace\",\"BrkFace\",\"BrkFace\",\"BrkFace\",\"BrkFace\",\"BrkFace\",\"BrkFace\",\"BrkFace\",\"BrkFace\",\"BrkFace\",\"BrkFace\",\"BrkFace\",\"BrkFace\",\"BrkFace\",\"BrkFace\",\"BrkFace\",\"BrkFace\",\"BrkFace\",\"BrkFace\",\"BrkFace\",\"BrkFace\",\"BrkFace\",\"BrkFace\",\"BrkFace\",\"BrkFace\",\"BrkFace\",\"BrkFace\",\"BrkFace\",\"BrkFace\",\"BrkFace\",\"BrkFace\",\"BrkFace\",\"BrkFace\",\"BrkFace\",\"BrkFace\",\"BrkFace\",\"BrkFace\",\"BrkFace\",\"BrkFace\",\"BrkFace\",\"BrkFace\",\"BrkFace\",\"BrkFace\",\"BrkFace\",\"BrkFace\",\"BrkFace\",\"BrkFace\",\"BrkFace\",\"BrkFace\",\"BrkFace\",\"BrkFace\",\"BrkFace\",\"BrkFace\",\"BrkFace\",\"BrkFace\",\"BrkFace\",\"BrkFace\",\"BrkFace\",\"BrkFace\",\"BrkFace\",\"BrkFace\",\"BrkFace\",\"BrkFace\",\"BrkFace\",\"BrkFace\",\"BrkFace\",\"BrkFace\",\"BrkFace\",\"BrkFace\",\"BrkFace\",\"BrkFace\",\"BrkFace\",\"BrkFace\",\"BrkFace\",\"BrkFace\",\"BrkFace\",\"BrkFace\",\"BrkFace\",\"BrkFace\",\"BrkFace\",\"BrkFace\",\"BrkFace\",\"BrkFace\",\"BrkFace\",\"BrkFace\",\"BrkFace\",\"BrkFace\",\"BrkFace\",\"BrkFace\",\"BrkFace\",\"BrkFace\",\"BrkFace\",\"BrkFace\",\"BrkFace\",\"BrkFace\",\"BrkFace\",\"BrkFace\",\"BrkFace\",\"BrkFace\",\"BrkFace\",\"BrkFace\",\"BrkFace\",\"BrkFace\",\"BrkFace\",\"BrkFace\",\"BrkFace\",\"BrkFace\",\"BrkFace\",\"BrkFace\",\"BrkFace\",\"BrkFace\",\"BrkFace\",\"BrkFace\",\"BrkFace\",\"BrkFace\",\"BrkFace\",\"BrkFace\",\"BrkFace\",\"BrkFace\",\"BrkFace\",\"BrkFace\",\"BrkFace\",\"BrkFace\",\"BrkFace\",\"BrkFace\",\"BrkFace\",\"BrkFace\",\"BrkFace\",\"BrkFace\",\"BrkFace\",\"BrkFace\",\"BrkFace\",\"BrkFace\",\"BrkFace\",\"BrkFace\",\"BrkFace\",\"BrkFace\",\"BrkFace\",\"BrkFace\",\"BrkFace\",\"BrkFace\",\"BrkFace\",\"BrkFace\",\"BrkFace\",\"BrkFace\",\"BrkFace\",\"BrkFace\",\"BrkFace\",\"BrkFace\",\"BrkFace\",\"BrkFace\",\"BrkFace\",\"BrkFace\",\"BrkFace\",\"BrkFace\",\"BrkFace\",\"BrkFace\",\"BrkFace\",\"BrkFace\",\"BrkFace\",\"BrkFace\",\"BrkFace\",\"BrkFace\",\"BrkFace\",\"BrkFace\",\"BrkFace\",\"BrkFace\",\"BrkFace\",\"BrkFace\",\"BrkFace\",\"BrkFace\",\"BrkFace\",\"BrkFace\",\"BrkFace\",\"BrkFace\",\"BrkFace\",\"BrkFace\",\"BrkFace\",\"BrkFace\",\"BrkFace\",\"BrkFace\",\"BrkFace\",\"BrkFace\",\"BrkFace\",\"BrkFace\",\"BrkFace\",\"BrkFace\",\"BrkFace\",\"BrkFace\",\"BrkFace\",\"BrkFace\",\"BrkFace\",\"BrkFace\",\"BrkFace\",\"BrkFace\",\"BrkFace\",\"BrkFace\",\"BrkFace\",\"BrkFace\",\"BrkFace\",\"BrkFace\",\"BrkFace\",\"BrkFace\",\"BrkFace\",\"BrkFace\",\"BrkFace\",\"BrkFace\",\"BrkFace\",\"BrkFace\",\"BrkFace\",\"BrkFace\",\"BrkFace\",\"BrkFace\",\"BrkFace\",\"BrkFace\",\"BrkFace\",\"BrkFace\",\"BrkFace\",\"BrkFace\",\"BrkFace\",\"BrkFace\",\"BrkFace\",\"BrkFace\",\"BrkFace\",\"BrkFace\",\"BrkFace\",\"BrkFace\",\"BrkFace\",\"BrkFace\",\"BrkFace\",\"BrkFace\",\"BrkFace\",\"BrkFace\",\"BrkFace\",\"BrkFace\",\"BrkFace\",\"BrkFace\",\"BrkFace\",\"BrkFace\",\"BrkFace\",\"BrkFace\",\"BrkFace\",\"BrkFace\",\"BrkFace\",\"BrkFace\",\"BrkFace\",\"BrkFace\",\"BrkFace\",\"BrkFace\",\"BrkFace\",\"BrkFace\",\"BrkFace\",\"BrkFace\",\"BrkFace\",\"BrkFace\",\"BrkFace\",\"BrkFace\",\"BrkFace\",\"BrkFace\",\"BrkFace\",\"BrkFace\",\"BrkFace\",\"BrkFace\",\"BrkFace\",\"BrkFace\",\"BrkFace\",\"BrkFace\",\"BrkFace\",\"BrkFace\",\"BrkFace\",\"BrkFace\",\"BrkFace\",\"BrkFace\",\"BrkFace\",\"BrkFace\",\"BrkFace\",\"BrkFace\",\"BrkFace\",\"BrkFace\",\"BrkFace\",\"BrkFace\",\"BrkFace\",\"BrkFace\",\"BrkFace\",\"BrkFace\",\"BrkFace\",\"BrkFace\",\"BrkFace\",\"BrkFace\",\"BrkFace\",\"BrkFace\",\"BrkFace\",\"BrkFace\",\"BrkFace\",\"BrkFace\",\"BrkFace\",\"BrkFace\",\"BrkFace\",\"BrkFace\",\"BrkFace\",\"BrkFace\",\"BrkFace\",\"BrkFace\",\"BrkFace\",\"BrkFace\",\"BrkFace\",\"BrkFace\",\"BrkFace\",\"BrkFace\",\"BrkFace\",\"BrkFace\",\"BrkFace\",\"BrkFace\",\"BrkFace\",\"BrkFace\",\"BrkFace\",\"BrkFace\",\"BrkFace\",\"BrkFace\",\"BrkFace\",\"BrkFace\",\"BrkFace\",\"BrkFace\",\"BrkFace\",\"BrkFace\",\"BrkFace\",\"BrkFace\",\"BrkFace\",\"BrkFace\",\"BrkFace\",\"BrkFace\",\"BrkFace\",\"BrkFace\",\"BrkFace\",\"BrkFace\",\"BrkFace\",\"BrkFace\",\"BrkFace\",\"BrkFace\",\"BrkFace\",\"BrkFace\",\"BrkFace\",\"BrkFace\",\"BrkFace\",\"BrkFace\",\"BrkFace\",\"BrkFace\",\"BrkFace\",\"BrkFace\",\"BrkFace\",\"BrkFace\",\"BrkFace\",\"BrkFace\",\"BrkFace\",\"BrkFace\",\"BrkFace\",\"BrkFace\",\"BrkFace\",\"BrkFace\",\"BrkFace\",\"BrkFace\",\"BrkFace\",\"BrkFace\",\"BrkFace\",\"BrkFace\",\"BrkFace\",\"BrkFace\",\"BrkFace\",\"BrkFace\",\"BrkFace\",\"BrkFace\",\"BrkFace\",\"BrkFace\",\"BrkFace\",\"BrkFace\",\"BrkFace\",\"BrkFace\",\"BrkFace\",\"BrkFace\",\"BrkFace\",\"BrkFace\",\"BrkFace\",\"BrkFace\",\"BrkFace\",\"BrkFace\",\"BrkFace\",\"BrkFace\",\"BrkFace\",\"BrkFace\",\"BrkFace\",\"BrkFace\",\"BrkFace\",\"BrkFace\",\"BrkFace\",\"BrkFace\",\"BrkFace\",\"BrkFace\",\"BrkFace\",\"BrkFace\",\"BrkFace\",\"BrkFace\",\"BrkFace\",\"BrkFace\",\"BrkFace\",\"BrkFace\",\"BrkFace\",\"BrkFace\",\"BrkFace\",\"BrkFace\",\"BrkFace\",\"BrkFace\",\"BrkFace\",\"BrkFace\",\"BrkFace\",\"BrkFace\",\"BrkFace\",\"BrkFace\",\"BrkFace\",\"BrkFace\",\"BrkFace\",\"BrkFace\",\"BrkFace\",\"BrkFace\",\"BrkFace\",\"BrkFace\",\"BrkFace\",\"BrkFace\",\"BrkFace\",\"BrkFace\",\"BrkFace\",\"BrkFace\",\"BrkFace\",\"BrkFace\",\"BrkFace\",\"BrkFace\",\"BrkFace\",\"BrkFace\",\"BrkFace\",\"BrkFace\",\"BrkFace\",\"BrkFace\",\"BrkFace\",\"BrkFace\",\"BrkFace\",\"BrkFace\",\"BrkFace\",\"BrkFace\",\"BrkFace\",\"BrkFace\",\"BrkFace\",\"BrkFace\",\"BrkFace\",\"BrkFace\",\"BrkFace\",\"BrkFace\",\"BrkFace\",\"BrkFace\",\"BrkFace\",\"BrkFace\",\"BrkFace\",\"BrkFace\",\"BrkFace\",\"BrkFace\",\"BrkFace\",\"BrkFace\",\"BrkFace\",\"BrkFace\",\"BrkFace\",\"BrkFace\",\"BrkFace\",\"BrkFace\",\"BrkFace\",\"BrkFace\",\"BrkFace\",\"BrkFace\",\"BrkFace\",\"BrkFace\",\"BrkFace\",\"BrkFace\",\"BrkFace\",\"BrkFace\",\"BrkFace\",\"BrkFace\",\"BrkFace\",\"BrkFace\",\"BrkFace\",\"BrkFace\",\"BrkFace\",\"BrkFace\",\"BrkFace\",\"BrkFace\",\"BrkFace\",\"BrkFace\",\"BrkFace\",\"BrkFace\",\"BrkFace\",\"BrkFace\",\"BrkFace\",\"BrkFace\",\"BrkFace\",\"BrkFace\",\"BrkFace\",\"BrkFace\",\"BrkFace\",\"BrkFace\",\"BrkFace\",\"BrkFace\",\"BrkFace\",\"BrkFace\",\"BrkFace\",\"BrkFace\",\"BrkFace\",\"BrkFace\",\"BrkFace\",\"BrkFace\",\"BrkFace\",\"BrkFace\",\"BrkFace\",\"BrkFace\",\"BrkFace\",\"BrkFace\",\"BrkFace\",\"BrkFace\",\"BrkFace\",\"BrkFace\",\"BrkFace\",\"BrkFace\",\"BrkFace\",\"BrkFace\",\"BrkFace\",\"BrkFace\",\"BrkFace\",\"BrkFace\",\"BrkFace\",\"BrkFace\",\"BrkFace\",\"BrkFace\",\"BrkFace\",\"BrkFace\",\"BrkFace\",\"BrkFace\",\"BrkFace\",\"BrkFace\",\"BrkFace\",\"BrkFace\",\"BrkFace\",\"BrkFace\",\"BrkFace\",\"BrkFace\",\"BrkFace\",\"BrkFace\",\"BrkFace\",\"BrkFace\",\"BrkFace\",\"BrkFace\",\"BrkFace\",\"BrkFace\",\"BrkFace\",\"BrkFace\",\"BrkFace\",\"BrkFace\",\"BrkFace\",\"BrkFace\",\"BrkFace\",\"BrkFace\",\"BrkFace\",\"BrkFace\",\"BrkFace\",\"BrkFace\",\"BrkFace\",\"BrkFace\",\"BrkFace\",\"BrkFace\",\"BrkFace\",\"BrkFace\",\"BrkFace\",\"BrkFace\",\"BrkFace\",\"BrkFace\",\"BrkFace\",\"BrkFace\",\"BrkFace\",\"BrkFace\",\"BrkFace\",\"BrkFace\",\"BrkFace\",\"BrkFace\",\"BrkFace\",\"BrkFace\",\"BrkFace\",\"BrkFace\",\"BrkFace\",\"BrkFace\",\"BrkFace\",\"BrkFace\",\"BrkFace\",\"BrkFace\",\"BrkFace\",\"BrkFace\",\"BrkFace\",\"BrkFace\",\"BrkFace\",\"BrkFace\",\"BrkFace\",\"BrkFace\",\"BrkFace\",\"BrkFace\",\"BrkFace\",\"BrkFace\",\"BrkFace\",\"BrkFace\",\"BrkFace\",\"BrkFace\",\"BrkFace\",\"BrkFace\",\"BrkFace\",\"BrkFace\",\"BrkFace\",\"BrkFace\",\"BrkFace\",\"BrkFace\",\"BrkFace\",\"BrkFace\",\"BrkFace\",\"BrkFace\",\"BrkFace\",\"BrkFace\",\"BrkFace\",\"BrkFace\",\"BrkFace\",\"BrkFace\",\"BrkFace\",\"BrkFace\",\"BrkFace\",\"BrkFace\",\"BrkFace\",\"BrkFace\",\"BrkFace\",\"BrkFace\",\"BrkFace\",\"BrkFace\",\"BrkFace\",\"BrkFace\",\"BrkFace\",\"BrkFace\",\"BrkFace\",\"BrkFace\",\"BrkFace\",\"BrkFace\",\"BrkFace\",\"BrkFace\",\"BrkFace\",\"BrkFace\",\"BrkFace\",\"BrkFace\",\"BrkFace\",\"BrkFace\",\"BrkFace\",\"BrkFace\",\"BrkFace\",\"BrkFace\",\"BrkFace\",\"BrkFace\",\"BrkFace\",\"BrkFace\",\"BrkFace\",\"BrkFace\",\"BrkFace\",\"BrkFace\",\"BrkFace\",\"BrkFace\",\"BrkFace\",\"BrkFace\",\"BrkFace\",\"BrkFace\",\"BrkFace\",\"BrkFace\",\"BrkFace\",\"BrkFace\",\"BrkFace\",\"BrkFace\",\"BrkFace\",\"BrkFace\",\"BrkFace\",\"BrkFace\",\"BrkFace\",\"BrkFace\",\"BrkFace\",\"BrkFace\",\"BrkFace\",\"BrkFace\",\"BrkFace\",\"BrkFace\",\"BrkFace\",\"BrkFace\",\"BrkFace\",\"BrkFace\",\"BrkFace\",\"BrkFace\",\"BrkFace\",\"BrkFace\",\"BrkFace\",\"BrkFace\",\"BrkFace\",\"BrkFace\",\"BrkFace\",\"BrkFace\",\"BrkFace\",\"BrkFace\",\"BrkFace\",\"BrkFace\",\"BrkFace\",\"BrkFace\",\"BrkFace\",\"BrkFace\",\"BrkFace\",\"BrkFace\",\"BrkFace\",\"BrkFace\",\"BrkFace\",\"BrkFace\",\"BrkFace\",\"BrkFace\",\"BrkFace\",\"BrkFace\",\"BrkFace\",\"BrkFace\",\"BrkFace\",\"BrkFace\",\"BrkFace\",\"BrkFace\",\"BrkFace\",\"BrkFace\",\"BrkFace\",\"BrkFace\",\"BrkFace\",\"BrkFace\",\"BrkFace\",\"BrkFace\",\"BrkFace\",\"BrkFace\",\"BrkFace\",\"BrkFace\",\"BrkFace\",\"BrkFace\",\"BrkFace\",\"BrkFace\",\"BrkFace\",\"BrkFace\",\"BrkFace\",\"BrkFace\",\"BrkFace\",\"BrkFace\",\"BrkFace\",\"BrkFace\",\"BrkFace\",\"BrkFace\",\"BrkFace\",\"BrkFace\",\"BrkFace\",\"BrkFace\",\"BrkFace\",\"BrkFace\",\"BrkFace\",\"BrkFace\",\"BrkFace\",\"BrkFace\",\"BrkFace\",\"BrkFace\",\"BrkFace\",\"BrkFace\",\"BrkFace\",\"BrkFace\",\"BrkFace\",\"BrkFace\",\"BrkFace\",\"BrkFace\",\"BrkFace\",\"BrkFace\",\"BrkFace\",\"BrkFace\",\"BrkFace\",\"BrkFace\",\"BrkFace\",\"BrkFace\",\"BrkFace\",\"BrkFace\",\"BrkFace\",\"BrkFace\",\"BrkFace\",\"BrkFace\",\"BrkFace\",\"BrkFace\",\"BrkFace\",\"BrkFace\",\"BrkFace\",\"BrkFace\",\"BrkFace\",\"BrkFace\",\"BrkFace\",\"BrkFace\",\"BrkFace\",\"BrkFace\",\"BrkFace\",\"BrkFace\",\"BrkFace\",\"BrkFace\",\"BrkFace\",\"BrkFace\",\"BrkFace\",\"BrkFace\",\"BrkFace\"],\"x0\":\" \",\"xaxis\":\"x\",\"y\":[196.0,162.0,350.0,212.0,180.0,380.0,281.0,246.0,650.0,101.0,412.0,272.0,456.0,1031.0,573.0,344.0,287.0,167.0,1115.0,40.0,104.0,576.0,443.0,22.0,284.0,68.0,183.0,48.0,28.0,336.0,600.0,768.0,480.0,184.0,1129.0,116.0,135.0,266.0,85.0,309.0,40.0,136.0,288.0,196.0,70.0,320.0,183.0,336.0,180.0,120.0,252.0,84.0,456.0,664.0,226.0,653.0,268.0,456.0,98.0,138.0,262.0,205.0,128.0,153.0,64.0,266.0,312.0,16.0,922.0,142.0,290.0,127.0,16.0,220.0,506.0,297.0,604.0,98.0,254.0,102.0,101.0,108.0,302.0,172.0,399.0,46.0,210.0,174.0,348.0,315.0,299.0,340.0,31.0,34.0,1600.0,365.0,56.0,150.0,246.0,112.0,278.0,256.0,225.0,388.0,172.0,300.0,175.0,84.0,296.0,113.0,176.0,340.0,616.0,30.0,870.0,362.0,106.0,120.0,530.0,500.0,510.0,120.0,247.0,305.0,200.0,16.0,16.0,255.0,125.0,288.0,650.0,350.0,203.0,200.0,473.0,74.0,145.0,108.0,232.0,376.0,270.0,72.0,42.0,320.0,136.0,18.0,120.0,80.0,304.0,215.0,772.0,378.0,562.0,116.0,168.0,89.0,285.0,360.0,125.0,132.0,305.0,333.0,921.0,594.0,219.0,188.0,479.0,584.0,72.0,182.0,178.0,292.0,18.0,180.0,245.0,168.0,108.0,207.0,82.0,97.0,335.0,85.0,306.0,104.0,208.0,170.0,238.0,72.0,459.0,280.0,99.0,176.0,204.0,233.0,108.0,156.0,452.0,153.0,513.0,261.0,164.0,192.0,259.0,209.0,472.0,263.0,351.0,660.0,381.0,54.0,233.0,528.0,216.0,40.0,258.0,106.0,57.0,30.0,0.0,147.0,1170.0,293.0,72.0,630.0,168.0,466.0,109.0,176.0,160.0,289.0,174.0,651.0,169.0,260.0,95.0,442.0,202.0,108.0,289.0,338.0,178.0,894.0,360.0,513.0,673.0,42.0,603.0,375.0,320.0,240.0,320.0,90.0,38.0,104.0,157.0,11.0,130.0,148.0,252.0,1047.0,99.0,169.0,243.0,442.0,148.0,80.0,816.0,387.0,223.0,180.0,136.0,158.0,183.0,137.0,360.0,170.0,40.0,115.0,189.0,220.0,76.0,246.0,116.0,90.0,117.0,60.0,60.0,122.0,90.0,92.0,415.0,27.0,75.0,361.0,80.0,105.0,157.0,340.0,342.0,285.0,210.0,108.0,298.0,541.0,128.0,236.0,144.0,232.0,250.0,423.0,424.0,44.0,151.0,105.0,975.0,16.0,298.0,423.0,340.0,571.0,53.0,164.0,16.0,220.0,206.0,196.0,76.0,145.0,14.0,324.0,281.0,396.0,252.0,99.0,75.0,210.0,160.0,480.0,200.0,360.0,120.0,140.0,169.0,144.0,100.0,425.0,212.0,166.0,206.0,45.0,304.0,362.0,660.0,196.0,170.0,130.0,180.0,44.0,85.0,132.0,270.0,72.0,1378.0,337.0,226.0,95.0,456.0,425.0,51.0,171.0,234.0,120.0,236.0,320.0,44.0,63.0,300.0,766.0,120.0,180.0,32.0,252.0,81.0,74.0,335.0,554.0,218.0,632.0,180.0,114.0,84.0,359.0,110.0,54.0,451.0,86.0,268.0,168.0,148.0,82.0,391.0,228.0,88.0,80.0,336.0,165.0,178.0,132.0,428.0,360.0,564.0,149.0,368.0,318.0,579.0,143.0,65.0,216.0,66.0,158.0,170.0,171.0,705.0,80.0,408.0,184.0,244.0,45.0,245.0,123.0,130.0,731.0,312.0,420.0,170.0,448.0,310.0,318.0,237.0,96.0,147.0,106.0,189.0,438.0,80.0,108.0,20.0,504.0,492.0,615.0,240.0,1095.0,232.0,14.0,114.0,226.0,122.0,504.0,180.0,120.0,216.0,1159.0,120.0,172.0,268.0,144.0,265.0,216.0,506.0,150.0,91.0,218.0,771.0,90.0,72.0,47.0,288.0,177.0,85.0,320.0,170.0,203.0,371.0,430.0,44.0,440.0,188.0,32.0,45.0,157.0,256.0,101.0,229.0,144.0,161.0,196.0,178.0,504.0,425.0,165.0,238.0,418.0,724.0,470.0,308.0,500.0,270.0,16.0,200.0,210.0,150.0,634.0,286.0,372.0,294.0,288.0,264.0,140.0,132.0,141.0,60.0,115.0,196.0,513.0,218.0,450.0,200.0,256.0,128.0,200.0,283.0,252.0,509.0,160.0,70.0,217.0,90.0,3.0,210.0,164.0,128.0,657.0,80.0,140.0,295.0,82.0,420.0,124.0,444.0,172.0,23.0,54.0,366.0,149.0,100.0,216.0,23.0,23.0,23.0,140.0,120.0,68.0,180.0,76.0,40.0,198.0,260.0,164.0,209.0,180.0,80.0,74.0,259.0,88.0,242.0,406.0,310.0,182.0,176.0,178.0,119.0,194.0,296.0,178.0,44.0,102.0,174.0,383.0,194.0,621.0,280.0,168.0,120.0,402.0,72.0,359.0,422.0,356.0,480.0,270.0,468.0,368.0,504.0,1110.0,221.0,492.0,714.0,176.0,196.0,143.0,24.0,20.0,196.0,647.0,1290.0,295.0,495.0,466.0,320.0,128.0,292.0,95.0,126.0,38.0,120.0,145.0,144.0,304.0,568.0,260.0,179.0,260.0,216.0,513.0,466.0,456.0,1050.0,203.0,88.0,410.0,143.0,187.0,84.0,360.0,125.0,276.0,164.0,39.0,340.0,190.0,251.0,302.0,150.0,128.0,120.0,180.0,176.0,227.0,134.0,240.0,192.0,205.0,222.0,84.0,174.0,88.0,162.0,668.0,340.0,128.0,228.0,206.0,674.0,200.0,197.0,98.0,302.0,32.0,52.0,710.0,165.0,945.0,250.0,306.0,549.0,98.0,253.0,176.0,32.0,567.0,265.0,52.0,456.0,190.0,400.0,365.0,970.0,502.0,280.0,210.0,210.0,394.0,176.0,0.0,72.0,16.0,16.0,515.0,422.0,275.0,309.0,526.0,164.0,248.0,754.0,148.0,143.0,298.0,353.0,126.0,170.0,272.0,44.0,342.0,216.0,600.0,41.0,525.0,196.0,112.0,194.0,203.0,56.0,202.0,98.0,306.0,212.0,136.0,176.0,87.0,291.0,289.0,364.0,53.0,86.0,234.0,30.0,50.0,442.0,89.0,323.0,356.0,340.0,136.0,149.0,204.0,132.0,360.0,290.0,144.0,113.0,51.0,214.0,519.0,256.0,254.0,158.0,162.0,423.0,652.0,166.0,352.0,1224.0,86.0,886.0,203.0,94.0,242.0,134.0,189.0,144.0,244.0,434.0,216.0,248.0,112.0,600.0,662.0,184.0,550.0,230.0,420.0,130.0,68.0,248.0,176.0,514.0,200.0,380.0,504.0,504.0,232.0,568.0,525.0,385.0,142.0,430.0,674.0,112.0,278.0,518.0,572.0,236.0,14.0,40.0,18.0,14.0,242.0,322.0,877.0,397.0,738.0,501.0,420.0,60.0,118.0,172.0,96.0,51.0,90.0,145.0,692.0,513.0,144.0,264.0,300.0,203.0,140.0,112.0,88.0,332.0,632.0,272.0,176.0,522.0,379.0,104.0,145.0,305.0,450.0,200.0,99.0,123.0,153.0,232.0,232.0,198.0,140.0,532.0,68.0,62.0,123.0,199.0,148.0,261.0,227.0,170.0,355.0,190.0,82.0,60.0,270.0,405.0,327.0,257.0,382.0,200.0,194.0,94.0],\"y0\":\" \",\"yaxis\":\"y\",\"type\":\"box\"},{\"alignmentgroup\":\"True\",\"hovertemplate\":\"MasVnrType=%{x}<br>MasVnrArea=%{y}<extra></extra>\",\"legendgroup\":\"None\",\"marker\":{\"color\":\"#EF553B\"},\"name\":\"None\",\"notched\":false,\"offsetgroup\":\"None\",\"orientation\":\"v\",\"showlegend\":true,\"x\":[\"None\",\"None\",\"None\",\"None\",\"None\",\"None\",\"None\",\"None\",\"None\",\"None\",\"None\",\"None\",\"None\",\"None\",\"None\",\"None\",\"None\",\"None\",\"None\",\"None\",\"None\",\"None\",\"None\",\"None\",\"None\",\"None\",\"None\",\"None\",\"None\",\"None\",\"None\",\"None\",\"None\",\"None\",\"None\",\"None\",\"None\",\"None\",\"None\",\"None\",\"None\",\"None\",\"None\",\"None\",\"None\",\"None\",\"None\",\"None\",\"None\",\"None\",\"None\",\"None\",\"None\",\"None\",\"None\",\"None\",\"None\",\"None\",\"None\",\"None\",\"None\",\"None\",\"None\",\"None\",\"None\",\"None\",\"None\",\"None\",\"None\",\"None\",\"None\",\"None\",\"None\",\"None\",\"None\",\"None\",\"None\",\"None\",\"None\",\"None\",\"None\",\"None\",\"None\",\"None\",\"None\",\"None\",\"None\",\"None\",\"None\",\"None\",\"None\",\"None\",\"None\",\"None\",\"None\",\"None\",\"None\",\"None\",\"None\",\"None\",\"None\",\"None\",\"None\",\"None\",\"None\",\"None\",\"None\",\"None\",\"None\",\"None\",\"None\",\"None\",\"None\",\"None\",\"None\",\"None\",\"None\",\"None\",\"None\",\"None\",\"None\",\"None\",\"None\",\"None\",\"None\",\"None\",\"None\",\"None\",\"None\",\"None\",\"None\",\"None\",\"None\",\"None\",\"None\",\"None\",\"None\",\"None\",\"None\",\"None\",\"None\",\"None\",\"None\",\"None\",\"None\",\"None\",\"None\",\"None\",\"None\",\"None\",\"None\",\"None\",\"None\",\"None\",\"None\",\"None\",\"None\",\"None\",\"None\",\"None\",\"None\",\"None\",\"None\",\"None\",\"None\",\"None\",\"None\",\"None\",\"None\",\"None\",\"None\",\"None\",\"None\",\"None\",\"None\",\"None\",\"None\",\"None\",\"None\",\"None\",\"None\",\"None\",\"None\",\"None\",\"None\",\"None\",\"None\",\"None\",\"None\",\"None\",\"None\",\"None\",\"None\",\"None\",\"None\",\"None\",\"None\",\"None\",\"None\",\"None\",\"None\",\"None\",\"None\",\"None\",\"None\",\"None\",\"None\",\"None\",\"None\",\"None\",\"None\",\"None\",\"None\",\"None\",\"None\",\"None\",\"None\",\"None\",\"None\",\"None\",\"None\",\"None\",\"None\",\"None\",\"None\",\"None\",\"None\",\"None\",\"None\",\"None\",\"None\",\"None\",\"None\",\"None\",\"None\",\"None\",\"None\",\"None\",\"None\",\"None\",\"None\",\"None\",\"None\",\"None\",\"None\",\"None\",\"None\",\"None\",\"None\",\"None\",\"None\",\"None\",\"None\",\"None\",\"None\",\"None\",\"None\",\"None\",\"None\",\"None\",\"None\",\"None\",\"None\",\"None\",\"None\",\"None\",\"None\",\"None\",\"None\",\"None\",\"None\",\"None\",\"None\",\"None\",\"None\",\"None\",\"None\",\"None\",\"None\",\"None\",\"None\",\"None\",\"None\",\"None\",\"None\",\"None\",\"None\",\"None\",\"None\",\"None\",\"None\",\"None\",\"None\",\"None\",\"None\",\"None\",\"None\",\"None\",\"None\",\"None\",\"None\",\"None\",\"None\",\"None\",\"None\",\"None\",\"None\",\"None\",\"None\",\"None\",\"None\",\"None\",\"None\",\"None\",\"None\",\"None\",\"None\",\"None\",\"None\",\"None\",\"None\",\"None\",\"None\",\"None\",\"None\",\"None\",\"None\",\"None\",\"None\",\"None\",\"None\",\"None\",\"None\",\"None\",\"None\",\"None\",\"None\",\"None\",\"None\",\"None\",\"None\",\"None\",\"None\",\"None\",\"None\",\"None\",\"None\",\"None\",\"None\",\"None\",\"None\",\"None\",\"None\",\"None\",\"None\",\"None\",\"None\",\"None\",\"None\",\"None\",\"None\",\"None\",\"None\",\"None\",\"None\",\"None\",\"None\",\"None\",\"None\",\"None\",\"None\",\"None\",\"None\",\"None\",\"None\",\"None\",\"None\",\"None\",\"None\",\"None\",\"None\",\"None\",\"None\",\"None\",\"None\",\"None\",\"None\",\"None\",\"None\",\"None\",\"None\",\"None\",\"None\",\"None\",\"None\",\"None\",\"None\",\"None\",\"None\",\"None\",\"None\",\"None\",\"None\",\"None\",\"None\",\"None\",\"None\",\"None\",\"None\",\"None\",\"None\",\"None\",\"None\",\"None\",\"None\",\"None\",\"None\",\"None\",\"None\",\"None\",\"None\",\"None\",\"None\",\"None\",\"None\",\"None\",\"None\",\"None\",\"None\",\"None\",\"None\",\"None\",\"None\",\"None\",\"None\",\"None\",\"None\",\"None\",\"None\",\"None\",\"None\",\"None\",\"None\",\"None\",\"None\",\"None\",\"None\",\"None\",\"None\",\"None\",\"None\",\"None\",\"None\",\"None\",\"None\",\"None\",\"None\",\"None\",\"None\",\"None\",\"None\",\"None\",\"None\",\"None\",\"None\",\"None\",\"None\",\"None\",\"None\",\"None\",\"None\",\"None\",\"None\",\"None\",\"None\",\"None\",\"None\",\"None\",\"None\",\"None\",\"None\",\"None\",\"None\",\"None\",\"None\",\"None\",\"None\",\"None\",\"None\",\"None\",\"None\",\"None\",\"None\",\"None\",\"None\",\"None\",\"None\",\"None\",\"None\",\"None\",\"None\",\"None\",\"None\",\"None\",\"None\",\"None\",\"None\",\"None\",\"None\",\"None\",\"None\",\"None\",\"None\",\"None\",\"None\",\"None\",\"None\",\"None\",\"None\",\"None\",\"None\",\"None\",\"None\",\"None\",\"None\",\"None\",\"None\",\"None\",\"None\",\"None\",\"None\",\"None\",\"None\",\"None\",\"None\",\"None\",\"None\",\"None\",\"None\",\"None\",\"None\",\"None\",\"None\",\"None\",\"None\",\"None\",\"None\",\"None\",\"None\",\"None\",\"None\",\"None\",\"None\",\"None\",\"None\",\"None\",\"None\",\"None\",\"None\",\"None\",\"None\",\"None\",\"None\",\"None\",\"None\",\"None\",\"None\",\"None\",\"None\",\"None\",\"None\",\"None\",\"None\",\"None\",\"None\",\"None\",\"None\",\"None\",\"None\",\"None\",\"None\",\"None\",\"None\",\"None\",\"None\",\"None\",\"None\",\"None\",\"None\",\"None\",\"None\",\"None\",\"None\",\"None\",\"None\",\"None\",\"None\",\"None\",\"None\",\"None\",\"None\",\"None\",\"None\",\"None\",\"None\",\"None\",\"None\",\"None\",\"None\",\"None\",\"None\",\"None\",\"None\",\"None\",\"None\",\"None\",\"None\",\"None\",\"None\",\"None\",\"None\",\"None\",\"None\",\"None\",\"None\",\"None\",\"None\",\"None\",\"None\",\"None\",\"None\",\"None\",\"None\",\"None\",\"None\",\"None\",\"None\",\"None\",\"None\",\"None\",\"None\",\"None\",\"None\",\"None\",\"None\",\"None\",\"None\",\"None\",\"None\",\"None\",\"None\",\"None\",\"None\",\"None\",\"None\",\"None\",\"None\",\"None\",\"None\",\"None\",\"None\",\"None\",\"None\",\"None\",\"None\",\"None\",\"None\",\"None\",\"None\",\"None\",\"None\",\"None\",\"None\",\"None\",\"None\",\"None\",\"None\",\"None\",\"None\",\"None\",\"None\",\"None\",\"None\",\"None\",\"None\",\"None\",\"None\",\"None\",\"None\",\"None\",\"None\",\"None\",\"None\",\"None\",\"None\",\"None\",\"None\",\"None\",\"None\",\"None\",\"None\",\"None\",\"None\",\"None\",\"None\",\"None\",\"None\",\"None\",\"None\",\"None\",\"None\",\"None\",\"None\",\"None\",\"None\",\"None\",\"None\",\"None\",\"None\",\"None\",\"None\",\"None\",\"None\",\"None\",\"None\",\"None\",\"None\",\"None\",\"None\",\"None\",\"None\",\"None\",\"None\",\"None\",\"None\",\"None\",\"None\",\"None\",\"None\",\"None\",\"None\",\"None\",\"None\",\"None\",\"None\",\"None\",\"None\",\"None\",\"None\",\"None\",\"None\",\"None\",\"None\",\"None\",\"None\",\"None\",\"None\",\"None\",\"None\",\"None\",\"None\",\"None\",\"None\",\"None\",\"None\",\"None\",\"None\",\"None\",\"None\",\"None\",\"None\",\"None\",\"None\",\"None\",\"None\",\"None\",\"None\",\"None\",\"None\",\"None\",\"None\",\"None\",\"None\",\"None\",\"None\",\"None\",\"None\",\"None\",\"None\",\"None\",\"None\",\"None\",\"None\",\"None\",\"None\",\"None\",\"None\",\"None\",\"None\",\"None\",\"None\",\"None\",\"None\",\"None\",\"None\",\"None\",\"None\",\"None\",\"None\",\"None\",\"None\",\"None\",\"None\",\"None\",\"None\",\"None\",\"None\",\"None\",\"None\",\"None\",\"None\",\"None\",\"None\",\"None\",\"None\",\"None\",\"None\",\"None\",\"None\",\"None\",\"None\",\"None\",\"None\",\"None\",\"None\",\"None\",\"None\",\"None\",\"None\",\"None\",\"None\",\"None\",\"None\",\"None\",\"None\",\"None\",\"None\",\"None\",\"None\",\"None\",\"None\",\"None\",\"None\",\"None\",\"None\",\"None\",\"None\",\"None\",\"None\",\"None\",\"None\",\"None\",\"None\",\"None\",\"None\",\"None\",\"None\",\"None\",\"None\",\"None\",\"None\",\"None\",\"None\",\"None\",\"None\",\"None\",\"None\",\"None\",\"None\",\"None\",\"None\",\"None\",\"None\",\"None\",\"None\",\"None\",\"None\",\"None\",\"None\",\"None\",\"None\",\"None\",\"None\",\"None\",\"None\",\"None\",\"None\",\"None\",\"None\",\"None\",\"None\",\"None\",\"None\",\"None\",\"None\",\"None\",\"None\",\"None\",\"None\",\"None\",\"None\",\"None\",\"None\",\"None\",\"None\",\"None\",\"None\",\"None\",\"None\",\"None\",\"None\",\"None\",\"None\",\"None\",\"None\",\"None\",\"None\",\"None\",\"None\",\"None\",\"None\",\"None\",\"None\",\"None\",\"None\",\"None\",\"None\",\"None\",\"None\",\"None\",\"None\",\"None\",\"None\",\"None\",\"None\",\"None\",\"None\",\"None\",\"None\",\"None\",\"None\",\"None\",\"None\",\"None\",\"None\",\"None\",\"None\",\"None\",\"None\",\"None\",\"None\",\"None\",\"None\",\"None\",\"None\",\"None\",\"None\",\"None\",\"None\",\"None\",\"None\",\"None\",\"None\",\"None\",\"None\",\"None\",\"None\",\"None\",\"None\",\"None\",\"None\",\"None\",\"None\",\"None\",\"None\",\"None\",\"None\",\"None\",\"None\",\"None\",\"None\",\"None\",\"None\",\"None\",\"None\",\"None\",\"None\",\"None\",\"None\",\"None\",\"None\",\"None\",\"None\",\"None\",\"None\",\"None\",\"None\",\"None\",\"None\",\"None\",\"None\",\"None\",\"None\",\"None\",\"None\",\"None\",\"None\",\"None\",\"None\",\"None\",\"None\",\"None\",\"None\",\"None\",\"None\",\"None\",\"None\",\"None\",\"None\",\"None\",\"None\",\"None\",\"None\",\"None\",\"None\",\"None\",\"None\",\"None\",\"None\",\"None\",\"None\",\"None\",\"None\",\"None\",\"None\",\"None\",\"None\",\"None\",\"None\",\"None\",\"None\",\"None\",\"None\",\"None\",\"None\",\"None\",\"None\",\"None\",\"None\",\"None\",\"None\",\"None\",\"None\",\"None\",\"None\",\"None\",\"None\",\"None\",\"None\",\"None\",\"None\",\"None\",\"None\",\"None\",\"None\",\"None\",\"None\",\"None\",\"None\",\"None\",\"None\",\"None\",\"None\",\"None\",\"None\",\"None\",\"None\",\"None\",\"None\",\"None\",\"None\",\"None\",\"None\",\"None\",\"None\",\"None\",\"None\",\"None\",\"None\",\"None\",\"None\",\"None\",\"None\",\"None\",\"None\",\"None\",\"None\",\"None\",\"None\",\"None\",\"None\",\"None\",\"None\",\"None\",\"None\",\"None\",\"None\",\"None\",\"None\",\"None\",\"None\",\"None\",\"None\",\"None\",\"None\",\"None\",\"None\",\"None\",\"None\",\"None\",\"None\",\"None\",\"None\",\"None\",\"None\",\"None\",\"None\",\"None\",\"None\",\"None\",\"None\",\"None\",\"None\",\"None\",\"None\",\"None\",\"None\",\"None\",\"None\",\"None\",\"None\",\"None\",\"None\",\"None\",\"None\",\"None\",\"None\",\"None\",\"None\",\"None\",\"None\",\"None\",\"None\",\"None\",\"None\",\"None\",\"None\",\"None\",\"None\",\"None\",\"None\",\"None\",\"None\",\"None\",\"None\",\"None\",\"None\",\"None\",\"None\",\"None\",\"None\",\"None\",\"None\",\"None\",\"None\",\"None\",\"None\",\"None\",\"None\",\"None\",\"None\",\"None\",\"None\",\"None\",\"None\",\"None\",\"None\",\"None\",\"None\",\"None\",\"None\",\"None\",\"None\",\"None\",\"None\",\"None\",\"None\",\"None\",\"None\",\"None\",\"None\",\"None\",\"None\",\"None\",\"None\",\"None\",\"None\",\"None\",\"None\",\"None\",\"None\",\"None\",\"None\",\"None\",\"None\",\"None\",\"None\",\"None\",\"None\",\"None\",\"None\",\"None\",\"None\",\"None\",\"None\",\"None\",\"None\",\"None\",\"None\",\"None\",\"None\",\"None\",\"None\",\"None\",\"None\",\"None\",\"None\",\"None\",\"None\",\"None\",\"None\",\"None\",\"None\",\"None\",\"None\",\"None\",\"None\",\"None\",\"None\",\"None\",\"None\",\"None\",\"None\",\"None\",\"None\",\"None\",\"None\",\"None\",\"None\",\"None\",\"None\",\"None\",\"None\",\"None\",\"None\",\"None\",\"None\",\"None\",\"None\",\"None\",\"None\",\"None\",\"None\",\"None\",\"None\",\"None\",\"None\",\"None\",\"None\",\"None\",\"None\",\"None\",\"None\",\"None\",\"None\",\"None\",\"None\",\"None\",\"None\",\"None\",\"None\",\"None\",\"None\",\"None\",\"None\",\"None\",\"None\",\"None\",\"None\",\"None\",\"None\",\"None\",\"None\",\"None\",\"None\",\"None\",\"None\",\"None\",\"None\",\"None\",\"None\",\"None\",\"None\",\"None\",\"None\",\"None\",\"None\",\"None\",\"None\",\"None\",\"None\",\"None\",\"None\",\"None\",\"None\",\"None\",\"None\",\"None\",\"None\",\"None\",\"None\",\"None\",\"None\",\"None\",\"None\",\"None\",\"None\",\"None\",\"None\",\"None\",\"None\",\"None\",\"None\",\"None\",\"None\",\"None\",\"None\",\"None\",\"None\",\"None\",\"None\",\"None\",\"None\",\"None\",\"None\",\"None\",\"None\",\"None\",\"None\",\"None\",\"None\",\"None\",\"None\",\"None\",\"None\",\"None\",\"None\",\"None\",\"None\",\"None\",\"None\",\"None\",\"None\",\"None\",\"None\",\"None\",\"None\",\"None\",\"None\",\"None\",\"None\",\"None\",\"None\",\"None\",\"None\",\"None\",\"None\",\"None\",\"None\",\"None\",\"None\",\"None\",\"None\",\"None\",\"None\",\"None\",\"None\",\"None\",\"None\",\"None\",\"None\",\"None\",\"None\",\"None\",\"None\",\"None\",\"None\",\"None\",\"None\",\"None\",\"None\",\"None\",\"None\",\"None\",\"None\",\"None\",\"None\",\"None\",\"None\",\"None\",\"None\",\"None\",\"None\",\"None\",\"None\",\"None\",\"None\",\"None\",\"None\",\"None\",\"None\",\"None\",\"None\",\"None\",\"None\",\"None\",\"None\",\"None\",\"None\",\"None\",\"None\",\"None\",\"None\",\"None\",\"None\",\"None\",\"None\",\"None\",\"None\",\"None\",\"None\",\"None\",\"None\",\"None\",\"None\",\"None\",\"None\",\"None\",\"None\",\"None\",\"None\",\"None\",\"None\",\"None\",\"None\",\"None\",\"None\",\"None\",\"None\",\"None\",\"None\",\"None\",\"None\",\"None\",\"None\",\"None\",\"None\",\"None\",\"None\",\"None\",\"None\",\"None\",\"None\",\"None\",\"None\",\"None\",\"None\",\"None\",\"None\",\"None\",\"None\",\"None\",\"None\",\"None\",\"None\",\"None\",\"None\",\"None\",\"None\",\"None\",\"None\",\"None\",\"None\",\"None\",\"None\",\"None\",\"None\",\"None\",\"None\",\"None\",\"None\",\"None\",\"None\",\"None\",\"None\",\"None\",\"None\",\"None\",\"None\",\"None\",\"None\",\"None\",\"None\",\"None\",\"None\",\"None\",\"None\",\"None\",\"None\",\"None\",\"None\",\"None\",\"None\",\"None\",\"None\",\"None\",\"None\",\"None\",\"None\",\"None\",\"None\",\"None\",\"None\",\"None\",\"None\",\"None\",\"None\",\"None\",\"None\",\"None\",\"None\",\"None\",\"None\",\"None\",\"None\",\"None\",\"None\",\"None\",\"None\",\"None\",\"None\",\"None\",\"None\",\"None\",\"None\",\"None\",\"None\",\"None\",\"None\",\"None\",\"None\",\"None\",\"None\",\"None\",\"None\",\"None\",\"None\",\"None\",\"None\",\"None\",\"None\",\"None\",\"None\",\"None\",\"None\",\"None\",\"None\",\"None\",\"None\",\"None\",\"None\",\"None\",\"None\",\"None\",\"None\",\"None\",\"None\",\"None\",\"None\",\"None\",\"None\",\"None\",\"None\",\"None\",\"None\",\"None\",\"None\",\"None\",\"None\",\"None\",\"None\",\"None\",\"None\",\"None\",\"None\",\"None\",\"None\",\"None\",\"None\",\"None\",\"None\",\"None\",\"None\",\"None\",\"None\",\"None\",\"None\",\"None\",\"None\",\"None\",\"None\",\"None\",\"None\",\"None\",\"None\",\"None\",\"None\",\"None\",\"None\",\"None\",\"None\",\"None\",\"None\",\"None\",\"None\",\"None\",\"None\",\"None\",\"None\",\"None\",\"None\",\"None\",\"None\",\"None\",\"None\",\"None\",\"None\",\"None\",\"None\",\"None\",\"None\",\"None\",\"None\",\"None\",\"None\",\"None\",\"None\",\"None\",\"None\",\"None\",\"None\",\"None\",\"None\",\"None\",\"None\",\"None\",\"None\",\"None\",\"None\",\"None\",\"None\",\"None\",\"None\",\"None\",\"None\",\"None\",\"None\",\"None\",\"None\",\"None\",\"None\",\"None\",\"None\",\"None\",\"None\",\"None\",\"None\",\"None\",\"None\",\"None\",\"None\",\"None\",\"None\",\"None\",\"None\",\"None\",\"None\",\"None\",\"None\",\"None\",\"None\",\"None\",\"None\",\"None\",\"None\",\"None\",\"None\",\"None\",\"None\",\"None\",\"None\",\"None\",\"None\",\"None\",\"None\",\"None\",\"None\",\"None\",\"None\",\"None\",\"None\",\"None\",\"None\",\"None\",\"None\",\"None\",\"None\",\"None\",\"None\",\"None\",\"None\",\"None\",\"None\",\"None\",\"None\",\"None\",\"None\",\"None\",\"None\",\"None\",\"None\",\"None\",\"None\",\"None\",\"None\",\"None\"],\"x0\":\" \",\"xaxis\":\"x\",\"y\":[0.0,0.0,0.0,0.0,0.0,0.0,0.0,0.0,0.0,0.0,0.0,0.0,0.0,0.0,0.0,0.0,0.0,0.0,0.0,0.0,0.0,0.0,0.0,0.0,0.0,0.0,0.0,0.0,0.0,0.0,0.0,0.0,0.0,0.0,0.0,0.0,0.0,0.0,0.0,0.0,0.0,0.0,0.0,0.0,0.0,0.0,0.0,0.0,0.0,0.0,0.0,0.0,0.0,0.0,0.0,0.0,0.0,0.0,0.0,0.0,0.0,0.0,0.0,0.0,0.0,0.0,0.0,0.0,0.0,0.0,0.0,0.0,0.0,0.0,0.0,0.0,0.0,0.0,0.0,0.0,0.0,0.0,0.0,0.0,0.0,0.0,0.0,0.0,0.0,0.0,0.0,0.0,0.0,0.0,0.0,0.0,0.0,0.0,0.0,0.0,0.0,0.0,0.0,0.0,0.0,0.0,0.0,0.0,0.0,0.0,0.0,0.0,0.0,0.0,0.0,0.0,0.0,0.0,0.0,0.0,0.0,0.0,0.0,0.0,0.0,0.0,0.0,0.0,0.0,0.0,0.0,0.0,0.0,0.0,null,0.0,0.0,0.0,0.0,0.0,0.0,0.0,0.0,0.0,0.0,0.0,0.0,0.0,0.0,0.0,0.0,0.0,0.0,0.0,0.0,0.0,0.0,0.0,0.0,0.0,0.0,0.0,0.0,0.0,0.0,0.0,0.0,0.0,0.0,0.0,0.0,0.0,0.0,0.0,0.0,0.0,0.0,0.0,0.0,0.0,0.0,0.0,0.0,0.0,0.0,0.0,0.0,0.0,0.0,0.0,0.0,0.0,0.0,0.0,0.0,0.0,0.0,0.0,0.0,0.0,0.0,0.0,0.0,0.0,0.0,0.0,0.0,0.0,0.0,0.0,0.0,0.0,0.0,0.0,0.0,0.0,0.0,0.0,0.0,0.0,0.0,0.0,0.0,0.0,0.0,0.0,0.0,0.0,0.0,0.0,0.0,0.0,0.0,0.0,0.0,0.0,0.0,0.0,0.0,0.0,0.0,0.0,0.0,0.0,0.0,0.0,0.0,0.0,0.0,0.0,0.0,0.0,0.0,0.0,0.0,0.0,0.0,0.0,0.0,0.0,0.0,0.0,0.0,0.0,0.0,0.0,0.0,0.0,0.0,0.0,0.0,0.0,0.0,0.0,0.0,0.0,0.0,0.0,0.0,0.0,0.0,0.0,0.0,0.0,0.0,0.0,0.0,0.0,0.0,0.0,0.0,0.0,0.0,0.0,0.0,0.0,0.0,0.0,0.0,0.0,0.0,0.0,0.0,0.0,0.0,0.0,0.0,0.0,0.0,null,0.0,0.0,0.0,0.0,0.0,0.0,0.0,0.0,0.0,0.0,0.0,0.0,0.0,0.0,0.0,0.0,0.0,0.0,0.0,0.0,0.0,0.0,0.0,0.0,0.0,0.0,0.0,0.0,0.0,0.0,0.0,0.0,0.0,0.0,0.0,0.0,0.0,0.0,0.0,0.0,0.0,0.0,0.0,0.0,0.0,0.0,0.0,0.0,0.0,0.0,0.0,0.0,0.0,0.0,0.0,288.0,0.0,0.0,0.0,0.0,0.0,0.0,0.0,0.0,0.0,0.0,0.0,0.0,0.0,0.0,null,0.0,0.0,0.0,0.0,0.0,0.0,0.0,0.0,0.0,0.0,0.0,0.0,0.0,0.0,0.0,0.0,0.0,0.0,0.0,0.0,0.0,0.0,0.0,0.0,0.0,0.0,0.0,0.0,0.0,0.0,0.0,0.0,0.0,0.0,0.0,0.0,0.0,0.0,0.0,0.0,0.0,0.0,0.0,0.0,0.0,0.0,0.0,0.0,0.0,0.0,0.0,0.0,0.0,0.0,0.0,0.0,0.0,0.0,0.0,0.0,0.0,0.0,0.0,0.0,0.0,0.0,0.0,0.0,0.0,0.0,0.0,0.0,1.0,0.0,0.0,0.0,0.0,0.0,0.0,0.0,0.0,0.0,0.0,0.0,0.0,0.0,0.0,0.0,0.0,0.0,0.0,0.0,0.0,0.0,0.0,0.0,0.0,0.0,0.0,0.0,0.0,0.0,0.0,0.0,0.0,0.0,0.0,0.0,0.0,0.0,0.0,0.0,0.0,0.0,0.0,0.0,0.0,0.0,0.0,0.0,0.0,0.0,0.0,0.0,0.0,0.0,0.0,0.0,0.0,0.0,0.0,0.0,0.0,0.0,0.0,0.0,0.0,0.0,0.0,0.0,0.0,0.0,0.0,0.0,0.0,0.0,0.0,0.0,0.0,0.0,0.0,0.0,0.0,0.0,0.0,0.0,0.0,0.0,0.0,0.0,0.0,0.0,0.0,0.0,0.0,0.0,0.0,0.0,null,0.0,0.0,0.0,0.0,0.0,0.0,0.0,0.0,0.0,0.0,0.0,0.0,0.0,0.0,0.0,0.0,0.0,0.0,0.0,0.0,0.0,0.0,0.0,null,0.0,0.0,0.0,null,0.0,0.0,0.0,0.0,0.0,0.0,0.0,0.0,0.0,0.0,0.0,0.0,0.0,0.0,0.0,0.0,0.0,0.0,0.0,0.0,0.0,0.0,0.0,0.0,0.0,0.0,0.0,0.0,0.0,0.0,0.0,0.0,0.0,0.0,0.0,0.0,0.0,0.0,0.0,0.0,0.0,0.0,0.0,0.0,0.0,0.0,0.0,0.0,0.0,0.0,0.0,0.0,0.0,0.0,0.0,0.0,0.0,0.0,0.0,0.0,0.0,0.0,0.0,0.0,0.0,0.0,0.0,0.0,0.0,0.0,0.0,0.0,0.0,0.0,0.0,0.0,0.0,0.0,0.0,0.0,0.0,0.0,0.0,0.0,0.0,0.0,0.0,0.0,0.0,0.0,0.0,0.0,0.0,0.0,0.0,0.0,0.0,0.0,0.0,0.0,0.0,0.0,0.0,0.0,0.0,0.0,0.0,0.0,0.0,0.0,0.0,0.0,0.0,0.0,0.0,0.0,0.0,0.0,0.0,0.0,0.0,0.0,0.0,0.0,0.0,0.0,0.0,0.0,0.0,0.0,0.0,0.0,0.0,0.0,0.0,0.0,0.0,0.0,0.0,0.0,0.0,0.0,0.0,0.0,0.0,0.0,0.0,0.0,0.0,0.0,0.0,0.0,0.0,0.0,0.0,0.0,0.0,1.0,0.0,0.0,0.0,0.0,0.0,null,0.0,0.0,0.0,0.0,0.0,0.0,0.0,0.0,0.0,0.0,0.0,0.0,0.0,0.0,0.0,0.0,0.0,0.0,0.0,0.0,0.0,null,0.0,0.0,0.0,0.0,0.0,0.0,0.0,0.0,0.0,0.0,344.0,0.0,0.0,0.0,0.0,0.0,0.0,0.0,0.0,0.0,0.0,0.0,0.0,0.0,0.0,0.0,0.0,0.0,0.0,0.0,312.0,0.0,0.0,0.0,0.0,0.0,0.0,0.0,0.0,0.0,0.0,0.0,0.0,0.0,0.0,0.0,0.0,0.0,0.0,0.0,0.0,0.0,0.0,0.0,0.0,0.0,0.0,0.0,0.0,0.0,0.0,0.0,0.0,0.0,0.0,0.0,0.0,0.0,0.0,0.0,0.0,0.0,0.0,0.0,0.0,0.0,0.0,0.0,0.0,0.0,0.0,0.0,0.0,0.0,0.0,0.0,0.0,0.0,0.0,0.0,0.0,0.0,0.0,0.0,0.0,0.0,0.0,0.0,0.0,0.0,0.0,0.0,0.0,0.0,0.0,0.0,0.0,0.0,0.0,0.0,0.0,0.0,0.0,0.0,0.0,0.0,0.0,0.0,0.0,0.0,0.0,0.0,0.0,0.0,0.0,0.0,0.0,0.0,0.0,0.0,0.0,0.0,0.0,0.0,0.0,0.0,0.0,0.0,0.0,0.0,0.0,0.0,0.0,0.0,0.0,0.0,0.0,0.0,0.0,0.0,0.0,0.0,0.0,0.0,0.0,0.0,0.0,0.0,0.0,0.0,0.0,0.0,0.0,0.0,0.0,0.0,0.0,0.0,0.0,0.0,0.0,0.0,0.0,0.0,0.0,0.0,0.0,0.0,0.0,0.0,0.0,0.0,0.0,0.0,0.0,0.0,0.0,0.0,0.0,0.0,0.0,0.0,0.0,0.0,0.0,0.0,0.0,0.0,0.0,0.0,0.0,0.0,0.0,0.0,0.0,0.0,0.0,0.0,0.0,0.0,0.0,0.0,0.0,0.0,0.0,0.0,0.0,0.0,0.0,0.0,0.0,0.0,0.0,0.0,0.0,0.0,0.0,0.0,0.0,0.0,0.0,0.0,0.0,0.0,0.0,0.0,0.0,0.0,0.0,0.0,0.0,0.0,0.0,285.0,0.0,0.0,0.0,0.0,0.0,0.0,null,0.0,0.0,0.0,0.0,null,0.0,0.0,0.0,0.0,0.0,0.0,0.0,0.0,0.0,0.0,0.0,0.0,0.0,0.0,0.0,0.0,0.0,0.0,0.0,0.0,0.0,0.0,0.0,0.0,0.0,0.0,0.0,0.0,0.0,0.0,0.0,0.0,0.0,0.0,0.0,0.0,0.0,0.0,0.0,0.0,0.0,0.0,0.0,0.0,0.0,0.0,0.0,0.0,0.0,0.0,0.0,0.0,0.0,0.0,0.0,0.0,0.0,0.0,0.0,0.0,0.0,0.0,0.0,0.0,0.0,0.0,0.0,0.0,0.0,0.0,0.0,0.0,0.0,0.0,0.0,0.0,0.0,0.0,0.0,0.0,0.0,0.0,0.0,0.0,0.0,0.0,0.0,0.0,0.0,0.0,0.0,0.0,0.0,0.0,0.0,0.0,0.0,0.0,0.0,0.0,0.0,0.0,0.0,0.0,0.0,0.0,0.0,0.0,0.0,0.0,0.0,null,0.0,0.0,0.0,0.0,0.0,0.0,0.0,0.0,0.0,0.0,0.0,0.0,0.0,0.0,0.0,0.0,0.0,0.0,0.0,0.0,0.0,0.0,0.0,0.0,0.0,0.0,0.0,0.0,0.0,0.0,0.0,0.0,0.0,0.0,0.0,0.0,0.0,0.0,0.0,0.0,0.0,0.0,0.0,0.0,0.0,0.0,0.0,null,0.0,0.0,0.0,null,0.0,0.0,0.0,0.0,0.0,0.0,0.0,0.0,0.0,0.0,0.0,0.0,0.0,0.0,0.0,0.0,0.0,null,0.0,0.0,0.0,0.0,0.0,0.0,0.0,0.0,0.0,0.0,0.0,0.0,0.0,0.0,0.0,0.0,0.0,0.0,0.0,0.0,0.0,0.0,0.0,0.0,0.0,0.0,0.0,0.0,0.0,0.0,0.0,0.0,0.0,0.0,0.0,0.0,0.0,0.0,0.0,0.0,0.0,0.0,0.0,0.0,0.0,0.0,0.0,0.0,0.0,0.0,0.0,0.0,0.0,0.0,0.0,0.0,0.0,0.0,0.0,0.0,0.0,0.0,0.0,0.0,0.0,0.0,0.0,0.0,0.0,0.0,0.0,0.0,0.0,0.0,0.0,0.0,0.0,0.0,0.0,0.0,0.0,0.0,0.0,0.0,0.0,0.0,0.0,0.0,0.0,0.0,0.0,0.0,0.0,0.0,0.0,0.0,0.0,0.0,0.0,0.0,0.0,0.0,0.0,0.0,0.0,0.0,0.0,0.0,0.0,0.0,0.0,0.0,0.0,0.0,0.0,0.0,0.0,0.0,0.0,0.0,0.0,0.0,0.0,0.0,0.0,0.0,0.0,0.0,0.0,0.0,0.0,0.0,0.0,0.0,0.0,0.0,0.0,0.0,0.0,0.0,0.0,0.0,0.0,0.0,0.0,0.0,0.0,0.0,0.0,0.0,0.0,0.0,0.0,0.0,0.0,0.0,0.0,0.0,0.0,0.0,0.0,0.0,0.0,0.0,0.0,0.0,0.0,0.0,0.0,0.0,0.0,0.0,null,0.0,0.0,0.0,0.0,0.0,0.0,0.0,null,0.0,0.0,0.0,0.0,0.0,null,0.0,0.0,0.0,0.0,0.0,0.0,null,0.0,0.0,0.0,0.0,0.0,0.0,0.0,0.0,0.0,0.0,null,0.0,0.0,0.0,0.0,0.0,0.0,0.0,0.0,0.0,0.0,0.0,0.0,0.0,0.0,0.0,0.0,0.0,0.0,0.0,0.0,0.0,0.0,0.0,0.0,0.0,0.0,0.0,0.0,0.0,0.0,0.0,0.0,0.0,0.0,0.0,0.0,0.0,0.0,0.0,0.0,0.0,0.0,0.0,0.0,0.0,0.0,0.0,0.0,0.0,0.0,0.0,0.0,0.0,0.0,0.0,0.0,0.0,1.0,0.0,0.0,0.0,0.0,0.0,0.0,0.0,0.0,0.0,0.0,0.0,0.0,0.0,0.0,0.0,0.0,0.0,0.0,0.0,0.0,0.0,0.0,0.0,0.0,0.0,0.0,0.0,0.0,0.0,0.0,0.0,0.0,0.0,0.0,0.0,0.0,0.0,0.0,0.0,0.0,0.0,0.0,0.0,0.0,0.0,0.0,0.0,0.0,0.0,0.0,0.0,0.0,0.0,0.0,0.0,0.0,0.0,0.0,0.0,0.0,0.0,0.0,0.0,0.0,0.0,0.0,0.0,0.0,0.0,0.0,0.0,0.0,0.0,0.0,0.0,0.0,0.0,0.0,0.0,0.0,0.0,0.0,0.0,0.0,0.0,0.0,0.0,0.0,0.0,0.0,0.0,0.0,0.0,0.0,0.0,0.0,0.0,0.0,0.0,0.0,0.0,null,0.0,0.0,0.0,0.0,0.0,0.0,0.0,0.0,0.0,198.0,0.0,0.0,0.0,0.0,0.0,0.0,0.0,0.0,0.0,0.0,0.0,0.0,0.0,0.0,0.0,null,0.0,0.0,0.0,0.0,0.0,0.0,0.0,0.0,null,0.0,0.0,0.0,0.0,0.0,0.0,0.0,0.0,0.0,0.0,0.0,0.0,0.0,0.0,0.0,0.0,0.0,0.0,0.0,0.0,0.0,0.0,0.0,0.0,0.0,0.0,0.0,0.0,0.0,0.0,0.0,0.0,0.0,0.0,0.0,0.0,0.0,0.0,0.0,0.0,0.0,0.0,0.0,0.0,0.0,0.0,0.0,0.0,0.0,0.0,0.0,0.0,0.0,0.0,0.0,0.0,0.0,0.0,0.0,0.0,0.0,0.0,0.0,0.0,0.0,0.0,0.0,0.0,0.0,0.0,0.0,0.0,0.0,0.0,0.0,0.0,0.0,0.0,0.0,0.0,0.0,0.0,0.0,0.0,0.0,0.0,0.0,0.0,0.0,0.0,0.0,0.0,0.0,0.0,0.0,0.0,0.0,0.0,0.0,0.0,0.0,0.0,0.0,0.0,0.0,0.0,0.0,0.0,0.0,0.0,0.0,0.0,0.0,0.0,0.0,0.0,0.0,0.0,0.0,0.0,0.0,null,0.0,0.0,0.0,0.0,0.0,0.0,0.0,0.0,0.0,0.0,0.0,0.0,0.0,0.0,0.0,0.0,0.0,0.0,0.0,0.0,0.0,0.0,0.0,0.0,0.0,0.0,0.0,0.0,0.0,0.0,0.0,0.0,0.0,0.0,0.0,0.0,0.0,0.0,0.0,0.0,0.0,0.0],\"y0\":\" \",\"yaxis\":\"y\",\"type\":\"box\"},{\"alignmentgroup\":\"True\",\"hovertemplate\":\"MasVnrType=%{x}<br>MasVnrArea=%{y}<extra></extra>\",\"legendgroup\":\"Stone\",\"marker\":{\"color\":\"#00cc96\"},\"name\":\"Stone\",\"notched\":false,\"offsetgroup\":\"Stone\",\"orientation\":\"v\",\"showlegend\":true,\"x\":[\"Stone\",\"Stone\",\"Stone\",\"Stone\",\"Stone\",\"Stone\",\"Stone\",\"Stone\",\"Stone\",\"Stone\",\"Stone\",\"Stone\",\"Stone\",\"Stone\",\"Stone\",\"Stone\",\"Stone\",\"Stone\",\"Stone\",\"Stone\",\"Stone\",\"Stone\",\"Stone\",\"Stone\",\"Stone\",\"Stone\",\"Stone\",\"Stone\",\"Stone\",\"Stone\",\"Stone\",\"Stone\",\"Stone\",\"Stone\",\"Stone\",\"Stone\",\"Stone\",\"Stone\",\"Stone\",\"Stone\",\"Stone\",\"Stone\",\"Stone\",\"Stone\",\"Stone\",\"Stone\",\"Stone\",\"Stone\",\"Stone\",\"Stone\",\"Stone\",\"Stone\",\"Stone\",\"Stone\",\"Stone\",\"Stone\",\"Stone\",\"Stone\",\"Stone\",\"Stone\",\"Stone\",\"Stone\",\"Stone\",\"Stone\",\"Stone\",\"Stone\",\"Stone\",\"Stone\",\"Stone\",\"Stone\",\"Stone\",\"Stone\",\"Stone\",\"Stone\",\"Stone\",\"Stone\",\"Stone\",\"Stone\",\"Stone\",\"Stone\",\"Stone\",\"Stone\",\"Stone\",\"Stone\",\"Stone\",\"Stone\",\"Stone\",\"Stone\",\"Stone\",\"Stone\",\"Stone\",\"Stone\",\"Stone\",\"Stone\",\"Stone\",\"Stone\",\"Stone\",\"Stone\",\"Stone\",\"Stone\",\"Stone\",\"Stone\",\"Stone\",\"Stone\",\"Stone\",\"Stone\",\"Stone\",\"Stone\",\"Stone\",\"Stone\",\"Stone\",\"Stone\",\"Stone\",\"Stone\",\"Stone\",\"Stone\",\"Stone\",\"Stone\",\"Stone\",\"Stone\",\"Stone\",\"Stone\",\"Stone\",\"Stone\",\"Stone\",\"Stone\",\"Stone\",\"Stone\",\"Stone\",\"Stone\",\"Stone\",\"Stone\",\"Stone\",\"Stone\",\"Stone\",\"Stone\",\"Stone\",\"Stone\",\"Stone\",\"Stone\",\"Stone\",\"Stone\",\"Stone\",\"Stone\",\"Stone\",\"Stone\",\"Stone\",\"Stone\",\"Stone\",\"Stone\",\"Stone\",\"Stone\",\"Stone\",\"Stone\",\"Stone\",\"Stone\",\"Stone\",\"Stone\",\"Stone\",\"Stone\",\"Stone\",\"Stone\",\"Stone\",\"Stone\",\"Stone\",\"Stone\",\"Stone\",\"Stone\",\"Stone\",\"Stone\",\"Stone\",\"Stone\",\"Stone\",\"Stone\",\"Stone\",\"Stone\",\"Stone\",\"Stone\",\"Stone\",\"Stone\",\"Stone\",\"Stone\",\"Stone\",\"Stone\",\"Stone\",\"Stone\",\"Stone\",\"Stone\",\"Stone\",\"Stone\",\"Stone\",\"Stone\",\"Stone\",\"Stone\",\"Stone\",\"Stone\",\"Stone\",\"Stone\",\"Stone\",\"Stone\",\"Stone\",\"Stone\",\"Stone\",\"Stone\",\"Stone\",\"Stone\",\"Stone\",\"Stone\",\"Stone\",\"Stone\",\"Stone\",\"Stone\",\"Stone\",\"Stone\",\"Stone\",\"Stone\",\"Stone\",\"Stone\",\"Stone\",\"Stone\",\"Stone\",\"Stone\",\"Stone\",\"Stone\",\"Stone\",\"Stone\",\"Stone\",\"Stone\",\"Stone\",\"Stone\",\"Stone\",\"Stone\",\"Stone\",\"Stone\",\"Stone\",\"Stone\",\"Stone\",\"Stone\",\"Stone\",\"Stone\",\"Stone\",\"Stone\",\"Stone\",\"Stone\",\"Stone\",\"Stone\",\"Stone\",\"Stone\",\"Stone\"],\"x0\":\" \",\"xaxis\":\"x\",\"y\":[186.0,240.0,286.0,306.0,640.0,200.0,132.0,178.0,468.0,76.0,220.0,50.0,436.0,300.0,112.0,132.0,748.0,275.0,50.0,205.0,260.0,36.0,481.0,180.0,270.0,68.0,166.0,72.0,238.0,246.0,370.0,146.0,200.0,106.0,350.0,272.0,100.0,100.0,432.0,126.0,200.0,110.0,224.0,248.0,336.0,94.0,762.0,268.0,250.0,420.0,226.0,108.0,162.0,216.0,464.0,215.0,256.0,351.0,340.0,82.0,284.0,140.0,860.0,424.0,256.0,128.0,274.0,216.0,760.0,110.0,208.0,76.0,302.0,106.0,210.0,450.0,230.0,24.0,108.0,84.0,338.0,295.0,70.0,135.0,208.0,145.0,240.0,154.0,50.0,42.0,328.0,340.0,288.0,166.0,186.0,268.0,72.0,186.0,149.0,143.0,420.0,72.0,74.0,106.0,0.0,163.0,92.0,182.0,567.0,788.0,796.0,117.0,300.0,94.0,270.0,410.0,100.0,16.0,160.0,84.0,174.0,366.0,243.0,294.0,426.0,160.0,194.0,119.0,162.0,256.0,178.0,340.0,432.0,300.0,96.0,80.0,186.0,60.0,726.0,450.0,472.0,302.0,20.0,284.0,122.0,186.0,383.0,240.0,135.0,176.0,730.0,163.0,240.0,260.0,206.0,198.0,120.0,238.0,121.0,280.0,252.0,144.0,480.0,143.0,188.0,242.0,364.0,352.0,76.0,132.0,420.0,174.0,246.0,290.0,130.0,302.0,554.0,108.0,126.0,680.0,144.0,106.0,176.0,156.0,310.0,210.0,216.0,52.0,275.0,156.0,554.0,402.0,50.0,212.0,115.0,40.0,186.0,174.0,258.0,60.0,146.0,67.0,130.0,378.0,302.0,456.0,120.0,510.0,246.0,182.0,182.0,256.0,108.0,235.0,44.0,22.0,16.0,30.0,36.0,260.0,279.0,300.0,306.0,306.0,20.0,198.0,1224.0,76.0,473.0,50.0,28.0,302.0,902.0,734.0,252.0,215.0,206.0,192.0,150.0,144.0,264.0,41.0,65.0,96.0,164.0,50.0,473.0,186.0,198.0],\"y0\":\" \",\"yaxis\":\"y\",\"type\":\"box\"},{\"alignmentgroup\":\"True\",\"hovertemplate\":\"MasVnrType=%{x}<br>MasVnrArea=%{y}<extra></extra>\",\"legendgroup\":\"BrkCmn\",\"marker\":{\"color\":\"#ab63fa\"},\"name\":\"BrkCmn\",\"notched\":false,\"offsetgroup\":\"BrkCmn\",\"orientation\":\"v\",\"showlegend\":true,\"x\":[\"BrkCmn\",\"BrkCmn\",\"BrkCmn\",\"BrkCmn\",\"BrkCmn\",\"BrkCmn\",\"BrkCmn\",\"BrkCmn\",\"BrkCmn\",\"BrkCmn\",\"BrkCmn\",\"BrkCmn\",\"BrkCmn\",\"BrkCmn\",\"BrkCmn\",\"BrkCmn\",\"BrkCmn\",\"BrkCmn\",\"BrkCmn\",\"BrkCmn\",\"BrkCmn\",\"BrkCmn\",\"BrkCmn\",\"BrkCmn\",\"BrkCmn\"],\"x0\":\" \",\"xaxis\":\"x\",\"y\":[66.0,203.0,491.0,472.0,183.0,161.0,435.0,70.0,192.0,113.0,41.0,328.0,67.0,272.0,621.0,250.0,40.0,216.0,58.0,138.0,54.0,69.0,128.0,161.0,58.0],\"y0\":\" \",\"yaxis\":\"y\",\"type\":\"box\"}],                        {\"template\":{\"data\":{\"bar\":[{\"error_x\":{\"color\":\"#2a3f5f\"},\"error_y\":{\"color\":\"#2a3f5f\"},\"marker\":{\"line\":{\"color\":\"#E5ECF6\",\"width\":0.5},\"pattern\":{\"fillmode\":\"overlay\",\"size\":10,\"solidity\":0.2}},\"type\":\"bar\"}],\"barpolar\":[{\"marker\":{\"line\":{\"color\":\"#E5ECF6\",\"width\":0.5},\"pattern\":{\"fillmode\":\"overlay\",\"size\":10,\"solidity\":0.2}},\"type\":\"barpolar\"}],\"carpet\":[{\"aaxis\":{\"endlinecolor\":\"#2a3f5f\",\"gridcolor\":\"white\",\"linecolor\":\"white\",\"minorgridcolor\":\"white\",\"startlinecolor\":\"#2a3f5f\"},\"baxis\":{\"endlinecolor\":\"#2a3f5f\",\"gridcolor\":\"white\",\"linecolor\":\"white\",\"minorgridcolor\":\"white\",\"startlinecolor\":\"#2a3f5f\"},\"type\":\"carpet\"}],\"choropleth\":[{\"colorbar\":{\"outlinewidth\":0,\"ticks\":\"\"},\"type\":\"choropleth\"}],\"contour\":[{\"colorbar\":{\"outlinewidth\":0,\"ticks\":\"\"},\"colorscale\":[[0.0,\"#0d0887\"],[0.1111111111111111,\"#46039f\"],[0.2222222222222222,\"#7201a8\"],[0.3333333333333333,\"#9c179e\"],[0.4444444444444444,\"#bd3786\"],[0.5555555555555556,\"#d8576b\"],[0.6666666666666666,\"#ed7953\"],[0.7777777777777778,\"#fb9f3a\"],[0.8888888888888888,\"#fdca26\"],[1.0,\"#f0f921\"]],\"type\":\"contour\"}],\"contourcarpet\":[{\"colorbar\":{\"outlinewidth\":0,\"ticks\":\"\"},\"type\":\"contourcarpet\"}],\"heatmap\":[{\"colorbar\":{\"outlinewidth\":0,\"ticks\":\"\"},\"colorscale\":[[0.0,\"#0d0887\"],[0.1111111111111111,\"#46039f\"],[0.2222222222222222,\"#7201a8\"],[0.3333333333333333,\"#9c179e\"],[0.4444444444444444,\"#bd3786\"],[0.5555555555555556,\"#d8576b\"],[0.6666666666666666,\"#ed7953\"],[0.7777777777777778,\"#fb9f3a\"],[0.8888888888888888,\"#fdca26\"],[1.0,\"#f0f921\"]],\"type\":\"heatmap\"}],\"heatmapgl\":[{\"colorbar\":{\"outlinewidth\":0,\"ticks\":\"\"},\"colorscale\":[[0.0,\"#0d0887\"],[0.1111111111111111,\"#46039f\"],[0.2222222222222222,\"#7201a8\"],[0.3333333333333333,\"#9c179e\"],[0.4444444444444444,\"#bd3786\"],[0.5555555555555556,\"#d8576b\"],[0.6666666666666666,\"#ed7953\"],[0.7777777777777778,\"#fb9f3a\"],[0.8888888888888888,\"#fdca26\"],[1.0,\"#f0f921\"]],\"type\":\"heatmapgl\"}],\"histogram\":[{\"marker\":{\"pattern\":{\"fillmode\":\"overlay\",\"size\":10,\"solidity\":0.2}},\"type\":\"histogram\"}],\"histogram2d\":[{\"colorbar\":{\"outlinewidth\":0,\"ticks\":\"\"},\"colorscale\":[[0.0,\"#0d0887\"],[0.1111111111111111,\"#46039f\"],[0.2222222222222222,\"#7201a8\"],[0.3333333333333333,\"#9c179e\"],[0.4444444444444444,\"#bd3786\"],[0.5555555555555556,\"#d8576b\"],[0.6666666666666666,\"#ed7953\"],[0.7777777777777778,\"#fb9f3a\"],[0.8888888888888888,\"#fdca26\"],[1.0,\"#f0f921\"]],\"type\":\"histogram2d\"}],\"histogram2dcontour\":[{\"colorbar\":{\"outlinewidth\":0,\"ticks\":\"\"},\"colorscale\":[[0.0,\"#0d0887\"],[0.1111111111111111,\"#46039f\"],[0.2222222222222222,\"#7201a8\"],[0.3333333333333333,\"#9c179e\"],[0.4444444444444444,\"#bd3786\"],[0.5555555555555556,\"#d8576b\"],[0.6666666666666666,\"#ed7953\"],[0.7777777777777778,\"#fb9f3a\"],[0.8888888888888888,\"#fdca26\"],[1.0,\"#f0f921\"]],\"type\":\"histogram2dcontour\"}],\"mesh3d\":[{\"colorbar\":{\"outlinewidth\":0,\"ticks\":\"\"},\"type\":\"mesh3d\"}],\"parcoords\":[{\"line\":{\"colorbar\":{\"outlinewidth\":0,\"ticks\":\"\"}},\"type\":\"parcoords\"}],\"pie\":[{\"automargin\":true,\"type\":\"pie\"}],\"scatter\":[{\"marker\":{\"colorbar\":{\"outlinewidth\":0,\"ticks\":\"\"}},\"type\":\"scatter\"}],\"scatter3d\":[{\"line\":{\"colorbar\":{\"outlinewidth\":0,\"ticks\":\"\"}},\"marker\":{\"colorbar\":{\"outlinewidth\":0,\"ticks\":\"\"}},\"type\":\"scatter3d\"}],\"scattercarpet\":[{\"marker\":{\"colorbar\":{\"outlinewidth\":0,\"ticks\":\"\"}},\"type\":\"scattercarpet\"}],\"scattergeo\":[{\"marker\":{\"colorbar\":{\"outlinewidth\":0,\"ticks\":\"\"}},\"type\":\"scattergeo\"}],\"scattergl\":[{\"marker\":{\"colorbar\":{\"outlinewidth\":0,\"ticks\":\"\"}},\"type\":\"scattergl\"}],\"scattermapbox\":[{\"marker\":{\"colorbar\":{\"outlinewidth\":0,\"ticks\":\"\"}},\"type\":\"scattermapbox\"}],\"scatterpolar\":[{\"marker\":{\"colorbar\":{\"outlinewidth\":0,\"ticks\":\"\"}},\"type\":\"scatterpolar\"}],\"scatterpolargl\":[{\"marker\":{\"colorbar\":{\"outlinewidth\":0,\"ticks\":\"\"}},\"type\":\"scatterpolargl\"}],\"scatterternary\":[{\"marker\":{\"colorbar\":{\"outlinewidth\":0,\"ticks\":\"\"}},\"type\":\"scatterternary\"}],\"surface\":[{\"colorbar\":{\"outlinewidth\":0,\"ticks\":\"\"},\"colorscale\":[[0.0,\"#0d0887\"],[0.1111111111111111,\"#46039f\"],[0.2222222222222222,\"#7201a8\"],[0.3333333333333333,\"#9c179e\"],[0.4444444444444444,\"#bd3786\"],[0.5555555555555556,\"#d8576b\"],[0.6666666666666666,\"#ed7953\"],[0.7777777777777778,\"#fb9f3a\"],[0.8888888888888888,\"#fdca26\"],[1.0,\"#f0f921\"]],\"type\":\"surface\"}],\"table\":[{\"cells\":{\"fill\":{\"color\":\"#EBF0F8\"},\"line\":{\"color\":\"white\"}},\"header\":{\"fill\":{\"color\":\"#C8D4E3\"},\"line\":{\"color\":\"white\"}},\"type\":\"table\"}]},\"layout\":{\"annotationdefaults\":{\"arrowcolor\":\"#2a3f5f\",\"arrowhead\":0,\"arrowwidth\":1},\"autotypenumbers\":\"strict\",\"coloraxis\":{\"colorbar\":{\"outlinewidth\":0,\"ticks\":\"\"}},\"colorscale\":{\"diverging\":[[0,\"#8e0152\"],[0.1,\"#c51b7d\"],[0.2,\"#de77ae\"],[0.3,\"#f1b6da\"],[0.4,\"#fde0ef\"],[0.5,\"#f7f7f7\"],[0.6,\"#e6f5d0\"],[0.7,\"#b8e186\"],[0.8,\"#7fbc41\"],[0.9,\"#4d9221\"],[1,\"#276419\"]],\"sequential\":[[0.0,\"#0d0887\"],[0.1111111111111111,\"#46039f\"],[0.2222222222222222,\"#7201a8\"],[0.3333333333333333,\"#9c179e\"],[0.4444444444444444,\"#bd3786\"],[0.5555555555555556,\"#d8576b\"],[0.6666666666666666,\"#ed7953\"],[0.7777777777777778,\"#fb9f3a\"],[0.8888888888888888,\"#fdca26\"],[1.0,\"#f0f921\"]],\"sequentialminus\":[[0.0,\"#0d0887\"],[0.1111111111111111,\"#46039f\"],[0.2222222222222222,\"#7201a8\"],[0.3333333333333333,\"#9c179e\"],[0.4444444444444444,\"#bd3786\"],[0.5555555555555556,\"#d8576b\"],[0.6666666666666666,\"#ed7953\"],[0.7777777777777778,\"#fb9f3a\"],[0.8888888888888888,\"#fdca26\"],[1.0,\"#f0f921\"]]},\"colorway\":[\"#636efa\",\"#EF553B\",\"#00cc96\",\"#ab63fa\",\"#FFA15A\",\"#19d3f3\",\"#FF6692\",\"#B6E880\",\"#FF97FF\",\"#FECB52\"],\"font\":{\"color\":\"#2a3f5f\"},\"geo\":{\"bgcolor\":\"white\",\"lakecolor\":\"white\",\"landcolor\":\"#E5ECF6\",\"showlakes\":true,\"showland\":true,\"subunitcolor\":\"white\"},\"hoverlabel\":{\"align\":\"left\"},\"hovermode\":\"closest\",\"mapbox\":{\"style\":\"light\"},\"paper_bgcolor\":\"white\",\"plot_bgcolor\":\"#E5ECF6\",\"polar\":{\"angularaxis\":{\"gridcolor\":\"white\",\"linecolor\":\"white\",\"ticks\":\"\"},\"bgcolor\":\"#E5ECF6\",\"radialaxis\":{\"gridcolor\":\"white\",\"linecolor\":\"white\",\"ticks\":\"\"}},\"scene\":{\"xaxis\":{\"backgroundcolor\":\"#E5ECF6\",\"gridcolor\":\"white\",\"gridwidth\":2,\"linecolor\":\"white\",\"showbackground\":true,\"ticks\":\"\",\"zerolinecolor\":\"white\"},\"yaxis\":{\"backgroundcolor\":\"#E5ECF6\",\"gridcolor\":\"white\",\"gridwidth\":2,\"linecolor\":\"white\",\"showbackground\":true,\"ticks\":\"\",\"zerolinecolor\":\"white\"},\"zaxis\":{\"backgroundcolor\":\"#E5ECF6\",\"gridcolor\":\"white\",\"gridwidth\":2,\"linecolor\":\"white\",\"showbackground\":true,\"ticks\":\"\",\"zerolinecolor\":\"white\"}},\"shapedefaults\":{\"line\":{\"color\":\"#2a3f5f\"}},\"ternary\":{\"aaxis\":{\"gridcolor\":\"white\",\"linecolor\":\"white\",\"ticks\":\"\"},\"baxis\":{\"gridcolor\":\"white\",\"linecolor\":\"white\",\"ticks\":\"\"},\"bgcolor\":\"#E5ECF6\",\"caxis\":{\"gridcolor\":\"white\",\"linecolor\":\"white\",\"ticks\":\"\"}},\"title\":{\"x\":0.05},\"xaxis\":{\"automargin\":true,\"gridcolor\":\"white\",\"linecolor\":\"white\",\"ticks\":\"\",\"title\":{\"standoff\":15},\"zerolinecolor\":\"white\",\"zerolinewidth\":2},\"yaxis\":{\"automargin\":true,\"gridcolor\":\"white\",\"linecolor\":\"white\",\"ticks\":\"\",\"title\":{\"standoff\":15},\"zerolinecolor\":\"white\",\"zerolinewidth\":2}}},\"xaxis\":{\"anchor\":\"y\",\"domain\":[0.0,1.0],\"title\":{\"text\":\"MasVnrType\"},\"categoryorder\":\"array\",\"categoryarray\":[\"BrkFace\",\"None\",\"Stone\",\"BrkCmn\"]},\"yaxis\":{\"anchor\":\"x\",\"domain\":[0.0,1.0],\"title\":{\"text\":\"MasVnrArea\"}},\"legend\":{\"title\":{\"text\":\"MasVnrType\"},\"tracegroupgap\":0},\"margin\":{\"t\":60},\"boxmode\":\"overlay\",\"height\":400,\"width\":800},                        {\"responsive\": true}                    ).then(function(){\n",
              "                            \n",
              "var gd = document.getElementById('946e3f24-2a1f-43cf-8a40-364c2f433de9');\n",
              "var x = new MutationObserver(function (mutations, observer) {{\n",
              "        var display = window.getComputedStyle(gd).display;\n",
              "        if (!display || display === 'none') {{\n",
              "            console.log([gd, 'removed!']);\n",
              "            Plotly.purge(gd);\n",
              "            observer.disconnect();\n",
              "        }}\n",
              "}});\n",
              "\n",
              "// Listen for the removal of the full notebook cells\n",
              "var notebookContainer = gd.closest('#notebook-container');\n",
              "if (notebookContainer) {{\n",
              "    x.observe(notebookContainer, {childList: true});\n",
              "}}\n",
              "\n",
              "// Listen for the clearing of the current output cell\n",
              "var outputEl = gd.closest('.output');\n",
              "if (outputEl) {{\n",
              "    x.observe(outputEl, {childList: true});\n",
              "}}\n",
              "\n",
              "                        })                };                            </script>        </div>\n",
              "</body>\n",
              "</html>"
            ]
          },
          "metadata": {}
        },
        {
          "output_type": "stream",
          "name": "stdout",
          "text": [
            "                  sum_sq      df           F  PR(>F)\n",
            "MasVnrType  4.518340e+07     3.0  908.909447     0.0\n",
            "Residual    4.792204e+07  2892.0         NaN     NaN\n"
          ]
        }
      ],
      "source": [
        "fig = px.box(all_features, x='MasVnrType', y='MasVnrArea', color='MasVnrType', width=800, height=400)\n",
        "fig.show()\n",
        "\n",
        "import statsmodels.api as sm\n",
        "from statsmodels.formula.api import ols\n",
        "model = ols('MasVnrArea ~ MasVnrType', data=all_features).fit()\n",
        "anova_table = sm.stats.anova_lm(model, typ=2)\n",
        "print(anova_table)"
      ]
    },
    {
      "cell_type": "code",
      "execution_count": null,
      "metadata": {
        "colab": {
          "base_uri": "https://localhost:8080/",
          "height": 470
        },
        "id": "r0j-zukJ7X4c",
        "outputId": "f04eae5b-c9f1-4464-a9e2-3e11af3e8dbb"
      },
      "outputs": [
        {
          "output_type": "display_data",
          "data": {
            "text/html": [
              "<html>\n",
              "<head><meta charset=\"utf-8\" /></head>\n",
              "<body>\n",
              "    <div>            <script src=\"https://cdnjs.cloudflare.com/ajax/libs/mathjax/2.7.5/MathJax.js?config=TeX-AMS-MML_SVG\"></script><script type=\"text/javascript\">if (window.MathJax) {MathJax.Hub.Config({SVG: {font: \"STIX-Web\"}});}</script>                <script type=\"text/javascript\">window.PlotlyConfig = {MathJaxConfig: 'local'};</script>\n",
              "        <script src=\"https://cdn.plot.ly/plotly-2.8.3.min.js\"></script>                <div id=\"c45b0044-e8ac-46b4-ac42-f13913c82186\" class=\"plotly-graph-div\" style=\"height:400px; width:800px;\"></div>            <script type=\"text/javascript\">                                    window.PLOTLYENV=window.PLOTLYENV || {};                                    if (document.getElementById(\"c45b0044-e8ac-46b4-ac42-f13913c82186\")) {                    Plotly.newPlot(                        \"c45b0044-e8ac-46b4-ac42-f13913c82186\",                        [{\"alignmentgroup\":\"True\",\"hovertemplate\":\"GarageType=%{x}<br>GarageArea=%{y}<extra></extra>\",\"legendgroup\":\"Attchd\",\"marker\":{\"color\":\"#636efa\"},\"name\":\"Attchd\",\"notched\":false,\"offsetgroup\":\"Attchd\",\"orientation\":\"v\",\"showlegend\":true,\"x\":[\"Attchd\",\"Attchd\",\"Attchd\",\"Attchd\",\"Attchd\",\"Attchd\",\"Attchd\",\"Attchd\",\"Attchd\",\"Attchd\",\"Attchd\",\"Attchd\",\"Attchd\",\"Attchd\",\"Attchd\",\"Attchd\",\"Attchd\",\"Attchd\",\"Attchd\",\"Attchd\",\"Attchd\",\"Attchd\",\"Attchd\",\"Attchd\",\"Attchd\",\"Attchd\",\"Attchd\",\"Attchd\",\"Attchd\",\"Attchd\",\"Attchd\",\"Attchd\",\"Attchd\",\"Attchd\",\"Attchd\",\"Attchd\",\"Attchd\",\"Attchd\",\"Attchd\",\"Attchd\",\"Attchd\",\"Attchd\",\"Attchd\",\"Attchd\",\"Attchd\",\"Attchd\",\"Attchd\",\"Attchd\",\"Attchd\",\"Attchd\",\"Attchd\",\"Attchd\",\"Attchd\",\"Attchd\",\"Attchd\",\"Attchd\",\"Attchd\",\"Attchd\",\"Attchd\",\"Attchd\",\"Attchd\",\"Attchd\",\"Attchd\",\"Attchd\",\"Attchd\",\"Attchd\",\"Attchd\",\"Attchd\",\"Attchd\",\"Attchd\",\"Attchd\",\"Attchd\",\"Attchd\",\"Attchd\",\"Attchd\",\"Attchd\",\"Attchd\",\"Attchd\",\"Attchd\",\"Attchd\",\"Attchd\",\"Attchd\",\"Attchd\",\"Attchd\",\"Attchd\",\"Attchd\",\"Attchd\",\"Attchd\",\"Attchd\",\"Attchd\",\"Attchd\",\"Attchd\",\"Attchd\",\"Attchd\",\"Attchd\",\"Attchd\",\"Attchd\",\"Attchd\",\"Attchd\",\"Attchd\",\"Attchd\",\"Attchd\",\"Attchd\",\"Attchd\",\"Attchd\",\"Attchd\",\"Attchd\",\"Attchd\",\"Attchd\",\"Attchd\",\"Attchd\",\"Attchd\",\"Attchd\",\"Attchd\",\"Attchd\",\"Attchd\",\"Attchd\",\"Attchd\",\"Attchd\",\"Attchd\",\"Attchd\",\"Attchd\",\"Attchd\",\"Attchd\",\"Attchd\",\"Attchd\",\"Attchd\",\"Attchd\",\"Attchd\",\"Attchd\",\"Attchd\",\"Attchd\",\"Attchd\",\"Attchd\",\"Attchd\",\"Attchd\",\"Attchd\",\"Attchd\",\"Attchd\",\"Attchd\",\"Attchd\",\"Attchd\",\"Attchd\",\"Attchd\",\"Attchd\",\"Attchd\",\"Attchd\",\"Attchd\",\"Attchd\",\"Attchd\",\"Attchd\",\"Attchd\",\"Attchd\",\"Attchd\",\"Attchd\",\"Attchd\",\"Attchd\",\"Attchd\",\"Attchd\",\"Attchd\",\"Attchd\",\"Attchd\",\"Attchd\",\"Attchd\",\"Attchd\",\"Attchd\",\"Attchd\",\"Attchd\",\"Attchd\",\"Attchd\",\"Attchd\",\"Attchd\",\"Attchd\",\"Attchd\",\"Attchd\",\"Attchd\",\"Attchd\",\"Attchd\",\"Attchd\",\"Attchd\",\"Attchd\",\"Attchd\",\"Attchd\",\"Attchd\",\"Attchd\",\"Attchd\",\"Attchd\",\"Attchd\",\"Attchd\",\"Attchd\",\"Attchd\",\"Attchd\",\"Attchd\",\"Attchd\",\"Attchd\",\"Attchd\",\"Attchd\",\"Attchd\",\"Attchd\",\"Attchd\",\"Attchd\",\"Attchd\",\"Attchd\",\"Attchd\",\"Attchd\",\"Attchd\",\"Attchd\",\"Attchd\",\"Attchd\",\"Attchd\",\"Attchd\",\"Attchd\",\"Attchd\",\"Attchd\",\"Attchd\",\"Attchd\",\"Attchd\",\"Attchd\",\"Attchd\",\"Attchd\",\"Attchd\",\"Attchd\",\"Attchd\",\"Attchd\",\"Attchd\",\"Attchd\",\"Attchd\",\"Attchd\",\"Attchd\",\"Attchd\",\"Attchd\",\"Attchd\",\"Attchd\",\"Attchd\",\"Attchd\",\"Attchd\",\"Attchd\",\"Attchd\",\"Attchd\",\"Attchd\",\"Attchd\",\"Attchd\",\"Attchd\",\"Attchd\",\"Attchd\",\"Attchd\",\"Attchd\",\"Attchd\",\"Attchd\",\"Attchd\",\"Attchd\",\"Attchd\",\"Attchd\",\"Attchd\",\"Attchd\",\"Attchd\",\"Attchd\",\"Attchd\",\"Attchd\",\"Attchd\",\"Attchd\",\"Attchd\",\"Attchd\",\"Attchd\",\"Attchd\",\"Attchd\",\"Attchd\",\"Attchd\",\"Attchd\",\"Attchd\",\"Attchd\",\"Attchd\",\"Attchd\",\"Attchd\",\"Attchd\",\"Attchd\",\"Attchd\",\"Attchd\",\"Attchd\",\"Attchd\",\"Attchd\",\"Attchd\",\"Attchd\",\"Attchd\",\"Attchd\",\"Attchd\",\"Attchd\",\"Attchd\",\"Attchd\",\"Attchd\",\"Attchd\",\"Attchd\",\"Attchd\",\"Attchd\",\"Attchd\",\"Attchd\",\"Attchd\",\"Attchd\",\"Attchd\",\"Attchd\",\"Attchd\",\"Attchd\",\"Attchd\",\"Attchd\",\"Attchd\",\"Attchd\",\"Attchd\",\"Attchd\",\"Attchd\",\"Attchd\",\"Attchd\",\"Attchd\",\"Attchd\",\"Attchd\",\"Attchd\",\"Attchd\",\"Attchd\",\"Attchd\",\"Attchd\",\"Attchd\",\"Attchd\",\"Attchd\",\"Attchd\",\"Attchd\",\"Attchd\",\"Attchd\",\"Attchd\",\"Attchd\",\"Attchd\",\"Attchd\",\"Attchd\",\"Attchd\",\"Attchd\",\"Attchd\",\"Attchd\",\"Attchd\",\"Attchd\",\"Attchd\",\"Attchd\",\"Attchd\",\"Attchd\",\"Attchd\",\"Attchd\",\"Attchd\",\"Attchd\",\"Attchd\",\"Attchd\",\"Attchd\",\"Attchd\",\"Attchd\",\"Attchd\",\"Attchd\",\"Attchd\",\"Attchd\",\"Attchd\",\"Attchd\",\"Attchd\",\"Attchd\",\"Attchd\",\"Attchd\",\"Attchd\",\"Attchd\",\"Attchd\",\"Attchd\",\"Attchd\",\"Attchd\",\"Attchd\",\"Attchd\",\"Attchd\",\"Attchd\",\"Attchd\",\"Attchd\",\"Attchd\",\"Attchd\",\"Attchd\",\"Attchd\",\"Attchd\",\"Attchd\",\"Attchd\",\"Attchd\",\"Attchd\",\"Attchd\",\"Attchd\",\"Attchd\",\"Attchd\",\"Attchd\",\"Attchd\",\"Attchd\",\"Attchd\",\"Attchd\",\"Attchd\",\"Attchd\",\"Attchd\",\"Attchd\",\"Attchd\",\"Attchd\",\"Attchd\",\"Attchd\",\"Attchd\",\"Attchd\",\"Attchd\",\"Attchd\",\"Attchd\",\"Attchd\",\"Attchd\",\"Attchd\",\"Attchd\",\"Attchd\",\"Attchd\",\"Attchd\",\"Attchd\",\"Attchd\",\"Attchd\",\"Attchd\",\"Attchd\",\"Attchd\",\"Attchd\",\"Attchd\",\"Attchd\",\"Attchd\",\"Attchd\",\"Attchd\",\"Attchd\",\"Attchd\",\"Attchd\",\"Attchd\",\"Attchd\",\"Attchd\",\"Attchd\",\"Attchd\",\"Attchd\",\"Attchd\",\"Attchd\",\"Attchd\",\"Attchd\",\"Attchd\",\"Attchd\",\"Attchd\",\"Attchd\",\"Attchd\",\"Attchd\",\"Attchd\",\"Attchd\",\"Attchd\",\"Attchd\",\"Attchd\",\"Attchd\",\"Attchd\",\"Attchd\",\"Attchd\",\"Attchd\",\"Attchd\",\"Attchd\",\"Attchd\",\"Attchd\",\"Attchd\",\"Attchd\",\"Attchd\",\"Attchd\",\"Attchd\",\"Attchd\",\"Attchd\",\"Attchd\",\"Attchd\",\"Attchd\",\"Attchd\",\"Attchd\",\"Attchd\",\"Attchd\",\"Attchd\",\"Attchd\",\"Attchd\",\"Attchd\",\"Attchd\",\"Attchd\",\"Attchd\",\"Attchd\",\"Attchd\",\"Attchd\",\"Attchd\",\"Attchd\",\"Attchd\",\"Attchd\",\"Attchd\",\"Attchd\",\"Attchd\",\"Attchd\",\"Attchd\",\"Attchd\",\"Attchd\",\"Attchd\",\"Attchd\",\"Attchd\",\"Attchd\",\"Attchd\",\"Attchd\",\"Attchd\",\"Attchd\",\"Attchd\",\"Attchd\",\"Attchd\",\"Attchd\",\"Attchd\",\"Attchd\",\"Attchd\",\"Attchd\",\"Attchd\",\"Attchd\",\"Attchd\",\"Attchd\",\"Attchd\",\"Attchd\",\"Attchd\",\"Attchd\",\"Attchd\",\"Attchd\",\"Attchd\",\"Attchd\",\"Attchd\",\"Attchd\",\"Attchd\",\"Attchd\",\"Attchd\",\"Attchd\",\"Attchd\",\"Attchd\",\"Attchd\",\"Attchd\",\"Attchd\",\"Attchd\",\"Attchd\",\"Attchd\",\"Attchd\",\"Attchd\",\"Attchd\",\"Attchd\",\"Attchd\",\"Attchd\",\"Attchd\",\"Attchd\",\"Attchd\",\"Attchd\",\"Attchd\",\"Attchd\",\"Attchd\",\"Attchd\",\"Attchd\",\"Attchd\",\"Attchd\",\"Attchd\",\"Attchd\",\"Attchd\",\"Attchd\",\"Attchd\",\"Attchd\",\"Attchd\",\"Attchd\",\"Attchd\",\"Attchd\",\"Attchd\",\"Attchd\",\"Attchd\",\"Attchd\",\"Attchd\",\"Attchd\",\"Attchd\",\"Attchd\",\"Attchd\",\"Attchd\",\"Attchd\",\"Attchd\",\"Attchd\",\"Attchd\",\"Attchd\",\"Attchd\",\"Attchd\",\"Attchd\",\"Attchd\",\"Attchd\",\"Attchd\",\"Attchd\",\"Attchd\",\"Attchd\",\"Attchd\",\"Attchd\",\"Attchd\",\"Attchd\",\"Attchd\",\"Attchd\",\"Attchd\",\"Attchd\",\"Attchd\",\"Attchd\",\"Attchd\",\"Attchd\",\"Attchd\",\"Attchd\",\"Attchd\",\"Attchd\",\"Attchd\",\"Attchd\",\"Attchd\",\"Attchd\",\"Attchd\",\"Attchd\",\"Attchd\",\"Attchd\",\"Attchd\",\"Attchd\",\"Attchd\",\"Attchd\",\"Attchd\",\"Attchd\",\"Attchd\",\"Attchd\",\"Attchd\",\"Attchd\",\"Attchd\",\"Attchd\",\"Attchd\",\"Attchd\",\"Attchd\",\"Attchd\",\"Attchd\",\"Attchd\",\"Attchd\",\"Attchd\",\"Attchd\",\"Attchd\",\"Attchd\",\"Attchd\",\"Attchd\",\"Attchd\",\"Attchd\",\"Attchd\",\"Attchd\",\"Attchd\",\"Attchd\",\"Attchd\",\"Attchd\",\"Attchd\",\"Attchd\",\"Attchd\",\"Attchd\",\"Attchd\",\"Attchd\",\"Attchd\",\"Attchd\",\"Attchd\",\"Attchd\",\"Attchd\",\"Attchd\",\"Attchd\",\"Attchd\",\"Attchd\",\"Attchd\",\"Attchd\",\"Attchd\",\"Attchd\",\"Attchd\",\"Attchd\",\"Attchd\",\"Attchd\",\"Attchd\",\"Attchd\",\"Attchd\",\"Attchd\",\"Attchd\",\"Attchd\",\"Attchd\",\"Attchd\",\"Attchd\",\"Attchd\",\"Attchd\",\"Attchd\",\"Attchd\",\"Attchd\",\"Attchd\",\"Attchd\",\"Attchd\",\"Attchd\",\"Attchd\",\"Attchd\",\"Attchd\",\"Attchd\",\"Attchd\",\"Attchd\",\"Attchd\",\"Attchd\",\"Attchd\",\"Attchd\",\"Attchd\",\"Attchd\",\"Attchd\",\"Attchd\",\"Attchd\",\"Attchd\",\"Attchd\",\"Attchd\",\"Attchd\",\"Attchd\",\"Attchd\",\"Attchd\",\"Attchd\",\"Attchd\",\"Attchd\",\"Attchd\",\"Attchd\",\"Attchd\",\"Attchd\",\"Attchd\",\"Attchd\",\"Attchd\",\"Attchd\",\"Attchd\",\"Attchd\",\"Attchd\",\"Attchd\",\"Attchd\",\"Attchd\",\"Attchd\",\"Attchd\",\"Attchd\",\"Attchd\",\"Attchd\",\"Attchd\",\"Attchd\",\"Attchd\",\"Attchd\",\"Attchd\",\"Attchd\",\"Attchd\",\"Attchd\",\"Attchd\",\"Attchd\",\"Attchd\",\"Attchd\",\"Attchd\",\"Attchd\",\"Attchd\",\"Attchd\",\"Attchd\",\"Attchd\",\"Attchd\",\"Attchd\",\"Attchd\",\"Attchd\",\"Attchd\",\"Attchd\",\"Attchd\",\"Attchd\",\"Attchd\",\"Attchd\",\"Attchd\",\"Attchd\",\"Attchd\",\"Attchd\",\"Attchd\",\"Attchd\",\"Attchd\",\"Attchd\",\"Attchd\",\"Attchd\",\"Attchd\",\"Attchd\",\"Attchd\",\"Attchd\",\"Attchd\",\"Attchd\",\"Attchd\",\"Attchd\",\"Attchd\",\"Attchd\",\"Attchd\",\"Attchd\",\"Attchd\",\"Attchd\",\"Attchd\",\"Attchd\",\"Attchd\",\"Attchd\",\"Attchd\",\"Attchd\",\"Attchd\",\"Attchd\",\"Attchd\",\"Attchd\",\"Attchd\",\"Attchd\",\"Attchd\",\"Attchd\",\"Attchd\",\"Attchd\",\"Attchd\",\"Attchd\",\"Attchd\",\"Attchd\",\"Attchd\",\"Attchd\",\"Attchd\",\"Attchd\",\"Attchd\",\"Attchd\",\"Attchd\",\"Attchd\",\"Attchd\",\"Attchd\",\"Attchd\",\"Attchd\",\"Attchd\",\"Attchd\",\"Attchd\",\"Attchd\",\"Attchd\",\"Attchd\",\"Attchd\",\"Attchd\",\"Attchd\",\"Attchd\",\"Attchd\",\"Attchd\",\"Attchd\",\"Attchd\",\"Attchd\",\"Attchd\",\"Attchd\",\"Attchd\",\"Attchd\",\"Attchd\",\"Attchd\",\"Attchd\",\"Attchd\",\"Attchd\",\"Attchd\",\"Attchd\",\"Attchd\",\"Attchd\",\"Attchd\",\"Attchd\",\"Attchd\",\"Attchd\",\"Attchd\",\"Attchd\",\"Attchd\",\"Attchd\",\"Attchd\",\"Attchd\",\"Attchd\",\"Attchd\",\"Attchd\",\"Attchd\",\"Attchd\",\"Attchd\",\"Attchd\",\"Attchd\",\"Attchd\",\"Attchd\",\"Attchd\",\"Attchd\",\"Attchd\",\"Attchd\",\"Attchd\",\"Attchd\",\"Attchd\",\"Attchd\",\"Attchd\",\"Attchd\",\"Attchd\",\"Attchd\",\"Attchd\",\"Attchd\",\"Attchd\",\"Attchd\",\"Attchd\",\"Attchd\",\"Attchd\",\"Attchd\",\"Attchd\",\"Attchd\",\"Attchd\",\"Attchd\",\"Attchd\",\"Attchd\",\"Attchd\",\"Attchd\",\"Attchd\",\"Attchd\",\"Attchd\",\"Attchd\",\"Attchd\",\"Attchd\",\"Attchd\",\"Attchd\",\"Attchd\",\"Attchd\",\"Attchd\",\"Attchd\",\"Attchd\",\"Attchd\",\"Attchd\",\"Attchd\",\"Attchd\",\"Attchd\",\"Attchd\",\"Attchd\",\"Attchd\",\"Attchd\",\"Attchd\",\"Attchd\",\"Attchd\",\"Attchd\",\"Attchd\",\"Attchd\",\"Attchd\",\"Attchd\",\"Attchd\",\"Attchd\",\"Attchd\",\"Attchd\",\"Attchd\",\"Attchd\",\"Attchd\",\"Attchd\",\"Attchd\",\"Attchd\",\"Attchd\",\"Attchd\",\"Attchd\",\"Attchd\",\"Attchd\",\"Attchd\",\"Attchd\",\"Attchd\",\"Attchd\",\"Attchd\",\"Attchd\",\"Attchd\",\"Attchd\",\"Attchd\",\"Attchd\",\"Attchd\",\"Attchd\",\"Attchd\",\"Attchd\",\"Attchd\",\"Attchd\",\"Attchd\",\"Attchd\",\"Attchd\",\"Attchd\",\"Attchd\",\"Attchd\",\"Attchd\",\"Attchd\",\"Attchd\",\"Attchd\",\"Attchd\",\"Attchd\",\"Attchd\",\"Attchd\",\"Attchd\",\"Attchd\",\"Attchd\",\"Attchd\",\"Attchd\",\"Attchd\",\"Attchd\",\"Attchd\",\"Attchd\",\"Attchd\",\"Attchd\",\"Attchd\",\"Attchd\",\"Attchd\",\"Attchd\",\"Attchd\",\"Attchd\",\"Attchd\",\"Attchd\",\"Attchd\",\"Attchd\",\"Attchd\",\"Attchd\",\"Attchd\",\"Attchd\",\"Attchd\",\"Attchd\",\"Attchd\",\"Attchd\",\"Attchd\",\"Attchd\",\"Attchd\",\"Attchd\",\"Attchd\",\"Attchd\",\"Attchd\",\"Attchd\",\"Attchd\",\"Attchd\",\"Attchd\",\"Attchd\",\"Attchd\",\"Attchd\",\"Attchd\",\"Attchd\",\"Attchd\",\"Attchd\",\"Attchd\",\"Attchd\",\"Attchd\",\"Attchd\",\"Attchd\",\"Attchd\",\"Attchd\",\"Attchd\",\"Attchd\",\"Attchd\",\"Attchd\",\"Attchd\",\"Attchd\",\"Attchd\",\"Attchd\",\"Attchd\",\"Attchd\",\"Attchd\",\"Attchd\",\"Attchd\",\"Attchd\",\"Attchd\",\"Attchd\",\"Attchd\",\"Attchd\",\"Attchd\",\"Attchd\",\"Attchd\",\"Attchd\",\"Attchd\",\"Attchd\",\"Attchd\",\"Attchd\",\"Attchd\",\"Attchd\",\"Attchd\",\"Attchd\",\"Attchd\",\"Attchd\",\"Attchd\",\"Attchd\",\"Attchd\",\"Attchd\",\"Attchd\",\"Attchd\",\"Attchd\",\"Attchd\",\"Attchd\",\"Attchd\",\"Attchd\",\"Attchd\",\"Attchd\",\"Attchd\",\"Attchd\",\"Attchd\",\"Attchd\",\"Attchd\",\"Attchd\",\"Attchd\",\"Attchd\",\"Attchd\",\"Attchd\",\"Attchd\",\"Attchd\",\"Attchd\",\"Attchd\",\"Attchd\",\"Attchd\",\"Attchd\",\"Attchd\",\"Attchd\",\"Attchd\",\"Attchd\",\"Attchd\",\"Attchd\",\"Attchd\",\"Attchd\",\"Attchd\",\"Attchd\",\"Attchd\",\"Attchd\",\"Attchd\",\"Attchd\",\"Attchd\",\"Attchd\",\"Attchd\",\"Attchd\",\"Attchd\",\"Attchd\",\"Attchd\",\"Attchd\",\"Attchd\",\"Attchd\",\"Attchd\",\"Attchd\",\"Attchd\",\"Attchd\",\"Attchd\",\"Attchd\",\"Attchd\",\"Attchd\",\"Attchd\",\"Attchd\",\"Attchd\",\"Attchd\",\"Attchd\",\"Attchd\",\"Attchd\",\"Attchd\",\"Attchd\",\"Attchd\",\"Attchd\",\"Attchd\",\"Attchd\",\"Attchd\",\"Attchd\",\"Attchd\",\"Attchd\",\"Attchd\",\"Attchd\",\"Attchd\",\"Attchd\",\"Attchd\",\"Attchd\",\"Attchd\",\"Attchd\",\"Attchd\",\"Attchd\",\"Attchd\",\"Attchd\",\"Attchd\",\"Attchd\",\"Attchd\",\"Attchd\",\"Attchd\",\"Attchd\",\"Attchd\",\"Attchd\",\"Attchd\",\"Attchd\",\"Attchd\",\"Attchd\",\"Attchd\",\"Attchd\",\"Attchd\",\"Attchd\",\"Attchd\",\"Attchd\",\"Attchd\",\"Attchd\",\"Attchd\",\"Attchd\",\"Attchd\",\"Attchd\",\"Attchd\",\"Attchd\",\"Attchd\",\"Attchd\",\"Attchd\",\"Attchd\",\"Attchd\",\"Attchd\",\"Attchd\",\"Attchd\",\"Attchd\",\"Attchd\",\"Attchd\",\"Attchd\",\"Attchd\",\"Attchd\",\"Attchd\",\"Attchd\",\"Attchd\",\"Attchd\",\"Attchd\",\"Attchd\",\"Attchd\",\"Attchd\",\"Attchd\",\"Attchd\",\"Attchd\",\"Attchd\",\"Attchd\",\"Attchd\",\"Attchd\",\"Attchd\",\"Attchd\",\"Attchd\",\"Attchd\",\"Attchd\",\"Attchd\",\"Attchd\",\"Attchd\",\"Attchd\",\"Attchd\",\"Attchd\",\"Attchd\",\"Attchd\",\"Attchd\",\"Attchd\",\"Attchd\",\"Attchd\",\"Attchd\",\"Attchd\",\"Attchd\",\"Attchd\",\"Attchd\",\"Attchd\",\"Attchd\",\"Attchd\",\"Attchd\",\"Attchd\",\"Attchd\",\"Attchd\",\"Attchd\",\"Attchd\",\"Attchd\",\"Attchd\",\"Attchd\",\"Attchd\",\"Attchd\",\"Attchd\",\"Attchd\",\"Attchd\",\"Attchd\",\"Attchd\",\"Attchd\",\"Attchd\",\"Attchd\",\"Attchd\",\"Attchd\",\"Attchd\",\"Attchd\",\"Attchd\",\"Attchd\",\"Attchd\",\"Attchd\",\"Attchd\",\"Attchd\",\"Attchd\",\"Attchd\",\"Attchd\",\"Attchd\",\"Attchd\",\"Attchd\",\"Attchd\",\"Attchd\",\"Attchd\",\"Attchd\",\"Attchd\",\"Attchd\",\"Attchd\",\"Attchd\",\"Attchd\",\"Attchd\",\"Attchd\",\"Attchd\",\"Attchd\",\"Attchd\",\"Attchd\",\"Attchd\",\"Attchd\",\"Attchd\",\"Attchd\",\"Attchd\",\"Attchd\",\"Attchd\",\"Attchd\",\"Attchd\",\"Attchd\",\"Attchd\",\"Attchd\",\"Attchd\",\"Attchd\",\"Attchd\",\"Attchd\",\"Attchd\",\"Attchd\",\"Attchd\",\"Attchd\",\"Attchd\",\"Attchd\",\"Attchd\",\"Attchd\",\"Attchd\",\"Attchd\",\"Attchd\",\"Attchd\",\"Attchd\",\"Attchd\",\"Attchd\",\"Attchd\",\"Attchd\",\"Attchd\",\"Attchd\",\"Attchd\",\"Attchd\",\"Attchd\",\"Attchd\",\"Attchd\",\"Attchd\",\"Attchd\",\"Attchd\",\"Attchd\",\"Attchd\",\"Attchd\",\"Attchd\",\"Attchd\",\"Attchd\",\"Attchd\",\"Attchd\",\"Attchd\",\"Attchd\",\"Attchd\",\"Attchd\",\"Attchd\",\"Attchd\",\"Attchd\",\"Attchd\",\"Attchd\",\"Attchd\",\"Attchd\",\"Attchd\",\"Attchd\",\"Attchd\",\"Attchd\",\"Attchd\",\"Attchd\",\"Attchd\",\"Attchd\",\"Attchd\",\"Attchd\",\"Attchd\",\"Attchd\",\"Attchd\",\"Attchd\",\"Attchd\",\"Attchd\",\"Attchd\",\"Attchd\",\"Attchd\",\"Attchd\",\"Attchd\",\"Attchd\",\"Attchd\",\"Attchd\",\"Attchd\",\"Attchd\",\"Attchd\",\"Attchd\",\"Attchd\",\"Attchd\",\"Attchd\",\"Attchd\",\"Attchd\",\"Attchd\",\"Attchd\",\"Attchd\",\"Attchd\",\"Attchd\",\"Attchd\",\"Attchd\",\"Attchd\",\"Attchd\",\"Attchd\",\"Attchd\",\"Attchd\",\"Attchd\",\"Attchd\",\"Attchd\",\"Attchd\",\"Attchd\",\"Attchd\",\"Attchd\",\"Attchd\",\"Attchd\",\"Attchd\",\"Attchd\",\"Attchd\",\"Attchd\",\"Attchd\",\"Attchd\",\"Attchd\",\"Attchd\",\"Attchd\",\"Attchd\",\"Attchd\",\"Attchd\",\"Attchd\",\"Attchd\",\"Attchd\",\"Attchd\",\"Attchd\",\"Attchd\",\"Attchd\",\"Attchd\",\"Attchd\",\"Attchd\",\"Attchd\",\"Attchd\",\"Attchd\",\"Attchd\",\"Attchd\",\"Attchd\",\"Attchd\",\"Attchd\",\"Attchd\",\"Attchd\",\"Attchd\",\"Attchd\",\"Attchd\",\"Attchd\",\"Attchd\",\"Attchd\",\"Attchd\",\"Attchd\",\"Attchd\",\"Attchd\",\"Attchd\",\"Attchd\",\"Attchd\",\"Attchd\",\"Attchd\",\"Attchd\",\"Attchd\",\"Attchd\",\"Attchd\",\"Attchd\",\"Attchd\",\"Attchd\",\"Attchd\",\"Attchd\",\"Attchd\",\"Attchd\",\"Attchd\",\"Attchd\",\"Attchd\",\"Attchd\",\"Attchd\",\"Attchd\",\"Attchd\",\"Attchd\",\"Attchd\",\"Attchd\",\"Attchd\",\"Attchd\",\"Attchd\",\"Attchd\",\"Attchd\",\"Attchd\",\"Attchd\",\"Attchd\",\"Attchd\",\"Attchd\",\"Attchd\",\"Attchd\",\"Attchd\",\"Attchd\",\"Attchd\",\"Attchd\",\"Attchd\",\"Attchd\",\"Attchd\",\"Attchd\",\"Attchd\",\"Attchd\",\"Attchd\",\"Attchd\",\"Attchd\",\"Attchd\",\"Attchd\",\"Attchd\",\"Attchd\",\"Attchd\",\"Attchd\",\"Attchd\",\"Attchd\",\"Attchd\",\"Attchd\",\"Attchd\",\"Attchd\",\"Attchd\",\"Attchd\",\"Attchd\",\"Attchd\",\"Attchd\",\"Attchd\",\"Attchd\",\"Attchd\",\"Attchd\",\"Attchd\",\"Attchd\",\"Attchd\",\"Attchd\",\"Attchd\",\"Attchd\",\"Attchd\",\"Attchd\",\"Attchd\",\"Attchd\",\"Attchd\",\"Attchd\",\"Attchd\",\"Attchd\",\"Attchd\",\"Attchd\",\"Attchd\",\"Attchd\",\"Attchd\",\"Attchd\",\"Attchd\",\"Attchd\",\"Attchd\",\"Attchd\",\"Attchd\",\"Attchd\",\"Attchd\",\"Attchd\",\"Attchd\",\"Attchd\",\"Attchd\",\"Attchd\",\"Attchd\",\"Attchd\",\"Attchd\",\"Attchd\",\"Attchd\",\"Attchd\",\"Attchd\",\"Attchd\",\"Attchd\",\"Attchd\",\"Attchd\",\"Attchd\",\"Attchd\",\"Attchd\",\"Attchd\",\"Attchd\",\"Attchd\",\"Attchd\",\"Attchd\",\"Attchd\",\"Attchd\",\"Attchd\",\"Attchd\",\"Attchd\",\"Attchd\",\"Attchd\",\"Attchd\",\"Attchd\",\"Attchd\",\"Attchd\",\"Attchd\",\"Attchd\",\"Attchd\",\"Attchd\",\"Attchd\",\"Attchd\",\"Attchd\",\"Attchd\",\"Attchd\",\"Attchd\",\"Attchd\",\"Attchd\",\"Attchd\",\"Attchd\",\"Attchd\",\"Attchd\",\"Attchd\",\"Attchd\",\"Attchd\",\"Attchd\",\"Attchd\",\"Attchd\",\"Attchd\",\"Attchd\",\"Attchd\",\"Attchd\",\"Attchd\",\"Attchd\",\"Attchd\",\"Attchd\",\"Attchd\",\"Attchd\",\"Attchd\",\"Attchd\",\"Attchd\",\"Attchd\",\"Attchd\",\"Attchd\",\"Attchd\",\"Attchd\",\"Attchd\",\"Attchd\",\"Attchd\",\"Attchd\",\"Attchd\",\"Attchd\",\"Attchd\",\"Attchd\",\"Attchd\",\"Attchd\",\"Attchd\",\"Attchd\",\"Attchd\",\"Attchd\",\"Attchd\",\"Attchd\",\"Attchd\",\"Attchd\",\"Attchd\",\"Attchd\",\"Attchd\",\"Attchd\",\"Attchd\",\"Attchd\",\"Attchd\",\"Attchd\",\"Attchd\",\"Attchd\",\"Attchd\",\"Attchd\",\"Attchd\",\"Attchd\",\"Attchd\",\"Attchd\",\"Attchd\",\"Attchd\",\"Attchd\",\"Attchd\",\"Attchd\",\"Attchd\",\"Attchd\",\"Attchd\",\"Attchd\",\"Attchd\",\"Attchd\",\"Attchd\",\"Attchd\",\"Attchd\",\"Attchd\",\"Attchd\",\"Attchd\",\"Attchd\",\"Attchd\",\"Attchd\",\"Attchd\",\"Attchd\",\"Attchd\",\"Attchd\",\"Attchd\",\"Attchd\",\"Attchd\",\"Attchd\",\"Attchd\",\"Attchd\",\"Attchd\",\"Attchd\",\"Attchd\",\"Attchd\",\"Attchd\",\"Attchd\",\"Attchd\",\"Attchd\",\"Attchd\",\"Attchd\",\"Attchd\",\"Attchd\",\"Attchd\",\"Attchd\",\"Attchd\",\"Attchd\",\"Attchd\",\"Attchd\",\"Attchd\",\"Attchd\",\"Attchd\",\"Attchd\",\"Attchd\",\"Attchd\",\"Attchd\",\"Attchd\",\"Attchd\",\"Attchd\",\"Attchd\",\"Attchd\",\"Attchd\",\"Attchd\",\"Attchd\",\"Attchd\",\"Attchd\",\"Attchd\",\"Attchd\",\"Attchd\",\"Attchd\",\"Attchd\",\"Attchd\",\"Attchd\",\"Attchd\",\"Attchd\",\"Attchd\",\"Attchd\",\"Attchd\",\"Attchd\",\"Attchd\",\"Attchd\",\"Attchd\",\"Attchd\",\"Attchd\",\"Attchd\",\"Attchd\",\"Attchd\",\"Attchd\",\"Attchd\",\"Attchd\",\"Attchd\"],\"x0\":\" \",\"xaxis\":\"x\",\"y\":[548.0,460.0,608.0,836.0,480.0,636.0,484.0,205.0,840.0,352.0,480.0,294.0,280.0,534.0,572.0,270.0,890.0,772.0,319.0,271.0,484.0,447.0,556.0,672.0,498.0,440.0,308.0,504.0,300.0,576.0,670.0,826.0,386.0,388.0,894.0,576.0,480.0,565.0,484.0,645.0,576.0,558.0,220.0,667.0,516.0,427.0,490.0,509.0,405.0,758.0,462.0,480.0,684.0,472.0,432.0,480.0,476.0,410.0,740.0,648.0,546.0,325.0,288.0,430.0,594.0,390.0,540.0,288.0,530.0,435.0,440.0,453.0,487.0,471.0,440.0,530.0,318.0,660.0,470.0,660.0,577.0,440.0,866.0,495.0,564.0,678.0,576.0,516.0,532.0,303.0,789.0,440.0,511.0,528.0,504.0,504.0,616.0,576.0,521.0,451.0,1166.0,252.0,576.0,497.0,682.0,484.0,666.0,440.0,786.0,856.0,440.0,398.0,420.0,500.0,349.0,312.0,454.0,504.0,460.0,644.0,576.0,299.0,447.0,484.0,431.0,438.0,675.0,434.0,968.0,721.0,430.0,312.0,810.0,288.0,308.0,494.0,457.0,818.0,750.0,352.0,288.0,463.0,604.0,451.0,500.0,389.0,538.0,520.0,309.0,294.0,673.0,660.0,564.0,884.0,492.0,576.0,413.0,504.0,1053.0,439.0,671.0,338.0,264.0,573.0,732.0,505.0,575.0,572.0,626.0,898.0,529.0,440.0,685.0,281.0,539.0,418.0,282.0,539.0,300.0,375.0,843.0,552.0,870.0,888.0,746.0,708.0,420.0,513.0,432.0,484.0,1025.0,656.0,588.0,840.0,576.0,220.0,473.0,292.0,308.0,880.0,484.0,472.0,529.0,676.0,532.0,440.0,297.0,431.0,564.0,336.0,301.0,498.0,706.0,617.0,445.0,240.0,521.0,400.0,528.0,592.0,470.0,566.0,514.0,244.0,460.0,264.0,270.0,610.0,834.0,463.0,572.0,639.0,501.0,430.0,577.0,294.0,596.0,264.0,438.0,500.0,400.0,490.0,308.0,947.0,836.0,350.0,572.0,484.0,678.0,396.0,440.0,304.0,784.0,529.0,520.0,696.0,297.0,569.0,628.0,576.0,470.0,550.0,672.0,648.0,493.0,480.0,578.0,431.0,576.0,422.0,676.0,528.0,529.0,398.0,526.0,312.0,866.0,506.0,528.0,534.0,908.0,499.0,508.0,826.0,772.0,874.0,164.0,402.0,264.0,515.0,487.0,520.0,286.0,240.0,429.0,273.0,546.0,288.0,297.0,603.0,484.0,440.0,471.0,676.0,270.0,474.0,484.0,900.0,583.0,889.0,546.0,336.0,834.0,453.0,252.0,858.0,484.0,600.0,403.0,527.0,336.0,670.0,765.0,583.0,367.0,426.0,786.0,440.0,288.0,908.0,299.0,406.0,420.0,418.0,590.0,532.0,288.0,650.0,564.0,352.0,572.0,1390.0,880.0,452.0,520.0,420.0,758.0,648.0,621.0,452.0,506.0,530.0,486.0,230.0,261.0,736.0,564.0,480.0,393.0,774.0,749.0,624.0,484.0,440.0,286.0,504.0,520.0,627.0,544.0,260.0,648.0,588.0,650.0,538.0,462.0,478.0,495.0,442.0,562.0,512.0,839.0,312.0,270.0,330.0,550.0,711.0,576.0,1134.0,504.0,575.0,540.0,546.0,416.0,384.0,440.0,834.0,264.0,431.0,702.0,486.0,577.0,578.0,567.0,460.0,420.0,832.0,628.0,551.0,530.0,765.0,528.0,606.0,739.0,550.0,400.0,408.0,472.0,475.0,478.0,439.0,983.0,300.0,564.0,420.0,768.0,540.0,632.0,608.0,438.0,541.0,264.0,300.0,800.0,572.0,539.0,480.0,462.0,527.0,400.0,576.0,878.0,578.0,440.0,752.0,614.0,856.0,481.0,592.0,496.0,423.0,484.0,275.0,895.0,412.0,865.0,440.0,504.0,402.0,484.0,605.0,602.0,457.0,444.0,397.0,539.0,455.0,474.0,409.0,476.0,528.0,240.0,603.0,410.0,286.0,554.0,384.0,528.0,484.0,484.0,420.0,301.0,598.0,275.0,857.0,440.0,484.0,595.0,776.0,1220.0,527.0,538.0,458.0,613.0,472.0,456.0,436.0,352.0,490.0,425.0,338.0,512.0,420.0,400.0,645.0,454.0,343.0,479.0,619.0,504.0,480.0,672.0,529.0,870.0,544.0,672.0,574.0,523.0,414.0,288.0,648.0,738.0,336.0,450.0,400.0,288.0,506.0,588.0,300.0,621.0,505.0,440.0,264.0,354.0,400.0,483.0,820.0,288.0,393.0,690.0,288.0,280.0,865.0,180.0,484.0,390.0,286.0,284.0,833.0,601.0,471.0,397.0,533.0,612.0,540.0,486.0,522.0,610.0,788.0,570.0,505.0,555.0,689.0,868.0,349.0,574.0,576.0,796.0,808.0,474.0,676.0,530.0,492.0,462.0,531.0,619.0,702.0,393.0,260.0,264.0,264.0,480.0,569.0,588.0,676.0,388.0,779.0,539.0,255.0,606.0,551.0,614.0,870.0,424.0,440.0,564.0,786.0,368.0,615.0,632.0,824.0,457.0,328.0,484.0,286.0,550.0,312.0,528.0,478.0,565.0,402.0,440.0,451.0,632.0,437.0,665.0,461.0,800.0,240.0,796.0,900.0,912.0,286.0,484.0,484.0,624.0,514.0,542.0,452.0,336.0,436.0,440.0,540.0,586.0,478.0,484.0,836.0,582.0,480.0,533.0,380.0,442.0,576.0,286.0,441.0,440.0,826.0,240.0,566.0,299.0,420.0,299.0,528.0,308.0,527.0,461.0,409.0,564.0,286.0,1043.0,550.0,308.0,440.0,461.0,478.0,254.0,712.0,719.0,463.0,862.0,431.0,483.0,240.0,928.0,450.0,286.0,782.0,392.0,660.0,630.0,466.0,460.0,288.0,714.0,484.0,403.0,234.0,306.0,528.0,470.0,492.0,528.0,502.0,626.0,830.0,540.0,440.0,450.0,588.0,644.0,776.0,472.0,807.0,358.0,433.0,541.0,264.0,693.0,482.0,813.0,392.0,757.0,493.0,442.0,402.0,299.0,400.0,573.0,459.0,280.0,546.0,451.0,495.0,701.0,544.0,500.0,462.0,234.0,364.0,300.0,539.0,552.0,288.0,322.0,315.0,388.0,264.0,1052.0,540.0,531.0,472.0,543.0,954.0,528.0,850.0,615.0,888.0,276.0,522.0,478.0,288.0,518.0,691.0,400.0,460.0,338.0,304.0,511.0,746.0,315.0,586.0,462.0,288.0,497.0,480.0,577.0,544.0,484.0,528.0,390.0,499.0,484.0,432.0,528.0,288.0,525.0,1418.0,305.0,490.0,213.0,844.0,834.0,840.0,474.0,528.0,496.0,567.0,508.0,750.0,576.0,860.0,466.0,748.0,248.0,442.0,564.0,895.0,264.0,462.0,825.0,440.0,630.0,288.0,647.0,440.0,508.0,712.0,514.0,490.0,666.0,839.0,487.0,264.0,500.0,770.0,430.0,368.0,663.0,588.0,336.0,420.0,502.0,804.0,936.0,722.0,550.0,576.0,564.0,758.0,541.0,288.0,648.0,240.0,398.0,662.0,754.0,482.0,542.0,622.0,271.0,620.0,660.0,1069.0,540.0,776.0,440.0,420.0,432.0,525.0,288.0,240.0,467.0,440.0,451.0,484.0,462.0,774.0,923.0,550.0,420.0,812.0,626.0,312.0,556.0,840.0,400.0,460.0,500.0,252.0,240.0,276.0,730.0,312.0,482.0,470.0,506.0,440.0,420.0,393.0,506.0,525.0,511.0,440.0,308.0,751.0,868.0,730.0,678.0,958.0,756.0,484.0,430.0,437.0,962.0,880.0,676.0,528.0,484.0,461.0,762.0,713.0,506.0,588.0,496.0,852.0,592.0,596.0,535.0,660.0,678.0,441.0,490.0,504.0,517.0,480.0,470.0,315.0,576.0,620.0,308.0,312.0,440.0,263.0,305.0,264.0,440.0,365.0,591.0,480.0,690.0,522.0,480.0,467.0,366.0,572.0,528.0,615.0,580.0,513.0,308.0,850.0,621.0,420.0,336.0,312.0,598.0,531.0,525.0,741.0,473.0,660.0,520.0,528.0,624.0,686.0,253.0,286.0,495.0,616.0,275.0,482.0,616.0,502.0,528.0,470.0,564.0,495.0,528.0,440.0,409.0,430.0,567.0,529.0,484.0,479.0,581.0,588.0,565.0,478.0,528.0,506.0,477.0,336.0,440.0,440.0,440.0,345.0,656.0,864.0,896.0,762.0,834.0,932.0,927.0,700.0,850.0,583.0,886.0,871.0,484.0,624.0,484.0,949.0,685.0,649.0,539.0,701.0,478.0,390.0,392.0,397.0,434.0,400.0,393.0,394.0,815.0,647.0,623.0,972.0,726.0,844.0,492.0,795.0,529.0,625.0,984.0,692.0,782.0,517.0,711.0,588.0,628.0,845.0,788.0,559.0,528.0,542.0,495.0,465.0,612.0,440.0,288.0,300.0,252.0,864.0,524.0,561.0,641.0,642.0,540.0,527.0,784.0,515.0,502.0,336.0,520.0,312.0,440.0,498.0,495.0,768.0,610.0,549.0,330.0,550.0,530.0,542.0,286.0,441.0,297.0,304.0,350.0,294.0,297.0,230.0,616.0,410.0,246.0,366.0,907.0,364.0,480.0,294.0,288.0,483.0,564.0,264.0,280.0,320.0,316.0,379.0,668.0,384.0,480.0,336.0,498.0,340.0,266.0,462.0,576.0,473.0,576.0,400.0,400.0,1138.0,846.0,904.0,524.0,662.0,810.0,844.0,440.0,525.0,440.0,539.0,492.0,577.0,608.0,343.0,444.0,1231.0,550.0,608.0,521.0,523.0,511.0,810.0,195.0,313.0,307.0,390.0,463.0,295.0,462.0,462.0,551.0,482.0,351.0,541.0,780.0,885.0,578.0,486.0,920.0,384.0,504.0,429.0,898.0,470.0,472.0,386.0,404.0,528.0,506.0,460.0,416.0,462.0,670.0,495.0,557.0,738.0,528.0,598.0,550.0,551.0,461.0,489.0,1314.0,473.0,787.0,288.0,460.0,440.0,905.0,650.0,706.0,789.0,732.0,746.0,870.0,484.0,944.0,550.0,550.0,644.0,668.0,428.0,393.0,484.0,431.0,403.0,516.0,938.0,576.0,751.0,783.0,642.0,880.0,480.0,588.0,660.0,462.0,542.0,478.0,483.0,525.0,474.0,483.0,627.0,506.0,384.0,276.0,484.0,473.0,636.0,495.0,495.0,545.0,588.0,484.0,546.0,846.0,477.0,864.0,550.0,469.0,516.0,512.0,578.0,470.0,464.0,267.0,451.0,264.0,450.0,264.0,312.0,480.0,292.0,480.0,441.0,384.0,240.0,540.0,301.0,372.0,495.0,311.0,299.0,240.0,350.0,264.0,330.0,252.0,164.0,484.0,294.0,270.0,506.0,300.0,621.0,478.0,249.0,322.0,534.0,453.0,472.0,864.0,1348.0,874.0,811.0,438.0,558.0,600.0,532.0,626.0,528.0,440.0,570.0,715.0,560.0,420.0,721.0,470.0,814.0,610.0,264.0,542.0,440.0,624.0,286.0,312.0,599.0,344.0,506.0,484.0,288.0,356.0,487.0,525.0,482.0,786.0,816.0,484.0,432.0,512.0,788.0,612.0,666.0,438.0,578.0,467.0,435.0,520.0,892.0,784.0,392.0,499.0,336.0,257.0,264.0,264.0,484.0,525.0,451.0,420.0,482.0,420.0,392.0,480.0,480.0,484.0,1110.0,556.0,724.0,724.0,480.0,484.0,663.0,481.0,495.0,478.0,944.0,585.0,488.0,368.0,511.0,522.0,319.0,730.0,856.0,938.0,1040.0,878.0,932.0,1174.0,843.0,818.0,774.0,878.0,554.0,631.0,631.0,460.0,627.0,564.0,550.0,478.0,572.0,400.0,440.0,388.0,440.0,400.0,462.0,630.0,388.0,437.0,534.0,442.0,460.0,925.0,806.0,758.0,517.0,933.0,605.0,852.0,484.0,1092.0,480.0,484.0,672.0,574.0,598.0,575.0,590.0,561.0,880.0,594.0,658.0,566.0,492.0,283.0,564.0,431.0,542.0,540.0,484.0,476.0,466.0,528.0,1105.0,478.0,546.0,676.0,412.0,570.0,480.0,528.0,515.0,472.0,473.0,484.0,311.0,308.0,440.0,440.0,440.0,539.0,286.0,510.0,512.0,288.0,525.0,315.0,336.0,464.0,308.0,310.0,336.0,293.0,390.0,280.0,371.0,240.0,288.0,357.0,286.0,338.0,324.0,351.0,300.0,288.0,576.0,331.0,384.0,217.0,456.0,658.0,498.0,264.0,264.0,323.0,638.0,224.0,494.0,303.0,552.0,336.0,527.0,332.0,399.0,264.0,253.0,515.0,499.0,870.0,894.0,870.0,796.0,674.0,524.0,578.0,619.0,529.0,497.0,242.0,597.0,534.0,517.0,486.0,440.0,308.0,440.0,583.0,610.0,542.0,484.0,560.0,608.0,482.0,552.0,578.0,437.0,484.0,400.0,384.0,622.0,579.0,1154.0,400.0,580.0,552.0,628.0,509.0,625.0,691.0,495.0,650.0,576.0,506.0,360.0,528.0,512.0,461.0,433.0,502.0,528.0,471.0,692.0,571.0,932.0,460.0,253.0,286.0,678.0,528.0,672.0,531.0,444.0,502.0,264.0,288.0,452.0,313.0,963.0,550.0,506.0,400.0,423.0,527.0,773.0,618.0,402.0,461.0,736.0,517.0,722.0,582.0,482.0,596.0,485.0,462.0,543.0,440.0,440.0,300.0,319.0,460.0,831.0,880.0,874.0,1085.0,521.0,575.0,925.0,816.0,556.0,899.0,575.0,390.0,440.0,427.0,440.0,437.0,398.0,388.0,440.0,433.0,431.0,617.0,885.0,774.0,725.0,959.0,803.0,704.0,928.0,510.0,584.0,792.0,615.0,612.0,462.0,449.0,688.0,462.0,542.0,484.0,472.0,528.0,310.0,294.0,308.0,288.0,550.0,888.0,588.0,496.0,564.0,501.0,477.0,504.0,530.0,504.0,326.0,264.0,568.0,299.0,430.0,480.0,286.0,240.0,441.0,240.0,280.0,234.0,240.0,441.0,430.0,331.0,488.0,353.0,286.0,280.0,400.0,319.0,300.0,270.0,896.0,1008.0,280.0,294.0,264.0,418.0,484.0,441.0,288.0,336.0,394.0,528.0,336.0,286.0,512.0,580.0,586.0,521.0,575.0,504.0,528.0,569.0,288.0,305.0,506.0,920.0,632.0,495.0,754.0,638.0,576.0,610.0,522.0,462.0,473.0,591.0,515.0,586.0,317.0,591.0,530.0,418.0,646.0,467.0,555.0,610.0,420.0,545.0,578.0,572.0,502.0,528.0,360.0,265.0,288.0,440.0,410.0,365.0,342.0,495.0,525.0,576.0,490.0,528.0,518.0,470.0,714.0,682.0,270.0,784.0,288.0,253.0,336.0,650.0],\"y0\":\" \",\"yaxis\":\"y\",\"type\":\"box\"},{\"alignmentgroup\":\"True\",\"hovertemplate\":\"GarageType=%{x}<br>GarageArea=%{y}<extra></extra>\",\"legendgroup\":\"Detchd\",\"marker\":{\"color\":\"#EF553B\"},\"name\":\"Detchd\",\"notched\":false,\"offsetgroup\":\"Detchd\",\"orientation\":\"v\",\"showlegend\":true,\"x\":[\"Detchd\",\"Detchd\",\"Detchd\",\"Detchd\",\"Detchd\",\"Detchd\",\"Detchd\",\"Detchd\",\"Detchd\",\"Detchd\",\"Detchd\",\"Detchd\",\"Detchd\",\"Detchd\",\"Detchd\",\"Detchd\",\"Detchd\",\"Detchd\",\"Detchd\",\"Detchd\",\"Detchd\",\"Detchd\",\"Detchd\",\"Detchd\",\"Detchd\",\"Detchd\",\"Detchd\",\"Detchd\",\"Detchd\",\"Detchd\",\"Detchd\",\"Detchd\",\"Detchd\",\"Detchd\",\"Detchd\",\"Detchd\",\"Detchd\",\"Detchd\",\"Detchd\",\"Detchd\",\"Detchd\",\"Detchd\",\"Detchd\",\"Detchd\",\"Detchd\",\"Detchd\",\"Detchd\",\"Detchd\",\"Detchd\",\"Detchd\",\"Detchd\",\"Detchd\",\"Detchd\",\"Detchd\",\"Detchd\",\"Detchd\",\"Detchd\",\"Detchd\",\"Detchd\",\"Detchd\",\"Detchd\",\"Detchd\",\"Detchd\",\"Detchd\",\"Detchd\",\"Detchd\",\"Detchd\",\"Detchd\",\"Detchd\",\"Detchd\",\"Detchd\",\"Detchd\",\"Detchd\",\"Detchd\",\"Detchd\",\"Detchd\",\"Detchd\",\"Detchd\",\"Detchd\",\"Detchd\",\"Detchd\",\"Detchd\",\"Detchd\",\"Detchd\",\"Detchd\",\"Detchd\",\"Detchd\",\"Detchd\",\"Detchd\",\"Detchd\",\"Detchd\",\"Detchd\",\"Detchd\",\"Detchd\",\"Detchd\",\"Detchd\",\"Detchd\",\"Detchd\",\"Detchd\",\"Detchd\",\"Detchd\",\"Detchd\",\"Detchd\",\"Detchd\",\"Detchd\",\"Detchd\",\"Detchd\",\"Detchd\",\"Detchd\",\"Detchd\",\"Detchd\",\"Detchd\",\"Detchd\",\"Detchd\",\"Detchd\",\"Detchd\",\"Detchd\",\"Detchd\",\"Detchd\",\"Detchd\",\"Detchd\",\"Detchd\",\"Detchd\",\"Detchd\",\"Detchd\",\"Detchd\",\"Detchd\",\"Detchd\",\"Detchd\",\"Detchd\",\"Detchd\",\"Detchd\",\"Detchd\",\"Detchd\",\"Detchd\",\"Detchd\",\"Detchd\",\"Detchd\",\"Detchd\",\"Detchd\",\"Detchd\",\"Detchd\",\"Detchd\",\"Detchd\",\"Detchd\",\"Detchd\",\"Detchd\",\"Detchd\",\"Detchd\",\"Detchd\",\"Detchd\",\"Detchd\",\"Detchd\",\"Detchd\",\"Detchd\",\"Detchd\",\"Detchd\",\"Detchd\",\"Detchd\",\"Detchd\",\"Detchd\",\"Detchd\",\"Detchd\",\"Detchd\",\"Detchd\",\"Detchd\",\"Detchd\",\"Detchd\",\"Detchd\",\"Detchd\",\"Detchd\",\"Detchd\",\"Detchd\",\"Detchd\",\"Detchd\",\"Detchd\",\"Detchd\",\"Detchd\",\"Detchd\",\"Detchd\",\"Detchd\",\"Detchd\",\"Detchd\",\"Detchd\",\"Detchd\",\"Detchd\",\"Detchd\",\"Detchd\",\"Detchd\",\"Detchd\",\"Detchd\",\"Detchd\",\"Detchd\",\"Detchd\",\"Detchd\",\"Detchd\",\"Detchd\",\"Detchd\",\"Detchd\",\"Detchd\",\"Detchd\",\"Detchd\",\"Detchd\",\"Detchd\",\"Detchd\",\"Detchd\",\"Detchd\",\"Detchd\",\"Detchd\",\"Detchd\",\"Detchd\",\"Detchd\",\"Detchd\",\"Detchd\",\"Detchd\",\"Detchd\",\"Detchd\",\"Detchd\",\"Detchd\",\"Detchd\",\"Detchd\",\"Detchd\",\"Detchd\",\"Detchd\",\"Detchd\",\"Detchd\",\"Detchd\",\"Detchd\",\"Detchd\",\"Detchd\",\"Detchd\",\"Detchd\",\"Detchd\",\"Detchd\",\"Detchd\",\"Detchd\",\"Detchd\",\"Detchd\",\"Detchd\",\"Detchd\",\"Detchd\",\"Detchd\",\"Detchd\",\"Detchd\",\"Detchd\",\"Detchd\",\"Detchd\",\"Detchd\",\"Detchd\",\"Detchd\",\"Detchd\",\"Detchd\",\"Detchd\",\"Detchd\",\"Detchd\",\"Detchd\",\"Detchd\",\"Detchd\",\"Detchd\",\"Detchd\",\"Detchd\",\"Detchd\",\"Detchd\",\"Detchd\",\"Detchd\",\"Detchd\",\"Detchd\",\"Detchd\",\"Detchd\",\"Detchd\",\"Detchd\",\"Detchd\",\"Detchd\",\"Detchd\",\"Detchd\",\"Detchd\",\"Detchd\",\"Detchd\",\"Detchd\",\"Detchd\",\"Detchd\",\"Detchd\",\"Detchd\",\"Detchd\",\"Detchd\",\"Detchd\",\"Detchd\",\"Detchd\",\"Detchd\",\"Detchd\",\"Detchd\",\"Detchd\",\"Detchd\",\"Detchd\",\"Detchd\",\"Detchd\",\"Detchd\",\"Detchd\",\"Detchd\",\"Detchd\",\"Detchd\",\"Detchd\",\"Detchd\",\"Detchd\",\"Detchd\",\"Detchd\",\"Detchd\",\"Detchd\",\"Detchd\",\"Detchd\",\"Detchd\",\"Detchd\",\"Detchd\",\"Detchd\",\"Detchd\",\"Detchd\",\"Detchd\",\"Detchd\",\"Detchd\",\"Detchd\",\"Detchd\",\"Detchd\",\"Detchd\",\"Detchd\",\"Detchd\",\"Detchd\",\"Detchd\",\"Detchd\",\"Detchd\",\"Detchd\",\"Detchd\",\"Detchd\",\"Detchd\",\"Detchd\",\"Detchd\",\"Detchd\",\"Detchd\",\"Detchd\",\"Detchd\",\"Detchd\",\"Detchd\",\"Detchd\",\"Detchd\",\"Detchd\",\"Detchd\",\"Detchd\",\"Detchd\",\"Detchd\",\"Detchd\",\"Detchd\",\"Detchd\",\"Detchd\",\"Detchd\",\"Detchd\",\"Detchd\",\"Detchd\",\"Detchd\",\"Detchd\",\"Detchd\",\"Detchd\",\"Detchd\",\"Detchd\",\"Detchd\",\"Detchd\",\"Detchd\",\"Detchd\",\"Detchd\",\"Detchd\",\"Detchd\",\"Detchd\",\"Detchd\",\"Detchd\",\"Detchd\",\"Detchd\",\"Detchd\",\"Detchd\",\"Detchd\",\"Detchd\",\"Detchd\",\"Detchd\",\"Detchd\",\"Detchd\",\"Detchd\",\"Detchd\",\"Detchd\",\"Detchd\",\"Detchd\",\"Detchd\",\"Detchd\",\"Detchd\",\"Detchd\",\"Detchd\",\"Detchd\",\"Detchd\",\"Detchd\",\"Detchd\",\"Detchd\",\"Detchd\",\"Detchd\",\"Detchd\",\"Detchd\",\"Detchd\",\"Detchd\",\"Detchd\",\"Detchd\",\"Detchd\",\"Detchd\",\"Detchd\",\"Detchd\",\"Detchd\",\"Detchd\",\"Detchd\",\"Detchd\",\"Detchd\",\"Detchd\",\"Detchd\",\"Detchd\",\"Detchd\",\"Detchd\",\"Detchd\",\"Detchd\",\"Detchd\",\"Detchd\",\"Detchd\",\"Detchd\",\"Detchd\",\"Detchd\",\"Detchd\",\"Detchd\",\"Detchd\",\"Detchd\",\"Detchd\",\"Detchd\",\"Detchd\",\"Detchd\",\"Detchd\",\"Detchd\",\"Detchd\",\"Detchd\",\"Detchd\",\"Detchd\",\"Detchd\",\"Detchd\",\"Detchd\",\"Detchd\",\"Detchd\",\"Detchd\",\"Detchd\",\"Detchd\",\"Detchd\",\"Detchd\",\"Detchd\",\"Detchd\",\"Detchd\",\"Detchd\",\"Detchd\",\"Detchd\",\"Detchd\",\"Detchd\",\"Detchd\",\"Detchd\",\"Detchd\",\"Detchd\",\"Detchd\",\"Detchd\",\"Detchd\",\"Detchd\",\"Detchd\",\"Detchd\",\"Detchd\",\"Detchd\",\"Detchd\",\"Detchd\",\"Detchd\",\"Detchd\",\"Detchd\",\"Detchd\",\"Detchd\",\"Detchd\",\"Detchd\",\"Detchd\",\"Detchd\",\"Detchd\",\"Detchd\",\"Detchd\",\"Detchd\",\"Detchd\",\"Detchd\",\"Detchd\",\"Detchd\",\"Detchd\",\"Detchd\",\"Detchd\",\"Detchd\",\"Detchd\",\"Detchd\",\"Detchd\",\"Detchd\",\"Detchd\",\"Detchd\",\"Detchd\",\"Detchd\",\"Detchd\",\"Detchd\",\"Detchd\",\"Detchd\",\"Detchd\",\"Detchd\",\"Detchd\",\"Detchd\",\"Detchd\",\"Detchd\",\"Detchd\",\"Detchd\",\"Detchd\",\"Detchd\",\"Detchd\",\"Detchd\",\"Detchd\",\"Detchd\",\"Detchd\",\"Detchd\",\"Detchd\",\"Detchd\",\"Detchd\",\"Detchd\",\"Detchd\",\"Detchd\",\"Detchd\",\"Detchd\",\"Detchd\",\"Detchd\",\"Detchd\",\"Detchd\",\"Detchd\",\"Detchd\",\"Detchd\",\"Detchd\",\"Detchd\",\"Detchd\",\"Detchd\",\"Detchd\",\"Detchd\",\"Detchd\",\"Detchd\",\"Detchd\",\"Detchd\",\"Detchd\",\"Detchd\",\"Detchd\",\"Detchd\",\"Detchd\",\"Detchd\",\"Detchd\",\"Detchd\",\"Detchd\",\"Detchd\",\"Detchd\",\"Detchd\",\"Detchd\",\"Detchd\",\"Detchd\",\"Detchd\",\"Detchd\",\"Detchd\",\"Detchd\",\"Detchd\",\"Detchd\",\"Detchd\",\"Detchd\",\"Detchd\",\"Detchd\",\"Detchd\",\"Detchd\",\"Detchd\",\"Detchd\",\"Detchd\",\"Detchd\",\"Detchd\",\"Detchd\",\"Detchd\",\"Detchd\",\"Detchd\",\"Detchd\",\"Detchd\",\"Detchd\",\"Detchd\",\"Detchd\",\"Detchd\",\"Detchd\",\"Detchd\",\"Detchd\",\"Detchd\",\"Detchd\",\"Detchd\",\"Detchd\",\"Detchd\",\"Detchd\",\"Detchd\",\"Detchd\",\"Detchd\",\"Detchd\",\"Detchd\",\"Detchd\",\"Detchd\",\"Detchd\",\"Detchd\",\"Detchd\",\"Detchd\",\"Detchd\",\"Detchd\",\"Detchd\",\"Detchd\",\"Detchd\",\"Detchd\",\"Detchd\",\"Detchd\",\"Detchd\",\"Detchd\",\"Detchd\",\"Detchd\",\"Detchd\",\"Detchd\",\"Detchd\",\"Detchd\",\"Detchd\",\"Detchd\",\"Detchd\",\"Detchd\",\"Detchd\",\"Detchd\",\"Detchd\",\"Detchd\",\"Detchd\",\"Detchd\",\"Detchd\",\"Detchd\",\"Detchd\",\"Detchd\",\"Detchd\",\"Detchd\",\"Detchd\",\"Detchd\",\"Detchd\",\"Detchd\",\"Detchd\",\"Detchd\",\"Detchd\",\"Detchd\",\"Detchd\",\"Detchd\",\"Detchd\",\"Detchd\",\"Detchd\",\"Detchd\",\"Detchd\",\"Detchd\",\"Detchd\",\"Detchd\",\"Detchd\",\"Detchd\",\"Detchd\",\"Detchd\",\"Detchd\",\"Detchd\",\"Detchd\",\"Detchd\",\"Detchd\",\"Detchd\",\"Detchd\",\"Detchd\",\"Detchd\",\"Detchd\",\"Detchd\",\"Detchd\",\"Detchd\",\"Detchd\",\"Detchd\",\"Detchd\",\"Detchd\",\"Detchd\",\"Detchd\",\"Detchd\",\"Detchd\",\"Detchd\",\"Detchd\",\"Detchd\",\"Detchd\",\"Detchd\",\"Detchd\",\"Detchd\",\"Detchd\",\"Detchd\",\"Detchd\",\"Detchd\",\"Detchd\",\"Detchd\",\"Detchd\",\"Detchd\",\"Detchd\",\"Detchd\",\"Detchd\",\"Detchd\",\"Detchd\",\"Detchd\",\"Detchd\",\"Detchd\",\"Detchd\",\"Detchd\",\"Detchd\",\"Detchd\",\"Detchd\",\"Detchd\",\"Detchd\",\"Detchd\",\"Detchd\",\"Detchd\",\"Detchd\",\"Detchd\",\"Detchd\",\"Detchd\",\"Detchd\",\"Detchd\",\"Detchd\",\"Detchd\",\"Detchd\",\"Detchd\",\"Detchd\",\"Detchd\",\"Detchd\",\"Detchd\",\"Detchd\",\"Detchd\",\"Detchd\",\"Detchd\",\"Detchd\",\"Detchd\",\"Detchd\",\"Detchd\",\"Detchd\",\"Detchd\",\"Detchd\",\"Detchd\",\"Detchd\",\"Detchd\",\"Detchd\",\"Detchd\",\"Detchd\",\"Detchd\",\"Detchd\",\"Detchd\",\"Detchd\",\"Detchd\",\"Detchd\",\"Detchd\",\"Detchd\",\"Detchd\",\"Detchd\",\"Detchd\",\"Detchd\",\"Detchd\",\"Detchd\",\"Detchd\",\"Detchd\",\"Detchd\",\"Detchd\",\"Detchd\",\"Detchd\",\"Detchd\",\"Detchd\",\"Detchd\",\"Detchd\",\"Detchd\",\"Detchd\",\"Detchd\",\"Detchd\",\"Detchd\",\"Detchd\",\"Detchd\"],\"x0\":\" \",\"xaxis\":\"x\",\"y\":[642.0,468.0,384.0,352.0,576.0,576.0,576.0,240.0,250.0,246.0,308.0,528.0,572.0,352.0,576.0,288.0,480.0,360.0,379.0,283.0,240.0,440.0,461.0,528.0,420.0,432.0,506.0,240.0,273.0,250.0,180.0,440.0,264.0,624.0,720.0,504.0,380.0,180.0,240.0,312.0,625.0,216.0,660.0,480.0,440.0,216.0,484.0,840.0,180.0,528.0,440.0,380.0,352.0,795.0,473.0,240.0,210.0,576.0,280.0,280.0,336.0,264.0,220.0,440.0,308.0,484.0,504.0,240.0,924.0,672.0,400.0,528.0,280.0,384.0,588.0,576.0,539.0,240.0,410.0,546.0,360.0,441.0,189.0,352.0,400.0,312.0,200.0,484.0,240.0,264.0,468.0,576.0,680.0,576.0,308.0,360.0,352.0,384.0,240.0,600.0,338.0,240.0,240.0,360.0,864.0,240.0,240.0,352.0,264.0,440.0,440.0,180.0,352.0,528.0,360.0,198.0,308.0,270.0,560.0,513.0,228.0,352.0,576.0,360.0,240.0,624.0,672.0,264.0,308.0,240.0,264.0,461.0,400.0,360.0,624.0,200.0,282.0,420.0,502.0,392.0,576.0,440.0,624.0,720.0,520.0,280.0,528.0,396.0,216.0,600.0,576.0,336.0,216.0,540.0,880.0,240.0,275.0,528.0,308.0,816.0,280.0,216.0,544.0,480.0,576.0,528.0,484.0,440.0,240.0,576.0,576.0,420.0,296.0,216.0,264.0,480.0,588.0,576.0,252.0,300.0,240.0,572.0,281.0,480.0,326.0,576.0,205.0,308.0,336.0,672.0,384.0,576.0,704.0,463.0,548.0,660.0,888.0,539.0,320.0,400.0,360.0,288.0,864.0,240.0,440.0,440.0,440.0,300.0,440.0,576.0,396.0,672.0,630.0,416.0,281.0,240.0,440.0,360.0,280.0,576.0,240.0,480.0,480.0,812.0,264.0,240.0,400.0,686.0,720.0,360.0,240.0,260.0,576.0,216.0,902.0,308.0,200.0,576.0,440.0,576.0,327.0,528.0,684.0,756.0,480.0,252.0,450.0,528.0,308.0,429.0,528.0,456.0,720.0,300.0,396.0,576.0,484.0,440.0,256.0,532.0,490.0,400.0,480.0,240.0,305.0,210.0,528.0,216.0,528.0,180.0,280.0,240.0,160.0,461.0,264.0,290.0,672.0,308.0,432.0,1248.0,560.0,440.0,576.0,280.0,380.0,400.0,462.0,576.0,884.0,240.0,246.0,280.0,440.0,308.0,326.0,308.0,672.0,672.0,576.0,205.0,180.0,495.0,840.0,280.0,225.0,288.0,324.0,432.0,924.0,625.0,360.0,210.0,186.0,720.0,492.0,250.0,225.0,216.0,384.0,506.0,384.0,528.0,576.0,180.0,484.0,400.0,396.0,560.0,520.0,506.0,308.0,552.0,400.0,528.0,484.0,336.0,280.0,264.0,572.0,380.0,480.0,280.0,287.0,520.0,576.0,288.0,297.0,506.0,480.0,576.0,342.0,308.0,968.0,624.0,440.0,480.0,338.0,583.0,160.0,660.0,264.0,200.0,576.0,280.0,240.0,216.0,440.0,792.0,672.0,572.0,180.0,216.0,936.0,396.0,528.0,420.0,370.0,560.0,336.0,484.0,528.0,216.0,528.0,672.0,192.0,240.0,384.0,264.0,320.0,429.0,480.0,480.0,480.0,440.0,400.0,318.0,676.0,280.0,484.0,551.0,240.0,240.0,315.0,780.0,288.0,624.0,624.0,363.0,315.0,200.0,240.0,576.0,240.0,312.0,624.0,480.0,288.0,572.0,180.0,180.0,231.0,450.0,416.0,280.0,440.0,209.0,504.0,484.0,484.0,240.0,319.0,480.0,352.0,260.0,399.0,484.0,200.0,625.0,330.0,352.0,576.0,576.0,576.0,264.0,288.0,440.0,440.0,576.0,484.0,576.0,576.0,400.0,732.0,440.0,506.0,396.0,308.0,576.0,520.0,495.0,240.0,720.0,281.0,264.0,528.0,624.0,576.0,320.0,480.0,308.0,900.0,240.0,384.0,576.0,162.0,324.0,472.0,400.0,308.0,288.0,308.0,287.0,720.0,357.0,207.0,640.0,336.0,264.0,250.0,1184.0,576.0,216.0,384.0,308.0,252.0,226.0,240.0,252.0,720.0,672.0,320.0,256.0,180.0,440.0,215.0,440.0,400.0,452.0,576.0,200.0,280.0,672.0,336.0,698.0,440.0,484.0,480.0,576.0,264.0,352.0,264.0,420.0,308.0,490.0,480.0,540.0,440.0,462.0,480.0,480.0,484.0,576.0,576.0,636.0,400.0,484.0,390.0,288.0,308.0,1488.0,576.0,576.0,280.0,480.0,308.0,400.0,256.0,308.0,440.0,225.0,828.0,200.0,869.0,297.0,420.0,288.0,308.0,400.0,342.0,308.0,308.0,288.0,240.0,240.0,200.0,240.0,370.0,672.0,240.0,160.0,280.0,336.0,400.0,576.0,672.0,360.0,228.0,440.0,308.0,400.0,400.0,320.0,384.0,576.0,240.0,440.0,280.0,528.0,576.0,480.0,205.0,480.0,369.0,400.0,180.0,240.0,225.0,786.0,462.0,195.0,240.0,360.0,185.0,195.0,216.0,288.0,576.0,264.0,264.0,360.0,728.0,576.0,308.0,686.0,440.0,440.0,625.0,552.0,396.0,784.0,312.0,308.0,792.0,308.0,336.0,484.0,410.0,252.0,352.0,420.0,580.0,294.0,576.0,576.0,184.0,180.0,379.0,576.0,252.0,342.0,816.0,374.0,480.0,468.0,336.0,308.0,308.0,224.0,240.0,528.0,280.0,230.0,379.0,408.0,576.0,576.0,240.0,216.0,299.0,720.0,436.0,264.0,240.0,308.0,572.0,440.0,528.0,576.0,528.0,315.0,576.0,649.0,308.0,256.0,280.0,747.0,384.0,370.0,576.0,748.0,576.0,728.0,520.0,576.0,528.0,392.0,216.0,355.0,528.0,352.0,240.0,216.0,228.0,225.0,264.0,231.0,528.0,462.0,720.0,null,100.0,256.0,720.0,216.0,576.0,440.0,264.0,264.0,264.0,624.0,576.0,484.0,480.0,440.0,273.0,506.0,684.0,649.0,371.0,660.0,528.0,648.0,597.0,400.0,528.0,624.0,240.0,162.0,400.0,576.0,200.0,576.0,280.0,216.0,528.0,216.0,576.0,450.0,200.0,378.0,250.0,432.0,624.0,240.0,258.0,180.0,210.0,576.0,370.0,390.0,308.0,288.0,576.0,260.0,180.0,246.0,616.0,322.0,576.0,836.0,672.0,297.0,380.0,528.0,216.0,275.0,240.0,312.0,216.0,288.0,240.0,240.0,318.0,451.0,215.0,506.0,272.0,384.0,576.0],\"y0\":\" \",\"yaxis\":\"y\",\"type\":\"box\"},{\"alignmentgroup\":\"True\",\"hovertemplate\":\"GarageType=%{x}<br>GarageArea=%{y}<extra></extra>\",\"legendgroup\":\"BuiltIn\",\"marker\":{\"color\":\"#00cc96\"},\"name\":\"BuiltIn\",\"notched\":false,\"offsetgroup\":\"BuiltIn\",\"orientation\":\"v\",\"showlegend\":true,\"x\":[\"BuiltIn\",\"BuiltIn\",\"BuiltIn\",\"BuiltIn\",\"BuiltIn\",\"BuiltIn\",\"BuiltIn\",\"BuiltIn\",\"BuiltIn\",\"BuiltIn\",\"BuiltIn\",\"BuiltIn\",\"BuiltIn\",\"BuiltIn\",\"BuiltIn\",\"BuiltIn\",\"BuiltIn\",\"BuiltIn\",\"BuiltIn\",\"BuiltIn\",\"BuiltIn\",\"BuiltIn\",\"BuiltIn\",\"BuiltIn\",\"BuiltIn\",\"BuiltIn\",\"BuiltIn\",\"BuiltIn\",\"BuiltIn\",\"BuiltIn\",\"BuiltIn\",\"BuiltIn\",\"BuiltIn\",\"BuiltIn\",\"BuiltIn\",\"BuiltIn\",\"BuiltIn\",\"BuiltIn\",\"BuiltIn\",\"BuiltIn\",\"BuiltIn\",\"BuiltIn\",\"BuiltIn\",\"BuiltIn\",\"BuiltIn\",\"BuiltIn\",\"BuiltIn\",\"BuiltIn\",\"BuiltIn\",\"BuiltIn\",\"BuiltIn\",\"BuiltIn\",\"BuiltIn\",\"BuiltIn\",\"BuiltIn\",\"BuiltIn\",\"BuiltIn\",\"BuiltIn\",\"BuiltIn\",\"BuiltIn\",\"BuiltIn\",\"BuiltIn\",\"BuiltIn\",\"BuiltIn\",\"BuiltIn\",\"BuiltIn\",\"BuiltIn\",\"BuiltIn\",\"BuiltIn\",\"BuiltIn\",\"BuiltIn\",\"BuiltIn\",\"BuiltIn\",\"BuiltIn\",\"BuiltIn\",\"BuiltIn\",\"BuiltIn\",\"BuiltIn\",\"BuiltIn\",\"BuiltIn\",\"BuiltIn\",\"BuiltIn\",\"BuiltIn\",\"BuiltIn\",\"BuiltIn\",\"BuiltIn\",\"BuiltIn\",\"BuiltIn\",\"BuiltIn\",\"BuiltIn\",\"BuiltIn\",\"BuiltIn\",\"BuiltIn\",\"BuiltIn\",\"BuiltIn\",\"BuiltIn\",\"BuiltIn\",\"BuiltIn\",\"BuiltIn\",\"BuiltIn\",\"BuiltIn\",\"BuiltIn\",\"BuiltIn\",\"BuiltIn\",\"BuiltIn\",\"BuiltIn\",\"BuiltIn\",\"BuiltIn\",\"BuiltIn\",\"BuiltIn\",\"BuiltIn\",\"BuiltIn\",\"BuiltIn\",\"BuiltIn\",\"BuiltIn\",\"BuiltIn\",\"BuiltIn\",\"BuiltIn\",\"BuiltIn\",\"BuiltIn\",\"BuiltIn\",\"BuiltIn\",\"BuiltIn\",\"BuiltIn\",\"BuiltIn\",\"BuiltIn\",\"BuiltIn\",\"BuiltIn\",\"BuiltIn\",\"BuiltIn\",\"BuiltIn\",\"BuiltIn\",\"BuiltIn\",\"BuiltIn\",\"BuiltIn\",\"BuiltIn\",\"BuiltIn\",\"BuiltIn\",\"BuiltIn\",\"BuiltIn\",\"BuiltIn\",\"BuiltIn\",\"BuiltIn\",\"BuiltIn\",\"BuiltIn\",\"BuiltIn\",\"BuiltIn\",\"BuiltIn\",\"BuiltIn\",\"BuiltIn\",\"BuiltIn\",\"BuiltIn\",\"BuiltIn\",\"BuiltIn\",\"BuiltIn\",\"BuiltIn\",\"BuiltIn\",\"BuiltIn\",\"BuiltIn\",\"BuiltIn\",\"BuiltIn\",\"BuiltIn\",\"BuiltIn\",\"BuiltIn\",\"BuiltIn\",\"BuiltIn\",\"BuiltIn\",\"BuiltIn\",\"BuiltIn\",\"BuiltIn\",\"BuiltIn\",\"BuiltIn\",\"BuiltIn\",\"BuiltIn\",\"BuiltIn\",\"BuiltIn\",\"BuiltIn\",\"BuiltIn\",\"BuiltIn\",\"BuiltIn\",\"BuiltIn\",\"BuiltIn\",\"BuiltIn\",\"BuiltIn\",\"BuiltIn\",\"BuiltIn\"],\"x0\":\" \",\"xaxis\":\"x\",\"y\":[736.0,853.0,691.0,641.0,852.0,297.0,400.0,400.0,420.0,400.0,792.0,390.0,434.0,680.0,726.0,390.0,440.0,429.0,868.0,683.0,872.0,564.0,474.0,288.0,672.0,434.0,846.0,560.0,420.0,373.0,552.0,694.0,336.0,884.0,648.0,615.0,871.0,656.0,612.0,400.0,288.0,842.0,736.0,531.0,256.0,666.0,831.0,554.0,841.0,618.0,820.0,1020.0,433.0,550.0,389.0,656.0,642.0,390.0,510.0,474.0,905.0,716.0,467.0,539.0,422.0,527.0,300.0,434.0,1052.0,660.0,668.0,600.0,474.0,434.0,477.0,397.0,502.0,1014.0,753.0,779.0,492.0,621.0,432.0,377.0,400.0,642.0,208.0,372.0,400.0,433.0,473.0,400.0,632.0,390.0,396.0,441.0,754.0,640.0,730.0,400.0,436.0,644.0,400.0,400.0,658.0,410.0,810.0,478.0,704.0,368.0,216.0,820.0,820.0,820.0,570.0,440.0,501.0,642.0,440.0,420.0,683.0,850.0,1150.0,1003.0,656.0,756.0,795.0,474.0,400.0,434.0,400.0,450.0,687.0,851.0,355.0,614.0,484.0,725.0,596.0,504.0,400.0,297.0,297.0,390.0,398.0,729.0,670.0,814.0,786.0,916.0,876.0,454.0,350.0,400.0,400.0,434.0,435.0,600.0,859.0,744.0,1200.0,276.0,489.0,486.0,452.0,297.0,443.0,670.0,758.0,675.0,660.0,541.0,670.0,672.0,784.0,746.0,632.0,768.0,760.0,434.0,215.0,848.0,529.0,616.0,502.0,336.0],\"y0\":\" \",\"yaxis\":\"y\",\"type\":\"box\"},{\"alignmentgroup\":\"True\",\"hovertemplate\":\"GarageType=%{x}<br>GarageArea=%{y}<extra></extra>\",\"legendgroup\":\"CarPort\",\"marker\":{\"color\":\"#ab63fa\"},\"name\":\"CarPort\",\"notched\":false,\"offsetgroup\":\"CarPort\",\"orientation\":\"v\",\"showlegend\":true,\"x\":[\"CarPort\",\"CarPort\",\"CarPort\",\"CarPort\",\"CarPort\",\"CarPort\",\"CarPort\",\"CarPort\",\"CarPort\",\"CarPort\",\"CarPort\",\"CarPort\",\"CarPort\",\"CarPort\",\"CarPort\"],\"x0\":\" \",\"xaxis\":\"x\",\"y\":[516.0,516.0,294.0,288.0,570.0,596.0,400.0,420.0,462.0,220.0,401.0,400.0,530.0,286.0,286.0],\"y0\":\" \",\"yaxis\":\"y\",\"type\":\"box\"},{\"alignmentgroup\":\"True\",\"hovertemplate\":\"GarageType=%{x}<br>GarageArea=%{y}<extra></extra>\",\"legendgroup\":\"None\",\"marker\":{\"color\":\"#FFA15A\"},\"name\":\"None\",\"notched\":false,\"offsetgroup\":\"None\",\"orientation\":\"v\",\"showlegend\":true,\"x\":[\"None\",\"None\",\"None\",\"None\",\"None\",\"None\",\"None\",\"None\",\"None\",\"None\",\"None\",\"None\",\"None\",\"None\",\"None\",\"None\",\"None\",\"None\",\"None\",\"None\",\"None\",\"None\",\"None\",\"None\",\"None\",\"None\",\"None\",\"None\",\"None\",\"None\",\"None\",\"None\",\"None\",\"None\",\"None\",\"None\",\"None\",\"None\",\"None\",\"None\",\"None\",\"None\",\"None\",\"None\",\"None\",\"None\",\"None\",\"None\",\"None\",\"None\",\"None\",\"None\",\"None\",\"None\",\"None\",\"None\",\"None\",\"None\",\"None\",\"None\",\"None\",\"None\",\"None\",\"None\",\"None\",\"None\",\"None\",\"None\",\"None\",\"None\",\"None\",\"None\",\"None\",\"None\",\"None\",\"None\",\"None\",\"None\",\"None\",\"None\",\"None\",\"None\",\"None\",\"None\",\"None\",\"None\",\"None\",\"None\",\"None\",\"None\",\"None\",\"None\",\"None\",\"None\",\"None\",\"None\",\"None\",\"None\",\"None\",\"None\",\"None\",\"None\",\"None\",\"None\",\"None\",\"None\",\"None\",\"None\",\"None\",\"None\",\"None\",\"None\",\"None\",\"None\",\"None\",\"None\",\"None\",\"None\",\"None\",\"None\",\"None\",\"None\",\"None\",\"None\",\"None\",\"None\",\"None\",\"None\",\"None\",\"None\",\"None\",\"None\",\"None\",\"None\",\"None\",\"None\",\"None\",\"None\",\"None\",\"None\",\"None\",\"None\",\"None\",\"None\",\"None\",\"None\",\"None\",\"None\",\"None\",\"None\",\"None\",\"None\",\"None\",\"None\",\"None\",\"None\",\"None\"],\"x0\":\" \",\"xaxis\":\"x\",\"y\":[0.0,0.0,0.0,0.0,0.0,0.0,0.0,0.0,0.0,0.0,0.0,0.0,0.0,0.0,0.0,0.0,0.0,0.0,0.0,0.0,0.0,0.0,0.0,0.0,0.0,0.0,0.0,0.0,0.0,0.0,0.0,0.0,0.0,0.0,0.0,0.0,0.0,0.0,0.0,0.0,0.0,0.0,0.0,0.0,0.0,0.0,0.0,0.0,0.0,0.0,0.0,0.0,0.0,0.0,0.0,0.0,0.0,0.0,0.0,0.0,0.0,0.0,0.0,0.0,0.0,0.0,0.0,0.0,0.0,0.0,0.0,0.0,0.0,0.0,0.0,0.0,0.0,0.0,0.0,0.0,0.0,0.0,0.0,0.0,0.0,0.0,0.0,0.0,0.0,0.0,0.0,0.0,0.0,0.0,0.0,0.0,0.0,0.0,0.0,0.0,0.0,0.0,0.0,0.0,0.0,0.0,0.0,0.0,0.0,0.0,0.0,0.0,0.0,0.0,0.0,0.0,0.0,0.0,0.0,0.0,0.0,0.0,0.0,0.0,0.0,0.0,0.0,0.0,0.0,0.0,0.0,0.0,0.0,0.0,0.0,0.0,0.0,0.0,0.0,0.0,0.0,0.0,0.0,0.0,0.0,0.0,0.0,0.0,0.0,0.0,0.0,0.0,0.0,0.0,0.0,0.0,0.0],\"y0\":\" \",\"yaxis\":\"y\",\"type\":\"box\"},{\"alignmentgroup\":\"True\",\"hovertemplate\":\"GarageType=%{x}<br>GarageArea=%{y}<extra></extra>\",\"legendgroup\":\"Basment\",\"marker\":{\"color\":\"#19d3f3\"},\"name\":\"Basment\",\"notched\":false,\"offsetgroup\":\"Basment\",\"orientation\":\"v\",\"showlegend\":true,\"x\":[\"Basment\",\"Basment\",\"Basment\",\"Basment\",\"Basment\",\"Basment\",\"Basment\",\"Basment\",\"Basment\",\"Basment\",\"Basment\",\"Basment\",\"Basment\",\"Basment\",\"Basment\",\"Basment\",\"Basment\",\"Basment\",\"Basment\",\"Basment\",\"Basment\",\"Basment\",\"Basment\",\"Basment\",\"Basment\",\"Basment\",\"Basment\",\"Basment\",\"Basment\",\"Basment\",\"Basment\",\"Basment\",\"Basment\",\"Basment\",\"Basment\",\"Basment\"],\"x0\":\" \",\"xaxis\":\"x\",\"y\":[366.0,450.0,296.0,525.0,380.0,364.0,504.0,611.0,525.0,672.0,240.0,364.0,288.0,540.0,492.0,404.0,312.0,525.0,525.0,240.0,480.0,384.0,504.0,525.0,250.0,576.0,231.0,504.0,626.0,312.0,270.0,432.0,525.0,300.0,450.0,525.0],\"y0\":\" \",\"yaxis\":\"y\",\"type\":\"box\"},{\"alignmentgroup\":\"True\",\"hovertemplate\":\"GarageType=%{x}<br>GarageArea=%{y}<extra></extra>\",\"legendgroup\":\"2Types\",\"marker\":{\"color\":\"#FF6692\"},\"name\":\"2Types\",\"notched\":false,\"offsetgroup\":\"2Types\",\"orientation\":\"v\",\"showlegend\":true,\"x\":[\"2Types\",\"2Types\",\"2Types\",\"2Types\",\"2Types\",\"2Types\",\"2Types\",\"2Types\",\"2Types\",\"2Types\",\"2Types\",\"2Types\",\"2Types\",\"2Types\",\"2Types\",\"2Types\",\"2Types\",\"2Types\",\"2Types\",\"2Types\",\"2Types\",\"2Types\",\"2Types\"],\"x0\":\" \",\"xaxis\":\"x\",\"y\":[750.0,766.0,779.0,871.0,995.0,1356.0,1017.0,776.0,544.0,393.0,627.0,912.0,850.0,828.0,692.0,460.0,1041.0,791.0,795.0,609.0,579.0,616.0,928.0],\"y0\":\" \",\"yaxis\":\"y\",\"type\":\"box\"}],                        {\"template\":{\"data\":{\"bar\":[{\"error_x\":{\"color\":\"#2a3f5f\"},\"error_y\":{\"color\":\"#2a3f5f\"},\"marker\":{\"line\":{\"color\":\"#E5ECF6\",\"width\":0.5},\"pattern\":{\"fillmode\":\"overlay\",\"size\":10,\"solidity\":0.2}},\"type\":\"bar\"}],\"barpolar\":[{\"marker\":{\"line\":{\"color\":\"#E5ECF6\",\"width\":0.5},\"pattern\":{\"fillmode\":\"overlay\",\"size\":10,\"solidity\":0.2}},\"type\":\"barpolar\"}],\"carpet\":[{\"aaxis\":{\"endlinecolor\":\"#2a3f5f\",\"gridcolor\":\"white\",\"linecolor\":\"white\",\"minorgridcolor\":\"white\",\"startlinecolor\":\"#2a3f5f\"},\"baxis\":{\"endlinecolor\":\"#2a3f5f\",\"gridcolor\":\"white\",\"linecolor\":\"white\",\"minorgridcolor\":\"white\",\"startlinecolor\":\"#2a3f5f\"},\"type\":\"carpet\"}],\"choropleth\":[{\"colorbar\":{\"outlinewidth\":0,\"ticks\":\"\"},\"type\":\"choropleth\"}],\"contour\":[{\"colorbar\":{\"outlinewidth\":0,\"ticks\":\"\"},\"colorscale\":[[0.0,\"#0d0887\"],[0.1111111111111111,\"#46039f\"],[0.2222222222222222,\"#7201a8\"],[0.3333333333333333,\"#9c179e\"],[0.4444444444444444,\"#bd3786\"],[0.5555555555555556,\"#d8576b\"],[0.6666666666666666,\"#ed7953\"],[0.7777777777777778,\"#fb9f3a\"],[0.8888888888888888,\"#fdca26\"],[1.0,\"#f0f921\"]],\"type\":\"contour\"}],\"contourcarpet\":[{\"colorbar\":{\"outlinewidth\":0,\"ticks\":\"\"},\"type\":\"contourcarpet\"}],\"heatmap\":[{\"colorbar\":{\"outlinewidth\":0,\"ticks\":\"\"},\"colorscale\":[[0.0,\"#0d0887\"],[0.1111111111111111,\"#46039f\"],[0.2222222222222222,\"#7201a8\"],[0.3333333333333333,\"#9c179e\"],[0.4444444444444444,\"#bd3786\"],[0.5555555555555556,\"#d8576b\"],[0.6666666666666666,\"#ed7953\"],[0.7777777777777778,\"#fb9f3a\"],[0.8888888888888888,\"#fdca26\"],[1.0,\"#f0f921\"]],\"type\":\"heatmap\"}],\"heatmapgl\":[{\"colorbar\":{\"outlinewidth\":0,\"ticks\":\"\"},\"colorscale\":[[0.0,\"#0d0887\"],[0.1111111111111111,\"#46039f\"],[0.2222222222222222,\"#7201a8\"],[0.3333333333333333,\"#9c179e\"],[0.4444444444444444,\"#bd3786\"],[0.5555555555555556,\"#d8576b\"],[0.6666666666666666,\"#ed7953\"],[0.7777777777777778,\"#fb9f3a\"],[0.8888888888888888,\"#fdca26\"],[1.0,\"#f0f921\"]],\"type\":\"heatmapgl\"}],\"histogram\":[{\"marker\":{\"pattern\":{\"fillmode\":\"overlay\",\"size\":10,\"solidity\":0.2}},\"type\":\"histogram\"}],\"histogram2d\":[{\"colorbar\":{\"outlinewidth\":0,\"ticks\":\"\"},\"colorscale\":[[0.0,\"#0d0887\"],[0.1111111111111111,\"#46039f\"],[0.2222222222222222,\"#7201a8\"],[0.3333333333333333,\"#9c179e\"],[0.4444444444444444,\"#bd3786\"],[0.5555555555555556,\"#d8576b\"],[0.6666666666666666,\"#ed7953\"],[0.7777777777777778,\"#fb9f3a\"],[0.8888888888888888,\"#fdca26\"],[1.0,\"#f0f921\"]],\"type\":\"histogram2d\"}],\"histogram2dcontour\":[{\"colorbar\":{\"outlinewidth\":0,\"ticks\":\"\"},\"colorscale\":[[0.0,\"#0d0887\"],[0.1111111111111111,\"#46039f\"],[0.2222222222222222,\"#7201a8\"],[0.3333333333333333,\"#9c179e\"],[0.4444444444444444,\"#bd3786\"],[0.5555555555555556,\"#d8576b\"],[0.6666666666666666,\"#ed7953\"],[0.7777777777777778,\"#fb9f3a\"],[0.8888888888888888,\"#fdca26\"],[1.0,\"#f0f921\"]],\"type\":\"histogram2dcontour\"}],\"mesh3d\":[{\"colorbar\":{\"outlinewidth\":0,\"ticks\":\"\"},\"type\":\"mesh3d\"}],\"parcoords\":[{\"line\":{\"colorbar\":{\"outlinewidth\":0,\"ticks\":\"\"}},\"type\":\"parcoords\"}],\"pie\":[{\"automargin\":true,\"type\":\"pie\"}],\"scatter\":[{\"marker\":{\"colorbar\":{\"outlinewidth\":0,\"ticks\":\"\"}},\"type\":\"scatter\"}],\"scatter3d\":[{\"line\":{\"colorbar\":{\"outlinewidth\":0,\"ticks\":\"\"}},\"marker\":{\"colorbar\":{\"outlinewidth\":0,\"ticks\":\"\"}},\"type\":\"scatter3d\"}],\"scattercarpet\":[{\"marker\":{\"colorbar\":{\"outlinewidth\":0,\"ticks\":\"\"}},\"type\":\"scattercarpet\"}],\"scattergeo\":[{\"marker\":{\"colorbar\":{\"outlinewidth\":0,\"ticks\":\"\"}},\"type\":\"scattergeo\"}],\"scattergl\":[{\"marker\":{\"colorbar\":{\"outlinewidth\":0,\"ticks\":\"\"}},\"type\":\"scattergl\"}],\"scattermapbox\":[{\"marker\":{\"colorbar\":{\"outlinewidth\":0,\"ticks\":\"\"}},\"type\":\"scattermapbox\"}],\"scatterpolar\":[{\"marker\":{\"colorbar\":{\"outlinewidth\":0,\"ticks\":\"\"}},\"type\":\"scatterpolar\"}],\"scatterpolargl\":[{\"marker\":{\"colorbar\":{\"outlinewidth\":0,\"ticks\":\"\"}},\"type\":\"scatterpolargl\"}],\"scatterternary\":[{\"marker\":{\"colorbar\":{\"outlinewidth\":0,\"ticks\":\"\"}},\"type\":\"scatterternary\"}],\"surface\":[{\"colorbar\":{\"outlinewidth\":0,\"ticks\":\"\"},\"colorscale\":[[0.0,\"#0d0887\"],[0.1111111111111111,\"#46039f\"],[0.2222222222222222,\"#7201a8\"],[0.3333333333333333,\"#9c179e\"],[0.4444444444444444,\"#bd3786\"],[0.5555555555555556,\"#d8576b\"],[0.6666666666666666,\"#ed7953\"],[0.7777777777777778,\"#fb9f3a\"],[0.8888888888888888,\"#fdca26\"],[1.0,\"#f0f921\"]],\"type\":\"surface\"}],\"table\":[{\"cells\":{\"fill\":{\"color\":\"#EBF0F8\"},\"line\":{\"color\":\"white\"}},\"header\":{\"fill\":{\"color\":\"#C8D4E3\"},\"line\":{\"color\":\"white\"}},\"type\":\"table\"}]},\"layout\":{\"annotationdefaults\":{\"arrowcolor\":\"#2a3f5f\",\"arrowhead\":0,\"arrowwidth\":1},\"autotypenumbers\":\"strict\",\"coloraxis\":{\"colorbar\":{\"outlinewidth\":0,\"ticks\":\"\"}},\"colorscale\":{\"diverging\":[[0,\"#8e0152\"],[0.1,\"#c51b7d\"],[0.2,\"#de77ae\"],[0.3,\"#f1b6da\"],[0.4,\"#fde0ef\"],[0.5,\"#f7f7f7\"],[0.6,\"#e6f5d0\"],[0.7,\"#b8e186\"],[0.8,\"#7fbc41\"],[0.9,\"#4d9221\"],[1,\"#276419\"]],\"sequential\":[[0.0,\"#0d0887\"],[0.1111111111111111,\"#46039f\"],[0.2222222222222222,\"#7201a8\"],[0.3333333333333333,\"#9c179e\"],[0.4444444444444444,\"#bd3786\"],[0.5555555555555556,\"#d8576b\"],[0.6666666666666666,\"#ed7953\"],[0.7777777777777778,\"#fb9f3a\"],[0.8888888888888888,\"#fdca26\"],[1.0,\"#f0f921\"]],\"sequentialminus\":[[0.0,\"#0d0887\"],[0.1111111111111111,\"#46039f\"],[0.2222222222222222,\"#7201a8\"],[0.3333333333333333,\"#9c179e\"],[0.4444444444444444,\"#bd3786\"],[0.5555555555555556,\"#d8576b\"],[0.6666666666666666,\"#ed7953\"],[0.7777777777777778,\"#fb9f3a\"],[0.8888888888888888,\"#fdca26\"],[1.0,\"#f0f921\"]]},\"colorway\":[\"#636efa\",\"#EF553B\",\"#00cc96\",\"#ab63fa\",\"#FFA15A\",\"#19d3f3\",\"#FF6692\",\"#B6E880\",\"#FF97FF\",\"#FECB52\"],\"font\":{\"color\":\"#2a3f5f\"},\"geo\":{\"bgcolor\":\"white\",\"lakecolor\":\"white\",\"landcolor\":\"#E5ECF6\",\"showlakes\":true,\"showland\":true,\"subunitcolor\":\"white\"},\"hoverlabel\":{\"align\":\"left\"},\"hovermode\":\"closest\",\"mapbox\":{\"style\":\"light\"},\"paper_bgcolor\":\"white\",\"plot_bgcolor\":\"#E5ECF6\",\"polar\":{\"angularaxis\":{\"gridcolor\":\"white\",\"linecolor\":\"white\",\"ticks\":\"\"},\"bgcolor\":\"#E5ECF6\",\"radialaxis\":{\"gridcolor\":\"white\",\"linecolor\":\"white\",\"ticks\":\"\"}},\"scene\":{\"xaxis\":{\"backgroundcolor\":\"#E5ECF6\",\"gridcolor\":\"white\",\"gridwidth\":2,\"linecolor\":\"white\",\"showbackground\":true,\"ticks\":\"\",\"zerolinecolor\":\"white\"},\"yaxis\":{\"backgroundcolor\":\"#E5ECF6\",\"gridcolor\":\"white\",\"gridwidth\":2,\"linecolor\":\"white\",\"showbackground\":true,\"ticks\":\"\",\"zerolinecolor\":\"white\"},\"zaxis\":{\"backgroundcolor\":\"#E5ECF6\",\"gridcolor\":\"white\",\"gridwidth\":2,\"linecolor\":\"white\",\"showbackground\":true,\"ticks\":\"\",\"zerolinecolor\":\"white\"}},\"shapedefaults\":{\"line\":{\"color\":\"#2a3f5f\"}},\"ternary\":{\"aaxis\":{\"gridcolor\":\"white\",\"linecolor\":\"white\",\"ticks\":\"\"},\"baxis\":{\"gridcolor\":\"white\",\"linecolor\":\"white\",\"ticks\":\"\"},\"bgcolor\":\"#E5ECF6\",\"caxis\":{\"gridcolor\":\"white\",\"linecolor\":\"white\",\"ticks\":\"\"}},\"title\":{\"x\":0.05},\"xaxis\":{\"automargin\":true,\"gridcolor\":\"white\",\"linecolor\":\"white\",\"ticks\":\"\",\"title\":{\"standoff\":15},\"zerolinecolor\":\"white\",\"zerolinewidth\":2},\"yaxis\":{\"automargin\":true,\"gridcolor\":\"white\",\"linecolor\":\"white\",\"ticks\":\"\",\"title\":{\"standoff\":15},\"zerolinecolor\":\"white\",\"zerolinewidth\":2}}},\"xaxis\":{\"anchor\":\"y\",\"domain\":[0.0,1.0],\"title\":{\"text\":\"GarageType\"},\"categoryorder\":\"array\",\"categoryarray\":[\"Attchd\",\"Detchd\",\"BuiltIn\",\"CarPort\",\"None\",\"Basment\",\"2Types\"]},\"yaxis\":{\"anchor\":\"x\",\"domain\":[0.0,1.0],\"title\":{\"text\":\"GarageArea\"}},\"legend\":{\"title\":{\"text\":\"GarageType\"},\"tracegroupgap\":0},\"margin\":{\"t\":60},\"boxmode\":\"overlay\",\"height\":400,\"width\":800},                        {\"responsive\": true}                    ).then(function(){\n",
              "                            \n",
              "var gd = document.getElementById('c45b0044-e8ac-46b4-ac42-f13913c82186');\n",
              "var x = new MutationObserver(function (mutations, observer) {{\n",
              "        var display = window.getComputedStyle(gd).display;\n",
              "        if (!display || display === 'none') {{\n",
              "            console.log([gd, 'removed!']);\n",
              "            Plotly.purge(gd);\n",
              "            observer.disconnect();\n",
              "        }}\n",
              "}});\n",
              "\n",
              "// Listen for the removal of the full notebook cells\n",
              "var notebookContainer = gd.closest('#notebook-container');\n",
              "if (notebookContainer) {{\n",
              "    x.observe(notebookContainer, {childList: true});\n",
              "}}\n",
              "\n",
              "// Listen for the clearing of the current output cell\n",
              "var outputEl = gd.closest('.output');\n",
              "if (outputEl) {{\n",
              "    x.observe(outputEl, {childList: true});\n",
              "}}\n",
              "\n",
              "                        })                };                            </script>        </div>\n",
              "</body>\n",
              "</html>"
            ]
          },
          "metadata": {}
        },
        {
          "output_type": "stream",
          "name": "stdout",
          "text": [
            "                  sum_sq      df          F         PR(>F)\n",
            "GarageType  4.656781e+07     6.0  254.52425  3.250706e-262\n",
            "Residual    8.876619e+07  2911.0        NaN            NaN\n"
          ]
        }
      ],
      "source": [
        "fig = px.box(all_features, x='GarageType', y='GarageArea', color='GarageType', width=800, height=400)\n",
        "fig.show()\n",
        "\n",
        "import statsmodels.api as sm\n",
        "from statsmodels.formula.api import ols\n",
        "model = ols('GarageArea ~ GarageType', data=all_features).fit()\n",
        "anova_table = sm.stats.anova_lm(model, typ=2)\n",
        "print(anova_table)"
      ]
    },
    {
      "cell_type": "code",
      "execution_count": null,
      "metadata": {
        "id": "dCtfcjGA4dsd"
      },
      "outputs": [],
      "source": [
        "# NA <- Median by group of another categorical variable\n",
        "all_features['LotFrontage'] = all_features['LotFrontage'].fillna(all_features.groupby('Neighborhood')['LotFrontage'].transform('median'))\n",
        "all_features['MasVnrArea'] = all_features['MasVnrArea'].fillna(all_features.groupby('MasVnrType')['MasVnrArea'].transform('median'))\n",
        "all_features['GarageArea'] = all_features['GarageArea'].fillna(all_features.groupby('GarageType')['GarageArea'].transform('median'))"
      ]
    },
    {
      "cell_type": "markdown",
      "source": [
        "#### >> Replace NA by 'prediction value' of the predictive model with relevant input variable "
      ],
      "metadata": {
        "id": "jCowWlerIRD3"
      }
    },
    {
      "cell_type": "code",
      "source": [
        "px.scatter(all_features, x='GarageArea', y='GarageCars', width=400, height=400)"
      ],
      "metadata": {
        "colab": {
          "base_uri": "https://localhost:8080/",
          "height": 417
        },
        "id": "N_dqbkZQl_Ps",
        "outputId": "abd0dd2c-4550-4807-c2e9-72d88b778be8"
      },
      "execution_count": null,
      "outputs": [
        {
          "output_type": "display_data",
          "data": {
            "text/html": [
              "<html>\n",
              "<head><meta charset=\"utf-8\" /></head>\n",
              "<body>\n",
              "    <div>            <script src=\"https://cdnjs.cloudflare.com/ajax/libs/mathjax/2.7.5/MathJax.js?config=TeX-AMS-MML_SVG\"></script><script type=\"text/javascript\">if (window.MathJax) {MathJax.Hub.Config({SVG: {font: \"STIX-Web\"}});}</script>                <script type=\"text/javascript\">window.PlotlyConfig = {MathJaxConfig: 'local'};</script>\n",
              "        <script src=\"https://cdn.plot.ly/plotly-2.8.3.min.js\"></script>                <div id=\"d58266fd-6fd4-4eca-8ab2-f84992de1f2c\" class=\"plotly-graph-div\" style=\"height:400px; width:400px;\"></div>            <script type=\"text/javascript\">                                    window.PLOTLYENV=window.PLOTLYENV || {};                                    if (document.getElementById(\"d58266fd-6fd4-4eca-8ab2-f84992de1f2c\")) {                    Plotly.newPlot(                        \"d58266fd-6fd4-4eca-8ab2-f84992de1f2c\",                        [{\"hovertemplate\":\"GarageArea=%{x}<br>GarageCars=%{y}<extra></extra>\",\"legendgroup\":\"\",\"marker\":{\"color\":\"#636efa\",\"symbol\":\"circle\"},\"mode\":\"markers\",\"name\":\"\",\"showlegend\":false,\"x\":[548.0,460.0,608.0,642.0,836.0,480.0,636.0,484.0,468.0,205.0,384.0,736.0,352.0,840.0,352.0,576.0,480.0,516.0,576.0,294.0,853.0,280.0,534.0,572.0,270.0,890.0,576.0,772.0,319.0,240.0,250.0,271.0,484.0,447.0,556.0,691.0,672.0,498.0,246.0,0.0,440.0,308.0,504.0,308.0,300.0,576.0,670.0,826.0,0.0,386.0,388.0,528.0,516.0,894.0,572.0,576.0,480.0,565.0,641.0,352.0,576.0,288.0,484.0,480.0,645.0,852.0,576.0,558.0,220.0,667.0,516.0,360.0,427.0,490.0,379.0,297.0,283.0,240.0,0.0,440.0,509.0,405.0,758.0,461.0,400.0,462.0,400.0,528.0,0.0,0.0,420.0,480.0,432.0,506.0,684.0,420.0,472.0,432.0,366.0,0.0,480.0,476.0,410.0,740.0,240.0,648.0,273.0,250.0,0.0,546.0,325.0,400.0,792.0,450.0,180.0,440.0,288.0,430.0,594.0,390.0,540.0,264.0,288.0,530.0,435.0,0.0,440.0,0.0,453.0,750.0,487.0,390.0,624.0,471.0,440.0,530.0,318.0,766.0,660.0,470.0,0.0,660.0,720.0,577.0,504.0,380.0,180.0,434.0,0.0,240.0,440.0,866.0,495.0,564.0,312.0,0.0,625.0,680.0,678.0,576.0,516.0,726.0,532.0,0.0,216.0,0.0,303.0,789.0,440.0,511.0,660.0,528.0,504.0,504.0,616.0,576.0,521.0,451.0,1166.0,480.0,440.0,216.0,252.0,484.0,576.0,840.0,497.0,180.0,528.0,682.0,440.0,484.0,666.0,380.0,352.0,440.0,786.0,795.0,0.0,856.0,440.0,473.0,398.0,420.0,240.0,500.0,349.0,312.0,454.0,504.0,0.0,460.0,644.0,576.0,299.0,447.0,484.0,210.0,431.0,438.0,675.0,390.0,434.0,576.0,968.0,280.0,721.0,280.0,336.0,430.0,312.0,810.0,288.0,308.0,440.0,264.0,494.0,457.0,818.0,220.0,750.0,0.0,352.0,288.0,463.0,604.0,440.0,451.0,500.0,389.0,0.0,538.0,520.0,309.0,294.0,429.0,673.0,660.0,564.0,308.0,884.0,868.0,492.0,484.0,504.0,576.0,413.0,240.0,924.0,504.0,1053.0,439.0,671.0,338.0,264.0,672.0,573.0,400.0,732.0,505.0,575.0,572.0,626.0,898.0,529.0,528.0,440.0,0.0,280.0,384.0,685.0,0.0,281.0,539.0,418.0,588.0,282.0,576.0,539.0,300.0,375.0,683.0,843.0,552.0,870.0,888.0,746.0,0.0,539.0,708.0,420.0,240.0,410.0,513.0,546.0,432.0,484.0,1025.0,656.0,588.0,840.0,872.0,576.0,220.0,564.0,360.0,473.0,292.0,441.0,189.0,352.0,308.0,880.0,484.0,472.0,529.0,676.0,532.0,440.0,297.0,431.0,294.0,400.0,564.0,336.0,312.0,301.0,498.0,474.0,706.0,617.0,445.0,200.0,484.0,240.0,521.0,400.0,528.0,288.0,592.0,470.0,240.0,672.0,264.0,566.0,468.0,514.0,296.0,244.0,576.0,460.0,680.0,264.0,270.0,434.0,0.0,576.0,610.0,834.0,463.0,308.0,572.0,639.0,360.0,501.0,430.0,0.0,352.0,577.0,846.0,384.0,560.0,294.0,0.0,240.0,596.0,600.0,264.0,338.0,438.0,500.0,400.0,240.0,420.0,373.0,490.0,240.0,308.0,947.0,836.0,350.0,572.0,484.0,360.0,678.0,396.0,440.0,864.0,240.0,304.0,784.0,529.0,520.0,696.0,297.0,240.0,569.0,352.0,628.0,576.0,264.0,0.0,440.0,470.0,0.0,550.0,440.0,180.0,352.0,528.0,672.0,0.0,360.0,648.0,493.0,480.0,578.0,431.0,198.0,308.0,270.0,576.0,422.0,676.0,560.0,528.0,513.0,529.0,228.0,352.0,552.0,576.0,360.0,240.0,0.0,398.0,526.0,312.0,866.0,506.0,528.0,534.0,525.0,908.0,499.0,624.0,508.0,694.0,826.0,672.0,772.0,874.0,164.0,402.0,264.0,264.0,515.0,487.0,520.0,286.0,336.0,240.0,429.0,308.0,273.0,0.0,546.0,240.0,288.0,297.0,264.0,603.0,461.0,484.0,440.0,400.0,471.0,676.0,360.0,270.0,288.0,474.0,624.0,484.0,200.0,900.0,583.0,889.0,546.0,282.0,0.0,336.0,420.0,884.0,834.0,453.0,252.0,858.0,0.0,484.0,600.0,502.0,392.0,0.0,403.0,0.0,527.0,576.0,336.0,670.0,765.0,648.0,583.0,367.0,426.0,786.0,440.0,624.0,720.0,615.0,440.0,288.0,908.0,520.0,871.0,280.0,299.0,570.0,406.0,420.0,528.0,418.0,0.0,396.0,590.0,216.0,656.0,532.0,612.0,600.0,576.0,288.0,650.0,400.0,288.0,336.0,216.0,564.0,540.0,352.0,572.0,1390.0,0.0,880.0,240.0,880.0,275.0,528.0,452.0,308.0,520.0,842.0,816.0,420.0,280.0,758.0,216.0,648.0,621.0,452.0,736.0,544.0,506.0,480.0,530.0,486.0,576.0,230.0,380.0,261.0,736.0,564.0,531.0,0.0,0.0,480.0,393.0,528.0,774.0,749.0,0.0,624.0,484.0,440.0,484.0,440.0,286.0,364.0,504.0,520.0,240.0,627.0,544.0,260.0,576.0,0.0,0.0,256.0,0.0,648.0,588.0,650.0,538.0,462.0,478.0,576.0,420.0,495.0,442.0,0.0,562.0,296.0,512.0,216.0,839.0,264.0,312.0,270.0,330.0,480.0,550.0,711.0,576.0,588.0,1134.0,504.0,596.0,575.0,576.0,252.0,540.0,300.0,546.0,416.0,384.0,440.0,779.0,240.0,834.0,572.0,264.0,281.0,431.0,702.0,486.0,577.0,578.0,480.0,567.0,460.0,420.0,832.0,628.0,326.0,576.0,551.0,205.0,308.0,336.0,530.0,765.0,528.0,666.0,672.0,606.0,0.0,739.0,550.0,400.0,408.0,0.0,384.0,472.0,576.0,475.0,478.0,704.0,439.0,983.0,300.0,564.0,420.0,463.0,548.0,768.0,660.0,540.0,632.0,888.0,539.0,608.0,438.0,541.0,264.0,300.0,320.0,400.0,800.0,0.0,572.0,360.0,288.0,539.0,480.0,462.0,831.0,554.0,864.0,527.0,240.0,0.0,400.0,576.0,878.0,440.0,440.0,578.0,440.0,440.0,752.0,300.0,440.0,614.0,856.0,481.0,592.0,496.0,423.0,484.0,841.0,576.0,396.0,672.0,275.0,895.0,412.0,865.0,440.0,630.0,504.0,402.0,484.0,605.0,602.0,0.0,457.0,416.0,618.0,281.0,444.0,397.0,539.0,455.0,474.0,409.0,476.0,528.0,240.0,820.0,240.0,603.0,440.0,410.0,1020.0,286.0,554.0,384.0,528.0,484.0,360.0,484.0,420.0,504.0,301.0,280.0,598.0,275.0,857.0,440.0,484.0,595.0,576.0,433.0,240.0,776.0,1220.0,0.0,527.0,538.0,480.0,458.0,480.0,613.0,472.0,456.0,436.0,812.0,264.0,352.0,240.0,400.0,686.0,490.0,0.0,720.0,611.0,425.0,338.0,360.0,512.0,420.0,400.0,240.0,645.0,454.0,260.0,576.0,343.0,479.0,619.0,216.0,504.0,480.0,672.0,529.0,902.0,870.0,544.0,672.0,574.0,308.0,523.0,414.0,288.0,200.0,550.0,648.0,738.0,576.0,336.0,450.0,400.0,389.0,440.0,288.0,506.0,588.0,300.0,621.0,505.0,576.0,440.0,264.0,354.0,400.0,483.0,327.0,528.0,820.0,288.0,684.0,756.0,393.0,690.0,288.0,280.0,865.0,180.0,484.0,390.0,480.0,252.0,450.0,871.0,528.0,286.0,308.0,284.0,833.0,601.0,471.0,0.0,397.0,533.0,612.0,540.0,656.0,486.0,522.0,642.0,610.0,429.0,788.0,570.0,505.0,528.0,555.0,689.0,868.0,349.0,574.0,390.0,0.0,576.0,525.0,456.0,796.0,808.0,474.0,676.0,720.0,300.0,396.0,530.0,0.0,492.0,462.0,576.0,531.0,484.0,0.0,619.0,440.0,702.0,510.0,393.0,256.0,260.0,0.0,264.0,0.0,474.0,264.0,480.0,532.0,490.0,0.0,569.0,400.0,480.0,588.0,676.0,388.0,779.0,539.0,240.0,255.0,606.0,551.0,614.0,870.0,424.0,440.0,564.0,786.0,305.0,368.0,615.0,210.0,632.0,528.0,216.0,824.0,528.0,457.0,328.0,484.0,286.0,550.0,0.0,312.0,0.0,180.0,280.0,240.0,528.0,478.0,565.0,402.0,440.0,451.0,632.0,160.0,437.0,665.0,461.0,461.0,800.0,240.0,264.0,0.0,672.0,796.0,900.0,240.0,290.0,912.0,905.0,0.0,286.0,484.0,484.0,624.0,514.0,542.0,452.0,716.0,672.0,336.0,308.0,436.0,440.0,540.0,364.0,586.0,478.0,484.0,467.0,836.0,432.0,582.0,1248.0,560.0,440.0,480.0,533.0,380.0,442.0,576.0,576.0,286.0,441.0,280.0,440.0,826.0,240.0,566.0,299.0,420.0,299.0,528.0,308.0,527.0,461.0,409.0,564.0,286.0,1043.0,380.0,550.0,400.0,462.0,576.0,884.0,308.0,440.0,0.0,461.0,240.0,478.0,246.0,280.0,254.0,539.0,440.0,712.0,719.0,422.0,463.0,862.0,431.0,483.0,308.0,240.0,326.0,928.0,527.0,450.0,300.0,286.0,308.0,782.0,288.0,0.0,392.0,672.0,660.0,630.0,434.0,672.0,576.0,0.0,205.0,466.0,460.0,180.0,288.0,0.0,714.0,495.0,840.0,484.0,1052.0,0.0,280.0,225.0,403.0,234.0,288.0,324.0,306.0,528.0,470.0,432.0,492.0,528.0,502.0,626.0,830.0,540.0,440.0,924.0,450.0,400.0,588.0,644.0,776.0,472.0,540.0,807.0,358.0,433.0,625.0,0.0,360.0,541.0,264.0,210.0,186.0,0.0,693.0,482.0,813.0,720.0,995.0,392.0,420.0,757.0,493.0,442.0,1356.0,492.0,250.0,402.0,299.0,400.0,660.0,225.0,573.0,459.0,280.0,546.0,216.0,451.0,495.0,701.0,384.0,544.0,506.0,500.0,462.0,492.0,234.0,364.0,300.0,384.0,539.0,552.0,0.0,0.0,288.0,322.0,315.0,528.0,388.0,264.0,668.0,576.0,1052.0,404.0,600.0,540.0,462.0,531.0,0.0,180.0,474.0,434.0,484.0,472.0,543.0,954.0,528.0,850.0,400.0,477.0,615.0,888.0,396.0,276.0,522.0,478.0,288.0,518.0,397.0,560.0,691.0,0.0,400.0,460.0,502.0,338.0,304.0,520.0,511.0,506.0,308.0,746.0,1014.0,315.0,586.0,462.0,288.0,312.0,552.0,400.0,497.0,480.0,577.0,528.0,544.0,484.0,484.0,0.0,336.0,280.0,528.0,390.0,499.0,753.0,484.0,264.0,432.0,528.0,572.0,288.0,525.0,525.0,1418.0,305.0,490.0,213.0,844.0,834.0,380.0,840.0,474.0,480.0,528.0,496.0,567.0,508.0,750.0,779.0,280.0,576.0,860.0,466.0,748.0,248.0,442.0,287.0,564.0,0.0,895.0,0.0,0.0,264.0,520.0,462.0,825.0,576.0,288.0,297.0,440.0,630.0,506.0,0.0,492.0,288.0,480.0,576.0,647.0,342.0,440.0,308.0,508.0,712.0,514.0,0.0,968.0,490.0,624.0,666.0,839.0,487.0,264.0,500.0,440.0,770.0,621.0,430.0,368.0,432.0,480.0,663.0,588.0,336.0,420.0,502.0,338.0,377.0,583.0,804.0,936.0,722.0,160.0,660.0,264.0,400.0,200.0,550.0,576.0,576.0,280.0,240.0,564.0,216.0,758.0,440.0,541.0,792.0,288.0,672.0,648.0,642.0,572.0,180.0,240.0,216.0,208.0,398.0,662.0,754.0,936.0,482.0,396.0,0.0,528.0,542.0,622.0,271.0,420.0,620.0,370.0,660.0,560.0,1069.0,336.0,540.0,776.0,440.0,420.0,432.0,484.0,528.0,525.0,288.0,240.0,467.0,372.0,440.0,216.0,451.0,484.0,462.0,528.0,774.0,923.0,550.0,672.0,420.0,812.0,192.0,626.0,240.0,312.0,556.0,384.0,0.0,0.0,840.0,525.0,0.0,400.0,460.0,500.0,252.0,240.0,276.0,730.0,312.0,482.0,470.0,506.0,440.0,420.0,393.0,506.0,525.0,511.0,264.0,320.0,440.0,308.0,751.0,868.0,730.0,678.0,958.0,756.0,484.0,430.0,437.0,400.0,433.0,962.0,880.0,676.0,528.0,484.0,429.0,461.0,762.0,713.0,506.0,588.0,480.0,480.0,480.0,440.0,496.0,852.0,592.0,596.0,535.0,660.0,678.0,441.0,490.0,504.0,517.0,480.0,0.0,400.0,470.0,315.0,576.0,620.0,308.0,312.0,440.0,263.0,318.0,305.0,264.0,676.0,280.0,484.0,440.0,240.0,0.0,551.0,240.0,240.0,315.0,780.0,288.0,624.0,0.0,624.0,363.0,315.0,200.0,240.0,576.0,240.0,312.0,624.0,480.0,288.0,572.0,0.0,180.0,365.0,180.0,0.0,231.0,0.0,450.0,0.0,416.0,280.0,591.0,480.0,690.0,440.0,522.0,480.0,467.0,209.0,366.0,572.0,504.0,528.0,1017.0,615.0,484.0,580.0,513.0,308.0,484.0,850.0,621.0,420.0,240.0,319.0,336.0,480.0,352.0,0.0,260.0,399.0,0.0,0.0,312.0,484.0,473.0,598.0,531.0,200.0,625.0,330.0,525.0,741.0,473.0,776.0,660.0,520.0,400.0,528.0,624.0,686.0,253.0,0.0,0.0,286.0,352.0,495.0,616.0,576.0,275.0,482.0,616.0,502.0,528.0,470.0,632.0,390.0,564.0,495.0,528.0,396.0,440.0,409.0,430.0,567.0,529.0,484.0,441.0,479.0,581.0,588.0,565.0,478.0,528.0,506.0,477.0,336.0,576.0,576.0,264.0,288.0,440.0,440.0,440.0,440.0,440.0,345.0,656.0,754.0,864.0,896.0,762.0,834.0,932.0,640.0,927.0,700.0,850.0,583.0,886.0,730.0,871.0,484.0,624.0,484.0,949.0,685.0,649.0,539.0,701.0,478.0,390.0,392.0,397.0,400.0,436.0,434.0,400.0,393.0,644.0,400.0,394.0,400.0,658.0,410.0,810.0,815.0,647.0,623.0,972.0,726.0,844.0,492.0,795.0,529.0,625.0,984.0,692.0,782.0,517.0,711.0,588.0,628.0,576.0,484.0,0.0,478.0,845.0,576.0,0.0,576.0,788.0,559.0,528.0,542.0,495.0,465.0,612.0,400.0,732.0,440.0,288.0,300.0,252.0,864.0,524.0,704.0,561.0,641.0,440.0,506.0,642.0,540.0,527.0,784.0,515.0,502.0,336.0,520.0,312.0,440.0,498.0,495.0,396.0,308.0,768.0,576.0,610.0,520.0,549.0,368.0,330.0,550.0,530.0,542.0,286.0,441.0,297.0,304.0,350.0,294.0,495.0,297.0,480.0,240.0,230.0,616.0,410.0,246.0,366.0,720.0,281.0,264.0,528.0,624.0,0.0,576.0,320.0,907.0,364.0,480.0,480.0,308.0,384.0,900.0,294.0,240.0,288.0,384.0,576.0,483.0,564.0,264.0,162.0,324.0,472.0,0.0,400.0,0.0,0.0,308.0,288.0,308.0,287.0,720.0,357.0,280.0,0.0,207.0,640.0,0.0,216.0,336.0,320.0,264.0,250.0,1184.0,576.0,216.0,0.0,316.0,379.0,0.0,384.0,0.0,308.0,220.0,0.0,252.0,226.0,668.0,504.0,384.0,480.0,336.0,0.0,498.0,340.0,240.0,252.0,266.0,462.0,576.0,473.0,576.0,720.0,400.0,672.0,400.0,820.0,820.0,820.0,1138.0,846.0,904.0,524.0,662.0,810.0,844.0,440.0,525.0,440.0,539.0,492.0,577.0,608.0,343.0,444.0,1231.0,570.0,550.0,608.0,521.0,523.0,511.0,810.0,440.0,544.0,525.0,320.0,195.0,0.0,313.0,256.0,250.0,180.0,440.0,215.0,440.0,307.0,400.0,390.0,463.0,295.0,576.0,452.0,462.0,462.0,501.0,551.0,576.0,200.0,482.0,280.0,642.0,351.0,541.0,672.0,780.0,885.0,440.0,578.0,486.0,920.0,384.0,504.0,336.0,429.0,698.0,440.0,898.0,470.0,420.0,472.0,386.0,404.0,528.0,506.0,460.0,416.0,462.0,683.0,670.0,495.0,557.0,738.0,528.0,598.0,550.0,551.0,461.0,489.0,484.0,1314.0,473.0,787.0,480.0,288.0,576.0,264.0,352.0,264.0,460.0,440.0,905.0,650.0,706.0,850.0,1150.0,1003.0,656.0,756.0,789.0,732.0,746.0,795.0,870.0,484.0,944.0,550.0,550.0,474.0,644.0,668.0,428.0,393.0,400.0,434.0,484.0,431.0,403.0,400.0,450.0,516.0,687.0,938.0,576.0,751.0,783.0,642.0,851.0,880.0,480.0,588.0,660.0,462.0,542.0,478.0,0.0,483.0,525.0,474.0,483.0,627.0,506.0,384.0,420.0,308.0,276.0,484.0,490.0,473.0,636.0,495.0,480.0,540.0,440.0,495.0,545.0,588.0,484.0,462.0,546.0,480.0,480.0,846.0,477.0,864.0,550.0,469.0,516.0,512.0,578.0,484.0,470.0,576.0,576.0,464.0,267.0,451.0,264.0,231.0,450.0,264.0,312.0,480.0,292.0,480.0,441.0,384.0,240.0,636.0,400.0,540.0,301.0,484.0,390.0,288.0,308.0,1488.0,372.0,495.0,401.0,576.0,311.0,299.0,576.0,280.0,240.0,0.0,480.0,350.0,264.0,308.0,400.0,330.0,256.0,308.0,0.0,440.0,225.0,0.0,828.0,200.0,0.0,869.0,297.0,0.0,420.0,288.0,308.0,393.0,0.0,400.0,342.0,308.0,308.0,288.0,252.0,240.0,240.0,200.0,240.0,370.0,672.0,240.0,160.0,355.0,280.0,336.0,164.0,400.0,576.0,672.0,360.0,228.0,440.0,308.0,400.0,400.0,320.0,384.0,576.0,0.0,240.0,440.0,484.0,294.0,504.0,270.0,506.0,400.0,300.0,621.0,626.0,627.0,912.0,478.0,249.0,0.0,322.0,0.0,280.0,614.0,534.0,453.0,472.0,484.0,864.0,1348.0,874.0,811.0,438.0,528.0,558.0,600.0,532.0,626.0,528.0,576.0,440.0,570.0,725.0,715.0,596.0,560.0,420.0,721.0,470.0,814.0,610.0,264.0,504.0,480.0,542.0,440.0,624.0,0.0,0.0,0.0,0.0,0.0,286.0,312.0,205.0,312.0,480.0,369.0,400.0,180.0,599.0,240.0,225.0,344.0,786.0,506.0,484.0,462.0,195.0,240.0,0.0,288.0,360.0,356.0,487.0,185.0,195.0,216.0,525.0,482.0,786.0,816.0,484.0,432.0,512.0,788.0,612.0,400.0,666.0,438.0,578.0,467.0,435.0,520.0,892.0,784.0,0.0,392.0,850.0,499.0,336.0,297.0,297.0,257.0,0.0,264.0,264.0,484.0,288.0,525.0,390.0,398.0,451.0,420.0,482.0,420.0,392.0,480.0,480.0,484.0,729.0,1110.0,828.0,556.0,724.0,724.0,480.0,484.0,663.0,481.0,495.0,478.0,944.0,585.0,488.0,576.0,368.0,270.0,511.0,522.0,264.0,264.0,319.0,360.0,730.0,856.0,938.0,1040.0,670.0,878.0,932.0,814.0,1174.0,728.0,786.0,843.0,916.0,818.0,774.0,878.0,554.0,876.0,631.0,631.0,460.0,627.0,564.0,550.0,478.0,572.0,400.0,454.0,440.0,350.0,388.0,440.0,400.0,462.0,630.0,388.0,437.0,400.0,534.0,400.0,434.0,435.0,442.0,460.0,925.0,806.0,758.0,600.0,517.0,933.0,605.0,852.0,484.0,1092.0,480.0,484.0,672.0,574.0,859.0,598.0,575.0,590.0,561.0,880.0,594.0,658.0,744.0,0.0,0.0,576.0,566.0,492.0,283.0,308.0,686.0,564.0,431.0,542.0,540.0,484.0,476.0,466.0,528.0,440.0,440.0,625.0,552.0,1105.0,478.0,546.0,676.0,412.0,570.0,480.0,528.0,515.0,472.0,473.0,484.0,311.0,308.0,530.0,396.0,440.0,784.0,312.0,440.0,440.0,539.0,286.0,510.0,512.0,0.0,0.0,308.0,288.0,792.0,432.0,525.0,315.0,308.0,692.0,336.0,464.0,308.0,310.0,336.0,336.0,484.0,410.0,293.0,252.0,352.0,390.0,280.0,420.0,0.0,371.0,1200.0,580.0,0.0,276.0,240.0,288.0,357.0,286.0,338.0,324.0,351.0,300.0,294.0,288.0,576.0,576.0,184.0,180.0,379.0,576.0,252.0,342.0,816.0,374.0,480.0,468.0,336.0,576.0,331.0,384.0,308.0,308.0,224.0,217.0,240.0,528.0,280.0,230.0,379.0,408.0,576.0,576.0,456.0,240.0,216.0,658.0,299.0,720.0,436.0,264.0,498.0,240.0,308.0,572.0,440.0,528.0,264.0,576.0,264.0,528.0,315.0,323.0,638.0,224.0,494.0,303.0,460.0,552.0,576.0,649.0,336.0,527.0,332.0,399.0,308.0,264.0,256.0,253.0,280.0,515.0,499.0,870.0,894.0,870.0,796.0,674.0,524.0,578.0,619.0,529.0,747.0,497.0,384.0,242.0,597.0,534.0,517.0,486.0,440.0,370.0,576.0,748.0,308.0,440.0,576.0,728.0,583.0,610.0,542.0,484.0,560.0,608.0,482.0,552.0,578.0,437.0,484.0,400.0,384.0,520.0,576.0,622.0,528.0,579.0,489.0,1154.0,525.0,392.0,0.0,0.0,216.0,355.0,528.0,0.0,352.0,240.0,216.0,228.0,225.0,264.0,400.0,231.0,528.0,580.0,552.0,462.0,628.0,509.0,625.0,691.0,720.0,0.0,399.5,100.0,256.0,0.0,720.0,216.0,495.0,486.0,650.0,576.0,506.0,360.0,528.0,512.0,461.0,433.0,502.0,528.0,471.0,692.0,571.0,452.0,932.0,1041.0,460.0,253.0,297.0,0.0,286.0,678.0,528.0,672.0,531.0,0.0,444.0,502.0,264.0,288.0,452.0,313.0,963.0,550.0,506.0,400.0,423.0,443.0,527.0,773.0,618.0,402.0,461.0,670.0,758.0,675.0,736.0,660.0,517.0,722.0,582.0,482.0,596.0,541.0,485.0,462.0,576.0,543.0,440.0,440.0,264.0,264.0,264.0,440.0,300.0,319.0,460.0,831.0,880.0,874.0,1085.0,670.0,521.0,575.0,672.0,784.0,925.0,816.0,746.0,556.0,899.0,575.0,390.0,440.0,427.0,632.0,440.0,437.0,398.0,388.0,440.0,433.0,431.0,617.0,885.0,768.0,774.0,725.0,959.0,803.0,704.0,760.0,928.0,510.0,584.0,792.0,615.0,0.0,612.0,0.0,462.0,449.0,688.0,462.0,542.0,484.0,472.0,624.0,528.0,576.0,310.0,294.0,484.0,308.0,0.0,288.0,550.0,888.0,588.0,480.0,440.0,496.0,434.0,564.0,501.0,477.0,504.0,530.0,504.0,326.0,264.0,568.0,299.0,430.0,480.0,286.0,240.0,273.0,441.0,240.0,280.0,234.0,240.0,506.0,441.0,430.0,331.0,488.0,300.0,353.0,286.0,280.0,400.0,684.0,319.0,300.0,270.0,791.0,896.0,1008.0,649.0,371.0,660.0,280.0,528.0,648.0,294.0,264.0,418.0,484.0,441.0,597.0,400.0,0.0,288.0,528.0,336.0,0.0,624.0,240.0,162.0,400.0,576.0,200.0,576.0,280.0,216.0,528.0,216.0,576.0,450.0,200.0,378.0,250.0,432.0,0.0,624.0,0.0,240.0,258.0,180.0,210.0,576.0,370.0,390.0,0.0,308.0,288.0,576.0,394.0,260.0,180.0,246.0,528.0,336.0,286.0,512.0,616.0,580.0,586.0,322.0,521.0,575.0,576.0,450.0,504.0,215.0,795.0,836.0,528.0,569.0,288.0,305.0,506.0,920.0,848.0,632.0,495.0,754.0,638.0,576.0,610.0,522.0,462.0,473.0,591.0,515.0,586.0,317.0,672.0,297.0,591.0,530.0,418.0,529.0,646.0,467.0,555.0,610.0,420.0,545.0,578.0,572.0,502.0,528.0,0.0,360.0,616.0,0.0,502.0,525.0,380.0,265.0,528.0,288.0,609.0,0.0,216.0,275.0,240.0,440.0,312.0,216.0,288.0,240.0,240.0,318.0,410.0,451.0,579.0,365.0,342.0,215.0,506.0,0.0,272.0,384.0,0.0,0.0,0.0,495.0,525.0,576.0,616.0,490.0,528.0,518.0,470.0,714.0,682.0,270.0,784.0,336.0,288.0,928.0,0.0,253.0,336.0,286.0,0.0,0.0,286.0,576.0,0.0,650.0],\"xaxis\":\"x\",\"y\":[2.0,2.0,2.0,3.0,3.0,2.0,2.0,2.0,2.0,1.0,1.0,3.0,1.0,3.0,1.0,2.0,2.0,2.0,2.0,1.0,3.0,1.0,2.0,2.0,1.0,3.0,2.0,3.0,1.0,1.0,1.0,1.0,2.0,2.0,2.0,3.0,2.0,2.0,1.0,0.0,2.0,1.0,2.0,1.0,1.0,2.0,2.0,3.0,0.0,1.0,2.0,2.0,2.0,3.0,2.0,2.0,2.0,2.0,3.0,1.0,2.0,1.0,2.0,2.0,2.0,3.0,2.0,2.0,1.0,2.0,2.0,2.0,2.0,2.0,1.0,1.0,1.0,1.0,0.0,2.0,1.0,2.0,3.0,2.0,2.0,2.0,2.0,2.0,0.0,0.0,2.0,2.0,2.0,2.0,2.0,2.0,2.0,1.0,1.0,0.0,2.0,2.0,2.0,3.0,1.0,2.0,1.0,1.0,0.0,2.0,1.0,2.0,3.0,2.0,1.0,2.0,1.0,2.0,3.0,2.0,2.0,1.0,1.0,2.0,2.0,0.0,2.0,0.0,2.0,2.0,2.0,2.0,2.0,2.0,2.0,2.0,1.0,3.0,3.0,2.0,0.0,2.0,2.0,2.0,2.0,2.0,1.0,2.0,0.0,1.0,2.0,3.0,2.0,2.0,1.0,0.0,2.0,3.0,2.0,2.0,2.0,3.0,2.0,0.0,1.0,0.0,1.0,3.0,2.0,2.0,2.0,2.0,2.0,2.0,2.0,2.0,2.0,2.0,3.0,2.0,2.0,1.0,1.0,2.0,2.0,3.0,2.0,1.0,2.0,2.0,2.0,2.0,2.0,2.0,1.0,2.0,3.0,2.0,0.0,3.0,2.0,2.0,1.0,2.0,1.0,2.0,1.0,1.0,2.0,2.0,0.0,2.0,2.0,2.0,1.0,1.0,2.0,1.0,2.0,2.0,2.0,2.0,2.0,2.0,3.0,1.0,3.0,1.0,1.0,2.0,1.0,3.0,1.0,1.0,2.0,1.0,2.0,2.0,3.0,1.0,2.0,0.0,1.0,1.0,2.0,2.0,1.0,2.0,2.0,2.0,0.0,2.0,2.0,1.0,1.0,2.0,2.0,2.0,2.0,1.0,2.0,3.0,2.0,2.0,2.0,2.0,2.0,1.0,1.0,1.0,3.0,2.0,3.0,1.0,1.0,2.0,2.0,2.0,3.0,2.0,2.0,2.0,2.0,3.0,2.0,2.0,2.0,0.0,1.0,1.0,2.0,0.0,1.0,2.0,2.0,2.0,1.0,2.0,2.0,1.0,1.0,2.0,3.0,2.0,3.0,3.0,3.0,0.0,2.0,3.0,2.0,1.0,2.0,2.0,2.0,2.0,2.0,3.0,3.0,2.0,3.0,3.0,2.0,1.0,2.0,2.0,2.0,1.0,2.0,1.0,1.0,1.0,3.0,2.0,2.0,2.0,3.0,2.0,2.0,1.0,2.0,1.0,2.0,2.0,1.0,1.0,1.0,2.0,2.0,3.0,2.0,2.0,1.0,2.0,1.0,2.0,2.0,2.0,1.0,2.0,2.0,1.0,2.0,1.0,2.0,1.0,2.0,1.0,1.0,2.0,2.0,2.0,1.0,1.0,2.0,0.0,2.0,2.0,3.0,2.0,1.0,2.0,2.0,2.0,2.0,2.0,0.0,1.0,2.0,3.0,1.0,2.0,1.0,0.0,1.0,1.0,2.0,1.0,1.0,2.0,2.0,2.0,1.0,2.0,2.0,2.0,1.0,1.0,3.0,3.0,1.0,2.0,2.0,2.0,3.0,2.0,2.0,3.0,1.0,1.0,4.0,2.0,2.0,3.0,1.0,1.0,2.0,1.0,2.0,2.0,1.0,0.0,2.0,2.0,0.0,2.0,2.0,1.0,1.0,2.0,3.0,0.0,2.0,3.0,2.0,2.0,2.0,2.0,1.0,1.0,1.0,2.0,2.0,2.0,2.0,2.0,3.0,2.0,1.0,1.0,2.0,2.0,1.0,1.0,0.0,2.0,2.0,1.0,3.0,2.0,2.0,2.0,2.0,3.0,2.0,2.0,2.0,3.0,3.0,2.0,3.0,3.0,1.0,2.0,1.0,1.0,2.0,2.0,2.0,1.0,1.0,1.0,2.0,1.0,1.0,0.0,2.0,1.0,1.0,1.0,1.0,2.0,2.0,2.0,2.0,2.0,2.0,2.0,2.0,1.0,1.0,2.0,2.0,2.0,1.0,3.0,2.0,3.0,2.0,1.0,0.0,1.0,2.0,3.0,3.0,2.0,1.0,3.0,0.0,2.0,2.0,2.0,1.0,0.0,2.0,0.0,2.0,2.0,1.0,2.0,3.0,3.0,2.0,1.0,2.0,3.0,2.0,2.0,2.0,2.0,2.0,1.0,3.0,2.0,3.0,1.0,1.0,1.0,2.0,2.0,2.0,2.0,0.0,2.0,2.0,1.0,3.0,2.0,2.0,2.0,2.0,1.0,2.0,2.0,1.0,1.0,1.0,2.0,2.0,1.0,2.0,3.0,0.0,2.0,1.0,3.0,1.0,2.0,1.0,1.0,2.0,3.0,2.0,2.0,1.0,3.0,1.0,3.0,2.0,2.0,2.0,1.0,2.0,2.0,2.0,2.0,2.0,1.0,2.0,1.0,3.0,2.0,2.0,0.0,0.0,2.0,2.0,2.0,3.0,3.0,0.0,2.0,2.0,2.0,2.0,2.0,1.0,1.0,2.0,2.0,1.0,2.0,2.0,1.0,2.0,0.0,0.0,1.0,0.0,3.0,2.0,2.0,2.0,2.0,3.0,2.0,2.0,2.0,2.0,0.0,2.0,1.0,2.0,1.0,3.0,1.0,1.0,1.0,1.0,2.0,2.0,3.0,2.0,2.0,3.0,2.0,2.0,2.0,2.0,1.0,2.0,1.0,2.0,2.0,1.0,2.0,3.0,1.0,3.0,2.0,1.0,1.0,2.0,3.0,2.0,2.0,2.0,2.0,2.0,2.0,2.0,3.0,2.0,1.0,2.0,2.0,1.0,1.0,1.0,2.0,3.0,2.0,3.0,2.0,2.0,0.0,2.0,2.0,2.0,1.0,0.0,1.0,2.0,2.0,2.0,2.0,2.0,2.0,3.0,1.0,2.0,2.0,2.0,1.0,3.0,2.0,2.0,2.0,3.0,2.0,2.0,2.0,2.0,1.0,1.0,2.0,2.0,3.0,0.0,2.0,2.0,1.0,2.0,2.0,2.0,2.0,2.0,4.0,2.0,1.0,0.0,2.0,2.0,3.0,2.0,2.0,2.0,2.0,2.0,3.0,1.0,2.0,2.0,3.0,2.0,2.0,2.0,1.0,2.0,3.0,2.0,2.0,2.0,1.0,3.0,2.0,3.0,2.0,2.0,2.0,2.0,2.0,2.0,2.0,0.0,2.0,1.0,2.0,1.0,2.0,2.0,2.0,2.0,2.0,2.0,2.0,2.0,1.0,3.0,1.0,2.0,2.0,2.0,3.0,1.0,2.0,1.0,2.0,2.0,2.0,2.0,2.0,2.0,1.0,1.0,2.0,1.0,3.0,2.0,2.0,2.0,2.0,2.0,1.0,2.0,3.0,0.0,2.0,2.0,2.0,2.0,2.0,2.0,2.0,2.0,2.0,2.0,1.0,1.0,1.0,1.0,2.0,2.0,0.0,3.0,2.0,2.0,1.0,2.0,2.0,2.0,2.0,1.0,2.0,2.0,1.0,2.0,2.0,2.0,2.0,1.0,2.0,2.0,1.0,2.0,2.0,3.0,2.0,2.0,2.0,1.0,2.0,2.0,1.0,1.0,2.0,2.0,3.0,2.0,1.0,2.0,2.0,2.0,1.0,1.0,2.0,2.0,1.0,2.0,2.0,2.0,2.0,1.0,1.0,2.0,2.0,1.0,2.0,3.0,1.0,1.0,1.0,2.0,3.0,1.0,1.0,3.0,1.0,2.0,2.0,2.0,1.0,1.0,3.0,2.0,1.0,1.0,1.0,3.0,2.0,2.0,0.0,2.0,2.0,2.0,2.0,3.0,2.0,2.0,2.0,3.0,1.0,3.0,2.0,2.0,2.0,2.0,2.0,3.0,1.0,2.0,2.0,0.0,2.0,2.0,2.0,1.0,3.0,2.0,2.0,2.0,1.0,1.0,2.0,0.0,2.0,2.0,2.0,2.0,2.0,0.0,2.0,2.0,2.0,2.0,2.0,1.0,1.0,0.0,1.0,0.0,2.0,1.0,2.0,2.0,2.0,0.0,2.0,2.0,2.0,2.0,3.0,2.0,2.0,2.0,1.0,1.0,3.0,2.0,2.0,3.0,2.0,2.0,2.0,3.0,1.0,1.0,2.0,1.0,2.0,2.0,1.0,3.0,2.0,2.0,1.0,2.0,1.0,2.0,0.0,1.0,0.0,1.0,1.0,1.0,2.0,2.0,2.0,2.0,2.0,2.0,2.0,1.0,2.0,2.0,2.0,2.0,3.0,1.0,1.0,0.0,2.0,3.0,3.0,1.0,1.0,3.0,2.0,0.0,1.0,2.0,2.0,2.0,2.0,2.0,2.0,3.0,2.0,2.0,1.0,2.0,2.0,2.0,1.0,2.0,2.0,2.0,2.0,3.0,2.0,2.0,3.0,2.0,2.0,2.0,2.0,2.0,2.0,2.0,2.0,1.0,2.0,1.0,2.0,3.0,1.0,2.0,1.0,2.0,1.0,2.0,1.0,2.0,1.0,2.0,2.0,1.0,3.0,2.0,2.0,2.0,2.0,2.0,2.0,1.0,2.0,0.0,2.0,1.0,2.0,1.0,1.0,1.0,2.0,2.0,2.0,2.0,2.0,2.0,3.0,2.0,2.0,1.0,1.0,1.0,3.0,2.0,2.0,1.0,1.0,1.0,3.0,1.0,0.0,2.0,2.0,3.0,3.0,2.0,2.0,2.0,0.0,1.0,2.0,2.0,1.0,1.0,0.0,2.0,2.0,2.0,2.0,3.0,0.0,1.0,1.0,2.0,1.0,1.0,2.0,1.0,2.0,2.0,1.0,2.0,2.0,2.0,2.0,3.0,2.0,2.0,2.0,2.0,2.0,2.0,2.0,3.0,2.0,2.0,3.0,1.0,2.0,2.0,0.0,2.0,2.0,1.0,1.0,1.0,0.0,2.0,2.0,3.0,2.0,3.0,1.0,2.0,3.0,2.0,2.0,4.0,2.0,1.0,2.0,1.0,2.0,3.0,1.0,2.0,2.0,1.0,2.0,1.0,2.0,2.0,3.0,1.0,2.0,2.0,2.0,2.0,2.0,1.0,1.0,1.0,1.0,2.0,2.0,0.0,0.0,1.0,1.0,1.0,2.0,2.0,1.0,3.0,2.0,3.0,1.0,2.0,2.0,2.0,2.0,0.0,1.0,2.0,2.0,2.0,2.0,2.0,3.0,2.0,3.0,2.0,2.0,2.0,3.0,2.0,1.0,2.0,2.0,1.0,2.0,2.0,1.0,2.0,0.0,2.0,2.0,2.0,1.0,1.0,2.0,2.0,2.0,1.0,3.0,3.0,1.0,2.0,2.0,1.0,1.0,2.0,2.0,2.0,2.0,2.0,2.0,2.0,2.0,2.0,0.0,1.0,1.0,2.0,2.0,2.0,3.0,2.0,1.0,1.0,2.0,2.0,1.0,2.0,2.0,2.0,1.0,2.0,1.0,3.0,3.0,2.0,2.0,2.0,2.0,2.0,2.0,2.0,2.0,2.0,3.0,1.0,2.0,3.0,2.0,3.0,1.0,2.0,1.0,2.0,0.0,3.0,0.0,0.0,1.0,2.0,2.0,3.0,2.0,1.0,1.0,2.0,2.0,2.0,0.0,2.0,1.0,4.0,2.0,2.0,2.0,2.0,1.0,2.0,3.0,2.0,0.0,4.0,2.0,2.0,3.0,3.0,2.0,1.0,2.0,2.0,3.0,2.0,2.0,1.0,2.0,2.0,2.0,2.0,1.0,2.0,2.0,1.0,1.0,2.0,3.0,3.0,3.0,1.0,2.0,1.0,2.0,1.0,2.0,2.0,2.0,1.0,1.0,2.0,1.0,3.0,2.0,2.0,3.0,1.0,2.0,3.0,3.0,2.0,1.0,1.0,1.0,1.0,2.0,2.0,3.0,3.0,2.0,2.0,0.0,2.0,2.0,2.0,1.0,2.0,2.0,2.0,3.0,2.0,3.0,1.0,2.0,2.0,2.0,2.0,2.0,1.0,2.0,2.0,1.0,1.0,2.0,2.0,2.0,1.0,2.0,2.0,2.0,2.0,3.0,2.0,2.0,2.0,2.0,3.0,1.0,2.0,1.0,1.0,2.0,1.0,0.0,0.0,3.0,2.0,0.0,2.0,2.0,2.0,1.0,1.0,1.0,1.0,1.0,2.0,2.0,2.0,2.0,2.0,2.0,2.0,2.0,2.0,1.0,1.0,2.0,1.0,3.0,3.0,3.0,3.0,3.0,3.0,2.0,2.0,2.0,2.0,2.0,3.0,3.0,2.0,2.0,2.0,1.0,2.0,3.0,3.0,2.0,2.0,2.0,2.0,2.0,2.0,2.0,3.0,2.0,2.0,2.0,2.0,2.0,2.0,2.0,2.0,2.0,2.0,0.0,2.0,2.0,1.0,2.0,2.0,1.0,1.0,2.0,1.0,1.0,1.0,1.0,2.0,1.0,2.0,2.0,1.0,0.0,2.0,1.0,1.0,1.0,2.0,1.0,2.0,0.0,2.0,1.0,1.0,1.0,1.0,2.0,1.0,1.0,2.0,2.0,1.0,2.0,0.0,1.0,1.0,1.0,0.0,1.0,0.0,2.0,0.0,1.0,1.0,2.0,2.0,2.0,2.0,2.0,1.0,1.0,1.0,1.0,2.0,2.0,2.0,4.0,2.0,2.0,2.0,2.0,1.0,2.0,3.0,2.0,2.0,1.0,1.0,1.0,2.0,1.0,0.0,1.0,2.0,0.0,0.0,1.0,2.0,2.0,2.0,2.0,1.0,1.0,1.0,2.0,3.0,2.0,2.0,3.0,2.0,2.0,2.0,2.0,2.0,1.0,0.0,0.0,1.0,1.0,2.0,2.0,2.0,1.0,2.0,2.0,1.0,2.0,2.0,3.0,2.0,2.0,2.0,2.0,2.0,2.0,2.0,2.0,2.0,2.0,2.0,2.0,2.0,2.0,2.0,2.0,2.0,2.0,2.0,2.0,1.0,2.0,2.0,1.0,1.0,2.0,2.0,2.0,2.0,2.0,1.0,2.0,3.0,3.0,3.0,3.0,3.0,3.0,3.0,3.0,3.0,3.0,2.0,3.0,3.0,3.0,2.0,2.0,2.0,3.0,3.0,2.0,2.0,3.0,2.0,2.0,2.0,2.0,2.0,2.0,2.0,2.0,2.0,3.0,2.0,2.0,2.0,3.0,2.0,3.0,3.0,2.0,2.0,3.0,3.0,3.0,2.0,3.0,2.0,2.0,3.0,2.0,3.0,2.0,3.0,2.0,2.0,2.0,2.0,0.0,2.0,3.0,2.0,0.0,2.0,3.0,2.0,2.0,2.0,2.0,2.0,2.0,2.0,2.0,1.0,1.0,1.0,1.0,3.0,2.0,3.0,2.0,2.0,2.0,2.0,2.0,2.0,2.0,2.0,2.0,2.0,1.0,2.0,1.0,2.0,2.0,2.0,2.0,1.0,3.0,2.0,2.0,2.0,2.0,2.0,1.0,2.0,2.0,2.0,1.0,2.0,1.0,1.0,1.0,1.0,2.0,1.0,2.0,1.0,1.0,1.0,2.0,1.0,1.0,2.0,1.0,1.0,2.0,2.0,0.0,2.0,1.0,3.0,1.0,2.0,2.0,1.0,1.0,2.0,1.0,1.0,1.0,1.0,2.0,2.0,2.0,1.0,1.0,2.0,2.0,0.0,2.0,0.0,0.0,1.0,2.0,1.0,1.0,2.0,1.0,1.0,0.0,1.0,3.0,0.0,1.0,1.0,1.0,1.0,1.0,5.0,2.0,1.0,0.0,1.0,1.0,0.0,1.0,0.0,1.0,1.0,0.0,1.0,1.0,1.0,2.0,1.0,2.0,1.0,0.0,2.0,1.0,1.0,1.0,1.0,2.0,2.0,2.0,2.0,2.0,2.0,2.0,2.0,4.0,4.0,4.0,3.0,3.0,3.0,2.0,2.0,3.0,3.0,2.0,2.0,1.0,2.0,2.0,2.0,2.0,1.0,2.0,3.0,2.0,2.0,2.0,2.0,2.0,2.0,3.0,2.0,1.0,2.0,1.0,1.0,0.0,1.0,1.0,1.0,1.0,2.0,1.0,2.0,1.0,2.0,1.0,2.0,1.0,2.0,2.0,2.0,2.0,2.0,2.0,2.0,1.0,2.0,1.0,3.0,1.0,2.0,2.0,3.0,3.0,2.0,2.0,2.0,3.0,1.0,2.0,1.0,1.0,2.0,2.0,2.0,2.0,2.0,2.0,2.0,2.0,2.0,2.0,2.0,2.0,2.0,3.0,3.0,2.0,2.0,2.0,2.0,2.0,2.0,2.0,2.0,2.0,2.0,4.0,2.0,3.0,2.0,1.0,2.0,1.0,1.0,1.0,2.0,2.0,3.0,3.0,3.0,3.0,4.0,3.0,3.0,3.0,3.0,3.0,3.0,3.0,3.0,2.0,3.0,2.0,2.0,2.0,3.0,3.0,2.0,2.0,2.0,2.0,2.0,2.0,2.0,2.0,2.0,2.0,3.0,3.0,2.0,3.0,3.0,3.0,3.0,3.0,2.0,2.0,3.0,2.0,2.0,2.0,0.0,2.0,2.0,2.0,2.0,2.0,2.0,1.0,1.0,1.0,1.0,2.0,2.0,2.0,2.0,2.0,2.0,2.0,2.0,2.0,2.0,2.0,2.0,2.0,2.0,2.0,2.0,2.0,2.0,3.0,2.0,2.0,2.0,2.0,2.0,2.0,2.0,2.0,2.0,2.0,1.0,2.0,1.0,1.0,2.0,1.0,1.0,2.0,1.0,1.0,2.0,1.0,1.0,2.0,2.0,2.0,1.0,2.0,1.0,1.0,1.0,4.0,2.0,2.0,1.0,2.0,1.0,1.0,2.0,1.0,1.0,0.0,2.0,1.0,1.0,1.0,2.0,1.0,1.0,1.0,0.0,2.0,1.0,0.0,2.0,1.0,0.0,3.0,1.0,0.0,2.0,1.0,1.0,2.0,0.0,2.0,2.0,1.0,1.0,1.0,1.0,1.0,1.0,1.0,1.0,2.0,1.0,1.0,1.0,1.0,1.0,1.0,1.0,2.0,2.0,2.0,1.0,1.0,2.0,1.0,2.0,2.0,2.0,1.0,2.0,0.0,1.0,2.0,2.0,1.0,2.0,1.0,2.0,2.0,1.0,2.0,2.0,3.0,3.0,2.0,1.0,0.0,1.0,0.0,1.0,2.0,2.0,2.0,2.0,2.0,3.0,3.0,3.0,3.0,2.0,2.0,2.0,2.0,2.0,2.0,2.0,2.0,2.0,2.0,3.0,3.0,2.0,2.0,2.0,3.0,2.0,3.0,2.0,1.0,2.0,2.0,2.0,2.0,2.0,0.0,0.0,0.0,0.0,0.0,1.0,1.0,1.0,1.0,2.0,1.0,2.0,1.0,2.0,1.0,1.0,1.0,2.0,2.0,2.0,2.0,1.0,1.0,0.0,1.0,1.0,1.0,2.0,1.0,1.0,1.0,2.0,2.0,3.0,3.0,2.0,2.0,2.0,3.0,2.0,2.0,3.0,2.0,2.0,2.0,2.0,2.0,3.0,4.0,0.0,2.0,3.0,2.0,1.0,1.0,1.0,1.0,0.0,1.0,1.0,2.0,1.0,2.0,2.0,2.0,2.0,2.0,2.0,2.0,2.0,2.0,2.0,2.0,3.0,3.0,3.0,2.0,2.0,3.0,2.0,2.0,2.0,2.0,2.0,2.0,2.0,2.0,2.0,2.0,1.0,1.0,2.0,2.0,1.0,1.0,1.0,1.0,3.0,3.0,3.0,3.0,3.0,3.0,3.0,3.0,3.0,2.0,3.0,3.0,3.0,3.0,3.0,3.0,2.0,3.0,2.0,2.0,2.0,2.0,2.0,2.0,2.0,2.0,2.0,2.0,2.0,3.0,2.0,2.0,2.0,2.0,3.0,2.0,2.0,2.0,2.0,2.0,2.0,2.0,2.0,2.0,3.0,3.0,3.0,3.0,2.0,3.0,2.0,3.0,2.0,3.0,2.0,2.0,2.0,3.0,3.0,2.0,2.0,2.0,2.0,3.0,2.0,3.0,3.0,0.0,0.0,2.0,2.0,2.0,1.0,1.0,2.0,2.0,2.0,2.0,2.0,2.0,2.0,2.0,2.0,2.0,2.0,2.0,2.0,2.0,2.0,2.0,2.0,2.0,2.0,2.0,2.0,2.0,2.0,2.0,2.0,1.0,1.0,3.0,2.0,2.0,2.0,1.0,2.0,2.0,2.0,1.0,2.0,2.0,0.0,0.0,1.0,1.0,3.0,2.0,2.0,1.0,1.0,2.0,1.0,2.0,1.0,1.0,1.0,1.0,2.0,2.0,1.0,1.0,1.0,1.0,1.0,1.0,0.0,1.0,3.0,2.0,0.0,1.0,1.0,1.0,1.0,1.0,1.0,1.0,1.0,1.0,1.0,1.0,2.0,2.0,1.0,1.0,2.0,2.0,1.0,2.0,2.0,1.0,2.0,2.0,1.0,2.0,1.0,1.0,1.0,1.0,1.0,1.0,1.0,2.0,1.0,1.0,2.0,1.0,2.0,2.0,2.0,1.0,1.0,2.0,1.0,2.0,2.0,1.0,2.0,1.0,1.0,2.0,2.0,2.0,1.0,2.0,1.0,2.0,1.0,1.0,2.0,1.0,2.0,1.0,2.0,2.0,2.0,2.0,1.0,2.0,1.0,1.0,1.0,1.0,1.0,1.0,1.0,2.0,2.0,3.0,3.0,3.0,3.0,2.0,2.0,2.0,2.0,2.0,2.0,2.0,1.0,1.0,2.0,2.0,2.0,2.0,2.0,2.0,2.0,2.0,1.0,2.0,2.0,2.0,2.0,2.0,2.0,2.0,2.0,2.0,2.0,2.0,2.0,2.0,2.0,2.0,1.0,2.0,2.0,2.0,2.0,2.0,2.0,3.0,2.0,1.0,0.0,0.0,1.0,1.0,2.0,0.0,1.0,1.0,1.0,1.0,1.0,2.0,2.0,1.0,2.0,2.0,2.0,2.0,2.0,2.0,2.0,2.0,2.0,0.0,null,1.0,1.0,0.0,2.0,1.0,2.0,2.0,3.0,2.0,2.0,1.0,2.0,2.0,2.0,2.0,2.0,2.0,2.0,3.0,2.0,2.0,3.0,4.0,2.0,1.0,1.0,0.0,1.0,2.0,2.0,2.0,2.0,0.0,1.0,2.0,1.0,1.0,2.0,1.0,3.0,2.0,2.0,2.0,2.0,2.0,2.0,3.0,2.0,2.0,2.0,3.0,3.0,3.0,3.0,3.0,2.0,3.0,2.0,2.0,2.0,2.0,2.0,2.0,2.0,2.0,2.0,2.0,1.0,1.0,1.0,2.0,1.0,1.0,2.0,3.0,3.0,3.0,3.0,3.0,2.0,2.0,3.0,3.0,3.0,3.0,3.0,2.0,3.0,2.0,2.0,2.0,2.0,3.0,2.0,2.0,2.0,2.0,2.0,2.0,2.0,3.0,3.0,3.0,3.0,3.0,3.0,3.0,3.0,2.0,3.0,2.0,2.0,3.0,2.0,0.0,2.0,0.0,2.0,2.0,2.0,2.0,2.0,2.0,2.0,2.0,2.0,2.0,1.0,1.0,2.0,1.0,0.0,1.0,2.0,3.0,2.0,2.0,2.0,2.0,1.0,2.0,2.0,2.0,2.0,2.0,2.0,1.0,1.0,1.0,1.0,2.0,2.0,1.0,1.0,1.0,2.0,1.0,1.0,1.0,1.0,2.0,2.0,2.0,1.0,2.0,1.0,1.0,1.0,1.0,2.0,2.0,1.0,1.0,1.0,3.0,2.0,3.0,2.0,1.0,2.0,1.0,2.0,2.0,1.0,1.0,2.0,2.0,2.0,1.0,2.0,0.0,1.0,2.0,1.0,0.0,2.0,1.0,1.0,2.0,2.0,1.0,2.0,1.0,1.0,1.0,1.0,2.0,2.0,1.0,1.0,1.0,2.0,0.0,2.0,0.0,1.0,1.0,1.0,1.0,2.0,2.0,1.0,0.0,1.0,1.0,2.0,2.0,1.0,1.0,1.0,2.0,1.0,1.0,2.0,2.0,2.0,2.0,1.0,2.0,2.0,2.0,1.0,2.0,1.0,3.0,2.0,2.0,2.0,1.0,1.0,2.0,4.0,3.0,2.0,2.0,3.0,2.0,2.0,2.0,2.0,2.0,2.0,2.0,2.0,2.0,1.0,3.0,1.0,2.0,2.0,2.0,2.0,3.0,2.0,3.0,2.0,2.0,2.0,2.0,2.0,2.0,2.0,0.0,1.0,2.0,0.0,2.0,2.0,2.0,1.0,2.0,1.0,2.0,0.0,1.0,1.0,1.0,1.0,1.0,1.0,1.0,1.0,1.0,1.0,1.0,2.0,3.0,2.0,1.0,1.0,2.0,0.0,1.0,1.0,0.0,0.0,0.0,2.0,2.0,2.0,2.0,2.0,2.0,2.0,2.0,3.0,3.0,1.0,4.0,1.0,1.0,3.0,0.0,1.0,1.0,1.0,0.0,0.0,1.0,2.0,0.0,3.0],\"yaxis\":\"y\",\"type\":\"scattergl\"}],                        {\"template\":{\"data\":{\"bar\":[{\"error_x\":{\"color\":\"#2a3f5f\"},\"error_y\":{\"color\":\"#2a3f5f\"},\"marker\":{\"line\":{\"color\":\"#E5ECF6\",\"width\":0.5},\"pattern\":{\"fillmode\":\"overlay\",\"size\":10,\"solidity\":0.2}},\"type\":\"bar\"}],\"barpolar\":[{\"marker\":{\"line\":{\"color\":\"#E5ECF6\",\"width\":0.5},\"pattern\":{\"fillmode\":\"overlay\",\"size\":10,\"solidity\":0.2}},\"type\":\"barpolar\"}],\"carpet\":[{\"aaxis\":{\"endlinecolor\":\"#2a3f5f\",\"gridcolor\":\"white\",\"linecolor\":\"white\",\"minorgridcolor\":\"white\",\"startlinecolor\":\"#2a3f5f\"},\"baxis\":{\"endlinecolor\":\"#2a3f5f\",\"gridcolor\":\"white\",\"linecolor\":\"white\",\"minorgridcolor\":\"white\",\"startlinecolor\":\"#2a3f5f\"},\"type\":\"carpet\"}],\"choropleth\":[{\"colorbar\":{\"outlinewidth\":0,\"ticks\":\"\"},\"type\":\"choropleth\"}],\"contour\":[{\"colorbar\":{\"outlinewidth\":0,\"ticks\":\"\"},\"colorscale\":[[0.0,\"#0d0887\"],[0.1111111111111111,\"#46039f\"],[0.2222222222222222,\"#7201a8\"],[0.3333333333333333,\"#9c179e\"],[0.4444444444444444,\"#bd3786\"],[0.5555555555555556,\"#d8576b\"],[0.6666666666666666,\"#ed7953\"],[0.7777777777777778,\"#fb9f3a\"],[0.8888888888888888,\"#fdca26\"],[1.0,\"#f0f921\"]],\"type\":\"contour\"}],\"contourcarpet\":[{\"colorbar\":{\"outlinewidth\":0,\"ticks\":\"\"},\"type\":\"contourcarpet\"}],\"heatmap\":[{\"colorbar\":{\"outlinewidth\":0,\"ticks\":\"\"},\"colorscale\":[[0.0,\"#0d0887\"],[0.1111111111111111,\"#46039f\"],[0.2222222222222222,\"#7201a8\"],[0.3333333333333333,\"#9c179e\"],[0.4444444444444444,\"#bd3786\"],[0.5555555555555556,\"#d8576b\"],[0.6666666666666666,\"#ed7953\"],[0.7777777777777778,\"#fb9f3a\"],[0.8888888888888888,\"#fdca26\"],[1.0,\"#f0f921\"]],\"type\":\"heatmap\"}],\"heatmapgl\":[{\"colorbar\":{\"outlinewidth\":0,\"ticks\":\"\"},\"colorscale\":[[0.0,\"#0d0887\"],[0.1111111111111111,\"#46039f\"],[0.2222222222222222,\"#7201a8\"],[0.3333333333333333,\"#9c179e\"],[0.4444444444444444,\"#bd3786\"],[0.5555555555555556,\"#d8576b\"],[0.6666666666666666,\"#ed7953\"],[0.7777777777777778,\"#fb9f3a\"],[0.8888888888888888,\"#fdca26\"],[1.0,\"#f0f921\"]],\"type\":\"heatmapgl\"}],\"histogram\":[{\"marker\":{\"pattern\":{\"fillmode\":\"overlay\",\"size\":10,\"solidity\":0.2}},\"type\":\"histogram\"}],\"histogram2d\":[{\"colorbar\":{\"outlinewidth\":0,\"ticks\":\"\"},\"colorscale\":[[0.0,\"#0d0887\"],[0.1111111111111111,\"#46039f\"],[0.2222222222222222,\"#7201a8\"],[0.3333333333333333,\"#9c179e\"],[0.4444444444444444,\"#bd3786\"],[0.5555555555555556,\"#d8576b\"],[0.6666666666666666,\"#ed7953\"],[0.7777777777777778,\"#fb9f3a\"],[0.8888888888888888,\"#fdca26\"],[1.0,\"#f0f921\"]],\"type\":\"histogram2d\"}],\"histogram2dcontour\":[{\"colorbar\":{\"outlinewidth\":0,\"ticks\":\"\"},\"colorscale\":[[0.0,\"#0d0887\"],[0.1111111111111111,\"#46039f\"],[0.2222222222222222,\"#7201a8\"],[0.3333333333333333,\"#9c179e\"],[0.4444444444444444,\"#bd3786\"],[0.5555555555555556,\"#d8576b\"],[0.6666666666666666,\"#ed7953\"],[0.7777777777777778,\"#fb9f3a\"],[0.8888888888888888,\"#fdca26\"],[1.0,\"#f0f921\"]],\"type\":\"histogram2dcontour\"}],\"mesh3d\":[{\"colorbar\":{\"outlinewidth\":0,\"ticks\":\"\"},\"type\":\"mesh3d\"}],\"parcoords\":[{\"line\":{\"colorbar\":{\"outlinewidth\":0,\"ticks\":\"\"}},\"type\":\"parcoords\"}],\"pie\":[{\"automargin\":true,\"type\":\"pie\"}],\"scatter\":[{\"marker\":{\"colorbar\":{\"outlinewidth\":0,\"ticks\":\"\"}},\"type\":\"scatter\"}],\"scatter3d\":[{\"line\":{\"colorbar\":{\"outlinewidth\":0,\"ticks\":\"\"}},\"marker\":{\"colorbar\":{\"outlinewidth\":0,\"ticks\":\"\"}},\"type\":\"scatter3d\"}],\"scattercarpet\":[{\"marker\":{\"colorbar\":{\"outlinewidth\":0,\"ticks\":\"\"}},\"type\":\"scattercarpet\"}],\"scattergeo\":[{\"marker\":{\"colorbar\":{\"outlinewidth\":0,\"ticks\":\"\"}},\"type\":\"scattergeo\"}],\"scattergl\":[{\"marker\":{\"colorbar\":{\"outlinewidth\":0,\"ticks\":\"\"}},\"type\":\"scattergl\"}],\"scattermapbox\":[{\"marker\":{\"colorbar\":{\"outlinewidth\":0,\"ticks\":\"\"}},\"type\":\"scattermapbox\"}],\"scatterpolar\":[{\"marker\":{\"colorbar\":{\"outlinewidth\":0,\"ticks\":\"\"}},\"type\":\"scatterpolar\"}],\"scatterpolargl\":[{\"marker\":{\"colorbar\":{\"outlinewidth\":0,\"ticks\":\"\"}},\"type\":\"scatterpolargl\"}],\"scatterternary\":[{\"marker\":{\"colorbar\":{\"outlinewidth\":0,\"ticks\":\"\"}},\"type\":\"scatterternary\"}],\"surface\":[{\"colorbar\":{\"outlinewidth\":0,\"ticks\":\"\"},\"colorscale\":[[0.0,\"#0d0887\"],[0.1111111111111111,\"#46039f\"],[0.2222222222222222,\"#7201a8\"],[0.3333333333333333,\"#9c179e\"],[0.4444444444444444,\"#bd3786\"],[0.5555555555555556,\"#d8576b\"],[0.6666666666666666,\"#ed7953\"],[0.7777777777777778,\"#fb9f3a\"],[0.8888888888888888,\"#fdca26\"],[1.0,\"#f0f921\"]],\"type\":\"surface\"}],\"table\":[{\"cells\":{\"fill\":{\"color\":\"#EBF0F8\"},\"line\":{\"color\":\"white\"}},\"header\":{\"fill\":{\"color\":\"#C8D4E3\"},\"line\":{\"color\":\"white\"}},\"type\":\"table\"}]},\"layout\":{\"annotationdefaults\":{\"arrowcolor\":\"#2a3f5f\",\"arrowhead\":0,\"arrowwidth\":1},\"autotypenumbers\":\"strict\",\"coloraxis\":{\"colorbar\":{\"outlinewidth\":0,\"ticks\":\"\"}},\"colorscale\":{\"diverging\":[[0,\"#8e0152\"],[0.1,\"#c51b7d\"],[0.2,\"#de77ae\"],[0.3,\"#f1b6da\"],[0.4,\"#fde0ef\"],[0.5,\"#f7f7f7\"],[0.6,\"#e6f5d0\"],[0.7,\"#b8e186\"],[0.8,\"#7fbc41\"],[0.9,\"#4d9221\"],[1,\"#276419\"]],\"sequential\":[[0.0,\"#0d0887\"],[0.1111111111111111,\"#46039f\"],[0.2222222222222222,\"#7201a8\"],[0.3333333333333333,\"#9c179e\"],[0.4444444444444444,\"#bd3786\"],[0.5555555555555556,\"#d8576b\"],[0.6666666666666666,\"#ed7953\"],[0.7777777777777778,\"#fb9f3a\"],[0.8888888888888888,\"#fdca26\"],[1.0,\"#f0f921\"]],\"sequentialminus\":[[0.0,\"#0d0887\"],[0.1111111111111111,\"#46039f\"],[0.2222222222222222,\"#7201a8\"],[0.3333333333333333,\"#9c179e\"],[0.4444444444444444,\"#bd3786\"],[0.5555555555555556,\"#d8576b\"],[0.6666666666666666,\"#ed7953\"],[0.7777777777777778,\"#fb9f3a\"],[0.8888888888888888,\"#fdca26\"],[1.0,\"#f0f921\"]]},\"colorway\":[\"#636efa\",\"#EF553B\",\"#00cc96\",\"#ab63fa\",\"#FFA15A\",\"#19d3f3\",\"#FF6692\",\"#B6E880\",\"#FF97FF\",\"#FECB52\"],\"font\":{\"color\":\"#2a3f5f\"},\"geo\":{\"bgcolor\":\"white\",\"lakecolor\":\"white\",\"landcolor\":\"#E5ECF6\",\"showlakes\":true,\"showland\":true,\"subunitcolor\":\"white\"},\"hoverlabel\":{\"align\":\"left\"},\"hovermode\":\"closest\",\"mapbox\":{\"style\":\"light\"},\"paper_bgcolor\":\"white\",\"plot_bgcolor\":\"#E5ECF6\",\"polar\":{\"angularaxis\":{\"gridcolor\":\"white\",\"linecolor\":\"white\",\"ticks\":\"\"},\"bgcolor\":\"#E5ECF6\",\"radialaxis\":{\"gridcolor\":\"white\",\"linecolor\":\"white\",\"ticks\":\"\"}},\"scene\":{\"xaxis\":{\"backgroundcolor\":\"#E5ECF6\",\"gridcolor\":\"white\",\"gridwidth\":2,\"linecolor\":\"white\",\"showbackground\":true,\"ticks\":\"\",\"zerolinecolor\":\"white\"},\"yaxis\":{\"backgroundcolor\":\"#E5ECF6\",\"gridcolor\":\"white\",\"gridwidth\":2,\"linecolor\":\"white\",\"showbackground\":true,\"ticks\":\"\",\"zerolinecolor\":\"white\"},\"zaxis\":{\"backgroundcolor\":\"#E5ECF6\",\"gridcolor\":\"white\",\"gridwidth\":2,\"linecolor\":\"white\",\"showbackground\":true,\"ticks\":\"\",\"zerolinecolor\":\"white\"}},\"shapedefaults\":{\"line\":{\"color\":\"#2a3f5f\"}},\"ternary\":{\"aaxis\":{\"gridcolor\":\"white\",\"linecolor\":\"white\",\"ticks\":\"\"},\"baxis\":{\"gridcolor\":\"white\",\"linecolor\":\"white\",\"ticks\":\"\"},\"bgcolor\":\"#E5ECF6\",\"caxis\":{\"gridcolor\":\"white\",\"linecolor\":\"white\",\"ticks\":\"\"}},\"title\":{\"x\":0.05},\"xaxis\":{\"automargin\":true,\"gridcolor\":\"white\",\"linecolor\":\"white\",\"ticks\":\"\",\"title\":{\"standoff\":15},\"zerolinecolor\":\"white\",\"zerolinewidth\":2},\"yaxis\":{\"automargin\":true,\"gridcolor\":\"white\",\"linecolor\":\"white\",\"ticks\":\"\",\"title\":{\"standoff\":15},\"zerolinecolor\":\"white\",\"zerolinewidth\":2}}},\"xaxis\":{\"anchor\":\"y\",\"domain\":[0.0,1.0],\"title\":{\"text\":\"GarageArea\"}},\"yaxis\":{\"anchor\":\"x\",\"domain\":[0.0,1.0],\"title\":{\"text\":\"GarageCars\"}},\"legend\":{\"tracegroupgap\":0},\"margin\":{\"t\":60},\"height\":400,\"width\":400},                        {\"responsive\": true}                    ).then(function(){\n",
              "                            \n",
              "var gd = document.getElementById('d58266fd-6fd4-4eca-8ab2-f84992de1f2c');\n",
              "var x = new MutationObserver(function (mutations, observer) {{\n",
              "        var display = window.getComputedStyle(gd).display;\n",
              "        if (!display || display === 'none') {{\n",
              "            console.log([gd, 'removed!']);\n",
              "            Plotly.purge(gd);\n",
              "            observer.disconnect();\n",
              "        }}\n",
              "}});\n",
              "\n",
              "// Listen for the removal of the full notebook cells\n",
              "var notebookContainer = gd.closest('#notebook-container');\n",
              "if (notebookContainer) {{\n",
              "    x.observe(notebookContainer, {childList: true});\n",
              "}}\n",
              "\n",
              "// Listen for the clearing of the current output cell\n",
              "var outputEl = gd.closest('.output');\n",
              "if (outputEl) {{\n",
              "    x.observe(outputEl, {childList: true});\n",
              "}}\n",
              "\n",
              "                        })                };                            </script>        </div>\n",
              "</body>\n",
              "</html>"
            ]
          },
          "metadata": {}
        }
      ]
    },
    {
      "cell_type": "code",
      "source": [
        "# NA <- Prediction value by logistic regression with relevant variable\n",
        "# Procedure: \n",
        "#   - Train the model (GarageCars ~ GarageArea) with 'not' NA observations \n",
        "#   - Predict on NA observation of GarageCars\n",
        "#   - Replace NA by prediction value\n",
        "from sklearn.linear_model import LogisticRegression\n",
        "# Train\n",
        "X = all_features.loc[~all_features['GarageCars'].isnull(), 'GarageArea'].values.reshape(-1,1)\n",
        "y = all_features.loc[~all_features['GarageCars'].isnull(), 'GarageCars'].values\n",
        "reg = LogisticRegression(penalty='none', max_iter=1000)\n",
        "reg.fit(X, y)\n",
        "# Prediction\n",
        "pred = reg.predict(all_features.loc[all_features['GarageCars'].isnull(), 'GarageArea'].values.reshape(-1,1))\n",
        "# Replace NA by prediction value\n",
        "all_features.loc[all_features['GarageCars'].isnull(), 'GarageCars'] = pred.astype('int64')"
      ],
      "metadata": {
        "id": "T-6u2zBbkgPu"
      },
      "execution_count": null,
      "outputs": []
    },
    {
      "cell_type": "markdown",
      "source": [
        "#### >> Replace NA by values of the other (closely related) variable\n",
        "\n",
        "When 'GarageYrBlt' = NaN, we can infer that garage would not exist in the house. \n",
        "\n",
        "Furthermore, below table shows that every house with 'GarageYrBlt' = NaN has 'GarageType' = None"
      ],
      "metadata": {
        "id": "Z34sqQwWJe9p"
      }
    },
    {
      "cell_type": "code",
      "execution_count": null,
      "metadata": {
        "id": "CcRf8Fqj2VFZ",
        "colab": {
          "base_uri": "https://localhost:8080/",
          "height": 206
        },
        "outputId": "c465ac01-1996-4217-db7a-78031afaf433"
      },
      "outputs": [
        {
          "output_type": "execute_result",
          "data": {
            "text/html": [
              "\n",
              "  <div id=\"df-8c7501df-a5ce-4bfe-867b-4ebe28fc4e73\">\n",
              "    <div class=\"colab-df-container\">\n",
              "      <div>\n",
              "<style scoped>\n",
              "    .dataframe tbody tr th:only-of-type {\n",
              "        vertical-align: middle;\n",
              "    }\n",
              "\n",
              "    .dataframe tbody tr th {\n",
              "        vertical-align: top;\n",
              "    }\n",
              "\n",
              "    .dataframe thead th {\n",
              "        text-align: right;\n",
              "    }\n",
              "</style>\n",
              "<table border=\"1\" class=\"dataframe\">\n",
              "  <thead>\n",
              "    <tr style=\"text-align: right;\">\n",
              "      <th></th>\n",
              "      <th>GarageType</th>\n",
              "      <th>GarageYrBlt</th>\n",
              "      <th>GarageFinish</th>\n",
              "      <th>GarageCars</th>\n",
              "      <th>GarageArea</th>\n",
              "      <th>GarageQual</th>\n",
              "      <th>GarageCond</th>\n",
              "    </tr>\n",
              "  </thead>\n",
              "  <tbody>\n",
              "    <tr>\n",
              "      <th>39</th>\n",
              "      <td>None</td>\n",
              "      <td>NaN</td>\n",
              "      <td>None</td>\n",
              "      <td>0.0</td>\n",
              "      <td>0.0</td>\n",
              "      <td>None</td>\n",
              "      <td>None</td>\n",
              "    </tr>\n",
              "    <tr>\n",
              "      <th>48</th>\n",
              "      <td>None</td>\n",
              "      <td>NaN</td>\n",
              "      <td>None</td>\n",
              "      <td>0.0</td>\n",
              "      <td>0.0</td>\n",
              "      <td>None</td>\n",
              "      <td>None</td>\n",
              "    </tr>\n",
              "    <tr>\n",
              "      <th>78</th>\n",
              "      <td>None</td>\n",
              "      <td>NaN</td>\n",
              "      <td>None</td>\n",
              "      <td>0.0</td>\n",
              "      <td>0.0</td>\n",
              "      <td>None</td>\n",
              "      <td>None</td>\n",
              "    </tr>\n",
              "    <tr>\n",
              "      <th>88</th>\n",
              "      <td>None</td>\n",
              "      <td>NaN</td>\n",
              "      <td>None</td>\n",
              "      <td>0.0</td>\n",
              "      <td>0.0</td>\n",
              "      <td>None</td>\n",
              "      <td>None</td>\n",
              "    </tr>\n",
              "    <tr>\n",
              "      <th>89</th>\n",
              "      <td>None</td>\n",
              "      <td>NaN</td>\n",
              "      <td>None</td>\n",
              "      <td>0.0</td>\n",
              "      <td>0.0</td>\n",
              "      <td>None</td>\n",
              "      <td>None</td>\n",
              "    </tr>\n",
              "  </tbody>\n",
              "</table>\n",
              "</div>\n",
              "      <button class=\"colab-df-convert\" onclick=\"convertToInteractive('df-8c7501df-a5ce-4bfe-867b-4ebe28fc4e73')\"\n",
              "              title=\"Convert this dataframe to an interactive table.\"\n",
              "              style=\"display:none;\">\n",
              "        \n",
              "  <svg xmlns=\"http://www.w3.org/2000/svg\" height=\"24px\"viewBox=\"0 0 24 24\"\n",
              "       width=\"24px\">\n",
              "    <path d=\"M0 0h24v24H0V0z\" fill=\"none\"/>\n",
              "    <path d=\"M18.56 5.44l.94 2.06.94-2.06 2.06-.94-2.06-.94-.94-2.06-.94 2.06-2.06.94zm-11 1L8.5 8.5l.94-2.06 2.06-.94-2.06-.94L8.5 2.5l-.94 2.06-2.06.94zm10 10l.94 2.06.94-2.06 2.06-.94-2.06-.94-.94-2.06-.94 2.06-2.06.94z\"/><path d=\"M17.41 7.96l-1.37-1.37c-.4-.4-.92-.59-1.43-.59-.52 0-1.04.2-1.43.59L10.3 9.45l-7.72 7.72c-.78.78-.78 2.05 0 2.83L4 21.41c.39.39.9.59 1.41.59.51 0 1.02-.2 1.41-.59l7.78-7.78 2.81-2.81c.8-.78.8-2.07 0-2.86zM5.41 20L4 18.59l7.72-7.72 1.47 1.35L5.41 20z\"/>\n",
              "  </svg>\n",
              "      </button>\n",
              "      \n",
              "  <style>\n",
              "    .colab-df-container {\n",
              "      display:flex;\n",
              "      flex-wrap:wrap;\n",
              "      gap: 12px;\n",
              "    }\n",
              "\n",
              "    .colab-df-convert {\n",
              "      background-color: #E8F0FE;\n",
              "      border: none;\n",
              "      border-radius: 50%;\n",
              "      cursor: pointer;\n",
              "      display: none;\n",
              "      fill: #1967D2;\n",
              "      height: 32px;\n",
              "      padding: 0 0 0 0;\n",
              "      width: 32px;\n",
              "    }\n",
              "\n",
              "    .colab-df-convert:hover {\n",
              "      background-color: #E2EBFA;\n",
              "      box-shadow: 0px 1px 2px rgba(60, 64, 67, 0.3), 0px 1px 3px 1px rgba(60, 64, 67, 0.15);\n",
              "      fill: #174EA6;\n",
              "    }\n",
              "\n",
              "    [theme=dark] .colab-df-convert {\n",
              "      background-color: #3B4455;\n",
              "      fill: #D2E3FC;\n",
              "    }\n",
              "\n",
              "    [theme=dark] .colab-df-convert:hover {\n",
              "      background-color: #434B5C;\n",
              "      box-shadow: 0px 1px 3px 1px rgba(0, 0, 0, 0.15);\n",
              "      filter: drop-shadow(0px 1px 2px rgba(0, 0, 0, 0.3));\n",
              "      fill: #FFFFFF;\n",
              "    }\n",
              "  </style>\n",
              "\n",
              "      <script>\n",
              "        const buttonEl =\n",
              "          document.querySelector('#df-8c7501df-a5ce-4bfe-867b-4ebe28fc4e73 button.colab-df-convert');\n",
              "        buttonEl.style.display =\n",
              "          google.colab.kernel.accessAllowed ? 'block' : 'none';\n",
              "\n",
              "        async function convertToInteractive(key) {\n",
              "          const element = document.querySelector('#df-8c7501df-a5ce-4bfe-867b-4ebe28fc4e73');\n",
              "          const dataTable =\n",
              "            await google.colab.kernel.invokeFunction('convertToInteractive',\n",
              "                                                     [key], {});\n",
              "          if (!dataTable) return;\n",
              "\n",
              "          const docLinkHtml = 'Like what you see? Visit the ' +\n",
              "            '<a target=\"_blank\" href=https://colab.research.google.com/notebooks/data_table.ipynb>data table notebook</a>'\n",
              "            + ' to learn more about interactive tables.';\n",
              "          element.innerHTML = '';\n",
              "          dataTable['output_type'] = 'display_data';\n",
              "          await google.colab.output.renderOutput(dataTable, element);\n",
              "          const docLink = document.createElement('div');\n",
              "          docLink.innerHTML = docLinkHtml;\n",
              "          element.appendChild(docLink);\n",
              "        }\n",
              "      </script>\n",
              "    </div>\n",
              "  </div>\n",
              "  "
            ],
            "text/plain": [
              "   GarageType  GarageYrBlt GarageFinish  ...  GarageArea  GarageQual GarageCond\n",
              "39       None          NaN         None  ...         0.0        None       None\n",
              "48       None          NaN         None  ...         0.0        None       None\n",
              "78       None          NaN         None  ...         0.0        None       None\n",
              "88       None          NaN         None  ...         0.0        None       None\n",
              "89       None          NaN         None  ...         0.0        None       None\n",
              "\n",
              "[5 rows x 7 columns]"
            ]
          },
          "metadata": {},
          "execution_count": 42
        }
      ],
      "source": [
        "all_features.loc[all_features['GarageYrBlt'].isnull(),all_features.columns.str.startswith('Garage')].head()"
      ]
    },
    {
      "cell_type": "markdown",
      "source": [
        "But we can not replace NaN values in 'GarageYrBlt' to 0!\n",
        "\n",
        "Since it represents the information of 'year'.\n",
        "When 'GarageYrBlt'=0, it means that this garage was constructed in 'AC 0' which is non-sense.\n",
        "\n",
        "Thus I suggest the alternative way which focuses on the relationship between 'GarageYrBlt' and 'YearBuilt'.\n",
        "Below plot shows there exists a linear relationship between them.\n",
        "\n",
        "So we will replace the NA values in 'GarageYrBlt' to the values of 'YearBuilt' for each observation"
      ],
      "metadata": {
        "id": "YHNu2xw7KOb8"
      }
    },
    {
      "cell_type": "code",
      "source": [
        "px.scatter(all_features, x='GarageYrBlt', y='YearBuilt', width=600, height=400)"
      ],
      "metadata": {
        "colab": {
          "base_uri": "https://localhost:8080/",
          "height": 417
        },
        "id": "nb9U1owLn83M",
        "outputId": "84f5060a-8e5d-411b-e721-465f739404bd"
      },
      "execution_count": null,
      "outputs": [
        {
          "output_type": "display_data",
          "data": {
            "text/html": [
              "<html>\n",
              "<head><meta charset=\"utf-8\" /></head>\n",
              "<body>\n",
              "    <div>            <script src=\"https://cdnjs.cloudflare.com/ajax/libs/mathjax/2.7.5/MathJax.js?config=TeX-AMS-MML_SVG\"></script><script type=\"text/javascript\">if (window.MathJax) {MathJax.Hub.Config({SVG: {font: \"STIX-Web\"}});}</script>                <script type=\"text/javascript\">window.PlotlyConfig = {MathJaxConfig: 'local'};</script>\n",
              "        <script src=\"https://cdn.plot.ly/plotly-2.8.3.min.js\"></script>                <div id=\"85753743-3b6a-4a6c-aabf-c6a05837ae20\" class=\"plotly-graph-div\" style=\"height:400px; width:600px;\"></div>            <script type=\"text/javascript\">                                    window.PLOTLYENV=window.PLOTLYENV || {};                                    if (document.getElementById(\"85753743-3b6a-4a6c-aabf-c6a05837ae20\")) {                    Plotly.newPlot(                        \"85753743-3b6a-4a6c-aabf-c6a05837ae20\",                        [{\"hovertemplate\":\"GarageYrBlt=%{x}<br>YearBuilt=%{y}<extra></extra>\",\"legendgroup\":\"\",\"marker\":{\"color\":\"#636efa\",\"symbol\":\"circle\"},\"mode\":\"markers\",\"name\":\"\",\"showlegend\":false,\"x\":[2003.0,1976.0,2001.0,1998.0,2000.0,1993.0,2004.0,1973.0,1931.0,1939.0,1965.0,2005.0,1962.0,2006.0,1960.0,1991.0,1970.0,1967.0,2004.0,1958.0,2005.0,1930.0,2002.0,1976.0,1968.0,2007.0,2005.0,2008.0,1957.0,1920.0,1920.0,1966.0,2007.0,1959.0,2005.0,2004.0,1995.0,1954.0,1953.0,null,1965.0,1959.0,1983.0,1977.0,1959.0,2005.0,2003.0,2006.0,null,1966.0,1997.0,1985.0,1963.0,1981.0,1962.0,1964.0,1999.0,2004.0,2006.0,1973.0,2006.0,1935.0,2006.0,1990.0,1998.0,2004.0,1970.0,2003.0,1945.0,1953.0,1973.0,1987.0,1998.0,1989.0,1915.0,1973.0,1956.0,1948.0,null,1966.0,1968.0,1998.0,2007.0,1974.0,1995.0,1991.0,2005.0,2009.0,null,null,1950.0,1961.0,1921.0,1900.0,1997.0,1993.0,1999.0,1965.0,1920.0,null,1977.0,1985.0,1979.0,2009.0,1951.0,2003.0,1954.0,1948.0,null,1977.0,1954.0,2000.0,2007.0,1953.0,1945.0,1999.0,1962.0,2007.0,1990.0,2005.0,1969.0,1979.0,1958.0,1993.0,1979.0,null,1977.0,null,1966.0,1998.0,1966.0,2000.0,1974.0,2001.0,1968.0,1970.0,1967.0,1989.0,1999.0,1997.0,null,2005.0,2000.0,1999.0,1963.0,2004.0,1931.0,2001.0,null,1936.0,1975.0,2007.0,1971.0,1960.0,1923.0,null,1950.0,2009.0,2004.0,2006.0,1984.0,2003.0,2005.0,null,1926.0,null,1955.0,2007.0,2004.0,1981.0,1991.0,1960.0,1987.0,1961.0,1986.0,1950.0,1988.0,1958.0,2009.0,1935.0,2000.0,1920.0,1957.0,2003.0,1986.0,1993.0,1990.0,1916.0,1979.0,2001.0,1932.0,1972.0,1999.0,2004.0,1989.0,1976.0,2007.0,1918.0,null,2004.0,2003.0,1980.0,1924.0,2004.0,1948.0,1990.0,1962.0,1960.0,1988.0,1964.0,null,2009.0,2009.0,1996.0,1977.0,1957.0,2004.0,1940.0,1939.0,2005.0,2006.0,2002.0,1975.0,1989.0,2003.0,1991.0,1995.0,1987.0,1974.0,2005.0,1959.0,1995.0,1972.0,1976.0,2002.0,1971.0,2004.0,1993.0,2007.0,1949.0,2008.0,null,1940.0,1980.0,1994.0,1988.0,1910.0,1954.0,2003.0,1958.0,null,2006.0,2004.0,1964.0,1957.0,1999.0,2003.0,2006.0,2001.0,1956.0,1991.0,2007.0,1978.0,1974.0,1965.0,1981.0,1997.0,1939.0,1966.0,1987.0,2006.0,1954.0,1999.0,1958.0,1982.0,1978.0,2003.0,1951.0,2007.0,1977.0,1989.0,2006.0,2008.0,2008.0,1992.0,2006.0,1962.0,null,1970.0,2003.0,2006.0,null,1949.0,1977.0,1953.0,1984.0,1950.0,1997.0,1968.0,1950.0,1953.0,1998.0,2001.0,1975.0,2003.0,2004.0,1990.0,null,1961.0,2003.0,1993.0,1948.0,1939.0,1965.0,1925.0,2004.0,1983.0,2006.0,1993.0,1980.0,2006.0,2004.0,1987.0,1955.0,1961.0,1941.0,1993.0,1960.0,1930.0,1920.0,2002.0,1958.0,2003.0,2004.0,1998.0,1965.0,2005.0,2002.0,1984.0,1958.0,2002.0,1950.0,1949.0,2005.0,1976.0,1939.0,1960.0,1960.0,2003.0,2006.0,2007.0,1986.0,1941.0,2005.0,1940.0,1995.0,1992.0,1976.0,1958.0,1998.0,1978.0,1940.0,2003.0,1972.0,1976.0,1964.0,1963.0,1962.0,1954.0,1997.0,2000.0,1991.0,1984.0,1953.0,2003.0,null,1998.0,2004.0,2010.0,2000.0,1924.0,2006.0,2006.0,1950.0,1992.0,2004.0,null,1977.0,1999.0,2008.0,1978.0,2001.0,1959.0,null,1940.0,1956.0,1985.0,1962.0,1920.0,2007.0,1996.0,2005.0,1940.0,1998.0,1995.0,1993.0,1936.0,1960.0,2006.0,2008.0,1958.0,1955.0,2009.0,1927.0,1993.0,2007.0,1978.0,1918.0,1940.0,1968.0,1997.0,1977.0,1954.0,1998.0,1956.0,1947.0,1989.0,1964.0,2007.0,1988.0,1971.0,null,1971.0,1997.0,null,1996.0,1990.0,1926.0,1990.0,2005.0,2008.0,null,1930.0,2007.0,1994.0,1956.0,1966.0,1998.0,1937.0,1981.0,1932.0,1975.0,1996.0,2008.0,1976.0,1973.0,1916.0,1954.0,1925.0,1950.0,2009.0,1971.0,1965.0,1939.0,null,2004.0,1970.0,1942.0,2006.0,1993.0,1985.0,1977.0,2005.0,2006.0,2000.0,1996.0,1997.0,2006.0,2007.0,1995.0,2004.0,2003.0,1915.0,1998.0,1963.0,1950.0,1965.0,1971.0,1970.0,1970.0,1976.0,1941.0,2006.0,1964.0,1938.0,null,1992.0,1925.0,1967.0,1958.0,1973.0,2005.0,1965.0,1959.0,1974.0,1952.0,1993.0,2009.0,1928.0,1959.0,1951.0,2005.0,1964.0,1983.0,1926.0,2009.0,1972.0,1996.0,1998.0,1926.0,null,1957.0,1950.0,2007.0,1996.0,2005.0,1956.0,2008.0,null,1975.0,1988.0,1920.0,1967.0,null,2004.0,null,1998.0,1980.0,1968.0,2001.0,2006.0,2000.0,1998.0,1998.0,2006.0,1988.0,1950.0,1987.0,1963.0,2003.0,1977.0,1957.0,2006.0,2002.0,2003.0,1922.0,1957.0,1994.0,1996.0,2003.0,1957.0,1975.0,null,1955.0,1992.0,1920.0,2005.0,2004.0,1983.0,1979.0,1987.0,1959.0,2009.0,2000.0,1971.0,1947.0,1928.0,1966.0,2007.0,1954.0,1960.0,2009.0,null,1988.0,1935.0,2005.0,1961.0,1996.0,1968.0,1988.0,2004.0,2008.0,1985.0,2003.0,1981.0,2005.0,1930.0,2006.0,1977.0,1980.0,2003.0,1979.0,1992.0,2004.0,2002.0,1965.0,2000.0,1948.0,1934.0,1961.0,2000.0,1978.0,2001.0,null,null,1963.0,2002.0,1962.0,2007.0,2003.0,null,1974.0,1986.0,2000.0,1972.0,1962.0,1960.0,1955.0,1969.0,1964.0,1937.0,2006.0,1977.0,1954.0,1980.0,null,null,1954.0,null,2006.0,2003.0,2001.0,1972.0,1969.0,2009.0,1979.0,1950.0,1953.0,1966.0,null,2007.0,1940.0,1996.0,1906.0,1995.0,1971.0,1959.0,1931.0,1948.0,1968.0,1976.0,1994.0,1968.0,1974.0,2005.0,2000.0,1965.0,1994.0,1999.0,1922.0,2005.0,1930.0,1977.0,1957.0,1965.0,1978.0,1920.0,1924.0,2008.0,1963.0,1980.0,1968.0,1996.0,2002.0,1998.0,1984.0,2007.0,2004.0,2007.0,2005.0,2004.0,1994.0,1989.0,1968.0,1995.0,1987.0,1921.0,1952.0,1973.0,2004.0,2002.0,1969.0,2006.0,1999.0,2004.0,null,1971.0,2006.0,2007.0,1966.0,null,1964.0,1988.0,1970.0,1976.0,1974.0,1996.0,1973.0,1993.0,1969.0,1985.0,2004.0,1994.0,1958.0,2007.0,1989.0,1988.0,2007.0,1968.0,1962.0,1995.0,2003.0,1998.0,1961.0,1968.0,1914.0,1949.0,2005.0,null,2004.0,1910.0,1962.0,2000.0,1997.0,1993.0,1994.0,2000.0,1950.0,1996.0,1945.0,null,2003.0,1997.0,2005.0,1969.0,1999.0,2007.0,1978.0,1999.0,1995.0,2008.0,1965.0,2009.0,1999.0,1995.0,2008.0,1988.0,1989.0,2004.0,2003.0,1983.0,1951.0,1976.0,1958.0,2006.0,1998.0,2005.0,1974.0,1977.0,1977.0,1995.0,1992.0,2001.0,1978.0,null,1967.0,1961.0,2004.0,1954.0,1966.0,2005.0,1976.0,1997.0,2007.0,1994.0,1980.0,1977.0,1953.0,2009.0,1939.0,1997.0,1957.0,2005.0,2009.0,1954.0,2008.0,1967.0,1923.0,1966.0,1910.0,1974.0,2004.0,1952.0,1958.0,1955.0,1998.0,1954.0,2002.0,1971.0,2010.0,2003.0,1974.0,2003.0,1940.0,2006.0,2007.0,null,2001.0,1967.0,2005.0,1957.0,2005.0,2003.0,1964.0,1961.0,1996.0,1948.0,1973.0,1999.0,1946.0,1934.0,1983.0,1966.0,null,1949.0,1975.0,1993.0,1972.0,1908.0,1976.0,2003.0,2003.0,1941.0,1964.0,1955.0,1962.0,1981.0,1994.0,1976.0,1968.0,1925.0,1965.0,1986.0,1959.0,2008.0,1973.0,2007.0,1961.0,1979.0,1993.0,1962.0,1998.0,1953.0,1949.0,1941.0,2007.0,1963.0,2004.0,1987.0,1978.0,2005.0,1990.0,1993.0,1997.0,1967.0,1999.0,2005.0,1955.0,1970.0,1953.0,2003.0,1978.0,1963.0,1954.0,1979.0,1963.0,1936.0,1979.0,2009.0,1961.0,1979.0,1968.0,2003.0,2006.0,1967.0,1954.0,2006.0,1936.0,1983.0,2005.0,1960.0,1978.0,1925.0,1949.0,2009.0,1970.0,1958.0,1956.0,1991.0,1990.0,1994.0,null,2005.0,1993.0,1980.0,1977.0,2003.0,1968.0,2001.0,1997.0,2007.0,1965.0,2006.0,2004.0,1960.0,1953.0,2003.0,2005.0,2006.0,1940.0,1976.0,1999.0,null,1967.0,1958.0,1963.0,1959.0,2002.0,2002.0,1972.0,1980.0,1979.0,1974.0,1969.0,null,1946.0,1980.0,1977.0,2003.0,1999.0,null,1977.0,1976.0,2007.0,2002.0,2005.0,1940.0,1955.0,null,1958.0,null,2003.0,1979.0,2007.0,1997.0,2000.0,null,2007.0,1999.0,1963.0,1961.0,1998.0,2007.0,2002.0,1977.0,1950.0,1950.0,2010.0,1976.0,2006.0,1997.0,1925.0,1964.0,2005.0,2008.0,1946.0,1961.0,1970.0,1922.0,2006.0,1956.0,1920.0,2006.0,1976.0,2005.0,1977.0,1970.0,1970.0,2004.0,null,1948.0,null,1923.0,1956.0,1948.0,2001.0,1996.0,1984.0,1991.0,2005.0,2005.0,2006.0,1957.0,2005.0,1976.0,1980.0,1960.0,2008.0,1941.0,1972.0,null,1970.0,1993.0,2002.0,1938.0,1957.0,2008.0,2001.0,null,1970.0,1957.0,1966.0,2005.0,1990.0,1981.0,1955.0,2005.0,1996.0,1960.0,1946.0,2007.0,2007.0,1964.0,1957.0,2002.0,1976.0,2005.0,1994.0,2008.0,1977.0,2001.0,1994.0,1945.0,1976.0,1966.0,1996.0,1993.0,1964.0,1973.0,1985.0,1956.0,1968.0,1954.0,1977.0,2006.0,1940.0,1950.0,1969.0,2004.0,1996.0,1971.0,1963.0,2002.0,1964.0,1995.0,1992.0,1973.0,2005.0,2004.0,2005.0,1987.0,1999.0,1925.0,1977.0,1956.0,2006.0,null,1987.0,1936.0,1978.0,1930.0,1981.0,1960.0,1954.0,1970.0,1994.0,1990.0,2006.0,2000.0,2004.0,1995.0,1976.0,1957.0,1953.0,1955.0,2007.0,2002.0,1967.0,1958.0,1959.0,1920.0,2005.0,1956.0,null,1992.0,1977.0,2007.0,2004.0,2004.0,1980.0,1981.0,null,1930.0,1995.0,1997.0,1926.0,1950.0,null,1977.0,1972.0,1988.0,1976.0,2006.0,null,1941.0,1928.0,1985.0,1941.0,1982.0,1930.0,1950.0,1959.0,1956.0,2002.0,1965.0,1976.0,1965.0,2008.0,2008.0,1974.0,1978.0,1993.0,1968.0,1969.0,1978.0,2009.0,2008.0,2000.0,1935.0,1995.0,1977.0,1958.0,2006.0,null,1932.0,1992.0,1984.0,1926.0,1921.0,null,1990.0,2008.0,1996.0,1970.0,1963.0,1965.0,1920.0,1994.0,2002.0,1999.0,1975.0,1999.0,1925.0,1999.0,1969.0,2005.0,2006.0,1916.0,2001.0,1974.0,1972.0,1998.0,1960.0,2000.0,1975.0,1990.0,1966.0,2003.0,1980.0,2006.0,1992.0,1988.0,1941.0,1965.0,1962.0,1966.0,1978.0,2009.0,null,null,1964.0,1968.0,1949.0,1951.0,2004.0,1958.0,2007.0,1992.0,2008.0,1960.0,1977.0,1962.0,1962.0,1959.0,null,1914.0,2003.0,2004.0,2005.0,2006.0,2003.0,2007.0,1974.0,2006.0,1931.0,1984.0,2005.0,1976.0,1950.0,1950.0,1968.0,2003.0,1968.0,1974.0,2003.0,1978.0,1994.0,null,2005.0,1969.0,1999.0,1956.0,1957.0,1940.0,1998.0,1999.0,1960.0,2009.0,1982.0,1958.0,1979.0,1968.0,1965.0,1959.0,1985.0,1948.0,1972.0,1967.0,2002.0,1980.0,2002.0,1990.0,1977.0,null,1969.0,1939.0,1963.0,1964.0,2000.0,2006.0,1964.0,1972.0,1985.0,1976.0,1957.0,1968.0,1963.0,2005.0,2008.0,1959.0,1999.0,1942.0,1994.0,2005.0,2004.0,2006.0,2005.0,2000.0,1948.0,1991.0,1959.0,2005.0,1990.0,1999.0,1956.0,1969.0,2008.0,2006.0,2001.0,1954.0,1957.0,1955.0,1992.0,null,2007.0,null,null,1982.0,1920.0,1998.0,2006.0,1976.0,1958.0,1951.0,1970.0,1977.0,1973.0,null,2002.0,1972.0,1974.0,2004.0,2002.0,1929.0,2006.0,1997.0,1968.0,2006.0,1998.0,null,1969.0,1962.0,1999.0,1996.0,2000.0,1968.0,1966.0,1971.0,2000.0,2004.0,1998.0,2005.0,1920.0,2007.0,2005.0,2000.0,1999.0,1977.0,2003.0,2003.0,1967.0,1955.0,1998.0,2001.0,2005.0,2007.0,1925.0,1977.0,1973.0,2007.0,1938.0,1970.0,1989.0,2007.0,1939.0,1922.0,1978.0,1916.0,2006.0,2003.0,2000.0,1967.0,1967.0,2003.0,2006.0,2005.0,1966.0,1933.0,1950.0,1925.0,1929.0,2004.0,2006.0,2007.0,1998.0,2004.0,1988.0,null,1966.0,1986.0,2001.0,1950.0,1956.0,2005.0,1922.0,2007.0,1971.0,1998.0,1962.0,1969.0,1968.0,1977.0,2003.0,1966.0,1970.0,1960.0,1994.0,1962.0,1940.0,1981.0,2005.0,1976.0,1928.0,2000.0,1977.0,1962.0,1974.0,2008.0,1957.0,1979.0,1993.0,2004.0,2008.0,1916.0,2004.0,1990.0,1962.0,1995.0,1950.0,null,null,2008.0,2005.0,null,2004.0,1999.0,1978.0,1941.0,1950.0,1965.0,1961.0,1958.0,1997.0,1998.0,1992.0,1993.0,1992.0,1998.0,1990.0,1970.0,1999.0,1971.0,1997.0,1975.0,1975.0,2009.0,2009.0,2005.0,2005.0,2003.0,2002.0,2006.0,2005.0,2006.0,2004.0,2004.0,1998.0,2005.0,2009.0,2005.0,2004.0,1920.0,1974.0,1993.0,1992.0,2004.0,2004.0,2004.0,2004.0,2005.0,2000.0,2003.0,2010.0,2000.0,2002.0,1967.0,1993.0,1978.0,1971.0,1966.0,1966.0,1967.0,1964.0,null,1994.0,1949.0,1966.0,1958.0,2003.0,1959.0,1959.0,1956.0,1956.0,1952.0,1955.0,1958.0,1989.0,1950.0,1960.0,1963.0,1900.0,null,1957.0,1938.0,1948.0,1962.0,1928.0,1930.0,2003.0,null,1970.0,1950.0,1928.0,1926.0,1939.0,1973.0,1942.0,1948.0,1979.0,1930.0,1923.0,1915.0,null,1920.0,1959.0,1917.0,null,1940.0,null,1910.0,null,1966.0,1969.0,1978.0,1968.0,1977.0,1945.0,1978.0,1938.0,1987.0,1947.0,1954.0,2009.0,1964.0,1987.0,2000.0,2009.0,1957.0,1998.0,1997.0,1977.0,1977.0,2003.0,1997.0,2003.0,1945.0,1954.0,1968.0,1956.0,1975.0,null,1979.0,1939.0,null,null,1941.0,1950.0,1994.0,1989.0,1989.0,1951.0,1950.0,1896.0,2004.0,1998.0,1977.0,1976.0,2008.0,2010.0,2007.0,1965.0,2004.0,2001.0,1973.0,null,null,1972.0,1971.0,1984.0,1985.0,1993.0,1969.0,1994.0,1993.0,1956.0,1974.0,1997.0,2003.0,1996.0,2004.0,1998.0,1995.0,1998.0,1998.0,1994.0,1993.0,1977.0,1978.0,1978.0,1980.0,1978.0,2003.0,2000.0,2002.0,1975.0,1974.0,1975.0,1970.0,1971.0,2001.0,1986.0,1973.0,1972.0,1976.0,1975.0,1977.0,1978.0,1978.0,1976.0,1966.0,2007.0,2009.0,2008.0,2007.0,2008.0,2004.0,2007.0,2008.0,2006.0,2008.0,2003.0,2003.0,2003.0,2006.0,2005.0,2005.0,2008.0,2004.0,2003.0,2008.0,2008.0,2002.0,2003.0,2005.0,2005.0,2005.0,2004.0,2004.0,2004.0,2003.0,2003.0,2002.0,2004.0,2000.0,1999.0,1999.0,1999.0,2000.0,1994.0,1995.0,1993.0,2008.0,2008.0,2007.0,2006.0,2005.0,2008.0,2008.0,2008.0,2006.0,2006.0,2009.0,2006.0,2003.0,2003.0,2007.0,2006.0,null,2004.0,2004.0,2005.0,null,2004.0,2008.0,1997.0,1992.0,1990.0,1994.0,1986.0,1981.0,1969.0,1982.0,1961.0,1965.0,1963.0,1962.0,1980.0,1991.0,2004.0,2008.0,2008.0,2000.0,1999.0,1977.0,1981.0,1976.0,1974.0,1967.0,1969.0,1969.0,1977.0,1967.0,1967.0,1974.0,1971.0,1988.0,1960.0,1982.0,1956.0,1961.0,1964.0,1965.0,1961.0,1955.0,1967.0,1961.0,1966.0,1956.0,1960.0,1959.0,1956.0,1955.0,1956.0,1958.0,1954.0,1951.0,1945.0,1952.0,1953.0,1948.0,1950.0,1958.0,1939.0,1940.0,1987.0,1954.0,2008.0,null,1980.0,1959.0,1969.0,1963.0,1967.0,1985.0,1957.0,1958.0,1989.0,1958.0,1952.0,1959.0,1949.0,1994.0,1964.0,1978.0,1963.0,1920.0,1920.0,1959.0,null,1939.0,null,null,1950.0,1920.0,1965.0,1963.0,1974.0,1930.0,1917.0,null,1920.0,1950.0,null,1923.0,1955.0,1924.0,1926.0,1938.0,1982.0,1930.0,1915.0,null,1927.0,1915.0,null,1927.0,null,1915.0,1946.0,null,1960.0,1934.0,1984.0,1978.0,1961.0,1960.0,1956.0,null,1980.0,1956.0,1946.0,1954.0,1984.0,1990.0,1983.0,1993.0,1900.0,1979.0,1979.0,1979.0,1979.0,2000.0,2000.0,2000.0,2009.0,2008.0,2008.0,2007.0,2007.0,2008.0,2005.0,2005.0,1992.0,1995.0,1998.0,1998.0,2002.0,2001.0,1978.0,1979.0,2002.0,2003.0,2002.0,2001.0,1999.0,2002.0,1997.0,2007.0,2007.0,1968.0,2005.0,1959.0,1950.0,null,1956.0,1940.0,1938.0,1926.0,1916.0,1918.0,1961.0,1960.0,1940.0,1954.0,1960.0,1949.0,1954.0,1980.0,1980.0,1980.0,1986.0,1971.0,1998.0,1940.0,2007.0,1975.0,2000.0,1977.0,1977.0,1991.0,2008.0,2008.0,1980.0,1987.0,2003.0,2007.0,1968.0,1969.0,1998.0,1993.0,1998.0,2001.0,1969.0,1997.0,1995.0,1998.0,1996.0,1996.0,1997.0,1992.0,1998.0,1991.0,1989.0,2005.0,2004.0,1952.0,2007.0,1950.0,1988.0,1983.0,1978.0,1979.0,1976.0,1980.0,1969.0,1978.0,1976.0,1996.0,1982.0,1969.0,1977.0,1973.0,1975.0,1972.0,1975.0,1977.0,2007.0,2007.0,2007.0,2006.0,2005.0,2005.0,2007.0,2004.0,2003.0,2003.0,2001.0,2003.0,2008.0,2005.0,2008.0,2007.0,2007.0,2003.0,2003.0,2004.0,2007.0,2004.0,2002.0,2003.0,2008.0,2000.0,2002.0,1999.0,1999.0,1997.0,2000.0,1998.0,1996.0,1995.0,1993.0,2006.0,2007.0,2007.0,2006.0,2008.0,2007.0,2008.0,2003.0,2003.0,null,2007.0,1995.0,1993.0,1994.0,2001.0,1992.0,1963.0,1962.0,1970.0,1963.0,1974.0,1972.0,1990.0,1993.0,2004.0,2005.0,2007.0,1999.0,2000.0,2001.0,2001.0,1999.0,1999.0,2001.0,1999.0,2000.0,1998.0,1995.0,1977.0,1976.0,2002.0,1969.0,1968.0,1967.0,1965.0,1968.0,1978.0,1987.0,1971.0,1956.0,1961.0,1960.0,1937.0,1960.0,1950.0,1953.0,1966.0,1957.0,1959.0,1958.0,1956.0,1952.0,1971.0,1953.0,1957.0,1957.0,1958.0,1948.0,1932.0,1997.0,1968.0,1990.0,1958.0,1960.0,1972.0,1959.0,1962.0,1994.0,1954.0,1954.0,null,1955.0,1954.0,1963.0,2008.0,1948.0,1910.0,1950.0,1915.0,null,1958.0,1920.0,null,1940.0,1930.0,null,1959.0,1949.0,null,1950.0,1935.0,1961.0,1930.0,null,1920.0,1950.0,1959.0,1959.0,1992.0,1945.0,1950.0,1941.0,1926.0,1940.0,1924.0,2004.0,1939.0,1926.0,1920.0,1946.0,1990.0,1925.0,1939.0,1960.0,1970.0,null,1910.0,1930.0,1952.0,1938.0,1950.0,1993.0,1985.0,1997.0,null,1947.0,1996.0,1978.0,1967.0,1978.0,1967.0,1984.0,1920.0,1963.0,1956.0,1960.0,1973.0,1979.0,1979.0,1948.0,null,1956.0,null,1962.0,1995.0,1994.0,1993.0,1996.0,2007.0,2007.0,2008.0,2008.0,1995.0,1966.0,1997.0,1997.0,1997.0,2000.0,2000.0,1978.0,1985.0,1975.0,2001.0,2001.0,2002.0,2003.0,1999.0,2004.0,1998.0,2004.0,2007.0,2007.0,1966.0,1976.0,1991.0,1977.0,1976.0,1959.0,null,null,null,null,null,1953.0,1954.0,1923.0,1921.0,1930.0,2001.0,1994.0,1925.0,1980.0,1937.0,1938.0,1951.0,1935.0,1994.0,1956.0,1980.0,1926.0,1940.0,null,1967.0,1934.0,1958.0,1952.0,1895.0,1910.0,1920.0,2007.0,2004.0,1996.0,1996.0,1976.0,1991.0,1986.0,2007.0,2007.0,2007.0,2008.0,1989.0,1986.0,2003.0,1999.0,2007.0,2005.0,1997.0,null,1997.0,1964.0,1975.0,1976.0,1973.0,1973.0,1968.0,null,1983.0,1982.0,1984.0,1900.0,1971.0,1997.0,1994.0,2000.0,1996.0,1999.0,1992.0,1993.0,1964.0,1988.0,1990.0,2005.0,2005.0,1969.0,2006.0,2006.0,2007.0,1984.0,1981.0,1978.0,1979.0,1984.0,1979.0,1971.0,1976.0,1974.0,1988.0,1970.0,1961.0,2001.0,1997.0,1973.0,1973.0,1978.0,1974.0,2007.0,2006.0,2007.0,2007.0,2006.0,2005.0,2007.0,2005.0,2007.0,2007.0,2007.0,2006.0,2004.0,2003.0,2007.0,2005.0,2005.0,2006.0,2005.0,2005.0,2005.0,2006.0,2005.0,2006.0,2003.0,2007.0,2005.0,2007.0,2006.0,2007.0,2005.0,2007.0,2007.0,2007.0,2003.0,2007.0,2004.0,2004.0,2006.0,2003.0,2003.0,2002.0,2000.0,1999.0,1998.0,1998.0,1998.0,1998.0,1992.0,1996.0,2007.0,2007.0,2006.0,2007.0,2007.0,2005.0,2005.0,2006.0,2006.0,2007.0,2007.0,2007.0,2007.0,2007.0,2007.0,2006.0,2004.0,null,null,2004.0,2006.0,1993.0,1980.0,1979.0,1991.0,1990.0,1974.0,1973.0,2004.0,2006.0,2006.0,2006.0,2007.0,1999.0,2000.0,1999.0,2003.0,1998.0,1994.0,1980.0,1981.0,1968.0,1970.0,1969.0,1968.0,1972.0,1993.0,1993.0,1966.0,1963.0,1967.0,1964.0,1966.0,1961.0,1985.0,1965.0,1966.0,1965.0,1964.0,1964.0,1959.0,1975.0,null,null,1963.0,1955.0,1968.0,1966.0,1961.0,1957.0,1964.0,1994.0,1960.0,1957.0,1957.0,1955.0,1955.0,1962.0,1958.0,1952.0,1953.0,1956.0,2002.0,1955.0,1953.0,1952.0,null,1953.0,2007.0,1978.0,null,1963.0,1961.0,1968.0,1950.0,1959.0,1958.0,1960.0,1965.0,1961.0,1962.0,1962.0,1981.0,1980.0,1922.0,1920.0,1940.0,2000.0,1930.0,1935.0,1992.0,1927.0,1920.0,1979.0,2004.0,1950.0,1956.0,1957.0,1969.0,1950.0,1939.0,1939.0,1939.0,1968.0,1939.0,1930.0,1926.0,1950.0,1977.0,1965.0,1979.0,1920.0,1920.0,1963.0,1950.0,2006.0,1958.0,1910.0,1937.0,1942.0,1963.0,1964.0,1964.0,1970.0,1966.0,1989.0,1968.0,1972.0,1966.0,1956.0,1946.0,1940.0,1954.0,1958.0,1952.0,1984.0,1996.0,1953.0,1946.0,1954.0,1954.0,1958.0,1958.0,1984.0,1951.0,1951.0,1920.0,1984.0,1994.0,2007.0,2006.0,2007.0,2005.0,2005.0,2005.0,2005.0,1988.0,1976.0,1995.0,1997.0,1995.0,1996.0,1999.0,1998.0,2001.0,2000.0,1974.0,1979.0,1977.0,1977.0,1977.0,1975.0,1977.0,1975.0,2000.0,2003.0,2002.0,1994.0,2001.0,1996.0,1999.0,2007.0,2005.0,2006.0,2006.0,2005.0,1967.0,2002.0,1975.0,1960.0,1976.0,1979.0,2005.0,2008.0,2005.0,1959.0,null,null,1920.0,1959.0,1996.0,null,1973.0,1994.0,1930.0,1992.0,1926.0,1927.0,1951.0,1930.0,1966.0,1960.0,1968.0,1980.0,1996.0,1988.0,1971.0,1986.0,1965.0,null,null,1922.0,1950.0,null,1985.0,1930.0,2006.0,1979.0,2002.0,2002.0,1991.0,1975.0,1974.0,1987.0,1958.0,2007.0,2207.0,1985.0,2001.0,2002.0,1996.0,2003.0,2006.0,1953.0,1996.0,1972.0,1970.0,null,1976.0,1977.0,1977.0,1977.0,1977.0,null,1961.0,1976.0,1983.0,1984.0,1954.0,1956.0,1957.0,1957.0,1969.0,1997.0,1995.0,1996.0,2005.0,2006.0,1994.0,1993.0,1987.0,2005.0,2006.0,2006.0,2006.0,2005.0,2005.0,2005.0,1980.0,1978.0,1976.0,2005.0,1975.0,1974.0,1995.0,2002.0,1973.0,1973.0,1973.0,1972.0,1972.0,1975.0,1974.0,1976.0,1976.0,2006.0,2004.0,2006.0,2005.0,2005.0,2005.0,2005.0,2006.0,2005.0,2005.0,2004.0,2004.0,2005.0,2006.0,2006.0,2005.0,2006.0,2006.0,2004.0,2006.0,2006.0,2002.0,2004.0,2005.0,2004.0,2000.0,2006.0,1998.0,2000.0,2000.0,1995.0,1993.0,1994.0,1993.0,2005.0,2006.0,2006.0,2006.0,2006.0,2005.0,null,2005.0,null,2005.0,2005.0,1997.0,1992.0,1990.0,1991.0,1994.0,1977.0,1977.0,1972.0,1965.0,1968.0,1990.0,1965.0,null,1967.0,1974.0,1992.0,2004.0,2005.0,2000.0,2003.0,1997.0,2001.0,1972.0,1967.0,1968.0,1968.0,1968.0,1968.0,1966.0,1967.0,1965.0,1964.0,1964.0,1960.0,1949.0,1947.0,1961.0,1952.0,1951.0,1949.0,1954.0,1967.0,1964.0,1963.0,1957.0,1958.0,1956.0,1956.0,1954.0,1952.0,1951.0,1993.0,1956.0,1955.0,1951.0,1941.0,2001.0,1977.0,1953.0,1936.0,1967.0,1900.0,1974.0,1935.0,1963.0,1962.0,1961.0,1959.0,1962.0,1950.0,1950.0,null,1961.0,1962.0,1962.0,null,1900.0,1948.0,1920.0,1956.0,1985.0,1930.0,1993.0,1995.0,1925.0,1952.0,1930.0,1976.0,1976.0,1921.0,1945.0,1938.0,1910.0,null,2002.0,null,1943.0,1930.0,1930.0,1925.0,1962.0,1924.0,2001.0,null,1930.0,1951.0,1964.0,1950.0,1939.0,1936.0,2004.0,1967.0,1964.0,1966.0,1967.0,1979.0,1977.0,1977.0,1924.0,1967.0,1993.0,1973.0,1980.0,1954.0,1942.0,1928.0,1993.0,1962.0,2002.0,1955.0,1953.0,1989.0,1993.0,2005.0,2005.0,2006.0,2005.0,2005.0,2005.0,2005.0,1968.0,1996.0,1995.0,1998.0,1999.0,1999.0,1977.0,1989.0,1977.0,2002.0,1999.0,2002.0,2002.0,1999.0,1997.0,1998.0,1995.0,2003.0,2003.0,2006.0,2005.0,2005.0,1950.0,null,1969.0,2003.0,null,2003.0,2005.0,2004.0,1948.0,1974.0,1924.0,1956.0,null,1922.0,1910.0,1938.0,1945.0,1926.0,1920.0,1919.0,1939.0,1941.0,1937.0,1940.0,1963.0,1963.0,1930.0,1950.0,1942.0,1950.0,null,1925.0,1957.0,null,null,null,2005.0,2004.0,1979.0,1978.0,2001.0,1975.0,1958.0,2000.0,2005.0,2005.0,1951.0,1997.0,1977.0,1968.0,1970.0,null,1972.0,1969.0,1970.0,null,null,1970.0,1960.0,null,1993.0],\"xaxis\":\"x\",\"y\":[2003,1976,2001,1915,2000,1993,2004,1973,1931,1939,1965,2005,1962,2006,1960,1929,1970,1967,2004,1958,2005,1930,2002,1976,1968,2007,1951,2007,1957,1927,1920,1966,2007,1959,2005,2004,1994,1954,1953,1955,1965,1959,1983,1975,1959,2005,2003,2006,1920,1966,1997,1934,1963,1981,1955,1964,1999,2004,2006,1972,2004,1920,2006,1921,1997,2004,1970,2003,1945,1953,1973,1982,1998,1954,1915,1973,1956,1948,1968,1910,1968,1998,2007,1960,1995,1991,2005,2009,1915,1994,1950,1961,1921,1910,1997,1993,1999,1965,1920,1959,1977,1985,1979,2009,1931,2003,1885,1948,1919,1977,1954,2000,2007,1953,1945,1999,1962,2006,1990,2005,1969,1939,1958,1993,1979,1935,1976,1930,1966,1958,1966,2000,1959,2001,1968,1970,1967,1988,1999,1997,1971,2005,1952,1999,1963,2004,1931,2001,2004,1936,1975,2007,1971,1960,1923,1924,1950,2009,2004,2005,1984,2003,2005,1956,1926,1940,1955,2007,2004,1981,1941,1960,1987,1961,1986,1950,1988,1958,2008,1923,2000,1920,1957,2003,1908,1892,1990,1916,1979,2001,1932,1972,1999,2004,1972,1976,2007,1918,1912,2004,2003,1977,1924,2004,1947,1990,1962,1960,1988,1964,1925,2009,2009,1995,1977,1957,2004,1925,1939,2005,2006,2002,1975,1971,2003,1971,1995,1970,1967,2005,1959,1995,1972,1976,2002,1971,2004,1993,2007,1945,2008,1945,1900,1980,1994,1988,1910,1954,2003,1958,1940,2006,2004,1964,1957,1999,2003,2006,2001,1956,1962,2007,1977,1929,1925,1981,1997,1939,1940,1976,2006,1954,1999,1958,1982,1925,2003,1951,2006,1977,1989,2006,2007,2008,1992,2006,1962,1971,1967,1915,2006,1912,1949,1977,1953,1984,1950,1997,1968,1950,1953,1998,2001,1972,1880,2004,1990,1920,1940,2003,1993,1948,1939,1965,1925,2004,1980,2006,1993,1980,2006,2004,1986,1955,1967,1941,1993,1960,1916,1920,1964,1958,2003,2004,1998,1965,2005,2002,1984,1958,2002,1950,1949,2005,1976,1939,1960,1960,2003,2005,2007,1986,1941,1928,1940,1995,1992,1976,1958,1998,1978,1940,2003,1972,1976,1920,1963,1962,1954,1959,2000,1959,1984,1953,2003,1922,1996,2004,2010,2000,1924,2006,2006,1928,1992,2004,1910,1976,1999,2007,1900,2001,1959,1941,1940,1956,1972,1962,1920,2006,1996,2005,1940,1998,1995,1976,1936,1915,2006,2007,1958,1955,2009,1927,1993,2007,1978,1918,1940,1968,1997,1977,1954,1998,1956,1946,1989,1957,2007,1988,1971,1920,1971,1997,1972,1996,1920,1926,1913,1920,2008,1955,1930,2006,1994,1956,1966,1998,1937,1948,1930,1975,1996,2008,1976,1973,1916,1954,1925,1950,2009,1936,1965,1934,1978,2004,1970,1942,2006,1993,1985,1977,2005,2006,2000,1963,1997,2006,2007,1937,2004,2003,1915,1998,1962,1950,1965,1971,1900,1970,1976,1941,2006,1960,1938,1920,1992,1925,1967,1958,1973,2005,1965,1959,1974,1952,1993,2009,1928,1959,1951,2005,1958,1983,1926,2009,1972,1996,1998,1926,1900,1957,1947,2007,1996,2005,1956,2008,1920,1957,1988,1920,1955,1946,2004,1910,1998,1972,1968,2001,2006,2000,1998,1998,2006,1988,1923,1970,1955,2003,1977,1957,2006,1949,2003,1922,1957,1920,1996,2003,1957,1974,1940,1918,1992,1915,2005,2004,1983,1979,1965,1959,2009,2000,1971,1947,1928,1966,2007,1954,1960,2008,1990,1893,1935,2005,1918,1982,1968,1930,2004,2008,1982,2003,1975,2005,1910,2006,1977,1980,2005,1937,1992,2004,2002,1965,1996,1948,1934,1961,2000,1978,2001,2007,1972,1963,2002,1954,2007,2003,1914,1974,1977,2000,1972,1962,1960,1955,1969,1964,1880,2006,1977,1954,1980,1914,1936,1954,1910,2006,2003,2001,1972,1969,2009,1971,1950,1953,1966,1970,2007,1940,1996,1906,1995,1971,1959,1931,1948,1964,1976,1994,1968,1972,2005,2000,1965,1994,1956,1922,2005,1925,1977,1957,1965,1978,1900,1924,2008,1961,1980,1932,1996,2002,1998,1984,2007,2004,2007,2005,2004,1994,1989,1921,1936,1987,1921,1952,1965,2004,2002,1969,2006,1900,2004,1930,1971,2006,2007,1966,1935,1900,1988,1970,1976,1974,1890,1973,1993,1969,1985,2004,1970,1954,2007,1970,1988,2007,1958,1925,1995,2003,1998,1961,1968,1914,1950,2005,1987,2004,1910,1961,2000,1963,1993,1976,2000,1880,1996,1945,1910,2003,1997,2005,1969,1999,2007,1978,1999,1995,1959,1924,2009,1999,1995,2008,1988,1940,2004,2003,1982,1951,1976,1958,2006,1998,2005,1974,1977,1977,1995,1992,2001,1978,1914,1967,1915,2004,1954,1966,2005,1976,1996,2007,1994,1980,1977,1953,2008,1937,1997,1916,2005,2008,1954,2008,1967,1923,1966,1898,1974,2004,1952,1958,1918,1998,1954,2002,1971,2009,2003,1953,2003,1940,2006,2007,1924,2001,1967,2005,1957,2005,2003,1964,1961,1950,1948,1973,1995,1946,1925,1904,1966,1961,1915,1975,1993,1972,1908,1976,2003,2003,1941,1964,1955,1962,1978,1994,1976,1968,1918,1965,1984,1959,2007,1970,2006,1961,1948,1993,1962,1998,1953,1949,1941,2007,1963,2004,1961,1978,2005,1990,1992,1912,1967,1999,1959,1955,1970,1953,1949,1978,1963,1954,1979,1963,1936,1979,2009,1961,1971,1957,2003,2006,1967,1954,2006,1936,1983,2005,1960,1977,1925,1949,2009,1970,1949,1956,1991,1958,1994,1900,2005,1993,1980,1977,2003,1968,2001,1997,2007,1965,2006,2004,1960,1926,2003,2005,2006,1940,1976,1999,1977,1967,1958,1890,1959,2002,2002,1972,1950,1965,1972,1969,1975,1946,1980,1962,2003,1999,1958,1977,1976,2007,2002,2005,1940,1955,1910,1958,1949,2003,1979,2007,1910,2000,1923,2006,1954,1963,1961,1998,2007,2002,1977,1950,1910,2009,1976,2006,1997,1882,1964,2005,2006,1946,1961,1970,1922,2006,1952,1920,2006,1976,2005,1977,1970,1970,2004,1926,1948,1965,1923,1910,1948,2001,1996,1984,1991,2005,2005,2006,1930,2005,1976,1972,1960,2007,1941,1972,1916,1920,1993,2002,1938,1957,2007,2001,1970,1970,1957,1966,2005,1990,1981,1955,2005,1994,1960,1946,2007,2007,1964,1957,2002,1976,2005,1994,2008,1932,2001,1935,1900,1925,1966,1996,1993,1964,1973,1949,1956,1968,1948,1977,2006,1940,1936,1969,2004,1994,1971,1963,2002,1964,1995,1992,1973,2005,2004,2005,1950,1999,1925,1965,1956,2006,1914,1986,1936,1978,1920,1971,1960,1959,1970,1994,1990,2006,2000,2004,1995,1976,1957,1953,1954,2007,2002,1967,1958,1959,1920,2005,1956,1947,1992,1955,2007,2004,2004,1980,1928,1991,1880,1995,1997,1926,1950,1875,1977,1920,1951,1976,2006,1959,1941,1928,1985,1941,1926,1920,1950,1959,1956,1930,1965,1976,1965,2007,2007,1974,1978,1954,1968,1969,1978,2009,2008,2000,1935,1995,1977,1958,2006,1946,1932,1992,1984,1926,1921,1954,1990,2008,1996,1920,1963,1924,1900,1994,2002,1999,1961,1999,1925,1999,1969,2005,2006,1916,2001,1963,1970,1998,1925,2000,1975,1990,1966,2003,1962,2006,1992,1988,1941,1965,1962,1966,1978,2009,1947,1971,1964,1968,1949,1951,2004,1958,2007,1965,2008,1960,1977,1962,1962,1959,1911,1914,2003,2004,2005,2006,2003,2007,1974,2006,1929,1984,2005,1976,1917,1950,1968,2003,1968,1974,2003,1931,1994,1922,2005,1969,1999,1956,1957,1919,1998,1999,1910,2008,1935,1958,1979,1968,1965,1959,1910,1948,1972,1967,2002,1920,2002,1990,1977,1971,1919,1939,1963,1964,2000,2006,1964,1972,1892,1976,1955,1968,1963,2005,2008,1959,1999,1942,1994,2005,2004,2006,2005,1994,1948,1991,1959,2005,1990,1999,1954,1969,2008,2006,2001,1954,1957,1949,1992,1940,2006,1922,1931,1982,1920,1998,2006,1976,1938,1938,1970,1977,1973,1941,2002,1972,1971,2003,2002,1928,2006,1920,1968,2006,1998,1872,1969,1962,1937,1995,2000,1968,1966,1971,2000,2004,1921,2005,1920,2006,2005,2000,1999,1977,2003,2003,1920,1955,1998,2001,2005,2007,1930,1941,1973,2006,1914,1970,1920,1918,1939,1922,1978,1916,2006,1941,2000,1967,1967,1905,2006,2005,1948,1920,1950,1925,1929,2004,2006,2007,1915,2004,1972,1985,1910,1986,2001,1950,1949,2005,1923,2007,1885,1998,1963,1969,1968,1977,2003,1966,1958,1959,1994,1945,1940,1981,2005,1976,1927,2000,1977,1962,1971,2008,1957,1979,1922,2004,2008,1916,2004,1966,1962,1995,1910,1970,1974,2008,2005,2006,2004,1999,1978,1941,1950,1965,1961,1958,1997,1998,1992,1993,1992,1998,1990,1970,1999,1971,1971,1975,1975,2009,2009,2005,2005,2003,2002,2006,2005,2006,2004,2004,1998,2005,2009,2005,2004,1920,1974,1993,1992,2004,2004,2004,2004,2005,2000,2003,2010,2000,2002,1967,1993,1978,1971,1966,1966,1967,1964,1962,1952,1949,1966,1958,2003,1959,1959,1959,1956,1952,1955,1958,1920,1948,1960,1963,1900,1920,1957,1938,1948,1920,1923,1900,1890,1910,1922,1950,1922,1925,1939,1940,1942,1948,1936,1930,1923,1915,1912,1920,1959,1917,1915,1940,1907,1910,1967,1966,1968,1978,1968,1977,1927,1978,1938,1950,1947,1954,2009,1964,1987,1993,2010,1900,1996,1997,1977,1972,2003,1997,2003,1945,1954,1968,1948,1975,1958,1924,1939,1967,1931,1941,1950,1994,1989,1989,1941,1921,1896,2004,1998,1977,1976,2008,2009,2006,1965,2004,1999,1973,1970,1970,1972,1971,1984,1985,1991,1969,1994,1993,1956,1974,1997,2003,1996,2004,1998,1995,1998,1998,1994,1993,1977,1978,1978,1980,1978,2003,2000,2002,1975,1974,1975,1970,1971,1970,1971,1973,1972,1976,1975,1977,1978,1978,1976,1966,2007,2009,2008,2007,2008,2004,2007,2008,2006,2008,2003,2003,2003,2006,2005,2005,2007,2004,2003,2008,2008,2002,2003,2005,2005,2005,2004,2004,2004,2003,2003,2002,2004,2000,1999,1999,1999,2000,1994,1995,1993,2008,2008,2007,2006,2005,2008,2008,2007,2006,2006,2008,2006,2003,2003,2007,2006,2004,2004,2004,2004,2004,2003,2008,1996,1992,1990,1994,1986,1981,1962,1961,1961,1965,1963,1962,1980,1991,2004,2008,2008,2000,1999,1977,1981,1976,1974,1967,1969,1969,1977,1967,1967,1974,1971,1960,1959,1957,1956,1961,1964,1965,1961,1955,1967,1961,1966,1956,1960,1959,1956,1955,1956,1958,1954,1951,1945,1952,1953,1948,1950,1958,1939,1900,1925,1915,1910,1940,1920,1890,1969,1963,1967,1958,1957,1958,1950,1958,1952,1959,1949,1948,1964,1978,1963,1935,1910,1910,1910,1939,1920,1910,1950,1920,1940,1923,1910,1900,1917,1910,1920,1910,1900,1923,1930,1924,1925,1938,1925,1915,1915,1922,1927,1915,1902,1927,1923,1915,1946,1987,1978,1934,1967,1978,1961,1960,1956,1947,1954,1956,1946,1954,1984,1990,1983,1993,1880,1979,1979,1979,1979,2000,2000,2000,2009,2008,2008,2007,2007,2008,2005,2005,1992,1994,1998,1998,2002,2001,1978,1979,2002,2003,2002,2001,1999,2002,1997,2007,2007,1960,2005,1959,1950,1959,1956,1941,1938,1935,1916,1918,1940,1960,1940,1954,1960,1949,1954,1980,1980,1980,1986,1971,1900,1925,2007,1910,2000,1977,1977,1991,2008,2008,1980,1987,2003,2007,1968,1969,1972,1993,1992,1992,1969,1997,1995,1998,1996,1996,1997,1992,1998,1991,1989,2005,2004,1952,2007,1950,1988,1983,1978,1979,1976,1980,1969,1978,1976,1996,1974,1969,1971,1973,1972,1972,1975,1977,2007,2007,2007,2006,2005,2005,2007,2004,2003,2003,2001,2003,2008,2005,2007,2006,2006,2003,2003,2004,2007,2004,2002,2003,2007,2000,2002,1999,1999,1997,2000,1998,1996,1995,1993,2006,2007,2007,2006,2007,2007,2007,2003,2003,2005,2007,1995,1993,1994,2001,1992,1963,1961,1968,1963,1974,1972,1990,1993,2004,2005,2007,1999,2000,2001,2001,1999,1999,2001,1999,1999,1998,1995,1977,1976,2002,1969,1968,1967,1965,1968,1965,1965,1971,1956,1961,1960,1937,1960,1950,1953,1966,1957,1959,1958,1956,1952,1953,1953,1957,1957,1957,1948,1925,1940,1922,1968,1958,1960,1951,1959,1962,1948,1954,1954,1961,1955,1954,1963,2008,1948,1910,1940,1915,1910,1940,1920,1920,1940,1910,1890,1946,1946,1949,1900,1920,1900,1920,1905,1920,1890,1959,1958,1928,1945,1935,1941,1900,1940,1924,1937,1939,1926,1920,1946,1929,1945,1939,1923,1915,1910,1910,1930,1952,1938,1915,1925,1925,1912,1915,1947,1963,1978,1967,1978,1967,1984,1920,1963,1956,1960,1941,1970,1979,1948,1940,1956,1975,1962,1995,1994,1993,1996,2007,2007,2008,2008,1995,1966,1994,1997,1997,2000,2000,1978,1975,1975,2001,2001,2002,2003,1999,2004,1997,2004,2007,2007,1966,1976,1976,1977,1976,1959,1955,1955,1955,1938,1947,1953,1954,1923,1921,1930,1926,1914,1925,1923,1937,1938,1951,1935,1950,1956,1980,1926,1940,1930,1967,1930,1958,1952,1895,1910,1920,2007,2004,1996,1996,1976,1991,1986,2006,2007,2006,2008,1989,1986,2003,1999,2007,2005,1997,2007,1997,1964,1975,1976,1973,1973,1968,1970,1983,1982,1984,1900,1971,1997,1994,1999,1996,1999,1992,1993,1964,1988,1990,2005,2006,1969,2006,2006,2006,1984,1981,1978,1979,1984,1979,1971,1976,1974,1970,1970,1961,2001,1997,1973,1973,1978,1966,2006,2006,2007,2007,2006,2005,2007,2005,2007,2007,2007,2006,2004,2003,2007,2005,2005,2006,2005,2005,2005,2006,2005,2006,2003,2007,2005,2006,2006,2006,2005,2007,2007,2007,2003,2007,2004,2004,2006,2003,2003,2002,2000,1999,1997,1998,1998,1998,1992,1996,2007,2007,2006,2007,2007,2005,2005,2006,2006,2007,2006,2007,2007,2007,2007,2006,2004,2006,2006,2003,2006,1993,1980,1977,1968,1990,1974,1973,2004,2006,2006,2006,2006,1999,2000,1999,2003,1998,1994,1980,1981,1968,1970,1969,1968,1972,1993,1993,1966,1963,1967,1964,1956,1961,1961,1960,1966,1965,1964,1964,1959,1940,1946,1945,1958,1955,1968,1966,1961,1957,1956,1963,1960,1957,1957,1955,1955,1953,1958,1952,1953,1956,1955,1955,1953,1952,1890,1953,1935,1925,1895,1963,1961,1968,1950,1959,1958,1960,1960,1961,1962,1962,1926,1927,1922,1920,1940,1900,1900,1900,1910,1927,1910,1910,1930,1879,1956,1949,1925,1950,1939,1939,1939,1938,1939,1930,1926,1918,1920,1926,1929,1901,1901,1963,1950,1915,1958,1910,1937,1942,1963,1964,1964,1964,1966,1971,1968,1967,1966,1956,1920,1940,1954,1958,1945,1984,1948,1953,1946,1954,1954,1958,1958,1984,1951,1951,1920,1984,1994,2007,2006,2007,2005,2006,2005,2005,1988,1976,1994,1997,1994,1996,1999,1998,2001,2000,1974,1976,1977,1977,1977,1975,1972,1972,2000,2003,2002,1994,2001,1996,1999,2007,2005,2006,2006,2005,1967,1963,1925,1960,1976,1979,2005,2008,2005,1959,1955,1946,1920,1955,1955,1923,1926,1921,1930,1921,1926,1927,1951,1930,1941,1960,1968,1980,1995,1988,1971,1986,1940,1925,1923,1922,1939,1895,1957,1930,2006,1979,2002,2002,1991,1975,1974,1987,1958,2006,2006,1985,2001,2002,1996,2003,2006,1953,1996,1972,1970,1970,1976,1977,1977,1977,1977,1971,1961,1976,1983,1984,1954,1956,1957,1957,1969,1997,1995,1996,2005,2005,1994,1993,1987,2005,2006,2006,2006,2005,2005,2005,1980,1978,1976,2005,1975,1974,1971,2002,1973,1973,1972,1972,1972,1975,1967,1976,1976,2006,2004,2006,2005,2005,2005,2005,2006,2005,2005,2004,2004,2005,2006,2006,2005,2006,2006,2004,2006,2006,2002,2004,2005,2004,2000,2006,1998,2000,2000,1995,1993,1994,1993,2005,2006,2006,2006,2006,2005,2005,2005,2005,2005,2005,1997,1992,1990,1991,1994,1962,1977,1962,1965,1968,1963,1965,1964,1967,1974,1992,2004,2005,2000,2003,1997,2001,1972,1967,1968,1968,1968,1968,1966,1967,1965,1964,1964,1960,1934,1947,1961,1952,1951,1949,1954,1967,1964,1963,1957,1958,1956,1956,1954,1952,1951,1956,1956,1955,1951,1941,1956,1925,1947,1930,1929,1900,1915,1910,1963,1962,1961,1959,1962,1950,1950,1960,1961,1962,1962,1962,1900,1948,1920,1900,1900,1930,1900,1924,1925,1950,1905,1955,1924,1921,1945,1920,1910,1920,1958,1918,1924,1930,1930,1925,1962,1924,1910,1919,1930,1951,1964,1950,1935,1936,2004,1967,1964,1966,1967,1978,1977,1977,1924,1967,1963,1971,1980,1954,1942,1928,1935,1962,1952,1955,1953,1989,1993,2005,2005,2006,2005,2005,2005,2005,1968,1996,1995,1998,1999,1999,1977,1978,1972,2002,1999,2002,2002,1999,1996,1998,1995,2003,2003,2006,2005,2005,1910,1975,1969,2003,2002,2003,2005,2004,1948,1915,1924,1954,1922,1922,1910,1938,1945,1926,1920,1919,1939,1941,1920,1940,1929,1932,1930,1950,1942,1926,1925,1925,1957,1945,1951,1916,2005,2004,1979,1978,2001,1975,1958,2000,2005,2005,1951,1997,1977,1968,1970,1970,1972,1969,1970,1970,1970,1970,1960,1992,1993],\"yaxis\":\"y\",\"type\":\"scattergl\"}],                        {\"template\":{\"data\":{\"bar\":[{\"error_x\":{\"color\":\"#2a3f5f\"},\"error_y\":{\"color\":\"#2a3f5f\"},\"marker\":{\"line\":{\"color\":\"#E5ECF6\",\"width\":0.5},\"pattern\":{\"fillmode\":\"overlay\",\"size\":10,\"solidity\":0.2}},\"type\":\"bar\"}],\"barpolar\":[{\"marker\":{\"line\":{\"color\":\"#E5ECF6\",\"width\":0.5},\"pattern\":{\"fillmode\":\"overlay\",\"size\":10,\"solidity\":0.2}},\"type\":\"barpolar\"}],\"carpet\":[{\"aaxis\":{\"endlinecolor\":\"#2a3f5f\",\"gridcolor\":\"white\",\"linecolor\":\"white\",\"minorgridcolor\":\"white\",\"startlinecolor\":\"#2a3f5f\"},\"baxis\":{\"endlinecolor\":\"#2a3f5f\",\"gridcolor\":\"white\",\"linecolor\":\"white\",\"minorgridcolor\":\"white\",\"startlinecolor\":\"#2a3f5f\"},\"type\":\"carpet\"}],\"choropleth\":[{\"colorbar\":{\"outlinewidth\":0,\"ticks\":\"\"},\"type\":\"choropleth\"}],\"contour\":[{\"colorbar\":{\"outlinewidth\":0,\"ticks\":\"\"},\"colorscale\":[[0.0,\"#0d0887\"],[0.1111111111111111,\"#46039f\"],[0.2222222222222222,\"#7201a8\"],[0.3333333333333333,\"#9c179e\"],[0.4444444444444444,\"#bd3786\"],[0.5555555555555556,\"#d8576b\"],[0.6666666666666666,\"#ed7953\"],[0.7777777777777778,\"#fb9f3a\"],[0.8888888888888888,\"#fdca26\"],[1.0,\"#f0f921\"]],\"type\":\"contour\"}],\"contourcarpet\":[{\"colorbar\":{\"outlinewidth\":0,\"ticks\":\"\"},\"type\":\"contourcarpet\"}],\"heatmap\":[{\"colorbar\":{\"outlinewidth\":0,\"ticks\":\"\"},\"colorscale\":[[0.0,\"#0d0887\"],[0.1111111111111111,\"#46039f\"],[0.2222222222222222,\"#7201a8\"],[0.3333333333333333,\"#9c179e\"],[0.4444444444444444,\"#bd3786\"],[0.5555555555555556,\"#d8576b\"],[0.6666666666666666,\"#ed7953\"],[0.7777777777777778,\"#fb9f3a\"],[0.8888888888888888,\"#fdca26\"],[1.0,\"#f0f921\"]],\"type\":\"heatmap\"}],\"heatmapgl\":[{\"colorbar\":{\"outlinewidth\":0,\"ticks\":\"\"},\"colorscale\":[[0.0,\"#0d0887\"],[0.1111111111111111,\"#46039f\"],[0.2222222222222222,\"#7201a8\"],[0.3333333333333333,\"#9c179e\"],[0.4444444444444444,\"#bd3786\"],[0.5555555555555556,\"#d8576b\"],[0.6666666666666666,\"#ed7953\"],[0.7777777777777778,\"#fb9f3a\"],[0.8888888888888888,\"#fdca26\"],[1.0,\"#f0f921\"]],\"type\":\"heatmapgl\"}],\"histogram\":[{\"marker\":{\"pattern\":{\"fillmode\":\"overlay\",\"size\":10,\"solidity\":0.2}},\"type\":\"histogram\"}],\"histogram2d\":[{\"colorbar\":{\"outlinewidth\":0,\"ticks\":\"\"},\"colorscale\":[[0.0,\"#0d0887\"],[0.1111111111111111,\"#46039f\"],[0.2222222222222222,\"#7201a8\"],[0.3333333333333333,\"#9c179e\"],[0.4444444444444444,\"#bd3786\"],[0.5555555555555556,\"#d8576b\"],[0.6666666666666666,\"#ed7953\"],[0.7777777777777778,\"#fb9f3a\"],[0.8888888888888888,\"#fdca26\"],[1.0,\"#f0f921\"]],\"type\":\"histogram2d\"}],\"histogram2dcontour\":[{\"colorbar\":{\"outlinewidth\":0,\"ticks\":\"\"},\"colorscale\":[[0.0,\"#0d0887\"],[0.1111111111111111,\"#46039f\"],[0.2222222222222222,\"#7201a8\"],[0.3333333333333333,\"#9c179e\"],[0.4444444444444444,\"#bd3786\"],[0.5555555555555556,\"#d8576b\"],[0.6666666666666666,\"#ed7953\"],[0.7777777777777778,\"#fb9f3a\"],[0.8888888888888888,\"#fdca26\"],[1.0,\"#f0f921\"]],\"type\":\"histogram2dcontour\"}],\"mesh3d\":[{\"colorbar\":{\"outlinewidth\":0,\"ticks\":\"\"},\"type\":\"mesh3d\"}],\"parcoords\":[{\"line\":{\"colorbar\":{\"outlinewidth\":0,\"ticks\":\"\"}},\"type\":\"parcoords\"}],\"pie\":[{\"automargin\":true,\"type\":\"pie\"}],\"scatter\":[{\"marker\":{\"colorbar\":{\"outlinewidth\":0,\"ticks\":\"\"}},\"type\":\"scatter\"}],\"scatter3d\":[{\"line\":{\"colorbar\":{\"outlinewidth\":0,\"ticks\":\"\"}},\"marker\":{\"colorbar\":{\"outlinewidth\":0,\"ticks\":\"\"}},\"type\":\"scatter3d\"}],\"scattercarpet\":[{\"marker\":{\"colorbar\":{\"outlinewidth\":0,\"ticks\":\"\"}},\"type\":\"scattercarpet\"}],\"scattergeo\":[{\"marker\":{\"colorbar\":{\"outlinewidth\":0,\"ticks\":\"\"}},\"type\":\"scattergeo\"}],\"scattergl\":[{\"marker\":{\"colorbar\":{\"outlinewidth\":0,\"ticks\":\"\"}},\"type\":\"scattergl\"}],\"scattermapbox\":[{\"marker\":{\"colorbar\":{\"outlinewidth\":0,\"ticks\":\"\"}},\"type\":\"scattermapbox\"}],\"scatterpolar\":[{\"marker\":{\"colorbar\":{\"outlinewidth\":0,\"ticks\":\"\"}},\"type\":\"scatterpolar\"}],\"scatterpolargl\":[{\"marker\":{\"colorbar\":{\"outlinewidth\":0,\"ticks\":\"\"}},\"type\":\"scatterpolargl\"}],\"scatterternary\":[{\"marker\":{\"colorbar\":{\"outlinewidth\":0,\"ticks\":\"\"}},\"type\":\"scatterternary\"}],\"surface\":[{\"colorbar\":{\"outlinewidth\":0,\"ticks\":\"\"},\"colorscale\":[[0.0,\"#0d0887\"],[0.1111111111111111,\"#46039f\"],[0.2222222222222222,\"#7201a8\"],[0.3333333333333333,\"#9c179e\"],[0.4444444444444444,\"#bd3786\"],[0.5555555555555556,\"#d8576b\"],[0.6666666666666666,\"#ed7953\"],[0.7777777777777778,\"#fb9f3a\"],[0.8888888888888888,\"#fdca26\"],[1.0,\"#f0f921\"]],\"type\":\"surface\"}],\"table\":[{\"cells\":{\"fill\":{\"color\":\"#EBF0F8\"},\"line\":{\"color\":\"white\"}},\"header\":{\"fill\":{\"color\":\"#C8D4E3\"},\"line\":{\"color\":\"white\"}},\"type\":\"table\"}]},\"layout\":{\"annotationdefaults\":{\"arrowcolor\":\"#2a3f5f\",\"arrowhead\":0,\"arrowwidth\":1},\"autotypenumbers\":\"strict\",\"coloraxis\":{\"colorbar\":{\"outlinewidth\":0,\"ticks\":\"\"}},\"colorscale\":{\"diverging\":[[0,\"#8e0152\"],[0.1,\"#c51b7d\"],[0.2,\"#de77ae\"],[0.3,\"#f1b6da\"],[0.4,\"#fde0ef\"],[0.5,\"#f7f7f7\"],[0.6,\"#e6f5d0\"],[0.7,\"#b8e186\"],[0.8,\"#7fbc41\"],[0.9,\"#4d9221\"],[1,\"#276419\"]],\"sequential\":[[0.0,\"#0d0887\"],[0.1111111111111111,\"#46039f\"],[0.2222222222222222,\"#7201a8\"],[0.3333333333333333,\"#9c179e\"],[0.4444444444444444,\"#bd3786\"],[0.5555555555555556,\"#d8576b\"],[0.6666666666666666,\"#ed7953\"],[0.7777777777777778,\"#fb9f3a\"],[0.8888888888888888,\"#fdca26\"],[1.0,\"#f0f921\"]],\"sequentialminus\":[[0.0,\"#0d0887\"],[0.1111111111111111,\"#46039f\"],[0.2222222222222222,\"#7201a8\"],[0.3333333333333333,\"#9c179e\"],[0.4444444444444444,\"#bd3786\"],[0.5555555555555556,\"#d8576b\"],[0.6666666666666666,\"#ed7953\"],[0.7777777777777778,\"#fb9f3a\"],[0.8888888888888888,\"#fdca26\"],[1.0,\"#f0f921\"]]},\"colorway\":[\"#636efa\",\"#EF553B\",\"#00cc96\",\"#ab63fa\",\"#FFA15A\",\"#19d3f3\",\"#FF6692\",\"#B6E880\",\"#FF97FF\",\"#FECB52\"],\"font\":{\"color\":\"#2a3f5f\"},\"geo\":{\"bgcolor\":\"white\",\"lakecolor\":\"white\",\"landcolor\":\"#E5ECF6\",\"showlakes\":true,\"showland\":true,\"subunitcolor\":\"white\"},\"hoverlabel\":{\"align\":\"left\"},\"hovermode\":\"closest\",\"mapbox\":{\"style\":\"light\"},\"paper_bgcolor\":\"white\",\"plot_bgcolor\":\"#E5ECF6\",\"polar\":{\"angularaxis\":{\"gridcolor\":\"white\",\"linecolor\":\"white\",\"ticks\":\"\"},\"bgcolor\":\"#E5ECF6\",\"radialaxis\":{\"gridcolor\":\"white\",\"linecolor\":\"white\",\"ticks\":\"\"}},\"scene\":{\"xaxis\":{\"backgroundcolor\":\"#E5ECF6\",\"gridcolor\":\"white\",\"gridwidth\":2,\"linecolor\":\"white\",\"showbackground\":true,\"ticks\":\"\",\"zerolinecolor\":\"white\"},\"yaxis\":{\"backgroundcolor\":\"#E5ECF6\",\"gridcolor\":\"white\",\"gridwidth\":2,\"linecolor\":\"white\",\"showbackground\":true,\"ticks\":\"\",\"zerolinecolor\":\"white\"},\"zaxis\":{\"backgroundcolor\":\"#E5ECF6\",\"gridcolor\":\"white\",\"gridwidth\":2,\"linecolor\":\"white\",\"showbackground\":true,\"ticks\":\"\",\"zerolinecolor\":\"white\"}},\"shapedefaults\":{\"line\":{\"color\":\"#2a3f5f\"}},\"ternary\":{\"aaxis\":{\"gridcolor\":\"white\",\"linecolor\":\"white\",\"ticks\":\"\"},\"baxis\":{\"gridcolor\":\"white\",\"linecolor\":\"white\",\"ticks\":\"\"},\"bgcolor\":\"#E5ECF6\",\"caxis\":{\"gridcolor\":\"white\",\"linecolor\":\"white\",\"ticks\":\"\"}},\"title\":{\"x\":0.05},\"xaxis\":{\"automargin\":true,\"gridcolor\":\"white\",\"linecolor\":\"white\",\"ticks\":\"\",\"title\":{\"standoff\":15},\"zerolinecolor\":\"white\",\"zerolinewidth\":2},\"yaxis\":{\"automargin\":true,\"gridcolor\":\"white\",\"linecolor\":\"white\",\"ticks\":\"\",\"title\":{\"standoff\":15},\"zerolinecolor\":\"white\",\"zerolinewidth\":2}}},\"xaxis\":{\"anchor\":\"y\",\"domain\":[0.0,1.0],\"title\":{\"text\":\"GarageYrBlt\"}},\"yaxis\":{\"anchor\":\"x\",\"domain\":[0.0,1.0],\"title\":{\"text\":\"YearBuilt\"}},\"legend\":{\"tracegroupgap\":0},\"margin\":{\"t\":60},\"height\":400,\"width\":600},                        {\"responsive\": true}                    ).then(function(){\n",
              "                            \n",
              "var gd = document.getElementById('85753743-3b6a-4a6c-aabf-c6a05837ae20');\n",
              "var x = new MutationObserver(function (mutations, observer) {{\n",
              "        var display = window.getComputedStyle(gd).display;\n",
              "        if (!display || display === 'none') {{\n",
              "            console.log([gd, 'removed!']);\n",
              "            Plotly.purge(gd);\n",
              "            observer.disconnect();\n",
              "        }}\n",
              "}});\n",
              "\n",
              "// Listen for the removal of the full notebook cells\n",
              "var notebookContainer = gd.closest('#notebook-container');\n",
              "if (notebookContainer) {{\n",
              "    x.observe(notebookContainer, {childList: true});\n",
              "}}\n",
              "\n",
              "// Listen for the clearing of the current output cell\n",
              "var outputEl = gd.closest('.output');\n",
              "if (outputEl) {{\n",
              "    x.observe(outputEl, {childList: true});\n",
              "}}\n",
              "\n",
              "                        })                };                            </script>        </div>\n",
              "</body>\n",
              "</html>"
            ]
          },
          "metadata": {}
        }
      ]
    },
    {
      "cell_type": "markdown",
      "source": [
        "By the way, we can observe that there is an outlier whose 'GarageYrBlt' value is '2207'. \n",
        "\n",
        "We modify this value to '2006' which is the value of 'YearBuilt' of the house."
      ],
      "metadata": {
        "id": "ZP8eT5VlM7G_"
      }
    },
    {
      "cell_type": "code",
      "execution_count": null,
      "metadata": {
        "id": "e0-8gK8UVWGi"
      },
      "outputs": [],
      "source": [
        "# Modify the wrong value (replace wrong value by 'YearBuilt' value of that observation)\n",
        "all_features['GarageYrBlt'].replace(2207, 2006, inplace=True)\n",
        "\n",
        "# NA in GarageYrBlt <- 'YearBuilt' values\n",
        "all_features.loc[:, 'GarageYrBlt'] = all_features.loc[:,'GarageYrBlt'].fillna(all_features['YearBuilt'])"
      ]
    },
    {
      "cell_type": "markdown",
      "source": [
        "#### >> Replace NA by '0' \n",
        "\n",
        "When ['BsmtFinSF1', 'BsmtFinSF2', 'BsmtUnfSF', 'TotalBsmtSF', 'BsmtFullBath', 'BsmtHalfBath'] values are all 'NaN', other 'Bsmt' variables have 'None' or '0' values. \n",
        "\n",
        "Through this, we can infer that there is no basement in theses houses.\n",
        "\n",
        "Thus We replace NaN values to '0' since ['BsmtFinSF1', 'BsmtFinSF2', 'BsmtUnfSF', 'TotalBsmtSF', 'BsmtFullBath', 'BsmtHalfBath'] are integer or float variables"
      ],
      "metadata": {
        "id": "iLKMip0cM8fG"
      }
    },
    {
      "cell_type": "code",
      "source": [
        "NA_list = ['BsmtFinSF1', 'BsmtFinSF2', 'BsmtUnfSF', 'TotalBsmtSF', 'BsmtFullBath', 'BsmtHalfBath']\n",
        "all_features.loc[all_features.loc[:,NA_list].isnull().sum(axis=1).astype('bool'), all_features.columns.str.contains('Bsmt')].head()"
      ],
      "metadata": {
        "colab": {
          "base_uri": "https://localhost:8080/",
          "height": 112
        },
        "id": "UayZUFUnqYPO",
        "outputId": "3fdb4cbf-bc74-425c-949b-31f81e6f4733"
      },
      "execution_count": null,
      "outputs": [
        {
          "output_type": "execute_result",
          "data": {
            "text/html": [
              "\n",
              "  <div id=\"df-4a0318c3-d987-4bbd-878e-eb9aacd19487\">\n",
              "    <div class=\"colab-df-container\">\n",
              "      <div>\n",
              "<style scoped>\n",
              "    .dataframe tbody tr th:only-of-type {\n",
              "        vertical-align: middle;\n",
              "    }\n",
              "\n",
              "    .dataframe tbody tr th {\n",
              "        vertical-align: top;\n",
              "    }\n",
              "\n",
              "    .dataframe thead th {\n",
              "        text-align: right;\n",
              "    }\n",
              "</style>\n",
              "<table border=\"1\" class=\"dataframe\">\n",
              "  <thead>\n",
              "    <tr style=\"text-align: right;\">\n",
              "      <th></th>\n",
              "      <th>BsmtQual</th>\n",
              "      <th>BsmtCond</th>\n",
              "      <th>BsmtExposure</th>\n",
              "      <th>BsmtFinType1</th>\n",
              "      <th>BsmtFinSF1</th>\n",
              "      <th>BsmtFinType2</th>\n",
              "      <th>BsmtFinSF2</th>\n",
              "      <th>BsmtUnfSF</th>\n",
              "      <th>TotalBsmtSF</th>\n",
              "      <th>BsmtFullBath</th>\n",
              "      <th>BsmtHalfBath</th>\n",
              "    </tr>\n",
              "  </thead>\n",
              "  <tbody>\n",
              "    <tr>\n",
              "      <th>660</th>\n",
              "      <td>None</td>\n",
              "      <td>None</td>\n",
              "      <td>None</td>\n",
              "      <td>None</td>\n",
              "      <td>NaN</td>\n",
              "      <td>None</td>\n",
              "      <td>NaN</td>\n",
              "      <td>NaN</td>\n",
              "      <td>NaN</td>\n",
              "      <td>NaN</td>\n",
              "      <td>NaN</td>\n",
              "    </tr>\n",
              "    <tr>\n",
              "      <th>728</th>\n",
              "      <td>None</td>\n",
              "      <td>None</td>\n",
              "      <td>None</td>\n",
              "      <td>None</td>\n",
              "      <td>0.0</td>\n",
              "      <td>None</td>\n",
              "      <td>0.0</td>\n",
              "      <td>0.0</td>\n",
              "      <td>0.0</td>\n",
              "      <td>NaN</td>\n",
              "      <td>NaN</td>\n",
              "    </tr>\n",
              "  </tbody>\n",
              "</table>\n",
              "</div>\n",
              "      <button class=\"colab-df-convert\" onclick=\"convertToInteractive('df-4a0318c3-d987-4bbd-878e-eb9aacd19487')\"\n",
              "              title=\"Convert this dataframe to an interactive table.\"\n",
              "              style=\"display:none;\">\n",
              "        \n",
              "  <svg xmlns=\"http://www.w3.org/2000/svg\" height=\"24px\"viewBox=\"0 0 24 24\"\n",
              "       width=\"24px\">\n",
              "    <path d=\"M0 0h24v24H0V0z\" fill=\"none\"/>\n",
              "    <path d=\"M18.56 5.44l.94 2.06.94-2.06 2.06-.94-2.06-.94-.94-2.06-.94 2.06-2.06.94zm-11 1L8.5 8.5l.94-2.06 2.06-.94-2.06-.94L8.5 2.5l-.94 2.06-2.06.94zm10 10l.94 2.06.94-2.06 2.06-.94-2.06-.94-.94-2.06-.94 2.06-2.06.94z\"/><path d=\"M17.41 7.96l-1.37-1.37c-.4-.4-.92-.59-1.43-.59-.52 0-1.04.2-1.43.59L10.3 9.45l-7.72 7.72c-.78.78-.78 2.05 0 2.83L4 21.41c.39.39.9.59 1.41.59.51 0 1.02-.2 1.41-.59l7.78-7.78 2.81-2.81c.8-.78.8-2.07 0-2.86zM5.41 20L4 18.59l7.72-7.72 1.47 1.35L5.41 20z\"/>\n",
              "  </svg>\n",
              "      </button>\n",
              "      \n",
              "  <style>\n",
              "    .colab-df-container {\n",
              "      display:flex;\n",
              "      flex-wrap:wrap;\n",
              "      gap: 12px;\n",
              "    }\n",
              "\n",
              "    .colab-df-convert {\n",
              "      background-color: #E8F0FE;\n",
              "      border: none;\n",
              "      border-radius: 50%;\n",
              "      cursor: pointer;\n",
              "      display: none;\n",
              "      fill: #1967D2;\n",
              "      height: 32px;\n",
              "      padding: 0 0 0 0;\n",
              "      width: 32px;\n",
              "    }\n",
              "\n",
              "    .colab-df-convert:hover {\n",
              "      background-color: #E2EBFA;\n",
              "      box-shadow: 0px 1px 2px rgba(60, 64, 67, 0.3), 0px 1px 3px 1px rgba(60, 64, 67, 0.15);\n",
              "      fill: #174EA6;\n",
              "    }\n",
              "\n",
              "    [theme=dark] .colab-df-convert {\n",
              "      background-color: #3B4455;\n",
              "      fill: #D2E3FC;\n",
              "    }\n",
              "\n",
              "    [theme=dark] .colab-df-convert:hover {\n",
              "      background-color: #434B5C;\n",
              "      box-shadow: 0px 1px 3px 1px rgba(0, 0, 0, 0.15);\n",
              "      filter: drop-shadow(0px 1px 2px rgba(0, 0, 0, 0.3));\n",
              "      fill: #FFFFFF;\n",
              "    }\n",
              "  </style>\n",
              "\n",
              "      <script>\n",
              "        const buttonEl =\n",
              "          document.querySelector('#df-4a0318c3-d987-4bbd-878e-eb9aacd19487 button.colab-df-convert');\n",
              "        buttonEl.style.display =\n",
              "          google.colab.kernel.accessAllowed ? 'block' : 'none';\n",
              "\n",
              "        async function convertToInteractive(key) {\n",
              "          const element = document.querySelector('#df-4a0318c3-d987-4bbd-878e-eb9aacd19487');\n",
              "          const dataTable =\n",
              "            await google.colab.kernel.invokeFunction('convertToInteractive',\n",
              "                                                     [key], {});\n",
              "          if (!dataTable) return;\n",
              "\n",
              "          const docLinkHtml = 'Like what you see? Visit the ' +\n",
              "            '<a target=\"_blank\" href=https://colab.research.google.com/notebooks/data_table.ipynb>data table notebook</a>'\n",
              "            + ' to learn more about interactive tables.';\n",
              "          element.innerHTML = '';\n",
              "          dataTable['output_type'] = 'display_data';\n",
              "          await google.colab.output.renderOutput(dataTable, element);\n",
              "          const docLink = document.createElement('div');\n",
              "          docLink.innerHTML = docLinkHtml;\n",
              "          element.appendChild(docLink);\n",
              "        }\n",
              "      </script>\n",
              "    </div>\n",
              "  </div>\n",
              "  "
            ],
            "text/plain": [
              "    BsmtQual BsmtCond BsmtExposure  ... TotalBsmtSF  BsmtFullBath BsmtHalfBath\n",
              "660     None     None         None  ...         NaN           NaN          NaN\n",
              "728     None     None         None  ...         0.0           NaN          NaN\n",
              "\n",
              "[2 rows x 11 columns]"
            ]
          },
          "metadata": {},
          "execution_count": 45
        }
      ]
    },
    {
      "cell_type": "code",
      "execution_count": null,
      "metadata": {
        "id": "MvxVs4UG1g7A"
      },
      "outputs": [],
      "source": [
        "NA_zero_list = ['BsmtFinSF1', 'BsmtFinSF2', 'BsmtUnfSF', 'TotalBsmtSF', \n",
        "                'BsmtFullBath', 'BsmtHalfBath']\n",
        "df = all_features.loc[:, NA_zero_list]\n",
        "all_features.loc[:, NA_zero_list] = df.fillna(0)"
      ]
    },
    {
      "cell_type": "markdown",
      "source": [
        "### > Check missing values again\n",
        "\n",
        "Make sure there is no NA value in the whole data"
      ],
      "metadata": {
        "id": "v3KRJxEHNuHd"
      }
    },
    {
      "cell_type": "code",
      "execution_count": null,
      "metadata": {
        "colab": {
          "base_uri": "https://localhost:8080/"
        },
        "id": "BRVmI9DA8pfA",
        "outputId": "e6ac4512-5633-42b3-8b0e-dde8593f3e2a"
      },
      "outputs": [
        {
          "output_type": "execute_result",
          "data": {
            "text/plain": [
              "array([0, 0, 0, 0, 0, 0, 0, 0, 0, 0, 0, 0, 0, 0, 0, 0, 0, 0, 0, 0, 0, 0,\n",
              "       0, 0, 0, 0, 0, 0, 0, 0, 0, 0, 0, 0, 0, 0, 0, 0, 0, 0, 0, 0, 0, 0,\n",
              "       0, 0, 0, 0, 0, 0, 0, 0, 0, 0, 0, 0, 0, 0, 0, 0, 0, 0, 0, 0, 0, 0,\n",
              "       0, 0, 0, 0, 0, 0, 0, 0, 0])"
            ]
          },
          "metadata": {},
          "execution_count": 47
        }
      ],
      "source": [
        "all_features.isnull().sum().values"
      ]
    },
    {
      "cell_type": "markdown",
      "metadata": {
        "id": "IivbeIZeoVzE"
      },
      "source": [
        "## 1-3. Adding new features (*optional*)\n",
        "\n",
        "New variables can be created using the given data.\n",
        "These variables are called 'derived variables'.\n",
        "\n",
        "New informations can be added by creating appropriate derived variables.\n",
        "\n",
        "This can have a positive effect on model performance. (Not always)"
      ]
    },
    {
      "cell_type": "markdown",
      "source": [
        "### Insights from data"
      ],
      "metadata": {
        "id": "GfLJyWQoODHj"
      }
    },
    {
      "cell_type": "markdown",
      "source": [
        "#### >> Had the house remodeled?\n",
        "If 'YearBuilt' $\\neq$ 'YearRemodAdd', Then we can infer that there was a remodeling after the first construction.\n"
      ],
      "metadata": {
        "id": "TQaawMsyOL4g"
      }
    },
    {
      "cell_type": "code",
      "source": [
        "all_features['Remod'] = 'None'\n",
        "all_features.loc[all_features['YearBuilt']!=all_features['YearRemodAdd'],'Remod'] = 'Yes'"
      ],
      "metadata": {
        "id": "HsYEyV5COu5U"
      },
      "execution_count": null,
      "outputs": []
    },
    {
      "cell_type": "markdown",
      "source": [
        "#### >> Is it a new house?\n",
        "If 'YearBuilt' == 'YrSold', Then we can infer that that house was sold as soon as it was built"
      ],
      "metadata": {
        "id": "8rcwO8HaOvVv"
      }
    },
    {
      "cell_type": "code",
      "execution_count": null,
      "metadata": {
        "id": "6uDWrYwEoSbn"
      },
      "outputs": [],
      "source": [
        "all_features['IsNew'] = 'None'\n",
        "all_features.loc[all_features['YearBuilt']==all_features['YrSold'],'IsNew'] = 'Yes'"
      ]
    },
    {
      "cell_type": "markdown",
      "source": [
        "#### >> Total Bathrooms in the house\n",
        "there are 4 bathroom variables ['FullBath', 'HalfBath', 'BsmtFullBath', 'BsmtHalfBath']\n",
        "\n",
        "'HalfBath' represents the "
      ],
      "metadata": {
        "id": "7YhIbxfZPDxg"
      }
    },
    {
      "cell_type": "code",
      "source": [
        "all_features['TotBathrooms'] = all_features['FullBath'] + 0.5*all_features['HalfBath'] + all_features['BsmtFullBath'] + 0.5*all_features['BsmtHalfBath']\n",
        "all_features.drop(['FullBath', 'HalfBath', 'BsmtFullBath', 'BsmtHalfBath'], axis=1, inplace=True)"
      ],
      "metadata": {
        "id": "5vBD-_BnPCml"
      },
      "execution_count": null,
      "outputs": []
    },
    {
      "cell_type": "markdown",
      "metadata": {
        "id": "RETuULj8Wwjs"
      },
      "source": [
        "## 1-4. Variable transformation"
      ]
    },
    {
      "cell_type": "markdown",
      "metadata": {
        "id": "2HTx2JvAinNi"
      },
      "source": [
        "### > Data type transformation\n",
        "Specify the data type that matches the characteristics of the variable."
      ]
    },
    {
      "cell_type": "markdown",
      "source": [
        "#### >> int -> object\n",
        "\n",
        "Given the data_description.txt, 'MSSubClass' indicates the type of dwelling involved in the sale \n",
        "\n",
        "'YrSold' values vary from ~~ to ~~. Since the real estate market fluctuate year by year (e.g., 2008 financial cris) it would be better to take the 'YrSold' as a categorical variable not an integer \n",
        "\n",
        "Real estate market also fluctuate month by month. Thus also take the 'MoSold' vairable as a categorical variable\n",
        "\n"
      ],
      "metadata": {
        "id": "kshspzQ6cAor"
      }
    },
    {
      "cell_type": "code",
      "execution_count": null,
      "metadata": {
        "id": "lqjL0zKaW1Dk"
      },
      "outputs": [],
      "source": [
        "# int -> object\n",
        "int_to_obj_list = ['MSSubClass', 'YrSold', 'MoSold']\n",
        "all_features[int_to_obj_list] = all_features[int_to_obj_list].astype('object')"
      ]
    },
    {
      "cell_type": "markdown",
      "source": [
        "#### >> object -> int"
      ],
      "metadata": {
        "id": "7urrRKNWc18k"
      }
    },
    {
      "cell_type": "code",
      "execution_count": null,
      "metadata": {
        "id": "amasZRu0W8aL"
      },
      "outputs": [],
      "source": [
        "# object -> int\n",
        "obj_to_int_list = ['FireplaceQu', 'BsmtQual', 'BsmtCond', 'GarageQual', 'GarageCond', \n",
        "                    'ExterQual', 'ExterCond', 'HeatingQC', 'KitchenQual', \n",
        "                    'BsmtFinType1', 'BsmtFinType2', 'Functional', 'BsmtExposure', \n",
        "                    'GarageFinish', 'LandSlope', 'PavedDrive']\n",
        "\n",
        "all_features[obj_to_int_list] = all_features[obj_to_int_list].replace(\n",
        "    {'None':0, 'Po':1, 'Fa':2, 'TA':3, 'Gd':4, 'Ex':5,\n",
        "     'Unf':1, 'RFn':2, 'Fin':3,\n",
        "     'No':1, 'Mn':2, 'Av':3,\n",
        "     'LwQ':2, 'Rec':3, 'BLQ':4, 'ALQ':5, 'GLQ':6,\n",
        "     'Sev':1, 'Maj2':2, 'Maj1':3, 'Mod':4, 'Min2':5, 'Min1':6, 'Typ':7,\n",
        "     'Gtl':0, 'Mod':1, 'Sev':2,\n",
        "     'N':0, 'P':1, 'Y':2\n",
        "    }\n",
        ")"
      ]
    },
    {
      "cell_type": "markdown",
      "metadata": {
        "id": "hJayzx_-Nzck"
      },
      "source": [
        "## 1-5. Dummify categorical variables\n",
        "\n",
        "In the case of linear modeling without regularization, the first or last column should be dropped (to prevent linear dependency), but here, for the convenience of using the factorization model, one-hot encoding method is used that does not drop any columns."
      ]
    },
    {
      "cell_type": "code",
      "execution_count": null,
      "metadata": {
        "id": "CsctjSYSQClH"
      },
      "outputs": [],
      "source": [
        "data_set = pd.get_dummies(all_features, drop_first=False)"
      ]
    },
    {
      "cell_type": "markdown",
      "metadata": {
        "id": "Yo_M-blKP1pP"
      },
      "source": [
        "## 1-6. Scaling continuous variables\n",
        "\n",
        "Integer of float type variables are measured in different units (e.g., YearBuilt: by year, BsmfSF1: by square feet).\n",
        "\n",
        "MinMaxScaling maps all variables from 0 to 1 in order to consider only relative information, not absolute magnitudes of the values.\n",
        "\n",
        "Besides, it is known that scaling is often more stable in parameter optimization when training a model."
      ]
    },
    {
      "cell_type": "code",
      "execution_count": null,
      "metadata": {
        "id": "W-F7cdreP1ZV"
      },
      "outputs": [],
      "source": [
        "from sklearn.preprocessing import MinMaxScaler\n",
        "scaler = MinMaxScaler()\n",
        "data_set = scaler.fit_transform(data_set)"
      ]
    },
    {
      "cell_type": "markdown",
      "metadata": {
        "id": "3Bds2C0rQb_c"
      },
      "source": [
        "## 1-7. Split Train & Test set"
      ]
    },
    {
      "cell_type": "code",
      "execution_count": null,
      "metadata": {
        "id": "AZj86aMgaBrp"
      },
      "outputs": [],
      "source": [
        "n_train = train.shape[0]\n",
        "X_train = data_set[:n_train].astype('float32')\n",
        "X_test = data_set[n_train:].astype('float32')\n",
        "y_train = train['SalePrice'].values.astype('float32')"
      ]
    },
    {
      "cell_type": "markdown",
      "metadata": {
        "id": "xXpd4YS_Rooe"
      },
      "source": [
        "## 1-8. Outlier Detection (*optional*)\n",
        "\n",
        "Detect and remove outlier observations that exist in the train-set.\n",
        "\n",
        "- Methodology: [Isolation Forest](https://ieeexplore.ieee.org/abstract/document/4781136/?casa_token=V7U3M1UIykoAAAAA:kww9pojtMeJtXaBcNmw0eVlJaXEGGICi1ogmeHUFMpgJ2h_XCbSd2yBU5mRgd7zEJrXZ01z2)\n",
        "  - How it works\n",
        "    - Isolation Forest applies a decision tree that repeats splits based on the 'random criterion' for the given data unitl only one observation remains in every terminal node (this is defined as 'isolation').\n",
        "    - Based on the number of splits used for isolation, 'normality' is defined. A smaller value means a higher degree of outlierness.\n",
        "    - By applying this decision tree several times, the average of the measured 'normality' values ​​is derived as the final 'normality' value.\n",
        "  - Assumptions\n",
        "    - Outliers require relatively few splits to be isolated.\n",
        "    - For normal data, the number of splits required to be isolated is relatively large.\n",
        "  - Outlier determination\n",
        "    - Determines whether it is an outlier or not based on the measured 'normality' value.\n",
        "      - sklearn's IsolationForest package determines based on '0' \n",
        "      - I, personally, think it is better to set the discriminant criterion by considering the 'distribution' of the 'normality' values.\n",
        "      - The details of the method is given below."
      ]
    },
    {
      "cell_type": "code",
      "execution_count": null,
      "metadata": {
        "id": "CT4-2FOcRnkM"
      },
      "outputs": [],
      "source": [
        "from sklearn.ensemble import IsolationForest\n",
        "clf = IsolationForest(\n",
        "    n_estimators=100,\n",
        "    max_samples='auto',\n",
        "    n_jobs=-1,\n",
        "    random_state=random_state)\n",
        "\n",
        "clf.fit(X_train)\n",
        "normality_df = pd.DataFrame(clf.decision_function(X_train), columns=['normality'])"
      ]
    },
    {
      "cell_type": "code",
      "execution_count": null,
      "metadata": {
        "colab": {
          "base_uri": "https://localhost:8080/",
          "height": 417
        },
        "id": "fnuzws26Sm_7",
        "outputId": "ea74707b-e81f-4b57-9d49-ec3faa28477b"
      },
      "outputs": [
        {
          "output_type": "display_data",
          "data": {
            "text/html": [
              "<html>\n",
              "<head><meta charset=\"utf-8\" /></head>\n",
              "<body>\n",
              "    <div>            <script src=\"https://cdnjs.cloudflare.com/ajax/libs/mathjax/2.7.5/MathJax.js?config=TeX-AMS-MML_SVG\"></script><script type=\"text/javascript\">if (window.MathJax) {MathJax.Hub.Config({SVG: {font: \"STIX-Web\"}});}</script>                <script type=\"text/javascript\">window.PlotlyConfig = {MathJaxConfig: 'local'};</script>\n",
              "        <script src=\"https://cdn.plot.ly/plotly-2.8.3.min.js\"></script>                <div id=\"5597e7a7-e1b5-487c-92a0-f40c901069ac\" class=\"plotly-graph-div\" style=\"height:400px; width:400px;\"></div>            <script type=\"text/javascript\">                                    window.PLOTLYENV=window.PLOTLYENV || {};                                    if (document.getElementById(\"5597e7a7-e1b5-487c-92a0-f40c901069ac\")) {                    Plotly.newPlot(                        \"5597e7a7-e1b5-487c-92a0-f40c901069ac\",                        [{\"alignmentgroup\":\"True\",\"bingroup\":\"x\",\"hovertemplate\":\"normality=%{x}<br>count=%{y}<extra></extra>\",\"legendgroup\":\"\",\"marker\":{\"color\":\"#636efa\",\"pattern\":{\"shape\":\"\"}},\"name\":\"\",\"offsetgroup\":\"\",\"orientation\":\"v\",\"showlegend\":false,\"x\":[0.13939979645933848,0.1123726980483325,0.1389175395476681,0.10100225933028328,0.12450915646528327,0.1183687015023499,0.12781684544113697,0.08107335965047546,0.0678679841048131,0.03543190653885525,0.13181642549078904,0.053735809249108146,0.11727823383647723,0.11077106166290551,0.11547969836245403,0.09757091166777032,0.11070012213398511,0.057296245023100545,0.13887510353179555,0.11082276695119841,0.08592127404977695,0.08195401188413776,0.1307463480428026,0.10755313827266794,0.1123110495524004,0.11500031242524844,0.12458010483957294,0.12471339051376962,0.08961534601739773,0.07970221820620454,0.0671602307119602,0.12378608203258912,0.13432277115522068,0.12734424867734506,0.1026081478932811,0.08845825593474999,0.13742397388521788,0.12393479364003057,0.10869079458415964,0.006635666371459625,0.1271641443470637,0.11534418677496244,0.10148992601082574,0.11635759090405784,0.12205521960437293,0.09660069907576402,0.09662349430501949,0.12239891730430602,0.06397685066579323,0.12857103697721695,0.12613150000943452,0.10279789394871752,0.024364438726042825,0.05597467948997553,0.1050459295668501,0.12231303447594805,0.08933830762674805,0.1342658502009435,0.03295139312612522,0.10409298927306698,0.11816181182979646,0.07514463102658392,0.1152506118927002,0.07654212129726312,0.12610663520900184,0.11575826968574521,0.1100640444231073,0.14761885928277863,0.10023833024174444,0.10785671368794669,0.09196704243666293,0.1250326673697959,0.1232406838795857,0.13080616119819588,0.07702103321117859,0.06019902165223351,0.11865846794480112,0.10553392656406863,0.058826749352394514,0.13246781924503648,0.10796210929135175,0.08940815017582471,0.12994045444235097,0.11695325131532586,0.10438895310766344,0.10794637614064884,0.11915642478135352,0.07135033879923397,-0.03714414193370641,0.1150201275663767,0.0893773304444967,0.10849352405442508,0.12408075323197498,0.018527042136342098,0.14820480885748644,0.09530789339276419,0.13786017852087523,0.11029953397586828,0.07979431116571634,0.08687278602724702,0.11361122228831949,0.12787446922689666,0.039150584379444686,0.14029434183781997,0.08234930985945155,0.12083076381065955,0.0995131275561959,0.11987971974107708,0.020530891193726863,0.10236608934507624,0.1291407703678879,0.11362755390442758,0.06468783990094668,0.058017634607660684,0.10129714935822459,0.10328034501252181,0.11670474254509727,0.11807743340036281,0.09385377988177762,0.11788209920074061,0.05152923841792317,0.10426154088387807,0.11457409810270563,0.1235468606329922,0.11031231978574763,0.02133455928192146,0.1096818035374722,0.05019826203426275,0.1062789007171806,0.07444907709393905,0.1176798566410242,0.11802011134724255,0.136598906832616,0.1316681839209098,0.1252344575578358,0.1312395426532561,0.1244714632526075,0.08319355807990181,0.14011653435594584,0.13871655168434738,0.1053482624555262,0.1279589119543464,0.10612052067773248,0.14350024830606756,0.043125236426191316,0.09007711010237451,0.0981360943430471,0.11797196406282512,0.12025835225868581,0.1014229245072299,0.11997197216969002,0.08786065157740836,0.12336741854520694,0.08475059261794277,0.09471415414983003,0.031194549604612543,0.09054157924618861,0.08915104942879576,0.12894199379517518,0.0734875776823865,0.13331788328481847,0.10297666692798219,0.11145019690238966,0.109121418457646,0.10192574978915331,0.07006937772981475,0.08341358978365776,0.09226884367515525,0.14379248885842938,0.08539393992807409,0.10049115528670771,0.07667122715940472,0.09453724381005918,0.10030710700780243,0.10573824435457901,0.11113806989654967,0.0885788749582409,0.11498867745307628,0.06002538350070069,0.1134508949404831,0.10764148647152655,0.11361576028260245,0.08102306371139245,0.10220352162381657,0.062401618473903964,0.04538166582606307,0.11355732248506178,0.11441470329028958,0.05109285524655188,0.09492464112322246,0.08152234484576626,0.11436045061781253,0.13900780298347531,0.09690874949760797,0.1294093372379071,0.11253969998396496,0.06550468866141074,0.06146595923078757,0.07555460727391888,0.11430872333916109,0.1235664375323201,0.11875502914950786,0.09372541980608323,0.1101572514020655,0.11809016739470718,0.13646037602623734,0.10408403136977601,0.12986970909307655,0.09812867916133183,0.11821414941771297,0.07093287832525796,0.14191002875298608,0.09561725959975614,0.11866691138908592,0.11603814895313164,0.13099853023401192,0.1426979446456929,0.08889803209828656,0.11660639184508331,0.10722415270401742,0.10657980599098482,0.12173802446929055,0.10993513652664638,0.11328612597925558,0.10236578004455726,0.08286216773757193,0.1383671769131417,0.0882023424664401,0.12252269614672318,0.12342098039278188,0.1306766519765969,0.10331502951816068,0.09018942694142962,0.10845691727304713,0.1286664800795288,0.10414666268673672,0.13588017116955736,0.09696699825635346,0.08844206971431712,0.10895211393191112,0.11512042798232935,0.10361710238839283,0.09490719529726221,0.10658293789903567,0.14111973911197356,0.1131548340005204,0.03901224573697937,0.13344397758414533,0.13629380632142368,0.0517562735416941,0.07905191932204214,0.08133905951654619,0.14161648049484749,0.0858799459833689,0.13806866754106417,0.11073760260167403,0.14244212262634998,0.12516062020160645,0.1355313682469131,0.09311264835032806,0.06820546801725613,0.061083605000227914,0.09786767656849771,0.10284231967403068,0.07294803181377002,0.1208052661066184,0.11774553758030903,0.09097332496517596,0.105928483251928,0.11530885899434645,0.09290269135457524,0.03317627569218007,0.1146727451998597,0.102172030496602,0.11593586161424896,0.08739554643274028,0.1314351323254324,0.1184944808084763,0.08781238561911303,0.12749360729927328,0.11850060640161447,0.09669151849934665,0.08329874254158548,0.10057709522848174,0.12097779674214154,0.10047165673790687,0.10618366385091155,0.1052655059699043,0.1302590212864262,0.09360124333117303,0.09484404422002202,0.04193494759976951,0.11844372402807257,0.09852387684977998,0.11413402358493119,0.10207641188774369,0.10753874937457586,0.11843674066043658,0.11987719589105211,0.13070057292688925,0.08783663394987462,0.12884228466878755,0.12043793821395704,0.11660506261635156,0.10551413704174234,0.1044148158316805,0.112247442111505,0.05060124050199055,0.12288403274049126,0.11396052523245548,0.13132746268144618,0.1410978876639949,0.08569307632755035,0.03990697585748415,0.11450236914306489,0.139302230204931,0.09643285258448847,0.13521001164538338,0.09249308193524308,0.11575401216193515,0.051933799769161626,0.11797606551646339,0.09195936623467521,0.12586931004630686,0.043762657112783376,0.06948629551924457,0.0801485623432131,0.12388738607809624,0.04995758446159987,0.09131367470905954,0.06538494319550925,0.14270085464738774,0.12960636383678542,0.10063055933918347,0.13165204208295,0.03717763576192995,0.0890847856234544,0.1443681734699363,0.1231594131665612,0.0948812201360612,0.13783837230475482,0.08850963990063071,0.013367301088354488,0.09572069631395974,0.10558344648676399,0.10505738405513448,0.10709665153768178,0.1131431872750685,0.07436500040789296,0.07359998153166103,0.0727591063782117,0.09067295597830999,0.09693888395376077,0.1291366851214984,0.11026729331584983,0.1242945763379848,0.13413670129850025,0.10740630090166281,0.047386922405789234,0.1119692953327821,0.11499174379143229,0.11671947371812558,0.036461329700730405,0.09443422239747568,0.10642504050276508,0.09415908979268484,0.12661426025256478,0.06959667184011525,0.12189261032824716,0.11493609260204268,0.13018362765176816,0.05516187356952851,0.09218669176371247,0.12524591233861038,0.13329873803089443,0.023439287939182152,0.10962295967968971,0.10949483249977687,0.06180635687017361,0.1238515596526567,0.10378914249979437,0.09815160588510818,0.14072662094683874,0.05131650863256798,0.07539622932704804,0.11414696801829677,0.05317751131792392,0.10077686147549575,0.13110223886713346,0.08070292612274382,0.11060491528754235,0.11768912173297769,0.09630002581010139,0.0571907422415302,0.12197071938696852,0.1345137528610431,0.11663341220447365,0.11073479003770231,0.0629537635296103,0.09994056306976684,0.09032674598661827,0.12583035261844594,0.11552198223090798,0.09899362304299952,0.1265888606688541,0.11878221146428986,0.09695943923355865,0.12228232116171489,0.09654330860520405,0.09606372485159792,0.09943013351025154,0.05715662502782165,0.09112147276384158,0.08217574797834076,0.10574249333528701,0.10010247330885097,0.11840067106382535,0.04089805538631108,0.09327641242656581,0.13458285267847164,0.06585759758736198,0.0974738264640721,0.07241645605888036,0.13814790925161646,0.1238561004971862,0.10838323665736216,0.08570035146024685,0.13448019759649116,0.10200978803302435,0.1196728274446281,0.07390975999203775,0.03848331216337031,0.10871190752104098,0.13323993777232374,0.05813576371194468,0.07952525205671762,0.10557353791118551,0.0905687386601815,0.08536339424371814,0.10627483633365736,0.08645184445487009,0.033695494016260485,0.11869393559784891,0.0875279600651887,0.14302105314946262,0.11563761728223171,0.08576211775613807,0.12587555401780381,0.09810841312697699,0.12036152602731798,0.09488228300866114,0.08413669347942238,0.12443549008191451,0.13989139871133632,0.07152325044559305,0.11775828937242572,0.08838729698610509,0.058779386415640844,0.10907528168823266,0.08708974198906277,0.06950144691335752,0.0987039838194318,0.12944611334283274,0.09450056799328505,0.11365323593278787,0.12089495557663954,0.10316600272104043,0.09867593437288968,0.12934104392272605,0.11902474564225823,0.07268198218090705,0.07739923298248463,0.09956343592288047,0.09992812216063984,0.10243602416048181,0.12386062235943313,0.13134182343320627,0.10150598216079193,0.1099115228624124,0.07990108392488932,0.10992863129144237,0.10995154634773474,0.10678702255967404,0.09464696194879646,0.11874139185407862,0.12758118960385145,0.12649322644978683,0.1223623201433664,0.021812309557130594,0.07860062350043706,0.0840002502347516,0.09341928956403817,0.09403541612500516,0.12433326321073784,0.0915434185133005,0.02403078019390581,0.10420441990781926,0.11161827346059022,0.12465175815023394,0.11902457393384419,0.10403122978227075,0.1319403092360948,0.09607884261653687,0.11355570418898775,0.12284146489364356,0.05592688722902489,0.13108064694753002,0.09656723023113828,0.0937842482598516,0.1209639137342679,0.10540880930744007,0.10290078785979706,0.11788283351085527,0.1262461140423648,0.09477649978029717,0.07005456995219955,0.09675670301423506,0.1305921489108796,0.13380484425936467,0.10278327229890744,0.002404165765861166,0.11134381908127028,0.09572118105973648,-0.028382396242166985,0.13720905384196153,0.13386256347789444,0.13352653494753008,0.08168135433276097,0.08920209579108956,0.08496246643037347,0.11110772069710284,0.07971129872055743,0.1004386846149749,-0.002372423044677552,0.13290692258022513,0.04960524300334168,0.12331814757568021,0.11602444927850136,0.11793502789108001,0.13362399697908295,0.12354929870499559,0.12239739123518223,0.0924020935803136,0.0870473593902919,0.09459946867839308,0.10158659628091349,0.08715667633758556,0.1218218809028887,0.08659499456417158,0.1183632406979751,0.08108903587414729,0.11105013045694279,0.12051385623997984,0.09049464191023726,0.12454088039645317,0.09448149525261096,0.11965158494328965,0.07499366258968837,0.11439579009040801,0.11822879601224423,0.11095058785046552,0.11976461262657562,0.10888015723084599,0.11048940730040036,0.11604239771178004,0.06263613341858593,0.09821580474510644,0.13911551215318535,0.07239000122652034,0.08736971812083122,0.07912694180075813,0.10405720823978865,0.08763573787705187,0.11787904551157508,0.09419944769117677,0.11290122843087652,0.12122510228607242,0.08902155612497542,0.09665774517525366,0.083662131483905,0.11258718086788949,0.11069959457502693,0.07336334189250726,0.065071578186707,0.11495130153832311,0.1063747143355146,0.09967484574500945,0.12813671279390104,0.037348288407638874,0.07413189145471277,0.13879923077205897,0.07041765983762593,0.1323725999753111,0.1189694346030899,0.1353134639092997,0.09694615837604115,0.08880065373150298,0.1010016965898704,0.11145747286975222,0.09755126232694378,0.12150759650238308,0.10250027492826602,0.11375941313355437,0.10923451481486046,0.13892380248252423,0.11324858570116131,0.12052603180124638,0.10429057039684725,0.08696470576593757,0.12076134709912184,0.10854541079432978,0.10554283671235687,0.1243805689173011,0.07573322561709539,0.060757002828087214,0.08686479187830742,0.13646094741709996,0.09051867558941257,0.058205739716360394,0.10129155661319977,0.04658018206772607,0.11718110802662263,0.131033215756297,0.11761807978052485,0.12409432930689607,0.10970083630397776,0.13403503690563212,0.087207127241761,0.09154291646214868,0.0826873123525309,0.05716427607654484,0.10173824486066158,0.11188973709928096,0.12364082273706678,0.08484974628798775,-0.02489233169504823,0.016749794715619604,0.06525117826461535,0.07791804078268894,0.0730603677321513,0.09009212922190446,0.1355703145232181,0.08948650665562169,0.08561679959421009,0.07525484678431654,0.11475077906410336,0.11157823106045461,0.11134816345604615,0.10847908387788835,0.0520062707382668,0.12816844033092784,0.101511853506974,0.14123917027805066,0.1154323214293036,0.1148234713709565,0.08877034584994942,0.1320467729727604,0.1083657727718102,0.09644719332109664,0.12743098404268416,0.1079326772758496,0.08349360813444073,0.10050620587443332,0.11204025546076368,0.05453559677634762,0.1259018881337739,0.05218602321100513,0.13405960259875893,0.1028669724746103,0.10805691991936489,0.12574458004247563,0.07782605868673587,0.13171186062164064,0.10468170147804928,0.1346675207658809,0.12279276490516061,0.05286564022207124,0.10713839094527322,0.08297833781272024,0.12686399933148967,0.10318367283822844,0.08902090704160193,0.12565342030251203,0.12113074469387797,0.11743924858088306,0.08163515006340988,0.09932703963933753,0.0956281703872276,0.08792497740824312,0.11582567525324983,0.12456638654609847,0.044540351102483,0.09565125245202832,0.10158985262338,0.11459920025065296,0.12158025897415103,0.11328214230479972,0.10194821150247213,0.1028153357148267,0.10148832764974453,0.11549304721747994,0.11213068416965355,0.047091590023652596,0.07676762099812068,0.13454484871663147,-0.016404492912056146,0.05455808420078623,0.10998977486296457,0.10111688470890418,0.10177958775096319,0.07409304488980034,0.05679771866635758,0.09510886708315114,0.057676663226653435,0.10703556334794906,0.1295822173686057,0.11193483742687188,0.13804295856441923,0.10968151816771854,0.12928121064219295,0.0653930436678889,0.11849570524270975,0.137772768693746,0.1227250064926591,0.098842144533898,0.12069640916219582,0.10909378751405213,0.12993385281255487,0.06440583751733986,0.08263581598101594,0.09623833366408091,0.11943693158812257,0.14177716785946415,0.11712761312245251,0.12193160863214036,0.062215795548465236,0.04127197988638942,0.11331890589020582,0.07019715407732202,0.1405370891251479,0.10669302009714521,0.11661632520251025,0.14790343767973202,0.10958550099336428,0.09980723935250257,0.08267536983327561,0.12420207611732725,0.036685382731273586,0.12339065973263186,0.02177679181720349,0.07628077180791293,0.12499226072684672,0.1379186593997494,0.12980228845699227,0.1352076564589157,0.11670927070770126,0.13725180399520265,0.09366363994512927,0.09870882809776149,0.12688906360775998,0.12639678680408784,0.09448274502203607,0.13223018086699478,0.12432388251726151,0.057583220515691036,0.08461549211704722,0.12788992497194474,0.10375467053592607,0.14180573996498913,0.01275531533057589,0.10572439853600352,0.10853769528608403,0.10049288477515766,0.10249270067381844,0.09141153164809729,0.09804840478439047,0.11766550094981215,0.12724863025342392,0.04053010682068636,0.08959291498788263,0.1352311543262656,0.13667409953001758,0.14257644315627943,0.10334623077039018,0.08754684132173202,0.09715008646334633,0.10424220967201653,0.11568670691028099,0.1276260615099145,0.09428008742926314,0.11388934085192204,0.11837081629421942,0.12505631347266777,0.08395245948262536,0.12059569666701075,0.1291580848285877,0.12942342980860672,0.1235406377209688,0.06828811206462432,0.0861710741574962,0.09870147378905575,0.11183875266077359,0.12140407812608661,0.06030354880228744,0.12397235338151757,0.07011636808295563,0.10912322270226082,0.10421491959944834,0.09933665110932544,0.02835421238388891,0.10713733197788933,0.11249238238540804,0.03921972086436204,0.10672807635845577,0.10357290708237854,0.1190073658857822,0.1194723937474505,0.10048129969111275,0.11803237922306559,0.09596531303908745,0.13460084150935486,0.07694036922820002,0.1096716598400147,0.11437829860497645,0.10591731188421649,0.053225062387662336,0.09514353558775807,0.14616818433710782,0.018011084034540048,0.08561075234885679,0.10341902465679897,0.10941261710983696,0.11593894461354981,0.11251406578600259,0.13694372398718202,0.12321214014507315,0.11362680141723086,0.0919505147028502,0.1494710130182167,0.13692008375651188,0.07126402149012773,0.11758215510265352,0.10596641538988694,0.037991118168226756,0.09411986988894361,0.06838804068382076,0.12429193032491342,0.13014638987257365,0.07282848579075307,0.0829067960629763,0.1189990304546455,0.12543612819312006,0.10859044335367518,0.11153693138055887,0.08003389633346136,0.12651836834964603,0.09795508438924921,0.13560351828494432,0.13037495429277607,0.09145155423157642,0.1187186058206397,0.10266638288492486,0.13168355569940432,0.1326603166949073,0.1232986806684529,0.13307604488710895,0.09695672394122051,0.11590142953107552,0.0740953496475748,0.1293590895891577,0.1200091786886121,0.14486323604145107,0.08983882524287345,0.12376148393190295,0.11546891268460174,0.054944845852662294,0.10454524449298491,0.1098958824201785,0.113055360437535,0.11274165563893146,0.13947610689908108,0.1113704611757706,0.12237899048351658,0.057709420401387934,0.13693040340902762,0.058682753214023387,0.0720886866219837,0.1098170236155781,0.07144728529584016,0.11242815052147553,0.0990520672565296,0.12366658652669177,0.12147297007201402,0.11000754480494562,0.03937619172743573,0.11932191429610717,0.0929732422014441,0.04482053966382693,0.09094577609234172,0.11819069708577379,0.13577256764163415,0.12898618572207093,0.1345570396643067,0.08303426804789216,0.13499044546705252,0.11475290411982975,0.12412150495310853,0.10217699671333169,0.10445044699348321,0.12850042402697626,0.0378238956845231,0.11466478229567428,0.07566239113137757,0.0417283164378941,0.07407801071712572,0.09321393873918915,0.06489584200010912,0.12954481879744362,0.088298311445145,0.11652743513734865,0.1292359432472494,0.04468364112085704,0.10884620690100177,0.09991477082152372,0.10669294298224957,0.11985759728429118,0.11221064191069108,0.10523398846892024,0.13310116701907476,0.1139796394779024,0.13160651492893938,0.140843869497964,0.09372101939250377,0.13001205466366422,0.05819507862048112,0.1020166967045742,0.14376226819294635,0.13965997534811975,0.10139615538826835,0.10917442040070519,0.06869565369311564,0.10067552983930927,0.036173520827464334,0.07487703294373743,0.03929785527824187,0.09854505322795143,0.11027861805671185,0.11882760425108219,0.12964538979014123,0.1295755627674129,0.13403464158419132,0.11147775002793509,0.10513237144512383,0.0948393540001346,0.016066152813892953,0.047643619772289814,0.11913718899855319,0.1320013803257547,0.1507238068139528,0.08252295646214286,0.07233254224251606,0.07284280036592428,0.12349092658677896,0.1240250972281352,0.115979283750835,0.1034820598442005,0.10022222618718701,0.1197213518811816,0.0652382145206451,0.07656324725032082,0.05665056155614401,0.07979558986112606,0.1069433249451679,0.09837945833150713,0.059767411422436356,0.08298429562702403,0.06797885074322718,0.10193025689826002,0.10857643560421837,0.12442427056757638,0.08028348148374281,0.10828146149302581,0.14032225401423487,0.12490309333969174,0.04950922864570251,0.0721594668638002,0.09665604660818455,0.09955090672843603,0.11592899659887784,0.09852948644024012,0.13348366400210393,0.09146433748327543,0.101859339265582,0.11997013423465619,0.07737464194754196,0.0851717799854167,0.1110576182539279,0.10568669587459156,0.08934152078217589,0.12994242020386892,0.03954049038501506,0.07971866394553456,0.12359350644470479,0.05500933016187559,0.11881163722841726,0.1141623445150316,0.1168718504134112,0.10561807324450251,0.10787124647059265,0.09744587541713912,0.12016606747410308,0.04599709753644887,0.11524910025168195,0.07432826329324016,0.10501290548451497,0.14114258977698313,0.13606559381418154,0.0695750247839349,0.11307200959364494,0.11582856464679286,0.14200309405093958,0.09517980457493974,0.11273042794372362,0.1323270319574562,0.08278228208756189,0.12718781494546805,0.11927879631506827,0.09360720506791576,0.09896809407607743,0.1010155419707992,0.032423679202218336,0.07064205949067404,0.10236710255387582,0.1255165767387036,0.09677198331897846,0.061310389137862464,0.0997016712474415,0.11649298664194163,0.09000369392850982,0.08337751377243602,0.0955559595464055,0.10904986373052311,0.09508537669607675,0.1182852442059209,0.08107346350468847,0.06672208592557954,0.036148016820177764,0.13452300415650909,0.0790174298733744,0.07949363224063705,0.09932836335737133,0.10658671137666687,0.1057909088754378,0.08517928125409596,0.13173292552188992,0.10136597137674114,0.11398033785501172,0.10138434156025311,0.11501535783767969,0.08726610847081134,0.09403078866029119,0.05987223794219737,0.06633974178538521,0.10981179256385659,0.11250330868983249,0.11358907779594646,0.13693330953619964,0.10161902971564357,0.08560731963556029,0.12142739597975799,0.12830195443588666,0.12763215648340315,0.09283463171141876,0.10637140550764201,0.14718809102420732,0.12529583891585983,0.11411544213764319,0.10749829074795675,0.11955141859686469,0.14798539143373995,0.10097457714931812,0.11176104803692877,0.14061270804625775,0.11705338897439571,0.12192331464971401,0.12934160773081227,0.10493209999252445,0.13195662914921014,0.09164070073716346,0.0901387632521174,0.02315503004993058,0.09518155700398251,0.10230872240490263,0.09978518631779909,0.12915064915831115,0.15110981990770145,0.09997171854228926,0.09864495343985463,0.12328994161082169,0.1001199751988629,0.03772393833897347,0.13568113766232193,0.12430715233101813,0.11163081033518157,0.10884341373746609,0.11543365144133594,0.10077928873606468,0.046689812479046855,0.13270575338980234,0.1182922310968666,0.13516168663849204,0.1123016817888966,0.09514841804563545,0.14136502061104617,0.1340661816926636,0.09199894775866896,0.11719020801471547,0.12684271115689333,0.09990544464115209,0.11892899475847024,0.08758193231263006,0.11925622678119013,0.08992872485180253,0.10175862826142856,0.12339661356464277,0.1265764351394888,0.11598881189801385,0.10905652646845815,0.12416776822081449,0.09271938863856183,0.07353098657512985,0.09648960088562197,0.09693081904755257,0.14249054355480317,0.13066887020171425,0.10179303091610298,0.10641639867420638,0.07251566804607573,0.12736024175644278,0.1015305086000633,0.11412537959204605,0.09038085289642528,0.06893138311447339,0.11210186019068291,0.04793663342102955,0.11068932180346247,0.13138396192268675,0.11174643210830099,0.11980890858913479,0.10944595284592284,0.10895175289373354,0.10920701908295333,0.09917496959576533,0.10579388812034662,0.09295976027837194,0.11191386875298126,0.09207959213737876,0.0946430230142532,0.0799590088406461,0.13010123884576796,0.12679742454681087,0.08128960522358258,0.14159169851815157,0.05364438719411785,0.08346553495963116,0.07712654376653921,0.11289588801351719,0.12018949484171426,0.10337026477459843,0.06527615294198919,0.10622396410340307,0.13692731377480938,0.11202270743979631,0.06841479601149647,0.10742545015180482,0.12697392199282148,0.11283666189139685,0.09074941686908178,0.11217583799824515,0.06040776423898592,0.11045833771745045,0.05311960955315409,0.07698642675331524,0.1148512398606007,0.07685593384531175,0.11238294596959908,0.02081800070901879,0.11341062916852823,0.14412095435230404,0.13744936354039938,0.06724974053655991,0.10293937910974205,0.11268908388445897,0.0977306104046951,0.0989917904921826,0.13523777631570644,0.08833813714090005,0.06795703283362708,0.14912015904132225,0.12924332690232382,0.12262402172672532,0.14117719201762657,0.10259062405997821,0.13842329974643813,0.13495760851272842,0.1020236702146039,0.11490346112390176,0.14538716542236696,0.1288394020401718,0.08117703695697609,0.12548980916689384,0.09058820655497035,0.1081438712744971,0.09460353752940409,0.11746496917174831,0.13138625126789932,0.05082786098150327,0.07687184808294972,0.04137756506808821,0.05442583095948894,0.11052102304351669,0.12231004848021026,0.10538082775318919,0.07684467933703681,0.12062560643843945,0.11229440787124506,0.08176045106741053,0.12212034078158923,0.04288631820101979,0.11081481986612596,0.0076668107403034536,0.09780883106985266,0.06615396619844105,0.11188115367721713,0.022111301877143497,0.0884061855003484,0.09123616280630298,0.10315695868248703,0.1210170444319994,0.13149312056057483,0.14579106191662444,0.09751392479540982,0.08303771169269658,0.06806709034623476,0.09372563559186825,0.07317367332198893,0.11856311579837825,0.11646647978675106,0.05271936243169795,0.12789475667217237,0.12173563914513247,0.11104399683167804,0.13612673928004915,0.09676152382630576,0.10976104069860204,0.09167621812341836,0.10907973751676864,0.07637452092475627,0.10562192891004013,0.1289506304029352,0.09327036882948508,0.1366344392063883,0.09896478182730245,0.09768257333801217,0.0935850561709261,0.10151542024936633,-0.014364389599588634,0.09392183990216058,0.08488422636498782,0.07992408057368133,0.08075155376728416,0.11066244256399382,0.10687973379741555,0.08461622061833479,0.12629922635292218,0.029985817271966086,0.10979344326271268,0.10708131019550238,0.14095950002302277,0.08524797596243905,0.14370911919721752,0.11076536269853648,0.11718896749691027,0.06235676484918251,0.10436860895763173,0.10333868899436716,0.10325844173742976,0.07961472090442362,0.084939769438302,0.07088011753236234,0.08781847765929923,0.08261331040376241,0.07755054214758761,0.12376049119128235,0.09970412505039011,0.11670171633914733,0.12383667152256778,0.08345621298327788,-0.017574286121404104,0.11747667823858221,0.12231029901367779,0.09670820505083522,0.1302147542211139,0.13153110714666028,0.09691003997359188,0.1036303419964214,0.09527106742163716,0.14624118584330542,0.12751611843888833,0.14112009542469361,0.09698164694756972,0.1097072350957029,0.12389297563811236,0.10617194616848474,0.1322215823895065,0.12287639733443712,0.11876816640620802,0.0947791118775465,0.1127223470772864,0.11420705075541904,0.1229237884838777,0.06713946389882719,0.1359836983749348,0.0854929109666473,0.11319519797554733,0.05423812145832113,0.07753550583402796,0.12419374872532707,0.062024650039937956,0.13231914248725585,0.1280557011804106,0.11618444991839127,0.13023582571344317,0.11045563721254209,0.11478074703967062,0.12743113842877896,0.06275989158226097,-0.01052533164570102,0.12816530971879103,0.11384919610871602,0.13779092643286356,0.13507258430305746,0.14326894605877932,0.1107065030352235,0.11504746145743439,0.09749780828650462,0.08506525315123259,0.0908019417995169,0.11952871319305186,0.055156644420722156,0.049827186922497935,0.12127977874955209,0.10577482970960683,0.09895854909573337,0.14056223771803578,0.1011305545892126,0.1258454065348057,0.12452070010308824,0.1083899775535817,0.10194008516182834,0.09614369816677959,0.08623638975027131,0.09642473345968028,0.1104876634628168,0.09056667851644301,0.12398137397129616,0.13779153370721936,0.09442917856425947,0.11532880430100695,0.09251486609681603,0.10530018506028072,0.08499746177157197,0.13132672316528232,0.1099943282943206,0.10684934271522806,0.1010256245666411,0.07769911790072503,0.12816271246299665,0.0889965339188653,0.12113152229139701,0.08222030054545287,0.1139054509592286,0.08686970587548143,0.11756639907912503,0.09849857507162013,0.1126920004367481,0.05917363613957427,0.06146366521297475,0.09369398121138584,0.12603776394497856,0.13133860213115078,0.07531564099362514,0.11574928818944458,0.06169323950374478,0.08357606422225833,0.1054459379355353,0.07194447500232476,0.10647148655113092,0.10840145247307087,0.10477705431432716,0.08861471655250308,0.1342909478553791,0.10436572975411468,0.08850221402006647,0.08045698329180068,0.05727392024961453,0.12344798987326372,0.10784215195196067,0.12061424610000188,0.11092809551946825,0.14831384373232814,0.12635270221959105,0.03732697673073904,0.09745520261109886,0.0818661478328358,0.11443144453753751,0.06785362254395877,0.1288940207404899,0.12942983529653274,0.1107762828112982,0.12206174077978832,0.12143749343439164,0.12237272016031453,0.038032954974354605,0.12916429378781685,0.11768767312765382,0.13562758676549408,0.09470038013680326,0.07581260576154636,0.11016727271018456,0.09324106582321379,0.10520673436775846,0.1263996483020129,0.1392758583742767,0.11472362818261939,0.10330676594541316,0.1325293931598353,0.07093060249877847,0.09106905526584319,0.10444314096183727,0.08189663805139424,0.12587953696608117,0.1056481897931923,0.04684631864975314,0.13583383857781034,0.10791516779857935,0.10318944184506879,0.14528752307199566,0.11049980864820297,0.03802813131863786,0.0635248252582386,0.10125655611819295,0.09730093043894433,0.08949117292362896,0.12965105958279433,0.14019025768993676,0.0950949083830065,0.09342688606297395,0.09787329160791891,0.11848064906612127],\"xaxis\":\"x\",\"yaxis\":\"y\",\"type\":\"histogram\"}],                        {\"template\":{\"data\":{\"bar\":[{\"error_x\":{\"color\":\"#2a3f5f\"},\"error_y\":{\"color\":\"#2a3f5f\"},\"marker\":{\"line\":{\"color\":\"#E5ECF6\",\"width\":0.5},\"pattern\":{\"fillmode\":\"overlay\",\"size\":10,\"solidity\":0.2}},\"type\":\"bar\"}],\"barpolar\":[{\"marker\":{\"line\":{\"color\":\"#E5ECF6\",\"width\":0.5},\"pattern\":{\"fillmode\":\"overlay\",\"size\":10,\"solidity\":0.2}},\"type\":\"barpolar\"}],\"carpet\":[{\"aaxis\":{\"endlinecolor\":\"#2a3f5f\",\"gridcolor\":\"white\",\"linecolor\":\"white\",\"minorgridcolor\":\"white\",\"startlinecolor\":\"#2a3f5f\"},\"baxis\":{\"endlinecolor\":\"#2a3f5f\",\"gridcolor\":\"white\",\"linecolor\":\"white\",\"minorgridcolor\":\"white\",\"startlinecolor\":\"#2a3f5f\"},\"type\":\"carpet\"}],\"choropleth\":[{\"colorbar\":{\"outlinewidth\":0,\"ticks\":\"\"},\"type\":\"choropleth\"}],\"contour\":[{\"colorbar\":{\"outlinewidth\":0,\"ticks\":\"\"},\"colorscale\":[[0.0,\"#0d0887\"],[0.1111111111111111,\"#46039f\"],[0.2222222222222222,\"#7201a8\"],[0.3333333333333333,\"#9c179e\"],[0.4444444444444444,\"#bd3786\"],[0.5555555555555556,\"#d8576b\"],[0.6666666666666666,\"#ed7953\"],[0.7777777777777778,\"#fb9f3a\"],[0.8888888888888888,\"#fdca26\"],[1.0,\"#f0f921\"]],\"type\":\"contour\"}],\"contourcarpet\":[{\"colorbar\":{\"outlinewidth\":0,\"ticks\":\"\"},\"type\":\"contourcarpet\"}],\"heatmap\":[{\"colorbar\":{\"outlinewidth\":0,\"ticks\":\"\"},\"colorscale\":[[0.0,\"#0d0887\"],[0.1111111111111111,\"#46039f\"],[0.2222222222222222,\"#7201a8\"],[0.3333333333333333,\"#9c179e\"],[0.4444444444444444,\"#bd3786\"],[0.5555555555555556,\"#d8576b\"],[0.6666666666666666,\"#ed7953\"],[0.7777777777777778,\"#fb9f3a\"],[0.8888888888888888,\"#fdca26\"],[1.0,\"#f0f921\"]],\"type\":\"heatmap\"}],\"heatmapgl\":[{\"colorbar\":{\"outlinewidth\":0,\"ticks\":\"\"},\"colorscale\":[[0.0,\"#0d0887\"],[0.1111111111111111,\"#46039f\"],[0.2222222222222222,\"#7201a8\"],[0.3333333333333333,\"#9c179e\"],[0.4444444444444444,\"#bd3786\"],[0.5555555555555556,\"#d8576b\"],[0.6666666666666666,\"#ed7953\"],[0.7777777777777778,\"#fb9f3a\"],[0.8888888888888888,\"#fdca26\"],[1.0,\"#f0f921\"]],\"type\":\"heatmapgl\"}],\"histogram\":[{\"marker\":{\"pattern\":{\"fillmode\":\"overlay\",\"size\":10,\"solidity\":0.2}},\"type\":\"histogram\"}],\"histogram2d\":[{\"colorbar\":{\"outlinewidth\":0,\"ticks\":\"\"},\"colorscale\":[[0.0,\"#0d0887\"],[0.1111111111111111,\"#46039f\"],[0.2222222222222222,\"#7201a8\"],[0.3333333333333333,\"#9c179e\"],[0.4444444444444444,\"#bd3786\"],[0.5555555555555556,\"#d8576b\"],[0.6666666666666666,\"#ed7953\"],[0.7777777777777778,\"#fb9f3a\"],[0.8888888888888888,\"#fdca26\"],[1.0,\"#f0f921\"]],\"type\":\"histogram2d\"}],\"histogram2dcontour\":[{\"colorbar\":{\"outlinewidth\":0,\"ticks\":\"\"},\"colorscale\":[[0.0,\"#0d0887\"],[0.1111111111111111,\"#46039f\"],[0.2222222222222222,\"#7201a8\"],[0.3333333333333333,\"#9c179e\"],[0.4444444444444444,\"#bd3786\"],[0.5555555555555556,\"#d8576b\"],[0.6666666666666666,\"#ed7953\"],[0.7777777777777778,\"#fb9f3a\"],[0.8888888888888888,\"#fdca26\"],[1.0,\"#f0f921\"]],\"type\":\"histogram2dcontour\"}],\"mesh3d\":[{\"colorbar\":{\"outlinewidth\":0,\"ticks\":\"\"},\"type\":\"mesh3d\"}],\"parcoords\":[{\"line\":{\"colorbar\":{\"outlinewidth\":0,\"ticks\":\"\"}},\"type\":\"parcoords\"}],\"pie\":[{\"automargin\":true,\"type\":\"pie\"}],\"scatter\":[{\"marker\":{\"colorbar\":{\"outlinewidth\":0,\"ticks\":\"\"}},\"type\":\"scatter\"}],\"scatter3d\":[{\"line\":{\"colorbar\":{\"outlinewidth\":0,\"ticks\":\"\"}},\"marker\":{\"colorbar\":{\"outlinewidth\":0,\"ticks\":\"\"}},\"type\":\"scatter3d\"}],\"scattercarpet\":[{\"marker\":{\"colorbar\":{\"outlinewidth\":0,\"ticks\":\"\"}},\"type\":\"scattercarpet\"}],\"scattergeo\":[{\"marker\":{\"colorbar\":{\"outlinewidth\":0,\"ticks\":\"\"}},\"type\":\"scattergeo\"}],\"scattergl\":[{\"marker\":{\"colorbar\":{\"outlinewidth\":0,\"ticks\":\"\"}},\"type\":\"scattergl\"}],\"scattermapbox\":[{\"marker\":{\"colorbar\":{\"outlinewidth\":0,\"ticks\":\"\"}},\"type\":\"scattermapbox\"}],\"scatterpolar\":[{\"marker\":{\"colorbar\":{\"outlinewidth\":0,\"ticks\":\"\"}},\"type\":\"scatterpolar\"}],\"scatterpolargl\":[{\"marker\":{\"colorbar\":{\"outlinewidth\":0,\"ticks\":\"\"}},\"type\":\"scatterpolargl\"}],\"scatterternary\":[{\"marker\":{\"colorbar\":{\"outlinewidth\":0,\"ticks\":\"\"}},\"type\":\"scatterternary\"}],\"surface\":[{\"colorbar\":{\"outlinewidth\":0,\"ticks\":\"\"},\"colorscale\":[[0.0,\"#0d0887\"],[0.1111111111111111,\"#46039f\"],[0.2222222222222222,\"#7201a8\"],[0.3333333333333333,\"#9c179e\"],[0.4444444444444444,\"#bd3786\"],[0.5555555555555556,\"#d8576b\"],[0.6666666666666666,\"#ed7953\"],[0.7777777777777778,\"#fb9f3a\"],[0.8888888888888888,\"#fdca26\"],[1.0,\"#f0f921\"]],\"type\":\"surface\"}],\"table\":[{\"cells\":{\"fill\":{\"color\":\"#EBF0F8\"},\"line\":{\"color\":\"white\"}},\"header\":{\"fill\":{\"color\":\"#C8D4E3\"},\"line\":{\"color\":\"white\"}},\"type\":\"table\"}]},\"layout\":{\"annotationdefaults\":{\"arrowcolor\":\"#2a3f5f\",\"arrowhead\":0,\"arrowwidth\":1},\"autotypenumbers\":\"strict\",\"coloraxis\":{\"colorbar\":{\"outlinewidth\":0,\"ticks\":\"\"}},\"colorscale\":{\"diverging\":[[0,\"#8e0152\"],[0.1,\"#c51b7d\"],[0.2,\"#de77ae\"],[0.3,\"#f1b6da\"],[0.4,\"#fde0ef\"],[0.5,\"#f7f7f7\"],[0.6,\"#e6f5d0\"],[0.7,\"#b8e186\"],[0.8,\"#7fbc41\"],[0.9,\"#4d9221\"],[1,\"#276419\"]],\"sequential\":[[0.0,\"#0d0887\"],[0.1111111111111111,\"#46039f\"],[0.2222222222222222,\"#7201a8\"],[0.3333333333333333,\"#9c179e\"],[0.4444444444444444,\"#bd3786\"],[0.5555555555555556,\"#d8576b\"],[0.6666666666666666,\"#ed7953\"],[0.7777777777777778,\"#fb9f3a\"],[0.8888888888888888,\"#fdca26\"],[1.0,\"#f0f921\"]],\"sequentialminus\":[[0.0,\"#0d0887\"],[0.1111111111111111,\"#46039f\"],[0.2222222222222222,\"#7201a8\"],[0.3333333333333333,\"#9c179e\"],[0.4444444444444444,\"#bd3786\"],[0.5555555555555556,\"#d8576b\"],[0.6666666666666666,\"#ed7953\"],[0.7777777777777778,\"#fb9f3a\"],[0.8888888888888888,\"#fdca26\"],[1.0,\"#f0f921\"]]},\"colorway\":[\"#636efa\",\"#EF553B\",\"#00cc96\",\"#ab63fa\",\"#FFA15A\",\"#19d3f3\",\"#FF6692\",\"#B6E880\",\"#FF97FF\",\"#FECB52\"],\"font\":{\"color\":\"#2a3f5f\"},\"geo\":{\"bgcolor\":\"white\",\"lakecolor\":\"white\",\"landcolor\":\"#E5ECF6\",\"showlakes\":true,\"showland\":true,\"subunitcolor\":\"white\"},\"hoverlabel\":{\"align\":\"left\"},\"hovermode\":\"closest\",\"mapbox\":{\"style\":\"light\"},\"paper_bgcolor\":\"white\",\"plot_bgcolor\":\"#E5ECF6\",\"polar\":{\"angularaxis\":{\"gridcolor\":\"white\",\"linecolor\":\"white\",\"ticks\":\"\"},\"bgcolor\":\"#E5ECF6\",\"radialaxis\":{\"gridcolor\":\"white\",\"linecolor\":\"white\",\"ticks\":\"\"}},\"scene\":{\"xaxis\":{\"backgroundcolor\":\"#E5ECF6\",\"gridcolor\":\"white\",\"gridwidth\":2,\"linecolor\":\"white\",\"showbackground\":true,\"ticks\":\"\",\"zerolinecolor\":\"white\"},\"yaxis\":{\"backgroundcolor\":\"#E5ECF6\",\"gridcolor\":\"white\",\"gridwidth\":2,\"linecolor\":\"white\",\"showbackground\":true,\"ticks\":\"\",\"zerolinecolor\":\"white\"},\"zaxis\":{\"backgroundcolor\":\"#E5ECF6\",\"gridcolor\":\"white\",\"gridwidth\":2,\"linecolor\":\"white\",\"showbackground\":true,\"ticks\":\"\",\"zerolinecolor\":\"white\"}},\"shapedefaults\":{\"line\":{\"color\":\"#2a3f5f\"}},\"ternary\":{\"aaxis\":{\"gridcolor\":\"white\",\"linecolor\":\"white\",\"ticks\":\"\"},\"baxis\":{\"gridcolor\":\"white\",\"linecolor\":\"white\",\"ticks\":\"\"},\"bgcolor\":\"#E5ECF6\",\"caxis\":{\"gridcolor\":\"white\",\"linecolor\":\"white\",\"ticks\":\"\"}},\"title\":{\"x\":0.05},\"xaxis\":{\"automargin\":true,\"gridcolor\":\"white\",\"linecolor\":\"white\",\"ticks\":\"\",\"title\":{\"standoff\":15},\"zerolinecolor\":\"white\",\"zerolinewidth\":2},\"yaxis\":{\"automargin\":true,\"gridcolor\":\"white\",\"linecolor\":\"white\",\"ticks\":\"\",\"title\":{\"standoff\":15},\"zerolinecolor\":\"white\",\"zerolinewidth\":2}}},\"xaxis\":{\"anchor\":\"y\",\"domain\":[0.0,1.0],\"title\":{\"text\":\"normality\"}},\"yaxis\":{\"anchor\":\"x\",\"domain\":[0.0,1.0],\"title\":{\"text\":\"count\"}},\"legend\":{\"tracegroupgap\":0},\"margin\":{\"t\":60},\"barmode\":\"relative\",\"height\":400,\"width\":400,\"shapes\":[{\"line\":{\"color\":\"red\",\"dash\":\"dash\",\"width\":3},\"type\":\"line\",\"x0\":0.0390470185568147,\"x1\":0.0390470185568147,\"xref\":\"x\",\"y0\":0,\"y1\":1,\"yref\":\"y domain\"}]},                        {\"responsive\": true}                    ).then(function(){\n",
              "                            \n",
              "var gd = document.getElementById('5597e7a7-e1b5-487c-92a0-f40c901069ac');\n",
              "var x = new MutationObserver(function (mutations, observer) {{\n",
              "        var display = window.getComputedStyle(gd).display;\n",
              "        if (!display || display === 'none') {{\n",
              "            console.log([gd, 'removed!']);\n",
              "            Plotly.purge(gd);\n",
              "            observer.disconnect();\n",
              "        }}\n",
              "}});\n",
              "\n",
              "// Listen for the removal of the full notebook cells\n",
              "var notebookContainer = gd.closest('#notebook-container');\n",
              "if (notebookContainer) {{\n",
              "    x.observe(notebookContainer, {childList: true});\n",
              "}}\n",
              "\n",
              "// Listen for the clearing of the current output cell\n",
              "var outputEl = gd.closest('.output');\n",
              "if (outputEl) {{\n",
              "    x.observe(outputEl, {childList: true});\n",
              "}}\n",
              "\n",
              "                        })                };                            </script>        </div>\n",
              "</body>\n",
              "</html>"
            ]
          },
          "metadata": {}
        }
      ],
      "source": [
        "def outlier_threshold(normality, k=1.5):\n",
        "  q1 = np.quantile(normality, 0.25)\n",
        "  q3 = np.quantile(normality, 0.75)  \n",
        "  threshold = q1 - k*(q3-q1)\n",
        "  return threshold\n",
        "\n",
        "threshold = outlier_threshold(normality_df['normality'].values, k=1.5)\n",
        "\n",
        "fig = px.histogram(normality_df, x='normality', width=400, height=400)\n",
        "fig.add_vline(x=threshold, line_width=3, line_dash=\"dash\", line_color=\"red\")\n",
        "fig.show()"
      ]
    },
    {
      "cell_type": "code",
      "execution_count": null,
      "metadata": {
        "colab": {
          "base_uri": "https://localhost:8080/",
          "height": 417
        },
        "id": "HFc_y-fSUp4Y",
        "outputId": "78545a56-f23f-4a2a-a9c7-54bfb293eefe"
      },
      "outputs": [
        {
          "output_type": "display_data",
          "data": {
            "text/html": [
              "<html>\n",
              "<head><meta charset=\"utf-8\" /></head>\n",
              "<body>\n",
              "    <div>            <script src=\"https://cdnjs.cloudflare.com/ajax/libs/mathjax/2.7.5/MathJax.js?config=TeX-AMS-MML_SVG\"></script><script type=\"text/javascript\">if (window.MathJax) {MathJax.Hub.Config({SVG: {font: \"STIX-Web\"}});}</script>                <script type=\"text/javascript\">window.PlotlyConfig = {MathJaxConfig: 'local'};</script>\n",
              "        <script src=\"https://cdn.plot.ly/plotly-2.8.3.min.js\"></script>                <div id=\"4ad8cc68-3977-4460-90db-4b756fe58c8f\" class=\"plotly-graph-div\" style=\"height:400px; width:400px;\"></div>            <script type=\"text/javascript\">                                    window.PLOTLYENV=window.PLOTLYENV || {};                                    if (document.getElementById(\"4ad8cc68-3977-4460-90db-4b756fe58c8f\")) {                    Plotly.newPlot(                        \"4ad8cc68-3977-4460-90db-4b756fe58c8f\",                        [{\"alignmentgroup\":\"True\",\"hovertemplate\":\"normality=%{x}<extra></extra>\",\"legendgroup\":\"\",\"marker\":{\"color\":\"#636efa\"},\"name\":\"\",\"notched\":false,\"offsetgroup\":\"\",\"orientation\":\"h\",\"showlegend\":false,\"x\":[0.13939979645933848,0.1123726980483325,0.1389175395476681,0.10100225933028328,0.12450915646528327,0.1183687015023499,0.12781684544113697,0.08107335965047546,0.0678679841048131,0.03543190653885525,0.13181642549078904,0.053735809249108146,0.11727823383647723,0.11077106166290551,0.11547969836245403,0.09757091166777032,0.11070012213398511,0.057296245023100545,0.13887510353179555,0.11082276695119841,0.08592127404977695,0.08195401188413776,0.1307463480428026,0.10755313827266794,0.1123110495524004,0.11500031242524844,0.12458010483957294,0.12471339051376962,0.08961534601739773,0.07970221820620454,0.0671602307119602,0.12378608203258912,0.13432277115522068,0.12734424867734506,0.1026081478932811,0.08845825593474999,0.13742397388521788,0.12393479364003057,0.10869079458415964,0.006635666371459625,0.1271641443470637,0.11534418677496244,0.10148992601082574,0.11635759090405784,0.12205521960437293,0.09660069907576402,0.09662349430501949,0.12239891730430602,0.06397685066579323,0.12857103697721695,0.12613150000943452,0.10279789394871752,0.024364438726042825,0.05597467948997553,0.1050459295668501,0.12231303447594805,0.08933830762674805,0.1342658502009435,0.03295139312612522,0.10409298927306698,0.11816181182979646,0.07514463102658392,0.1152506118927002,0.07654212129726312,0.12610663520900184,0.11575826968574521,0.1100640444231073,0.14761885928277863,0.10023833024174444,0.10785671368794669,0.09196704243666293,0.1250326673697959,0.1232406838795857,0.13080616119819588,0.07702103321117859,0.06019902165223351,0.11865846794480112,0.10553392656406863,0.058826749352394514,0.13246781924503648,0.10796210929135175,0.08940815017582471,0.12994045444235097,0.11695325131532586,0.10438895310766344,0.10794637614064884,0.11915642478135352,0.07135033879923397,-0.03714414193370641,0.1150201275663767,0.0893773304444967,0.10849352405442508,0.12408075323197498,0.018527042136342098,0.14820480885748644,0.09530789339276419,0.13786017852087523,0.11029953397586828,0.07979431116571634,0.08687278602724702,0.11361122228831949,0.12787446922689666,0.039150584379444686,0.14029434183781997,0.08234930985945155,0.12083076381065955,0.0995131275561959,0.11987971974107708,0.020530891193726863,0.10236608934507624,0.1291407703678879,0.11362755390442758,0.06468783990094668,0.058017634607660684,0.10129714935822459,0.10328034501252181,0.11670474254509727,0.11807743340036281,0.09385377988177762,0.11788209920074061,0.05152923841792317,0.10426154088387807,0.11457409810270563,0.1235468606329922,0.11031231978574763,0.02133455928192146,0.1096818035374722,0.05019826203426275,0.1062789007171806,0.07444907709393905,0.1176798566410242,0.11802011134724255,0.136598906832616,0.1316681839209098,0.1252344575578358,0.1312395426532561,0.1244714632526075,0.08319355807990181,0.14011653435594584,0.13871655168434738,0.1053482624555262,0.1279589119543464,0.10612052067773248,0.14350024830606756,0.043125236426191316,0.09007711010237451,0.0981360943430471,0.11797196406282512,0.12025835225868581,0.1014229245072299,0.11997197216969002,0.08786065157740836,0.12336741854520694,0.08475059261794277,0.09471415414983003,0.031194549604612543,0.09054157924618861,0.08915104942879576,0.12894199379517518,0.0734875776823865,0.13331788328481847,0.10297666692798219,0.11145019690238966,0.109121418457646,0.10192574978915331,0.07006937772981475,0.08341358978365776,0.09226884367515525,0.14379248885842938,0.08539393992807409,0.10049115528670771,0.07667122715940472,0.09453724381005918,0.10030710700780243,0.10573824435457901,0.11113806989654967,0.0885788749582409,0.11498867745307628,0.06002538350070069,0.1134508949404831,0.10764148647152655,0.11361576028260245,0.08102306371139245,0.10220352162381657,0.062401618473903964,0.04538166582606307,0.11355732248506178,0.11441470329028958,0.05109285524655188,0.09492464112322246,0.08152234484576626,0.11436045061781253,0.13900780298347531,0.09690874949760797,0.1294093372379071,0.11253969998396496,0.06550468866141074,0.06146595923078757,0.07555460727391888,0.11430872333916109,0.1235664375323201,0.11875502914950786,0.09372541980608323,0.1101572514020655,0.11809016739470718,0.13646037602623734,0.10408403136977601,0.12986970909307655,0.09812867916133183,0.11821414941771297,0.07093287832525796,0.14191002875298608,0.09561725959975614,0.11866691138908592,0.11603814895313164,0.13099853023401192,0.1426979446456929,0.08889803209828656,0.11660639184508331,0.10722415270401742,0.10657980599098482,0.12173802446929055,0.10993513652664638,0.11328612597925558,0.10236578004455726,0.08286216773757193,0.1383671769131417,0.0882023424664401,0.12252269614672318,0.12342098039278188,0.1306766519765969,0.10331502951816068,0.09018942694142962,0.10845691727304713,0.1286664800795288,0.10414666268673672,0.13588017116955736,0.09696699825635346,0.08844206971431712,0.10895211393191112,0.11512042798232935,0.10361710238839283,0.09490719529726221,0.10658293789903567,0.14111973911197356,0.1131548340005204,0.03901224573697937,0.13344397758414533,0.13629380632142368,0.0517562735416941,0.07905191932204214,0.08133905951654619,0.14161648049484749,0.0858799459833689,0.13806866754106417,0.11073760260167403,0.14244212262634998,0.12516062020160645,0.1355313682469131,0.09311264835032806,0.06820546801725613,0.061083605000227914,0.09786767656849771,0.10284231967403068,0.07294803181377002,0.1208052661066184,0.11774553758030903,0.09097332496517596,0.105928483251928,0.11530885899434645,0.09290269135457524,0.03317627569218007,0.1146727451998597,0.102172030496602,0.11593586161424896,0.08739554643274028,0.1314351323254324,0.1184944808084763,0.08781238561911303,0.12749360729927328,0.11850060640161447,0.09669151849934665,0.08329874254158548,0.10057709522848174,0.12097779674214154,0.10047165673790687,0.10618366385091155,0.1052655059699043,0.1302590212864262,0.09360124333117303,0.09484404422002202,0.04193494759976951,0.11844372402807257,0.09852387684977998,0.11413402358493119,0.10207641188774369,0.10753874937457586,0.11843674066043658,0.11987719589105211,0.13070057292688925,0.08783663394987462,0.12884228466878755,0.12043793821395704,0.11660506261635156,0.10551413704174234,0.1044148158316805,0.112247442111505,0.05060124050199055,0.12288403274049126,0.11396052523245548,0.13132746268144618,0.1410978876639949,0.08569307632755035,0.03990697585748415,0.11450236914306489,0.139302230204931,0.09643285258448847,0.13521001164538338,0.09249308193524308,0.11575401216193515,0.051933799769161626,0.11797606551646339,0.09195936623467521,0.12586931004630686,0.043762657112783376,0.06948629551924457,0.0801485623432131,0.12388738607809624,0.04995758446159987,0.09131367470905954,0.06538494319550925,0.14270085464738774,0.12960636383678542,0.10063055933918347,0.13165204208295,0.03717763576192995,0.0890847856234544,0.1443681734699363,0.1231594131665612,0.0948812201360612,0.13783837230475482,0.08850963990063071,0.013367301088354488,0.09572069631395974,0.10558344648676399,0.10505738405513448,0.10709665153768178,0.1131431872750685,0.07436500040789296,0.07359998153166103,0.0727591063782117,0.09067295597830999,0.09693888395376077,0.1291366851214984,0.11026729331584983,0.1242945763379848,0.13413670129850025,0.10740630090166281,0.047386922405789234,0.1119692953327821,0.11499174379143229,0.11671947371812558,0.036461329700730405,0.09443422239747568,0.10642504050276508,0.09415908979268484,0.12661426025256478,0.06959667184011525,0.12189261032824716,0.11493609260204268,0.13018362765176816,0.05516187356952851,0.09218669176371247,0.12524591233861038,0.13329873803089443,0.023439287939182152,0.10962295967968971,0.10949483249977687,0.06180635687017361,0.1238515596526567,0.10378914249979437,0.09815160588510818,0.14072662094683874,0.05131650863256798,0.07539622932704804,0.11414696801829677,0.05317751131792392,0.10077686147549575,0.13110223886713346,0.08070292612274382,0.11060491528754235,0.11768912173297769,0.09630002581010139,0.0571907422415302,0.12197071938696852,0.1345137528610431,0.11663341220447365,0.11073479003770231,0.0629537635296103,0.09994056306976684,0.09032674598661827,0.12583035261844594,0.11552198223090798,0.09899362304299952,0.1265888606688541,0.11878221146428986,0.09695943923355865,0.12228232116171489,0.09654330860520405,0.09606372485159792,0.09943013351025154,0.05715662502782165,0.09112147276384158,0.08217574797834076,0.10574249333528701,0.10010247330885097,0.11840067106382535,0.04089805538631108,0.09327641242656581,0.13458285267847164,0.06585759758736198,0.0974738264640721,0.07241645605888036,0.13814790925161646,0.1238561004971862,0.10838323665736216,0.08570035146024685,0.13448019759649116,0.10200978803302435,0.1196728274446281,0.07390975999203775,0.03848331216337031,0.10871190752104098,0.13323993777232374,0.05813576371194468,0.07952525205671762,0.10557353791118551,0.0905687386601815,0.08536339424371814,0.10627483633365736,0.08645184445487009,0.033695494016260485,0.11869393559784891,0.0875279600651887,0.14302105314946262,0.11563761728223171,0.08576211775613807,0.12587555401780381,0.09810841312697699,0.12036152602731798,0.09488228300866114,0.08413669347942238,0.12443549008191451,0.13989139871133632,0.07152325044559305,0.11775828937242572,0.08838729698610509,0.058779386415640844,0.10907528168823266,0.08708974198906277,0.06950144691335752,0.0987039838194318,0.12944611334283274,0.09450056799328505,0.11365323593278787,0.12089495557663954,0.10316600272104043,0.09867593437288968,0.12934104392272605,0.11902474564225823,0.07268198218090705,0.07739923298248463,0.09956343592288047,0.09992812216063984,0.10243602416048181,0.12386062235943313,0.13134182343320627,0.10150598216079193,0.1099115228624124,0.07990108392488932,0.10992863129144237,0.10995154634773474,0.10678702255967404,0.09464696194879646,0.11874139185407862,0.12758118960385145,0.12649322644978683,0.1223623201433664,0.021812309557130594,0.07860062350043706,0.0840002502347516,0.09341928956403817,0.09403541612500516,0.12433326321073784,0.0915434185133005,0.02403078019390581,0.10420441990781926,0.11161827346059022,0.12465175815023394,0.11902457393384419,0.10403122978227075,0.1319403092360948,0.09607884261653687,0.11355570418898775,0.12284146489364356,0.05592688722902489,0.13108064694753002,0.09656723023113828,0.0937842482598516,0.1209639137342679,0.10540880930744007,0.10290078785979706,0.11788283351085527,0.1262461140423648,0.09477649978029717,0.07005456995219955,0.09675670301423506,0.1305921489108796,0.13380484425936467,0.10278327229890744,0.002404165765861166,0.11134381908127028,0.09572118105973648,-0.028382396242166985,0.13720905384196153,0.13386256347789444,0.13352653494753008,0.08168135433276097,0.08920209579108956,0.08496246643037347,0.11110772069710284,0.07971129872055743,0.1004386846149749,-0.002372423044677552,0.13290692258022513,0.04960524300334168,0.12331814757568021,0.11602444927850136,0.11793502789108001,0.13362399697908295,0.12354929870499559,0.12239739123518223,0.0924020935803136,0.0870473593902919,0.09459946867839308,0.10158659628091349,0.08715667633758556,0.1218218809028887,0.08659499456417158,0.1183632406979751,0.08108903587414729,0.11105013045694279,0.12051385623997984,0.09049464191023726,0.12454088039645317,0.09448149525261096,0.11965158494328965,0.07499366258968837,0.11439579009040801,0.11822879601224423,0.11095058785046552,0.11976461262657562,0.10888015723084599,0.11048940730040036,0.11604239771178004,0.06263613341858593,0.09821580474510644,0.13911551215318535,0.07239000122652034,0.08736971812083122,0.07912694180075813,0.10405720823978865,0.08763573787705187,0.11787904551157508,0.09419944769117677,0.11290122843087652,0.12122510228607242,0.08902155612497542,0.09665774517525366,0.083662131483905,0.11258718086788949,0.11069959457502693,0.07336334189250726,0.065071578186707,0.11495130153832311,0.1063747143355146,0.09967484574500945,0.12813671279390104,0.037348288407638874,0.07413189145471277,0.13879923077205897,0.07041765983762593,0.1323725999753111,0.1189694346030899,0.1353134639092997,0.09694615837604115,0.08880065373150298,0.1010016965898704,0.11145747286975222,0.09755126232694378,0.12150759650238308,0.10250027492826602,0.11375941313355437,0.10923451481486046,0.13892380248252423,0.11324858570116131,0.12052603180124638,0.10429057039684725,0.08696470576593757,0.12076134709912184,0.10854541079432978,0.10554283671235687,0.1243805689173011,0.07573322561709539,0.060757002828087214,0.08686479187830742,0.13646094741709996,0.09051867558941257,0.058205739716360394,0.10129155661319977,0.04658018206772607,0.11718110802662263,0.131033215756297,0.11761807978052485,0.12409432930689607,0.10970083630397776,0.13403503690563212,0.087207127241761,0.09154291646214868,0.0826873123525309,0.05716427607654484,0.10173824486066158,0.11188973709928096,0.12364082273706678,0.08484974628798775,-0.02489233169504823,0.016749794715619604,0.06525117826461535,0.07791804078268894,0.0730603677321513,0.09009212922190446,0.1355703145232181,0.08948650665562169,0.08561679959421009,0.07525484678431654,0.11475077906410336,0.11157823106045461,0.11134816345604615,0.10847908387788835,0.0520062707382668,0.12816844033092784,0.101511853506974,0.14123917027805066,0.1154323214293036,0.1148234713709565,0.08877034584994942,0.1320467729727604,0.1083657727718102,0.09644719332109664,0.12743098404268416,0.1079326772758496,0.08349360813444073,0.10050620587443332,0.11204025546076368,0.05453559677634762,0.1259018881337739,0.05218602321100513,0.13405960259875893,0.1028669724746103,0.10805691991936489,0.12574458004247563,0.07782605868673587,0.13171186062164064,0.10468170147804928,0.1346675207658809,0.12279276490516061,0.05286564022207124,0.10713839094527322,0.08297833781272024,0.12686399933148967,0.10318367283822844,0.08902090704160193,0.12565342030251203,0.12113074469387797,0.11743924858088306,0.08163515006340988,0.09932703963933753,0.0956281703872276,0.08792497740824312,0.11582567525324983,0.12456638654609847,0.044540351102483,0.09565125245202832,0.10158985262338,0.11459920025065296,0.12158025897415103,0.11328214230479972,0.10194821150247213,0.1028153357148267,0.10148832764974453,0.11549304721747994,0.11213068416965355,0.047091590023652596,0.07676762099812068,0.13454484871663147,-0.016404492912056146,0.05455808420078623,0.10998977486296457,0.10111688470890418,0.10177958775096319,0.07409304488980034,0.05679771866635758,0.09510886708315114,0.057676663226653435,0.10703556334794906,0.1295822173686057,0.11193483742687188,0.13804295856441923,0.10968151816771854,0.12928121064219295,0.0653930436678889,0.11849570524270975,0.137772768693746,0.1227250064926591,0.098842144533898,0.12069640916219582,0.10909378751405213,0.12993385281255487,0.06440583751733986,0.08263581598101594,0.09623833366408091,0.11943693158812257,0.14177716785946415,0.11712761312245251,0.12193160863214036,0.062215795548465236,0.04127197988638942,0.11331890589020582,0.07019715407732202,0.1405370891251479,0.10669302009714521,0.11661632520251025,0.14790343767973202,0.10958550099336428,0.09980723935250257,0.08267536983327561,0.12420207611732725,0.036685382731273586,0.12339065973263186,0.02177679181720349,0.07628077180791293,0.12499226072684672,0.1379186593997494,0.12980228845699227,0.1352076564589157,0.11670927070770126,0.13725180399520265,0.09366363994512927,0.09870882809776149,0.12688906360775998,0.12639678680408784,0.09448274502203607,0.13223018086699478,0.12432388251726151,0.057583220515691036,0.08461549211704722,0.12788992497194474,0.10375467053592607,0.14180573996498913,0.01275531533057589,0.10572439853600352,0.10853769528608403,0.10049288477515766,0.10249270067381844,0.09141153164809729,0.09804840478439047,0.11766550094981215,0.12724863025342392,0.04053010682068636,0.08959291498788263,0.1352311543262656,0.13667409953001758,0.14257644315627943,0.10334623077039018,0.08754684132173202,0.09715008646334633,0.10424220967201653,0.11568670691028099,0.1276260615099145,0.09428008742926314,0.11388934085192204,0.11837081629421942,0.12505631347266777,0.08395245948262536,0.12059569666701075,0.1291580848285877,0.12942342980860672,0.1235406377209688,0.06828811206462432,0.0861710741574962,0.09870147378905575,0.11183875266077359,0.12140407812608661,0.06030354880228744,0.12397235338151757,0.07011636808295563,0.10912322270226082,0.10421491959944834,0.09933665110932544,0.02835421238388891,0.10713733197788933,0.11249238238540804,0.03921972086436204,0.10672807635845577,0.10357290708237854,0.1190073658857822,0.1194723937474505,0.10048129969111275,0.11803237922306559,0.09596531303908745,0.13460084150935486,0.07694036922820002,0.1096716598400147,0.11437829860497645,0.10591731188421649,0.053225062387662336,0.09514353558775807,0.14616818433710782,0.018011084034540048,0.08561075234885679,0.10341902465679897,0.10941261710983696,0.11593894461354981,0.11251406578600259,0.13694372398718202,0.12321214014507315,0.11362680141723086,0.0919505147028502,0.1494710130182167,0.13692008375651188,0.07126402149012773,0.11758215510265352,0.10596641538988694,0.037991118168226756,0.09411986988894361,0.06838804068382076,0.12429193032491342,0.13014638987257365,0.07282848579075307,0.0829067960629763,0.1189990304546455,0.12543612819312006,0.10859044335367518,0.11153693138055887,0.08003389633346136,0.12651836834964603,0.09795508438924921,0.13560351828494432,0.13037495429277607,0.09145155423157642,0.1187186058206397,0.10266638288492486,0.13168355569940432,0.1326603166949073,0.1232986806684529,0.13307604488710895,0.09695672394122051,0.11590142953107552,0.0740953496475748,0.1293590895891577,0.1200091786886121,0.14486323604145107,0.08983882524287345,0.12376148393190295,0.11546891268460174,0.054944845852662294,0.10454524449298491,0.1098958824201785,0.113055360437535,0.11274165563893146,0.13947610689908108,0.1113704611757706,0.12237899048351658,0.057709420401387934,0.13693040340902762,0.058682753214023387,0.0720886866219837,0.1098170236155781,0.07144728529584016,0.11242815052147553,0.0990520672565296,0.12366658652669177,0.12147297007201402,0.11000754480494562,0.03937619172743573,0.11932191429610717,0.0929732422014441,0.04482053966382693,0.09094577609234172,0.11819069708577379,0.13577256764163415,0.12898618572207093,0.1345570396643067,0.08303426804789216,0.13499044546705252,0.11475290411982975,0.12412150495310853,0.10217699671333169,0.10445044699348321,0.12850042402697626,0.0378238956845231,0.11466478229567428,0.07566239113137757,0.0417283164378941,0.07407801071712572,0.09321393873918915,0.06489584200010912,0.12954481879744362,0.088298311445145,0.11652743513734865,0.1292359432472494,0.04468364112085704,0.10884620690100177,0.09991477082152372,0.10669294298224957,0.11985759728429118,0.11221064191069108,0.10523398846892024,0.13310116701907476,0.1139796394779024,0.13160651492893938,0.140843869497964,0.09372101939250377,0.13001205466366422,0.05819507862048112,0.1020166967045742,0.14376226819294635,0.13965997534811975,0.10139615538826835,0.10917442040070519,0.06869565369311564,0.10067552983930927,0.036173520827464334,0.07487703294373743,0.03929785527824187,0.09854505322795143,0.11027861805671185,0.11882760425108219,0.12964538979014123,0.1295755627674129,0.13403464158419132,0.11147775002793509,0.10513237144512383,0.0948393540001346,0.016066152813892953,0.047643619772289814,0.11913718899855319,0.1320013803257547,0.1507238068139528,0.08252295646214286,0.07233254224251606,0.07284280036592428,0.12349092658677896,0.1240250972281352,0.115979283750835,0.1034820598442005,0.10022222618718701,0.1197213518811816,0.0652382145206451,0.07656324725032082,0.05665056155614401,0.07979558986112606,0.1069433249451679,0.09837945833150713,0.059767411422436356,0.08298429562702403,0.06797885074322718,0.10193025689826002,0.10857643560421837,0.12442427056757638,0.08028348148374281,0.10828146149302581,0.14032225401423487,0.12490309333969174,0.04950922864570251,0.0721594668638002,0.09665604660818455,0.09955090672843603,0.11592899659887784,0.09852948644024012,0.13348366400210393,0.09146433748327543,0.101859339265582,0.11997013423465619,0.07737464194754196,0.0851717799854167,0.1110576182539279,0.10568669587459156,0.08934152078217589,0.12994242020386892,0.03954049038501506,0.07971866394553456,0.12359350644470479,0.05500933016187559,0.11881163722841726,0.1141623445150316,0.1168718504134112,0.10561807324450251,0.10787124647059265,0.09744587541713912,0.12016606747410308,0.04599709753644887,0.11524910025168195,0.07432826329324016,0.10501290548451497,0.14114258977698313,0.13606559381418154,0.0695750247839349,0.11307200959364494,0.11582856464679286,0.14200309405093958,0.09517980457493974,0.11273042794372362,0.1323270319574562,0.08278228208756189,0.12718781494546805,0.11927879631506827,0.09360720506791576,0.09896809407607743,0.1010155419707992,0.032423679202218336,0.07064205949067404,0.10236710255387582,0.1255165767387036,0.09677198331897846,0.061310389137862464,0.0997016712474415,0.11649298664194163,0.09000369392850982,0.08337751377243602,0.0955559595464055,0.10904986373052311,0.09508537669607675,0.1182852442059209,0.08107346350468847,0.06672208592557954,0.036148016820177764,0.13452300415650909,0.0790174298733744,0.07949363224063705,0.09932836335737133,0.10658671137666687,0.1057909088754378,0.08517928125409596,0.13173292552188992,0.10136597137674114,0.11398033785501172,0.10138434156025311,0.11501535783767969,0.08726610847081134,0.09403078866029119,0.05987223794219737,0.06633974178538521,0.10981179256385659,0.11250330868983249,0.11358907779594646,0.13693330953619964,0.10161902971564357,0.08560731963556029,0.12142739597975799,0.12830195443588666,0.12763215648340315,0.09283463171141876,0.10637140550764201,0.14718809102420732,0.12529583891585983,0.11411544213764319,0.10749829074795675,0.11955141859686469,0.14798539143373995,0.10097457714931812,0.11176104803692877,0.14061270804625775,0.11705338897439571,0.12192331464971401,0.12934160773081227,0.10493209999252445,0.13195662914921014,0.09164070073716346,0.0901387632521174,0.02315503004993058,0.09518155700398251,0.10230872240490263,0.09978518631779909,0.12915064915831115,0.15110981990770145,0.09997171854228926,0.09864495343985463,0.12328994161082169,0.1001199751988629,0.03772393833897347,0.13568113766232193,0.12430715233101813,0.11163081033518157,0.10884341373746609,0.11543365144133594,0.10077928873606468,0.046689812479046855,0.13270575338980234,0.1182922310968666,0.13516168663849204,0.1123016817888966,0.09514841804563545,0.14136502061104617,0.1340661816926636,0.09199894775866896,0.11719020801471547,0.12684271115689333,0.09990544464115209,0.11892899475847024,0.08758193231263006,0.11925622678119013,0.08992872485180253,0.10175862826142856,0.12339661356464277,0.1265764351394888,0.11598881189801385,0.10905652646845815,0.12416776822081449,0.09271938863856183,0.07353098657512985,0.09648960088562197,0.09693081904755257,0.14249054355480317,0.13066887020171425,0.10179303091610298,0.10641639867420638,0.07251566804607573,0.12736024175644278,0.1015305086000633,0.11412537959204605,0.09038085289642528,0.06893138311447339,0.11210186019068291,0.04793663342102955,0.11068932180346247,0.13138396192268675,0.11174643210830099,0.11980890858913479,0.10944595284592284,0.10895175289373354,0.10920701908295333,0.09917496959576533,0.10579388812034662,0.09295976027837194,0.11191386875298126,0.09207959213737876,0.0946430230142532,0.0799590088406461,0.13010123884576796,0.12679742454681087,0.08128960522358258,0.14159169851815157,0.05364438719411785,0.08346553495963116,0.07712654376653921,0.11289588801351719,0.12018949484171426,0.10337026477459843,0.06527615294198919,0.10622396410340307,0.13692731377480938,0.11202270743979631,0.06841479601149647,0.10742545015180482,0.12697392199282148,0.11283666189139685,0.09074941686908178,0.11217583799824515,0.06040776423898592,0.11045833771745045,0.05311960955315409,0.07698642675331524,0.1148512398606007,0.07685593384531175,0.11238294596959908,0.02081800070901879,0.11341062916852823,0.14412095435230404,0.13744936354039938,0.06724974053655991,0.10293937910974205,0.11268908388445897,0.0977306104046951,0.0989917904921826,0.13523777631570644,0.08833813714090005,0.06795703283362708,0.14912015904132225,0.12924332690232382,0.12262402172672532,0.14117719201762657,0.10259062405997821,0.13842329974643813,0.13495760851272842,0.1020236702146039,0.11490346112390176,0.14538716542236696,0.1288394020401718,0.08117703695697609,0.12548980916689384,0.09058820655497035,0.1081438712744971,0.09460353752940409,0.11746496917174831,0.13138625126789932,0.05082786098150327,0.07687184808294972,0.04137756506808821,0.05442583095948894,0.11052102304351669,0.12231004848021026,0.10538082775318919,0.07684467933703681,0.12062560643843945,0.11229440787124506,0.08176045106741053,0.12212034078158923,0.04288631820101979,0.11081481986612596,0.0076668107403034536,0.09780883106985266,0.06615396619844105,0.11188115367721713,0.022111301877143497,0.0884061855003484,0.09123616280630298,0.10315695868248703,0.1210170444319994,0.13149312056057483,0.14579106191662444,0.09751392479540982,0.08303771169269658,0.06806709034623476,0.09372563559186825,0.07317367332198893,0.11856311579837825,0.11646647978675106,0.05271936243169795,0.12789475667217237,0.12173563914513247,0.11104399683167804,0.13612673928004915,0.09676152382630576,0.10976104069860204,0.09167621812341836,0.10907973751676864,0.07637452092475627,0.10562192891004013,0.1289506304029352,0.09327036882948508,0.1366344392063883,0.09896478182730245,0.09768257333801217,0.0935850561709261,0.10151542024936633,-0.014364389599588634,0.09392183990216058,0.08488422636498782,0.07992408057368133,0.08075155376728416,0.11066244256399382,0.10687973379741555,0.08461622061833479,0.12629922635292218,0.029985817271966086,0.10979344326271268,0.10708131019550238,0.14095950002302277,0.08524797596243905,0.14370911919721752,0.11076536269853648,0.11718896749691027,0.06235676484918251,0.10436860895763173,0.10333868899436716,0.10325844173742976,0.07961472090442362,0.084939769438302,0.07088011753236234,0.08781847765929923,0.08261331040376241,0.07755054214758761,0.12376049119128235,0.09970412505039011,0.11670171633914733,0.12383667152256778,0.08345621298327788,-0.017574286121404104,0.11747667823858221,0.12231029901367779,0.09670820505083522,0.1302147542211139,0.13153110714666028,0.09691003997359188,0.1036303419964214,0.09527106742163716,0.14624118584330542,0.12751611843888833,0.14112009542469361,0.09698164694756972,0.1097072350957029,0.12389297563811236,0.10617194616848474,0.1322215823895065,0.12287639733443712,0.11876816640620802,0.0947791118775465,0.1127223470772864,0.11420705075541904,0.1229237884838777,0.06713946389882719,0.1359836983749348,0.0854929109666473,0.11319519797554733,0.05423812145832113,0.07753550583402796,0.12419374872532707,0.062024650039937956,0.13231914248725585,0.1280557011804106,0.11618444991839127,0.13023582571344317,0.11045563721254209,0.11478074703967062,0.12743113842877896,0.06275989158226097,-0.01052533164570102,0.12816530971879103,0.11384919610871602,0.13779092643286356,0.13507258430305746,0.14326894605877932,0.1107065030352235,0.11504746145743439,0.09749780828650462,0.08506525315123259,0.0908019417995169,0.11952871319305186,0.055156644420722156,0.049827186922497935,0.12127977874955209,0.10577482970960683,0.09895854909573337,0.14056223771803578,0.1011305545892126,0.1258454065348057,0.12452070010308824,0.1083899775535817,0.10194008516182834,0.09614369816677959,0.08623638975027131,0.09642473345968028,0.1104876634628168,0.09056667851644301,0.12398137397129616,0.13779153370721936,0.09442917856425947,0.11532880430100695,0.09251486609681603,0.10530018506028072,0.08499746177157197,0.13132672316528232,0.1099943282943206,0.10684934271522806,0.1010256245666411,0.07769911790072503,0.12816271246299665,0.0889965339188653,0.12113152229139701,0.08222030054545287,0.1139054509592286,0.08686970587548143,0.11756639907912503,0.09849857507162013,0.1126920004367481,0.05917363613957427,0.06146366521297475,0.09369398121138584,0.12603776394497856,0.13133860213115078,0.07531564099362514,0.11574928818944458,0.06169323950374478,0.08357606422225833,0.1054459379355353,0.07194447500232476,0.10647148655113092,0.10840145247307087,0.10477705431432716,0.08861471655250308,0.1342909478553791,0.10436572975411468,0.08850221402006647,0.08045698329180068,0.05727392024961453,0.12344798987326372,0.10784215195196067,0.12061424610000188,0.11092809551946825,0.14831384373232814,0.12635270221959105,0.03732697673073904,0.09745520261109886,0.0818661478328358,0.11443144453753751,0.06785362254395877,0.1288940207404899,0.12942983529653274,0.1107762828112982,0.12206174077978832,0.12143749343439164,0.12237272016031453,0.038032954974354605,0.12916429378781685,0.11768767312765382,0.13562758676549408,0.09470038013680326,0.07581260576154636,0.11016727271018456,0.09324106582321379,0.10520673436775846,0.1263996483020129,0.1392758583742767,0.11472362818261939,0.10330676594541316,0.1325293931598353,0.07093060249877847,0.09106905526584319,0.10444314096183727,0.08189663805139424,0.12587953696608117,0.1056481897931923,0.04684631864975314,0.13583383857781034,0.10791516779857935,0.10318944184506879,0.14528752307199566,0.11049980864820297,0.03802813131863786,0.0635248252582386,0.10125655611819295,0.09730093043894433,0.08949117292362896,0.12965105958279433,0.14019025768993676,0.0950949083830065,0.09342688606297395,0.09787329160791891,0.11848064906612127],\"x0\":\" \",\"xaxis\":\"x\",\"y0\":\" \",\"yaxis\":\"y\",\"type\":\"box\"}],                        {\"template\":{\"data\":{\"bar\":[{\"error_x\":{\"color\":\"#2a3f5f\"},\"error_y\":{\"color\":\"#2a3f5f\"},\"marker\":{\"line\":{\"color\":\"#E5ECF6\",\"width\":0.5},\"pattern\":{\"fillmode\":\"overlay\",\"size\":10,\"solidity\":0.2}},\"type\":\"bar\"}],\"barpolar\":[{\"marker\":{\"line\":{\"color\":\"#E5ECF6\",\"width\":0.5},\"pattern\":{\"fillmode\":\"overlay\",\"size\":10,\"solidity\":0.2}},\"type\":\"barpolar\"}],\"carpet\":[{\"aaxis\":{\"endlinecolor\":\"#2a3f5f\",\"gridcolor\":\"white\",\"linecolor\":\"white\",\"minorgridcolor\":\"white\",\"startlinecolor\":\"#2a3f5f\"},\"baxis\":{\"endlinecolor\":\"#2a3f5f\",\"gridcolor\":\"white\",\"linecolor\":\"white\",\"minorgridcolor\":\"white\",\"startlinecolor\":\"#2a3f5f\"},\"type\":\"carpet\"}],\"choropleth\":[{\"colorbar\":{\"outlinewidth\":0,\"ticks\":\"\"},\"type\":\"choropleth\"}],\"contour\":[{\"colorbar\":{\"outlinewidth\":0,\"ticks\":\"\"},\"colorscale\":[[0.0,\"#0d0887\"],[0.1111111111111111,\"#46039f\"],[0.2222222222222222,\"#7201a8\"],[0.3333333333333333,\"#9c179e\"],[0.4444444444444444,\"#bd3786\"],[0.5555555555555556,\"#d8576b\"],[0.6666666666666666,\"#ed7953\"],[0.7777777777777778,\"#fb9f3a\"],[0.8888888888888888,\"#fdca26\"],[1.0,\"#f0f921\"]],\"type\":\"contour\"}],\"contourcarpet\":[{\"colorbar\":{\"outlinewidth\":0,\"ticks\":\"\"},\"type\":\"contourcarpet\"}],\"heatmap\":[{\"colorbar\":{\"outlinewidth\":0,\"ticks\":\"\"},\"colorscale\":[[0.0,\"#0d0887\"],[0.1111111111111111,\"#46039f\"],[0.2222222222222222,\"#7201a8\"],[0.3333333333333333,\"#9c179e\"],[0.4444444444444444,\"#bd3786\"],[0.5555555555555556,\"#d8576b\"],[0.6666666666666666,\"#ed7953\"],[0.7777777777777778,\"#fb9f3a\"],[0.8888888888888888,\"#fdca26\"],[1.0,\"#f0f921\"]],\"type\":\"heatmap\"}],\"heatmapgl\":[{\"colorbar\":{\"outlinewidth\":0,\"ticks\":\"\"},\"colorscale\":[[0.0,\"#0d0887\"],[0.1111111111111111,\"#46039f\"],[0.2222222222222222,\"#7201a8\"],[0.3333333333333333,\"#9c179e\"],[0.4444444444444444,\"#bd3786\"],[0.5555555555555556,\"#d8576b\"],[0.6666666666666666,\"#ed7953\"],[0.7777777777777778,\"#fb9f3a\"],[0.8888888888888888,\"#fdca26\"],[1.0,\"#f0f921\"]],\"type\":\"heatmapgl\"}],\"histogram\":[{\"marker\":{\"pattern\":{\"fillmode\":\"overlay\",\"size\":10,\"solidity\":0.2}},\"type\":\"histogram\"}],\"histogram2d\":[{\"colorbar\":{\"outlinewidth\":0,\"ticks\":\"\"},\"colorscale\":[[0.0,\"#0d0887\"],[0.1111111111111111,\"#46039f\"],[0.2222222222222222,\"#7201a8\"],[0.3333333333333333,\"#9c179e\"],[0.4444444444444444,\"#bd3786\"],[0.5555555555555556,\"#d8576b\"],[0.6666666666666666,\"#ed7953\"],[0.7777777777777778,\"#fb9f3a\"],[0.8888888888888888,\"#fdca26\"],[1.0,\"#f0f921\"]],\"type\":\"histogram2d\"}],\"histogram2dcontour\":[{\"colorbar\":{\"outlinewidth\":0,\"ticks\":\"\"},\"colorscale\":[[0.0,\"#0d0887\"],[0.1111111111111111,\"#46039f\"],[0.2222222222222222,\"#7201a8\"],[0.3333333333333333,\"#9c179e\"],[0.4444444444444444,\"#bd3786\"],[0.5555555555555556,\"#d8576b\"],[0.6666666666666666,\"#ed7953\"],[0.7777777777777778,\"#fb9f3a\"],[0.8888888888888888,\"#fdca26\"],[1.0,\"#f0f921\"]],\"type\":\"histogram2dcontour\"}],\"mesh3d\":[{\"colorbar\":{\"outlinewidth\":0,\"ticks\":\"\"},\"type\":\"mesh3d\"}],\"parcoords\":[{\"line\":{\"colorbar\":{\"outlinewidth\":0,\"ticks\":\"\"}},\"type\":\"parcoords\"}],\"pie\":[{\"automargin\":true,\"type\":\"pie\"}],\"scatter\":[{\"marker\":{\"colorbar\":{\"outlinewidth\":0,\"ticks\":\"\"}},\"type\":\"scatter\"}],\"scatter3d\":[{\"line\":{\"colorbar\":{\"outlinewidth\":0,\"ticks\":\"\"}},\"marker\":{\"colorbar\":{\"outlinewidth\":0,\"ticks\":\"\"}},\"type\":\"scatter3d\"}],\"scattercarpet\":[{\"marker\":{\"colorbar\":{\"outlinewidth\":0,\"ticks\":\"\"}},\"type\":\"scattercarpet\"}],\"scattergeo\":[{\"marker\":{\"colorbar\":{\"outlinewidth\":0,\"ticks\":\"\"}},\"type\":\"scattergeo\"}],\"scattergl\":[{\"marker\":{\"colorbar\":{\"outlinewidth\":0,\"ticks\":\"\"}},\"type\":\"scattergl\"}],\"scattermapbox\":[{\"marker\":{\"colorbar\":{\"outlinewidth\":0,\"ticks\":\"\"}},\"type\":\"scattermapbox\"}],\"scatterpolar\":[{\"marker\":{\"colorbar\":{\"outlinewidth\":0,\"ticks\":\"\"}},\"type\":\"scatterpolar\"}],\"scatterpolargl\":[{\"marker\":{\"colorbar\":{\"outlinewidth\":0,\"ticks\":\"\"}},\"type\":\"scatterpolargl\"}],\"scatterternary\":[{\"marker\":{\"colorbar\":{\"outlinewidth\":0,\"ticks\":\"\"}},\"type\":\"scatterternary\"}],\"surface\":[{\"colorbar\":{\"outlinewidth\":0,\"ticks\":\"\"},\"colorscale\":[[0.0,\"#0d0887\"],[0.1111111111111111,\"#46039f\"],[0.2222222222222222,\"#7201a8\"],[0.3333333333333333,\"#9c179e\"],[0.4444444444444444,\"#bd3786\"],[0.5555555555555556,\"#d8576b\"],[0.6666666666666666,\"#ed7953\"],[0.7777777777777778,\"#fb9f3a\"],[0.8888888888888888,\"#fdca26\"],[1.0,\"#f0f921\"]],\"type\":\"surface\"}],\"table\":[{\"cells\":{\"fill\":{\"color\":\"#EBF0F8\"},\"line\":{\"color\":\"white\"}},\"header\":{\"fill\":{\"color\":\"#C8D4E3\"},\"line\":{\"color\":\"white\"}},\"type\":\"table\"}]},\"layout\":{\"annotationdefaults\":{\"arrowcolor\":\"#2a3f5f\",\"arrowhead\":0,\"arrowwidth\":1},\"autotypenumbers\":\"strict\",\"coloraxis\":{\"colorbar\":{\"outlinewidth\":0,\"ticks\":\"\"}},\"colorscale\":{\"diverging\":[[0,\"#8e0152\"],[0.1,\"#c51b7d\"],[0.2,\"#de77ae\"],[0.3,\"#f1b6da\"],[0.4,\"#fde0ef\"],[0.5,\"#f7f7f7\"],[0.6,\"#e6f5d0\"],[0.7,\"#b8e186\"],[0.8,\"#7fbc41\"],[0.9,\"#4d9221\"],[1,\"#276419\"]],\"sequential\":[[0.0,\"#0d0887\"],[0.1111111111111111,\"#46039f\"],[0.2222222222222222,\"#7201a8\"],[0.3333333333333333,\"#9c179e\"],[0.4444444444444444,\"#bd3786\"],[0.5555555555555556,\"#d8576b\"],[0.6666666666666666,\"#ed7953\"],[0.7777777777777778,\"#fb9f3a\"],[0.8888888888888888,\"#fdca26\"],[1.0,\"#f0f921\"]],\"sequentialminus\":[[0.0,\"#0d0887\"],[0.1111111111111111,\"#46039f\"],[0.2222222222222222,\"#7201a8\"],[0.3333333333333333,\"#9c179e\"],[0.4444444444444444,\"#bd3786\"],[0.5555555555555556,\"#d8576b\"],[0.6666666666666666,\"#ed7953\"],[0.7777777777777778,\"#fb9f3a\"],[0.8888888888888888,\"#fdca26\"],[1.0,\"#f0f921\"]]},\"colorway\":[\"#636efa\",\"#EF553B\",\"#00cc96\",\"#ab63fa\",\"#FFA15A\",\"#19d3f3\",\"#FF6692\",\"#B6E880\",\"#FF97FF\",\"#FECB52\"],\"font\":{\"color\":\"#2a3f5f\"},\"geo\":{\"bgcolor\":\"white\",\"lakecolor\":\"white\",\"landcolor\":\"#E5ECF6\",\"showlakes\":true,\"showland\":true,\"subunitcolor\":\"white\"},\"hoverlabel\":{\"align\":\"left\"},\"hovermode\":\"closest\",\"mapbox\":{\"style\":\"light\"},\"paper_bgcolor\":\"white\",\"plot_bgcolor\":\"#E5ECF6\",\"polar\":{\"angularaxis\":{\"gridcolor\":\"white\",\"linecolor\":\"white\",\"ticks\":\"\"},\"bgcolor\":\"#E5ECF6\",\"radialaxis\":{\"gridcolor\":\"white\",\"linecolor\":\"white\",\"ticks\":\"\"}},\"scene\":{\"xaxis\":{\"backgroundcolor\":\"#E5ECF6\",\"gridcolor\":\"white\",\"gridwidth\":2,\"linecolor\":\"white\",\"showbackground\":true,\"ticks\":\"\",\"zerolinecolor\":\"white\"},\"yaxis\":{\"backgroundcolor\":\"#E5ECF6\",\"gridcolor\":\"white\",\"gridwidth\":2,\"linecolor\":\"white\",\"showbackground\":true,\"ticks\":\"\",\"zerolinecolor\":\"white\"},\"zaxis\":{\"backgroundcolor\":\"#E5ECF6\",\"gridcolor\":\"white\",\"gridwidth\":2,\"linecolor\":\"white\",\"showbackground\":true,\"ticks\":\"\",\"zerolinecolor\":\"white\"}},\"shapedefaults\":{\"line\":{\"color\":\"#2a3f5f\"}},\"ternary\":{\"aaxis\":{\"gridcolor\":\"white\",\"linecolor\":\"white\",\"ticks\":\"\"},\"baxis\":{\"gridcolor\":\"white\",\"linecolor\":\"white\",\"ticks\":\"\"},\"bgcolor\":\"#E5ECF6\",\"caxis\":{\"gridcolor\":\"white\",\"linecolor\":\"white\",\"ticks\":\"\"}},\"title\":{\"x\":0.05},\"xaxis\":{\"automargin\":true,\"gridcolor\":\"white\",\"linecolor\":\"white\",\"ticks\":\"\",\"title\":{\"standoff\":15},\"zerolinecolor\":\"white\",\"zerolinewidth\":2},\"yaxis\":{\"automargin\":true,\"gridcolor\":\"white\",\"linecolor\":\"white\",\"ticks\":\"\",\"title\":{\"standoff\":15},\"zerolinecolor\":\"white\",\"zerolinewidth\":2}}},\"xaxis\":{\"anchor\":\"y\",\"domain\":[0.0,1.0],\"title\":{\"text\":\"normality\"}},\"yaxis\":{\"anchor\":\"x\",\"domain\":[0.0,1.0]},\"legend\":{\"tracegroupgap\":0},\"margin\":{\"t\":60},\"boxmode\":\"group\",\"height\":400,\"width\":400},                        {\"responsive\": true}                    ).then(function(){\n",
              "                            \n",
              "var gd = document.getElementById('4ad8cc68-3977-4460-90db-4b756fe58c8f');\n",
              "var x = new MutationObserver(function (mutations, observer) {{\n",
              "        var display = window.getComputedStyle(gd).display;\n",
              "        if (!display || display === 'none') {{\n",
              "            console.log([gd, 'removed!']);\n",
              "            Plotly.purge(gd);\n",
              "            observer.disconnect();\n",
              "        }}\n",
              "}});\n",
              "\n",
              "// Listen for the removal of the full notebook cells\n",
              "var notebookContainer = gd.closest('#notebook-container');\n",
              "if (notebookContainer) {{\n",
              "    x.observe(notebookContainer, {childList: true});\n",
              "}}\n",
              "\n",
              "// Listen for the clearing of the current output cell\n",
              "var outputEl = gd.closest('.output');\n",
              "if (outputEl) {{\n",
              "    x.observe(outputEl, {childList: true});\n",
              "}}\n",
              "\n",
              "                        })                };                            </script>        </div>\n",
              "</body>\n",
              "</html>"
            ]
          },
          "metadata": {}
        }
      ],
      "source": [
        "import plotly.express as px\n",
        "px.box(normality_df, x='normality', orientation='h', width=400, height=400)"
      ]
    },
    {
      "cell_type": "code",
      "execution_count": null,
      "metadata": {
        "id": "sTVOUiyma73J",
        "colab": {
          "base_uri": "https://localhost:8080/"
        },
        "outputId": "3de58c88-5cca-4757-fcc5-65721fb038f5"
      },
      "outputs": [
        {
          "output_type": "stream",
          "name": "stdout",
          "text": [
            "49 observations are removed from train_set\n"
          ]
        }
      ],
      "source": [
        "X_train = X_train[normality_df['normality'].values>=threshold]\n",
        "y_train = y_train[normality_df['normality'].values>=threshold]\n",
        "\n",
        "print('{} observations are removed from train_set'.format(train.shape[0] - X_train.shape[0]))"
      ]
    },
    {
      "cell_type": "markdown",
      "source": [
        "## 1-9. Response variable transformation (*optional*)\n",
        "\n",
        "Linear regression analysis assumes the distribution of error term (residual) follows gaussian (normal) distribution.\n",
        "\n",
        "[Effect of transforming the targets in regression model](https://scikit-learn.org/stable/auto_examples/compose/plot_transformed_target.html)"
      ],
      "metadata": {
        "id": "5jV-SSWCUBzN"
      }
    },
    {
      "cell_type": "code",
      "source": [
        "import plotly.express as px\n",
        "px.histogram(y_train, width=400, height=400)"
      ],
      "metadata": {
        "id": "YIKSmb6wUG--",
        "colab": {
          "base_uri": "https://localhost:8080/",
          "height": 417
        },
        "outputId": "63f80d4f-ce68-4601-a859-f37902b2667e"
      },
      "execution_count": null,
      "outputs": [
        {
          "output_type": "display_data",
          "data": {
            "text/html": [
              "<html>\n",
              "<head><meta charset=\"utf-8\" /></head>\n",
              "<body>\n",
              "    <div>            <script src=\"https://cdnjs.cloudflare.com/ajax/libs/mathjax/2.7.5/MathJax.js?config=TeX-AMS-MML_SVG\"></script><script type=\"text/javascript\">if (window.MathJax) {MathJax.Hub.Config({SVG: {font: \"STIX-Web\"}});}</script>                <script type=\"text/javascript\">window.PlotlyConfig = {MathJaxConfig: 'local'};</script>\n",
              "        <script src=\"https://cdn.plot.ly/plotly-2.8.3.min.js\"></script>                <div id=\"540beb8e-5dd0-4d4c-b1e7-0fe3402a07ab\" class=\"plotly-graph-div\" style=\"height:400px; width:400px;\"></div>            <script type=\"text/javascript\">                                    window.PLOTLYENV=window.PLOTLYENV || {};                                    if (document.getElementById(\"540beb8e-5dd0-4d4c-b1e7-0fe3402a07ab\")) {                    Plotly.newPlot(                        \"540beb8e-5dd0-4d4c-b1e7-0fe3402a07ab\",                        [{\"alignmentgroup\":\"True\",\"bingroup\":\"x\",\"hovertemplate\":\"variable=0<br>value=%{x}<br>count=%{y}<extra></extra>\",\"legendgroup\":\"0\",\"marker\":{\"color\":\"#636efa\",\"pattern\":{\"shape\":\"\"}},\"name\":\"0\",\"offsetgroup\":\"0\",\"orientation\":\"v\",\"showlegend\":true,\"x\":[208500.0,181500.0,223500.0,140000.0,250000.0,143000.0,307000.0,200000.0,129900.0,129500.0,345000.0,144000.0,279500.0,157000.0,132000.0,149000.0,90000.0,159000.0,139000.0,325300.0,139400.0,230000.0,129900.0,154000.0,256300.0,134800.0,306000.0,207500.0,68500.0,40000.0,149350.0,179900.0,165500.0,277500.0,309000.0,145000.0,153000.0,109000.0,160000.0,170000.0,144000.0,130250.0,141000.0,319900.0,239686.0,249700.0,113000.0,127000.0,177000.0,114500.0,385000.0,130000.0,180500.0,172500.0,196500.0,124900.0,158000.0,101000.0,202500.0,140000.0,219500.0,317000.0,180000.0,226000.0,80000.0,225000.0,244000.0,129500.0,185000.0,144900.0,107400.0,91000.0,135750.0,127000.0,136500.0,110000.0,193500.0,153500.0,245000.0,126500.0,168500.0,260000.0,174000.0,164500.0,123600.0,109900.0,98600.0,163500.0,204750.0,185000.0,214000.0,94750.0,83000.0,128950.0,205000.0,178000.0,118964.0,198900.0,169500.0,250000.0,100000.0,115000.0,190000.0,136900.0,180000.0,383970.0,217000.0,259500.0,176000.0,139000.0,155000.0,320000.0,163990.0,180000.0,100000.0,136000.0,153900.0,181000.0,128000.0,87000.0,155000.0,150000.0,226000.0,244000.0,150750.0,220000.0,180000.0,174000.0,143000.0,171000.0,230000.0,231500.0,115000.0,260000.0,166000.0,204000.0,125000.0,130000.0,105000.0,222500.0,141000.0,115000.0,122000.0,372402.0,190000.0,235000.0,125000.0,109500.0,269500.0,254900.0,320000.0,162500.0,412500.0,220000.0,103200.0,152000.0,127500.0,190000.0,325624.0,183500.0,228000.0,128500.0,215000.0,239000.0,163000.0,184000.0,243000.0,211000.0,172500.0,501837.0,100000.0,177000.0,200100.0,120000.0,200000.0,127000.0,475000.0,173000.0,135000.0,153337.0,286000.0,315000.0,184000.0,192000.0,130000.0,127000.0,148500.0,311872.0,235000.0,104000.0,274900.0,140000.0,171500.0,112000.0,149000.0,110000.0,180500.0,143900.0,141000.0,277000.0,145000.0,98000.0,186000.0,252678.0,156000.0,161750.0,134450.0,210000.0,107000.0,311500.0,167240.0,204900.0,200000.0,179900.0,97000.0,386250.0,112000.0,290000.0,106000.0,125000.0,192500.0,148000.0,403000.0,94500.0,128200.0,216500.0,89500.0,185500.0,194500.0,318000.0,113000.0,262500.0,110500.0,79000.0,120000.0,205000.0,241500.0,140000.0,180000.0,277000.0,76500.0,235000.0,173000.0,158000.0,145000.0,230000.0,207500.0,220000.0,231500.0,97000.0,176000.0,276000.0,151000.0,130000.0,73000.0,175500.0,185000.0,179500.0,120500.0,148000.0,266000.0,290000.0,139000.0,124500.0,205000.0,201000.0,141000.0,415298.0,192000.0,228500.0,185000.0,207500.0,244600.0,179200.0,164700.0,159000.0,88000.0,122000.0,153575.0,233230.0,135900.0,131000.0,235000.0,167000.0,142500.0,152000.0,239000.0,175000.0,158500.0,157000.0,267000.0,205000.0,149900.0,295000.0,305900.0,225000.0,89500.0,82500.0,360000.0,165600.0,132000.0,119900.0,375000.0,178000.0,188500.0,260000.0,270000.0,260000.0,187500.0,342643.0,354000.0,301000.0,126175.0,242000.0,87000.0,324000.0,145250.0,214500.0,78000.0,119000.0,139000.0,284000.0,207000.0,192000.0,377426.0,214000.0,202500.0,155000.0,202900.0,82000.0,266000.0,85000.0,140200.0,151500.0,157500.0,154000.0,437154.0,318061.0,190000.0,95000.0,105900.0,140000.0,177500.0,173000.0,134000.0,130000.0,280000.0,156000.0,145000.0,118000.0,190000.0,147000.0,159000.0,165000.0,132000.0,162000.0,172400.0,134432.0,125000.0,123000.0,219500.0,148000.0,340000.0,394432.0,179000.0,127000.0,187750.0,213500.0,76000.0,240000.0,192000.0,81000.0,125000.0,191000.0,426000.0,119000.0,215000.0,106500.0,100000.0,109000.0,129000.0,123000.0,169500.0,67000.0,241000.0,245500.0,164990.0,108000.0,258000.0,168000.0,150000.0,115000.0,177000.0,280000.0,339750.0,60000.0,145000.0,222000.0,115000.0,228000.0,181134.0,149500.0,239000.0,126000.0,142000.0,206300.0,215000.0,113000.0,315000.0,139000.0,135000.0,275000.0,109008.0,195400.0,175000.0,85400.0,122500.0,181000.0,81000.0,212000.0,116000.0,119000.0,90350.0,110000.0,555000.0,162900.0,172500.0,210000.0,127500.0,190000.0,199900.0,119500.0,120000.0,110000.0,280000.0,204000.0,210000.0,188000.0,175500.0,98000.0,256000.0,161000.0,110000.0,263435.0,155000.0,62383.0,188700.0,124000.0,178740.0,167000.0,146500.0,250000.0,187000.0,212000.0,190000.0,148000.0,440000.0,251000.0,132500.0,208900.0,380000.0,297000.0,89471.0,326000.0,374000.0,155000.0,164000.0,132500.0,147000.0,156000.0,175000.0,86000.0,115000.0,133000.0,172785.0,155000.0,91300.0,430000.0,184000.0,130000.0,120000.0,113000.0,226700.0,140000.0,289000.0,147000.0,124500.0,215000.0,208300.0,161000.0,124500.0,164900.0,202665.0,129900.0,134000.0,96500.0,402861.0,158000.0,265000.0,211000.0,234000.0,150000.0,159000.0,315750.0,176000.0,132000.0,446261.0,86000.0,200624.0,175000.0,128000.0,107500.0,178000.0,107500.0,188000.0,111250.0,158000.0,272000.0,315000.0,248000.0,213250.0,133000.0,179665.0,229000.0,210000.0,129500.0,125000.0,263000.0,140000.0,112500.0,255500.0,108000.0,284000.0,113000.0,141000.0,108000.0,175000.0,234000.0,121500.0,170000.0,108000.0,185000.0,268000.0,128000.0,325000.0,214000.0,316600.0,135960.0,142600.0,120000.0,224500.0,170000.0,139000.0,118500.0,145000.0,164500.0,146000.0,131500.0,181900.0,253293.0,118500.0,325000.0,133000.0,369900.0,130000.0,137000.0,79500.0,185900.0,451950.0,138000.0,140000.0,110000.0,319000.0,114504.0,194201.0,217500.0,151000.0,275000.0,141000.0,220000.0,151000.0,221000.0,205000.0,152000.0,225000.0,359100.0,118500.0,313000.0,148000.0,261500.0,147000.0,75500.0,137500.0,183200.0,105500.0,314813.0,305000.0,67000.0,240000.0,135000.0,168500.0,165150.0,160000.0,139900.0,153000.0,135000.0,168500.0,124000.0,209500.0,82500.0,139400.0,144000.0,93000.0,85000.0,264561.0,274000.0,226000.0,345000.0,152000.0,370878.0,143250.0,98300.0,155000.0,155000.0,84500.0,205950.0,108000.0,191000.0,135000.0,350000.0,88000.0,145500.0,149000.0,97500.0,167000.0,197900.0,402000.0,110000.0,137500.0,423000.0,230500.0,129000.0,193500.0,168000.0,137500.0,173500.0,103600.0,165000.0,257500.0,140000.0,148500.0,87000.0,109500.0,372500.0,128500.0,143000.0,159434.0,173000.0,285000.0,221000.0,207500.0,227875.0,148800.0,392000.0,194700.0,141000.0,755000.0,335000.0,108480.0,141500.0,176000.0,89000.0,123500.0,138500.0,196000.0,312500.0,140000.0,361919.0,140000.0,213000.0,302000.0,254000.0,179540.0,109900.0,52000.0,102776.0,189000.0,129000.0,130500.0,165000.0,159500.0,157000.0,341000.0,128500.0,275000.0,143000.0,124500.0,135000.0,320000.0,120500.0,222000.0,194500.0,110000.0,103000.0,236500.0,187500.0,222500.0,131400.0,108000.0,163000.0,93500.0,239900.0,179000.0,190000.0,132000.0,142000.0,179000.0,175000.0,180000.0,299800.0,236000.0,260400.0,96500.0,162000.0,217000.0,275500.0,156000.0,172500.0,212000.0,158900.0,179400.0,290000.0,127500.0,100000.0,215200.0,337000.0,270000.0,264132.0,196500.0,160000.0,216837.0,134900.0,102000.0,107000.0,114500.0,395000.0,162000.0,221500.0,142500.0,144000.0,135000.0,176000.0,175900.0,187100.0,165500.0,128000.0,161500.0,139000.0,233000.0,107900.0,187500.0,160200.0,146800.0,269790.0,225000.0,194500.0,171000.0,143500.0,110000.0,485000.0,175000.0,200000.0,109900.0,189000.0,582933.0,118000.0,227680.0,135500.0,223500.0,159950.0,181000.0,144500.0,55993.0,157900.0,116000.0,224900.0,137000.0,271000.0,155000.0,224000.0,183000.0,93000.0,225000.0,139500.0,232600.0,385000.0,109500.0,189000.0,147400.0,166000.0,151000.0,237000.0,167000.0,139950.0,128000.0,153500.0,100000.0,144000.0,130500.0,140000.0,157500.0,174900.0,153900.0,171000.0,213000.0,133500.0,240000.0,187000.0,131500.0,215000.0,164000.0,158000.0,170000.0,127000.0,147000.0,174000.0,152000.0,250000.0,189950.0,131500.0,152000.0,132500.0,250580.0,148500.0,248900.0,129000.0,169000.0,236000.0,109500.0,200500.0,116000.0,133000.0,66500.0,303477.0,132250.0,350000.0,148000.0,136500.0,157000.0,187500.0,178000.0,118500.0,100000.0,328900.0,145000.0,135500.0,268000.0,149500.0,122900.0,172500.0,154500.0,165000.0,118858.0,140000.0,106500.0,142953.0,611657.0,135000.0,110000.0,153000.0,180000.0,240000.0,125500.0,128000.0,255000.0,250000.0,131000.0,174000.0,143500.0,88000.0,145000.0,173733.0,75000.0,35311.0,135000.0,238000.0,176500.0,201000.0,145900.0,169990.0,193000.0,207500.0,175000.0,285000.0,176000.0,236500.0,222000.0,201000.0,117500.0,320000.0,190000.0,242000.0,79900.0,184900.0,253000.0,239799.0,244400.0,150900.0,214000.0,143000.0,137500.0,124900.0,143000.0,270000.0,192500.0,197500.0,129000.0,119900.0,133900.0,172000.0,145000.0,124000.0,132000.0,185000.0,155000.0,116500.0,272000.0,155000.0,239000.0,214900.0,178900.0,160000.0,135000.0,37900.0,140000.0,135000.0,173000.0,99500.0,182000.0,167500.0,165000.0,85500.0,199900.0,110000.0,139000.0,178400.0,336000.0,159895.0,255900.0,126000.0,125000.0,117000.0,395192.0,195000.0,197000.0,348000.0,168000.0,187000.0,173900.0,337500.0,121600.0,136500.0,185000.0,91000.0,206000.0,82000.0,86000.0,232000.0,136905.0,181000.0,149900.0,163500.0,88000.0,240000.0,102000.0,135000.0,100000.0,165000.0,85000.0,119200.0,227000.0,203000.0,187500.0,160000.0,213490.0,176000.0,194000.0,87000.0,191000.0,287000.0,112500.0,167500.0,293077.0,105000.0,118000.0,197000.0,310000.0,230000.0,119750.0,84000.0,315500.0,287000.0,97000.0,80000.0,155000.0,173000.0,196000.0,262280.0,278000.0,139600.0,145000.0,115000.0,84900.0,176485.0,200141.0,165000.0,144500.0,255000.0,180000.0,185850.0,248000.0,335000.0,220000.0,213500.0,81000.0,90000.0,110500.0,154000.0,328000.0,178000.0,167900.0,151400.0,135000.0,135000.0,154000.0,91500.0,159500.0,194000.0,219500.0,170000.0,138800.0,155900.0,126000.0,145000.0,133000.0,192000.0,160000.0,187500.0,147000.0,83500.0,252000.0,137500.0,197000.0,160000.0,136500.0,146000.0,129000.0,176432.0,127000.0,170000.0,128000.0,157000.0,119500.0,135000.0,159500.0,106000.0,325000.0,179900.0,274725.0,181000.0,280000.0,188000.0,205000.0,129900.0,134500.0,117000.0,318000.0,184100.0,130000.0,140000.0,133700.0,118400.0,212900.0,112000.0,118000.0,163900.0,115000.0,174000.0,259000.0,215000.0,140000.0,135000.0,93500.0,117500.0,239500.0,169000.0,102000.0,119000.0,94000.0,196000.0,144000.0,139000.0,197500.0,424870.0,80000.0,80000.0,149000.0,180000.0,174500.0,116900.0,143000.0,124000.0,149900.0,230000.0,120500.0,201800.0,218000.0,179900.0,230000.0,235128.0,185000.0,146000.0,224000.0,129000.0,108959.0,194000.0,233170.0,245350.0,173000.0,235000.0,625000.0,171000.0,163000.0,171900.0,200500.0,239000.0,285000.0,119500.0,115000.0,154900.0,93000.0,250000.0,392500.0,745000.0,120000.0,186700.0,104900.0,262000.0,195000.0,189000.0,168000.0,174000.0,125000.0,165000.0,158000.0,176000.0,219210.0,144000.0,178000.0,148000.0,116050.0,197900.0,117000.0,213000.0,153500.0,271900.0,107000.0,200000.0,140000.0,290000.0,189000.0,164000.0,113000.0,145000.0,134500.0,125000.0,112000.0,229456.0,80500.0,91500.0,115000.0,134000.0,143000.0,137900.0,184000.0,145000.0,214000.0,147000.0,367294.0,127000.0,132500.0,101800.0,142000.0,138887.0,175500.0,195000.0,142500.0,265900.0,224900.0,248328.0,170000.0,465000.0,230000.0,178000.0,186500.0,169900.0,129500.0,119000.0,244000.0,171750.0,130000.0,294000.0,165400.0,127500.0,301500.0,99900.0,190000.0,151000.0,181000.0,128900.0,161500.0,180500.0,181000.0,183900.0,378500.0,381000.0,144000.0,260000.0,185750.0,137000.0,177000.0,139000.0,162000.0,197900.0,237000.0,68400.0,227000.0,180000.0,150500.0,139000.0,169000.0,132500.0,143000.0,190000.0,278000.0,281000.0,180500.0,119500.0,107500.0,162900.0,115000.0,138500.0,155000.0,140000.0,154000.0,225000.0,177500.0,290000.0,232000.0,130000.0,325000.0,202500.0,138000.0,147000.0,179200.0,335000.0,203000.0,302000.0,333168.0,119000.0,206900.0,295493.0,208900.0,275000.0,111000.0,156500.0,72500.0,190000.0,82500.0,147000.0,55000.0,79000.0,130500.0,256000.0,176500.0,227000.0,132500.0,100000.0,125500.0,125000.0,167900.0,135000.0,200000.0,128500.0,123000.0,155000.0,228500.0,177000.0,155835.0,108500.0,262500.0,283463.0,215000.0,122000.0,200000.0,171000.0,134900.0,410000.0,235000.0,170000.0,110000.0,149900.0,177500.0,315000.0,189000.0,260000.0,104900.0,156932.0,144152.0,216000.0,193000.0,127000.0,144000.0,232000.0,105000.0,165500.0,274300.0,466500.0,250000.0,239000.0,91000.0,117000.0,83000.0,167500.0,58500.0,237500.0,157000.0,112000.0,105000.0,125500.0,250000.0,136000.0,377500.0,131000.0,235000.0,124000.0,123000.0,163000.0,246578.0,281213.0,160000.0,137500.0,138000.0,137450.0,120000.0,193000.0,193879.0,282922.0,105000.0,275000.0,133000.0,112000.0,125500.0,215000.0,230000.0,140000.0,257000.0,207000.0,175900.0,122500.0,340000.0,124000.0,223000.0,179900.0,127500.0,136500.0,144000.0,142000.0,271000.0,140000.0,119000.0,182900.0,192140.0,143750.0,64500.0,186500.0,160000.0,174000.0,120500.0,394617.0,149700.0,197000.0,191000.0,149300.0,310000.0,121000.0,179600.0,129000.0,157900.0,240000.0,112000.0,136000.0,287090.0,145000.0,84500.0,185000.0,175000.0,210000.0,266500.0,142125.0,147500.0],\"xaxis\":\"x\",\"yaxis\":\"y\",\"type\":\"histogram\"}],                        {\"template\":{\"data\":{\"bar\":[{\"error_x\":{\"color\":\"#2a3f5f\"},\"error_y\":{\"color\":\"#2a3f5f\"},\"marker\":{\"line\":{\"color\":\"#E5ECF6\",\"width\":0.5},\"pattern\":{\"fillmode\":\"overlay\",\"size\":10,\"solidity\":0.2}},\"type\":\"bar\"}],\"barpolar\":[{\"marker\":{\"line\":{\"color\":\"#E5ECF6\",\"width\":0.5},\"pattern\":{\"fillmode\":\"overlay\",\"size\":10,\"solidity\":0.2}},\"type\":\"barpolar\"}],\"carpet\":[{\"aaxis\":{\"endlinecolor\":\"#2a3f5f\",\"gridcolor\":\"white\",\"linecolor\":\"white\",\"minorgridcolor\":\"white\",\"startlinecolor\":\"#2a3f5f\"},\"baxis\":{\"endlinecolor\":\"#2a3f5f\",\"gridcolor\":\"white\",\"linecolor\":\"white\",\"minorgridcolor\":\"white\",\"startlinecolor\":\"#2a3f5f\"},\"type\":\"carpet\"}],\"choropleth\":[{\"colorbar\":{\"outlinewidth\":0,\"ticks\":\"\"},\"type\":\"choropleth\"}],\"contour\":[{\"colorbar\":{\"outlinewidth\":0,\"ticks\":\"\"},\"colorscale\":[[0.0,\"#0d0887\"],[0.1111111111111111,\"#46039f\"],[0.2222222222222222,\"#7201a8\"],[0.3333333333333333,\"#9c179e\"],[0.4444444444444444,\"#bd3786\"],[0.5555555555555556,\"#d8576b\"],[0.6666666666666666,\"#ed7953\"],[0.7777777777777778,\"#fb9f3a\"],[0.8888888888888888,\"#fdca26\"],[1.0,\"#f0f921\"]],\"type\":\"contour\"}],\"contourcarpet\":[{\"colorbar\":{\"outlinewidth\":0,\"ticks\":\"\"},\"type\":\"contourcarpet\"}],\"heatmap\":[{\"colorbar\":{\"outlinewidth\":0,\"ticks\":\"\"},\"colorscale\":[[0.0,\"#0d0887\"],[0.1111111111111111,\"#46039f\"],[0.2222222222222222,\"#7201a8\"],[0.3333333333333333,\"#9c179e\"],[0.4444444444444444,\"#bd3786\"],[0.5555555555555556,\"#d8576b\"],[0.6666666666666666,\"#ed7953\"],[0.7777777777777778,\"#fb9f3a\"],[0.8888888888888888,\"#fdca26\"],[1.0,\"#f0f921\"]],\"type\":\"heatmap\"}],\"heatmapgl\":[{\"colorbar\":{\"outlinewidth\":0,\"ticks\":\"\"},\"colorscale\":[[0.0,\"#0d0887\"],[0.1111111111111111,\"#46039f\"],[0.2222222222222222,\"#7201a8\"],[0.3333333333333333,\"#9c179e\"],[0.4444444444444444,\"#bd3786\"],[0.5555555555555556,\"#d8576b\"],[0.6666666666666666,\"#ed7953\"],[0.7777777777777778,\"#fb9f3a\"],[0.8888888888888888,\"#fdca26\"],[1.0,\"#f0f921\"]],\"type\":\"heatmapgl\"}],\"histogram\":[{\"marker\":{\"pattern\":{\"fillmode\":\"overlay\",\"size\":10,\"solidity\":0.2}},\"type\":\"histogram\"}],\"histogram2d\":[{\"colorbar\":{\"outlinewidth\":0,\"ticks\":\"\"},\"colorscale\":[[0.0,\"#0d0887\"],[0.1111111111111111,\"#46039f\"],[0.2222222222222222,\"#7201a8\"],[0.3333333333333333,\"#9c179e\"],[0.4444444444444444,\"#bd3786\"],[0.5555555555555556,\"#d8576b\"],[0.6666666666666666,\"#ed7953\"],[0.7777777777777778,\"#fb9f3a\"],[0.8888888888888888,\"#fdca26\"],[1.0,\"#f0f921\"]],\"type\":\"histogram2d\"}],\"histogram2dcontour\":[{\"colorbar\":{\"outlinewidth\":0,\"ticks\":\"\"},\"colorscale\":[[0.0,\"#0d0887\"],[0.1111111111111111,\"#46039f\"],[0.2222222222222222,\"#7201a8\"],[0.3333333333333333,\"#9c179e\"],[0.4444444444444444,\"#bd3786\"],[0.5555555555555556,\"#d8576b\"],[0.6666666666666666,\"#ed7953\"],[0.7777777777777778,\"#fb9f3a\"],[0.8888888888888888,\"#fdca26\"],[1.0,\"#f0f921\"]],\"type\":\"histogram2dcontour\"}],\"mesh3d\":[{\"colorbar\":{\"outlinewidth\":0,\"ticks\":\"\"},\"type\":\"mesh3d\"}],\"parcoords\":[{\"line\":{\"colorbar\":{\"outlinewidth\":0,\"ticks\":\"\"}},\"type\":\"parcoords\"}],\"pie\":[{\"automargin\":true,\"type\":\"pie\"}],\"scatter\":[{\"marker\":{\"colorbar\":{\"outlinewidth\":0,\"ticks\":\"\"}},\"type\":\"scatter\"}],\"scatter3d\":[{\"line\":{\"colorbar\":{\"outlinewidth\":0,\"ticks\":\"\"}},\"marker\":{\"colorbar\":{\"outlinewidth\":0,\"ticks\":\"\"}},\"type\":\"scatter3d\"}],\"scattercarpet\":[{\"marker\":{\"colorbar\":{\"outlinewidth\":0,\"ticks\":\"\"}},\"type\":\"scattercarpet\"}],\"scattergeo\":[{\"marker\":{\"colorbar\":{\"outlinewidth\":0,\"ticks\":\"\"}},\"type\":\"scattergeo\"}],\"scattergl\":[{\"marker\":{\"colorbar\":{\"outlinewidth\":0,\"ticks\":\"\"}},\"type\":\"scattergl\"}],\"scattermapbox\":[{\"marker\":{\"colorbar\":{\"outlinewidth\":0,\"ticks\":\"\"}},\"type\":\"scattermapbox\"}],\"scatterpolar\":[{\"marker\":{\"colorbar\":{\"outlinewidth\":0,\"ticks\":\"\"}},\"type\":\"scatterpolar\"}],\"scatterpolargl\":[{\"marker\":{\"colorbar\":{\"outlinewidth\":0,\"ticks\":\"\"}},\"type\":\"scatterpolargl\"}],\"scatterternary\":[{\"marker\":{\"colorbar\":{\"outlinewidth\":0,\"ticks\":\"\"}},\"type\":\"scatterternary\"}],\"surface\":[{\"colorbar\":{\"outlinewidth\":0,\"ticks\":\"\"},\"colorscale\":[[0.0,\"#0d0887\"],[0.1111111111111111,\"#46039f\"],[0.2222222222222222,\"#7201a8\"],[0.3333333333333333,\"#9c179e\"],[0.4444444444444444,\"#bd3786\"],[0.5555555555555556,\"#d8576b\"],[0.6666666666666666,\"#ed7953\"],[0.7777777777777778,\"#fb9f3a\"],[0.8888888888888888,\"#fdca26\"],[1.0,\"#f0f921\"]],\"type\":\"surface\"}],\"table\":[{\"cells\":{\"fill\":{\"color\":\"#EBF0F8\"},\"line\":{\"color\":\"white\"}},\"header\":{\"fill\":{\"color\":\"#C8D4E3\"},\"line\":{\"color\":\"white\"}},\"type\":\"table\"}]},\"layout\":{\"annotationdefaults\":{\"arrowcolor\":\"#2a3f5f\",\"arrowhead\":0,\"arrowwidth\":1},\"autotypenumbers\":\"strict\",\"coloraxis\":{\"colorbar\":{\"outlinewidth\":0,\"ticks\":\"\"}},\"colorscale\":{\"diverging\":[[0,\"#8e0152\"],[0.1,\"#c51b7d\"],[0.2,\"#de77ae\"],[0.3,\"#f1b6da\"],[0.4,\"#fde0ef\"],[0.5,\"#f7f7f7\"],[0.6,\"#e6f5d0\"],[0.7,\"#b8e186\"],[0.8,\"#7fbc41\"],[0.9,\"#4d9221\"],[1,\"#276419\"]],\"sequential\":[[0.0,\"#0d0887\"],[0.1111111111111111,\"#46039f\"],[0.2222222222222222,\"#7201a8\"],[0.3333333333333333,\"#9c179e\"],[0.4444444444444444,\"#bd3786\"],[0.5555555555555556,\"#d8576b\"],[0.6666666666666666,\"#ed7953\"],[0.7777777777777778,\"#fb9f3a\"],[0.8888888888888888,\"#fdca26\"],[1.0,\"#f0f921\"]],\"sequentialminus\":[[0.0,\"#0d0887\"],[0.1111111111111111,\"#46039f\"],[0.2222222222222222,\"#7201a8\"],[0.3333333333333333,\"#9c179e\"],[0.4444444444444444,\"#bd3786\"],[0.5555555555555556,\"#d8576b\"],[0.6666666666666666,\"#ed7953\"],[0.7777777777777778,\"#fb9f3a\"],[0.8888888888888888,\"#fdca26\"],[1.0,\"#f0f921\"]]},\"colorway\":[\"#636efa\",\"#EF553B\",\"#00cc96\",\"#ab63fa\",\"#FFA15A\",\"#19d3f3\",\"#FF6692\",\"#B6E880\",\"#FF97FF\",\"#FECB52\"],\"font\":{\"color\":\"#2a3f5f\"},\"geo\":{\"bgcolor\":\"white\",\"lakecolor\":\"white\",\"landcolor\":\"#E5ECF6\",\"showlakes\":true,\"showland\":true,\"subunitcolor\":\"white\"},\"hoverlabel\":{\"align\":\"left\"},\"hovermode\":\"closest\",\"mapbox\":{\"style\":\"light\"},\"paper_bgcolor\":\"white\",\"plot_bgcolor\":\"#E5ECF6\",\"polar\":{\"angularaxis\":{\"gridcolor\":\"white\",\"linecolor\":\"white\",\"ticks\":\"\"},\"bgcolor\":\"#E5ECF6\",\"radialaxis\":{\"gridcolor\":\"white\",\"linecolor\":\"white\",\"ticks\":\"\"}},\"scene\":{\"xaxis\":{\"backgroundcolor\":\"#E5ECF6\",\"gridcolor\":\"white\",\"gridwidth\":2,\"linecolor\":\"white\",\"showbackground\":true,\"ticks\":\"\",\"zerolinecolor\":\"white\"},\"yaxis\":{\"backgroundcolor\":\"#E5ECF6\",\"gridcolor\":\"white\",\"gridwidth\":2,\"linecolor\":\"white\",\"showbackground\":true,\"ticks\":\"\",\"zerolinecolor\":\"white\"},\"zaxis\":{\"backgroundcolor\":\"#E5ECF6\",\"gridcolor\":\"white\",\"gridwidth\":2,\"linecolor\":\"white\",\"showbackground\":true,\"ticks\":\"\",\"zerolinecolor\":\"white\"}},\"shapedefaults\":{\"line\":{\"color\":\"#2a3f5f\"}},\"ternary\":{\"aaxis\":{\"gridcolor\":\"white\",\"linecolor\":\"white\",\"ticks\":\"\"},\"baxis\":{\"gridcolor\":\"white\",\"linecolor\":\"white\",\"ticks\":\"\"},\"bgcolor\":\"#E5ECF6\",\"caxis\":{\"gridcolor\":\"white\",\"linecolor\":\"white\",\"ticks\":\"\"}},\"title\":{\"x\":0.05},\"xaxis\":{\"automargin\":true,\"gridcolor\":\"white\",\"linecolor\":\"white\",\"ticks\":\"\",\"title\":{\"standoff\":15},\"zerolinecolor\":\"white\",\"zerolinewidth\":2},\"yaxis\":{\"automargin\":true,\"gridcolor\":\"white\",\"linecolor\":\"white\",\"ticks\":\"\",\"title\":{\"standoff\":15},\"zerolinecolor\":\"white\",\"zerolinewidth\":2}}},\"xaxis\":{\"anchor\":\"y\",\"domain\":[0.0,1.0],\"title\":{\"text\":\"value\"}},\"yaxis\":{\"anchor\":\"x\",\"domain\":[0.0,1.0],\"title\":{\"text\":\"count\"}},\"legend\":{\"title\":{\"text\":\"variable\"},\"tracegroupgap\":0},\"margin\":{\"t\":60},\"barmode\":\"relative\",\"height\":400,\"width\":400},                        {\"responsive\": true}                    ).then(function(){\n",
              "                            \n",
              "var gd = document.getElementById('540beb8e-5dd0-4d4c-b1e7-0fe3402a07ab');\n",
              "var x = new MutationObserver(function (mutations, observer) {{\n",
              "        var display = window.getComputedStyle(gd).display;\n",
              "        if (!display || display === 'none') {{\n",
              "            console.log([gd, 'removed!']);\n",
              "            Plotly.purge(gd);\n",
              "            observer.disconnect();\n",
              "        }}\n",
              "}});\n",
              "\n",
              "// Listen for the removal of the full notebook cells\n",
              "var notebookContainer = gd.closest('#notebook-container');\n",
              "if (notebookContainer) {{\n",
              "    x.observe(notebookContainer, {childList: true});\n",
              "}}\n",
              "\n",
              "// Listen for the clearing of the current output cell\n",
              "var outputEl = gd.closest('.output');\n",
              "if (outputEl) {{\n",
              "    x.observe(outputEl, {childList: true});\n",
              "}}\n",
              "\n",
              "                        })                };                            </script>        </div>\n",
              "</body>\n",
              "</html>"
            ]
          },
          "metadata": {}
        }
      ]
    },
    {
      "cell_type": "code",
      "source": [
        "import plotly.express as px\n",
        "px.histogram(np.log1p(y_train), width=400, height=400)"
      ],
      "metadata": {
        "id": "o-BejDn5UHxA",
        "colab": {
          "base_uri": "https://localhost:8080/",
          "height": 417
        },
        "outputId": "1c4a44d1-e3a0-4a4e-92f3-cefa4a766c95"
      },
      "execution_count": null,
      "outputs": [
        {
          "output_type": "display_data",
          "data": {
            "text/html": [
              "<html>\n",
              "<head><meta charset=\"utf-8\" /></head>\n",
              "<body>\n",
              "    <div>            <script src=\"https://cdnjs.cloudflare.com/ajax/libs/mathjax/2.7.5/MathJax.js?config=TeX-AMS-MML_SVG\"></script><script type=\"text/javascript\">if (window.MathJax) {MathJax.Hub.Config({SVG: {font: \"STIX-Web\"}});}</script>                <script type=\"text/javascript\">window.PlotlyConfig = {MathJaxConfig: 'local'};</script>\n",
              "        <script src=\"https://cdn.plot.ly/plotly-2.8.3.min.js\"></script>                <div id=\"6f7e120e-cf20-4001-9aaf-76c39070caef\" class=\"plotly-graph-div\" style=\"height:400px; width:400px;\"></div>            <script type=\"text/javascript\">                                    window.PLOTLYENV=window.PLOTLYENV || {};                                    if (document.getElementById(\"6f7e120e-cf20-4001-9aaf-76c39070caef\")) {                    Plotly.newPlot(                        \"6f7e120e-cf20-4001-9aaf-76c39070caef\",                        [{\"alignmentgroup\":\"True\",\"bingroup\":\"x\",\"hovertemplate\":\"variable=0<br>value=%{x}<br>count=%{y}<extra></extra>\",\"legendgroup\":\"0\",\"marker\":{\"color\":\"#636efa\",\"pattern\":{\"shape\":\"\"}},\"name\":\"0\",\"offsetgroup\":\"0\",\"orientation\":\"v\",\"showlegend\":true,\"x\":[12.247698783874512,12.109016418457031,12.317171096801758,11.849405288696289,12.429220199584961,11.870607376098633,12.63460636138916,12.206077575683594,11.774527549743652,11.771444320678711,12.751302719116211,11.877575874328613,12.54076099395752,11.964007377624512,11.79056453704834,11.911707878112793,11.407575607299805,11.976665496826172,11.842236518859863,12.692505836486816,11.845109939575195,12.34583854675293,11.774527549743652,11.944714546203613,12.454108238220215,11.811554908752441,12.631343841552734,12.242891311645508,11.134603500366211,10.596659660339355,11.914054870605469,12.1001615524292,12.016732215881348,12.53357982635498,12.64109992980957,11.884495735168457,11.938199996948242,11.599112510681152,11.982934951782227,12.043560028076172,11.877575874328613,11.77721881866455,11.856522560119629,12.675766944885254,12.387088775634766,12.428019523620605,11.635151863098145,11.75195026397705,12.083910942077637,11.64833927154541,12.861001014709473,11.775297164916992,12.10349178314209,12.058157920837402,12.188423156738281,11.73527717590332,11.970356941223145,11.5228853225708,12.218500137329102,11.849405288696289,12.299112319946289,12.66666030883789,12.100717544555664,12.32829475402832,11.289793968200684,12.323860168457031,12.404927253723145,11.771444320678711,12.128116607666016,11.883806228637695,11.584324836730957,11.418625831604004,11.818577766418457,11.75195026397705,11.824087142944336,11.608244895935059,12.1730375289917,11.941462516784668,12.409017562866211,11.748005867004395,12.034696578979492,12.468441009521484,12.066816329956055,12.010671615600586,11.724813461303711,11.607335090637207,11.498836517333984,12.0045747756958,12.229549407958984,12.128116607666016,12.273736000061035,11.459007263183594,11.326607704162598,11.76718807220459,12.230770111083984,12.089544296264648,11.68658447265625,12.200562477111816,12.040614128112793,12.429220199584961,11.512935638427734,11.652695655822754,12.154784202575684,11.82701301574707,12.100717544555664,12.858322143554688,12.287656784057617,12.46651554107666,12.078245162963867,11.842236518859863,11.951187133789062,12.676079750061035,12.007566452026367,12.100717544555664,11.512935638427734,11.820417404174805,11.94406509399414,12.106257438659668,11.759793281555176,11.373675346374512,11.951187133789062,11.918396949768066,12.32829475402832,12.404927253723145,11.923384666442871,12.301387786865234,12.100717544555664,12.066816329956055,11.870607376098633,12.04942512512207,12.34583854675293,12.352339744567871,11.652695655822754,12.468441009521484,12.01974868774414,12.22588062286377,11.736077308654785,11.775297164916992,11.561725616455078,12.312686920166016,11.856522560119629,11.652695655822754,11.711784362792969,12.82773208618164,12.154784202575684,12.367344856262207,11.736077308654785,11.603689193725586,12.504327774047852,12.448630332946777,12.676079750061035,11.99843978881836,12.929993629455566,12.301387786865234,11.54443359375,11.931642532348633,11.755879402160645,12.154784202575684,12.693501472473145,12.119975090026855,12.337105751037598,11.763691902160645,12.278397560119629,12.384222984313965,12.001511573791504,12.122696876525879,12.4008207321167,12.259617805480957,12.058157920837402,13.126032829284668,11.512935638427734,12.083910942077637,12.20657730102539,11.695255279541016,12.206077575683594,11.75195026397705,13.071072578430176,12.061052322387695,11.813037872314453,11.940400123596191,12.563750267028809,12.660330772399902,12.122696876525879,12.165255546569824,11.775297164916992,11.75195026397705,11.908347129821777,12.650351524353027,12.367344856262207,11.552155494689941,12.524166107177734,11.849405288696289,12.05234432220459,11.626262664794922,11.911707878112793,11.608244895935059,12.10349178314209,11.876880645751953,11.856522560119629,12.531776428222656,11.884495735168457,11.492733001708984,12.13350772857666,12.439875602722168,11.95761775970459,11.993813514709473,11.808955192565918,12.254867553710938,11.58059310913086,12.649157524108887,12.027191162109375,12.230281829833984,12.206077575683594,12.1001615524292,11.482476234436035,12.864242553710938,11.626262664794922,12.57763957977295,11.57120418548584,11.736077308654785,12.167856216430664,11.904973983764648,12.906694412231445,11.456365585327148,11.761354446411133,12.285350799560547,11.402005195617676,12.130815505981445,12.178192138671875,12.669809341430664,11.635151863098145,12.478010177612305,11.61277961730957,11.277215957641602,11.695255279541016,12.230770111083984,12.394628524780273,11.849405288696289,12.100717544555664,12.531776428222656,11.2450590133667,12.367344856262207,12.061052322387695,11.970356941223145,11.884495735168457,12.34583854675293,12.242891311645508,12.301387786865234,12.352339744567871,11.482476234436035,12.078245162963867,12.528160095214844,11.925042152404785,11.775297164916992,11.19822883605957,12.075400352478027,12.128116607666016,12.097935676574707,11.699413299560547,11.904973983764648,12.491255760192871,12.57763957977295,11.842236518859863,11.73206901550293,12.230770111083984,12.211065292358398,11.856522560119629,12.93675422668457,12.165255546569824,12.339296340942383,12.128116607666016,12.242891311645508,12.407383918762207,12.09626293182373,12.011886596679688,11.976665496826172,11.385103225708008,11.711784362792969,11.941950798034668,12.359785079956055,11.819682121276855,11.782959938049316,12.367344856262207,12.025754928588867,11.867104530334473,11.931642532348633,12.384222984313965,12.07254695892334,11.973516464233398,11.964007377624512,12.495007514953613,12.230770111083984,11.917730331420898,12.594734191894531,12.631016731262207,12.323860168457031,11.402005195617676,11.320566177368164,12.793862342834473,12.01733684539795,11.79056453704834,11.694421768188477,12.834684371948242,12.089544296264648,12.146858215332031,12.468441009521484,12.506180763244629,12.468441009521484,12.141539573669434,12.744447708129883,12.777054786682129,12.614869117736816,11.74543285369873,12.396697044372559,11.373675346374512,12.688502311706543,11.886219024658203,12.276069641113281,11.264476776123047,11.68688678741455,11.842236518859863,12.556733131408691,12.240478515625,12.165255546569824,12.841132164001465,12.273736000061035,12.218500137329102,11.951187133789062,12.220473289489746,11.314486503601074,12.491255760192871,11.350418090820312,11.850831985473633,11.92834758758545,11.96718692779541,11.944714546203613,12.988042831420898,12.670001983642578,12.154784202575684,11.461642265319824,11.570260047912598,11.849405288696289,12.086731910705566,12.061052322387695,11.805602073669434,11.775297164916992,12.542548179626465,11.95761775970459,11.884495735168457,11.678448677062988,12.154784202575684,11.898194313049316,11.976665496826172,12.013707160949707,11.79056453704834,11.995357513427734,12.057578086853027,11.808821678161621,11.736077308654785,11.719947814941406,12.299112319946289,11.904973983764648,12.736703872680664,12.885204315185547,12.095146179199219,11.75195026397705,12.142871856689453,12.27139663696289,11.23850154876709,12.388398170471191,12.165255546569824,11.302216529846191,11.736077308654785,12.1600341796875,12.962197303771973,11.68688678741455,12.278397560119629,11.575909614562988,11.512935638427734,11.599112510681152,11.76757526397705,11.719947814941406,12.040614128112793,11.112462997436523,12.392556190490723,12.411056518554688,12.013646125793457,11.589896202087402,12.460719108581543,12.03172492980957,11.918396949768066,11.652695655822754,12.083910942077637,12.542548179626465,12.735968589782715,11.002116203308105,11.884495735168457,12.310437202453613,11.652695655822754,12.337105751037598,12.1069974899292,11.915058135986328,12.384222984313965,11.74404525756836,11.8635892868042,12.237091064453125,12.278397560119629,11.635151863098145,12.660330772399902,11.842236518859863,11.813037872314453,12.524530410766602,11.599185943603516,12.182808876037598,12.07254695892334,11.35511302947998,11.715874671936035,12.106257438659668,11.302216529846191,12.2643461227417,11.661354064941406,11.68688678741455,11.411457061767578,11.608244895935059,13.226725578308105,12.000898361206055,12.058157920837402,12.254867553710938,11.755879402160645,12.154784202575684,12.205577850341797,11.691080093383789,11.695255279541016,11.608244895935059,12.542548179626465,12.22588062286377,12.254867553710938,12.14420223236084,12.075400352478027,11.492733001708984,12.452936172485352,11.989166259765625,11.608244895935059,12.481565475463867,11.951187133789062,11.041064262390137,12.147918701171875,11.728044509887695,12.093692779541016,12.025754928588867,11.894787788391113,12.429220199584961,12.138869285583496,12.2643461227417,12.154784202575684,11.904973983764648,12.994532585144043,12.433212280273438,11.79434585571289,12.249615669250488,12.847929000854492,12.60149097442627,11.401680946350098,12.694655418395996,12.832014083862305,11.951187133789062,12.007627487182617,11.79434585571289,11.898194313049316,11.95761775970459,12.07254695892334,11.362113952636719,11.652695655822754,11.798111915588379,12.059808731079102,11.951187133789062,11.421916961669922,12.971542358398438,12.122696876525879,11.775297164916992,11.695255279541016,11.635151863098145,12.331387519836426,11.849405288696289,12.574185371398926,11.898194313049316,11.73206901550293,12.278397560119629,12.246739387512207,11.989166259765625,11.73206901550293,12.013100624084473,12.219314575195312,11.774527549743652,11.805602073669434,11.47730827331543,12.906349182128906,11.970356941223145,12.487488746643066,12.259617805480957,12.363080978393555,11.918396949768066,11.976665496826172,12.66270923614502,12.078245162963867,11.79056453704834,13.008661270141602,11.362113952636719,12.209193229675293,12.07254695892334,11.759793281555176,11.58525562286377,12.089544296264648,11.58525562286377,12.14420223236084,11.61954402923584,11.970356941223145,12.513561248779297,12.660330772399902,12.421188354492188,12.270225524902344,11.798111915588379,12.098855018615723,12.34148120880127,12.254867553710938,11.771444320678711,11.736077308654785,12.479912757873535,11.849405288696289,11.630717277526855,12.450981140136719,11.589896202087402,12.556733131408691,11.635151863098145,11.856522560119629,11.589896202087402,12.07254695892334,12.363080978393555,11.707677841186523,12.043560028076172,11.589896202087402,12.128116607666016,12.498745918273926,11.759793281555176,12.691583633422852,12.273736000061035,12.665397644042969,11.820123672485352,11.867805480957031,11.695255279541016,12.321635246276855,12.043560028076172,11.842236518859863,11.682676315307617,11.884495735168457,12.010671615600586,11.891368865966797,11.78676986694336,12.111217498779297,12.442306518554688,11.682676315307617,12.691583633422852,11.798111915588379,12.820990562438965,11.775297164916992,11.827743530273438,11.283524513244629,12.132969856262207,13.021328926086426,11.835016250610352,11.849405288696289,11.608244895935059,12.67294979095459,11.6483736038208,12.176653861999512,12.289958953857422,11.925042152404785,12.524530410766602,11.856522560119629,12.301387786865234,11.925042152404785,12.305922508239746,12.230770111083984,11.931642532348633,12.323860168457031,12.791358947753906,11.682676315307617,12.653961181640625,11.904973983764648,12.474193572998047,11.898194313049316,11.231901168823242,11.83138656616211,12.118339538574219,11.566475868225098,12.659737586975098,12.628069877624512,11.112462997436523,12.388398170471191,11.813037872314453,12.034696578979492,12.014615058898926,11.982934951782227,11.848690032958984,11.938199996948242,11.813037872314453,12.034696578979492,11.728044509887695,12.252483367919922,11.320566177368164,11.845109939575195,11.877575874328613,11.4403657913208,11.350418090820312,12.485831260681152,12.52088737487793,12.32829475402832,12.751302719116211,11.931642532348633,12.823631286621094,11.872353553771973,11.495789527893066,11.951187133789062,11.951187133789062,11.344518661499023,12.235393524169922,11.589896202087402,12.1600341796875,11.813037872314453,12.765691757202148,11.385103225708008,11.887938499450684,11.911707878112793,11.487617492675781,12.025754928588867,12.19552230834961,12.904210090637207,11.608244895935059,11.83138656616211,12.955129623413086,12.348010063171387,11.76757526397705,12.1730375289917,12.03172492980957,11.83138656616211,12.063939094543457,11.54830265045166,12.013707160949707,12.458779335021973,11.849405288696289,11.908347129821777,11.373675346374512,11.603689193725586,12.827995300292969,11.763691902160645,11.870607376098633,11.979392051696777,12.061052322387695,12.560248374938965,12.305922508239746,12.242891311645508,12.336556434631348,11.910365104675293,12.879019737243652,12.179220199584961,11.856522560119629,13.53447437286377,12.721888542175293,11.594330787658691,11.860061645507812,12.078245162963867,11.396403312683105,11.724004745483398,11.838632583618164,12.185874938964844,12.652362823486328,11.849405288696289,12.799178123474121,11.849405288696289,12.269052505493164,12.618185997009277,12.445093154907227,12.098158836364746,11.607335090637207,10.859018325805664,11.540316581726074,12.149507522583008,11.76757526397705,11.779135704040527,12.013707160949707,11.979804992675781,11.964007377624512,12.739640235900879,11.763691902160645,12.524530410766602,11.870607376098633,11.73206901550293,11.813037872314453,12.676079750061035,11.699413299560547,12.310437202453613,12.178192138671875,11.608244895935059,11.54249382019043,12.37370777130127,12.141539573669434,12.312686920166016,11.786008834838867,11.589896202087402,12.001511573791504,11.445727348327637,12.387981414794922,12.095146179199219,12.154784202575684,11.79056453704834,11.8635892868042,12.095146179199219,12.07254695892334,12.100717544555664,12.61087417602539,12.371591567993164,12.469978332519531,11.47730827331543,11.995357513427734,12.287656784057617,12.526346206665039,11.95761775970459,12.058157920837402,12.2643461227417,11.97603702545166,12.097378730773926,12.57763957977295,11.755879402160645,11.512935638427734,12.279327392578125,12.7278413772583,12.506180763244629,12.484208106994629,12.188423156738281,11.982934951782227,12.286906242370605,11.812296867370605,11.532737731933594,11.58059310913086,11.64833927154541,12.886643409729004,11.995357513427734,12.308182716369629,11.867104530334473,11.877575874328613,11.813037872314453,12.078245162963867,12.077676773071289,12.139404296875,12.016732215881348,11.759793281555176,11.992266654968262,11.842236518859863,12.358798027038574,11.588969230651855,12.141539573669434,11.984184265136719,11.896833419799805,12.505402565002441,12.323860168457031,12.178192138671875,12.04942512512207,11.874096870422363,11.608244895935059,13.091906547546387,12.07254695892334,12.206077575683594,11.607335090637207,12.149507522583008,13.275829315185547,11.678448677062988,12.335700988769531,11.816734313964844,12.317171096801758,11.982623100280762,12.106257438659668,11.881041526794434,10.932999610900879,11.96972370147705,11.661354064941406,12.323415756225586,11.827743530273438,12.509878158569336,11.951187133789062,12.319405555725098,12.117246627807617,11.4403657913208,12.323860168457031,11.845827102661133,12.35707950592041,12.861001014709473,11.603689193725586,12.149507522583008,11.900912284851074,12.01974868774414,11.925042152404785,12.375819206237793,12.025754928588867,11.849047660827637,11.759793281555176,11.941462516784668,11.512935638427734,11.877575874328613,11.779135704040527,11.849405288696289,11.96718692779541,12.071975708007812,11.94406509399414,12.04942512512207,12.269052505493164,11.801864624023438,12.388398170471191,12.138869285583496,11.78676986694336,12.278397560119629,12.007627487182617,11.970356941223145,12.043560028076172,11.75195026397705,11.898194313049316,12.066816329956055,11.931642532348633,12.429220199584961,12.154520988464355,11.78676986694336,11.931642532348633,11.79434585571289,12.431537628173828,11.908347129821777,12.424810409545898,11.76757526397705,12.037659645080566,12.371591567993164,11.603689193725586,12.208574295043945,11.661354064941406,11.798111915588379,11.104971885681152,12.623064041137695,11.79245662689209,12.765691757202148,11.904973983764648,11.824087142944336,11.964007377624512,12.141539573669434,12.089544296264648,11.682676315307617,11.512935638427734,12.703512191772461,11.884495735168457,11.816734313964844,12.498745918273926,11.915058135986328,11.719134330749512,12.058157920837402,11.947956085205078,12.013707160949707,11.68569278717041,11.849405288696289,11.575909614562988,11.870278358459473,13.323928833007812,11.813037872314453,11.608244895935059,11.938199996948242,12.100717544555664,12.388398170471191,11.740069389343262,11.759793281555176,12.44902229309082,12.429220199584961,11.782959938049316,12.066816329956055,11.874096870422363,11.385103225708008,11.884495735168457,12.06528091430664,11.22525691986084,10.471978187561035,11.813037872314453,12.380029678344727,12.08108139038086,12.211065292358398,11.8906831741333,12.043500900268555,12.170450210571289,12.242891311645508,12.07254695892334,12.560248374938965,12.078245162963867,12.37370777130127,12.310437202453613,12.211065292358398,11.674201965332031,12.676079750061035,12.154784202575684,12.396697044372559,11.288543701171875,12.127575874328613,12.44114875793457,12.387560844421387,12.40656566619873,11.924379348754883,12.273736000061035,11.870607376098633,11.83138656616211,11.73527717590332,11.870607376098633,12.506180763244629,12.167856216430664,12.193498611450195,11.76757526397705,11.694421768188477,11.804856300354004,12.055255889892578,11.884495735168457,11.728044509887695,11.79056453704834,12.128116607666016,11.951187133789062,11.665655136108398,12.513561248779297,11.951187133789062,12.384222984313965,12.277933120727539,12.094588279724121,11.982934951782227,11.813037872314453,10.542733192443848,11.849405288696289,11.813037872314453,12.061052322387695,11.507923126220703,12.111767768859863,12.0287446975708,12.013707160949707,11.356283187866211,12.205577850341797,11.608244895935059,11.842236518859863,12.091789245605469,12.724869728088379,11.982278823852539,12.452546119689941,11.74404525756836,11.736077308654785,11.669938087463379,12.887129783630371,12.180760383605957,12.190963745117188,12.759960174560547,12.03172492980957,12.138869285583496,12.066241264343262,12.729323387145996,11.708500862121582,11.824087142944336,12.128116607666016,11.418625831604004,12.235636711120605,11.314486503601074,11.362113952636719,12.354496955871582,11.82705020904541,12.106257438659668,11.917730331420898,12.0045747756958,11.385103225708008,12.388398170471191,11.532737731933594,11.813037872314453,11.512935638427734,12.013707160949707,11.350418090820312,11.688566207885742,12.332709312438965,12.220966339111328,12.141539573669434,11.982934951782227,12.271349906921387,12.078245162963867,12.175618171691895,11.373675346374512,12.1600341796875,12.567240715026855,11.630717277526855,12.0287446975708,12.588193893432617,11.561725616455078,11.678448677062988,12.190963745117188,12.644330978393555,12.34583854675293,11.693169593811035,11.338583946228027,12.661916732788086,12.567240715026855,11.482476234436035,11.289793968200684,11.951187133789062,12.061052322387695,12.185874938964844,12.477171897888184,12.535380363464355,11.846543312072754,11.884495735168457,11.652695655822754,11.349241256713867,12.0809965133667,12.206782341003418,12.013707160949707,11.881041526794434,12.44902229309082,12.100717544555664,12.13270092010498,12.421188354492188,12.721888542175293,12.301387786865234,12.27139663696289,11.302216529846191,11.407575607299805,11.61277961730957,11.944714546203613,12.700772285461426,12.089544296264648,12.031129837036133,11.927687644958496,11.813037872314453,11.813037872314453,11.944714546203613,11.424104690551758,11.979804992675781,12.175618171691895,12.299112319946289,12.043560028076172,11.84079647064209,11.956976890563965,11.74404525756836,11.884495735168457,11.798111915588379,12.165255546569824,11.982934951782227,12.141539573669434,11.898194313049316,11.332613945007324,12.437188148498535,11.83138656616211,12.190963745117188,11.982934951782227,11.824087142944336,11.891368865966797,11.76757526397705,12.080696105957031,11.75195026397705,12.043560028076172,11.759793281555176,11.964007377624512,11.691080093383789,11.813037872314453,11.979804992675781,11.57120418548584,12.691583633422852,12.1001615524292,12.523529052734375,12.106257438659668,12.542548179626465,12.14420223236084,12.230770111083984,11.774527549743652,11.809327125549316,11.669938087463379,12.669809341430664,12.123239517211914,11.775297164916992,11.849405288696289,11.803360939025879,11.681832313537598,12.268582344055176,11.626262664794922,11.678448677062988,12.007018089294434,11.652695655822754,12.066816329956055,12.464587211608887,12.278397560119629,11.849405288696289,11.813037872314453,11.445727348327637,11.674201965332031,12.386312484741211,12.037659645080566,11.532737731933594,11.68688678741455,11.45106029510498,12.185874938964844,11.877575874328613,11.842236518859863,12.193498611450195,12.959541320800781,11.289793968200684,11.289793968200684,11.911707878112793,12.100717544555664,12.069685935974121,11.669082641601562,11.870607376098633,11.728044509887695,11.917730331420898,12.34583854675293,11.699413299560547,12.21503734588623,12.292255401611328,12.1001615524292,12.34583854675293,12.367889404296875,12.128116607666016,11.891368865966797,12.319405555725098,11.76757526397705,11.598735809326172,12.175618171691895,12.359527587890625,12.410445213317871,12.061052322387695,12.367344856262207,13.345508575439453,12.04942512512207,12.001511573791504,12.05467414855957,12.208574295043945,12.384222984313965,12.560248374938965,11.691080093383789,11.652695655822754,11.950541496276855,11.4403657913208,12.429220199584961,12.880294799804688,13.521141052246094,11.695255279541016,12.137263298034668,11.560771942138672,12.476103782653809,12.180760383605957,12.149507522583008,12.03172492980957,12.066816329956055,11.736077308654785,12.013707160949707,11.970356941223145,12.078245162963867,12.297789573669434,11.877575874328613,12.089544296264648,11.904973983764648,11.661785125732422,12.19552230834961,11.669938087463379,12.269052505493164,11.941462516784668,12.513193130493164,11.58059310913086,12.206077575683594,11.849405288696289,12.57763957977295,12.149507522583008,12.007627487182617,11.635151863098145,11.884495735168457,11.809327125549316,11.736077308654785,11.626262664794922,12.343470573425293,11.296025276184082,11.424104690551758,11.652695655822754,11.805602073669434,11.870607376098633,11.834291458129883,12.122696876525879,11.884495735168457,12.273736000061035,11.898194313049316,12.813920974731445,11.75195026397705,11.79434585571289,11.53077507019043,11.8635892868042,11.841423034667969,12.075400352478027,12.180760383605957,11.867104530334473,12.49087905883789,12.323415756225586,12.422510147094727,12.043560028076172,13.049795150756836,12.34583854675293,12.089544296264648,12.136192321777344,12.04297161102295,11.771444320678711,11.68688678741455,12.404927253723145,12.053800582885742,11.775297164916992,12.591338157653809,12.016128540039062,11.755879402160645,12.616528511047363,11.511935234069824,12.154784202575684,11.925042152404785,12.106257438659668,11.766799926757812,11.992266654968262,12.10349178314209,12.106257438659668,12.122153282165527,12.843974113464355,12.850557327270508,11.877575874328613,12.468441009521484,12.132162094116211,11.827743530273438,12.083910942077637,11.842236518859863,11.995357513427734,12.19552230834961,12.375819206237793,11.133142471313477,12.332709312438965,12.100717544555664,11.921725273132324,11.842236518859863,12.037659645080566,11.79434585571289,11.870607376098633,12.154784202575684,12.535380363464355,12.546113967895508,12.10349178314209,11.691080093383789,11.58525562286377,12.000898361206055,11.652695655822754,11.838632583618164,11.951187133789062,11.849405288696289,11.944714546203613,12.323860168457031,12.086731910705566,12.57763957977295,12.354496955871582,11.775297164916992,12.691583633422852,12.218500137329102,11.835016250610352,11.898194313049316,12.09626293182373,12.721888542175293,12.220966339111328,12.618185997009277,12.716404914855957,11.68688678741455,12.239995956420898,12.596404075622559,12.249615669250488,12.524530410766602,11.617294311523438,11.960817337036133,11.19135570526123,12.154784202575684,11.320566177368164,11.898194313049316,10.915106773376465,11.277215957641602,11.779135704040527,12.452936172485352,12.08108139038086,12.332709312438965,11.79434585571289,11.512935638427734,11.740069389343262,11.736077308654785,12.031129837036133,11.813037872314453,12.206077575683594,11.763691902160645,11.719947814941406,11.951187133789062,12.339296340942383,12.083910942077637,11.956559181213379,11.594514846801758,12.478010177612305,12.554840087890625,12.278397560119629,11.711784362792969,12.206077575683594,12.04942512512207,11.812296867370605,12.923914909362793,12.367344856262207,12.043560028076172,11.608244895935059,11.917730331420898,12.086731910705566,12.660330772399902,12.149507522583008,12.468441009521484,11.560771942138672,11.963574409484863,11.878630638122559,12.283038139343262,12.170450210571289,11.75195026397705,11.877575874328613,12.354496955871582,11.561725616455078,12.016732215881348,12.521981239318848,13.05301570892334,12.429220199584961,12.384222984313965,11.418625831604004,11.669938087463379,11.326607704162598,12.0287446975708,10.976799011230469,12.37792682647705,11.964007377624512,11.626262664794922,11.561725616455078,11.740069389343262,12.429220199584961,11.820417404174805,12.841328620910645,11.782959938049316,12.367344856262207,11.728044509887695,11.719947814941406,12.001511573791504,12.415437698364258,12.546871185302734,11.982934951782227,11.83138656616211,11.835016250610352,11.831023216247559,11.695255279541016,12.170450210571289,12.174994468688965,12.552929878234863,11.561725616455078,12.524530410766602,11.798111915588379,11.626262664794922,11.740069389343262,12.278397560119629,12.34583854675293,11.849405288696289,12.45683479309082,12.240478515625,12.077676773071289,11.715874671936035,12.736703872680664,11.728044509887695,12.314931869506836,12.1001615524292,11.755879402160645,11.824087142944336,11.877575874328613,11.8635892868042,12.509878158569336,11.849405288696289,11.68688678741455,12.116700172424316,12.165985107421875,11.875838279724121,11.07443618774414,12.136192321777344,11.982934951782227,12.066816329956055,11.699413299560547,12.885673522949219,11.91639518737793,12.190963745117188,12.1600341796875,11.91372013092041,12.644330978393555,11.703554153442383,12.098492622375488,11.76757526397705,11.96972370147705,12.388398170471191,11.626262664794922,11.820417404174805,12.567554473876953,11.884495735168457,11.344518661499023,12.128116607666016,12.07254695892334,12.254867553710938,12.493133544921875,11.864469528198242,11.901590347290039],\"xaxis\":\"x\",\"yaxis\":\"y\",\"type\":\"histogram\"}],                        {\"template\":{\"data\":{\"bar\":[{\"error_x\":{\"color\":\"#2a3f5f\"},\"error_y\":{\"color\":\"#2a3f5f\"},\"marker\":{\"line\":{\"color\":\"#E5ECF6\",\"width\":0.5},\"pattern\":{\"fillmode\":\"overlay\",\"size\":10,\"solidity\":0.2}},\"type\":\"bar\"}],\"barpolar\":[{\"marker\":{\"line\":{\"color\":\"#E5ECF6\",\"width\":0.5},\"pattern\":{\"fillmode\":\"overlay\",\"size\":10,\"solidity\":0.2}},\"type\":\"barpolar\"}],\"carpet\":[{\"aaxis\":{\"endlinecolor\":\"#2a3f5f\",\"gridcolor\":\"white\",\"linecolor\":\"white\",\"minorgridcolor\":\"white\",\"startlinecolor\":\"#2a3f5f\"},\"baxis\":{\"endlinecolor\":\"#2a3f5f\",\"gridcolor\":\"white\",\"linecolor\":\"white\",\"minorgridcolor\":\"white\",\"startlinecolor\":\"#2a3f5f\"},\"type\":\"carpet\"}],\"choropleth\":[{\"colorbar\":{\"outlinewidth\":0,\"ticks\":\"\"},\"type\":\"choropleth\"}],\"contour\":[{\"colorbar\":{\"outlinewidth\":0,\"ticks\":\"\"},\"colorscale\":[[0.0,\"#0d0887\"],[0.1111111111111111,\"#46039f\"],[0.2222222222222222,\"#7201a8\"],[0.3333333333333333,\"#9c179e\"],[0.4444444444444444,\"#bd3786\"],[0.5555555555555556,\"#d8576b\"],[0.6666666666666666,\"#ed7953\"],[0.7777777777777778,\"#fb9f3a\"],[0.8888888888888888,\"#fdca26\"],[1.0,\"#f0f921\"]],\"type\":\"contour\"}],\"contourcarpet\":[{\"colorbar\":{\"outlinewidth\":0,\"ticks\":\"\"},\"type\":\"contourcarpet\"}],\"heatmap\":[{\"colorbar\":{\"outlinewidth\":0,\"ticks\":\"\"},\"colorscale\":[[0.0,\"#0d0887\"],[0.1111111111111111,\"#46039f\"],[0.2222222222222222,\"#7201a8\"],[0.3333333333333333,\"#9c179e\"],[0.4444444444444444,\"#bd3786\"],[0.5555555555555556,\"#d8576b\"],[0.6666666666666666,\"#ed7953\"],[0.7777777777777778,\"#fb9f3a\"],[0.8888888888888888,\"#fdca26\"],[1.0,\"#f0f921\"]],\"type\":\"heatmap\"}],\"heatmapgl\":[{\"colorbar\":{\"outlinewidth\":0,\"ticks\":\"\"},\"colorscale\":[[0.0,\"#0d0887\"],[0.1111111111111111,\"#46039f\"],[0.2222222222222222,\"#7201a8\"],[0.3333333333333333,\"#9c179e\"],[0.4444444444444444,\"#bd3786\"],[0.5555555555555556,\"#d8576b\"],[0.6666666666666666,\"#ed7953\"],[0.7777777777777778,\"#fb9f3a\"],[0.8888888888888888,\"#fdca26\"],[1.0,\"#f0f921\"]],\"type\":\"heatmapgl\"}],\"histogram\":[{\"marker\":{\"pattern\":{\"fillmode\":\"overlay\",\"size\":10,\"solidity\":0.2}},\"type\":\"histogram\"}],\"histogram2d\":[{\"colorbar\":{\"outlinewidth\":0,\"ticks\":\"\"},\"colorscale\":[[0.0,\"#0d0887\"],[0.1111111111111111,\"#46039f\"],[0.2222222222222222,\"#7201a8\"],[0.3333333333333333,\"#9c179e\"],[0.4444444444444444,\"#bd3786\"],[0.5555555555555556,\"#d8576b\"],[0.6666666666666666,\"#ed7953\"],[0.7777777777777778,\"#fb9f3a\"],[0.8888888888888888,\"#fdca26\"],[1.0,\"#f0f921\"]],\"type\":\"histogram2d\"}],\"histogram2dcontour\":[{\"colorbar\":{\"outlinewidth\":0,\"ticks\":\"\"},\"colorscale\":[[0.0,\"#0d0887\"],[0.1111111111111111,\"#46039f\"],[0.2222222222222222,\"#7201a8\"],[0.3333333333333333,\"#9c179e\"],[0.4444444444444444,\"#bd3786\"],[0.5555555555555556,\"#d8576b\"],[0.6666666666666666,\"#ed7953\"],[0.7777777777777778,\"#fb9f3a\"],[0.8888888888888888,\"#fdca26\"],[1.0,\"#f0f921\"]],\"type\":\"histogram2dcontour\"}],\"mesh3d\":[{\"colorbar\":{\"outlinewidth\":0,\"ticks\":\"\"},\"type\":\"mesh3d\"}],\"parcoords\":[{\"line\":{\"colorbar\":{\"outlinewidth\":0,\"ticks\":\"\"}},\"type\":\"parcoords\"}],\"pie\":[{\"automargin\":true,\"type\":\"pie\"}],\"scatter\":[{\"marker\":{\"colorbar\":{\"outlinewidth\":0,\"ticks\":\"\"}},\"type\":\"scatter\"}],\"scatter3d\":[{\"line\":{\"colorbar\":{\"outlinewidth\":0,\"ticks\":\"\"}},\"marker\":{\"colorbar\":{\"outlinewidth\":0,\"ticks\":\"\"}},\"type\":\"scatter3d\"}],\"scattercarpet\":[{\"marker\":{\"colorbar\":{\"outlinewidth\":0,\"ticks\":\"\"}},\"type\":\"scattercarpet\"}],\"scattergeo\":[{\"marker\":{\"colorbar\":{\"outlinewidth\":0,\"ticks\":\"\"}},\"type\":\"scattergeo\"}],\"scattergl\":[{\"marker\":{\"colorbar\":{\"outlinewidth\":0,\"ticks\":\"\"}},\"type\":\"scattergl\"}],\"scattermapbox\":[{\"marker\":{\"colorbar\":{\"outlinewidth\":0,\"ticks\":\"\"}},\"type\":\"scattermapbox\"}],\"scatterpolar\":[{\"marker\":{\"colorbar\":{\"outlinewidth\":0,\"ticks\":\"\"}},\"type\":\"scatterpolar\"}],\"scatterpolargl\":[{\"marker\":{\"colorbar\":{\"outlinewidth\":0,\"ticks\":\"\"}},\"type\":\"scatterpolargl\"}],\"scatterternary\":[{\"marker\":{\"colorbar\":{\"outlinewidth\":0,\"ticks\":\"\"}},\"type\":\"scatterternary\"}],\"surface\":[{\"colorbar\":{\"outlinewidth\":0,\"ticks\":\"\"},\"colorscale\":[[0.0,\"#0d0887\"],[0.1111111111111111,\"#46039f\"],[0.2222222222222222,\"#7201a8\"],[0.3333333333333333,\"#9c179e\"],[0.4444444444444444,\"#bd3786\"],[0.5555555555555556,\"#d8576b\"],[0.6666666666666666,\"#ed7953\"],[0.7777777777777778,\"#fb9f3a\"],[0.8888888888888888,\"#fdca26\"],[1.0,\"#f0f921\"]],\"type\":\"surface\"}],\"table\":[{\"cells\":{\"fill\":{\"color\":\"#EBF0F8\"},\"line\":{\"color\":\"white\"}},\"header\":{\"fill\":{\"color\":\"#C8D4E3\"},\"line\":{\"color\":\"white\"}},\"type\":\"table\"}]},\"layout\":{\"annotationdefaults\":{\"arrowcolor\":\"#2a3f5f\",\"arrowhead\":0,\"arrowwidth\":1},\"autotypenumbers\":\"strict\",\"coloraxis\":{\"colorbar\":{\"outlinewidth\":0,\"ticks\":\"\"}},\"colorscale\":{\"diverging\":[[0,\"#8e0152\"],[0.1,\"#c51b7d\"],[0.2,\"#de77ae\"],[0.3,\"#f1b6da\"],[0.4,\"#fde0ef\"],[0.5,\"#f7f7f7\"],[0.6,\"#e6f5d0\"],[0.7,\"#b8e186\"],[0.8,\"#7fbc41\"],[0.9,\"#4d9221\"],[1,\"#276419\"]],\"sequential\":[[0.0,\"#0d0887\"],[0.1111111111111111,\"#46039f\"],[0.2222222222222222,\"#7201a8\"],[0.3333333333333333,\"#9c179e\"],[0.4444444444444444,\"#bd3786\"],[0.5555555555555556,\"#d8576b\"],[0.6666666666666666,\"#ed7953\"],[0.7777777777777778,\"#fb9f3a\"],[0.8888888888888888,\"#fdca26\"],[1.0,\"#f0f921\"]],\"sequentialminus\":[[0.0,\"#0d0887\"],[0.1111111111111111,\"#46039f\"],[0.2222222222222222,\"#7201a8\"],[0.3333333333333333,\"#9c179e\"],[0.4444444444444444,\"#bd3786\"],[0.5555555555555556,\"#d8576b\"],[0.6666666666666666,\"#ed7953\"],[0.7777777777777778,\"#fb9f3a\"],[0.8888888888888888,\"#fdca26\"],[1.0,\"#f0f921\"]]},\"colorway\":[\"#636efa\",\"#EF553B\",\"#00cc96\",\"#ab63fa\",\"#FFA15A\",\"#19d3f3\",\"#FF6692\",\"#B6E880\",\"#FF97FF\",\"#FECB52\"],\"font\":{\"color\":\"#2a3f5f\"},\"geo\":{\"bgcolor\":\"white\",\"lakecolor\":\"white\",\"landcolor\":\"#E5ECF6\",\"showlakes\":true,\"showland\":true,\"subunitcolor\":\"white\"},\"hoverlabel\":{\"align\":\"left\"},\"hovermode\":\"closest\",\"mapbox\":{\"style\":\"light\"},\"paper_bgcolor\":\"white\",\"plot_bgcolor\":\"#E5ECF6\",\"polar\":{\"angularaxis\":{\"gridcolor\":\"white\",\"linecolor\":\"white\",\"ticks\":\"\"},\"bgcolor\":\"#E5ECF6\",\"radialaxis\":{\"gridcolor\":\"white\",\"linecolor\":\"white\",\"ticks\":\"\"}},\"scene\":{\"xaxis\":{\"backgroundcolor\":\"#E5ECF6\",\"gridcolor\":\"white\",\"gridwidth\":2,\"linecolor\":\"white\",\"showbackground\":true,\"ticks\":\"\",\"zerolinecolor\":\"white\"},\"yaxis\":{\"backgroundcolor\":\"#E5ECF6\",\"gridcolor\":\"white\",\"gridwidth\":2,\"linecolor\":\"white\",\"showbackground\":true,\"ticks\":\"\",\"zerolinecolor\":\"white\"},\"zaxis\":{\"backgroundcolor\":\"#E5ECF6\",\"gridcolor\":\"white\",\"gridwidth\":2,\"linecolor\":\"white\",\"showbackground\":true,\"ticks\":\"\",\"zerolinecolor\":\"white\"}},\"shapedefaults\":{\"line\":{\"color\":\"#2a3f5f\"}},\"ternary\":{\"aaxis\":{\"gridcolor\":\"white\",\"linecolor\":\"white\",\"ticks\":\"\"},\"baxis\":{\"gridcolor\":\"white\",\"linecolor\":\"white\",\"ticks\":\"\"},\"bgcolor\":\"#E5ECF6\",\"caxis\":{\"gridcolor\":\"white\",\"linecolor\":\"white\",\"ticks\":\"\"}},\"title\":{\"x\":0.05},\"xaxis\":{\"automargin\":true,\"gridcolor\":\"white\",\"linecolor\":\"white\",\"ticks\":\"\",\"title\":{\"standoff\":15},\"zerolinecolor\":\"white\",\"zerolinewidth\":2},\"yaxis\":{\"automargin\":true,\"gridcolor\":\"white\",\"linecolor\":\"white\",\"ticks\":\"\",\"title\":{\"standoff\":15},\"zerolinecolor\":\"white\",\"zerolinewidth\":2}}},\"xaxis\":{\"anchor\":\"y\",\"domain\":[0.0,1.0],\"title\":{\"text\":\"value\"}},\"yaxis\":{\"anchor\":\"x\",\"domain\":[0.0,1.0],\"title\":{\"text\":\"count\"}},\"legend\":{\"title\":{\"text\":\"variable\"},\"tracegroupgap\":0},\"margin\":{\"t\":60},\"barmode\":\"relative\",\"height\":400,\"width\":400},                        {\"responsive\": true}                    ).then(function(){\n",
              "                            \n",
              "var gd = document.getElementById('6f7e120e-cf20-4001-9aaf-76c39070caef');\n",
              "var x = new MutationObserver(function (mutations, observer) {{\n",
              "        var display = window.getComputedStyle(gd).display;\n",
              "        if (!display || display === 'none') {{\n",
              "            console.log([gd, 'removed!']);\n",
              "            Plotly.purge(gd);\n",
              "            observer.disconnect();\n",
              "        }}\n",
              "}});\n",
              "\n",
              "// Listen for the removal of the full notebook cells\n",
              "var notebookContainer = gd.closest('#notebook-container');\n",
              "if (notebookContainer) {{\n",
              "    x.observe(notebookContainer, {childList: true});\n",
              "}}\n",
              "\n",
              "// Listen for the clearing of the current output cell\n",
              "var outputEl = gd.closest('.output');\n",
              "if (outputEl) {{\n",
              "    x.observe(outputEl, {childList: true});\n",
              "}}\n",
              "\n",
              "                        })                };                            </script>        </div>\n",
              "</body>\n",
              "</html>"
            ]
          },
          "metadata": {}
        }
      ]
    },
    {
      "cell_type": "code",
      "source": [
        "y_train_trans = np.log1p(y_train)"
      ],
      "metadata": {
        "id": "c6mwXhO3UJPD"
      },
      "execution_count": null,
      "outputs": []
    },
    {
      "cell_type": "markdown",
      "metadata": {
        "id": "3UbJJrv6i3kM"
      },
      "source": [
        "# 2. Model Selection\n",
        "\n",
        "Our goal is to build a model that predicts the expected value of the sale price (y) of a house by using informations about the house (x). The formula can be expressed as:\n",
        "\n",
        "$E[y_{i}|X=x_{i}]$\n",
        "\n",
        "This is a typical regression problem, and various machine learning models can be used. This notebook uses the following models.\n",
        "- (Regularized) Linear regression\n",
        "- Support vector machine\n",
        "- Random forest\n",
        "- Xgboost\n",
        "- Multi-layer perceptron\n",
        "- Factorization\n",
        "\n",
        "However, we have to \"choose\" one final methodology to make predictions on the test set.\n",
        "To do this, a “fair evaluation” of the models is essential. \"Fair evaluation\" must satisfy the following two conditions.\n",
        "\n",
        "1. Select optimal hyperparameters for each model\n",
        "  - If hyperparameter search is not performed, the difference in model performance may occur due to incorrect hyperparameter values.\n",
        "2. same evaluation method\n",
        "  - If the same evaluation method is not applied, comparison between models itself is impossible.\n",
        "\n",
        "When comparing models through an evaluation method that satisfies the above two conditions,\n",
        "Only then can the final model be selected.\n",
        "\n",
        "\n"
      ]
    },
    {
      "cell_type": "markdown",
      "source": [
        "### > Install Packages"
      ],
      "metadata": {
        "id": "Xjwj0dQOTqdg"
      }
    },
    {
      "cell_type": "code",
      "execution_count": null,
      "metadata": {
        "id": "rT8VOLiSyPYh"
      },
      "outputs": [],
      "source": [
        "! pip install tune_sklearn ray[tune] skorch"
      ]
    },
    {
      "cell_type": "markdown",
      "source": [
        "### > Make a dataframe for containing CV results and best hyper parameters"
      ],
      "metadata": {
        "id": "MUGJQ2glTsoY"
      }
    },
    {
      "cell_type": "code",
      "execution_count": null,
      "metadata": {
        "id": "yecAASyT5ljV"
      },
      "outputs": [],
      "source": [
        "model_list = []\n",
        "for name in ['linear', 'svm', 'rf', 'xgb', 'mlp', 'fm']:\n",
        "  model_list.append(np.full(5, name))\n",
        "  \n",
        "best_cv_df = pd.DataFrame({'model': np.hstack((model_list)), 'log_RMSE':None})"
      ]
    },
    {
      "cell_type": "markdown",
      "metadata": {
        "id": "TpffTJyuKCip"
      },
      "source": [
        "## 2-1. Hyper parameter tuning by using Tune_SKlearn (Ray Tune)\n",
        "\n",
        "- Package: tune_sklearn\n",
        "  - This package makes it easy to apply [Ray Tune](https://docs.ray.io/en/latest/tune/index.html) to sklearn models.\n",
        "  - Ray Tune is a python package that provides various hyperparameter tuning algorithms (HyperOpt, BayesianOptimization, ...).\n",
        "- Tuning procedure\n",
        "  - Define an appropriate search space for each model's hyperparameters.\n",
        "  - 5-fold CV (Cross Validation) is performed for each specific hyper-parameter value combination of the search space by using the hyper-parameter tuning algorithm (HyperOpt)\n",
        "    - Training: Training by using Scikit-Learn and Skorch packages\n",
        "    - Validation: Evaluate the model using an appropriate evaluation metric\n",
        "  - The hyperparameter with the highest average score of the CV result is designated as the optimal hyperparameter of the model.\n",
        "    - Save this CV result and use for model comparison\n",
        "\n"
      ]
    },
    {
      "cell_type": "markdown",
      "metadata": {
        "id": "2MZsMccOKY2B"
      },
      "source": [
        "### Linear regression"
      ]
    },
    {
      "cell_type": "code",
      "execution_count": null,
      "metadata": {
        "colab": {
          "base_uri": "https://localhost:8080/",
          "height": 681
        },
        "id": "2o4dQv1oreS4",
        "outputId": "7cf408ec-1b90-4a49-96bb-f4c82dd83f86"
      },
      "outputs": [
        {
          "output_type": "display_data",
          "data": {
            "text/html": [
              "== Status ==<br>Current time: 2022-02-27 00:29:25 (running for 00:00:12.47)<br>Memory usage on this node: 2.6/12.7 GiB<br>Using FIFO scheduling algorithm.<br>Resources requested: 0/2 CPUs, 0/0 GPUs, 0.0/6.24 GiB heap, 0.0/3.12 GiB objects<br>Result logdir: /root/ray_results/_Trainable_2022-02-27_00-29-12<br>Number of trials: 10/10 (10 TERMINATED)<br><br>"
            ],
            "text/plain": [
              "<IPython.core.display.HTML object>"
            ]
          },
          "metadata": {}
        },
        {
          "output_type": "display_data",
          "data": {
            "text/html": [
              "<html>\n",
              "<head><meta charset=\"utf-8\" /></head>\n",
              "<body>\n",
              "    <div>            <script src=\"https://cdnjs.cloudflare.com/ajax/libs/mathjax/2.7.5/MathJax.js?config=TeX-AMS-MML_SVG\"></script><script type=\"text/javascript\">if (window.MathJax) {MathJax.Hub.Config({SVG: {font: \"STIX-Web\"}});}</script>                <script type=\"text/javascript\">window.PlotlyConfig = {MathJaxConfig: 'local'};</script>\n",
              "        <script src=\"https://cdn.plot.ly/plotly-2.8.3.min.js\"></script>                <div id=\"ec0385a9-d42c-4e03-95da-6b4260560e52\" class=\"plotly-graph-div\" style=\"height:525px; width:100%;\"></div>            <script type=\"text/javascript\">                                    window.PLOTLYENV=window.PLOTLYENV || {};                                    if (document.getElementById(\"ec0385a9-d42c-4e03-95da-6b4260560e52\")) {                    Plotly.newPlot(                        \"ec0385a9-d42c-4e03-95da-6b4260560e52\",                        [{\"dimensions\":[{\"label\":\"alpha\",\"values\":[7.196856730011528e-14,3.727593720314938e-12,7.196856730011528e-14,1.389495494373136e-09,1e-08,3.727593720314938e-12,7.196856730011528e-14,1e-14,1e-14,7.196856730011528e-14]},{\"label\":\"max_iter\",\"values\":[1000,1000,1000,1000,1000,1000,1000,1000,1000,1000]},{\"label\":\"random_state\",\"values\":[2022,2022,2022,2022,2022,2022,2022,2022,2022,2022]},{\"label\":\"tol\",\"values\":[0.1,1e-05,1e-07,1e-05,1e-07,0.1,1e-05,1e-05,1e-05,0.1]},{\"label\":\"mean_test_neg_root_mean_squared_error\",\"values\":[-0.29573490513141276,-0.147240884585674,-0.14374185689850352,-0.14724088732266571,-0.1437418758150096,-0.295734905133104,-0.14724088457831083,-0.14724088457831563,-0.14724088457831563,-0.29573490513141276]}],\"domain\":{\"x\":[0.0,1.0],\"y\":[0.0,1.0]},\"line\":{\"color\":[-0.29573490513141276,-0.147240884585674,-0.14374185689850352,-0.14724088732266571,-0.1437418758150096,-0.295734905133104,-0.14724088457831083,-0.14724088457831563,-0.14724088457831563,-0.29573490513141276],\"coloraxis\":\"coloraxis\"},\"name\":\"\",\"type\":\"parcoords\"}],                        {\"template\":{\"data\":{\"bar\":[{\"error_x\":{\"color\":\"#2a3f5f\"},\"error_y\":{\"color\":\"#2a3f5f\"},\"marker\":{\"line\":{\"color\":\"#E5ECF6\",\"width\":0.5},\"pattern\":{\"fillmode\":\"overlay\",\"size\":10,\"solidity\":0.2}},\"type\":\"bar\"}],\"barpolar\":[{\"marker\":{\"line\":{\"color\":\"#E5ECF6\",\"width\":0.5},\"pattern\":{\"fillmode\":\"overlay\",\"size\":10,\"solidity\":0.2}},\"type\":\"barpolar\"}],\"carpet\":[{\"aaxis\":{\"endlinecolor\":\"#2a3f5f\",\"gridcolor\":\"white\",\"linecolor\":\"white\",\"minorgridcolor\":\"white\",\"startlinecolor\":\"#2a3f5f\"},\"baxis\":{\"endlinecolor\":\"#2a3f5f\",\"gridcolor\":\"white\",\"linecolor\":\"white\",\"minorgridcolor\":\"white\",\"startlinecolor\":\"#2a3f5f\"},\"type\":\"carpet\"}],\"choropleth\":[{\"colorbar\":{\"outlinewidth\":0,\"ticks\":\"\"},\"type\":\"choropleth\"}],\"contour\":[{\"colorbar\":{\"outlinewidth\":0,\"ticks\":\"\"},\"colorscale\":[[0.0,\"#0d0887\"],[0.1111111111111111,\"#46039f\"],[0.2222222222222222,\"#7201a8\"],[0.3333333333333333,\"#9c179e\"],[0.4444444444444444,\"#bd3786\"],[0.5555555555555556,\"#d8576b\"],[0.6666666666666666,\"#ed7953\"],[0.7777777777777778,\"#fb9f3a\"],[0.8888888888888888,\"#fdca26\"],[1.0,\"#f0f921\"]],\"type\":\"contour\"}],\"contourcarpet\":[{\"colorbar\":{\"outlinewidth\":0,\"ticks\":\"\"},\"type\":\"contourcarpet\"}],\"heatmap\":[{\"colorbar\":{\"outlinewidth\":0,\"ticks\":\"\"},\"colorscale\":[[0.0,\"#0d0887\"],[0.1111111111111111,\"#46039f\"],[0.2222222222222222,\"#7201a8\"],[0.3333333333333333,\"#9c179e\"],[0.4444444444444444,\"#bd3786\"],[0.5555555555555556,\"#d8576b\"],[0.6666666666666666,\"#ed7953\"],[0.7777777777777778,\"#fb9f3a\"],[0.8888888888888888,\"#fdca26\"],[1.0,\"#f0f921\"]],\"type\":\"heatmap\"}],\"heatmapgl\":[{\"colorbar\":{\"outlinewidth\":0,\"ticks\":\"\"},\"colorscale\":[[0.0,\"#0d0887\"],[0.1111111111111111,\"#46039f\"],[0.2222222222222222,\"#7201a8\"],[0.3333333333333333,\"#9c179e\"],[0.4444444444444444,\"#bd3786\"],[0.5555555555555556,\"#d8576b\"],[0.6666666666666666,\"#ed7953\"],[0.7777777777777778,\"#fb9f3a\"],[0.8888888888888888,\"#fdca26\"],[1.0,\"#f0f921\"]],\"type\":\"heatmapgl\"}],\"histogram\":[{\"marker\":{\"pattern\":{\"fillmode\":\"overlay\",\"size\":10,\"solidity\":0.2}},\"type\":\"histogram\"}],\"histogram2d\":[{\"colorbar\":{\"outlinewidth\":0,\"ticks\":\"\"},\"colorscale\":[[0.0,\"#0d0887\"],[0.1111111111111111,\"#46039f\"],[0.2222222222222222,\"#7201a8\"],[0.3333333333333333,\"#9c179e\"],[0.4444444444444444,\"#bd3786\"],[0.5555555555555556,\"#d8576b\"],[0.6666666666666666,\"#ed7953\"],[0.7777777777777778,\"#fb9f3a\"],[0.8888888888888888,\"#fdca26\"],[1.0,\"#f0f921\"]],\"type\":\"histogram2d\"}],\"histogram2dcontour\":[{\"colorbar\":{\"outlinewidth\":0,\"ticks\":\"\"},\"colorscale\":[[0.0,\"#0d0887\"],[0.1111111111111111,\"#46039f\"],[0.2222222222222222,\"#7201a8\"],[0.3333333333333333,\"#9c179e\"],[0.4444444444444444,\"#bd3786\"],[0.5555555555555556,\"#d8576b\"],[0.6666666666666666,\"#ed7953\"],[0.7777777777777778,\"#fb9f3a\"],[0.8888888888888888,\"#fdca26\"],[1.0,\"#f0f921\"]],\"type\":\"histogram2dcontour\"}],\"mesh3d\":[{\"colorbar\":{\"outlinewidth\":0,\"ticks\":\"\"},\"type\":\"mesh3d\"}],\"parcoords\":[{\"line\":{\"colorbar\":{\"outlinewidth\":0,\"ticks\":\"\"}},\"type\":\"parcoords\"}],\"pie\":[{\"automargin\":true,\"type\":\"pie\"}],\"scatter\":[{\"marker\":{\"colorbar\":{\"outlinewidth\":0,\"ticks\":\"\"}},\"type\":\"scatter\"}],\"scatter3d\":[{\"line\":{\"colorbar\":{\"outlinewidth\":0,\"ticks\":\"\"}},\"marker\":{\"colorbar\":{\"outlinewidth\":0,\"ticks\":\"\"}},\"type\":\"scatter3d\"}],\"scattercarpet\":[{\"marker\":{\"colorbar\":{\"outlinewidth\":0,\"ticks\":\"\"}},\"type\":\"scattercarpet\"}],\"scattergeo\":[{\"marker\":{\"colorbar\":{\"outlinewidth\":0,\"ticks\":\"\"}},\"type\":\"scattergeo\"}],\"scattergl\":[{\"marker\":{\"colorbar\":{\"outlinewidth\":0,\"ticks\":\"\"}},\"type\":\"scattergl\"}],\"scattermapbox\":[{\"marker\":{\"colorbar\":{\"outlinewidth\":0,\"ticks\":\"\"}},\"type\":\"scattermapbox\"}],\"scatterpolar\":[{\"marker\":{\"colorbar\":{\"outlinewidth\":0,\"ticks\":\"\"}},\"type\":\"scatterpolar\"}],\"scatterpolargl\":[{\"marker\":{\"colorbar\":{\"outlinewidth\":0,\"ticks\":\"\"}},\"type\":\"scatterpolargl\"}],\"scatterternary\":[{\"marker\":{\"colorbar\":{\"outlinewidth\":0,\"ticks\":\"\"}},\"type\":\"scatterternary\"}],\"surface\":[{\"colorbar\":{\"outlinewidth\":0,\"ticks\":\"\"},\"colorscale\":[[0.0,\"#0d0887\"],[0.1111111111111111,\"#46039f\"],[0.2222222222222222,\"#7201a8\"],[0.3333333333333333,\"#9c179e\"],[0.4444444444444444,\"#bd3786\"],[0.5555555555555556,\"#d8576b\"],[0.6666666666666666,\"#ed7953\"],[0.7777777777777778,\"#fb9f3a\"],[0.8888888888888888,\"#fdca26\"],[1.0,\"#f0f921\"]],\"type\":\"surface\"}],\"table\":[{\"cells\":{\"fill\":{\"color\":\"#EBF0F8\"},\"line\":{\"color\":\"white\"}},\"header\":{\"fill\":{\"color\":\"#C8D4E3\"},\"line\":{\"color\":\"white\"}},\"type\":\"table\"}]},\"layout\":{\"annotationdefaults\":{\"arrowcolor\":\"#2a3f5f\",\"arrowhead\":0,\"arrowwidth\":1},\"autotypenumbers\":\"strict\",\"coloraxis\":{\"colorbar\":{\"outlinewidth\":0,\"ticks\":\"\"}},\"colorscale\":{\"diverging\":[[0,\"#8e0152\"],[0.1,\"#c51b7d\"],[0.2,\"#de77ae\"],[0.3,\"#f1b6da\"],[0.4,\"#fde0ef\"],[0.5,\"#f7f7f7\"],[0.6,\"#e6f5d0\"],[0.7,\"#b8e186\"],[0.8,\"#7fbc41\"],[0.9,\"#4d9221\"],[1,\"#276419\"]],\"sequential\":[[0.0,\"#0d0887\"],[0.1111111111111111,\"#46039f\"],[0.2222222222222222,\"#7201a8\"],[0.3333333333333333,\"#9c179e\"],[0.4444444444444444,\"#bd3786\"],[0.5555555555555556,\"#d8576b\"],[0.6666666666666666,\"#ed7953\"],[0.7777777777777778,\"#fb9f3a\"],[0.8888888888888888,\"#fdca26\"],[1.0,\"#f0f921\"]],\"sequentialminus\":[[0.0,\"#0d0887\"],[0.1111111111111111,\"#46039f\"],[0.2222222222222222,\"#7201a8\"],[0.3333333333333333,\"#9c179e\"],[0.4444444444444444,\"#bd3786\"],[0.5555555555555556,\"#d8576b\"],[0.6666666666666666,\"#ed7953\"],[0.7777777777777778,\"#fb9f3a\"],[0.8888888888888888,\"#fdca26\"],[1.0,\"#f0f921\"]]},\"colorway\":[\"#636efa\",\"#EF553B\",\"#00cc96\",\"#ab63fa\",\"#FFA15A\",\"#19d3f3\",\"#FF6692\",\"#B6E880\",\"#FF97FF\",\"#FECB52\"],\"font\":{\"color\":\"#2a3f5f\"},\"geo\":{\"bgcolor\":\"white\",\"lakecolor\":\"white\",\"landcolor\":\"#E5ECF6\",\"showlakes\":true,\"showland\":true,\"subunitcolor\":\"white\"},\"hoverlabel\":{\"align\":\"left\"},\"hovermode\":\"closest\",\"mapbox\":{\"style\":\"light\"},\"paper_bgcolor\":\"white\",\"plot_bgcolor\":\"#E5ECF6\",\"polar\":{\"angularaxis\":{\"gridcolor\":\"white\",\"linecolor\":\"white\",\"ticks\":\"\"},\"bgcolor\":\"#E5ECF6\",\"radialaxis\":{\"gridcolor\":\"white\",\"linecolor\":\"white\",\"ticks\":\"\"}},\"scene\":{\"xaxis\":{\"backgroundcolor\":\"#E5ECF6\",\"gridcolor\":\"white\",\"gridwidth\":2,\"linecolor\":\"white\",\"showbackground\":true,\"ticks\":\"\",\"zerolinecolor\":\"white\"},\"yaxis\":{\"backgroundcolor\":\"#E5ECF6\",\"gridcolor\":\"white\",\"gridwidth\":2,\"linecolor\":\"white\",\"showbackground\":true,\"ticks\":\"\",\"zerolinecolor\":\"white\"},\"zaxis\":{\"backgroundcolor\":\"#E5ECF6\",\"gridcolor\":\"white\",\"gridwidth\":2,\"linecolor\":\"white\",\"showbackground\":true,\"ticks\":\"\",\"zerolinecolor\":\"white\"}},\"shapedefaults\":{\"line\":{\"color\":\"#2a3f5f\"}},\"ternary\":{\"aaxis\":{\"gridcolor\":\"white\",\"linecolor\":\"white\",\"ticks\":\"\"},\"baxis\":{\"gridcolor\":\"white\",\"linecolor\":\"white\",\"ticks\":\"\"},\"bgcolor\":\"#E5ECF6\",\"caxis\":{\"gridcolor\":\"white\",\"linecolor\":\"white\",\"ticks\":\"\"}},\"title\":{\"x\":0.05},\"xaxis\":{\"automargin\":true,\"gridcolor\":\"white\",\"linecolor\":\"white\",\"ticks\":\"\",\"title\":{\"standoff\":15},\"zerolinecolor\":\"white\",\"zerolinewidth\":2},\"yaxis\":{\"automargin\":true,\"gridcolor\":\"white\",\"linecolor\":\"white\",\"ticks\":\"\",\"title\":{\"standoff\":15},\"zerolinecolor\":\"white\",\"zerolinewidth\":2}}},\"coloraxis\":{\"colorbar\":{\"title\":{\"text\":\"mean_test_neg_root_mean_squared_error\"}},\"colorscale\":[[0.0,\"#0d0887\"],[0.1111111111111111,\"#46039f\"],[0.2222222222222222,\"#7201a8\"],[0.3333333333333333,\"#9c179e\"],[0.4444444444444444,\"#bd3786\"],[0.5555555555555556,\"#d8576b\"],[0.6666666666666666,\"#ed7953\"],[0.7777777777777778,\"#fb9f3a\"],[0.8888888888888888,\"#fdca26\"],[1.0,\"#f0f921\"]]},\"legend\":{\"tracegroupgap\":0},\"margin\":{\"t\":60}},                        {\"responsive\": true}                    ).then(function(){\n",
              "                            \n",
              "var gd = document.getElementById('ec0385a9-d42c-4e03-95da-6b4260560e52');\n",
              "var x = new MutationObserver(function (mutations, observer) {{\n",
              "        var display = window.getComputedStyle(gd).display;\n",
              "        if (!display || display === 'none') {{\n",
              "            console.log([gd, 'removed!']);\n",
              "            Plotly.purge(gd);\n",
              "            observer.disconnect();\n",
              "        }}\n",
              "}});\n",
              "\n",
              "// Listen for the removal of the full notebook cells\n",
              "var notebookContainer = gd.closest('#notebook-container');\n",
              "if (notebookContainer) {{\n",
              "    x.observe(notebookContainer, {childList: true});\n",
              "}}\n",
              "\n",
              "// Listen for the clearing of the current output cell\n",
              "var outputEl = gd.closest('.output');\n",
              "if (outputEl) {{\n",
              "    x.observe(outputEl, {childList: true});\n",
              "}}\n",
              "\n",
              "                        })                };                            </script>        </div>\n",
              "</body>\n",
              "</html>"
            ]
          },
          "metadata": {}
        }
      ],
      "source": [
        "from tune_sklearn import TuneSearchCV\n",
        "from sklearn.linear_model import SGDRegressor\n",
        "\n",
        "# Define a search space\n",
        "parameters = {\n",
        "    'alpha': list(np.geomspace(1e-14, 1e-8, 8)),\n",
        "    'loss': ['squared_error'],\n",
        "    'penalty': ['l2'],\n",
        "    'max_iter': [1000],\n",
        "    'tol': list(np.geomspace(1e-7, 1e-1, 4)),\n",
        "    'random_state': [random_state],\n",
        "}\n",
        "\n",
        "# Specify the hyper parameter tuning algorithm\n",
        "tune_search = TuneSearchCV(\n",
        "    SGDRegressor(),\n",
        "    parameters,\n",
        "    search_optimization='hyperopt',\n",
        "    n_trials=10,\n",
        "    n_jobs=-1,\n",
        "    scoring=['neg_root_mean_squared_error'],\n",
        "    cv=5,\n",
        "    refit='neg_root_mean_squared_error', # target metric of competition\n",
        "    verbose=1\n",
        "    )\n",
        "\n",
        "# Run hyper parameter tuning\n",
        "X = X_train \n",
        "y = y_train_trans\n",
        "tune_search.fit(X, y)\n",
        "\n",
        "# Save the tuning results \n",
        "model_name = 'linear'\n",
        "\n",
        "## Save the optimal hyper parmater values\n",
        "best_cv_df.loc[best_cv_df['model']==model_name, 'best_hyper_param'] = str(tune_search.best_params_)\n",
        "\n",
        "## Save the CV results\n",
        "cv_df = pd.DataFrame(tune_search.cv_results_)\n",
        "cv_values = cv_df.loc[tune_search.best_index_, cv_df.columns.str.startswith('split')].values\n",
        "best_cv_df.loc[best_cv_df['model']==model_name, 'neg_root_mean_squared_error'] = cv_values[:5]\n",
        "\n",
        "# Visualize the tuning results with parallel coordinate plot\n",
        "tune_result_df = pd.concat([pd.DataFrame(tune_search.cv_results_['params']), cv_df.loc[:,cv_df.columns.str.startswith('mean')] ], axis=1)\n",
        "import plotly.express as px\n",
        "fig = px.parallel_coordinates(tune_result_df, color='mean_test_neg_root_mean_squared_error')\n",
        "fig.show()"
      ]
    },
    {
      "cell_type": "markdown",
      "metadata": {
        "id": "db18WC2yKc9p"
      },
      "source": [
        "### Support vector machine"
      ]
    },
    {
      "cell_type": "code",
      "execution_count": null,
      "metadata": {
        "colab": {
          "base_uri": "https://localhost:8080/",
          "height": 681
        },
        "id": "VsI-OMilwGxb",
        "outputId": "ec2a0493-a478-44c4-8f64-cb8c5dd857fe"
      },
      "outputs": [
        {
          "output_type": "display_data",
          "data": {
            "text/html": [
              "== Status ==<br>Current time: 2022-02-27 00:29:44 (running for 00:00:12.36)<br>Memory usage on this node: 2.6/12.7 GiB<br>Using FIFO scheduling algorithm.<br>Resources requested: 0/2 CPUs, 0/0 GPUs, 0.0/6.24 GiB heap, 0.0/3.12 GiB objects<br>Result logdir: /root/ray_results/_Trainable_2022-02-27_00-29-31<br>Number of trials: 16/16 (16 TERMINATED)<br><br>"
            ],
            "text/plain": [
              "<IPython.core.display.HTML object>"
            ]
          },
          "metadata": {}
        },
        {
          "output_type": "display_data",
          "data": {
            "text/html": [
              "<html>\n",
              "<head><meta charset=\"utf-8\" /></head>\n",
              "<body>\n",
              "    <div>            <script src=\"https://cdnjs.cloudflare.com/ajax/libs/mathjax/2.7.5/MathJax.js?config=TeX-AMS-MML_SVG\"></script><script type=\"text/javascript\">if (window.MathJax) {MathJax.Hub.Config({SVG: {font: \"STIX-Web\"}});}</script>                <script type=\"text/javascript\">window.PlotlyConfig = {MathJaxConfig: 'local'};</script>\n",
              "        <script src=\"https://cdn.plot.ly/plotly-2.8.3.min.js\"></script>                <div id=\"5f2a71a6-2bff-4193-817a-b5d434d96fff\" class=\"plotly-graph-div\" style=\"height:525px; width:100%;\"></div>            <script type=\"text/javascript\">                                    window.PLOTLYENV=window.PLOTLYENV || {};                                    if (document.getElementById(\"5f2a71a6-2bff-4193-817a-b5d434d96fff\")) {                    Plotly.newPlot(                        \"5f2a71a6-2bff-4193-817a-b5d434d96fff\",                        [{\"dimensions\":[{\"label\":\"alpha\",\"values\":[0.001,0.001,1e-07,0.001,1e-07,1e-05,1e-07,1e-05,0.001,1e-05,0.001,1e-05,1e-07,1e-05,1e-07,1e-05]},{\"label\":\"epsilon\",\"values\":[0.001,1e-05,0.1,0.001,0.001,1e-05,1e-05,0.1,0.1,0.1,1e-05,0.001,1e-05,0.1,0.1,0.001]},{\"label\":\"max_iter\",\"values\":[1000,1000,1000,1000,1000,1000,1000,1000,1000,1000,1000,1000,1000,1000,1000,1000]},{\"label\":\"random_state\",\"values\":[2022,2022,2022,2022,2022,2022,2022,2022,2022,2022,2022,2022,2022,2022,2022,2022]},{\"label\":\"tol\",\"values\":[0.1,0.1,0.1,1e-05,0.1,1e-05,0.001,0.1,1e-07,1e-05,0.001,0.1,0.001,0.001,1e-07,0.1]},{\"label\":\"mean_test_neg_root_mean_squared_error\",\"values\":[-0.24391790979244368,-0.24863689303530903,-0.24508431286316976,-6.957270132812364,-11.772542548910913,-0.1361928591398922,-0.1435401878087247,-0.5559015549061981,-0.17029094126685057,-0.18699448533912272,-12.037634336410065,-0.24441864538414898,-12.03762155999122,-0.16194432107756124,-0.16149506919874593,-11.772555239198152]}],\"domain\":{\"x\":[0.0,1.0],\"y\":[0.0,1.0]},\"line\":{\"color\":[-0.24391790979244368,-0.24863689303530903,-0.24508431286316976,-6.957270132812364,-11.772542548910913,-0.1361928591398922,-0.1435401878087247,-0.5559015549061981,-0.17029094126685057,-0.18699448533912272,-12.037634336410065,-0.24441864538414898,-12.03762155999122,-0.16194432107756124,-0.16149506919874593,-11.772555239198152],\"coloraxis\":\"coloraxis\"},\"name\":\"\",\"type\":\"parcoords\"}],                        {\"template\":{\"data\":{\"bar\":[{\"error_x\":{\"color\":\"#2a3f5f\"},\"error_y\":{\"color\":\"#2a3f5f\"},\"marker\":{\"line\":{\"color\":\"#E5ECF6\",\"width\":0.5},\"pattern\":{\"fillmode\":\"overlay\",\"size\":10,\"solidity\":0.2}},\"type\":\"bar\"}],\"barpolar\":[{\"marker\":{\"line\":{\"color\":\"#E5ECF6\",\"width\":0.5},\"pattern\":{\"fillmode\":\"overlay\",\"size\":10,\"solidity\":0.2}},\"type\":\"barpolar\"}],\"carpet\":[{\"aaxis\":{\"endlinecolor\":\"#2a3f5f\",\"gridcolor\":\"white\",\"linecolor\":\"white\",\"minorgridcolor\":\"white\",\"startlinecolor\":\"#2a3f5f\"},\"baxis\":{\"endlinecolor\":\"#2a3f5f\",\"gridcolor\":\"white\",\"linecolor\":\"white\",\"minorgridcolor\":\"white\",\"startlinecolor\":\"#2a3f5f\"},\"type\":\"carpet\"}],\"choropleth\":[{\"colorbar\":{\"outlinewidth\":0,\"ticks\":\"\"},\"type\":\"choropleth\"}],\"contour\":[{\"colorbar\":{\"outlinewidth\":0,\"ticks\":\"\"},\"colorscale\":[[0.0,\"#0d0887\"],[0.1111111111111111,\"#46039f\"],[0.2222222222222222,\"#7201a8\"],[0.3333333333333333,\"#9c179e\"],[0.4444444444444444,\"#bd3786\"],[0.5555555555555556,\"#d8576b\"],[0.6666666666666666,\"#ed7953\"],[0.7777777777777778,\"#fb9f3a\"],[0.8888888888888888,\"#fdca26\"],[1.0,\"#f0f921\"]],\"type\":\"contour\"}],\"contourcarpet\":[{\"colorbar\":{\"outlinewidth\":0,\"ticks\":\"\"},\"type\":\"contourcarpet\"}],\"heatmap\":[{\"colorbar\":{\"outlinewidth\":0,\"ticks\":\"\"},\"colorscale\":[[0.0,\"#0d0887\"],[0.1111111111111111,\"#46039f\"],[0.2222222222222222,\"#7201a8\"],[0.3333333333333333,\"#9c179e\"],[0.4444444444444444,\"#bd3786\"],[0.5555555555555556,\"#d8576b\"],[0.6666666666666666,\"#ed7953\"],[0.7777777777777778,\"#fb9f3a\"],[0.8888888888888888,\"#fdca26\"],[1.0,\"#f0f921\"]],\"type\":\"heatmap\"}],\"heatmapgl\":[{\"colorbar\":{\"outlinewidth\":0,\"ticks\":\"\"},\"colorscale\":[[0.0,\"#0d0887\"],[0.1111111111111111,\"#46039f\"],[0.2222222222222222,\"#7201a8\"],[0.3333333333333333,\"#9c179e\"],[0.4444444444444444,\"#bd3786\"],[0.5555555555555556,\"#d8576b\"],[0.6666666666666666,\"#ed7953\"],[0.7777777777777778,\"#fb9f3a\"],[0.8888888888888888,\"#fdca26\"],[1.0,\"#f0f921\"]],\"type\":\"heatmapgl\"}],\"histogram\":[{\"marker\":{\"pattern\":{\"fillmode\":\"overlay\",\"size\":10,\"solidity\":0.2}},\"type\":\"histogram\"}],\"histogram2d\":[{\"colorbar\":{\"outlinewidth\":0,\"ticks\":\"\"},\"colorscale\":[[0.0,\"#0d0887\"],[0.1111111111111111,\"#46039f\"],[0.2222222222222222,\"#7201a8\"],[0.3333333333333333,\"#9c179e\"],[0.4444444444444444,\"#bd3786\"],[0.5555555555555556,\"#d8576b\"],[0.6666666666666666,\"#ed7953\"],[0.7777777777777778,\"#fb9f3a\"],[0.8888888888888888,\"#fdca26\"],[1.0,\"#f0f921\"]],\"type\":\"histogram2d\"}],\"histogram2dcontour\":[{\"colorbar\":{\"outlinewidth\":0,\"ticks\":\"\"},\"colorscale\":[[0.0,\"#0d0887\"],[0.1111111111111111,\"#46039f\"],[0.2222222222222222,\"#7201a8\"],[0.3333333333333333,\"#9c179e\"],[0.4444444444444444,\"#bd3786\"],[0.5555555555555556,\"#d8576b\"],[0.6666666666666666,\"#ed7953\"],[0.7777777777777778,\"#fb9f3a\"],[0.8888888888888888,\"#fdca26\"],[1.0,\"#f0f921\"]],\"type\":\"histogram2dcontour\"}],\"mesh3d\":[{\"colorbar\":{\"outlinewidth\":0,\"ticks\":\"\"},\"type\":\"mesh3d\"}],\"parcoords\":[{\"line\":{\"colorbar\":{\"outlinewidth\":0,\"ticks\":\"\"}},\"type\":\"parcoords\"}],\"pie\":[{\"automargin\":true,\"type\":\"pie\"}],\"scatter\":[{\"marker\":{\"colorbar\":{\"outlinewidth\":0,\"ticks\":\"\"}},\"type\":\"scatter\"}],\"scatter3d\":[{\"line\":{\"colorbar\":{\"outlinewidth\":0,\"ticks\":\"\"}},\"marker\":{\"colorbar\":{\"outlinewidth\":0,\"ticks\":\"\"}},\"type\":\"scatter3d\"}],\"scattercarpet\":[{\"marker\":{\"colorbar\":{\"outlinewidth\":0,\"ticks\":\"\"}},\"type\":\"scattercarpet\"}],\"scattergeo\":[{\"marker\":{\"colorbar\":{\"outlinewidth\":0,\"ticks\":\"\"}},\"type\":\"scattergeo\"}],\"scattergl\":[{\"marker\":{\"colorbar\":{\"outlinewidth\":0,\"ticks\":\"\"}},\"type\":\"scattergl\"}],\"scattermapbox\":[{\"marker\":{\"colorbar\":{\"outlinewidth\":0,\"ticks\":\"\"}},\"type\":\"scattermapbox\"}],\"scatterpolar\":[{\"marker\":{\"colorbar\":{\"outlinewidth\":0,\"ticks\":\"\"}},\"type\":\"scatterpolar\"}],\"scatterpolargl\":[{\"marker\":{\"colorbar\":{\"outlinewidth\":0,\"ticks\":\"\"}},\"type\":\"scatterpolargl\"}],\"scatterternary\":[{\"marker\":{\"colorbar\":{\"outlinewidth\":0,\"ticks\":\"\"}},\"type\":\"scatterternary\"}],\"surface\":[{\"colorbar\":{\"outlinewidth\":0,\"ticks\":\"\"},\"colorscale\":[[0.0,\"#0d0887\"],[0.1111111111111111,\"#46039f\"],[0.2222222222222222,\"#7201a8\"],[0.3333333333333333,\"#9c179e\"],[0.4444444444444444,\"#bd3786\"],[0.5555555555555556,\"#d8576b\"],[0.6666666666666666,\"#ed7953\"],[0.7777777777777778,\"#fb9f3a\"],[0.8888888888888888,\"#fdca26\"],[1.0,\"#f0f921\"]],\"type\":\"surface\"}],\"table\":[{\"cells\":{\"fill\":{\"color\":\"#EBF0F8\"},\"line\":{\"color\":\"white\"}},\"header\":{\"fill\":{\"color\":\"#C8D4E3\"},\"line\":{\"color\":\"white\"}},\"type\":\"table\"}]},\"layout\":{\"annotationdefaults\":{\"arrowcolor\":\"#2a3f5f\",\"arrowhead\":0,\"arrowwidth\":1},\"autotypenumbers\":\"strict\",\"coloraxis\":{\"colorbar\":{\"outlinewidth\":0,\"ticks\":\"\"}},\"colorscale\":{\"diverging\":[[0,\"#8e0152\"],[0.1,\"#c51b7d\"],[0.2,\"#de77ae\"],[0.3,\"#f1b6da\"],[0.4,\"#fde0ef\"],[0.5,\"#f7f7f7\"],[0.6,\"#e6f5d0\"],[0.7,\"#b8e186\"],[0.8,\"#7fbc41\"],[0.9,\"#4d9221\"],[1,\"#276419\"]],\"sequential\":[[0.0,\"#0d0887\"],[0.1111111111111111,\"#46039f\"],[0.2222222222222222,\"#7201a8\"],[0.3333333333333333,\"#9c179e\"],[0.4444444444444444,\"#bd3786\"],[0.5555555555555556,\"#d8576b\"],[0.6666666666666666,\"#ed7953\"],[0.7777777777777778,\"#fb9f3a\"],[0.8888888888888888,\"#fdca26\"],[1.0,\"#f0f921\"]],\"sequentialminus\":[[0.0,\"#0d0887\"],[0.1111111111111111,\"#46039f\"],[0.2222222222222222,\"#7201a8\"],[0.3333333333333333,\"#9c179e\"],[0.4444444444444444,\"#bd3786\"],[0.5555555555555556,\"#d8576b\"],[0.6666666666666666,\"#ed7953\"],[0.7777777777777778,\"#fb9f3a\"],[0.8888888888888888,\"#fdca26\"],[1.0,\"#f0f921\"]]},\"colorway\":[\"#636efa\",\"#EF553B\",\"#00cc96\",\"#ab63fa\",\"#FFA15A\",\"#19d3f3\",\"#FF6692\",\"#B6E880\",\"#FF97FF\",\"#FECB52\"],\"font\":{\"color\":\"#2a3f5f\"},\"geo\":{\"bgcolor\":\"white\",\"lakecolor\":\"white\",\"landcolor\":\"#E5ECF6\",\"showlakes\":true,\"showland\":true,\"subunitcolor\":\"white\"},\"hoverlabel\":{\"align\":\"left\"},\"hovermode\":\"closest\",\"mapbox\":{\"style\":\"light\"},\"paper_bgcolor\":\"white\",\"plot_bgcolor\":\"#E5ECF6\",\"polar\":{\"angularaxis\":{\"gridcolor\":\"white\",\"linecolor\":\"white\",\"ticks\":\"\"},\"bgcolor\":\"#E5ECF6\",\"radialaxis\":{\"gridcolor\":\"white\",\"linecolor\":\"white\",\"ticks\":\"\"}},\"scene\":{\"xaxis\":{\"backgroundcolor\":\"#E5ECF6\",\"gridcolor\":\"white\",\"gridwidth\":2,\"linecolor\":\"white\",\"showbackground\":true,\"ticks\":\"\",\"zerolinecolor\":\"white\"},\"yaxis\":{\"backgroundcolor\":\"#E5ECF6\",\"gridcolor\":\"white\",\"gridwidth\":2,\"linecolor\":\"white\",\"showbackground\":true,\"ticks\":\"\",\"zerolinecolor\":\"white\"},\"zaxis\":{\"backgroundcolor\":\"#E5ECF6\",\"gridcolor\":\"white\",\"gridwidth\":2,\"linecolor\":\"white\",\"showbackground\":true,\"ticks\":\"\",\"zerolinecolor\":\"white\"}},\"shapedefaults\":{\"line\":{\"color\":\"#2a3f5f\"}},\"ternary\":{\"aaxis\":{\"gridcolor\":\"white\",\"linecolor\":\"white\",\"ticks\":\"\"},\"baxis\":{\"gridcolor\":\"white\",\"linecolor\":\"white\",\"ticks\":\"\"},\"bgcolor\":\"#E5ECF6\",\"caxis\":{\"gridcolor\":\"white\",\"linecolor\":\"white\",\"ticks\":\"\"}},\"title\":{\"x\":0.05},\"xaxis\":{\"automargin\":true,\"gridcolor\":\"white\",\"linecolor\":\"white\",\"ticks\":\"\",\"title\":{\"standoff\":15},\"zerolinecolor\":\"white\",\"zerolinewidth\":2},\"yaxis\":{\"automargin\":true,\"gridcolor\":\"white\",\"linecolor\":\"white\",\"ticks\":\"\",\"title\":{\"standoff\":15},\"zerolinecolor\":\"white\",\"zerolinewidth\":2}}},\"coloraxis\":{\"colorbar\":{\"title\":{\"text\":\"mean_test_neg_root_mean_squared_error\"}},\"colorscale\":[[0.0,\"#0d0887\"],[0.1111111111111111,\"#46039f\"],[0.2222222222222222,\"#7201a8\"],[0.3333333333333333,\"#9c179e\"],[0.4444444444444444,\"#bd3786\"],[0.5555555555555556,\"#d8576b\"],[0.6666666666666666,\"#ed7953\"],[0.7777777777777778,\"#fb9f3a\"],[0.8888888888888888,\"#fdca26\"],[1.0,\"#f0f921\"]]},\"legend\":{\"tracegroupgap\":0},\"margin\":{\"t\":60}},                        {\"responsive\": true}                    ).then(function(){\n",
              "                            \n",
              "var gd = document.getElementById('5f2a71a6-2bff-4193-817a-b5d434d96fff');\n",
              "var x = new MutationObserver(function (mutations, observer) {{\n",
              "        var display = window.getComputedStyle(gd).display;\n",
              "        if (!display || display === 'none') {{\n",
              "            console.log([gd, 'removed!']);\n",
              "            Plotly.purge(gd);\n",
              "            observer.disconnect();\n",
              "        }}\n",
              "}});\n",
              "\n",
              "// Listen for the removal of the full notebook cells\n",
              "var notebookContainer = gd.closest('#notebook-container');\n",
              "if (notebookContainer) {{\n",
              "    x.observe(notebookContainer, {childList: true});\n",
              "}}\n",
              "\n",
              "// Listen for the clearing of the current output cell\n",
              "var outputEl = gd.closest('.output');\n",
              "if (outputEl) {{\n",
              "    x.observe(outputEl, {childList: true});\n",
              "}}\n",
              "\n",
              "                        })                };                            </script>        </div>\n",
              "</body>\n",
              "</html>"
            ]
          },
          "metadata": {}
        }
      ],
      "source": [
        "from tune_sklearn import TuneSearchCV\n",
        "from sklearn.linear_model import SGDRegressor\n",
        "\n",
        "# Define a search space\n",
        "parameters = {\n",
        "    'alpha': list(np.geomspace(1e-7, 1e-3, 3)),\n",
        "    'epsilon': list(np.geomspace(1e-5, 1e-1, 3)),\n",
        "    'loss': ['huber', 'epsilon_insensitive'],\n",
        "    'tol': list(np.geomspace(1e-7, 1e-1, 4)),\n",
        "    'max_iter': [1000],\n",
        "    'penalty': ['l2'],\n",
        "    'random_state': [random_state]\n",
        "}\n",
        "\n",
        "# Specify the hyper parameter tuning algorithm\n",
        "tune_search = TuneSearchCV(\n",
        "    SGDRegressor(),\n",
        "    parameters,\n",
        "    search_optimization='hyperopt',\n",
        "    n_trials=16,\n",
        "    n_jobs=-1,\n",
        "    scoring=['neg_root_mean_squared_error'],\n",
        "    cv=5,\n",
        "    refit='neg_root_mean_squared_error', # target metric of competition\n",
        "    verbose=1\n",
        "    )\n",
        "\n",
        "# Run hyper parameter tuning\n",
        "X = X_train \n",
        "y = y_train_trans\n",
        "tune_search.fit(X, y)\n",
        "\n",
        "# Save the tuning results \n",
        "model_name = 'svm'\n",
        "\n",
        "## Save the optimal hyper parmater values\n",
        "best_cv_df.loc[best_cv_df['model']==model_name, 'best_hyper_param'] = str(tune_search.best_params_)\n",
        "\n",
        "## Save the CV results\n",
        "cv_df = pd.DataFrame(tune_search.cv_results_)\n",
        "cv_values = cv_df.loc[tune_search.best_index_, cv_df.columns.str.startswith('split')].values\n",
        "best_cv_df.loc[best_cv_df['model']==model_name, 'neg_root_mean_squared_error'] = cv_values[:5]\n",
        "\n",
        "# Visualize the tuning results with parallel coordinate plot\n",
        "tune_result_df = pd.concat([pd.DataFrame(tune_search.cv_results_['params']), cv_df.loc[:,cv_df.columns.str.startswith('mean')] ], axis=1)\n",
        "import plotly.express as px\n",
        "fig = px.parallel_coordinates(tune_result_df, color='mean_test_neg_root_mean_squared_error')\n",
        "fig.show()"
      ]
    },
    {
      "cell_type": "markdown",
      "metadata": {
        "id": "TZV1XLbAKffy"
      },
      "source": [
        "### Random forest"
      ]
    },
    {
      "cell_type": "code",
      "execution_count": null,
      "metadata": {
        "colab": {
          "base_uri": "https://localhost:8080/",
          "height": 681
        },
        "id": "10x4_Hh9hqMN",
        "outputId": "6384bc80-2336-4349-9fca-e1fdf22dfecb"
      },
      "outputs": [
        {
          "output_type": "display_data",
          "data": {
            "text/html": [
              "== Status ==<br>Current time: 2022-02-27 00:50:51 (running for 00:21:01.12)<br>Memory usage on this node: 2.4/12.7 GiB<br>Using FIFO scheduling algorithm.<br>Resources requested: 0/2 CPUs, 0/0 GPUs, 0.0/6.26 GiB heap, 0.0/3.13 GiB objects<br>Result logdir: /root/ray_results/_Trainable_2022-02-27_00-29-50<br>Number of trials: 9/9 (9 TERMINATED)<br><br>"
            ],
            "text/plain": [
              "<IPython.core.display.HTML object>"
            ]
          },
          "metadata": {}
        },
        {
          "output_type": "display_data",
          "data": {
            "text/html": [
              "<html>\n",
              "<head><meta charset=\"utf-8\" /></head>\n",
              "<body>\n",
              "    <div>            <script src=\"https://cdnjs.cloudflare.com/ajax/libs/mathjax/2.7.5/MathJax.js?config=TeX-AMS-MML_SVG\"></script><script type=\"text/javascript\">if (window.MathJax) {MathJax.Hub.Config({SVG: {font: \"STIX-Web\"}});}</script>                <script type=\"text/javascript\">window.PlotlyConfig = {MathJaxConfig: 'local'};</script>\n",
              "        <script src=\"https://cdn.plot.ly/plotly-2.8.3.min.js\"></script>                <div id=\"896f5eb0-e8a9-467b-974d-4b466c0c255a\" class=\"plotly-graph-div\" style=\"height:525px; width:100%;\"></div>            <script type=\"text/javascript\">                                    window.PLOTLYENV=window.PLOTLYENV || {};                                    if (document.getElementById(\"896f5eb0-e8a9-467b-974d-4b466c0c255a\")) {                    Plotly.newPlot(                        \"896f5eb0-e8a9-467b-974d-4b466c0c255a\",                        [{\"dimensions\":[{\"label\":\"max_depth\",\"values\":[25,35,30,30,35,30,25,30,25]},{\"label\":\"n_estimators\",\"values\":[500,2000,2000,500,2000,2000,1000,1000,2000]},{\"label\":\"random_state\",\"values\":[2022,2022,2022,2022,2022,2022,2022,2022,2022]},{\"label\":\"mean_test_neg_root_mean_squared_error\",\"values\":[-0.13429567606301498,-0.1339619993704714,-0.13396098164526168,-0.13431364184312497,-0.1339619993704714,-0.13396098164526168,-0.13419581673208722,-0.13420030300163532,-0.1339565044101331]}],\"domain\":{\"x\":[0.0,1.0],\"y\":[0.0,1.0]},\"line\":{\"color\":[-0.13429567606301498,-0.1339619993704714,-0.13396098164526168,-0.13431364184312497,-0.1339619993704714,-0.13396098164526168,-0.13419581673208722,-0.13420030300163532,-0.1339565044101331],\"coloraxis\":\"coloraxis\"},\"name\":\"\",\"type\":\"parcoords\"}],                        {\"template\":{\"data\":{\"bar\":[{\"error_x\":{\"color\":\"#2a3f5f\"},\"error_y\":{\"color\":\"#2a3f5f\"},\"marker\":{\"line\":{\"color\":\"#E5ECF6\",\"width\":0.5},\"pattern\":{\"fillmode\":\"overlay\",\"size\":10,\"solidity\":0.2}},\"type\":\"bar\"}],\"barpolar\":[{\"marker\":{\"line\":{\"color\":\"#E5ECF6\",\"width\":0.5},\"pattern\":{\"fillmode\":\"overlay\",\"size\":10,\"solidity\":0.2}},\"type\":\"barpolar\"}],\"carpet\":[{\"aaxis\":{\"endlinecolor\":\"#2a3f5f\",\"gridcolor\":\"white\",\"linecolor\":\"white\",\"minorgridcolor\":\"white\",\"startlinecolor\":\"#2a3f5f\"},\"baxis\":{\"endlinecolor\":\"#2a3f5f\",\"gridcolor\":\"white\",\"linecolor\":\"white\",\"minorgridcolor\":\"white\",\"startlinecolor\":\"#2a3f5f\"},\"type\":\"carpet\"}],\"choropleth\":[{\"colorbar\":{\"outlinewidth\":0,\"ticks\":\"\"},\"type\":\"choropleth\"}],\"contour\":[{\"colorbar\":{\"outlinewidth\":0,\"ticks\":\"\"},\"colorscale\":[[0.0,\"#0d0887\"],[0.1111111111111111,\"#46039f\"],[0.2222222222222222,\"#7201a8\"],[0.3333333333333333,\"#9c179e\"],[0.4444444444444444,\"#bd3786\"],[0.5555555555555556,\"#d8576b\"],[0.6666666666666666,\"#ed7953\"],[0.7777777777777778,\"#fb9f3a\"],[0.8888888888888888,\"#fdca26\"],[1.0,\"#f0f921\"]],\"type\":\"contour\"}],\"contourcarpet\":[{\"colorbar\":{\"outlinewidth\":0,\"ticks\":\"\"},\"type\":\"contourcarpet\"}],\"heatmap\":[{\"colorbar\":{\"outlinewidth\":0,\"ticks\":\"\"},\"colorscale\":[[0.0,\"#0d0887\"],[0.1111111111111111,\"#46039f\"],[0.2222222222222222,\"#7201a8\"],[0.3333333333333333,\"#9c179e\"],[0.4444444444444444,\"#bd3786\"],[0.5555555555555556,\"#d8576b\"],[0.6666666666666666,\"#ed7953\"],[0.7777777777777778,\"#fb9f3a\"],[0.8888888888888888,\"#fdca26\"],[1.0,\"#f0f921\"]],\"type\":\"heatmap\"}],\"heatmapgl\":[{\"colorbar\":{\"outlinewidth\":0,\"ticks\":\"\"},\"colorscale\":[[0.0,\"#0d0887\"],[0.1111111111111111,\"#46039f\"],[0.2222222222222222,\"#7201a8\"],[0.3333333333333333,\"#9c179e\"],[0.4444444444444444,\"#bd3786\"],[0.5555555555555556,\"#d8576b\"],[0.6666666666666666,\"#ed7953\"],[0.7777777777777778,\"#fb9f3a\"],[0.8888888888888888,\"#fdca26\"],[1.0,\"#f0f921\"]],\"type\":\"heatmapgl\"}],\"histogram\":[{\"marker\":{\"pattern\":{\"fillmode\":\"overlay\",\"size\":10,\"solidity\":0.2}},\"type\":\"histogram\"}],\"histogram2d\":[{\"colorbar\":{\"outlinewidth\":0,\"ticks\":\"\"},\"colorscale\":[[0.0,\"#0d0887\"],[0.1111111111111111,\"#46039f\"],[0.2222222222222222,\"#7201a8\"],[0.3333333333333333,\"#9c179e\"],[0.4444444444444444,\"#bd3786\"],[0.5555555555555556,\"#d8576b\"],[0.6666666666666666,\"#ed7953\"],[0.7777777777777778,\"#fb9f3a\"],[0.8888888888888888,\"#fdca26\"],[1.0,\"#f0f921\"]],\"type\":\"histogram2d\"}],\"histogram2dcontour\":[{\"colorbar\":{\"outlinewidth\":0,\"ticks\":\"\"},\"colorscale\":[[0.0,\"#0d0887\"],[0.1111111111111111,\"#46039f\"],[0.2222222222222222,\"#7201a8\"],[0.3333333333333333,\"#9c179e\"],[0.4444444444444444,\"#bd3786\"],[0.5555555555555556,\"#d8576b\"],[0.6666666666666666,\"#ed7953\"],[0.7777777777777778,\"#fb9f3a\"],[0.8888888888888888,\"#fdca26\"],[1.0,\"#f0f921\"]],\"type\":\"histogram2dcontour\"}],\"mesh3d\":[{\"colorbar\":{\"outlinewidth\":0,\"ticks\":\"\"},\"type\":\"mesh3d\"}],\"parcoords\":[{\"line\":{\"colorbar\":{\"outlinewidth\":0,\"ticks\":\"\"}},\"type\":\"parcoords\"}],\"pie\":[{\"automargin\":true,\"type\":\"pie\"}],\"scatter\":[{\"marker\":{\"colorbar\":{\"outlinewidth\":0,\"ticks\":\"\"}},\"type\":\"scatter\"}],\"scatter3d\":[{\"line\":{\"colorbar\":{\"outlinewidth\":0,\"ticks\":\"\"}},\"marker\":{\"colorbar\":{\"outlinewidth\":0,\"ticks\":\"\"}},\"type\":\"scatter3d\"}],\"scattercarpet\":[{\"marker\":{\"colorbar\":{\"outlinewidth\":0,\"ticks\":\"\"}},\"type\":\"scattercarpet\"}],\"scattergeo\":[{\"marker\":{\"colorbar\":{\"outlinewidth\":0,\"ticks\":\"\"}},\"type\":\"scattergeo\"}],\"scattergl\":[{\"marker\":{\"colorbar\":{\"outlinewidth\":0,\"ticks\":\"\"}},\"type\":\"scattergl\"}],\"scattermapbox\":[{\"marker\":{\"colorbar\":{\"outlinewidth\":0,\"ticks\":\"\"}},\"type\":\"scattermapbox\"}],\"scatterpolar\":[{\"marker\":{\"colorbar\":{\"outlinewidth\":0,\"ticks\":\"\"}},\"type\":\"scatterpolar\"}],\"scatterpolargl\":[{\"marker\":{\"colorbar\":{\"outlinewidth\":0,\"ticks\":\"\"}},\"type\":\"scatterpolargl\"}],\"scatterternary\":[{\"marker\":{\"colorbar\":{\"outlinewidth\":0,\"ticks\":\"\"}},\"type\":\"scatterternary\"}],\"surface\":[{\"colorbar\":{\"outlinewidth\":0,\"ticks\":\"\"},\"colorscale\":[[0.0,\"#0d0887\"],[0.1111111111111111,\"#46039f\"],[0.2222222222222222,\"#7201a8\"],[0.3333333333333333,\"#9c179e\"],[0.4444444444444444,\"#bd3786\"],[0.5555555555555556,\"#d8576b\"],[0.6666666666666666,\"#ed7953\"],[0.7777777777777778,\"#fb9f3a\"],[0.8888888888888888,\"#fdca26\"],[1.0,\"#f0f921\"]],\"type\":\"surface\"}],\"table\":[{\"cells\":{\"fill\":{\"color\":\"#EBF0F8\"},\"line\":{\"color\":\"white\"}},\"header\":{\"fill\":{\"color\":\"#C8D4E3\"},\"line\":{\"color\":\"white\"}},\"type\":\"table\"}]},\"layout\":{\"annotationdefaults\":{\"arrowcolor\":\"#2a3f5f\",\"arrowhead\":0,\"arrowwidth\":1},\"autotypenumbers\":\"strict\",\"coloraxis\":{\"colorbar\":{\"outlinewidth\":0,\"ticks\":\"\"}},\"colorscale\":{\"diverging\":[[0,\"#8e0152\"],[0.1,\"#c51b7d\"],[0.2,\"#de77ae\"],[0.3,\"#f1b6da\"],[0.4,\"#fde0ef\"],[0.5,\"#f7f7f7\"],[0.6,\"#e6f5d0\"],[0.7,\"#b8e186\"],[0.8,\"#7fbc41\"],[0.9,\"#4d9221\"],[1,\"#276419\"]],\"sequential\":[[0.0,\"#0d0887\"],[0.1111111111111111,\"#46039f\"],[0.2222222222222222,\"#7201a8\"],[0.3333333333333333,\"#9c179e\"],[0.4444444444444444,\"#bd3786\"],[0.5555555555555556,\"#d8576b\"],[0.6666666666666666,\"#ed7953\"],[0.7777777777777778,\"#fb9f3a\"],[0.8888888888888888,\"#fdca26\"],[1.0,\"#f0f921\"]],\"sequentialminus\":[[0.0,\"#0d0887\"],[0.1111111111111111,\"#46039f\"],[0.2222222222222222,\"#7201a8\"],[0.3333333333333333,\"#9c179e\"],[0.4444444444444444,\"#bd3786\"],[0.5555555555555556,\"#d8576b\"],[0.6666666666666666,\"#ed7953\"],[0.7777777777777778,\"#fb9f3a\"],[0.8888888888888888,\"#fdca26\"],[1.0,\"#f0f921\"]]},\"colorway\":[\"#636efa\",\"#EF553B\",\"#00cc96\",\"#ab63fa\",\"#FFA15A\",\"#19d3f3\",\"#FF6692\",\"#B6E880\",\"#FF97FF\",\"#FECB52\"],\"font\":{\"color\":\"#2a3f5f\"},\"geo\":{\"bgcolor\":\"white\",\"lakecolor\":\"white\",\"landcolor\":\"#E5ECF6\",\"showlakes\":true,\"showland\":true,\"subunitcolor\":\"white\"},\"hoverlabel\":{\"align\":\"left\"},\"hovermode\":\"closest\",\"mapbox\":{\"style\":\"light\"},\"paper_bgcolor\":\"white\",\"plot_bgcolor\":\"#E5ECF6\",\"polar\":{\"angularaxis\":{\"gridcolor\":\"white\",\"linecolor\":\"white\",\"ticks\":\"\"},\"bgcolor\":\"#E5ECF6\",\"radialaxis\":{\"gridcolor\":\"white\",\"linecolor\":\"white\",\"ticks\":\"\"}},\"scene\":{\"xaxis\":{\"backgroundcolor\":\"#E5ECF6\",\"gridcolor\":\"white\",\"gridwidth\":2,\"linecolor\":\"white\",\"showbackground\":true,\"ticks\":\"\",\"zerolinecolor\":\"white\"},\"yaxis\":{\"backgroundcolor\":\"#E5ECF6\",\"gridcolor\":\"white\",\"gridwidth\":2,\"linecolor\":\"white\",\"showbackground\":true,\"ticks\":\"\",\"zerolinecolor\":\"white\"},\"zaxis\":{\"backgroundcolor\":\"#E5ECF6\",\"gridcolor\":\"white\",\"gridwidth\":2,\"linecolor\":\"white\",\"showbackground\":true,\"ticks\":\"\",\"zerolinecolor\":\"white\"}},\"shapedefaults\":{\"line\":{\"color\":\"#2a3f5f\"}},\"ternary\":{\"aaxis\":{\"gridcolor\":\"white\",\"linecolor\":\"white\",\"ticks\":\"\"},\"baxis\":{\"gridcolor\":\"white\",\"linecolor\":\"white\",\"ticks\":\"\"},\"bgcolor\":\"#E5ECF6\",\"caxis\":{\"gridcolor\":\"white\",\"linecolor\":\"white\",\"ticks\":\"\"}},\"title\":{\"x\":0.05},\"xaxis\":{\"automargin\":true,\"gridcolor\":\"white\",\"linecolor\":\"white\",\"ticks\":\"\",\"title\":{\"standoff\":15},\"zerolinecolor\":\"white\",\"zerolinewidth\":2},\"yaxis\":{\"automargin\":true,\"gridcolor\":\"white\",\"linecolor\":\"white\",\"ticks\":\"\",\"title\":{\"standoff\":15},\"zerolinecolor\":\"white\",\"zerolinewidth\":2}}},\"coloraxis\":{\"colorbar\":{\"title\":{\"text\":\"mean_test_neg_root_mean_squared_error\"}},\"colorscale\":[[0.0,\"#0d0887\"],[0.1111111111111111,\"#46039f\"],[0.2222222222222222,\"#7201a8\"],[0.3333333333333333,\"#9c179e\"],[0.4444444444444444,\"#bd3786\"],[0.5555555555555556,\"#d8576b\"],[0.6666666666666666,\"#ed7953\"],[0.7777777777777778,\"#fb9f3a\"],[0.8888888888888888,\"#fdca26\"],[1.0,\"#f0f921\"]]},\"legend\":{\"tracegroupgap\":0},\"margin\":{\"t\":60}},                        {\"responsive\": true}                    ).then(function(){\n",
              "                            \n",
              "var gd = document.getElementById('896f5eb0-e8a9-467b-974d-4b466c0c255a');\n",
              "var x = new MutationObserver(function (mutations, observer) {{\n",
              "        var display = window.getComputedStyle(gd).display;\n",
              "        if (!display || display === 'none') {{\n",
              "            console.log([gd, 'removed!']);\n",
              "            Plotly.purge(gd);\n",
              "            observer.disconnect();\n",
              "        }}\n",
              "}});\n",
              "\n",
              "// Listen for the removal of the full notebook cells\n",
              "var notebookContainer = gd.closest('#notebook-container');\n",
              "if (notebookContainer) {{\n",
              "    x.observe(notebookContainer, {childList: true});\n",
              "}}\n",
              "\n",
              "// Listen for the clearing of the current output cell\n",
              "var outputEl = gd.closest('.output');\n",
              "if (outputEl) {{\n",
              "    x.observe(outputEl, {childList: true});\n",
              "}}\n",
              "\n",
              "                        })                };                            </script>        </div>\n",
              "</body>\n",
              "</html>"
            ]
          },
          "metadata": {}
        }
      ],
      "source": [
        "from tune_sklearn import TuneSearchCV\n",
        "from sklearn.ensemble import RandomForestRegressor\n",
        "\n",
        "parameters = {\n",
        "    'n_estimators': [500, 1000, 2000],\n",
        "    'criterion': ['squared_error'],\n",
        "    'max_depth': [25, 30, 35],\n",
        "    'max_features': ['auto'],\n",
        "    'random_state': [random_state]\n",
        "}\n",
        "\n",
        "# Specify the hyper parameter tuning algorithm\n",
        "tune_search = TuneSearchCV(\n",
        "    RandomForestRegressor(),\n",
        "    parameters,\n",
        "    search_optimization='hyperopt',\n",
        "    n_trials=9,\n",
        "    n_jobs=-1,\n",
        "    scoring=['neg_root_mean_squared_error'],\n",
        "    cv=5,\n",
        "    refit='neg_root_mean_squared_error', # target metric of competition\n",
        "    verbose=1\n",
        "    )\n",
        "\n",
        "# Run hyper parameter tuning\n",
        "X = X_train \n",
        "y = y_train_trans\n",
        "tune_search.fit(X, y)\n",
        "\n",
        "# Save the tuning results \n",
        "model_name = 'rf'\n",
        "\n",
        "## Save the optimal hyper parmater values\n",
        "best_cv_df.loc[best_cv_df['model']==model_name, 'best_hyper_param'] = str(tune_search.best_params_)\n",
        "\n",
        "## Save the CV results\n",
        "cv_df = pd.DataFrame(tune_search.cv_results_)\n",
        "cv_values = cv_df.loc[tune_search.best_index_, cv_df.columns.str.startswith('split')].values\n",
        "best_cv_df.loc[best_cv_df['model']==model_name, 'neg_root_mean_squared_error'] = cv_values[:5]\n",
        "\n",
        "# Visualize the tuning results with parallel coordinate plot\n",
        "tune_result_df = pd.concat([pd.DataFrame(tune_search.cv_results_['params']), cv_df.loc[:,cv_df.columns.str.startswith('mean')] ], axis=1)\n",
        "import plotly.express as px\n",
        "fig = px.parallel_coordinates(tune_result_df, color='mean_test_neg_root_mean_squared_error')\n",
        "fig.show()"
      ]
    },
    {
      "cell_type": "markdown",
      "metadata": {
        "id": "NGiWtM5NKhA-"
      },
      "source": [
        "### XGBoost"
      ]
    },
    {
      "cell_type": "code",
      "execution_count": null,
      "metadata": {
        "colab": {
          "base_uri": "https://localhost:8080/",
          "height": 681
        },
        "id": "YtJ5wlpu9j21",
        "outputId": "7f795951-b913-4077-a176-be4c66e4df6f"
      },
      "outputs": [
        {
          "output_type": "display_data",
          "data": {
            "text/html": [
              "== Status ==<br>Current time: 2022-02-27 00:56:52 (running for 00:04:54.63)<br>Memory usage on this node: 2.4/12.7 GiB<br>Using FIFO scheduling algorithm.<br>Resources requested: 0/2 CPUs, 0/0 GPUs, 0.0/6.24 GiB heap, 0.0/3.12 GiB objects<br>Result logdir: /root/ray_results/_Trainable_2022-02-27_00-51-57<br>Number of trials: 9/9 (9 TERMINATED)<br><br>"
            ],
            "text/plain": [
              "<IPython.core.display.HTML object>"
            ]
          },
          "metadata": {}
        },
        {
          "output_type": "display_data",
          "data": {
            "text/html": [
              "<html>\n",
              "<head><meta charset=\"utf-8\" /></head>\n",
              "<body>\n",
              "    <div>            <script src=\"https://cdnjs.cloudflare.com/ajax/libs/mathjax/2.7.5/MathJax.js?config=TeX-AMS-MML_SVG\"></script><script type=\"text/javascript\">if (window.MathJax) {MathJax.Hub.Config({SVG: {font: \"STIX-Web\"}});}</script>                <script type=\"text/javascript\">window.PlotlyConfig = {MathJaxConfig: 'local'};</script>\n",
              "        <script src=\"https://cdn.plot.ly/plotly-2.8.3.min.js\"></script>                <div id=\"f194bd35-dc7f-45b7-b042-aac27130fa31\" class=\"plotly-graph-div\" style=\"height:525px; width:100%;\"></div>            <script type=\"text/javascript\">                                    window.PLOTLYENV=window.PLOTLYENV || {};                                    if (document.getElementById(\"f194bd35-dc7f-45b7-b042-aac27130fa31\")) {                    Plotly.newPlot(                        \"f194bd35-dc7f-45b7-b042-aac27130fa31\",                        [{\"dimensions\":[{\"label\":\"colsample_bytree\",\"values\":[0.6,0.6,1.0,0.6,0.6,0.6,1.0,0.6,0.6]},{\"label\":\"gamma\",\"values\":[1.0,0.01,1.0,1.0,1.0,0.1,0.01,0.1,1.0]},{\"label\":\"learning_rate\",\"values\":[1.0,0.1,1.0,0.01,0.01,1.0,0.1,1.0,0.1]},{\"label\":\"max_depth\",\"values\":[5,5,5,10,15,5,5,10,5]},{\"label\":\"min_child_weight\",\"values\":[5,10,10,10,15,10,5,5,10]},{\"label\":\"n_estimators\",\"values\":[500,1000,500,500,1000,1000,1000,1000,500]},{\"label\":\"random_state\",\"values\":[2022,2022,2022,2022,2022,2022,2022,2022,2022]},{\"label\":\"subsample\",\"values\":[1.0,1.0,1.0,1.0,1.0,0.6,0.6,0.6,1.0]},{\"label\":\"mean_test_neg_root_mean_squared_error\",\"values\":[-0.18650743663310995,-0.11550075560808178,-0.18476024568080898,-0.16644107401371003,-0.14813708961009975,-0.22459286451339716,-0.11484730839729304,-0.2269676953554153,-0.14588429927825924]}],\"domain\":{\"x\":[0.0,1.0],\"y\":[0.0,1.0]},\"line\":{\"color\":[-0.18650743663310995,-0.11550075560808178,-0.18476024568080898,-0.16644107401371003,-0.14813708961009975,-0.22459286451339716,-0.11484730839729304,-0.2269676953554153,-0.14588429927825924],\"coloraxis\":\"coloraxis\"},\"name\":\"\",\"type\":\"parcoords\"}],                        {\"template\":{\"data\":{\"bar\":[{\"error_x\":{\"color\":\"#2a3f5f\"},\"error_y\":{\"color\":\"#2a3f5f\"},\"marker\":{\"line\":{\"color\":\"#E5ECF6\",\"width\":0.5},\"pattern\":{\"fillmode\":\"overlay\",\"size\":10,\"solidity\":0.2}},\"type\":\"bar\"}],\"barpolar\":[{\"marker\":{\"line\":{\"color\":\"#E5ECF6\",\"width\":0.5},\"pattern\":{\"fillmode\":\"overlay\",\"size\":10,\"solidity\":0.2}},\"type\":\"barpolar\"}],\"carpet\":[{\"aaxis\":{\"endlinecolor\":\"#2a3f5f\",\"gridcolor\":\"white\",\"linecolor\":\"white\",\"minorgridcolor\":\"white\",\"startlinecolor\":\"#2a3f5f\"},\"baxis\":{\"endlinecolor\":\"#2a3f5f\",\"gridcolor\":\"white\",\"linecolor\":\"white\",\"minorgridcolor\":\"white\",\"startlinecolor\":\"#2a3f5f\"},\"type\":\"carpet\"}],\"choropleth\":[{\"colorbar\":{\"outlinewidth\":0,\"ticks\":\"\"},\"type\":\"choropleth\"}],\"contour\":[{\"colorbar\":{\"outlinewidth\":0,\"ticks\":\"\"},\"colorscale\":[[0.0,\"#0d0887\"],[0.1111111111111111,\"#46039f\"],[0.2222222222222222,\"#7201a8\"],[0.3333333333333333,\"#9c179e\"],[0.4444444444444444,\"#bd3786\"],[0.5555555555555556,\"#d8576b\"],[0.6666666666666666,\"#ed7953\"],[0.7777777777777778,\"#fb9f3a\"],[0.8888888888888888,\"#fdca26\"],[1.0,\"#f0f921\"]],\"type\":\"contour\"}],\"contourcarpet\":[{\"colorbar\":{\"outlinewidth\":0,\"ticks\":\"\"},\"type\":\"contourcarpet\"}],\"heatmap\":[{\"colorbar\":{\"outlinewidth\":0,\"ticks\":\"\"},\"colorscale\":[[0.0,\"#0d0887\"],[0.1111111111111111,\"#46039f\"],[0.2222222222222222,\"#7201a8\"],[0.3333333333333333,\"#9c179e\"],[0.4444444444444444,\"#bd3786\"],[0.5555555555555556,\"#d8576b\"],[0.6666666666666666,\"#ed7953\"],[0.7777777777777778,\"#fb9f3a\"],[0.8888888888888888,\"#fdca26\"],[1.0,\"#f0f921\"]],\"type\":\"heatmap\"}],\"heatmapgl\":[{\"colorbar\":{\"outlinewidth\":0,\"ticks\":\"\"},\"colorscale\":[[0.0,\"#0d0887\"],[0.1111111111111111,\"#46039f\"],[0.2222222222222222,\"#7201a8\"],[0.3333333333333333,\"#9c179e\"],[0.4444444444444444,\"#bd3786\"],[0.5555555555555556,\"#d8576b\"],[0.6666666666666666,\"#ed7953\"],[0.7777777777777778,\"#fb9f3a\"],[0.8888888888888888,\"#fdca26\"],[1.0,\"#f0f921\"]],\"type\":\"heatmapgl\"}],\"histogram\":[{\"marker\":{\"pattern\":{\"fillmode\":\"overlay\",\"size\":10,\"solidity\":0.2}},\"type\":\"histogram\"}],\"histogram2d\":[{\"colorbar\":{\"outlinewidth\":0,\"ticks\":\"\"},\"colorscale\":[[0.0,\"#0d0887\"],[0.1111111111111111,\"#46039f\"],[0.2222222222222222,\"#7201a8\"],[0.3333333333333333,\"#9c179e\"],[0.4444444444444444,\"#bd3786\"],[0.5555555555555556,\"#d8576b\"],[0.6666666666666666,\"#ed7953\"],[0.7777777777777778,\"#fb9f3a\"],[0.8888888888888888,\"#fdca26\"],[1.0,\"#f0f921\"]],\"type\":\"histogram2d\"}],\"histogram2dcontour\":[{\"colorbar\":{\"outlinewidth\":0,\"ticks\":\"\"},\"colorscale\":[[0.0,\"#0d0887\"],[0.1111111111111111,\"#46039f\"],[0.2222222222222222,\"#7201a8\"],[0.3333333333333333,\"#9c179e\"],[0.4444444444444444,\"#bd3786\"],[0.5555555555555556,\"#d8576b\"],[0.6666666666666666,\"#ed7953\"],[0.7777777777777778,\"#fb9f3a\"],[0.8888888888888888,\"#fdca26\"],[1.0,\"#f0f921\"]],\"type\":\"histogram2dcontour\"}],\"mesh3d\":[{\"colorbar\":{\"outlinewidth\":0,\"ticks\":\"\"},\"type\":\"mesh3d\"}],\"parcoords\":[{\"line\":{\"colorbar\":{\"outlinewidth\":0,\"ticks\":\"\"}},\"type\":\"parcoords\"}],\"pie\":[{\"automargin\":true,\"type\":\"pie\"}],\"scatter\":[{\"marker\":{\"colorbar\":{\"outlinewidth\":0,\"ticks\":\"\"}},\"type\":\"scatter\"}],\"scatter3d\":[{\"line\":{\"colorbar\":{\"outlinewidth\":0,\"ticks\":\"\"}},\"marker\":{\"colorbar\":{\"outlinewidth\":0,\"ticks\":\"\"}},\"type\":\"scatter3d\"}],\"scattercarpet\":[{\"marker\":{\"colorbar\":{\"outlinewidth\":0,\"ticks\":\"\"}},\"type\":\"scattercarpet\"}],\"scattergeo\":[{\"marker\":{\"colorbar\":{\"outlinewidth\":0,\"ticks\":\"\"}},\"type\":\"scattergeo\"}],\"scattergl\":[{\"marker\":{\"colorbar\":{\"outlinewidth\":0,\"ticks\":\"\"}},\"type\":\"scattergl\"}],\"scattermapbox\":[{\"marker\":{\"colorbar\":{\"outlinewidth\":0,\"ticks\":\"\"}},\"type\":\"scattermapbox\"}],\"scatterpolar\":[{\"marker\":{\"colorbar\":{\"outlinewidth\":0,\"ticks\":\"\"}},\"type\":\"scatterpolar\"}],\"scatterpolargl\":[{\"marker\":{\"colorbar\":{\"outlinewidth\":0,\"ticks\":\"\"}},\"type\":\"scatterpolargl\"}],\"scatterternary\":[{\"marker\":{\"colorbar\":{\"outlinewidth\":0,\"ticks\":\"\"}},\"type\":\"scatterternary\"}],\"surface\":[{\"colorbar\":{\"outlinewidth\":0,\"ticks\":\"\"},\"colorscale\":[[0.0,\"#0d0887\"],[0.1111111111111111,\"#46039f\"],[0.2222222222222222,\"#7201a8\"],[0.3333333333333333,\"#9c179e\"],[0.4444444444444444,\"#bd3786\"],[0.5555555555555556,\"#d8576b\"],[0.6666666666666666,\"#ed7953\"],[0.7777777777777778,\"#fb9f3a\"],[0.8888888888888888,\"#fdca26\"],[1.0,\"#f0f921\"]],\"type\":\"surface\"}],\"table\":[{\"cells\":{\"fill\":{\"color\":\"#EBF0F8\"},\"line\":{\"color\":\"white\"}},\"header\":{\"fill\":{\"color\":\"#C8D4E3\"},\"line\":{\"color\":\"white\"}},\"type\":\"table\"}]},\"layout\":{\"annotationdefaults\":{\"arrowcolor\":\"#2a3f5f\",\"arrowhead\":0,\"arrowwidth\":1},\"autotypenumbers\":\"strict\",\"coloraxis\":{\"colorbar\":{\"outlinewidth\":0,\"ticks\":\"\"}},\"colorscale\":{\"diverging\":[[0,\"#8e0152\"],[0.1,\"#c51b7d\"],[0.2,\"#de77ae\"],[0.3,\"#f1b6da\"],[0.4,\"#fde0ef\"],[0.5,\"#f7f7f7\"],[0.6,\"#e6f5d0\"],[0.7,\"#b8e186\"],[0.8,\"#7fbc41\"],[0.9,\"#4d9221\"],[1,\"#276419\"]],\"sequential\":[[0.0,\"#0d0887\"],[0.1111111111111111,\"#46039f\"],[0.2222222222222222,\"#7201a8\"],[0.3333333333333333,\"#9c179e\"],[0.4444444444444444,\"#bd3786\"],[0.5555555555555556,\"#d8576b\"],[0.6666666666666666,\"#ed7953\"],[0.7777777777777778,\"#fb9f3a\"],[0.8888888888888888,\"#fdca26\"],[1.0,\"#f0f921\"]],\"sequentialminus\":[[0.0,\"#0d0887\"],[0.1111111111111111,\"#46039f\"],[0.2222222222222222,\"#7201a8\"],[0.3333333333333333,\"#9c179e\"],[0.4444444444444444,\"#bd3786\"],[0.5555555555555556,\"#d8576b\"],[0.6666666666666666,\"#ed7953\"],[0.7777777777777778,\"#fb9f3a\"],[0.8888888888888888,\"#fdca26\"],[1.0,\"#f0f921\"]]},\"colorway\":[\"#636efa\",\"#EF553B\",\"#00cc96\",\"#ab63fa\",\"#FFA15A\",\"#19d3f3\",\"#FF6692\",\"#B6E880\",\"#FF97FF\",\"#FECB52\"],\"font\":{\"color\":\"#2a3f5f\"},\"geo\":{\"bgcolor\":\"white\",\"lakecolor\":\"white\",\"landcolor\":\"#E5ECF6\",\"showlakes\":true,\"showland\":true,\"subunitcolor\":\"white\"},\"hoverlabel\":{\"align\":\"left\"},\"hovermode\":\"closest\",\"mapbox\":{\"style\":\"light\"},\"paper_bgcolor\":\"white\",\"plot_bgcolor\":\"#E5ECF6\",\"polar\":{\"angularaxis\":{\"gridcolor\":\"white\",\"linecolor\":\"white\",\"ticks\":\"\"},\"bgcolor\":\"#E5ECF6\",\"radialaxis\":{\"gridcolor\":\"white\",\"linecolor\":\"white\",\"ticks\":\"\"}},\"scene\":{\"xaxis\":{\"backgroundcolor\":\"#E5ECF6\",\"gridcolor\":\"white\",\"gridwidth\":2,\"linecolor\":\"white\",\"showbackground\":true,\"ticks\":\"\",\"zerolinecolor\":\"white\"},\"yaxis\":{\"backgroundcolor\":\"#E5ECF6\",\"gridcolor\":\"white\",\"gridwidth\":2,\"linecolor\":\"white\",\"showbackground\":true,\"ticks\":\"\",\"zerolinecolor\":\"white\"},\"zaxis\":{\"backgroundcolor\":\"#E5ECF6\",\"gridcolor\":\"white\",\"gridwidth\":2,\"linecolor\":\"white\",\"showbackground\":true,\"ticks\":\"\",\"zerolinecolor\":\"white\"}},\"shapedefaults\":{\"line\":{\"color\":\"#2a3f5f\"}},\"ternary\":{\"aaxis\":{\"gridcolor\":\"white\",\"linecolor\":\"white\",\"ticks\":\"\"},\"baxis\":{\"gridcolor\":\"white\",\"linecolor\":\"white\",\"ticks\":\"\"},\"bgcolor\":\"#E5ECF6\",\"caxis\":{\"gridcolor\":\"white\",\"linecolor\":\"white\",\"ticks\":\"\"}},\"title\":{\"x\":0.05},\"xaxis\":{\"automargin\":true,\"gridcolor\":\"white\",\"linecolor\":\"white\",\"ticks\":\"\",\"title\":{\"standoff\":15},\"zerolinecolor\":\"white\",\"zerolinewidth\":2},\"yaxis\":{\"automargin\":true,\"gridcolor\":\"white\",\"linecolor\":\"white\",\"ticks\":\"\",\"title\":{\"standoff\":15},\"zerolinecolor\":\"white\",\"zerolinewidth\":2}}},\"coloraxis\":{\"colorbar\":{\"title\":{\"text\":\"mean_test_neg_root_mean_squared_error\"}},\"colorscale\":[[0.0,\"#0d0887\"],[0.1111111111111111,\"#46039f\"],[0.2222222222222222,\"#7201a8\"],[0.3333333333333333,\"#9c179e\"],[0.4444444444444444,\"#bd3786\"],[0.5555555555555556,\"#d8576b\"],[0.6666666666666666,\"#ed7953\"],[0.7777777777777778,\"#fb9f3a\"],[0.8888888888888888,\"#fdca26\"],[1.0,\"#f0f921\"]]},\"legend\":{\"tracegroupgap\":0},\"margin\":{\"t\":60}},                        {\"responsive\": true}                    ).then(function(){\n",
              "                            \n",
              "var gd = document.getElementById('f194bd35-dc7f-45b7-b042-aac27130fa31');\n",
              "var x = new MutationObserver(function (mutations, observer) {{\n",
              "        var display = window.getComputedStyle(gd).display;\n",
              "        if (!display || display === 'none') {{\n",
              "            console.log([gd, 'removed!']);\n",
              "            Plotly.purge(gd);\n",
              "            observer.disconnect();\n",
              "        }}\n",
              "}});\n",
              "\n",
              "// Listen for the removal of the full notebook cells\n",
              "var notebookContainer = gd.closest('#notebook-container');\n",
              "if (notebookContainer) {{\n",
              "    x.observe(notebookContainer, {childList: true});\n",
              "}}\n",
              "\n",
              "// Listen for the clearing of the current output cell\n",
              "var outputEl = gd.closest('.output');\n",
              "if (outputEl) {{\n",
              "    x.observe(outputEl, {childList: true});\n",
              "}}\n",
              "\n",
              "                        })                };                            </script>        </div>\n",
              "</body>\n",
              "</html>"
            ]
          },
          "metadata": {}
        }
      ],
      "source": [
        "from tune_sklearn import TuneSearchCV\n",
        "from xgboost import XGBRegressor\n",
        "\n",
        "parameters = {\n",
        "    'n_estimators': [500, 1000],\n",
        "    'learning_rate': list(np.geomspace(1e-2, 1, 3)),\n",
        "    'min_child_weight': [5, 10, 15],\n",
        "    'gamma': list(np.geomspace(1e-2, 1, 3)),\n",
        "    'subsample': [0.6, 1.0],\n",
        "    'colsample_bytree': [0.6, 1.0],\n",
        "    'max_depth': [5, 10, 15],\n",
        "    'objective': ['reg:squarederror'],\n",
        "    'random_state': [random_state]\n",
        "}\n",
        "\n",
        "# Specify the hyper parameter tuning algorithm\n",
        "tune_search = TuneSearchCV(\n",
        "    XGBRegressor(),\n",
        "    parameters,\n",
        "    search_optimization='hyperopt',\n",
        "    n_trials=9,\n",
        "    n_jobs=-1,\n",
        "    scoring=['neg_root_mean_squared_error'],\n",
        "    cv=5,\n",
        "    refit='neg_root_mean_squared_error', # target metric of competition\n",
        "    verbose=1\n",
        "    )\n",
        "\n",
        "# Run hyper parameter tuning\n",
        "X = X_train \n",
        "y = y_train_trans\n",
        "tune_search.fit(X, y)\n",
        "\n",
        "# Save the tuning results \n",
        "model_name = 'xgb'\n",
        "\n",
        "## Save the optimal hyper parmater values\n",
        "best_cv_df.loc[best_cv_df['model']==model_name, 'best_hyper_param'] = str(tune_search.best_params_)\n",
        "\n",
        "## Save the CV results\n",
        "cv_df = pd.DataFrame(tune_search.cv_results_)\n",
        "cv_values = cv_df.loc[tune_search.best_index_, cv_df.columns.str.startswith('split')].values\n",
        "best_cv_df.loc[best_cv_df['model']==model_name, 'neg_root_mean_squared_error'] = cv_values[:5]\n",
        "\n",
        "# Visualize the tuning results with parallel coordinate plot\n",
        "tune_result_df = pd.concat([pd.DataFrame(tune_search.cv_results_['params']), cv_df.loc[:,cv_df.columns.str.startswith('mean')] ], axis=1)\n",
        "import plotly.express as px\n",
        "fig = px.parallel_coordinates(tune_result_df, color='mean_test_neg_root_mean_squared_error')\n",
        "fig.show()"
      ]
    },
    {
      "cell_type": "markdown",
      "metadata": {
        "id": "eMEkfLDXKmtD"
      },
      "source": [
        "### Multi-layer perceptron"
      ]
    },
    {
      "cell_type": "code",
      "execution_count": null,
      "metadata": {
        "colab": {
          "base_uri": "https://localhost:8080/",
          "height": 681
        },
        "id": "1CCNhjAwPGK-",
        "outputId": "e3cebd61-85cb-4f5a-c6f4-38c8e0f9c02b"
      },
      "outputs": [
        {
          "output_type": "display_data",
          "data": {
            "text/html": [
              "== Status ==<br>Current time: 2022-02-27 01:09:40 (running for 00:12:26.39)<br>Memory usage on this node: 2.6/12.7 GiB<br>Using FIFO scheduling algorithm.<br>Resources requested: 0/2 CPUs, 0/0 GPUs, 0.0/6.24 GiB heap, 0.0/3.12 GiB objects<br>Result logdir: /root/ray_results/_Trainable_2022-02-27_00-57-14<br>Number of trials: 15/15 (15 TERMINATED)<br><br>"
            ],
            "text/plain": [
              "<IPython.core.display.HTML object>"
            ]
          },
          "metadata": {}
        },
        {
          "output_type": "display_data",
          "data": {
            "text/html": [
              "<html>\n",
              "<head><meta charset=\"utf-8\" /></head>\n",
              "<body>\n",
              "    <div>            <script src=\"https://cdnjs.cloudflare.com/ajax/libs/mathjax/2.7.5/MathJax.js?config=TeX-AMS-MML_SVG\"></script><script type=\"text/javascript\">if (window.MathJax) {MathJax.Hub.Config({SVG: {font: \"STIX-Web\"}});}</script>                <script type=\"text/javascript\">window.PlotlyConfig = {MathJaxConfig: 'local'};</script>\n",
              "        <script src=\"https://cdn.plot.ly/plotly-2.8.3.min.js\"></script>                <div id=\"340bb9f4-b111-44c7-a4ff-4a716bc66134\" class=\"plotly-graph-div\" style=\"height:525px; width:100%;\"></div>            <script type=\"text/javascript\">                                    window.PLOTLYENV=window.PLOTLYENV || {};                                    if (document.getElementById(\"340bb9f4-b111-44c7-a4ff-4a716bc66134\")) {                    Plotly.newPlot(                        \"340bb9f4-b111-44c7-a4ff-4a716bc66134\",                        [{\"dimensions\":[{\"label\":\"batch_size\",\"values\":[16,32,32,16,32,16,16,32,64,64,64,16,16,16,64]},{\"label\":\"lr\",\"values\":[1e-05,0.01,0.001,0.0001,0.001,0.01,0.01,0.01,1e-05,0.0001,1e-05,0.001,0.0001,0.001,0.0001]},{\"label\":\"max_epochs\",\"values\":[1000,1000,1000,1000,1000,1000,1000,1000,1000,1000,1000,1000,1000,1000,1000]},{\"label\":\"module__dropout1\",\"values\":[0.1,0.0,0.1,0.0,0.0,0.0,0.1,0.0,0.0,0.0,0.0,0.0,0.1,0.0,0.0]},{\"label\":\"module__dropout2\",\"values\":[0.0,0.0,0.0,0.1,0.0,0.0,0.0,0.1,0.0,0.1,0.1,0.0,0.0,0.1,0.1]},{\"label\":\"module__layer1\",\"values\":[256,128,128,256,128,128,512,256,512,512,128,128,256,256,128]},{\"label\":\"module__layer2\",\"values\":[512,512,128,256,512,128,256,512,512,256,512,512,512,512,128]},{\"label\":\"optimizer__weight_decay\",\"values\":[0.0001,0.01,1e-05,0.001,0.0001,0.001,0.01,0.0001,0.001,0.001,0.01,0.0001,0.0001,0.001,1e-05]},{\"label\":\"mean_test_neg_root_mean_squared_error\",\"values\":[-0.173156127333641,-0.24743436872959138,-0.19593292176723479,-0.1777286112308502,-0.15575520396232598,-0.288442924618721,-0.6592531025409698,-0.3700978755950928,-0.15357978343963619,-0.19546343684196468,-0.2074683010578155,-0.1531668037176132,-0.18173044025897975,-0.22098279893398282,-0.21182177960872645]}],\"domain\":{\"x\":[0.0,1.0],\"y\":[0.0,1.0]},\"line\":{\"color\":[-0.173156127333641,-0.24743436872959138,-0.19593292176723479,-0.1777286112308502,-0.15575520396232598,-0.288442924618721,-0.6592531025409698,-0.3700978755950928,-0.15357978343963619,-0.19546343684196468,-0.2074683010578155,-0.1531668037176132,-0.18173044025897975,-0.22098279893398282,-0.21182177960872645],\"coloraxis\":\"coloraxis\"},\"name\":\"\",\"type\":\"parcoords\"}],                        {\"template\":{\"data\":{\"bar\":[{\"error_x\":{\"color\":\"#2a3f5f\"},\"error_y\":{\"color\":\"#2a3f5f\"},\"marker\":{\"line\":{\"color\":\"#E5ECF6\",\"width\":0.5},\"pattern\":{\"fillmode\":\"overlay\",\"size\":10,\"solidity\":0.2}},\"type\":\"bar\"}],\"barpolar\":[{\"marker\":{\"line\":{\"color\":\"#E5ECF6\",\"width\":0.5},\"pattern\":{\"fillmode\":\"overlay\",\"size\":10,\"solidity\":0.2}},\"type\":\"barpolar\"}],\"carpet\":[{\"aaxis\":{\"endlinecolor\":\"#2a3f5f\",\"gridcolor\":\"white\",\"linecolor\":\"white\",\"minorgridcolor\":\"white\",\"startlinecolor\":\"#2a3f5f\"},\"baxis\":{\"endlinecolor\":\"#2a3f5f\",\"gridcolor\":\"white\",\"linecolor\":\"white\",\"minorgridcolor\":\"white\",\"startlinecolor\":\"#2a3f5f\"},\"type\":\"carpet\"}],\"choropleth\":[{\"colorbar\":{\"outlinewidth\":0,\"ticks\":\"\"},\"type\":\"choropleth\"}],\"contour\":[{\"colorbar\":{\"outlinewidth\":0,\"ticks\":\"\"},\"colorscale\":[[0.0,\"#0d0887\"],[0.1111111111111111,\"#46039f\"],[0.2222222222222222,\"#7201a8\"],[0.3333333333333333,\"#9c179e\"],[0.4444444444444444,\"#bd3786\"],[0.5555555555555556,\"#d8576b\"],[0.6666666666666666,\"#ed7953\"],[0.7777777777777778,\"#fb9f3a\"],[0.8888888888888888,\"#fdca26\"],[1.0,\"#f0f921\"]],\"type\":\"contour\"}],\"contourcarpet\":[{\"colorbar\":{\"outlinewidth\":0,\"ticks\":\"\"},\"type\":\"contourcarpet\"}],\"heatmap\":[{\"colorbar\":{\"outlinewidth\":0,\"ticks\":\"\"},\"colorscale\":[[0.0,\"#0d0887\"],[0.1111111111111111,\"#46039f\"],[0.2222222222222222,\"#7201a8\"],[0.3333333333333333,\"#9c179e\"],[0.4444444444444444,\"#bd3786\"],[0.5555555555555556,\"#d8576b\"],[0.6666666666666666,\"#ed7953\"],[0.7777777777777778,\"#fb9f3a\"],[0.8888888888888888,\"#fdca26\"],[1.0,\"#f0f921\"]],\"type\":\"heatmap\"}],\"heatmapgl\":[{\"colorbar\":{\"outlinewidth\":0,\"ticks\":\"\"},\"colorscale\":[[0.0,\"#0d0887\"],[0.1111111111111111,\"#46039f\"],[0.2222222222222222,\"#7201a8\"],[0.3333333333333333,\"#9c179e\"],[0.4444444444444444,\"#bd3786\"],[0.5555555555555556,\"#d8576b\"],[0.6666666666666666,\"#ed7953\"],[0.7777777777777778,\"#fb9f3a\"],[0.8888888888888888,\"#fdca26\"],[1.0,\"#f0f921\"]],\"type\":\"heatmapgl\"}],\"histogram\":[{\"marker\":{\"pattern\":{\"fillmode\":\"overlay\",\"size\":10,\"solidity\":0.2}},\"type\":\"histogram\"}],\"histogram2d\":[{\"colorbar\":{\"outlinewidth\":0,\"ticks\":\"\"},\"colorscale\":[[0.0,\"#0d0887\"],[0.1111111111111111,\"#46039f\"],[0.2222222222222222,\"#7201a8\"],[0.3333333333333333,\"#9c179e\"],[0.4444444444444444,\"#bd3786\"],[0.5555555555555556,\"#d8576b\"],[0.6666666666666666,\"#ed7953\"],[0.7777777777777778,\"#fb9f3a\"],[0.8888888888888888,\"#fdca26\"],[1.0,\"#f0f921\"]],\"type\":\"histogram2d\"}],\"histogram2dcontour\":[{\"colorbar\":{\"outlinewidth\":0,\"ticks\":\"\"},\"colorscale\":[[0.0,\"#0d0887\"],[0.1111111111111111,\"#46039f\"],[0.2222222222222222,\"#7201a8\"],[0.3333333333333333,\"#9c179e\"],[0.4444444444444444,\"#bd3786\"],[0.5555555555555556,\"#d8576b\"],[0.6666666666666666,\"#ed7953\"],[0.7777777777777778,\"#fb9f3a\"],[0.8888888888888888,\"#fdca26\"],[1.0,\"#f0f921\"]],\"type\":\"histogram2dcontour\"}],\"mesh3d\":[{\"colorbar\":{\"outlinewidth\":0,\"ticks\":\"\"},\"type\":\"mesh3d\"}],\"parcoords\":[{\"line\":{\"colorbar\":{\"outlinewidth\":0,\"ticks\":\"\"}},\"type\":\"parcoords\"}],\"pie\":[{\"automargin\":true,\"type\":\"pie\"}],\"scatter\":[{\"marker\":{\"colorbar\":{\"outlinewidth\":0,\"ticks\":\"\"}},\"type\":\"scatter\"}],\"scatter3d\":[{\"line\":{\"colorbar\":{\"outlinewidth\":0,\"ticks\":\"\"}},\"marker\":{\"colorbar\":{\"outlinewidth\":0,\"ticks\":\"\"}},\"type\":\"scatter3d\"}],\"scattercarpet\":[{\"marker\":{\"colorbar\":{\"outlinewidth\":0,\"ticks\":\"\"}},\"type\":\"scattercarpet\"}],\"scattergeo\":[{\"marker\":{\"colorbar\":{\"outlinewidth\":0,\"ticks\":\"\"}},\"type\":\"scattergeo\"}],\"scattergl\":[{\"marker\":{\"colorbar\":{\"outlinewidth\":0,\"ticks\":\"\"}},\"type\":\"scattergl\"}],\"scattermapbox\":[{\"marker\":{\"colorbar\":{\"outlinewidth\":0,\"ticks\":\"\"}},\"type\":\"scattermapbox\"}],\"scatterpolar\":[{\"marker\":{\"colorbar\":{\"outlinewidth\":0,\"ticks\":\"\"}},\"type\":\"scatterpolar\"}],\"scatterpolargl\":[{\"marker\":{\"colorbar\":{\"outlinewidth\":0,\"ticks\":\"\"}},\"type\":\"scatterpolargl\"}],\"scatterternary\":[{\"marker\":{\"colorbar\":{\"outlinewidth\":0,\"ticks\":\"\"}},\"type\":\"scatterternary\"}],\"surface\":[{\"colorbar\":{\"outlinewidth\":0,\"ticks\":\"\"},\"colorscale\":[[0.0,\"#0d0887\"],[0.1111111111111111,\"#46039f\"],[0.2222222222222222,\"#7201a8\"],[0.3333333333333333,\"#9c179e\"],[0.4444444444444444,\"#bd3786\"],[0.5555555555555556,\"#d8576b\"],[0.6666666666666666,\"#ed7953\"],[0.7777777777777778,\"#fb9f3a\"],[0.8888888888888888,\"#fdca26\"],[1.0,\"#f0f921\"]],\"type\":\"surface\"}],\"table\":[{\"cells\":{\"fill\":{\"color\":\"#EBF0F8\"},\"line\":{\"color\":\"white\"}},\"header\":{\"fill\":{\"color\":\"#C8D4E3\"},\"line\":{\"color\":\"white\"}},\"type\":\"table\"}]},\"layout\":{\"annotationdefaults\":{\"arrowcolor\":\"#2a3f5f\",\"arrowhead\":0,\"arrowwidth\":1},\"autotypenumbers\":\"strict\",\"coloraxis\":{\"colorbar\":{\"outlinewidth\":0,\"ticks\":\"\"}},\"colorscale\":{\"diverging\":[[0,\"#8e0152\"],[0.1,\"#c51b7d\"],[0.2,\"#de77ae\"],[0.3,\"#f1b6da\"],[0.4,\"#fde0ef\"],[0.5,\"#f7f7f7\"],[0.6,\"#e6f5d0\"],[0.7,\"#b8e186\"],[0.8,\"#7fbc41\"],[0.9,\"#4d9221\"],[1,\"#276419\"]],\"sequential\":[[0.0,\"#0d0887\"],[0.1111111111111111,\"#46039f\"],[0.2222222222222222,\"#7201a8\"],[0.3333333333333333,\"#9c179e\"],[0.4444444444444444,\"#bd3786\"],[0.5555555555555556,\"#d8576b\"],[0.6666666666666666,\"#ed7953\"],[0.7777777777777778,\"#fb9f3a\"],[0.8888888888888888,\"#fdca26\"],[1.0,\"#f0f921\"]],\"sequentialminus\":[[0.0,\"#0d0887\"],[0.1111111111111111,\"#46039f\"],[0.2222222222222222,\"#7201a8\"],[0.3333333333333333,\"#9c179e\"],[0.4444444444444444,\"#bd3786\"],[0.5555555555555556,\"#d8576b\"],[0.6666666666666666,\"#ed7953\"],[0.7777777777777778,\"#fb9f3a\"],[0.8888888888888888,\"#fdca26\"],[1.0,\"#f0f921\"]]},\"colorway\":[\"#636efa\",\"#EF553B\",\"#00cc96\",\"#ab63fa\",\"#FFA15A\",\"#19d3f3\",\"#FF6692\",\"#B6E880\",\"#FF97FF\",\"#FECB52\"],\"font\":{\"color\":\"#2a3f5f\"},\"geo\":{\"bgcolor\":\"white\",\"lakecolor\":\"white\",\"landcolor\":\"#E5ECF6\",\"showlakes\":true,\"showland\":true,\"subunitcolor\":\"white\"},\"hoverlabel\":{\"align\":\"left\"},\"hovermode\":\"closest\",\"mapbox\":{\"style\":\"light\"},\"paper_bgcolor\":\"white\",\"plot_bgcolor\":\"#E5ECF6\",\"polar\":{\"angularaxis\":{\"gridcolor\":\"white\",\"linecolor\":\"white\",\"ticks\":\"\"},\"bgcolor\":\"#E5ECF6\",\"radialaxis\":{\"gridcolor\":\"white\",\"linecolor\":\"white\",\"ticks\":\"\"}},\"scene\":{\"xaxis\":{\"backgroundcolor\":\"#E5ECF6\",\"gridcolor\":\"white\",\"gridwidth\":2,\"linecolor\":\"white\",\"showbackground\":true,\"ticks\":\"\",\"zerolinecolor\":\"white\"},\"yaxis\":{\"backgroundcolor\":\"#E5ECF6\",\"gridcolor\":\"white\",\"gridwidth\":2,\"linecolor\":\"white\",\"showbackground\":true,\"ticks\":\"\",\"zerolinecolor\":\"white\"},\"zaxis\":{\"backgroundcolor\":\"#E5ECF6\",\"gridcolor\":\"white\",\"gridwidth\":2,\"linecolor\":\"white\",\"showbackground\":true,\"ticks\":\"\",\"zerolinecolor\":\"white\"}},\"shapedefaults\":{\"line\":{\"color\":\"#2a3f5f\"}},\"ternary\":{\"aaxis\":{\"gridcolor\":\"white\",\"linecolor\":\"white\",\"ticks\":\"\"},\"baxis\":{\"gridcolor\":\"white\",\"linecolor\":\"white\",\"ticks\":\"\"},\"bgcolor\":\"#E5ECF6\",\"caxis\":{\"gridcolor\":\"white\",\"linecolor\":\"white\",\"ticks\":\"\"}},\"title\":{\"x\":0.05},\"xaxis\":{\"automargin\":true,\"gridcolor\":\"white\",\"linecolor\":\"white\",\"ticks\":\"\",\"title\":{\"standoff\":15},\"zerolinecolor\":\"white\",\"zerolinewidth\":2},\"yaxis\":{\"automargin\":true,\"gridcolor\":\"white\",\"linecolor\":\"white\",\"ticks\":\"\",\"title\":{\"standoff\":15},\"zerolinecolor\":\"white\",\"zerolinewidth\":2}}},\"coloraxis\":{\"colorbar\":{\"title\":{\"text\":\"mean_test_neg_root_mean_squared_error\"}},\"colorscale\":[[0.0,\"#0d0887\"],[0.1111111111111111,\"#46039f\"],[0.2222222222222222,\"#7201a8\"],[0.3333333333333333,\"#9c179e\"],[0.4444444444444444,\"#bd3786\"],[0.5555555555555556,\"#d8576b\"],[0.6666666666666666,\"#ed7953\"],[0.7777777777777778,\"#fb9f3a\"],[0.8888888888888888,\"#fdca26\"],[1.0,\"#f0f921\"]]},\"legend\":{\"tracegroupgap\":0},\"margin\":{\"t\":60}},                        {\"responsive\": true}                    ).then(function(){\n",
              "                            \n",
              "var gd = document.getElementById('340bb9f4-b111-44c7-a4ff-4a716bc66134');\n",
              "var x = new MutationObserver(function (mutations, observer) {{\n",
              "        var display = window.getComputedStyle(gd).display;\n",
              "        if (!display || display === 'none') {{\n",
              "            console.log([gd, 'removed!']);\n",
              "            Plotly.purge(gd);\n",
              "            observer.disconnect();\n",
              "        }}\n",
              "}});\n",
              "\n",
              "// Listen for the removal of the full notebook cells\n",
              "var notebookContainer = gd.closest('#notebook-container');\n",
              "if (notebookContainer) {{\n",
              "    x.observe(notebookContainer, {childList: true});\n",
              "}}\n",
              "\n",
              "// Listen for the clearing of the current output cell\n",
              "var outputEl = gd.closest('.output');\n",
              "if (outputEl) {{\n",
              "    x.observe(outputEl, {childList: true});\n",
              "}}\n",
              "\n",
              "                        })                };                            </script>        </div>\n",
              "</body>\n",
              "</html>"
            ]
          },
          "metadata": {}
        }
      ],
      "source": [
        "import torch\n",
        "from torch import nn\n",
        "from skorch.regressor import NeuralNetRegressor\n",
        "from skorch.callbacks import EarlyStopping\n",
        "from tune_sklearn import TuneSearchCV\n",
        "\n",
        "\n",
        "class MLP(nn.Module):\n",
        "    def __init__(self, num_inputs=X_train.shape[1], num_outputs=1, layer1=512, layer2=256, dropout1=0, dropout2=0):\n",
        "        super(MLP, self).__init__()\n",
        "\n",
        "        self.linear_relu_stack = nn.Sequential(\n",
        "            nn.Linear(num_inputs, layer1),\n",
        "            nn.LeakyReLU(),\n",
        "            nn.Dropout(dropout1),\n",
        "            nn.Linear(layer1, layer2),\n",
        "            nn.LeakyReLU(),\n",
        "            nn.Dropout(dropout2),\n",
        "            nn.Linear(layer2, num_outputs)\n",
        "            )\n",
        "    def forward(self, x):\n",
        "        x = self.linear_relu_stack(x)\n",
        "        return x  \n",
        "\n",
        "def try_gpu(i=0): \n",
        "    return f'cuda:{i}' if torch.cuda.device_count() >= i + 1 else 'cpu'\n",
        "\n",
        "mlp = NeuralNetRegressor(\n",
        "    MLP(num_inputs=X_train.shape[1], num_outputs=1),\n",
        "    optimizer=torch.optim.Adam,\n",
        "    criterion=nn.MSELoss,\n",
        "    iterator_train__shuffle=True,\n",
        "    device=try_gpu(),\n",
        "    verbose=0,\n",
        "    callbacks=[EarlyStopping(monitor='valid_loss', patience=7,\n",
        "                             threshold=1e-5, lower_is_better=True)]\n",
        "                          )\n",
        "\n",
        "parameters = {\n",
        "    'lr': list(np.geomspace(1e-5, 1e-2, 4)),\n",
        "    'module__layer1': [128, 256, 512],\n",
        "    'module__layer2': [128, 256, 512],\n",
        "    'module__dropout1': [0, 0.1],\n",
        "    'module__dropout2': [0, 0.1],\n",
        "    'optimizer__weight_decay': list(np.geomspace(1e-5, 1e-1, 5)),\n",
        "    'max_epochs': [1000],\n",
        "    'batch_size': [16, 32, 64]\n",
        "    }\n",
        "\n",
        "def use_gpu(device):\n",
        "    return True if not device == 'cpu' else False \n",
        "\n",
        "tune_search = TuneSearchCV(\n",
        "    mlp, \n",
        "    parameters, \n",
        "    search_optimization='hyperopt',\n",
        "    n_trials=15,\n",
        "    n_jobs=-1,\n",
        "    scoring=['neg_root_mean_squared_error'],\n",
        "    cv=5,\n",
        "    refit='neg_root_mean_squared_error',\n",
        "    mode='max',   \n",
        "    use_gpu = use_gpu(try_gpu()),\n",
        "    random_state=random_state,\n",
        "    verbose=1,\n",
        "    )\n",
        "\n",
        "# Run hyper parameter tuning\n",
        "X = X_train \n",
        "y = y_train_trans.reshape(-1,1)\n",
        "tune_search.fit(X, y)\n",
        "\n",
        "# Save the tuning results \n",
        "model_name = 'mlp'\n",
        "\n",
        "## Save the optimal hyper parmater values\n",
        "best_cv_df.loc[best_cv_df['model']==model_name, 'best_hyper_param'] = str(tune_search.best_params_)\n",
        "\n",
        "## Save the CV results\n",
        "cv_df = pd.DataFrame(tune_search.cv_results_)\n",
        "cv_values = cv_df.loc[tune_search.best_index_, cv_df.columns.str.startswith('split')].values\n",
        "best_cv_df.loc[best_cv_df['model']==model_name, 'neg_root_mean_squared_error'] = cv_values[:5]\n",
        "\n",
        "# Visualize the tuning results with parallel coordinate plot\n",
        "tune_result_df = pd.concat([pd.DataFrame(tune_search.cv_results_['params']), cv_df.loc[:,cv_df.columns.str.startswith('mean')] ], axis=1)\n",
        "import plotly.express as px\n",
        "fig = px.parallel_coordinates(tune_result_df, color='mean_test_neg_root_mean_squared_error')\n",
        "fig.show()"
      ]
    },
    {
      "cell_type": "markdown",
      "metadata": {
        "id": "KenbYlKE5KUo"
      },
      "source": [
        "### Factorization Machine"
      ]
    },
    {
      "cell_type": "code",
      "source": [
        "def prepro_for_fm(X_train, X_test, bin_method='sturges'):\n",
        "  n_train = X_train.shape[0]\n",
        "  all = np.vstack((X_train, X_test))\n",
        "\n",
        "  col_num_uniq = np.apply_along_axis(lambda x: len(np.unique(x)), 0,  all)\n",
        "  remain_iidx = (col_num_uniq<=2)\n",
        "  to_bin_iidx = (col_num_uniq>2)\n",
        "\n",
        "  all_remain = all[:,remain_iidx]\n",
        "  all_to_bin = all[:,to_bin_iidx]\n",
        "  \n",
        "  for iter in range(all_to_bin.shape[1]):\n",
        "    bin_size = len(np.histogram(all_to_bin[:,iter], bins=bin_method)[0])\n",
        "    all_to_bin[:,iter] = pd.cut(all_to_bin[:,iter], bins=bin_size, labels=False)\n",
        "\n",
        "  all_to_bin_df = pd.DataFrame(all_to_bin).astype('object')\n",
        "  all_to_bin_array = pd.get_dummies(all_to_bin_df, drop_first=False).to_numpy()\n",
        "\n",
        "  all_array = np.hstack((all_to_bin_array, all_remain)).astype(np.int64)\n",
        "  field_dims = all_array.shape[1]\n",
        "  all_fm = np.vstack((np.apply_along_axis(lambda x: np.where(x==1), 1, all_array)))\n",
        "\n",
        "  return all_fm[:n_train], all_fm[n_train:], field_dims\n",
        "\n",
        "\n",
        "X_train_fm, X_test_fm, field_dims = prepro_for_fm(X_train, X_test, bin_method='sturges')"
      ],
      "metadata": {
        "id": "RiadZbI56qhA"
      },
      "execution_count": null,
      "outputs": []
    },
    {
      "cell_type": "code",
      "execution_count": null,
      "metadata": {
        "colab": {
          "base_uri": "https://localhost:8080/",
          "height": 681
        },
        "id": "CGTbys8FWOv1",
        "outputId": "3a98b532-c2e8-4c08-aa94-6de6b294baf5"
      },
      "outputs": [
        {
          "output_type": "display_data",
          "data": {
            "text/html": [
              "== Status ==<br>Current time: 2022-02-27 00:04:13 (running for 00:35:37.86)<br>Memory usage on this node: 2.6/12.7 GiB<br>Using FIFO scheduling algorithm.<br>Resources requested: 0/2 CPUs, 0/0 GPUs, 0.0/6.33 GiB heap, 0.0/3.17 GiB objects<br>Result logdir: /root/ray_results/_Trainable_2022-02-26_23-28-35<br>Number of trials: 10/10 (10 TERMINATED)<br><br>"
            ],
            "text/plain": [
              "<IPython.core.display.HTML object>"
            ]
          },
          "metadata": {}
        },
        {
          "output_type": "display_data",
          "data": {
            "text/html": [
              "<html>\n",
              "<head><meta charset=\"utf-8\" /></head>\n",
              "<body>\n",
              "    <div>            <script src=\"https://cdnjs.cloudflare.com/ajax/libs/mathjax/2.7.5/MathJax.js?config=TeX-AMS-MML_SVG\"></script><script type=\"text/javascript\">if (window.MathJax) {MathJax.Hub.Config({SVG: {font: \"STIX-Web\"}});}</script>                <script type=\"text/javascript\">window.PlotlyConfig = {MathJaxConfig: 'local'};</script>\n",
              "        <script src=\"https://cdn.plot.ly/plotly-2.8.3.min.js\"></script>                <div id=\"a9973fa9-025f-45da-9973-2502393d22bc\" class=\"plotly-graph-div\" style=\"height:525px; width:100%;\"></div>            <script type=\"text/javascript\">                                    window.PLOTLYENV=window.PLOTLYENV || {};                                    if (document.getElementById(\"a9973fa9-025f-45da-9973-2502393d22bc\")) {                    Plotly.newPlot(                        \"a9973fa9-025f-45da-9973-2502393d22bc\",                        [{\"dimensions\":[{\"label\":\"batch_size\",\"values\":[32,32,32,128,32,32,32,128,32,128]},{\"label\":\"lr\",\"values\":[0.001,0.0001,0.0001,0.001,0.0001,0.0001,0.01,0.001,0.01,0.01]},{\"label\":\"max_epochs\",\"values\":[2000,2000,2000,2000,2000,2000,2000,2000,2000,2000]},{\"label\":\"module__num_factors\",\"values\":[20,20,2,10,20,2,10,20,20,10]},{\"label\":\"optimizer__weight_decay\",\"values\":[0.0001,0.01,1e-05,0.001,0.0001,0.001,0.01,0.0001,0.001,0.001]},{\"label\":\"mean_test_neg_root_mean_squared_error\",\"values\":[-80.99148254394531,-75.02840881347656,-4.758662223815918,-56.67573013305664,-82.79013214111328,-5.196528339385987,-22.626694032549857,-94.24929351806641,-76.77726898193359,-46.47508010864258]}],\"domain\":{\"x\":[0.0,1.0],\"y\":[0.0,1.0]},\"line\":{\"color\":[-80.99148254394531,-75.02840881347656,-4.758662223815918,-56.67573013305664,-82.79013214111328,-5.196528339385987,-22.626694032549857,-94.24929351806641,-76.77726898193359,-46.47508010864258],\"coloraxis\":\"coloraxis\"},\"name\":\"\",\"type\":\"parcoords\"}],                        {\"template\":{\"data\":{\"bar\":[{\"error_x\":{\"color\":\"#2a3f5f\"},\"error_y\":{\"color\":\"#2a3f5f\"},\"marker\":{\"line\":{\"color\":\"#E5ECF6\",\"width\":0.5},\"pattern\":{\"fillmode\":\"overlay\",\"size\":10,\"solidity\":0.2}},\"type\":\"bar\"}],\"barpolar\":[{\"marker\":{\"line\":{\"color\":\"#E5ECF6\",\"width\":0.5},\"pattern\":{\"fillmode\":\"overlay\",\"size\":10,\"solidity\":0.2}},\"type\":\"barpolar\"}],\"carpet\":[{\"aaxis\":{\"endlinecolor\":\"#2a3f5f\",\"gridcolor\":\"white\",\"linecolor\":\"white\",\"minorgridcolor\":\"white\",\"startlinecolor\":\"#2a3f5f\"},\"baxis\":{\"endlinecolor\":\"#2a3f5f\",\"gridcolor\":\"white\",\"linecolor\":\"white\",\"minorgridcolor\":\"white\",\"startlinecolor\":\"#2a3f5f\"},\"type\":\"carpet\"}],\"choropleth\":[{\"colorbar\":{\"outlinewidth\":0,\"ticks\":\"\"},\"type\":\"choropleth\"}],\"contour\":[{\"colorbar\":{\"outlinewidth\":0,\"ticks\":\"\"},\"colorscale\":[[0.0,\"#0d0887\"],[0.1111111111111111,\"#46039f\"],[0.2222222222222222,\"#7201a8\"],[0.3333333333333333,\"#9c179e\"],[0.4444444444444444,\"#bd3786\"],[0.5555555555555556,\"#d8576b\"],[0.6666666666666666,\"#ed7953\"],[0.7777777777777778,\"#fb9f3a\"],[0.8888888888888888,\"#fdca26\"],[1.0,\"#f0f921\"]],\"type\":\"contour\"}],\"contourcarpet\":[{\"colorbar\":{\"outlinewidth\":0,\"ticks\":\"\"},\"type\":\"contourcarpet\"}],\"heatmap\":[{\"colorbar\":{\"outlinewidth\":0,\"ticks\":\"\"},\"colorscale\":[[0.0,\"#0d0887\"],[0.1111111111111111,\"#46039f\"],[0.2222222222222222,\"#7201a8\"],[0.3333333333333333,\"#9c179e\"],[0.4444444444444444,\"#bd3786\"],[0.5555555555555556,\"#d8576b\"],[0.6666666666666666,\"#ed7953\"],[0.7777777777777778,\"#fb9f3a\"],[0.8888888888888888,\"#fdca26\"],[1.0,\"#f0f921\"]],\"type\":\"heatmap\"}],\"heatmapgl\":[{\"colorbar\":{\"outlinewidth\":0,\"ticks\":\"\"},\"colorscale\":[[0.0,\"#0d0887\"],[0.1111111111111111,\"#46039f\"],[0.2222222222222222,\"#7201a8\"],[0.3333333333333333,\"#9c179e\"],[0.4444444444444444,\"#bd3786\"],[0.5555555555555556,\"#d8576b\"],[0.6666666666666666,\"#ed7953\"],[0.7777777777777778,\"#fb9f3a\"],[0.8888888888888888,\"#fdca26\"],[1.0,\"#f0f921\"]],\"type\":\"heatmapgl\"}],\"histogram\":[{\"marker\":{\"pattern\":{\"fillmode\":\"overlay\",\"size\":10,\"solidity\":0.2}},\"type\":\"histogram\"}],\"histogram2d\":[{\"colorbar\":{\"outlinewidth\":0,\"ticks\":\"\"},\"colorscale\":[[0.0,\"#0d0887\"],[0.1111111111111111,\"#46039f\"],[0.2222222222222222,\"#7201a8\"],[0.3333333333333333,\"#9c179e\"],[0.4444444444444444,\"#bd3786\"],[0.5555555555555556,\"#d8576b\"],[0.6666666666666666,\"#ed7953\"],[0.7777777777777778,\"#fb9f3a\"],[0.8888888888888888,\"#fdca26\"],[1.0,\"#f0f921\"]],\"type\":\"histogram2d\"}],\"histogram2dcontour\":[{\"colorbar\":{\"outlinewidth\":0,\"ticks\":\"\"},\"colorscale\":[[0.0,\"#0d0887\"],[0.1111111111111111,\"#46039f\"],[0.2222222222222222,\"#7201a8\"],[0.3333333333333333,\"#9c179e\"],[0.4444444444444444,\"#bd3786\"],[0.5555555555555556,\"#d8576b\"],[0.6666666666666666,\"#ed7953\"],[0.7777777777777778,\"#fb9f3a\"],[0.8888888888888888,\"#fdca26\"],[1.0,\"#f0f921\"]],\"type\":\"histogram2dcontour\"}],\"mesh3d\":[{\"colorbar\":{\"outlinewidth\":0,\"ticks\":\"\"},\"type\":\"mesh3d\"}],\"parcoords\":[{\"line\":{\"colorbar\":{\"outlinewidth\":0,\"ticks\":\"\"}},\"type\":\"parcoords\"}],\"pie\":[{\"automargin\":true,\"type\":\"pie\"}],\"scatter\":[{\"marker\":{\"colorbar\":{\"outlinewidth\":0,\"ticks\":\"\"}},\"type\":\"scatter\"}],\"scatter3d\":[{\"line\":{\"colorbar\":{\"outlinewidth\":0,\"ticks\":\"\"}},\"marker\":{\"colorbar\":{\"outlinewidth\":0,\"ticks\":\"\"}},\"type\":\"scatter3d\"}],\"scattercarpet\":[{\"marker\":{\"colorbar\":{\"outlinewidth\":0,\"ticks\":\"\"}},\"type\":\"scattercarpet\"}],\"scattergeo\":[{\"marker\":{\"colorbar\":{\"outlinewidth\":0,\"ticks\":\"\"}},\"type\":\"scattergeo\"}],\"scattergl\":[{\"marker\":{\"colorbar\":{\"outlinewidth\":0,\"ticks\":\"\"}},\"type\":\"scattergl\"}],\"scattermapbox\":[{\"marker\":{\"colorbar\":{\"outlinewidth\":0,\"ticks\":\"\"}},\"type\":\"scattermapbox\"}],\"scatterpolar\":[{\"marker\":{\"colorbar\":{\"outlinewidth\":0,\"ticks\":\"\"}},\"type\":\"scatterpolar\"}],\"scatterpolargl\":[{\"marker\":{\"colorbar\":{\"outlinewidth\":0,\"ticks\":\"\"}},\"type\":\"scatterpolargl\"}],\"scatterternary\":[{\"marker\":{\"colorbar\":{\"outlinewidth\":0,\"ticks\":\"\"}},\"type\":\"scatterternary\"}],\"surface\":[{\"colorbar\":{\"outlinewidth\":0,\"ticks\":\"\"},\"colorscale\":[[0.0,\"#0d0887\"],[0.1111111111111111,\"#46039f\"],[0.2222222222222222,\"#7201a8\"],[0.3333333333333333,\"#9c179e\"],[0.4444444444444444,\"#bd3786\"],[0.5555555555555556,\"#d8576b\"],[0.6666666666666666,\"#ed7953\"],[0.7777777777777778,\"#fb9f3a\"],[0.8888888888888888,\"#fdca26\"],[1.0,\"#f0f921\"]],\"type\":\"surface\"}],\"table\":[{\"cells\":{\"fill\":{\"color\":\"#EBF0F8\"},\"line\":{\"color\":\"white\"}},\"header\":{\"fill\":{\"color\":\"#C8D4E3\"},\"line\":{\"color\":\"white\"}},\"type\":\"table\"}]},\"layout\":{\"annotationdefaults\":{\"arrowcolor\":\"#2a3f5f\",\"arrowhead\":0,\"arrowwidth\":1},\"autotypenumbers\":\"strict\",\"coloraxis\":{\"colorbar\":{\"outlinewidth\":0,\"ticks\":\"\"}},\"colorscale\":{\"diverging\":[[0,\"#8e0152\"],[0.1,\"#c51b7d\"],[0.2,\"#de77ae\"],[0.3,\"#f1b6da\"],[0.4,\"#fde0ef\"],[0.5,\"#f7f7f7\"],[0.6,\"#e6f5d0\"],[0.7,\"#b8e186\"],[0.8,\"#7fbc41\"],[0.9,\"#4d9221\"],[1,\"#276419\"]],\"sequential\":[[0.0,\"#0d0887\"],[0.1111111111111111,\"#46039f\"],[0.2222222222222222,\"#7201a8\"],[0.3333333333333333,\"#9c179e\"],[0.4444444444444444,\"#bd3786\"],[0.5555555555555556,\"#d8576b\"],[0.6666666666666666,\"#ed7953\"],[0.7777777777777778,\"#fb9f3a\"],[0.8888888888888888,\"#fdca26\"],[1.0,\"#f0f921\"]],\"sequentialminus\":[[0.0,\"#0d0887\"],[0.1111111111111111,\"#46039f\"],[0.2222222222222222,\"#7201a8\"],[0.3333333333333333,\"#9c179e\"],[0.4444444444444444,\"#bd3786\"],[0.5555555555555556,\"#d8576b\"],[0.6666666666666666,\"#ed7953\"],[0.7777777777777778,\"#fb9f3a\"],[0.8888888888888888,\"#fdca26\"],[1.0,\"#f0f921\"]]},\"colorway\":[\"#636efa\",\"#EF553B\",\"#00cc96\",\"#ab63fa\",\"#FFA15A\",\"#19d3f3\",\"#FF6692\",\"#B6E880\",\"#FF97FF\",\"#FECB52\"],\"font\":{\"color\":\"#2a3f5f\"},\"geo\":{\"bgcolor\":\"white\",\"lakecolor\":\"white\",\"landcolor\":\"#E5ECF6\",\"showlakes\":true,\"showland\":true,\"subunitcolor\":\"white\"},\"hoverlabel\":{\"align\":\"left\"},\"hovermode\":\"closest\",\"mapbox\":{\"style\":\"light\"},\"paper_bgcolor\":\"white\",\"plot_bgcolor\":\"#E5ECF6\",\"polar\":{\"angularaxis\":{\"gridcolor\":\"white\",\"linecolor\":\"white\",\"ticks\":\"\"},\"bgcolor\":\"#E5ECF6\",\"radialaxis\":{\"gridcolor\":\"white\",\"linecolor\":\"white\",\"ticks\":\"\"}},\"scene\":{\"xaxis\":{\"backgroundcolor\":\"#E5ECF6\",\"gridcolor\":\"white\",\"gridwidth\":2,\"linecolor\":\"white\",\"showbackground\":true,\"ticks\":\"\",\"zerolinecolor\":\"white\"},\"yaxis\":{\"backgroundcolor\":\"#E5ECF6\",\"gridcolor\":\"white\",\"gridwidth\":2,\"linecolor\":\"white\",\"showbackground\":true,\"ticks\":\"\",\"zerolinecolor\":\"white\"},\"zaxis\":{\"backgroundcolor\":\"#E5ECF6\",\"gridcolor\":\"white\",\"gridwidth\":2,\"linecolor\":\"white\",\"showbackground\":true,\"ticks\":\"\",\"zerolinecolor\":\"white\"}},\"shapedefaults\":{\"line\":{\"color\":\"#2a3f5f\"}},\"ternary\":{\"aaxis\":{\"gridcolor\":\"white\",\"linecolor\":\"white\",\"ticks\":\"\"},\"baxis\":{\"gridcolor\":\"white\",\"linecolor\":\"white\",\"ticks\":\"\"},\"bgcolor\":\"#E5ECF6\",\"caxis\":{\"gridcolor\":\"white\",\"linecolor\":\"white\",\"ticks\":\"\"}},\"title\":{\"x\":0.05},\"xaxis\":{\"automargin\":true,\"gridcolor\":\"white\",\"linecolor\":\"white\",\"ticks\":\"\",\"title\":{\"standoff\":15},\"zerolinecolor\":\"white\",\"zerolinewidth\":2},\"yaxis\":{\"automargin\":true,\"gridcolor\":\"white\",\"linecolor\":\"white\",\"ticks\":\"\",\"title\":{\"standoff\":15},\"zerolinecolor\":\"white\",\"zerolinewidth\":2}}},\"coloraxis\":{\"colorbar\":{\"title\":{\"text\":\"mean_test_neg_root_mean_squared_error\"}},\"colorscale\":[[0.0,\"#0d0887\"],[0.1111111111111111,\"#46039f\"],[0.2222222222222222,\"#7201a8\"],[0.3333333333333333,\"#9c179e\"],[0.4444444444444444,\"#bd3786\"],[0.5555555555555556,\"#d8576b\"],[0.6666666666666666,\"#ed7953\"],[0.7777777777777778,\"#fb9f3a\"],[0.8888888888888888,\"#fdca26\"],[1.0,\"#f0f921\"]]},\"legend\":{\"tracegroupgap\":0},\"margin\":{\"t\":60}},                        {\"responsive\": true}                    ).then(function(){\n",
              "                            \n",
              "var gd = document.getElementById('a9973fa9-025f-45da-9973-2502393d22bc');\n",
              "var x = new MutationObserver(function (mutations, observer) {{\n",
              "        var display = window.getComputedStyle(gd).display;\n",
              "        if (!display || display === 'none') {{\n",
              "            console.log([gd, 'removed!']);\n",
              "            Plotly.purge(gd);\n",
              "            observer.disconnect();\n",
              "        }}\n",
              "}});\n",
              "\n",
              "// Listen for the removal of the full notebook cells\n",
              "var notebookContainer = gd.closest('#notebook-container');\n",
              "if (notebookContainer) {{\n",
              "    x.observe(notebookContainer, {childList: true});\n",
              "}}\n",
              "\n",
              "// Listen for the clearing of the current output cell\n",
              "var outputEl = gd.closest('.output');\n",
              "if (outputEl) {{\n",
              "    x.observe(outputEl, {childList: true});\n",
              "}}\n",
              "\n",
              "                        })                };                            </script>        </div>\n",
              "</body>\n",
              "</html>"
            ]
          },
          "metadata": {}
        }
      ],
      "source": [
        "import torch\n",
        "from torch import nn\n",
        "from skorch.regressor import NeuralNetRegressor\n",
        "from skorch.callbacks import EarlyStopping\n",
        "from tune_sklearn import TuneSearchCV\n",
        "\n",
        "class FM(nn.Module):\n",
        "    def __init__(self, num_inputs=field_dims, num_factors=2, output_dim=1):\n",
        "        super(FM, self).__init__()\n",
        "        self.embedding = nn.Embedding(num_inputs, num_factors)\n",
        "        self.fc = nn.Embedding(num_inputs, 1)\n",
        "        self.bias = nn.Parameter(torch.zeros((output_dim,)))\n",
        "\n",
        "    def forward(self, x):\n",
        "        square_of_sum = torch.sum(self.embedding(x), dim=1)**2\n",
        "        sum_of_square = torch.sum(self.embedding(x)**2, dim=1)\n",
        "        x = self.bias + self.fc(x).sum(1) + 0.5 * (square_of_sum - sum_of_square).sum(dim=1, keepdim=True)\n",
        "        return x \n",
        "\n",
        "def try_gpu(i=0): \n",
        "    return f'cuda:{i}' if torch.cuda.device_count() >= i + 1 else 'cpu'\n",
        "\n",
        "fm = NeuralNetRegressor(\n",
        "    FM(num_inputs=field_dims, num_factors=20, output_dim=1),\n",
        "    optimizer=torch.optim.Adam,\n",
        "    criterion=nn.MSELoss,\n",
        "    iterator_train__shuffle=True,\n",
        "    device=try_gpu(),\n",
        "    verbose=0,\n",
        "    callbacks=[EarlyStopping(monitor='valid_loss', patience=7,\n",
        "                             threshold=1e-5, lower_is_better=True)]\n",
        "                          )\n",
        "\n",
        "params = {\n",
        "    'lr': list(np.geomspace(1e-4, 1e-1, 4)),\n",
        "    'module__num_factors': [2, 10, 20],\n",
        "    'optimizer__weight_decay': list(np.geomspace(1e-5, 1e-1, 5)),\n",
        "    'max_epochs': [3000],\n",
        "    'batch_size': [32, 128]\n",
        "    }\n",
        "\n",
        "def use_gpu(device):\n",
        "    return True if not device == 'cpu' else False \n",
        "\n",
        "tune_search = TuneSearchCV(\n",
        "    fm, \n",
        "    params, \n",
        "    search_optimization='hyperopt',\n",
        "    n_trials=10,\n",
        "    n_jobs=-1,\n",
        "    scoring=['neg_root_mean_squared_error'],\n",
        "    cv=5,\n",
        "    refit='neg_root_mean_squared_error',\n",
        "    mode='max',   \n",
        "    use_gpu = use_gpu(try_gpu()),\n",
        "    random_state=random_state,\n",
        "    verbose=1,\n",
        "    )\n",
        "\n",
        "\n",
        "# Run hyper parameter tuning\n",
        "X = X_train_fm\n",
        "y = y_train_trans.reshape(-1,1)\n",
        "tune_search.fit(X, y)\n",
        "\n",
        "# Save the tuning results \n",
        "model_name = 'fm'\n",
        "\n",
        "## Save the optimal hyper parmater values\n",
        "best_cv_df.loc[best_cv_df['model']==model_name, 'best_hyper_param'] = str(tune_search.best_params_)\n",
        "\n",
        "## Save the CV results\n",
        "cv_df = pd.DataFrame(tune_search.cv_results_)\n",
        "cv_values = cv_df.loc[tune_search.best_index_, cv_df.columns.str.startswith('split')].values\n",
        "best_cv_df.loc[best_cv_df['model']==model_name, 'neg_root_mean_squared_error'] = cv_values[:5]\n",
        "\n",
        "# Visualize the tuning results with parallel coordinate plot\n",
        "tune_result_df = pd.concat([pd.DataFrame(tune_search.cv_results_['params']), cv_df.loc[:,cv_df.columns.str.startswith('mean')] ], axis=1)\n",
        "import plotly.express as px\n",
        "fig = px.parallel_coordinates(tune_result_df, color='mean_test_neg_root_mean_squared_error')\n",
        "fig.show()"
      ]
    },
    {
      "cell_type": "code",
      "execution_count": null,
      "metadata": {
        "id": "YDp5hfpiUmz6"
      },
      "outputs": [],
      "source": [
        "data_name = 'House_Price'\n",
        "\n",
        "best_cv_df.to_csv('/content/drive/MyDrive/Work/Kaggle/{}/Result/best_cv_results.csv'.format(data_name), index=False)"
      ]
    },
    {
      "cell_type": "markdown",
      "metadata": {
        "id": "v4BlrQ6XK0ol"
      },
      "source": [
        "## 2-2. Model comparison based on CV results with best hyper parameters\n",
        "\n",
        "Compare the CV results (measured using the optimal hyper parameter values)\n",
        "\n",
        "The figure below shows that the rf, xgb, mlp, and fm models show superior performance compared to the linear and svm models.\n",
        "\n"
      ]
    },
    {
      "cell_type": "code",
      "source": [
        "fig = px.box(best_cv_df, x='model', y='neg_root_mean_squared_error', color='model', width=600)\n",
        "fig.show()"
      ],
      "metadata": {
        "colab": {
          "base_uri": "https://localhost:8080/",
          "height": 542
        },
        "id": "PZ7wUvC_vZPB",
        "outputId": "fa80835d-6411-4bd3-d5e6-3ab14e3c1003"
      },
      "execution_count": null,
      "outputs": [
        {
          "output_type": "display_data",
          "data": {
            "text/html": [
              "<html>\n",
              "<head><meta charset=\"utf-8\" /></head>\n",
              "<body>\n",
              "    <div>            <script src=\"https://cdnjs.cloudflare.com/ajax/libs/mathjax/2.7.5/MathJax.js?config=TeX-AMS-MML_SVG\"></script><script type=\"text/javascript\">if (window.MathJax) {MathJax.Hub.Config({SVG: {font: \"STIX-Web\"}});}</script>                <script type=\"text/javascript\">window.PlotlyConfig = {MathJaxConfig: 'local'};</script>\n",
              "        <script src=\"https://cdn.plot.ly/plotly-2.8.3.min.js\"></script>                <div id=\"be5b0d45-a0ec-4c9b-aa75-15b5500c61a8\" class=\"plotly-graph-div\" style=\"height:525px; width:600px;\"></div>            <script type=\"text/javascript\">                                    window.PLOTLYENV=window.PLOTLYENV || {};                                    if (document.getElementById(\"be5b0d45-a0ec-4c9b-aa75-15b5500c61a8\")) {                    Plotly.newPlot(                        \"be5b0d45-a0ec-4c9b-aa75-15b5500c61a8\",                        [{\"alignmentgroup\":\"True\",\"hovertemplate\":\"model=%{x}<br>neg_root_mean_squared_error=%{y}<extra></extra>\",\"legendgroup\":\"linear\",\"marker\":{\"color\":\"#636efa\"},\"name\":\"linear\",\"notched\":false,\"offsetgroup\":\"linear\",\"orientation\":\"v\",\"showlegend\":true,\"x\":[\"linear\",\"linear\",\"linear\",\"linear\",\"linear\"],\"x0\":\" \",\"xaxis\":\"x\",\"y\":[-0.1301272540239581,-0.1598362416421889,-0.1327505984675917,-0.1506590339712781,-0.1453361563875008],\"y0\":\" \",\"yaxis\":\"y\",\"type\":\"box\"},{\"alignmentgroup\":\"True\",\"hovertemplate\":\"model=%{x}<br>neg_root_mean_squared_error=%{y}<extra></extra>\",\"legendgroup\":\"svm\",\"marker\":{\"color\":\"#EF553B\"},\"name\":\"svm\",\"notched\":false,\"offsetgroup\":\"svm\",\"orientation\":\"v\",\"showlegend\":true,\"x\":[\"svm\",\"svm\",\"svm\",\"svm\",\"svm\"],\"x0\":\" \",\"xaxis\":\"x\",\"y\":[-0.1254169469910767,-0.1512418435791914,-0.1355619932082758,-0.1320669956217709,-0.1366765162991462],\"y0\":\" \",\"yaxis\":\"y\",\"type\":\"box\"},{\"alignmentgroup\":\"True\",\"hovertemplate\":\"model=%{x}<br>neg_root_mean_squared_error=%{y}<extra></extra>\",\"legendgroup\":\"rf\",\"marker\":{\"color\":\"#00cc96\"},\"name\":\"rf\",\"notched\":false,\"offsetgroup\":\"rf\",\"orientation\":\"v\",\"showlegend\":true,\"x\":[\"rf\",\"rf\",\"rf\",\"rf\",\"rf\"],\"x0\":\" \",\"xaxis\":\"x\",\"y\":[-0.1325545897258808,-0.1258925142404149,-0.1428435699302638,-0.1325520262050222,-0.1359398219490837],\"y0\":\" \",\"yaxis\":\"y\",\"type\":\"box\"},{\"alignmentgroup\":\"True\",\"hovertemplate\":\"model=%{x}<br>neg_root_mean_squared_error=%{y}<extra></extra>\",\"legendgroup\":\"xgb\",\"marker\":{\"color\":\"#ab63fa\"},\"name\":\"xgb\",\"notched\":false,\"offsetgroup\":\"xgb\",\"orientation\":\"v\",\"showlegend\":true,\"x\":[\"xgb\",\"xgb\",\"xgb\",\"xgb\",\"xgb\"],\"x0\":\" \",\"xaxis\":\"x\",\"y\":[-0.1114391908049583,-0.1135585755109787,-0.1232104673981666,-0.1124475970864296,-0.1135807111859321],\"y0\":\" \",\"yaxis\":\"y\",\"type\":\"box\"},{\"alignmentgroup\":\"True\",\"hovertemplate\":\"model=%{x}<br>neg_root_mean_squared_error=%{y}<extra></extra>\",\"legendgroup\":\"mlp\",\"marker\":{\"color\":\"#FFA15A\"},\"name\":\"mlp\",\"notched\":false,\"offsetgroup\":\"mlp\",\"orientation\":\"v\",\"showlegend\":true,\"x\":[\"mlp\",\"mlp\",\"mlp\",\"mlp\",\"mlp\"],\"x0\":\" \",\"xaxis\":\"x\",\"y\":[-0.1354248523712158,-0.1623324304819107,-0.1677319556474685,-0.1477511078119278,-0.1525936722755432],\"y0\":\" \",\"yaxis\":\"y\",\"type\":\"box\"},{\"alignmentgroup\":\"True\",\"hovertemplate\":\"model=%{x}<br>neg_root_mean_squared_error=%{y}<extra></extra>\",\"legendgroup\":\"fm\",\"marker\":{\"color\":\"#19d3f3\"},\"name\":\"fm\",\"notched\":false,\"offsetgroup\":\"fm\",\"orientation\":\"v\",\"showlegend\":true,\"x\":[\"fm\",\"fm\",\"fm\",\"fm\",\"fm\"],\"x0\":\" \",\"xaxis\":\"x\",\"y\":[-4.492183208465576,-4.3904643058776855,-4.819737434387207,-5.200467109680176,-4.890459060668945],\"y0\":\" \",\"yaxis\":\"y\",\"type\":\"box\"}],                        {\"template\":{\"data\":{\"bar\":[{\"error_x\":{\"color\":\"#2a3f5f\"},\"error_y\":{\"color\":\"#2a3f5f\"},\"marker\":{\"line\":{\"color\":\"#E5ECF6\",\"width\":0.5},\"pattern\":{\"fillmode\":\"overlay\",\"size\":10,\"solidity\":0.2}},\"type\":\"bar\"}],\"barpolar\":[{\"marker\":{\"line\":{\"color\":\"#E5ECF6\",\"width\":0.5},\"pattern\":{\"fillmode\":\"overlay\",\"size\":10,\"solidity\":0.2}},\"type\":\"barpolar\"}],\"carpet\":[{\"aaxis\":{\"endlinecolor\":\"#2a3f5f\",\"gridcolor\":\"white\",\"linecolor\":\"white\",\"minorgridcolor\":\"white\",\"startlinecolor\":\"#2a3f5f\"},\"baxis\":{\"endlinecolor\":\"#2a3f5f\",\"gridcolor\":\"white\",\"linecolor\":\"white\",\"minorgridcolor\":\"white\",\"startlinecolor\":\"#2a3f5f\"},\"type\":\"carpet\"}],\"choropleth\":[{\"colorbar\":{\"outlinewidth\":0,\"ticks\":\"\"},\"type\":\"choropleth\"}],\"contour\":[{\"colorbar\":{\"outlinewidth\":0,\"ticks\":\"\"},\"colorscale\":[[0.0,\"#0d0887\"],[0.1111111111111111,\"#46039f\"],[0.2222222222222222,\"#7201a8\"],[0.3333333333333333,\"#9c179e\"],[0.4444444444444444,\"#bd3786\"],[0.5555555555555556,\"#d8576b\"],[0.6666666666666666,\"#ed7953\"],[0.7777777777777778,\"#fb9f3a\"],[0.8888888888888888,\"#fdca26\"],[1.0,\"#f0f921\"]],\"type\":\"contour\"}],\"contourcarpet\":[{\"colorbar\":{\"outlinewidth\":0,\"ticks\":\"\"},\"type\":\"contourcarpet\"}],\"heatmap\":[{\"colorbar\":{\"outlinewidth\":0,\"ticks\":\"\"},\"colorscale\":[[0.0,\"#0d0887\"],[0.1111111111111111,\"#46039f\"],[0.2222222222222222,\"#7201a8\"],[0.3333333333333333,\"#9c179e\"],[0.4444444444444444,\"#bd3786\"],[0.5555555555555556,\"#d8576b\"],[0.6666666666666666,\"#ed7953\"],[0.7777777777777778,\"#fb9f3a\"],[0.8888888888888888,\"#fdca26\"],[1.0,\"#f0f921\"]],\"type\":\"heatmap\"}],\"heatmapgl\":[{\"colorbar\":{\"outlinewidth\":0,\"ticks\":\"\"},\"colorscale\":[[0.0,\"#0d0887\"],[0.1111111111111111,\"#46039f\"],[0.2222222222222222,\"#7201a8\"],[0.3333333333333333,\"#9c179e\"],[0.4444444444444444,\"#bd3786\"],[0.5555555555555556,\"#d8576b\"],[0.6666666666666666,\"#ed7953\"],[0.7777777777777778,\"#fb9f3a\"],[0.8888888888888888,\"#fdca26\"],[1.0,\"#f0f921\"]],\"type\":\"heatmapgl\"}],\"histogram\":[{\"marker\":{\"pattern\":{\"fillmode\":\"overlay\",\"size\":10,\"solidity\":0.2}},\"type\":\"histogram\"}],\"histogram2d\":[{\"colorbar\":{\"outlinewidth\":0,\"ticks\":\"\"},\"colorscale\":[[0.0,\"#0d0887\"],[0.1111111111111111,\"#46039f\"],[0.2222222222222222,\"#7201a8\"],[0.3333333333333333,\"#9c179e\"],[0.4444444444444444,\"#bd3786\"],[0.5555555555555556,\"#d8576b\"],[0.6666666666666666,\"#ed7953\"],[0.7777777777777778,\"#fb9f3a\"],[0.8888888888888888,\"#fdca26\"],[1.0,\"#f0f921\"]],\"type\":\"histogram2d\"}],\"histogram2dcontour\":[{\"colorbar\":{\"outlinewidth\":0,\"ticks\":\"\"},\"colorscale\":[[0.0,\"#0d0887\"],[0.1111111111111111,\"#46039f\"],[0.2222222222222222,\"#7201a8\"],[0.3333333333333333,\"#9c179e\"],[0.4444444444444444,\"#bd3786\"],[0.5555555555555556,\"#d8576b\"],[0.6666666666666666,\"#ed7953\"],[0.7777777777777778,\"#fb9f3a\"],[0.8888888888888888,\"#fdca26\"],[1.0,\"#f0f921\"]],\"type\":\"histogram2dcontour\"}],\"mesh3d\":[{\"colorbar\":{\"outlinewidth\":0,\"ticks\":\"\"},\"type\":\"mesh3d\"}],\"parcoords\":[{\"line\":{\"colorbar\":{\"outlinewidth\":0,\"ticks\":\"\"}},\"type\":\"parcoords\"}],\"pie\":[{\"automargin\":true,\"type\":\"pie\"}],\"scatter\":[{\"marker\":{\"colorbar\":{\"outlinewidth\":0,\"ticks\":\"\"}},\"type\":\"scatter\"}],\"scatter3d\":[{\"line\":{\"colorbar\":{\"outlinewidth\":0,\"ticks\":\"\"}},\"marker\":{\"colorbar\":{\"outlinewidth\":0,\"ticks\":\"\"}},\"type\":\"scatter3d\"}],\"scattercarpet\":[{\"marker\":{\"colorbar\":{\"outlinewidth\":0,\"ticks\":\"\"}},\"type\":\"scattercarpet\"}],\"scattergeo\":[{\"marker\":{\"colorbar\":{\"outlinewidth\":0,\"ticks\":\"\"}},\"type\":\"scattergeo\"}],\"scattergl\":[{\"marker\":{\"colorbar\":{\"outlinewidth\":0,\"ticks\":\"\"}},\"type\":\"scattergl\"}],\"scattermapbox\":[{\"marker\":{\"colorbar\":{\"outlinewidth\":0,\"ticks\":\"\"}},\"type\":\"scattermapbox\"}],\"scatterpolar\":[{\"marker\":{\"colorbar\":{\"outlinewidth\":0,\"ticks\":\"\"}},\"type\":\"scatterpolar\"}],\"scatterpolargl\":[{\"marker\":{\"colorbar\":{\"outlinewidth\":0,\"ticks\":\"\"}},\"type\":\"scatterpolargl\"}],\"scatterternary\":[{\"marker\":{\"colorbar\":{\"outlinewidth\":0,\"ticks\":\"\"}},\"type\":\"scatterternary\"}],\"surface\":[{\"colorbar\":{\"outlinewidth\":0,\"ticks\":\"\"},\"colorscale\":[[0.0,\"#0d0887\"],[0.1111111111111111,\"#46039f\"],[0.2222222222222222,\"#7201a8\"],[0.3333333333333333,\"#9c179e\"],[0.4444444444444444,\"#bd3786\"],[0.5555555555555556,\"#d8576b\"],[0.6666666666666666,\"#ed7953\"],[0.7777777777777778,\"#fb9f3a\"],[0.8888888888888888,\"#fdca26\"],[1.0,\"#f0f921\"]],\"type\":\"surface\"}],\"table\":[{\"cells\":{\"fill\":{\"color\":\"#EBF0F8\"},\"line\":{\"color\":\"white\"}},\"header\":{\"fill\":{\"color\":\"#C8D4E3\"},\"line\":{\"color\":\"white\"}},\"type\":\"table\"}]},\"layout\":{\"annotationdefaults\":{\"arrowcolor\":\"#2a3f5f\",\"arrowhead\":0,\"arrowwidth\":1},\"autotypenumbers\":\"strict\",\"coloraxis\":{\"colorbar\":{\"outlinewidth\":0,\"ticks\":\"\"}},\"colorscale\":{\"diverging\":[[0,\"#8e0152\"],[0.1,\"#c51b7d\"],[0.2,\"#de77ae\"],[0.3,\"#f1b6da\"],[0.4,\"#fde0ef\"],[0.5,\"#f7f7f7\"],[0.6,\"#e6f5d0\"],[0.7,\"#b8e186\"],[0.8,\"#7fbc41\"],[0.9,\"#4d9221\"],[1,\"#276419\"]],\"sequential\":[[0.0,\"#0d0887\"],[0.1111111111111111,\"#46039f\"],[0.2222222222222222,\"#7201a8\"],[0.3333333333333333,\"#9c179e\"],[0.4444444444444444,\"#bd3786\"],[0.5555555555555556,\"#d8576b\"],[0.6666666666666666,\"#ed7953\"],[0.7777777777777778,\"#fb9f3a\"],[0.8888888888888888,\"#fdca26\"],[1.0,\"#f0f921\"]],\"sequentialminus\":[[0.0,\"#0d0887\"],[0.1111111111111111,\"#46039f\"],[0.2222222222222222,\"#7201a8\"],[0.3333333333333333,\"#9c179e\"],[0.4444444444444444,\"#bd3786\"],[0.5555555555555556,\"#d8576b\"],[0.6666666666666666,\"#ed7953\"],[0.7777777777777778,\"#fb9f3a\"],[0.8888888888888888,\"#fdca26\"],[1.0,\"#f0f921\"]]},\"colorway\":[\"#636efa\",\"#EF553B\",\"#00cc96\",\"#ab63fa\",\"#FFA15A\",\"#19d3f3\",\"#FF6692\",\"#B6E880\",\"#FF97FF\",\"#FECB52\"],\"font\":{\"color\":\"#2a3f5f\"},\"geo\":{\"bgcolor\":\"white\",\"lakecolor\":\"white\",\"landcolor\":\"#E5ECF6\",\"showlakes\":true,\"showland\":true,\"subunitcolor\":\"white\"},\"hoverlabel\":{\"align\":\"left\"},\"hovermode\":\"closest\",\"mapbox\":{\"style\":\"light\"},\"paper_bgcolor\":\"white\",\"plot_bgcolor\":\"#E5ECF6\",\"polar\":{\"angularaxis\":{\"gridcolor\":\"white\",\"linecolor\":\"white\",\"ticks\":\"\"},\"bgcolor\":\"#E5ECF6\",\"radialaxis\":{\"gridcolor\":\"white\",\"linecolor\":\"white\",\"ticks\":\"\"}},\"scene\":{\"xaxis\":{\"backgroundcolor\":\"#E5ECF6\",\"gridcolor\":\"white\",\"gridwidth\":2,\"linecolor\":\"white\",\"showbackground\":true,\"ticks\":\"\",\"zerolinecolor\":\"white\"},\"yaxis\":{\"backgroundcolor\":\"#E5ECF6\",\"gridcolor\":\"white\",\"gridwidth\":2,\"linecolor\":\"white\",\"showbackground\":true,\"ticks\":\"\",\"zerolinecolor\":\"white\"},\"zaxis\":{\"backgroundcolor\":\"#E5ECF6\",\"gridcolor\":\"white\",\"gridwidth\":2,\"linecolor\":\"white\",\"showbackground\":true,\"ticks\":\"\",\"zerolinecolor\":\"white\"}},\"shapedefaults\":{\"line\":{\"color\":\"#2a3f5f\"}},\"ternary\":{\"aaxis\":{\"gridcolor\":\"white\",\"linecolor\":\"white\",\"ticks\":\"\"},\"baxis\":{\"gridcolor\":\"white\",\"linecolor\":\"white\",\"ticks\":\"\"},\"bgcolor\":\"#E5ECF6\",\"caxis\":{\"gridcolor\":\"white\",\"linecolor\":\"white\",\"ticks\":\"\"}},\"title\":{\"x\":0.05},\"xaxis\":{\"automargin\":true,\"gridcolor\":\"white\",\"linecolor\":\"white\",\"ticks\":\"\",\"title\":{\"standoff\":15},\"zerolinecolor\":\"white\",\"zerolinewidth\":2},\"yaxis\":{\"automargin\":true,\"gridcolor\":\"white\",\"linecolor\":\"white\",\"ticks\":\"\",\"title\":{\"standoff\":15},\"zerolinecolor\":\"white\",\"zerolinewidth\":2}}},\"xaxis\":{\"anchor\":\"y\",\"domain\":[0.0,1.0],\"title\":{\"text\":\"model\"},\"categoryorder\":\"array\",\"categoryarray\":[\"linear\",\"svm\",\"rf\",\"xgb\",\"mlp\",\"fm\"]},\"yaxis\":{\"anchor\":\"x\",\"domain\":[0.0,1.0],\"title\":{\"text\":\"neg_root_mean_squared_error\"}},\"legend\":{\"title\":{\"text\":\"model\"},\"tracegroupgap\":0},\"margin\":{\"t\":60},\"boxmode\":\"overlay\",\"width\":600},                        {\"responsive\": true}                    ).then(function(){\n",
              "                            \n",
              "var gd = document.getElementById('be5b0d45-a0ec-4c9b-aa75-15b5500c61a8');\n",
              "var x = new MutationObserver(function (mutations, observer) {{\n",
              "        var display = window.getComputedStyle(gd).display;\n",
              "        if (!display || display === 'none') {{\n",
              "            console.log([gd, 'removed!']);\n",
              "            Plotly.purge(gd);\n",
              "            observer.disconnect();\n",
              "        }}\n",
              "}});\n",
              "\n",
              "// Listen for the removal of the full notebook cells\n",
              "var notebookContainer = gd.closest('#notebook-container');\n",
              "if (notebookContainer) {{\n",
              "    x.observe(notebookContainer, {childList: true});\n",
              "}}\n",
              "\n",
              "// Listen for the clearing of the current output cell\n",
              "var outputEl = gd.closest('.output');\n",
              "if (outputEl) {{\n",
              "    x.observe(outputEl, {childList: true});\n",
              "}}\n",
              "\n",
              "                        })                };                            </script>        </div>\n",
              "</body>\n",
              "</html>"
            ]
          },
          "metadata": {}
        }
      ]
    },
    {
      "cell_type": "code",
      "source": [
        "fig = px.box(best_cv_df[best_cv_df['model']!='fm'], x='model', y='neg_root_mean_squared_error', color='model', width=600)\n",
        "fig.show()"
      ],
      "metadata": {
        "id": "ZB7rowTRYSG_"
      },
      "execution_count": null,
      "outputs": []
    },
    {
      "cell_type": "markdown",
      "metadata": {
        "id": "4n8Ah9ahKDDZ"
      },
      "source": [
        "## 2-3. Model Combination\n",
        "\n",
        "Although it is possible to select a final model based on the above results, it has been observed that in many cases the combination of predicted values ​​from multiple models leads to improve prediction performance. ([Can multi-model combination really enhance the prediction skill of probabilistic ensemble forecasts?](https://rmets.onlinelibrary.wiley.com/doi/abs/10.1002/qj.210?casa_token=OwyF2RbEywAAAAAA:gahpwGRdOWzLXyafYQQt_voHOF8MedTBLd1SBv4vkdT3ZTLVoKZQj3zl-KbrhSkX5x8CndeCxwBoL_-S))\n",
        "\n",
        "For classification problems, the final probabilities are derived by combining the predicted 'probabilities' for each class in a 'proper way'.\n",
        "\n",
        "This notebook uses following two model combination methods.\n",
        "\n",
        "1. Simple Average\n",
        "2. Stacked Generalization (Stacking)\n",
        "\n",
        "\n",
        "Model comparison needs to be compared with single models (e.g., rf, xgb,...).\n",
        "So model performance are measured by applying the same CV method as above."
      ]
    },
    {
      "cell_type": "markdown",
      "metadata": {
        "id": "Sf4wsWU4EHW-"
      },
      "source": [
        "### > Simple Average\n",
        "\n",
        "The simple average method derives the final probability value by 'averaging' the predicted probability values ​​for each class of multiple models.\n",
        "\n",
        "The top 4 models (rf, xgb, mlp, fm) of the above CV results are selected as base estimators used for the combination of predicted values.\n",
        "\n",
        "For example,\n",
        "- Base Estimations\n",
        "  - $P_{rf}(Y=1|X=x)$ = 0.75\n",
        "  - $P_{xgb}(Y=1|X=x)$ = 0.80\n",
        "  - $P_{mlp}(Y=1|X=x)$ = 0.85\n",
        "  - $P_{fm}(Y=1|X=x)$ = 0.80\n",
        "- Final Estimation\n",
        "  - $P_{average}(Y=1|X=x)$  = 0.8 (= 0.75 + 0.80 + 0.85 + 0.80 / 4)\n"
      ]
    },
    {
      "cell_type": "code",
      "execution_count": null,
      "metadata": {
        "id": "BJ6YHo9Bfl2Q"
      },
      "outputs": [],
      "source": [
        "from sklearn.model_selection import KFold\n",
        "from tqdm import notebook\n",
        "from sklearn.metrics import mean_squared_error\n",
        "\n",
        "def CV_ensemble(ensemble_name, ensemble_func, estimators, X_train, y_train, n_folds=5, shuffle=True, random_state=2022):\n",
        "  kf = KFold(n_splits=5, random_state=random_state, shuffle=True)\n",
        "\n",
        "  res_list = []\n",
        "  for train_idx, valid_idx in notebook.tqdm(kf.split(X_train), total=kf.get_n_splits(), desc='Eval_CV'):\n",
        "    X_train_train, X_valid = X_train[train_idx], X_train[valid_idx]\n",
        "    y_train_train, y_valid = y_train[train_idx], y_train[valid_idx]\n",
        "\n",
        "    ensemble_pred= ensemble_func(estimators, X_train_train, y_train_train, X_valid)\n",
        "    log_rmse = np.negative(mean_squared_error(y_valid, ensemble_pred, squared=False))\n",
        "\n",
        "    res_list.append([ensemble_name, log_rmse])\n",
        "  res_df = pd.DataFrame(np.vstack((res_list)))\n",
        "  res_df.columns = ['model', 'neg_root_mean_squared_error']\n",
        "  return res_df\n",
        "\n",
        "def ensemble_average(estimators, X_train, y_train, X_test):\n",
        "  preds = []\n",
        "  for idx in range(len(estimators)):\n",
        "    try:\n",
        "      estimators[idx].module__num_factors\n",
        "    except: # for other models\n",
        "      estimators[idx].fit(X_train, y_train)\n",
        "      preds.append([estimators[idx].predict(X_test)])\n",
        "    else: # for factorization machine\n",
        "      X_train_fm, X_test_fm, _ = prepro_for_fm(X_train, X_test)\n",
        "      estimators[idx].fit(X_train_fm, y_train.reshape(-1,1)).astype(np.float32)\n",
        "      preds.append([estimators[idx].predict(X_test_fm).reshape(-1)])\n",
        "    \n",
        "  pred_df = pd.DataFrame(np.vstack((preds)).transpose())\n",
        "  return pred_df.mean(axis=1).values  "
      ]
    },
    {
      "cell_type": "code",
      "execution_count": null,
      "metadata": {
        "colab": {
          "base_uri": "https://localhost:8080/",
          "height": 49,
          "referenced_widgets": [
            "a4f2a2e2a61b4e22a51205f14a47e185",
            "d2457c12e8104305a78de3026fc0e3de",
            "96538cb800f3412584532f7e9cbc6c20",
            "a1e70be0cc28497c9fa1dc40f770da8f",
            "c06169e4511f42c0928299b8cb8b39bd",
            "2be90da52c354f4685e218606c131480",
            "5e0b4ec0f0604b0c83ebe201a4ca72a2",
            "4fe3d736e74742fb97ba3512c4fa53c9",
            "05705a91351544f39549c1231f41ae3e",
            "bf27c46fb4c34ff5a04efef5410a188f",
            "3c286376b4434f93a23215fbdf75d779"
          ]
        },
        "id": "oZc9d1u2dSSa",
        "outputId": "c24e960a-ed17-4e22-f651-61736ba8b4be"
      },
      "outputs": [
        {
          "output_type": "display_data",
          "data": {
            "application/vnd.jupyter.widget-view+json": {
              "model_id": "a4f2a2e2a61b4e22a51205f14a47e185",
              "version_minor": 0,
              "version_major": 2
            },
            "text/plain": [
              "Eval_CV:   0%|          | 0/5 [00:00<?, ?it/s]"
            ]
          },
          "metadata": {}
        }
      ],
      "source": [
        "from sklearn.linear_model import SGDRegressor\n",
        "from sklearn.ensemble import RandomForestRegressor\n",
        "from xgboost import XGBRegressor\n",
        "\n",
        "linear = SGDRegressor(**eval(best_cv_df.loc[best_cv_df['model']=='linear', 'best_hyper_param'].values[0]))\n",
        "svm = SGDRegressor(**eval(best_cv_df.loc[best_cv_df['model']=='svm', 'best_hyper_param'].values[0]))\n",
        "rf = RandomForestRegressor(**eval(best_cv_df.loc[best_cv_df['model']=='rf', 'best_hyper_param'].values[0]))\n",
        "xgb = XGBRegressor(**eval(best_cv_df.loc[best_cv_df['model']=='xgb', 'best_hyper_param'].values[0]))\n",
        "mlp = mlp.set_params(**eval(best_cv_df.loc[best_cv_df['model']=='mlp', 'best_hyper_param'].values[0]))\n",
        "fm = fm.set_params(**eval(best_cv_df.loc[best_cv_df['model']=='fm', 'best_hyper_param'].values[0]))\n",
        "\n",
        "estimators = [svm, rf, xgb]\n",
        "estimators_name = 'svm_rf_xgb'\n",
        "ensemble_name = 'average' + '_by_' + estimators_name\n",
        "\n",
        "X = X_train\n",
        "y = y_train_trans\n",
        "\n",
        "res_df = CV_ensemble(ensemble_name, ensemble_average, estimators, X, y, n_folds=5, shuffle=True, random_state=random_state)\n",
        "best_cv_df = best_cv_df.append(res_df).reset_index(drop=True)"
      ]
    },
    {
      "cell_type": "code",
      "execution_count": null,
      "metadata": {
        "colab": {
          "base_uri": "https://localhost:8080/",
          "height": 542
        },
        "id": "F_0XuYrXhXmV",
        "outputId": "89cc831d-23d6-438a-8180-e7de8f3eae9b"
      },
      "outputs": [
        {
          "output_type": "display_data",
          "data": {
            "text/html": [
              "<html>\n",
              "<head><meta charset=\"utf-8\" /></head>\n",
              "<body>\n",
              "    <div>            <script src=\"https://cdnjs.cloudflare.com/ajax/libs/mathjax/2.7.5/MathJax.js?config=TeX-AMS-MML_SVG\"></script><script type=\"text/javascript\">if (window.MathJax) {MathJax.Hub.Config({SVG: {font: \"STIX-Web\"}});}</script>                <script type=\"text/javascript\">window.PlotlyConfig = {MathJaxConfig: 'local'};</script>\n",
              "        <script src=\"https://cdn.plot.ly/plotly-2.8.3.min.js\"></script>                <div id=\"7285b1f7-f05b-4853-a603-531f9e477d97\" class=\"plotly-graph-div\" style=\"height:525px; width:600px;\"></div>            <script type=\"text/javascript\">                                    window.PLOTLYENV=window.PLOTLYENV || {};                                    if (document.getElementById(\"7285b1f7-f05b-4853-a603-531f9e477d97\")) {                    Plotly.newPlot(                        \"7285b1f7-f05b-4853-a603-531f9e477d97\",                        [{\"alignmentgroup\":\"True\",\"hovertemplate\":\"model=%{x}<br>neg_root_mean_squared_error=%{y}<extra></extra>\",\"legendgroup\":\"linear\",\"marker\":{\"color\":\"#636efa\"},\"name\":\"linear\",\"notched\":false,\"offsetgroup\":\"linear\",\"orientation\":\"v\",\"showlegend\":true,\"x\":[\"linear\",\"linear\",\"linear\",\"linear\",\"linear\"],\"x0\":\" \",\"xaxis\":\"x\",\"y\":[-0.1301272540239581,-0.1598362416421889,-0.1327505984675917,-0.1506590339712781,-0.1453361563875008],\"y0\":\" \",\"yaxis\":\"y\",\"type\":\"box\"},{\"alignmentgroup\":\"True\",\"hovertemplate\":\"model=%{x}<br>neg_root_mean_squared_error=%{y}<extra></extra>\",\"legendgroup\":\"svm\",\"marker\":{\"color\":\"#EF553B\"},\"name\":\"svm\",\"notched\":false,\"offsetgroup\":\"svm\",\"orientation\":\"v\",\"showlegend\":true,\"x\":[\"svm\",\"svm\",\"svm\",\"svm\",\"svm\"],\"x0\":\" \",\"xaxis\":\"x\",\"y\":[-0.1254169469910767,-0.1512418435791914,-0.1355619932082758,-0.1320669956217709,-0.1366765162991462],\"y0\":\" \",\"yaxis\":\"y\",\"type\":\"box\"},{\"alignmentgroup\":\"True\",\"hovertemplate\":\"model=%{x}<br>neg_root_mean_squared_error=%{y}<extra></extra>\",\"legendgroup\":\"rf\",\"marker\":{\"color\":\"#00cc96\"},\"name\":\"rf\",\"notched\":false,\"offsetgroup\":\"rf\",\"orientation\":\"v\",\"showlegend\":true,\"x\":[\"rf\",\"rf\",\"rf\",\"rf\",\"rf\"],\"x0\":\" \",\"xaxis\":\"x\",\"y\":[-0.1325545897258808,-0.1258925142404149,-0.1428435699302638,-0.1325520262050222,-0.1359398219490837],\"y0\":\" \",\"yaxis\":\"y\",\"type\":\"box\"},{\"alignmentgroup\":\"True\",\"hovertemplate\":\"model=%{x}<br>neg_root_mean_squared_error=%{y}<extra></extra>\",\"legendgroup\":\"xgb\",\"marker\":{\"color\":\"#ab63fa\"},\"name\":\"xgb\",\"notched\":false,\"offsetgroup\":\"xgb\",\"orientation\":\"v\",\"showlegend\":true,\"x\":[\"xgb\",\"xgb\",\"xgb\",\"xgb\",\"xgb\"],\"x0\":\" \",\"xaxis\":\"x\",\"y\":[-0.1114391908049583,-0.1135585755109787,-0.1232104673981666,-0.1124475970864296,-0.1135807111859321],\"y0\":\" \",\"yaxis\":\"y\",\"type\":\"box\"},{\"alignmentgroup\":\"True\",\"hovertemplate\":\"model=%{x}<br>neg_root_mean_squared_error=%{y}<extra></extra>\",\"legendgroup\":\"mlp\",\"marker\":{\"color\":\"#FFA15A\"},\"name\":\"mlp\",\"notched\":false,\"offsetgroup\":\"mlp\",\"orientation\":\"v\",\"showlegend\":true,\"x\":[\"mlp\",\"mlp\",\"mlp\",\"mlp\",\"mlp\"],\"x0\":\" \",\"xaxis\":\"x\",\"y\":[-0.1354248523712158,-0.1623324304819107,-0.1677319556474685,-0.1477511078119278,-0.1525936722755432],\"y0\":\" \",\"yaxis\":\"y\",\"type\":\"box\"},{\"alignmentgroup\":\"True\",\"hovertemplate\":\"model=%{x}<br>neg_root_mean_squared_error=%{y}<extra></extra>\",\"legendgroup\":\"average_by_svm, rf, xgb\",\"marker\":{\"color\":\"#19d3f3\"},\"name\":\"average_by_svm, rf, xgb\",\"notched\":false,\"offsetgroup\":\"average_by_svm, rf, xgb\",\"orientation\":\"v\",\"showlegend\":true,\"x\":[\"average_by_svm, rf, xgb\",\"average_by_svm, rf, xgb\",\"average_by_svm, rf, xgb\",\"average_by_svm, rf, xgb\",\"average_by_svm, rf, xgb\"],\"x0\":\" \",\"xaxis\":\"x\",\"y\":[\"-0.1120396664079719\",\"-0.10852725118162174\",\"-0.11399798783421006\",\"-0.11191652975466256\",\"-0.1112900789938853\"],\"y0\":\" \",\"yaxis\":\"y\",\"type\":\"box\"}],                        {\"template\":{\"data\":{\"bar\":[{\"error_x\":{\"color\":\"#2a3f5f\"},\"error_y\":{\"color\":\"#2a3f5f\"},\"marker\":{\"line\":{\"color\":\"#E5ECF6\",\"width\":0.5},\"pattern\":{\"fillmode\":\"overlay\",\"size\":10,\"solidity\":0.2}},\"type\":\"bar\"}],\"barpolar\":[{\"marker\":{\"line\":{\"color\":\"#E5ECF6\",\"width\":0.5},\"pattern\":{\"fillmode\":\"overlay\",\"size\":10,\"solidity\":0.2}},\"type\":\"barpolar\"}],\"carpet\":[{\"aaxis\":{\"endlinecolor\":\"#2a3f5f\",\"gridcolor\":\"white\",\"linecolor\":\"white\",\"minorgridcolor\":\"white\",\"startlinecolor\":\"#2a3f5f\"},\"baxis\":{\"endlinecolor\":\"#2a3f5f\",\"gridcolor\":\"white\",\"linecolor\":\"white\",\"minorgridcolor\":\"white\",\"startlinecolor\":\"#2a3f5f\"},\"type\":\"carpet\"}],\"choropleth\":[{\"colorbar\":{\"outlinewidth\":0,\"ticks\":\"\"},\"type\":\"choropleth\"}],\"contour\":[{\"colorbar\":{\"outlinewidth\":0,\"ticks\":\"\"},\"colorscale\":[[0.0,\"#0d0887\"],[0.1111111111111111,\"#46039f\"],[0.2222222222222222,\"#7201a8\"],[0.3333333333333333,\"#9c179e\"],[0.4444444444444444,\"#bd3786\"],[0.5555555555555556,\"#d8576b\"],[0.6666666666666666,\"#ed7953\"],[0.7777777777777778,\"#fb9f3a\"],[0.8888888888888888,\"#fdca26\"],[1.0,\"#f0f921\"]],\"type\":\"contour\"}],\"contourcarpet\":[{\"colorbar\":{\"outlinewidth\":0,\"ticks\":\"\"},\"type\":\"contourcarpet\"}],\"heatmap\":[{\"colorbar\":{\"outlinewidth\":0,\"ticks\":\"\"},\"colorscale\":[[0.0,\"#0d0887\"],[0.1111111111111111,\"#46039f\"],[0.2222222222222222,\"#7201a8\"],[0.3333333333333333,\"#9c179e\"],[0.4444444444444444,\"#bd3786\"],[0.5555555555555556,\"#d8576b\"],[0.6666666666666666,\"#ed7953\"],[0.7777777777777778,\"#fb9f3a\"],[0.8888888888888888,\"#fdca26\"],[1.0,\"#f0f921\"]],\"type\":\"heatmap\"}],\"heatmapgl\":[{\"colorbar\":{\"outlinewidth\":0,\"ticks\":\"\"},\"colorscale\":[[0.0,\"#0d0887\"],[0.1111111111111111,\"#46039f\"],[0.2222222222222222,\"#7201a8\"],[0.3333333333333333,\"#9c179e\"],[0.4444444444444444,\"#bd3786\"],[0.5555555555555556,\"#d8576b\"],[0.6666666666666666,\"#ed7953\"],[0.7777777777777778,\"#fb9f3a\"],[0.8888888888888888,\"#fdca26\"],[1.0,\"#f0f921\"]],\"type\":\"heatmapgl\"}],\"histogram\":[{\"marker\":{\"pattern\":{\"fillmode\":\"overlay\",\"size\":10,\"solidity\":0.2}},\"type\":\"histogram\"}],\"histogram2d\":[{\"colorbar\":{\"outlinewidth\":0,\"ticks\":\"\"},\"colorscale\":[[0.0,\"#0d0887\"],[0.1111111111111111,\"#46039f\"],[0.2222222222222222,\"#7201a8\"],[0.3333333333333333,\"#9c179e\"],[0.4444444444444444,\"#bd3786\"],[0.5555555555555556,\"#d8576b\"],[0.6666666666666666,\"#ed7953\"],[0.7777777777777778,\"#fb9f3a\"],[0.8888888888888888,\"#fdca26\"],[1.0,\"#f0f921\"]],\"type\":\"histogram2d\"}],\"histogram2dcontour\":[{\"colorbar\":{\"outlinewidth\":0,\"ticks\":\"\"},\"colorscale\":[[0.0,\"#0d0887\"],[0.1111111111111111,\"#46039f\"],[0.2222222222222222,\"#7201a8\"],[0.3333333333333333,\"#9c179e\"],[0.4444444444444444,\"#bd3786\"],[0.5555555555555556,\"#d8576b\"],[0.6666666666666666,\"#ed7953\"],[0.7777777777777778,\"#fb9f3a\"],[0.8888888888888888,\"#fdca26\"],[1.0,\"#f0f921\"]],\"type\":\"histogram2dcontour\"}],\"mesh3d\":[{\"colorbar\":{\"outlinewidth\":0,\"ticks\":\"\"},\"type\":\"mesh3d\"}],\"parcoords\":[{\"line\":{\"colorbar\":{\"outlinewidth\":0,\"ticks\":\"\"}},\"type\":\"parcoords\"}],\"pie\":[{\"automargin\":true,\"type\":\"pie\"}],\"scatter\":[{\"marker\":{\"colorbar\":{\"outlinewidth\":0,\"ticks\":\"\"}},\"type\":\"scatter\"}],\"scatter3d\":[{\"line\":{\"colorbar\":{\"outlinewidth\":0,\"ticks\":\"\"}},\"marker\":{\"colorbar\":{\"outlinewidth\":0,\"ticks\":\"\"}},\"type\":\"scatter3d\"}],\"scattercarpet\":[{\"marker\":{\"colorbar\":{\"outlinewidth\":0,\"ticks\":\"\"}},\"type\":\"scattercarpet\"}],\"scattergeo\":[{\"marker\":{\"colorbar\":{\"outlinewidth\":0,\"ticks\":\"\"}},\"type\":\"scattergeo\"}],\"scattergl\":[{\"marker\":{\"colorbar\":{\"outlinewidth\":0,\"ticks\":\"\"}},\"type\":\"scattergl\"}],\"scattermapbox\":[{\"marker\":{\"colorbar\":{\"outlinewidth\":0,\"ticks\":\"\"}},\"type\":\"scattermapbox\"}],\"scatterpolar\":[{\"marker\":{\"colorbar\":{\"outlinewidth\":0,\"ticks\":\"\"}},\"type\":\"scatterpolar\"}],\"scatterpolargl\":[{\"marker\":{\"colorbar\":{\"outlinewidth\":0,\"ticks\":\"\"}},\"type\":\"scatterpolargl\"}],\"scatterternary\":[{\"marker\":{\"colorbar\":{\"outlinewidth\":0,\"ticks\":\"\"}},\"type\":\"scatterternary\"}],\"surface\":[{\"colorbar\":{\"outlinewidth\":0,\"ticks\":\"\"},\"colorscale\":[[0.0,\"#0d0887\"],[0.1111111111111111,\"#46039f\"],[0.2222222222222222,\"#7201a8\"],[0.3333333333333333,\"#9c179e\"],[0.4444444444444444,\"#bd3786\"],[0.5555555555555556,\"#d8576b\"],[0.6666666666666666,\"#ed7953\"],[0.7777777777777778,\"#fb9f3a\"],[0.8888888888888888,\"#fdca26\"],[1.0,\"#f0f921\"]],\"type\":\"surface\"}],\"table\":[{\"cells\":{\"fill\":{\"color\":\"#EBF0F8\"},\"line\":{\"color\":\"white\"}},\"header\":{\"fill\":{\"color\":\"#C8D4E3\"},\"line\":{\"color\":\"white\"}},\"type\":\"table\"}]},\"layout\":{\"annotationdefaults\":{\"arrowcolor\":\"#2a3f5f\",\"arrowhead\":0,\"arrowwidth\":1},\"autotypenumbers\":\"strict\",\"coloraxis\":{\"colorbar\":{\"outlinewidth\":0,\"ticks\":\"\"}},\"colorscale\":{\"diverging\":[[0,\"#8e0152\"],[0.1,\"#c51b7d\"],[0.2,\"#de77ae\"],[0.3,\"#f1b6da\"],[0.4,\"#fde0ef\"],[0.5,\"#f7f7f7\"],[0.6,\"#e6f5d0\"],[0.7,\"#b8e186\"],[0.8,\"#7fbc41\"],[0.9,\"#4d9221\"],[1,\"#276419\"]],\"sequential\":[[0.0,\"#0d0887\"],[0.1111111111111111,\"#46039f\"],[0.2222222222222222,\"#7201a8\"],[0.3333333333333333,\"#9c179e\"],[0.4444444444444444,\"#bd3786\"],[0.5555555555555556,\"#d8576b\"],[0.6666666666666666,\"#ed7953\"],[0.7777777777777778,\"#fb9f3a\"],[0.8888888888888888,\"#fdca26\"],[1.0,\"#f0f921\"]],\"sequentialminus\":[[0.0,\"#0d0887\"],[0.1111111111111111,\"#46039f\"],[0.2222222222222222,\"#7201a8\"],[0.3333333333333333,\"#9c179e\"],[0.4444444444444444,\"#bd3786\"],[0.5555555555555556,\"#d8576b\"],[0.6666666666666666,\"#ed7953\"],[0.7777777777777778,\"#fb9f3a\"],[0.8888888888888888,\"#fdca26\"],[1.0,\"#f0f921\"]]},\"colorway\":[\"#636efa\",\"#EF553B\",\"#00cc96\",\"#ab63fa\",\"#FFA15A\",\"#19d3f3\",\"#FF6692\",\"#B6E880\",\"#FF97FF\",\"#FECB52\"],\"font\":{\"color\":\"#2a3f5f\"},\"geo\":{\"bgcolor\":\"white\",\"lakecolor\":\"white\",\"landcolor\":\"#E5ECF6\",\"showlakes\":true,\"showland\":true,\"subunitcolor\":\"white\"},\"hoverlabel\":{\"align\":\"left\"},\"hovermode\":\"closest\",\"mapbox\":{\"style\":\"light\"},\"paper_bgcolor\":\"white\",\"plot_bgcolor\":\"#E5ECF6\",\"polar\":{\"angularaxis\":{\"gridcolor\":\"white\",\"linecolor\":\"white\",\"ticks\":\"\"},\"bgcolor\":\"#E5ECF6\",\"radialaxis\":{\"gridcolor\":\"white\",\"linecolor\":\"white\",\"ticks\":\"\"}},\"scene\":{\"xaxis\":{\"backgroundcolor\":\"#E5ECF6\",\"gridcolor\":\"white\",\"gridwidth\":2,\"linecolor\":\"white\",\"showbackground\":true,\"ticks\":\"\",\"zerolinecolor\":\"white\"},\"yaxis\":{\"backgroundcolor\":\"#E5ECF6\",\"gridcolor\":\"white\",\"gridwidth\":2,\"linecolor\":\"white\",\"showbackground\":true,\"ticks\":\"\",\"zerolinecolor\":\"white\"},\"zaxis\":{\"backgroundcolor\":\"#E5ECF6\",\"gridcolor\":\"white\",\"gridwidth\":2,\"linecolor\":\"white\",\"showbackground\":true,\"ticks\":\"\",\"zerolinecolor\":\"white\"}},\"shapedefaults\":{\"line\":{\"color\":\"#2a3f5f\"}},\"ternary\":{\"aaxis\":{\"gridcolor\":\"white\",\"linecolor\":\"white\",\"ticks\":\"\"},\"baxis\":{\"gridcolor\":\"white\",\"linecolor\":\"white\",\"ticks\":\"\"},\"bgcolor\":\"#E5ECF6\",\"caxis\":{\"gridcolor\":\"white\",\"linecolor\":\"white\",\"ticks\":\"\"}},\"title\":{\"x\":0.05},\"xaxis\":{\"automargin\":true,\"gridcolor\":\"white\",\"linecolor\":\"white\",\"ticks\":\"\",\"title\":{\"standoff\":15},\"zerolinecolor\":\"white\",\"zerolinewidth\":2},\"yaxis\":{\"automargin\":true,\"gridcolor\":\"white\",\"linecolor\":\"white\",\"ticks\":\"\",\"title\":{\"standoff\":15},\"zerolinecolor\":\"white\",\"zerolinewidth\":2}}},\"xaxis\":{\"anchor\":\"y\",\"domain\":[0.0,1.0],\"title\":{\"text\":\"model\"},\"categoryorder\":\"array\",\"categoryarray\":[\"linear\",\"svm\",\"rf\",\"xgb\",\"mlp\",\"average_by_svm, rf, xgb\"]},\"yaxis\":{\"anchor\":\"x\",\"domain\":[0.0,1.0],\"title\":{\"text\":\"neg_root_mean_squared_error\"}},\"legend\":{\"title\":{\"text\":\"model\"},\"tracegroupgap\":0},\"margin\":{\"t\":60},\"boxmode\":\"overlay\",\"width\":600},                        {\"responsive\": true}                    ).then(function(){\n",
              "                            \n",
              "var gd = document.getElementById('7285b1f7-f05b-4853-a603-531f9e477d97');\n",
              "var x = new MutationObserver(function (mutations, observer) {{\n",
              "        var display = window.getComputedStyle(gd).display;\n",
              "        if (!display || display === 'none') {{\n",
              "            console.log([gd, 'removed!']);\n",
              "            Plotly.purge(gd);\n",
              "            observer.disconnect();\n",
              "        }}\n",
              "}});\n",
              "\n",
              "// Listen for the removal of the full notebook cells\n",
              "var notebookContainer = gd.closest('#notebook-container');\n",
              "if (notebookContainer) {{\n",
              "    x.observe(notebookContainer, {childList: true});\n",
              "}}\n",
              "\n",
              "// Listen for the clearing of the current output cell\n",
              "var outputEl = gd.closest('.output');\n",
              "if (outputEl) {{\n",
              "    x.observe(outputEl, {childList: true});\n",
              "}}\n",
              "\n",
              "                        })                };                            </script>        </div>\n",
              "</body>\n",
              "</html>"
            ]
          },
          "metadata": {}
        }
      ],
      "source": [
        "fig = px.box(best_cv_df[best_cv_df['model']!='fm'], x='model', y='neg_root_mean_squared_error', color='model', width=600)\n",
        "fig.show()"
      ]
    },
    {
      "cell_type": "markdown",
      "metadata": {
        "id": "5eKbDaOmEPVc"
      },
      "source": [
        "### > Stacked generalization (Stacking)\n",
        "\n",
        "In the [Stacked generalization](https://www.jair.org/index.php/jair/article/view/10228), the predicted probabilities for each class of base estimators are treated as the 'input data', and the result obtained by fitting the 'Meta Learner' with y of each row as the response variable is derived as the final probability.\n",
        "\n",
        "- The 'Meta Learner' can be used with any of the binary classification models. However, this notebook uses a ridge model (logistic regression with ridge penalty) to prevent overfitting.\n",
        "\n",
        "- As input data for 'Meta Learner', prediction probabilities for validation data in cv of base estimators are obtained.\n",
        "\n",
        "- Trained meta-learner predicts the final predicted probabilities for the test-set by using the predicted probabilites of baes estimators for the test-set as input data.\n",
        "\n",
        "The total process, in order, is as follows:\n",
        "1. (Base estimators) Run CV on Train-set\n",
        "2. (Meta Learner) Train on CV predictions (predicted probabilities on validation data of CV) with corresponding y values\n",
        "3. (Base estimators) Train on Train-set\n",
        "4. (Base estimators) Predict on Test-set\n",
        "5. (Meta Learner) Predict on predictions on Test-set\n",
        "\n",
        "<img align='top' src='https://drive.google.com/uc?export=view&id=1uDxSIIFt8rUJkuIwRYU4lALvOPqlXPG5' width='600' height='400'>\n",
        "\n",
        "\n",
        "For example,\n",
        "- Base Estimations\n",
        "  - $P_{rf}(Y=1|X=x)$ = 0.75\n",
        "  - $P_{xgb}(Y=1|X=x)$ = 0.80\n",
        "  - $P_{mlp}(Y=1|X=x)$ = 0.85\n",
        "  - $P_{fm}(Y=1|X=x)$ = 0.80\n",
        "- Meta Learner (logistic regression)\n",
        "  - Parameter\n",
        "    - intercept = 0.1\n",
        "    - coefficient = [0.2, 0.9, 0.8, 0.3]\n",
        "  - $P_{stack}(Y=1|X=x) = 0.8442 = sigmoid(-0.1 + 0.2*0.75 + 0.9*0.80 + 0.8*0.85 + 0.3*0.80)$"
      ]
    },
    {
      "cell_type": "code",
      "execution_count": null,
      "metadata": {
        "id": "ixki1gq_3Wwk"
      },
      "outputs": [],
      "source": [
        "from sklearn.model_selection import KFold\n",
        "from tqdm import notebook\n",
        "from sklearn.metrics import mean_squared_error\n",
        "\n",
        "\n",
        "def stack_reg(estimators, X_train, y_train, X_test, n_folds=5, shuffle=True, random_state=random_state):\n",
        "  final_estimator = estimators[-1]\n",
        "  kf = KFold(n_splits=n_folds, random_state=random_state, shuffle=shuffle)\n",
        "  preds = []\n",
        "  y_valid_list = []\n",
        "  \n",
        "  for train_idx, valid_idx in notebook.tqdm(kf.split(X_train), total=kf.get_n_splits(), desc='Stack_CV'):\n",
        "    X_train_train, X_valid = X_train[train_idx], X_train[valid_idx]\n",
        "    y_train_train, y_valid = y_train[train_idx], y_train[valid_idx]\n",
        "    \n",
        "    valid_preds = []\n",
        "    for idx in range(len(estimators)-1):\n",
        "      try:\n",
        "        estimators[idx].module__num_factors\n",
        "      except: # for other models\n",
        "        estimators[idx].fit(X_train_train, y_train_train)\n",
        "        valid_preds.append([estimators[idx].predict(X_valid)])\n",
        "      else: # for factorization machine\n",
        "        X_train_train_fm, X_valid_fm, _ = prepro_for_fm(X_train_train, X_valid)\n",
        "        estimators[idx].fit(X_train_train_fm, y_train_train.reshape(-1,1)).astype(np.float32)\n",
        "        valid_preds.append([estimators[idx].predict(X_valid_fm).reshape(-1)])\n",
        "    \n",
        "    preds.append(np.vstack((valid_preds)).transpose())\n",
        "    y_valid_list.append(y_valid)\n",
        "\n",
        "  stack_X_valid = np.vstack((preds))\n",
        "  y_valid_list = np.hstack((y_valid_list))\n",
        "  \n",
        "  final_estimator.fit(stack_X_valid, y_valid_list)\n",
        "  print('Training log_RMSE: {}'.format(mean_squared_error(final_estimator.predict(stack_X_valid), y_valid_list, squared=False)))\n",
        "  print('Estimated coefficients: {} \\n intercept: {}'.format(final_estimator.coef_, final_estimator.intercept_))\n",
        "\n",
        "  \n",
        "  test_preds =[]\n",
        "  for idx in range(len(estimators)-1):\n",
        "    try:\n",
        "      estimators[idx].module__num_factors\n",
        "    except: # for other models\n",
        "      estimators[idx].fit(X_train, y_train)\n",
        "      test_preds.append([estimators[idx].predict(X_test)])\n",
        "    else: # for factorization machine\n",
        "      X_train_fm, X_test_fm, _ = prepro_for_fm(X_train, X_test)\n",
        "      estimators[idx].fit(X_train_fm, y_train.reshape(-1,1)).astype(np.float32)\n",
        "      test_preds.append([estimators[idx].predict(X_test_fm).reshape(-1)])\n",
        "\n",
        "  stack_X_test = np.vstack((test_preds)).transpose()\n",
        "  return final_estimator.predict(stack_X_test)"
      ]
    },
    {
      "cell_type": "code",
      "execution_count": null,
      "metadata": {
        "colab": {
          "base_uri": "https://localhost:8080/",
          "height": 477,
          "referenced_widgets": [
            "f7ac1f2fff5e41f4957fdda89053c6b8",
            "6c69bd5508994494948f585415b576c0",
            "4c0545593ccc4b689b4bdb1af28f1173",
            "9d152c8c129344bb9a89c0a90db0c42b",
            "acd80bde8a5b4b27928273971ef19c07",
            "724a25b5be76479abdd62621e2ef3265",
            "6f9a97a29ea44537b26fafb278294434",
            "1c621efde85f47b48bc668ee98a0d4f0",
            "3301b79f3c014ae2a8845d6625697ad0",
            "395e9721cf07486688efcf19b533b503",
            "513b25d6bd5e43db9f72bf0e10833a0f",
            "08583df5867d4115bd37dff56e8130c2",
            "96b9c4dd5f8e4211b04f677807e6a199",
            "63d89c5c2e7740418fc4976fd5abf912",
            "93ffc74962134c068155d0b1f95ae9bc",
            "071a21fb831a48df893490d4088a79c2",
            "e2230337e36b495f8641ff73d6dbd671",
            "8afa4e71649f4ed298f10eb8aec1ff06",
            "efbff022a9cc421ab55be8805be003dd",
            "93d885d1a4654be7a6d63c675c56cfe9",
            "f2e061aae50748f7bd8822ba288aa3b4",
            "9e74202053f448bbb1abf15973c577c9",
            "e1e068e4cb32411da7acc9aed3e353d7",
            "a925a9ed1da44f488c05ca9a5905b9f5",
            "956f6e4748a74eb8b4eb0590f165622b",
            "ee1cc3df6f3447c4a1ea0e2f42161238",
            "0ca73c2c83184b5ab7faba002e79dfdf",
            "6fe0413d01f6460bb3650ad30a80adce",
            "b181ac9fe2bd4a11beb429a1eb3435fc",
            "b416f06c4dd8447ba5ca12a37d668461",
            "ff1780c7252b48d8a2acd64f48a36547",
            "e3cce76cc7324619bfd59b64a7d073d5",
            "05e543eb38374dd39d2ddce6fd0d4e58",
            "b9bad66731c44861bb69b238f2ad6b68",
            "aed8d07e06d34a1da6b76ac1c3cbeda1",
            "e255e92d491c42e99b9b1313736f9aee",
            "52426fd1afb14d0e8e1c816d0eed9c97",
            "832e60e55e1846b38cdc66f4fb4f6d3d",
            "6bbdda32a18446fc8670c4d9fdc5ac77",
            "d7fdf05eb2fd40da9c26fbe6e34c82f1",
            "bc6cb4b5bb2842d1a1c8a026769e651b",
            "686b9948f0f14a8695a7ad36c605bcd6",
            "1e0f99b5202243f8b5ac6ca7ee03dfd0",
            "f1a09671bcf146689f2518dc50478aa1",
            "c08f7481a85140ad8a8dc9d3c440d8b3",
            "f30cfc5e936245158b9d85280968d896",
            "6658034580af4328a54451080d6627d0",
            "e4945c885b1c4687bbaefcced299b9b2",
            "85b667027d4646f8ace87ea211992785",
            "8ad5eb11f1284778b9e5d02cf18603f1",
            "7e12ff0e0b3f4d86ab61a85289c158c4",
            "b5b1877b7b0243c9b50a4c88472dd3d6",
            "6594a0bb73a64542855a9b4b3816db1f",
            "39894ea29c804d5ba627d48e0da29bf4",
            "e38f5eca237746248599fb192ba856ed",
            "9b38f16c4d564334be1193fe873255ce",
            "68ae728dbfb74271851a86ac198413df",
            "c4f46468652346e1a7cca6fad154188a",
            "0d0a7150484d43288498fae415b0fae4",
            "2092e7794cbd4ecaa9ece2ae5f1f6137",
            "d5204f509b4543618b5e629344aeac8e",
            "32e1bcde38b64c5f9c5cd74c2f9b0962",
            "97a41d7be9424bf293e3dcba40b78257",
            "4c901c9aec264b47a54a8eef94feea5e",
            "b51417975c9548c3bc873dd6e55811aa",
            "947228dffc1648a6901d410db8fa5e4a"
          ]
        },
        "id": "hwvAfZIfiEnV",
        "outputId": "f2fc5179-591c-4ae5-ffa5-f4ebe700657f"
      },
      "outputs": [
        {
          "output_type": "display_data",
          "data": {
            "application/vnd.jupyter.widget-view+json": {
              "model_id": "f7ac1f2fff5e41f4957fdda89053c6b8",
              "version_minor": 0,
              "version_major": 2
            },
            "text/plain": [
              "Eval_CV:   0%|          | 0/5 [00:00<?, ?it/s]"
            ]
          },
          "metadata": {}
        },
        {
          "output_type": "display_data",
          "data": {
            "application/vnd.jupyter.widget-view+json": {
              "model_id": "08583df5867d4115bd37dff56e8130c2",
              "version_minor": 0,
              "version_major": 2
            },
            "text/plain": [
              "Stack_CV:   0%|          | 0/5 [00:00<?, ?it/s]"
            ]
          },
          "metadata": {}
        },
        {
          "output_type": "stream",
          "name": "stdout",
          "text": [
            "Training log_RMSE: 0.11054164062247897\n",
            "Estimated coefficients: [0.30816168 0.12631986 0.58311873] \n",
            " intercept: -0.20225872708088133\n"
          ]
        },
        {
          "output_type": "display_data",
          "data": {
            "application/vnd.jupyter.widget-view+json": {
              "model_id": "e1e068e4cb32411da7acc9aed3e353d7",
              "version_minor": 0,
              "version_major": 2
            },
            "text/plain": [
              "Stack_CV:   0%|          | 0/5 [00:00<?, ?it/s]"
            ]
          },
          "metadata": {}
        },
        {
          "output_type": "stream",
          "name": "stdout",
          "text": [
            "Training log_RMSE: 0.11043700135720123\n",
            "Estimated coefficients: [0.26147121 0.10205781 0.64812881] \n",
            " intercept: -0.1370946267144948\n"
          ]
        },
        {
          "output_type": "display_data",
          "data": {
            "application/vnd.jupyter.widget-view+json": {
              "model_id": "b9bad66731c44861bb69b238f2ad6b68",
              "version_minor": 0,
              "version_major": 2
            },
            "text/plain": [
              "Stack_CV:   0%|          | 0/5 [00:00<?, ?it/s]"
            ]
          },
          "metadata": {}
        },
        {
          "output_type": "stream",
          "name": "stdout",
          "text": [
            "Training log_RMSE: 0.11224548261917618\n",
            "Estimated coefficients: [0.27533129 0.13729504 0.60641205] \n",
            " intercept: -0.2283273832391668\n"
          ]
        },
        {
          "output_type": "display_data",
          "data": {
            "application/vnd.jupyter.widget-view+json": {
              "model_id": "c08f7481a85140ad8a8dc9d3c440d8b3",
              "version_minor": 0,
              "version_major": 2
            },
            "text/plain": [
              "Stack_CV:   0%|          | 0/5 [00:00<?, ?it/s]"
            ]
          },
          "metadata": {}
        },
        {
          "output_type": "stream",
          "name": "stdout",
          "text": [
            "Training log_RMSE: 0.11199423693964787\n",
            "Estimated coefficients: [0.37382732 0.15606158 0.4880512 ] \n",
            " intercept: -0.2120402932161305\n"
          ]
        },
        {
          "output_type": "display_data",
          "data": {
            "application/vnd.jupyter.widget-view+json": {
              "model_id": "9b38f16c4d564334be1193fe873255ce",
              "version_minor": 0,
              "version_major": 2
            },
            "text/plain": [
              "Stack_CV:   0%|          | 0/5 [00:00<?, ?it/s]"
            ]
          },
          "metadata": {}
        },
        {
          "output_type": "stream",
          "name": "stdout",
          "text": [
            "Training log_RMSE: 0.11476956767946307\n",
            "Estimated coefficients: [0.308577   0.18099079 0.53686526] \n",
            " intercept: -0.31370059058554745\n"
          ]
        }
      ],
      "source": [
        "from sklearn.linear_model import SGDRegressor\n",
        "from sklearn.ensemble import RandomForestRegressor\n",
        "from xgboost import XGBRegressor\n",
        "from sklearn.linear_model import LinearRegression\n",
        "from sklearn.linear_model import Ridge\n",
        "\n",
        "linear = SGDRegressor(**eval(best_cv_df.loc[best_cv_df['model']=='linear', 'best_hyper_param'].values[0]))\n",
        "svm = SGDRegressor(**eval(best_cv_df.loc[best_cv_df['model']=='svm', 'best_hyper_param'].values[0]))\n",
        "rf = RandomForestRegressor(**eval(best_cv_df.loc[best_cv_df['model']=='rf', 'best_hyper_param'].values[0]))\n",
        "xgb = XGBRegressor(**eval(best_cv_df.loc[best_cv_df['model']=='xgb', 'best_hyper_param'].values[0]))\n",
        "mlp = mlp.set_params(**eval(best_cv_df.loc[best_cv_df['model']=='mlp', 'best_hyper_param'].values[0]))\n",
        "fm = fm.set_params(**eval(best_cv_df.loc[best_cv_df['model']=='fm', 'best_hyper_param'].values[0]))\n",
        "\n",
        "\n",
        "estimators = [svm, rf, xgb]\n",
        "estimators_name = 'svm_rf_xgb'\n",
        "\n",
        "# Final estimator\n",
        "reg = LinearRegression()\n",
        "\n",
        "estimators.append(reg)\n",
        "ensemble_func = stack_reg\n",
        "ensemble_name = 'stack_linear' + '_by_' + estimators_name\n",
        "\n",
        "# Run CV \n",
        "\n",
        "X = X_train\n",
        "y = y_train_trans\n",
        "\n",
        "res_df = CV_ensemble(ensemble_name, ensemble_func, estimators, X, y, n_folds=5, shuffle=True, random_state=random_state)\n",
        "best_cv_df = best_cv_df.append(res_df)"
      ]
    },
    {
      "cell_type": "code",
      "source": [
        "data_name = 'House_Price'\n",
        "\n",
        "best_cv_df.to_csv('/content/drive/MyDrive/Work/Kaggle/{}/Result/best_cv_results.csv'.format(data_name), index=False)"
      ],
      "metadata": {
        "id": "n8APHhBXLVGT"
      },
      "execution_count": null,
      "outputs": []
    },
    {
      "cell_type": "markdown",
      "source": [
        "## 2-4. Model Comparison based on CV results including model combination methods\n",
        "\n",
        "From the figure below, 'xgb' shows the best performance among single models.\n",
        "Among the model combination methodologies, it can be seen that the 'stack_ridge_by_rf_xgb_mlp_fm' method shows the best performance."
      ],
      "metadata": {
        "id": "0vd4FIhJVLCf"
      }
    },
    {
      "cell_type": "code",
      "execution_count": null,
      "metadata": {
        "id": "FO2RJicCk01q",
        "colab": {
          "base_uri": "https://localhost:8080/",
          "height": 542
        },
        "outputId": "980b1e22-816f-4d05-bfac-6cbc74103714"
      },
      "outputs": [
        {
          "output_type": "display_data",
          "data": {
            "text/html": [
              "<html>\n",
              "<head><meta charset=\"utf-8\" /></head>\n",
              "<body>\n",
              "    <div>            <script src=\"https://cdnjs.cloudflare.com/ajax/libs/mathjax/2.7.5/MathJax.js?config=TeX-AMS-MML_SVG\"></script><script type=\"text/javascript\">if (window.MathJax) {MathJax.Hub.Config({SVG: {font: \"STIX-Web\"}});}</script>                <script type=\"text/javascript\">window.PlotlyConfig = {MathJaxConfig: 'local'};</script>\n",
              "        <script src=\"https://cdn.plot.ly/plotly-2.8.3.min.js\"></script>                <div id=\"7b43ab62-5507-4aff-9f56-696e030bce31\" class=\"plotly-graph-div\" style=\"height:525px; width:600px;\"></div>            <script type=\"text/javascript\">                                    window.PLOTLYENV=window.PLOTLYENV || {};                                    if (document.getElementById(\"7b43ab62-5507-4aff-9f56-696e030bce31\")) {                    Plotly.newPlot(                        \"7b43ab62-5507-4aff-9f56-696e030bce31\",                        [{\"alignmentgroup\":\"True\",\"hovertemplate\":\"model=%{x}<br>neg_root_mean_squared_error=%{y}<extra></extra>\",\"legendgroup\":\"linear\",\"marker\":{\"color\":\"#636efa\"},\"name\":\"linear\",\"notched\":false,\"offsetgroup\":\"linear\",\"orientation\":\"v\",\"showlegend\":true,\"x\":[\"linear\",\"linear\",\"linear\",\"linear\",\"linear\"],\"x0\":\" \",\"xaxis\":\"x\",\"y\":[-0.1301272540239581,-0.1598362416421889,-0.1327505984675917,-0.1506590339712781,-0.1453361563875008],\"y0\":\" \",\"yaxis\":\"y\",\"type\":\"box\"},{\"alignmentgroup\":\"True\",\"hovertemplate\":\"model=%{x}<br>neg_root_mean_squared_error=%{y}<extra></extra>\",\"legendgroup\":\"svm\",\"marker\":{\"color\":\"#EF553B\"},\"name\":\"svm\",\"notched\":false,\"offsetgroup\":\"svm\",\"orientation\":\"v\",\"showlegend\":true,\"x\":[\"svm\",\"svm\",\"svm\",\"svm\",\"svm\"],\"x0\":\" \",\"xaxis\":\"x\",\"y\":[-0.1254169469910767,-0.1512418435791914,-0.1355619932082758,-0.1320669956217709,-0.1366765162991462],\"y0\":\" \",\"yaxis\":\"y\",\"type\":\"box\"},{\"alignmentgroup\":\"True\",\"hovertemplate\":\"model=%{x}<br>neg_root_mean_squared_error=%{y}<extra></extra>\",\"legendgroup\":\"rf\",\"marker\":{\"color\":\"#00cc96\"},\"name\":\"rf\",\"notched\":false,\"offsetgroup\":\"rf\",\"orientation\":\"v\",\"showlegend\":true,\"x\":[\"rf\",\"rf\",\"rf\",\"rf\",\"rf\"],\"x0\":\" \",\"xaxis\":\"x\",\"y\":[-0.1325545897258808,-0.1258925142404149,-0.1428435699302638,-0.1325520262050222,-0.1359398219490837],\"y0\":\" \",\"yaxis\":\"y\",\"type\":\"box\"},{\"alignmentgroup\":\"True\",\"hovertemplate\":\"model=%{x}<br>neg_root_mean_squared_error=%{y}<extra></extra>\",\"legendgroup\":\"xgb\",\"marker\":{\"color\":\"#ab63fa\"},\"name\":\"xgb\",\"notched\":false,\"offsetgroup\":\"xgb\",\"orientation\":\"v\",\"showlegend\":true,\"x\":[\"xgb\",\"xgb\",\"xgb\",\"xgb\",\"xgb\"],\"x0\":\" \",\"xaxis\":\"x\",\"y\":[-0.1114391908049583,-0.1135585755109787,-0.1232104673981666,-0.1124475970864296,-0.1135807111859321],\"y0\":\" \",\"yaxis\":\"y\",\"type\":\"box\"},{\"alignmentgroup\":\"True\",\"hovertemplate\":\"model=%{x}<br>neg_root_mean_squared_error=%{y}<extra></extra>\",\"legendgroup\":\"mlp\",\"marker\":{\"color\":\"#FFA15A\"},\"name\":\"mlp\",\"notched\":false,\"offsetgroup\":\"mlp\",\"orientation\":\"v\",\"showlegend\":true,\"x\":[\"mlp\",\"mlp\",\"mlp\",\"mlp\",\"mlp\"],\"x0\":\" \",\"xaxis\":\"x\",\"y\":[-0.1354248523712158,-0.1623324304819107,-0.1677319556474685,-0.1477511078119278,-0.1525936722755432],\"y0\":\" \",\"yaxis\":\"y\",\"type\":\"box\"},{\"alignmentgroup\":\"True\",\"hovertemplate\":\"model=%{x}<br>neg_root_mean_squared_error=%{y}<extra></extra>\",\"legendgroup\":\"average_by_svm, rf, xgb\",\"marker\":{\"color\":\"#19d3f3\"},\"name\":\"average_by_svm, rf, xgb\",\"notched\":false,\"offsetgroup\":\"average_by_svm, rf, xgb\",\"orientation\":\"v\",\"showlegend\":true,\"x\":[\"average_by_svm, rf, xgb\",\"average_by_svm, rf, xgb\",\"average_by_svm, rf, xgb\",\"average_by_svm, rf, xgb\",\"average_by_svm, rf, xgb\"],\"x0\":\" \",\"xaxis\":\"x\",\"y\":[\"-0.1120396664079719\",\"-0.10852725118162174\",\"-0.11399798783421006\",\"-0.11191652975466256\",\"-0.1112900789938853\"],\"y0\":\" \",\"yaxis\":\"y\",\"type\":\"box\"},{\"alignmentgroup\":\"True\",\"hovertemplate\":\"model=%{x}<br>neg_root_mean_squared_error=%{y}<extra></extra>\",\"legendgroup\":\"stack_ridge_by_svm, rf, xgb\",\"marker\":{\"color\":\"#FF6692\"},\"name\":\"stack_ridge_by_svm, rf, xgb\",\"notched\":false,\"offsetgroup\":\"stack_ridge_by_svm, rf, xgb\",\"orientation\":\"v\",\"showlegend\":true,\"x\":[\"stack_ridge_by_svm, rf, xgb\",\"stack_ridge_by_svm, rf, xgb\",\"stack_ridge_by_svm, rf, xgb\",\"stack_ridge_by_svm, rf, xgb\",\"stack_ridge_by_svm, rf, xgb\"],\"x0\":\" \",\"xaxis\":\"x\",\"y\":[\"-0.11142838949046716\",\"-0.11070650156566167\",\"-0.11179138366411412\",\"-0.10907156263637711\",\"-0.11068232872078351\"],\"y0\":\" \",\"yaxis\":\"y\",\"type\":\"box\"},{\"alignmentgroup\":\"True\",\"hovertemplate\":\"model=%{x}<br>neg_root_mean_squared_error=%{y}<extra></extra>\",\"legendgroup\":\"stack_linear_by_svm_rf_xgb\",\"marker\":{\"color\":\"#B6E880\"},\"name\":\"stack_linear_by_svm_rf_xgb\",\"notched\":false,\"offsetgroup\":\"stack_linear_by_svm_rf_xgb\",\"orientation\":\"v\",\"showlegend\":true,\"x\":[\"stack_linear_by_svm_rf_xgb\",\"stack_linear_by_svm_rf_xgb\",\"stack_linear_by_svm_rf_xgb\",\"stack_linear_by_svm_rf_xgb\",\"stack_linear_by_svm_rf_xgb\"],\"x0\":\" \",\"xaxis\":\"x\",\"y\":[\"-0.11122424135031873\",\"-0.11148817342284915\",\"-0.11174750565033884\",\"-0.10870253254650747\",\"-0.1107213014619664\"],\"y0\":\" \",\"yaxis\":\"y\",\"type\":\"box\"}],                        {\"template\":{\"data\":{\"bar\":[{\"error_x\":{\"color\":\"#2a3f5f\"},\"error_y\":{\"color\":\"#2a3f5f\"},\"marker\":{\"line\":{\"color\":\"#E5ECF6\",\"width\":0.5},\"pattern\":{\"fillmode\":\"overlay\",\"size\":10,\"solidity\":0.2}},\"type\":\"bar\"}],\"barpolar\":[{\"marker\":{\"line\":{\"color\":\"#E5ECF6\",\"width\":0.5},\"pattern\":{\"fillmode\":\"overlay\",\"size\":10,\"solidity\":0.2}},\"type\":\"barpolar\"}],\"carpet\":[{\"aaxis\":{\"endlinecolor\":\"#2a3f5f\",\"gridcolor\":\"white\",\"linecolor\":\"white\",\"minorgridcolor\":\"white\",\"startlinecolor\":\"#2a3f5f\"},\"baxis\":{\"endlinecolor\":\"#2a3f5f\",\"gridcolor\":\"white\",\"linecolor\":\"white\",\"minorgridcolor\":\"white\",\"startlinecolor\":\"#2a3f5f\"},\"type\":\"carpet\"}],\"choropleth\":[{\"colorbar\":{\"outlinewidth\":0,\"ticks\":\"\"},\"type\":\"choropleth\"}],\"contour\":[{\"colorbar\":{\"outlinewidth\":0,\"ticks\":\"\"},\"colorscale\":[[0.0,\"#0d0887\"],[0.1111111111111111,\"#46039f\"],[0.2222222222222222,\"#7201a8\"],[0.3333333333333333,\"#9c179e\"],[0.4444444444444444,\"#bd3786\"],[0.5555555555555556,\"#d8576b\"],[0.6666666666666666,\"#ed7953\"],[0.7777777777777778,\"#fb9f3a\"],[0.8888888888888888,\"#fdca26\"],[1.0,\"#f0f921\"]],\"type\":\"contour\"}],\"contourcarpet\":[{\"colorbar\":{\"outlinewidth\":0,\"ticks\":\"\"},\"type\":\"contourcarpet\"}],\"heatmap\":[{\"colorbar\":{\"outlinewidth\":0,\"ticks\":\"\"},\"colorscale\":[[0.0,\"#0d0887\"],[0.1111111111111111,\"#46039f\"],[0.2222222222222222,\"#7201a8\"],[0.3333333333333333,\"#9c179e\"],[0.4444444444444444,\"#bd3786\"],[0.5555555555555556,\"#d8576b\"],[0.6666666666666666,\"#ed7953\"],[0.7777777777777778,\"#fb9f3a\"],[0.8888888888888888,\"#fdca26\"],[1.0,\"#f0f921\"]],\"type\":\"heatmap\"}],\"heatmapgl\":[{\"colorbar\":{\"outlinewidth\":0,\"ticks\":\"\"},\"colorscale\":[[0.0,\"#0d0887\"],[0.1111111111111111,\"#46039f\"],[0.2222222222222222,\"#7201a8\"],[0.3333333333333333,\"#9c179e\"],[0.4444444444444444,\"#bd3786\"],[0.5555555555555556,\"#d8576b\"],[0.6666666666666666,\"#ed7953\"],[0.7777777777777778,\"#fb9f3a\"],[0.8888888888888888,\"#fdca26\"],[1.0,\"#f0f921\"]],\"type\":\"heatmapgl\"}],\"histogram\":[{\"marker\":{\"pattern\":{\"fillmode\":\"overlay\",\"size\":10,\"solidity\":0.2}},\"type\":\"histogram\"}],\"histogram2d\":[{\"colorbar\":{\"outlinewidth\":0,\"ticks\":\"\"},\"colorscale\":[[0.0,\"#0d0887\"],[0.1111111111111111,\"#46039f\"],[0.2222222222222222,\"#7201a8\"],[0.3333333333333333,\"#9c179e\"],[0.4444444444444444,\"#bd3786\"],[0.5555555555555556,\"#d8576b\"],[0.6666666666666666,\"#ed7953\"],[0.7777777777777778,\"#fb9f3a\"],[0.8888888888888888,\"#fdca26\"],[1.0,\"#f0f921\"]],\"type\":\"histogram2d\"}],\"histogram2dcontour\":[{\"colorbar\":{\"outlinewidth\":0,\"ticks\":\"\"},\"colorscale\":[[0.0,\"#0d0887\"],[0.1111111111111111,\"#46039f\"],[0.2222222222222222,\"#7201a8\"],[0.3333333333333333,\"#9c179e\"],[0.4444444444444444,\"#bd3786\"],[0.5555555555555556,\"#d8576b\"],[0.6666666666666666,\"#ed7953\"],[0.7777777777777778,\"#fb9f3a\"],[0.8888888888888888,\"#fdca26\"],[1.0,\"#f0f921\"]],\"type\":\"histogram2dcontour\"}],\"mesh3d\":[{\"colorbar\":{\"outlinewidth\":0,\"ticks\":\"\"},\"type\":\"mesh3d\"}],\"parcoords\":[{\"line\":{\"colorbar\":{\"outlinewidth\":0,\"ticks\":\"\"}},\"type\":\"parcoords\"}],\"pie\":[{\"automargin\":true,\"type\":\"pie\"}],\"scatter\":[{\"marker\":{\"colorbar\":{\"outlinewidth\":0,\"ticks\":\"\"}},\"type\":\"scatter\"}],\"scatter3d\":[{\"line\":{\"colorbar\":{\"outlinewidth\":0,\"ticks\":\"\"}},\"marker\":{\"colorbar\":{\"outlinewidth\":0,\"ticks\":\"\"}},\"type\":\"scatter3d\"}],\"scattercarpet\":[{\"marker\":{\"colorbar\":{\"outlinewidth\":0,\"ticks\":\"\"}},\"type\":\"scattercarpet\"}],\"scattergeo\":[{\"marker\":{\"colorbar\":{\"outlinewidth\":0,\"ticks\":\"\"}},\"type\":\"scattergeo\"}],\"scattergl\":[{\"marker\":{\"colorbar\":{\"outlinewidth\":0,\"ticks\":\"\"}},\"type\":\"scattergl\"}],\"scattermapbox\":[{\"marker\":{\"colorbar\":{\"outlinewidth\":0,\"ticks\":\"\"}},\"type\":\"scattermapbox\"}],\"scatterpolar\":[{\"marker\":{\"colorbar\":{\"outlinewidth\":0,\"ticks\":\"\"}},\"type\":\"scatterpolar\"}],\"scatterpolargl\":[{\"marker\":{\"colorbar\":{\"outlinewidth\":0,\"ticks\":\"\"}},\"type\":\"scatterpolargl\"}],\"scatterternary\":[{\"marker\":{\"colorbar\":{\"outlinewidth\":0,\"ticks\":\"\"}},\"type\":\"scatterternary\"}],\"surface\":[{\"colorbar\":{\"outlinewidth\":0,\"ticks\":\"\"},\"colorscale\":[[0.0,\"#0d0887\"],[0.1111111111111111,\"#46039f\"],[0.2222222222222222,\"#7201a8\"],[0.3333333333333333,\"#9c179e\"],[0.4444444444444444,\"#bd3786\"],[0.5555555555555556,\"#d8576b\"],[0.6666666666666666,\"#ed7953\"],[0.7777777777777778,\"#fb9f3a\"],[0.8888888888888888,\"#fdca26\"],[1.0,\"#f0f921\"]],\"type\":\"surface\"}],\"table\":[{\"cells\":{\"fill\":{\"color\":\"#EBF0F8\"},\"line\":{\"color\":\"white\"}},\"header\":{\"fill\":{\"color\":\"#C8D4E3\"},\"line\":{\"color\":\"white\"}},\"type\":\"table\"}]},\"layout\":{\"annotationdefaults\":{\"arrowcolor\":\"#2a3f5f\",\"arrowhead\":0,\"arrowwidth\":1},\"autotypenumbers\":\"strict\",\"coloraxis\":{\"colorbar\":{\"outlinewidth\":0,\"ticks\":\"\"}},\"colorscale\":{\"diverging\":[[0,\"#8e0152\"],[0.1,\"#c51b7d\"],[0.2,\"#de77ae\"],[0.3,\"#f1b6da\"],[0.4,\"#fde0ef\"],[0.5,\"#f7f7f7\"],[0.6,\"#e6f5d0\"],[0.7,\"#b8e186\"],[0.8,\"#7fbc41\"],[0.9,\"#4d9221\"],[1,\"#276419\"]],\"sequential\":[[0.0,\"#0d0887\"],[0.1111111111111111,\"#46039f\"],[0.2222222222222222,\"#7201a8\"],[0.3333333333333333,\"#9c179e\"],[0.4444444444444444,\"#bd3786\"],[0.5555555555555556,\"#d8576b\"],[0.6666666666666666,\"#ed7953\"],[0.7777777777777778,\"#fb9f3a\"],[0.8888888888888888,\"#fdca26\"],[1.0,\"#f0f921\"]],\"sequentialminus\":[[0.0,\"#0d0887\"],[0.1111111111111111,\"#46039f\"],[0.2222222222222222,\"#7201a8\"],[0.3333333333333333,\"#9c179e\"],[0.4444444444444444,\"#bd3786\"],[0.5555555555555556,\"#d8576b\"],[0.6666666666666666,\"#ed7953\"],[0.7777777777777778,\"#fb9f3a\"],[0.8888888888888888,\"#fdca26\"],[1.0,\"#f0f921\"]]},\"colorway\":[\"#636efa\",\"#EF553B\",\"#00cc96\",\"#ab63fa\",\"#FFA15A\",\"#19d3f3\",\"#FF6692\",\"#B6E880\",\"#FF97FF\",\"#FECB52\"],\"font\":{\"color\":\"#2a3f5f\"},\"geo\":{\"bgcolor\":\"white\",\"lakecolor\":\"white\",\"landcolor\":\"#E5ECF6\",\"showlakes\":true,\"showland\":true,\"subunitcolor\":\"white\"},\"hoverlabel\":{\"align\":\"left\"},\"hovermode\":\"closest\",\"mapbox\":{\"style\":\"light\"},\"paper_bgcolor\":\"white\",\"plot_bgcolor\":\"#E5ECF6\",\"polar\":{\"angularaxis\":{\"gridcolor\":\"white\",\"linecolor\":\"white\",\"ticks\":\"\"},\"bgcolor\":\"#E5ECF6\",\"radialaxis\":{\"gridcolor\":\"white\",\"linecolor\":\"white\",\"ticks\":\"\"}},\"scene\":{\"xaxis\":{\"backgroundcolor\":\"#E5ECF6\",\"gridcolor\":\"white\",\"gridwidth\":2,\"linecolor\":\"white\",\"showbackground\":true,\"ticks\":\"\",\"zerolinecolor\":\"white\"},\"yaxis\":{\"backgroundcolor\":\"#E5ECF6\",\"gridcolor\":\"white\",\"gridwidth\":2,\"linecolor\":\"white\",\"showbackground\":true,\"ticks\":\"\",\"zerolinecolor\":\"white\"},\"zaxis\":{\"backgroundcolor\":\"#E5ECF6\",\"gridcolor\":\"white\",\"gridwidth\":2,\"linecolor\":\"white\",\"showbackground\":true,\"ticks\":\"\",\"zerolinecolor\":\"white\"}},\"shapedefaults\":{\"line\":{\"color\":\"#2a3f5f\"}},\"ternary\":{\"aaxis\":{\"gridcolor\":\"white\",\"linecolor\":\"white\",\"ticks\":\"\"},\"baxis\":{\"gridcolor\":\"white\",\"linecolor\":\"white\",\"ticks\":\"\"},\"bgcolor\":\"#E5ECF6\",\"caxis\":{\"gridcolor\":\"white\",\"linecolor\":\"white\",\"ticks\":\"\"}},\"title\":{\"x\":0.05},\"xaxis\":{\"automargin\":true,\"gridcolor\":\"white\",\"linecolor\":\"white\",\"ticks\":\"\",\"title\":{\"standoff\":15},\"zerolinecolor\":\"white\",\"zerolinewidth\":2},\"yaxis\":{\"automargin\":true,\"gridcolor\":\"white\",\"linecolor\":\"white\",\"ticks\":\"\",\"title\":{\"standoff\":15},\"zerolinecolor\":\"white\",\"zerolinewidth\":2}}},\"xaxis\":{\"anchor\":\"y\",\"domain\":[0.0,1.0],\"title\":{\"text\":\"model\"},\"categoryorder\":\"array\",\"categoryarray\":[\"linear\",\"svm\",\"rf\",\"xgb\",\"mlp\",\"average_by_svm, rf, xgb\",\"stack_ridge_by_svm, rf, xgb\",\"stack_linear_by_svm_rf_xgb\"]},\"yaxis\":{\"anchor\":\"x\",\"domain\":[0.0,1.0],\"title\":{\"text\":\"neg_root_mean_squared_error\"}},\"legend\":{\"title\":{\"text\":\"model\"},\"tracegroupgap\":0},\"margin\":{\"t\":60},\"boxmode\":\"overlay\",\"width\":600},                        {\"responsive\": true}                    ).then(function(){\n",
              "                            \n",
              "var gd = document.getElementById('7b43ab62-5507-4aff-9f56-696e030bce31');\n",
              "var x = new MutationObserver(function (mutations, observer) {{\n",
              "        var display = window.getComputedStyle(gd).display;\n",
              "        if (!display || display === 'none') {{\n",
              "            console.log([gd, 'removed!']);\n",
              "            Plotly.purge(gd);\n",
              "            observer.disconnect();\n",
              "        }}\n",
              "}});\n",
              "\n",
              "// Listen for the removal of the full notebook cells\n",
              "var notebookContainer = gd.closest('#notebook-container');\n",
              "if (notebookContainer) {{\n",
              "    x.observe(notebookContainer, {childList: true});\n",
              "}}\n",
              "\n",
              "// Listen for the clearing of the current output cell\n",
              "var outputEl = gd.closest('.output');\n",
              "if (outputEl) {{\n",
              "    x.observe(outputEl, {childList: true});\n",
              "}}\n",
              "\n",
              "                        })                };                            </script>        </div>\n",
              "</body>\n",
              "</html>"
            ]
          },
          "metadata": {}
        }
      ],
      "source": [
        "fig = px.box(best_cv_df[best_cv_df['model']!='fm'], x='model', y='neg_root_mean_squared_error', color='model', width=600)\n",
        "fig.show()"
      ]
    },
    {
      "cell_type": "markdown",
      "source": [
        "# 3. Make a prediction with the best model"
      ],
      "metadata": {
        "id": "yDnorQYRQ0hi"
      }
    },
    {
      "cell_type": "code",
      "source": [
        "from sklearn.linear_model import SGDRegressor\n",
        "from sklearn.ensemble import RandomForestRegressor\n",
        "from xgboost import XGBRegressor\n",
        "from sklearn.linear_model import LinearRegression\n",
        "from sklearn.linear_model import Ridge\n",
        "\n",
        "linear = SGDRegressor(**eval(best_cv_df.loc[best_cv_df['model']=='linear', 'best_hyper_param'].values[0]))\n",
        "svm = SGDRegressor(**eval(best_cv_df.loc[best_cv_df['model']=='svm', 'best_hyper_param'].values[0]))\n",
        "rf = RandomForestRegressor(**eval(best_cv_df.loc[best_cv_df['model']=='rf', 'best_hyper_param'].values[0]))\n",
        "xgb = XGBRegressor(**eval(best_cv_df.loc[best_cv_df['model']=='xgb', 'best_hyper_param'].values[0]))\n",
        "mlp = mlp.set_params(**eval(best_cv_df.loc[best_cv_df['model']=='mlp', 'best_hyper_param'].values[0]))\n",
        "fm = fm.set_params(**eval(best_cv_df.loc[best_cv_df['model']=='fm', 'best_hyper_param'].values[0]))\n",
        "\n",
        "estimators = [svm, rf, xgb]\n",
        "estimators_name = 'svm_rf_xgb'\n",
        "\n",
        "# Final estimator\n",
        "reg = LinearRegression()\n",
        "\n",
        "estimators.append(reg)\n",
        "ensemble_func = stack_reg\n",
        "ensemble_name = 'stack_linear' + '_by_' + estimators_name\n",
        "\n",
        "# Run CV \n",
        "pred = stack_reg(estimators, X_train, y_train_trans, X_test, n_folds=5, shuffle=True, random_state=random_state)\n",
        "pred_trans = np.expm1(pred)\n",
        "res_df = pd.DataFrame({'Id': test['Id'], 'SalePrice': pred_trans})\n",
        "res_df.to_csv('{}.csv'.format(ensemble_name), index=False)"
      ],
      "metadata": {
        "colab": {
          "base_uri": "https://localhost:8080/",
          "height": 102,
          "referenced_widgets": [
            "585a223c558f4b498f97aec949a034fc",
            "7fdd6358fe164120a2dfba6e816cdfed",
            "c2bccf2dfa1f4e45b315341cba8510f3",
            "febfd30c83724cce9932f008e0ce860b",
            "2a120c9962d5492bb8edad75d1dc45e5",
            "6067ae39493e456bb8329575c8182796",
            "7652c7edc375417aa414ac44da55b8e5",
            "24fe075b05d1428d8da0343e972238d9",
            "f527edecc51a450ea71c945bd618d0e9",
            "8e7144f0654240a3a2a3d11ab78322a5",
            "a5751975fb6643b982e69d37d53ba7dd"
          ]
        },
        "id": "aDiA_VtdPvA3",
        "outputId": "379439d1-45a3-4517-8466-306ade5b23a7"
      },
      "execution_count": null,
      "outputs": [
        {
          "output_type": "display_data",
          "data": {
            "application/vnd.jupyter.widget-view+json": {
              "model_id": "585a223c558f4b498f97aec949a034fc",
              "version_minor": 0,
              "version_major": 2
            },
            "text/plain": [
              "Stack_CV:   0%|          | 0/5 [00:00<?, ?it/s]"
            ]
          },
          "metadata": {}
        },
        {
          "output_type": "stream",
          "name": "stdout",
          "text": [
            "Training log_RMSE: 0.11014938388519237\n",
            "Estimated coefficients: [0.33660059 0.1256977  0.54474413] \n",
            " intercept: -0.08597271681477103\n"
          ]
        }
      ]
    }
  ],
  "metadata": {
    "colab": {
      "collapsed_sections": [],
      "name": "(Kaggle)House_price.ipynb",
      "provenance": [],
      "authorship_tag": "ABX9TyMUv1YRBI2kaxYWtvuHraNS"
    },
    "kernelspec": {
      "display_name": "Python 3",
      "name": "python3"
    },
    "language_info": {
      "name": "python"
    },
    "widgets": {
      "application/vnd.jupyter.widget-state+json": {
        "a4f2a2e2a61b4e22a51205f14a47e185": {
          "model_module": "@jupyter-widgets/controls",
          "model_name": "HBoxModel",
          "model_module_version": "1.5.0",
          "state": {
            "_view_name": "HBoxView",
            "_dom_classes": [],
            "_model_name": "HBoxModel",
            "_view_module": "@jupyter-widgets/controls",
            "_model_module_version": "1.5.0",
            "_view_count": null,
            "_view_module_version": "1.5.0",
            "box_style": "",
            "layout": "IPY_MODEL_d2457c12e8104305a78de3026fc0e3de",
            "_model_module": "@jupyter-widgets/controls",
            "children": [
              "IPY_MODEL_96538cb800f3412584532f7e9cbc6c20",
              "IPY_MODEL_a1e70be0cc28497c9fa1dc40f770da8f",
              "IPY_MODEL_c06169e4511f42c0928299b8cb8b39bd"
            ]
          }
        },
        "d2457c12e8104305a78de3026fc0e3de": {
          "model_module": "@jupyter-widgets/base",
          "model_name": "LayoutModel",
          "model_module_version": "1.2.0",
          "state": {
            "_view_name": "LayoutView",
            "grid_template_rows": null,
            "right": null,
            "justify_content": null,
            "_view_module": "@jupyter-widgets/base",
            "overflow": null,
            "_model_module_version": "1.2.0",
            "_view_count": null,
            "flex_flow": null,
            "width": null,
            "min_width": null,
            "border": null,
            "align_items": null,
            "bottom": null,
            "_model_module": "@jupyter-widgets/base",
            "top": null,
            "grid_column": null,
            "overflow_y": null,
            "overflow_x": null,
            "grid_auto_flow": null,
            "grid_area": null,
            "grid_template_columns": null,
            "flex": null,
            "_model_name": "LayoutModel",
            "justify_items": null,
            "grid_row": null,
            "max_height": null,
            "align_content": null,
            "visibility": null,
            "align_self": null,
            "height": null,
            "min_height": null,
            "padding": null,
            "grid_auto_rows": null,
            "grid_gap": null,
            "max_width": null,
            "order": null,
            "_view_module_version": "1.2.0",
            "grid_template_areas": null,
            "object_position": null,
            "object_fit": null,
            "grid_auto_columns": null,
            "margin": null,
            "display": null,
            "left": null
          }
        },
        "96538cb800f3412584532f7e9cbc6c20": {
          "model_module": "@jupyter-widgets/controls",
          "model_name": "HTMLModel",
          "model_module_version": "1.5.0",
          "state": {
            "_view_name": "HTMLView",
            "style": "IPY_MODEL_2be90da52c354f4685e218606c131480",
            "_dom_classes": [],
            "description": "",
            "_model_name": "HTMLModel",
            "placeholder": "​",
            "_view_module": "@jupyter-widgets/controls",
            "_model_module_version": "1.5.0",
            "value": "Eval_CV: 100%",
            "_view_count": null,
            "_view_module_version": "1.5.0",
            "description_tooltip": null,
            "_model_module": "@jupyter-widgets/controls",
            "layout": "IPY_MODEL_5e0b4ec0f0604b0c83ebe201a4ca72a2"
          }
        },
        "a1e70be0cc28497c9fa1dc40f770da8f": {
          "model_module": "@jupyter-widgets/controls",
          "model_name": "FloatProgressModel",
          "model_module_version": "1.5.0",
          "state": {
            "_view_name": "ProgressView",
            "style": "IPY_MODEL_4fe3d736e74742fb97ba3512c4fa53c9",
            "_dom_classes": [],
            "description": "",
            "_model_name": "FloatProgressModel",
            "bar_style": "success",
            "max": 5,
            "_view_module": "@jupyter-widgets/controls",
            "_model_module_version": "1.5.0",
            "value": 5,
            "_view_count": null,
            "_view_module_version": "1.5.0",
            "orientation": "horizontal",
            "min": 0,
            "description_tooltip": null,
            "_model_module": "@jupyter-widgets/controls",
            "layout": "IPY_MODEL_05705a91351544f39549c1231f41ae3e"
          }
        },
        "c06169e4511f42c0928299b8cb8b39bd": {
          "model_module": "@jupyter-widgets/controls",
          "model_name": "HTMLModel",
          "model_module_version": "1.5.0",
          "state": {
            "_view_name": "HTMLView",
            "style": "IPY_MODEL_bf27c46fb4c34ff5a04efef5410a188f",
            "_dom_classes": [],
            "description": "",
            "_model_name": "HTMLModel",
            "placeholder": "​",
            "_view_module": "@jupyter-widgets/controls",
            "_model_module_version": "1.5.0",
            "value": " 5/5 [05:15&lt;00:00, 61.58s/it]",
            "_view_count": null,
            "_view_module_version": "1.5.0",
            "description_tooltip": null,
            "_model_module": "@jupyter-widgets/controls",
            "layout": "IPY_MODEL_3c286376b4434f93a23215fbdf75d779"
          }
        },
        "2be90da52c354f4685e218606c131480": {
          "model_module": "@jupyter-widgets/controls",
          "model_name": "DescriptionStyleModel",
          "model_module_version": "1.5.0",
          "state": {
            "_view_name": "StyleView",
            "_model_name": "DescriptionStyleModel",
            "description_width": "",
            "_view_module": "@jupyter-widgets/base",
            "_model_module_version": "1.5.0",
            "_view_count": null,
            "_view_module_version": "1.2.0",
            "_model_module": "@jupyter-widgets/controls"
          }
        },
        "5e0b4ec0f0604b0c83ebe201a4ca72a2": {
          "model_module": "@jupyter-widgets/base",
          "model_name": "LayoutModel",
          "model_module_version": "1.2.0",
          "state": {
            "_view_name": "LayoutView",
            "grid_template_rows": null,
            "right": null,
            "justify_content": null,
            "_view_module": "@jupyter-widgets/base",
            "overflow": null,
            "_model_module_version": "1.2.0",
            "_view_count": null,
            "flex_flow": null,
            "width": null,
            "min_width": null,
            "border": null,
            "align_items": null,
            "bottom": null,
            "_model_module": "@jupyter-widgets/base",
            "top": null,
            "grid_column": null,
            "overflow_y": null,
            "overflow_x": null,
            "grid_auto_flow": null,
            "grid_area": null,
            "grid_template_columns": null,
            "flex": null,
            "_model_name": "LayoutModel",
            "justify_items": null,
            "grid_row": null,
            "max_height": null,
            "align_content": null,
            "visibility": null,
            "align_self": null,
            "height": null,
            "min_height": null,
            "padding": null,
            "grid_auto_rows": null,
            "grid_gap": null,
            "max_width": null,
            "order": null,
            "_view_module_version": "1.2.0",
            "grid_template_areas": null,
            "object_position": null,
            "object_fit": null,
            "grid_auto_columns": null,
            "margin": null,
            "display": null,
            "left": null
          }
        },
        "4fe3d736e74742fb97ba3512c4fa53c9": {
          "model_module": "@jupyter-widgets/controls",
          "model_name": "ProgressStyleModel",
          "model_module_version": "1.5.0",
          "state": {
            "_view_name": "StyleView",
            "_model_name": "ProgressStyleModel",
            "description_width": "",
            "_view_module": "@jupyter-widgets/base",
            "_model_module_version": "1.5.0",
            "_view_count": null,
            "_view_module_version": "1.2.0",
            "bar_color": null,
            "_model_module": "@jupyter-widgets/controls"
          }
        },
        "05705a91351544f39549c1231f41ae3e": {
          "model_module": "@jupyter-widgets/base",
          "model_name": "LayoutModel",
          "model_module_version": "1.2.0",
          "state": {
            "_view_name": "LayoutView",
            "grid_template_rows": null,
            "right": null,
            "justify_content": null,
            "_view_module": "@jupyter-widgets/base",
            "overflow": null,
            "_model_module_version": "1.2.0",
            "_view_count": null,
            "flex_flow": null,
            "width": null,
            "min_width": null,
            "border": null,
            "align_items": null,
            "bottom": null,
            "_model_module": "@jupyter-widgets/base",
            "top": null,
            "grid_column": null,
            "overflow_y": null,
            "overflow_x": null,
            "grid_auto_flow": null,
            "grid_area": null,
            "grid_template_columns": null,
            "flex": null,
            "_model_name": "LayoutModel",
            "justify_items": null,
            "grid_row": null,
            "max_height": null,
            "align_content": null,
            "visibility": null,
            "align_self": null,
            "height": null,
            "min_height": null,
            "padding": null,
            "grid_auto_rows": null,
            "grid_gap": null,
            "max_width": null,
            "order": null,
            "_view_module_version": "1.2.0",
            "grid_template_areas": null,
            "object_position": null,
            "object_fit": null,
            "grid_auto_columns": null,
            "margin": null,
            "display": null,
            "left": null
          }
        },
        "bf27c46fb4c34ff5a04efef5410a188f": {
          "model_module": "@jupyter-widgets/controls",
          "model_name": "DescriptionStyleModel",
          "model_module_version": "1.5.0",
          "state": {
            "_view_name": "StyleView",
            "_model_name": "DescriptionStyleModel",
            "description_width": "",
            "_view_module": "@jupyter-widgets/base",
            "_model_module_version": "1.5.0",
            "_view_count": null,
            "_view_module_version": "1.2.0",
            "_model_module": "@jupyter-widgets/controls"
          }
        },
        "3c286376b4434f93a23215fbdf75d779": {
          "model_module": "@jupyter-widgets/base",
          "model_name": "LayoutModel",
          "model_module_version": "1.2.0",
          "state": {
            "_view_name": "LayoutView",
            "grid_template_rows": null,
            "right": null,
            "justify_content": null,
            "_view_module": "@jupyter-widgets/base",
            "overflow": null,
            "_model_module_version": "1.2.0",
            "_view_count": null,
            "flex_flow": null,
            "width": null,
            "min_width": null,
            "border": null,
            "align_items": null,
            "bottom": null,
            "_model_module": "@jupyter-widgets/base",
            "top": null,
            "grid_column": null,
            "overflow_y": null,
            "overflow_x": null,
            "grid_auto_flow": null,
            "grid_area": null,
            "grid_template_columns": null,
            "flex": null,
            "_model_name": "LayoutModel",
            "justify_items": null,
            "grid_row": null,
            "max_height": null,
            "align_content": null,
            "visibility": null,
            "align_self": null,
            "height": null,
            "min_height": null,
            "padding": null,
            "grid_auto_rows": null,
            "grid_gap": null,
            "max_width": null,
            "order": null,
            "_view_module_version": "1.2.0",
            "grid_template_areas": null,
            "object_position": null,
            "object_fit": null,
            "grid_auto_columns": null,
            "margin": null,
            "display": null,
            "left": null
          }
        },
        "f7ac1f2fff5e41f4957fdda89053c6b8": {
          "model_module": "@jupyter-widgets/controls",
          "model_name": "HBoxModel",
          "model_module_version": "1.5.0",
          "state": {
            "_view_name": "HBoxView",
            "_dom_classes": [],
            "_model_name": "HBoxModel",
            "_view_module": "@jupyter-widgets/controls",
            "_model_module_version": "1.5.0",
            "_view_count": null,
            "_view_module_version": "1.5.0",
            "box_style": "",
            "layout": "IPY_MODEL_6c69bd5508994494948f585415b576c0",
            "_model_module": "@jupyter-widgets/controls",
            "children": [
              "IPY_MODEL_4c0545593ccc4b689b4bdb1af28f1173",
              "IPY_MODEL_9d152c8c129344bb9a89c0a90db0c42b",
              "IPY_MODEL_acd80bde8a5b4b27928273971ef19c07"
            ]
          }
        },
        "6c69bd5508994494948f585415b576c0": {
          "model_module": "@jupyter-widgets/base",
          "model_name": "LayoutModel",
          "model_module_version": "1.2.0",
          "state": {
            "_view_name": "LayoutView",
            "grid_template_rows": null,
            "right": null,
            "justify_content": null,
            "_view_module": "@jupyter-widgets/base",
            "overflow": null,
            "_model_module_version": "1.2.0",
            "_view_count": null,
            "flex_flow": null,
            "width": null,
            "min_width": null,
            "border": null,
            "align_items": null,
            "bottom": null,
            "_model_module": "@jupyter-widgets/base",
            "top": null,
            "grid_column": null,
            "overflow_y": null,
            "overflow_x": null,
            "grid_auto_flow": null,
            "grid_area": null,
            "grid_template_columns": null,
            "flex": null,
            "_model_name": "LayoutModel",
            "justify_items": null,
            "grid_row": null,
            "max_height": null,
            "align_content": null,
            "visibility": null,
            "align_self": null,
            "height": null,
            "min_height": null,
            "padding": null,
            "grid_auto_rows": null,
            "grid_gap": null,
            "max_width": null,
            "order": null,
            "_view_module_version": "1.2.0",
            "grid_template_areas": null,
            "object_position": null,
            "object_fit": null,
            "grid_auto_columns": null,
            "margin": null,
            "display": null,
            "left": null
          }
        },
        "4c0545593ccc4b689b4bdb1af28f1173": {
          "model_module": "@jupyter-widgets/controls",
          "model_name": "HTMLModel",
          "model_module_version": "1.5.0",
          "state": {
            "_view_name": "HTMLView",
            "style": "IPY_MODEL_724a25b5be76479abdd62621e2ef3265",
            "_dom_classes": [],
            "description": "",
            "_model_name": "HTMLModel",
            "placeholder": "​",
            "_view_module": "@jupyter-widgets/controls",
            "_model_module_version": "1.5.0",
            "value": "Eval_CV: 100%",
            "_view_count": null,
            "_view_module_version": "1.5.0",
            "description_tooltip": null,
            "_model_module": "@jupyter-widgets/controls",
            "layout": "IPY_MODEL_6f9a97a29ea44537b26fafb278294434"
          }
        },
        "9d152c8c129344bb9a89c0a90db0c42b": {
          "model_module": "@jupyter-widgets/controls",
          "model_name": "FloatProgressModel",
          "model_module_version": "1.5.0",
          "state": {
            "_view_name": "ProgressView",
            "style": "IPY_MODEL_1c621efde85f47b48bc668ee98a0d4f0",
            "_dom_classes": [],
            "description": "",
            "_model_name": "FloatProgressModel",
            "bar_style": "success",
            "max": 5,
            "_view_module": "@jupyter-widgets/controls",
            "_model_module_version": "1.5.0",
            "value": 5,
            "_view_count": null,
            "_view_module_version": "1.5.0",
            "orientation": "horizontal",
            "min": 0,
            "description_tooltip": null,
            "_model_module": "@jupyter-widgets/controls",
            "layout": "IPY_MODEL_3301b79f3c014ae2a8845d6625697ad0"
          }
        },
        "acd80bde8a5b4b27928273971ef19c07": {
          "model_module": "@jupyter-widgets/controls",
          "model_name": "HTMLModel",
          "model_module_version": "1.5.0",
          "state": {
            "_view_name": "HTMLView",
            "style": "IPY_MODEL_395e9721cf07486688efcf19b533b503",
            "_dom_classes": [],
            "description": "",
            "_model_name": "HTMLModel",
            "placeholder": "​",
            "_view_module": "@jupyter-widgets/controls",
            "_model_module_version": "1.5.0",
            "value": " 5/5 [24:38&lt;00:00, 295.12s/it]",
            "_view_count": null,
            "_view_module_version": "1.5.0",
            "description_tooltip": null,
            "_model_module": "@jupyter-widgets/controls",
            "layout": "IPY_MODEL_513b25d6bd5e43db9f72bf0e10833a0f"
          }
        },
        "724a25b5be76479abdd62621e2ef3265": {
          "model_module": "@jupyter-widgets/controls",
          "model_name": "DescriptionStyleModel",
          "model_module_version": "1.5.0",
          "state": {
            "_view_name": "StyleView",
            "_model_name": "DescriptionStyleModel",
            "description_width": "",
            "_view_module": "@jupyter-widgets/base",
            "_model_module_version": "1.5.0",
            "_view_count": null,
            "_view_module_version": "1.2.0",
            "_model_module": "@jupyter-widgets/controls"
          }
        },
        "6f9a97a29ea44537b26fafb278294434": {
          "model_module": "@jupyter-widgets/base",
          "model_name": "LayoutModel",
          "model_module_version": "1.2.0",
          "state": {
            "_view_name": "LayoutView",
            "grid_template_rows": null,
            "right": null,
            "justify_content": null,
            "_view_module": "@jupyter-widgets/base",
            "overflow": null,
            "_model_module_version": "1.2.0",
            "_view_count": null,
            "flex_flow": null,
            "width": null,
            "min_width": null,
            "border": null,
            "align_items": null,
            "bottom": null,
            "_model_module": "@jupyter-widgets/base",
            "top": null,
            "grid_column": null,
            "overflow_y": null,
            "overflow_x": null,
            "grid_auto_flow": null,
            "grid_area": null,
            "grid_template_columns": null,
            "flex": null,
            "_model_name": "LayoutModel",
            "justify_items": null,
            "grid_row": null,
            "max_height": null,
            "align_content": null,
            "visibility": null,
            "align_self": null,
            "height": null,
            "min_height": null,
            "padding": null,
            "grid_auto_rows": null,
            "grid_gap": null,
            "max_width": null,
            "order": null,
            "_view_module_version": "1.2.0",
            "grid_template_areas": null,
            "object_position": null,
            "object_fit": null,
            "grid_auto_columns": null,
            "margin": null,
            "display": null,
            "left": null
          }
        },
        "1c621efde85f47b48bc668ee98a0d4f0": {
          "model_module": "@jupyter-widgets/controls",
          "model_name": "ProgressStyleModel",
          "model_module_version": "1.5.0",
          "state": {
            "_view_name": "StyleView",
            "_model_name": "ProgressStyleModel",
            "description_width": "",
            "_view_module": "@jupyter-widgets/base",
            "_model_module_version": "1.5.0",
            "_view_count": null,
            "_view_module_version": "1.2.0",
            "bar_color": null,
            "_model_module": "@jupyter-widgets/controls"
          }
        },
        "3301b79f3c014ae2a8845d6625697ad0": {
          "model_module": "@jupyter-widgets/base",
          "model_name": "LayoutModel",
          "model_module_version": "1.2.0",
          "state": {
            "_view_name": "LayoutView",
            "grid_template_rows": null,
            "right": null,
            "justify_content": null,
            "_view_module": "@jupyter-widgets/base",
            "overflow": null,
            "_model_module_version": "1.2.0",
            "_view_count": null,
            "flex_flow": null,
            "width": null,
            "min_width": null,
            "border": null,
            "align_items": null,
            "bottom": null,
            "_model_module": "@jupyter-widgets/base",
            "top": null,
            "grid_column": null,
            "overflow_y": null,
            "overflow_x": null,
            "grid_auto_flow": null,
            "grid_area": null,
            "grid_template_columns": null,
            "flex": null,
            "_model_name": "LayoutModel",
            "justify_items": null,
            "grid_row": null,
            "max_height": null,
            "align_content": null,
            "visibility": null,
            "align_self": null,
            "height": null,
            "min_height": null,
            "padding": null,
            "grid_auto_rows": null,
            "grid_gap": null,
            "max_width": null,
            "order": null,
            "_view_module_version": "1.2.0",
            "grid_template_areas": null,
            "object_position": null,
            "object_fit": null,
            "grid_auto_columns": null,
            "margin": null,
            "display": null,
            "left": null
          }
        },
        "395e9721cf07486688efcf19b533b503": {
          "model_module": "@jupyter-widgets/controls",
          "model_name": "DescriptionStyleModel",
          "model_module_version": "1.5.0",
          "state": {
            "_view_name": "StyleView",
            "_model_name": "DescriptionStyleModel",
            "description_width": "",
            "_view_module": "@jupyter-widgets/base",
            "_model_module_version": "1.5.0",
            "_view_count": null,
            "_view_module_version": "1.2.0",
            "_model_module": "@jupyter-widgets/controls"
          }
        },
        "513b25d6bd5e43db9f72bf0e10833a0f": {
          "model_module": "@jupyter-widgets/base",
          "model_name": "LayoutModel",
          "model_module_version": "1.2.0",
          "state": {
            "_view_name": "LayoutView",
            "grid_template_rows": null,
            "right": null,
            "justify_content": null,
            "_view_module": "@jupyter-widgets/base",
            "overflow": null,
            "_model_module_version": "1.2.0",
            "_view_count": null,
            "flex_flow": null,
            "width": null,
            "min_width": null,
            "border": null,
            "align_items": null,
            "bottom": null,
            "_model_module": "@jupyter-widgets/base",
            "top": null,
            "grid_column": null,
            "overflow_y": null,
            "overflow_x": null,
            "grid_auto_flow": null,
            "grid_area": null,
            "grid_template_columns": null,
            "flex": null,
            "_model_name": "LayoutModel",
            "justify_items": null,
            "grid_row": null,
            "max_height": null,
            "align_content": null,
            "visibility": null,
            "align_self": null,
            "height": null,
            "min_height": null,
            "padding": null,
            "grid_auto_rows": null,
            "grid_gap": null,
            "max_width": null,
            "order": null,
            "_view_module_version": "1.2.0",
            "grid_template_areas": null,
            "object_position": null,
            "object_fit": null,
            "grid_auto_columns": null,
            "margin": null,
            "display": null,
            "left": null
          }
        },
        "08583df5867d4115bd37dff56e8130c2": {
          "model_module": "@jupyter-widgets/controls",
          "model_name": "HBoxModel",
          "model_module_version": "1.5.0",
          "state": {
            "_view_name": "HBoxView",
            "_dom_classes": [],
            "_model_name": "HBoxModel",
            "_view_module": "@jupyter-widgets/controls",
            "_model_module_version": "1.5.0",
            "_view_count": null,
            "_view_module_version": "1.5.0",
            "box_style": "",
            "layout": "IPY_MODEL_96b9c4dd5f8e4211b04f677807e6a199",
            "_model_module": "@jupyter-widgets/controls",
            "children": [
              "IPY_MODEL_63d89c5c2e7740418fc4976fd5abf912",
              "IPY_MODEL_93ffc74962134c068155d0b1f95ae9bc",
              "IPY_MODEL_071a21fb831a48df893490d4088a79c2"
            ]
          }
        },
        "96b9c4dd5f8e4211b04f677807e6a199": {
          "model_module": "@jupyter-widgets/base",
          "model_name": "LayoutModel",
          "model_module_version": "1.2.0",
          "state": {
            "_view_name": "LayoutView",
            "grid_template_rows": null,
            "right": null,
            "justify_content": null,
            "_view_module": "@jupyter-widgets/base",
            "overflow": null,
            "_model_module_version": "1.2.0",
            "_view_count": null,
            "flex_flow": null,
            "width": null,
            "min_width": null,
            "border": null,
            "align_items": null,
            "bottom": null,
            "_model_module": "@jupyter-widgets/base",
            "top": null,
            "grid_column": null,
            "overflow_y": null,
            "overflow_x": null,
            "grid_auto_flow": null,
            "grid_area": null,
            "grid_template_columns": null,
            "flex": null,
            "_model_name": "LayoutModel",
            "justify_items": null,
            "grid_row": null,
            "max_height": null,
            "align_content": null,
            "visibility": null,
            "align_self": null,
            "height": null,
            "min_height": null,
            "padding": null,
            "grid_auto_rows": null,
            "grid_gap": null,
            "max_width": null,
            "order": null,
            "_view_module_version": "1.2.0",
            "grid_template_areas": null,
            "object_position": null,
            "object_fit": null,
            "grid_auto_columns": null,
            "margin": null,
            "display": null,
            "left": null
          }
        },
        "63d89c5c2e7740418fc4976fd5abf912": {
          "model_module": "@jupyter-widgets/controls",
          "model_name": "HTMLModel",
          "model_module_version": "1.5.0",
          "state": {
            "_view_name": "HTMLView",
            "style": "IPY_MODEL_e2230337e36b495f8641ff73d6dbd671",
            "_dom_classes": [],
            "description": "",
            "_model_name": "HTMLModel",
            "placeholder": "​",
            "_view_module": "@jupyter-widgets/controls",
            "_model_module_version": "1.5.0",
            "value": "Stack_CV: 100%",
            "_view_count": null,
            "_view_module_version": "1.5.0",
            "description_tooltip": null,
            "_model_module": "@jupyter-widgets/controls",
            "layout": "IPY_MODEL_8afa4e71649f4ed298f10eb8aec1ff06"
          }
        },
        "93ffc74962134c068155d0b1f95ae9bc": {
          "model_module": "@jupyter-widgets/controls",
          "model_name": "FloatProgressModel",
          "model_module_version": "1.5.0",
          "state": {
            "_view_name": "ProgressView",
            "style": "IPY_MODEL_efbff022a9cc421ab55be8805be003dd",
            "_dom_classes": [],
            "description": "",
            "_model_name": "FloatProgressModel",
            "bar_style": "success",
            "max": 5,
            "_view_module": "@jupyter-widgets/controls",
            "_model_module_version": "1.5.0",
            "value": 5,
            "_view_count": null,
            "_view_module_version": "1.5.0",
            "orientation": "horizontal",
            "min": 0,
            "description_tooltip": null,
            "_model_module": "@jupyter-widgets/controls",
            "layout": "IPY_MODEL_93d885d1a4654be7a6d63c675c56cfe9"
          }
        },
        "071a21fb831a48df893490d4088a79c2": {
          "model_module": "@jupyter-widgets/controls",
          "model_name": "HTMLModel",
          "model_module_version": "1.5.0",
          "state": {
            "_view_name": "HTMLView",
            "style": "IPY_MODEL_f2e061aae50748f7bd8822ba288aa3b4",
            "_dom_classes": [],
            "description": "",
            "_model_name": "HTMLModel",
            "placeholder": "​",
            "_view_module": "@jupyter-widgets/controls",
            "_model_module_version": "1.5.0",
            "value": " 5/5 [03:58&lt;00:00, 47.69s/it]",
            "_view_count": null,
            "_view_module_version": "1.5.0",
            "description_tooltip": null,
            "_model_module": "@jupyter-widgets/controls",
            "layout": "IPY_MODEL_9e74202053f448bbb1abf15973c577c9"
          }
        },
        "e2230337e36b495f8641ff73d6dbd671": {
          "model_module": "@jupyter-widgets/controls",
          "model_name": "DescriptionStyleModel",
          "model_module_version": "1.5.0",
          "state": {
            "_view_name": "StyleView",
            "_model_name": "DescriptionStyleModel",
            "description_width": "",
            "_view_module": "@jupyter-widgets/base",
            "_model_module_version": "1.5.0",
            "_view_count": null,
            "_view_module_version": "1.2.0",
            "_model_module": "@jupyter-widgets/controls"
          }
        },
        "8afa4e71649f4ed298f10eb8aec1ff06": {
          "model_module": "@jupyter-widgets/base",
          "model_name": "LayoutModel",
          "model_module_version": "1.2.0",
          "state": {
            "_view_name": "LayoutView",
            "grid_template_rows": null,
            "right": null,
            "justify_content": null,
            "_view_module": "@jupyter-widgets/base",
            "overflow": null,
            "_model_module_version": "1.2.0",
            "_view_count": null,
            "flex_flow": null,
            "width": null,
            "min_width": null,
            "border": null,
            "align_items": null,
            "bottom": null,
            "_model_module": "@jupyter-widgets/base",
            "top": null,
            "grid_column": null,
            "overflow_y": null,
            "overflow_x": null,
            "grid_auto_flow": null,
            "grid_area": null,
            "grid_template_columns": null,
            "flex": null,
            "_model_name": "LayoutModel",
            "justify_items": null,
            "grid_row": null,
            "max_height": null,
            "align_content": null,
            "visibility": null,
            "align_self": null,
            "height": null,
            "min_height": null,
            "padding": null,
            "grid_auto_rows": null,
            "grid_gap": null,
            "max_width": null,
            "order": null,
            "_view_module_version": "1.2.0",
            "grid_template_areas": null,
            "object_position": null,
            "object_fit": null,
            "grid_auto_columns": null,
            "margin": null,
            "display": null,
            "left": null
          }
        },
        "efbff022a9cc421ab55be8805be003dd": {
          "model_module": "@jupyter-widgets/controls",
          "model_name": "ProgressStyleModel",
          "model_module_version": "1.5.0",
          "state": {
            "_view_name": "StyleView",
            "_model_name": "ProgressStyleModel",
            "description_width": "",
            "_view_module": "@jupyter-widgets/base",
            "_model_module_version": "1.5.0",
            "_view_count": null,
            "_view_module_version": "1.2.0",
            "bar_color": null,
            "_model_module": "@jupyter-widgets/controls"
          }
        },
        "93d885d1a4654be7a6d63c675c56cfe9": {
          "model_module": "@jupyter-widgets/base",
          "model_name": "LayoutModel",
          "model_module_version": "1.2.0",
          "state": {
            "_view_name": "LayoutView",
            "grid_template_rows": null,
            "right": null,
            "justify_content": null,
            "_view_module": "@jupyter-widgets/base",
            "overflow": null,
            "_model_module_version": "1.2.0",
            "_view_count": null,
            "flex_flow": null,
            "width": null,
            "min_width": null,
            "border": null,
            "align_items": null,
            "bottom": null,
            "_model_module": "@jupyter-widgets/base",
            "top": null,
            "grid_column": null,
            "overflow_y": null,
            "overflow_x": null,
            "grid_auto_flow": null,
            "grid_area": null,
            "grid_template_columns": null,
            "flex": null,
            "_model_name": "LayoutModel",
            "justify_items": null,
            "grid_row": null,
            "max_height": null,
            "align_content": null,
            "visibility": null,
            "align_self": null,
            "height": null,
            "min_height": null,
            "padding": null,
            "grid_auto_rows": null,
            "grid_gap": null,
            "max_width": null,
            "order": null,
            "_view_module_version": "1.2.0",
            "grid_template_areas": null,
            "object_position": null,
            "object_fit": null,
            "grid_auto_columns": null,
            "margin": null,
            "display": null,
            "left": null
          }
        },
        "f2e061aae50748f7bd8822ba288aa3b4": {
          "model_module": "@jupyter-widgets/controls",
          "model_name": "DescriptionStyleModel",
          "model_module_version": "1.5.0",
          "state": {
            "_view_name": "StyleView",
            "_model_name": "DescriptionStyleModel",
            "description_width": "",
            "_view_module": "@jupyter-widgets/base",
            "_model_module_version": "1.5.0",
            "_view_count": null,
            "_view_module_version": "1.2.0",
            "_model_module": "@jupyter-widgets/controls"
          }
        },
        "9e74202053f448bbb1abf15973c577c9": {
          "model_module": "@jupyter-widgets/base",
          "model_name": "LayoutModel",
          "model_module_version": "1.2.0",
          "state": {
            "_view_name": "LayoutView",
            "grid_template_rows": null,
            "right": null,
            "justify_content": null,
            "_view_module": "@jupyter-widgets/base",
            "overflow": null,
            "_model_module_version": "1.2.0",
            "_view_count": null,
            "flex_flow": null,
            "width": null,
            "min_width": null,
            "border": null,
            "align_items": null,
            "bottom": null,
            "_model_module": "@jupyter-widgets/base",
            "top": null,
            "grid_column": null,
            "overflow_y": null,
            "overflow_x": null,
            "grid_auto_flow": null,
            "grid_area": null,
            "grid_template_columns": null,
            "flex": null,
            "_model_name": "LayoutModel",
            "justify_items": null,
            "grid_row": null,
            "max_height": null,
            "align_content": null,
            "visibility": null,
            "align_self": null,
            "height": null,
            "min_height": null,
            "padding": null,
            "grid_auto_rows": null,
            "grid_gap": null,
            "max_width": null,
            "order": null,
            "_view_module_version": "1.2.0",
            "grid_template_areas": null,
            "object_position": null,
            "object_fit": null,
            "grid_auto_columns": null,
            "margin": null,
            "display": null,
            "left": null
          }
        },
        "e1e068e4cb32411da7acc9aed3e353d7": {
          "model_module": "@jupyter-widgets/controls",
          "model_name": "HBoxModel",
          "model_module_version": "1.5.0",
          "state": {
            "_view_name": "HBoxView",
            "_dom_classes": [],
            "_model_name": "HBoxModel",
            "_view_module": "@jupyter-widgets/controls",
            "_model_module_version": "1.5.0",
            "_view_count": null,
            "_view_module_version": "1.5.0",
            "box_style": "",
            "layout": "IPY_MODEL_a925a9ed1da44f488c05ca9a5905b9f5",
            "_model_module": "@jupyter-widgets/controls",
            "children": [
              "IPY_MODEL_956f6e4748a74eb8b4eb0590f165622b",
              "IPY_MODEL_ee1cc3df6f3447c4a1ea0e2f42161238",
              "IPY_MODEL_0ca73c2c83184b5ab7faba002e79dfdf"
            ]
          }
        },
        "a925a9ed1da44f488c05ca9a5905b9f5": {
          "model_module": "@jupyter-widgets/base",
          "model_name": "LayoutModel",
          "model_module_version": "1.2.0",
          "state": {
            "_view_name": "LayoutView",
            "grid_template_rows": null,
            "right": null,
            "justify_content": null,
            "_view_module": "@jupyter-widgets/base",
            "overflow": null,
            "_model_module_version": "1.2.0",
            "_view_count": null,
            "flex_flow": null,
            "width": null,
            "min_width": null,
            "border": null,
            "align_items": null,
            "bottom": null,
            "_model_module": "@jupyter-widgets/base",
            "top": null,
            "grid_column": null,
            "overflow_y": null,
            "overflow_x": null,
            "grid_auto_flow": null,
            "grid_area": null,
            "grid_template_columns": null,
            "flex": null,
            "_model_name": "LayoutModel",
            "justify_items": null,
            "grid_row": null,
            "max_height": null,
            "align_content": null,
            "visibility": null,
            "align_self": null,
            "height": null,
            "min_height": null,
            "padding": null,
            "grid_auto_rows": null,
            "grid_gap": null,
            "max_width": null,
            "order": null,
            "_view_module_version": "1.2.0",
            "grid_template_areas": null,
            "object_position": null,
            "object_fit": null,
            "grid_auto_columns": null,
            "margin": null,
            "display": null,
            "left": null
          }
        },
        "956f6e4748a74eb8b4eb0590f165622b": {
          "model_module": "@jupyter-widgets/controls",
          "model_name": "HTMLModel",
          "model_module_version": "1.5.0",
          "state": {
            "_view_name": "HTMLView",
            "style": "IPY_MODEL_6fe0413d01f6460bb3650ad30a80adce",
            "_dom_classes": [],
            "description": "",
            "_model_name": "HTMLModel",
            "placeholder": "​",
            "_view_module": "@jupyter-widgets/controls",
            "_model_module_version": "1.5.0",
            "value": "Stack_CV: 100%",
            "_view_count": null,
            "_view_module_version": "1.5.0",
            "description_tooltip": null,
            "_model_module": "@jupyter-widgets/controls",
            "layout": "IPY_MODEL_b181ac9fe2bd4a11beb429a1eb3435fc"
          }
        },
        "ee1cc3df6f3447c4a1ea0e2f42161238": {
          "model_module": "@jupyter-widgets/controls",
          "model_name": "FloatProgressModel",
          "model_module_version": "1.5.0",
          "state": {
            "_view_name": "ProgressView",
            "style": "IPY_MODEL_b416f06c4dd8447ba5ca12a37d668461",
            "_dom_classes": [],
            "description": "",
            "_model_name": "FloatProgressModel",
            "bar_style": "success",
            "max": 5,
            "_view_module": "@jupyter-widgets/controls",
            "_model_module_version": "1.5.0",
            "value": 5,
            "_view_count": null,
            "_view_module_version": "1.5.0",
            "orientation": "horizontal",
            "min": 0,
            "description_tooltip": null,
            "_model_module": "@jupyter-widgets/controls",
            "layout": "IPY_MODEL_ff1780c7252b48d8a2acd64f48a36547"
          }
        },
        "0ca73c2c83184b5ab7faba002e79dfdf": {
          "model_module": "@jupyter-widgets/controls",
          "model_name": "HTMLModel",
          "model_module_version": "1.5.0",
          "state": {
            "_view_name": "HTMLView",
            "style": "IPY_MODEL_e3cce76cc7324619bfd59b64a7d073d5",
            "_dom_classes": [],
            "description": "",
            "_model_name": "HTMLModel",
            "placeholder": "​",
            "_view_module": "@jupyter-widgets/controls",
            "_model_module_version": "1.5.0",
            "value": " 5/5 [03:56&lt;00:00, 47.30s/it]",
            "_view_count": null,
            "_view_module_version": "1.5.0",
            "description_tooltip": null,
            "_model_module": "@jupyter-widgets/controls",
            "layout": "IPY_MODEL_05e543eb38374dd39d2ddce6fd0d4e58"
          }
        },
        "6fe0413d01f6460bb3650ad30a80adce": {
          "model_module": "@jupyter-widgets/controls",
          "model_name": "DescriptionStyleModel",
          "model_module_version": "1.5.0",
          "state": {
            "_view_name": "StyleView",
            "_model_name": "DescriptionStyleModel",
            "description_width": "",
            "_view_module": "@jupyter-widgets/base",
            "_model_module_version": "1.5.0",
            "_view_count": null,
            "_view_module_version": "1.2.0",
            "_model_module": "@jupyter-widgets/controls"
          }
        },
        "b181ac9fe2bd4a11beb429a1eb3435fc": {
          "model_module": "@jupyter-widgets/base",
          "model_name": "LayoutModel",
          "model_module_version": "1.2.0",
          "state": {
            "_view_name": "LayoutView",
            "grid_template_rows": null,
            "right": null,
            "justify_content": null,
            "_view_module": "@jupyter-widgets/base",
            "overflow": null,
            "_model_module_version": "1.2.0",
            "_view_count": null,
            "flex_flow": null,
            "width": null,
            "min_width": null,
            "border": null,
            "align_items": null,
            "bottom": null,
            "_model_module": "@jupyter-widgets/base",
            "top": null,
            "grid_column": null,
            "overflow_y": null,
            "overflow_x": null,
            "grid_auto_flow": null,
            "grid_area": null,
            "grid_template_columns": null,
            "flex": null,
            "_model_name": "LayoutModel",
            "justify_items": null,
            "grid_row": null,
            "max_height": null,
            "align_content": null,
            "visibility": null,
            "align_self": null,
            "height": null,
            "min_height": null,
            "padding": null,
            "grid_auto_rows": null,
            "grid_gap": null,
            "max_width": null,
            "order": null,
            "_view_module_version": "1.2.0",
            "grid_template_areas": null,
            "object_position": null,
            "object_fit": null,
            "grid_auto_columns": null,
            "margin": null,
            "display": null,
            "left": null
          }
        },
        "b416f06c4dd8447ba5ca12a37d668461": {
          "model_module": "@jupyter-widgets/controls",
          "model_name": "ProgressStyleModel",
          "model_module_version": "1.5.0",
          "state": {
            "_view_name": "StyleView",
            "_model_name": "ProgressStyleModel",
            "description_width": "",
            "_view_module": "@jupyter-widgets/base",
            "_model_module_version": "1.5.0",
            "_view_count": null,
            "_view_module_version": "1.2.0",
            "bar_color": null,
            "_model_module": "@jupyter-widgets/controls"
          }
        },
        "ff1780c7252b48d8a2acd64f48a36547": {
          "model_module": "@jupyter-widgets/base",
          "model_name": "LayoutModel",
          "model_module_version": "1.2.0",
          "state": {
            "_view_name": "LayoutView",
            "grid_template_rows": null,
            "right": null,
            "justify_content": null,
            "_view_module": "@jupyter-widgets/base",
            "overflow": null,
            "_model_module_version": "1.2.0",
            "_view_count": null,
            "flex_flow": null,
            "width": null,
            "min_width": null,
            "border": null,
            "align_items": null,
            "bottom": null,
            "_model_module": "@jupyter-widgets/base",
            "top": null,
            "grid_column": null,
            "overflow_y": null,
            "overflow_x": null,
            "grid_auto_flow": null,
            "grid_area": null,
            "grid_template_columns": null,
            "flex": null,
            "_model_name": "LayoutModel",
            "justify_items": null,
            "grid_row": null,
            "max_height": null,
            "align_content": null,
            "visibility": null,
            "align_self": null,
            "height": null,
            "min_height": null,
            "padding": null,
            "grid_auto_rows": null,
            "grid_gap": null,
            "max_width": null,
            "order": null,
            "_view_module_version": "1.2.0",
            "grid_template_areas": null,
            "object_position": null,
            "object_fit": null,
            "grid_auto_columns": null,
            "margin": null,
            "display": null,
            "left": null
          }
        },
        "e3cce76cc7324619bfd59b64a7d073d5": {
          "model_module": "@jupyter-widgets/controls",
          "model_name": "DescriptionStyleModel",
          "model_module_version": "1.5.0",
          "state": {
            "_view_name": "StyleView",
            "_model_name": "DescriptionStyleModel",
            "description_width": "",
            "_view_module": "@jupyter-widgets/base",
            "_model_module_version": "1.5.0",
            "_view_count": null,
            "_view_module_version": "1.2.0",
            "_model_module": "@jupyter-widgets/controls"
          }
        },
        "05e543eb38374dd39d2ddce6fd0d4e58": {
          "model_module": "@jupyter-widgets/base",
          "model_name": "LayoutModel",
          "model_module_version": "1.2.0",
          "state": {
            "_view_name": "LayoutView",
            "grid_template_rows": null,
            "right": null,
            "justify_content": null,
            "_view_module": "@jupyter-widgets/base",
            "overflow": null,
            "_model_module_version": "1.2.0",
            "_view_count": null,
            "flex_flow": null,
            "width": null,
            "min_width": null,
            "border": null,
            "align_items": null,
            "bottom": null,
            "_model_module": "@jupyter-widgets/base",
            "top": null,
            "grid_column": null,
            "overflow_y": null,
            "overflow_x": null,
            "grid_auto_flow": null,
            "grid_area": null,
            "grid_template_columns": null,
            "flex": null,
            "_model_name": "LayoutModel",
            "justify_items": null,
            "grid_row": null,
            "max_height": null,
            "align_content": null,
            "visibility": null,
            "align_self": null,
            "height": null,
            "min_height": null,
            "padding": null,
            "grid_auto_rows": null,
            "grid_gap": null,
            "max_width": null,
            "order": null,
            "_view_module_version": "1.2.0",
            "grid_template_areas": null,
            "object_position": null,
            "object_fit": null,
            "grid_auto_columns": null,
            "margin": null,
            "display": null,
            "left": null
          }
        },
        "b9bad66731c44861bb69b238f2ad6b68": {
          "model_module": "@jupyter-widgets/controls",
          "model_name": "HBoxModel",
          "model_module_version": "1.5.0",
          "state": {
            "_view_name": "HBoxView",
            "_dom_classes": [],
            "_model_name": "HBoxModel",
            "_view_module": "@jupyter-widgets/controls",
            "_model_module_version": "1.5.0",
            "_view_count": null,
            "_view_module_version": "1.5.0",
            "box_style": "",
            "layout": "IPY_MODEL_aed8d07e06d34a1da6b76ac1c3cbeda1",
            "_model_module": "@jupyter-widgets/controls",
            "children": [
              "IPY_MODEL_e255e92d491c42e99b9b1313736f9aee",
              "IPY_MODEL_52426fd1afb14d0e8e1c816d0eed9c97",
              "IPY_MODEL_832e60e55e1846b38cdc66f4fb4f6d3d"
            ]
          }
        },
        "aed8d07e06d34a1da6b76ac1c3cbeda1": {
          "model_module": "@jupyter-widgets/base",
          "model_name": "LayoutModel",
          "model_module_version": "1.2.0",
          "state": {
            "_view_name": "LayoutView",
            "grid_template_rows": null,
            "right": null,
            "justify_content": null,
            "_view_module": "@jupyter-widgets/base",
            "overflow": null,
            "_model_module_version": "1.2.0",
            "_view_count": null,
            "flex_flow": null,
            "width": null,
            "min_width": null,
            "border": null,
            "align_items": null,
            "bottom": null,
            "_model_module": "@jupyter-widgets/base",
            "top": null,
            "grid_column": null,
            "overflow_y": null,
            "overflow_x": null,
            "grid_auto_flow": null,
            "grid_area": null,
            "grid_template_columns": null,
            "flex": null,
            "_model_name": "LayoutModel",
            "justify_items": null,
            "grid_row": null,
            "max_height": null,
            "align_content": null,
            "visibility": null,
            "align_self": null,
            "height": null,
            "min_height": null,
            "padding": null,
            "grid_auto_rows": null,
            "grid_gap": null,
            "max_width": null,
            "order": null,
            "_view_module_version": "1.2.0",
            "grid_template_areas": null,
            "object_position": null,
            "object_fit": null,
            "grid_auto_columns": null,
            "margin": null,
            "display": null,
            "left": null
          }
        },
        "e255e92d491c42e99b9b1313736f9aee": {
          "model_module": "@jupyter-widgets/controls",
          "model_name": "HTMLModel",
          "model_module_version": "1.5.0",
          "state": {
            "_view_name": "HTMLView",
            "style": "IPY_MODEL_6bbdda32a18446fc8670c4d9fdc5ac77",
            "_dom_classes": [],
            "description": "",
            "_model_name": "HTMLModel",
            "placeholder": "​",
            "_view_module": "@jupyter-widgets/controls",
            "_model_module_version": "1.5.0",
            "value": "Stack_CV: 100%",
            "_view_count": null,
            "_view_module_version": "1.5.0",
            "description_tooltip": null,
            "_model_module": "@jupyter-widgets/controls",
            "layout": "IPY_MODEL_d7fdf05eb2fd40da9c26fbe6e34c82f1"
          }
        },
        "52426fd1afb14d0e8e1c816d0eed9c97": {
          "model_module": "@jupyter-widgets/controls",
          "model_name": "FloatProgressModel",
          "model_module_version": "1.5.0",
          "state": {
            "_view_name": "ProgressView",
            "style": "IPY_MODEL_bc6cb4b5bb2842d1a1c8a026769e651b",
            "_dom_classes": [],
            "description": "",
            "_model_name": "FloatProgressModel",
            "bar_style": "success",
            "max": 5,
            "_view_module": "@jupyter-widgets/controls",
            "_model_module_version": "1.5.0",
            "value": 5,
            "_view_count": null,
            "_view_module_version": "1.5.0",
            "orientation": "horizontal",
            "min": 0,
            "description_tooltip": null,
            "_model_module": "@jupyter-widgets/controls",
            "layout": "IPY_MODEL_686b9948f0f14a8695a7ad36c605bcd6"
          }
        },
        "832e60e55e1846b38cdc66f4fb4f6d3d": {
          "model_module": "@jupyter-widgets/controls",
          "model_name": "HTMLModel",
          "model_module_version": "1.5.0",
          "state": {
            "_view_name": "HTMLView",
            "style": "IPY_MODEL_1e0f99b5202243f8b5ac6ca7ee03dfd0",
            "_dom_classes": [],
            "description": "",
            "_model_name": "HTMLModel",
            "placeholder": "​",
            "_view_module": "@jupyter-widgets/controls",
            "_model_module_version": "1.5.0",
            "value": " 5/5 [03:56&lt;00:00, 47.39s/it]",
            "_view_count": null,
            "_view_module_version": "1.5.0",
            "description_tooltip": null,
            "_model_module": "@jupyter-widgets/controls",
            "layout": "IPY_MODEL_f1a09671bcf146689f2518dc50478aa1"
          }
        },
        "6bbdda32a18446fc8670c4d9fdc5ac77": {
          "model_module": "@jupyter-widgets/controls",
          "model_name": "DescriptionStyleModel",
          "model_module_version": "1.5.0",
          "state": {
            "_view_name": "StyleView",
            "_model_name": "DescriptionStyleModel",
            "description_width": "",
            "_view_module": "@jupyter-widgets/base",
            "_model_module_version": "1.5.0",
            "_view_count": null,
            "_view_module_version": "1.2.0",
            "_model_module": "@jupyter-widgets/controls"
          }
        },
        "d7fdf05eb2fd40da9c26fbe6e34c82f1": {
          "model_module": "@jupyter-widgets/base",
          "model_name": "LayoutModel",
          "model_module_version": "1.2.0",
          "state": {
            "_view_name": "LayoutView",
            "grid_template_rows": null,
            "right": null,
            "justify_content": null,
            "_view_module": "@jupyter-widgets/base",
            "overflow": null,
            "_model_module_version": "1.2.0",
            "_view_count": null,
            "flex_flow": null,
            "width": null,
            "min_width": null,
            "border": null,
            "align_items": null,
            "bottom": null,
            "_model_module": "@jupyter-widgets/base",
            "top": null,
            "grid_column": null,
            "overflow_y": null,
            "overflow_x": null,
            "grid_auto_flow": null,
            "grid_area": null,
            "grid_template_columns": null,
            "flex": null,
            "_model_name": "LayoutModel",
            "justify_items": null,
            "grid_row": null,
            "max_height": null,
            "align_content": null,
            "visibility": null,
            "align_self": null,
            "height": null,
            "min_height": null,
            "padding": null,
            "grid_auto_rows": null,
            "grid_gap": null,
            "max_width": null,
            "order": null,
            "_view_module_version": "1.2.0",
            "grid_template_areas": null,
            "object_position": null,
            "object_fit": null,
            "grid_auto_columns": null,
            "margin": null,
            "display": null,
            "left": null
          }
        },
        "bc6cb4b5bb2842d1a1c8a026769e651b": {
          "model_module": "@jupyter-widgets/controls",
          "model_name": "ProgressStyleModel",
          "model_module_version": "1.5.0",
          "state": {
            "_view_name": "StyleView",
            "_model_name": "ProgressStyleModel",
            "description_width": "",
            "_view_module": "@jupyter-widgets/base",
            "_model_module_version": "1.5.0",
            "_view_count": null,
            "_view_module_version": "1.2.0",
            "bar_color": null,
            "_model_module": "@jupyter-widgets/controls"
          }
        },
        "686b9948f0f14a8695a7ad36c605bcd6": {
          "model_module": "@jupyter-widgets/base",
          "model_name": "LayoutModel",
          "model_module_version": "1.2.0",
          "state": {
            "_view_name": "LayoutView",
            "grid_template_rows": null,
            "right": null,
            "justify_content": null,
            "_view_module": "@jupyter-widgets/base",
            "overflow": null,
            "_model_module_version": "1.2.0",
            "_view_count": null,
            "flex_flow": null,
            "width": null,
            "min_width": null,
            "border": null,
            "align_items": null,
            "bottom": null,
            "_model_module": "@jupyter-widgets/base",
            "top": null,
            "grid_column": null,
            "overflow_y": null,
            "overflow_x": null,
            "grid_auto_flow": null,
            "grid_area": null,
            "grid_template_columns": null,
            "flex": null,
            "_model_name": "LayoutModel",
            "justify_items": null,
            "grid_row": null,
            "max_height": null,
            "align_content": null,
            "visibility": null,
            "align_self": null,
            "height": null,
            "min_height": null,
            "padding": null,
            "grid_auto_rows": null,
            "grid_gap": null,
            "max_width": null,
            "order": null,
            "_view_module_version": "1.2.0",
            "grid_template_areas": null,
            "object_position": null,
            "object_fit": null,
            "grid_auto_columns": null,
            "margin": null,
            "display": null,
            "left": null
          }
        },
        "1e0f99b5202243f8b5ac6ca7ee03dfd0": {
          "model_module": "@jupyter-widgets/controls",
          "model_name": "DescriptionStyleModel",
          "model_module_version": "1.5.0",
          "state": {
            "_view_name": "StyleView",
            "_model_name": "DescriptionStyleModel",
            "description_width": "",
            "_view_module": "@jupyter-widgets/base",
            "_model_module_version": "1.5.0",
            "_view_count": null,
            "_view_module_version": "1.2.0",
            "_model_module": "@jupyter-widgets/controls"
          }
        },
        "f1a09671bcf146689f2518dc50478aa1": {
          "model_module": "@jupyter-widgets/base",
          "model_name": "LayoutModel",
          "model_module_version": "1.2.0",
          "state": {
            "_view_name": "LayoutView",
            "grid_template_rows": null,
            "right": null,
            "justify_content": null,
            "_view_module": "@jupyter-widgets/base",
            "overflow": null,
            "_model_module_version": "1.2.0",
            "_view_count": null,
            "flex_flow": null,
            "width": null,
            "min_width": null,
            "border": null,
            "align_items": null,
            "bottom": null,
            "_model_module": "@jupyter-widgets/base",
            "top": null,
            "grid_column": null,
            "overflow_y": null,
            "overflow_x": null,
            "grid_auto_flow": null,
            "grid_area": null,
            "grid_template_columns": null,
            "flex": null,
            "_model_name": "LayoutModel",
            "justify_items": null,
            "grid_row": null,
            "max_height": null,
            "align_content": null,
            "visibility": null,
            "align_self": null,
            "height": null,
            "min_height": null,
            "padding": null,
            "grid_auto_rows": null,
            "grid_gap": null,
            "max_width": null,
            "order": null,
            "_view_module_version": "1.2.0",
            "grid_template_areas": null,
            "object_position": null,
            "object_fit": null,
            "grid_auto_columns": null,
            "margin": null,
            "display": null,
            "left": null
          }
        },
        "c08f7481a85140ad8a8dc9d3c440d8b3": {
          "model_module": "@jupyter-widgets/controls",
          "model_name": "HBoxModel",
          "model_module_version": "1.5.0",
          "state": {
            "_view_name": "HBoxView",
            "_dom_classes": [],
            "_model_name": "HBoxModel",
            "_view_module": "@jupyter-widgets/controls",
            "_model_module_version": "1.5.0",
            "_view_count": null,
            "_view_module_version": "1.5.0",
            "box_style": "",
            "layout": "IPY_MODEL_f30cfc5e936245158b9d85280968d896",
            "_model_module": "@jupyter-widgets/controls",
            "children": [
              "IPY_MODEL_6658034580af4328a54451080d6627d0",
              "IPY_MODEL_e4945c885b1c4687bbaefcced299b9b2",
              "IPY_MODEL_85b667027d4646f8ace87ea211992785"
            ]
          }
        },
        "f30cfc5e936245158b9d85280968d896": {
          "model_module": "@jupyter-widgets/base",
          "model_name": "LayoutModel",
          "model_module_version": "1.2.0",
          "state": {
            "_view_name": "LayoutView",
            "grid_template_rows": null,
            "right": null,
            "justify_content": null,
            "_view_module": "@jupyter-widgets/base",
            "overflow": null,
            "_model_module_version": "1.2.0",
            "_view_count": null,
            "flex_flow": null,
            "width": null,
            "min_width": null,
            "border": null,
            "align_items": null,
            "bottom": null,
            "_model_module": "@jupyter-widgets/base",
            "top": null,
            "grid_column": null,
            "overflow_y": null,
            "overflow_x": null,
            "grid_auto_flow": null,
            "grid_area": null,
            "grid_template_columns": null,
            "flex": null,
            "_model_name": "LayoutModel",
            "justify_items": null,
            "grid_row": null,
            "max_height": null,
            "align_content": null,
            "visibility": null,
            "align_self": null,
            "height": null,
            "min_height": null,
            "padding": null,
            "grid_auto_rows": null,
            "grid_gap": null,
            "max_width": null,
            "order": null,
            "_view_module_version": "1.2.0",
            "grid_template_areas": null,
            "object_position": null,
            "object_fit": null,
            "grid_auto_columns": null,
            "margin": null,
            "display": null,
            "left": null
          }
        },
        "6658034580af4328a54451080d6627d0": {
          "model_module": "@jupyter-widgets/controls",
          "model_name": "HTMLModel",
          "model_module_version": "1.5.0",
          "state": {
            "_view_name": "HTMLView",
            "style": "IPY_MODEL_8ad5eb11f1284778b9e5d02cf18603f1",
            "_dom_classes": [],
            "description": "",
            "_model_name": "HTMLModel",
            "placeholder": "​",
            "_view_module": "@jupyter-widgets/controls",
            "_model_module_version": "1.5.0",
            "value": "Stack_CV: 100%",
            "_view_count": null,
            "_view_module_version": "1.5.0",
            "description_tooltip": null,
            "_model_module": "@jupyter-widgets/controls",
            "layout": "IPY_MODEL_7e12ff0e0b3f4d86ab61a85289c158c4"
          }
        },
        "e4945c885b1c4687bbaefcced299b9b2": {
          "model_module": "@jupyter-widgets/controls",
          "model_name": "FloatProgressModel",
          "model_module_version": "1.5.0",
          "state": {
            "_view_name": "ProgressView",
            "style": "IPY_MODEL_b5b1877b7b0243c9b50a4c88472dd3d6",
            "_dom_classes": [],
            "description": "",
            "_model_name": "FloatProgressModel",
            "bar_style": "success",
            "max": 5,
            "_view_module": "@jupyter-widgets/controls",
            "_model_module_version": "1.5.0",
            "value": 5,
            "_view_count": null,
            "_view_module_version": "1.5.0",
            "orientation": "horizontal",
            "min": 0,
            "description_tooltip": null,
            "_model_module": "@jupyter-widgets/controls",
            "layout": "IPY_MODEL_6594a0bb73a64542855a9b4b3816db1f"
          }
        },
        "85b667027d4646f8ace87ea211992785": {
          "model_module": "@jupyter-widgets/controls",
          "model_name": "HTMLModel",
          "model_module_version": "1.5.0",
          "state": {
            "_view_name": "HTMLView",
            "style": "IPY_MODEL_39894ea29c804d5ba627d48e0da29bf4",
            "_dom_classes": [],
            "description": "",
            "_model_name": "HTMLModel",
            "placeholder": "​",
            "_view_module": "@jupyter-widgets/controls",
            "_model_module_version": "1.5.0",
            "value": " 5/5 [03:53&lt;00:00, 46.75s/it]",
            "_view_count": null,
            "_view_module_version": "1.5.0",
            "description_tooltip": null,
            "_model_module": "@jupyter-widgets/controls",
            "layout": "IPY_MODEL_e38f5eca237746248599fb192ba856ed"
          }
        },
        "8ad5eb11f1284778b9e5d02cf18603f1": {
          "model_module": "@jupyter-widgets/controls",
          "model_name": "DescriptionStyleModel",
          "model_module_version": "1.5.0",
          "state": {
            "_view_name": "StyleView",
            "_model_name": "DescriptionStyleModel",
            "description_width": "",
            "_view_module": "@jupyter-widgets/base",
            "_model_module_version": "1.5.0",
            "_view_count": null,
            "_view_module_version": "1.2.0",
            "_model_module": "@jupyter-widgets/controls"
          }
        },
        "7e12ff0e0b3f4d86ab61a85289c158c4": {
          "model_module": "@jupyter-widgets/base",
          "model_name": "LayoutModel",
          "model_module_version": "1.2.0",
          "state": {
            "_view_name": "LayoutView",
            "grid_template_rows": null,
            "right": null,
            "justify_content": null,
            "_view_module": "@jupyter-widgets/base",
            "overflow": null,
            "_model_module_version": "1.2.0",
            "_view_count": null,
            "flex_flow": null,
            "width": null,
            "min_width": null,
            "border": null,
            "align_items": null,
            "bottom": null,
            "_model_module": "@jupyter-widgets/base",
            "top": null,
            "grid_column": null,
            "overflow_y": null,
            "overflow_x": null,
            "grid_auto_flow": null,
            "grid_area": null,
            "grid_template_columns": null,
            "flex": null,
            "_model_name": "LayoutModel",
            "justify_items": null,
            "grid_row": null,
            "max_height": null,
            "align_content": null,
            "visibility": null,
            "align_self": null,
            "height": null,
            "min_height": null,
            "padding": null,
            "grid_auto_rows": null,
            "grid_gap": null,
            "max_width": null,
            "order": null,
            "_view_module_version": "1.2.0",
            "grid_template_areas": null,
            "object_position": null,
            "object_fit": null,
            "grid_auto_columns": null,
            "margin": null,
            "display": null,
            "left": null
          }
        },
        "b5b1877b7b0243c9b50a4c88472dd3d6": {
          "model_module": "@jupyter-widgets/controls",
          "model_name": "ProgressStyleModel",
          "model_module_version": "1.5.0",
          "state": {
            "_view_name": "StyleView",
            "_model_name": "ProgressStyleModel",
            "description_width": "",
            "_view_module": "@jupyter-widgets/base",
            "_model_module_version": "1.5.0",
            "_view_count": null,
            "_view_module_version": "1.2.0",
            "bar_color": null,
            "_model_module": "@jupyter-widgets/controls"
          }
        },
        "6594a0bb73a64542855a9b4b3816db1f": {
          "model_module": "@jupyter-widgets/base",
          "model_name": "LayoutModel",
          "model_module_version": "1.2.0",
          "state": {
            "_view_name": "LayoutView",
            "grid_template_rows": null,
            "right": null,
            "justify_content": null,
            "_view_module": "@jupyter-widgets/base",
            "overflow": null,
            "_model_module_version": "1.2.0",
            "_view_count": null,
            "flex_flow": null,
            "width": null,
            "min_width": null,
            "border": null,
            "align_items": null,
            "bottom": null,
            "_model_module": "@jupyter-widgets/base",
            "top": null,
            "grid_column": null,
            "overflow_y": null,
            "overflow_x": null,
            "grid_auto_flow": null,
            "grid_area": null,
            "grid_template_columns": null,
            "flex": null,
            "_model_name": "LayoutModel",
            "justify_items": null,
            "grid_row": null,
            "max_height": null,
            "align_content": null,
            "visibility": null,
            "align_self": null,
            "height": null,
            "min_height": null,
            "padding": null,
            "grid_auto_rows": null,
            "grid_gap": null,
            "max_width": null,
            "order": null,
            "_view_module_version": "1.2.0",
            "grid_template_areas": null,
            "object_position": null,
            "object_fit": null,
            "grid_auto_columns": null,
            "margin": null,
            "display": null,
            "left": null
          }
        },
        "39894ea29c804d5ba627d48e0da29bf4": {
          "model_module": "@jupyter-widgets/controls",
          "model_name": "DescriptionStyleModel",
          "model_module_version": "1.5.0",
          "state": {
            "_view_name": "StyleView",
            "_model_name": "DescriptionStyleModel",
            "description_width": "",
            "_view_module": "@jupyter-widgets/base",
            "_model_module_version": "1.5.0",
            "_view_count": null,
            "_view_module_version": "1.2.0",
            "_model_module": "@jupyter-widgets/controls"
          }
        },
        "e38f5eca237746248599fb192ba856ed": {
          "model_module": "@jupyter-widgets/base",
          "model_name": "LayoutModel",
          "model_module_version": "1.2.0",
          "state": {
            "_view_name": "LayoutView",
            "grid_template_rows": null,
            "right": null,
            "justify_content": null,
            "_view_module": "@jupyter-widgets/base",
            "overflow": null,
            "_model_module_version": "1.2.0",
            "_view_count": null,
            "flex_flow": null,
            "width": null,
            "min_width": null,
            "border": null,
            "align_items": null,
            "bottom": null,
            "_model_module": "@jupyter-widgets/base",
            "top": null,
            "grid_column": null,
            "overflow_y": null,
            "overflow_x": null,
            "grid_auto_flow": null,
            "grid_area": null,
            "grid_template_columns": null,
            "flex": null,
            "_model_name": "LayoutModel",
            "justify_items": null,
            "grid_row": null,
            "max_height": null,
            "align_content": null,
            "visibility": null,
            "align_self": null,
            "height": null,
            "min_height": null,
            "padding": null,
            "grid_auto_rows": null,
            "grid_gap": null,
            "max_width": null,
            "order": null,
            "_view_module_version": "1.2.0",
            "grid_template_areas": null,
            "object_position": null,
            "object_fit": null,
            "grid_auto_columns": null,
            "margin": null,
            "display": null,
            "left": null
          }
        },
        "9b38f16c4d564334be1193fe873255ce": {
          "model_module": "@jupyter-widgets/controls",
          "model_name": "HBoxModel",
          "model_module_version": "1.5.0",
          "state": {
            "_view_name": "HBoxView",
            "_dom_classes": [],
            "_model_name": "HBoxModel",
            "_view_module": "@jupyter-widgets/controls",
            "_model_module_version": "1.5.0",
            "_view_count": null,
            "_view_module_version": "1.5.0",
            "box_style": "",
            "layout": "IPY_MODEL_68ae728dbfb74271851a86ac198413df",
            "_model_module": "@jupyter-widgets/controls",
            "children": [
              "IPY_MODEL_c4f46468652346e1a7cca6fad154188a",
              "IPY_MODEL_0d0a7150484d43288498fae415b0fae4",
              "IPY_MODEL_2092e7794cbd4ecaa9ece2ae5f1f6137"
            ]
          }
        },
        "68ae728dbfb74271851a86ac198413df": {
          "model_module": "@jupyter-widgets/base",
          "model_name": "LayoutModel",
          "model_module_version": "1.2.0",
          "state": {
            "_view_name": "LayoutView",
            "grid_template_rows": null,
            "right": null,
            "justify_content": null,
            "_view_module": "@jupyter-widgets/base",
            "overflow": null,
            "_model_module_version": "1.2.0",
            "_view_count": null,
            "flex_flow": null,
            "width": null,
            "min_width": null,
            "border": null,
            "align_items": null,
            "bottom": null,
            "_model_module": "@jupyter-widgets/base",
            "top": null,
            "grid_column": null,
            "overflow_y": null,
            "overflow_x": null,
            "grid_auto_flow": null,
            "grid_area": null,
            "grid_template_columns": null,
            "flex": null,
            "_model_name": "LayoutModel",
            "justify_items": null,
            "grid_row": null,
            "max_height": null,
            "align_content": null,
            "visibility": null,
            "align_self": null,
            "height": null,
            "min_height": null,
            "padding": null,
            "grid_auto_rows": null,
            "grid_gap": null,
            "max_width": null,
            "order": null,
            "_view_module_version": "1.2.0",
            "grid_template_areas": null,
            "object_position": null,
            "object_fit": null,
            "grid_auto_columns": null,
            "margin": null,
            "display": null,
            "left": null
          }
        },
        "c4f46468652346e1a7cca6fad154188a": {
          "model_module": "@jupyter-widgets/controls",
          "model_name": "HTMLModel",
          "model_module_version": "1.5.0",
          "state": {
            "_view_name": "HTMLView",
            "style": "IPY_MODEL_d5204f509b4543618b5e629344aeac8e",
            "_dom_classes": [],
            "description": "",
            "_model_name": "HTMLModel",
            "placeholder": "​",
            "_view_module": "@jupyter-widgets/controls",
            "_model_module_version": "1.5.0",
            "value": "Stack_CV: 100%",
            "_view_count": null,
            "_view_module_version": "1.5.0",
            "description_tooltip": null,
            "_model_module": "@jupyter-widgets/controls",
            "layout": "IPY_MODEL_32e1bcde38b64c5f9c5cd74c2f9b0962"
          }
        },
        "0d0a7150484d43288498fae415b0fae4": {
          "model_module": "@jupyter-widgets/controls",
          "model_name": "FloatProgressModel",
          "model_module_version": "1.5.0",
          "state": {
            "_view_name": "ProgressView",
            "style": "IPY_MODEL_97a41d7be9424bf293e3dcba40b78257",
            "_dom_classes": [],
            "description": "",
            "_model_name": "FloatProgressModel",
            "bar_style": "success",
            "max": 5,
            "_view_module": "@jupyter-widgets/controls",
            "_model_module_version": "1.5.0",
            "value": 5,
            "_view_count": null,
            "_view_module_version": "1.5.0",
            "orientation": "horizontal",
            "min": 0,
            "description_tooltip": null,
            "_model_module": "@jupyter-widgets/controls",
            "layout": "IPY_MODEL_4c901c9aec264b47a54a8eef94feea5e"
          }
        },
        "2092e7794cbd4ecaa9ece2ae5f1f6137": {
          "model_module": "@jupyter-widgets/controls",
          "model_name": "HTMLModel",
          "model_module_version": "1.5.0",
          "state": {
            "_view_name": "HTMLView",
            "style": "IPY_MODEL_b51417975c9548c3bc873dd6e55811aa",
            "_dom_classes": [],
            "description": "",
            "_model_name": "HTMLModel",
            "placeholder": "​",
            "_view_module": "@jupyter-widgets/controls",
            "_model_module_version": "1.5.0",
            "value": " 5/5 [03:55&lt;00:00, 47.13s/it]",
            "_view_count": null,
            "_view_module_version": "1.5.0",
            "description_tooltip": null,
            "_model_module": "@jupyter-widgets/controls",
            "layout": "IPY_MODEL_947228dffc1648a6901d410db8fa5e4a"
          }
        },
        "d5204f509b4543618b5e629344aeac8e": {
          "model_module": "@jupyter-widgets/controls",
          "model_name": "DescriptionStyleModel",
          "model_module_version": "1.5.0",
          "state": {
            "_view_name": "StyleView",
            "_model_name": "DescriptionStyleModel",
            "description_width": "",
            "_view_module": "@jupyter-widgets/base",
            "_model_module_version": "1.5.0",
            "_view_count": null,
            "_view_module_version": "1.2.0",
            "_model_module": "@jupyter-widgets/controls"
          }
        },
        "32e1bcde38b64c5f9c5cd74c2f9b0962": {
          "model_module": "@jupyter-widgets/base",
          "model_name": "LayoutModel",
          "model_module_version": "1.2.0",
          "state": {
            "_view_name": "LayoutView",
            "grid_template_rows": null,
            "right": null,
            "justify_content": null,
            "_view_module": "@jupyter-widgets/base",
            "overflow": null,
            "_model_module_version": "1.2.0",
            "_view_count": null,
            "flex_flow": null,
            "width": null,
            "min_width": null,
            "border": null,
            "align_items": null,
            "bottom": null,
            "_model_module": "@jupyter-widgets/base",
            "top": null,
            "grid_column": null,
            "overflow_y": null,
            "overflow_x": null,
            "grid_auto_flow": null,
            "grid_area": null,
            "grid_template_columns": null,
            "flex": null,
            "_model_name": "LayoutModel",
            "justify_items": null,
            "grid_row": null,
            "max_height": null,
            "align_content": null,
            "visibility": null,
            "align_self": null,
            "height": null,
            "min_height": null,
            "padding": null,
            "grid_auto_rows": null,
            "grid_gap": null,
            "max_width": null,
            "order": null,
            "_view_module_version": "1.2.0",
            "grid_template_areas": null,
            "object_position": null,
            "object_fit": null,
            "grid_auto_columns": null,
            "margin": null,
            "display": null,
            "left": null
          }
        },
        "97a41d7be9424bf293e3dcba40b78257": {
          "model_module": "@jupyter-widgets/controls",
          "model_name": "ProgressStyleModel",
          "model_module_version": "1.5.0",
          "state": {
            "_view_name": "StyleView",
            "_model_name": "ProgressStyleModel",
            "description_width": "",
            "_view_module": "@jupyter-widgets/base",
            "_model_module_version": "1.5.0",
            "_view_count": null,
            "_view_module_version": "1.2.0",
            "bar_color": null,
            "_model_module": "@jupyter-widgets/controls"
          }
        },
        "4c901c9aec264b47a54a8eef94feea5e": {
          "model_module": "@jupyter-widgets/base",
          "model_name": "LayoutModel",
          "model_module_version": "1.2.0",
          "state": {
            "_view_name": "LayoutView",
            "grid_template_rows": null,
            "right": null,
            "justify_content": null,
            "_view_module": "@jupyter-widgets/base",
            "overflow": null,
            "_model_module_version": "1.2.0",
            "_view_count": null,
            "flex_flow": null,
            "width": null,
            "min_width": null,
            "border": null,
            "align_items": null,
            "bottom": null,
            "_model_module": "@jupyter-widgets/base",
            "top": null,
            "grid_column": null,
            "overflow_y": null,
            "overflow_x": null,
            "grid_auto_flow": null,
            "grid_area": null,
            "grid_template_columns": null,
            "flex": null,
            "_model_name": "LayoutModel",
            "justify_items": null,
            "grid_row": null,
            "max_height": null,
            "align_content": null,
            "visibility": null,
            "align_self": null,
            "height": null,
            "min_height": null,
            "padding": null,
            "grid_auto_rows": null,
            "grid_gap": null,
            "max_width": null,
            "order": null,
            "_view_module_version": "1.2.0",
            "grid_template_areas": null,
            "object_position": null,
            "object_fit": null,
            "grid_auto_columns": null,
            "margin": null,
            "display": null,
            "left": null
          }
        },
        "b51417975c9548c3bc873dd6e55811aa": {
          "model_module": "@jupyter-widgets/controls",
          "model_name": "DescriptionStyleModel",
          "model_module_version": "1.5.0",
          "state": {
            "_view_name": "StyleView",
            "_model_name": "DescriptionStyleModel",
            "description_width": "",
            "_view_module": "@jupyter-widgets/base",
            "_model_module_version": "1.5.0",
            "_view_count": null,
            "_view_module_version": "1.2.0",
            "_model_module": "@jupyter-widgets/controls"
          }
        },
        "947228dffc1648a6901d410db8fa5e4a": {
          "model_module": "@jupyter-widgets/base",
          "model_name": "LayoutModel",
          "model_module_version": "1.2.0",
          "state": {
            "_view_name": "LayoutView",
            "grid_template_rows": null,
            "right": null,
            "justify_content": null,
            "_view_module": "@jupyter-widgets/base",
            "overflow": null,
            "_model_module_version": "1.2.0",
            "_view_count": null,
            "flex_flow": null,
            "width": null,
            "min_width": null,
            "border": null,
            "align_items": null,
            "bottom": null,
            "_model_module": "@jupyter-widgets/base",
            "top": null,
            "grid_column": null,
            "overflow_y": null,
            "overflow_x": null,
            "grid_auto_flow": null,
            "grid_area": null,
            "grid_template_columns": null,
            "flex": null,
            "_model_name": "LayoutModel",
            "justify_items": null,
            "grid_row": null,
            "max_height": null,
            "align_content": null,
            "visibility": null,
            "align_self": null,
            "height": null,
            "min_height": null,
            "padding": null,
            "grid_auto_rows": null,
            "grid_gap": null,
            "max_width": null,
            "order": null,
            "_view_module_version": "1.2.0",
            "grid_template_areas": null,
            "object_position": null,
            "object_fit": null,
            "grid_auto_columns": null,
            "margin": null,
            "display": null,
            "left": null
          }
        },
        "585a223c558f4b498f97aec949a034fc": {
          "model_module": "@jupyter-widgets/controls",
          "model_name": "HBoxModel",
          "model_module_version": "1.5.0",
          "state": {
            "_view_name": "HBoxView",
            "_dom_classes": [],
            "_model_name": "HBoxModel",
            "_view_module": "@jupyter-widgets/controls",
            "_model_module_version": "1.5.0",
            "_view_count": null,
            "_view_module_version": "1.5.0",
            "box_style": "",
            "layout": "IPY_MODEL_7fdd6358fe164120a2dfba6e816cdfed",
            "_model_module": "@jupyter-widgets/controls",
            "children": [
              "IPY_MODEL_c2bccf2dfa1f4e45b315341cba8510f3",
              "IPY_MODEL_febfd30c83724cce9932f008e0ce860b",
              "IPY_MODEL_2a120c9962d5492bb8edad75d1dc45e5"
            ]
          }
        },
        "7fdd6358fe164120a2dfba6e816cdfed": {
          "model_module": "@jupyter-widgets/base",
          "model_name": "LayoutModel",
          "model_module_version": "1.2.0",
          "state": {
            "_view_name": "LayoutView",
            "grid_template_rows": null,
            "right": null,
            "justify_content": null,
            "_view_module": "@jupyter-widgets/base",
            "overflow": null,
            "_model_module_version": "1.2.0",
            "_view_count": null,
            "flex_flow": null,
            "width": null,
            "min_width": null,
            "border": null,
            "align_items": null,
            "bottom": null,
            "_model_module": "@jupyter-widgets/base",
            "top": null,
            "grid_column": null,
            "overflow_y": null,
            "overflow_x": null,
            "grid_auto_flow": null,
            "grid_area": null,
            "grid_template_columns": null,
            "flex": null,
            "_model_name": "LayoutModel",
            "justify_items": null,
            "grid_row": null,
            "max_height": null,
            "align_content": null,
            "visibility": null,
            "align_self": null,
            "height": null,
            "min_height": null,
            "padding": null,
            "grid_auto_rows": null,
            "grid_gap": null,
            "max_width": null,
            "order": null,
            "_view_module_version": "1.2.0",
            "grid_template_areas": null,
            "object_position": null,
            "object_fit": null,
            "grid_auto_columns": null,
            "margin": null,
            "display": null,
            "left": null
          }
        },
        "c2bccf2dfa1f4e45b315341cba8510f3": {
          "model_module": "@jupyter-widgets/controls",
          "model_name": "HTMLModel",
          "model_module_version": "1.5.0",
          "state": {
            "_view_name": "HTMLView",
            "style": "IPY_MODEL_6067ae39493e456bb8329575c8182796",
            "_dom_classes": [],
            "description": "",
            "_model_name": "HTMLModel",
            "placeholder": "​",
            "_view_module": "@jupyter-widgets/controls",
            "_model_module_version": "1.5.0",
            "value": "Stack_CV: 100%",
            "_view_count": null,
            "_view_module_version": "1.5.0",
            "description_tooltip": null,
            "_model_module": "@jupyter-widgets/controls",
            "layout": "IPY_MODEL_7652c7edc375417aa414ac44da55b8e5"
          }
        },
        "febfd30c83724cce9932f008e0ce860b": {
          "model_module": "@jupyter-widgets/controls",
          "model_name": "FloatProgressModel",
          "model_module_version": "1.5.0",
          "state": {
            "_view_name": "ProgressView",
            "style": "IPY_MODEL_24fe075b05d1428d8da0343e972238d9",
            "_dom_classes": [],
            "description": "",
            "_model_name": "FloatProgressModel",
            "bar_style": "success",
            "max": 5,
            "_view_module": "@jupyter-widgets/controls",
            "_model_module_version": "1.5.0",
            "value": 5,
            "_view_count": null,
            "_view_module_version": "1.5.0",
            "orientation": "horizontal",
            "min": 0,
            "description_tooltip": null,
            "_model_module": "@jupyter-widgets/controls",
            "layout": "IPY_MODEL_f527edecc51a450ea71c945bd618d0e9"
          }
        },
        "2a120c9962d5492bb8edad75d1dc45e5": {
          "model_module": "@jupyter-widgets/controls",
          "model_name": "HTMLModel",
          "model_module_version": "1.5.0",
          "state": {
            "_view_name": "HTMLView",
            "style": "IPY_MODEL_8e7144f0654240a3a2a3d11ab78322a5",
            "_dom_classes": [],
            "description": "",
            "_model_name": "HTMLModel",
            "placeholder": "​",
            "_view_module": "@jupyter-widgets/controls",
            "_model_module_version": "1.5.0",
            "value": " 5/5 [04:57&lt;00:00, 59.48s/it]",
            "_view_count": null,
            "_view_module_version": "1.5.0",
            "description_tooltip": null,
            "_model_module": "@jupyter-widgets/controls",
            "layout": "IPY_MODEL_a5751975fb6643b982e69d37d53ba7dd"
          }
        },
        "6067ae39493e456bb8329575c8182796": {
          "model_module": "@jupyter-widgets/controls",
          "model_name": "DescriptionStyleModel",
          "model_module_version": "1.5.0",
          "state": {
            "_view_name": "StyleView",
            "_model_name": "DescriptionStyleModel",
            "description_width": "",
            "_view_module": "@jupyter-widgets/base",
            "_model_module_version": "1.5.0",
            "_view_count": null,
            "_view_module_version": "1.2.0",
            "_model_module": "@jupyter-widgets/controls"
          }
        },
        "7652c7edc375417aa414ac44da55b8e5": {
          "model_module": "@jupyter-widgets/base",
          "model_name": "LayoutModel",
          "model_module_version": "1.2.0",
          "state": {
            "_view_name": "LayoutView",
            "grid_template_rows": null,
            "right": null,
            "justify_content": null,
            "_view_module": "@jupyter-widgets/base",
            "overflow": null,
            "_model_module_version": "1.2.0",
            "_view_count": null,
            "flex_flow": null,
            "width": null,
            "min_width": null,
            "border": null,
            "align_items": null,
            "bottom": null,
            "_model_module": "@jupyter-widgets/base",
            "top": null,
            "grid_column": null,
            "overflow_y": null,
            "overflow_x": null,
            "grid_auto_flow": null,
            "grid_area": null,
            "grid_template_columns": null,
            "flex": null,
            "_model_name": "LayoutModel",
            "justify_items": null,
            "grid_row": null,
            "max_height": null,
            "align_content": null,
            "visibility": null,
            "align_self": null,
            "height": null,
            "min_height": null,
            "padding": null,
            "grid_auto_rows": null,
            "grid_gap": null,
            "max_width": null,
            "order": null,
            "_view_module_version": "1.2.0",
            "grid_template_areas": null,
            "object_position": null,
            "object_fit": null,
            "grid_auto_columns": null,
            "margin": null,
            "display": null,
            "left": null
          }
        },
        "24fe075b05d1428d8da0343e972238d9": {
          "model_module": "@jupyter-widgets/controls",
          "model_name": "ProgressStyleModel",
          "model_module_version": "1.5.0",
          "state": {
            "_view_name": "StyleView",
            "_model_name": "ProgressStyleModel",
            "description_width": "",
            "_view_module": "@jupyter-widgets/base",
            "_model_module_version": "1.5.0",
            "_view_count": null,
            "_view_module_version": "1.2.0",
            "bar_color": null,
            "_model_module": "@jupyter-widgets/controls"
          }
        },
        "f527edecc51a450ea71c945bd618d0e9": {
          "model_module": "@jupyter-widgets/base",
          "model_name": "LayoutModel",
          "model_module_version": "1.2.0",
          "state": {
            "_view_name": "LayoutView",
            "grid_template_rows": null,
            "right": null,
            "justify_content": null,
            "_view_module": "@jupyter-widgets/base",
            "overflow": null,
            "_model_module_version": "1.2.0",
            "_view_count": null,
            "flex_flow": null,
            "width": null,
            "min_width": null,
            "border": null,
            "align_items": null,
            "bottom": null,
            "_model_module": "@jupyter-widgets/base",
            "top": null,
            "grid_column": null,
            "overflow_y": null,
            "overflow_x": null,
            "grid_auto_flow": null,
            "grid_area": null,
            "grid_template_columns": null,
            "flex": null,
            "_model_name": "LayoutModel",
            "justify_items": null,
            "grid_row": null,
            "max_height": null,
            "align_content": null,
            "visibility": null,
            "align_self": null,
            "height": null,
            "min_height": null,
            "padding": null,
            "grid_auto_rows": null,
            "grid_gap": null,
            "max_width": null,
            "order": null,
            "_view_module_version": "1.2.0",
            "grid_template_areas": null,
            "object_position": null,
            "object_fit": null,
            "grid_auto_columns": null,
            "margin": null,
            "display": null,
            "left": null
          }
        },
        "8e7144f0654240a3a2a3d11ab78322a5": {
          "model_module": "@jupyter-widgets/controls",
          "model_name": "DescriptionStyleModel",
          "model_module_version": "1.5.0",
          "state": {
            "_view_name": "StyleView",
            "_model_name": "DescriptionStyleModel",
            "description_width": "",
            "_view_module": "@jupyter-widgets/base",
            "_model_module_version": "1.5.0",
            "_view_count": null,
            "_view_module_version": "1.2.0",
            "_model_module": "@jupyter-widgets/controls"
          }
        },
        "a5751975fb6643b982e69d37d53ba7dd": {
          "model_module": "@jupyter-widgets/base",
          "model_name": "LayoutModel",
          "model_module_version": "1.2.0",
          "state": {
            "_view_name": "LayoutView",
            "grid_template_rows": null,
            "right": null,
            "justify_content": null,
            "_view_module": "@jupyter-widgets/base",
            "overflow": null,
            "_model_module_version": "1.2.0",
            "_view_count": null,
            "flex_flow": null,
            "width": null,
            "min_width": null,
            "border": null,
            "align_items": null,
            "bottom": null,
            "_model_module": "@jupyter-widgets/base",
            "top": null,
            "grid_column": null,
            "overflow_y": null,
            "overflow_x": null,
            "grid_auto_flow": null,
            "grid_area": null,
            "grid_template_columns": null,
            "flex": null,
            "_model_name": "LayoutModel",
            "justify_items": null,
            "grid_row": null,
            "max_height": null,
            "align_content": null,
            "visibility": null,
            "align_self": null,
            "height": null,
            "min_height": null,
            "padding": null,
            "grid_auto_rows": null,
            "grid_gap": null,
            "max_width": null,
            "order": null,
            "_view_module_version": "1.2.0",
            "grid_template_areas": null,
            "object_position": null,
            "object_fit": null,
            "grid_auto_columns": null,
            "margin": null,
            "display": null,
            "left": null
          }
        }
      }
    }
  },
  "nbformat": 4,
  "nbformat_minor": 0
}